{
 "cells": [
  {
   "cell_type": "code",
   "execution_count": 1,
   "metadata": {},
   "outputs": [
    {
     "data": {
      "application/javascript": "if (typeof IPython !== 'undefined') { IPython.OutputArea.prototype._should_scroll = function(lines){ return false; }}",
      "text/plain": [
       "<IPython.core.display.Javascript object>"
      ]
     },
     "metadata": {},
     "output_type": "display_data"
    }
   ],
   "source": [
    "#Import libraries\n",
    "import pyam\n",
    "import plotly.express as px\n",
    "import plotly.graph_objects as go\n",
    "import pandas as pd\n",
    "import numpy as np"
   ]
  },
  {
   "cell_type": "code",
   "execution_count": 124,
   "metadata": {},
   "outputs": [],
   "source": [
    "def get_data():\n",
    "    #get IIASA identification\n",
    "    #workplace IIASA\n",
    "    iiasa_creds = r\"C:\\Users\\scheifinger\\Documents\\GitHub\\Feasibility_Tool\\iiasa_credentials.yml\"\n",
    "    #workplace home\n",
    "    #iiasa_creds = r\"C:\\Users\\schei\\OneDrive\\Dokumente\\GitHub\\Feasibility_Tool\\iiasa_credentials.yml\"\n",
    "    pyam.iiasa.Connection(creds=iiasa_creds)\n",
    "\n",
    "    connections = list(pyam.iiasa.Connection(creds=iiasa_creds).valid_connections)\n",
    "    #other variables: 'Emissions|CO2', 'Primary Energy|Coal', \n",
    "    #query for climate scenario data\n",
    "    \n",
    "    df = pyam.read_iiasa(\n",
    "        name = 'engage_internal',\n",
    "        creds = iiasa_creds,\n",
    "        scenario =[\n",
    "            \"T34_1000_ref\",\n",
    "            \"T34_1000_govem\",\n",
    "            \"T34_1000_feas_em\",\n",
    "            \"T34_1000_bitb_em\",\n",
    "            \"T34_1000_bitb_ref\",\n",
    "            \"T34_1000_enab_em\"\n",
    "        ],\n",
    "        variable=[\"Emissions|CO2\", \n",
    "                  'Emissions|Kyoto Gases',\n",
    "                  'Primary Energy|Coal',\n",
    "                  'Primary Energy|Gas',\n",
    "                  'Primary Energy',\n",
    "                  'Capacity|Electricity|Solar',\n",
    "                  'Capacity|Electricity|Wind',\n",
    "                  'Carbon Sequestration|CCS',\n",
    "                  'Carbon Sequestration|Land Use'\n",
    "                  ],\n",
    "        region=[\"North America; primarily the United States of America and Canada\",\n",
    "                \"Eastern and Western Europe (i.e., the EU28)\",\n",
    "                \"Countries of centrally-planned Asia; primarily China\",\n",
    "                \"Countries of South Asia; primarily India\", \n",
    "                \"Countries of Sub-Saharan Africa\",\n",
    "                \"Countries of Latin America and the Caribbean\",\n",
    "                \"Countries of the Middle East; Iran, Iraq, Israel, Saudi Arabia, Qatar, etc.\"],\n",
    "        years = [\"2020\", \"2025\", \"2030\", \"2035\", \"2040\"]\n",
    "    )   \n",
    "    #return data format of df\n",
    "    return df\n"
   ]
  },
  {
   "cell_type": "code",
   "execution_count": 125,
   "metadata": {},
   "outputs": [
    {
     "name": "stderr",
     "output_type": "stream",
     "text": [
      "httpx - INFO: HTTP Request: POST https://api.manager.ece.iiasa.ac.at/v1/token/obtain/ \"HTTP/1.1 200 OK\"\n",
      "pyam.iiasa - INFO: You are connected as user `scheifinger`\n",
      "httpx - INFO: HTTP Request: POST https://api.manager.ece.iiasa.ac.at/v1/token/obtain/ \"HTTP/1.1 200 OK\"\n",
      "pyam.iiasa - INFO: You are connected as user `scheifinger`\n",
      "httpx - INFO: HTTP Request: GET https://api.manager.ece.iiasa.ac.at/legacy/applications \"HTTP/1.1 200 OK\"\n",
      "httpx - INFO: HTTP Request: POST https://api.manager.ece.iiasa.ac.at/v1/token/obtain/ \"HTTP/1.1 200 OK\"\n",
      "httpx - INFO: HTTP Request: GET https://api.manager.ece.iiasa.ac.at/legacy/applications \"HTTP/1.1 200 OK\"\n",
      "httpx - INFO: HTTP Request: GET https://api.manager.ece.iiasa.ac.at/legacy/applications/IXSE_ENGAGE_INTERNAL/config \"HTTP/1.1 200 OK\"\n",
      "pyam.iiasa - INFO: You are connected to the IXSE_ENGAGE_INTERNAL scenario explorer hosted by IIASA. If you use this data in any published format, please cite the data as provided in the explorer guidelines: https://data.ece.iiasa.ac.at/engage-internal/#/about\n",
      "pyam.iiasa - INFO: You are connected as user `scheifinger`\n"
     ]
    }
   ],
   "source": [
    "data_set = get_data().data"
   ]
  },
  {
   "cell_type": "code",
   "execution_count": 126,
   "metadata": {},
   "outputs": [],
   "source": [
    "df = data_set\n"
   ]
  },
  {
   "cell_type": "code",
   "execution_count": 144,
   "metadata": {},
   "outputs": [],
   "source": [
    "#Data wrangling\n",
    "df = data_set\n",
    "#get regional groupings\n",
    "## OECD: \"North America; primarily the United States of America and Canada\",\"Eastern and Western Europe (i.e., the EU28)\"\n",
    "#TODO Clarify that countries of Asia and Latin America are missing\n",
    "## China:  Countries of centrally-planned Asia; primarily China\n",
    "## Rest of the world: other countries\n",
    "#get OECD*\n",
    "oecd = df[df[\"region\"].isin([\"North America; primarily the United States of America and Canada\",\"Eastern and Western Europe (i.e., the EU28)\"])]\\\n",
    "    .groupby([\"model\", \"scenario\", \"variable\", \"year\", \"unit\"])\\\n",
    "        .agg({\"value\": \"sum\"}).reset_index()\n",
    "oecd['region'] = \"OECD\"\n",
    "#get China\n",
    "china = df[df['region'] == \"Countries of centrally-planned Asia; primarily China\"]\n",
    "china.loc[:, \"region\"] = \"China\"\n",
    "#get RoW\n",
    "row = df[~df[\"region\"].isin([\"North America; primarily the United States of America and Canada\",\"Eastern and Western Europe (i.e., the EU28)\", \"Countries of centrally-planned Asia; primarily China\"])]\\\n",
    "        .groupby([\"model\", \"scenario\", \"variable\", \"year\", \"unit\"])\\\n",
    "            .agg({\"value\": \"sum\"}).reset_index()\n",
    "row[\"region\"] = \"RoW\"\n",
    "#Concat three regions\n",
    "df = pd.concat([oecd, china, row]).reset_index()\n",
    "\n",
    "#from long to wide\n",
    "df = pd.pivot(data=df, index=['model','scenario', 'region', 'year'], columns = 'variable', values = 'value').reset_index()\n",
    "#get diffeernt scenario narratives from scenario name\n",
    "df['scenario_narrative'] = np.where(df['scenario'].str.contains(\"T34_1000_ref\", case=True), \"Cost Effective\", np.nan) \n",
    "df['scenario_narrative'] = np.where(df['scenario'].str.contains(\"T34_1000_bitb_ref\", case=True), \"Tech\", df['scenario_narrative']) \n",
    "df['scenario_narrative'] = np.where(df['scenario'].str.contains(\"T34_1000_govem\", case=True), \"Instit\", df['scenario_narrative'])\n",
    "df['scenario_narrative'] = np.where(df['scenario'].str.contains(\"T34_1000_bitb_em\", case=True), \"Tech+Inst\", df['scenario_narrative'])\n",
    "df['scenario_narrative'] = np.where(df['scenario'].str.contains(\"T34_1000_enab_em\", case=True), \"Inst+Enab\", df['scenario_narrative'])\n",
    "df['scenario_narrative'] = np.where(df['scenario'].str.contains(\"T34_1000_feas_em\", case=True), \"Tech+Inst+Enab\", df['scenario_narrative'])\n",
    "\n",
    "#caluclate percentages of energymix for coal and gas\n",
    "df[\"Share_Coal\"] = df[\"Primary Energy|Coal\"] / df[\"Primary Energy\"]\n",
    "df[\"Share_Gas\"] = df[\"Primary Energy|Gas\"] / df[\"Primary Energy\"]\n",
    "\n",
    "\n",
    "#Sort dataframe\n",
    "df.sort_values(by=[\"model\", \"scenario\", \"region\", \"year\"], ascending=True, inplace=True)"
   ]
  },
  {
   "cell_type": "code",
   "execution_count": 183,
   "metadata": {},
   "outputs": [
    {
     "data": {
      "text/plain": [
       "0"
      ]
     },
     "execution_count": 183,
     "metadata": {},
     "output_type": "execute_result"
    }
   ],
   "source": [
    "df.head(3)\n",
    "df[(df[\"model\"] == \"MESSAGEix-GLOBIOM_1.1\") & (df[\"scenario_narrative\"] == \"Tech+Inst\") & (df[\"region\"] == \"China\")].duplicated()\n",
    "\n",
    "df[['year', \"Emissions|CO2\", \"region\", \"scenario_narrative\"]].duplicated().sum()"
   ]
  },
  {
   "cell_type": "code",
   "execution_count": 182,
   "metadata": {},
   "outputs": [
    {
     "data": {
      "application/vnd.plotly.v1+json": {
       "config": {
        "plotlyServerURL": "https://plot.ly"
       },
       "data": [
        {
         "customdata": [
          [
           "T34_1000_bitb_em",
           "WITCH 5.0"
          ],
          [
           "T34_1000_bitb_em",
           "WITCH 5.0"
          ],
          [
           "T34_1000_bitb_em",
           "WITCH 5.0"
          ],
          [
           "T34_1000_bitb_em",
           "WITCH 5.0"
          ],
          [
           "T34_1000_bitb_em",
           "WITCH 5.0"
          ],
          [
           "T34_1000_bitb_em",
           "WITCH 5.0"
          ],
          [
           "T34_1000_bitb_em",
           "WITCH 5.0"
          ],
          [
           "T34_1000_bitb_em",
           "WITCH 5.0"
          ],
          [
           "T34_1000_bitb_em",
           "WITCH 5.0"
          ],
          [
           "T34_1000_bitb_em",
           "WITCH 5.0"
          ],
          [
           "T34_1000_bitb_em",
           "WITCH 5.0"
          ],
          [
           "T34_1000_bitb_em",
           "WITCH 5.0"
          ],
          [
           "T34_1000_bitb_em",
           "WITCH 5.0"
          ],
          [
           "T34_1000_bitb_em",
           "WITCH 5.0"
          ],
          [
           "T34_1000_bitb_em",
           "WITCH 5.0"
          ],
          [
           "T34_1000_bitb_em",
           "WITCH 5.0"
          ],
          [
           "T34_1000_bitb_em",
           "WITCH 5.0"
          ],
          [
           "T34_1000_bitb_em",
           "WITCH 5.0"
          ],
          [
           "T34_1000_bitb_em",
           "WITCH 5.0"
          ],
          [
           "T34_1000_bitb_em",
           "WITCH 5.0"
          ]
         ],
         "hovertemplate": "region=China<br>model=%{customdata[1]}<br>scenario_narrative=Tech+Inst<br>year=%{x}<br>Emissions|CO2=%{y}<br>scenario=%{customdata[0]}<extra></extra>",
         "legendgroup": "China, WITCH 5.0",
         "line": {
          "color": "#636efa",
          "dash": "solid"
         },
         "marker": {
          "symbol": "circle"
         },
         "mode": "lines",
         "name": "China, WITCH 5.0",
         "showlegend": true,
         "type": "scattergl",
         "x": [
          2100,
          2095,
          2090,
          2085,
          2080,
          2075,
          2070,
          2065,
          2060,
          2055,
          2050,
          2045,
          2040,
          2035,
          2030,
          2025,
          2020,
          2015,
          2010,
          2005
         ],
         "xaxis": "x4",
         "y": [
          1458.37929113455,
          1560.06041999499,
          1624.01838095063,
          1481.55211765262,
          757.822125605517,
          869.550100768293,
          1021.78392732057,
          1199.25997246846,
          1424.72652269692,
          1970.39562331265,
          3335.18520974239,
          4477.31805870933,
          5324.8184825153,
          6867.98222089272,
          8992.36339636978,
          10467.8094111636,
          10517.7786672793,
          10001.0773740209,
          8663.07917221972,
          5978.27228072794
         ],
         "yaxis": "y4"
        },
        {
         "customdata": [
          [
           "T34_1000_bitb_ref",
           "WITCH 5.0"
          ],
          [
           "T34_1000_bitb_ref",
           "WITCH 5.0"
          ],
          [
           "T34_1000_bitb_ref",
           "WITCH 5.0"
          ],
          [
           "T34_1000_bitb_ref",
           "WITCH 5.0"
          ],
          [
           "T34_1000_bitb_ref",
           "WITCH 5.0"
          ],
          [
           "T34_1000_bitb_ref",
           "WITCH 5.0"
          ],
          [
           "T34_1000_bitb_ref",
           "WITCH 5.0"
          ],
          [
           "T34_1000_bitb_ref",
           "WITCH 5.0"
          ],
          [
           "T34_1000_bitb_ref",
           "WITCH 5.0"
          ],
          [
           "T34_1000_bitb_ref",
           "WITCH 5.0"
          ],
          [
           "T34_1000_bitb_ref",
           "WITCH 5.0"
          ],
          [
           "T34_1000_bitb_ref",
           "WITCH 5.0"
          ],
          [
           "T34_1000_bitb_ref",
           "WITCH 5.0"
          ],
          [
           "T34_1000_bitb_ref",
           "WITCH 5.0"
          ],
          [
           "T34_1000_bitb_ref",
           "WITCH 5.0"
          ],
          [
           "T34_1000_bitb_ref",
           "WITCH 5.0"
          ],
          [
           "T34_1000_bitb_ref",
           "WITCH 5.0"
          ],
          [
           "T34_1000_bitb_ref",
           "WITCH 5.0"
          ],
          [
           "T34_1000_bitb_ref",
           "WITCH 5.0"
          ],
          [
           "T34_1000_bitb_ref",
           "WITCH 5.0"
          ]
         ],
         "hovertemplate": "region=China<br>model=%{customdata[1]}<br>scenario_narrative=Tech<br>year=%{x}<br>Emissions|CO2=%{y}<br>scenario=%{customdata[0]}<extra></extra>",
         "legendgroup": "China, WITCH 5.0",
         "line": {
          "color": "#636efa",
          "dash": "solid"
         },
         "marker": {
          "symbol": "circle"
         },
         "mode": "lines",
         "name": "China, WITCH 5.0",
         "showlegend": false,
         "type": "scattergl",
         "x": [
          2100,
          2095,
          2090,
          2085,
          2080,
          2075,
          2070,
          2065,
          2060,
          2055,
          2050,
          2045,
          2040,
          2035,
          2030,
          2025,
          2020,
          2015,
          2010,
          2005
         ],
         "xaxis": "x5",
         "y": [
          1961.35983765815,
          2139.66665311765,
          2308.84325909198,
          2503.4423747401,
          2681.04684548457,
          2867.49672675661,
          3101.98773875951,
          3303.46997985769,
          3532.48834989765,
          3732.61131289653,
          4034.81372970957,
          4460.55023708054,
          4880.95581152716,
          5180.94343038187,
          5474.42157603563,
          10231.2213526232,
          10517.7786672793,
          10001.0773740209,
          8663.07917221972,
          5978.27228072794
         ],
         "yaxis": "y5"
        },
        {
         "customdata": [
          [
           "T34_1000_enab_em",
           "WITCH 5.0"
          ],
          [
           "T34_1000_enab_em",
           "WITCH 5.0"
          ],
          [
           "T34_1000_enab_em",
           "WITCH 5.0"
          ],
          [
           "T34_1000_enab_em",
           "WITCH 5.0"
          ],
          [
           "T34_1000_enab_em",
           "WITCH 5.0"
          ],
          [
           "T34_1000_enab_em",
           "WITCH 5.0"
          ],
          [
           "T34_1000_enab_em",
           "WITCH 5.0"
          ],
          [
           "T34_1000_enab_em",
           "WITCH 5.0"
          ],
          [
           "T34_1000_enab_em",
           "WITCH 5.0"
          ],
          [
           "T34_1000_enab_em",
           "WITCH 5.0"
          ],
          [
           "T34_1000_enab_em",
           "WITCH 5.0"
          ],
          [
           "T34_1000_enab_em",
           "WITCH 5.0"
          ],
          [
           "T34_1000_enab_em",
           "WITCH 5.0"
          ],
          [
           "T34_1000_enab_em",
           "WITCH 5.0"
          ],
          [
           "T34_1000_enab_em",
           "WITCH 5.0"
          ],
          [
           "T34_1000_enab_em",
           "WITCH 5.0"
          ],
          [
           "T34_1000_enab_em",
           "WITCH 5.0"
          ],
          [
           "T34_1000_enab_em",
           "WITCH 5.0"
          ],
          [
           "T34_1000_enab_em",
           "WITCH 5.0"
          ],
          [
           "T34_1000_enab_em",
           "WITCH 5.0"
          ]
         ],
         "hovertemplate": "region=China<br>model=%{customdata[1]}<br>scenario_narrative=Inst+Enab<br>year=%{x}<br>Emissions|CO2=%{y}<br>scenario=%{customdata[0]}<extra></extra>",
         "legendgroup": "China, WITCH 5.0",
         "line": {
          "color": "#636efa",
          "dash": "solid"
         },
         "marker": {
          "symbol": "circle"
         },
         "mode": "lines",
         "name": "China, WITCH 5.0",
         "showlegend": false,
         "type": "scattergl",
         "x": [
          2100,
          2095,
          2090,
          2085,
          2080,
          2075,
          2070,
          2065,
          2060,
          2055,
          2050,
          2045,
          2040,
          2035,
          2030,
          2025,
          2020,
          2015,
          2010,
          2005
         ],
         "xaxis": "x6",
         "y": [
          883.31610084279,
          681.553404197295,
          421.270225154168,
          122.199842100692,
          102.995823190573,
          227.101150790561,
          594.791629408214,
          1080.61385853177,
          1535.61893757085,
          2037.86176025472,
          2530.69795950088,
          3173.06840907684,
          4733.00040027566,
          6110.27724262022,
          7888.33400045944,
          9191.69620468432,
          10517.7786672793,
          10001.0773740209,
          8663.07917221972,
          5978.27228072794
         ],
         "yaxis": "y6"
        },
        {
         "customdata": [
          [
           "T34_1000_feas_em",
           "WITCH 5.0"
          ],
          [
           "T34_1000_feas_em",
           "WITCH 5.0"
          ],
          [
           "T34_1000_feas_em",
           "WITCH 5.0"
          ],
          [
           "T34_1000_feas_em",
           "WITCH 5.0"
          ],
          [
           "T34_1000_feas_em",
           "WITCH 5.0"
          ],
          [
           "T34_1000_feas_em",
           "WITCH 5.0"
          ],
          [
           "T34_1000_feas_em",
           "WITCH 5.0"
          ],
          [
           "T34_1000_feas_em",
           "WITCH 5.0"
          ],
          [
           "T34_1000_feas_em",
           "WITCH 5.0"
          ],
          [
           "T34_1000_feas_em",
           "WITCH 5.0"
          ],
          [
           "T34_1000_feas_em",
           "WITCH 5.0"
          ],
          [
           "T34_1000_feas_em",
           "WITCH 5.0"
          ],
          [
           "T34_1000_feas_em",
           "WITCH 5.0"
          ],
          [
           "T34_1000_feas_em",
           "WITCH 5.0"
          ],
          [
           "T34_1000_feas_em",
           "WITCH 5.0"
          ],
          [
           "T34_1000_feas_em",
           "WITCH 5.0"
          ],
          [
           "T34_1000_feas_em",
           "WITCH 5.0"
          ],
          [
           "T34_1000_feas_em",
           "WITCH 5.0"
          ],
          [
           "T34_1000_feas_em",
           "WITCH 5.0"
          ],
          [
           "T34_1000_feas_em",
           "WITCH 5.0"
          ]
         ],
         "hovertemplate": "region=China<br>model=%{customdata[1]}<br>scenario_narrative=Tech+Inst+Enab<br>year=%{x}<br>Emissions|CO2=%{y}<br>scenario=%{customdata[0]}<extra></extra>",
         "legendgroup": "China, WITCH 5.0",
         "line": {
          "color": "#636efa",
          "dash": "solid"
         },
         "marker": {
          "symbol": "circle"
         },
         "mode": "lines",
         "name": "China, WITCH 5.0",
         "showlegend": false,
         "type": "scattergl",
         "x": [
          2100,
          2095,
          2090,
          2085,
          2080,
          2075,
          2070,
          2065,
          2060,
          2055,
          2050,
          2045,
          2040,
          2035,
          2030,
          2025,
          2020,
          2015,
          2010,
          2005
         ],
         "xaxis": "x",
         "y": [
          521.315501495107,
          648.119194326209,
          662.24720360162,
          725.285681397339,
          782.941233793632,
          896.675286095006,
          1075.6577385564,
          1261.54175190575,
          1584.50788266253,
          2030.2031233408,
          2583.85419782619,
          3506.35710850984,
          4733.00040027566,
          6110.27724262022,
          7888.33400045944,
          9197.32873546599,
          10517.7786672793,
          10001.0773740209,
          8663.07917221972,
          5978.27228072794
         ],
         "yaxis": "y"
        },
        {
         "customdata": [
          [
           "T34_1000_govem",
           "WITCH 5.0"
          ],
          [
           "T34_1000_govem",
           "WITCH 5.0"
          ],
          [
           "T34_1000_govem",
           "WITCH 5.0"
          ],
          [
           "T34_1000_govem",
           "WITCH 5.0"
          ],
          [
           "T34_1000_govem",
           "WITCH 5.0"
          ],
          [
           "T34_1000_govem",
           "WITCH 5.0"
          ],
          [
           "T34_1000_govem",
           "WITCH 5.0"
          ],
          [
           "T34_1000_govem",
           "WITCH 5.0"
          ],
          [
           "T34_1000_govem",
           "WITCH 5.0"
          ],
          [
           "T34_1000_govem",
           "WITCH 5.0"
          ],
          [
           "T34_1000_govem",
           "WITCH 5.0"
          ],
          [
           "T34_1000_govem",
           "WITCH 5.0"
          ],
          [
           "T34_1000_govem",
           "WITCH 5.0"
          ],
          [
           "T34_1000_govem",
           "WITCH 5.0"
          ],
          [
           "T34_1000_govem",
           "WITCH 5.0"
          ],
          [
           "T34_1000_govem",
           "WITCH 5.0"
          ],
          [
           "T34_1000_govem",
           "WITCH 5.0"
          ],
          [
           "T34_1000_govem",
           "WITCH 5.0"
          ],
          [
           "T34_1000_govem",
           "WITCH 5.0"
          ],
          [
           "T34_1000_govem",
           "WITCH 5.0"
          ]
         ],
         "hovertemplate": "region=China<br>model=%{customdata[1]}<br>scenario_narrative=Instit<br>year=%{x}<br>Emissions|CO2=%{y}<br>scenario=%{customdata[0]}<extra></extra>",
         "legendgroup": "China, WITCH 5.0",
         "line": {
          "color": "#636efa",
          "dash": "solid"
         },
         "marker": {
          "symbol": "circle"
         },
         "mode": "lines",
         "name": "China, WITCH 5.0",
         "showlegend": false,
         "type": "scattergl",
         "x": [
          2100,
          2095,
          2090,
          2085,
          2080,
          2075,
          2070,
          2065,
          2060,
          2055,
          2050,
          2045,
          2040,
          2035,
          2030,
          2025,
          2020,
          2015,
          2010,
          2005
         ],
         "xaxis": "x2",
         "y": [
          2790.2414400926,
          2729.51754477127,
          2401.30171198849,
          1547.78493702109,
          1074.34347379913,
          764.90153186234,
          1036.5984700325,
          1295.23470223329,
          1646.53008214371,
          1969.72042369186,
          2683.32140296245,
          3917.03508043367,
          4829.47710800135,
          6110.27724262022,
          7888.33400045944,
          9193.46200934296,
          10517.7786672793,
          10001.0773740209,
          8663.07917221972,
          5978.27228072794
         ],
         "yaxis": "y2"
        },
        {
         "customdata": [
          [
           "T34_1000_ref",
           "WITCH 5.0"
          ],
          [
           "T34_1000_ref",
           "WITCH 5.0"
          ],
          [
           "T34_1000_ref",
           "WITCH 5.0"
          ],
          [
           "T34_1000_ref",
           "WITCH 5.0"
          ],
          [
           "T34_1000_ref",
           "WITCH 5.0"
          ],
          [
           "T34_1000_ref",
           "WITCH 5.0"
          ],
          [
           "T34_1000_ref",
           "WITCH 5.0"
          ],
          [
           "T34_1000_ref",
           "WITCH 5.0"
          ],
          [
           "T34_1000_ref",
           "WITCH 5.0"
          ],
          [
           "T34_1000_ref",
           "WITCH 5.0"
          ],
          [
           "T34_1000_ref",
           "WITCH 5.0"
          ],
          [
           "T34_1000_ref",
           "WITCH 5.0"
          ],
          [
           "T34_1000_ref",
           "WITCH 5.0"
          ],
          [
           "T34_1000_ref",
           "WITCH 5.0"
          ],
          [
           "T34_1000_ref",
           "WITCH 5.0"
          ],
          [
           "T34_1000_ref",
           "WITCH 5.0"
          ],
          [
           "T34_1000_ref",
           "WITCH 5.0"
          ],
          [
           "T34_1000_ref",
           "WITCH 5.0"
          ],
          [
           "T34_1000_ref",
           "WITCH 5.0"
          ],
          [
           "T34_1000_ref",
           "WITCH 5.0"
          ]
         ],
         "hovertemplate": "region=China<br>model=%{customdata[1]}<br>scenario_narrative=Cost Effective<br>year=%{x}<br>Emissions|CO2=%{y}<br>scenario=%{customdata[0]}<extra></extra>",
         "legendgroup": "China, WITCH 5.0",
         "line": {
          "color": "#636efa",
          "dash": "solid"
         },
         "marker": {
          "symbol": "circle"
         },
         "mode": "lines",
         "name": "China, WITCH 5.0",
         "showlegend": false,
         "type": "scattergl",
         "x": [
          2100,
          2095,
          2090,
          2085,
          2080,
          2075,
          2070,
          2065,
          2060,
          2055,
          2050,
          2045,
          2040,
          2035,
          2030,
          2025,
          2020,
          2015,
          2010,
          2005
         ],
         "xaxis": "x3",
         "y": [
          2407.12997051647,
          2239.55779591203,
          2063.42960134033,
          2062.27917996194,
          2232.23801362416,
          2460.45166442799,
          2732.54306214458,
          3217.04221974317,
          3650.81079658422,
          3948.65164581049,
          4280.85202254407,
          4580.12427009299,
          4858.33335213709,
          5079.99773483765,
          5933.9348442216,
          10260.1631426804,
          10517.7786672793,
          10001.0773740209,
          8663.07917221972,
          5978.27228072794
         ],
         "yaxis": "y3"
        },
        {
         "customdata": [
          [
           "T34_1000_bitb_em",
           "REMIND 3.0"
          ],
          [
           "T34_1000_bitb_em",
           "REMIND 3.0"
          ],
          [
           "T34_1000_bitb_em",
           "REMIND 3.0"
          ],
          [
           "T34_1000_bitb_em",
           "REMIND 3.0"
          ],
          [
           "T34_1000_bitb_em",
           "REMIND 3.0"
          ],
          [
           "T34_1000_bitb_em",
           "REMIND 3.0"
          ],
          [
           "T34_1000_bitb_em",
           "REMIND 3.0"
          ],
          [
           "T34_1000_bitb_em",
           "REMIND 3.0"
          ],
          [
           "T34_1000_bitb_em",
           "REMIND 3.0"
          ],
          [
           "T34_1000_bitb_em",
           "REMIND 3.0"
          ],
          [
           "T34_1000_bitb_em",
           "REMIND 3.0"
          ],
          [
           "T34_1000_bitb_em",
           "REMIND 3.0"
          ],
          [
           "T34_1000_bitb_em",
           "REMIND 3.0"
          ],
          [
           "T34_1000_bitb_em",
           "REMIND 3.0"
          ],
          [
           "T34_1000_bitb_em",
           "REMIND 3.0"
          ],
          [
           "T34_1000_bitb_em",
           "REMIND 3.0"
          ]
         ],
         "hovertemplate": "region=China<br>model=%{customdata[1]}<br>scenario_narrative=Tech+Inst<br>year=%{x}<br>Emissions|CO2=%{y}<br>scenario=%{customdata[0]}<extra></extra>",
         "legendgroup": "China, REMIND 3.0",
         "line": {
          "color": "#636efa",
          "dash": "dot"
         },
         "marker": {
          "symbol": "circle"
         },
         "mode": "lines",
         "name": "China, REMIND 3.0",
         "showlegend": true,
         "type": "scattergl",
         "x": [
          2100,
          2090,
          2080,
          2070,
          2060,
          2055,
          2050,
          2045,
          2040,
          2035,
          2030,
          2025,
          2020,
          2015,
          2010,
          2005
         ],
         "xaxis": "x4",
         "y": [
          -222.7280019,
          -684.5044197,
          -763.0826873,
          -540.8019654,
          -45.1434781,
          238.451248,
          790.603056,
          1556.6944368,
          2927.4041411,
          4510.2993232,
          7953.6443339,
          12414.6146332,
          12485.754226,
          11520.7349521,
          9530.0925114,
          7275.8779516
         ],
         "yaxis": "y4"
        },
        {
         "customdata": [
          [
           "T34_1000_bitb_ref",
           "REMIND 3.0"
          ],
          [
           "T34_1000_bitb_ref",
           "REMIND 3.0"
          ],
          [
           "T34_1000_bitb_ref",
           "REMIND 3.0"
          ],
          [
           "T34_1000_bitb_ref",
           "REMIND 3.0"
          ],
          [
           "T34_1000_bitb_ref",
           "REMIND 3.0"
          ],
          [
           "T34_1000_bitb_ref",
           "REMIND 3.0"
          ],
          [
           "T34_1000_bitb_ref",
           "REMIND 3.0"
          ],
          [
           "T34_1000_bitb_ref",
           "REMIND 3.0"
          ],
          [
           "T34_1000_bitb_ref",
           "REMIND 3.0"
          ],
          [
           "T34_1000_bitb_ref",
           "REMIND 3.0"
          ],
          [
           "T34_1000_bitb_ref",
           "REMIND 3.0"
          ],
          [
           "T34_1000_bitb_ref",
           "REMIND 3.0"
          ],
          [
           "T34_1000_bitb_ref",
           "REMIND 3.0"
          ],
          [
           "T34_1000_bitb_ref",
           "REMIND 3.0"
          ],
          [
           "T34_1000_bitb_ref",
           "REMIND 3.0"
          ],
          [
           "T34_1000_bitb_ref",
           "REMIND 3.0"
          ]
         ],
         "hovertemplate": "region=China<br>model=%{customdata[1]}<br>scenario_narrative=Tech<br>year=%{x}<br>Emissions|CO2=%{y}<br>scenario=%{customdata[0]}<extra></extra>",
         "legendgroup": "China, REMIND 3.0",
         "line": {
          "color": "#636efa",
          "dash": "dot"
         },
         "marker": {
          "symbol": "circle"
         },
         "mode": "lines",
         "name": "China, REMIND 3.0",
         "showlegend": false,
         "type": "scattergl",
         "x": [
          2100,
          2090,
          2080,
          2070,
          2060,
          2055,
          2050,
          2045,
          2040,
          2035,
          2030,
          2025,
          2020,
          2015,
          2010,
          2005
         ],
         "xaxis": "x5",
         "y": [
          -303.7508879,
          -250.6455167,
          -210.0869188,
          -6.0757228,
          333.2222001,
          642.242743,
          1199.8607613,
          1982.0563439,
          3289.2319469,
          5034.6774591,
          8191.6987077,
          12377.5337104,
          12485.754226,
          11520.7349521,
          9530.0925114,
          7275.8779516
         ],
         "yaxis": "y5"
        },
        {
         "customdata": [
          [
           "T34_1000_enab_em",
           "REMIND 3.0"
          ],
          [
           "T34_1000_enab_em",
           "REMIND 3.0"
          ],
          [
           "T34_1000_enab_em",
           "REMIND 3.0"
          ],
          [
           "T34_1000_enab_em",
           "REMIND 3.0"
          ],
          [
           "T34_1000_enab_em",
           "REMIND 3.0"
          ],
          [
           "T34_1000_enab_em",
           "REMIND 3.0"
          ],
          [
           "T34_1000_enab_em",
           "REMIND 3.0"
          ],
          [
           "T34_1000_enab_em",
           "REMIND 3.0"
          ],
          [
           "T34_1000_enab_em",
           "REMIND 3.0"
          ],
          [
           "T34_1000_enab_em",
           "REMIND 3.0"
          ],
          [
           "T34_1000_enab_em",
           "REMIND 3.0"
          ],
          [
           "T34_1000_enab_em",
           "REMIND 3.0"
          ],
          [
           "T34_1000_enab_em",
           "REMIND 3.0"
          ],
          [
           "T34_1000_enab_em",
           "REMIND 3.0"
          ],
          [
           "T34_1000_enab_em",
           "REMIND 3.0"
          ],
          [
           "T34_1000_enab_em",
           "REMIND 3.0"
          ]
         ],
         "hovertemplate": "region=China<br>model=%{customdata[1]}<br>scenario_narrative=Inst+Enab<br>year=%{x}<br>Emissions|CO2=%{y}<br>scenario=%{customdata[0]}<extra></extra>",
         "legendgroup": "China, REMIND 3.0",
         "line": {
          "color": "#636efa",
          "dash": "dot"
         },
         "marker": {
          "symbol": "circle"
         },
         "mode": "lines",
         "name": "China, REMIND 3.0",
         "showlegend": false,
         "type": "scattergl",
         "x": [
          2100,
          2090,
          2080,
          2070,
          2060,
          2055,
          2050,
          2045,
          2040,
          2035,
          2030,
          2025,
          2020,
          2015,
          2010,
          2005
         ],
         "xaxis": "x6",
         "y": [
          -188.4389837,
          -614.3595395,
          -521.4578625,
          -216.1375081,
          194.806232,
          726.9814565,
          1351.7885615,
          2273.9086193,
          3443.1673247,
          5716.3846255,
          7952.4612242,
          12171.472078,
          12485.754226,
          11520.7349521,
          9530.0925114,
          7275.8779516
         ],
         "yaxis": "y6"
        },
        {
         "customdata": [
          [
           "T34_1000_feas_em",
           "REMIND 3.0"
          ],
          [
           "T34_1000_feas_em",
           "REMIND 3.0"
          ],
          [
           "T34_1000_feas_em",
           "REMIND 3.0"
          ],
          [
           "T34_1000_feas_em",
           "REMIND 3.0"
          ],
          [
           "T34_1000_feas_em",
           "REMIND 3.0"
          ],
          [
           "T34_1000_feas_em",
           "REMIND 3.0"
          ],
          [
           "T34_1000_feas_em",
           "REMIND 3.0"
          ],
          [
           "T34_1000_feas_em",
           "REMIND 3.0"
          ],
          [
           "T34_1000_feas_em",
           "REMIND 3.0"
          ],
          [
           "T34_1000_feas_em",
           "REMIND 3.0"
          ],
          [
           "T34_1000_feas_em",
           "REMIND 3.0"
          ],
          [
           "T34_1000_feas_em",
           "REMIND 3.0"
          ],
          [
           "T34_1000_feas_em",
           "REMIND 3.0"
          ],
          [
           "T34_1000_feas_em",
           "REMIND 3.0"
          ],
          [
           "T34_1000_feas_em",
           "REMIND 3.0"
          ],
          [
           "T34_1000_feas_em",
           "REMIND 3.0"
          ]
         ],
         "hovertemplate": "region=China<br>model=%{customdata[1]}<br>scenario_narrative=Tech+Inst+Enab<br>year=%{x}<br>Emissions|CO2=%{y}<br>scenario=%{customdata[0]}<extra></extra>",
         "legendgroup": "China, REMIND 3.0",
         "line": {
          "color": "#636efa",
          "dash": "dot"
         },
         "marker": {
          "symbol": "circle"
         },
         "mode": "lines",
         "name": "China, REMIND 3.0",
         "showlegend": false,
         "type": "scattergl",
         "x": [
          2100,
          2090,
          2080,
          2070,
          2060,
          2055,
          2050,
          2045,
          2040,
          2035,
          2030,
          2025,
          2020,
          2015,
          2010,
          2005
         ],
         "xaxis": "x",
         "y": [
          -209.9658388,
          -496.8702385,
          -341.9564097,
          -48.0024957,
          387.1148892,
          802.5592272,
          1281.6415746,
          2021.369977,
          3189.9404628,
          5501.7526223,
          7799.1718184,
          12167.4956982,
          12485.754226,
          11520.7349521,
          9530.0925114,
          7275.8779516
         ],
         "yaxis": "y"
        },
        {
         "customdata": [
          [
           "T34_1000_govem",
           "REMIND 3.0"
          ],
          [
           "T34_1000_govem",
           "REMIND 3.0"
          ],
          [
           "T34_1000_govem",
           "REMIND 3.0"
          ],
          [
           "T34_1000_govem",
           "REMIND 3.0"
          ],
          [
           "T34_1000_govem",
           "REMIND 3.0"
          ],
          [
           "T34_1000_govem",
           "REMIND 3.0"
          ],
          [
           "T34_1000_govem",
           "REMIND 3.0"
          ],
          [
           "T34_1000_govem",
           "REMIND 3.0"
          ],
          [
           "T34_1000_govem",
           "REMIND 3.0"
          ],
          [
           "T34_1000_govem",
           "REMIND 3.0"
          ],
          [
           "T34_1000_govem",
           "REMIND 3.0"
          ],
          [
           "T34_1000_govem",
           "REMIND 3.0"
          ],
          [
           "T34_1000_govem",
           "REMIND 3.0"
          ],
          [
           "T34_1000_govem",
           "REMIND 3.0"
          ],
          [
           "T34_1000_govem",
           "REMIND 3.0"
          ],
          [
           "T34_1000_govem",
           "REMIND 3.0"
          ]
         ],
         "hovertemplate": "region=China<br>model=%{customdata[1]}<br>scenario_narrative=Instit<br>year=%{x}<br>Emissions|CO2=%{y}<br>scenario=%{customdata[0]}<extra></extra>",
         "legendgroup": "China, REMIND 3.0",
         "line": {
          "color": "#636efa",
          "dash": "dot"
         },
         "marker": {
          "symbol": "circle"
         },
         "mode": "lines",
         "name": "China, REMIND 3.0",
         "showlegend": false,
         "type": "scattergl",
         "x": [
          2100,
          2090,
          2080,
          2070,
          2060,
          2055,
          2050,
          2045,
          2040,
          2035,
          2030,
          2025,
          2020,
          2015,
          2010,
          2005
         ],
         "xaxis": "x2",
         "y": [
          -223.9735434,
          -851.1156647,
          -1093.6259879,
          -899.5433715,
          -137.0348784,
          232.0447035,
          883.7047211,
          1568.3636864,
          2980.557127,
          5037.3138897,
          8390.6097194,
          12423.7088292,
          12485.754226,
          11520.7349521,
          9530.0925114,
          7275.8779516
         ],
         "yaxis": "y2"
        },
        {
         "customdata": [
          [
           "T34_1000_ref",
           "REMIND 3.0"
          ],
          [
           "T34_1000_ref",
           "REMIND 3.0"
          ],
          [
           "T34_1000_ref",
           "REMIND 3.0"
          ],
          [
           "T34_1000_ref",
           "REMIND 3.0"
          ],
          [
           "T34_1000_ref",
           "REMIND 3.0"
          ],
          [
           "T34_1000_ref",
           "REMIND 3.0"
          ],
          [
           "T34_1000_ref",
           "REMIND 3.0"
          ],
          [
           "T34_1000_ref",
           "REMIND 3.0"
          ],
          [
           "T34_1000_ref",
           "REMIND 3.0"
          ],
          [
           "T34_1000_ref",
           "REMIND 3.0"
          ],
          [
           "T34_1000_ref",
           "REMIND 3.0"
          ],
          [
           "T34_1000_ref",
           "REMIND 3.0"
          ],
          [
           "T34_1000_ref",
           "REMIND 3.0"
          ],
          [
           "T34_1000_ref",
           "REMIND 3.0"
          ],
          [
           "T34_1000_ref",
           "REMIND 3.0"
          ],
          [
           "T34_1000_ref",
           "REMIND 3.0"
          ]
         ],
         "hovertemplate": "region=China<br>model=%{customdata[1]}<br>scenario_narrative=Cost Effective<br>year=%{x}<br>Emissions|CO2=%{y}<br>scenario=%{customdata[0]}<extra></extra>",
         "legendgroup": "China, REMIND 3.0",
         "line": {
          "color": "#636efa",
          "dash": "dot"
         },
         "marker": {
          "symbol": "circle"
         },
         "mode": "lines",
         "name": "China, REMIND 3.0",
         "showlegend": false,
         "type": "scattergl",
         "x": [
          2100,
          2090,
          2080,
          2070,
          2060,
          2055,
          2050,
          2045,
          2040,
          2035,
          2030,
          2025,
          2020,
          2015,
          2010,
          2005
         ],
         "xaxis": "x3",
         "y": [
          -196.162232,
          -306.9715599,
          -319.4159243,
          -23.9346573,
          409.6300759,
          817.1329244,
          1363.3483448,
          2041.5248281,
          3454.5900295,
          5836.7337954,
          8938.8376825,
          12424.9079506,
          12485.754226,
          11520.7349521,
          9530.0925114,
          7275.8779516
         ],
         "yaxis": "y3"
        },
        {
         "customdata": [
          [
           "T34_1000_bitb_em",
           "POLES ENGAGE"
          ],
          [
           "T34_1000_bitb_em",
           "POLES ENGAGE"
          ],
          [
           "T34_1000_bitb_em",
           "POLES ENGAGE"
          ],
          [
           "T34_1000_bitb_em",
           "POLES ENGAGE"
          ],
          [
           "T34_1000_bitb_em",
           "POLES ENGAGE"
          ],
          [
           "T34_1000_bitb_em",
           "POLES ENGAGE"
          ],
          [
           "T34_1000_bitb_em",
           "POLES ENGAGE"
          ],
          [
           "T34_1000_bitb_em",
           "POLES ENGAGE"
          ],
          [
           "T34_1000_bitb_em",
           "POLES ENGAGE"
          ],
          [
           "T34_1000_bitb_em",
           "POLES ENGAGE"
          ],
          [
           "T34_1000_bitb_em",
           "POLES ENGAGE"
          ],
          [
           "T34_1000_bitb_em",
           "POLES ENGAGE"
          ],
          [
           "T34_1000_bitb_em",
           "POLES ENGAGE"
          ],
          [
           "T34_1000_bitb_em",
           "POLES ENGAGE"
          ],
          [
           "T34_1000_bitb_em",
           "POLES ENGAGE"
          ]
         ],
         "hovertemplate": "region=China<br>model=%{customdata[1]}<br>scenario_narrative=Tech+Inst<br>year=%{x}<br>Emissions|CO2=%{y}<br>scenario=%{customdata[0]}<extra></extra>",
         "legendgroup": "China, POLES ENGAGE",
         "line": {
          "color": "#636efa",
          "dash": "dash"
         },
         "marker": {
          "symbol": "circle"
         },
         "mode": "lines",
         "name": "China, POLES ENGAGE",
         "showlegend": true,
         "type": "scattergl",
         "x": [
          2100,
          2090,
          2080,
          2070,
          2060,
          2050,
          2045,
          2040,
          2035,
          2030,
          2025,
          2020,
          2015,
          2010,
          2005
         ],
         "xaxis": "x4",
         "y": [
          -1242.3037109375,
          -1007.5328979492188,
          -1428.6094970703125,
          -1420.55224609375,
          134.28089904785156,
          1665.2347412109375,
          3586.65087890625,
          5891.2861328125,
          7739.95947265625,
          9768.3837890625,
          11627.4921875,
          12279.3984375,
          10758.4365234375,
          9310.8505859375,
          6354.8251953125
         ],
         "yaxis": "y4"
        },
        {
         "customdata": [
          [
           "T34_1000_bitb_ref",
           "POLES ENGAGE"
          ],
          [
           "T34_1000_bitb_ref",
           "POLES ENGAGE"
          ],
          [
           "T34_1000_bitb_ref",
           "POLES ENGAGE"
          ],
          [
           "T34_1000_bitb_ref",
           "POLES ENGAGE"
          ],
          [
           "T34_1000_bitb_ref",
           "POLES ENGAGE"
          ],
          [
           "T34_1000_bitb_ref",
           "POLES ENGAGE"
          ],
          [
           "T34_1000_bitb_ref",
           "POLES ENGAGE"
          ],
          [
           "T34_1000_bitb_ref",
           "POLES ENGAGE"
          ],
          [
           "T34_1000_bitb_ref",
           "POLES ENGAGE"
          ],
          [
           "T34_1000_bitb_ref",
           "POLES ENGAGE"
          ],
          [
           "T34_1000_bitb_ref",
           "POLES ENGAGE"
          ],
          [
           "T34_1000_bitb_ref",
           "POLES ENGAGE"
          ],
          [
           "T34_1000_bitb_ref",
           "POLES ENGAGE"
          ],
          [
           "T34_1000_bitb_ref",
           "POLES ENGAGE"
          ],
          [
           "T34_1000_bitb_ref",
           "POLES ENGAGE"
          ]
         ],
         "hovertemplate": "region=China<br>model=%{customdata[1]}<br>scenario_narrative=Tech<br>year=%{x}<br>Emissions|CO2=%{y}<br>scenario=%{customdata[0]}<extra></extra>",
         "legendgroup": "China, POLES ENGAGE",
         "line": {
          "color": "#636efa",
          "dash": "dash"
         },
         "marker": {
          "symbol": "circle"
         },
         "mode": "lines",
         "name": "China, POLES ENGAGE",
         "showlegend": false,
         "type": "scattergl",
         "x": [
          2100,
          2090,
          2080,
          2070,
          2060,
          2050,
          2045,
          2040,
          2035,
          2030,
          2025,
          2020,
          2015,
          2010,
          2005
         ],
         "xaxis": "x5",
         "y": [
          -1359.5706787109375,
          -797.4478149414062,
          -11.197205543518066,
          1273.5621337890625,
          3492.075439453125,
          5432.46728515625,
          7243.18017578125,
          9141.4677734375,
          10682.125,
          11021.5634765625,
          12118.9619140625,
          12276.1630859375,
          10758.4365234375,
          9310.8505859375,
          6354.8251953125
         ],
         "yaxis": "y5"
        },
        {
         "customdata": [
          [
           "T34_1000_feas_em",
           "POLES ENGAGE"
          ],
          [
           "T34_1000_feas_em",
           "POLES ENGAGE"
          ],
          [
           "T34_1000_feas_em",
           "POLES ENGAGE"
          ],
          [
           "T34_1000_feas_em",
           "POLES ENGAGE"
          ],
          [
           "T34_1000_feas_em",
           "POLES ENGAGE"
          ],
          [
           "T34_1000_feas_em",
           "POLES ENGAGE"
          ],
          [
           "T34_1000_feas_em",
           "POLES ENGAGE"
          ],
          [
           "T34_1000_feas_em",
           "POLES ENGAGE"
          ],
          [
           "T34_1000_feas_em",
           "POLES ENGAGE"
          ],
          [
           "T34_1000_feas_em",
           "POLES ENGAGE"
          ],
          [
           "T34_1000_feas_em",
           "POLES ENGAGE"
          ],
          [
           "T34_1000_feas_em",
           "POLES ENGAGE"
          ],
          [
           "T34_1000_feas_em",
           "POLES ENGAGE"
          ],
          [
           "T34_1000_feas_em",
           "POLES ENGAGE"
          ],
          [
           "T34_1000_feas_em",
           "POLES ENGAGE"
          ]
         ],
         "hovertemplate": "region=China<br>model=%{customdata[1]}<br>scenario_narrative=Tech+Inst+Enab<br>year=%{x}<br>Emissions|CO2=%{y}<br>scenario=%{customdata[0]}<extra></extra>",
         "legendgroup": "China, POLES ENGAGE",
         "line": {
          "color": "#636efa",
          "dash": "dash"
         },
         "marker": {
          "symbol": "circle"
         },
         "mode": "lines",
         "name": "China, POLES ENGAGE",
         "showlegend": false,
         "type": "scattergl",
         "x": [
          2100,
          2090,
          2080,
          2070,
          2060,
          2050,
          2045,
          2040,
          2035,
          2030,
          2025,
          2020,
          2015,
          2010,
          2005
         ],
         "xaxis": "x",
         "y": [
          -61.798072814941406,
          -2277.630126953125,
          -3106.862548828125,
          -2165.2548828125,
          419.9403381347656,
          1771.693359375,
          3488.3017578125,
          5345.04150390625,
          7214.04296875,
          9852.7177734375,
          11900.453125,
          12279.3984375,
          10758.4365234375,
          9310.8505859375,
          6354.8251953125
         ],
         "yaxis": "y"
        },
        {
         "customdata": [
          [
           "T34_1000_govem",
           "POLES ENGAGE"
          ],
          [
           "T34_1000_govem",
           "POLES ENGAGE"
          ],
          [
           "T34_1000_govem",
           "POLES ENGAGE"
          ],
          [
           "T34_1000_govem",
           "POLES ENGAGE"
          ],
          [
           "T34_1000_govem",
           "POLES ENGAGE"
          ],
          [
           "T34_1000_govem",
           "POLES ENGAGE"
          ],
          [
           "T34_1000_govem",
           "POLES ENGAGE"
          ],
          [
           "T34_1000_govem",
           "POLES ENGAGE"
          ],
          [
           "T34_1000_govem",
           "POLES ENGAGE"
          ],
          [
           "T34_1000_govem",
           "POLES ENGAGE"
          ],
          [
           "T34_1000_govem",
           "POLES ENGAGE"
          ],
          [
           "T34_1000_govem",
           "POLES ENGAGE"
          ],
          [
           "T34_1000_govem",
           "POLES ENGAGE"
          ],
          [
           "T34_1000_govem",
           "POLES ENGAGE"
          ],
          [
           "T34_1000_govem",
           "POLES ENGAGE"
          ]
         ],
         "hovertemplate": "region=China<br>model=%{customdata[1]}<br>scenario_narrative=Instit<br>year=%{x}<br>Emissions|CO2=%{y}<br>scenario=%{customdata[0]}<extra></extra>",
         "legendgroup": "China, POLES ENGAGE",
         "line": {
          "color": "#636efa",
          "dash": "dash"
         },
         "marker": {
          "symbol": "circle"
         },
         "mode": "lines",
         "name": "China, POLES ENGAGE",
         "showlegend": false,
         "type": "scattergl",
         "x": [
          2100,
          2090,
          2080,
          2070,
          2060,
          2050,
          2045,
          2040,
          2035,
          2030,
          2025,
          2020,
          2015,
          2010,
          2005
         ],
         "xaxis": "x2",
         "y": [
          4141.048828125,
          2208.824462890625,
          -1375.5267333984375,
          -1361.5086669921875,
          -146.7830352783203,
          1615.2586669921875,
          3554.863525390625,
          5852.91650390625,
          7757.40185546875,
          9785.81640625,
          11634.6171875,
          12279.3984375,
          10758.4365234375,
          9310.8505859375,
          6354.8251953125
         ],
         "yaxis": "y2"
        },
        {
         "customdata": [
          [
           "T34_1000_ref",
           "POLES ENGAGE"
          ],
          [
           "T34_1000_ref",
           "POLES ENGAGE"
          ],
          [
           "T34_1000_ref",
           "POLES ENGAGE"
          ],
          [
           "T34_1000_ref",
           "POLES ENGAGE"
          ],
          [
           "T34_1000_ref",
           "POLES ENGAGE"
          ],
          [
           "T34_1000_ref",
           "POLES ENGAGE"
          ],
          [
           "T34_1000_ref",
           "POLES ENGAGE"
          ],
          [
           "T34_1000_ref",
           "POLES ENGAGE"
          ],
          [
           "T34_1000_ref",
           "POLES ENGAGE"
          ],
          [
           "T34_1000_ref",
           "POLES ENGAGE"
          ],
          [
           "T34_1000_ref",
           "POLES ENGAGE"
          ],
          [
           "T34_1000_ref",
           "POLES ENGAGE"
          ],
          [
           "T34_1000_ref",
           "POLES ENGAGE"
          ],
          [
           "T34_1000_ref",
           "POLES ENGAGE"
          ],
          [
           "T34_1000_ref",
           "POLES ENGAGE"
          ]
         ],
         "hovertemplate": "region=China<br>model=%{customdata[1]}<br>scenario_narrative=Cost Effective<br>year=%{x}<br>Emissions|CO2=%{y}<br>scenario=%{customdata[0]}<extra></extra>",
         "legendgroup": "China, POLES ENGAGE",
         "line": {
          "color": "#636efa",
          "dash": "dash"
         },
         "marker": {
          "symbol": "circle"
         },
         "mode": "lines",
         "name": "China, POLES ENGAGE",
         "showlegend": false,
         "type": "scattergl",
         "x": [
          2100,
          2090,
          2080,
          2070,
          2060,
          2050,
          2045,
          2040,
          2035,
          2030,
          2025,
          2020,
          2015,
          2010,
          2005
         ],
         "xaxis": "x3",
         "y": [
          323.8664855957031,
          514.9029541015625,
          766.1712036132812,
          1621.84765625,
          2187.642333984375,
          3405.5087890625,
          5028.943359375,
          6045.7900390625,
          7755.97900390625,
          10010.4619140625,
          11733.2216796875,
          12279.3984375,
          10758.4365234375,
          9310.8505859375,
          6354.8251953125
         ],
         "yaxis": "y3"
        },
        {
         "customdata": [
          [
           "T34_1000_bitb_em",
           "MESSAGEix-GLOBIOM_1.1"
          ],
          [
           "T34_1000_bitb_em",
           "MESSAGEix-GLOBIOM_1.1"
          ],
          [
           "T34_1000_bitb_em",
           "MESSAGEix-GLOBIOM_1.1"
          ],
          [
           "T34_1000_bitb_em",
           "MESSAGEix-GLOBIOM_1.1"
          ],
          [
           "T34_1000_bitb_em",
           "MESSAGEix-GLOBIOM_1.1"
          ],
          [
           "T34_1000_bitb_em",
           "MESSAGEix-GLOBIOM_1.1"
          ],
          [
           "T34_1000_bitb_em",
           "MESSAGEix-GLOBIOM_1.1"
          ],
          [
           "T34_1000_bitb_em",
           "MESSAGEix-GLOBIOM_1.1"
          ],
          [
           "T34_1000_bitb_em",
           "MESSAGEix-GLOBIOM_1.1"
          ],
          [
           "T34_1000_bitb_em",
           "MESSAGEix-GLOBIOM_1.1"
          ],
          [
           "T34_1000_bitb_em",
           "MESSAGEix-GLOBIOM_1.1"
          ],
          [
           "T34_1000_bitb_em",
           "MESSAGEix-GLOBIOM_1.1"
          ],
          [
           "T34_1000_bitb_em",
           "MESSAGEix-GLOBIOM_1.1"
          ],
          [
           "T34_1000_bitb_em",
           "MESSAGEix-GLOBIOM_1.1"
          ],
          [
           "T34_1000_bitb_em",
           "MESSAGEix-GLOBIOM_1.1"
          ],
          [
           "T34_1000_bitb_em",
           "MESSAGEix-GLOBIOM_1.1"
          ],
          [
           "T34_1000_bitb_em",
           "MESSAGEix-GLOBIOM_1.1"
          ],
          [
           "T34_1000_bitb_em",
           "MESSAGEix-GLOBIOM_1.1"
          ],
          [
           "T34_1000_bitb_em",
           "MESSAGEix-GLOBIOM_1.1"
          ],
          [
           "T34_1000_bitb_em",
           "MESSAGEix-GLOBIOM_1.1"
          ]
         ],
         "hovertemplate": "region=China<br>model=%{customdata[1]}<br>scenario_narrative=Tech+Inst<br>year=%{x}<br>Emissions|CO2=%{y}<br>scenario=%{customdata[0]}<extra></extra>",
         "legendgroup": "China, MESSAGEix-GLOBIOM_1.1",
         "line": {
          "color": "#636efa",
          "dash": "longdash"
         },
         "marker": {
          "symbol": "circle"
         },
         "mode": "lines",
         "name": "China, MESSAGEix-GLOBIOM_1.1",
         "showlegend": true,
         "type": "scattergl",
         "x": [
          2110,
          2100,
          2090,
          2080,
          2070,
          2060,
          2055,
          2050,
          2045,
          2040,
          2035,
          2030,
          2025,
          2020,
          2015,
          2010,
          2005,
          2000,
          1995,
          1990
         ],
         "xaxis": "x4",
         "y": [
          -606.4237294167117,
          -499.139083216948,
          -505.3125473499361,
          -573.0073941604487,
          -593.1810148094054,
          68.29999968547577,
          555.295216341895,
          1650.751694337332,
          2830.377906631296,
          5812.834656425212,
          7504.337339224998,
          9688.057746135692,
          11186.80558099937,
          11457.31940031934,
          10783.74569928228,
          8316.262167546873,
          5965.917456450522,
          3657.060540755208,
          3154.404718001302,
          2661.779636621094
         ],
         "yaxis": "y4"
        },
        {
         "customdata": [
          [
           "T34_1000_bitb_ref",
           "MESSAGEix-GLOBIOM_1.1"
          ],
          [
           "T34_1000_bitb_ref",
           "MESSAGEix-GLOBIOM_1.1"
          ],
          [
           "T34_1000_bitb_ref",
           "MESSAGEix-GLOBIOM_1.1"
          ],
          [
           "T34_1000_bitb_ref",
           "MESSAGEix-GLOBIOM_1.1"
          ],
          [
           "T34_1000_bitb_ref",
           "MESSAGEix-GLOBIOM_1.1"
          ],
          [
           "T34_1000_bitb_ref",
           "MESSAGEix-GLOBIOM_1.1"
          ],
          [
           "T34_1000_bitb_ref",
           "MESSAGEix-GLOBIOM_1.1"
          ],
          [
           "T34_1000_bitb_ref",
           "MESSAGEix-GLOBIOM_1.1"
          ],
          [
           "T34_1000_bitb_ref",
           "MESSAGEix-GLOBIOM_1.1"
          ],
          [
           "T34_1000_bitb_ref",
           "MESSAGEix-GLOBIOM_1.1"
          ],
          [
           "T34_1000_bitb_ref",
           "MESSAGEix-GLOBIOM_1.1"
          ],
          [
           "T34_1000_bitb_ref",
           "MESSAGEix-GLOBIOM_1.1"
          ],
          [
           "T34_1000_bitb_ref",
           "MESSAGEix-GLOBIOM_1.1"
          ],
          [
           "T34_1000_bitb_ref",
           "MESSAGEix-GLOBIOM_1.1"
          ],
          [
           "T34_1000_bitb_ref",
           "MESSAGEix-GLOBIOM_1.1"
          ],
          [
           "T34_1000_bitb_ref",
           "MESSAGEix-GLOBIOM_1.1"
          ],
          [
           "T34_1000_bitb_ref",
           "MESSAGEix-GLOBIOM_1.1"
          ],
          [
           "T34_1000_bitb_ref",
           "MESSAGEix-GLOBIOM_1.1"
          ],
          [
           "T34_1000_bitb_ref",
           "MESSAGEix-GLOBIOM_1.1"
          ],
          [
           "T34_1000_bitb_ref",
           "MESSAGEix-GLOBIOM_1.1"
          ]
         ],
         "hovertemplate": "region=China<br>model=%{customdata[1]}<br>scenario_narrative=Tech<br>year=%{x}<br>Emissions|CO2=%{y}<br>scenario=%{customdata[0]}<extra></extra>",
         "legendgroup": "China, MESSAGEix-GLOBIOM_1.1",
         "line": {
          "color": "#636efa",
          "dash": "longdash"
         },
         "marker": {
          "symbol": "circle"
         },
         "mode": "lines",
         "name": "China, MESSAGEix-GLOBIOM_1.1",
         "showlegend": false,
         "type": "scattergl",
         "x": [
          2110,
          2100,
          2090,
          2080,
          2070,
          2060,
          2055,
          2050,
          2045,
          2040,
          2035,
          2030,
          2025,
          2020,
          2015,
          2010,
          2005,
          2000,
          1995,
          1990
         ],
         "xaxis": "x5",
         "y": [
          301.8089546053596,
          386.4389444768671,
          424.7222321415856,
          395.3588847306555,
          545.4873186166917,
          1574.54286239321,
          2015.67040068188,
          2682.029320005917,
          3581.094519600575,
          4747.410363090552,
          6139.627994100335,
          7366.571761912481,
          11186.80558099937,
          11457.31940031934,
          10783.74569928228,
          8316.262167546873,
          5965.917456450522,
          3657.060540755208,
          3154.404718001302,
          2661.779636621094
         ],
         "yaxis": "y5"
        },
        {
         "customdata": [
          [
           "T34_1000_enab_em",
           "MESSAGEix-GLOBIOM_1.1"
          ],
          [
           "T34_1000_enab_em",
           "MESSAGEix-GLOBIOM_1.1"
          ],
          [
           "T34_1000_enab_em",
           "MESSAGEix-GLOBIOM_1.1"
          ],
          [
           "T34_1000_enab_em",
           "MESSAGEix-GLOBIOM_1.1"
          ],
          [
           "T34_1000_enab_em",
           "MESSAGEix-GLOBIOM_1.1"
          ],
          [
           "T34_1000_enab_em",
           "MESSAGEix-GLOBIOM_1.1"
          ],
          [
           "T34_1000_enab_em",
           "MESSAGEix-GLOBIOM_1.1"
          ],
          [
           "T34_1000_enab_em",
           "MESSAGEix-GLOBIOM_1.1"
          ],
          [
           "T34_1000_enab_em",
           "MESSAGEix-GLOBIOM_1.1"
          ],
          [
           "T34_1000_enab_em",
           "MESSAGEix-GLOBIOM_1.1"
          ],
          [
           "T34_1000_enab_em",
           "MESSAGEix-GLOBIOM_1.1"
          ],
          [
           "T34_1000_enab_em",
           "MESSAGEix-GLOBIOM_1.1"
          ],
          [
           "T34_1000_enab_em",
           "MESSAGEix-GLOBIOM_1.1"
          ],
          [
           "T34_1000_enab_em",
           "MESSAGEix-GLOBIOM_1.1"
          ],
          [
           "T34_1000_enab_em",
           "MESSAGEix-GLOBIOM_1.1"
          ],
          [
           "T34_1000_enab_em",
           "MESSAGEix-GLOBIOM_1.1"
          ],
          [
           "T34_1000_enab_em",
           "MESSAGEix-GLOBIOM_1.1"
          ],
          [
           "T34_1000_enab_em",
           "MESSAGEix-GLOBIOM_1.1"
          ],
          [
           "T34_1000_enab_em",
           "MESSAGEix-GLOBIOM_1.1"
          ],
          [
           "T34_1000_enab_em",
           "MESSAGEix-GLOBIOM_1.1"
          ]
         ],
         "hovertemplate": "region=China<br>model=%{customdata[1]}<br>scenario_narrative=Inst+Enab<br>year=%{x}<br>Emissions|CO2=%{y}<br>scenario=%{customdata[0]}<extra></extra>",
         "legendgroup": "China, MESSAGEix-GLOBIOM_1.1",
         "line": {
          "color": "#636efa",
          "dash": "longdash"
         },
         "marker": {
          "symbol": "circle"
         },
         "mode": "lines",
         "name": "China, MESSAGEix-GLOBIOM_1.1",
         "showlegend": false,
         "type": "scattergl",
         "x": [
          2110,
          2100,
          2090,
          2080,
          2070,
          2060,
          2055,
          2050,
          2045,
          2040,
          2035,
          2030,
          2025,
          2020,
          2015,
          2010,
          2005,
          2000,
          1995,
          1990
         ],
         "xaxis": "x6",
         "y": [
          -1446.830131336892,
          -1447.03739722457,
          -1348.666825312512,
          -1045.395590652371,
          -839.2557267017722,
          -9.699474442543249,
          495.1089174425209,
          1590.190701888458,
          2779.490384953397,
          5812.834656425212,
          7504.337285723259,
          9688.057768757599,
          11186.80558099937,
          11457.31940031934,
          10783.74569928228,
          8316.262167546873,
          5965.917456450522,
          3657.060540755208,
          3154.404718001302,
          2661.779636621094
         ],
         "yaxis": "y6"
        },
        {
         "customdata": [
          [
           "T34_1000_feas_em",
           "MESSAGEix-GLOBIOM_1.1"
          ],
          [
           "T34_1000_feas_em",
           "MESSAGEix-GLOBIOM_1.1"
          ],
          [
           "T34_1000_feas_em",
           "MESSAGEix-GLOBIOM_1.1"
          ],
          [
           "T34_1000_feas_em",
           "MESSAGEix-GLOBIOM_1.1"
          ],
          [
           "T34_1000_feas_em",
           "MESSAGEix-GLOBIOM_1.1"
          ],
          [
           "T34_1000_feas_em",
           "MESSAGEix-GLOBIOM_1.1"
          ],
          [
           "T34_1000_feas_em",
           "MESSAGEix-GLOBIOM_1.1"
          ],
          [
           "T34_1000_feas_em",
           "MESSAGEix-GLOBIOM_1.1"
          ],
          [
           "T34_1000_feas_em",
           "MESSAGEix-GLOBIOM_1.1"
          ],
          [
           "T34_1000_feas_em",
           "MESSAGEix-GLOBIOM_1.1"
          ],
          [
           "T34_1000_feas_em",
           "MESSAGEix-GLOBIOM_1.1"
          ],
          [
           "T34_1000_feas_em",
           "MESSAGEix-GLOBIOM_1.1"
          ],
          [
           "T34_1000_feas_em",
           "MESSAGEix-GLOBIOM_1.1"
          ],
          [
           "T34_1000_feas_em",
           "MESSAGEix-GLOBIOM_1.1"
          ],
          [
           "T34_1000_feas_em",
           "MESSAGEix-GLOBIOM_1.1"
          ],
          [
           "T34_1000_feas_em",
           "MESSAGEix-GLOBIOM_1.1"
          ],
          [
           "T34_1000_feas_em",
           "MESSAGEix-GLOBIOM_1.1"
          ],
          [
           "T34_1000_feas_em",
           "MESSAGEix-GLOBIOM_1.1"
          ],
          [
           "T34_1000_feas_em",
           "MESSAGEix-GLOBIOM_1.1"
          ],
          [
           "T34_1000_feas_em",
           "MESSAGEix-GLOBIOM_1.1"
          ]
         ],
         "hovertemplate": "region=China<br>model=%{customdata[1]}<br>scenario_narrative=Tech+Inst+Enab<br>year=%{x}<br>Emissions|CO2=%{y}<br>scenario=%{customdata[0]}<extra></extra>",
         "legendgroup": "China, MESSAGEix-GLOBIOM_1.1",
         "line": {
          "color": "#636efa",
          "dash": "longdash"
         },
         "marker": {
          "symbol": "circle"
         },
         "mode": "lines",
         "name": "China, MESSAGEix-GLOBIOM_1.1",
         "showlegend": false,
         "type": "scattergl",
         "x": [
          2110,
          2100,
          2090,
          2080,
          2070,
          2060,
          2055,
          2050,
          2045,
          2040,
          2035,
          2030,
          2025,
          2020,
          2015,
          2010,
          2005,
          2000,
          1995,
          1990
         ],
         "xaxis": "x",
         "y": [
          -1437.283665307272,
          -1427.994453314271,
          -1290.807747948961,
          -999.9688662939839,
          -834.2164441088671,
          -13.43766566336899,
          502.7130995183945,
          1543.466607456188,
          2748.347326013469,
          5812.834656425213,
          7504.337285723257,
          9688.0577687576,
          11186.80558099937,
          11457.31940031934,
          10783.74569928228,
          8316.262167546873,
          5965.917456450522,
          3657.060540755208,
          3154.404718001302,
          2661.779636621094
         ],
         "yaxis": "y"
        },
        {
         "customdata": [
          [
           "T34_1000_govem",
           "MESSAGEix-GLOBIOM_1.1"
          ],
          [
           "T34_1000_govem",
           "MESSAGEix-GLOBIOM_1.1"
          ],
          [
           "T34_1000_govem",
           "MESSAGEix-GLOBIOM_1.1"
          ],
          [
           "T34_1000_govem",
           "MESSAGEix-GLOBIOM_1.1"
          ],
          [
           "T34_1000_govem",
           "MESSAGEix-GLOBIOM_1.1"
          ],
          [
           "T34_1000_govem",
           "MESSAGEix-GLOBIOM_1.1"
          ],
          [
           "T34_1000_govem",
           "MESSAGEix-GLOBIOM_1.1"
          ],
          [
           "T34_1000_govem",
           "MESSAGEix-GLOBIOM_1.1"
          ],
          [
           "T34_1000_govem",
           "MESSAGEix-GLOBIOM_1.1"
          ],
          [
           "T34_1000_govem",
           "MESSAGEix-GLOBIOM_1.1"
          ],
          [
           "T34_1000_govem",
           "MESSAGEix-GLOBIOM_1.1"
          ],
          [
           "T34_1000_govem",
           "MESSAGEix-GLOBIOM_1.1"
          ],
          [
           "T34_1000_govem",
           "MESSAGEix-GLOBIOM_1.1"
          ],
          [
           "T34_1000_govem",
           "MESSAGEix-GLOBIOM_1.1"
          ],
          [
           "T34_1000_govem",
           "MESSAGEix-GLOBIOM_1.1"
          ],
          [
           "T34_1000_govem",
           "MESSAGEix-GLOBIOM_1.1"
          ],
          [
           "T34_1000_govem",
           "MESSAGEix-GLOBIOM_1.1"
          ],
          [
           "T34_1000_govem",
           "MESSAGEix-GLOBIOM_1.1"
          ],
          [
           "T34_1000_govem",
           "MESSAGEix-GLOBIOM_1.1"
          ],
          [
           "T34_1000_govem",
           "MESSAGEix-GLOBIOM_1.1"
          ]
         ],
         "hovertemplate": "region=China<br>model=%{customdata[1]}<br>scenario_narrative=Instit<br>year=%{x}<br>Emissions|CO2=%{y}<br>scenario=%{customdata[0]}<extra></extra>",
         "legendgroup": "China, MESSAGEix-GLOBIOM_1.1",
         "line": {
          "color": "#636efa",
          "dash": "longdash"
         },
         "marker": {
          "symbol": "circle"
         },
         "mode": "lines",
         "name": "China, MESSAGEix-GLOBIOM_1.1",
         "showlegend": false,
         "type": "scattergl",
         "x": [
          2110,
          2100,
          2090,
          2080,
          2070,
          2060,
          2055,
          2050,
          2045,
          2040,
          2035,
          2030,
          2025,
          2020,
          2015,
          2010,
          2005,
          2000,
          1995,
          1990
         ],
         "xaxis": "x2",
         "y": [
          -931.2752573624804,
          -774.7549036964923,
          -704.0312023317815,
          -619.000398157898,
          -463.7375990855028,
          328.3304036589669,
          733.1934803353972,
          1797.6363060026,
          2979.161130646363,
          5812.834688029212,
          7504.337350894595,
          9688.057723513788,
          11186.80558099937,
          11457.31940031934,
          10783.74569928228,
          8316.262167546873,
          5965.917456450522,
          3657.060540755208,
          3154.404718001302,
          2661.779636621094
         ],
         "yaxis": "y2"
        },
        {
         "customdata": [
          [
           "T34_1000_ref",
           "MESSAGEix-GLOBIOM_1.1"
          ],
          [
           "T34_1000_ref",
           "MESSAGEix-GLOBIOM_1.1"
          ],
          [
           "T34_1000_ref",
           "MESSAGEix-GLOBIOM_1.1"
          ],
          [
           "T34_1000_ref",
           "MESSAGEix-GLOBIOM_1.1"
          ],
          [
           "T34_1000_ref",
           "MESSAGEix-GLOBIOM_1.1"
          ],
          [
           "T34_1000_ref",
           "MESSAGEix-GLOBIOM_1.1"
          ],
          [
           "T34_1000_ref",
           "MESSAGEix-GLOBIOM_1.1"
          ],
          [
           "T34_1000_ref",
           "MESSAGEix-GLOBIOM_1.1"
          ],
          [
           "T34_1000_ref",
           "MESSAGEix-GLOBIOM_1.1"
          ],
          [
           "T34_1000_ref",
           "MESSAGEix-GLOBIOM_1.1"
          ],
          [
           "T34_1000_ref",
           "MESSAGEix-GLOBIOM_1.1"
          ],
          [
           "T34_1000_ref",
           "MESSAGEix-GLOBIOM_1.1"
          ],
          [
           "T34_1000_ref",
           "MESSAGEix-GLOBIOM_1.1"
          ],
          [
           "T34_1000_ref",
           "MESSAGEix-GLOBIOM_1.1"
          ],
          [
           "T34_1000_ref",
           "MESSAGEix-GLOBIOM_1.1"
          ],
          [
           "T34_1000_ref",
           "MESSAGEix-GLOBIOM_1.1"
          ],
          [
           "T34_1000_ref",
           "MESSAGEix-GLOBIOM_1.1"
          ],
          [
           "T34_1000_ref",
           "MESSAGEix-GLOBIOM_1.1"
          ],
          [
           "T34_1000_ref",
           "MESSAGEix-GLOBIOM_1.1"
          ],
          [
           "T34_1000_ref",
           "MESSAGEix-GLOBIOM_1.1"
          ]
         ],
         "hovertemplate": "region=China<br>model=%{customdata[1]}<br>scenario_narrative=Cost Effective<br>year=%{x}<br>Emissions|CO2=%{y}<br>scenario=%{customdata[0]}<extra></extra>",
         "legendgroup": "China, MESSAGEix-GLOBIOM_1.1",
         "line": {
          "color": "#636efa",
          "dash": "longdash"
         },
         "marker": {
          "symbol": "circle"
         },
         "mode": "lines",
         "name": "China, MESSAGEix-GLOBIOM_1.1",
         "showlegend": false,
         "type": "scattergl",
         "x": [
          2110,
          2100,
          2090,
          2080,
          2070,
          2060,
          2055,
          2050,
          2045,
          2040,
          2035,
          2030,
          2025,
          2020,
          2015,
          2010,
          2005,
          2000,
          1995,
          1990
         ],
         "xaxis": "x3",
         "y": [
          460.3780313907317,
          535.1218467921051,
          589.7379322004814,
          355.0134435241428,
          355.4939541584847,
          1424.019333961106,
          1954.390263452406,
          2682.918321206843,
          3632.505751588972,
          4814.21704394065,
          6250.970969239322,
          7375.704169409599,
          11186.80558099937,
          11457.31940031934,
          10783.74569928228,
          8316.262167546873,
          5965.917456450522,
          3657.060540755208,
          3154.404718001302,
          2661.779636621094
         ],
         "yaxis": "y3"
        },
        {
         "customdata": [
          [
           "T34_1000_bitb_em",
           "IMAGE 3.2"
          ],
          [
           "T34_1000_bitb_em",
           "IMAGE 3.2"
          ],
          [
           "T34_1000_bitb_em",
           "IMAGE 3.2"
          ],
          [
           "T34_1000_bitb_em",
           "IMAGE 3.2"
          ],
          [
           "T34_1000_bitb_em",
           "IMAGE 3.2"
          ],
          [
           "T34_1000_bitb_em",
           "IMAGE 3.2"
          ],
          [
           "T34_1000_bitb_em",
           "IMAGE 3.2"
          ],
          [
           "T34_1000_bitb_em",
           "IMAGE 3.2"
          ],
          [
           "T34_1000_bitb_em",
           "IMAGE 3.2"
          ],
          [
           "T34_1000_bitb_em",
           "IMAGE 3.2"
          ],
          [
           "T34_1000_bitb_em",
           "IMAGE 3.2"
          ],
          [
           "T34_1000_bitb_em",
           "IMAGE 3.2"
          ],
          [
           "T34_1000_bitb_em",
           "IMAGE 3.2"
          ],
          [
           "T34_1000_bitb_em",
           "IMAGE 3.2"
          ],
          [
           "T34_1000_bitb_em",
           "IMAGE 3.2"
          ],
          [
           "T34_1000_bitb_em",
           "IMAGE 3.2"
          ],
          [
           "T34_1000_bitb_em",
           "IMAGE 3.2"
          ],
          [
           "T34_1000_bitb_em",
           "IMAGE 3.2"
          ],
          [
           "T34_1000_bitb_em",
           "IMAGE 3.2"
          ],
          [
           "T34_1000_bitb_em",
           "IMAGE 3.2"
          ]
         ],
         "hovertemplate": "region=China<br>model=%{customdata[1]}<br>scenario_narrative=Tech+Inst<br>year=%{x}<br>Emissions|CO2=%{y}<br>scenario=%{customdata[0]}<extra></extra>",
         "legendgroup": "China, IMAGE 3.2",
         "line": {
          "color": "#636efa",
          "dash": "dashdot"
         },
         "marker": {
          "symbol": "circle"
         },
         "mode": "lines",
         "name": "China, IMAGE 3.2",
         "showlegend": true,
         "type": "scattergl",
         "x": [
          2100,
          2095,
          2090,
          2085,
          2080,
          2075,
          2070,
          2065,
          2060,
          2055,
          2050,
          2045,
          2040,
          2035,
          2030,
          2025,
          2020,
          2015,
          2010,
          2005
         ],
         "xaxis": "x4",
         "y": [
          -76.45660337507397,
          -154.73770015851693,
          -65.19124476707556,
          18.88146639041889,
          353.62419640259037,
          473.464543703524,
          748.4011536324896,
          833.1557821395435,
          1111.4792583204446,
          1203.8058981400359,
          1975.9161785650454,
          2811.67806015144,
          4108.448527391724,
          5607.678792827497,
          8217.054606866797,
          10435.370036755961,
          12373.731527817592,
          10755.070069337109,
          9131.609538590563,
          6377.040975514627
         ],
         "yaxis": "y4"
        },
        {
         "customdata": [
          [
           "T34_1000_bitb_ref",
           "IMAGE 3.2"
          ],
          [
           "T34_1000_bitb_ref",
           "IMAGE 3.2"
          ],
          [
           "T34_1000_bitb_ref",
           "IMAGE 3.2"
          ],
          [
           "T34_1000_bitb_ref",
           "IMAGE 3.2"
          ],
          [
           "T34_1000_bitb_ref",
           "IMAGE 3.2"
          ],
          [
           "T34_1000_bitb_ref",
           "IMAGE 3.2"
          ],
          [
           "T34_1000_bitb_ref",
           "IMAGE 3.2"
          ],
          [
           "T34_1000_bitb_ref",
           "IMAGE 3.2"
          ],
          [
           "T34_1000_bitb_ref",
           "IMAGE 3.2"
          ],
          [
           "T34_1000_bitb_ref",
           "IMAGE 3.2"
          ],
          [
           "T34_1000_bitb_ref",
           "IMAGE 3.2"
          ],
          [
           "T34_1000_bitb_ref",
           "IMAGE 3.2"
          ],
          [
           "T34_1000_bitb_ref",
           "IMAGE 3.2"
          ],
          [
           "T34_1000_bitb_ref",
           "IMAGE 3.2"
          ],
          [
           "T34_1000_bitb_ref",
           "IMAGE 3.2"
          ],
          [
           "T34_1000_bitb_ref",
           "IMAGE 3.2"
          ],
          [
           "T34_1000_bitb_ref",
           "IMAGE 3.2"
          ],
          [
           "T34_1000_bitb_ref",
           "IMAGE 3.2"
          ],
          [
           "T34_1000_bitb_ref",
           "IMAGE 3.2"
          ],
          [
           "T34_1000_bitb_ref",
           "IMAGE 3.2"
          ]
         ],
         "hovertemplate": "region=China<br>model=%{customdata[1]}<br>scenario_narrative=Tech<br>year=%{x}<br>Emissions|CO2=%{y}<br>scenario=%{customdata[0]}<extra></extra>",
         "legendgroup": "China, IMAGE 3.2",
         "line": {
          "color": "#636efa",
          "dash": "dashdot"
         },
         "marker": {
          "symbol": "circle"
         },
         "mode": "lines",
         "name": "China, IMAGE 3.2",
         "showlegend": false,
         "type": "scattergl",
         "x": [
          2100,
          2095,
          2090,
          2085,
          2080,
          2075,
          2070,
          2065,
          2060,
          2055,
          2050,
          2045,
          2040,
          2035,
          2030,
          2025,
          2020,
          2015,
          2010,
          2005
         ],
         "xaxis": "x5",
         "y": [
          176.69871776915596,
          117.0099347538827,
          152.20743943644445,
          268.3462219482232,
          573.9987183139004,
          583.1045125855616,
          945.6743775273766,
          1062.8534038238365,
          1186.1816610778867,
          1403.9402365371361,
          2182.565429885915,
          2887.1047772806933,
          4093.9837243305137,
          5559.326864112164,
          8168.390707122789,
          10464.817058243014,
          12373.731527817592,
          10755.070069337109,
          9131.609538590563,
          6377.040975514627
         ],
         "yaxis": "y5"
        },
        {
         "customdata": [
          [
           "T34_1000_feas_em",
           "IMAGE 3.2"
          ],
          [
           "T34_1000_feas_em",
           "IMAGE 3.2"
          ],
          [
           "T34_1000_feas_em",
           "IMAGE 3.2"
          ],
          [
           "T34_1000_feas_em",
           "IMAGE 3.2"
          ],
          [
           "T34_1000_feas_em",
           "IMAGE 3.2"
          ],
          [
           "T34_1000_feas_em",
           "IMAGE 3.2"
          ],
          [
           "T34_1000_feas_em",
           "IMAGE 3.2"
          ],
          [
           "T34_1000_feas_em",
           "IMAGE 3.2"
          ],
          [
           "T34_1000_feas_em",
           "IMAGE 3.2"
          ],
          [
           "T34_1000_feas_em",
           "IMAGE 3.2"
          ],
          [
           "T34_1000_feas_em",
           "IMAGE 3.2"
          ],
          [
           "T34_1000_feas_em",
           "IMAGE 3.2"
          ],
          [
           "T34_1000_feas_em",
           "IMAGE 3.2"
          ],
          [
           "T34_1000_feas_em",
           "IMAGE 3.2"
          ],
          [
           "T34_1000_feas_em",
           "IMAGE 3.2"
          ],
          [
           "T34_1000_feas_em",
           "IMAGE 3.2"
          ],
          [
           "T34_1000_feas_em",
           "IMAGE 3.2"
          ],
          [
           "T34_1000_feas_em",
           "IMAGE 3.2"
          ],
          [
           "T34_1000_feas_em",
           "IMAGE 3.2"
          ],
          [
           "T34_1000_feas_em",
           "IMAGE 3.2"
          ]
         ],
         "hovertemplate": "region=China<br>model=%{customdata[1]}<br>scenario_narrative=Tech+Inst+Enab<br>year=%{x}<br>Emissions|CO2=%{y}<br>scenario=%{customdata[0]}<extra></extra>",
         "legendgroup": "China, IMAGE 3.2",
         "line": {
          "color": "#636efa",
          "dash": "dashdot"
         },
         "marker": {
          "symbol": "circle"
         },
         "mode": "lines",
         "name": "China, IMAGE 3.2",
         "showlegend": false,
         "type": "scattergl",
         "x": [
          2100,
          2095,
          2090,
          2085,
          2080,
          2075,
          2070,
          2065,
          2060,
          2055,
          2050,
          2045,
          2040,
          2035,
          2030,
          2025,
          2020,
          2015,
          2010,
          2005
         ],
         "xaxis": "x",
         "y": [
          -96.1188418157856,
          -228.0114059655525,
          -256.37391410615174,
          -429.92217767173355,
          -410.4782028571404,
          -522.7654775458965,
          -179.48784003300003,
          -158.01389949963507,
          39.87731139227674,
          469.983459515382,
          1398.841725794485,
          2580.3582562567135,
          6140.412516834261,
          8569.374186976951,
          10083.721843364618,
          11207.112061565704,
          12112.063477663596,
          10752.961915040041,
          9131.331136897828,
          6377.040975514627
         ],
         "yaxis": "y"
        },
        {
         "customdata": [
          [
           "T34_1000_govem",
           "IMAGE 3.2"
          ],
          [
           "T34_1000_govem",
           "IMAGE 3.2"
          ],
          [
           "T34_1000_govem",
           "IMAGE 3.2"
          ],
          [
           "T34_1000_govem",
           "IMAGE 3.2"
          ],
          [
           "T34_1000_govem",
           "IMAGE 3.2"
          ],
          [
           "T34_1000_govem",
           "IMAGE 3.2"
          ],
          [
           "T34_1000_govem",
           "IMAGE 3.2"
          ],
          [
           "T34_1000_govem",
           "IMAGE 3.2"
          ],
          [
           "T34_1000_govem",
           "IMAGE 3.2"
          ],
          [
           "T34_1000_govem",
           "IMAGE 3.2"
          ],
          [
           "T34_1000_govem",
           "IMAGE 3.2"
          ],
          [
           "T34_1000_govem",
           "IMAGE 3.2"
          ],
          [
           "T34_1000_govem",
           "IMAGE 3.2"
          ],
          [
           "T34_1000_govem",
           "IMAGE 3.2"
          ],
          [
           "T34_1000_govem",
           "IMAGE 3.2"
          ],
          [
           "T34_1000_govem",
           "IMAGE 3.2"
          ],
          [
           "T34_1000_govem",
           "IMAGE 3.2"
          ],
          [
           "T34_1000_govem",
           "IMAGE 3.2"
          ],
          [
           "T34_1000_govem",
           "IMAGE 3.2"
          ],
          [
           "T34_1000_govem",
           "IMAGE 3.2"
          ]
         ],
         "hovertemplate": "region=China<br>model=%{customdata[1]}<br>scenario_narrative=Instit<br>year=%{x}<br>Emissions|CO2=%{y}<br>scenario=%{customdata[0]}<extra></extra>",
         "legendgroup": "China, IMAGE 3.2",
         "line": {
          "color": "#636efa",
          "dash": "dashdot"
         },
         "marker": {
          "symbol": "circle"
         },
         "mode": "lines",
         "name": "China, IMAGE 3.2",
         "showlegend": false,
         "type": "scattergl",
         "x": [
          2100,
          2095,
          2090,
          2085,
          2080,
          2075,
          2070,
          2065,
          2060,
          2055,
          2050,
          2045,
          2040,
          2035,
          2030,
          2025,
          2020,
          2015,
          2010,
          2005
         ],
         "xaxis": "x2",
         "y": [
          -390.4119924264425,
          -396.53862003116615,
          -238.0466792005143,
          -370.0957463918807,
          -232.38537854081994,
          -78.23236529743592,
          200.54704540804275,
          276.6675008389537,
          502.699239140752,
          696.4738108950215,
          1298.5158489136197,
          2653.430196367523,
          5913.00980685265,
          9388.503581582667,
          11388.339926165512,
          12287.234538877437,
          12373.731527817592,
          10755.070069337109,
          9131.609538590563,
          6377.040975514627
         ],
         "yaxis": "y2"
        },
        {
         "customdata": [
          [
           "T34_1000_ref",
           "IMAGE 3.2"
          ],
          [
           "T34_1000_ref",
           "IMAGE 3.2"
          ],
          [
           "T34_1000_ref",
           "IMAGE 3.2"
          ],
          [
           "T34_1000_ref",
           "IMAGE 3.2"
          ],
          [
           "T34_1000_ref",
           "IMAGE 3.2"
          ],
          [
           "T34_1000_ref",
           "IMAGE 3.2"
          ],
          [
           "T34_1000_ref",
           "IMAGE 3.2"
          ],
          [
           "T34_1000_ref",
           "IMAGE 3.2"
          ],
          [
           "T34_1000_ref",
           "IMAGE 3.2"
          ],
          [
           "T34_1000_ref",
           "IMAGE 3.2"
          ],
          [
           "T34_1000_ref",
           "IMAGE 3.2"
          ],
          [
           "T34_1000_ref",
           "IMAGE 3.2"
          ],
          [
           "T34_1000_ref",
           "IMAGE 3.2"
          ],
          [
           "T34_1000_ref",
           "IMAGE 3.2"
          ],
          [
           "T34_1000_ref",
           "IMAGE 3.2"
          ],
          [
           "T34_1000_ref",
           "IMAGE 3.2"
          ],
          [
           "T34_1000_ref",
           "IMAGE 3.2"
          ],
          [
           "T34_1000_ref",
           "IMAGE 3.2"
          ],
          [
           "T34_1000_ref",
           "IMAGE 3.2"
          ],
          [
           "T34_1000_ref",
           "IMAGE 3.2"
          ]
         ],
         "hovertemplate": "region=China<br>model=%{customdata[1]}<br>scenario_narrative=Cost Effective<br>year=%{x}<br>Emissions|CO2=%{y}<br>scenario=%{customdata[0]}<extra></extra>",
         "legendgroup": "China, IMAGE 3.2",
         "line": {
          "color": "#636efa",
          "dash": "dashdot"
         },
         "marker": {
          "symbol": "circle"
         },
         "mode": "lines",
         "name": "China, IMAGE 3.2",
         "showlegend": false,
         "type": "scattergl",
         "x": [
          2100,
          2095,
          2090,
          2085,
          2080,
          2075,
          2070,
          2065,
          2060,
          2055,
          2050,
          2045,
          2040,
          2035,
          2030,
          2025,
          2020,
          2015,
          2010,
          2005
         ],
         "xaxis": "x3",
         "y": [
          261.1471379835388,
          240.59459179840218,
          292.7517725892765,
          157.6993688090954,
          348.80101016354513,
          403.19471998701215,
          663.6362305290805,
          773.7979228405276,
          903.98954272541,
          930.0624543081839,
          1568.0349834596059,
          3318.382792456619,
          5013.942871549562,
          7368.3756924016225,
          10122.459961857723,
          12185.734294727585,
          12373.731527817592,
          10755.070069337109,
          9131.609538590563,
          6377.040975514627
         ],
         "yaxis": "y3"
        },
        {
         "customdata": [
          [
           "T34_1000_bitb_em",
           "GEM-E3_V2023"
          ],
          [
           "T34_1000_bitb_em",
           "GEM-E3_V2023"
          ],
          [
           "T34_1000_bitb_em",
           "GEM-E3_V2023"
          ],
          [
           "T34_1000_bitb_em",
           "GEM-E3_V2023"
          ],
          [
           "T34_1000_bitb_em",
           "GEM-E3_V2023"
          ],
          [
           "T34_1000_bitb_em",
           "GEM-E3_V2023"
          ],
          [
           "T34_1000_bitb_em",
           "GEM-E3_V2023"
          ],
          [
           "T34_1000_bitb_em",
           "GEM-E3_V2023"
          ],
          [
           "T34_1000_bitb_em",
           "GEM-E3_V2023"
          ],
          [
           "T34_1000_bitb_em",
           "GEM-E3_V2023"
          ],
          [
           "T34_1000_bitb_em",
           "GEM-E3_V2023"
          ],
          [
           "T34_1000_bitb_em",
           "GEM-E3_V2023"
          ],
          [
           "T34_1000_bitb_em",
           "GEM-E3_V2023"
          ],
          [
           "T34_1000_bitb_em",
           "GEM-E3_V2023"
          ],
          [
           "T34_1000_bitb_em",
           "GEM-E3_V2023"
          ],
          [
           "T34_1000_bitb_em",
           "GEM-E3_V2023"
          ],
          [
           "T34_1000_bitb_em",
           "GEM-E3_V2023"
          ],
          [
           "T34_1000_bitb_em",
           "GEM-E3_V2023"
          ]
         ],
         "hovertemplate": "region=China<br>model=%{customdata[1]}<br>scenario_narrative=Tech+Inst<br>year=%{x}<br>Emissions|CO2=%{y}<br>scenario=%{customdata[0]}<extra></extra>",
         "legendgroup": "China, GEM-E3_V2023",
         "line": {
          "color": "#636efa",
          "dash": "longdashdot"
         },
         "marker": {
          "symbol": "circle"
         },
         "mode": "lines",
         "name": "China, GEM-E3_V2023",
         "showlegend": true,
         "type": "scattergl",
         "x": [
          2100,
          2095,
          2090,
          2085,
          2080,
          2075,
          2070,
          2065,
          2060,
          2055,
          2050,
          2045,
          2040,
          2035,
          2030,
          2025,
          2020,
          2015
         ],
         "xaxis": "x4",
         "y": [
          250.02389794538914,
          94.75665212555543,
          6.341238212160249,
          -54.32707379089021,
          -336.323086216965,
          -676.7354748439906,
          -712.1996419005878,
          -461.6857805348771,
          -250.77035312288308,
          31.378628368648492,
          741.7514039333252,
          2481.7245753932093,
          4279.323734269941,
          6025.882140821097,
          7660.769080637464,
          9618.386968398629,
          10026.387085356802,
          9897.620690668353
         ],
         "yaxis": "y4"
        },
        {
         "customdata": [
          [
           "T34_1000_feas_em",
           "GEM-E3_V2023"
          ],
          [
           "T34_1000_feas_em",
           "GEM-E3_V2023"
          ],
          [
           "T34_1000_feas_em",
           "GEM-E3_V2023"
          ],
          [
           "T34_1000_feas_em",
           "GEM-E3_V2023"
          ],
          [
           "T34_1000_feas_em",
           "GEM-E3_V2023"
          ],
          [
           "T34_1000_feas_em",
           "GEM-E3_V2023"
          ],
          [
           "T34_1000_feas_em",
           "GEM-E3_V2023"
          ],
          [
           "T34_1000_feas_em",
           "GEM-E3_V2023"
          ],
          [
           "T34_1000_feas_em",
           "GEM-E3_V2023"
          ],
          [
           "T34_1000_feas_em",
           "GEM-E3_V2023"
          ],
          [
           "T34_1000_feas_em",
           "GEM-E3_V2023"
          ],
          [
           "T34_1000_feas_em",
           "GEM-E3_V2023"
          ],
          [
           "T34_1000_feas_em",
           "GEM-E3_V2023"
          ],
          [
           "T34_1000_feas_em",
           "GEM-E3_V2023"
          ],
          [
           "T34_1000_feas_em",
           "GEM-E3_V2023"
          ],
          [
           "T34_1000_feas_em",
           "GEM-E3_V2023"
          ],
          [
           "T34_1000_feas_em",
           "GEM-E3_V2023"
          ],
          [
           "T34_1000_feas_em",
           "GEM-E3_V2023"
          ]
         ],
         "hovertemplate": "region=China<br>model=%{customdata[1]}<br>scenario_narrative=Tech+Inst+Enab<br>year=%{x}<br>Emissions|CO2=%{y}<br>scenario=%{customdata[0]}<extra></extra>",
         "legendgroup": "China, GEM-E3_V2023",
         "line": {
          "color": "#636efa",
          "dash": "longdashdot"
         },
         "marker": {
          "symbol": "circle"
         },
         "mode": "lines",
         "name": "China, GEM-E3_V2023",
         "showlegend": false,
         "type": "scattergl",
         "x": [
          2100,
          2095,
          2090,
          2085,
          2080,
          2075,
          2070,
          2065,
          2060,
          2055,
          2050,
          2045,
          2040,
          2035,
          2030,
          2025,
          2020,
          2015
         ],
         "xaxis": "x",
         "y": [
          191.02314474646033,
          88.6435800183142,
          1.384956725149891,
          -53.179412168211144,
          -356.2390894874825,
          -643.5222840087313,
          -719.4763141441296,
          -465.2985532550066,
          -269.6355842840293,
          -131.46177096871236,
          868.4515238988931,
          2638.406449875573,
          4635.218560247773,
          6593.237794211624,
          7953.938843648899,
          9774.142284709693,
          10026.387085356802,
          9897.620690668353
         ],
         "yaxis": "y"
        },
        {
         "customdata": [
          [
           "T34_1000_govem",
           "GEM-E3_V2023"
          ],
          [
           "T34_1000_govem",
           "GEM-E3_V2023"
          ],
          [
           "T34_1000_govem",
           "GEM-E3_V2023"
          ],
          [
           "T34_1000_govem",
           "GEM-E3_V2023"
          ],
          [
           "T34_1000_govem",
           "GEM-E3_V2023"
          ],
          [
           "T34_1000_govem",
           "GEM-E3_V2023"
          ],
          [
           "T34_1000_govem",
           "GEM-E3_V2023"
          ],
          [
           "T34_1000_govem",
           "GEM-E3_V2023"
          ],
          [
           "T34_1000_govem",
           "GEM-E3_V2023"
          ],
          [
           "T34_1000_govem",
           "GEM-E3_V2023"
          ],
          [
           "T34_1000_govem",
           "GEM-E3_V2023"
          ],
          [
           "T34_1000_govem",
           "GEM-E3_V2023"
          ],
          [
           "T34_1000_govem",
           "GEM-E3_V2023"
          ],
          [
           "T34_1000_govem",
           "GEM-E3_V2023"
          ],
          [
           "T34_1000_govem",
           "GEM-E3_V2023"
          ],
          [
           "T34_1000_govem",
           "GEM-E3_V2023"
          ],
          [
           "T34_1000_govem",
           "GEM-E3_V2023"
          ],
          [
           "T34_1000_govem",
           "GEM-E3_V2023"
          ]
         ],
         "hovertemplate": "region=China<br>model=%{customdata[1]}<br>scenario_narrative=Instit<br>year=%{x}<br>Emissions|CO2=%{y}<br>scenario=%{customdata[0]}<extra></extra>",
         "legendgroup": "China, GEM-E3_V2023",
         "line": {
          "color": "#636efa",
          "dash": "longdashdot"
         },
         "marker": {
          "symbol": "circle"
         },
         "mode": "lines",
         "name": "China, GEM-E3_V2023",
         "showlegend": false,
         "type": "scattergl",
         "x": [
          2100,
          2095,
          2090,
          2085,
          2080,
          2075,
          2070,
          2065,
          2060,
          2055,
          2050,
          2045,
          2040,
          2035,
          2030,
          2025,
          2020,
          2015
         ],
         "xaxis": "x2",
         "y": [
          -109.2310816262218,
          -153.8983942116306,
          -284.7565055431071,
          -355.03752621637364,
          -657.6737981103122,
          -915.9623841057335,
          -786.1576218070518,
          -661.5306681004968,
          -499.2992969604227,
          203.18402792771315,
          1009.2714484515545,
          3161.9323484012884,
          5495.8930767749725,
          8000.960556006591,
          8788.262831213262,
          9977.914994884679,
          10026.387085356802,
          9897.620690668353
         ],
         "yaxis": "y2"
        },
        {
         "customdata": [
          [
           "T34_1000_ref",
           "GEM-E3_V2023"
          ],
          [
           "T34_1000_ref",
           "GEM-E3_V2023"
          ],
          [
           "T34_1000_ref",
           "GEM-E3_V2023"
          ],
          [
           "T34_1000_ref",
           "GEM-E3_V2023"
          ],
          [
           "T34_1000_ref",
           "GEM-E3_V2023"
          ],
          [
           "T34_1000_ref",
           "GEM-E3_V2023"
          ],
          [
           "T34_1000_ref",
           "GEM-E3_V2023"
          ],
          [
           "T34_1000_ref",
           "GEM-E3_V2023"
          ],
          [
           "T34_1000_ref",
           "GEM-E3_V2023"
          ],
          [
           "T34_1000_ref",
           "GEM-E3_V2023"
          ],
          [
           "T34_1000_ref",
           "GEM-E3_V2023"
          ],
          [
           "T34_1000_ref",
           "GEM-E3_V2023"
          ],
          [
           "T34_1000_ref",
           "GEM-E3_V2023"
          ],
          [
           "T34_1000_ref",
           "GEM-E3_V2023"
          ],
          [
           "T34_1000_ref",
           "GEM-E3_V2023"
          ],
          [
           "T34_1000_ref",
           "GEM-E3_V2023"
          ],
          [
           "T34_1000_ref",
           "GEM-E3_V2023"
          ],
          [
           "T34_1000_ref",
           "GEM-E3_V2023"
          ]
         ],
         "hovertemplate": "region=China<br>model=%{customdata[1]}<br>scenario_narrative=Cost Effective<br>year=%{x}<br>Emissions|CO2=%{y}<br>scenario=%{customdata[0]}<extra></extra>",
         "legendgroup": "China, GEM-E3_V2023",
         "line": {
          "color": "#636efa",
          "dash": "longdashdot"
         },
         "marker": {
          "symbol": "circle"
         },
         "mode": "lines",
         "name": "China, GEM-E3_V2023",
         "showlegend": false,
         "type": "scattergl",
         "x": [
          2100,
          2095,
          2090,
          2085,
          2080,
          2075,
          2070,
          2065,
          2060,
          2055,
          2050,
          2045,
          2040,
          2035,
          2030,
          2025,
          2020,
          2015
         ],
         "xaxis": "x3",
         "y": [
          220.37017785830324,
          242.7793407647074,
          243.72248034695122,
          213.38383565271488,
          190.08552434446938,
          185.40701109760812,
          247.41574405432323,
          527.0289618479437,
          890.8544369171681,
          1563.6145899698222,
          2595.232799883163,
          3797.9858586412206,
          5110.866269011896,
          7705.977490470161,
          8923.547760263144,
          10172.77610154928,
          10026.387085356802,
          9897.620690668353
         ],
         "yaxis": "y3"
        },
        {
         "customdata": [
          [
           "T34_1000_bitb_ref",
           "COFFEE 1.5"
          ],
          [
           "T34_1000_bitb_ref",
           "COFFEE 1.5"
          ],
          [
           "T34_1000_bitb_ref",
           "COFFEE 1.5"
          ],
          [
           "T34_1000_bitb_ref",
           "COFFEE 1.5"
          ],
          [
           "T34_1000_bitb_ref",
           "COFFEE 1.5"
          ],
          [
           "T34_1000_bitb_ref",
           "COFFEE 1.5"
          ],
          [
           "T34_1000_bitb_ref",
           "COFFEE 1.5"
          ],
          [
           "T34_1000_bitb_ref",
           "COFFEE 1.5"
          ],
          [
           "T34_1000_bitb_ref",
           "COFFEE 1.5"
          ],
          [
           "T34_1000_bitb_ref",
           "COFFEE 1.5"
          ],
          [
           "T34_1000_bitb_ref",
           "COFFEE 1.5"
          ],
          [
           "T34_1000_bitb_ref",
           "COFFEE 1.5"
          ],
          [
           "T34_1000_bitb_ref",
           "COFFEE 1.5"
          ],
          [
           "T34_1000_bitb_ref",
           "COFFEE 1.5"
          ]
         ],
         "hovertemplate": "region=China<br>model=%{customdata[1]}<br>scenario_narrative=Tech<br>year=%{x}<br>Emissions|CO2=%{y}<br>scenario=%{customdata[0]}<extra></extra>",
         "legendgroup": "China, COFFEE 1.5",
         "line": {
          "color": "#636efa",
          "dash": "solid"
         },
         "marker": {
          "symbol": "circle"
         },
         "mode": "lines",
         "name": "China, COFFEE 1.5",
         "showlegend": true,
         "type": "scattergl",
         "x": [
          2100,
          2090,
          2080,
          2070,
          2060,
          2050,
          2045,
          2040,
          2035,
          2030,
          2025,
          2020,
          2015,
          2010
         ],
         "xaxis": "x5",
         "y": [
          229.021323,
          286.32190399999996,
          463.88749599999994,
          722.382316,
          1430.914348,
          2682.74532,
          3738.954873,
          4765.911123,
          5903.8156930000005,
          6749.024299252001,
          8580.161282519999,
          11514.2679056,
          10667.969480000002,
          8750.35932
         ],
         "yaxis": "y5"
        },
        {
         "customdata": [
          [
           "T34_1000_ref",
           "COFFEE 1.5"
          ],
          [
           "T34_1000_ref",
           "COFFEE 1.5"
          ],
          [
           "T34_1000_ref",
           "COFFEE 1.5"
          ],
          [
           "T34_1000_ref",
           "COFFEE 1.5"
          ],
          [
           "T34_1000_ref",
           "COFFEE 1.5"
          ],
          [
           "T34_1000_ref",
           "COFFEE 1.5"
          ],
          [
           "T34_1000_ref",
           "COFFEE 1.5"
          ],
          [
           "T34_1000_ref",
           "COFFEE 1.5"
          ],
          [
           "T34_1000_ref",
           "COFFEE 1.5"
          ],
          [
           "T34_1000_ref",
           "COFFEE 1.5"
          ],
          [
           "T34_1000_ref",
           "COFFEE 1.5"
          ],
          [
           "T34_1000_ref",
           "COFFEE 1.5"
          ],
          [
           "T34_1000_ref",
           "COFFEE 1.5"
          ],
          [
           "T34_1000_ref",
           "COFFEE 1.5"
          ]
         ],
         "hovertemplate": "region=China<br>model=%{customdata[1]}<br>scenario_narrative=Cost Effective<br>year=%{x}<br>Emissions|CO2=%{y}<br>scenario=%{customdata[0]}<extra></extra>",
         "legendgroup": "China, COFFEE 1.5",
         "line": {
          "color": "#636efa",
          "dash": "solid"
         },
         "marker": {
          "symbol": "circle"
         },
         "mode": "lines",
         "name": "China, COFFEE 1.5",
         "showlegend": false,
         "type": "scattergl",
         "x": [
          2100,
          2090,
          2080,
          2070,
          2060,
          2050,
          2045,
          2040,
          2035,
          2030,
          2025,
          2020,
          2015,
          2010
         ],
         "xaxis": "x3",
         "y": [
          -1243.633506,
          -1067.879514,
          -440.50501599999996,
          476.68596399999996,
          2481.259996,
          3798.089425,
          4476.798761,
          5804.929024000001,
          6663.29679,
          7843.510381252,
          9224.71334052,
          11514.2679056,
          10667.969480000002,
          8750.35932
         ],
         "yaxis": "y3"
        },
        {
         "customdata": [
          [
           "T34_1000_bitb_em",
           "AIM/CGE V2.2"
          ],
          [
           "T34_1000_bitb_em",
           "AIM/CGE V2.2"
          ],
          [
           "T34_1000_bitb_em",
           "AIM/CGE V2.2"
          ],
          [
           "T34_1000_bitb_em",
           "AIM/CGE V2.2"
          ],
          [
           "T34_1000_bitb_em",
           "AIM/CGE V2.2"
          ],
          [
           "T34_1000_bitb_em",
           "AIM/CGE V2.2"
          ],
          [
           "T34_1000_bitb_em",
           "AIM/CGE V2.2"
          ],
          [
           "T34_1000_bitb_em",
           "AIM/CGE V2.2"
          ],
          [
           "T34_1000_bitb_em",
           "AIM/CGE V2.2"
          ],
          [
           "T34_1000_bitb_em",
           "AIM/CGE V2.2"
          ],
          [
           "T34_1000_bitb_em",
           "AIM/CGE V2.2"
          ],
          [
           "T34_1000_bitb_em",
           "AIM/CGE V2.2"
          ],
          [
           "T34_1000_bitb_em",
           "AIM/CGE V2.2"
          ],
          [
           "T34_1000_bitb_em",
           "AIM/CGE V2.2"
          ],
          [
           "T34_1000_bitb_em",
           "AIM/CGE V2.2"
          ],
          [
           "T34_1000_bitb_em",
           "AIM/CGE V2.2"
          ],
          [
           "T34_1000_bitb_em",
           "AIM/CGE V2.2"
          ],
          [
           "T34_1000_bitb_em",
           "AIM/CGE V2.2"
          ],
          [
           "T34_1000_bitb_em",
           "AIM/CGE V2.2"
          ]
         ],
         "hovertemplate": "region=China<br>model=%{customdata[1]}<br>scenario_narrative=Tech+Inst<br>year=%{x}<br>Emissions|CO2=%{y}<br>scenario=%{customdata[0]}<extra></extra>",
         "legendgroup": "China, AIM/CGE V2.2",
         "line": {
          "color": "#636efa",
          "dash": "dot"
         },
         "marker": {
          "symbol": "circle"
         },
         "mode": "lines",
         "name": "China, AIM/CGE V2.2",
         "showlegend": true,
         "type": "scattergl",
         "x": [
          2100,
          2095,
          2090,
          2085,
          2080,
          2075,
          2070,
          2065,
          2060,
          2055,
          2050,
          2045,
          2040,
          2035,
          2030,
          2025,
          2020,
          2015,
          2010
         ],
         "xaxis": "x4",
         "y": [
          -134.2874,
          -149.1402,
          -153.8872,
          -147.6395,
          -126.9477,
          -111.8757,
          -101.4133,
          -85.8077,
          -46.5592,
          398.1275,
          122.1459,
          2148.2135,
          4753.8611,
          7477.6228,
          9801.1577,
          11054.0689,
          11958.4702,
          10778.5587,
          8860.3168
         ],
         "yaxis": "y4"
        },
        {
         "customdata": [
          [
           "T34_1000_feas_em",
           "AIM/CGE V2.2"
          ],
          [
           "T34_1000_feas_em",
           "AIM/CGE V2.2"
          ],
          [
           "T34_1000_feas_em",
           "AIM/CGE V2.2"
          ],
          [
           "T34_1000_feas_em",
           "AIM/CGE V2.2"
          ],
          [
           "T34_1000_feas_em",
           "AIM/CGE V2.2"
          ],
          [
           "T34_1000_feas_em",
           "AIM/CGE V2.2"
          ],
          [
           "T34_1000_feas_em",
           "AIM/CGE V2.2"
          ],
          [
           "T34_1000_feas_em",
           "AIM/CGE V2.2"
          ],
          [
           "T34_1000_feas_em",
           "AIM/CGE V2.2"
          ],
          [
           "T34_1000_feas_em",
           "AIM/CGE V2.2"
          ],
          [
           "T34_1000_feas_em",
           "AIM/CGE V2.2"
          ],
          [
           "T34_1000_feas_em",
           "AIM/CGE V2.2"
          ],
          [
           "T34_1000_feas_em",
           "AIM/CGE V2.2"
          ],
          [
           "T34_1000_feas_em",
           "AIM/CGE V2.2"
          ],
          [
           "T34_1000_feas_em",
           "AIM/CGE V2.2"
          ],
          [
           "T34_1000_feas_em",
           "AIM/CGE V2.2"
          ],
          [
           "T34_1000_feas_em",
           "AIM/CGE V2.2"
          ],
          [
           "T34_1000_feas_em",
           "AIM/CGE V2.2"
          ],
          [
           "T34_1000_feas_em",
           "AIM/CGE V2.2"
          ]
         ],
         "hovertemplate": "region=China<br>model=%{customdata[1]}<br>scenario_narrative=Tech+Inst+Enab<br>year=%{x}<br>Emissions|CO2=%{y}<br>scenario=%{customdata[0]}<extra></extra>",
         "legendgroup": "China, AIM/CGE V2.2",
         "line": {
          "color": "#636efa",
          "dash": "dot"
         },
         "marker": {
          "symbol": "circle"
         },
         "mode": "lines",
         "name": "China, AIM/CGE V2.2",
         "showlegend": false,
         "type": "scattergl",
         "x": [
          2100,
          2095,
          2090,
          2085,
          2080,
          2075,
          2070,
          2065,
          2060,
          2055,
          2050,
          2045,
          2040,
          2035,
          2030,
          2025,
          2020,
          2015,
          2010
         ],
         "xaxis": "x",
         "y": [
          -515.6891,
          -548.5382,
          -573.2108,
          -582.5622,
          -578.9409,
          -568.5539,
          -550.494,
          -517.7601,
          -422.8906,
          -260.7282,
          60.2662,
          2265.3013,
          4257.3877,
          6885.5973,
          9337.3571,
          10948.9846,
          11958.5927,
          10778.5587,
          8860.3168
         ],
         "yaxis": "y"
        },
        {
         "customdata": [
          [
           "T34_1000_govem",
           "AIM/CGE V2.2"
          ],
          [
           "T34_1000_govem",
           "AIM/CGE V2.2"
          ],
          [
           "T34_1000_govem",
           "AIM/CGE V2.2"
          ],
          [
           "T34_1000_govem",
           "AIM/CGE V2.2"
          ],
          [
           "T34_1000_govem",
           "AIM/CGE V2.2"
          ],
          [
           "T34_1000_govem",
           "AIM/CGE V2.2"
          ],
          [
           "T34_1000_govem",
           "AIM/CGE V2.2"
          ],
          [
           "T34_1000_govem",
           "AIM/CGE V2.2"
          ],
          [
           "T34_1000_govem",
           "AIM/CGE V2.2"
          ],
          [
           "T34_1000_govem",
           "AIM/CGE V2.2"
          ],
          [
           "T34_1000_govem",
           "AIM/CGE V2.2"
          ],
          [
           "T34_1000_govem",
           "AIM/CGE V2.2"
          ],
          [
           "T34_1000_govem",
           "AIM/CGE V2.2"
          ],
          [
           "T34_1000_govem",
           "AIM/CGE V2.2"
          ],
          [
           "T34_1000_govem",
           "AIM/CGE V2.2"
          ],
          [
           "T34_1000_govem",
           "AIM/CGE V2.2"
          ],
          [
           "T34_1000_govem",
           "AIM/CGE V2.2"
          ],
          [
           "T34_1000_govem",
           "AIM/CGE V2.2"
          ],
          [
           "T34_1000_govem",
           "AIM/CGE V2.2"
          ]
         ],
         "hovertemplate": "region=China<br>model=%{customdata[1]}<br>scenario_narrative=Instit<br>year=%{x}<br>Emissions|CO2=%{y}<br>scenario=%{customdata[0]}<extra></extra>",
         "legendgroup": "China, AIM/CGE V2.2",
         "line": {
          "color": "#636efa",
          "dash": "dot"
         },
         "marker": {
          "symbol": "circle"
         },
         "mode": "lines",
         "name": "China, AIM/CGE V2.2",
         "showlegend": false,
         "type": "scattergl",
         "x": [
          2100,
          2095,
          2090,
          2085,
          2080,
          2075,
          2070,
          2065,
          2060,
          2055,
          2050,
          2045,
          2040,
          2035,
          2030,
          2025,
          2020,
          2015,
          2010
         ],
         "xaxis": "x2",
         "y": [
          -1843.2199,
          -1767.0905,
          -1659.7497,
          -1501.9944,
          -1290.8335,
          -1047.2986,
          -840.8554,
          -663.497,
          -461.5613,
          -240.1888,
          1078.9759,
          2843.2712,
          5083.5748,
          7470.5674,
          9663.9522,
          10998.1246,
          11944.0655,
          10778.5587,
          8860.3168
         ],
         "yaxis": "y2"
        },
        {
         "customdata": [
          [
           "T34_1000_ref",
           "AIM/CGE V2.2"
          ],
          [
           "T34_1000_ref",
           "AIM/CGE V2.2"
          ],
          [
           "T34_1000_ref",
           "AIM/CGE V2.2"
          ],
          [
           "T34_1000_ref",
           "AIM/CGE V2.2"
          ],
          [
           "T34_1000_ref",
           "AIM/CGE V2.2"
          ],
          [
           "T34_1000_ref",
           "AIM/CGE V2.2"
          ],
          [
           "T34_1000_ref",
           "AIM/CGE V2.2"
          ],
          [
           "T34_1000_ref",
           "AIM/CGE V2.2"
          ],
          [
           "T34_1000_ref",
           "AIM/CGE V2.2"
          ],
          [
           "T34_1000_ref",
           "AIM/CGE V2.2"
          ],
          [
           "T34_1000_ref",
           "AIM/CGE V2.2"
          ],
          [
           "T34_1000_ref",
           "AIM/CGE V2.2"
          ],
          [
           "T34_1000_ref",
           "AIM/CGE V2.2"
          ],
          [
           "T34_1000_ref",
           "AIM/CGE V2.2"
          ],
          [
           "T34_1000_ref",
           "AIM/CGE V2.2"
          ],
          [
           "T34_1000_ref",
           "AIM/CGE V2.2"
          ],
          [
           "T34_1000_ref",
           "AIM/CGE V2.2"
          ],
          [
           "T34_1000_ref",
           "AIM/CGE V2.2"
          ],
          [
           "T34_1000_ref",
           "AIM/CGE V2.2"
          ]
         ],
         "hovertemplate": "region=China<br>model=%{customdata[1]}<br>scenario_narrative=Cost Effective<br>year=%{x}<br>Emissions|CO2=%{y}<br>scenario=%{customdata[0]}<extra></extra>",
         "legendgroup": "China, AIM/CGE V2.2",
         "line": {
          "color": "#636efa",
          "dash": "dot"
         },
         "marker": {
          "symbol": "circle"
         },
         "mode": "lines",
         "name": "China, AIM/CGE V2.2",
         "showlegend": false,
         "type": "scattergl",
         "x": [
          2100,
          2095,
          2090,
          2085,
          2080,
          2075,
          2070,
          2065,
          2060,
          2055,
          2050,
          2045,
          2040,
          2035,
          2030,
          2025,
          2020,
          2015,
          2010
         ],
         "xaxis": "x3",
         "y": [
          -250.7479,
          -205.1607,
          -156.695,
          -85.0061,
          -13.2449,
          124.195,
          278.6892,
          433.5899,
          541.3127,
          742.326,
          2265.7755,
          4011.4566,
          6028.2149,
          7894.0647,
          9381.3217,
          10575.6143,
          11944.0655,
          10778.5587,
          8860.3168
         ],
         "yaxis": "y3"
        },
        {
         "customdata": [
          [
           "T34_1000_bitb_em",
           "WITCH 5.0"
          ],
          [
           "T34_1000_bitb_em",
           "WITCH 5.0"
          ],
          [
           "T34_1000_bitb_em",
           "WITCH 5.0"
          ],
          [
           "T34_1000_bitb_em",
           "WITCH 5.0"
          ],
          [
           "T34_1000_bitb_em",
           "WITCH 5.0"
          ],
          [
           "T34_1000_bitb_em",
           "WITCH 5.0"
          ],
          [
           "T34_1000_bitb_em",
           "WITCH 5.0"
          ],
          [
           "T34_1000_bitb_em",
           "WITCH 5.0"
          ],
          [
           "T34_1000_bitb_em",
           "WITCH 5.0"
          ],
          [
           "T34_1000_bitb_em",
           "WITCH 5.0"
          ],
          [
           "T34_1000_bitb_em",
           "WITCH 5.0"
          ],
          [
           "T34_1000_bitb_em",
           "WITCH 5.0"
          ],
          [
           "T34_1000_bitb_em",
           "WITCH 5.0"
          ],
          [
           "T34_1000_bitb_em",
           "WITCH 5.0"
          ],
          [
           "T34_1000_bitb_em",
           "WITCH 5.0"
          ],
          [
           "T34_1000_bitb_em",
           "WITCH 5.0"
          ],
          [
           "T34_1000_bitb_em",
           "WITCH 5.0"
          ],
          [
           "T34_1000_bitb_em",
           "WITCH 5.0"
          ],
          [
           "T34_1000_bitb_em",
           "WITCH 5.0"
          ],
          [
           "T34_1000_bitb_em",
           "WITCH 5.0"
          ]
         ],
         "hovertemplate": "region=OECD<br>model=%{customdata[1]}<br>scenario_narrative=Tech+Inst<br>year=%{x}<br>Emissions|CO2=%{y}<br>scenario=%{customdata[0]}<extra></extra>",
         "legendgroup": "OECD, WITCH 5.0",
         "line": {
          "color": "#EF553B",
          "dash": "solid"
         },
         "marker": {
          "symbol": "circle"
         },
         "mode": "lines",
         "name": "OECD, WITCH 5.0",
         "showlegend": true,
         "type": "scattergl",
         "x": [
          2100,
          2095,
          2090,
          2085,
          2080,
          2075,
          2070,
          2065,
          2060,
          2055,
          2050,
          2045,
          2040,
          2035,
          2030,
          2025,
          2020,
          2015,
          2010,
          2005
         ],
         "xaxis": "x4",
         "y": [
          -1502.1234586418639,
          -1520.8811559258947,
          -1495.3565427356525,
          -1444.3842684818744,
          -1901.373523578891,
          -1662.8472693000328,
          -1416.1798361903939,
          -1110.8069983442213,
          -818.2693439181977,
          -515.1687149619503,
          -93.1544518514759,
          461.9487638211634,
          1172.3262872758808,
          2021.6474341932671,
          3873.226579203379,
          7328.0515012871865,
          8815.047628909653,
          9028.43474036386,
          9653.289125706495,
          10564.827079891358
         ],
         "yaxis": "y4"
        },
        {
         "customdata": [
          [
           "T34_1000_bitb_ref",
           "WITCH 5.0"
          ],
          [
           "T34_1000_bitb_ref",
           "WITCH 5.0"
          ],
          [
           "T34_1000_bitb_ref",
           "WITCH 5.0"
          ],
          [
           "T34_1000_bitb_ref",
           "WITCH 5.0"
          ],
          [
           "T34_1000_bitb_ref",
           "WITCH 5.0"
          ],
          [
           "T34_1000_bitb_ref",
           "WITCH 5.0"
          ],
          [
           "T34_1000_bitb_ref",
           "WITCH 5.0"
          ],
          [
           "T34_1000_bitb_ref",
           "WITCH 5.0"
          ],
          [
           "T34_1000_bitb_ref",
           "WITCH 5.0"
          ],
          [
           "T34_1000_bitb_ref",
           "WITCH 5.0"
          ],
          [
           "T34_1000_bitb_ref",
           "WITCH 5.0"
          ],
          [
           "T34_1000_bitb_ref",
           "WITCH 5.0"
          ],
          [
           "T34_1000_bitb_ref",
           "WITCH 5.0"
          ],
          [
           "T34_1000_bitb_ref",
           "WITCH 5.0"
          ],
          [
           "T34_1000_bitb_ref",
           "WITCH 5.0"
          ],
          [
           "T34_1000_bitb_ref",
           "WITCH 5.0"
          ],
          [
           "T34_1000_bitb_ref",
           "WITCH 5.0"
          ],
          [
           "T34_1000_bitb_ref",
           "WITCH 5.0"
          ],
          [
           "T34_1000_bitb_ref",
           "WITCH 5.0"
          ],
          [
           "T34_1000_bitb_ref",
           "WITCH 5.0"
          ]
         ],
         "hovertemplate": "region=OECD<br>model=%{customdata[1]}<br>scenario_narrative=Tech<br>year=%{x}<br>Emissions|CO2=%{y}<br>scenario=%{customdata[0]}<extra></extra>",
         "legendgroup": "OECD, WITCH 5.0",
         "line": {
          "color": "#EF553B",
          "dash": "solid"
         },
         "marker": {
          "symbol": "circle"
         },
         "mode": "lines",
         "name": "OECD, WITCH 5.0",
         "showlegend": false,
         "type": "scattergl",
         "x": [
          2100,
          2095,
          2090,
          2085,
          2080,
          2075,
          2070,
          2065,
          2060,
          2055,
          2050,
          2045,
          2040,
          2035,
          2030,
          2025,
          2020,
          2015,
          2010,
          2005
         ],
         "xaxis": "x5",
         "y": [
          -872.938196316076,
          -783.2923591574324,
          -646.1157876668718,
          -270.11736380354347,
          -29.186712091626987,
          184.46458881935098,
          396.2867756717302,
          503.73782740635784,
          830.4454425772816,
          1203.767228610191,
          1535.188112721688,
          2149.909903806665,
          2714.5657252915853,
          3597.395490844585,
          3911.5771340355905,
          6935.6951029082065,
          8815.047628909653,
          9028.43474036386,
          9653.289125706495,
          10564.827079891358
         ],
         "yaxis": "y5"
        },
        {
         "customdata": [
          [
           "T34_1000_enab_em",
           "WITCH 5.0"
          ],
          [
           "T34_1000_enab_em",
           "WITCH 5.0"
          ],
          [
           "T34_1000_enab_em",
           "WITCH 5.0"
          ],
          [
           "T34_1000_enab_em",
           "WITCH 5.0"
          ],
          [
           "T34_1000_enab_em",
           "WITCH 5.0"
          ],
          [
           "T34_1000_enab_em",
           "WITCH 5.0"
          ],
          [
           "T34_1000_enab_em",
           "WITCH 5.0"
          ],
          [
           "T34_1000_enab_em",
           "WITCH 5.0"
          ],
          [
           "T34_1000_enab_em",
           "WITCH 5.0"
          ],
          [
           "T34_1000_enab_em",
           "WITCH 5.0"
          ],
          [
           "T34_1000_enab_em",
           "WITCH 5.0"
          ],
          [
           "T34_1000_enab_em",
           "WITCH 5.0"
          ],
          [
           "T34_1000_enab_em",
           "WITCH 5.0"
          ],
          [
           "T34_1000_enab_em",
           "WITCH 5.0"
          ],
          [
           "T34_1000_enab_em",
           "WITCH 5.0"
          ],
          [
           "T34_1000_enab_em",
           "WITCH 5.0"
          ],
          [
           "T34_1000_enab_em",
           "WITCH 5.0"
          ],
          [
           "T34_1000_enab_em",
           "WITCH 5.0"
          ],
          [
           "T34_1000_enab_em",
           "WITCH 5.0"
          ],
          [
           "T34_1000_enab_em",
           "WITCH 5.0"
          ]
         ],
         "hovertemplate": "region=OECD<br>model=%{customdata[1]}<br>scenario_narrative=Inst+Enab<br>year=%{x}<br>Emissions|CO2=%{y}<br>scenario=%{customdata[0]}<extra></extra>",
         "legendgroup": "OECD, WITCH 5.0",
         "line": {
          "color": "#EF553B",
          "dash": "solid"
         },
         "marker": {
          "symbol": "circle"
         },
         "mode": "lines",
         "name": "OECD, WITCH 5.0",
         "showlegend": false,
         "type": "scattergl",
         "x": [
          2100,
          2095,
          2090,
          2085,
          2080,
          2075,
          2070,
          2065,
          2060,
          2055,
          2050,
          2045,
          2040,
          2035,
          2030,
          2025,
          2020,
          2015,
          2010,
          2005
         ],
         "xaxis": "x6",
         "y": [
          -536.3633027938267,
          -692.760445198563,
          -1065.5503399408349,
          -1437.194929158079,
          -1887.1998676134829,
          -2103.376179620131,
          -1676.978829163454,
          -1251.040453318562,
          -779.420776250453,
          -136.7184939297463,
          459.98143552076715,
          1018.1263648920158,
          1702.1346570121339,
          2778.552364424551,
          5267.799196959026,
          7127.712417604749,
          8815.047628909653,
          9028.43474036386,
          9653.289125706495,
          10564.827079891358
         ],
         "yaxis": "y6"
        },
        {
         "customdata": [
          [
           "T34_1000_feas_em",
           "WITCH 5.0"
          ],
          [
           "T34_1000_feas_em",
           "WITCH 5.0"
          ],
          [
           "T34_1000_feas_em",
           "WITCH 5.0"
          ],
          [
           "T34_1000_feas_em",
           "WITCH 5.0"
          ],
          [
           "T34_1000_feas_em",
           "WITCH 5.0"
          ],
          [
           "T34_1000_feas_em",
           "WITCH 5.0"
          ],
          [
           "T34_1000_feas_em",
           "WITCH 5.0"
          ],
          [
           "T34_1000_feas_em",
           "WITCH 5.0"
          ],
          [
           "T34_1000_feas_em",
           "WITCH 5.0"
          ],
          [
           "T34_1000_feas_em",
           "WITCH 5.0"
          ],
          [
           "T34_1000_feas_em",
           "WITCH 5.0"
          ],
          [
           "T34_1000_feas_em",
           "WITCH 5.0"
          ],
          [
           "T34_1000_feas_em",
           "WITCH 5.0"
          ],
          [
           "T34_1000_feas_em",
           "WITCH 5.0"
          ],
          [
           "T34_1000_feas_em",
           "WITCH 5.0"
          ],
          [
           "T34_1000_feas_em",
           "WITCH 5.0"
          ],
          [
           "T34_1000_feas_em",
           "WITCH 5.0"
          ],
          [
           "T34_1000_feas_em",
           "WITCH 5.0"
          ],
          [
           "T34_1000_feas_em",
           "WITCH 5.0"
          ],
          [
           "T34_1000_feas_em",
           "WITCH 5.0"
          ]
         ],
         "hovertemplate": "region=OECD<br>model=%{customdata[1]}<br>scenario_narrative=Tech+Inst+Enab<br>year=%{x}<br>Emissions|CO2=%{y}<br>scenario=%{customdata[0]}<extra></extra>",
         "legendgroup": "OECD, WITCH 5.0",
         "line": {
          "color": "#EF553B",
          "dash": "solid"
         },
         "marker": {
          "symbol": "circle"
         },
         "mode": "lines",
         "name": "OECD, WITCH 5.0",
         "showlegend": false,
         "type": "scattergl",
         "x": [
          2100,
          2095,
          2090,
          2085,
          2080,
          2075,
          2070,
          2065,
          2060,
          2055,
          2050,
          2045,
          2040,
          2035,
          2030,
          2025,
          2020,
          2015,
          2010,
          2005
         ],
         "xaxis": "x",
         "y": [
          -1196.7725392806,
          -1394.848831238771,
          -1718.8329622756498,
          -1860.8540530479593,
          -1688.709718696272,
          -1457.3762034690592,
          -1227.0173714890961,
          -954.7470409571672,
          -726.54701634943,
          -444.903514083109,
          -111.33656950390943,
          493.20717341588033,
          1158.6535548385555,
          2025.8403984520392,
          3801.369054391761,
          6751.970094243656,
          8815.047628909653,
          9028.43474036386,
          9653.289125706495,
          10564.827079891358
         ],
         "yaxis": "y"
        },
        {
         "customdata": [
          [
           "T34_1000_govem",
           "WITCH 5.0"
          ],
          [
           "T34_1000_govem",
           "WITCH 5.0"
          ],
          [
           "T34_1000_govem",
           "WITCH 5.0"
          ],
          [
           "T34_1000_govem",
           "WITCH 5.0"
          ],
          [
           "T34_1000_govem",
           "WITCH 5.0"
          ],
          [
           "T34_1000_govem",
           "WITCH 5.0"
          ],
          [
           "T34_1000_govem",
           "WITCH 5.0"
          ],
          [
           "T34_1000_govem",
           "WITCH 5.0"
          ],
          [
           "T34_1000_govem",
           "WITCH 5.0"
          ],
          [
           "T34_1000_govem",
           "WITCH 5.0"
          ],
          [
           "T34_1000_govem",
           "WITCH 5.0"
          ],
          [
           "T34_1000_govem",
           "WITCH 5.0"
          ],
          [
           "T34_1000_govem",
           "WITCH 5.0"
          ],
          [
           "T34_1000_govem",
           "WITCH 5.0"
          ],
          [
           "T34_1000_govem",
           "WITCH 5.0"
          ],
          [
           "T34_1000_govem",
           "WITCH 5.0"
          ],
          [
           "T34_1000_govem",
           "WITCH 5.0"
          ],
          [
           "T34_1000_govem",
           "WITCH 5.0"
          ],
          [
           "T34_1000_govem",
           "WITCH 5.0"
          ],
          [
           "T34_1000_govem",
           "WITCH 5.0"
          ]
         ],
         "hovertemplate": "region=OECD<br>model=%{customdata[1]}<br>scenario_narrative=Instit<br>year=%{x}<br>Emissions|CO2=%{y}<br>scenario=%{customdata[0]}<extra></extra>",
         "legendgroup": "OECD, WITCH 5.0",
         "line": {
          "color": "#EF553B",
          "dash": "solid"
         },
         "marker": {
          "symbol": "circle"
         },
         "mode": "lines",
         "name": "OECD, WITCH 5.0",
         "showlegend": false,
         "type": "scattergl",
         "x": [
          2100,
          2095,
          2090,
          2085,
          2080,
          2075,
          2070,
          2065,
          2060,
          2055,
          2050,
          2045,
          2040,
          2035,
          2030,
          2025,
          2020,
          2015,
          2010,
          2005
         ],
         "xaxis": "x2",
         "y": [
          -1138.9601376880983,
          -964.0014330898159,
          -1213.854349520996,
          -1946.248252293843,
          -2174.278239179755,
          -2159.275056570994,
          -1673.958082191839,
          -1256.4582401144219,
          -873.233739564168,
          -445.8574444584721,
          155.0218649599334,
          782.6409014758267,
          1447.791797288641,
          2091.8118367951147,
          3063.8419479118456,
          5806.697171996105,
          8815.047628909653,
          9028.43474036386,
          9653.289125706495,
          10564.827079891358
         ],
         "yaxis": "y2"
        },
        {
         "customdata": [
          [
           "T34_1000_ref",
           "WITCH 5.0"
          ],
          [
           "T34_1000_ref",
           "WITCH 5.0"
          ],
          [
           "T34_1000_ref",
           "WITCH 5.0"
          ],
          [
           "T34_1000_ref",
           "WITCH 5.0"
          ],
          [
           "T34_1000_ref",
           "WITCH 5.0"
          ],
          [
           "T34_1000_ref",
           "WITCH 5.0"
          ],
          [
           "T34_1000_ref",
           "WITCH 5.0"
          ],
          [
           "T34_1000_ref",
           "WITCH 5.0"
          ],
          [
           "T34_1000_ref",
           "WITCH 5.0"
          ],
          [
           "T34_1000_ref",
           "WITCH 5.0"
          ],
          [
           "T34_1000_ref",
           "WITCH 5.0"
          ],
          [
           "T34_1000_ref",
           "WITCH 5.0"
          ],
          [
           "T34_1000_ref",
           "WITCH 5.0"
          ],
          [
           "T34_1000_ref",
           "WITCH 5.0"
          ],
          [
           "T34_1000_ref",
           "WITCH 5.0"
          ],
          [
           "T34_1000_ref",
           "WITCH 5.0"
          ],
          [
           "T34_1000_ref",
           "WITCH 5.0"
          ],
          [
           "T34_1000_ref",
           "WITCH 5.0"
          ],
          [
           "T34_1000_ref",
           "WITCH 5.0"
          ],
          [
           "T34_1000_ref",
           "WITCH 5.0"
          ]
         ],
         "hovertemplate": "region=OECD<br>model=%{customdata[1]}<br>scenario_narrative=Cost Effective<br>year=%{x}<br>Emissions|CO2=%{y}<br>scenario=%{customdata[0]}<extra></extra>",
         "legendgroup": "OECD, WITCH 5.0",
         "line": {
          "color": "#EF553B",
          "dash": "solid"
         },
         "marker": {
          "symbol": "circle"
         },
         "mode": "lines",
         "name": "OECD, WITCH 5.0",
         "showlegend": false,
         "type": "scattergl",
         "x": [
          2100,
          2095,
          2090,
          2085,
          2080,
          2075,
          2070,
          2065,
          2060,
          2055,
          2050,
          2045,
          2040,
          2035,
          2030,
          2025,
          2020,
          2015,
          2010,
          2005
         ],
         "xaxis": "x3",
         "y": [
          -2860.214016406718,
          -2501.6516377073845,
          -2131.6128004711086,
          -1580.24486988818,
          -1018.3864164004141,
          -498.380331338214,
          -13.0587255073699,
          433.6830954942001,
          1072.5115838341212,
          1653.413570872725,
          2090.2823351418697,
          2541.867961272536,
          3191.35856341584,
          3782.213474613083,
          4731.668399639946,
          6971.3690478055205,
          8815.047628909653,
          9028.43474036386,
          9653.289125706495,
          10564.827079891358
         ],
         "yaxis": "y3"
        },
        {
         "customdata": [
          [
           "T34_1000_bitb_em",
           "REMIND 3.0"
          ],
          [
           "T34_1000_bitb_em",
           "REMIND 3.0"
          ],
          [
           "T34_1000_bitb_em",
           "REMIND 3.0"
          ],
          [
           "T34_1000_bitb_em",
           "REMIND 3.0"
          ],
          [
           "T34_1000_bitb_em",
           "REMIND 3.0"
          ],
          [
           "T34_1000_bitb_em",
           "REMIND 3.0"
          ],
          [
           "T34_1000_bitb_em",
           "REMIND 3.0"
          ],
          [
           "T34_1000_bitb_em",
           "REMIND 3.0"
          ],
          [
           "T34_1000_bitb_em",
           "REMIND 3.0"
          ],
          [
           "T34_1000_bitb_em",
           "REMIND 3.0"
          ],
          [
           "T34_1000_bitb_em",
           "REMIND 3.0"
          ],
          [
           "T34_1000_bitb_em",
           "REMIND 3.0"
          ],
          [
           "T34_1000_bitb_em",
           "REMIND 3.0"
          ],
          [
           "T34_1000_bitb_em",
           "REMIND 3.0"
          ],
          [
           "T34_1000_bitb_em",
           "REMIND 3.0"
          ],
          [
           "T34_1000_bitb_em",
           "REMIND 3.0"
          ]
         ],
         "hovertemplate": "region=OECD<br>model=%{customdata[1]}<br>scenario_narrative=Tech+Inst<br>year=%{x}<br>Emissions|CO2=%{y}<br>scenario=%{customdata[0]}<extra></extra>",
         "legendgroup": "OECD, REMIND 3.0",
         "line": {
          "color": "#EF553B",
          "dash": "dot"
         },
         "marker": {
          "symbol": "circle"
         },
         "mode": "lines",
         "name": "OECD, REMIND 3.0",
         "showlegend": true,
         "type": "scattergl",
         "x": [
          2100,
          2090,
          2080,
          2070,
          2060,
          2055,
          2050,
          2045,
          2040,
          2035,
          2030,
          2025,
          2020,
          2015,
          2010,
          2005
         ],
         "xaxis": "x4",
         "y": [
          161.2753038,
          -267.1673326,
          -633.1717638,
          -761.7692599,
          -690.9400878,
          -492.07447809999996,
          -155.47757309999997,
          400.6405934,
          1664.7777099,
          3251.5733545000003,
          4858.0962147,
          6456.306070799999,
          8075.5609438,
          8960.0834127,
          9765.288551099999,
          10834.893790900001
         ],
         "yaxis": "y4"
        },
        {
         "customdata": [
          [
           "T34_1000_bitb_ref",
           "REMIND 3.0"
          ],
          [
           "T34_1000_bitb_ref",
           "REMIND 3.0"
          ],
          [
           "T34_1000_bitb_ref",
           "REMIND 3.0"
          ],
          [
           "T34_1000_bitb_ref",
           "REMIND 3.0"
          ],
          [
           "T34_1000_bitb_ref",
           "REMIND 3.0"
          ],
          [
           "T34_1000_bitb_ref",
           "REMIND 3.0"
          ],
          [
           "T34_1000_bitb_ref",
           "REMIND 3.0"
          ],
          [
           "T34_1000_bitb_ref",
           "REMIND 3.0"
          ],
          [
           "T34_1000_bitb_ref",
           "REMIND 3.0"
          ],
          [
           "T34_1000_bitb_ref",
           "REMIND 3.0"
          ],
          [
           "T34_1000_bitb_ref",
           "REMIND 3.0"
          ],
          [
           "T34_1000_bitb_ref",
           "REMIND 3.0"
          ],
          [
           "T34_1000_bitb_ref",
           "REMIND 3.0"
          ],
          [
           "T34_1000_bitb_ref",
           "REMIND 3.0"
          ],
          [
           "T34_1000_bitb_ref",
           "REMIND 3.0"
          ],
          [
           "T34_1000_bitb_ref",
           "REMIND 3.0"
          ]
         ],
         "hovertemplate": "region=OECD<br>model=%{customdata[1]}<br>scenario_narrative=Tech<br>year=%{x}<br>Emissions|CO2=%{y}<br>scenario=%{customdata[0]}<extra></extra>",
         "legendgroup": "OECD, REMIND 3.0",
         "line": {
          "color": "#EF553B",
          "dash": "dot"
         },
         "marker": {
          "symbol": "circle"
         },
         "mode": "lines",
         "name": "OECD, REMIND 3.0",
         "showlegend": false,
         "type": "scattergl",
         "x": [
          2100,
          2090,
          2080,
          2070,
          2060,
          2055,
          2050,
          2045,
          2040,
          2035,
          2030,
          2025,
          2020,
          2015,
          2010,
          2005
         ],
         "xaxis": "x5",
         "y": [
          -27.4512287,
          -18.4135542,
          -102.1861593,
          -46.83770019999999,
          152.8867771,
          409.683313,
          746.4397613,
          1402.0403417,
          2639.3076265,
          3963.5751473,
          5332.931304899999,
          6615.169070399999,
          8075.5609438,
          8960.0834127,
          9765.288551099999,
          10834.893790900001
         ],
         "yaxis": "y5"
        },
        {
         "customdata": [
          [
           "T34_1000_enab_em",
           "REMIND 3.0"
          ],
          [
           "T34_1000_enab_em",
           "REMIND 3.0"
          ],
          [
           "T34_1000_enab_em",
           "REMIND 3.0"
          ],
          [
           "T34_1000_enab_em",
           "REMIND 3.0"
          ],
          [
           "T34_1000_enab_em",
           "REMIND 3.0"
          ],
          [
           "T34_1000_enab_em",
           "REMIND 3.0"
          ],
          [
           "T34_1000_enab_em",
           "REMIND 3.0"
          ],
          [
           "T34_1000_enab_em",
           "REMIND 3.0"
          ],
          [
           "T34_1000_enab_em",
           "REMIND 3.0"
          ],
          [
           "T34_1000_enab_em",
           "REMIND 3.0"
          ],
          [
           "T34_1000_enab_em",
           "REMIND 3.0"
          ],
          [
           "T34_1000_enab_em",
           "REMIND 3.0"
          ],
          [
           "T34_1000_enab_em",
           "REMIND 3.0"
          ],
          [
           "T34_1000_enab_em",
           "REMIND 3.0"
          ],
          [
           "T34_1000_enab_em",
           "REMIND 3.0"
          ],
          [
           "T34_1000_enab_em",
           "REMIND 3.0"
          ]
         ],
         "hovertemplate": "region=OECD<br>model=%{customdata[1]}<br>scenario_narrative=Inst+Enab<br>year=%{x}<br>Emissions|CO2=%{y}<br>scenario=%{customdata[0]}<extra></extra>",
         "legendgroup": "OECD, REMIND 3.0",
         "line": {
          "color": "#EF553B",
          "dash": "dot"
         },
         "marker": {
          "symbol": "circle"
         },
         "mode": "lines",
         "name": "OECD, REMIND 3.0",
         "showlegend": false,
         "type": "scattergl",
         "x": [
          2100,
          2090,
          2080,
          2070,
          2060,
          2055,
          2050,
          2045,
          2040,
          2035,
          2030,
          2025,
          2020,
          2015,
          2010,
          2005
         ],
         "xaxis": "x6",
         "y": [
          108.70143750000001,
          -247.4768774,
          -483.2042263,
          -509.5877513,
          -234.8024891,
          40.5169879,
          368.9834701,
          936.6079172,
          1835.774303,
          3076.7470550999997,
          4404.387949399999,
          6257.8394796,
          8075.5609438,
          8960.0834127,
          9765.288551099999,
          10834.893790900001
         ],
         "yaxis": "y6"
        },
        {
         "customdata": [
          [
           "T34_1000_feas_em",
           "REMIND 3.0"
          ],
          [
           "T34_1000_feas_em",
           "REMIND 3.0"
          ],
          [
           "T34_1000_feas_em",
           "REMIND 3.0"
          ],
          [
           "T34_1000_feas_em",
           "REMIND 3.0"
          ],
          [
           "T34_1000_feas_em",
           "REMIND 3.0"
          ],
          [
           "T34_1000_feas_em",
           "REMIND 3.0"
          ],
          [
           "T34_1000_feas_em",
           "REMIND 3.0"
          ],
          [
           "T34_1000_feas_em",
           "REMIND 3.0"
          ],
          [
           "T34_1000_feas_em",
           "REMIND 3.0"
          ],
          [
           "T34_1000_feas_em",
           "REMIND 3.0"
          ],
          [
           "T34_1000_feas_em",
           "REMIND 3.0"
          ],
          [
           "T34_1000_feas_em",
           "REMIND 3.0"
          ],
          [
           "T34_1000_feas_em",
           "REMIND 3.0"
          ],
          [
           "T34_1000_feas_em",
           "REMIND 3.0"
          ],
          [
           "T34_1000_feas_em",
           "REMIND 3.0"
          ],
          [
           "T34_1000_feas_em",
           "REMIND 3.0"
          ]
         ],
         "hovertemplate": "region=OECD<br>model=%{customdata[1]}<br>scenario_narrative=Tech+Inst+Enab<br>year=%{x}<br>Emissions|CO2=%{y}<br>scenario=%{customdata[0]}<extra></extra>",
         "legendgroup": "OECD, REMIND 3.0",
         "line": {
          "color": "#EF553B",
          "dash": "dot"
         },
         "marker": {
          "symbol": "circle"
         },
         "mode": "lines",
         "name": "OECD, REMIND 3.0",
         "showlegend": false,
         "type": "scattergl",
         "x": [
          2100,
          2090,
          2080,
          2070,
          2060,
          2055,
          2050,
          2045,
          2040,
          2035,
          2030,
          2025,
          2020,
          2015,
          2010,
          2005
         ],
         "xaxis": "x",
         "y": [
          95.73994400000001,
          -341.1911606,
          -418.44877099999997,
          -379.853223,
          -162.626554,
          76.3256288,
          364.07010379999997,
          909.8082325,
          1817.0188037,
          3020.7936228,
          4362.5440849999995,
          6256.2332962,
          8075.5609438,
          8960.0834127,
          9765.288551099999,
          10834.893790900001
         ],
         "yaxis": "y"
        },
        {
         "customdata": [
          [
           "T34_1000_govem",
           "REMIND 3.0"
          ],
          [
           "T34_1000_govem",
           "REMIND 3.0"
          ],
          [
           "T34_1000_govem",
           "REMIND 3.0"
          ],
          [
           "T34_1000_govem",
           "REMIND 3.0"
          ],
          [
           "T34_1000_govem",
           "REMIND 3.0"
          ],
          [
           "T34_1000_govem",
           "REMIND 3.0"
          ],
          [
           "T34_1000_govem",
           "REMIND 3.0"
          ],
          [
           "T34_1000_govem",
           "REMIND 3.0"
          ],
          [
           "T34_1000_govem",
           "REMIND 3.0"
          ],
          [
           "T34_1000_govem",
           "REMIND 3.0"
          ],
          [
           "T34_1000_govem",
           "REMIND 3.0"
          ],
          [
           "T34_1000_govem",
           "REMIND 3.0"
          ],
          [
           "T34_1000_govem",
           "REMIND 3.0"
          ],
          [
           "T34_1000_govem",
           "REMIND 3.0"
          ],
          [
           "T34_1000_govem",
           "REMIND 3.0"
          ],
          [
           "T34_1000_govem",
           "REMIND 3.0"
          ]
         ],
         "hovertemplate": "region=OECD<br>model=%{customdata[1]}<br>scenario_narrative=Instit<br>year=%{x}<br>Emissions|CO2=%{y}<br>scenario=%{customdata[0]}<extra></extra>",
         "legendgroup": "OECD, REMIND 3.0",
         "line": {
          "color": "#EF553B",
          "dash": "dot"
         },
         "marker": {
          "symbol": "circle"
         },
         "mode": "lines",
         "name": "OECD, REMIND 3.0",
         "showlegend": false,
         "type": "scattergl",
         "x": [
          2100,
          2090,
          2080,
          2070,
          2060,
          2055,
          2050,
          2045,
          2040,
          2035,
          2030,
          2025,
          2020,
          2015,
          2010,
          2005
         ],
         "xaxis": "x2",
         "y": [
          161.75395300000002,
          -519.8206405,
          -1035.1638582,
          -1291.6171263,
          -1088.6588484000001,
          -659.8181853,
          -188.45501180000002,
          534.9478407,
          1842.4669755,
          3420.4296923,
          5026.1049379,
          6504.4583206,
          8075.5609438,
          8960.0834127,
          9765.288551099999,
          10834.893790900001
         ],
         "yaxis": "y2"
        },
        {
         "customdata": [
          [
           "T34_1000_ref",
           "REMIND 3.0"
          ],
          [
           "T34_1000_ref",
           "REMIND 3.0"
          ],
          [
           "T34_1000_ref",
           "REMIND 3.0"
          ],
          [
           "T34_1000_ref",
           "REMIND 3.0"
          ],
          [
           "T34_1000_ref",
           "REMIND 3.0"
          ],
          [
           "T34_1000_ref",
           "REMIND 3.0"
          ],
          [
           "T34_1000_ref",
           "REMIND 3.0"
          ],
          [
           "T34_1000_ref",
           "REMIND 3.0"
          ],
          [
           "T34_1000_ref",
           "REMIND 3.0"
          ],
          [
           "T34_1000_ref",
           "REMIND 3.0"
          ],
          [
           "T34_1000_ref",
           "REMIND 3.0"
          ],
          [
           "T34_1000_ref",
           "REMIND 3.0"
          ],
          [
           "T34_1000_ref",
           "REMIND 3.0"
          ],
          [
           "T34_1000_ref",
           "REMIND 3.0"
          ],
          [
           "T34_1000_ref",
           "REMIND 3.0"
          ],
          [
           "T34_1000_ref",
           "REMIND 3.0"
          ]
         ],
         "hovertemplate": "region=OECD<br>model=%{customdata[1]}<br>scenario_narrative=Cost Effective<br>year=%{x}<br>Emissions|CO2=%{y}<br>scenario=%{customdata[0]}<extra></extra>",
         "legendgroup": "OECD, REMIND 3.0",
         "line": {
          "color": "#EF553B",
          "dash": "dot"
         },
         "marker": {
          "symbol": "circle"
         },
         "mode": "lines",
         "name": "OECD, REMIND 3.0",
         "showlegend": false,
         "type": "scattergl",
         "x": [
          2100,
          2090,
          2080,
          2070,
          2060,
          2055,
          2050,
          2045,
          2040,
          2035,
          2030,
          2025,
          2020,
          2015,
          2010,
          2005
         ],
         "xaxis": "x3",
         "y": [
          -0.00013330000000000001,
          -4.9148523,
          -134.3676442,
          -227.9432704,
          -26.4546014,
          431.19358639999996,
          819.2757553,
          1516.9842223,
          2718.300589,
          4123.0479133,
          5440.2733207,
          6629.717707600001,
          8075.5609438,
          8960.0834127,
          9765.288551099999,
          10834.893790900001
         ],
         "yaxis": "y3"
        },
        {
         "customdata": [
          [
           "T34_1000_bitb_em",
           "POLES ENGAGE"
          ],
          [
           "T34_1000_bitb_em",
           "POLES ENGAGE"
          ],
          [
           "T34_1000_bitb_em",
           "POLES ENGAGE"
          ],
          [
           "T34_1000_bitb_em",
           "POLES ENGAGE"
          ],
          [
           "T34_1000_bitb_em",
           "POLES ENGAGE"
          ],
          [
           "T34_1000_bitb_em",
           "POLES ENGAGE"
          ],
          [
           "T34_1000_bitb_em",
           "POLES ENGAGE"
          ],
          [
           "T34_1000_bitb_em",
           "POLES ENGAGE"
          ],
          [
           "T34_1000_bitb_em",
           "POLES ENGAGE"
          ],
          [
           "T34_1000_bitb_em",
           "POLES ENGAGE"
          ],
          [
           "T34_1000_bitb_em",
           "POLES ENGAGE"
          ],
          [
           "T34_1000_bitb_em",
           "POLES ENGAGE"
          ],
          [
           "T34_1000_bitb_em",
           "POLES ENGAGE"
          ],
          [
           "T34_1000_bitb_em",
           "POLES ENGAGE"
          ],
          [
           "T34_1000_bitb_em",
           "POLES ENGAGE"
          ]
         ],
         "hovertemplate": "region=OECD<br>model=%{customdata[1]}<br>scenario_narrative=Tech+Inst<br>year=%{x}<br>Emissions|CO2=%{y}<br>scenario=%{customdata[0]}<extra></extra>",
         "legendgroup": "OECD, POLES ENGAGE",
         "line": {
          "color": "#EF553B",
          "dash": "dash"
         },
         "marker": {
          "symbol": "circle"
         },
         "mode": "lines",
         "name": "OECD, POLES ENGAGE",
         "showlegend": true,
         "type": "scattergl",
         "x": [
          2100,
          2090,
          2080,
          2070,
          2060,
          2050,
          2045,
          2040,
          2035,
          2030,
          2025,
          2020,
          2015,
          2010,
          2005
         ],
         "xaxis": "x4",
         "y": [
          -2006.3070678710938,
          -1918.663818359375,
          -1739.94384765625,
          -1929.95947265625,
          -1224.1007080078125,
          49.04740905761719,
          373.8905944824219,
          1398.4781494140625,
          3008.899658203125,
          4552.4852294921875,
          7345.020263671875,
          8150.056640625,
          9321.853759765625,
          9923.6884765625,
          10254.65576171875
         ],
         "yaxis": "y4"
        },
        {
         "customdata": [
          [
           "T34_1000_bitb_ref",
           "POLES ENGAGE"
          ],
          [
           "T34_1000_bitb_ref",
           "POLES ENGAGE"
          ],
          [
           "T34_1000_bitb_ref",
           "POLES ENGAGE"
          ],
          [
           "T34_1000_bitb_ref",
           "POLES ENGAGE"
          ],
          [
           "T34_1000_bitb_ref",
           "POLES ENGAGE"
          ],
          [
           "T34_1000_bitb_ref",
           "POLES ENGAGE"
          ],
          [
           "T34_1000_bitb_ref",
           "POLES ENGAGE"
          ],
          [
           "T34_1000_bitb_ref",
           "POLES ENGAGE"
          ],
          [
           "T34_1000_bitb_ref",
           "POLES ENGAGE"
          ],
          [
           "T34_1000_bitb_ref",
           "POLES ENGAGE"
          ],
          [
           "T34_1000_bitb_ref",
           "POLES ENGAGE"
          ],
          [
           "T34_1000_bitb_ref",
           "POLES ENGAGE"
          ],
          [
           "T34_1000_bitb_ref",
           "POLES ENGAGE"
          ],
          [
           "T34_1000_bitb_ref",
           "POLES ENGAGE"
          ],
          [
           "T34_1000_bitb_ref",
           "POLES ENGAGE"
          ]
         ],
         "hovertemplate": "region=OECD<br>model=%{customdata[1]}<br>scenario_narrative=Tech<br>year=%{x}<br>Emissions|CO2=%{y}<br>scenario=%{customdata[0]}<extra></extra>",
         "legendgroup": "OECD, POLES ENGAGE",
         "line": {
          "color": "#EF553B",
          "dash": "dash"
         },
         "marker": {
          "symbol": "circle"
         },
         "mode": "lines",
         "name": "OECD, POLES ENGAGE",
         "showlegend": false,
         "type": "scattergl",
         "x": [
          2100,
          2090,
          2080,
          2070,
          2060,
          2050,
          2045,
          2040,
          2035,
          2030,
          2025,
          2020,
          2015,
          2010,
          2005
         ],
         "xaxis": "x5",
         "y": [
          -1537.0950317382812,
          -1104.07861328125,
          -685.07275390625,
          -218.3775978088379,
          636.4130020141602,
          1808.7954406738281,
          2402.1033935546875,
          3447.4832763671875,
          4581.5423583984375,
          5806.1181640625,
          7786.58837890625,
          8150.054931640625,
          9321.853759765625,
          9923.6884765625,
          10254.65576171875
         ],
         "yaxis": "y5"
        },
        {
         "customdata": [
          [
           "T34_1000_feas_em",
           "POLES ENGAGE"
          ],
          [
           "T34_1000_feas_em",
           "POLES ENGAGE"
          ],
          [
           "T34_1000_feas_em",
           "POLES ENGAGE"
          ],
          [
           "T34_1000_feas_em",
           "POLES ENGAGE"
          ],
          [
           "T34_1000_feas_em",
           "POLES ENGAGE"
          ],
          [
           "T34_1000_feas_em",
           "POLES ENGAGE"
          ],
          [
           "T34_1000_feas_em",
           "POLES ENGAGE"
          ],
          [
           "T34_1000_feas_em",
           "POLES ENGAGE"
          ],
          [
           "T34_1000_feas_em",
           "POLES ENGAGE"
          ],
          [
           "T34_1000_feas_em",
           "POLES ENGAGE"
          ],
          [
           "T34_1000_feas_em",
           "POLES ENGAGE"
          ],
          [
           "T34_1000_feas_em",
           "POLES ENGAGE"
          ],
          [
           "T34_1000_feas_em",
           "POLES ENGAGE"
          ],
          [
           "T34_1000_feas_em",
           "POLES ENGAGE"
          ],
          [
           "T34_1000_feas_em",
           "POLES ENGAGE"
          ]
         ],
         "hovertemplate": "region=OECD<br>model=%{customdata[1]}<br>scenario_narrative=Tech+Inst+Enab<br>year=%{x}<br>Emissions|CO2=%{y}<br>scenario=%{customdata[0]}<extra></extra>",
         "legendgroup": "OECD, POLES ENGAGE",
         "line": {
          "color": "#EF553B",
          "dash": "dash"
         },
         "marker": {
          "symbol": "circle"
         },
         "mode": "lines",
         "name": "OECD, POLES ENGAGE",
         "showlegend": false,
         "type": "scattergl",
         "x": [
          2100,
          2090,
          2080,
          2070,
          2060,
          2050,
          2045,
          2040,
          2035,
          2030,
          2025,
          2020,
          2015,
          2010,
          2005
         ],
         "xaxis": "x",
         "y": [
          649.3956756591797,
          -1406.7457885742188,
          -2168.1610717773438,
          -1813.8944702148438,
          -1075.5846252441406,
          49.83774185180664,
          492.02076721191406,
          1335.0441284179688,
          2331.133544921875,
          3800.6171875,
          6967.529541015625,
          8150.056640625,
          9321.853759765625,
          9923.6884765625,
          10254.65576171875
         ],
         "yaxis": "y"
        },
        {
         "customdata": [
          [
           "T34_1000_govem",
           "POLES ENGAGE"
          ],
          [
           "T34_1000_govem",
           "POLES ENGAGE"
          ],
          [
           "T34_1000_govem",
           "POLES ENGAGE"
          ],
          [
           "T34_1000_govem",
           "POLES ENGAGE"
          ],
          [
           "T34_1000_govem",
           "POLES ENGAGE"
          ],
          [
           "T34_1000_govem",
           "POLES ENGAGE"
          ],
          [
           "T34_1000_govem",
           "POLES ENGAGE"
          ],
          [
           "T34_1000_govem",
           "POLES ENGAGE"
          ],
          [
           "T34_1000_govem",
           "POLES ENGAGE"
          ],
          [
           "T34_1000_govem",
           "POLES ENGAGE"
          ],
          [
           "T34_1000_govem",
           "POLES ENGAGE"
          ],
          [
           "T34_1000_govem",
           "POLES ENGAGE"
          ],
          [
           "T34_1000_govem",
           "POLES ENGAGE"
          ],
          [
           "T34_1000_govem",
           "POLES ENGAGE"
          ],
          [
           "T34_1000_govem",
           "POLES ENGAGE"
          ]
         ],
         "hovertemplate": "region=OECD<br>model=%{customdata[1]}<br>scenario_narrative=Instit<br>year=%{x}<br>Emissions|CO2=%{y}<br>scenario=%{customdata[0]}<extra></extra>",
         "legendgroup": "OECD, POLES ENGAGE",
         "line": {
          "color": "#EF553B",
          "dash": "dash"
         },
         "marker": {
          "symbol": "circle"
         },
         "mode": "lines",
         "name": "OECD, POLES ENGAGE",
         "showlegend": false,
         "type": "scattergl",
         "x": [
          2100,
          2090,
          2080,
          2070,
          2060,
          2050,
          2045,
          2040,
          2035,
          2030,
          2025,
          2020,
          2015,
          2010,
          2005
         ],
         "xaxis": "x2",
         "y": [
          1485.6800842285156,
          -1296.4081420898438,
          -2510.0852661132812,
          -1975.39404296875,
          -1104.7589111328125,
          81.90594100952148,
          511.3316192626953,
          1566.5718994140625,
          3024.7188720703125,
          4548.8421630859375,
          7314.174560546875,
          8150.056640625,
          9321.853759765625,
          9923.6884765625,
          10254.65576171875
         ],
         "yaxis": "y2"
        },
        {
         "customdata": [
          [
           "T34_1000_ref",
           "POLES ENGAGE"
          ],
          [
           "T34_1000_ref",
           "POLES ENGAGE"
          ],
          [
           "T34_1000_ref",
           "POLES ENGAGE"
          ],
          [
           "T34_1000_ref",
           "POLES ENGAGE"
          ],
          [
           "T34_1000_ref",
           "POLES ENGAGE"
          ],
          [
           "T34_1000_ref",
           "POLES ENGAGE"
          ],
          [
           "T34_1000_ref",
           "POLES ENGAGE"
          ],
          [
           "T34_1000_ref",
           "POLES ENGAGE"
          ],
          [
           "T34_1000_ref",
           "POLES ENGAGE"
          ],
          [
           "T34_1000_ref",
           "POLES ENGAGE"
          ],
          [
           "T34_1000_ref",
           "POLES ENGAGE"
          ],
          [
           "T34_1000_ref",
           "POLES ENGAGE"
          ],
          [
           "T34_1000_ref",
           "POLES ENGAGE"
          ],
          [
           "T34_1000_ref",
           "POLES ENGAGE"
          ],
          [
           "T34_1000_ref",
           "POLES ENGAGE"
          ]
         ],
         "hovertemplate": "region=OECD<br>model=%{customdata[1]}<br>scenario_narrative=Cost Effective<br>year=%{x}<br>Emissions|CO2=%{y}<br>scenario=%{customdata[0]}<extra></extra>",
         "legendgroup": "OECD, POLES ENGAGE",
         "line": {
          "color": "#EF553B",
          "dash": "dash"
         },
         "marker": {
          "symbol": "circle"
         },
         "mode": "lines",
         "name": "OECD, POLES ENGAGE",
         "showlegend": false,
         "type": "scattergl",
         "x": [
          2100,
          2090,
          2080,
          2070,
          2060,
          2050,
          2045,
          2040,
          2035,
          2030,
          2025,
          2020,
          2015,
          2010,
          2005
         ],
         "xaxis": "x3",
         "y": [
          -532.5687065124512,
          -433.1996440887451,
          -299.7588348388672,
          -218.85991287231445,
          50.01805877685547,
          823.0845489501953,
          1400.9839782714844,
          2620.9314575195312,
          4016.1988525390625,
          5397.499267578125,
          7653.86669921875,
          8150.056640625,
          9321.853759765625,
          9923.6884765625,
          10254.65576171875
         ],
         "yaxis": "y3"
        },
        {
         "customdata": [
          [
           "T34_1000_bitb_em",
           "MESSAGEix-GLOBIOM_1.1"
          ],
          [
           "T34_1000_bitb_em",
           "MESSAGEix-GLOBIOM_1.1"
          ],
          [
           "T34_1000_bitb_em",
           "MESSAGEix-GLOBIOM_1.1"
          ],
          [
           "T34_1000_bitb_em",
           "MESSAGEix-GLOBIOM_1.1"
          ],
          [
           "T34_1000_bitb_em",
           "MESSAGEix-GLOBIOM_1.1"
          ],
          [
           "T34_1000_bitb_em",
           "MESSAGEix-GLOBIOM_1.1"
          ],
          [
           "T34_1000_bitb_em",
           "MESSAGEix-GLOBIOM_1.1"
          ],
          [
           "T34_1000_bitb_em",
           "MESSAGEix-GLOBIOM_1.1"
          ],
          [
           "T34_1000_bitb_em",
           "MESSAGEix-GLOBIOM_1.1"
          ],
          [
           "T34_1000_bitb_em",
           "MESSAGEix-GLOBIOM_1.1"
          ],
          [
           "T34_1000_bitb_em",
           "MESSAGEix-GLOBIOM_1.1"
          ],
          [
           "T34_1000_bitb_em",
           "MESSAGEix-GLOBIOM_1.1"
          ],
          [
           "T34_1000_bitb_em",
           "MESSAGEix-GLOBIOM_1.1"
          ],
          [
           "T34_1000_bitb_em",
           "MESSAGEix-GLOBIOM_1.1"
          ],
          [
           "T34_1000_bitb_em",
           "MESSAGEix-GLOBIOM_1.1"
          ],
          [
           "T34_1000_bitb_em",
           "MESSAGEix-GLOBIOM_1.1"
          ],
          [
           "T34_1000_bitb_em",
           "MESSAGEix-GLOBIOM_1.1"
          ],
          [
           "T34_1000_bitb_em",
           "MESSAGEix-GLOBIOM_1.1"
          ],
          [
           "T34_1000_bitb_em",
           "MESSAGEix-GLOBIOM_1.1"
          ],
          [
           "T34_1000_bitb_em",
           "MESSAGEix-GLOBIOM_1.1"
          ]
         ],
         "hovertemplate": "region=OECD<br>model=%{customdata[1]}<br>scenario_narrative=Tech+Inst<br>year=%{x}<br>Emissions|CO2=%{y}<br>scenario=%{customdata[0]}<extra></extra>",
         "legendgroup": "OECD, MESSAGEix-GLOBIOM_1.1",
         "line": {
          "color": "#EF553B",
          "dash": "longdash"
         },
         "marker": {
          "symbol": "circle"
         },
         "mode": "lines",
         "name": "OECD, MESSAGEix-GLOBIOM_1.1",
         "showlegend": true,
         "type": "scattergl",
         "x": [
          2110,
          2100,
          2090,
          2080,
          2070,
          2060,
          2055,
          2050,
          2045,
          2040,
          2035,
          2030,
          2025,
          2020,
          2015,
          2010,
          2005,
          2000,
          1995,
          1990
         ],
         "xaxis": "x4",
         "y": [
          -5683.358705830505,
          -5728.836708542024,
          -5685.666923051817,
          -5386.6561311432615,
          -3101.9058880291414,
          -1183.9030048977293,
          -498.1202582698203,
          153.14601006412883,
          915.6427376412857,
          2046.566281984942,
          3575.0724397203276,
          5590.033657428388,
          8302.039746291448,
          10032.99581684467,
          10429.292103029084,
          11185.05279897168,
          12358.525187529947,
          11777.769719588214,
          11327.363449243163,
          10954.544159324123
         ],
         "yaxis": "y4"
        },
        {
         "customdata": [
          [
           "T34_1000_bitb_ref",
           "MESSAGEix-GLOBIOM_1.1"
          ],
          [
           "T34_1000_bitb_ref",
           "MESSAGEix-GLOBIOM_1.1"
          ],
          [
           "T34_1000_bitb_ref",
           "MESSAGEix-GLOBIOM_1.1"
          ],
          [
           "T34_1000_bitb_ref",
           "MESSAGEix-GLOBIOM_1.1"
          ],
          [
           "T34_1000_bitb_ref",
           "MESSAGEix-GLOBIOM_1.1"
          ],
          [
           "T34_1000_bitb_ref",
           "MESSAGEix-GLOBIOM_1.1"
          ],
          [
           "T34_1000_bitb_ref",
           "MESSAGEix-GLOBIOM_1.1"
          ],
          [
           "T34_1000_bitb_ref",
           "MESSAGEix-GLOBIOM_1.1"
          ],
          [
           "T34_1000_bitb_ref",
           "MESSAGEix-GLOBIOM_1.1"
          ],
          [
           "T34_1000_bitb_ref",
           "MESSAGEix-GLOBIOM_1.1"
          ],
          [
           "T34_1000_bitb_ref",
           "MESSAGEix-GLOBIOM_1.1"
          ],
          [
           "T34_1000_bitb_ref",
           "MESSAGEix-GLOBIOM_1.1"
          ],
          [
           "T34_1000_bitb_ref",
           "MESSAGEix-GLOBIOM_1.1"
          ],
          [
           "T34_1000_bitb_ref",
           "MESSAGEix-GLOBIOM_1.1"
          ],
          [
           "T34_1000_bitb_ref",
           "MESSAGEix-GLOBIOM_1.1"
          ],
          [
           "T34_1000_bitb_ref",
           "MESSAGEix-GLOBIOM_1.1"
          ],
          [
           "T34_1000_bitb_ref",
           "MESSAGEix-GLOBIOM_1.1"
          ],
          [
           "T34_1000_bitb_ref",
           "MESSAGEix-GLOBIOM_1.1"
          ],
          [
           "T34_1000_bitb_ref",
           "MESSAGEix-GLOBIOM_1.1"
          ],
          [
           "T34_1000_bitb_ref",
           "MESSAGEix-GLOBIOM_1.1"
          ]
         ],
         "hovertemplate": "region=OECD<br>model=%{customdata[1]}<br>scenario_narrative=Tech<br>year=%{x}<br>Emissions|CO2=%{y}<br>scenario=%{customdata[0]}<extra></extra>",
         "legendgroup": "OECD, MESSAGEix-GLOBIOM_1.1",
         "line": {
          "color": "#EF553B",
          "dash": "longdash"
         },
         "marker": {
          "symbol": "circle"
         },
         "mode": "lines",
         "name": "OECD, MESSAGEix-GLOBIOM_1.1",
         "showlegend": false,
         "type": "scattergl",
         "x": [
          2110,
          2100,
          2090,
          2080,
          2070,
          2060,
          2055,
          2050,
          2045,
          2040,
          2035,
          2030,
          2025,
          2020,
          2015,
          2010,
          2005,
          2000,
          1995,
          1990
         ],
         "xaxis": "x5",
         "y": [
          22.8708722797976,
          71.89682582341443,
          57.47344621662515,
          -124.5938479035508,
          -380.39316046192005,
          1014.7673294082001,
          1579.5187886892331,
          2716.9799546608024,
          3942.8221675810128,
          5398.627255073225,
          6530.230839165504,
          7329.813758951168,
          8302.039746291448,
          10032.99581684467,
          10429.292103029084,
          11185.05279897168,
          12358.525187529947,
          11777.769719588214,
          11327.363449243163,
          10954.544159324123
         ],
         "yaxis": "y5"
        },
        {
         "customdata": [
          [
           "T34_1000_enab_em",
           "MESSAGEix-GLOBIOM_1.1"
          ],
          [
           "T34_1000_enab_em",
           "MESSAGEix-GLOBIOM_1.1"
          ],
          [
           "T34_1000_enab_em",
           "MESSAGEix-GLOBIOM_1.1"
          ],
          [
           "T34_1000_enab_em",
           "MESSAGEix-GLOBIOM_1.1"
          ],
          [
           "T34_1000_enab_em",
           "MESSAGEix-GLOBIOM_1.1"
          ],
          [
           "T34_1000_enab_em",
           "MESSAGEix-GLOBIOM_1.1"
          ],
          [
           "T34_1000_enab_em",
           "MESSAGEix-GLOBIOM_1.1"
          ],
          [
           "T34_1000_enab_em",
           "MESSAGEix-GLOBIOM_1.1"
          ],
          [
           "T34_1000_enab_em",
           "MESSAGEix-GLOBIOM_1.1"
          ],
          [
           "T34_1000_enab_em",
           "MESSAGEix-GLOBIOM_1.1"
          ],
          [
           "T34_1000_enab_em",
           "MESSAGEix-GLOBIOM_1.1"
          ],
          [
           "T34_1000_enab_em",
           "MESSAGEix-GLOBIOM_1.1"
          ],
          [
           "T34_1000_enab_em",
           "MESSAGEix-GLOBIOM_1.1"
          ],
          [
           "T34_1000_enab_em",
           "MESSAGEix-GLOBIOM_1.1"
          ],
          [
           "T34_1000_enab_em",
           "MESSAGEix-GLOBIOM_1.1"
          ],
          [
           "T34_1000_enab_em",
           "MESSAGEix-GLOBIOM_1.1"
          ],
          [
           "T34_1000_enab_em",
           "MESSAGEix-GLOBIOM_1.1"
          ],
          [
           "T34_1000_enab_em",
           "MESSAGEix-GLOBIOM_1.1"
          ],
          [
           "T34_1000_enab_em",
           "MESSAGEix-GLOBIOM_1.1"
          ],
          [
           "T34_1000_enab_em",
           "MESSAGEix-GLOBIOM_1.1"
          ]
         ],
         "hovertemplate": "region=OECD<br>model=%{customdata[1]}<br>scenario_narrative=Inst+Enab<br>year=%{x}<br>Emissions|CO2=%{y}<br>scenario=%{customdata[0]}<extra></extra>",
         "legendgroup": "OECD, MESSAGEix-GLOBIOM_1.1",
         "line": {
          "color": "#EF553B",
          "dash": "longdash"
         },
         "marker": {
          "symbol": "circle"
         },
         "mode": "lines",
         "name": "OECD, MESSAGEix-GLOBIOM_1.1",
         "showlegend": false,
         "type": "scattergl",
         "x": [
          2110,
          2100,
          2090,
          2080,
          2070,
          2060,
          2055,
          2050,
          2045,
          2040,
          2035,
          2030,
          2025,
          2020,
          2015,
          2010,
          2005,
          2000,
          1995,
          1990
         ],
         "xaxis": "x6",
         "y": [
          -4771.813702866125,
          -4680.875236476681,
          -4020.3665956025134,
          -3665.910061961172,
          -2575.5310374680544,
          -922.8923841605042,
          -128.7232916254822,
          754.7715133051895,
          1781.5634250197863,
          3261.0716848297307,
          4853.54618839535,
          6674.430714674758,
          8302.039746291448,
          10032.99581684467,
          10429.292103029084,
          11185.05279897168,
          12358.525187529947,
          11777.769719588214,
          11327.363449243163,
          10954.544159324123
         ],
         "yaxis": "y6"
        },
        {
         "customdata": [
          [
           "T34_1000_feas_em",
           "MESSAGEix-GLOBIOM_1.1"
          ],
          [
           "T34_1000_feas_em",
           "MESSAGEix-GLOBIOM_1.1"
          ],
          [
           "T34_1000_feas_em",
           "MESSAGEix-GLOBIOM_1.1"
          ],
          [
           "T34_1000_feas_em",
           "MESSAGEix-GLOBIOM_1.1"
          ],
          [
           "T34_1000_feas_em",
           "MESSAGEix-GLOBIOM_1.1"
          ],
          [
           "T34_1000_feas_em",
           "MESSAGEix-GLOBIOM_1.1"
          ],
          [
           "T34_1000_feas_em",
           "MESSAGEix-GLOBIOM_1.1"
          ],
          [
           "T34_1000_feas_em",
           "MESSAGEix-GLOBIOM_1.1"
          ],
          [
           "T34_1000_feas_em",
           "MESSAGEix-GLOBIOM_1.1"
          ],
          [
           "T34_1000_feas_em",
           "MESSAGEix-GLOBIOM_1.1"
          ],
          [
           "T34_1000_feas_em",
           "MESSAGEix-GLOBIOM_1.1"
          ],
          [
           "T34_1000_feas_em",
           "MESSAGEix-GLOBIOM_1.1"
          ],
          [
           "T34_1000_feas_em",
           "MESSAGEix-GLOBIOM_1.1"
          ],
          [
           "T34_1000_feas_em",
           "MESSAGEix-GLOBIOM_1.1"
          ],
          [
           "T34_1000_feas_em",
           "MESSAGEix-GLOBIOM_1.1"
          ],
          [
           "T34_1000_feas_em",
           "MESSAGEix-GLOBIOM_1.1"
          ],
          [
           "T34_1000_feas_em",
           "MESSAGEix-GLOBIOM_1.1"
          ],
          [
           "T34_1000_feas_em",
           "MESSAGEix-GLOBIOM_1.1"
          ],
          [
           "T34_1000_feas_em",
           "MESSAGEix-GLOBIOM_1.1"
          ],
          [
           "T34_1000_feas_em",
           "MESSAGEix-GLOBIOM_1.1"
          ]
         ],
         "hovertemplate": "region=OECD<br>model=%{customdata[1]}<br>scenario_narrative=Tech+Inst+Enab<br>year=%{x}<br>Emissions|CO2=%{y}<br>scenario=%{customdata[0]}<extra></extra>",
         "legendgroup": "OECD, MESSAGEix-GLOBIOM_1.1",
         "line": {
          "color": "#EF553B",
          "dash": "longdash"
         },
         "marker": {
          "symbol": "circle"
         },
         "mode": "lines",
         "name": "OECD, MESSAGEix-GLOBIOM_1.1",
         "showlegend": false,
         "type": "scattergl",
         "x": [
          2110,
          2100,
          2090,
          2080,
          2070,
          2060,
          2055,
          2050,
          2045,
          2040,
          2035,
          2030,
          2025,
          2020,
          2015,
          2010,
          2005,
          2000,
          1995,
          1990
         ],
         "xaxis": "x",
         "y": [
          -4699.237857520328,
          -4584.9643437280165,
          -4038.6995628688837,
          -3672.3548455880764,
          -2570.9768550251465,
          -915.1776056599381,
          -122.95794016345607,
          754.3347434931384,
          1819.477100058754,
          3309.139517158265,
          4909.585953450824,
          6743.260884832473,
          8302.039746291448,
          10032.99581684467,
          10429.292103029084,
          11185.05279897168,
          12358.525187529947,
          11777.769719588214,
          11327.363449243163,
          10954.544159324123
         ],
         "yaxis": "y"
        },
        {
         "customdata": [
          [
           "T34_1000_govem",
           "MESSAGEix-GLOBIOM_1.1"
          ],
          [
           "T34_1000_govem",
           "MESSAGEix-GLOBIOM_1.1"
          ],
          [
           "T34_1000_govem",
           "MESSAGEix-GLOBIOM_1.1"
          ],
          [
           "T34_1000_govem",
           "MESSAGEix-GLOBIOM_1.1"
          ],
          [
           "T34_1000_govem",
           "MESSAGEix-GLOBIOM_1.1"
          ],
          [
           "T34_1000_govem",
           "MESSAGEix-GLOBIOM_1.1"
          ],
          [
           "T34_1000_govem",
           "MESSAGEix-GLOBIOM_1.1"
          ],
          [
           "T34_1000_govem",
           "MESSAGEix-GLOBIOM_1.1"
          ],
          [
           "T34_1000_govem",
           "MESSAGEix-GLOBIOM_1.1"
          ],
          [
           "T34_1000_govem",
           "MESSAGEix-GLOBIOM_1.1"
          ],
          [
           "T34_1000_govem",
           "MESSAGEix-GLOBIOM_1.1"
          ],
          [
           "T34_1000_govem",
           "MESSAGEix-GLOBIOM_1.1"
          ],
          [
           "T34_1000_govem",
           "MESSAGEix-GLOBIOM_1.1"
          ],
          [
           "T34_1000_govem",
           "MESSAGEix-GLOBIOM_1.1"
          ],
          [
           "T34_1000_govem",
           "MESSAGEix-GLOBIOM_1.1"
          ],
          [
           "T34_1000_govem",
           "MESSAGEix-GLOBIOM_1.1"
          ],
          [
           "T34_1000_govem",
           "MESSAGEix-GLOBIOM_1.1"
          ],
          [
           "T34_1000_govem",
           "MESSAGEix-GLOBIOM_1.1"
          ],
          [
           "T34_1000_govem",
           "MESSAGEix-GLOBIOM_1.1"
          ],
          [
           "T34_1000_govem",
           "MESSAGEix-GLOBIOM_1.1"
          ]
         ],
         "hovertemplate": "region=OECD<br>model=%{customdata[1]}<br>scenario_narrative=Instit<br>year=%{x}<br>Emissions|CO2=%{y}<br>scenario=%{customdata[0]}<extra></extra>",
         "legendgroup": "OECD, MESSAGEix-GLOBIOM_1.1",
         "line": {
          "color": "#EF553B",
          "dash": "longdash"
         },
         "marker": {
          "symbol": "circle"
         },
         "mode": "lines",
         "name": "OECD, MESSAGEix-GLOBIOM_1.1",
         "showlegend": false,
         "type": "scattergl",
         "x": [
          2110,
          2100,
          2090,
          2080,
          2070,
          2060,
          2055,
          2050,
          2045,
          2040,
          2035,
          2030,
          2025,
          2020,
          2015,
          2010,
          2005,
          2000,
          1995,
          1990
         ],
         "xaxis": "x2",
         "y": [
          -6818.946237684158,
          -6933.090682317161,
          -6502.232777336313,
          -5581.866653470333,
          -2994.8079200955235,
          -1146.8409358580716,
          -467.3330496954728,
          192.99978170381723,
          968.0695720039871,
          2161.2896502215785,
          3681.2186372129877,
          5668.257208579666,
          8302.039746291448,
          10032.99581684467,
          10429.292103029084,
          11185.05279897168,
          12358.525187529947,
          11777.769719588214,
          11327.363449243163,
          10954.544159324123
         ],
         "yaxis": "y2"
        },
        {
         "customdata": [
          [
           "T34_1000_ref",
           "MESSAGEix-GLOBIOM_1.1"
          ],
          [
           "T34_1000_ref",
           "MESSAGEix-GLOBIOM_1.1"
          ],
          [
           "T34_1000_ref",
           "MESSAGEix-GLOBIOM_1.1"
          ],
          [
           "T34_1000_ref",
           "MESSAGEix-GLOBIOM_1.1"
          ],
          [
           "T34_1000_ref",
           "MESSAGEix-GLOBIOM_1.1"
          ],
          [
           "T34_1000_ref",
           "MESSAGEix-GLOBIOM_1.1"
          ],
          [
           "T34_1000_ref",
           "MESSAGEix-GLOBIOM_1.1"
          ],
          [
           "T34_1000_ref",
           "MESSAGEix-GLOBIOM_1.1"
          ],
          [
           "T34_1000_ref",
           "MESSAGEix-GLOBIOM_1.1"
          ],
          [
           "T34_1000_ref",
           "MESSAGEix-GLOBIOM_1.1"
          ],
          [
           "T34_1000_ref",
           "MESSAGEix-GLOBIOM_1.1"
          ],
          [
           "T34_1000_ref",
           "MESSAGEix-GLOBIOM_1.1"
          ],
          [
           "T34_1000_ref",
           "MESSAGEix-GLOBIOM_1.1"
          ],
          [
           "T34_1000_ref",
           "MESSAGEix-GLOBIOM_1.1"
          ],
          [
           "T34_1000_ref",
           "MESSAGEix-GLOBIOM_1.1"
          ],
          [
           "T34_1000_ref",
           "MESSAGEix-GLOBIOM_1.1"
          ],
          [
           "T34_1000_ref",
           "MESSAGEix-GLOBIOM_1.1"
          ],
          [
           "T34_1000_ref",
           "MESSAGEix-GLOBIOM_1.1"
          ],
          [
           "T34_1000_ref",
           "MESSAGEix-GLOBIOM_1.1"
          ],
          [
           "T34_1000_ref",
           "MESSAGEix-GLOBIOM_1.1"
          ]
         ],
         "hovertemplate": "region=OECD<br>model=%{customdata[1]}<br>scenario_narrative=Cost Effective<br>year=%{x}<br>Emissions|CO2=%{y}<br>scenario=%{customdata[0]}<extra></extra>",
         "legendgroup": "OECD, MESSAGEix-GLOBIOM_1.1",
         "line": {
          "color": "#EF553B",
          "dash": "longdash"
         },
         "marker": {
          "symbol": "circle"
         },
         "mode": "lines",
         "name": "OECD, MESSAGEix-GLOBIOM_1.1",
         "showlegend": false,
         "type": "scattergl",
         "x": [
          2110,
          2100,
          2090,
          2080,
          2070,
          2060,
          2055,
          2050,
          2045,
          2040,
          2035,
          2030,
          2025,
          2020,
          2015,
          2010,
          2005,
          2000,
          1995,
          1990
         ],
         "xaxis": "x3",
         "y": [
          -91.15735640635664,
          -8.889810506306276,
          10.01327080464447,
          -291.14132989075466,
          -388.736698674962,
          902.110342903348,
          1571.2768488614786,
          2814.6751478008955,
          3996.6769356361774,
          5428.764528549986,
          6538.759012238936,
          7371.100325888745,
          8302.039746291448,
          10032.99581684467,
          10429.292103029084,
          11185.05279897168,
          12358.525187529947,
          11777.769719588214,
          11327.363449243163,
          10954.544159324123
         ],
         "yaxis": "y3"
        },
        {
         "customdata": [
          [
           "T34_1000_bitb_em",
           "IMAGE 3.2"
          ],
          [
           "T34_1000_bitb_em",
           "IMAGE 3.2"
          ],
          [
           "T34_1000_bitb_em",
           "IMAGE 3.2"
          ],
          [
           "T34_1000_bitb_em",
           "IMAGE 3.2"
          ],
          [
           "T34_1000_bitb_em",
           "IMAGE 3.2"
          ],
          [
           "T34_1000_bitb_em",
           "IMAGE 3.2"
          ],
          [
           "T34_1000_bitb_em",
           "IMAGE 3.2"
          ],
          [
           "T34_1000_bitb_em",
           "IMAGE 3.2"
          ],
          [
           "T34_1000_bitb_em",
           "IMAGE 3.2"
          ],
          [
           "T34_1000_bitb_em",
           "IMAGE 3.2"
          ],
          [
           "T34_1000_bitb_em",
           "IMAGE 3.2"
          ],
          [
           "T34_1000_bitb_em",
           "IMAGE 3.2"
          ],
          [
           "T34_1000_bitb_em",
           "IMAGE 3.2"
          ],
          [
           "T34_1000_bitb_em",
           "IMAGE 3.2"
          ],
          [
           "T34_1000_bitb_em",
           "IMAGE 3.2"
          ],
          [
           "T34_1000_bitb_em",
           "IMAGE 3.2"
          ],
          [
           "T34_1000_bitb_em",
           "IMAGE 3.2"
          ],
          [
           "T34_1000_bitb_em",
           "IMAGE 3.2"
          ],
          [
           "T34_1000_bitb_em",
           "IMAGE 3.2"
          ],
          [
           "T34_1000_bitb_em",
           "IMAGE 3.2"
          ]
         ],
         "hovertemplate": "region=OECD<br>model=%{customdata[1]}<br>scenario_narrative=Tech+Inst<br>year=%{x}<br>Emissions|CO2=%{y}<br>scenario=%{customdata[0]}<extra></extra>",
         "legendgroup": "OECD, IMAGE 3.2",
         "line": {
          "color": "#EF553B",
          "dash": "dashdot"
         },
         "marker": {
          "symbol": "circle"
         },
         "mode": "lines",
         "name": "OECD, IMAGE 3.2",
         "showlegend": true,
         "type": "scattergl",
         "x": [
          2100,
          2095,
          2090,
          2085,
          2080,
          2075,
          2070,
          2065,
          2060,
          2055,
          2050,
          2045,
          2040,
          2035,
          2030,
          2025,
          2020,
          2015,
          2010,
          2005
         ],
         "xaxis": "x4",
         "y": [
          -316.32321833466233,
          -425.14719315261254,
          -377.87064063010587,
          -504.69945403554647,
          -247.6794983870443,
          -257.14687385512593,
          70.42097314839006,
          38.710537874244125,
          331.8674901628195,
          604.3502830418997,
          1221.8021883485808,
          1921.8803458371513,
          2853.917852025397,
          3373.0904315200232,
          4492.591446331269,
          6619.039129223151,
          8860.154516389779,
          9846.779847086567,
          10465.281685826878,
          10961.99386187708
         ],
         "yaxis": "y4"
        },
        {
         "customdata": [
          [
           "T34_1000_bitb_ref",
           "IMAGE 3.2"
          ],
          [
           "T34_1000_bitb_ref",
           "IMAGE 3.2"
          ],
          [
           "T34_1000_bitb_ref",
           "IMAGE 3.2"
          ],
          [
           "T34_1000_bitb_ref",
           "IMAGE 3.2"
          ],
          [
           "T34_1000_bitb_ref",
           "IMAGE 3.2"
          ],
          [
           "T34_1000_bitb_ref",
           "IMAGE 3.2"
          ],
          [
           "T34_1000_bitb_ref",
           "IMAGE 3.2"
          ],
          [
           "T34_1000_bitb_ref",
           "IMAGE 3.2"
          ],
          [
           "T34_1000_bitb_ref",
           "IMAGE 3.2"
          ],
          [
           "T34_1000_bitb_ref",
           "IMAGE 3.2"
          ],
          [
           "T34_1000_bitb_ref",
           "IMAGE 3.2"
          ],
          [
           "T34_1000_bitb_ref",
           "IMAGE 3.2"
          ],
          [
           "T34_1000_bitb_ref",
           "IMAGE 3.2"
          ],
          [
           "T34_1000_bitb_ref",
           "IMAGE 3.2"
          ],
          [
           "T34_1000_bitb_ref",
           "IMAGE 3.2"
          ],
          [
           "T34_1000_bitb_ref",
           "IMAGE 3.2"
          ],
          [
           "T34_1000_bitb_ref",
           "IMAGE 3.2"
          ],
          [
           "T34_1000_bitb_ref",
           "IMAGE 3.2"
          ],
          [
           "T34_1000_bitb_ref",
           "IMAGE 3.2"
          ],
          [
           "T34_1000_bitb_ref",
           "IMAGE 3.2"
          ]
         ],
         "hovertemplate": "region=OECD<br>model=%{customdata[1]}<br>scenario_narrative=Tech<br>year=%{x}<br>Emissions|CO2=%{y}<br>scenario=%{customdata[0]}<extra></extra>",
         "legendgroup": "OECD, IMAGE 3.2",
         "line": {
          "color": "#EF553B",
          "dash": "dashdot"
         },
         "marker": {
          "symbol": "circle"
         },
         "mode": "lines",
         "name": "OECD, IMAGE 3.2",
         "showlegend": false,
         "type": "scattergl",
         "x": [
          2100,
          2095,
          2090,
          2085,
          2080,
          2075,
          2070,
          2065,
          2060,
          2055,
          2050,
          2045,
          2040,
          2035,
          2030,
          2025,
          2020,
          2015,
          2010,
          2005
         ],
         "xaxis": "x5",
         "y": [
          -100.54776625752575,
          -229.8821848442525,
          -104.80808608690023,
          -136.4166226908403,
          150.50495482859316,
          256.85583864003956,
          594.2616590404333,
          609.152269895618,
          1011.2171841587012,
          1288.6404846091332,
          1849.205335149392,
          2465.5178517357754,
          3358.7373723858245,
          3811.510546712875,
          4941.398445578612,
          6851.97426158889,
          8860.154516389779,
          9846.779847086567,
          10465.281685826878,
          10961.99386187708
         ],
         "yaxis": "y5"
        },
        {
         "customdata": [
          [
           "T34_1000_feas_em",
           "IMAGE 3.2"
          ],
          [
           "T34_1000_feas_em",
           "IMAGE 3.2"
          ],
          [
           "T34_1000_feas_em",
           "IMAGE 3.2"
          ],
          [
           "T34_1000_feas_em",
           "IMAGE 3.2"
          ],
          [
           "T34_1000_feas_em",
           "IMAGE 3.2"
          ],
          [
           "T34_1000_feas_em",
           "IMAGE 3.2"
          ],
          [
           "T34_1000_feas_em",
           "IMAGE 3.2"
          ],
          [
           "T34_1000_feas_em",
           "IMAGE 3.2"
          ],
          [
           "T34_1000_feas_em",
           "IMAGE 3.2"
          ],
          [
           "T34_1000_feas_em",
           "IMAGE 3.2"
          ],
          [
           "T34_1000_feas_em",
           "IMAGE 3.2"
          ],
          [
           "T34_1000_feas_em",
           "IMAGE 3.2"
          ],
          [
           "T34_1000_feas_em",
           "IMAGE 3.2"
          ],
          [
           "T34_1000_feas_em",
           "IMAGE 3.2"
          ],
          [
           "T34_1000_feas_em",
           "IMAGE 3.2"
          ],
          [
           "T34_1000_feas_em",
           "IMAGE 3.2"
          ],
          [
           "T34_1000_feas_em",
           "IMAGE 3.2"
          ],
          [
           "T34_1000_feas_em",
           "IMAGE 3.2"
          ],
          [
           "T34_1000_feas_em",
           "IMAGE 3.2"
          ],
          [
           "T34_1000_feas_em",
           "IMAGE 3.2"
          ]
         ],
         "hovertemplate": "region=OECD<br>model=%{customdata[1]}<br>scenario_narrative=Tech+Inst+Enab<br>year=%{x}<br>Emissions|CO2=%{y}<br>scenario=%{customdata[0]}<extra></extra>",
         "legendgroup": "OECD, IMAGE 3.2",
         "line": {
          "color": "#EF553B",
          "dash": "dashdot"
         },
         "marker": {
          "symbol": "circle"
         },
         "mode": "lines",
         "name": "OECD, IMAGE 3.2",
         "showlegend": false,
         "type": "scattergl",
         "x": [
          2100,
          2095,
          2090,
          2085,
          2080,
          2075,
          2070,
          2065,
          2060,
          2055,
          2050,
          2045,
          2040,
          2035,
          2030,
          2025,
          2020,
          2015,
          2010,
          2005
         ],
         "xaxis": "x",
         "y": [
          -1259.6099322589928,
          -1471.9147289342661,
          -1500.593183971765,
          -1361.8668331748518,
          -1226.3977849803669,
          -1275.3671761718506,
          -899.1652724765584,
          -671.0230335209833,
          -159.4505007610635,
          465.7452504263533,
          1339.5571875200526,
          1946.396647312362,
          2831.3834981313403,
          3522.56559276815,
          4555.846174018498,
          6404.011978731597,
          8826.683091012386,
          9846.764964680968,
          10465.275867141982,
          10961.99386187708
         ],
         "yaxis": "y"
        },
        {
         "customdata": [
          [
           "T34_1000_govem",
           "IMAGE 3.2"
          ],
          [
           "T34_1000_govem",
           "IMAGE 3.2"
          ],
          [
           "T34_1000_govem",
           "IMAGE 3.2"
          ],
          [
           "T34_1000_govem",
           "IMAGE 3.2"
          ],
          [
           "T34_1000_govem",
           "IMAGE 3.2"
          ],
          [
           "T34_1000_govem",
           "IMAGE 3.2"
          ],
          [
           "T34_1000_govem",
           "IMAGE 3.2"
          ],
          [
           "T34_1000_govem",
           "IMAGE 3.2"
          ],
          [
           "T34_1000_govem",
           "IMAGE 3.2"
          ],
          [
           "T34_1000_govem",
           "IMAGE 3.2"
          ],
          [
           "T34_1000_govem",
           "IMAGE 3.2"
          ],
          [
           "T34_1000_govem",
           "IMAGE 3.2"
          ],
          [
           "T34_1000_govem",
           "IMAGE 3.2"
          ],
          [
           "T34_1000_govem",
           "IMAGE 3.2"
          ],
          [
           "T34_1000_govem",
           "IMAGE 3.2"
          ],
          [
           "T34_1000_govem",
           "IMAGE 3.2"
          ],
          [
           "T34_1000_govem",
           "IMAGE 3.2"
          ],
          [
           "T34_1000_govem",
           "IMAGE 3.2"
          ],
          [
           "T34_1000_govem",
           "IMAGE 3.2"
          ],
          [
           "T34_1000_govem",
           "IMAGE 3.2"
          ]
         ],
         "hovertemplate": "region=OECD<br>model=%{customdata[1]}<br>scenario_narrative=Instit<br>year=%{x}<br>Emissions|CO2=%{y}<br>scenario=%{customdata[0]}<extra></extra>",
         "legendgroup": "OECD, IMAGE 3.2",
         "line": {
          "color": "#EF553B",
          "dash": "dashdot"
         },
         "marker": {
          "symbol": "circle"
         },
         "mode": "lines",
         "name": "OECD, IMAGE 3.2",
         "showlegend": false,
         "type": "scattergl",
         "x": [
          2100,
          2095,
          2090,
          2085,
          2080,
          2075,
          2070,
          2065,
          2060,
          2055,
          2050,
          2045,
          2040,
          2035,
          2030,
          2025,
          2020,
          2015,
          2010,
          2005
         ],
         "xaxis": "x2",
         "y": [
          -239.63985890341792,
          -224.50890733852512,
          -4.958291888687725,
          -226.99954313116586,
          -148.14091651991674,
          -415.2019221266071,
          -410.50084992007993,
          -318.35620135976217,
          -105.27089533173395,
          16.120204927002533,
          627.164907671405,
          1264.2801126993666,
          2321.762583625783,
          3583.573440877537,
          4972.633062178945,
          7009.637487412956,
          8860.154516389779,
          9846.779847086567,
          10465.281685826878,
          10961.99386187708
         ],
         "yaxis": "y2"
        },
        {
         "customdata": [
          [
           "T34_1000_ref",
           "IMAGE 3.2"
          ],
          [
           "T34_1000_ref",
           "IMAGE 3.2"
          ],
          [
           "T34_1000_ref",
           "IMAGE 3.2"
          ],
          [
           "T34_1000_ref",
           "IMAGE 3.2"
          ],
          [
           "T34_1000_ref",
           "IMAGE 3.2"
          ],
          [
           "T34_1000_ref",
           "IMAGE 3.2"
          ],
          [
           "T34_1000_ref",
           "IMAGE 3.2"
          ],
          [
           "T34_1000_ref",
           "IMAGE 3.2"
          ],
          [
           "T34_1000_ref",
           "IMAGE 3.2"
          ],
          [
           "T34_1000_ref",
           "IMAGE 3.2"
          ],
          [
           "T34_1000_ref",
           "IMAGE 3.2"
          ],
          [
           "T34_1000_ref",
           "IMAGE 3.2"
          ],
          [
           "T34_1000_ref",
           "IMAGE 3.2"
          ],
          [
           "T34_1000_ref",
           "IMAGE 3.2"
          ],
          [
           "T34_1000_ref",
           "IMAGE 3.2"
          ],
          [
           "T34_1000_ref",
           "IMAGE 3.2"
          ],
          [
           "T34_1000_ref",
           "IMAGE 3.2"
          ],
          [
           "T34_1000_ref",
           "IMAGE 3.2"
          ],
          [
           "T34_1000_ref",
           "IMAGE 3.2"
          ],
          [
           "T34_1000_ref",
           "IMAGE 3.2"
          ]
         ],
         "hovertemplate": "region=OECD<br>model=%{customdata[1]}<br>scenario_narrative=Cost Effective<br>year=%{x}<br>Emissions|CO2=%{y}<br>scenario=%{customdata[0]}<extra></extra>",
         "legendgroup": "OECD, IMAGE 3.2",
         "line": {
          "color": "#EF553B",
          "dash": "dashdot"
         },
         "marker": {
          "symbol": "circle"
         },
         "mode": "lines",
         "name": "OECD, IMAGE 3.2",
         "showlegend": false,
         "type": "scattergl",
         "x": [
          2100,
          2095,
          2090,
          2085,
          2080,
          2075,
          2070,
          2065,
          2060,
          2055,
          2050,
          2045,
          2040,
          2035,
          2030,
          2025,
          2020,
          2015,
          2010,
          2005
         ],
         "xaxis": "x3",
         "y": [
          819.7517097741536,
          671.5953771486472,
          720.7443929175106,
          442.278780977402,
          458.0577186365106,
          265.6585704329719,
          545.3719670473616,
          716.3443855301083,
          1059.5715606381134,
          1263.2515902078178,
          1756.8616309173644,
          2117.898300363435,
          3092.5176000227557,
          4177.578000766335,
          5486.675435882903,
          7392.416092590983,
          8860.154516389779,
          9846.779847086567,
          10465.281685826878,
          10961.99386187708
         ],
         "yaxis": "y3"
        },
        {
         "customdata": [
          [
           "T34_1000_bitb_em",
           "GEM-E3_V2023"
          ],
          [
           "T34_1000_bitb_em",
           "GEM-E3_V2023"
          ],
          [
           "T34_1000_bitb_em",
           "GEM-E3_V2023"
          ],
          [
           "T34_1000_bitb_em",
           "GEM-E3_V2023"
          ],
          [
           "T34_1000_bitb_em",
           "GEM-E3_V2023"
          ],
          [
           "T34_1000_bitb_em",
           "GEM-E3_V2023"
          ],
          [
           "T34_1000_bitb_em",
           "GEM-E3_V2023"
          ],
          [
           "T34_1000_bitb_em",
           "GEM-E3_V2023"
          ],
          [
           "T34_1000_bitb_em",
           "GEM-E3_V2023"
          ],
          [
           "T34_1000_bitb_em",
           "GEM-E3_V2023"
          ],
          [
           "T34_1000_bitb_em",
           "GEM-E3_V2023"
          ],
          [
           "T34_1000_bitb_em",
           "GEM-E3_V2023"
          ],
          [
           "T34_1000_bitb_em",
           "GEM-E3_V2023"
          ],
          [
           "T34_1000_bitb_em",
           "GEM-E3_V2023"
          ],
          [
           "T34_1000_bitb_em",
           "GEM-E3_V2023"
          ],
          [
           "T34_1000_bitb_em",
           "GEM-E3_V2023"
          ],
          [
           "T34_1000_bitb_em",
           "GEM-E3_V2023"
          ],
          [
           "T34_1000_bitb_em",
           "GEM-E3_V2023"
          ]
         ],
         "hovertemplate": "region=OECD<br>model=%{customdata[1]}<br>scenario_narrative=Tech+Inst<br>year=%{x}<br>Emissions|CO2=%{y}<br>scenario=%{customdata[0]}<extra></extra>",
         "legendgroup": "OECD, GEM-E3_V2023",
         "line": {
          "color": "#EF553B",
          "dash": "longdashdot"
         },
         "marker": {
          "symbol": "circle"
         },
         "mode": "lines",
         "name": "OECD, GEM-E3_V2023",
         "showlegend": true,
         "type": "scattergl",
         "x": [
          2100,
          2095,
          2090,
          2085,
          2080,
          2075,
          2070,
          2065,
          2060,
          2055,
          2050,
          2045,
          2040,
          2035,
          2030,
          2025,
          2020,
          2015
         ],
         "xaxis": "x4",
         "y": [
          -1223.9951875834793,
          -1148.3826661727855,
          -1302.8908129568297,
          -1495.6664941541685,
          -1904.6257919259347,
          -2097.6019451795014,
          -2016.6192593531355,
          -1863.8111120228868,
          -1632.6749065285485,
          -1208.8449563750287,
          -431.7748657415009,
          99.23189385805009,
          1403.0789776202703,
          3432.399187453556,
          5265.190402392488,
          6916.4733603827735,
          7465.529215351675,
          8579.79255639537
         ],
         "yaxis": "y4"
        },
        {
         "customdata": [
          [
           "T34_1000_feas_em",
           "GEM-E3_V2023"
          ],
          [
           "T34_1000_feas_em",
           "GEM-E3_V2023"
          ],
          [
           "T34_1000_feas_em",
           "GEM-E3_V2023"
          ],
          [
           "T34_1000_feas_em",
           "GEM-E3_V2023"
          ],
          [
           "T34_1000_feas_em",
           "GEM-E3_V2023"
          ],
          [
           "T34_1000_feas_em",
           "GEM-E3_V2023"
          ],
          [
           "T34_1000_feas_em",
           "GEM-E3_V2023"
          ],
          [
           "T34_1000_feas_em",
           "GEM-E3_V2023"
          ],
          [
           "T34_1000_feas_em",
           "GEM-E3_V2023"
          ],
          [
           "T34_1000_feas_em",
           "GEM-E3_V2023"
          ],
          [
           "T34_1000_feas_em",
           "GEM-E3_V2023"
          ],
          [
           "T34_1000_feas_em",
           "GEM-E3_V2023"
          ],
          [
           "T34_1000_feas_em",
           "GEM-E3_V2023"
          ],
          [
           "T34_1000_feas_em",
           "GEM-E3_V2023"
          ],
          [
           "T34_1000_feas_em",
           "GEM-E3_V2023"
          ],
          [
           "T34_1000_feas_em",
           "GEM-E3_V2023"
          ],
          [
           "T34_1000_feas_em",
           "GEM-E3_V2023"
          ],
          [
           "T34_1000_feas_em",
           "GEM-E3_V2023"
          ]
         ],
         "hovertemplate": "region=OECD<br>model=%{customdata[1]}<br>scenario_narrative=Tech+Inst+Enab<br>year=%{x}<br>Emissions|CO2=%{y}<br>scenario=%{customdata[0]}<extra></extra>",
         "legendgroup": "OECD, GEM-E3_V2023",
         "line": {
          "color": "#EF553B",
          "dash": "longdashdot"
         },
         "marker": {
          "symbol": "circle"
         },
         "mode": "lines",
         "name": "OECD, GEM-E3_V2023",
         "showlegend": false,
         "type": "scattergl",
         "x": [
          2100,
          2095,
          2090,
          2085,
          2080,
          2075,
          2070,
          2065,
          2060,
          2055,
          2050,
          2045,
          2040,
          2035,
          2030,
          2025,
          2020,
          2015
         ],
         "xaxis": "x",
         "y": [
          -1228.9434849842717,
          -1097.4190293614568,
          -1295.6307579261722,
          -1386.0151358807593,
          -1921.9096940028912,
          -2070.931157588102,
          -2040.7966066750469,
          -1859.0309756219262,
          -1629.9693386244758,
          -1309.917556995077,
          -507.34890850652835,
          -74.2395989224708,
          1381.103731405281,
          3233.1205961490004,
          5174.797660064683,
          6816.008960111122,
          7465.529215351675,
          8579.79255639537
         ],
         "yaxis": "y"
        },
        {
         "customdata": [
          [
           "T34_1000_govem",
           "GEM-E3_V2023"
          ],
          [
           "T34_1000_govem",
           "GEM-E3_V2023"
          ],
          [
           "T34_1000_govem",
           "GEM-E3_V2023"
          ],
          [
           "T34_1000_govem",
           "GEM-E3_V2023"
          ],
          [
           "T34_1000_govem",
           "GEM-E3_V2023"
          ],
          [
           "T34_1000_govem",
           "GEM-E3_V2023"
          ],
          [
           "T34_1000_govem",
           "GEM-E3_V2023"
          ],
          [
           "T34_1000_govem",
           "GEM-E3_V2023"
          ],
          [
           "T34_1000_govem",
           "GEM-E3_V2023"
          ],
          [
           "T34_1000_govem",
           "GEM-E3_V2023"
          ],
          [
           "T34_1000_govem",
           "GEM-E3_V2023"
          ],
          [
           "T34_1000_govem",
           "GEM-E3_V2023"
          ],
          [
           "T34_1000_govem",
           "GEM-E3_V2023"
          ],
          [
           "T34_1000_govem",
           "GEM-E3_V2023"
          ],
          [
           "T34_1000_govem",
           "GEM-E3_V2023"
          ],
          [
           "T34_1000_govem",
           "GEM-E3_V2023"
          ],
          [
           "T34_1000_govem",
           "GEM-E3_V2023"
          ],
          [
           "T34_1000_govem",
           "GEM-E3_V2023"
          ]
         ],
         "hovertemplate": "region=OECD<br>model=%{customdata[1]}<br>scenario_narrative=Instit<br>year=%{x}<br>Emissions|CO2=%{y}<br>scenario=%{customdata[0]}<extra></extra>",
         "legendgroup": "OECD, GEM-E3_V2023",
         "line": {
          "color": "#EF553B",
          "dash": "longdashdot"
         },
         "marker": {
          "symbol": "circle"
         },
         "mode": "lines",
         "name": "OECD, GEM-E3_V2023",
         "showlegend": false,
         "type": "scattergl",
         "x": [
          2100,
          2095,
          2090,
          2085,
          2080,
          2075,
          2070,
          2065,
          2060,
          2055,
          2050,
          2045,
          2040,
          2035,
          2030,
          2025,
          2020,
          2015
         ],
         "xaxis": "x2",
         "y": [
          -1993.4480922298449,
          -1562.4505616711149,
          -1617.8626462186999,
          -1739.9071741968646,
          -2514.2350720795453,
          -2995.2128609792826,
          -2828.7012909871746,
          -2646.9918892060223,
          -2354.034710625586,
          -1419.9243634220998,
          -464.87975060982353,
          -41.908908889168174,
          1502.8687641701501,
          3335.167712140641,
          5529.948681416344,
          6956.198530052858,
          7465.529215351675,
          8579.79255639537
         ],
         "yaxis": "y2"
        },
        {
         "customdata": [
          [
           "T34_1000_ref",
           "GEM-E3_V2023"
          ],
          [
           "T34_1000_ref",
           "GEM-E3_V2023"
          ],
          [
           "T34_1000_ref",
           "GEM-E3_V2023"
          ],
          [
           "T34_1000_ref",
           "GEM-E3_V2023"
          ],
          [
           "T34_1000_ref",
           "GEM-E3_V2023"
          ],
          [
           "T34_1000_ref",
           "GEM-E3_V2023"
          ],
          [
           "T34_1000_ref",
           "GEM-E3_V2023"
          ],
          [
           "T34_1000_ref",
           "GEM-E3_V2023"
          ],
          [
           "T34_1000_ref",
           "GEM-E3_V2023"
          ],
          [
           "T34_1000_ref",
           "GEM-E3_V2023"
          ],
          [
           "T34_1000_ref",
           "GEM-E3_V2023"
          ],
          [
           "T34_1000_ref",
           "GEM-E3_V2023"
          ],
          [
           "T34_1000_ref",
           "GEM-E3_V2023"
          ],
          [
           "T34_1000_ref",
           "GEM-E3_V2023"
          ],
          [
           "T34_1000_ref",
           "GEM-E3_V2023"
          ],
          [
           "T34_1000_ref",
           "GEM-E3_V2023"
          ],
          [
           "T34_1000_ref",
           "GEM-E3_V2023"
          ],
          [
           "T34_1000_ref",
           "GEM-E3_V2023"
          ]
         ],
         "hovertemplate": "region=OECD<br>model=%{customdata[1]}<br>scenario_narrative=Cost Effective<br>year=%{x}<br>Emissions|CO2=%{y}<br>scenario=%{customdata[0]}<extra></extra>",
         "legendgroup": "OECD, GEM-E3_V2023",
         "line": {
          "color": "#EF553B",
          "dash": "longdashdot"
         },
         "marker": {
          "symbol": "circle"
         },
         "mode": "lines",
         "name": "OECD, GEM-E3_V2023",
         "showlegend": false,
         "type": "scattergl",
         "x": [
          2100,
          2095,
          2090,
          2085,
          2080,
          2075,
          2070,
          2065,
          2060,
          2055,
          2050,
          2045,
          2040,
          2035,
          2030,
          2025,
          2020,
          2015
         ],
         "xaxis": "x3",
         "y": [
          549.2429581162518,
          569.3412570195574,
          551.2862459239193,
          505.36927223587725,
          437.60255653024973,
          392.2068066933193,
          434.4294643224714,
          744.7740437250559,
          1096.1317183905198,
          1908.7956067875912,
          2654.867905035064,
          3310.790013239994,
          4103.029689518527,
          4983.228230622793,
          6027.737854677936,
          7093.189908026088,
          7465.529215351675,
          8579.79255639537
         ],
         "yaxis": "y3"
        },
        {
         "customdata": [
          [
           "T34_1000_bitb_ref",
           "COFFEE 1.5"
          ],
          [
           "T34_1000_bitb_ref",
           "COFFEE 1.5"
          ],
          [
           "T34_1000_bitb_ref",
           "COFFEE 1.5"
          ],
          [
           "T34_1000_bitb_ref",
           "COFFEE 1.5"
          ],
          [
           "T34_1000_bitb_ref",
           "COFFEE 1.5"
          ],
          [
           "T34_1000_bitb_ref",
           "COFFEE 1.5"
          ],
          [
           "T34_1000_bitb_ref",
           "COFFEE 1.5"
          ],
          [
           "T34_1000_bitb_ref",
           "COFFEE 1.5"
          ],
          [
           "T34_1000_bitb_ref",
           "COFFEE 1.5"
          ],
          [
           "T34_1000_bitb_ref",
           "COFFEE 1.5"
          ],
          [
           "T34_1000_bitb_ref",
           "COFFEE 1.5"
          ],
          [
           "T34_1000_bitb_ref",
           "COFFEE 1.5"
          ],
          [
           "T34_1000_bitb_ref",
           "COFFEE 1.5"
          ],
          [
           "T34_1000_bitb_ref",
           "COFFEE 1.5"
          ]
         ],
         "hovertemplate": "region=OECD<br>model=%{customdata[1]}<br>scenario_narrative=Tech<br>year=%{x}<br>Emissions|CO2=%{y}<br>scenario=%{customdata[0]}<extra></extra>",
         "legendgroup": "OECD, COFFEE 1.5",
         "line": {
          "color": "#EF553B",
          "dash": "solid"
         },
         "marker": {
          "symbol": "circle"
         },
         "mode": "lines",
         "name": "OECD, COFFEE 1.5",
         "showlegend": true,
         "type": "scattergl",
         "x": [
          2100,
          2090,
          2080,
          2070,
          2060,
          2050,
          2045,
          2040,
          2035,
          2030,
          2025,
          2020,
          2015,
          2010
         ],
         "xaxis": "x5",
         "y": [
          1142.469261,
          779.95149,
          425.7859900000001,
          1016.6477769999999,
          2338.299758,
          3891.948122,
          4669.104206,
          6986.313939,
          7807.729375,
          12331.86884712,
          11025.2483812,
          10963.2797498,
          10214.774375,
          10800.118809
         ],
         "yaxis": "y5"
        },
        {
         "customdata": [
          [
           "T34_1000_ref",
           "COFFEE 1.5"
          ],
          [
           "T34_1000_ref",
           "COFFEE 1.5"
          ],
          [
           "T34_1000_ref",
           "COFFEE 1.5"
          ],
          [
           "T34_1000_ref",
           "COFFEE 1.5"
          ],
          [
           "T34_1000_ref",
           "COFFEE 1.5"
          ],
          [
           "T34_1000_ref",
           "COFFEE 1.5"
          ],
          [
           "T34_1000_ref",
           "COFFEE 1.5"
          ],
          [
           "T34_1000_ref",
           "COFFEE 1.5"
          ],
          [
           "T34_1000_ref",
           "COFFEE 1.5"
          ],
          [
           "T34_1000_ref",
           "COFFEE 1.5"
          ],
          [
           "T34_1000_ref",
           "COFFEE 1.5"
          ],
          [
           "T34_1000_ref",
           "COFFEE 1.5"
          ],
          [
           "T34_1000_ref",
           "COFFEE 1.5"
          ],
          [
           "T34_1000_ref",
           "COFFEE 1.5"
          ]
         ],
         "hovertemplate": "region=OECD<br>model=%{customdata[1]}<br>scenario_narrative=Cost Effective<br>year=%{x}<br>Emissions|CO2=%{y}<br>scenario=%{customdata[0]}<extra></extra>",
         "legendgroup": "OECD, COFFEE 1.5",
         "line": {
          "color": "#EF553B",
          "dash": "solid"
         },
         "marker": {
          "symbol": "circle"
         },
         "mode": "lines",
         "name": "OECD, COFFEE 1.5",
         "showlegend": false,
         "type": "scattergl",
         "x": [
          2100,
          2090,
          2080,
          2070,
          2060,
          2050,
          2045,
          2040,
          2035,
          2030,
          2025,
          2020,
          2015,
          2010
         ],
         "xaxis": "x3",
         "y": [
          -2410.094075,
          -2845.4885730000005,
          -2020.587937,
          398.95742400000006,
          2999.3624979999995,
          5432.238695999999,
          5854.0028010000005,
          7560.504701,
          8774.440687,
          12809.758395296001,
          11250.81760196,
          10963.2797498,
          10214.774375,
          10800.118809
         ],
         "yaxis": "y3"
        },
        {
         "customdata": [
          [
           "T34_1000_bitb_em",
           "AIM/CGE V2.2"
          ],
          [
           "T34_1000_bitb_em",
           "AIM/CGE V2.2"
          ],
          [
           "T34_1000_bitb_em",
           "AIM/CGE V2.2"
          ],
          [
           "T34_1000_bitb_em",
           "AIM/CGE V2.2"
          ],
          [
           "T34_1000_bitb_em",
           "AIM/CGE V2.2"
          ],
          [
           "T34_1000_bitb_em",
           "AIM/CGE V2.2"
          ],
          [
           "T34_1000_bitb_em",
           "AIM/CGE V2.2"
          ],
          [
           "T34_1000_bitb_em",
           "AIM/CGE V2.2"
          ],
          [
           "T34_1000_bitb_em",
           "AIM/CGE V2.2"
          ],
          [
           "T34_1000_bitb_em",
           "AIM/CGE V2.2"
          ],
          [
           "T34_1000_bitb_em",
           "AIM/CGE V2.2"
          ],
          [
           "T34_1000_bitb_em",
           "AIM/CGE V2.2"
          ],
          [
           "T34_1000_bitb_em",
           "AIM/CGE V2.2"
          ],
          [
           "T34_1000_bitb_em",
           "AIM/CGE V2.2"
          ],
          [
           "T34_1000_bitb_em",
           "AIM/CGE V2.2"
          ],
          [
           "T34_1000_bitb_em",
           "AIM/CGE V2.2"
          ],
          [
           "T34_1000_bitb_em",
           "AIM/CGE V2.2"
          ],
          [
           "T34_1000_bitb_em",
           "AIM/CGE V2.2"
          ],
          [
           "T34_1000_bitb_em",
           "AIM/CGE V2.2"
          ]
         ],
         "hovertemplate": "region=OECD<br>model=%{customdata[1]}<br>scenario_narrative=Tech+Inst<br>year=%{x}<br>Emissions|CO2=%{y}<br>scenario=%{customdata[0]}<extra></extra>",
         "legendgroup": "OECD, AIM/CGE V2.2",
         "line": {
          "color": "#EF553B",
          "dash": "dot"
         },
         "marker": {
          "symbol": "circle"
         },
         "mode": "lines",
         "name": "OECD, AIM/CGE V2.2",
         "showlegend": true,
         "type": "scattergl",
         "x": [
          2100,
          2095,
          2090,
          2085,
          2080,
          2075,
          2070,
          2065,
          2060,
          2055,
          2050,
          2045,
          2040,
          2035,
          2030,
          2025,
          2020,
          2015,
          2010
         ],
         "xaxis": "x4",
         "y": [
          -508.7961,
          -568.1274,
          -628.8081,
          -687.5934,
          -745.2533,
          -812.2103,
          -880.5048,
          -975.9174,
          -1124.4003,
          -770.0640999999999,
          -1305.6683,
          572.9532,
          2353.8857,
          3838.9647000000004,
          5233.7797,
          7527.7337,
          9675.3408,
          9821.216199999999,
          10618.129400000002
         ],
         "yaxis": "y4"
        },
        {
         "customdata": [
          [
           "T34_1000_feas_em",
           "AIM/CGE V2.2"
          ],
          [
           "T34_1000_feas_em",
           "AIM/CGE V2.2"
          ],
          [
           "T34_1000_feas_em",
           "AIM/CGE V2.2"
          ],
          [
           "T34_1000_feas_em",
           "AIM/CGE V2.2"
          ],
          [
           "T34_1000_feas_em",
           "AIM/CGE V2.2"
          ],
          [
           "T34_1000_feas_em",
           "AIM/CGE V2.2"
          ],
          [
           "T34_1000_feas_em",
           "AIM/CGE V2.2"
          ],
          [
           "T34_1000_feas_em",
           "AIM/CGE V2.2"
          ],
          [
           "T34_1000_feas_em",
           "AIM/CGE V2.2"
          ],
          [
           "T34_1000_feas_em",
           "AIM/CGE V2.2"
          ],
          [
           "T34_1000_feas_em",
           "AIM/CGE V2.2"
          ],
          [
           "T34_1000_feas_em",
           "AIM/CGE V2.2"
          ],
          [
           "T34_1000_feas_em",
           "AIM/CGE V2.2"
          ],
          [
           "T34_1000_feas_em",
           "AIM/CGE V2.2"
          ],
          [
           "T34_1000_feas_em",
           "AIM/CGE V2.2"
          ],
          [
           "T34_1000_feas_em",
           "AIM/CGE V2.2"
          ],
          [
           "T34_1000_feas_em",
           "AIM/CGE V2.2"
          ],
          [
           "T34_1000_feas_em",
           "AIM/CGE V2.2"
          ],
          [
           "T34_1000_feas_em",
           "AIM/CGE V2.2"
          ]
         ],
         "hovertemplate": "region=OECD<br>model=%{customdata[1]}<br>scenario_narrative=Tech+Inst+Enab<br>year=%{x}<br>Emissions|CO2=%{y}<br>scenario=%{customdata[0]}<extra></extra>",
         "legendgroup": "OECD, AIM/CGE V2.2",
         "line": {
          "color": "#EF553B",
          "dash": "dot"
         },
         "marker": {
          "symbol": "circle"
         },
         "mode": "lines",
         "name": "OECD, AIM/CGE V2.2",
         "showlegend": false,
         "type": "scattergl",
         "x": [
          2100,
          2095,
          2090,
          2085,
          2080,
          2075,
          2070,
          2065,
          2060,
          2055,
          2050,
          2045,
          2040,
          2035,
          2030,
          2025,
          2020,
          2015,
          2010
         ],
         "xaxis": "x",
         "y": [
          -1484.7992,
          -1576.4231,
          -1680.6479,
          -1790.3944999999999,
          -1902.315,
          -2023.6847999999998,
          -2139.707,
          -2250.6037,
          -2344.9719,
          -2316.6785999999997,
          -2014.9534999999998,
          297.4588,
          2247.1090999999997,
          3439.0384000000004,
          4941.4292000000005,
          7346.235500000001,
          9675.1502,
          9821.216199999999,
          10618.129400000002
         ],
         "yaxis": "y"
        },
        {
         "customdata": [
          [
           "T34_1000_govem",
           "AIM/CGE V2.2"
          ],
          [
           "T34_1000_govem",
           "AIM/CGE V2.2"
          ],
          [
           "T34_1000_govem",
           "AIM/CGE V2.2"
          ],
          [
           "T34_1000_govem",
           "AIM/CGE V2.2"
          ],
          [
           "T34_1000_govem",
           "AIM/CGE V2.2"
          ],
          [
           "T34_1000_govem",
           "AIM/CGE V2.2"
          ],
          [
           "T34_1000_govem",
           "AIM/CGE V2.2"
          ],
          [
           "T34_1000_govem",
           "AIM/CGE V2.2"
          ],
          [
           "T34_1000_govem",
           "AIM/CGE V2.2"
          ],
          [
           "T34_1000_govem",
           "AIM/CGE V2.2"
          ],
          [
           "T34_1000_govem",
           "AIM/CGE V2.2"
          ],
          [
           "T34_1000_govem",
           "AIM/CGE V2.2"
          ],
          [
           "T34_1000_govem",
           "AIM/CGE V2.2"
          ],
          [
           "T34_1000_govem",
           "AIM/CGE V2.2"
          ],
          [
           "T34_1000_govem",
           "AIM/CGE V2.2"
          ],
          [
           "T34_1000_govem",
           "AIM/CGE V2.2"
          ],
          [
           "T34_1000_govem",
           "AIM/CGE V2.2"
          ],
          [
           "T34_1000_govem",
           "AIM/CGE V2.2"
          ],
          [
           "T34_1000_govem",
           "AIM/CGE V2.2"
          ]
         ],
         "hovertemplate": "region=OECD<br>model=%{customdata[1]}<br>scenario_narrative=Instit<br>year=%{x}<br>Emissions|CO2=%{y}<br>scenario=%{customdata[0]}<extra></extra>",
         "legendgroup": "OECD, AIM/CGE V2.2",
         "line": {
          "color": "#EF553B",
          "dash": "dot"
         },
         "marker": {
          "symbol": "circle"
         },
         "mode": "lines",
         "name": "OECD, AIM/CGE V2.2",
         "showlegend": false,
         "type": "scattergl",
         "x": [
          2100,
          2095,
          2090,
          2085,
          2080,
          2075,
          2070,
          2065,
          2060,
          2055,
          2050,
          2045,
          2040,
          2035,
          2030,
          2025,
          2020,
          2015,
          2010
         ],
         "xaxis": "x2",
         "y": [
          -3657.9009,
          -3679.302,
          -3704.1724,
          -3689.3036,
          -3679.3487999999998,
          -3564.4929999999995,
          -3392.4692999999997,
          -3159.4159,
          -2859.3673000000003,
          -2975.6791000000003,
          -687.5994000000001,
          1297.0883,
          3502.952,
          5200.7235,
          6318.1089,
          7770.3649000000005,
          9676.3207,
          9821.216199999999,
          10618.129400000002
         ],
         "yaxis": "y2"
        },
        {
         "customdata": [
          [
           "T34_1000_ref",
           "AIM/CGE V2.2"
          ],
          [
           "T34_1000_ref",
           "AIM/CGE V2.2"
          ],
          [
           "T34_1000_ref",
           "AIM/CGE V2.2"
          ],
          [
           "T34_1000_ref",
           "AIM/CGE V2.2"
          ],
          [
           "T34_1000_ref",
           "AIM/CGE V2.2"
          ],
          [
           "T34_1000_ref",
           "AIM/CGE V2.2"
          ],
          [
           "T34_1000_ref",
           "AIM/CGE V2.2"
          ],
          [
           "T34_1000_ref",
           "AIM/CGE V2.2"
          ],
          [
           "T34_1000_ref",
           "AIM/CGE V2.2"
          ],
          [
           "T34_1000_ref",
           "AIM/CGE V2.2"
          ],
          [
           "T34_1000_ref",
           "AIM/CGE V2.2"
          ],
          [
           "T34_1000_ref",
           "AIM/CGE V2.2"
          ],
          [
           "T34_1000_ref",
           "AIM/CGE V2.2"
          ],
          [
           "T34_1000_ref",
           "AIM/CGE V2.2"
          ],
          [
           "T34_1000_ref",
           "AIM/CGE V2.2"
          ],
          [
           "T34_1000_ref",
           "AIM/CGE V2.2"
          ],
          [
           "T34_1000_ref",
           "AIM/CGE V2.2"
          ],
          [
           "T34_1000_ref",
           "AIM/CGE V2.2"
          ],
          [
           "T34_1000_ref",
           "AIM/CGE V2.2"
          ]
         ],
         "hovertemplate": "region=OECD<br>model=%{customdata[1]}<br>scenario_narrative=Cost Effective<br>year=%{x}<br>Emissions|CO2=%{y}<br>scenario=%{customdata[0]}<extra></extra>",
         "legendgroup": "OECD, AIM/CGE V2.2",
         "line": {
          "color": "#EF553B",
          "dash": "dot"
         },
         "marker": {
          "symbol": "circle"
         },
         "mode": "lines",
         "name": "OECD, AIM/CGE V2.2",
         "showlegend": false,
         "type": "scattergl",
         "x": [
          2100,
          2095,
          2090,
          2085,
          2080,
          2075,
          2070,
          2065,
          2060,
          2055,
          2050,
          2045,
          2040,
          2035,
          2030,
          2025,
          2020,
          2015,
          2010
         ],
         "xaxis": "x3",
         "y": [
          -990.7857999999999,
          -984.4319,
          -1003.6994,
          -954.1327000000001,
          -945.1009999999999,
          -718.5572,
          -347.17780000000005,
          -18.087500000000006,
          193.1848,
          323.6182,
          3527.6532,
          5178.103300000001,
          6372.3624,
          7204.034900000001,
          7711.012799999999,
          8472.369,
          9676.3207,
          9821.216199999999,
          10618.129400000002
         ],
         "yaxis": "y3"
        },
        {
         "customdata": [
          [
           "T34_1000_bitb_em",
           "WITCH 5.0"
          ],
          [
           "T34_1000_bitb_em",
           "WITCH 5.0"
          ],
          [
           "T34_1000_bitb_em",
           "WITCH 5.0"
          ],
          [
           "T34_1000_bitb_em",
           "WITCH 5.0"
          ],
          [
           "T34_1000_bitb_em",
           "WITCH 5.0"
          ],
          [
           "T34_1000_bitb_em",
           "WITCH 5.0"
          ],
          [
           "T34_1000_bitb_em",
           "WITCH 5.0"
          ],
          [
           "T34_1000_bitb_em",
           "WITCH 5.0"
          ],
          [
           "T34_1000_bitb_em",
           "WITCH 5.0"
          ],
          [
           "T34_1000_bitb_em",
           "WITCH 5.0"
          ],
          [
           "T34_1000_bitb_em",
           "WITCH 5.0"
          ],
          [
           "T34_1000_bitb_em",
           "WITCH 5.0"
          ],
          [
           "T34_1000_bitb_em",
           "WITCH 5.0"
          ],
          [
           "T34_1000_bitb_em",
           "WITCH 5.0"
          ],
          [
           "T34_1000_bitb_em",
           "WITCH 5.0"
          ],
          [
           "T34_1000_bitb_em",
           "WITCH 5.0"
          ],
          [
           "T34_1000_bitb_em",
           "WITCH 5.0"
          ],
          [
           "T34_1000_bitb_em",
           "WITCH 5.0"
          ],
          [
           "T34_1000_bitb_em",
           "WITCH 5.0"
          ],
          [
           "T34_1000_bitb_em",
           "WITCH 5.0"
          ]
         ],
         "hovertemplate": "region=RoW<br>model=%{customdata[1]}<br>scenario_narrative=Tech+Inst<br>year=%{x}<br>Emissions|CO2=%{y}<br>scenario=%{customdata[0]}<extra></extra>",
         "legendgroup": "RoW, WITCH 5.0",
         "line": {
          "color": "#00cc96",
          "dash": "solid"
         },
         "marker": {
          "symbol": "circle"
         },
         "mode": "lines",
         "name": "RoW, WITCH 5.0",
         "showlegend": true,
         "type": "scattergl",
         "x": [
          2100,
          2095,
          2090,
          2085,
          2080,
          2075,
          2070,
          2065,
          2060,
          2055,
          2050,
          2045,
          2040,
          2035,
          2030,
          2025,
          2020,
          2015,
          2010,
          2005
         ],
         "xaxis": "x4",
         "y": [
          166.1572460813752,
          115.62765528602381,
          73.94888109819249,
          -79.11998477642214,
          1886.662843507872,
          2649.833197225006,
          3095.633547046047,
          3870.8084637655857,
          4808.663113968996,
          5787.333408479604,
          6267.889449646767,
          6707.840910592507,
          7319.234513251644,
          7866.208864805378,
          8512.685807710626,
          10032.352222818528,
          10526.946233063381,
          9953.50798985572,
          8971.576268974062,
          7750.28411008121
         ],
         "yaxis": "y4"
        },
        {
         "customdata": [
          [
           "T34_1000_bitb_ref",
           "WITCH 5.0"
          ],
          [
           "T34_1000_bitb_ref",
           "WITCH 5.0"
          ],
          [
           "T34_1000_bitb_ref",
           "WITCH 5.0"
          ],
          [
           "T34_1000_bitb_ref",
           "WITCH 5.0"
          ],
          [
           "T34_1000_bitb_ref",
           "WITCH 5.0"
          ],
          [
           "T34_1000_bitb_ref",
           "WITCH 5.0"
          ],
          [
           "T34_1000_bitb_ref",
           "WITCH 5.0"
          ],
          [
           "T34_1000_bitb_ref",
           "WITCH 5.0"
          ],
          [
           "T34_1000_bitb_ref",
           "WITCH 5.0"
          ],
          [
           "T34_1000_bitb_ref",
           "WITCH 5.0"
          ],
          [
           "T34_1000_bitb_ref",
           "WITCH 5.0"
          ],
          [
           "T34_1000_bitb_ref",
           "WITCH 5.0"
          ],
          [
           "T34_1000_bitb_ref",
           "WITCH 5.0"
          ],
          [
           "T34_1000_bitb_ref",
           "WITCH 5.0"
          ],
          [
           "T34_1000_bitb_ref",
           "WITCH 5.0"
          ],
          [
           "T34_1000_bitb_ref",
           "WITCH 5.0"
          ],
          [
           "T34_1000_bitb_ref",
           "WITCH 5.0"
          ],
          [
           "T34_1000_bitb_ref",
           "WITCH 5.0"
          ],
          [
           "T34_1000_bitb_ref",
           "WITCH 5.0"
          ],
          [
           "T34_1000_bitb_ref",
           "WITCH 5.0"
          ]
         ],
         "hovertemplate": "region=RoW<br>model=%{customdata[1]}<br>scenario_narrative=Tech<br>year=%{x}<br>Emissions|CO2=%{y}<br>scenario=%{customdata[0]}<extra></extra>",
         "legendgroup": "RoW, WITCH 5.0",
         "line": {
          "color": "#00cc96",
          "dash": "solid"
         },
         "marker": {
          "symbol": "circle"
         },
         "mode": "lines",
         "name": "RoW, WITCH 5.0",
         "showlegend": false,
         "type": "scattergl",
         "x": [
          2100,
          2095,
          2090,
          2085,
          2080,
          2075,
          2070,
          2065,
          2060,
          2055,
          2050,
          2045,
          2040,
          2035,
          2030,
          2025,
          2020,
          2015,
          2010,
          2005
         ],
         "xaxis": "x5",
         "y": [
          1250.5036832683122,
          1355.3393814980536,
          1453.3899475296569,
          1610.8289388470428,
          1711.6812823722994,
          1857.4974979110773,
          2082.2984610546678,
          2344.745468306446,
          2588.378289287087,
          2816.7346328526305,
          3111.912652994403,
          3354.2282819827333,
          3673.026200892147,
          4238.510401955677,
          4497.629519945941,
          9492.383015640897,
          10526.946233063381,
          9953.50798985572,
          8971.576268974062,
          7750.28411008121
         ],
         "yaxis": "y5"
        },
        {
         "customdata": [
          [
           "T34_1000_enab_em",
           "WITCH 5.0"
          ],
          [
           "T34_1000_enab_em",
           "WITCH 5.0"
          ],
          [
           "T34_1000_enab_em",
           "WITCH 5.0"
          ],
          [
           "T34_1000_enab_em",
           "WITCH 5.0"
          ],
          [
           "T34_1000_enab_em",
           "WITCH 5.0"
          ],
          [
           "T34_1000_enab_em",
           "WITCH 5.0"
          ],
          [
           "T34_1000_enab_em",
           "WITCH 5.0"
          ],
          [
           "T34_1000_enab_em",
           "WITCH 5.0"
          ],
          [
           "T34_1000_enab_em",
           "WITCH 5.0"
          ],
          [
           "T34_1000_enab_em",
           "WITCH 5.0"
          ],
          [
           "T34_1000_enab_em",
           "WITCH 5.0"
          ],
          [
           "T34_1000_enab_em",
           "WITCH 5.0"
          ],
          [
           "T34_1000_enab_em",
           "WITCH 5.0"
          ],
          [
           "T34_1000_enab_em",
           "WITCH 5.0"
          ],
          [
           "T34_1000_enab_em",
           "WITCH 5.0"
          ],
          [
           "T34_1000_enab_em",
           "WITCH 5.0"
          ],
          [
           "T34_1000_enab_em",
           "WITCH 5.0"
          ],
          [
           "T34_1000_enab_em",
           "WITCH 5.0"
          ],
          [
           "T34_1000_enab_em",
           "WITCH 5.0"
          ],
          [
           "T34_1000_enab_em",
           "WITCH 5.0"
          ]
         ],
         "hovertemplate": "region=RoW<br>model=%{customdata[1]}<br>scenario_narrative=Inst+Enab<br>year=%{x}<br>Emissions|CO2=%{y}<br>scenario=%{customdata[0]}<extra></extra>",
         "legendgroup": "RoW, WITCH 5.0",
         "line": {
          "color": "#00cc96",
          "dash": "solid"
         },
         "marker": {
          "symbol": "circle"
         },
         "mode": "lines",
         "name": "RoW, WITCH 5.0",
         "showlegend": false,
         "type": "scattergl",
         "x": [
          2100,
          2095,
          2090,
          2085,
          2080,
          2075,
          2070,
          2065,
          2060,
          2055,
          2050,
          2045,
          2040,
          2035,
          2030,
          2025,
          2020,
          2015,
          2010,
          2005
         ],
         "xaxis": "x6",
         "y": [
          -859.2855243331476,
          -344.4022828190434,
          494.9863474620647,
          988.3624319804642,
          1326.7158349983722,
          1985.0316790544307,
          2782.757062386081,
          3427.2498447833223,
          4072.4877810849775,
          4743.29382939298,
          5487.965509850584,
          6228.423703445432,
          7222.561865289294,
          8177.810519181798,
          9207.179811533833,
          10237.745864611832,
          10526.946233063381,
          9953.50798985572,
          8971.576268974062,
          7750.28411008121
         ],
         "yaxis": "y6"
        },
        {
         "customdata": [
          [
           "T34_1000_feas_em",
           "WITCH 5.0"
          ],
          [
           "T34_1000_feas_em",
           "WITCH 5.0"
          ],
          [
           "T34_1000_feas_em",
           "WITCH 5.0"
          ],
          [
           "T34_1000_feas_em",
           "WITCH 5.0"
          ],
          [
           "T34_1000_feas_em",
           "WITCH 5.0"
          ],
          [
           "T34_1000_feas_em",
           "WITCH 5.0"
          ],
          [
           "T34_1000_feas_em",
           "WITCH 5.0"
          ],
          [
           "T34_1000_feas_em",
           "WITCH 5.0"
          ],
          [
           "T34_1000_feas_em",
           "WITCH 5.0"
          ],
          [
           "T34_1000_feas_em",
           "WITCH 5.0"
          ],
          [
           "T34_1000_feas_em",
           "WITCH 5.0"
          ],
          [
           "T34_1000_feas_em",
           "WITCH 5.0"
          ],
          [
           "T34_1000_feas_em",
           "WITCH 5.0"
          ],
          [
           "T34_1000_feas_em",
           "WITCH 5.0"
          ],
          [
           "T34_1000_feas_em",
           "WITCH 5.0"
          ],
          [
           "T34_1000_feas_em",
           "WITCH 5.0"
          ],
          [
           "T34_1000_feas_em",
           "WITCH 5.0"
          ],
          [
           "T34_1000_feas_em",
           "WITCH 5.0"
          ],
          [
           "T34_1000_feas_em",
           "WITCH 5.0"
          ],
          [
           "T34_1000_feas_em",
           "WITCH 5.0"
          ]
         ],
         "hovertemplate": "region=RoW<br>model=%{customdata[1]}<br>scenario_narrative=Tech+Inst+Enab<br>year=%{x}<br>Emissions|CO2=%{y}<br>scenario=%{customdata[0]}<extra></extra>",
         "legendgroup": "RoW, WITCH 5.0",
         "line": {
          "color": "#00cc96",
          "dash": "solid"
         },
         "marker": {
          "symbol": "circle"
         },
         "mode": "lines",
         "name": "RoW, WITCH 5.0",
         "showlegend": false,
         "type": "scattergl",
         "x": [
          2100,
          2095,
          2090,
          2085,
          2080,
          2075,
          2070,
          2065,
          2060,
          2055,
          2050,
          2045,
          2040,
          2035,
          2030,
          2025,
          2020,
          2015,
          2010,
          2005
         ],
         "xaxis": "x",
         "y": [
          858.1753099060836,
          895.189238256939,
          1225.2700891548232,
          847.5154889778021,
          1602.3474078780027,
          2232.7462286180944,
          2961.219855383475,
          3548.8519316460206,
          4140.190854455093,
          4770.321690532394,
          5579.322733460541,
          6240.679390484702,
          7154.710129401573,
          8097.939535947729,
          8993.110661543244,
          10152.66888523752,
          10526.946233063381,
          9953.50798985572,
          8971.576268974062,
          7750.28411008121
         ],
         "yaxis": "y"
        },
        {
         "customdata": [
          [
           "T34_1000_govem",
           "WITCH 5.0"
          ],
          [
           "T34_1000_govem",
           "WITCH 5.0"
          ],
          [
           "T34_1000_govem",
           "WITCH 5.0"
          ],
          [
           "T34_1000_govem",
           "WITCH 5.0"
          ],
          [
           "T34_1000_govem",
           "WITCH 5.0"
          ],
          [
           "T34_1000_govem",
           "WITCH 5.0"
          ],
          [
           "T34_1000_govem",
           "WITCH 5.0"
          ],
          [
           "T34_1000_govem",
           "WITCH 5.0"
          ],
          [
           "T34_1000_govem",
           "WITCH 5.0"
          ],
          [
           "T34_1000_govem",
           "WITCH 5.0"
          ],
          [
           "T34_1000_govem",
           "WITCH 5.0"
          ],
          [
           "T34_1000_govem",
           "WITCH 5.0"
          ],
          [
           "T34_1000_govem",
           "WITCH 5.0"
          ],
          [
           "T34_1000_govem",
           "WITCH 5.0"
          ],
          [
           "T34_1000_govem",
           "WITCH 5.0"
          ],
          [
           "T34_1000_govem",
           "WITCH 5.0"
          ],
          [
           "T34_1000_govem",
           "WITCH 5.0"
          ],
          [
           "T34_1000_govem",
           "WITCH 5.0"
          ],
          [
           "T34_1000_govem",
           "WITCH 5.0"
          ],
          [
           "T34_1000_govem",
           "WITCH 5.0"
          ]
         ],
         "hovertemplate": "region=RoW<br>model=%{customdata[1]}<br>scenario_narrative=Instit<br>year=%{x}<br>Emissions|CO2=%{y}<br>scenario=%{customdata[0]}<extra></extra>",
         "legendgroup": "RoW, WITCH 5.0",
         "line": {
          "color": "#00cc96",
          "dash": "solid"
         },
         "marker": {
          "symbol": "circle"
         },
         "mode": "lines",
         "name": "RoW, WITCH 5.0",
         "showlegend": false,
         "type": "scattergl",
         "x": [
          2100,
          2095,
          2090,
          2085,
          2080,
          2075,
          2070,
          2065,
          2060,
          2055,
          2050,
          2045,
          2040,
          2035,
          2030,
          2025,
          2020,
          2015,
          2010,
          2005
         ],
         "xaxis": "x2",
         "y": [
          -3199.0863452097155,
          -3248.45923091968,
          -1832.5471290866476,
          986.673771097364,
          1512.39829069964,
          2550.2100676633063,
          3297.709965417196,
          4032.4322696274276,
          4846.355684244405,
          5959.640447430661,
          6768.400516069571,
          7101.561370173801,
          7769.161589897508,
          8419.39837454613,
          9156.885383037517,
          10309.471847798191,
          10526.946233063381,
          9953.50798985572,
          8971.576268974062,
          7750.28411008121
         ],
         "yaxis": "y2"
        },
        {
         "customdata": [
          [
           "T34_1000_ref",
           "WITCH 5.0"
          ],
          [
           "T34_1000_ref",
           "WITCH 5.0"
          ],
          [
           "T34_1000_ref",
           "WITCH 5.0"
          ],
          [
           "T34_1000_ref",
           "WITCH 5.0"
          ],
          [
           "T34_1000_ref",
           "WITCH 5.0"
          ],
          [
           "T34_1000_ref",
           "WITCH 5.0"
          ],
          [
           "T34_1000_ref",
           "WITCH 5.0"
          ],
          [
           "T34_1000_ref",
           "WITCH 5.0"
          ],
          [
           "T34_1000_ref",
           "WITCH 5.0"
          ],
          [
           "T34_1000_ref",
           "WITCH 5.0"
          ],
          [
           "T34_1000_ref",
           "WITCH 5.0"
          ],
          [
           "T34_1000_ref",
           "WITCH 5.0"
          ],
          [
           "T34_1000_ref",
           "WITCH 5.0"
          ],
          [
           "T34_1000_ref",
           "WITCH 5.0"
          ],
          [
           "T34_1000_ref",
           "WITCH 5.0"
          ],
          [
           "T34_1000_ref",
           "WITCH 5.0"
          ],
          [
           "T34_1000_ref",
           "WITCH 5.0"
          ],
          [
           "T34_1000_ref",
           "WITCH 5.0"
          ],
          [
           "T34_1000_ref",
           "WITCH 5.0"
          ],
          [
           "T34_1000_ref",
           "WITCH 5.0"
          ]
         ],
         "hovertemplate": "region=RoW<br>model=%{customdata[1]}<br>scenario_narrative=Cost Effective<br>year=%{x}<br>Emissions|CO2=%{y}<br>scenario=%{customdata[0]}<extra></extra>",
         "legendgroup": "RoW, WITCH 5.0",
         "line": {
          "color": "#00cc96",
          "dash": "solid"
         },
         "marker": {
          "symbol": "circle"
         },
         "mode": "lines",
         "name": "RoW, WITCH 5.0",
         "showlegend": false,
         "type": "scattergl",
         "x": [
          2100,
          2095,
          2090,
          2085,
          2080,
          2075,
          2070,
          2065,
          2060,
          2055,
          2050,
          2045,
          2040,
          2035,
          2030,
          2025,
          2020,
          2015,
          2010,
          2005
         ],
         "xaxis": "x3",
         "y": [
          205.50885576492692,
          292.06535693575825,
          329.7788816283198,
          811.216937029092,
          1490.3591041767208,
          2120.2226043650703,
          2686.0129239065827,
          3182.010802642042,
          3541.5082120557845,
          3877.3255338295758,
          4233.640088478363,
          4404.935676595841,
          4583.916946479419,
          4805.293673921338,
          5403.254587950736,
          9569.125063591951,
          10526.946233063381,
          9953.50798985572,
          8971.576268974062,
          7750.28411008121
         ],
         "yaxis": "y3"
        },
        {
         "customdata": [
          [
           "T34_1000_bitb_em",
           "REMIND 3.0"
          ],
          [
           "T34_1000_bitb_em",
           "REMIND 3.0"
          ],
          [
           "T34_1000_bitb_em",
           "REMIND 3.0"
          ],
          [
           "T34_1000_bitb_em",
           "REMIND 3.0"
          ],
          [
           "T34_1000_bitb_em",
           "REMIND 3.0"
          ],
          [
           "T34_1000_bitb_em",
           "REMIND 3.0"
          ],
          [
           "T34_1000_bitb_em",
           "REMIND 3.0"
          ],
          [
           "T34_1000_bitb_em",
           "REMIND 3.0"
          ],
          [
           "T34_1000_bitb_em",
           "REMIND 3.0"
          ],
          [
           "T34_1000_bitb_em",
           "REMIND 3.0"
          ],
          [
           "T34_1000_bitb_em",
           "REMIND 3.0"
          ],
          [
           "T34_1000_bitb_em",
           "REMIND 3.0"
          ],
          [
           "T34_1000_bitb_em",
           "REMIND 3.0"
          ],
          [
           "T34_1000_bitb_em",
           "REMIND 3.0"
          ],
          [
           "T34_1000_bitb_em",
           "REMIND 3.0"
          ],
          [
           "T34_1000_bitb_em",
           "REMIND 3.0"
          ]
         ],
         "hovertemplate": "region=RoW<br>model=%{customdata[1]}<br>scenario_narrative=Tech+Inst<br>year=%{x}<br>Emissions|CO2=%{y}<br>scenario=%{customdata[0]}<extra></extra>",
         "legendgroup": "RoW, REMIND 3.0",
         "line": {
          "color": "#00cc96",
          "dash": "dot"
         },
         "marker": {
          "symbol": "circle"
         },
         "mode": "lines",
         "name": "RoW, REMIND 3.0",
         "showlegend": true,
         "type": "scattergl",
         "x": [
          2100,
          2090,
          2080,
          2070,
          2060,
          2055,
          2050,
          2045,
          2040,
          2035,
          2030,
          2025,
          2020,
          2015,
          2010,
          2005
         ],
         "xaxis": "x4",
         "y": [
          133.2711741,
          923.6138351000001,
          1133.4794501000001,
          1945.8572704,
          3255.3845877,
          3935.6086998,
          4757.006796199999,
          5912.888065,
          7465.722927,
          8974.7414121,
          10250.247786299999,
          10533.4433012,
          11216.7193793,
          10575.405156699999,
          9717.4684439,
          8239.6089025
         ],
         "yaxis": "y4"
        },
        {
         "customdata": [
          [
           "T34_1000_bitb_ref",
           "REMIND 3.0"
          ],
          [
           "T34_1000_bitb_ref",
           "REMIND 3.0"
          ],
          [
           "T34_1000_bitb_ref",
           "REMIND 3.0"
          ],
          [
           "T34_1000_bitb_ref",
           "REMIND 3.0"
          ],
          [
           "T34_1000_bitb_ref",
           "REMIND 3.0"
          ],
          [
           "T34_1000_bitb_ref",
           "REMIND 3.0"
          ],
          [
           "T34_1000_bitb_ref",
           "REMIND 3.0"
          ],
          [
           "T34_1000_bitb_ref",
           "REMIND 3.0"
          ],
          [
           "T34_1000_bitb_ref",
           "REMIND 3.0"
          ],
          [
           "T34_1000_bitb_ref",
           "REMIND 3.0"
          ],
          [
           "T34_1000_bitb_ref",
           "REMIND 3.0"
          ],
          [
           "T34_1000_bitb_ref",
           "REMIND 3.0"
          ],
          [
           "T34_1000_bitb_ref",
           "REMIND 3.0"
          ],
          [
           "T34_1000_bitb_ref",
           "REMIND 3.0"
          ],
          [
           "T34_1000_bitb_ref",
           "REMIND 3.0"
          ],
          [
           "T34_1000_bitb_ref",
           "REMIND 3.0"
          ]
         ],
         "hovertemplate": "region=RoW<br>model=%{customdata[1]}<br>scenario_narrative=Tech<br>year=%{x}<br>Emissions|CO2=%{y}<br>scenario=%{customdata[0]}<extra></extra>",
         "legendgroup": "RoW, REMIND 3.0",
         "line": {
          "color": "#00cc96",
          "dash": "dot"
         },
         "marker": {
          "symbol": "circle"
         },
         "mode": "lines",
         "name": "RoW, REMIND 3.0",
         "showlegend": false,
         "type": "scattergl",
         "x": [
          2100,
          2090,
          2080,
          2070,
          2060,
          2055,
          2050,
          2045,
          2040,
          2035,
          2030,
          2025,
          2020,
          2015,
          2010,
          2005
         ],
         "xaxis": "x5",
         "y": [
          567.5620011,
          847.3303460000001,
          1305.6993344,
          1816.1592645,
          2455.2477158,
          2648.1187912,
          3190.0398325,
          4146.7697096,
          5752.0728911999995,
          7718.436113899999,
          9443.644630499999,
          10466.318755799999,
          11216.7193793,
          10575.405156699999,
          9717.4684439,
          8239.6089025
         ],
         "yaxis": "y5"
        },
        {
         "customdata": [
          [
           "T34_1000_enab_em",
           "REMIND 3.0"
          ],
          [
           "T34_1000_enab_em",
           "REMIND 3.0"
          ],
          [
           "T34_1000_enab_em",
           "REMIND 3.0"
          ],
          [
           "T34_1000_enab_em",
           "REMIND 3.0"
          ],
          [
           "T34_1000_enab_em",
           "REMIND 3.0"
          ],
          [
           "T34_1000_enab_em",
           "REMIND 3.0"
          ],
          [
           "T34_1000_enab_em",
           "REMIND 3.0"
          ],
          [
           "T34_1000_enab_em",
           "REMIND 3.0"
          ],
          [
           "T34_1000_enab_em",
           "REMIND 3.0"
          ],
          [
           "T34_1000_enab_em",
           "REMIND 3.0"
          ],
          [
           "T34_1000_enab_em",
           "REMIND 3.0"
          ],
          [
           "T34_1000_enab_em",
           "REMIND 3.0"
          ],
          [
           "T34_1000_enab_em",
           "REMIND 3.0"
          ],
          [
           "T34_1000_enab_em",
           "REMIND 3.0"
          ],
          [
           "T34_1000_enab_em",
           "REMIND 3.0"
          ],
          [
           "T34_1000_enab_em",
           "REMIND 3.0"
          ]
         ],
         "hovertemplate": "region=RoW<br>model=%{customdata[1]}<br>scenario_narrative=Inst+Enab<br>year=%{x}<br>Emissions|CO2=%{y}<br>scenario=%{customdata[0]}<extra></extra>",
         "legendgroup": "RoW, REMIND 3.0",
         "line": {
          "color": "#00cc96",
          "dash": "dot"
         },
         "marker": {
          "symbol": "circle"
         },
         "mode": "lines",
         "name": "RoW, REMIND 3.0",
         "showlegend": false,
         "type": "scattergl",
         "x": [
          2100,
          2090,
          2080,
          2070,
          2060,
          2055,
          2050,
          2045,
          2040,
          2035,
          2030,
          2025,
          2020,
          2015,
          2010,
          2005
         ],
         "xaxis": "x6",
         "y": [
          -39.79076359999997,
          647.7119359999999,
          1214.3238734000001,
          1867.9406948,
          2694.6097330000002,
          3364.4556222,
          4020.2874246,
          4825.0489905,
          6100.2224332000005,
          7534.5660043,
          8796.5274805,
          10306.783185,
          11216.7193793,
          10575.405156699999,
          9717.4684439,
          8239.6089025
         ],
         "yaxis": "y6"
        },
        {
         "customdata": [
          [
           "T34_1000_feas_em",
           "REMIND 3.0"
          ],
          [
           "T34_1000_feas_em",
           "REMIND 3.0"
          ],
          [
           "T34_1000_feas_em",
           "REMIND 3.0"
          ],
          [
           "T34_1000_feas_em",
           "REMIND 3.0"
          ],
          [
           "T34_1000_feas_em",
           "REMIND 3.0"
          ],
          [
           "T34_1000_feas_em",
           "REMIND 3.0"
          ],
          [
           "T34_1000_feas_em",
           "REMIND 3.0"
          ],
          [
           "T34_1000_feas_em",
           "REMIND 3.0"
          ],
          [
           "T34_1000_feas_em",
           "REMIND 3.0"
          ],
          [
           "T34_1000_feas_em",
           "REMIND 3.0"
          ],
          [
           "T34_1000_feas_em",
           "REMIND 3.0"
          ],
          [
           "T34_1000_feas_em",
           "REMIND 3.0"
          ],
          [
           "T34_1000_feas_em",
           "REMIND 3.0"
          ],
          [
           "T34_1000_feas_em",
           "REMIND 3.0"
          ],
          [
           "T34_1000_feas_em",
           "REMIND 3.0"
          ],
          [
           "T34_1000_feas_em",
           "REMIND 3.0"
          ]
         ],
         "hovertemplate": "region=RoW<br>model=%{customdata[1]}<br>scenario_narrative=Tech+Inst+Enab<br>year=%{x}<br>Emissions|CO2=%{y}<br>scenario=%{customdata[0]}<extra></extra>",
         "legendgroup": "RoW, REMIND 3.0",
         "line": {
          "color": "#00cc96",
          "dash": "dot"
         },
         "marker": {
          "symbol": "circle"
         },
         "mode": "lines",
         "name": "RoW, REMIND 3.0",
         "showlegend": false,
         "type": "scattergl",
         "x": [
          2100,
          2090,
          2080,
          2070,
          2060,
          2055,
          2050,
          2045,
          2040,
          2035,
          2030,
          2025,
          2020,
          2015,
          2010,
          2005
         ],
         "xaxis": "x",
         "y": [
          -4.812393799999992,
          730.006738,
          1411.7635704,
          1804.6172983000001,
          2593.3636169,
          3203.7542754,
          3865.1314586,
          4646.5743566,
          5966.9324,
          7454.512869,
          8774.104157599999,
          10333.4482741,
          11216.7193793,
          10575.405156699999,
          9717.4684439,
          8239.6089025
         ],
         "yaxis": "y"
        },
        {
         "customdata": [
          [
           "T34_1000_govem",
           "REMIND 3.0"
          ],
          [
           "T34_1000_govem",
           "REMIND 3.0"
          ],
          [
           "T34_1000_govem",
           "REMIND 3.0"
          ],
          [
           "T34_1000_govem",
           "REMIND 3.0"
          ],
          [
           "T34_1000_govem",
           "REMIND 3.0"
          ],
          [
           "T34_1000_govem",
           "REMIND 3.0"
          ],
          [
           "T34_1000_govem",
           "REMIND 3.0"
          ],
          [
           "T34_1000_govem",
           "REMIND 3.0"
          ],
          [
           "T34_1000_govem",
           "REMIND 3.0"
          ],
          [
           "T34_1000_govem",
           "REMIND 3.0"
          ],
          [
           "T34_1000_govem",
           "REMIND 3.0"
          ],
          [
           "T34_1000_govem",
           "REMIND 3.0"
          ],
          [
           "T34_1000_govem",
           "REMIND 3.0"
          ],
          [
           "T34_1000_govem",
           "REMIND 3.0"
          ],
          [
           "T34_1000_govem",
           "REMIND 3.0"
          ],
          [
           "T34_1000_govem",
           "REMIND 3.0"
          ]
         ],
         "hovertemplate": "region=RoW<br>model=%{customdata[1]}<br>scenario_narrative=Instit<br>year=%{x}<br>Emissions|CO2=%{y}<br>scenario=%{customdata[0]}<extra></extra>",
         "legendgroup": "RoW, REMIND 3.0",
         "line": {
          "color": "#00cc96",
          "dash": "dot"
         },
         "marker": {
          "symbol": "circle"
         },
         "mode": "lines",
         "name": "RoW, REMIND 3.0",
         "showlegend": false,
         "type": "scattergl",
         "x": [
          2100,
          2090,
          2080,
          2070,
          2060,
          2055,
          2050,
          2045,
          2040,
          2035,
          2030,
          2025,
          2020,
          2015,
          2010,
          2005
         ],
         "xaxis": "x2",
         "y": [
          101.90850559999994,
          1139.6393556,
          1601.9814235,
          2254.4499437000004,
          3200.5286558,
          3912.2146616,
          4814.6205009000005,
          6008.2381897,
          7564.2051974999995,
          9214.4400872,
          10393.9056059,
          10566.509868699999,
          11216.7193793,
          10575.405156699999,
          9717.4684439,
          8239.6089025
         ],
         "yaxis": "y2"
        },
        {
         "customdata": [
          [
           "T34_1000_ref",
           "REMIND 3.0"
          ],
          [
           "T34_1000_ref",
           "REMIND 3.0"
          ],
          [
           "T34_1000_ref",
           "REMIND 3.0"
          ],
          [
           "T34_1000_ref",
           "REMIND 3.0"
          ],
          [
           "T34_1000_ref",
           "REMIND 3.0"
          ],
          [
           "T34_1000_ref",
           "REMIND 3.0"
          ],
          [
           "T34_1000_ref",
           "REMIND 3.0"
          ],
          [
           "T34_1000_ref",
           "REMIND 3.0"
          ],
          [
           "T34_1000_ref",
           "REMIND 3.0"
          ],
          [
           "T34_1000_ref",
           "REMIND 3.0"
          ],
          [
           "T34_1000_ref",
           "REMIND 3.0"
          ],
          [
           "T34_1000_ref",
           "REMIND 3.0"
          ],
          [
           "T34_1000_ref",
           "REMIND 3.0"
          ],
          [
           "T34_1000_ref",
           "REMIND 3.0"
          ],
          [
           "T34_1000_ref",
           "REMIND 3.0"
          ],
          [
           "T34_1000_ref",
           "REMIND 3.0"
          ]
         ],
         "hovertemplate": "region=RoW<br>model=%{customdata[1]}<br>scenario_narrative=Cost Effective<br>year=%{x}<br>Emissions|CO2=%{y}<br>scenario=%{customdata[0]}<extra></extra>",
         "legendgroup": "RoW, REMIND 3.0",
         "line": {
          "color": "#00cc96",
          "dash": "dot"
         },
         "marker": {
          "symbol": "circle"
         },
         "mode": "lines",
         "name": "RoW, REMIND 3.0",
         "showlegend": false,
         "type": "scattergl",
         "x": [
          2100,
          2090,
          2080,
          2070,
          2060,
          2055,
          2050,
          2045,
          2040,
          2035,
          2030,
          2025,
          2020,
          2015,
          2010,
          2005
         ],
         "xaxis": "x3",
         "y": [
          285.5201019,
          269.2756358,
          469.0616731,
          1683.6728432,
          2597.7561754999997,
          3045.6815444,
          3686.0570887,
          4697.2173258,
          6473.309578,
          8501.8996153,
          9908.2709498,
          10474.754292599999,
          11216.7193793,
          10575.405156699999,
          9717.4684439,
          8239.6089025
         ],
         "yaxis": "y3"
        },
        {
         "customdata": [
          [
           "T34_1000_bitb_em",
           "POLES ENGAGE"
          ],
          [
           "T34_1000_bitb_em",
           "POLES ENGAGE"
          ],
          [
           "T34_1000_bitb_em",
           "POLES ENGAGE"
          ],
          [
           "T34_1000_bitb_em",
           "POLES ENGAGE"
          ],
          [
           "T34_1000_bitb_em",
           "POLES ENGAGE"
          ],
          [
           "T34_1000_bitb_em",
           "POLES ENGAGE"
          ],
          [
           "T34_1000_bitb_em",
           "POLES ENGAGE"
          ],
          [
           "T34_1000_bitb_em",
           "POLES ENGAGE"
          ],
          [
           "T34_1000_bitb_em",
           "POLES ENGAGE"
          ],
          [
           "T34_1000_bitb_em",
           "POLES ENGAGE"
          ],
          [
           "T34_1000_bitb_em",
           "POLES ENGAGE"
          ],
          [
           "T34_1000_bitb_em",
           "POLES ENGAGE"
          ],
          [
           "T34_1000_bitb_em",
           "POLES ENGAGE"
          ],
          [
           "T34_1000_bitb_em",
           "POLES ENGAGE"
          ],
          [
           "T34_1000_bitb_em",
           "POLES ENGAGE"
          ]
         ],
         "hovertemplate": "region=RoW<br>model=%{customdata[1]}<br>scenario_narrative=Tech+Inst<br>year=%{x}<br>Emissions|CO2=%{y}<br>scenario=%{customdata[0]}<extra></extra>",
         "legendgroup": "RoW, POLES ENGAGE",
         "line": {
          "color": "#00cc96",
          "dash": "dash"
         },
         "marker": {
          "symbol": "circle"
         },
         "mode": "lines",
         "name": "RoW, POLES ENGAGE",
         "showlegend": true,
         "type": "scattergl",
         "x": [
          2100,
          2090,
          2080,
          2070,
          2060,
          2050,
          2045,
          2040,
          2035,
          2030,
          2025,
          2020,
          2015,
          2010,
          2005
         ],
         "xaxis": "x4",
         "y": [
          3819.83251953125,
          3850.3899536132812,
          3413.1416625976562,
          3315.126220703125,
          4306.982978820801,
          6623.847473144531,
          7176.9332275390625,
          8215.036743164062,
          8270.689331054688,
          8398.184814453125,
          9787.470703125,
          9324.378784179688,
          9669.8466796875,
          8851.25390625,
          7106.84814453125
         ],
         "yaxis": "y4"
        },
        {
         "customdata": [
          [
           "T34_1000_bitb_ref",
           "POLES ENGAGE"
          ],
          [
           "T34_1000_bitb_ref",
           "POLES ENGAGE"
          ],
          [
           "T34_1000_bitb_ref",
           "POLES ENGAGE"
          ],
          [
           "T34_1000_bitb_ref",
           "POLES ENGAGE"
          ],
          [
           "T34_1000_bitb_ref",
           "POLES ENGAGE"
          ],
          [
           "T34_1000_bitb_ref",
           "POLES ENGAGE"
          ],
          [
           "T34_1000_bitb_ref",
           "POLES ENGAGE"
          ],
          [
           "T34_1000_bitb_ref",
           "POLES ENGAGE"
          ],
          [
           "T34_1000_bitb_ref",
           "POLES ENGAGE"
          ],
          [
           "T34_1000_bitb_ref",
           "POLES ENGAGE"
          ],
          [
           "T34_1000_bitb_ref",
           "POLES ENGAGE"
          ],
          [
           "T34_1000_bitb_ref",
           "POLES ENGAGE"
          ],
          [
           "T34_1000_bitb_ref",
           "POLES ENGAGE"
          ],
          [
           "T34_1000_bitb_ref",
           "POLES ENGAGE"
          ],
          [
           "T34_1000_bitb_ref",
           "POLES ENGAGE"
          ]
         ],
         "hovertemplate": "region=RoW<br>model=%{customdata[1]}<br>scenario_narrative=Tech<br>year=%{x}<br>Emissions|CO2=%{y}<br>scenario=%{customdata[0]}<extra></extra>",
         "legendgroup": "RoW, POLES ENGAGE",
         "line": {
          "color": "#00cc96",
          "dash": "dash"
         },
         "marker": {
          "symbol": "circle"
         },
         "mode": "lines",
         "name": "RoW, POLES ENGAGE",
         "showlegend": false,
         "type": "scattergl",
         "x": [
          2100,
          2090,
          2080,
          2070,
          2060,
          2050,
          2045,
          2040,
          2035,
          2030,
          2025,
          2020,
          2015,
          2010,
          2005
         ],
         "xaxis": "x5",
         "y": [
          -2900.2783184051514,
          -2307.763530731201,
          -1259.0662841796875,
          646.8578186035156,
          3002.2142639160156,
          4843.254302978516,
          6131.192565917969,
          7598.65185546875,
          8643.035522460938,
          9309.852661132812,
          10884.825073242188,
          9320.77197265625,
          9669.8466796875,
          8851.25390625,
          7106.84814453125
         ],
         "yaxis": "y5"
        },
        {
         "customdata": [
          [
           "T34_1000_feas_em",
           "POLES ENGAGE"
          ],
          [
           "T34_1000_feas_em",
           "POLES ENGAGE"
          ],
          [
           "T34_1000_feas_em",
           "POLES ENGAGE"
          ],
          [
           "T34_1000_feas_em",
           "POLES ENGAGE"
          ],
          [
           "T34_1000_feas_em",
           "POLES ENGAGE"
          ],
          [
           "T34_1000_feas_em",
           "POLES ENGAGE"
          ],
          [
           "T34_1000_feas_em",
           "POLES ENGAGE"
          ],
          [
           "T34_1000_feas_em",
           "POLES ENGAGE"
          ],
          [
           "T34_1000_feas_em",
           "POLES ENGAGE"
          ],
          [
           "T34_1000_feas_em",
           "POLES ENGAGE"
          ],
          [
           "T34_1000_feas_em",
           "POLES ENGAGE"
          ],
          [
           "T34_1000_feas_em",
           "POLES ENGAGE"
          ],
          [
           "T34_1000_feas_em",
           "POLES ENGAGE"
          ],
          [
           "T34_1000_feas_em",
           "POLES ENGAGE"
          ],
          [
           "T34_1000_feas_em",
           "POLES ENGAGE"
          ]
         ],
         "hovertemplate": "region=RoW<br>model=%{customdata[1]}<br>scenario_narrative=Tech+Inst+Enab<br>year=%{x}<br>Emissions|CO2=%{y}<br>scenario=%{customdata[0]}<extra></extra>",
         "legendgroup": "RoW, POLES ENGAGE",
         "line": {
          "color": "#00cc96",
          "dash": "dash"
         },
         "marker": {
          "symbol": "circle"
         },
         "mode": "lines",
         "name": "RoW, POLES ENGAGE",
         "showlegend": false,
         "type": "scattergl",
         "x": [
          2100,
          2090,
          2080,
          2070,
          2060,
          2050,
          2045,
          2040,
          2035,
          2030,
          2025,
          2020,
          2015,
          2010,
          2005
         ],
         "xaxis": "x",
         "y": [
          10082.588256835938,
          7149.5966796875,
          3973.7818603515625,
          4068.0127868652344,
          5138.110900878906,
          8723.676879882812,
          9335.125244140625,
          10194.11181640625,
          9706.201416015625,
          9715.481567382812,
          10812.916870117188,
          9324.378540039062,
          9669.8466796875,
          8851.25390625,
          7106.84814453125
         ],
         "yaxis": "y"
        },
        {
         "customdata": [
          [
           "T34_1000_govem",
           "POLES ENGAGE"
          ],
          [
           "T34_1000_govem",
           "POLES ENGAGE"
          ],
          [
           "T34_1000_govem",
           "POLES ENGAGE"
          ],
          [
           "T34_1000_govem",
           "POLES ENGAGE"
          ],
          [
           "T34_1000_govem",
           "POLES ENGAGE"
          ],
          [
           "T34_1000_govem",
           "POLES ENGAGE"
          ],
          [
           "T34_1000_govem",
           "POLES ENGAGE"
          ],
          [
           "T34_1000_govem",
           "POLES ENGAGE"
          ],
          [
           "T34_1000_govem",
           "POLES ENGAGE"
          ],
          [
           "T34_1000_govem",
           "POLES ENGAGE"
          ],
          [
           "T34_1000_govem",
           "POLES ENGAGE"
          ],
          [
           "T34_1000_govem",
           "POLES ENGAGE"
          ],
          [
           "T34_1000_govem",
           "POLES ENGAGE"
          ],
          [
           "T34_1000_govem",
           "POLES ENGAGE"
          ],
          [
           "T34_1000_govem",
           "POLES ENGAGE"
          ]
         ],
         "hovertemplate": "region=RoW<br>model=%{customdata[1]}<br>scenario_narrative=Instit<br>year=%{x}<br>Emissions|CO2=%{y}<br>scenario=%{customdata[0]}<extra></extra>",
         "legendgroup": "RoW, POLES ENGAGE",
         "line": {
          "color": "#00cc96",
          "dash": "dash"
         },
         "marker": {
          "symbol": "circle"
         },
         "mode": "lines",
         "name": "RoW, POLES ENGAGE",
         "showlegend": false,
         "type": "scattergl",
         "x": [
          2100,
          2090,
          2080,
          2070,
          2060,
          2050,
          2045,
          2040,
          2035,
          2030,
          2025,
          2020,
          2015,
          2010,
          2005
         ],
         "xaxis": "x2",
         "y": [
          14938.700927734375,
          10523.97607421875,
          2794.4928817749023,
          4256.429534912109,
          4733.406066894531,
          8506.663452148438,
          9092.818481445312,
          10091.208862304688,
          9706.373291015625,
          9685.240966796875,
          10812.30712890625,
          10174.145751953125,
          10008.690185546875,
          8851.25390625,
          7106.84814453125
         ],
         "yaxis": "y2"
        },
        {
         "customdata": [
          [
           "T34_1000_ref",
           "POLES ENGAGE"
          ],
          [
           "T34_1000_ref",
           "POLES ENGAGE"
          ],
          [
           "T34_1000_ref",
           "POLES ENGAGE"
          ],
          [
           "T34_1000_ref",
           "POLES ENGAGE"
          ],
          [
           "T34_1000_ref",
           "POLES ENGAGE"
          ],
          [
           "T34_1000_ref",
           "POLES ENGAGE"
          ],
          [
           "T34_1000_ref",
           "POLES ENGAGE"
          ],
          [
           "T34_1000_ref",
           "POLES ENGAGE"
          ],
          [
           "T34_1000_ref",
           "POLES ENGAGE"
          ],
          [
           "T34_1000_ref",
           "POLES ENGAGE"
          ],
          [
           "T34_1000_ref",
           "POLES ENGAGE"
          ],
          [
           "T34_1000_ref",
           "POLES ENGAGE"
          ],
          [
           "T34_1000_ref",
           "POLES ENGAGE"
          ],
          [
           "T34_1000_ref",
           "POLES ENGAGE"
          ],
          [
           "T34_1000_ref",
           "POLES ENGAGE"
          ]
         ],
         "hovertemplate": "region=RoW<br>model=%{customdata[1]}<br>scenario_narrative=Cost Effective<br>year=%{x}<br>Emissions|CO2=%{y}<br>scenario=%{customdata[0]}<extra></extra>",
         "legendgroup": "RoW, POLES ENGAGE",
         "line": {
          "color": "#00cc96",
          "dash": "dash"
         },
         "marker": {
          "symbol": "circle"
         },
         "mode": "lines",
         "name": "RoW, POLES ENGAGE",
         "showlegend": false,
         "type": "scattergl",
         "x": [
          2100,
          2090,
          2080,
          2070,
          2060,
          2050,
          2045,
          2040,
          2035,
          2030,
          2025,
          2020,
          2015,
          2010,
          2005
         ],
         "xaxis": "x3",
         "y": [
          -215.03357696533203,
          -98.33770751953125,
          -134.97097778320312,
          476.6127014160156,
          1404.7661437988281,
          2747.4005126953125,
          3737.2525596618652,
          5423.1585693359375,
          6608.703369140625,
          7874.4029541015625,
          9679.497802734375,
          9324.378784179688,
          9669.8466796875,
          8851.25390625,
          7106.84814453125
         ],
         "yaxis": "y3"
        },
        {
         "customdata": [
          [
           "T34_1000_bitb_em",
           "MESSAGEix-GLOBIOM_1.1"
          ],
          [
           "T34_1000_bitb_em",
           "MESSAGEix-GLOBIOM_1.1"
          ],
          [
           "T34_1000_bitb_em",
           "MESSAGEix-GLOBIOM_1.1"
          ],
          [
           "T34_1000_bitb_em",
           "MESSAGEix-GLOBIOM_1.1"
          ],
          [
           "T34_1000_bitb_em",
           "MESSAGEix-GLOBIOM_1.1"
          ],
          [
           "T34_1000_bitb_em",
           "MESSAGEix-GLOBIOM_1.1"
          ],
          [
           "T34_1000_bitb_em",
           "MESSAGEix-GLOBIOM_1.1"
          ],
          [
           "T34_1000_bitb_em",
           "MESSAGEix-GLOBIOM_1.1"
          ],
          [
           "T34_1000_bitb_em",
           "MESSAGEix-GLOBIOM_1.1"
          ],
          [
           "T34_1000_bitb_em",
           "MESSAGEix-GLOBIOM_1.1"
          ],
          [
           "T34_1000_bitb_em",
           "MESSAGEix-GLOBIOM_1.1"
          ],
          [
           "T34_1000_bitb_em",
           "MESSAGEix-GLOBIOM_1.1"
          ],
          [
           "T34_1000_bitb_em",
           "MESSAGEix-GLOBIOM_1.1"
          ],
          [
           "T34_1000_bitb_em",
           "MESSAGEix-GLOBIOM_1.1"
          ],
          [
           "T34_1000_bitb_em",
           "MESSAGEix-GLOBIOM_1.1"
          ],
          [
           "T34_1000_bitb_em",
           "MESSAGEix-GLOBIOM_1.1"
          ],
          [
           "T34_1000_bitb_em",
           "MESSAGEix-GLOBIOM_1.1"
          ],
          [
           "T34_1000_bitb_em",
           "MESSAGEix-GLOBIOM_1.1"
          ],
          [
           "T34_1000_bitb_em",
           "MESSAGEix-GLOBIOM_1.1"
          ],
          [
           "T34_1000_bitb_em",
           "MESSAGEix-GLOBIOM_1.1"
          ]
         ],
         "hovertemplate": "region=RoW<br>model=%{customdata[1]}<br>scenario_narrative=Tech+Inst<br>year=%{x}<br>Emissions|CO2=%{y}<br>scenario=%{customdata[0]}<extra></extra>",
         "legendgroup": "RoW, MESSAGEix-GLOBIOM_1.1",
         "line": {
          "color": "#00cc96",
          "dash": "longdash"
         },
         "marker": {
          "symbol": "circle"
         },
         "mode": "lines",
         "name": "RoW, MESSAGEix-GLOBIOM_1.1",
         "showlegend": true,
         "type": "scattergl",
         "x": [
          2110,
          2100,
          2090,
          2080,
          2070,
          2060,
          2055,
          2050,
          2045,
          2040,
          2035,
          2030,
          2025,
          2020,
          2015,
          2010,
          2005,
          2000,
          1995,
          1990
         ],
         "xaxis": "x4",
         "y": [
          918.5401474775972,
          604.697931250588,
          519.139438387977,
          1926.1989907455452,
          3465.524028037784,
          7432.679437679923,
          8772.013551518237,
          9734.896721188414,
          10575.42042187221,
          10950.199049511319,
          11305.33360302675,
          11494.476425083662,
          12003.642172732125,
          13378.957042940532,
          13512.343249439935,
          12200.49198407487,
          10881.74520551823,
          9680.461242619791,
          8877.810672066405,
          8558.402605305013
         ],
         "yaxis": "y4"
        },
        {
         "customdata": [
          [
           "T34_1000_bitb_ref",
           "MESSAGEix-GLOBIOM_1.1"
          ],
          [
           "T34_1000_bitb_ref",
           "MESSAGEix-GLOBIOM_1.1"
          ],
          [
           "T34_1000_bitb_ref",
           "MESSAGEix-GLOBIOM_1.1"
          ],
          [
           "T34_1000_bitb_ref",
           "MESSAGEix-GLOBIOM_1.1"
          ],
          [
           "T34_1000_bitb_ref",
           "MESSAGEix-GLOBIOM_1.1"
          ],
          [
           "T34_1000_bitb_ref",
           "MESSAGEix-GLOBIOM_1.1"
          ],
          [
           "T34_1000_bitb_ref",
           "MESSAGEix-GLOBIOM_1.1"
          ],
          [
           "T34_1000_bitb_ref",
           "MESSAGEix-GLOBIOM_1.1"
          ],
          [
           "T34_1000_bitb_ref",
           "MESSAGEix-GLOBIOM_1.1"
          ],
          [
           "T34_1000_bitb_ref",
           "MESSAGEix-GLOBIOM_1.1"
          ],
          [
           "T34_1000_bitb_ref",
           "MESSAGEix-GLOBIOM_1.1"
          ],
          [
           "T34_1000_bitb_ref",
           "MESSAGEix-GLOBIOM_1.1"
          ],
          [
           "T34_1000_bitb_ref",
           "MESSAGEix-GLOBIOM_1.1"
          ],
          [
           "T34_1000_bitb_ref",
           "MESSAGEix-GLOBIOM_1.1"
          ],
          [
           "T34_1000_bitb_ref",
           "MESSAGEix-GLOBIOM_1.1"
          ],
          [
           "T34_1000_bitb_ref",
           "MESSAGEix-GLOBIOM_1.1"
          ],
          [
           "T34_1000_bitb_ref",
           "MESSAGEix-GLOBIOM_1.1"
          ],
          [
           "T34_1000_bitb_ref",
           "MESSAGEix-GLOBIOM_1.1"
          ],
          [
           "T34_1000_bitb_ref",
           "MESSAGEix-GLOBIOM_1.1"
          ],
          [
           "T34_1000_bitb_ref",
           "MESSAGEix-GLOBIOM_1.1"
          ]
         ],
         "hovertemplate": "region=RoW<br>model=%{customdata[1]}<br>scenario_narrative=Tech<br>year=%{x}<br>Emissions|CO2=%{y}<br>scenario=%{customdata[0]}<extra></extra>",
         "legendgroup": "RoW, MESSAGEix-GLOBIOM_1.1",
         "line": {
          "color": "#00cc96",
          "dash": "longdash"
         },
         "marker": {
          "symbol": "circle"
         },
         "mode": "lines",
         "name": "RoW, MESSAGEix-GLOBIOM_1.1",
         "showlegend": false,
         "type": "scattergl",
         "x": [
          2110,
          2100,
          2090,
          2080,
          2070,
          2060,
          2055,
          2050,
          2045,
          2040,
          2035,
          2030,
          2025,
          2020,
          2015,
          2010,
          2005,
          2000,
          1995,
          1990
         ],
         "xaxis": "x5",
         "y": [
          -44.81475610550751,
          -165.62184466385543,
          -614.5640312775995,
          -963.2721362569359,
          -993.7588254797046,
          1382.8063454251205,
          2322.997898829019,
          3544.7826772235094,
          5194.905196988463,
          6724.132212360762,
          8054.436209071051,
          9131.327037571351,
          12003.642172732125,
          13378.957042940532,
          13512.343249439935,
          12200.49198407487,
          10881.74520551823,
          9680.461242619791,
          8877.810672066405,
          8558.402605305013
         ],
         "yaxis": "y5"
        },
        {
         "customdata": [
          [
           "T34_1000_enab_em",
           "MESSAGEix-GLOBIOM_1.1"
          ],
          [
           "T34_1000_enab_em",
           "MESSAGEix-GLOBIOM_1.1"
          ],
          [
           "T34_1000_enab_em",
           "MESSAGEix-GLOBIOM_1.1"
          ],
          [
           "T34_1000_enab_em",
           "MESSAGEix-GLOBIOM_1.1"
          ],
          [
           "T34_1000_enab_em",
           "MESSAGEix-GLOBIOM_1.1"
          ],
          [
           "T34_1000_enab_em",
           "MESSAGEix-GLOBIOM_1.1"
          ],
          [
           "T34_1000_enab_em",
           "MESSAGEix-GLOBIOM_1.1"
          ],
          [
           "T34_1000_enab_em",
           "MESSAGEix-GLOBIOM_1.1"
          ],
          [
           "T34_1000_enab_em",
           "MESSAGEix-GLOBIOM_1.1"
          ],
          [
           "T34_1000_enab_em",
           "MESSAGEix-GLOBIOM_1.1"
          ],
          [
           "T34_1000_enab_em",
           "MESSAGEix-GLOBIOM_1.1"
          ],
          [
           "T34_1000_enab_em",
           "MESSAGEix-GLOBIOM_1.1"
          ],
          [
           "T34_1000_enab_em",
           "MESSAGEix-GLOBIOM_1.1"
          ],
          [
           "T34_1000_enab_em",
           "MESSAGEix-GLOBIOM_1.1"
          ],
          [
           "T34_1000_enab_em",
           "MESSAGEix-GLOBIOM_1.1"
          ],
          [
           "T34_1000_enab_em",
           "MESSAGEix-GLOBIOM_1.1"
          ],
          [
           "T34_1000_enab_em",
           "MESSAGEix-GLOBIOM_1.1"
          ],
          [
           "T34_1000_enab_em",
           "MESSAGEix-GLOBIOM_1.1"
          ],
          [
           "T34_1000_enab_em",
           "MESSAGEix-GLOBIOM_1.1"
          ],
          [
           "T34_1000_enab_em",
           "MESSAGEix-GLOBIOM_1.1"
          ]
         ],
         "hovertemplate": "region=RoW<br>model=%{customdata[1]}<br>scenario_narrative=Inst+Enab<br>year=%{x}<br>Emissions|CO2=%{y}<br>scenario=%{customdata[0]}<extra></extra>",
         "legendgroup": "RoW, MESSAGEix-GLOBIOM_1.1",
         "line": {
          "color": "#00cc96",
          "dash": "longdash"
         },
         "marker": {
          "symbol": "circle"
         },
         "mode": "lines",
         "name": "RoW, MESSAGEix-GLOBIOM_1.1",
         "showlegend": false,
         "type": "scattergl",
         "x": [
          2110,
          2100,
          2090,
          2080,
          2070,
          2060,
          2055,
          2050,
          2045,
          2040,
          2035,
          2030,
          2025,
          2020,
          2015,
          2010,
          2005,
          2000,
          1995,
          1990
         ],
         "xaxis": "x6",
         "y": [
          -1878.4530549971896,
          -1397.739635142104,
          -927.4534422768793,
          409.0104870466,
          3401.3710777369497,
          6861.155035415254,
          8920.187250342318,
          10496.066798865859,
          12339.660451035186,
          13527.376113313636,
          13874.328341127683,
          13384.293752136728,
          12003.642172732125,
          13378.957042940532,
          13512.343249439935,
          12200.49198407487,
          10881.74520551823,
          9680.461242619791,
          8877.810672066405,
          8558.402605305013
         ],
         "yaxis": "y6"
        },
        {
         "customdata": [
          [
           "T34_1000_feas_em",
           "MESSAGEix-GLOBIOM_1.1"
          ],
          [
           "T34_1000_feas_em",
           "MESSAGEix-GLOBIOM_1.1"
          ],
          [
           "T34_1000_feas_em",
           "MESSAGEix-GLOBIOM_1.1"
          ],
          [
           "T34_1000_feas_em",
           "MESSAGEix-GLOBIOM_1.1"
          ],
          [
           "T34_1000_feas_em",
           "MESSAGEix-GLOBIOM_1.1"
          ],
          [
           "T34_1000_feas_em",
           "MESSAGEix-GLOBIOM_1.1"
          ],
          [
           "T34_1000_feas_em",
           "MESSAGEix-GLOBIOM_1.1"
          ],
          [
           "T34_1000_feas_em",
           "MESSAGEix-GLOBIOM_1.1"
          ],
          [
           "T34_1000_feas_em",
           "MESSAGEix-GLOBIOM_1.1"
          ],
          [
           "T34_1000_feas_em",
           "MESSAGEix-GLOBIOM_1.1"
          ],
          [
           "T34_1000_feas_em",
           "MESSAGEix-GLOBIOM_1.1"
          ],
          [
           "T34_1000_feas_em",
           "MESSAGEix-GLOBIOM_1.1"
          ],
          [
           "T34_1000_feas_em",
           "MESSAGEix-GLOBIOM_1.1"
          ],
          [
           "T34_1000_feas_em",
           "MESSAGEix-GLOBIOM_1.1"
          ],
          [
           "T34_1000_feas_em",
           "MESSAGEix-GLOBIOM_1.1"
          ],
          [
           "T34_1000_feas_em",
           "MESSAGEix-GLOBIOM_1.1"
          ],
          [
           "T34_1000_feas_em",
           "MESSAGEix-GLOBIOM_1.1"
          ],
          [
           "T34_1000_feas_em",
           "MESSAGEix-GLOBIOM_1.1"
          ],
          [
           "T34_1000_feas_em",
           "MESSAGEix-GLOBIOM_1.1"
          ],
          [
           "T34_1000_feas_em",
           "MESSAGEix-GLOBIOM_1.1"
          ]
         ],
         "hovertemplate": "region=RoW<br>model=%{customdata[1]}<br>scenario_narrative=Tech+Inst+Enab<br>year=%{x}<br>Emissions|CO2=%{y}<br>scenario=%{customdata[0]}<extra></extra>",
         "legendgroup": "RoW, MESSAGEix-GLOBIOM_1.1",
         "line": {
          "color": "#00cc96",
          "dash": "longdash"
         },
         "marker": {
          "symbol": "circle"
         },
         "mode": "lines",
         "name": "RoW, MESSAGEix-GLOBIOM_1.1",
         "showlegend": false,
         "type": "scattergl",
         "x": [
          2110,
          2100,
          2090,
          2080,
          2070,
          2060,
          2055,
          2050,
          2045,
          2040,
          2035,
          2030,
          2025,
          2020,
          2015,
          2010,
          2005,
          2000,
          1995,
          1990
         ],
         "xaxis": "x",
         "y": [
          -1821.5599090931562,
          -1351.5875350863384,
          -934.3919295317287,
          383.81326632976175,
          3357.4989730592997,
          6842.173196511081,
          8957.482766142202,
          10550.911501501763,
          12417.951460835942,
          13669.582786019611,
          13983.406717763999,
          13481.010064407563,
          12003.642172732125,
          13378.957042940532,
          13512.343249439935,
          12200.49198407487,
          10881.74520551823,
          9680.461242619791,
          8877.810672066405,
          8558.402605305013
         ],
         "yaxis": "y"
        },
        {
         "customdata": [
          [
           "T34_1000_govem",
           "MESSAGEix-GLOBIOM_1.1"
          ],
          [
           "T34_1000_govem",
           "MESSAGEix-GLOBIOM_1.1"
          ],
          [
           "T34_1000_govem",
           "MESSAGEix-GLOBIOM_1.1"
          ],
          [
           "T34_1000_govem",
           "MESSAGEix-GLOBIOM_1.1"
          ],
          [
           "T34_1000_govem",
           "MESSAGEix-GLOBIOM_1.1"
          ],
          [
           "T34_1000_govem",
           "MESSAGEix-GLOBIOM_1.1"
          ],
          [
           "T34_1000_govem",
           "MESSAGEix-GLOBIOM_1.1"
          ],
          [
           "T34_1000_govem",
           "MESSAGEix-GLOBIOM_1.1"
          ],
          [
           "T34_1000_govem",
           "MESSAGEix-GLOBIOM_1.1"
          ],
          [
           "T34_1000_govem",
           "MESSAGEix-GLOBIOM_1.1"
          ],
          [
           "T34_1000_govem",
           "MESSAGEix-GLOBIOM_1.1"
          ],
          [
           "T34_1000_govem",
           "MESSAGEix-GLOBIOM_1.1"
          ],
          [
           "T34_1000_govem",
           "MESSAGEix-GLOBIOM_1.1"
          ],
          [
           "T34_1000_govem",
           "MESSAGEix-GLOBIOM_1.1"
          ],
          [
           "T34_1000_govem",
           "MESSAGEix-GLOBIOM_1.1"
          ],
          [
           "T34_1000_govem",
           "MESSAGEix-GLOBIOM_1.1"
          ],
          [
           "T34_1000_govem",
           "MESSAGEix-GLOBIOM_1.1"
          ],
          [
           "T34_1000_govem",
           "MESSAGEix-GLOBIOM_1.1"
          ],
          [
           "T34_1000_govem",
           "MESSAGEix-GLOBIOM_1.1"
          ],
          [
           "T34_1000_govem",
           "MESSAGEix-GLOBIOM_1.1"
          ]
         ],
         "hovertemplate": "region=RoW<br>model=%{customdata[1]}<br>scenario_narrative=Instit<br>year=%{x}<br>Emissions|CO2=%{y}<br>scenario=%{customdata[0]}<extra></extra>",
         "legendgroup": "RoW, MESSAGEix-GLOBIOM_1.1",
         "line": {
          "color": "#00cc96",
          "dash": "longdash"
         },
         "marker": {
          "symbol": "circle"
         },
         "mode": "lines",
         "name": "RoW, MESSAGEix-GLOBIOM_1.1",
         "showlegend": false,
         "type": "scattergl",
         "x": [
          2110,
          2100,
          2090,
          2080,
          2070,
          2060,
          2055,
          2050,
          2045,
          2040,
          2035,
          2030,
          2025,
          2020,
          2015,
          2010,
          2005,
          2000,
          1995,
          1990
         ],
         "xaxis": "x2",
         "y": [
          1352.534263315349,
          1419.9003304259058,
          1388.3663885580174,
          2003.6956051601774,
          3610.8267281893695,
          7413.58530158257,
          8798.10463675362,
          9592.985296446475,
          10444.479290150346,
          10696.400639242293,
          11119.698908218943,
          11468.385405249603,
          12003.642172732125,
          13378.957042940532,
          13512.343249439935,
          12200.49198407487,
          10881.74520551823,
          9680.461242619791,
          8877.810672066405,
          8558.402605305013
         ],
         "yaxis": "y2"
        },
        {
         "customdata": [
          [
           "T34_1000_ref",
           "MESSAGEix-GLOBIOM_1.1"
          ],
          [
           "T34_1000_ref",
           "MESSAGEix-GLOBIOM_1.1"
          ],
          [
           "T34_1000_ref",
           "MESSAGEix-GLOBIOM_1.1"
          ],
          [
           "T34_1000_ref",
           "MESSAGEix-GLOBIOM_1.1"
          ],
          [
           "T34_1000_ref",
           "MESSAGEix-GLOBIOM_1.1"
          ],
          [
           "T34_1000_ref",
           "MESSAGEix-GLOBIOM_1.1"
          ],
          [
           "T34_1000_ref",
           "MESSAGEix-GLOBIOM_1.1"
          ],
          [
           "T34_1000_ref",
           "MESSAGEix-GLOBIOM_1.1"
          ],
          [
           "T34_1000_ref",
           "MESSAGEix-GLOBIOM_1.1"
          ],
          [
           "T34_1000_ref",
           "MESSAGEix-GLOBIOM_1.1"
          ],
          [
           "T34_1000_ref",
           "MESSAGEix-GLOBIOM_1.1"
          ],
          [
           "T34_1000_ref",
           "MESSAGEix-GLOBIOM_1.1"
          ],
          [
           "T34_1000_ref",
           "MESSAGEix-GLOBIOM_1.1"
          ],
          [
           "T34_1000_ref",
           "MESSAGEix-GLOBIOM_1.1"
          ],
          [
           "T34_1000_ref",
           "MESSAGEix-GLOBIOM_1.1"
          ],
          [
           "T34_1000_ref",
           "MESSAGEix-GLOBIOM_1.1"
          ],
          [
           "T34_1000_ref",
           "MESSAGEix-GLOBIOM_1.1"
          ],
          [
           "T34_1000_ref",
           "MESSAGEix-GLOBIOM_1.1"
          ],
          [
           "T34_1000_ref",
           "MESSAGEix-GLOBIOM_1.1"
          ],
          [
           "T34_1000_ref",
           "MESSAGEix-GLOBIOM_1.1"
          ]
         ],
         "hovertemplate": "region=RoW<br>model=%{customdata[1]}<br>scenario_narrative=Cost Effective<br>year=%{x}<br>Emissions|CO2=%{y}<br>scenario=%{customdata[0]}<extra></extra>",
         "legendgroup": "RoW, MESSAGEix-GLOBIOM_1.1",
         "line": {
          "color": "#00cc96",
          "dash": "longdash"
         },
         "marker": {
          "symbol": "circle"
         },
         "mode": "lines",
         "name": "RoW, MESSAGEix-GLOBIOM_1.1",
         "showlegend": false,
         "type": "scattergl",
         "x": [
          2110,
          2100,
          2090,
          2080,
          2070,
          2060,
          2055,
          2050,
          2045,
          2040,
          2035,
          2030,
          2025,
          2020,
          2015,
          2010,
          2005,
          2000,
          1995,
          1990
         ],
         "xaxis": "x3",
         "y": [
          -221.5468219820259,
          -293.45241335280093,
          -586.0972665654051,
          -442.1539041634744,
          -587.7802396513815,
          1455.8736939346752,
          2445.6239830389163,
          3716.342406323699,
          5272.796339655612,
          6727.7370901487575,
          8127.165706066952,
          9149.072158293407,
          12003.642172732125,
          13378.957042940532,
          13512.343249439935,
          12200.49198407487,
          10881.74520551823,
          9680.461242619791,
          8877.810672066405,
          8558.402605305013
         ],
         "yaxis": "y3"
        },
        {
         "customdata": [
          [
           "T34_1000_bitb_em",
           "IMAGE 3.2"
          ],
          [
           "T34_1000_bitb_em",
           "IMAGE 3.2"
          ],
          [
           "T34_1000_bitb_em",
           "IMAGE 3.2"
          ],
          [
           "T34_1000_bitb_em",
           "IMAGE 3.2"
          ],
          [
           "T34_1000_bitb_em",
           "IMAGE 3.2"
          ],
          [
           "T34_1000_bitb_em",
           "IMAGE 3.2"
          ],
          [
           "T34_1000_bitb_em",
           "IMAGE 3.2"
          ],
          [
           "T34_1000_bitb_em",
           "IMAGE 3.2"
          ],
          [
           "T34_1000_bitb_em",
           "IMAGE 3.2"
          ],
          [
           "T34_1000_bitb_em",
           "IMAGE 3.2"
          ],
          [
           "T34_1000_bitb_em",
           "IMAGE 3.2"
          ],
          [
           "T34_1000_bitb_em",
           "IMAGE 3.2"
          ],
          [
           "T34_1000_bitb_em",
           "IMAGE 3.2"
          ],
          [
           "T34_1000_bitb_em",
           "IMAGE 3.2"
          ],
          [
           "T34_1000_bitb_em",
           "IMAGE 3.2"
          ],
          [
           "T34_1000_bitb_em",
           "IMAGE 3.2"
          ],
          [
           "T34_1000_bitb_em",
           "IMAGE 3.2"
          ],
          [
           "T34_1000_bitb_em",
           "IMAGE 3.2"
          ],
          [
           "T34_1000_bitb_em",
           "IMAGE 3.2"
          ],
          [
           "T34_1000_bitb_em",
           "IMAGE 3.2"
          ]
         ],
         "hovertemplate": "region=RoW<br>model=%{customdata[1]}<br>scenario_narrative=Tech+Inst<br>year=%{x}<br>Emissions|CO2=%{y}<br>scenario=%{customdata[0]}<extra></extra>",
         "legendgroup": "RoW, IMAGE 3.2",
         "line": {
          "color": "#00cc96",
          "dash": "dashdot"
         },
         "marker": {
          "symbol": "circle"
         },
         "mode": "lines",
         "name": "RoW, IMAGE 3.2",
         "showlegend": true,
         "type": "scattergl",
         "x": [
          2100,
          2095,
          2090,
          2085,
          2080,
          2075,
          2070,
          2065,
          2060,
          2055,
          2050,
          2045,
          2040,
          2035,
          2030,
          2025,
          2020,
          2015,
          2010,
          2005
         ],
         "xaxis": "x4",
         "y": [
          -1731.0456418975314,
          -954.8761980209575,
          -1441.785075000863,
          -483.4511405271705,
          -988.7190291985669,
          -257.75010302025805,
          -827.9557591237306,
          34.32429981543714,
          85.73949687465631,
          1344.9453806510355,
          2379.3129151441017,
          4837.068229479243,
          6212.504679926752,
          7621.530293203852,
          8701.956740852529,
          11719.7284658278,
          10176.531685800626,
          9441.289306227358,
          9225.533952915914,
          7499.993575460056
         ],
         "yaxis": "y4"
        },
        {
         "customdata": [
          [
           "T34_1000_bitb_ref",
           "IMAGE 3.2"
          ],
          [
           "T34_1000_bitb_ref",
           "IMAGE 3.2"
          ],
          [
           "T34_1000_bitb_ref",
           "IMAGE 3.2"
          ],
          [
           "T34_1000_bitb_ref",
           "IMAGE 3.2"
          ],
          [
           "T34_1000_bitb_ref",
           "IMAGE 3.2"
          ],
          [
           "T34_1000_bitb_ref",
           "IMAGE 3.2"
          ],
          [
           "T34_1000_bitb_ref",
           "IMAGE 3.2"
          ],
          [
           "T34_1000_bitb_ref",
           "IMAGE 3.2"
          ],
          [
           "T34_1000_bitb_ref",
           "IMAGE 3.2"
          ],
          [
           "T34_1000_bitb_ref",
           "IMAGE 3.2"
          ],
          [
           "T34_1000_bitb_ref",
           "IMAGE 3.2"
          ],
          [
           "T34_1000_bitb_ref",
           "IMAGE 3.2"
          ],
          [
           "T34_1000_bitb_ref",
           "IMAGE 3.2"
          ],
          [
           "T34_1000_bitb_ref",
           "IMAGE 3.2"
          ],
          [
           "T34_1000_bitb_ref",
           "IMAGE 3.2"
          ],
          [
           "T34_1000_bitb_ref",
           "IMAGE 3.2"
          ],
          [
           "T34_1000_bitb_ref",
           "IMAGE 3.2"
          ],
          [
           "T34_1000_bitb_ref",
           "IMAGE 3.2"
          ],
          [
           "T34_1000_bitb_ref",
           "IMAGE 3.2"
          ],
          [
           "T34_1000_bitb_ref",
           "IMAGE 3.2"
          ]
         ],
         "hovertemplate": "region=RoW<br>model=%{customdata[1]}<br>scenario_narrative=Tech<br>year=%{x}<br>Emissions|CO2=%{y}<br>scenario=%{customdata[0]}<extra></extra>",
         "legendgroup": "RoW, IMAGE 3.2",
         "line": {
          "color": "#00cc96",
          "dash": "dashdot"
         },
         "marker": {
          "symbol": "circle"
         },
         "mode": "lines",
         "name": "RoW, IMAGE 3.2",
         "showlegend": false,
         "type": "scattergl",
         "x": [
          2100,
          2095,
          2090,
          2085,
          2080,
          2075,
          2070,
          2065,
          2060,
          2055,
          2050,
          2045,
          2040,
          2035,
          2030,
          2025,
          2020,
          2015,
          2010,
          2005
         ],
         "xaxis": "x5",
         "y": [
          -1966.6522421240534,
          -1107.7799000157665,
          -1857.840239932154,
          -1098.213315904637,
          -1509.6223632277536,
          -713.0102971166052,
          -1163.0235434635788,
          -334.920191159496,
          -139.0119755791838,
          903.9560179737437,
          1746.4886512555922,
          3975.7055190839615,
          5331.782673366787,
          6728.497753754992,
          7634.042242108391,
          11046.714921048193,
          10176.531685800626,
          9441.289306227358,
          9225.533952915914,
          7499.993575460056
         ],
         "yaxis": "y5"
        },
        {
         "customdata": [
          [
           "T34_1000_feas_em",
           "IMAGE 3.2"
          ],
          [
           "T34_1000_feas_em",
           "IMAGE 3.2"
          ],
          [
           "T34_1000_feas_em",
           "IMAGE 3.2"
          ],
          [
           "T34_1000_feas_em",
           "IMAGE 3.2"
          ],
          [
           "T34_1000_feas_em",
           "IMAGE 3.2"
          ],
          [
           "T34_1000_feas_em",
           "IMAGE 3.2"
          ],
          [
           "T34_1000_feas_em",
           "IMAGE 3.2"
          ],
          [
           "T34_1000_feas_em",
           "IMAGE 3.2"
          ],
          [
           "T34_1000_feas_em",
           "IMAGE 3.2"
          ],
          [
           "T34_1000_feas_em",
           "IMAGE 3.2"
          ],
          [
           "T34_1000_feas_em",
           "IMAGE 3.2"
          ],
          [
           "T34_1000_feas_em",
           "IMAGE 3.2"
          ],
          [
           "T34_1000_feas_em",
           "IMAGE 3.2"
          ],
          [
           "T34_1000_feas_em",
           "IMAGE 3.2"
          ],
          [
           "T34_1000_feas_em",
           "IMAGE 3.2"
          ],
          [
           "T34_1000_feas_em",
           "IMAGE 3.2"
          ],
          [
           "T34_1000_feas_em",
           "IMAGE 3.2"
          ],
          [
           "T34_1000_feas_em",
           "IMAGE 3.2"
          ],
          [
           "T34_1000_feas_em",
           "IMAGE 3.2"
          ],
          [
           "T34_1000_feas_em",
           "IMAGE 3.2"
          ]
         ],
         "hovertemplate": "region=RoW<br>model=%{customdata[1]}<br>scenario_narrative=Tech+Inst+Enab<br>year=%{x}<br>Emissions|CO2=%{y}<br>scenario=%{customdata[0]}<extra></extra>",
         "legendgroup": "RoW, IMAGE 3.2",
         "line": {
          "color": "#00cc96",
          "dash": "dashdot"
         },
         "marker": {
          "symbol": "circle"
         },
         "mode": "lines",
         "name": "RoW, IMAGE 3.2",
         "showlegend": false,
         "type": "scattergl",
         "x": [
          2100,
          2095,
          2090,
          2085,
          2080,
          2075,
          2070,
          2065,
          2060,
          2055,
          2050,
          2045,
          2040,
          2035,
          2030,
          2025,
          2020,
          2015,
          2010,
          2005
         ],
         "xaxis": "x",
         "y": [
          -2129.536265487351,
          -1343.84174065091,
          -1724.0759781179565,
          -708.5010330675406,
          -690.5254049928899,
          568.5224187890951,
          213.7244705553435,
          1446.872093491163,
          1892.7589014502469,
          3212.805832201253,
          4115.222762561433,
          5540.6514190306625,
          7328.412460993367,
          8986.785171054204,
          9360.03023868457,
          11747.072424367068,
          10179.914831451162,
          9440.262378279267,
          9225.30843691451,
          7499.993575460056
         ],
         "yaxis": "y"
        },
        {
         "customdata": [
          [
           "T34_1000_govem",
           "IMAGE 3.2"
          ],
          [
           "T34_1000_govem",
           "IMAGE 3.2"
          ],
          [
           "T34_1000_govem",
           "IMAGE 3.2"
          ],
          [
           "T34_1000_govem",
           "IMAGE 3.2"
          ],
          [
           "T34_1000_govem",
           "IMAGE 3.2"
          ],
          [
           "T34_1000_govem",
           "IMAGE 3.2"
          ],
          [
           "T34_1000_govem",
           "IMAGE 3.2"
          ],
          [
           "T34_1000_govem",
           "IMAGE 3.2"
          ],
          [
           "T34_1000_govem",
           "IMAGE 3.2"
          ],
          [
           "T34_1000_govem",
           "IMAGE 3.2"
          ],
          [
           "T34_1000_govem",
           "IMAGE 3.2"
          ],
          [
           "T34_1000_govem",
           "IMAGE 3.2"
          ],
          [
           "T34_1000_govem",
           "IMAGE 3.2"
          ],
          [
           "T34_1000_govem",
           "IMAGE 3.2"
          ],
          [
           "T34_1000_govem",
           "IMAGE 3.2"
          ],
          [
           "T34_1000_govem",
           "IMAGE 3.2"
          ],
          [
           "T34_1000_govem",
           "IMAGE 3.2"
          ],
          [
           "T34_1000_govem",
           "IMAGE 3.2"
          ],
          [
           "T34_1000_govem",
           "IMAGE 3.2"
          ],
          [
           "T34_1000_govem",
           "IMAGE 3.2"
          ]
         ],
         "hovertemplate": "region=RoW<br>model=%{customdata[1]}<br>scenario_narrative=Instit<br>year=%{x}<br>Emissions|CO2=%{y}<br>scenario=%{customdata[0]}<extra></extra>",
         "legendgroup": "RoW, IMAGE 3.2",
         "line": {
          "color": "#00cc96",
          "dash": "dashdot"
         },
         "marker": {
          "symbol": "circle"
         },
         "mode": "lines",
         "name": "RoW, IMAGE 3.2",
         "showlegend": false,
         "type": "scattergl",
         "x": [
          2100,
          2095,
          2090,
          2085,
          2080,
          2075,
          2070,
          2065,
          2060,
          2055,
          2050,
          2045,
          2040,
          2035,
          2030,
          2025,
          2020,
          2015,
          2010,
          2005
         ],
         "xaxis": "x2",
         "y": [
          1258.0029755782311,
          2006.922964278517,
          1326.5225780421422,
          1785.3422331843578,
          1146.484368746397,
          1810.6347678558973,
          947.3982800709192,
          1580.2843965536504,
          1390.2294610810509,
          2586.1407212383183,
          3395.72060707286,
          4945.569680345634,
          6912.545862190506,
          9129.530002152385,
          10020.489467260237,
          12412.174543873334,
          10176.444657297201,
          9441.289306227358,
          9225.533952915914,
          7499.993575460056
         ],
         "yaxis": "y2"
        },
        {
         "customdata": [
          [
           "T34_1000_ref",
           "IMAGE 3.2"
          ],
          [
           "T34_1000_ref",
           "IMAGE 3.2"
          ],
          [
           "T34_1000_ref",
           "IMAGE 3.2"
          ],
          [
           "T34_1000_ref",
           "IMAGE 3.2"
          ],
          [
           "T34_1000_ref",
           "IMAGE 3.2"
          ],
          [
           "T34_1000_ref",
           "IMAGE 3.2"
          ],
          [
           "T34_1000_ref",
           "IMAGE 3.2"
          ],
          [
           "T34_1000_ref",
           "IMAGE 3.2"
          ],
          [
           "T34_1000_ref",
           "IMAGE 3.2"
          ],
          [
           "T34_1000_ref",
           "IMAGE 3.2"
          ],
          [
           "T34_1000_ref",
           "IMAGE 3.2"
          ],
          [
           "T34_1000_ref",
           "IMAGE 3.2"
          ],
          [
           "T34_1000_ref",
           "IMAGE 3.2"
          ],
          [
           "T34_1000_ref",
           "IMAGE 3.2"
          ],
          [
           "T34_1000_ref",
           "IMAGE 3.2"
          ],
          [
           "T34_1000_ref",
           "IMAGE 3.2"
          ],
          [
           "T34_1000_ref",
           "IMAGE 3.2"
          ],
          [
           "T34_1000_ref",
           "IMAGE 3.2"
          ],
          [
           "T34_1000_ref",
           "IMAGE 3.2"
          ],
          [
           "T34_1000_ref",
           "IMAGE 3.2"
          ]
         ],
         "hovertemplate": "region=RoW<br>model=%{customdata[1]}<br>scenario_narrative=Cost Effective<br>year=%{x}<br>Emissions|CO2=%{y}<br>scenario=%{customdata[0]}<extra></extra>",
         "legendgroup": "RoW, IMAGE 3.2",
         "line": {
          "color": "#00cc96",
          "dash": "dashdot"
         },
         "marker": {
          "symbol": "circle"
         },
         "mode": "lines",
         "name": "RoW, IMAGE 3.2",
         "showlegend": false,
         "type": "scattergl",
         "x": [
          2100,
          2095,
          2090,
          2085,
          2080,
          2075,
          2070,
          2065,
          2060,
          2055,
          2050,
          2045,
          2040,
          2035,
          2030,
          2025,
          2020,
          2015,
          2010,
          2005
         ],
         "xaxis": "x3",
         "y": [
          -101.7207247508652,
          568.1087475339459,
          -122.05572765188379,
          201.4267823084523,
          -677.539820732676,
          246.05013690642193,
          -933.0397117191397,
          -224.84070525623918,
          7.4300444927614535,
          752.442716349023,
          1292.9192518376487,
          2884.9319058497804,
          4264.879436880636,
          6163.19216466348,
          8346.117150111766,
          11842.63696651036,
          10176.444657297201,
          9441.289306227358,
          9225.533952915914,
          7499.993575460056
         ],
         "yaxis": "y3"
        },
        {
         "customdata": [
          [
           "T34_1000_bitb_em",
           "GEM-E3_V2023"
          ],
          [
           "T34_1000_bitb_em",
           "GEM-E3_V2023"
          ],
          [
           "T34_1000_bitb_em",
           "GEM-E3_V2023"
          ],
          [
           "T34_1000_bitb_em",
           "GEM-E3_V2023"
          ],
          [
           "T34_1000_bitb_em",
           "GEM-E3_V2023"
          ],
          [
           "T34_1000_bitb_em",
           "GEM-E3_V2023"
          ],
          [
           "T34_1000_bitb_em",
           "GEM-E3_V2023"
          ],
          [
           "T34_1000_bitb_em",
           "GEM-E3_V2023"
          ],
          [
           "T34_1000_bitb_em",
           "GEM-E3_V2023"
          ],
          [
           "T34_1000_bitb_em",
           "GEM-E3_V2023"
          ],
          [
           "T34_1000_bitb_em",
           "GEM-E3_V2023"
          ],
          [
           "T34_1000_bitb_em",
           "GEM-E3_V2023"
          ],
          [
           "T34_1000_bitb_em",
           "GEM-E3_V2023"
          ],
          [
           "T34_1000_bitb_em",
           "GEM-E3_V2023"
          ],
          [
           "T34_1000_bitb_em",
           "GEM-E3_V2023"
          ],
          [
           "T34_1000_bitb_em",
           "GEM-E3_V2023"
          ],
          [
           "T34_1000_bitb_em",
           "GEM-E3_V2023"
          ],
          [
           "T34_1000_bitb_em",
           "GEM-E3_V2023"
          ]
         ],
         "hovertemplate": "region=RoW<br>model=%{customdata[1]}<br>scenario_narrative=Tech+Inst<br>year=%{x}<br>Emissions|CO2=%{y}<br>scenario=%{customdata[0]}<extra></extra>",
         "legendgroup": "RoW, GEM-E3_V2023",
         "line": {
          "color": "#00cc96",
          "dash": "longdashdot"
         },
         "marker": {
          "symbol": "circle"
         },
         "mode": "lines",
         "name": "RoW, GEM-E3_V2023",
         "showlegend": true,
         "type": "scattergl",
         "x": [
          2100,
          2095,
          2090,
          2085,
          2080,
          2075,
          2070,
          2065,
          2060,
          2055,
          2050,
          2045,
          2040,
          2035,
          2030,
          2025,
          2020,
          2015
         ],
         "xaxis": "x4",
         "y": [
          14.201524404067413,
          24.479867153244186,
          -46.07004188131509,
          245.47379259556737,
          969.0085779728756,
          1062.8179281337673,
          986.2165221383277,
          1403.277178373707,
          1997.9146592423413,
          2738.815657111087,
          3910.362035088181,
          4550.892370778156,
          5084.560663728929,
          5347.969014525959,
          5716.682633901832,
          6310.479602853104,
          6228.415141656538,
          6543.937187099971
         ],
         "yaxis": "y4"
        },
        {
         "customdata": [
          [
           "T34_1000_feas_em",
           "GEM-E3_V2023"
          ],
          [
           "T34_1000_feas_em",
           "GEM-E3_V2023"
          ],
          [
           "T34_1000_feas_em",
           "GEM-E3_V2023"
          ],
          [
           "T34_1000_feas_em",
           "GEM-E3_V2023"
          ],
          [
           "T34_1000_feas_em",
           "GEM-E3_V2023"
          ],
          [
           "T34_1000_feas_em",
           "GEM-E3_V2023"
          ],
          [
           "T34_1000_feas_em",
           "GEM-E3_V2023"
          ],
          [
           "T34_1000_feas_em",
           "GEM-E3_V2023"
          ],
          [
           "T34_1000_feas_em",
           "GEM-E3_V2023"
          ],
          [
           "T34_1000_feas_em",
           "GEM-E3_V2023"
          ],
          [
           "T34_1000_feas_em",
           "GEM-E3_V2023"
          ],
          [
           "T34_1000_feas_em",
           "GEM-E3_V2023"
          ],
          [
           "T34_1000_feas_em",
           "GEM-E3_V2023"
          ],
          [
           "T34_1000_feas_em",
           "GEM-E3_V2023"
          ],
          [
           "T34_1000_feas_em",
           "GEM-E3_V2023"
          ],
          [
           "T34_1000_feas_em",
           "GEM-E3_V2023"
          ],
          [
           "T34_1000_feas_em",
           "GEM-E3_V2023"
          ],
          [
           "T34_1000_feas_em",
           "GEM-E3_V2023"
          ]
         ],
         "hovertemplate": "region=RoW<br>model=%{customdata[1]}<br>scenario_narrative=Tech+Inst+Enab<br>year=%{x}<br>Emissions|CO2=%{y}<br>scenario=%{customdata[0]}<extra></extra>",
         "legendgroup": "RoW, GEM-E3_V2023",
         "line": {
          "color": "#00cc96",
          "dash": "longdashdot"
         },
         "marker": {
          "symbol": "circle"
         },
         "mode": "lines",
         "name": "RoW, GEM-E3_V2023",
         "showlegend": false,
         "type": "scattergl",
         "x": [
          2100,
          2095,
          2090,
          2085,
          2080,
          2075,
          2070,
          2065,
          2060,
          2055,
          2050,
          2045,
          2040,
          2035,
          2030,
          2025,
          2020,
          2015
         ],
         "xaxis": "x",
         "y": [
          -206.26455668827043,
          -267.76454878350603,
          -247.32386102282317,
          -12.455941941264427,
          670.3809090968125,
          795.6237583641068,
          728.9324302899176,
          1185.9538012265011,
          1760.8959356463354,
          2446.2306223809537,
          3701.7352343238713,
          4399.689170739617,
          4981.502491303076,
          5374.9437317834845,
          6074.638831398566,
          6291.331626894924,
          6228.415141656538,
          6543.937187099971
         ],
         "yaxis": "y"
        },
        {
         "customdata": [
          [
           "T34_1000_govem",
           "GEM-E3_V2023"
          ],
          [
           "T34_1000_govem",
           "GEM-E3_V2023"
          ],
          [
           "T34_1000_govem",
           "GEM-E3_V2023"
          ],
          [
           "T34_1000_govem",
           "GEM-E3_V2023"
          ],
          [
           "T34_1000_govem",
           "GEM-E3_V2023"
          ],
          [
           "T34_1000_govem",
           "GEM-E3_V2023"
          ],
          [
           "T34_1000_govem",
           "GEM-E3_V2023"
          ],
          [
           "T34_1000_govem",
           "GEM-E3_V2023"
          ],
          [
           "T34_1000_govem",
           "GEM-E3_V2023"
          ],
          [
           "T34_1000_govem",
           "GEM-E3_V2023"
          ],
          [
           "T34_1000_govem",
           "GEM-E3_V2023"
          ],
          [
           "T34_1000_govem",
           "GEM-E3_V2023"
          ],
          [
           "T34_1000_govem",
           "GEM-E3_V2023"
          ],
          [
           "T34_1000_govem",
           "GEM-E3_V2023"
          ],
          [
           "T34_1000_govem",
           "GEM-E3_V2023"
          ],
          [
           "T34_1000_govem",
           "GEM-E3_V2023"
          ],
          [
           "T34_1000_govem",
           "GEM-E3_V2023"
          ],
          [
           "T34_1000_govem",
           "GEM-E3_V2023"
          ]
         ],
         "hovertemplate": "region=RoW<br>model=%{customdata[1]}<br>scenario_narrative=Instit<br>year=%{x}<br>Emissions|CO2=%{y}<br>scenario=%{customdata[0]}<extra></extra>",
         "legendgroup": "RoW, GEM-E3_V2023",
         "line": {
          "color": "#00cc96",
          "dash": "longdashdot"
         },
         "marker": {
          "symbol": "circle"
         },
         "mode": "lines",
         "name": "RoW, GEM-E3_V2023",
         "showlegend": false,
         "type": "scattergl",
         "x": [
          2100,
          2095,
          2090,
          2085,
          2080,
          2075,
          2070,
          2065,
          2060,
          2055,
          2050,
          2045,
          2040,
          2035,
          2030,
          2025,
          2020,
          2015
         ],
         "xaxis": "x2",
         "y": [
          -86.42213256105492,
          -217.91626350495108,
          -301.97669597060985,
          -426.187321524297,
          -132.10934982099616,
          -116.69533798183829,
          150.5626692096896,
          782.2559100679612,
          1634.3083214728686,
          2935.1443919591757,
          4286.356494878533,
          4826.132925751695,
          5050.1927037613095,
          5641.913681327769,
          6109.325317105981,
          6302.5093191351825,
          6228.415141656538,
          6543.937187099971
         ],
         "yaxis": "y2"
        },
        {
         "customdata": [
          [
           "T34_1000_ref",
           "GEM-E3_V2023"
          ],
          [
           "T34_1000_ref",
           "GEM-E3_V2023"
          ],
          [
           "T34_1000_ref",
           "GEM-E3_V2023"
          ],
          [
           "T34_1000_ref",
           "GEM-E3_V2023"
          ],
          [
           "T34_1000_ref",
           "GEM-E3_V2023"
          ],
          [
           "T34_1000_ref",
           "GEM-E3_V2023"
          ],
          [
           "T34_1000_ref",
           "GEM-E3_V2023"
          ],
          [
           "T34_1000_ref",
           "GEM-E3_V2023"
          ],
          [
           "T34_1000_ref",
           "GEM-E3_V2023"
          ],
          [
           "T34_1000_ref",
           "GEM-E3_V2023"
          ],
          [
           "T34_1000_ref",
           "GEM-E3_V2023"
          ],
          [
           "T34_1000_ref",
           "GEM-E3_V2023"
          ],
          [
           "T34_1000_ref",
           "GEM-E3_V2023"
          ],
          [
           "T34_1000_ref",
           "GEM-E3_V2023"
          ],
          [
           "T34_1000_ref",
           "GEM-E3_V2023"
          ],
          [
           "T34_1000_ref",
           "GEM-E3_V2023"
          ],
          [
           "T34_1000_ref",
           "GEM-E3_V2023"
          ],
          [
           "T34_1000_ref",
           "GEM-E3_V2023"
          ]
         ],
         "hovertemplate": "region=RoW<br>model=%{customdata[1]}<br>scenario_narrative=Cost Effective<br>year=%{x}<br>Emissions|CO2=%{y}<br>scenario=%{customdata[0]}<extra></extra>",
         "legendgroup": "RoW, GEM-E3_V2023",
         "line": {
          "color": "#00cc96",
          "dash": "longdashdot"
         },
         "marker": {
          "symbol": "circle"
         },
         "mode": "lines",
         "name": "RoW, GEM-E3_V2023",
         "showlegend": false,
         "type": "scattergl",
         "x": [
          2100,
          2095,
          2090,
          2085,
          2080,
          2075,
          2070,
          2065,
          2060,
          2055,
          2050,
          2045,
          2040,
          2035,
          2030,
          2025,
          2020,
          2015
         ],
         "xaxis": "x3",
         "y": [
          -254.60286159615566,
          -339.6200905532403,
          -347.7776170548543,
          -641.5764044819198,
          -534.8676445544311,
          -638.3124181466835,
          -184.6227610169392,
          136.66615931887839,
          487.5033968585701,
          1257.5496408169722,
          2103.402719064801,
          2826.7530333876975,
          3784.73225022166,
          4632.651234145482,
          5815.042016641755,
          6275.460927515558,
          6228.415141656538,
          6543.937187099971
         ],
         "yaxis": "y3"
        },
        {
         "customdata": [
          [
           "T34_1000_bitb_ref",
           "COFFEE 1.5"
          ],
          [
           "T34_1000_bitb_ref",
           "COFFEE 1.5"
          ],
          [
           "T34_1000_bitb_ref",
           "COFFEE 1.5"
          ],
          [
           "T34_1000_bitb_ref",
           "COFFEE 1.5"
          ],
          [
           "T34_1000_bitb_ref",
           "COFFEE 1.5"
          ],
          [
           "T34_1000_bitb_ref",
           "COFFEE 1.5"
          ],
          [
           "T34_1000_bitb_ref",
           "COFFEE 1.5"
          ],
          [
           "T34_1000_bitb_ref",
           "COFFEE 1.5"
          ],
          [
           "T34_1000_bitb_ref",
           "COFFEE 1.5"
          ],
          [
           "T34_1000_bitb_ref",
           "COFFEE 1.5"
          ],
          [
           "T34_1000_bitb_ref",
           "COFFEE 1.5"
          ],
          [
           "T34_1000_bitb_ref",
           "COFFEE 1.5"
          ],
          [
           "T34_1000_bitb_ref",
           "COFFEE 1.5"
          ],
          [
           "T34_1000_bitb_ref",
           "COFFEE 1.5"
          ]
         ],
         "hovertemplate": "region=RoW<br>model=%{customdata[1]}<br>scenario_narrative=Tech<br>year=%{x}<br>Emissions|CO2=%{y}<br>scenario=%{customdata[0]}<extra></extra>",
         "legendgroup": "RoW, COFFEE 1.5",
         "line": {
          "color": "#00cc96",
          "dash": "solid"
         },
         "marker": {
          "symbol": "circle"
         },
         "mode": "lines",
         "name": "RoW, COFFEE 1.5",
         "showlegend": true,
         "type": "scattergl",
         "x": [
          2100,
          2090,
          2080,
          2070,
          2060,
          2050,
          2045,
          2040,
          2035,
          2030,
          2025,
          2020,
          2015,
          2010
         ],
         "xaxis": "x5",
         "y": [
          505.20052400000003,
          -1253.802454,
          -677.099717,
          -85.88559599999996,
          1686.116485,
          4367.963458,
          5049.393069,
          6077.346756999999,
          6133.160733,
          6503.377158175999,
          7314.93246476,
          8406.406752800001,
          10293.742581,
          8918.795422
         ],
         "yaxis": "y5"
        },
        {
         "customdata": [
          [
           "T34_1000_ref",
           "COFFEE 1.5"
          ],
          [
           "T34_1000_ref",
           "COFFEE 1.5"
          ],
          [
           "T34_1000_ref",
           "COFFEE 1.5"
          ],
          [
           "T34_1000_ref",
           "COFFEE 1.5"
          ],
          [
           "T34_1000_ref",
           "COFFEE 1.5"
          ],
          [
           "T34_1000_ref",
           "COFFEE 1.5"
          ],
          [
           "T34_1000_ref",
           "COFFEE 1.5"
          ],
          [
           "T34_1000_ref",
           "COFFEE 1.5"
          ],
          [
           "T34_1000_ref",
           "COFFEE 1.5"
          ],
          [
           "T34_1000_ref",
           "COFFEE 1.5"
          ],
          [
           "T34_1000_ref",
           "COFFEE 1.5"
          ],
          [
           "T34_1000_ref",
           "COFFEE 1.5"
          ],
          [
           "T34_1000_ref",
           "COFFEE 1.5"
          ],
          [
           "T34_1000_ref",
           "COFFEE 1.5"
          ]
         ],
         "hovertemplate": "region=RoW<br>model=%{customdata[1]}<br>scenario_narrative=Cost Effective<br>year=%{x}<br>Emissions|CO2=%{y}<br>scenario=%{customdata[0]}<extra></extra>",
         "legendgroup": "RoW, COFFEE 1.5",
         "line": {
          "color": "#00cc96",
          "dash": "solid"
         },
         "marker": {
          "symbol": "circle"
         },
         "mode": "lines",
         "name": "RoW, COFFEE 1.5",
         "showlegend": false,
         "type": "scattergl",
         "x": [
          2100,
          2090,
          2080,
          2070,
          2060,
          2050,
          2045,
          2040,
          2035,
          2030,
          2025,
          2020,
          2015,
          2010
         ],
         "xaxis": "x3",
         "y": [
          -1480.8231549999998,
          -3589.862012,
          -2079.373725,
          1087.923027,
          4285.867505,
          5726.585872,
          6235.900493,
          7087.366432,
          7090.54318,
          7611.001236068,
          7589.98003968,
          8406.406752800001,
          10293.742581,
          8918.795422
         ],
         "yaxis": "y3"
        },
        {
         "customdata": [
          [
           "T34_1000_bitb_em",
           "AIM/CGE V2.2"
          ],
          [
           "T34_1000_bitb_em",
           "AIM/CGE V2.2"
          ],
          [
           "T34_1000_bitb_em",
           "AIM/CGE V2.2"
          ],
          [
           "T34_1000_bitb_em",
           "AIM/CGE V2.2"
          ],
          [
           "T34_1000_bitb_em",
           "AIM/CGE V2.2"
          ],
          [
           "T34_1000_bitb_em",
           "AIM/CGE V2.2"
          ],
          [
           "T34_1000_bitb_em",
           "AIM/CGE V2.2"
          ],
          [
           "T34_1000_bitb_em",
           "AIM/CGE V2.2"
          ],
          [
           "T34_1000_bitb_em",
           "AIM/CGE V2.2"
          ],
          [
           "T34_1000_bitb_em",
           "AIM/CGE V2.2"
          ],
          [
           "T34_1000_bitb_em",
           "AIM/CGE V2.2"
          ],
          [
           "T34_1000_bitb_em",
           "AIM/CGE V2.2"
          ],
          [
           "T34_1000_bitb_em",
           "AIM/CGE V2.2"
          ],
          [
           "T34_1000_bitb_em",
           "AIM/CGE V2.2"
          ],
          [
           "T34_1000_bitb_em",
           "AIM/CGE V2.2"
          ],
          [
           "T34_1000_bitb_em",
           "AIM/CGE V2.2"
          ],
          [
           "T34_1000_bitb_em",
           "AIM/CGE V2.2"
          ],
          [
           "T34_1000_bitb_em",
           "AIM/CGE V2.2"
          ],
          [
           "T34_1000_bitb_em",
           "AIM/CGE V2.2"
          ]
         ],
         "hovertemplate": "region=RoW<br>model=%{customdata[1]}<br>scenario_narrative=Tech+Inst<br>year=%{x}<br>Emissions|CO2=%{y}<br>scenario=%{customdata[0]}<extra></extra>",
         "legendgroup": "RoW, AIM/CGE V2.2",
         "line": {
          "color": "#00cc96",
          "dash": "dot"
         },
         "marker": {
          "symbol": "circle"
         },
         "mode": "lines",
         "name": "RoW, AIM/CGE V2.2",
         "showlegend": true,
         "type": "scattergl",
         "x": [
          2100,
          2095,
          2090,
          2085,
          2080,
          2075,
          2070,
          2065,
          2060,
          2055,
          2050,
          2045,
          2040,
          2035,
          2030,
          2025,
          2020,
          2015,
          2010
         ],
         "xaxis": "x4",
         "y": [
          -1967.645,
          -2224.0013,
          -2385.5201,
          -2319.0787,
          -1997.412,
          -1475.3376,
          -499.9534,
          566.9323,
          2093.7439,
          3203.7073,
          3832.0015,
          5659.796899999999,
          7649.762699999999,
          7952.831099999999,
          8652.6543,
          9452.388299999999,
          10352.3737,
          9698.1934,
          8919.1903
         ],
         "yaxis": "y4"
        },
        {
         "customdata": [
          [
           "T34_1000_feas_em",
           "AIM/CGE V2.2"
          ],
          [
           "T34_1000_feas_em",
           "AIM/CGE V2.2"
          ],
          [
           "T34_1000_feas_em",
           "AIM/CGE V2.2"
          ],
          [
           "T34_1000_feas_em",
           "AIM/CGE V2.2"
          ],
          [
           "T34_1000_feas_em",
           "AIM/CGE V2.2"
          ],
          [
           "T34_1000_feas_em",
           "AIM/CGE V2.2"
          ],
          [
           "T34_1000_feas_em",
           "AIM/CGE V2.2"
          ],
          [
           "T34_1000_feas_em",
           "AIM/CGE V2.2"
          ],
          [
           "T34_1000_feas_em",
           "AIM/CGE V2.2"
          ],
          [
           "T34_1000_feas_em",
           "AIM/CGE V2.2"
          ],
          [
           "T34_1000_feas_em",
           "AIM/CGE V2.2"
          ],
          [
           "T34_1000_feas_em",
           "AIM/CGE V2.2"
          ],
          [
           "T34_1000_feas_em",
           "AIM/CGE V2.2"
          ],
          [
           "T34_1000_feas_em",
           "AIM/CGE V2.2"
          ],
          [
           "T34_1000_feas_em",
           "AIM/CGE V2.2"
          ],
          [
           "T34_1000_feas_em",
           "AIM/CGE V2.2"
          ],
          [
           "T34_1000_feas_em",
           "AIM/CGE V2.2"
          ],
          [
           "T34_1000_feas_em",
           "AIM/CGE V2.2"
          ],
          [
           "T34_1000_feas_em",
           "AIM/CGE V2.2"
          ]
         ],
         "hovertemplate": "region=RoW<br>model=%{customdata[1]}<br>scenario_narrative=Tech+Inst+Enab<br>year=%{x}<br>Emissions|CO2=%{y}<br>scenario=%{customdata[0]}<extra></extra>",
         "legendgroup": "RoW, AIM/CGE V2.2",
         "line": {
          "color": "#00cc96",
          "dash": "dot"
         },
         "marker": {
          "symbol": "circle"
         },
         "mode": "lines",
         "name": "RoW, AIM/CGE V2.2",
         "showlegend": false,
         "type": "scattergl",
         "x": [
          2100,
          2095,
          2090,
          2085,
          2080,
          2075,
          2070,
          2065,
          2060,
          2055,
          2050,
          2045,
          2040,
          2035,
          2030,
          2025,
          2020,
          2015,
          2010
         ],
         "xaxis": "x",
         "y": [
          -2799.4155,
          -3109.5085,
          -3346.3482,
          -3341.4401,
          -3034.9335,
          -2554.6365,
          -1556.3093999999999,
          -422.62239999999986,
          1207.19,
          2050.9464,
          4159.6424,
          6287.214,
          6261.031,
          7199.7875,
          8225.4617,
          9299.2155,
          10351.7562,
          9698.1935,
          8919.1903
         ],
         "yaxis": "y"
        },
        {
         "customdata": [
          [
           "T34_1000_govem",
           "AIM/CGE V2.2"
          ],
          [
           "T34_1000_govem",
           "AIM/CGE V2.2"
          ],
          [
           "T34_1000_govem",
           "AIM/CGE V2.2"
          ],
          [
           "T34_1000_govem",
           "AIM/CGE V2.2"
          ],
          [
           "T34_1000_govem",
           "AIM/CGE V2.2"
          ],
          [
           "T34_1000_govem",
           "AIM/CGE V2.2"
          ],
          [
           "T34_1000_govem",
           "AIM/CGE V2.2"
          ],
          [
           "T34_1000_govem",
           "AIM/CGE V2.2"
          ],
          [
           "T34_1000_govem",
           "AIM/CGE V2.2"
          ],
          [
           "T34_1000_govem",
           "AIM/CGE V2.2"
          ],
          [
           "T34_1000_govem",
           "AIM/CGE V2.2"
          ],
          [
           "T34_1000_govem",
           "AIM/CGE V2.2"
          ],
          [
           "T34_1000_govem",
           "AIM/CGE V2.2"
          ],
          [
           "T34_1000_govem",
           "AIM/CGE V2.2"
          ],
          [
           "T34_1000_govem",
           "AIM/CGE V2.2"
          ],
          [
           "T34_1000_govem",
           "AIM/CGE V2.2"
          ],
          [
           "T34_1000_govem",
           "AIM/CGE V2.2"
          ],
          [
           "T34_1000_govem",
           "AIM/CGE V2.2"
          ],
          [
           "T34_1000_govem",
           "AIM/CGE V2.2"
          ]
         ],
         "hovertemplate": "region=RoW<br>model=%{customdata[1]}<br>scenario_narrative=Instit<br>year=%{x}<br>Emissions|CO2=%{y}<br>scenario=%{customdata[0]}<extra></extra>",
         "legendgroup": "RoW, AIM/CGE V2.2",
         "line": {
          "color": "#00cc96",
          "dash": "dot"
         },
         "marker": {
          "symbol": "circle"
         },
         "mode": "lines",
         "name": "RoW, AIM/CGE V2.2",
         "showlegend": false,
         "type": "scattergl",
         "x": [
          2100,
          2095,
          2090,
          2085,
          2080,
          2075,
          2070,
          2065,
          2060,
          2055,
          2050,
          2045,
          2040,
          2035,
          2030,
          2025,
          2020,
          2015,
          2010
         ],
         "xaxis": "x2",
         "y": [
          -2402.4748000000004,
          -2437.4058,
          -2440.5191,
          -2431.2585,
          -2417.6982000000003,
          -2049.7690000000002,
          -989.0998999999998,
          542.1789,
          2290.415,
          3027.3212999999996,
          5565.219599999999,
          6924.8781,
          7344.0045,
          7875.053,
          8803.0691,
          9607.7956,
          10350.6996,
          9698.1934,
          8919.190200000001
         ],
         "yaxis": "y2"
        },
        {
         "customdata": [
          [
           "T34_1000_ref",
           "AIM/CGE V2.2"
          ],
          [
           "T34_1000_ref",
           "AIM/CGE V2.2"
          ],
          [
           "T34_1000_ref",
           "AIM/CGE V2.2"
          ],
          [
           "T34_1000_ref",
           "AIM/CGE V2.2"
          ],
          [
           "T34_1000_ref",
           "AIM/CGE V2.2"
          ],
          [
           "T34_1000_ref",
           "AIM/CGE V2.2"
          ],
          [
           "T34_1000_ref",
           "AIM/CGE V2.2"
          ],
          [
           "T34_1000_ref",
           "AIM/CGE V2.2"
          ],
          [
           "T34_1000_ref",
           "AIM/CGE V2.2"
          ],
          [
           "T34_1000_ref",
           "AIM/CGE V2.2"
          ],
          [
           "T34_1000_ref",
           "AIM/CGE V2.2"
          ],
          [
           "T34_1000_ref",
           "AIM/CGE V2.2"
          ],
          [
           "T34_1000_ref",
           "AIM/CGE V2.2"
          ],
          [
           "T34_1000_ref",
           "AIM/CGE V2.2"
          ],
          [
           "T34_1000_ref",
           "AIM/CGE V2.2"
          ],
          [
           "T34_1000_ref",
           "AIM/CGE V2.2"
          ],
          [
           "T34_1000_ref",
           "AIM/CGE V2.2"
          ],
          [
           "T34_1000_ref",
           "AIM/CGE V2.2"
          ],
          [
           "T34_1000_ref",
           "AIM/CGE V2.2"
          ]
         ],
         "hovertemplate": "region=RoW<br>model=%{customdata[1]}<br>scenario_narrative=Cost Effective<br>year=%{x}<br>Emissions|CO2=%{y}<br>scenario=%{customdata[0]}<extra></extra>",
         "legendgroup": "RoW, AIM/CGE V2.2",
         "line": {
          "color": "#00cc96",
          "dash": "dot"
         },
         "marker": {
          "symbol": "circle"
         },
         "mode": "lines",
         "name": "RoW, AIM/CGE V2.2",
         "showlegend": false,
         "type": "scattergl",
         "x": [
          2100,
          2095,
          2090,
          2085,
          2080,
          2075,
          2070,
          2065,
          2060,
          2055,
          2050,
          2045,
          2040,
          2035,
          2030,
          2025,
          2020,
          2015,
          2010
         ],
         "xaxis": "x3",
         "y": [
          -1111.3386,
          -1096.5417,
          -1116.3011,
          -1129.8327000000002,
          -1226.6669,
          -1183.3915,
          -1084.6113,
          -902.3021,
          -839.3806,
          -837.8403000000001,
          1451.0634,
          3043.6375000000003,
          4436.8011,
          5880.9748,
          7089.2297,
          8483.8409,
          10350.6993,
          9698.1934,
          8919.1903
         ],
         "yaxis": "y3"
        }
       ],
       "layout": {
        "annotations": [
         {
          "font": {},
          "showarrow": false,
          "text": "scenario_narrative=Tech+Inst+Enab",
          "x": 0.15999999999999998,
          "xanchor": "center",
          "xref": "paper",
          "y": 0.46499999999999997,
          "yanchor": "bottom",
          "yref": "paper"
         },
         {
          "font": {},
          "showarrow": false,
          "text": "scenario_narrative=Instit",
          "x": 0.49999999999999994,
          "xanchor": "center",
          "xref": "paper",
          "y": 0.46499999999999997,
          "yanchor": "bottom",
          "yref": "paper"
         },
         {
          "font": {},
          "showarrow": false,
          "text": "scenario_narrative=Cost Effective",
          "x": 0.8399999999999999,
          "xanchor": "center",
          "xref": "paper",
          "y": 0.46499999999999997,
          "yanchor": "bottom",
          "yref": "paper"
         },
         {
          "font": {},
          "showarrow": false,
          "text": "scenario_narrative=Tech+Inst",
          "x": 0.15999999999999998,
          "xanchor": "center",
          "xref": "paper",
          "y": 0.9999999999999999,
          "yanchor": "bottom",
          "yref": "paper"
         },
         {
          "font": {},
          "showarrow": false,
          "text": "scenario_narrative=Tech",
          "x": 0.49999999999999994,
          "xanchor": "center",
          "xref": "paper",
          "y": 0.9999999999999999,
          "yanchor": "bottom",
          "yref": "paper"
         },
         {
          "font": {},
          "showarrow": false,
          "text": "scenario_narrative=Inst+Enab",
          "x": 0.8399999999999999,
          "xanchor": "center",
          "xref": "paper",
          "y": 0.9999999999999999,
          "yanchor": "bottom",
          "yref": "paper"
         }
        ],
        "legend": {
         "title": {
          "text": "region, model"
         },
         "tracegroupgap": 0
        },
        "template": {
         "data": {
          "bar": [
           {
            "error_x": {
             "color": "#2a3f5f"
            },
            "error_y": {
             "color": "#2a3f5f"
            },
            "marker": {
             "line": {
              "color": "#E5ECF6",
              "width": 0.5
             },
             "pattern": {
              "fillmode": "overlay",
              "size": 10,
              "solidity": 0.2
             }
            },
            "type": "bar"
           }
          ],
          "barpolar": [
           {
            "marker": {
             "line": {
              "color": "#E5ECF6",
              "width": 0.5
             },
             "pattern": {
              "fillmode": "overlay",
              "size": 10,
              "solidity": 0.2
             }
            },
            "type": "barpolar"
           }
          ],
          "carpet": [
           {
            "aaxis": {
             "endlinecolor": "#2a3f5f",
             "gridcolor": "white",
             "linecolor": "white",
             "minorgridcolor": "white",
             "startlinecolor": "#2a3f5f"
            },
            "baxis": {
             "endlinecolor": "#2a3f5f",
             "gridcolor": "white",
             "linecolor": "white",
             "minorgridcolor": "white",
             "startlinecolor": "#2a3f5f"
            },
            "type": "carpet"
           }
          ],
          "choropleth": [
           {
            "colorbar": {
             "outlinewidth": 0,
             "ticks": ""
            },
            "type": "choropleth"
           }
          ],
          "contour": [
           {
            "colorbar": {
             "outlinewidth": 0,
             "ticks": ""
            },
            "colorscale": [
             [
              0,
              "#0d0887"
             ],
             [
              0.1111111111111111,
              "#46039f"
             ],
             [
              0.2222222222222222,
              "#7201a8"
             ],
             [
              0.3333333333333333,
              "#9c179e"
             ],
             [
              0.4444444444444444,
              "#bd3786"
             ],
             [
              0.5555555555555556,
              "#d8576b"
             ],
             [
              0.6666666666666666,
              "#ed7953"
             ],
             [
              0.7777777777777778,
              "#fb9f3a"
             ],
             [
              0.8888888888888888,
              "#fdca26"
             ],
             [
              1,
              "#f0f921"
             ]
            ],
            "type": "contour"
           }
          ],
          "contourcarpet": [
           {
            "colorbar": {
             "outlinewidth": 0,
             "ticks": ""
            },
            "type": "contourcarpet"
           }
          ],
          "heatmap": [
           {
            "colorbar": {
             "outlinewidth": 0,
             "ticks": ""
            },
            "colorscale": [
             [
              0,
              "#0d0887"
             ],
             [
              0.1111111111111111,
              "#46039f"
             ],
             [
              0.2222222222222222,
              "#7201a8"
             ],
             [
              0.3333333333333333,
              "#9c179e"
             ],
             [
              0.4444444444444444,
              "#bd3786"
             ],
             [
              0.5555555555555556,
              "#d8576b"
             ],
             [
              0.6666666666666666,
              "#ed7953"
             ],
             [
              0.7777777777777778,
              "#fb9f3a"
             ],
             [
              0.8888888888888888,
              "#fdca26"
             ],
             [
              1,
              "#f0f921"
             ]
            ],
            "type": "heatmap"
           }
          ],
          "heatmapgl": [
           {
            "colorbar": {
             "outlinewidth": 0,
             "ticks": ""
            },
            "colorscale": [
             [
              0,
              "#0d0887"
             ],
             [
              0.1111111111111111,
              "#46039f"
             ],
             [
              0.2222222222222222,
              "#7201a8"
             ],
             [
              0.3333333333333333,
              "#9c179e"
             ],
             [
              0.4444444444444444,
              "#bd3786"
             ],
             [
              0.5555555555555556,
              "#d8576b"
             ],
             [
              0.6666666666666666,
              "#ed7953"
             ],
             [
              0.7777777777777778,
              "#fb9f3a"
             ],
             [
              0.8888888888888888,
              "#fdca26"
             ],
             [
              1,
              "#f0f921"
             ]
            ],
            "type": "heatmapgl"
           }
          ],
          "histogram": [
           {
            "marker": {
             "pattern": {
              "fillmode": "overlay",
              "size": 10,
              "solidity": 0.2
             }
            },
            "type": "histogram"
           }
          ],
          "histogram2d": [
           {
            "colorbar": {
             "outlinewidth": 0,
             "ticks": ""
            },
            "colorscale": [
             [
              0,
              "#0d0887"
             ],
             [
              0.1111111111111111,
              "#46039f"
             ],
             [
              0.2222222222222222,
              "#7201a8"
             ],
             [
              0.3333333333333333,
              "#9c179e"
             ],
             [
              0.4444444444444444,
              "#bd3786"
             ],
             [
              0.5555555555555556,
              "#d8576b"
             ],
             [
              0.6666666666666666,
              "#ed7953"
             ],
             [
              0.7777777777777778,
              "#fb9f3a"
             ],
             [
              0.8888888888888888,
              "#fdca26"
             ],
             [
              1,
              "#f0f921"
             ]
            ],
            "type": "histogram2d"
           }
          ],
          "histogram2dcontour": [
           {
            "colorbar": {
             "outlinewidth": 0,
             "ticks": ""
            },
            "colorscale": [
             [
              0,
              "#0d0887"
             ],
             [
              0.1111111111111111,
              "#46039f"
             ],
             [
              0.2222222222222222,
              "#7201a8"
             ],
             [
              0.3333333333333333,
              "#9c179e"
             ],
             [
              0.4444444444444444,
              "#bd3786"
             ],
             [
              0.5555555555555556,
              "#d8576b"
             ],
             [
              0.6666666666666666,
              "#ed7953"
             ],
             [
              0.7777777777777778,
              "#fb9f3a"
             ],
             [
              0.8888888888888888,
              "#fdca26"
             ],
             [
              1,
              "#f0f921"
             ]
            ],
            "type": "histogram2dcontour"
           }
          ],
          "mesh3d": [
           {
            "colorbar": {
             "outlinewidth": 0,
             "ticks": ""
            },
            "type": "mesh3d"
           }
          ],
          "parcoords": [
           {
            "line": {
             "colorbar": {
              "outlinewidth": 0,
              "ticks": ""
             }
            },
            "type": "parcoords"
           }
          ],
          "pie": [
           {
            "automargin": true,
            "type": "pie"
           }
          ],
          "scatter": [
           {
            "fillpattern": {
             "fillmode": "overlay",
             "size": 10,
             "solidity": 0.2
            },
            "type": "scatter"
           }
          ],
          "scatter3d": [
           {
            "line": {
             "colorbar": {
              "outlinewidth": 0,
              "ticks": ""
             }
            },
            "marker": {
             "colorbar": {
              "outlinewidth": 0,
              "ticks": ""
             }
            },
            "type": "scatter3d"
           }
          ],
          "scattercarpet": [
           {
            "marker": {
             "colorbar": {
              "outlinewidth": 0,
              "ticks": ""
             }
            },
            "type": "scattercarpet"
           }
          ],
          "scattergeo": [
           {
            "marker": {
             "colorbar": {
              "outlinewidth": 0,
              "ticks": ""
             }
            },
            "type": "scattergeo"
           }
          ],
          "scattergl": [
           {
            "marker": {
             "colorbar": {
              "outlinewidth": 0,
              "ticks": ""
             }
            },
            "type": "scattergl"
           }
          ],
          "scattermapbox": [
           {
            "marker": {
             "colorbar": {
              "outlinewidth": 0,
              "ticks": ""
             }
            },
            "type": "scattermapbox"
           }
          ],
          "scatterpolar": [
           {
            "marker": {
             "colorbar": {
              "outlinewidth": 0,
              "ticks": ""
             }
            },
            "type": "scatterpolar"
           }
          ],
          "scatterpolargl": [
           {
            "marker": {
             "colorbar": {
              "outlinewidth": 0,
              "ticks": ""
             }
            },
            "type": "scatterpolargl"
           }
          ],
          "scatterternary": [
           {
            "marker": {
             "colorbar": {
              "outlinewidth": 0,
              "ticks": ""
             }
            },
            "type": "scatterternary"
           }
          ],
          "surface": [
           {
            "colorbar": {
             "outlinewidth": 0,
             "ticks": ""
            },
            "colorscale": [
             [
              0,
              "#0d0887"
             ],
             [
              0.1111111111111111,
              "#46039f"
             ],
             [
              0.2222222222222222,
              "#7201a8"
             ],
             [
              0.3333333333333333,
              "#9c179e"
             ],
             [
              0.4444444444444444,
              "#bd3786"
             ],
             [
              0.5555555555555556,
              "#d8576b"
             ],
             [
              0.6666666666666666,
              "#ed7953"
             ],
             [
              0.7777777777777778,
              "#fb9f3a"
             ],
             [
              0.8888888888888888,
              "#fdca26"
             ],
             [
              1,
              "#f0f921"
             ]
            ],
            "type": "surface"
           }
          ],
          "table": [
           {
            "cells": {
             "fill": {
              "color": "#EBF0F8"
             },
             "line": {
              "color": "white"
             }
            },
            "header": {
             "fill": {
              "color": "#C8D4E3"
             },
             "line": {
              "color": "white"
             }
            },
            "type": "table"
           }
          ]
         },
         "layout": {
          "annotationdefaults": {
           "arrowcolor": "#2a3f5f",
           "arrowhead": 0,
           "arrowwidth": 1
          },
          "autotypenumbers": "strict",
          "coloraxis": {
           "colorbar": {
            "outlinewidth": 0,
            "ticks": ""
           }
          },
          "colorscale": {
           "diverging": [
            [
             0,
             "#8e0152"
            ],
            [
             0.1,
             "#c51b7d"
            ],
            [
             0.2,
             "#de77ae"
            ],
            [
             0.3,
             "#f1b6da"
            ],
            [
             0.4,
             "#fde0ef"
            ],
            [
             0.5,
             "#f7f7f7"
            ],
            [
             0.6,
             "#e6f5d0"
            ],
            [
             0.7,
             "#b8e186"
            ],
            [
             0.8,
             "#7fbc41"
            ],
            [
             0.9,
             "#4d9221"
            ],
            [
             1,
             "#276419"
            ]
           ],
           "sequential": [
            [
             0,
             "#0d0887"
            ],
            [
             0.1111111111111111,
             "#46039f"
            ],
            [
             0.2222222222222222,
             "#7201a8"
            ],
            [
             0.3333333333333333,
             "#9c179e"
            ],
            [
             0.4444444444444444,
             "#bd3786"
            ],
            [
             0.5555555555555556,
             "#d8576b"
            ],
            [
             0.6666666666666666,
             "#ed7953"
            ],
            [
             0.7777777777777778,
             "#fb9f3a"
            ],
            [
             0.8888888888888888,
             "#fdca26"
            ],
            [
             1,
             "#f0f921"
            ]
           ],
           "sequentialminus": [
            [
             0,
             "#0d0887"
            ],
            [
             0.1111111111111111,
             "#46039f"
            ],
            [
             0.2222222222222222,
             "#7201a8"
            ],
            [
             0.3333333333333333,
             "#9c179e"
            ],
            [
             0.4444444444444444,
             "#bd3786"
            ],
            [
             0.5555555555555556,
             "#d8576b"
            ],
            [
             0.6666666666666666,
             "#ed7953"
            ],
            [
             0.7777777777777778,
             "#fb9f3a"
            ],
            [
             0.8888888888888888,
             "#fdca26"
            ],
            [
             1,
             "#f0f921"
            ]
           ]
          },
          "colorway": [
           "#636efa",
           "#EF553B",
           "#00cc96",
           "#ab63fa",
           "#FFA15A",
           "#19d3f3",
           "#FF6692",
           "#B6E880",
           "#FF97FF",
           "#FECB52"
          ],
          "font": {
           "color": "#2a3f5f"
          },
          "geo": {
           "bgcolor": "white",
           "lakecolor": "white",
           "landcolor": "#E5ECF6",
           "showlakes": true,
           "showland": true,
           "subunitcolor": "white"
          },
          "hoverlabel": {
           "align": "left"
          },
          "hovermode": "closest",
          "mapbox": {
           "style": "light"
          },
          "paper_bgcolor": "white",
          "plot_bgcolor": "#E5ECF6",
          "polar": {
           "angularaxis": {
            "gridcolor": "white",
            "linecolor": "white",
            "ticks": ""
           },
           "bgcolor": "#E5ECF6",
           "radialaxis": {
            "gridcolor": "white",
            "linecolor": "white",
            "ticks": ""
           }
          },
          "scene": {
           "xaxis": {
            "backgroundcolor": "#E5ECF6",
            "gridcolor": "white",
            "gridwidth": 2,
            "linecolor": "white",
            "showbackground": true,
            "ticks": "",
            "zerolinecolor": "white"
           },
           "yaxis": {
            "backgroundcolor": "#E5ECF6",
            "gridcolor": "white",
            "gridwidth": 2,
            "linecolor": "white",
            "showbackground": true,
            "ticks": "",
            "zerolinecolor": "white"
           },
           "zaxis": {
            "backgroundcolor": "#E5ECF6",
            "gridcolor": "white",
            "gridwidth": 2,
            "linecolor": "white",
            "showbackground": true,
            "ticks": "",
            "zerolinecolor": "white"
           }
          },
          "shapedefaults": {
           "line": {
            "color": "#2a3f5f"
           }
          },
          "ternary": {
           "aaxis": {
            "gridcolor": "white",
            "linecolor": "white",
            "ticks": ""
           },
           "baxis": {
            "gridcolor": "white",
            "linecolor": "white",
            "ticks": ""
           },
           "bgcolor": "#E5ECF6",
           "caxis": {
            "gridcolor": "white",
            "linecolor": "white",
            "ticks": ""
           }
          },
          "title": {
           "x": 0.05
          },
          "xaxis": {
           "automargin": true,
           "gridcolor": "white",
           "linecolor": "white",
           "ticks": "",
           "title": {
            "standoff": 15
           },
           "zerolinecolor": "white",
           "zerolinewidth": 2
          },
          "yaxis": {
           "automargin": true,
           "gridcolor": "white",
           "linecolor": "white",
           "ticks": "",
           "title": {
            "standoff": 15
           },
           "zerolinecolor": "white",
           "zerolinewidth": 2
          }
         }
        },
        "title": {
         "text": "CO2 emission trajectories"
        },
        "xaxis": {
         "anchor": "y",
         "domain": [
          0,
          0.31999999999999995
         ],
         "range": [
          2005,
          2100
         ],
         "title": {
          "text": "year"
         }
        },
        "xaxis2": {
         "anchor": "y2",
         "domain": [
          0.33999999999999997,
          0.6599999999999999
         ],
         "matches": "x",
         "range": [
          2005,
          2100
         ],
         "title": {
          "text": "year"
         }
        },
        "xaxis3": {
         "anchor": "y3",
         "domain": [
          0.6799999999999999,
          0.9999999999999999
         ],
         "matches": "x",
         "range": [
          2005,
          2100
         ],
         "title": {
          "text": "year"
         }
        },
        "xaxis4": {
         "anchor": "y4",
         "domain": [
          0,
          0.31999999999999995
         ],
         "matches": "x",
         "showticklabels": false
        },
        "xaxis5": {
         "anchor": "y5",
         "domain": [
          0.33999999999999997,
          0.6599999999999999
         ],
         "matches": "x",
         "showticklabels": false
        },
        "xaxis6": {
         "anchor": "y6",
         "domain": [
          0.6799999999999999,
          0.9999999999999999
         ],
         "matches": "x",
         "showticklabels": false
        },
        "yaxis": {
         "anchor": "x",
         "domain": [
          0,
          0.46499999999999997
         ],
         "range": [
          -10000,
          15000
         ],
         "title": {
          "text": "Emissions|CO2"
         }
        },
        "yaxis2": {
         "anchor": "x2",
         "domain": [
          0,
          0.46499999999999997
         ],
         "matches": "y",
         "showticklabels": false
        },
        "yaxis3": {
         "anchor": "x3",
         "domain": [
          0,
          0.46499999999999997
         ],
         "matches": "y",
         "showticklabels": false
        },
        "yaxis4": {
         "anchor": "x4",
         "domain": [
          0.5349999999999999,
          0.9999999999999999
         ],
         "matches": "y",
         "range": [
          -10000,
          15000
         ],
         "title": {
          "text": "Emissions|CO2"
         }
        },
        "yaxis5": {
         "anchor": "x5",
         "domain": [
          0.5349999999999999,
          0.9999999999999999
         ],
         "matches": "y",
         "showticklabels": false
        },
        "yaxis6": {
         "anchor": "x6",
         "domain": [
          0.5349999999999999,
          0.9999999999999999
         ],
         "matches": "y",
         "showticklabels": false
        }
       }
      }
     },
     "metadata": {},
     "output_type": "display_data"
    }
   ],
   "source": [
    "#Figure 1: CO2 trajectories\n",
    "fig1 = px.line(df.sort_values(by=[\"model\", \"year\"], ascending=False),\n",
    "               x = \"year\",\n",
    "               y=\"Emissions|CO2\",\n",
    "               color = \"region\",\n",
    "               #line_dash=\"model\",\n",
    "               facet_col=\"scenario_narrative\",\n",
    "               facet_col_wrap= 3,\n",
    "               range_x=[2005, 2100],\n",
    "               range_y = [-10000, 15000],\n",
    "               hover_data = {'scenario':True, 'model':True},\n",
    "               title = \"CO2 emission trajectories\")\n",
    "\n",
    "\n",
    "#fig1.update_layout(showlegend=False)\n",
    "fig1"
   ]
  },
  {
   "cell_type": "code",
   "execution_count": 122,
   "metadata": {},
   "outputs": [
    {
     "data": {
      "application/vnd.plotly.v1+json": {
       "config": {
        "plotlyServerURL": "https://plot.ly"
       },
       "data": [
        {
         "customdata": [
          [
           "T34_1000_bitb_em",
           "AIM/CGE V2.2"
          ],
          [
           "T34_1000_bitb_em",
           "AIM/CGE V2.2"
          ],
          [
           "T34_1000_bitb_em",
           "AIM/CGE V2.2"
          ],
          [
           "T34_1000_bitb_em",
           "AIM/CGE V2.2"
          ],
          [
           "T34_1000_bitb_em",
           "AIM/CGE V2.2"
          ],
          [
           "T34_1000_bitb_em",
           "AIM/CGE V2.2"
          ],
          [
           "T34_1000_bitb_em",
           "AIM/CGE V2.2"
          ],
          [
           "T34_1000_bitb_em",
           "AIM/CGE V2.2"
          ],
          [
           "T34_1000_bitb_em",
           "AIM/CGE V2.2"
          ],
          [
           "T34_1000_bitb_em",
           "AIM/CGE V2.2"
          ],
          [
           "T34_1000_bitb_em",
           "AIM/CGE V2.2"
          ],
          [
           "T34_1000_bitb_em",
           "AIM/CGE V2.2"
          ],
          [
           "T34_1000_bitb_em",
           "AIM/CGE V2.2"
          ],
          [
           "T34_1000_bitb_em",
           "AIM/CGE V2.2"
          ],
          [
           "T34_1000_bitb_em",
           "AIM/CGE V2.2"
          ],
          [
           "T34_1000_bitb_em",
           "AIM/CGE V2.2"
          ],
          [
           "T34_1000_bitb_em",
           "AIM/CGE V2.2"
          ],
          [
           "T34_1000_bitb_em",
           "AIM/CGE V2.2"
          ],
          [
           "T34_1000_bitb_em",
           "AIM/CGE V2.2"
          ]
         ],
         "hovertemplate": "region=China<br>model=%{customdata[1]}<br>scenario_narrative=Tech+Inst<br>year=%{x}<br>Emissions|Kyoto Gases=%{y}<br>scenario=%{customdata[0]}<extra></extra>",
         "legendgroup": "China, AIM/CGE V2.2",
         "line": {
          "color": "#636efa",
          "dash": "solid"
         },
         "marker": {
          "symbol": "circle"
         },
         "mode": "lines",
         "name": "China, AIM/CGE V2.2",
         "showlegend": true,
         "type": "scattergl",
         "x": [
          2010,
          2015,
          2020,
          2025,
          2030,
          2035,
          2040,
          2045,
          2050,
          2055,
          2060,
          2065,
          2070,
          2075,
          2080,
          2085,
          2090,
          2095,
          2100
         ],
         "xaxis": "x4",
         "y": [
          11537.5187,
          13745.7169,
          15070.7563,
          13229.0308,
          11433.0647,
          8648.9213,
          5588.2266,
          2766.8869,
          624.5474,
          879.3148,
          410.5252,
          348.1959,
          309.1487,
          274.8137,
          237.504,
          196.2544,
          172.7269,
          161.8852,
          162.574
         ],
         "yaxis": "y4"
        },
        {
         "customdata": [
          [
           "T34_1000_feas_em",
           "AIM/CGE V2.2"
          ],
          [
           "T34_1000_feas_em",
           "AIM/CGE V2.2"
          ],
          [
           "T34_1000_feas_em",
           "AIM/CGE V2.2"
          ],
          [
           "T34_1000_feas_em",
           "AIM/CGE V2.2"
          ],
          [
           "T34_1000_feas_em",
           "AIM/CGE V2.2"
          ],
          [
           "T34_1000_feas_em",
           "AIM/CGE V2.2"
          ],
          [
           "T34_1000_feas_em",
           "AIM/CGE V2.2"
          ],
          [
           "T34_1000_feas_em",
           "AIM/CGE V2.2"
          ],
          [
           "T34_1000_feas_em",
           "AIM/CGE V2.2"
          ],
          [
           "T34_1000_feas_em",
           "AIM/CGE V2.2"
          ],
          [
           "T34_1000_feas_em",
           "AIM/CGE V2.2"
          ],
          [
           "T34_1000_feas_em",
           "AIM/CGE V2.2"
          ],
          [
           "T34_1000_feas_em",
           "AIM/CGE V2.2"
          ],
          [
           "T34_1000_feas_em",
           "AIM/CGE V2.2"
          ],
          [
           "T34_1000_feas_em",
           "AIM/CGE V2.2"
          ],
          [
           "T34_1000_feas_em",
           "AIM/CGE V2.2"
          ],
          [
           "T34_1000_feas_em",
           "AIM/CGE V2.2"
          ],
          [
           "T34_1000_feas_em",
           "AIM/CGE V2.2"
          ],
          [
           "T34_1000_feas_em",
           "AIM/CGE V2.2"
          ]
         ],
         "hovertemplate": "region=China<br>model=%{customdata[1]}<br>scenario_narrative=Tech+Inst+Enab<br>year=%{x}<br>Emissions|Kyoto Gases=%{y}<br>scenario=%{customdata[0]}<extra></extra>",
         "legendgroup": "China, AIM/CGE V2.2",
         "line": {
          "color": "#636efa",
          "dash": "solid"
         },
         "marker": {
          "symbol": "circle"
         },
         "mode": "lines",
         "name": "China, AIM/CGE V2.2",
         "showlegend": false,
         "type": "scattergl",
         "x": [
          2010,
          2015,
          2020,
          2025,
          2030,
          2035,
          2040,
          2045,
          2050,
          2055,
          2060,
          2065,
          2070,
          2075,
          2080,
          2085,
          2090,
          2095,
          2100
         ],
         "xaxis": "x5",
         "y": [
          11537.5187,
          13745.7169,
          15070.9138,
          13114.8775,
          10941.585,
          8034.1136,
          5077.5237,
          2926.7054,
          555.4704,
          215.1128,
          27.977899999999998,
          -89.6426,
          -145.3248,
          -186.7774,
          -219.0997,
          -243.0364,
          -250.7683,
          -241.5842,
          -222.879
         ],
         "yaxis": "y5"
        },
        {
         "customdata": [
          [
           "T34_1000_govem",
           "AIM/CGE V2.2"
          ],
          [
           "T34_1000_govem",
           "AIM/CGE V2.2"
          ],
          [
           "T34_1000_govem",
           "AIM/CGE V2.2"
          ],
          [
           "T34_1000_govem",
           "AIM/CGE V2.2"
          ],
          [
           "T34_1000_govem",
           "AIM/CGE V2.2"
          ],
          [
           "T34_1000_govem",
           "AIM/CGE V2.2"
          ],
          [
           "T34_1000_govem",
           "AIM/CGE V2.2"
          ],
          [
           "T34_1000_govem",
           "AIM/CGE V2.2"
          ],
          [
           "T34_1000_govem",
           "AIM/CGE V2.2"
          ],
          [
           "T34_1000_govem",
           "AIM/CGE V2.2"
          ],
          [
           "T34_1000_govem",
           "AIM/CGE V2.2"
          ],
          [
           "T34_1000_govem",
           "AIM/CGE V2.2"
          ],
          [
           "T34_1000_govem",
           "AIM/CGE V2.2"
          ],
          [
           "T34_1000_govem",
           "AIM/CGE V2.2"
          ],
          [
           "T34_1000_govem",
           "AIM/CGE V2.2"
          ],
          [
           "T34_1000_govem",
           "AIM/CGE V2.2"
          ],
          [
           "T34_1000_govem",
           "AIM/CGE V2.2"
          ],
          [
           "T34_1000_govem",
           "AIM/CGE V2.2"
          ],
          [
           "T34_1000_govem",
           "AIM/CGE V2.2"
          ]
         ],
         "hovertemplate": "region=China<br>model=%{customdata[1]}<br>scenario_narrative=Instit<br>year=%{x}<br>Emissions|Kyoto Gases=%{y}<br>scenario=%{customdata[0]}<extra></extra>",
         "legendgroup": "China, AIM/CGE V2.2",
         "line": {
          "color": "#636efa",
          "dash": "solid"
         },
         "marker": {
          "symbol": "circle"
         },
         "mode": "lines",
         "name": "China, AIM/CGE V2.2",
         "showlegend": false,
         "type": "scattergl",
         "x": [
          2010,
          2015,
          2020,
          2025,
          2030,
          2035,
          2040,
          2045,
          2050,
          2055,
          2060,
          2065,
          2070,
          2075,
          2080,
          2085,
          2090,
          2095,
          2100
         ],
         "xaxis": "x6",
         "y": [
          11537.5187,
          13745.7169,
          15054.2493,
          13166.868,
          11290.2687,
          8722.8337,
          6054.4933,
          3612.7563,
          1693.3457,
          292.5607,
          69.9506,
          -159.3432,
          -366.9757,
          -603.5443,
          -873.9954,
          -1107.8006,
          -1285.0168,
          -1409.4018,
          -1501.3822
         ],
         "yaxis": "y6"
        },
        {
         "customdata": [
          [
           "T34_1000_ref",
           "AIM/CGE V2.2"
          ],
          [
           "T34_1000_ref",
           "AIM/CGE V2.2"
          ],
          [
           "T34_1000_ref",
           "AIM/CGE V2.2"
          ],
          [
           "T34_1000_ref",
           "AIM/CGE V2.2"
          ],
          [
           "T34_1000_ref",
           "AIM/CGE V2.2"
          ],
          [
           "T34_1000_ref",
           "AIM/CGE V2.2"
          ],
          [
           "T34_1000_ref",
           "AIM/CGE V2.2"
          ],
          [
           "T34_1000_ref",
           "AIM/CGE V2.2"
          ],
          [
           "T34_1000_ref",
           "AIM/CGE V2.2"
          ],
          [
           "T34_1000_ref",
           "AIM/CGE V2.2"
          ],
          [
           "T34_1000_ref",
           "AIM/CGE V2.2"
          ],
          [
           "T34_1000_ref",
           "AIM/CGE V2.2"
          ],
          [
           "T34_1000_ref",
           "AIM/CGE V2.2"
          ],
          [
           "T34_1000_ref",
           "AIM/CGE V2.2"
          ],
          [
           "T34_1000_ref",
           "AIM/CGE V2.2"
          ],
          [
           "T34_1000_ref",
           "AIM/CGE V2.2"
          ],
          [
           "T34_1000_ref",
           "AIM/CGE V2.2"
          ],
          [
           "T34_1000_ref",
           "AIM/CGE V2.2"
          ],
          [
           "T34_1000_ref",
           "AIM/CGE V2.2"
          ]
         ],
         "hovertemplate": "region=China<br>model=%{customdata[1]}<br>scenario_narrative=Cost Effective<br>year=%{x}<br>Emissions|Kyoto Gases=%{y}<br>scenario=%{customdata[0]}<extra></extra>",
         "legendgroup": "China, AIM/CGE V2.2",
         "line": {
          "color": "#636efa",
          "dash": "solid"
         },
         "marker": {
          "symbol": "circle"
         },
         "mode": "lines",
         "name": "China, AIM/CGE V2.2",
         "showlegend": false,
         "type": "scattergl",
         "x": [
          2010,
          2015,
          2020,
          2025,
          2030,
          2035,
          2040,
          2045,
          2050,
          2055,
          2060,
          2065,
          2070,
          2075,
          2080,
          2085,
          2090,
          2095,
          2100
         ],
         "xaxis": "x",
         "y": [
          11537.5187,
          13745.7169,
          15054.2493,
          12640.5223,
          10981.8938,
          9164.2416,
          7035.3985,
          4827.0068,
          2928.5076,
          1314.2616,
          1115.7875,
          981.893,
          797.1289,
          613.7934,
          451.1176,
          358.0988,
          265.5907,
          198.9506,
          136.433
         ],
         "yaxis": "y"
        },
        {
         "customdata": [
          [
           "T34_1000_ref",
           "COFFEE 1.5"
          ],
          [
           "T34_1000_ref",
           "COFFEE 1.5"
          ],
          [
           "T34_1000_ref",
           "COFFEE 1.5"
          ],
          [
           "T34_1000_ref",
           "COFFEE 1.5"
          ],
          [
           "T34_1000_ref",
           "COFFEE 1.5"
          ],
          [
           "T34_1000_ref",
           "COFFEE 1.5"
          ],
          [
           "T34_1000_ref",
           "COFFEE 1.5"
          ],
          [
           "T34_1000_ref",
           "COFFEE 1.5"
          ],
          [
           "T34_1000_ref",
           "COFFEE 1.5"
          ],
          [
           "T34_1000_ref",
           "COFFEE 1.5"
          ],
          [
           "T34_1000_ref",
           "COFFEE 1.5"
          ],
          [
           "T34_1000_ref",
           "COFFEE 1.5"
          ],
          [
           "T34_1000_ref",
           "COFFEE 1.5"
          ],
          [
           "T34_1000_ref",
           "COFFEE 1.5"
          ]
         ],
         "hovertemplate": "region=China<br>model=%{customdata[1]}<br>scenario_narrative=Cost Effective<br>year=%{x}<br>Emissions|Kyoto Gases=%{y}<br>scenario=%{customdata[0]}<extra></extra>",
         "legendgroup": "China, COFFEE 1.5",
         "line": {
          "color": "#636efa",
          "dash": "dot"
         },
         "marker": {
          "symbol": "circle"
         },
         "mode": "lines",
         "name": "China, COFFEE 1.5",
         "showlegend": true,
         "type": "scattergl",
         "x": [
          2010,
          2015,
          2020,
          2025,
          2030,
          2035,
          2040,
          2045,
          2050,
          2060,
          2070,
          2080,
          2090,
          2100
         ],
         "xaxis": "x",
         "y": [
          11346.159063608124,
          13401.55211409336,
          14234.474173507308,
          11580.803160194831,
          10127.850759657598,
          8732.147938659153,
          7745.854730915451,
          6322.263562557394,
          5526.620571619815,
          3977.208009964207,
          1771.4482644069897,
          722.1755924356672,
          -20.617927207040793,
          -302.0817266420057
         ],
         "yaxis": "y"
        },
        {
         "customdata": [
          [
           "T34_1000_bitb_ref",
           "COFFEE 1.5"
          ],
          [
           "T34_1000_bitb_ref",
           "COFFEE 1.5"
          ],
          [
           "T34_1000_bitb_ref",
           "COFFEE 1.5"
          ],
          [
           "T34_1000_bitb_ref",
           "COFFEE 1.5"
          ],
          [
           "T34_1000_bitb_ref",
           "COFFEE 1.5"
          ],
          [
           "T34_1000_bitb_ref",
           "COFFEE 1.5"
          ],
          [
           "T34_1000_bitb_ref",
           "COFFEE 1.5"
          ],
          [
           "T34_1000_bitb_ref",
           "COFFEE 1.5"
          ],
          [
           "T34_1000_bitb_ref",
           "COFFEE 1.5"
          ],
          [
           "T34_1000_bitb_ref",
           "COFFEE 1.5"
          ],
          [
           "T34_1000_bitb_ref",
           "COFFEE 1.5"
          ],
          [
           "T34_1000_bitb_ref",
           "COFFEE 1.5"
          ],
          [
           "T34_1000_bitb_ref",
           "COFFEE 1.5"
          ],
          [
           "T34_1000_bitb_ref",
           "COFFEE 1.5"
          ]
         ],
         "hovertemplate": "region=China<br>model=%{customdata[1]}<br>scenario_narrative=Tech<br>year=%{x}<br>Emissions|Kyoto Gases=%{y}<br>scenario=%{customdata[0]}<extra></extra>",
         "legendgroup": "China, COFFEE 1.5",
         "line": {
          "color": "#636efa",
          "dash": "dot"
         },
         "marker": {
          "symbol": "circle"
         },
         "mode": "lines",
         "name": "China, COFFEE 1.5",
         "showlegend": false,
         "type": "scattergl",
         "x": [
          2010,
          2015,
          2020,
          2025,
          2030,
          2035,
          2040,
          2045,
          2050,
          2060,
          2070,
          2080,
          2090,
          2100
         ],
         "xaxis": "x2",
         "y": [
          11346.159063608124,
          13401.55211409336,
          14234.474173507308,
          10911.334914342131,
          8986.653511759532,
          7943.5107386676145,
          6674.458667225822,
          5547.6351603019775,
          4372.8646055006775,
          2887.011884649136,
          2001.2875987346501,
          1607.583651913394,
          1298.503232694675,
          1116.6696854675995
         ],
         "yaxis": "y2"
        },
        {
         "customdata": [
          [
           "T34_1000_bitb_em",
           "GEM-E3_V2023"
          ],
          [
           "T34_1000_bitb_em",
           "GEM-E3_V2023"
          ],
          [
           "T34_1000_bitb_em",
           "GEM-E3_V2023"
          ],
          [
           "T34_1000_bitb_em",
           "GEM-E3_V2023"
          ],
          [
           "T34_1000_bitb_em",
           "GEM-E3_V2023"
          ],
          [
           "T34_1000_bitb_em",
           "GEM-E3_V2023"
          ],
          [
           "T34_1000_bitb_em",
           "GEM-E3_V2023"
          ],
          [
           "T34_1000_bitb_em",
           "GEM-E3_V2023"
          ],
          [
           "T34_1000_bitb_em",
           "GEM-E3_V2023"
          ],
          [
           "T34_1000_bitb_em",
           "GEM-E3_V2023"
          ],
          [
           "T34_1000_bitb_em",
           "GEM-E3_V2023"
          ],
          [
           "T34_1000_bitb_em",
           "GEM-E3_V2023"
          ],
          [
           "T34_1000_bitb_em",
           "GEM-E3_V2023"
          ],
          [
           "T34_1000_bitb_em",
           "GEM-E3_V2023"
          ],
          [
           "T34_1000_bitb_em",
           "GEM-E3_V2023"
          ],
          [
           "T34_1000_bitb_em",
           "GEM-E3_V2023"
          ],
          [
           "T34_1000_bitb_em",
           "GEM-E3_V2023"
          ],
          [
           "T34_1000_bitb_em",
           "GEM-E3_V2023"
          ]
         ],
         "hovertemplate": "region=China<br>model=%{customdata[1]}<br>scenario_narrative=Tech+Inst<br>year=%{x}<br>Emissions|Kyoto Gases=%{y}<br>scenario=%{customdata[0]}<extra></extra>",
         "legendgroup": "China, GEM-E3_V2023",
         "line": {
          "color": "#636efa",
          "dash": "dash"
         },
         "marker": {
          "symbol": "circle"
         },
         "mode": "lines",
         "name": "China, GEM-E3_V2023",
         "showlegend": true,
         "type": "scattergl",
         "x": [
          2015,
          2020,
          2025,
          2030,
          2035,
          2040,
          2045,
          2050,
          2055,
          2060,
          2065,
          2070,
          2075,
          2080,
          2085,
          2090,
          2095,
          2100
         ],
         "xaxis": "x4",
         "y": [
          12593.183391073102,
          12915.981537379288,
          12610.84273197449,
          10262.230212462615,
          8524.23480113458,
          6515.469055809439,
          4268.990759442412,
          2126.2376310897675,
          1258.8651026886496,
          906.5396399563554,
          656.1237748585859,
          384.4145891917375,
          395.7860362969458,
          735.956875221246,
          1093.981070429965,
          1138.5100839953056,
          1225.4067543962838,
          1397.0493533434158
         ],
         "yaxis": "y4"
        },
        {
         "customdata": [
          [
           "T34_1000_feas_em",
           "GEM-E3_V2023"
          ],
          [
           "T34_1000_feas_em",
           "GEM-E3_V2023"
          ],
          [
           "T34_1000_feas_em",
           "GEM-E3_V2023"
          ],
          [
           "T34_1000_feas_em",
           "GEM-E3_V2023"
          ],
          [
           "T34_1000_feas_em",
           "GEM-E3_V2023"
          ],
          [
           "T34_1000_feas_em",
           "GEM-E3_V2023"
          ],
          [
           "T34_1000_feas_em",
           "GEM-E3_V2023"
          ],
          [
           "T34_1000_feas_em",
           "GEM-E3_V2023"
          ],
          [
           "T34_1000_feas_em",
           "GEM-E3_V2023"
          ],
          [
           "T34_1000_feas_em",
           "GEM-E3_V2023"
          ],
          [
           "T34_1000_feas_em",
           "GEM-E3_V2023"
          ],
          [
           "T34_1000_feas_em",
           "GEM-E3_V2023"
          ],
          [
           "T34_1000_feas_em",
           "GEM-E3_V2023"
          ],
          [
           "T34_1000_feas_em",
           "GEM-E3_V2023"
          ],
          [
           "T34_1000_feas_em",
           "GEM-E3_V2023"
          ],
          [
           "T34_1000_feas_em",
           "GEM-E3_V2023"
          ],
          [
           "T34_1000_feas_em",
           "GEM-E3_V2023"
          ],
          [
           "T34_1000_feas_em",
           "GEM-E3_V2023"
          ]
         ],
         "hovertemplate": "region=China<br>model=%{customdata[1]}<br>scenario_narrative=Tech+Inst+Enab<br>year=%{x}<br>Emissions|Kyoto Gases=%{y}<br>scenario=%{customdata[0]}<extra></extra>",
         "legendgroup": "China, GEM-E3_V2023",
         "line": {
          "color": "#636efa",
          "dash": "dash"
         },
         "marker": {
          "symbol": "circle"
         },
         "mode": "lines",
         "name": "China, GEM-E3_V2023",
         "showlegend": false,
         "type": "scattergl",
         "x": [
          2015,
          2020,
          2025,
          2030,
          2035,
          2040,
          2045,
          2050,
          2055,
          2060,
          2065,
          2070,
          2075,
          2080,
          2085,
          2090,
          2095,
          2100
         ],
         "xaxis": "x5",
         "y": [
          12593.183391073102,
          12915.981537379288,
          12827.530492417784,
          10665.964527804352,
          9215.095680227152,
          7029.7730314494,
          4496.9381714678675,
          2321.585685666247,
          1078.47126371295,
          919.0203494499636,
          663.8674193474832,
          387.36845497625404,
          437.88872903827047,
          733.0250412324319,
          1136.2372631285145,
          1176.0375071132066,
          1261.6068986988948,
          1365.1294904686017
         ],
         "yaxis": "y5"
        },
        {
         "customdata": [
          [
           "T34_1000_govem",
           "GEM-E3_V2023"
          ],
          [
           "T34_1000_govem",
           "GEM-E3_V2023"
          ],
          [
           "T34_1000_govem",
           "GEM-E3_V2023"
          ],
          [
           "T34_1000_govem",
           "GEM-E3_V2023"
          ],
          [
           "T34_1000_govem",
           "GEM-E3_V2023"
          ],
          [
           "T34_1000_govem",
           "GEM-E3_V2023"
          ],
          [
           "T34_1000_govem",
           "GEM-E3_V2023"
          ],
          [
           "T34_1000_govem",
           "GEM-E3_V2023"
          ],
          [
           "T34_1000_govem",
           "GEM-E3_V2023"
          ],
          [
           "T34_1000_govem",
           "GEM-E3_V2023"
          ],
          [
           "T34_1000_govem",
           "GEM-E3_V2023"
          ],
          [
           "T34_1000_govem",
           "GEM-E3_V2023"
          ],
          [
           "T34_1000_govem",
           "GEM-E3_V2023"
          ],
          [
           "T34_1000_govem",
           "GEM-E3_V2023"
          ],
          [
           "T34_1000_govem",
           "GEM-E3_V2023"
          ],
          [
           "T34_1000_govem",
           "GEM-E3_V2023"
          ],
          [
           "T34_1000_govem",
           "GEM-E3_V2023"
          ],
          [
           "T34_1000_govem",
           "GEM-E3_V2023"
          ]
         ],
         "hovertemplate": "region=China<br>model=%{customdata[1]}<br>scenario_narrative=Instit<br>year=%{x}<br>Emissions|Kyoto Gases=%{y}<br>scenario=%{customdata[0]}<extra></extra>",
         "legendgroup": "China, GEM-E3_V2023",
         "line": {
          "color": "#636efa",
          "dash": "dash"
         },
         "marker": {
          "symbol": "circle"
         },
         "mode": "lines",
         "name": "China, GEM-E3_V2023",
         "showlegend": false,
         "type": "scattergl",
         "x": [
          2015,
          2020,
          2025,
          2030,
          2035,
          2040,
          2045,
          2050,
          2055,
          2060,
          2065,
          2070,
          2075,
          2080,
          2085,
          2090,
          2095,
          2100
         ],
         "xaxis": "x6",
         "y": [
          12593.183391073102,
          12915.981537379288,
          13044.060538111793,
          11668.868322371334,
          10852.066753912179,
          8194.82180625513,
          5304.795670867886,
          2585.9073920973196,
          1652.8537802232095,
          733.6831623509995,
          522.0002656164754,
          352.6361232414183,
          172.6799189988635,
          486.41597750523033,
          895.5635376099801,
          947.2510669127025,
          1086.9954723037865,
          1098.5984755211941
         ],
         "yaxis": "y6"
        },
        {
         "customdata": [
          [
           "T34_1000_ref",
           "GEM-E3_V2023"
          ],
          [
           "T34_1000_ref",
           "GEM-E3_V2023"
          ],
          [
           "T34_1000_ref",
           "GEM-E3_V2023"
          ],
          [
           "T34_1000_ref",
           "GEM-E3_V2023"
          ],
          [
           "T34_1000_ref",
           "GEM-E3_V2023"
          ],
          [
           "T34_1000_ref",
           "GEM-E3_V2023"
          ],
          [
           "T34_1000_ref",
           "GEM-E3_V2023"
          ],
          [
           "T34_1000_ref",
           "GEM-E3_V2023"
          ],
          [
           "T34_1000_ref",
           "GEM-E3_V2023"
          ],
          [
           "T34_1000_ref",
           "GEM-E3_V2023"
          ],
          [
           "T34_1000_ref",
           "GEM-E3_V2023"
          ],
          [
           "T34_1000_ref",
           "GEM-E3_V2023"
          ],
          [
           "T34_1000_ref",
           "GEM-E3_V2023"
          ],
          [
           "T34_1000_ref",
           "GEM-E3_V2023"
          ],
          [
           "T34_1000_ref",
           "GEM-E3_V2023"
          ],
          [
           "T34_1000_ref",
           "GEM-E3_V2023"
          ],
          [
           "T34_1000_ref",
           "GEM-E3_V2023"
          ],
          [
           "T34_1000_ref",
           "GEM-E3_V2023"
          ]
         ],
         "hovertemplate": "region=China<br>model=%{customdata[1]}<br>scenario_narrative=Cost Effective<br>year=%{x}<br>Emissions|Kyoto Gases=%{y}<br>scenario=%{customdata[0]}<extra></extra>",
         "legendgroup": "China, GEM-E3_V2023",
         "line": {
          "color": "#636efa",
          "dash": "dash"
         },
         "marker": {
          "symbol": "circle"
         },
         "mode": "lines",
         "name": "China, GEM-E3_V2023",
         "showlegend": false,
         "type": "scattergl",
         "x": [
          2015,
          2020,
          2025,
          2030,
          2035,
          2040,
          2045,
          2050,
          2055,
          2060,
          2065,
          2070,
          2075,
          2080,
          2085,
          2090,
          2095,
          2100
         ],
         "xaxis": "x",
         "y": [
          12593.183391073102,
          12915.981537379288,
          13297.4136349238,
          11850.22592386502,
          10462.423977271577,
          7649.854696699638,
          6066.39424650628,
          4627.573713777427,
          3393.1611221448493,
          2555.185631619085,
          2127.7914293463573,
          1769.7286886232177,
          1653.7227822851175,
          1621.0253689327276,
          1607.5959772806373,
          1590.9860835600764,
          1539.4102423518507,
          1458.7911888683666
         ],
         "yaxis": "y"
        },
        {
         "customdata": [
          [
           "T34_1000_bitb_em",
           "IMAGE 3.2"
          ],
          [
           "T34_1000_bitb_em",
           "IMAGE 3.2"
          ],
          [
           "T34_1000_bitb_em",
           "IMAGE 3.2"
          ],
          [
           "T34_1000_bitb_em",
           "IMAGE 3.2"
          ],
          [
           "T34_1000_bitb_em",
           "IMAGE 3.2"
          ],
          [
           "T34_1000_bitb_em",
           "IMAGE 3.2"
          ],
          [
           "T34_1000_bitb_em",
           "IMAGE 3.2"
          ],
          [
           "T34_1000_bitb_em",
           "IMAGE 3.2"
          ],
          [
           "T34_1000_bitb_em",
           "IMAGE 3.2"
          ],
          [
           "T34_1000_bitb_em",
           "IMAGE 3.2"
          ],
          [
           "T34_1000_bitb_em",
           "IMAGE 3.2"
          ],
          [
           "T34_1000_bitb_em",
           "IMAGE 3.2"
          ],
          [
           "T34_1000_bitb_em",
           "IMAGE 3.2"
          ],
          [
           "T34_1000_bitb_em",
           "IMAGE 3.2"
          ],
          [
           "T34_1000_bitb_em",
           "IMAGE 3.2"
          ],
          [
           "T34_1000_bitb_em",
           "IMAGE 3.2"
          ],
          [
           "T34_1000_bitb_em",
           "IMAGE 3.2"
          ],
          [
           "T34_1000_bitb_em",
           "IMAGE 3.2"
          ],
          [
           "T34_1000_bitb_em",
           "IMAGE 3.2"
          ],
          [
           "T34_1000_bitb_em",
           "IMAGE 3.2"
          ]
         ],
         "hovertemplate": "region=China<br>model=%{customdata[1]}<br>scenario_narrative=Tech+Inst<br>year=%{x}<br>Emissions|Kyoto Gases=%{y}<br>scenario=%{customdata[0]}<extra></extra>",
         "legendgroup": "China, IMAGE 3.2",
         "line": {
          "color": "#636efa",
          "dash": "longdash"
         },
         "marker": {
          "symbol": "circle"
         },
         "mode": "lines",
         "name": "China, IMAGE 3.2",
         "showlegend": true,
         "type": "scattergl",
         "x": [
          2005,
          2010,
          2015,
          2020,
          2025,
          2030,
          2035,
          2040,
          2045,
          2050,
          2055,
          2060,
          2065,
          2070,
          2075,
          2080,
          2085,
          2090,
          2095,
          2100
         ],
         "xaxis": "x4",
         "y": [
          8140.7578125,
          11169.23046875,
          13067.4501953125,
          15067.1796875,
          12740.0595703125,
          10184.6904296875,
          7198.91015625,
          5370.8671875,
          3861.908935546875,
          2962.446044921875,
          2155.951904296875,
          2035.93505859375,
          1709.14404296875,
          1576.9930419921875,
          1264.3160400390625,
          1108.760009765625,
          747.044921875,
          635.5742797851562,
          525.7551879882812,
          569.7429809570312
         ],
         "yaxis": "y4"
        },
        {
         "customdata": [
          [
           "T34_1000_feas_em",
           "IMAGE 3.2"
          ],
          [
           "T34_1000_feas_em",
           "IMAGE 3.2"
          ],
          [
           "T34_1000_feas_em",
           "IMAGE 3.2"
          ],
          [
           "T34_1000_feas_em",
           "IMAGE 3.2"
          ],
          [
           "T34_1000_feas_em",
           "IMAGE 3.2"
          ],
          [
           "T34_1000_feas_em",
           "IMAGE 3.2"
          ],
          [
           "T34_1000_feas_em",
           "IMAGE 3.2"
          ],
          [
           "T34_1000_feas_em",
           "IMAGE 3.2"
          ],
          [
           "T34_1000_feas_em",
           "IMAGE 3.2"
          ],
          [
           "T34_1000_feas_em",
           "IMAGE 3.2"
          ],
          [
           "T34_1000_feas_em",
           "IMAGE 3.2"
          ],
          [
           "T34_1000_feas_em",
           "IMAGE 3.2"
          ],
          [
           "T34_1000_feas_em",
           "IMAGE 3.2"
          ],
          [
           "T34_1000_feas_em",
           "IMAGE 3.2"
          ],
          [
           "T34_1000_feas_em",
           "IMAGE 3.2"
          ],
          [
           "T34_1000_feas_em",
           "IMAGE 3.2"
          ],
          [
           "T34_1000_feas_em",
           "IMAGE 3.2"
          ],
          [
           "T34_1000_feas_em",
           "IMAGE 3.2"
          ],
          [
           "T34_1000_feas_em",
           "IMAGE 3.2"
          ],
          [
           "T34_1000_feas_em",
           "IMAGE 3.2"
          ]
         ],
         "hovertemplate": "region=China<br>model=%{customdata[1]}<br>scenario_narrative=Tech+Inst+Enab<br>year=%{x}<br>Emissions|Kyoto Gases=%{y}<br>scenario=%{customdata[0]}<extra></extra>",
         "legendgroup": "China, IMAGE 3.2",
         "line": {
          "color": "#636efa",
          "dash": "longdash"
         },
         "marker": {
          "symbol": "circle"
         },
         "mode": "lines",
         "name": "China, IMAGE 3.2",
         "showlegend": false,
         "type": "scattergl",
         "x": [
          2005,
          2010,
          2015,
          2020,
          2025,
          2030,
          2035,
          2040,
          2045,
          2050,
          2055,
          2060,
          2065,
          2070,
          2075,
          2080,
          2085,
          2090,
          2095,
          2100
         ],
         "xaxis": "x5",
         "y": [
          8140.7578125,
          11168.900390625,
          13065.009765625,
          14795.0703125,
          13593.9501953125,
          12215.900390625,
          10380.6103515625,
          7583.1572265625,
          3724.248046875,
          2471.48291015625,
          1493.5240478515625,
          1025.56005859375,
          783.7214965820312,
          723.130126953125,
          336.5032043457031,
          403.9796142578125,
          354.21429443359375,
          505.2943115234375,
          519.406982421875,
          625.1370239257812
         ],
         "yaxis": "y5"
        },
        {
         "customdata": [
          [
           "T34_1000_govem",
           "IMAGE 3.2"
          ],
          [
           "T34_1000_govem",
           "IMAGE 3.2"
          ],
          [
           "T34_1000_govem",
           "IMAGE 3.2"
          ],
          [
           "T34_1000_govem",
           "IMAGE 3.2"
          ],
          [
           "T34_1000_govem",
           "IMAGE 3.2"
          ],
          [
           "T34_1000_govem",
           "IMAGE 3.2"
          ],
          [
           "T34_1000_govem",
           "IMAGE 3.2"
          ],
          [
           "T34_1000_govem",
           "IMAGE 3.2"
          ],
          [
           "T34_1000_govem",
           "IMAGE 3.2"
          ],
          [
           "T34_1000_govem",
           "IMAGE 3.2"
          ],
          [
           "T34_1000_govem",
           "IMAGE 3.2"
          ],
          [
           "T34_1000_govem",
           "IMAGE 3.2"
          ],
          [
           "T34_1000_govem",
           "IMAGE 3.2"
          ],
          [
           "T34_1000_govem",
           "IMAGE 3.2"
          ],
          [
           "T34_1000_govem",
           "IMAGE 3.2"
          ],
          [
           "T34_1000_govem",
           "IMAGE 3.2"
          ],
          [
           "T34_1000_govem",
           "IMAGE 3.2"
          ],
          [
           "T34_1000_govem",
           "IMAGE 3.2"
          ],
          [
           "T34_1000_govem",
           "IMAGE 3.2"
          ],
          [
           "T34_1000_govem",
           "IMAGE 3.2"
          ]
         ],
         "hovertemplate": "region=China<br>model=%{customdata[1]}<br>scenario_narrative=Instit<br>year=%{x}<br>Emissions|Kyoto Gases=%{y}<br>scenario=%{customdata[0]}<extra></extra>",
         "legendgroup": "China, IMAGE 3.2",
         "line": {
          "color": "#636efa",
          "dash": "longdash"
         },
         "marker": {
          "symbol": "circle"
         },
         "mode": "lines",
         "name": "China, IMAGE 3.2",
         "showlegend": false,
         "type": "scattergl",
         "x": [
          2005,
          2010,
          2015,
          2020,
          2025,
          2030,
          2035,
          2040,
          2045,
          2050,
          2055,
          2060,
          2065,
          2070,
          2075,
          2080,
          2085,
          2090,
          2095,
          2100
         ],
         "xaxis": "x6",
         "y": [
          8140.7578125,
          11169.23046875,
          13067.4501953125,
          15066.849609375,
          15042.2998046875,
          14216.5,
          11795.990234375,
          7882.01416015625,
          4211.18603515625,
          2481.39404296875,
          1687.405029296875,
          1470.9439697265625,
          1221,
          1126.3330078125,
          823.7053833007812,
          633.7338256835938,
          474.2572021484375,
          590.9829711914062,
          411.6817932128906,
          391.2406921386719
         ],
         "yaxis": "y6"
        },
        {
         "customdata": [
          [
           "T34_1000_ref",
           "IMAGE 3.2"
          ],
          [
           "T34_1000_ref",
           "IMAGE 3.2"
          ],
          [
           "T34_1000_ref",
           "IMAGE 3.2"
          ],
          [
           "T34_1000_ref",
           "IMAGE 3.2"
          ],
          [
           "T34_1000_ref",
           "IMAGE 3.2"
          ],
          [
           "T34_1000_ref",
           "IMAGE 3.2"
          ],
          [
           "T34_1000_ref",
           "IMAGE 3.2"
          ],
          [
           "T34_1000_ref",
           "IMAGE 3.2"
          ],
          [
           "T34_1000_ref",
           "IMAGE 3.2"
          ],
          [
           "T34_1000_ref",
           "IMAGE 3.2"
          ],
          [
           "T34_1000_ref",
           "IMAGE 3.2"
          ],
          [
           "T34_1000_ref",
           "IMAGE 3.2"
          ],
          [
           "T34_1000_ref",
           "IMAGE 3.2"
          ],
          [
           "T34_1000_ref",
           "IMAGE 3.2"
          ],
          [
           "T34_1000_ref",
           "IMAGE 3.2"
          ],
          [
           "T34_1000_ref",
           "IMAGE 3.2"
          ],
          [
           "T34_1000_ref",
           "IMAGE 3.2"
          ],
          [
           "T34_1000_ref",
           "IMAGE 3.2"
          ],
          [
           "T34_1000_ref",
           "IMAGE 3.2"
          ],
          [
           "T34_1000_ref",
           "IMAGE 3.2"
          ]
         ],
         "hovertemplate": "region=China<br>model=%{customdata[1]}<br>scenario_narrative=Cost Effective<br>year=%{x}<br>Emissions|Kyoto Gases=%{y}<br>scenario=%{customdata[0]}<extra></extra>",
         "legendgroup": "China, IMAGE 3.2",
         "line": {
          "color": "#636efa",
          "dash": "longdash"
         },
         "marker": {
          "symbol": "circle"
         },
         "mode": "lines",
         "name": "China, IMAGE 3.2",
         "showlegend": false,
         "type": "scattergl",
         "x": [
          2005,
          2010,
          2015,
          2020,
          2025,
          2030,
          2035,
          2040,
          2045,
          2050,
          2055,
          2060,
          2065,
          2070,
          2075,
          2080,
          2085,
          2090,
          2095,
          2100
         ],
         "xaxis": "x",
         "y": [
          8140.7578125,
          11169.23046875,
          13067.4501953125,
          15066.849609375,
          14937.1298828125,
          12877.3603515625,
          9686.6689453125,
          6945.51123046875,
          4890.4541015625,
          2760.697021484375,
          1940.427001953125,
          1894.5760498046875,
          1732.009033203125,
          1597.9010009765625,
          1317.1639404296875,
          1233.8680419921875,
          1029.31103515625,
          1150.1209716796875,
          1073.248046875,
          1061.4530029296875
         ],
         "yaxis": "y"
        },
        {
         "customdata": [
          [
           "T34_1000_bitb_ref",
           "IMAGE 3.2"
          ],
          [
           "T34_1000_bitb_ref",
           "IMAGE 3.2"
          ],
          [
           "T34_1000_bitb_ref",
           "IMAGE 3.2"
          ],
          [
           "T34_1000_bitb_ref",
           "IMAGE 3.2"
          ],
          [
           "T34_1000_bitb_ref",
           "IMAGE 3.2"
          ],
          [
           "T34_1000_bitb_ref",
           "IMAGE 3.2"
          ],
          [
           "T34_1000_bitb_ref",
           "IMAGE 3.2"
          ],
          [
           "T34_1000_bitb_ref",
           "IMAGE 3.2"
          ],
          [
           "T34_1000_bitb_ref",
           "IMAGE 3.2"
          ],
          [
           "T34_1000_bitb_ref",
           "IMAGE 3.2"
          ],
          [
           "T34_1000_bitb_ref",
           "IMAGE 3.2"
          ],
          [
           "T34_1000_bitb_ref",
           "IMAGE 3.2"
          ],
          [
           "T34_1000_bitb_ref",
           "IMAGE 3.2"
          ],
          [
           "T34_1000_bitb_ref",
           "IMAGE 3.2"
          ],
          [
           "T34_1000_bitb_ref",
           "IMAGE 3.2"
          ],
          [
           "T34_1000_bitb_ref",
           "IMAGE 3.2"
          ],
          [
           "T34_1000_bitb_ref",
           "IMAGE 3.2"
          ],
          [
           "T34_1000_bitb_ref",
           "IMAGE 3.2"
          ],
          [
           "T34_1000_bitb_ref",
           "IMAGE 3.2"
          ],
          [
           "T34_1000_bitb_ref",
           "IMAGE 3.2"
          ]
         ],
         "hovertemplate": "region=China<br>model=%{customdata[1]}<br>scenario_narrative=Tech<br>year=%{x}<br>Emissions|Kyoto Gases=%{y}<br>scenario=%{customdata[0]}<extra></extra>",
         "legendgroup": "China, IMAGE 3.2",
         "line": {
          "color": "#636efa",
          "dash": "longdash"
         },
         "marker": {
          "symbol": "circle"
         },
         "mode": "lines",
         "name": "China, IMAGE 3.2",
         "showlegend": false,
         "type": "scattergl",
         "x": [
          2005,
          2010,
          2015,
          2020,
          2025,
          2030,
          2035,
          2040,
          2045,
          2050,
          2055,
          2060,
          2065,
          2070,
          2075,
          2080,
          2085,
          2090,
          2095,
          2100
         ],
         "xaxis": "x2",
         "y": [
          8140.7578125,
          11169.23046875,
          13067.4501953125,
          15067.1796875,
          12797.5,
          10143.8095703125,
          7160.1259765625,
          5364.330078125,
          3945.337890625,
          3196.93701171875,
          2376.85791015625,
          2126.992919921875,
          1967.532958984375,
          1803.4859619140625,
          1390.364990234375,
          1343.7259521484375,
          1011.7949829101562,
          867.6917724609375,
          814.9779052734375,
          842.1641845703125
         ],
         "yaxis": "y2"
        },
        {
         "customdata": [
          [
           "T34_1000_bitb_em",
           "MESSAGEix-GLOBIOM_1.1"
          ],
          [
           "T34_1000_bitb_em",
           "MESSAGEix-GLOBIOM_1.1"
          ],
          [
           "T34_1000_bitb_em",
           "MESSAGEix-GLOBIOM_1.1"
          ],
          [
           "T34_1000_bitb_em",
           "MESSAGEix-GLOBIOM_1.1"
          ],
          [
           "T34_1000_bitb_em",
           "MESSAGEix-GLOBIOM_1.1"
          ],
          [
           "T34_1000_bitb_em",
           "MESSAGEix-GLOBIOM_1.1"
          ],
          [
           "T34_1000_bitb_em",
           "MESSAGEix-GLOBIOM_1.1"
          ],
          [
           "T34_1000_bitb_em",
           "MESSAGEix-GLOBIOM_1.1"
          ],
          [
           "T34_1000_bitb_em",
           "MESSAGEix-GLOBIOM_1.1"
          ],
          [
           "T34_1000_bitb_em",
           "MESSAGEix-GLOBIOM_1.1"
          ],
          [
           "T34_1000_bitb_em",
           "MESSAGEix-GLOBIOM_1.1"
          ],
          [
           "T34_1000_bitb_em",
           "MESSAGEix-GLOBIOM_1.1"
          ],
          [
           "T34_1000_bitb_em",
           "MESSAGEix-GLOBIOM_1.1"
          ],
          [
           "T34_1000_bitb_em",
           "MESSAGEix-GLOBIOM_1.1"
          ],
          [
           "T34_1000_bitb_em",
           "MESSAGEix-GLOBIOM_1.1"
          ],
          [
           "T34_1000_bitb_em",
           "MESSAGEix-GLOBIOM_1.1"
          ],
          [
           "T34_1000_bitb_em",
           "MESSAGEix-GLOBIOM_1.1"
          ],
          [
           "T34_1000_bitb_em",
           "MESSAGEix-GLOBIOM_1.1"
          ],
          [
           "T34_1000_bitb_em",
           "MESSAGEix-GLOBIOM_1.1"
          ],
          [
           "T34_1000_bitb_em",
           "MESSAGEix-GLOBIOM_1.1"
          ]
         ],
         "hovertemplate": "region=China<br>model=%{customdata[1]}<br>scenario_narrative=Tech+Inst<br>year=%{x}<br>Emissions|Kyoto Gases=%{y}<br>scenario=%{customdata[0]}<extra></extra>",
         "legendgroup": "China, MESSAGEix-GLOBIOM_1.1",
         "line": {
          "color": "#636efa",
          "dash": "dashdot"
         },
         "marker": {
          "symbol": "circle"
         },
         "mode": "lines",
         "name": "China, MESSAGEix-GLOBIOM_1.1",
         "showlegend": true,
         "type": "scattergl",
         "x": [
          1990,
          1995,
          2000,
          2005,
          2010,
          2015,
          2020,
          2025,
          2030,
          2035,
          2040,
          2045,
          2050,
          2055,
          2060,
          2070,
          2080,
          2090,
          2100,
          2110
         ],
         "xaxis": "x4",
         "y": [
          4212.030145,
          4827.087527666667,
          5319.001351333333,
          8021.199838333333,
          10609.42741166667,
          13516.42659,
          14656.0049284386,
          14358.30761654974,
          12238.3713731375,
          9708.140230246529,
          7826.230762276159,
          4498.451894521331,
          3175.180408369573,
          1958.150480916865,
          1376.864407240615,
          540.2971975344351,
          463.2156909051053,
          453.7524625785104,
          396.0863873653806,
          259.7976645661033
         ],
         "yaxis": "y4"
        },
        {
         "customdata": [
          [
           "T34_1000_feas_em",
           "MESSAGEix-GLOBIOM_1.1"
          ],
          [
           "T34_1000_feas_em",
           "MESSAGEix-GLOBIOM_1.1"
          ],
          [
           "T34_1000_feas_em",
           "MESSAGEix-GLOBIOM_1.1"
          ],
          [
           "T34_1000_feas_em",
           "MESSAGEix-GLOBIOM_1.1"
          ],
          [
           "T34_1000_feas_em",
           "MESSAGEix-GLOBIOM_1.1"
          ],
          [
           "T34_1000_feas_em",
           "MESSAGEix-GLOBIOM_1.1"
          ],
          [
           "T34_1000_feas_em",
           "MESSAGEix-GLOBIOM_1.1"
          ],
          [
           "T34_1000_feas_em",
           "MESSAGEix-GLOBIOM_1.1"
          ],
          [
           "T34_1000_feas_em",
           "MESSAGEix-GLOBIOM_1.1"
          ],
          [
           "T34_1000_feas_em",
           "MESSAGEix-GLOBIOM_1.1"
          ],
          [
           "T34_1000_feas_em",
           "MESSAGEix-GLOBIOM_1.1"
          ],
          [
           "T34_1000_feas_em",
           "MESSAGEix-GLOBIOM_1.1"
          ],
          [
           "T34_1000_feas_em",
           "MESSAGEix-GLOBIOM_1.1"
          ],
          [
           "T34_1000_feas_em",
           "MESSAGEix-GLOBIOM_1.1"
          ],
          [
           "T34_1000_feas_em",
           "MESSAGEix-GLOBIOM_1.1"
          ],
          [
           "T34_1000_feas_em",
           "MESSAGEix-GLOBIOM_1.1"
          ],
          [
           "T34_1000_feas_em",
           "MESSAGEix-GLOBIOM_1.1"
          ],
          [
           "T34_1000_feas_em",
           "MESSAGEix-GLOBIOM_1.1"
          ],
          [
           "T34_1000_feas_em",
           "MESSAGEix-GLOBIOM_1.1"
          ],
          [
           "T34_1000_feas_em",
           "MESSAGEix-GLOBIOM_1.1"
          ]
         ],
         "hovertemplate": "region=China<br>model=%{customdata[1]}<br>scenario_narrative=Tech+Inst+Enab<br>year=%{x}<br>Emissions|Kyoto Gases=%{y}<br>scenario=%{customdata[0]}<extra></extra>",
         "legendgroup": "China, MESSAGEix-GLOBIOM_1.1",
         "line": {
          "color": "#636efa",
          "dash": "dashdot"
         },
         "marker": {
          "symbol": "circle"
         },
         "mode": "lines",
         "name": "China, MESSAGEix-GLOBIOM_1.1",
         "showlegend": false,
         "type": "scattergl",
         "x": [
          1990,
          1995,
          2000,
          2005,
          2010,
          2015,
          2020,
          2025,
          2030,
          2035,
          2040,
          2045,
          2050,
          2055,
          2060,
          2070,
          2080,
          2090,
          2100,
          2110
         ],
         "xaxis": "x5",
         "y": [
          4212.030145,
          4827.087527666667,
          5319.001351333333,
          8021.199838333333,
          10609.42741166667,
          13516.42659,
          14656.0049284386,
          14358.30761654974,
          12282.36623871207,
          9684.7696925098,
          7800.727270749478,
          4430.48724857962,
          3076.509184872714,
          1878.609034813015,
          1215.268394616488,
          206.9953530154665,
          -65.79917369713661,
          -436.5838986423951,
          -638.6243625931942,
          -670.916017724784
         ],
         "yaxis": "y5"
        },
        {
         "customdata": [
          [
           "T34_1000_govem",
           "MESSAGEix-GLOBIOM_1.1"
          ],
          [
           "T34_1000_govem",
           "MESSAGEix-GLOBIOM_1.1"
          ],
          [
           "T34_1000_govem",
           "MESSAGEix-GLOBIOM_1.1"
          ],
          [
           "T34_1000_govem",
           "MESSAGEix-GLOBIOM_1.1"
          ],
          [
           "T34_1000_govem",
           "MESSAGEix-GLOBIOM_1.1"
          ],
          [
           "T34_1000_govem",
           "MESSAGEix-GLOBIOM_1.1"
          ],
          [
           "T34_1000_govem",
           "MESSAGEix-GLOBIOM_1.1"
          ],
          [
           "T34_1000_govem",
           "MESSAGEix-GLOBIOM_1.1"
          ],
          [
           "T34_1000_govem",
           "MESSAGEix-GLOBIOM_1.1"
          ],
          [
           "T34_1000_govem",
           "MESSAGEix-GLOBIOM_1.1"
          ],
          [
           "T34_1000_govem",
           "MESSAGEix-GLOBIOM_1.1"
          ],
          [
           "T34_1000_govem",
           "MESSAGEix-GLOBIOM_1.1"
          ],
          [
           "T34_1000_govem",
           "MESSAGEix-GLOBIOM_1.1"
          ],
          [
           "T34_1000_govem",
           "MESSAGEix-GLOBIOM_1.1"
          ],
          [
           "T34_1000_govem",
           "MESSAGEix-GLOBIOM_1.1"
          ],
          [
           "T34_1000_govem",
           "MESSAGEix-GLOBIOM_1.1"
          ],
          [
           "T34_1000_govem",
           "MESSAGEix-GLOBIOM_1.1"
          ],
          [
           "T34_1000_govem",
           "MESSAGEix-GLOBIOM_1.1"
          ],
          [
           "T34_1000_govem",
           "MESSAGEix-GLOBIOM_1.1"
          ],
          [
           "T34_1000_govem",
           "MESSAGEix-GLOBIOM_1.1"
          ]
         ],
         "hovertemplate": "region=China<br>model=%{customdata[1]}<br>scenario_narrative=Instit<br>year=%{x}<br>Emissions|Kyoto Gases=%{y}<br>scenario=%{customdata[0]}<extra></extra>",
         "legendgroup": "China, MESSAGEix-GLOBIOM_1.1",
         "line": {
          "color": "#636efa",
          "dash": "dashdot"
         },
         "marker": {
          "symbol": "circle"
         },
         "mode": "lines",
         "name": "China, MESSAGEix-GLOBIOM_1.1",
         "showlegend": false,
         "type": "scattergl",
         "x": [
          1990,
          1995,
          2000,
          2005,
          2010,
          2015,
          2020,
          2025,
          2030,
          2035,
          2040,
          2045,
          2050,
          2055,
          2060,
          2070,
          2080,
          2090,
          2100,
          2110
         ],
         "xaxis": "x6",
         "y": [
          4212.030145,
          4827.087527666667,
          5319.001351333333,
          8021.199838333333,
          10609.42741166667,
          13516.42659,
          14656.0049284386,
          14358.30761654974,
          12256.22671675439,
          9727.027734090776,
          7839.921531841076,
          4677.160702621878,
          3353.880720389157,
          2176.868937842211,
          1672.44671919572,
          731.5175531944893,
          482.8942980686081,
          317.5701302092947,
          185.9333124591737,
          1.7619376406632452
         ],
         "yaxis": "y6"
        },
        {
         "customdata": [
          [
           "T34_1000_ref",
           "MESSAGEix-GLOBIOM_1.1"
          ],
          [
           "T34_1000_ref",
           "MESSAGEix-GLOBIOM_1.1"
          ],
          [
           "T34_1000_ref",
           "MESSAGEix-GLOBIOM_1.1"
          ],
          [
           "T34_1000_ref",
           "MESSAGEix-GLOBIOM_1.1"
          ],
          [
           "T34_1000_ref",
           "MESSAGEix-GLOBIOM_1.1"
          ],
          [
           "T34_1000_ref",
           "MESSAGEix-GLOBIOM_1.1"
          ],
          [
           "T34_1000_ref",
           "MESSAGEix-GLOBIOM_1.1"
          ],
          [
           "T34_1000_ref",
           "MESSAGEix-GLOBIOM_1.1"
          ],
          [
           "T34_1000_ref",
           "MESSAGEix-GLOBIOM_1.1"
          ],
          [
           "T34_1000_ref",
           "MESSAGEix-GLOBIOM_1.1"
          ],
          [
           "T34_1000_ref",
           "MESSAGEix-GLOBIOM_1.1"
          ],
          [
           "T34_1000_ref",
           "MESSAGEix-GLOBIOM_1.1"
          ],
          [
           "T34_1000_ref",
           "MESSAGEix-GLOBIOM_1.1"
          ],
          [
           "T34_1000_ref",
           "MESSAGEix-GLOBIOM_1.1"
          ],
          [
           "T34_1000_ref",
           "MESSAGEix-GLOBIOM_1.1"
          ],
          [
           "T34_1000_ref",
           "MESSAGEix-GLOBIOM_1.1"
          ],
          [
           "T34_1000_ref",
           "MESSAGEix-GLOBIOM_1.1"
          ],
          [
           "T34_1000_ref",
           "MESSAGEix-GLOBIOM_1.1"
          ],
          [
           "T34_1000_ref",
           "MESSAGEix-GLOBIOM_1.1"
          ],
          [
           "T34_1000_ref",
           "MESSAGEix-GLOBIOM_1.1"
          ]
         ],
         "hovertemplate": "region=China<br>model=%{customdata[1]}<br>scenario_narrative=Cost Effective<br>year=%{x}<br>Emissions|Kyoto Gases=%{y}<br>scenario=%{customdata[0]}<extra></extra>",
         "legendgroup": "China, MESSAGEix-GLOBIOM_1.1",
         "line": {
          "color": "#636efa",
          "dash": "dashdot"
         },
         "marker": {
          "symbol": "circle"
         },
         "mode": "lines",
         "name": "China, MESSAGEix-GLOBIOM_1.1",
         "showlegend": false,
         "type": "scattergl",
         "x": [
          1990,
          1995,
          2000,
          2005,
          2010,
          2015,
          2020,
          2025,
          2030,
          2035,
          2040,
          2045,
          2050,
          2055,
          2060,
          2070,
          2080,
          2090,
          2100,
          2110
         ],
         "xaxis": "x",
         "y": [
          4212.030145,
          4827.087527666667,
          5319.001351333333,
          8021.199838333333,
          10609.42741166667,
          13516.42659,
          14656.0049284386,
          14358.30761654974,
          9712.559872198355,
          8399.843665567927,
          6733.036718082532,
          5389.231487184066,
          4324.622649767169,
          3486.309720457889,
          2869.970959162777,
          1689.613350424223,
          1612.144234319904,
          1780.863605321822,
          1661.512148020115,
          1541.164689679207
         ],
         "yaxis": "y"
        },
        {
         "customdata": [
          [
           "T34_1000_bitb_ref",
           "MESSAGEix-GLOBIOM_1.1"
          ],
          [
           "T34_1000_bitb_ref",
           "MESSAGEix-GLOBIOM_1.1"
          ],
          [
           "T34_1000_bitb_ref",
           "MESSAGEix-GLOBIOM_1.1"
          ],
          [
           "T34_1000_bitb_ref",
           "MESSAGEix-GLOBIOM_1.1"
          ],
          [
           "T34_1000_bitb_ref",
           "MESSAGEix-GLOBIOM_1.1"
          ],
          [
           "T34_1000_bitb_ref",
           "MESSAGEix-GLOBIOM_1.1"
          ],
          [
           "T34_1000_bitb_ref",
           "MESSAGEix-GLOBIOM_1.1"
          ],
          [
           "T34_1000_bitb_ref",
           "MESSAGEix-GLOBIOM_1.1"
          ],
          [
           "T34_1000_bitb_ref",
           "MESSAGEix-GLOBIOM_1.1"
          ],
          [
           "T34_1000_bitb_ref",
           "MESSAGEix-GLOBIOM_1.1"
          ],
          [
           "T34_1000_bitb_ref",
           "MESSAGEix-GLOBIOM_1.1"
          ],
          [
           "T34_1000_bitb_ref",
           "MESSAGEix-GLOBIOM_1.1"
          ],
          [
           "T34_1000_bitb_ref",
           "MESSAGEix-GLOBIOM_1.1"
          ],
          [
           "T34_1000_bitb_ref",
           "MESSAGEix-GLOBIOM_1.1"
          ],
          [
           "T34_1000_bitb_ref",
           "MESSAGEix-GLOBIOM_1.1"
          ],
          [
           "T34_1000_bitb_ref",
           "MESSAGEix-GLOBIOM_1.1"
          ],
          [
           "T34_1000_bitb_ref",
           "MESSAGEix-GLOBIOM_1.1"
          ],
          [
           "T34_1000_bitb_ref",
           "MESSAGEix-GLOBIOM_1.1"
          ],
          [
           "T34_1000_bitb_ref",
           "MESSAGEix-GLOBIOM_1.1"
          ],
          [
           "T34_1000_bitb_ref",
           "MESSAGEix-GLOBIOM_1.1"
          ]
         ],
         "hovertemplate": "region=China<br>model=%{customdata[1]}<br>scenario_narrative=Tech<br>year=%{x}<br>Emissions|Kyoto Gases=%{y}<br>scenario=%{customdata[0]}<extra></extra>",
         "legendgroup": "China, MESSAGEix-GLOBIOM_1.1",
         "line": {
          "color": "#636efa",
          "dash": "dashdot"
         },
         "marker": {
          "symbol": "circle"
         },
         "mode": "lines",
         "name": "China, MESSAGEix-GLOBIOM_1.1",
         "showlegend": false,
         "type": "scattergl",
         "x": [
          1990,
          1995,
          2000,
          2005,
          2010,
          2015,
          2020,
          2025,
          2030,
          2035,
          2040,
          2045,
          2050,
          2055,
          2060,
          2070,
          2080,
          2090,
          2100,
          2110
         ],
         "xaxis": "x2",
         "y": [
          4212.030145,
          4827.087527666667,
          5319.001351333333,
          8021.199838333333,
          10609.42741166667,
          13516.42659,
          14656.0049284386,
          14358.30761654974,
          9701.026998006024,
          8280.707085704538,
          6658.741525991119,
          5317.667267978403,
          4303.500204843016,
          3524.987589732321,
          2988.494386958535,
          1824.80666376126,
          1590.637194536518,
          1551.94873591577,
          1478.616239603973,
          1370.999107555267
         ],
         "yaxis": "y2"
        },
        {
         "customdata": [
          [
           "T34_1000_enab_em",
           "MESSAGEix-GLOBIOM_1.1"
          ],
          [
           "T34_1000_enab_em",
           "MESSAGEix-GLOBIOM_1.1"
          ],
          [
           "T34_1000_enab_em",
           "MESSAGEix-GLOBIOM_1.1"
          ],
          [
           "T34_1000_enab_em",
           "MESSAGEix-GLOBIOM_1.1"
          ],
          [
           "T34_1000_enab_em",
           "MESSAGEix-GLOBIOM_1.1"
          ],
          [
           "T34_1000_enab_em",
           "MESSAGEix-GLOBIOM_1.1"
          ],
          [
           "T34_1000_enab_em",
           "MESSAGEix-GLOBIOM_1.1"
          ],
          [
           "T34_1000_enab_em",
           "MESSAGEix-GLOBIOM_1.1"
          ],
          [
           "T34_1000_enab_em",
           "MESSAGEix-GLOBIOM_1.1"
          ],
          [
           "T34_1000_enab_em",
           "MESSAGEix-GLOBIOM_1.1"
          ],
          [
           "T34_1000_enab_em",
           "MESSAGEix-GLOBIOM_1.1"
          ],
          [
           "T34_1000_enab_em",
           "MESSAGEix-GLOBIOM_1.1"
          ],
          [
           "T34_1000_enab_em",
           "MESSAGEix-GLOBIOM_1.1"
          ],
          [
           "T34_1000_enab_em",
           "MESSAGEix-GLOBIOM_1.1"
          ],
          [
           "T34_1000_enab_em",
           "MESSAGEix-GLOBIOM_1.1"
          ],
          [
           "T34_1000_enab_em",
           "MESSAGEix-GLOBIOM_1.1"
          ],
          [
           "T34_1000_enab_em",
           "MESSAGEix-GLOBIOM_1.1"
          ],
          [
           "T34_1000_enab_em",
           "MESSAGEix-GLOBIOM_1.1"
          ],
          [
           "T34_1000_enab_em",
           "MESSAGEix-GLOBIOM_1.1"
          ],
          [
           "T34_1000_enab_em",
           "MESSAGEix-GLOBIOM_1.1"
          ]
         ],
         "hovertemplate": "region=China<br>model=%{customdata[1]}<br>scenario_narrative=Inst+Enab<br>year=%{x}<br>Emissions|Kyoto Gases=%{y}<br>scenario=%{customdata[0]}<extra></extra>",
         "legendgroup": "China, MESSAGEix-GLOBIOM_1.1",
         "line": {
          "color": "#636efa",
          "dash": "dashdot"
         },
         "marker": {
          "symbol": "circle"
         },
         "mode": "lines",
         "name": "China, MESSAGEix-GLOBIOM_1.1",
         "showlegend": false,
         "type": "scattergl",
         "x": [
          1990,
          1995,
          2000,
          2005,
          2010,
          2015,
          2020,
          2025,
          2030,
          2035,
          2040,
          2045,
          2050,
          2055,
          2060,
          2070,
          2080,
          2090,
          2100,
          2110
         ],
         "xaxis": "x3",
         "y": [
          4212.030145,
          4827.087527666667,
          5319.001351333333,
          8021.199838333333,
          10609.42741166667,
          13516.42659,
          14656.0049284386,
          14358.30761654974,
          12283.35238061406,
          9684.925890039976,
          7797.722989530455,
          4461.545080754471,
          3124.57808613942,
          1872.202075703391,
          1219.124704215587,
          202.0597728153783,
          -110.8611578219296,
          -493.6588904211436,
          -656.2744186952876,
          -679.6792931720712
         ],
         "yaxis": "y3"
        },
        {
         "customdata": [
          [
           "T34_1000_bitb_em",
           "POLES ENGAGE"
          ],
          [
           "T34_1000_bitb_em",
           "POLES ENGAGE"
          ],
          [
           "T34_1000_bitb_em",
           "POLES ENGAGE"
          ],
          [
           "T34_1000_bitb_em",
           "POLES ENGAGE"
          ],
          [
           "T34_1000_bitb_em",
           "POLES ENGAGE"
          ],
          [
           "T34_1000_bitb_em",
           "POLES ENGAGE"
          ],
          [
           "T34_1000_bitb_em",
           "POLES ENGAGE"
          ],
          [
           "T34_1000_bitb_em",
           "POLES ENGAGE"
          ],
          [
           "T34_1000_bitb_em",
           "POLES ENGAGE"
          ],
          [
           "T34_1000_bitb_em",
           "POLES ENGAGE"
          ],
          [
           "T34_1000_bitb_em",
           "POLES ENGAGE"
          ],
          [
           "T34_1000_bitb_em",
           "POLES ENGAGE"
          ],
          [
           "T34_1000_bitb_em",
           "POLES ENGAGE"
          ],
          [
           "T34_1000_bitb_em",
           "POLES ENGAGE"
          ],
          [
           "T34_1000_bitb_em",
           "POLES ENGAGE"
          ]
         ],
         "hovertemplate": "region=China<br>model=%{customdata[1]}<br>scenario_narrative=Tech+Inst<br>year=%{x}<br>Emissions|Kyoto Gases=%{y}<br>scenario=%{customdata[0]}<extra></extra>",
         "legendgroup": "China, POLES ENGAGE",
         "line": {
          "color": "#636efa",
          "dash": "longdashdot"
         },
         "marker": {
          "symbol": "circle"
         },
         "mode": "lines",
         "name": "China, POLES ENGAGE",
         "showlegend": true,
         "type": "scattergl",
         "x": [
          2005,
          2010,
          2015,
          2020,
          2025,
          2030,
          2035,
          2040,
          2045,
          2050,
          2060,
          2070,
          2080,
          2090,
          2100
         ],
         "xaxis": "x4",
         "y": [
          8326.1904296875,
          11513.0517578125,
          13178.15234375,
          14898.8916015625,
          13936.865234375,
          11691.060546875,
          9362.2138671875,
          7261.52880859375,
          4622.10205078125,
          2492.87451171875,
          772.8021850585938,
          -883.4584350585938,
          -914.324951171875,
          -532.68212890625,
          -816.5419921875
         ],
         "yaxis": "y4"
        },
        {
         "customdata": [
          [
           "T34_1000_feas_em",
           "POLES ENGAGE"
          ],
          [
           "T34_1000_feas_em",
           "POLES ENGAGE"
          ],
          [
           "T34_1000_feas_em",
           "POLES ENGAGE"
          ],
          [
           "T34_1000_feas_em",
           "POLES ENGAGE"
          ],
          [
           "T34_1000_feas_em",
           "POLES ENGAGE"
          ],
          [
           "T34_1000_feas_em",
           "POLES ENGAGE"
          ],
          [
           "T34_1000_feas_em",
           "POLES ENGAGE"
          ],
          [
           "T34_1000_feas_em",
           "POLES ENGAGE"
          ],
          [
           "T34_1000_feas_em",
           "POLES ENGAGE"
          ],
          [
           "T34_1000_feas_em",
           "POLES ENGAGE"
          ],
          [
           "T34_1000_feas_em",
           "POLES ENGAGE"
          ],
          [
           "T34_1000_feas_em",
           "POLES ENGAGE"
          ],
          [
           "T34_1000_feas_em",
           "POLES ENGAGE"
          ],
          [
           "T34_1000_feas_em",
           "POLES ENGAGE"
          ],
          [
           "T34_1000_feas_em",
           "POLES ENGAGE"
          ]
         ],
         "hovertemplate": "region=China<br>model=%{customdata[1]}<br>scenario_narrative=Tech+Inst+Enab<br>year=%{x}<br>Emissions|Kyoto Gases=%{y}<br>scenario=%{customdata[0]}<extra></extra>",
         "legendgroup": "China, POLES ENGAGE",
         "line": {
          "color": "#636efa",
          "dash": "longdashdot"
         },
         "marker": {
          "symbol": "circle"
         },
         "mode": "lines",
         "name": "China, POLES ENGAGE",
         "showlegend": false,
         "type": "scattergl",
         "x": [
          2005,
          2010,
          2015,
          2020,
          2025,
          2030,
          2035,
          2040,
          2045,
          2050,
          2060,
          2070,
          2080,
          2090,
          2100
         ],
         "xaxis": "x5",
         "y": [
          8326.1904296875,
          11513.0517578125,
          13178.15234375,
          14898.8916015625,
          14222.294921875,
          11766.513671875,
          8819.4697265625,
          6696.02490234375,
          4521.21240234375,
          2605.353759765625,
          1046.0128173828125,
          -1713.95654296875,
          -2569.881103515625,
          -1655.203125,
          601.1172485351562
         ],
         "yaxis": "y5"
        },
        {
         "customdata": [
          [
           "T34_1000_govem",
           "POLES ENGAGE"
          ],
          [
           "T34_1000_govem",
           "POLES ENGAGE"
          ],
          [
           "T34_1000_govem",
           "POLES ENGAGE"
          ],
          [
           "T34_1000_govem",
           "POLES ENGAGE"
          ],
          [
           "T34_1000_govem",
           "POLES ENGAGE"
          ],
          [
           "T34_1000_govem",
           "POLES ENGAGE"
          ],
          [
           "T34_1000_govem",
           "POLES ENGAGE"
          ],
          [
           "T34_1000_govem",
           "POLES ENGAGE"
          ],
          [
           "T34_1000_govem",
           "POLES ENGAGE"
          ],
          [
           "T34_1000_govem",
           "POLES ENGAGE"
          ],
          [
           "T34_1000_govem",
           "POLES ENGAGE"
          ],
          [
           "T34_1000_govem",
           "POLES ENGAGE"
          ],
          [
           "T34_1000_govem",
           "POLES ENGAGE"
          ],
          [
           "T34_1000_govem",
           "POLES ENGAGE"
          ],
          [
           "T34_1000_govem",
           "POLES ENGAGE"
          ]
         ],
         "hovertemplate": "region=China<br>model=%{customdata[1]}<br>scenario_narrative=Instit<br>year=%{x}<br>Emissions|Kyoto Gases=%{y}<br>scenario=%{customdata[0]}<extra></extra>",
         "legendgroup": "China, POLES ENGAGE",
         "line": {
          "color": "#636efa",
          "dash": "longdashdot"
         },
         "marker": {
          "symbol": "circle"
         },
         "mode": "lines",
         "name": "China, POLES ENGAGE",
         "showlegend": false,
         "type": "scattergl",
         "x": [
          2005,
          2010,
          2015,
          2020,
          2025,
          2030,
          2035,
          2040,
          2045,
          2050,
          2060,
          2070,
          2080,
          2090,
          2100
         ],
         "xaxis": "x6",
         "y": [
          8326.1904296875,
          11513.0517578125,
          13178.15234375,
          14898.8896484375,
          13944.568359375,
          11710.0537109375,
          9383.7666015625,
          7223.66162109375,
          4592.212890625,
          2448.35107421875,
          500.8511047363281,
          -905.1229858398438,
          -812.7600708007812,
          2931.167236328125,
          4946.65771484375
         ],
         "yaxis": "y6"
        },
        {
         "customdata": [
          [
           "T34_1000_ref",
           "POLES ENGAGE"
          ],
          [
           "T34_1000_ref",
           "POLES ENGAGE"
          ],
          [
           "T34_1000_ref",
           "POLES ENGAGE"
          ],
          [
           "T34_1000_ref",
           "POLES ENGAGE"
          ],
          [
           "T34_1000_ref",
           "POLES ENGAGE"
          ],
          [
           "T34_1000_ref",
           "POLES ENGAGE"
          ],
          [
           "T34_1000_ref",
           "POLES ENGAGE"
          ],
          [
           "T34_1000_ref",
           "POLES ENGAGE"
          ],
          [
           "T34_1000_ref",
           "POLES ENGAGE"
          ],
          [
           "T34_1000_ref",
           "POLES ENGAGE"
          ],
          [
           "T34_1000_ref",
           "POLES ENGAGE"
          ],
          [
           "T34_1000_ref",
           "POLES ENGAGE"
          ],
          [
           "T34_1000_ref",
           "POLES ENGAGE"
          ],
          [
           "T34_1000_ref",
           "POLES ENGAGE"
          ],
          [
           "T34_1000_ref",
           "POLES ENGAGE"
          ]
         ],
         "hovertemplate": "region=China<br>model=%{customdata[1]}<br>scenario_narrative=Cost Effective<br>year=%{x}<br>Emissions|Kyoto Gases=%{y}<br>scenario=%{customdata[0]}<extra></extra>",
         "legendgroup": "China, POLES ENGAGE",
         "line": {
          "color": "#636efa",
          "dash": "longdashdot"
         },
         "marker": {
          "symbol": "circle"
         },
         "mode": "lines",
         "name": "China, POLES ENGAGE",
         "showlegend": false,
         "type": "scattergl",
         "x": [
          2005,
          2010,
          2015,
          2020,
          2025,
          2030,
          2035,
          2040,
          2045,
          2050,
          2060,
          2070,
          2080,
          2090,
          2100
         ],
         "xaxis": "x",
         "y": [
          8326.1904296875,
          11513.0517578125,
          13178.15234375,
          14898.8916015625,
          14070.625,
          11950.5810546875,
          9390.025390625,
          7422.15087890625,
          6102.02099609375,
          4293.10498046875,
          2961.25048828125,
          2349.540283203125,
          1402.81005859375,
          1086.016845703125,
          847.1149291992188
         ],
         "yaxis": "y"
        },
        {
         "customdata": [
          [
           "T34_1000_bitb_ref",
           "POLES ENGAGE"
          ],
          [
           "T34_1000_bitb_ref",
           "POLES ENGAGE"
          ],
          [
           "T34_1000_bitb_ref",
           "POLES ENGAGE"
          ],
          [
           "T34_1000_bitb_ref",
           "POLES ENGAGE"
          ],
          [
           "T34_1000_bitb_ref",
           "POLES ENGAGE"
          ],
          [
           "T34_1000_bitb_ref",
           "POLES ENGAGE"
          ],
          [
           "T34_1000_bitb_ref",
           "POLES ENGAGE"
          ],
          [
           "T34_1000_bitb_ref",
           "POLES ENGAGE"
          ],
          [
           "T34_1000_bitb_ref",
           "POLES ENGAGE"
          ],
          [
           "T34_1000_bitb_ref",
           "POLES ENGAGE"
          ],
          [
           "T34_1000_bitb_ref",
           "POLES ENGAGE"
          ],
          [
           "T34_1000_bitb_ref",
           "POLES ENGAGE"
          ],
          [
           "T34_1000_bitb_ref",
           "POLES ENGAGE"
          ],
          [
           "T34_1000_bitb_ref",
           "POLES ENGAGE"
          ],
          [
           "T34_1000_bitb_ref",
           "POLES ENGAGE"
          ]
         ],
         "hovertemplate": "region=China<br>model=%{customdata[1]}<br>scenario_narrative=Tech<br>year=%{x}<br>Emissions|Kyoto Gases=%{y}<br>scenario=%{customdata[0]}<extra></extra>",
         "legendgroup": "China, POLES ENGAGE",
         "line": {
          "color": "#636efa",
          "dash": "longdashdot"
         },
         "marker": {
          "symbol": "circle"
         },
         "mode": "lines",
         "name": "China, POLES ENGAGE",
         "showlegend": false,
         "type": "scattergl",
         "x": [
          2005,
          2010,
          2015,
          2020,
          2025,
          2030,
          2035,
          2040,
          2045,
          2050,
          2060,
          2070,
          2080,
          2090,
          2100
         ],
         "xaxis": "x2",
         "y": [
          8326.1904296875,
          11513.0517578125,
          13178.15234375,
          14814.7216796875,
          14396.4208984375,
          12979.2001953125,
          12440.40625,
          10654.30859375,
          8407.8876953125,
          6371.83837890625,
          4280.7783203125,
          1972.7490234375,
          602.8054809570312,
          -249.23275756835938,
          -866.2032470703125
         ],
         "yaxis": "y2"
        },
        {
         "customdata": [
          [
           "T34_1000_bitb_em",
           "REMIND 3.0"
          ],
          [
           "T34_1000_bitb_em",
           "REMIND 3.0"
          ],
          [
           "T34_1000_bitb_em",
           "REMIND 3.0"
          ],
          [
           "T34_1000_bitb_em",
           "REMIND 3.0"
          ],
          [
           "T34_1000_bitb_em",
           "REMIND 3.0"
          ],
          [
           "T34_1000_bitb_em",
           "REMIND 3.0"
          ],
          [
           "T34_1000_bitb_em",
           "REMIND 3.0"
          ],
          [
           "T34_1000_bitb_em",
           "REMIND 3.0"
          ],
          [
           "T34_1000_bitb_em",
           "REMIND 3.0"
          ],
          [
           "T34_1000_bitb_em",
           "REMIND 3.0"
          ],
          [
           "T34_1000_bitb_em",
           "REMIND 3.0"
          ],
          [
           "T34_1000_bitb_em",
           "REMIND 3.0"
          ],
          [
           "T34_1000_bitb_em",
           "REMIND 3.0"
          ],
          [
           "T34_1000_bitb_em",
           "REMIND 3.0"
          ],
          [
           "T34_1000_bitb_em",
           "REMIND 3.0"
          ],
          [
           "T34_1000_bitb_em",
           "REMIND 3.0"
          ]
         ],
         "hovertemplate": "region=China<br>model=%{customdata[1]}<br>scenario_narrative=Tech+Inst<br>year=%{x}<br>Emissions|Kyoto Gases=%{y}<br>scenario=%{customdata[0]}<extra></extra>",
         "legendgroup": "China, REMIND 3.0",
         "line": {
          "color": "#636efa",
          "dash": "solid"
         },
         "marker": {
          "symbol": "circle"
         },
         "mode": "lines",
         "name": "China, REMIND 3.0",
         "showlegend": true,
         "type": "scattergl",
         "x": [
          2005,
          2010,
          2015,
          2020,
          2025,
          2030,
          2035,
          2040,
          2045,
          2050,
          2055,
          2060,
          2070,
          2080,
          2090,
          2100
         ],
         "xaxis": "x4",
         "y": [
          9510.7522795,
          12127.3339175,
          14512.6400533,
          15340.9096905,
          14969.4053443,
          10015.3820573,
          6150.3669694,
          4248.8255191,
          2599.9347138,
          1634.9561065,
          1031.0292555,
          695.9074103,
          127.2071578,
          -214.7312283,
          -224.6602933,
          180.138348
         ],
         "yaxis": "y4"
        },
        {
         "customdata": [
          [
           "T34_1000_feas_em",
           "REMIND 3.0"
          ],
          [
           "T34_1000_feas_em",
           "REMIND 3.0"
          ],
          [
           "T34_1000_feas_em",
           "REMIND 3.0"
          ],
          [
           "T34_1000_feas_em",
           "REMIND 3.0"
          ],
          [
           "T34_1000_feas_em",
           "REMIND 3.0"
          ],
          [
           "T34_1000_feas_em",
           "REMIND 3.0"
          ],
          [
           "T34_1000_feas_em",
           "REMIND 3.0"
          ],
          [
           "T34_1000_feas_em",
           "REMIND 3.0"
          ],
          [
           "T34_1000_feas_em",
           "REMIND 3.0"
          ],
          [
           "T34_1000_feas_em",
           "REMIND 3.0"
          ],
          [
           "T34_1000_feas_em",
           "REMIND 3.0"
          ],
          [
           "T34_1000_feas_em",
           "REMIND 3.0"
          ],
          [
           "T34_1000_feas_em",
           "REMIND 3.0"
          ],
          [
           "T34_1000_feas_em",
           "REMIND 3.0"
          ],
          [
           "T34_1000_feas_em",
           "REMIND 3.0"
          ],
          [
           "T34_1000_feas_em",
           "REMIND 3.0"
          ]
         ],
         "hovertemplate": "region=China<br>model=%{customdata[1]}<br>scenario_narrative=Tech+Inst+Enab<br>year=%{x}<br>Emissions|Kyoto Gases=%{y}<br>scenario=%{customdata[0]}<extra></extra>",
         "legendgroup": "China, REMIND 3.0",
         "line": {
          "color": "#636efa",
          "dash": "solid"
         },
         "marker": {
          "symbol": "circle"
         },
         "mode": "lines",
         "name": "China, REMIND 3.0",
         "showlegend": false,
         "type": "scattergl",
         "x": [
          2005,
          2010,
          2015,
          2020,
          2025,
          2030,
          2035,
          2040,
          2045,
          2050,
          2055,
          2060,
          2070,
          2080,
          2090,
          2100
         ],
         "xaxis": "x5",
         "y": [
          9510.7522795,
          12127.3339175,
          14512.6400533,
          15340.9096905,
          14759.2209607,
          9916.2991061,
          7270.3507074,
          4743.4859653,
          3269.1480979,
          2326.4343268,
          1733.2925197,
          1150.4791951,
          605.6933333,
          193.4572251,
          -47.3773054,
          184.8587377
         ],
         "yaxis": "y5"
        },
        {
         "customdata": [
          [
           "T34_1000_govem",
           "REMIND 3.0"
          ],
          [
           "T34_1000_govem",
           "REMIND 3.0"
          ],
          [
           "T34_1000_govem",
           "REMIND 3.0"
          ],
          [
           "T34_1000_govem",
           "REMIND 3.0"
          ],
          [
           "T34_1000_govem",
           "REMIND 3.0"
          ],
          [
           "T34_1000_govem",
           "REMIND 3.0"
          ],
          [
           "T34_1000_govem",
           "REMIND 3.0"
          ],
          [
           "T34_1000_govem",
           "REMIND 3.0"
          ],
          [
           "T34_1000_govem",
           "REMIND 3.0"
          ],
          [
           "T34_1000_govem",
           "REMIND 3.0"
          ],
          [
           "T34_1000_govem",
           "REMIND 3.0"
          ],
          [
           "T34_1000_govem",
           "REMIND 3.0"
          ],
          [
           "T34_1000_govem",
           "REMIND 3.0"
          ],
          [
           "T34_1000_govem",
           "REMIND 3.0"
          ],
          [
           "T34_1000_govem",
           "REMIND 3.0"
          ],
          [
           "T34_1000_govem",
           "REMIND 3.0"
          ]
         ],
         "hovertemplate": "region=China<br>model=%{customdata[1]}<br>scenario_narrative=Instit<br>year=%{x}<br>Emissions|Kyoto Gases=%{y}<br>scenario=%{customdata[0]}<extra></extra>",
         "legendgroup": "China, REMIND 3.0",
         "line": {
          "color": "#636efa",
          "dash": "solid"
         },
         "marker": {
          "symbol": "circle"
         },
         "mode": "lines",
         "name": "China, REMIND 3.0",
         "showlegend": false,
         "type": "scattergl",
         "x": [
          2005,
          2010,
          2015,
          2020,
          2025,
          2030,
          2035,
          2040,
          2045,
          2050,
          2055,
          2060,
          2070,
          2080,
          2090,
          2100
         ],
         "xaxis": "x6",
         "y": [
          9510.7522795,
          12127.3339175,
          14512.6400533,
          15340.9096905,
          14973.901773,
          10471.8109306,
          6721.1196926,
          4410.9873341,
          2679.2469972,
          1745.6699934,
          1036.0448008,
          619.3855044,
          -219.5075458,
          -536.6544651,
          -392.0888867,
          166.2055798
         ],
         "yaxis": "y6"
        },
        {
         "customdata": [
          [
           "T34_1000_ref",
           "REMIND 3.0"
          ],
          [
           "T34_1000_ref",
           "REMIND 3.0"
          ],
          [
           "T34_1000_ref",
           "REMIND 3.0"
          ],
          [
           "T34_1000_ref",
           "REMIND 3.0"
          ],
          [
           "T34_1000_ref",
           "REMIND 3.0"
          ],
          [
           "T34_1000_ref",
           "REMIND 3.0"
          ],
          [
           "T34_1000_ref",
           "REMIND 3.0"
          ],
          [
           "T34_1000_ref",
           "REMIND 3.0"
          ],
          [
           "T34_1000_ref",
           "REMIND 3.0"
          ],
          [
           "T34_1000_ref",
           "REMIND 3.0"
          ],
          [
           "T34_1000_ref",
           "REMIND 3.0"
          ],
          [
           "T34_1000_ref",
           "REMIND 3.0"
          ],
          [
           "T34_1000_ref",
           "REMIND 3.0"
          ],
          [
           "T34_1000_ref",
           "REMIND 3.0"
          ],
          [
           "T34_1000_ref",
           "REMIND 3.0"
          ],
          [
           "T34_1000_ref",
           "REMIND 3.0"
          ]
         ],
         "hovertemplate": "region=China<br>model=%{customdata[1]}<br>scenario_narrative=Cost Effective<br>year=%{x}<br>Emissions|Kyoto Gases=%{y}<br>scenario=%{customdata[0]}<extra></extra>",
         "legendgroup": "China, REMIND 3.0",
         "line": {
          "color": "#636efa",
          "dash": "solid"
         },
         "marker": {
          "symbol": "circle"
         },
         "mode": "lines",
         "name": "China, REMIND 3.0",
         "showlegend": false,
         "type": "scattergl",
         "x": [
          2005,
          2010,
          2015,
          2020,
          2025,
          2030,
          2035,
          2040,
          2045,
          2050,
          2055,
          2060,
          2070,
          2080,
          2090,
          2100
         ],
         "xaxis": "x",
         "y": [
          9510.7522795,
          12127.3339175,
          14512.6400533,
          15340.9096905,
          14965.480187,
          11036.1873348,
          7578.3634497,
          4931.0459721,
          3273.2656783,
          2330.1683468,
          1626.0634694,
          1152.6718219,
          639.9705744,
          224.1100022,
          147.592788,
          198.1681978
         ],
         "yaxis": "y"
        },
        {
         "customdata": [
          [
           "T34_1000_bitb_ref",
           "REMIND 3.0"
          ],
          [
           "T34_1000_bitb_ref",
           "REMIND 3.0"
          ],
          [
           "T34_1000_bitb_ref",
           "REMIND 3.0"
          ],
          [
           "T34_1000_bitb_ref",
           "REMIND 3.0"
          ],
          [
           "T34_1000_bitb_ref",
           "REMIND 3.0"
          ],
          [
           "T34_1000_bitb_ref",
           "REMIND 3.0"
          ],
          [
           "T34_1000_bitb_ref",
           "REMIND 3.0"
          ],
          [
           "T34_1000_bitb_ref",
           "REMIND 3.0"
          ],
          [
           "T34_1000_bitb_ref",
           "REMIND 3.0"
          ],
          [
           "T34_1000_bitb_ref",
           "REMIND 3.0"
          ],
          [
           "T34_1000_bitb_ref",
           "REMIND 3.0"
          ],
          [
           "T34_1000_bitb_ref",
           "REMIND 3.0"
          ],
          [
           "T34_1000_bitb_ref",
           "REMIND 3.0"
          ],
          [
           "T34_1000_bitb_ref",
           "REMIND 3.0"
          ],
          [
           "T34_1000_bitb_ref",
           "REMIND 3.0"
          ],
          [
           "T34_1000_bitb_ref",
           "REMIND 3.0"
          ]
         ],
         "hovertemplate": "region=China<br>model=%{customdata[1]}<br>scenario_narrative=Tech<br>year=%{x}<br>Emissions|Kyoto Gases=%{y}<br>scenario=%{customdata[0]}<extra></extra>",
         "legendgroup": "China, REMIND 3.0",
         "line": {
          "color": "#636efa",
          "dash": "solid"
         },
         "marker": {
          "symbol": "circle"
         },
         "mode": "lines",
         "name": "China, REMIND 3.0",
         "showlegend": false,
         "type": "scattergl",
         "x": [
          2005,
          2010,
          2015,
          2020,
          2025,
          2030,
          2035,
          2040,
          2045,
          2050,
          2055,
          2060,
          2070,
          2080,
          2090,
          2100
         ],
         "xaxis": "x2",
         "y": [
          9510.7522795,
          12127.3339175,
          14512.6400533,
          15340.9096905,
          14908.0976326,
          10257.0138342,
          6717.2948581,
          4726.0989022,
          3136.6110516,
          2072.2204859,
          1434.3745813,
          1074.6765296,
          658.973898,
          337.8006624,
          209.7391922,
          99.2693228
         ],
         "yaxis": "y2"
        },
        {
         "customdata": [
          [
           "T34_1000_enab_em",
           "REMIND 3.0"
          ],
          [
           "T34_1000_enab_em",
           "REMIND 3.0"
          ],
          [
           "T34_1000_enab_em",
           "REMIND 3.0"
          ],
          [
           "T34_1000_enab_em",
           "REMIND 3.0"
          ],
          [
           "T34_1000_enab_em",
           "REMIND 3.0"
          ],
          [
           "T34_1000_enab_em",
           "REMIND 3.0"
          ],
          [
           "T34_1000_enab_em",
           "REMIND 3.0"
          ],
          [
           "T34_1000_enab_em",
           "REMIND 3.0"
          ],
          [
           "T34_1000_enab_em",
           "REMIND 3.0"
          ],
          [
           "T34_1000_enab_em",
           "REMIND 3.0"
          ],
          [
           "T34_1000_enab_em",
           "REMIND 3.0"
          ],
          [
           "T34_1000_enab_em",
           "REMIND 3.0"
          ],
          [
           "T34_1000_enab_em",
           "REMIND 3.0"
          ],
          [
           "T34_1000_enab_em",
           "REMIND 3.0"
          ],
          [
           "T34_1000_enab_em",
           "REMIND 3.0"
          ],
          [
           "T34_1000_enab_em",
           "REMIND 3.0"
          ]
         ],
         "hovertemplate": "region=China<br>model=%{customdata[1]}<br>scenario_narrative=Inst+Enab<br>year=%{x}<br>Emissions|Kyoto Gases=%{y}<br>scenario=%{customdata[0]}<extra></extra>",
         "legendgroup": "China, REMIND 3.0",
         "line": {
          "color": "#636efa",
          "dash": "solid"
         },
         "marker": {
          "symbol": "circle"
         },
         "mode": "lines",
         "name": "China, REMIND 3.0",
         "showlegend": false,
         "type": "scattergl",
         "x": [
          2005,
          2010,
          2015,
          2020,
          2025,
          2030,
          2035,
          2040,
          2045,
          2050,
          2055,
          2060,
          2070,
          2080,
          2090,
          2100
         ],
         "xaxis": "x3",
         "y": [
          9510.7522795,
          12127.3339175,
          14512.6400533,
          15340.9096905,
          14768.6428684,
          10080.7112745,
          7501.6328643,
          5033.6267042,
          3558.3088627,
          2409.0284687,
          1710.1783181,
          1030.4591361,
          442.6926033,
          17.983396,
          -165.8125275,
          196.718674
         ],
         "yaxis": "y3"
        },
        {
         "customdata": [
          [
           "T34_1000_bitb_em",
           "WITCH 5.0"
          ],
          [
           "T34_1000_bitb_em",
           "WITCH 5.0"
          ],
          [
           "T34_1000_bitb_em",
           "WITCH 5.0"
          ],
          [
           "T34_1000_bitb_em",
           "WITCH 5.0"
          ],
          [
           "T34_1000_bitb_em",
           "WITCH 5.0"
          ],
          [
           "T34_1000_bitb_em",
           "WITCH 5.0"
          ],
          [
           "T34_1000_bitb_em",
           "WITCH 5.0"
          ],
          [
           "T34_1000_bitb_em",
           "WITCH 5.0"
          ],
          [
           "T34_1000_bitb_em",
           "WITCH 5.0"
          ],
          [
           "T34_1000_bitb_em",
           "WITCH 5.0"
          ],
          [
           "T34_1000_bitb_em",
           "WITCH 5.0"
          ],
          [
           "T34_1000_bitb_em",
           "WITCH 5.0"
          ],
          [
           "T34_1000_bitb_em",
           "WITCH 5.0"
          ],
          [
           "T34_1000_bitb_em",
           "WITCH 5.0"
          ],
          [
           "T34_1000_bitb_em",
           "WITCH 5.0"
          ],
          [
           "T34_1000_bitb_em",
           "WITCH 5.0"
          ],
          [
           "T34_1000_bitb_em",
           "WITCH 5.0"
          ],
          [
           "T34_1000_bitb_em",
           "WITCH 5.0"
          ],
          [
           "T34_1000_bitb_em",
           "WITCH 5.0"
          ],
          [
           "T34_1000_bitb_em",
           "WITCH 5.0"
          ]
         ],
         "hovertemplate": "region=China<br>model=%{customdata[1]}<br>scenario_narrative=Tech+Inst<br>year=%{x}<br>Emissions|Kyoto Gases=%{y}<br>scenario=%{customdata[0]}<extra></extra>",
         "legendgroup": "China, WITCH 5.0",
         "line": {
          "color": "#636efa",
          "dash": "dot"
         },
         "marker": {
          "symbol": "circle"
         },
         "mode": "lines",
         "name": "China, WITCH 5.0",
         "showlegend": true,
         "type": "scattergl",
         "x": [
          2005,
          2010,
          2015,
          2020,
          2025,
          2030,
          2035,
          2040,
          2045,
          2050,
          2055,
          2060,
          2065,
          2070,
          2075,
          2080,
          2085,
          2090,
          2095,
          2100
         ],
         "xaxis": "x4",
         "y": [
          7565.58310742341,
          10539.6295135494,
          12094.7362482014,
          12704.4123444316,
          12647.3873953864,
          10423.2293802135,
          8251.0233534566,
          6716.6699260014,
          5849.07551773465,
          4680.80073156249,
          3272.13029243928,
          2642.0509053971,
          2372.57512621462,
          2156.7274161614,
          1964.96769201452,
          1814.90908957282,
          2046.06358544123,
          2158.48583865395,
          2065.34155562694,
          1934.538245949
         ],
         "yaxis": "y4"
        },
        {
         "customdata": [
          [
           "T34_1000_feas_em",
           "WITCH 5.0"
          ],
          [
           "T34_1000_feas_em",
           "WITCH 5.0"
          ],
          [
           "T34_1000_feas_em",
           "WITCH 5.0"
          ],
          [
           "T34_1000_feas_em",
           "WITCH 5.0"
          ],
          [
           "T34_1000_feas_em",
           "WITCH 5.0"
          ],
          [
           "T34_1000_feas_em",
           "WITCH 5.0"
          ],
          [
           "T34_1000_feas_em",
           "WITCH 5.0"
          ],
          [
           "T34_1000_feas_em",
           "WITCH 5.0"
          ],
          [
           "T34_1000_feas_em",
           "WITCH 5.0"
          ],
          [
           "T34_1000_feas_em",
           "WITCH 5.0"
          ],
          [
           "T34_1000_feas_em",
           "WITCH 5.0"
          ],
          [
           "T34_1000_feas_em",
           "WITCH 5.0"
          ],
          [
           "T34_1000_feas_em",
           "WITCH 5.0"
          ],
          [
           "T34_1000_feas_em",
           "WITCH 5.0"
          ],
          [
           "T34_1000_feas_em",
           "WITCH 5.0"
          ],
          [
           "T34_1000_feas_em",
           "WITCH 5.0"
          ],
          [
           "T34_1000_feas_em",
           "WITCH 5.0"
          ],
          [
           "T34_1000_feas_em",
           "WITCH 5.0"
          ],
          [
           "T34_1000_feas_em",
           "WITCH 5.0"
          ],
          [
           "T34_1000_feas_em",
           "WITCH 5.0"
          ]
         ],
         "hovertemplate": "region=China<br>model=%{customdata[1]}<br>scenario_narrative=Tech+Inst+Enab<br>year=%{x}<br>Emissions|Kyoto Gases=%{y}<br>scenario=%{customdata[0]}<extra></extra>",
         "legendgroup": "China, WITCH 5.0",
         "line": {
          "color": "#636efa",
          "dash": "dot"
         },
         "marker": {
          "symbol": "circle"
         },
         "mode": "lines",
         "name": "China, WITCH 5.0",
         "showlegend": false,
         "type": "scattergl",
         "x": [
          2005,
          2010,
          2015,
          2020,
          2025,
          2030,
          2035,
          2040,
          2045,
          2050,
          2055,
          2060,
          2065,
          2070,
          2075,
          2080,
          2085,
          2090,
          2095,
          2100
         ],
         "xaxis": "x5",
         "y": [
          7565.58310742341,
          10539.6295135494,
          12094.7362482014,
          12704.4123444316,
          10602.4245875331,
          8917.79664348064,
          7006.08341839646,
          5598.7813246188,
          4295.23227465741,
          3355.84878775238,
          2774.12363048063,
          2300.69993060942,
          1945.91118243631,
          1731.00730593218,
          1519.35303249379,
          1374.41369624752,
          1284.73527753871,
          1189.81308062352,
          1146.65514009561,
          992.854384855441
         ],
         "yaxis": "y5"
        },
        {
         "customdata": [
          [
           "T34_1000_govem",
           "WITCH 5.0"
          ],
          [
           "T34_1000_govem",
           "WITCH 5.0"
          ],
          [
           "T34_1000_govem",
           "WITCH 5.0"
          ],
          [
           "T34_1000_govem",
           "WITCH 5.0"
          ],
          [
           "T34_1000_govem",
           "WITCH 5.0"
          ],
          [
           "T34_1000_govem",
           "WITCH 5.0"
          ],
          [
           "T34_1000_govem",
           "WITCH 5.0"
          ],
          [
           "T34_1000_govem",
           "WITCH 5.0"
          ],
          [
           "T34_1000_govem",
           "WITCH 5.0"
          ],
          [
           "T34_1000_govem",
           "WITCH 5.0"
          ],
          [
           "T34_1000_govem",
           "WITCH 5.0"
          ],
          [
           "T34_1000_govem",
           "WITCH 5.0"
          ],
          [
           "T34_1000_govem",
           "WITCH 5.0"
          ],
          [
           "T34_1000_govem",
           "WITCH 5.0"
          ],
          [
           "T34_1000_govem",
           "WITCH 5.0"
          ],
          [
           "T34_1000_govem",
           "WITCH 5.0"
          ],
          [
           "T34_1000_govem",
           "WITCH 5.0"
          ],
          [
           "T34_1000_govem",
           "WITCH 5.0"
          ],
          [
           "T34_1000_govem",
           "WITCH 5.0"
          ],
          [
           "T34_1000_govem",
           "WITCH 5.0"
          ]
         ],
         "hovertemplate": "region=China<br>model=%{customdata[1]}<br>scenario_narrative=Instit<br>year=%{x}<br>Emissions|Kyoto Gases=%{y}<br>scenario=%{customdata[0]}<extra></extra>",
         "legendgroup": "China, WITCH 5.0",
         "line": {
          "color": "#636efa",
          "dash": "dot"
         },
         "marker": {
          "symbol": "circle"
         },
         "mode": "lines",
         "name": "China, WITCH 5.0",
         "showlegend": false,
         "type": "scattergl",
         "x": [
          2005,
          2010,
          2015,
          2020,
          2025,
          2030,
          2035,
          2040,
          2045,
          2050,
          2055,
          2060,
          2065,
          2070,
          2075,
          2080,
          2085,
          2090,
          2095,
          2100
         ],
         "xaxis": "x6",
         "y": [
          7565.58310742341,
          10539.6295135494,
          12094.7362482014,
          12704.4123444316,
          10583.0375447804,
          8915.32280229705,
          7000.87978733629,
          5687.89452705392,
          4700.17756956507,
          3449.19462557065,
          2706.05725316501,
          2356.05118089332,
          1972.59682273259,
          1684.14538624477,
          1380.04399393746,
          1660.64724499549,
          2104.05596923167,
          2933.59219460673,
          3236.0997457796,
          3269.39863047057
         ],
         "yaxis": "y6"
        },
        {
         "customdata": [
          [
           "T34_1000_ref",
           "WITCH 5.0"
          ],
          [
           "T34_1000_ref",
           "WITCH 5.0"
          ],
          [
           "T34_1000_ref",
           "WITCH 5.0"
          ],
          [
           "T34_1000_ref",
           "WITCH 5.0"
          ],
          [
           "T34_1000_ref",
           "WITCH 5.0"
          ],
          [
           "T34_1000_ref",
           "WITCH 5.0"
          ],
          [
           "T34_1000_ref",
           "WITCH 5.0"
          ],
          [
           "T34_1000_ref",
           "WITCH 5.0"
          ],
          [
           "T34_1000_ref",
           "WITCH 5.0"
          ],
          [
           "T34_1000_ref",
           "WITCH 5.0"
          ],
          [
           "T34_1000_ref",
           "WITCH 5.0"
          ],
          [
           "T34_1000_ref",
           "WITCH 5.0"
          ],
          [
           "T34_1000_ref",
           "WITCH 5.0"
          ],
          [
           "T34_1000_ref",
           "WITCH 5.0"
          ],
          [
           "T34_1000_ref",
           "WITCH 5.0"
          ],
          [
           "T34_1000_ref",
           "WITCH 5.0"
          ],
          [
           "T34_1000_ref",
           "WITCH 5.0"
          ],
          [
           "T34_1000_ref",
           "WITCH 5.0"
          ],
          [
           "T34_1000_ref",
           "WITCH 5.0"
          ],
          [
           "T34_1000_ref",
           "WITCH 5.0"
          ]
         ],
         "hovertemplate": "region=China<br>model=%{customdata[1]}<br>scenario_narrative=Cost Effective<br>year=%{x}<br>Emissions|Kyoto Gases=%{y}<br>scenario=%{customdata[0]}<extra></extra>",
         "legendgroup": "China, WITCH 5.0",
         "line": {
          "color": "#636efa",
          "dash": "dot"
         },
         "marker": {
          "symbol": "circle"
         },
         "mode": "lines",
         "name": "China, WITCH 5.0",
         "showlegend": false,
         "type": "scattergl",
         "x": [
          2005,
          2010,
          2015,
          2020,
          2025,
          2030,
          2035,
          2040,
          2045,
          2050,
          2055,
          2060,
          2065,
          2070,
          2075,
          2080,
          2085,
          2090,
          2095,
          2100
         ],
         "xaxis": "x",
         "y": [
          7565.58310742341,
          10539.6295135494,
          12094.7362482014,
          12704.4123444316,
          11707.9878652762,
          6807.1302033798,
          5924.43305962545,
          5685.16417701001,
          5371.50642360189,
          5063.6051785855,
          4705.92857609731,
          4382.87606960449,
          3918.2105619151,
          3404.95343594814,
          3100.21938493552,
          2839.82395587781,
          2637.05405161416,
          2606.74375335339,
          2756.62143556365,
          2898.13233314009
         ],
         "yaxis": "y"
        },
        {
         "customdata": [
          [
           "T34_1000_bitb_ref",
           "WITCH 5.0"
          ],
          [
           "T34_1000_bitb_ref",
           "WITCH 5.0"
          ],
          [
           "T34_1000_bitb_ref",
           "WITCH 5.0"
          ],
          [
           "T34_1000_bitb_ref",
           "WITCH 5.0"
          ],
          [
           "T34_1000_bitb_ref",
           "WITCH 5.0"
          ],
          [
           "T34_1000_bitb_ref",
           "WITCH 5.0"
          ],
          [
           "T34_1000_bitb_ref",
           "WITCH 5.0"
          ],
          [
           "T34_1000_bitb_ref",
           "WITCH 5.0"
          ],
          [
           "T34_1000_bitb_ref",
           "WITCH 5.0"
          ],
          [
           "T34_1000_bitb_ref",
           "WITCH 5.0"
          ],
          [
           "T34_1000_bitb_ref",
           "WITCH 5.0"
          ],
          [
           "T34_1000_bitb_ref",
           "WITCH 5.0"
          ],
          [
           "T34_1000_bitb_ref",
           "WITCH 5.0"
          ],
          [
           "T34_1000_bitb_ref",
           "WITCH 5.0"
          ],
          [
           "T34_1000_bitb_ref",
           "WITCH 5.0"
          ],
          [
           "T34_1000_bitb_ref",
           "WITCH 5.0"
          ],
          [
           "T34_1000_bitb_ref",
           "WITCH 5.0"
          ],
          [
           "T34_1000_bitb_ref",
           "WITCH 5.0"
          ],
          [
           "T34_1000_bitb_ref",
           "WITCH 5.0"
          ],
          [
           "T34_1000_bitb_ref",
           "WITCH 5.0"
          ]
         ],
         "hovertemplate": "region=China<br>model=%{customdata[1]}<br>scenario_narrative=Tech<br>year=%{x}<br>Emissions|Kyoto Gases=%{y}<br>scenario=%{customdata[0]}<extra></extra>",
         "legendgroup": "China, WITCH 5.0",
         "line": {
          "color": "#636efa",
          "dash": "dot"
         },
         "marker": {
          "symbol": "circle"
         },
         "mode": "lines",
         "name": "China, WITCH 5.0",
         "showlegend": false,
         "type": "scattergl",
         "x": [
          2005,
          2010,
          2015,
          2020,
          2025,
          2030,
          2035,
          2040,
          2045,
          2050,
          2055,
          2060,
          2065,
          2070,
          2075,
          2080,
          2085,
          2090,
          2095,
          2100
         ],
         "xaxis": "x2",
         "y": [
          7565.58310742341,
          10539.6295135494,
          12094.7362482014,
          12704.4123444316,
          11677.4221190256,
          6297.83460175679,
          5988.36986471005,
          5683.55919952504,
          5253.35641778512,
          4816.20415575432,
          4488.47812594672,
          4263.08882231502,
          4003.37816933123,
          3773.1093166624,
          3505.90143420553,
          3287.63584484959,
          3076.42368501917,
          2849.12830660746,
          2649.87930411583,
          2441.76543672214
         ],
         "yaxis": "y2"
        },
        {
         "customdata": [
          [
           "T34_1000_enab_em",
           "WITCH 5.0"
          ],
          [
           "T34_1000_enab_em",
           "WITCH 5.0"
          ],
          [
           "T34_1000_enab_em",
           "WITCH 5.0"
          ],
          [
           "T34_1000_enab_em",
           "WITCH 5.0"
          ],
          [
           "T34_1000_enab_em",
           "WITCH 5.0"
          ],
          [
           "T34_1000_enab_em",
           "WITCH 5.0"
          ],
          [
           "T34_1000_enab_em",
           "WITCH 5.0"
          ],
          [
           "T34_1000_enab_em",
           "WITCH 5.0"
          ],
          [
           "T34_1000_enab_em",
           "WITCH 5.0"
          ],
          [
           "T34_1000_enab_em",
           "WITCH 5.0"
          ],
          [
           "T34_1000_enab_em",
           "WITCH 5.0"
          ],
          [
           "T34_1000_enab_em",
           "WITCH 5.0"
          ],
          [
           "T34_1000_enab_em",
           "WITCH 5.0"
          ],
          [
           "T34_1000_enab_em",
           "WITCH 5.0"
          ],
          [
           "T34_1000_enab_em",
           "WITCH 5.0"
          ],
          [
           "T34_1000_enab_em",
           "WITCH 5.0"
          ],
          [
           "T34_1000_enab_em",
           "WITCH 5.0"
          ],
          [
           "T34_1000_enab_em",
           "WITCH 5.0"
          ],
          [
           "T34_1000_enab_em",
           "WITCH 5.0"
          ],
          [
           "T34_1000_enab_em",
           "WITCH 5.0"
          ]
         ],
         "hovertemplate": "region=China<br>model=%{customdata[1]}<br>scenario_narrative=Inst+Enab<br>year=%{x}<br>Emissions|Kyoto Gases=%{y}<br>scenario=%{customdata[0]}<extra></extra>",
         "legendgroup": "China, WITCH 5.0",
         "line": {
          "color": "#636efa",
          "dash": "dot"
         },
         "marker": {
          "symbol": "circle"
         },
         "mode": "lines",
         "name": "China, WITCH 5.0",
         "showlegend": false,
         "type": "scattergl",
         "x": [
          2005,
          2010,
          2015,
          2020,
          2025,
          2030,
          2035,
          2040,
          2045,
          2050,
          2055,
          2060,
          2065,
          2070,
          2075,
          2080,
          2085,
          2090,
          2095,
          2100
         ],
         "xaxis": "x3",
         "y": [
          7565.58310742341,
          10539.6295135494,
          12094.7362482014,
          12704.4123444316,
          10602.1844667401,
          8963.30770847637,
          7063.25388878006,
          5634.71929112131,
          4019.72391164525,
          3351.93788078024,
          2806.15233771387,
          2264.42246629919,
          1765.68013950202,
          1250.09820158561,
          849.187537689695,
          695.194415411003,
          697.991932596646,
          981.878456622754,
          1224.77404204708,
          1412.42886030731
         ],
         "yaxis": "y3"
        },
        {
         "customdata": [
          [
           "T34_1000_bitb_em",
           "AIM/CGE V2.2"
          ],
          [
           "T34_1000_bitb_em",
           "AIM/CGE V2.2"
          ],
          [
           "T34_1000_bitb_em",
           "AIM/CGE V2.2"
          ],
          [
           "T34_1000_bitb_em",
           "AIM/CGE V2.2"
          ],
          [
           "T34_1000_bitb_em",
           "AIM/CGE V2.2"
          ],
          [
           "T34_1000_bitb_em",
           "AIM/CGE V2.2"
          ],
          [
           "T34_1000_bitb_em",
           "AIM/CGE V2.2"
          ],
          [
           "T34_1000_bitb_em",
           "AIM/CGE V2.2"
          ],
          [
           "T34_1000_bitb_em",
           "AIM/CGE V2.2"
          ],
          [
           "T34_1000_bitb_em",
           "AIM/CGE V2.2"
          ],
          [
           "T34_1000_bitb_em",
           "AIM/CGE V2.2"
          ],
          [
           "T34_1000_bitb_em",
           "AIM/CGE V2.2"
          ],
          [
           "T34_1000_bitb_em",
           "AIM/CGE V2.2"
          ],
          [
           "T34_1000_bitb_em",
           "AIM/CGE V2.2"
          ],
          [
           "T34_1000_bitb_em",
           "AIM/CGE V2.2"
          ],
          [
           "T34_1000_bitb_em",
           "AIM/CGE V2.2"
          ],
          [
           "T34_1000_bitb_em",
           "AIM/CGE V2.2"
          ],
          [
           "T34_1000_bitb_em",
           "AIM/CGE V2.2"
          ],
          [
           "T34_1000_bitb_em",
           "AIM/CGE V2.2"
          ]
         ],
         "hovertemplate": "region=OECD<br>model=%{customdata[1]}<br>scenario_narrative=Tech+Inst<br>year=%{x}<br>Emissions|Kyoto Gases=%{y}<br>scenario=%{customdata[0]}<extra></extra>",
         "legendgroup": "OECD, AIM/CGE V2.2",
         "line": {
          "color": "#EF553B",
          "dash": "solid"
         },
         "marker": {
          "symbol": "circle"
         },
         "mode": "lines",
         "name": "OECD, AIM/CGE V2.2",
         "showlegend": true,
         "type": "scattergl",
         "x": [
          2010,
          2015,
          2020,
          2025,
          2030,
          2035,
          2040,
          2045,
          2050,
          2055,
          2060,
          2065,
          2070,
          2075,
          2080,
          2085,
          2090,
          2095,
          2100
         ],
         "xaxis": "x4",
         "y": [
          13279.6705,
          12551.344099999998,
          12524.0317,
          9449.9974,
          6592.5548,
          5011.9735,
          3379.0832,
          1484.5553,
          -486.9534,
          61.70560000000003,
          -286.03,
          -125.00840000000002,
          -19.35419999999999,
          56.06039999999999,
          129.3714,
          191.07009999999997,
          252.14530000000002,
          313.1886,
          371.1141
         ],
         "yaxis": "y4"
        },
        {
         "customdata": [
          [
           "T34_1000_feas_em",
           "AIM/CGE V2.2"
          ],
          [
           "T34_1000_feas_em",
           "AIM/CGE V2.2"
          ],
          [
           "T34_1000_feas_em",
           "AIM/CGE V2.2"
          ],
          [
           "T34_1000_feas_em",
           "AIM/CGE V2.2"
          ],
          [
           "T34_1000_feas_em",
           "AIM/CGE V2.2"
          ],
          [
           "T34_1000_feas_em",
           "AIM/CGE V2.2"
          ],
          [
           "T34_1000_feas_em",
           "AIM/CGE V2.2"
          ],
          [
           "T34_1000_feas_em",
           "AIM/CGE V2.2"
          ],
          [
           "T34_1000_feas_em",
           "AIM/CGE V2.2"
          ],
          [
           "T34_1000_feas_em",
           "AIM/CGE V2.2"
          ],
          [
           "T34_1000_feas_em",
           "AIM/CGE V2.2"
          ],
          [
           "T34_1000_feas_em",
           "AIM/CGE V2.2"
          ],
          [
           "T34_1000_feas_em",
           "AIM/CGE V2.2"
          ],
          [
           "T34_1000_feas_em",
           "AIM/CGE V2.2"
          ],
          [
           "T34_1000_feas_em",
           "AIM/CGE V2.2"
          ],
          [
           "T34_1000_feas_em",
           "AIM/CGE V2.2"
          ],
          [
           "T34_1000_feas_em",
           "AIM/CGE V2.2"
          ],
          [
           "T34_1000_feas_em",
           "AIM/CGE V2.2"
          ],
          [
           "T34_1000_feas_em",
           "AIM/CGE V2.2"
          ]
         ],
         "hovertemplate": "region=OECD<br>model=%{customdata[1]}<br>scenario_narrative=Tech+Inst+Enab<br>year=%{x}<br>Emissions|Kyoto Gases=%{y}<br>scenario=%{customdata[0]}<extra></extra>",
         "legendgroup": "OECD, AIM/CGE V2.2",
         "line": {
          "color": "#EF553B",
          "dash": "solid"
         },
         "marker": {
          "symbol": "circle"
         },
         "mode": "lines",
         "name": "OECD, AIM/CGE V2.2",
         "showlegend": false,
         "type": "scattergl",
         "x": [
          2010,
          2015,
          2020,
          2025,
          2030,
          2035,
          2040,
          2045,
          2050,
          2055,
          2060,
          2065,
          2070,
          2075,
          2080,
          2085,
          2090,
          2095,
          2100
         ],
         "xaxis": "x5",
         "y": [
          13279.6705,
          12551.344099999998,
          12523.829099999999,
          9261.3779,
          6290.584000000001,
          4597.6567,
          3275.9709000000003,
          1186.5711999999999,
          -1223.9005,
          -1515.3545,
          -1537.7133,
          -1429.708,
          -1308.8387,
          -1185.479,
          -1057.1892,
          -940.671,
          -828.1578,
          -723.0384,
          -632.303
         ],
         "yaxis": "y5"
        },
        {
         "customdata": [
          [
           "T34_1000_govem",
           "AIM/CGE V2.2"
          ],
          [
           "T34_1000_govem",
           "AIM/CGE V2.2"
          ],
          [
           "T34_1000_govem",
           "AIM/CGE V2.2"
          ],
          [
           "T34_1000_govem",
           "AIM/CGE V2.2"
          ],
          [
           "T34_1000_govem",
           "AIM/CGE V2.2"
          ],
          [
           "T34_1000_govem",
           "AIM/CGE V2.2"
          ],
          [
           "T34_1000_govem",
           "AIM/CGE V2.2"
          ],
          [
           "T34_1000_govem",
           "AIM/CGE V2.2"
          ],
          [
           "T34_1000_govem",
           "AIM/CGE V2.2"
          ],
          [
           "T34_1000_govem",
           "AIM/CGE V2.2"
          ],
          [
           "T34_1000_govem",
           "AIM/CGE V2.2"
          ],
          [
           "T34_1000_govem",
           "AIM/CGE V2.2"
          ],
          [
           "T34_1000_govem",
           "AIM/CGE V2.2"
          ],
          [
           "T34_1000_govem",
           "AIM/CGE V2.2"
          ],
          [
           "T34_1000_govem",
           "AIM/CGE V2.2"
          ],
          [
           "T34_1000_govem",
           "AIM/CGE V2.2"
          ],
          [
           "T34_1000_govem",
           "AIM/CGE V2.2"
          ],
          [
           "T34_1000_govem",
           "AIM/CGE V2.2"
          ],
          [
           "T34_1000_govem",
           "AIM/CGE V2.2"
          ]
         ],
         "hovertemplate": "region=OECD<br>model=%{customdata[1]}<br>scenario_narrative=Instit<br>year=%{x}<br>Emissions|Kyoto Gases=%{y}<br>scenario=%{customdata[0]}<extra></extra>",
         "legendgroup": "OECD, AIM/CGE V2.2",
         "line": {
          "color": "#EF553B",
          "dash": "solid"
         },
         "marker": {
          "symbol": "circle"
         },
         "mode": "lines",
         "name": "OECD, AIM/CGE V2.2",
         "showlegend": false,
         "type": "scattergl",
         "x": [
          2010,
          2015,
          2020,
          2025,
          2030,
          2035,
          2040,
          2045,
          2050,
          2055,
          2060,
          2065,
          2070,
          2075,
          2080,
          2085,
          2090,
          2095,
          2100
         ],
         "xaxis": "x6",
         "y": [
          13279.6705,
          12551.344099999998,
          12524.9889,
          9721.2444,
          7818.8308,
          6543.1193,
          4694.5665,
          2370.9354999999996,
          280.0263,
          -2064.3144,
          -1899.8772,
          -2186.8916999999997,
          -2413.3197,
          -2581.0753999999997,
          -2690.9316,
          -2694.3268,
          -2706.513,
          -2679.9188999999997,
          -2659.7048
         ],
         "yaxis": "y6"
        },
        {
         "customdata": [
          [
           "T34_1000_ref",
           "AIM/CGE V2.2"
          ],
          [
           "T34_1000_ref",
           "AIM/CGE V2.2"
          ],
          [
           "T34_1000_ref",
           "AIM/CGE V2.2"
          ],
          [
           "T34_1000_ref",
           "AIM/CGE V2.2"
          ],
          [
           "T34_1000_ref",
           "AIM/CGE V2.2"
          ],
          [
           "T34_1000_ref",
           "AIM/CGE V2.2"
          ],
          [
           "T34_1000_ref",
           "AIM/CGE V2.2"
          ],
          [
           "T34_1000_ref",
           "AIM/CGE V2.2"
          ],
          [
           "T34_1000_ref",
           "AIM/CGE V2.2"
          ],
          [
           "T34_1000_ref",
           "AIM/CGE V2.2"
          ],
          [
           "T34_1000_ref",
           "AIM/CGE V2.2"
          ],
          [
           "T34_1000_ref",
           "AIM/CGE V2.2"
          ],
          [
           "T34_1000_ref",
           "AIM/CGE V2.2"
          ],
          [
           "T34_1000_ref",
           "AIM/CGE V2.2"
          ],
          [
           "T34_1000_ref",
           "AIM/CGE V2.2"
          ],
          [
           "T34_1000_ref",
           "AIM/CGE V2.2"
          ],
          [
           "T34_1000_ref",
           "AIM/CGE V2.2"
          ],
          [
           "T34_1000_ref",
           "AIM/CGE V2.2"
          ],
          [
           "T34_1000_ref",
           "AIM/CGE V2.2"
          ]
         ],
         "hovertemplate": "region=OECD<br>model=%{customdata[1]}<br>scenario_narrative=Cost Effective<br>year=%{x}<br>Emissions|Kyoto Gases=%{y}<br>scenario=%{customdata[0]}<extra></extra>",
         "legendgroup": "OECD, AIM/CGE V2.2",
         "line": {
          "color": "#EF553B",
          "dash": "solid"
         },
         "marker": {
          "symbol": "circle"
         },
         "mode": "lines",
         "name": "OECD, AIM/CGE V2.2",
         "showlegend": false,
         "type": "scattergl",
         "x": [
          2010,
          2015,
          2020,
          2025,
          2030,
          2035,
          2040,
          2045,
          2050,
          2055,
          2060,
          2065,
          2070,
          2075,
          2080,
          2085,
          2090,
          2095,
          2100
         ],
         "xaxis": "x",
         "y": [
          13279.6705,
          12551.344099999998,
          12524.9889,
          10523.8178,
          9331.992,
          8673.5656,
          7688.561299999999,
          6372.355,
          4605.4005,
          1332.9495,
          1256.4818,
          1056.8449,
          733.0238,
          365.262,
          143.94939999999997,
          142.216,
          95.89830000000003,
          117.45330000000001,
          109.93739999999997
         ],
         "yaxis": "y"
        },
        {
         "customdata": [
          [
           "T34_1000_ref",
           "COFFEE 1.5"
          ],
          [
           "T34_1000_ref",
           "COFFEE 1.5"
          ],
          [
           "T34_1000_ref",
           "COFFEE 1.5"
          ],
          [
           "T34_1000_ref",
           "COFFEE 1.5"
          ],
          [
           "T34_1000_ref",
           "COFFEE 1.5"
          ],
          [
           "T34_1000_ref",
           "COFFEE 1.5"
          ],
          [
           "T34_1000_ref",
           "COFFEE 1.5"
          ],
          [
           "T34_1000_ref",
           "COFFEE 1.5"
          ],
          [
           "T34_1000_ref",
           "COFFEE 1.5"
          ],
          [
           "T34_1000_ref",
           "COFFEE 1.5"
          ],
          [
           "T34_1000_ref",
           "COFFEE 1.5"
          ],
          [
           "T34_1000_ref",
           "COFFEE 1.5"
          ],
          [
           "T34_1000_ref",
           "COFFEE 1.5"
          ],
          [
           "T34_1000_ref",
           "COFFEE 1.5"
          ]
         ],
         "hovertemplate": "region=OECD<br>model=%{customdata[1]}<br>scenario_narrative=Cost Effective<br>year=%{x}<br>Emissions|Kyoto Gases=%{y}<br>scenario=%{customdata[0]}<extra></extra>",
         "legendgroup": "OECD, COFFEE 1.5",
         "line": {
          "color": "#EF553B",
          "dash": "dot"
         },
         "marker": {
          "symbol": "circle"
         },
         "mode": "lines",
         "name": "OECD, COFFEE 1.5",
         "showlegend": true,
         "type": "scattergl",
         "x": [
          2010,
          2015,
          2020,
          2025,
          2030,
          2035,
          2040,
          2045,
          2050,
          2060,
          2070,
          2080,
          2090,
          2100
         ],
         "xaxis": "x",
         "y": [
          13574.717549687426,
          12986.678490203023,
          13352.076368308277,
          13352.809493214838,
          14934.332719024658,
          10826.011524811664,
          9475.47997322942,
          7719.932037869122,
          7182.83271139566,
          4663.112408757491,
          2018.388656582564,
          -486.8112385941079,
          -1445.3303002253963,
          -1082.4568220614824
         ],
         "yaxis": "y"
        },
        {
         "customdata": [
          [
           "T34_1000_bitb_ref",
           "COFFEE 1.5"
          ],
          [
           "T34_1000_bitb_ref",
           "COFFEE 1.5"
          ],
          [
           "T34_1000_bitb_ref",
           "COFFEE 1.5"
          ],
          [
           "T34_1000_bitb_ref",
           "COFFEE 1.5"
          ],
          [
           "T34_1000_bitb_ref",
           "COFFEE 1.5"
          ],
          [
           "T34_1000_bitb_ref",
           "COFFEE 1.5"
          ],
          [
           "T34_1000_bitb_ref",
           "COFFEE 1.5"
          ],
          [
           "T34_1000_bitb_ref",
           "COFFEE 1.5"
          ],
          [
           "T34_1000_bitb_ref",
           "COFFEE 1.5"
          ],
          [
           "T34_1000_bitb_ref",
           "COFFEE 1.5"
          ],
          [
           "T34_1000_bitb_ref",
           "COFFEE 1.5"
          ],
          [
           "T34_1000_bitb_ref",
           "COFFEE 1.5"
          ],
          [
           "T34_1000_bitb_ref",
           "COFFEE 1.5"
          ],
          [
           "T34_1000_bitb_ref",
           "COFFEE 1.5"
          ]
         ],
         "hovertemplate": "region=OECD<br>model=%{customdata[1]}<br>scenario_narrative=Tech<br>year=%{x}<br>Emissions|Kyoto Gases=%{y}<br>scenario=%{customdata[0]}<extra></extra>",
         "legendgroup": "OECD, COFFEE 1.5",
         "line": {
          "color": "#EF553B",
          "dash": "dot"
         },
         "marker": {
          "symbol": "circle"
         },
         "mode": "lines",
         "name": "OECD, COFFEE 1.5",
         "showlegend": false,
         "type": "scattergl",
         "x": [
          2010,
          2015,
          2020,
          2025,
          2030,
          2035,
          2040,
          2045,
          2050,
          2060,
          2070,
          2080,
          2090,
          2100
         ],
         "xaxis": "x2",
         "y": [
          13574.717549687426,
          12986.678490203023,
          13352.076368308277,
          13130.008825929886,
          14455.310169348957,
          9852.292622806071,
          8923.913134584272,
          6530.3288961936205,
          5619.879415886744,
          3972.644199753856,
          2555.1524421618756,
          1885.7524784498632,
          2138.3118945385513,
          2385.994789810443
         ],
         "yaxis": "y2"
        },
        {
         "customdata": [
          [
           "T34_1000_bitb_em",
           "GEM-E3_V2023"
          ],
          [
           "T34_1000_bitb_em",
           "GEM-E3_V2023"
          ],
          [
           "T34_1000_bitb_em",
           "GEM-E3_V2023"
          ],
          [
           "T34_1000_bitb_em",
           "GEM-E3_V2023"
          ],
          [
           "T34_1000_bitb_em",
           "GEM-E3_V2023"
          ],
          [
           "T34_1000_bitb_em",
           "GEM-E3_V2023"
          ],
          [
           "T34_1000_bitb_em",
           "GEM-E3_V2023"
          ],
          [
           "T34_1000_bitb_em",
           "GEM-E3_V2023"
          ],
          [
           "T34_1000_bitb_em",
           "GEM-E3_V2023"
          ],
          [
           "T34_1000_bitb_em",
           "GEM-E3_V2023"
          ],
          [
           "T34_1000_bitb_em",
           "GEM-E3_V2023"
          ],
          [
           "T34_1000_bitb_em",
           "GEM-E3_V2023"
          ],
          [
           "T34_1000_bitb_em",
           "GEM-E3_V2023"
          ],
          [
           "T34_1000_bitb_em",
           "GEM-E3_V2023"
          ],
          [
           "T34_1000_bitb_em",
           "GEM-E3_V2023"
          ],
          [
           "T34_1000_bitb_em",
           "GEM-E3_V2023"
          ],
          [
           "T34_1000_bitb_em",
           "GEM-E3_V2023"
          ],
          [
           "T34_1000_bitb_em",
           "GEM-E3_V2023"
          ]
         ],
         "hovertemplate": "region=OECD<br>model=%{customdata[1]}<br>scenario_narrative=Tech+Inst<br>year=%{x}<br>Emissions|Kyoto Gases=%{y}<br>scenario=%{customdata[0]}<extra></extra>",
         "legendgroup": "OECD, GEM-E3_V2023",
         "line": {
          "color": "#EF553B",
          "dash": "dash"
         },
         "marker": {
          "symbol": "circle"
         },
         "mode": "lines",
         "name": "OECD, GEM-E3_V2023",
         "showlegend": true,
         "type": "scattergl",
         "x": [
          2015,
          2020,
          2025,
          2030,
          2035,
          2040,
          2045,
          2050,
          2055,
          2060,
          2065,
          2070,
          2075,
          2080,
          2085,
          2090,
          2095,
          2100
         ],
         "xaxis": "x4",
         "y": [
          10871.914925956258,
          9481.220368757702,
          8667.58479321418,
          6906.320692240042,
          4741.542137417419,
          2454.219987855956,
          1070.3364669810767,
          475.20770833158116,
          -341.5531769984003,
          -778.1131615435468,
          -1004.5788508613828,
          -1142.561422069588,
          -1206.3879553993029,
          -990.4761504627947,
          -543.2613553891584,
          -331.06635462570915,
          -155.8080804645188,
          -222.8548358289733
         ],
         "yaxis": "y4"
        },
        {
         "customdata": [
          [
           "T34_1000_feas_em",
           "GEM-E3_V2023"
          ],
          [
           "T34_1000_feas_em",
           "GEM-E3_V2023"
          ],
          [
           "T34_1000_feas_em",
           "GEM-E3_V2023"
          ],
          [
           "T34_1000_feas_em",
           "GEM-E3_V2023"
          ],
          [
           "T34_1000_feas_em",
           "GEM-E3_V2023"
          ],
          [
           "T34_1000_feas_em",
           "GEM-E3_V2023"
          ],
          [
           "T34_1000_feas_em",
           "GEM-E3_V2023"
          ],
          [
           "T34_1000_feas_em",
           "GEM-E3_V2023"
          ],
          [
           "T34_1000_feas_em",
           "GEM-E3_V2023"
          ],
          [
           "T34_1000_feas_em",
           "GEM-E3_V2023"
          ],
          [
           "T34_1000_feas_em",
           "GEM-E3_V2023"
          ],
          [
           "T34_1000_feas_em",
           "GEM-E3_V2023"
          ],
          [
           "T34_1000_feas_em",
           "GEM-E3_V2023"
          ],
          [
           "T34_1000_feas_em",
           "GEM-E3_V2023"
          ],
          [
           "T34_1000_feas_em",
           "GEM-E3_V2023"
          ],
          [
           "T34_1000_feas_em",
           "GEM-E3_V2023"
          ],
          [
           "T34_1000_feas_em",
           "GEM-E3_V2023"
          ],
          [
           "T34_1000_feas_em",
           "GEM-E3_V2023"
          ]
         ],
         "hovertemplate": "region=OECD<br>model=%{customdata[1]}<br>scenario_narrative=Tech+Inst+Enab<br>year=%{x}<br>Emissions|Kyoto Gases=%{y}<br>scenario=%{customdata[0]}<extra></extra>",
         "legendgroup": "OECD, GEM-E3_V2023",
         "line": {
          "color": "#EF553B",
          "dash": "dash"
         },
         "marker": {
          "symbol": "circle"
         },
         "mode": "lines",
         "name": "OECD, GEM-E3_V2023",
         "showlegend": false,
         "type": "scattergl",
         "x": [
          2015,
          2020,
          2025,
          2030,
          2035,
          2040,
          2045,
          2050,
          2055,
          2060,
          2065,
          2070,
          2075,
          2080,
          2085,
          2090,
          2095,
          2100
         ],
         "xaxis": "x5",
         "y": [
          10871.914925956258,
          9481.220368757702,
          8593.664137597822,
          6838.132317551428,
          4551.034541987955,
          2461.010447650264,
          894.3364915533369,
          401.6650367407175,
          -447.56802336962966,
          -776.8687417076827,
          -999.7938168062683,
          -1170.1043436423786,
          -1175.112434267556,
          -1006.1307771121012,
          -419.3318471694503,
          -317.0448719541072,
          -96.61273803190659,
          -214.50950631752295
         ],
         "yaxis": "y5"
        },
        {
         "customdata": [
          [
           "T34_1000_govem",
           "GEM-E3_V2023"
          ],
          [
           "T34_1000_govem",
           "GEM-E3_V2023"
          ],
          [
           "T34_1000_govem",
           "GEM-E3_V2023"
          ],
          [
           "T34_1000_govem",
           "GEM-E3_V2023"
          ],
          [
           "T34_1000_govem",
           "GEM-E3_V2023"
          ],
          [
           "T34_1000_govem",
           "GEM-E3_V2023"
          ],
          [
           "T34_1000_govem",
           "GEM-E3_V2023"
          ],
          [
           "T34_1000_govem",
           "GEM-E3_V2023"
          ],
          [
           "T34_1000_govem",
           "GEM-E3_V2023"
          ],
          [
           "T34_1000_govem",
           "GEM-E3_V2023"
          ],
          [
           "T34_1000_govem",
           "GEM-E3_V2023"
          ],
          [
           "T34_1000_govem",
           "GEM-E3_V2023"
          ],
          [
           "T34_1000_govem",
           "GEM-E3_V2023"
          ],
          [
           "T34_1000_govem",
           "GEM-E3_V2023"
          ],
          [
           "T34_1000_govem",
           "GEM-E3_V2023"
          ],
          [
           "T34_1000_govem",
           "GEM-E3_V2023"
          ],
          [
           "T34_1000_govem",
           "GEM-E3_V2023"
          ],
          [
           "T34_1000_govem",
           "GEM-E3_V2023"
          ]
         ],
         "hovertemplate": "region=OECD<br>model=%{customdata[1]}<br>scenario_narrative=Instit<br>year=%{x}<br>Emissions|Kyoto Gases=%{y}<br>scenario=%{customdata[0]}<extra></extra>",
         "legendgroup": "OECD, GEM-E3_V2023",
         "line": {
          "color": "#EF553B",
          "dash": "dash"
         },
         "marker": {
          "symbol": "circle"
         },
         "mode": "lines",
         "name": "OECD, GEM-E3_V2023",
         "showlegend": false,
         "type": "scattergl",
         "x": [
          2015,
          2020,
          2025,
          2030,
          2035,
          2040,
          2045,
          2050,
          2055,
          2060,
          2065,
          2070,
          2075,
          2080,
          2085,
          2090,
          2095,
          2100
         ],
         "xaxis": "x6",
         "y": [
          10871.914925956258,
          9481.220368757702,
          8767.025019121067,
          7355.253593151925,
          4742.480571524116,
          2678.188205623953,
          1007.6039209337334,
          525.1438135831545,
          -468.8333118407013,
          -1459.4488764269286,
          -1747.3817135877523,
          -1915.7181267499004,
          -2066.009446407632,
          -1554.125198580783,
          -727.5533451705148,
          -586.4396185162262,
          -501.3764870426469,
          -922.190360677412
         ],
         "yaxis": "y6"
        },
        {
         "customdata": [
          [
           "T34_1000_ref",
           "GEM-E3_V2023"
          ],
          [
           "T34_1000_ref",
           "GEM-E3_V2023"
          ],
          [
           "T34_1000_ref",
           "GEM-E3_V2023"
          ],
          [
           "T34_1000_ref",
           "GEM-E3_V2023"
          ],
          [
           "T34_1000_ref",
           "GEM-E3_V2023"
          ],
          [
           "T34_1000_ref",
           "GEM-E3_V2023"
          ],
          [
           "T34_1000_ref",
           "GEM-E3_V2023"
          ],
          [
           "T34_1000_ref",
           "GEM-E3_V2023"
          ],
          [
           "T34_1000_ref",
           "GEM-E3_V2023"
          ],
          [
           "T34_1000_ref",
           "GEM-E3_V2023"
          ],
          [
           "T34_1000_ref",
           "GEM-E3_V2023"
          ],
          [
           "T34_1000_ref",
           "GEM-E3_V2023"
          ],
          [
           "T34_1000_ref",
           "GEM-E3_V2023"
          ],
          [
           "T34_1000_ref",
           "GEM-E3_V2023"
          ],
          [
           "T34_1000_ref",
           "GEM-E3_V2023"
          ],
          [
           "T34_1000_ref",
           "GEM-E3_V2023"
          ],
          [
           "T34_1000_ref",
           "GEM-E3_V2023"
          ],
          [
           "T34_1000_ref",
           "GEM-E3_V2023"
          ]
         ],
         "hovertemplate": "region=OECD<br>model=%{customdata[1]}<br>scenario_narrative=Cost Effective<br>year=%{x}<br>Emissions|Kyoto Gases=%{y}<br>scenario=%{customdata[0]}<extra></extra>",
         "legendgroup": "OECD, GEM-E3_V2023",
         "line": {
          "color": "#EF553B",
          "dash": "dash"
         },
         "marker": {
          "symbol": "circle"
         },
         "mode": "lines",
         "name": "OECD, GEM-E3_V2023",
         "showlegend": false,
         "type": "scattergl",
         "x": [
          2015,
          2020,
          2025,
          2030,
          2035,
          2040,
          2045,
          2050,
          2055,
          2060,
          2065,
          2070,
          2075,
          2080,
          2085,
          2090,
          2095,
          2100
         ],
         "xaxis": "x",
         "y": [
          10871.914925956258,
          9481.220368757702,
          8930.622225023279,
          7949.8059691746175,
          6753.453046517115,
          5799.232016526744,
          4892.8012878397385,
          4072.0287751317082,
          3187.89921834747,
          2247.0900495512333,
          1856.1692883729852,
          1520.7919795636965,
          1484.3055127669495,
          1533.138829260414,
          1609.0148043153908,
          1662.0031677102238,
          1685.3290147601037,
          1668.5773596607044
         ],
         "yaxis": "y"
        },
        {
         "customdata": [
          [
           "T34_1000_bitb_em",
           "IMAGE 3.2"
          ],
          [
           "T34_1000_bitb_em",
           "IMAGE 3.2"
          ],
          [
           "T34_1000_bitb_em",
           "IMAGE 3.2"
          ],
          [
           "T34_1000_bitb_em",
           "IMAGE 3.2"
          ],
          [
           "T34_1000_bitb_em",
           "IMAGE 3.2"
          ],
          [
           "T34_1000_bitb_em",
           "IMAGE 3.2"
          ],
          [
           "T34_1000_bitb_em",
           "IMAGE 3.2"
          ],
          [
           "T34_1000_bitb_em",
           "IMAGE 3.2"
          ],
          [
           "T34_1000_bitb_em",
           "IMAGE 3.2"
          ],
          [
           "T34_1000_bitb_em",
           "IMAGE 3.2"
          ],
          [
           "T34_1000_bitb_em",
           "IMAGE 3.2"
          ],
          [
           "T34_1000_bitb_em",
           "IMAGE 3.2"
          ],
          [
           "T34_1000_bitb_em",
           "IMAGE 3.2"
          ],
          [
           "T34_1000_bitb_em",
           "IMAGE 3.2"
          ],
          [
           "T34_1000_bitb_em",
           "IMAGE 3.2"
          ],
          [
           "T34_1000_bitb_em",
           "IMAGE 3.2"
          ],
          [
           "T34_1000_bitb_em",
           "IMAGE 3.2"
          ],
          [
           "T34_1000_bitb_em",
           "IMAGE 3.2"
          ],
          [
           "T34_1000_bitb_em",
           "IMAGE 3.2"
          ],
          [
           "T34_1000_bitb_em",
           "IMAGE 3.2"
          ]
         ],
         "hovertemplate": "region=OECD<br>model=%{customdata[1]}<br>scenario_narrative=Tech+Inst<br>year=%{x}<br>Emissions|Kyoto Gases=%{y}<br>scenario=%{customdata[0]}<extra></extra>",
         "legendgroup": "OECD, IMAGE 3.2",
         "line": {
          "color": "#EF553B",
          "dash": "longdash"
         },
         "marker": {
          "symbol": "circle"
         },
         "mode": "lines",
         "name": "OECD, IMAGE 3.2",
         "showlegend": true,
         "type": "scattergl",
         "x": [
          2005,
          2010,
          2015,
          2020,
          2025,
          2030,
          2035,
          2040,
          2045,
          2050,
          2055,
          2060,
          2065,
          2070,
          2075,
          2080,
          2085,
          2090,
          2095,
          2100
         ],
         "xaxis": "x4",
         "y": [
          13593.864929199219,
          13221.207550048828,
          12751.902709960938,
          11908.013000488281,
          9074.651184082031,
          6443.767303466797,
          5158.971740722656,
          4647.105163574219,
          3672.8202514648438,
          2921.788055419922,
          2318.4965057373047,
          2124.92626953125,
          1822.7044067382812,
          1844.2926788330078,
          1494.7307052612305,
          1495.1425476074219,
          1217.68505859375,
          1322.2888107299805,
          1249.1246814727783,
          1323.7562637329102
         ],
         "yaxis": "y4"
        },
        {
         "customdata": [
          [
           "T34_1000_feas_em",
           "IMAGE 3.2"
          ],
          [
           "T34_1000_feas_em",
           "IMAGE 3.2"
          ],
          [
           "T34_1000_feas_em",
           "IMAGE 3.2"
          ],
          [
           "T34_1000_feas_em",
           "IMAGE 3.2"
          ],
          [
           "T34_1000_feas_em",
           "IMAGE 3.2"
          ],
          [
           "T34_1000_feas_em",
           "IMAGE 3.2"
          ],
          [
           "T34_1000_feas_em",
           "IMAGE 3.2"
          ],
          [
           "T34_1000_feas_em",
           "IMAGE 3.2"
          ],
          [
           "T34_1000_feas_em",
           "IMAGE 3.2"
          ],
          [
           "T34_1000_feas_em",
           "IMAGE 3.2"
          ],
          [
           "T34_1000_feas_em",
           "IMAGE 3.2"
          ],
          [
           "T34_1000_feas_em",
           "IMAGE 3.2"
          ],
          [
           "T34_1000_feas_em",
           "IMAGE 3.2"
          ],
          [
           "T34_1000_feas_em",
           "IMAGE 3.2"
          ],
          [
           "T34_1000_feas_em",
           "IMAGE 3.2"
          ],
          [
           "T34_1000_feas_em",
           "IMAGE 3.2"
          ],
          [
           "T34_1000_feas_em",
           "IMAGE 3.2"
          ],
          [
           "T34_1000_feas_em",
           "IMAGE 3.2"
          ],
          [
           "T34_1000_feas_em",
           "IMAGE 3.2"
          ],
          [
           "T34_1000_feas_em",
           "IMAGE 3.2"
          ]
         ],
         "hovertemplate": "region=OECD<br>model=%{customdata[1]}<br>scenario_narrative=Tech+Inst+Enab<br>year=%{x}<br>Emissions|Kyoto Gases=%{y}<br>scenario=%{customdata[0]}<extra></extra>",
         "legendgroup": "OECD, IMAGE 3.2",
         "line": {
          "color": "#EF553B",
          "dash": "longdash"
         },
         "marker": {
          "symbol": "circle"
         },
         "mode": "lines",
         "name": "OECD, IMAGE 3.2",
         "showlegend": false,
         "type": "scattergl",
         "x": [
          2005,
          2010,
          2015,
          2020,
          2025,
          2030,
          2035,
          2040,
          2045,
          2050,
          2055,
          2060,
          2065,
          2070,
          2075,
          2080,
          2085,
          2090,
          2095,
          2100
         ],
         "xaxis": "x5",
         "y": [
          13593.864929199219,
          13221.198333740234,
          12751.882995605469,
          11873.044921875,
          8873.333557128906,
          6571.272399902344,
          5361.055389404297,
          4683.178375244141,
          3746.3670959472656,
          3075.438934326172,
          2219.0470275878906,
          1647.2178649902344,
          1136.7731246948242,
          907.6305694580078,
          519.5635223388672,
          558.8050384521484,
          414.604079246521,
          263.78584146499634,
          273.4765386581421,
          464.40230560302734
         ],
         "yaxis": "y5"
        },
        {
         "customdata": [
          [
           "T34_1000_govem",
           "IMAGE 3.2"
          ],
          [
           "T34_1000_govem",
           "IMAGE 3.2"
          ],
          [
           "T34_1000_govem",
           "IMAGE 3.2"
          ],
          [
           "T34_1000_govem",
           "IMAGE 3.2"
          ],
          [
           "T34_1000_govem",
           "IMAGE 3.2"
          ],
          [
           "T34_1000_govem",
           "IMAGE 3.2"
          ],
          [
           "T34_1000_govem",
           "IMAGE 3.2"
          ],
          [
           "T34_1000_govem",
           "IMAGE 3.2"
          ],
          [
           "T34_1000_govem",
           "IMAGE 3.2"
          ],
          [
           "T34_1000_govem",
           "IMAGE 3.2"
          ],
          [
           "T34_1000_govem",
           "IMAGE 3.2"
          ],
          [
           "T34_1000_govem",
           "IMAGE 3.2"
          ],
          [
           "T34_1000_govem",
           "IMAGE 3.2"
          ],
          [
           "T34_1000_govem",
           "IMAGE 3.2"
          ],
          [
           "T34_1000_govem",
           "IMAGE 3.2"
          ],
          [
           "T34_1000_govem",
           "IMAGE 3.2"
          ],
          [
           "T34_1000_govem",
           "IMAGE 3.2"
          ],
          [
           "T34_1000_govem",
           "IMAGE 3.2"
          ],
          [
           "T34_1000_govem",
           "IMAGE 3.2"
          ],
          [
           "T34_1000_govem",
           "IMAGE 3.2"
          ]
         ],
         "hovertemplate": "region=OECD<br>model=%{customdata[1]}<br>scenario_narrative=Instit<br>year=%{x}<br>Emissions|Kyoto Gases=%{y}<br>scenario=%{customdata[0]}<extra></extra>",
         "legendgroup": "OECD, IMAGE 3.2",
         "line": {
          "color": "#EF553B",
          "dash": "longdash"
         },
         "marker": {
          "symbol": "circle"
         },
         "mode": "lines",
         "name": "OECD, IMAGE 3.2",
         "showlegend": false,
         "type": "scattergl",
         "x": [
          2005,
          2010,
          2015,
          2020,
          2025,
          2030,
          2035,
          2040,
          2045,
          2050,
          2055,
          2060,
          2065,
          2070,
          2075,
          2080,
          2085,
          2090,
          2095,
          2100
         ],
         "xaxis": "x6",
         "y": [
          13593.864929199219,
          13221.207550048828,
          12715.07568359375,
          11715.6962890625,
          9369.043029785156,
          6989.303649902344,
          5429.638671875,
          4214.2567138671875,
          3116.109573364258,
          2411.4544372558594,
          1797.6975860595703,
          1703.1535339355469,
          1494.9908599853516,
          1419.9946975708008,
          1416.6006774902344,
          1683.7167663574219,
          1596.2085266113281,
          1807.5955810546875,
          1561.0283432006836,
          1518.8236846923828
         ],
         "yaxis": "y6"
        },
        {
         "customdata": [
          [
           "T34_1000_ref",
           "IMAGE 3.2"
          ],
          [
           "T34_1000_ref",
           "IMAGE 3.2"
          ],
          [
           "T34_1000_ref",
           "IMAGE 3.2"
          ],
          [
           "T34_1000_ref",
           "IMAGE 3.2"
          ],
          [
           "T34_1000_ref",
           "IMAGE 3.2"
          ],
          [
           "T34_1000_ref",
           "IMAGE 3.2"
          ],
          [
           "T34_1000_ref",
           "IMAGE 3.2"
          ],
          [
           "T34_1000_ref",
           "IMAGE 3.2"
          ],
          [
           "T34_1000_ref",
           "IMAGE 3.2"
          ],
          [
           "T34_1000_ref",
           "IMAGE 3.2"
          ],
          [
           "T34_1000_ref",
           "IMAGE 3.2"
          ],
          [
           "T34_1000_ref",
           "IMAGE 3.2"
          ],
          [
           "T34_1000_ref",
           "IMAGE 3.2"
          ],
          [
           "T34_1000_ref",
           "IMAGE 3.2"
          ],
          [
           "T34_1000_ref",
           "IMAGE 3.2"
          ],
          [
           "T34_1000_ref",
           "IMAGE 3.2"
          ],
          [
           "T34_1000_ref",
           "IMAGE 3.2"
          ],
          [
           "T34_1000_ref",
           "IMAGE 3.2"
          ],
          [
           "T34_1000_ref",
           "IMAGE 3.2"
          ],
          [
           "T34_1000_ref",
           "IMAGE 3.2"
          ]
         ],
         "hovertemplate": "region=OECD<br>model=%{customdata[1]}<br>scenario_narrative=Cost Effective<br>year=%{x}<br>Emissions|Kyoto Gases=%{y}<br>scenario=%{customdata[0]}<extra></extra>",
         "legendgroup": "OECD, IMAGE 3.2",
         "line": {
          "color": "#EF553B",
          "dash": "longdash"
         },
         "marker": {
          "symbol": "circle"
         },
         "mode": "lines",
         "name": "OECD, IMAGE 3.2",
         "showlegend": false,
         "type": "scattergl",
         "x": [
          2005,
          2010,
          2015,
          2020,
          2025,
          2030,
          2035,
          2040,
          2045,
          2050,
          2055,
          2060,
          2065,
          2070,
          2075,
          2080,
          2085,
          2090,
          2095,
          2100
         ],
         "xaxis": "x",
         "y": [
          13593.864929199219,
          13221.207550048828,
          12715.07568359375,
          11715.6962890625,
          9823.292053222656,
          7595.433654785156,
          6065.062072753906,
          5019.622650146484,
          3987.3609008789062,
          3575.3983459472656,
          3066.8495330810547,
          2943.6424102783203,
          2549.77490234375,
          2396.3304290771484,
          2116.282485961914,
          2306.904006958008,
          2281.3463745117188,
          2546.6170959472656,
          2465.3120880126953,
          2580.5741119384766
         ],
         "yaxis": "y"
        },
        {
         "customdata": [
          [
           "T34_1000_bitb_ref",
           "IMAGE 3.2"
          ],
          [
           "T34_1000_bitb_ref",
           "IMAGE 3.2"
          ],
          [
           "T34_1000_bitb_ref",
           "IMAGE 3.2"
          ],
          [
           "T34_1000_bitb_ref",
           "IMAGE 3.2"
          ],
          [
           "T34_1000_bitb_ref",
           "IMAGE 3.2"
          ],
          [
           "T34_1000_bitb_ref",
           "IMAGE 3.2"
          ],
          [
           "T34_1000_bitb_ref",
           "IMAGE 3.2"
          ],
          [
           "T34_1000_bitb_ref",
           "IMAGE 3.2"
          ],
          [
           "T34_1000_bitb_ref",
           "IMAGE 3.2"
          ],
          [
           "T34_1000_bitb_ref",
           "IMAGE 3.2"
          ],
          [
           "T34_1000_bitb_ref",
           "IMAGE 3.2"
          ],
          [
           "T34_1000_bitb_ref",
           "IMAGE 3.2"
          ],
          [
           "T34_1000_bitb_ref",
           "IMAGE 3.2"
          ],
          [
           "T34_1000_bitb_ref",
           "IMAGE 3.2"
          ],
          [
           "T34_1000_bitb_ref",
           "IMAGE 3.2"
          ],
          [
           "T34_1000_bitb_ref",
           "IMAGE 3.2"
          ],
          [
           "T34_1000_bitb_ref",
           "IMAGE 3.2"
          ],
          [
           "T34_1000_bitb_ref",
           "IMAGE 3.2"
          ],
          [
           "T34_1000_bitb_ref",
           "IMAGE 3.2"
          ],
          [
           "T34_1000_bitb_ref",
           "IMAGE 3.2"
          ]
         ],
         "hovertemplate": "region=OECD<br>model=%{customdata[1]}<br>scenario_narrative=Tech<br>year=%{x}<br>Emissions|Kyoto Gases=%{y}<br>scenario=%{customdata[0]}<extra></extra>",
         "legendgroup": "OECD, IMAGE 3.2",
         "line": {
          "color": "#EF553B",
          "dash": "longdash"
         },
         "marker": {
          "symbol": "circle"
         },
         "mode": "lines",
         "name": "OECD, IMAGE 3.2",
         "showlegend": false,
         "type": "scattergl",
         "x": [
          2005,
          2010,
          2015,
          2020,
          2025,
          2030,
          2035,
          2040,
          2045,
          2050,
          2055,
          2060,
          2065,
          2070,
          2075,
          2080,
          2085,
          2090,
          2095,
          2100
         ],
         "xaxis": "x2",
         "y": [
          13593.864929199219,
          13221.207550048828,
          12751.902709960938,
          11908.013000488281,
          9364.464904785156,
          6953.1826171875,
          5634.310272216797,
          5198.027313232422,
          4263.7178955078125,
          3595.87841796875,
          3049.8204345703125,
          2837.5106048583984,
          2436.868408203125,
          2410.3597412109375,
          2044.3306579589844,
          1917.8097229003906,
          1613.2451553344727,
          1631.4750518798828,
          1479.3100242614746,
          1577.4389877319336
         ],
         "yaxis": "y2"
        },
        {
         "customdata": [
          [
           "T34_1000_bitb_em",
           "MESSAGEix-GLOBIOM_1.1"
          ],
          [
           "T34_1000_bitb_em",
           "MESSAGEix-GLOBIOM_1.1"
          ],
          [
           "T34_1000_bitb_em",
           "MESSAGEix-GLOBIOM_1.1"
          ],
          [
           "T34_1000_bitb_em",
           "MESSAGEix-GLOBIOM_1.1"
          ],
          [
           "T34_1000_bitb_em",
           "MESSAGEix-GLOBIOM_1.1"
          ],
          [
           "T34_1000_bitb_em",
           "MESSAGEix-GLOBIOM_1.1"
          ],
          [
           "T34_1000_bitb_em",
           "MESSAGEix-GLOBIOM_1.1"
          ],
          [
           "T34_1000_bitb_em",
           "MESSAGEix-GLOBIOM_1.1"
          ],
          [
           "T34_1000_bitb_em",
           "MESSAGEix-GLOBIOM_1.1"
          ],
          [
           "T34_1000_bitb_em",
           "MESSAGEix-GLOBIOM_1.1"
          ],
          [
           "T34_1000_bitb_em",
           "MESSAGEix-GLOBIOM_1.1"
          ],
          [
           "T34_1000_bitb_em",
           "MESSAGEix-GLOBIOM_1.1"
          ],
          [
           "T34_1000_bitb_em",
           "MESSAGEix-GLOBIOM_1.1"
          ],
          [
           "T34_1000_bitb_em",
           "MESSAGEix-GLOBIOM_1.1"
          ],
          [
           "T34_1000_bitb_em",
           "MESSAGEix-GLOBIOM_1.1"
          ],
          [
           "T34_1000_bitb_em",
           "MESSAGEix-GLOBIOM_1.1"
          ],
          [
           "T34_1000_bitb_em",
           "MESSAGEix-GLOBIOM_1.1"
          ],
          [
           "T34_1000_bitb_em",
           "MESSAGEix-GLOBIOM_1.1"
          ],
          [
           "T34_1000_bitb_em",
           "MESSAGEix-GLOBIOM_1.1"
          ],
          [
           "T34_1000_bitb_em",
           "MESSAGEix-GLOBIOM_1.1"
          ]
         ],
         "hovertemplate": "region=OECD<br>model=%{customdata[1]}<br>scenario_narrative=Tech+Inst<br>year=%{x}<br>Emissions|Kyoto Gases=%{y}<br>scenario=%{customdata[0]}<extra></extra>",
         "legendgroup": "OECD, MESSAGEix-GLOBIOM_1.1",
         "line": {
          "color": "#EF553B",
          "dash": "dashdot"
         },
         "marker": {
          "symbol": "circle"
         },
         "mode": "lines",
         "name": "OECD, MESSAGEix-GLOBIOM_1.1",
         "showlegend": true,
         "type": "scattergl",
         "x": [
          1990,
          1995,
          2000,
          2005,
          2010,
          2015,
          2020,
          2025,
          2030,
          2035,
          2040,
          2045,
          2050,
          2055,
          2060,
          2070,
          2080,
          2090,
          2100,
          2110
         ],
         "xaxis": "x4",
         "y": [
          13410.454668333334,
          13811.994669333333,
          14319.145588333333,
          14985.560541666668,
          13860.313440333333,
          13064.650746233332,
          12705.823091100989,
          10492.0569422285,
          7479.76337326776,
          5211.856228344856,
          3459.557500566756,
          2082.9945168018676,
          1112.778062797118,
          418.4188449753325,
          -312.6518985894999,
          -2275.7255024822343,
          -4587.9619310517755,
          -4901.355191048992,
          -4961.408020685718,
          -4920.26458390936
         ],
         "yaxis": "y4"
        },
        {
         "customdata": [
          [
           "T34_1000_feas_em",
           "MESSAGEix-GLOBIOM_1.1"
          ],
          [
           "T34_1000_feas_em",
           "MESSAGEix-GLOBIOM_1.1"
          ],
          [
           "T34_1000_feas_em",
           "MESSAGEix-GLOBIOM_1.1"
          ],
          [
           "T34_1000_feas_em",
           "MESSAGEix-GLOBIOM_1.1"
          ],
          [
           "T34_1000_feas_em",
           "MESSAGEix-GLOBIOM_1.1"
          ],
          [
           "T34_1000_feas_em",
           "MESSAGEix-GLOBIOM_1.1"
          ],
          [
           "T34_1000_feas_em",
           "MESSAGEix-GLOBIOM_1.1"
          ],
          [
           "T34_1000_feas_em",
           "MESSAGEix-GLOBIOM_1.1"
          ],
          [
           "T34_1000_feas_em",
           "MESSAGEix-GLOBIOM_1.1"
          ],
          [
           "T34_1000_feas_em",
           "MESSAGEix-GLOBIOM_1.1"
          ],
          [
           "T34_1000_feas_em",
           "MESSAGEix-GLOBIOM_1.1"
          ],
          [
           "T34_1000_feas_em",
           "MESSAGEix-GLOBIOM_1.1"
          ],
          [
           "T34_1000_feas_em",
           "MESSAGEix-GLOBIOM_1.1"
          ],
          [
           "T34_1000_feas_em",
           "MESSAGEix-GLOBIOM_1.1"
          ],
          [
           "T34_1000_feas_em",
           "MESSAGEix-GLOBIOM_1.1"
          ],
          [
           "T34_1000_feas_em",
           "MESSAGEix-GLOBIOM_1.1"
          ],
          [
           "T34_1000_feas_em",
           "MESSAGEix-GLOBIOM_1.1"
          ],
          [
           "T34_1000_feas_em",
           "MESSAGEix-GLOBIOM_1.1"
          ],
          [
           "T34_1000_feas_em",
           "MESSAGEix-GLOBIOM_1.1"
          ],
          [
           "T34_1000_feas_em",
           "MESSAGEix-GLOBIOM_1.1"
          ]
         ],
         "hovertemplate": "region=OECD<br>model=%{customdata[1]}<br>scenario_narrative=Tech+Inst+Enab<br>year=%{x}<br>Emissions|Kyoto Gases=%{y}<br>scenario=%{customdata[0]}<extra></extra>",
         "legendgroup": "OECD, MESSAGEix-GLOBIOM_1.1",
         "line": {
          "color": "#EF553B",
          "dash": "dashdot"
         },
         "marker": {
          "symbol": "circle"
         },
         "mode": "lines",
         "name": "OECD, MESSAGEix-GLOBIOM_1.1",
         "showlegend": false,
         "type": "scattergl",
         "x": [
          1990,
          1995,
          2000,
          2005,
          2010,
          2015,
          2020,
          2025,
          2030,
          2035,
          2040,
          2045,
          2050,
          2055,
          2060,
          2070,
          2080,
          2090,
          2100,
          2110
         ],
         "xaxis": "x5",
         "y": [
          13410.454668333334,
          13811.994669333333,
          14319.145588333333,
          14985.560541666668,
          13860.313440333333,
          13064.650746233332,
          12705.823091100989,
          10492.0569422285,
          8669.38089638187,
          6608.50210932902,
          4786.881909313291,
          3037.89684787316,
          1756.0472652611825,
          808.3613507744201,
          -18.56745473366894,
          -1723.6280256588689,
          -2846.053858458612,
          -3240.463981891091,
          -3811.732657240325,
          -3944.607428501341
         ],
         "yaxis": "y5"
        },
        {
         "customdata": [
          [
           "T34_1000_govem",
           "MESSAGEix-GLOBIOM_1.1"
          ],
          [
           "T34_1000_govem",
           "MESSAGEix-GLOBIOM_1.1"
          ],
          [
           "T34_1000_govem",
           "MESSAGEix-GLOBIOM_1.1"
          ],
          [
           "T34_1000_govem",
           "MESSAGEix-GLOBIOM_1.1"
          ],
          [
           "T34_1000_govem",
           "MESSAGEix-GLOBIOM_1.1"
          ],
          [
           "T34_1000_govem",
           "MESSAGEix-GLOBIOM_1.1"
          ],
          [
           "T34_1000_govem",
           "MESSAGEix-GLOBIOM_1.1"
          ],
          [
           "T34_1000_govem",
           "MESSAGEix-GLOBIOM_1.1"
          ],
          [
           "T34_1000_govem",
           "MESSAGEix-GLOBIOM_1.1"
          ],
          [
           "T34_1000_govem",
           "MESSAGEix-GLOBIOM_1.1"
          ],
          [
           "T34_1000_govem",
           "MESSAGEix-GLOBIOM_1.1"
          ],
          [
           "T34_1000_govem",
           "MESSAGEix-GLOBIOM_1.1"
          ],
          [
           "T34_1000_govem",
           "MESSAGEix-GLOBIOM_1.1"
          ],
          [
           "T34_1000_govem",
           "MESSAGEix-GLOBIOM_1.1"
          ],
          [
           "T34_1000_govem",
           "MESSAGEix-GLOBIOM_1.1"
          ],
          [
           "T34_1000_govem",
           "MESSAGEix-GLOBIOM_1.1"
          ],
          [
           "T34_1000_govem",
           "MESSAGEix-GLOBIOM_1.1"
          ],
          [
           "T34_1000_govem",
           "MESSAGEix-GLOBIOM_1.1"
          ],
          [
           "T34_1000_govem",
           "MESSAGEix-GLOBIOM_1.1"
          ],
          [
           "T34_1000_govem",
           "MESSAGEix-GLOBIOM_1.1"
          ]
         ],
         "hovertemplate": "region=OECD<br>model=%{customdata[1]}<br>scenario_narrative=Instit<br>year=%{x}<br>Emissions|Kyoto Gases=%{y}<br>scenario=%{customdata[0]}<extra></extra>",
         "legendgroup": "OECD, MESSAGEix-GLOBIOM_1.1",
         "line": {
          "color": "#EF553B",
          "dash": "dashdot"
         },
         "marker": {
          "symbol": "circle"
         },
         "mode": "lines",
         "name": "OECD, MESSAGEix-GLOBIOM_1.1",
         "showlegend": false,
         "type": "scattergl",
         "x": [
          1990,
          1995,
          2000,
          2005,
          2010,
          2015,
          2020,
          2025,
          2030,
          2035,
          2040,
          2045,
          2050,
          2055,
          2060,
          2070,
          2080,
          2090,
          2100,
          2110
         ],
         "xaxis": "x6",
         "y": [
          13410.454668333334,
          13811.994669333333,
          14319.145588333333,
          14985.560541666668,
          13860.313440333333,
          13064.650746233332,
          12705.823091100989,
          10492.0569422285,
          7550.571078436915,
          5332.673454647835,
          3594.681324835438,
          2167.131311929425,
          1191.7654827252204,
          486.52098879124526,
          -220.85471944269503,
          -2123.0481762003424,
          -4722.005349464405,
          -5664.530039050449,
          -6112.7138436245405,
          -6009.994705869812
         ],
         "yaxis": "y6"
        },
        {
         "customdata": [
          [
           "T34_1000_ref",
           "MESSAGEix-GLOBIOM_1.1"
          ],
          [
           "T34_1000_ref",
           "MESSAGEix-GLOBIOM_1.1"
          ],
          [
           "T34_1000_ref",
           "MESSAGEix-GLOBIOM_1.1"
          ],
          [
           "T34_1000_ref",
           "MESSAGEix-GLOBIOM_1.1"
          ],
          [
           "T34_1000_ref",
           "MESSAGEix-GLOBIOM_1.1"
          ],
          [
           "T34_1000_ref",
           "MESSAGEix-GLOBIOM_1.1"
          ],
          [
           "T34_1000_ref",
           "MESSAGEix-GLOBIOM_1.1"
          ],
          [
           "T34_1000_ref",
           "MESSAGEix-GLOBIOM_1.1"
          ],
          [
           "T34_1000_ref",
           "MESSAGEix-GLOBIOM_1.1"
          ],
          [
           "T34_1000_ref",
           "MESSAGEix-GLOBIOM_1.1"
          ],
          [
           "T34_1000_ref",
           "MESSAGEix-GLOBIOM_1.1"
          ],
          [
           "T34_1000_ref",
           "MESSAGEix-GLOBIOM_1.1"
          ],
          [
           "T34_1000_ref",
           "MESSAGEix-GLOBIOM_1.1"
          ],
          [
           "T34_1000_ref",
           "MESSAGEix-GLOBIOM_1.1"
          ],
          [
           "T34_1000_ref",
           "MESSAGEix-GLOBIOM_1.1"
          ],
          [
           "T34_1000_ref",
           "MESSAGEix-GLOBIOM_1.1"
          ],
          [
           "T34_1000_ref",
           "MESSAGEix-GLOBIOM_1.1"
          ],
          [
           "T34_1000_ref",
           "MESSAGEix-GLOBIOM_1.1"
          ],
          [
           "T34_1000_ref",
           "MESSAGEix-GLOBIOM_1.1"
          ],
          [
           "T34_1000_ref",
           "MESSAGEix-GLOBIOM_1.1"
          ]
         ],
         "hovertemplate": "region=OECD<br>model=%{customdata[1]}<br>scenario_narrative=Cost Effective<br>year=%{x}<br>Emissions|Kyoto Gases=%{y}<br>scenario=%{customdata[0]}<extra></extra>",
         "legendgroup": "OECD, MESSAGEix-GLOBIOM_1.1",
         "line": {
          "color": "#EF553B",
          "dash": "dashdot"
         },
         "marker": {
          "symbol": "circle"
         },
         "mode": "lines",
         "name": "OECD, MESSAGEix-GLOBIOM_1.1",
         "showlegend": false,
         "type": "scattergl",
         "x": [
          1990,
          1995,
          2000,
          2005,
          2010,
          2015,
          2020,
          2025,
          2030,
          2035,
          2040,
          2045,
          2050,
          2055,
          2060,
          2070,
          2080,
          2090,
          2100,
          2110
         ],
         "xaxis": "x",
         "y": [
          13410.454668333334,
          13811.994669333333,
          14319.145588333333,
          14985.560541666668,
          13860.313440333333,
          13064.650746233332,
          12705.823091100989,
          10492.0569422285,
          9331.486420997913,
          8330.40012150618,
          7002.362877371632,
          5322.4624574061,
          3920.05358761145,
          2621.10700950327,
          1932.8509893410903,
          605.9687717014126,
          690.8294851332586,
          991.5127847205715,
          970.4021512632797,
          894.0143656326928
         ],
         "yaxis": "y"
        },
        {
         "customdata": [
          [
           "T34_1000_bitb_ref",
           "MESSAGEix-GLOBIOM_1.1"
          ],
          [
           "T34_1000_bitb_ref",
           "MESSAGEix-GLOBIOM_1.1"
          ],
          [
           "T34_1000_bitb_ref",
           "MESSAGEix-GLOBIOM_1.1"
          ],
          [
           "T34_1000_bitb_ref",
           "MESSAGEix-GLOBIOM_1.1"
          ],
          [
           "T34_1000_bitb_ref",
           "MESSAGEix-GLOBIOM_1.1"
          ],
          [
           "T34_1000_bitb_ref",
           "MESSAGEix-GLOBIOM_1.1"
          ],
          [
           "T34_1000_bitb_ref",
           "MESSAGEix-GLOBIOM_1.1"
          ],
          [
           "T34_1000_bitb_ref",
           "MESSAGEix-GLOBIOM_1.1"
          ],
          [
           "T34_1000_bitb_ref",
           "MESSAGEix-GLOBIOM_1.1"
          ],
          [
           "T34_1000_bitb_ref",
           "MESSAGEix-GLOBIOM_1.1"
          ],
          [
           "T34_1000_bitb_ref",
           "MESSAGEix-GLOBIOM_1.1"
          ],
          [
           "T34_1000_bitb_ref",
           "MESSAGEix-GLOBIOM_1.1"
          ],
          [
           "T34_1000_bitb_ref",
           "MESSAGEix-GLOBIOM_1.1"
          ],
          [
           "T34_1000_bitb_ref",
           "MESSAGEix-GLOBIOM_1.1"
          ],
          [
           "T34_1000_bitb_ref",
           "MESSAGEix-GLOBIOM_1.1"
          ],
          [
           "T34_1000_bitb_ref",
           "MESSAGEix-GLOBIOM_1.1"
          ],
          [
           "T34_1000_bitb_ref",
           "MESSAGEix-GLOBIOM_1.1"
          ],
          [
           "T34_1000_bitb_ref",
           "MESSAGEix-GLOBIOM_1.1"
          ],
          [
           "T34_1000_bitb_ref",
           "MESSAGEix-GLOBIOM_1.1"
          ],
          [
           "T34_1000_bitb_ref",
           "MESSAGEix-GLOBIOM_1.1"
          ]
         ],
         "hovertemplate": "region=OECD<br>model=%{customdata[1]}<br>scenario_narrative=Tech<br>year=%{x}<br>Emissions|Kyoto Gases=%{y}<br>scenario=%{customdata[0]}<extra></extra>",
         "legendgroup": "OECD, MESSAGEix-GLOBIOM_1.1",
         "line": {
          "color": "#EF553B",
          "dash": "dashdot"
         },
         "marker": {
          "symbol": "circle"
         },
         "mode": "lines",
         "name": "OECD, MESSAGEix-GLOBIOM_1.1",
         "showlegend": false,
         "type": "scattergl",
         "x": [
          1990,
          1995,
          2000,
          2005,
          2010,
          2015,
          2020,
          2025,
          2030,
          2035,
          2040,
          2045,
          2050,
          2055,
          2060,
          2070,
          2080,
          2090,
          2100,
          2110
         ],
         "xaxis": "x2",
         "y": [
          13410.454668333334,
          13811.994669333333,
          14319.145588333333,
          14985.560541666668,
          13860.313440333333,
          13064.650746233332,
          12705.823091100989,
          10492.0569422285,
          9282.202949026545,
          8314.5921397594,
          6966.108112487107,
          5255.330611911965,
          3809.4556779441955,
          2620.2071176689196,
          2035.8903120477835,
          594.5577253518818,
          848.392174422557,
          1036.1967267984396,
          1048.2308332574207,
          1019.5681865405288
         ],
         "yaxis": "y2"
        },
        {
         "customdata": [
          [
           "T34_1000_enab_em",
           "MESSAGEix-GLOBIOM_1.1"
          ],
          [
           "T34_1000_enab_em",
           "MESSAGEix-GLOBIOM_1.1"
          ],
          [
           "T34_1000_enab_em",
           "MESSAGEix-GLOBIOM_1.1"
          ],
          [
           "T34_1000_enab_em",
           "MESSAGEix-GLOBIOM_1.1"
          ],
          [
           "T34_1000_enab_em",
           "MESSAGEix-GLOBIOM_1.1"
          ],
          [
           "T34_1000_enab_em",
           "MESSAGEix-GLOBIOM_1.1"
          ],
          [
           "T34_1000_enab_em",
           "MESSAGEix-GLOBIOM_1.1"
          ],
          [
           "T34_1000_enab_em",
           "MESSAGEix-GLOBIOM_1.1"
          ],
          [
           "T34_1000_enab_em",
           "MESSAGEix-GLOBIOM_1.1"
          ],
          [
           "T34_1000_enab_em",
           "MESSAGEix-GLOBIOM_1.1"
          ],
          [
           "T34_1000_enab_em",
           "MESSAGEix-GLOBIOM_1.1"
          ],
          [
           "T34_1000_enab_em",
           "MESSAGEix-GLOBIOM_1.1"
          ],
          [
           "T34_1000_enab_em",
           "MESSAGEix-GLOBIOM_1.1"
          ],
          [
           "T34_1000_enab_em",
           "MESSAGEix-GLOBIOM_1.1"
          ],
          [
           "T34_1000_enab_em",
           "MESSAGEix-GLOBIOM_1.1"
          ],
          [
           "T34_1000_enab_em",
           "MESSAGEix-GLOBIOM_1.1"
          ],
          [
           "T34_1000_enab_em",
           "MESSAGEix-GLOBIOM_1.1"
          ],
          [
           "T34_1000_enab_em",
           "MESSAGEix-GLOBIOM_1.1"
          ],
          [
           "T34_1000_enab_em",
           "MESSAGEix-GLOBIOM_1.1"
          ],
          [
           "T34_1000_enab_em",
           "MESSAGEix-GLOBIOM_1.1"
          ]
         ],
         "hovertemplate": "region=OECD<br>model=%{customdata[1]}<br>scenario_narrative=Inst+Enab<br>year=%{x}<br>Emissions|Kyoto Gases=%{y}<br>scenario=%{customdata[0]}<extra></extra>",
         "legendgroup": "OECD, MESSAGEix-GLOBIOM_1.1",
         "line": {
          "color": "#EF553B",
          "dash": "dashdot"
         },
         "marker": {
          "symbol": "circle"
         },
         "mode": "lines",
         "name": "OECD, MESSAGEix-GLOBIOM_1.1",
         "showlegend": false,
         "type": "scattergl",
         "x": [
          1990,
          1995,
          2000,
          2005,
          2010,
          2015,
          2020,
          2025,
          2030,
          2035,
          2040,
          2045,
          2050,
          2055,
          2060,
          2070,
          2080,
          2090,
          2100,
          2110
         ],
         "xaxis": "x3",
         "y": [
          13410.454668333334,
          13811.994669333333,
          14319.145588333333,
          14985.560541666668,
          13860.313440333333,
          13064.650746233332,
          12705.823091100989,
          10492.0569422285,
          8595.247668595777,
          6551.132228646628,
          4742.376207846299,
          3000.27350292318,
          1758.64060476949,
          803.5264484555375,
          -26.219233690622133,
          -1728.0116280726106,
          -2842.194358262943,
          -3223.939544260465,
          -3916.5445838542587,
          -4012.908836258913
         ],
         "yaxis": "y3"
        },
        {
         "customdata": [
          [
           "T34_1000_bitb_em",
           "POLES ENGAGE"
          ],
          [
           "T34_1000_bitb_em",
           "POLES ENGAGE"
          ],
          [
           "T34_1000_bitb_em",
           "POLES ENGAGE"
          ],
          [
           "T34_1000_bitb_em",
           "POLES ENGAGE"
          ],
          [
           "T34_1000_bitb_em",
           "POLES ENGAGE"
          ],
          [
           "T34_1000_bitb_em",
           "POLES ENGAGE"
          ],
          [
           "T34_1000_bitb_em",
           "POLES ENGAGE"
          ],
          [
           "T34_1000_bitb_em",
           "POLES ENGAGE"
          ],
          [
           "T34_1000_bitb_em",
           "POLES ENGAGE"
          ],
          [
           "T34_1000_bitb_em",
           "POLES ENGAGE"
          ],
          [
           "T34_1000_bitb_em",
           "POLES ENGAGE"
          ],
          [
           "T34_1000_bitb_em",
           "POLES ENGAGE"
          ],
          [
           "T34_1000_bitb_em",
           "POLES ENGAGE"
          ],
          [
           "T34_1000_bitb_em",
           "POLES ENGAGE"
          ],
          [
           "T34_1000_bitb_em",
           "POLES ENGAGE"
          ]
         ],
         "hovertemplate": "region=OECD<br>model=%{customdata[1]}<br>scenario_narrative=Tech+Inst<br>year=%{x}<br>Emissions|Kyoto Gases=%{y}<br>scenario=%{customdata[0]}<extra></extra>",
         "legendgroup": "OECD, POLES ENGAGE",
         "line": {
          "color": "#EF553B",
          "dash": "longdashdot"
         },
         "marker": {
          "symbol": "circle"
         },
         "mode": "lines",
         "name": "OECD, POLES ENGAGE",
         "showlegend": true,
         "type": "scattergl",
         "x": [
          2005,
          2010,
          2015,
          2020,
          2025,
          2030,
          2035,
          2040,
          2045,
          2050,
          2060,
          2070,
          2080,
          2090,
          2100
         ],
         "xaxis": "x4",
         "y": [
          12577.30078125,
          12186.89013671875,
          11558.91259765625,
          10327.32275390625,
          9208.92529296875,
          6027.581787109375,
          4273.866455078125,
          2522.1785888671875,
          1362.6516723632812,
          961.2648315429688,
          -381.98179626464844,
          -1123.4878234863281,
          -956.1220703125,
          -1143.97998046875,
          -1242.3087768554688
         ],
         "yaxis": "y4"
        },
        {
         "customdata": [
          [
           "T34_1000_feas_em",
           "POLES ENGAGE"
          ],
          [
           "T34_1000_feas_em",
           "POLES ENGAGE"
          ],
          [
           "T34_1000_feas_em",
           "POLES ENGAGE"
          ],
          [
           "T34_1000_feas_em",
           "POLES ENGAGE"
          ],
          [
           "T34_1000_feas_em",
           "POLES ENGAGE"
          ],
          [
           "T34_1000_feas_em",
           "POLES ENGAGE"
          ],
          [
           "T34_1000_feas_em",
           "POLES ENGAGE"
          ],
          [
           "T34_1000_feas_em",
           "POLES ENGAGE"
          ],
          [
           "T34_1000_feas_em",
           "POLES ENGAGE"
          ],
          [
           "T34_1000_feas_em",
           "POLES ENGAGE"
          ],
          [
           "T34_1000_feas_em",
           "POLES ENGAGE"
          ],
          [
           "T34_1000_feas_em",
           "POLES ENGAGE"
          ],
          [
           "T34_1000_feas_em",
           "POLES ENGAGE"
          ],
          [
           "T34_1000_feas_em",
           "POLES ENGAGE"
          ],
          [
           "T34_1000_feas_em",
           "POLES ENGAGE"
          ]
         ],
         "hovertemplate": "region=OECD<br>model=%{customdata[1]}<br>scenario_narrative=Tech+Inst+Enab<br>year=%{x}<br>Emissions|Kyoto Gases=%{y}<br>scenario=%{customdata[0]}<extra></extra>",
         "legendgroup": "OECD, POLES ENGAGE",
         "line": {
          "color": "#EF553B",
          "dash": "longdashdot"
         },
         "marker": {
          "symbol": "circle"
         },
         "mode": "lines",
         "name": "OECD, POLES ENGAGE",
         "showlegend": false,
         "type": "scattergl",
         "x": [
          2005,
          2010,
          2015,
          2020,
          2025,
          2030,
          2035,
          2040,
          2045,
          2050,
          2060,
          2070,
          2080,
          2090,
          2100
         ],
         "xaxis": "x5",
         "y": [
          12577.30078125,
          12186.89013671875,
          11558.91259765625,
          10327.32275390625,
          8821.9326171875,
          5237.232421875,
          3565.9820556640625,
          2460.9635009765625,
          1484.2122802734375,
          961.7668762207031,
          -240.6640911102295,
          -1021.915771484375,
          -1370.8107147216797,
          -424.5795440673828,
          1662.6966552734375
         ],
         "yaxis": "y5"
        },
        {
         "customdata": [
          [
           "T34_1000_govem",
           "POLES ENGAGE"
          ],
          [
           "T34_1000_govem",
           "POLES ENGAGE"
          ],
          [
           "T34_1000_govem",
           "POLES ENGAGE"
          ],
          [
           "T34_1000_govem",
           "POLES ENGAGE"
          ],
          [
           "T34_1000_govem",
           "POLES ENGAGE"
          ],
          [
           "T34_1000_govem",
           "POLES ENGAGE"
          ],
          [
           "T34_1000_govem",
           "POLES ENGAGE"
          ],
          [
           "T34_1000_govem",
           "POLES ENGAGE"
          ],
          [
           "T34_1000_govem",
           "POLES ENGAGE"
          ],
          [
           "T34_1000_govem",
           "POLES ENGAGE"
          ],
          [
           "T34_1000_govem",
           "POLES ENGAGE"
          ],
          [
           "T34_1000_govem",
           "POLES ENGAGE"
          ],
          [
           "T34_1000_govem",
           "POLES ENGAGE"
          ],
          [
           "T34_1000_govem",
           "POLES ENGAGE"
          ],
          [
           "T34_1000_govem",
           "POLES ENGAGE"
          ]
         ],
         "hovertemplate": "region=OECD<br>model=%{customdata[1]}<br>scenario_narrative=Instit<br>year=%{x}<br>Emissions|Kyoto Gases=%{y}<br>scenario=%{customdata[0]}<extra></extra>",
         "legendgroup": "OECD, POLES ENGAGE",
         "line": {
          "color": "#EF553B",
          "dash": "longdashdot"
         },
         "marker": {
          "symbol": "circle"
         },
         "mode": "lines",
         "name": "OECD, POLES ENGAGE",
         "showlegend": false,
         "type": "scattergl",
         "x": [
          2005,
          2010,
          2015,
          2020,
          2025,
          2030,
          2035,
          2040,
          2045,
          2050,
          2060,
          2070,
          2080,
          2090,
          2100
         ],
         "xaxis": "x6",
         "y": [
          12577.30078125,
          12186.89013671875,
          11558.91259765625,
          10327.322265625,
          9186.759765625,
          6031.661376953125,
          4291.333251953125,
          2712.2586669921875,
          1513.0075073242188,
          1000.0426330566406,
          -259.668212890625,
          -1163.9729309082031,
          -1686.5599975585938,
          -287.1644592285156,
          2532.0765380859375
         ],
         "yaxis": "y6"
        },
        {
         "customdata": [
          [
           "T34_1000_ref",
           "POLES ENGAGE"
          ],
          [
           "T34_1000_ref",
           "POLES ENGAGE"
          ],
          [
           "T34_1000_ref",
           "POLES ENGAGE"
          ],
          [
           "T34_1000_ref",
           "POLES ENGAGE"
          ],
          [
           "T34_1000_ref",
           "POLES ENGAGE"
          ],
          [
           "T34_1000_ref",
           "POLES ENGAGE"
          ],
          [
           "T34_1000_ref",
           "POLES ENGAGE"
          ],
          [
           "T34_1000_ref",
           "POLES ENGAGE"
          ],
          [
           "T34_1000_ref",
           "POLES ENGAGE"
          ],
          [
           "T34_1000_ref",
           "POLES ENGAGE"
          ],
          [
           "T34_1000_ref",
           "POLES ENGAGE"
          ],
          [
           "T34_1000_ref",
           "POLES ENGAGE"
          ],
          [
           "T34_1000_ref",
           "POLES ENGAGE"
          ],
          [
           "T34_1000_ref",
           "POLES ENGAGE"
          ],
          [
           "T34_1000_ref",
           "POLES ENGAGE"
          ]
         ],
         "hovertemplate": "region=OECD<br>model=%{customdata[1]}<br>scenario_narrative=Cost Effective<br>year=%{x}<br>Emissions|Kyoto Gases=%{y}<br>scenario=%{customdata[0]}<extra></extra>",
         "legendgroup": "OECD, POLES ENGAGE",
         "line": {
          "color": "#EF553B",
          "dash": "longdashdot"
         },
         "marker": {
          "symbol": "circle"
         },
         "mode": "lines",
         "name": "OECD, POLES ENGAGE",
         "showlegend": false,
         "type": "scattergl",
         "x": [
          2005,
          2010,
          2015,
          2020,
          2025,
          2030,
          2035,
          2040,
          2045,
          2050,
          2060,
          2070,
          2080,
          2090,
          2100
         ],
         "xaxis": "x",
         "y": [
          12577.30078125,
          12186.89013671875,
          11558.91259765625,
          10327.32275390625,
          9535.41357421875,
          6916.20849609375,
          5330.8109130859375,
          3780.41748046875,
          2422.8079223632812,
          1768.5654907226562,
          949.2096557617188,
          664.916259765625,
          582.2613220214844,
          443.7300224304199,
          339.02262115478516
         ],
         "yaxis": "y"
        },
        {
         "customdata": [
          [
           "T34_1000_bitb_ref",
           "POLES ENGAGE"
          ],
          [
           "T34_1000_bitb_ref",
           "POLES ENGAGE"
          ],
          [
           "T34_1000_bitb_ref",
           "POLES ENGAGE"
          ],
          [
           "T34_1000_bitb_ref",
           "POLES ENGAGE"
          ],
          [
           "T34_1000_bitb_ref",
           "POLES ENGAGE"
          ],
          [
           "T34_1000_bitb_ref",
           "POLES ENGAGE"
          ],
          [
           "T34_1000_bitb_ref",
           "POLES ENGAGE"
          ],
          [
           "T34_1000_bitb_ref",
           "POLES ENGAGE"
          ],
          [
           "T34_1000_bitb_ref",
           "POLES ENGAGE"
          ],
          [
           "T34_1000_bitb_ref",
           "POLES ENGAGE"
          ],
          [
           "T34_1000_bitb_ref",
           "POLES ENGAGE"
          ],
          [
           "T34_1000_bitb_ref",
           "POLES ENGAGE"
          ],
          [
           "T34_1000_bitb_ref",
           "POLES ENGAGE"
          ],
          [
           "T34_1000_bitb_ref",
           "POLES ENGAGE"
          ],
          [
           "T34_1000_bitb_ref",
           "POLES ENGAGE"
          ]
         ],
         "hovertemplate": "region=OECD<br>model=%{customdata[1]}<br>scenario_narrative=Tech<br>year=%{x}<br>Emissions|Kyoto Gases=%{y}<br>scenario=%{customdata[0]}<extra></extra>",
         "legendgroup": "OECD, POLES ENGAGE",
         "line": {
          "color": "#EF553B",
          "dash": "longdashdot"
         },
         "marker": {
          "symbol": "circle"
         },
         "mode": "lines",
         "name": "OECD, POLES ENGAGE",
         "showlegend": false,
         "type": "scattergl",
         "x": [
          2005,
          2010,
          2015,
          2020,
          2025,
          2030,
          2035,
          2040,
          2045,
          2050,
          2060,
          2070,
          2080,
          2090,
          2100
         ],
         "xaxis": "x2",
         "y": [
          12577.30078125,
          12186.89013671875,
          11558.91259765625,
          10321.404296875,
          9673.484619140625,
          7381.142578125,
          5955.5712890625,
          4674.6324462890625,
          3483.63671875,
          2796.9722900390625,
          1543.4646606445312,
          646.5064392089844,
          154.9255714416504,
          -273.096586227417,
          -716.7095031738281
         ],
         "yaxis": "y2"
        },
        {
         "customdata": [
          [
           "T34_1000_bitb_em",
           "REMIND 3.0"
          ],
          [
           "T34_1000_bitb_em",
           "REMIND 3.0"
          ],
          [
           "T34_1000_bitb_em",
           "REMIND 3.0"
          ],
          [
           "T34_1000_bitb_em",
           "REMIND 3.0"
          ],
          [
           "T34_1000_bitb_em",
           "REMIND 3.0"
          ],
          [
           "T34_1000_bitb_em",
           "REMIND 3.0"
          ],
          [
           "T34_1000_bitb_em",
           "REMIND 3.0"
          ],
          [
           "T34_1000_bitb_em",
           "REMIND 3.0"
          ],
          [
           "T34_1000_bitb_em",
           "REMIND 3.0"
          ],
          [
           "T34_1000_bitb_em",
           "REMIND 3.0"
          ],
          [
           "T34_1000_bitb_em",
           "REMIND 3.0"
          ],
          [
           "T34_1000_bitb_em",
           "REMIND 3.0"
          ],
          [
           "T34_1000_bitb_em",
           "REMIND 3.0"
          ],
          [
           "T34_1000_bitb_em",
           "REMIND 3.0"
          ],
          [
           "T34_1000_bitb_em",
           "REMIND 3.0"
          ],
          [
           "T34_1000_bitb_em",
           "REMIND 3.0"
          ]
         ],
         "hovertemplate": "region=OECD<br>model=%{customdata[1]}<br>scenario_narrative=Tech+Inst<br>year=%{x}<br>Emissions|Kyoto Gases=%{y}<br>scenario=%{customdata[0]}<extra></extra>",
         "legendgroup": "OECD, REMIND 3.0",
         "line": {
          "color": "#EF553B",
          "dash": "solid"
         },
         "marker": {
          "symbol": "circle"
         },
         "mode": "lines",
         "name": "OECD, REMIND 3.0",
         "showlegend": true,
         "type": "scattergl",
         "x": [
          2005,
          2010,
          2015,
          2020,
          2025,
          2030,
          2035,
          2040,
          2045,
          2050,
          2055,
          2060,
          2070,
          2080,
          2090,
          2100
         ],
         "xaxis": "x4",
         "y": [
          13072.5794726,
          11838.253859699998,
          11015.080150400001,
          10095.6317483,
          8120.6673443,
          6212.0960206,
          4382.3964255,
          2649.5678958,
          1285.000241,
          627.7953128,
          299.1206277,
          100.30587629999997,
          31.210495400000013,
          148.62897860000004,
          501.1805915,
          925.9214038
         ],
         "yaxis": "y4"
        },
        {
         "customdata": [
          [
           "T34_1000_feas_em",
           "REMIND 3.0"
          ],
          [
           "T34_1000_feas_em",
           "REMIND 3.0"
          ],
          [
           "T34_1000_feas_em",
           "REMIND 3.0"
          ],
          [
           "T34_1000_feas_em",
           "REMIND 3.0"
          ],
          [
           "T34_1000_feas_em",
           "REMIND 3.0"
          ],
          [
           "T34_1000_feas_em",
           "REMIND 3.0"
          ],
          [
           "T34_1000_feas_em",
           "REMIND 3.0"
          ],
          [
           "T34_1000_feas_em",
           "REMIND 3.0"
          ],
          [
           "T34_1000_feas_em",
           "REMIND 3.0"
          ],
          [
           "T34_1000_feas_em",
           "REMIND 3.0"
          ],
          [
           "T34_1000_feas_em",
           "REMIND 3.0"
          ],
          [
           "T34_1000_feas_em",
           "REMIND 3.0"
          ],
          [
           "T34_1000_feas_em",
           "REMIND 3.0"
          ],
          [
           "T34_1000_feas_em",
           "REMIND 3.0"
          ],
          [
           "T34_1000_feas_em",
           "REMIND 3.0"
          ],
          [
           "T34_1000_feas_em",
           "REMIND 3.0"
          ]
         ],
         "hovertemplate": "region=OECD<br>model=%{customdata[1]}<br>scenario_narrative=Tech+Inst+Enab<br>year=%{x}<br>Emissions|Kyoto Gases=%{y}<br>scenario=%{customdata[0]}<extra></extra>",
         "legendgroup": "OECD, REMIND 3.0",
         "line": {
          "color": "#EF553B",
          "dash": "solid"
         },
         "marker": {
          "symbol": "circle"
         },
         "mode": "lines",
         "name": "OECD, REMIND 3.0",
         "showlegend": false,
         "type": "scattergl",
         "x": [
          2005,
          2010,
          2015,
          2020,
          2025,
          2030,
          2035,
          2040,
          2045,
          2050,
          2055,
          2060,
          2070,
          2080,
          2090,
          2100
         ],
         "xaxis": "x5",
         "y": [
          13072.5794726,
          11838.253859699998,
          11015.080150400001,
          10095.6317483,
          8010.2311825,
          5901.5652001,
          4297.3936522,
          2855.1939864,
          1855.8949247,
          1203.474177,
          875.473225,
          626.9347744,
          402.0189009,
          362.9187892,
          427.9559053,
          856.918269
         ],
         "yaxis": "y5"
        },
        {
         "customdata": [
          [
           "T34_1000_govem",
           "REMIND 3.0"
          ],
          [
           "T34_1000_govem",
           "REMIND 3.0"
          ],
          [
           "T34_1000_govem",
           "REMIND 3.0"
          ],
          [
           "T34_1000_govem",
           "REMIND 3.0"
          ],
          [
           "T34_1000_govem",
           "REMIND 3.0"
          ],
          [
           "T34_1000_govem",
           "REMIND 3.0"
          ],
          [
           "T34_1000_govem",
           "REMIND 3.0"
          ],
          [
           "T34_1000_govem",
           "REMIND 3.0"
          ],
          [
           "T34_1000_govem",
           "REMIND 3.0"
          ],
          [
           "T34_1000_govem",
           "REMIND 3.0"
          ],
          [
           "T34_1000_govem",
           "REMIND 3.0"
          ],
          [
           "T34_1000_govem",
           "REMIND 3.0"
          ],
          [
           "T34_1000_govem",
           "REMIND 3.0"
          ],
          [
           "T34_1000_govem",
           "REMIND 3.0"
          ],
          [
           "T34_1000_govem",
           "REMIND 3.0"
          ],
          [
           "T34_1000_govem",
           "REMIND 3.0"
          ]
         ],
         "hovertemplate": "region=OECD<br>model=%{customdata[1]}<br>scenario_narrative=Instit<br>year=%{x}<br>Emissions|Kyoto Gases=%{y}<br>scenario=%{customdata[0]}<extra></extra>",
         "legendgroup": "OECD, REMIND 3.0",
         "line": {
          "color": "#EF553B",
          "dash": "solid"
         },
         "marker": {
          "symbol": "circle"
         },
         "mode": "lines",
         "name": "OECD, REMIND 3.0",
         "showlegend": false,
         "type": "scattergl",
         "x": [
          2005,
          2010,
          2015,
          2020,
          2025,
          2030,
          2035,
          2040,
          2045,
          2050,
          2055,
          2060,
          2070,
          2080,
          2090,
          2100
         ],
         "xaxis": "x6",
         "y": [
          13072.5794726,
          11838.253859699998,
          11015.080150400001,
          10095.6317483,
          8175.1711344,
          6408.3551164,
          4595.0542266,
          2843.0268547,
          1440.3510557,
          611.6495829,
          148.7396673,
          -274.09037550000005,
          -469.2466174,
          -221.3741415,
          267.9103566,
          929.5395358999999
         ],
         "yaxis": "y6"
        },
        {
         "customdata": [
          [
           "T34_1000_ref",
           "REMIND 3.0"
          ],
          [
           "T34_1000_ref",
           "REMIND 3.0"
          ],
          [
           "T34_1000_ref",
           "REMIND 3.0"
          ],
          [
           "T34_1000_ref",
           "REMIND 3.0"
          ],
          [
           "T34_1000_ref",
           "REMIND 3.0"
          ],
          [
           "T34_1000_ref",
           "REMIND 3.0"
          ],
          [
           "T34_1000_ref",
           "REMIND 3.0"
          ],
          [
           "T34_1000_ref",
           "REMIND 3.0"
          ],
          [
           "T34_1000_ref",
           "REMIND 3.0"
          ],
          [
           "T34_1000_ref",
           "REMIND 3.0"
          ],
          [
           "T34_1000_ref",
           "REMIND 3.0"
          ],
          [
           "T34_1000_ref",
           "REMIND 3.0"
          ],
          [
           "T34_1000_ref",
           "REMIND 3.0"
          ],
          [
           "T34_1000_ref",
           "REMIND 3.0"
          ],
          [
           "T34_1000_ref",
           "REMIND 3.0"
          ],
          [
           "T34_1000_ref",
           "REMIND 3.0"
          ]
         ],
         "hovertemplate": "region=OECD<br>model=%{customdata[1]}<br>scenario_narrative=Cost Effective<br>year=%{x}<br>Emissions|Kyoto Gases=%{y}<br>scenario=%{customdata[0]}<extra></extra>",
         "legendgroup": "OECD, REMIND 3.0",
         "line": {
          "color": "#EF553B",
          "dash": "solid"
         },
         "marker": {
          "symbol": "circle"
         },
         "mode": "lines",
         "name": "OECD, REMIND 3.0",
         "showlegend": false,
         "type": "scattergl",
         "x": [
          2005,
          2010,
          2015,
          2020,
          2025,
          2030,
          2035,
          2040,
          2045,
          2050,
          2055,
          2060,
          2070,
          2080,
          2090,
          2100
         ],
         "xaxis": "x",
         "y": [
          13072.5794726,
          11838.253859699998,
          11015.080150400001,
          10095.6317483,
          8402.6840929,
          7024.6427556,
          5465.3812516,
          3785.1422181,
          2477.4680567,
          1671.1081060000001,
          1244.2301648,
          775.9948133,
          579.2154006000001,
          659.6087411,
          775.9395208000001,
          771.5233891
         ],
         "yaxis": "y"
        },
        {
         "customdata": [
          [
           "T34_1000_bitb_ref",
           "REMIND 3.0"
          ],
          [
           "T34_1000_bitb_ref",
           "REMIND 3.0"
          ],
          [
           "T34_1000_bitb_ref",
           "REMIND 3.0"
          ],
          [
           "T34_1000_bitb_ref",
           "REMIND 3.0"
          ],
          [
           "T34_1000_bitb_ref",
           "REMIND 3.0"
          ],
          [
           "T34_1000_bitb_ref",
           "REMIND 3.0"
          ],
          [
           "T34_1000_bitb_ref",
           "REMIND 3.0"
          ],
          [
           "T34_1000_bitb_ref",
           "REMIND 3.0"
          ],
          [
           "T34_1000_bitb_ref",
           "REMIND 3.0"
          ],
          [
           "T34_1000_bitb_ref",
           "REMIND 3.0"
          ],
          [
           "T34_1000_bitb_ref",
           "REMIND 3.0"
          ],
          [
           "T34_1000_bitb_ref",
           "REMIND 3.0"
          ],
          [
           "T34_1000_bitb_ref",
           "REMIND 3.0"
          ],
          [
           "T34_1000_bitb_ref",
           "REMIND 3.0"
          ],
          [
           "T34_1000_bitb_ref",
           "REMIND 3.0"
          ],
          [
           "T34_1000_bitb_ref",
           "REMIND 3.0"
          ]
         ],
         "hovertemplate": "region=OECD<br>model=%{customdata[1]}<br>scenario_narrative=Tech<br>year=%{x}<br>Emissions|Kyoto Gases=%{y}<br>scenario=%{customdata[0]}<extra></extra>",
         "legendgroup": "OECD, REMIND 3.0",
         "line": {
          "color": "#EF553B",
          "dash": "solid"
         },
         "marker": {
          "symbol": "circle"
         },
         "mode": "lines",
         "name": "OECD, REMIND 3.0",
         "showlegend": false,
         "type": "scattergl",
         "x": [
          2005,
          2010,
          2015,
          2020,
          2025,
          2030,
          2035,
          2040,
          2045,
          2050,
          2055,
          2060,
          2070,
          2080,
          2090,
          2100
         ],
         "xaxis": "x2",
         "y": [
          13072.5794726,
          11838.253859699998,
          11015.080150400001,
          10095.6317483,
          8375.1897689,
          6857.1979682,
          5221.5788433,
          3685.6245054,
          2341.7569788,
          1551.9045918,
          1209.1139173,
          940.6291651,
          739.3450115999999,
          680.6623744999999,
          750.2956025999999,
          736.854664
         ],
         "yaxis": "y2"
        },
        {
         "customdata": [
          [
           "T34_1000_enab_em",
           "REMIND 3.0"
          ],
          [
           "T34_1000_enab_em",
           "REMIND 3.0"
          ],
          [
           "T34_1000_enab_em",
           "REMIND 3.0"
          ],
          [
           "T34_1000_enab_em",
           "REMIND 3.0"
          ],
          [
           "T34_1000_enab_em",
           "REMIND 3.0"
          ],
          [
           "T34_1000_enab_em",
           "REMIND 3.0"
          ],
          [
           "T34_1000_enab_em",
           "REMIND 3.0"
          ],
          [
           "T34_1000_enab_em",
           "REMIND 3.0"
          ],
          [
           "T34_1000_enab_em",
           "REMIND 3.0"
          ],
          [
           "T34_1000_enab_em",
           "REMIND 3.0"
          ],
          [
           "T34_1000_enab_em",
           "REMIND 3.0"
          ],
          [
           "T34_1000_enab_em",
           "REMIND 3.0"
          ],
          [
           "T34_1000_enab_em",
           "REMIND 3.0"
          ],
          [
           "T34_1000_enab_em",
           "REMIND 3.0"
          ],
          [
           "T34_1000_enab_em",
           "REMIND 3.0"
          ],
          [
           "T34_1000_enab_em",
           "REMIND 3.0"
          ]
         ],
         "hovertemplate": "region=OECD<br>model=%{customdata[1]}<br>scenario_narrative=Inst+Enab<br>year=%{x}<br>Emissions|Kyoto Gases=%{y}<br>scenario=%{customdata[0]}<extra></extra>",
         "legendgroup": "OECD, REMIND 3.0",
         "line": {
          "color": "#EF553B",
          "dash": "solid"
         },
         "marker": {
          "symbol": "circle"
         },
         "mode": "lines",
         "name": "OECD, REMIND 3.0",
         "showlegend": false,
         "type": "scattergl",
         "x": [
          2005,
          2010,
          2015,
          2020,
          2025,
          2030,
          2035,
          2040,
          2045,
          2050,
          2055,
          2060,
          2070,
          2080,
          2090,
          2100
         ],
         "xaxis": "x3",
         "y": [
          13072.5794726,
          11838.253859699998,
          11015.080150400001,
          10095.6317483,
          8020.7776732,
          5969.1495643,
          4403.6501834,
          2891.0417483,
          1887.483249,
          1221.1075336,
          863.4332231000001,
          559.6397365,
          282.4534951,
          301.1703836,
          520.2313243,
          865.9615852
         ],
         "yaxis": "y3"
        },
        {
         "customdata": [
          [
           "T34_1000_bitb_em",
           "WITCH 5.0"
          ],
          [
           "T34_1000_bitb_em",
           "WITCH 5.0"
          ],
          [
           "T34_1000_bitb_em",
           "WITCH 5.0"
          ],
          [
           "T34_1000_bitb_em",
           "WITCH 5.0"
          ],
          [
           "T34_1000_bitb_em",
           "WITCH 5.0"
          ],
          [
           "T34_1000_bitb_em",
           "WITCH 5.0"
          ],
          [
           "T34_1000_bitb_em",
           "WITCH 5.0"
          ],
          [
           "T34_1000_bitb_em",
           "WITCH 5.0"
          ],
          [
           "T34_1000_bitb_em",
           "WITCH 5.0"
          ],
          [
           "T34_1000_bitb_em",
           "WITCH 5.0"
          ],
          [
           "T34_1000_bitb_em",
           "WITCH 5.0"
          ],
          [
           "T34_1000_bitb_em",
           "WITCH 5.0"
          ],
          [
           "T34_1000_bitb_em",
           "WITCH 5.0"
          ],
          [
           "T34_1000_bitb_em",
           "WITCH 5.0"
          ],
          [
           "T34_1000_bitb_em",
           "WITCH 5.0"
          ],
          [
           "T34_1000_bitb_em",
           "WITCH 5.0"
          ],
          [
           "T34_1000_bitb_em",
           "WITCH 5.0"
          ],
          [
           "T34_1000_bitb_em",
           "WITCH 5.0"
          ],
          [
           "T34_1000_bitb_em",
           "WITCH 5.0"
          ],
          [
           "T34_1000_bitb_em",
           "WITCH 5.0"
          ]
         ],
         "hovertemplate": "region=OECD<br>model=%{customdata[1]}<br>scenario_narrative=Tech+Inst<br>year=%{x}<br>Emissions|Kyoto Gases=%{y}<br>scenario=%{customdata[0]}<extra></extra>",
         "legendgroup": "OECD, WITCH 5.0",
         "line": {
          "color": "#EF553B",
          "dash": "dot"
         },
         "marker": {
          "symbol": "circle"
         },
         "mode": "lines",
         "name": "OECD, WITCH 5.0",
         "showlegend": true,
         "type": "scattergl",
         "x": [
          2005,
          2010,
          2015,
          2020,
          2025,
          2030,
          2035,
          2040,
          2045,
          2050,
          2055,
          2060,
          2065,
          2070,
          2075,
          2080,
          2085,
          2090,
          2095,
          2100
         ],
         "xaxis": "x4",
         "y": [
          13116.978173398875,
          12186.424663679882,
          11669.445570228849,
          11538.087551459605,
          9199.14984576388,
          5367.384887241037,
          3475.571227458834,
          2600.495279798741,
          1858.7828096996884,
          1267.6621986227842,
          830.3992757461148,
          525.4985575456824,
          204.76936919046494,
          -86.20007891651301,
          -214.83761909775103,
          -524.958189544274,
          -408.34539815362996,
          -475.714142975065,
          -513.184886133704,
          -506.434878994032
         ],
         "yaxis": "y4"
        },
        {
         "customdata": [
          [
           "T34_1000_feas_em",
           "WITCH 5.0"
          ],
          [
           "T34_1000_feas_em",
           "WITCH 5.0"
          ],
          [
           "T34_1000_feas_em",
           "WITCH 5.0"
          ],
          [
           "T34_1000_feas_em",
           "WITCH 5.0"
          ],
          [
           "T34_1000_feas_em",
           "WITCH 5.0"
          ],
          [
           "T34_1000_feas_em",
           "WITCH 5.0"
          ],
          [
           "T34_1000_feas_em",
           "WITCH 5.0"
          ],
          [
           "T34_1000_feas_em",
           "WITCH 5.0"
          ],
          [
           "T34_1000_feas_em",
           "WITCH 5.0"
          ],
          [
           "T34_1000_feas_em",
           "WITCH 5.0"
          ],
          [
           "T34_1000_feas_em",
           "WITCH 5.0"
          ],
          [
           "T34_1000_feas_em",
           "WITCH 5.0"
          ],
          [
           "T34_1000_feas_em",
           "WITCH 5.0"
          ],
          [
           "T34_1000_feas_em",
           "WITCH 5.0"
          ],
          [
           "T34_1000_feas_em",
           "WITCH 5.0"
          ],
          [
           "T34_1000_feas_em",
           "WITCH 5.0"
          ],
          [
           "T34_1000_feas_em",
           "WITCH 5.0"
          ],
          [
           "T34_1000_feas_em",
           "WITCH 5.0"
          ],
          [
           "T34_1000_feas_em",
           "WITCH 5.0"
          ],
          [
           "T34_1000_feas_em",
           "WITCH 5.0"
          ]
         ],
         "hovertemplate": "region=OECD<br>model=%{customdata[1]}<br>scenario_narrative=Tech+Inst+Enab<br>year=%{x}<br>Emissions|Kyoto Gases=%{y}<br>scenario=%{customdata[0]}<extra></extra>",
         "legendgroup": "OECD, WITCH 5.0",
         "line": {
          "color": "#EF553B",
          "dash": "dot"
         },
         "marker": {
          "symbol": "circle"
         },
         "mode": "lines",
         "name": "OECD, WITCH 5.0",
         "showlegend": false,
         "type": "scattergl",
         "x": [
          2005,
          2010,
          2015,
          2020,
          2025,
          2030,
          2035,
          2040,
          2045,
          2050,
          2055,
          2060,
          2065,
          2070,
          2075,
          2080,
          2085,
          2090,
          2095,
          2100
         ],
         "xaxis": "x5",
         "y": [
          13116.978173398875,
          12186.424663679882,
          11669.445570228849,
          11538.087551459605,
          8297.950248079442,
          4972.368325288799,
          3150.513223721862,
          2261.37214711828,
          1575.0921593524172,
          949.4287593997689,
          613.5814785838925,
          333.49786499690856,
          99.169920413402,
          -179.10337778588303,
          -416.108434707946,
          -654.4091312228961,
          -835.9588377057352,
          -696.6282199623399,
          -382.628974652447,
          -197.780893546558
         ],
         "yaxis": "y5"
        },
        {
         "customdata": [
          [
           "T34_1000_govem",
           "WITCH 5.0"
          ],
          [
           "T34_1000_govem",
           "WITCH 5.0"
          ],
          [
           "T34_1000_govem",
           "WITCH 5.0"
          ],
          [
           "T34_1000_govem",
           "WITCH 5.0"
          ],
          [
           "T34_1000_govem",
           "WITCH 5.0"
          ],
          [
           "T34_1000_govem",
           "WITCH 5.0"
          ],
          [
           "T34_1000_govem",
           "WITCH 5.0"
          ],
          [
           "T34_1000_govem",
           "WITCH 5.0"
          ],
          [
           "T34_1000_govem",
           "WITCH 5.0"
          ],
          [
           "T34_1000_govem",
           "WITCH 5.0"
          ],
          [
           "T34_1000_govem",
           "WITCH 5.0"
          ],
          [
           "T34_1000_govem",
           "WITCH 5.0"
          ],
          [
           "T34_1000_govem",
           "WITCH 5.0"
          ],
          [
           "T34_1000_govem",
           "WITCH 5.0"
          ],
          [
           "T34_1000_govem",
           "WITCH 5.0"
          ],
          [
           "T34_1000_govem",
           "WITCH 5.0"
          ],
          [
           "T34_1000_govem",
           "WITCH 5.0"
          ],
          [
           "T34_1000_govem",
           "WITCH 5.0"
          ],
          [
           "T34_1000_govem",
           "WITCH 5.0"
          ],
          [
           "T34_1000_govem",
           "WITCH 5.0"
          ]
         ],
         "hovertemplate": "region=OECD<br>model=%{customdata[1]}<br>scenario_narrative=Instit<br>year=%{x}<br>Emissions|Kyoto Gases=%{y}<br>scenario=%{customdata[0]}<extra></extra>",
         "legendgroup": "OECD, WITCH 5.0",
         "line": {
          "color": "#EF553B",
          "dash": "dot"
         },
         "marker": {
          "symbol": "circle"
         },
         "mode": "lines",
         "name": "OECD, WITCH 5.0",
         "showlegend": false,
         "type": "scattergl",
         "x": [
          2005,
          2010,
          2015,
          2020,
          2025,
          2030,
          2035,
          2040,
          2045,
          2050,
          2055,
          2060,
          2065,
          2070,
          2075,
          2080,
          2085,
          2090,
          2095,
          2100
         ],
         "xaxis": "x6",
         "y": [
          13116.978173398875,
          12186.424663679882,
          11669.445570228849,
          11538.087551459605,
          7336.190032120321,
          4219.4111224824255,
          3211.688420264006,
          2543.302780430661,
          1849.4923311212522,
          1189.374236423223,
          583.743695965505,
          154.0152435362081,
          -235.187583179385,
          -658.785816050796,
          -1154.9015357275732,
          -1181.3272930538285,
          -945.2872448382421,
          -206.34314522518616,
          38.666646385996955,
          -145.00455255309043
         ],
         "yaxis": "y6"
        },
        {
         "customdata": [
          [
           "T34_1000_ref",
           "WITCH 5.0"
          ],
          [
           "T34_1000_ref",
           "WITCH 5.0"
          ],
          [
           "T34_1000_ref",
           "WITCH 5.0"
          ],
          [
           "T34_1000_ref",
           "WITCH 5.0"
          ],
          [
           "T34_1000_ref",
           "WITCH 5.0"
          ],
          [
           "T34_1000_ref",
           "WITCH 5.0"
          ],
          [
           "T34_1000_ref",
           "WITCH 5.0"
          ],
          [
           "T34_1000_ref",
           "WITCH 5.0"
          ],
          [
           "T34_1000_ref",
           "WITCH 5.0"
          ],
          [
           "T34_1000_ref",
           "WITCH 5.0"
          ],
          [
           "T34_1000_ref",
           "WITCH 5.0"
          ],
          [
           "T34_1000_ref",
           "WITCH 5.0"
          ],
          [
           "T34_1000_ref",
           "WITCH 5.0"
          ],
          [
           "T34_1000_ref",
           "WITCH 5.0"
          ],
          [
           "T34_1000_ref",
           "WITCH 5.0"
          ],
          [
           "T34_1000_ref",
           "WITCH 5.0"
          ],
          [
           "T34_1000_ref",
           "WITCH 5.0"
          ],
          [
           "T34_1000_ref",
           "WITCH 5.0"
          ],
          [
           "T34_1000_ref",
           "WITCH 5.0"
          ],
          [
           "T34_1000_ref",
           "WITCH 5.0"
          ]
         ],
         "hovertemplate": "region=OECD<br>model=%{customdata[1]}<br>scenario_narrative=Cost Effective<br>year=%{x}<br>Emissions|Kyoto Gases=%{y}<br>scenario=%{customdata[0]}<extra></extra>",
         "legendgroup": "OECD, WITCH 5.0",
         "line": {
          "color": "#EF553B",
          "dash": "dot"
         },
         "marker": {
          "symbol": "circle"
         },
         "mode": "lines",
         "name": "OECD, WITCH 5.0",
         "showlegend": false,
         "type": "scattergl",
         "x": [
          2005,
          2010,
          2015,
          2020,
          2025,
          2030,
          2035,
          2040,
          2045,
          2050,
          2055,
          2060,
          2065,
          2070,
          2075,
          2080,
          2085,
          2090,
          2095,
          2100
         ],
         "xaxis": "x",
         "y": [
          13116.978173398875,
          12186.424663679882,
          11669.445570228849,
          11538.087551459605,
          8530.1588204527,
          5957.631282470609,
          4953.556679326675,
          4315.980428176295,
          3624.030998438865,
          3146.8321445445963,
          2707.039180592472,
          2119.0342200564737,
          1475.3598049999514,
          1022.318036501683,
          524.4381772755501,
          -5.212011542519235,
          -579.158416372204,
          -1142.669285776426,
          -1529.662373810076,
          -1905.1078546355038
         ],
         "yaxis": "y"
        },
        {
         "customdata": [
          [
           "T34_1000_bitb_ref",
           "WITCH 5.0"
          ],
          [
           "T34_1000_bitb_ref",
           "WITCH 5.0"
          ],
          [
           "T34_1000_bitb_ref",
           "WITCH 5.0"
          ],
          [
           "T34_1000_bitb_ref",
           "WITCH 5.0"
          ],
          [
           "T34_1000_bitb_ref",
           "WITCH 5.0"
          ],
          [
           "T34_1000_bitb_ref",
           "WITCH 5.0"
          ],
          [
           "T34_1000_bitb_ref",
           "WITCH 5.0"
          ],
          [
           "T34_1000_bitb_ref",
           "WITCH 5.0"
          ],
          [
           "T34_1000_bitb_ref",
           "WITCH 5.0"
          ],
          [
           "T34_1000_bitb_ref",
           "WITCH 5.0"
          ],
          [
           "T34_1000_bitb_ref",
           "WITCH 5.0"
          ],
          [
           "T34_1000_bitb_ref",
           "WITCH 5.0"
          ],
          [
           "T34_1000_bitb_ref",
           "WITCH 5.0"
          ],
          [
           "T34_1000_bitb_ref",
           "WITCH 5.0"
          ],
          [
           "T34_1000_bitb_ref",
           "WITCH 5.0"
          ],
          [
           "T34_1000_bitb_ref",
           "WITCH 5.0"
          ],
          [
           "T34_1000_bitb_ref",
           "WITCH 5.0"
          ],
          [
           "T34_1000_bitb_ref",
           "WITCH 5.0"
          ],
          [
           "T34_1000_bitb_ref",
           "WITCH 5.0"
          ],
          [
           "T34_1000_bitb_ref",
           "WITCH 5.0"
          ]
         ],
         "hovertemplate": "region=OECD<br>model=%{customdata[1]}<br>scenario_narrative=Tech<br>year=%{x}<br>Emissions|Kyoto Gases=%{y}<br>scenario=%{customdata[0]}<extra></extra>",
         "legendgroup": "OECD, WITCH 5.0",
         "line": {
          "color": "#EF553B",
          "dash": "dot"
         },
         "marker": {
          "symbol": "circle"
         },
         "mode": "lines",
         "name": "OECD, WITCH 5.0",
         "showlegend": false,
         "type": "scattergl",
         "x": [
          2005,
          2010,
          2015,
          2020,
          2025,
          2030,
          2035,
          2040,
          2045,
          2050,
          2055,
          2060,
          2065,
          2070,
          2075,
          2080,
          2085,
          2090,
          2095,
          2100
         ],
         "xaxis": "x2",
         "y": [
          13116.978173398875,
          12186.424663679882,
          11669.445570228849,
          11538.087551459605,
          8493.237828093574,
          5082.5856009426025,
          4730.276103159495,
          3817.5974938159943,
          3231.7531821002713,
          2596.957204316398,
          2263.198547758122,
          1885.940541590886,
          1554.1610426375955,
          1444.2007693749429,
          1225.7323575804648,
          1005.144198420868,
          754.608610307137,
          368.8916981422291,
          200.74508180010497,
          94.194680714686
         ],
         "yaxis": "y2"
        },
        {
         "customdata": [
          [
           "T34_1000_enab_em",
           "WITCH 5.0"
          ],
          [
           "T34_1000_enab_em",
           "WITCH 5.0"
          ],
          [
           "T34_1000_enab_em",
           "WITCH 5.0"
          ],
          [
           "T34_1000_enab_em",
           "WITCH 5.0"
          ],
          [
           "T34_1000_enab_em",
           "WITCH 5.0"
          ],
          [
           "T34_1000_enab_em",
           "WITCH 5.0"
          ],
          [
           "T34_1000_enab_em",
           "WITCH 5.0"
          ],
          [
           "T34_1000_enab_em",
           "WITCH 5.0"
          ],
          [
           "T34_1000_enab_em",
           "WITCH 5.0"
          ],
          [
           "T34_1000_enab_em",
           "WITCH 5.0"
          ],
          [
           "T34_1000_enab_em",
           "WITCH 5.0"
          ],
          [
           "T34_1000_enab_em",
           "WITCH 5.0"
          ],
          [
           "T34_1000_enab_em",
           "WITCH 5.0"
          ],
          [
           "T34_1000_enab_em",
           "WITCH 5.0"
          ],
          [
           "T34_1000_enab_em",
           "WITCH 5.0"
          ],
          [
           "T34_1000_enab_em",
           "WITCH 5.0"
          ],
          [
           "T34_1000_enab_em",
           "WITCH 5.0"
          ],
          [
           "T34_1000_enab_em",
           "WITCH 5.0"
          ],
          [
           "T34_1000_enab_em",
           "WITCH 5.0"
          ],
          [
           "T34_1000_enab_em",
           "WITCH 5.0"
          ]
         ],
         "hovertemplate": "region=OECD<br>model=%{customdata[1]}<br>scenario_narrative=Inst+Enab<br>year=%{x}<br>Emissions|Kyoto Gases=%{y}<br>scenario=%{customdata[0]}<extra></extra>",
         "legendgroup": "OECD, WITCH 5.0",
         "line": {
          "color": "#EF553B",
          "dash": "dot"
         },
         "marker": {
          "symbol": "circle"
         },
         "mode": "lines",
         "name": "OECD, WITCH 5.0",
         "showlegend": false,
         "type": "scattergl",
         "x": [
          2005,
          2010,
          2015,
          2020,
          2025,
          2030,
          2035,
          2040,
          2045,
          2050,
          2055,
          2060,
          2065,
          2070,
          2075,
          2080,
          2085,
          2090,
          2095,
          2100
         ],
         "xaxis": "x3",
         "y": [
          13116.978173398875,
          12186.424663679882,
          11669.445570228849,
          11538.087551459605,
          8686.152876160559,
          6573.582031373002,
          3970.781600181661,
          2855.270879541875,
          2126.508112128202,
          1535.2555985788306,
          924.4507179608745,
          279.12967548476615,
          -195.39142423112023,
          -628.2126943081034,
          -1073.423572520695,
          -840.787496900704,
          -378.37330297904924,
          3.533627648048821,
          372.2435322270223,
          525.0130362035231
         ],
         "yaxis": "y3"
        },
        {
         "customdata": [
          [
           "T34_1000_bitb_em",
           "AIM/CGE V2.2"
          ],
          [
           "T34_1000_bitb_em",
           "AIM/CGE V2.2"
          ],
          [
           "T34_1000_bitb_em",
           "AIM/CGE V2.2"
          ],
          [
           "T34_1000_bitb_em",
           "AIM/CGE V2.2"
          ],
          [
           "T34_1000_bitb_em",
           "AIM/CGE V2.2"
          ],
          [
           "T34_1000_bitb_em",
           "AIM/CGE V2.2"
          ],
          [
           "T34_1000_bitb_em",
           "AIM/CGE V2.2"
          ],
          [
           "T34_1000_bitb_em",
           "AIM/CGE V2.2"
          ],
          [
           "T34_1000_bitb_em",
           "AIM/CGE V2.2"
          ],
          [
           "T34_1000_bitb_em",
           "AIM/CGE V2.2"
          ],
          [
           "T34_1000_bitb_em",
           "AIM/CGE V2.2"
          ],
          [
           "T34_1000_bitb_em",
           "AIM/CGE V2.2"
          ],
          [
           "T34_1000_bitb_em",
           "AIM/CGE V2.2"
          ],
          [
           "T34_1000_bitb_em",
           "AIM/CGE V2.2"
          ],
          [
           "T34_1000_bitb_em",
           "AIM/CGE V2.2"
          ],
          [
           "T34_1000_bitb_em",
           "AIM/CGE V2.2"
          ],
          [
           "T34_1000_bitb_em",
           "AIM/CGE V2.2"
          ],
          [
           "T34_1000_bitb_em",
           "AIM/CGE V2.2"
          ],
          [
           "T34_1000_bitb_em",
           "AIM/CGE V2.2"
          ]
         ],
         "hovertemplate": "region=RoW<br>model=%{customdata[1]}<br>scenario_narrative=Tech+Inst<br>year=%{x}<br>Emissions|Kyoto Gases=%{y}<br>scenario=%{customdata[0]}<extra></extra>",
         "legendgroup": "RoW, AIM/CGE V2.2",
         "line": {
          "color": "#00cc96",
          "dash": "solid"
         },
         "marker": {
          "symbol": "circle"
         },
         "mode": "lines",
         "name": "RoW, AIM/CGE V2.2",
         "showlegend": true,
         "type": "scattergl",
         "x": [
          2010,
          2015,
          2020,
          2025,
          2030,
          2035,
          2040,
          2045,
          2050,
          2055,
          2060,
          2065,
          2070,
          2075,
          2080,
          2085,
          2090,
          2095,
          2100
         ],
         "xaxis": "x4",
         "y": [
          13674.386700000001,
          14993.2741,
          16218.1006,
          14425.4795,
          13208.9421,
          12351.9537,
          11930.6307,
          9794.7224,
          7824.9388,
          7256.1208,
          6205.081100000001,
          4583.0074,
          3599.7432,
          2615.764,
          2116.0514,
          1920.0690000000002,
          1975.1843,
          2247.6003,
          2614.0254000000004
         ],
         "yaxis": "y4"
        },
        {
         "customdata": [
          [
           "T34_1000_feas_em",
           "AIM/CGE V2.2"
          ],
          [
           "T34_1000_feas_em",
           "AIM/CGE V2.2"
          ],
          [
           "T34_1000_feas_em",
           "AIM/CGE V2.2"
          ],
          [
           "T34_1000_feas_em",
           "AIM/CGE V2.2"
          ],
          [
           "T34_1000_feas_em",
           "AIM/CGE V2.2"
          ],
          [
           "T34_1000_feas_em",
           "AIM/CGE V2.2"
          ],
          [
           "T34_1000_feas_em",
           "AIM/CGE V2.2"
          ],
          [
           "T34_1000_feas_em",
           "AIM/CGE V2.2"
          ],
          [
           "T34_1000_feas_em",
           "AIM/CGE V2.2"
          ],
          [
           "T34_1000_feas_em",
           "AIM/CGE V2.2"
          ],
          [
           "T34_1000_feas_em",
           "AIM/CGE V2.2"
          ],
          [
           "T34_1000_feas_em",
           "AIM/CGE V2.2"
          ],
          [
           "T34_1000_feas_em",
           "AIM/CGE V2.2"
          ],
          [
           "T34_1000_feas_em",
           "AIM/CGE V2.2"
          ],
          [
           "T34_1000_feas_em",
           "AIM/CGE V2.2"
          ],
          [
           "T34_1000_feas_em",
           "AIM/CGE V2.2"
          ],
          [
           "T34_1000_feas_em",
           "AIM/CGE V2.2"
          ],
          [
           "T34_1000_feas_em",
           "AIM/CGE V2.2"
          ],
          [
           "T34_1000_feas_em",
           "AIM/CGE V2.2"
          ]
         ],
         "hovertemplate": "region=RoW<br>model=%{customdata[1]}<br>scenario_narrative=Tech+Inst+Enab<br>year=%{x}<br>Emissions|Kyoto Gases=%{y}<br>scenario=%{customdata[0]}<extra></extra>",
         "legendgroup": "RoW, AIM/CGE V2.2",
         "line": {
          "color": "#00cc96",
          "dash": "solid"
         },
         "marker": {
          "symbol": "circle"
         },
         "mode": "lines",
         "name": "RoW, AIM/CGE V2.2",
         "showlegend": false,
         "type": "scattergl",
         "x": [
          2010,
          2015,
          2020,
          2025,
          2030,
          2035,
          2040,
          2045,
          2050,
          2055,
          2060,
          2065,
          2070,
          2075,
          2080,
          2085,
          2090,
          2095,
          2100
         ],
         "xaxis": "x5",
         "y": [
          13674.3866,
          14993.2742,
          16217.522700000001,
          14241.9576,
          12736.0374,
          11545.389,
          10493.4785,
          10585.7952,
          8519.4672,
          6061.5731,
          5267.606999999999,
          3533.7389999999996,
          2474.3682,
          1467.5777999999998,
          1011.3635999999999,
          829.7855,
          944.8858,
          1291.1501,
          1709.6412000000003
         ],
         "yaxis": "y5"
        },
        {
         "customdata": [
          [
           "T34_1000_govem",
           "AIM/CGE V2.2"
          ],
          [
           "T34_1000_govem",
           "AIM/CGE V2.2"
          ],
          [
           "T34_1000_govem",
           "AIM/CGE V2.2"
          ],
          [
           "T34_1000_govem",
           "AIM/CGE V2.2"
          ],
          [
           "T34_1000_govem",
           "AIM/CGE V2.2"
          ],
          [
           "T34_1000_govem",
           "AIM/CGE V2.2"
          ],
          [
           "T34_1000_govem",
           "AIM/CGE V2.2"
          ],
          [
           "T34_1000_govem",
           "AIM/CGE V2.2"
          ],
          [
           "T34_1000_govem",
           "AIM/CGE V2.2"
          ],
          [
           "T34_1000_govem",
           "AIM/CGE V2.2"
          ],
          [
           "T34_1000_govem",
           "AIM/CGE V2.2"
          ],
          [
           "T34_1000_govem",
           "AIM/CGE V2.2"
          ],
          [
           "T34_1000_govem",
           "AIM/CGE V2.2"
          ],
          [
           "T34_1000_govem",
           "AIM/CGE V2.2"
          ],
          [
           "T34_1000_govem",
           "AIM/CGE V2.2"
          ],
          [
           "T34_1000_govem",
           "AIM/CGE V2.2"
          ],
          [
           "T34_1000_govem",
           "AIM/CGE V2.2"
          ],
          [
           "T34_1000_govem",
           "AIM/CGE V2.2"
          ],
          [
           "T34_1000_govem",
           "AIM/CGE V2.2"
          ]
         ],
         "hovertemplate": "region=RoW<br>model=%{customdata[1]}<br>scenario_narrative=Instit<br>year=%{x}<br>Emissions|Kyoto Gases=%{y}<br>scenario=%{customdata[0]}<extra></extra>",
         "legendgroup": "RoW, AIM/CGE V2.2",
         "line": {
          "color": "#00cc96",
          "dash": "solid"
         },
         "marker": {
          "symbol": "circle"
         },
         "mode": "lines",
         "name": "RoW, AIM/CGE V2.2",
         "showlegend": false,
         "type": "scattergl",
         "x": [
          2010,
          2015,
          2020,
          2025,
          2030,
          2035,
          2040,
          2045,
          2050,
          2055,
          2060,
          2065,
          2070,
          2075,
          2080,
          2085,
          2090,
          2095,
          2100
         ],
         "xaxis": "x6",
         "y": [
          13674.3866,
          14993.274,
          16216.076000000001,
          14762.3298,
          13570.943500000001,
          12326.2757,
          11659.1563,
          11118.5541,
          10110.4236,
          7126.1274,
          6478.2914,
          4648.2882,
          3249.2960999999996,
          2309.9428,
          2096.8103,
          2239.6531,
          2360.5305,
          2486.0845000000004,
          2637.6157
         ],
         "yaxis": "y6"
        },
        {
         "customdata": [
          [
           "T34_1000_ref",
           "AIM/CGE V2.2"
          ],
          [
           "T34_1000_ref",
           "AIM/CGE V2.2"
          ],
          [
           "T34_1000_ref",
           "AIM/CGE V2.2"
          ],
          [
           "T34_1000_ref",
           "AIM/CGE V2.2"
          ],
          [
           "T34_1000_ref",
           "AIM/CGE V2.2"
          ],
          [
           "T34_1000_ref",
           "AIM/CGE V2.2"
          ],
          [
           "T34_1000_ref",
           "AIM/CGE V2.2"
          ],
          [
           "T34_1000_ref",
           "AIM/CGE V2.2"
          ],
          [
           "T34_1000_ref",
           "AIM/CGE V2.2"
          ],
          [
           "T34_1000_ref",
           "AIM/CGE V2.2"
          ],
          [
           "T34_1000_ref",
           "AIM/CGE V2.2"
          ],
          [
           "T34_1000_ref",
           "AIM/CGE V2.2"
          ],
          [
           "T34_1000_ref",
           "AIM/CGE V2.2"
          ],
          [
           "T34_1000_ref",
           "AIM/CGE V2.2"
          ],
          [
           "T34_1000_ref",
           "AIM/CGE V2.2"
          ],
          [
           "T34_1000_ref",
           "AIM/CGE V2.2"
          ],
          [
           "T34_1000_ref",
           "AIM/CGE V2.2"
          ],
          [
           "T34_1000_ref",
           "AIM/CGE V2.2"
          ],
          [
           "T34_1000_ref",
           "AIM/CGE V2.2"
          ]
         ],
         "hovertemplate": "region=RoW<br>model=%{customdata[1]}<br>scenario_narrative=Cost Effective<br>year=%{x}<br>Emissions|Kyoto Gases=%{y}<br>scenario=%{customdata[0]}<extra></extra>",
         "legendgroup": "RoW, AIM/CGE V2.2",
         "line": {
          "color": "#00cc96",
          "dash": "solid"
         },
         "marker": {
          "symbol": "circle"
         },
         "mode": "lines",
         "name": "RoW, AIM/CGE V2.2",
         "showlegend": false,
         "type": "scattergl",
         "x": [
          2010,
          2015,
          2020,
          2025,
          2030,
          2035,
          2040,
          2045,
          2050,
          2055,
          2060,
          2065,
          2070,
          2075,
          2080,
          2085,
          2090,
          2095,
          2100
         ],
         "xaxis": "x",
         "y": [
          13674.386700000001,
          14993.2741,
          16216.075499999999,
          13001.9974,
          11296.5312,
          9976.394400000001,
          8356.781,
          6782.0054,
          4976.9653,
          2601.7297,
          2982.2180999999996,
          3138.1421,
          3128.2882,
          3200.2347999999997,
          3324.3532000000005,
          3590.5781,
          3749.7209000000003,
          3903.9739999999993,
          4004.6767000000004
         ],
         "yaxis": "y"
        },
        {
         "customdata": [
          [
           "T34_1000_ref",
           "COFFEE 1.5"
          ],
          [
           "T34_1000_ref",
           "COFFEE 1.5"
          ],
          [
           "T34_1000_ref",
           "COFFEE 1.5"
          ],
          [
           "T34_1000_ref",
           "COFFEE 1.5"
          ],
          [
           "T34_1000_ref",
           "COFFEE 1.5"
          ],
          [
           "T34_1000_ref",
           "COFFEE 1.5"
          ],
          [
           "T34_1000_ref",
           "COFFEE 1.5"
          ],
          [
           "T34_1000_ref",
           "COFFEE 1.5"
          ],
          [
           "T34_1000_ref",
           "COFFEE 1.5"
          ],
          [
           "T34_1000_ref",
           "COFFEE 1.5"
          ],
          [
           "T34_1000_ref",
           "COFFEE 1.5"
          ],
          [
           "T34_1000_ref",
           "COFFEE 1.5"
          ],
          [
           "T34_1000_ref",
           "COFFEE 1.5"
          ],
          [
           "T34_1000_ref",
           "COFFEE 1.5"
          ]
         ],
         "hovertemplate": "region=RoW<br>model=%{customdata[1]}<br>scenario_narrative=Cost Effective<br>year=%{x}<br>Emissions|Kyoto Gases=%{y}<br>scenario=%{customdata[0]}<extra></extra>",
         "legendgroup": "RoW, COFFEE 1.5",
         "line": {
          "color": "#00cc96",
          "dash": "dot"
         },
         "marker": {
          "symbol": "circle"
         },
         "mode": "lines",
         "name": "RoW, COFFEE 1.5",
         "showlegend": true,
         "type": "scattergl",
         "x": [
          2010,
          2015,
          2020,
          2025,
          2030,
          2035,
          2040,
          2045,
          2050,
          2060,
          2070,
          2080,
          2090,
          2100
         ],
         "xaxis": "x",
         "y": [
          14293.682910520552,
          15728.734347119656,
          13285.159692829598,
          11831.076450443055,
          11900.438598947218,
          11364.405235059181,
          11292.374146001797,
          10437.878531830316,
          9817.470731223864,
          8356.302640977163,
          5074.126942090801,
          1846.8748741024992,
          217.56710403501017,
          2206.9345595501213
         ],
         "yaxis": "y"
        },
        {
         "customdata": [
          [
           "T34_1000_bitb_ref",
           "COFFEE 1.5"
          ],
          [
           "T34_1000_bitb_ref",
           "COFFEE 1.5"
          ],
          [
           "T34_1000_bitb_ref",
           "COFFEE 1.5"
          ],
          [
           "T34_1000_bitb_ref",
           "COFFEE 1.5"
          ],
          [
           "T34_1000_bitb_ref",
           "COFFEE 1.5"
          ],
          [
           "T34_1000_bitb_ref",
           "COFFEE 1.5"
          ],
          [
           "T34_1000_bitb_ref",
           "COFFEE 1.5"
          ],
          [
           "T34_1000_bitb_ref",
           "COFFEE 1.5"
          ],
          [
           "T34_1000_bitb_ref",
           "COFFEE 1.5"
          ],
          [
           "T34_1000_bitb_ref",
           "COFFEE 1.5"
          ],
          [
           "T34_1000_bitb_ref",
           "COFFEE 1.5"
          ],
          [
           "T34_1000_bitb_ref",
           "COFFEE 1.5"
          ],
          [
           "T34_1000_bitb_ref",
           "COFFEE 1.5"
          ],
          [
           "T34_1000_bitb_ref",
           "COFFEE 1.5"
          ]
         ],
         "hovertemplate": "region=RoW<br>model=%{customdata[1]}<br>scenario_narrative=Tech<br>year=%{x}<br>Emissions|Kyoto Gases=%{y}<br>scenario=%{customdata[0]}<extra></extra>",
         "legendgroup": "RoW, COFFEE 1.5",
         "line": {
          "color": "#00cc96",
          "dash": "dot"
         },
         "marker": {
          "symbol": "circle"
         },
         "mode": "lines",
         "name": "RoW, COFFEE 1.5",
         "showlegend": false,
         "type": "scattergl",
         "x": [
          2010,
          2015,
          2020,
          2025,
          2030,
          2035,
          2040,
          2045,
          2050,
          2060,
          2070,
          2080,
          2090,
          2100
         ],
         "xaxis": "x2",
         "y": [
          14293.682910520552,
          15728.734347119656,
          13285.159692829598,
          11558.839694029055,
          10803.918677895917,
          10431.410472781905,
          10305.140375753448,
          9254.406471275244,
          8468.23343822718,
          5747.96759447389,
          3886.819037968411,
          3295.4301490581533,
          2632.827617151882,
          4252.959990062299
         ],
         "yaxis": "y2"
        },
        {
         "customdata": [
          [
           "T34_1000_bitb_em",
           "GEM-E3_V2023"
          ],
          [
           "T34_1000_bitb_em",
           "GEM-E3_V2023"
          ],
          [
           "T34_1000_bitb_em",
           "GEM-E3_V2023"
          ],
          [
           "T34_1000_bitb_em",
           "GEM-E3_V2023"
          ],
          [
           "T34_1000_bitb_em",
           "GEM-E3_V2023"
          ],
          [
           "T34_1000_bitb_em",
           "GEM-E3_V2023"
          ],
          [
           "T34_1000_bitb_em",
           "GEM-E3_V2023"
          ],
          [
           "T34_1000_bitb_em",
           "GEM-E3_V2023"
          ],
          [
           "T34_1000_bitb_em",
           "GEM-E3_V2023"
          ],
          [
           "T34_1000_bitb_em",
           "GEM-E3_V2023"
          ],
          [
           "T34_1000_bitb_em",
           "GEM-E3_V2023"
          ],
          [
           "T34_1000_bitb_em",
           "GEM-E3_V2023"
          ],
          [
           "T34_1000_bitb_em",
           "GEM-E3_V2023"
          ],
          [
           "T34_1000_bitb_em",
           "GEM-E3_V2023"
          ],
          [
           "T34_1000_bitb_em",
           "GEM-E3_V2023"
          ],
          [
           "T34_1000_bitb_em",
           "GEM-E3_V2023"
          ],
          [
           "T34_1000_bitb_em",
           "GEM-E3_V2023"
          ],
          [
           "T34_1000_bitb_em",
           "GEM-E3_V2023"
          ]
         ],
         "hovertemplate": "region=RoW<br>model=%{customdata[1]}<br>scenario_narrative=Tech+Inst<br>year=%{x}<br>Emissions|Kyoto Gases=%{y}<br>scenario=%{customdata[0]}<extra></extra>",
         "legendgroup": "RoW, GEM-E3_V2023",
         "line": {
          "color": "#00cc96",
          "dash": "dash"
         },
         "marker": {
          "symbol": "circle"
         },
         "mode": "lines",
         "name": "RoW, GEM-E3_V2023",
         "showlegend": true,
         "type": "scattergl",
         "x": [
          2015,
          2020,
          2025,
          2030,
          2035,
          2040,
          2045,
          2050,
          2055,
          2060,
          2065,
          2070,
          2075,
          2080,
          2085,
          2090,
          2095,
          2100
         ],
         "xaxis": "x4",
         "y": [
          9573.504737686944,
          9380.941145759622,
          9668.301255385559,
          8977.162135862247,
          8686.340198152342,
          8347.964105753355,
          7599.440116247169,
          6665.856586036167,
          5042.858143992415,
          4135.226518934574,
          3288.6583044258796,
          2730.717258162235,
          2751.253362340884,
          2580.9658683006714,
          1782.0383022279098,
          1284.316897496012,
          1334.3574886270048,
          1289.7050567380602
         ],
         "yaxis": "y4"
        },
        {
         "customdata": [
          [
           "T34_1000_feas_em",
           "GEM-E3_V2023"
          ],
          [
           "T34_1000_feas_em",
           "GEM-E3_V2023"
          ],
          [
           "T34_1000_feas_em",
           "GEM-E3_V2023"
          ],
          [
           "T34_1000_feas_em",
           "GEM-E3_V2023"
          ],
          [
           "T34_1000_feas_em",
           "GEM-E3_V2023"
          ],
          [
           "T34_1000_feas_em",
           "GEM-E3_V2023"
          ],
          [
           "T34_1000_feas_em",
           "GEM-E3_V2023"
          ],
          [
           "T34_1000_feas_em",
           "GEM-E3_V2023"
          ],
          [
           "T34_1000_feas_em",
           "GEM-E3_V2023"
          ],
          [
           "T34_1000_feas_em",
           "GEM-E3_V2023"
          ],
          [
           "T34_1000_feas_em",
           "GEM-E3_V2023"
          ],
          [
           "T34_1000_feas_em",
           "GEM-E3_V2023"
          ],
          [
           "T34_1000_feas_em",
           "GEM-E3_V2023"
          ],
          [
           "T34_1000_feas_em",
           "GEM-E3_V2023"
          ],
          [
           "T34_1000_feas_em",
           "GEM-E3_V2023"
          ],
          [
           "T34_1000_feas_em",
           "GEM-E3_V2023"
          ],
          [
           "T34_1000_feas_em",
           "GEM-E3_V2023"
          ],
          [
           "T34_1000_feas_em",
           "GEM-E3_V2023"
          ]
         ],
         "hovertemplate": "region=RoW<br>model=%{customdata[1]}<br>scenario_narrative=Tech+Inst+Enab<br>year=%{x}<br>Emissions|Kyoto Gases=%{y}<br>scenario=%{customdata[0]}<extra></extra>",
         "legendgroup": "RoW, GEM-E3_V2023",
         "line": {
          "color": "#00cc96",
          "dash": "dash"
         },
         "marker": {
          "symbol": "circle"
         },
         "mode": "lines",
         "name": "RoW, GEM-E3_V2023",
         "showlegend": false,
         "type": "scattergl",
         "x": [
          2015,
          2020,
          2025,
          2030,
          2035,
          2040,
          2045,
          2050,
          2055,
          2060,
          2065,
          2070,
          2075,
          2080,
          2085,
          2090,
          2095,
          2100
         ],
         "xaxis": "x5",
         "y": [
          9573.504737686944,
          9380.941145759622,
          9658.208294848318,
          9456.177942343289,
          8800.873724244282,
          8322.650830648872,
          7517.688131733427,
          6512.267447106715,
          4774.8706544376,
          3923.597892038707,
          3095.4817350027897,
          2483.9634472011207,
          2490.9871132309013,
          2295.251088356337,
          1558.1136727786327,
          1147.6442394902754,
          1063.7550031901771,
          1106.3171889093107
         ],
         "yaxis": "y5"
        },
        {
         "customdata": [
          [
           "T34_1000_govem",
           "GEM-E3_V2023"
          ],
          [
           "T34_1000_govem",
           "GEM-E3_V2023"
          ],
          [
           "T34_1000_govem",
           "GEM-E3_V2023"
          ],
          [
           "T34_1000_govem",
           "GEM-E3_V2023"
          ],
          [
           "T34_1000_govem",
           "GEM-E3_V2023"
          ],
          [
           "T34_1000_govem",
           "GEM-E3_V2023"
          ],
          [
           "T34_1000_govem",
           "GEM-E3_V2023"
          ],
          [
           "T34_1000_govem",
           "GEM-E3_V2023"
          ],
          [
           "T34_1000_govem",
           "GEM-E3_V2023"
          ],
          [
           "T34_1000_govem",
           "GEM-E3_V2023"
          ],
          [
           "T34_1000_govem",
           "GEM-E3_V2023"
          ],
          [
           "T34_1000_govem",
           "GEM-E3_V2023"
          ],
          [
           "T34_1000_govem",
           "GEM-E3_V2023"
          ],
          [
           "T34_1000_govem",
           "GEM-E3_V2023"
          ],
          [
           "T34_1000_govem",
           "GEM-E3_V2023"
          ],
          [
           "T34_1000_govem",
           "GEM-E3_V2023"
          ],
          [
           "T34_1000_govem",
           "GEM-E3_V2023"
          ],
          [
           "T34_1000_govem",
           "GEM-E3_V2023"
          ]
         ],
         "hovertemplate": "region=RoW<br>model=%{customdata[1]}<br>scenario_narrative=Instit<br>year=%{x}<br>Emissions|Kyoto Gases=%{y}<br>scenario=%{customdata[0]}<extra></extra>",
         "legendgroup": "RoW, GEM-E3_V2023",
         "line": {
          "color": "#00cc96",
          "dash": "dash"
         },
         "marker": {
          "symbol": "circle"
         },
         "mode": "lines",
         "name": "RoW, GEM-E3_V2023",
         "showlegend": false,
         "type": "scattergl",
         "x": [
          2015,
          2020,
          2025,
          2030,
          2035,
          2040,
          2045,
          2050,
          2055,
          2060,
          2065,
          2070,
          2075,
          2080,
          2085,
          2090,
          2095,
          2100
         ],
         "xaxis": "x6",
         "y": [
          9573.504737686944,
          9380.941145759622,
          9711.438321593565,
          9514.62256992213,
          9074.087258974861,
          8503.945429422009,
          8263.566569214472,
          7645.78080106323,
          5664.113688112575,
          3992.957697755429,
          2956.0131119321304,
          2171.150592321287,
          1744.4893317131964,
          1651.3514795037413,
          1321.9920545363782,
          1385.120802230878,
          1375.0546798143268,
          1482.022005982907
         ],
         "yaxis": "y6"
        },
        {
         "customdata": [
          [
           "T34_1000_ref",
           "GEM-E3_V2023"
          ],
          [
           "T34_1000_ref",
           "GEM-E3_V2023"
          ],
          [
           "T34_1000_ref",
           "GEM-E3_V2023"
          ],
          [
           "T34_1000_ref",
           "GEM-E3_V2023"
          ],
          [
           "T34_1000_ref",
           "GEM-E3_V2023"
          ],
          [
           "T34_1000_ref",
           "GEM-E3_V2023"
          ],
          [
           "T34_1000_ref",
           "GEM-E3_V2023"
          ],
          [
           "T34_1000_ref",
           "GEM-E3_V2023"
          ],
          [
           "T34_1000_ref",
           "GEM-E3_V2023"
          ],
          [
           "T34_1000_ref",
           "GEM-E3_V2023"
          ],
          [
           "T34_1000_ref",
           "GEM-E3_V2023"
          ],
          [
           "T34_1000_ref",
           "GEM-E3_V2023"
          ],
          [
           "T34_1000_ref",
           "GEM-E3_V2023"
          ],
          [
           "T34_1000_ref",
           "GEM-E3_V2023"
          ],
          [
           "T34_1000_ref",
           "GEM-E3_V2023"
          ],
          [
           "T34_1000_ref",
           "GEM-E3_V2023"
          ],
          [
           "T34_1000_ref",
           "GEM-E3_V2023"
          ],
          [
           "T34_1000_ref",
           "GEM-E3_V2023"
          ]
         ],
         "hovertemplate": "region=RoW<br>model=%{customdata[1]}<br>scenario_narrative=Cost Effective<br>year=%{x}<br>Emissions|Kyoto Gases=%{y}<br>scenario=%{customdata[0]}<extra></extra>",
         "legendgroup": "RoW, GEM-E3_V2023",
         "line": {
          "color": "#00cc96",
          "dash": "dash"
         },
         "marker": {
          "symbol": "circle"
         },
         "mode": "lines",
         "name": "RoW, GEM-E3_V2023",
         "showlegend": false,
         "type": "scattergl",
         "x": [
          2015,
          2020,
          2025,
          2030,
          2035,
          2040,
          2045,
          2050,
          2055,
          2060,
          2065,
          2070,
          2075,
          2080,
          2085,
          2090,
          2095,
          2100
         ],
         "xaxis": "x",
         "y": [
          9573.504737686944,
          9380.941145759622,
          9688.350285653343,
          9091.929516979459,
          7728.607954511759,
          6660.777316025506,
          5351.340186958771,
          4344.9399558461755,
          3168.3367712294,
          2122.2644846433936,
          1716.8485181850517,
          1338.492054246901,
          846.7460611590129,
          947.0166977776888,
          840.027154183642,
          1124.342737244956,
          1110.007386607326,
          1159.7630661262158
         ],
         "yaxis": "y"
        },
        {
         "customdata": [
          [
           "T34_1000_bitb_em",
           "IMAGE 3.2"
          ],
          [
           "T34_1000_bitb_em",
           "IMAGE 3.2"
          ],
          [
           "T34_1000_bitb_em",
           "IMAGE 3.2"
          ],
          [
           "T34_1000_bitb_em",
           "IMAGE 3.2"
          ],
          [
           "T34_1000_bitb_em",
           "IMAGE 3.2"
          ],
          [
           "T34_1000_bitb_em",
           "IMAGE 3.2"
          ],
          [
           "T34_1000_bitb_em",
           "IMAGE 3.2"
          ],
          [
           "T34_1000_bitb_em",
           "IMAGE 3.2"
          ],
          [
           "T34_1000_bitb_em",
           "IMAGE 3.2"
          ],
          [
           "T34_1000_bitb_em",
           "IMAGE 3.2"
          ],
          [
           "T34_1000_bitb_em",
           "IMAGE 3.2"
          ],
          [
           "T34_1000_bitb_em",
           "IMAGE 3.2"
          ],
          [
           "T34_1000_bitb_em",
           "IMAGE 3.2"
          ],
          [
           "T34_1000_bitb_em",
           "IMAGE 3.2"
          ],
          [
           "T34_1000_bitb_em",
           "IMAGE 3.2"
          ],
          [
           "T34_1000_bitb_em",
           "IMAGE 3.2"
          ],
          [
           "T34_1000_bitb_em",
           "IMAGE 3.2"
          ],
          [
           "T34_1000_bitb_em",
           "IMAGE 3.2"
          ],
          [
           "T34_1000_bitb_em",
           "IMAGE 3.2"
          ],
          [
           "T34_1000_bitb_em",
           "IMAGE 3.2"
          ]
         ],
         "hovertemplate": "region=RoW<br>model=%{customdata[1]}<br>scenario_narrative=Tech+Inst<br>year=%{x}<br>Emissions|Kyoto Gases=%{y}<br>scenario=%{customdata[0]}<extra></extra>",
         "legendgroup": "RoW, IMAGE 3.2",
         "line": {
          "color": "#00cc96",
          "dash": "longdash"
         },
         "marker": {
          "symbol": "circle"
         },
         "mode": "lines",
         "name": "RoW, IMAGE 3.2",
         "showlegend": true,
         "type": "scattergl",
         "x": [
          2005,
          2010,
          2015,
          2020,
          2025,
          2030,
          2035,
          2040,
          2045,
          2050,
          2055,
          2060,
          2065,
          2070,
          2075,
          2080,
          2085,
          2090,
          2095,
          2100
         ],
         "xaxis": "x4",
         "y": [
          12317.008361816406,
          14562.927215576172,
          15006.793975830078,
          16150.40365600586,
          17553.889038085938,
          13952.332916259766,
          12594.897354125977,
          11018.009307861328,
          9475.618041992188,
          7016.450729370117,
          5973.238334655762,
          4797.852411270142,
          4711.8275644779205,
          3820.8621578216553,
          4367.947635650635,
          3616.196831703186,
          4140.893337249756,
          3102.7946977615356,
          3520.6410388946533,
          2631.172550201416
         ],
         "yaxis": "y4"
        },
        {
         "customdata": [
          [
           "T34_1000_feas_em",
           "IMAGE 3.2"
          ],
          [
           "T34_1000_feas_em",
           "IMAGE 3.2"
          ],
          [
           "T34_1000_feas_em",
           "IMAGE 3.2"
          ],
          [
           "T34_1000_feas_em",
           "IMAGE 3.2"
          ],
          [
           "T34_1000_feas_em",
           "IMAGE 3.2"
          ],
          [
           "T34_1000_feas_em",
           "IMAGE 3.2"
          ],
          [
           "T34_1000_feas_em",
           "IMAGE 3.2"
          ],
          [
           "T34_1000_feas_em",
           "IMAGE 3.2"
          ],
          [
           "T34_1000_feas_em",
           "IMAGE 3.2"
          ],
          [
           "T34_1000_feas_em",
           "IMAGE 3.2"
          ],
          [
           "T34_1000_feas_em",
           "IMAGE 3.2"
          ],
          [
           "T34_1000_feas_em",
           "IMAGE 3.2"
          ],
          [
           "T34_1000_feas_em",
           "IMAGE 3.2"
          ],
          [
           "T34_1000_feas_em",
           "IMAGE 3.2"
          ],
          [
           "T34_1000_feas_em",
           "IMAGE 3.2"
          ],
          [
           "T34_1000_feas_em",
           "IMAGE 3.2"
          ],
          [
           "T34_1000_feas_em",
           "IMAGE 3.2"
          ],
          [
           "T34_1000_feas_em",
           "IMAGE 3.2"
          ],
          [
           "T34_1000_feas_em",
           "IMAGE 3.2"
          ],
          [
           "T34_1000_feas_em",
           "IMAGE 3.2"
          ]
         ],
         "hovertemplate": "region=RoW<br>model=%{customdata[1]}<br>scenario_narrative=Tech+Inst+Enab<br>year=%{x}<br>Emissions|Kyoto Gases=%{y}<br>scenario=%{customdata[0]}<extra></extra>",
         "legendgroup": "RoW, IMAGE 3.2",
         "line": {
          "color": "#00cc96",
          "dash": "longdash"
         },
         "marker": {
          "symbol": "circle"
         },
         "mode": "lines",
         "name": "RoW, IMAGE 3.2",
         "showlegend": false,
         "type": "scattergl",
         "x": [
          2005,
          2010,
          2015,
          2020,
          2025,
          2030,
          2035,
          2040,
          2045,
          2050,
          2055,
          2060,
          2065,
          2070,
          2075,
          2080,
          2085,
          2090,
          2095,
          2100
         ],
         "xaxis": "x5",
         "y": [
          12317.008361816406,
          14562.644775390625,
          15005.565795898438,
          16150.08041381836,
          17648.31723022461,
          14844.742492675781,
          14222.69970703125,
          12334.782318115234,
          10334.422897338867,
          8881.406173706055,
          7988.575241088867,
          6730.0979347229,
          6239.982063293457,
          4973.825174331665,
          5328.019939422607,
          4038.3641233444214,
          4047.317551136017,
          3010.31444644928,
          3392.273509979248,
          2562.456760406494
         ],
         "yaxis": "y5"
        },
        {
         "customdata": [
          [
           "T34_1000_govem",
           "IMAGE 3.2"
          ],
          [
           "T34_1000_govem",
           "IMAGE 3.2"
          ],
          [
           "T34_1000_govem",
           "IMAGE 3.2"
          ],
          [
           "T34_1000_govem",
           "IMAGE 3.2"
          ],
          [
           "T34_1000_govem",
           "IMAGE 3.2"
          ],
          [
           "T34_1000_govem",
           "IMAGE 3.2"
          ],
          [
           "T34_1000_govem",
           "IMAGE 3.2"
          ],
          [
           "T34_1000_govem",
           "IMAGE 3.2"
          ],
          [
           "T34_1000_govem",
           "IMAGE 3.2"
          ],
          [
           "T34_1000_govem",
           "IMAGE 3.2"
          ],
          [
           "T34_1000_govem",
           "IMAGE 3.2"
          ],
          [
           "T34_1000_govem",
           "IMAGE 3.2"
          ],
          [
           "T34_1000_govem",
           "IMAGE 3.2"
          ],
          [
           "T34_1000_govem",
           "IMAGE 3.2"
          ],
          [
           "T34_1000_govem",
           "IMAGE 3.2"
          ],
          [
           "T34_1000_govem",
           "IMAGE 3.2"
          ],
          [
           "T34_1000_govem",
           "IMAGE 3.2"
          ],
          [
           "T34_1000_govem",
           "IMAGE 3.2"
          ],
          [
           "T34_1000_govem",
           "IMAGE 3.2"
          ],
          [
           "T34_1000_govem",
           "IMAGE 3.2"
          ]
         ],
         "hovertemplate": "region=RoW<br>model=%{customdata[1]}<br>scenario_narrative=Instit<br>year=%{x}<br>Emissions|Kyoto Gases=%{y}<br>scenario=%{customdata[0]}<extra></extra>",
         "legendgroup": "RoW, IMAGE 3.2",
         "line": {
          "color": "#00cc96",
          "dash": "longdash"
         },
         "marker": {
          "symbol": "circle"
         },
         "mode": "lines",
         "name": "RoW, IMAGE 3.2",
         "showlegend": false,
         "type": "scattergl",
         "x": [
          2005,
          2010,
          2015,
          2020,
          2025,
          2030,
          2035,
          2040,
          2045,
          2050,
          2055,
          2060,
          2065,
          2070,
          2075,
          2080,
          2085,
          2090,
          2095,
          2100
         ],
         "xaxis": "x6",
         "y": [
          12317.008361816406,
          14562.927215576172,
          15006.793975830078,
          16146.317413330078,
          18418.70199584961,
          15548.20767211914,
          14374.297241210938,
          11968.432540893555,
          9836.191101074219,
          8307.931640625,
          7494.369338989258,
          6354.28625869751,
          6545.97575378418,
          5957.769367218018,
          6873.205326080322,
          6110.244934082031,
          6696.809872627258,
          6179.8246212005615,
          6813.223808288574,
          5984.939805984497
         ],
         "yaxis": "y6"
        },
        {
         "customdata": [
          [
           "T34_1000_ref",
           "IMAGE 3.2"
          ],
          [
           "T34_1000_ref",
           "IMAGE 3.2"
          ],
          [
           "T34_1000_ref",
           "IMAGE 3.2"
          ],
          [
           "T34_1000_ref",
           "IMAGE 3.2"
          ],
          [
           "T34_1000_ref",
           "IMAGE 3.2"
          ],
          [
           "T34_1000_ref",
           "IMAGE 3.2"
          ],
          [
           "T34_1000_ref",
           "IMAGE 3.2"
          ],
          [
           "T34_1000_ref",
           "IMAGE 3.2"
          ],
          [
           "T34_1000_ref",
           "IMAGE 3.2"
          ],
          [
           "T34_1000_ref",
           "IMAGE 3.2"
          ],
          [
           "T34_1000_ref",
           "IMAGE 3.2"
          ],
          [
           "T34_1000_ref",
           "IMAGE 3.2"
          ],
          [
           "T34_1000_ref",
           "IMAGE 3.2"
          ],
          [
           "T34_1000_ref",
           "IMAGE 3.2"
          ],
          [
           "T34_1000_ref",
           "IMAGE 3.2"
          ],
          [
           "T34_1000_ref",
           "IMAGE 3.2"
          ],
          [
           "T34_1000_ref",
           "IMAGE 3.2"
          ],
          [
           "T34_1000_ref",
           "IMAGE 3.2"
          ],
          [
           "T34_1000_ref",
           "IMAGE 3.2"
          ],
          [
           "T34_1000_ref",
           "IMAGE 3.2"
          ]
         ],
         "hovertemplate": "region=RoW<br>model=%{customdata[1]}<br>scenario_narrative=Cost Effective<br>year=%{x}<br>Emissions|Kyoto Gases=%{y}<br>scenario=%{customdata[0]}<extra></extra>",
         "legendgroup": "RoW, IMAGE 3.2",
         "line": {
          "color": "#00cc96",
          "dash": "longdash"
         },
         "marker": {
          "symbol": "circle"
         },
         "mode": "lines",
         "name": "RoW, IMAGE 3.2",
         "showlegend": false,
         "type": "scattergl",
         "x": [
          2005,
          2010,
          2015,
          2020,
          2025,
          2030,
          2035,
          2040,
          2045,
          2050,
          2055,
          2060,
          2065,
          2070,
          2075,
          2080,
          2085,
          2090,
          2095,
          2100
         ],
         "xaxis": "x",
         "y": [
          12317.008361816406,
          14562.927215576172,
          15006.793975830078,
          16146.317413330078,
          17810.173370361328,
          13695.521270751953,
          11164.341812133789,
          9156.872451782227,
          7669.255599975586,
          6124.143257141113,
          5572.283313751221,
          4903.266632080078,
          4641.488830566406,
          3968.1140327453613,
          5245.038513183594,
          4229.589541256428,
          5080.639189422131,
          4699.642616271973,
          5344.770164489746,
          4582.394304275513
         ],
         "yaxis": "y"
        },
        {
         "customdata": [
          [
           "T34_1000_bitb_ref",
           "IMAGE 3.2"
          ],
          [
           "T34_1000_bitb_ref",
           "IMAGE 3.2"
          ],
          [
           "T34_1000_bitb_ref",
           "IMAGE 3.2"
          ],
          [
           "T34_1000_bitb_ref",
           "IMAGE 3.2"
          ],
          [
           "T34_1000_bitb_ref",
           "IMAGE 3.2"
          ],
          [
           "T34_1000_bitb_ref",
           "IMAGE 3.2"
          ],
          [
           "T34_1000_bitb_ref",
           "IMAGE 3.2"
          ],
          [
           "T34_1000_bitb_ref",
           "IMAGE 3.2"
          ],
          [
           "T34_1000_bitb_ref",
           "IMAGE 3.2"
          ],
          [
           "T34_1000_bitb_ref",
           "IMAGE 3.2"
          ],
          [
           "T34_1000_bitb_ref",
           "IMAGE 3.2"
          ],
          [
           "T34_1000_bitb_ref",
           "IMAGE 3.2"
          ],
          [
           "T34_1000_bitb_ref",
           "IMAGE 3.2"
          ],
          [
           "T34_1000_bitb_ref",
           "IMAGE 3.2"
          ],
          [
           "T34_1000_bitb_ref",
           "IMAGE 3.2"
          ],
          [
           "T34_1000_bitb_ref",
           "IMAGE 3.2"
          ],
          [
           "T34_1000_bitb_ref",
           "IMAGE 3.2"
          ],
          [
           "T34_1000_bitb_ref",
           "IMAGE 3.2"
          ],
          [
           "T34_1000_bitb_ref",
           "IMAGE 3.2"
          ],
          [
           "T34_1000_bitb_ref",
           "IMAGE 3.2"
          ]
         ],
         "hovertemplate": "region=RoW<br>model=%{customdata[1]}<br>scenario_narrative=Tech<br>year=%{x}<br>Emissions|Kyoto Gases=%{y}<br>scenario=%{customdata[0]}<extra></extra>",
         "legendgroup": "RoW, IMAGE 3.2",
         "line": {
          "color": "#00cc96",
          "dash": "longdash"
         },
         "marker": {
          "symbol": "circle"
         },
         "mode": "lines",
         "name": "RoW, IMAGE 3.2",
         "showlegend": false,
         "type": "scattergl",
         "x": [
          2005,
          2010,
          2015,
          2020,
          2025,
          2030,
          2035,
          2040,
          2045,
          2050,
          2055,
          2060,
          2065,
          2070,
          2075,
          2080,
          2085,
          2090,
          2095,
          2100
         ],
         "xaxis": "x2",
         "y": [
          12317.008361816406,
          14562.927215576172,
          15006.793975830078,
          16150.40365600586,
          16874.645751953125,
          12839.394775390625,
          11630.588897705078,
          10068.31770324707,
          8545.905014038086,
          6346.7537841796875,
          5488.4858322143555,
          4531.007261276245,
          4262.456432342529,
          3421.0280208587646,
          3858.341869354248,
          3036.290414571762,
          3471.48548412323,
          2660.618621826172,
          3391.1937742233276,
          2438.511308670044
         ],
         "yaxis": "y2"
        },
        {
         "customdata": [
          [
           "T34_1000_bitb_em",
           "MESSAGEix-GLOBIOM_1.1"
          ],
          [
           "T34_1000_bitb_em",
           "MESSAGEix-GLOBIOM_1.1"
          ],
          [
           "T34_1000_bitb_em",
           "MESSAGEix-GLOBIOM_1.1"
          ],
          [
           "T34_1000_bitb_em",
           "MESSAGEix-GLOBIOM_1.1"
          ],
          [
           "T34_1000_bitb_em",
           "MESSAGEix-GLOBIOM_1.1"
          ],
          [
           "T34_1000_bitb_em",
           "MESSAGEix-GLOBIOM_1.1"
          ],
          [
           "T34_1000_bitb_em",
           "MESSAGEix-GLOBIOM_1.1"
          ],
          [
           "T34_1000_bitb_em",
           "MESSAGEix-GLOBIOM_1.1"
          ],
          [
           "T34_1000_bitb_em",
           "MESSAGEix-GLOBIOM_1.1"
          ],
          [
           "T34_1000_bitb_em",
           "MESSAGEix-GLOBIOM_1.1"
          ],
          [
           "T34_1000_bitb_em",
           "MESSAGEix-GLOBIOM_1.1"
          ],
          [
           "T34_1000_bitb_em",
           "MESSAGEix-GLOBIOM_1.1"
          ],
          [
           "T34_1000_bitb_em",
           "MESSAGEix-GLOBIOM_1.1"
          ],
          [
           "T34_1000_bitb_em",
           "MESSAGEix-GLOBIOM_1.1"
          ],
          [
           "T34_1000_bitb_em",
           "MESSAGEix-GLOBIOM_1.1"
          ],
          [
           "T34_1000_bitb_em",
           "MESSAGEix-GLOBIOM_1.1"
          ],
          [
           "T34_1000_bitb_em",
           "MESSAGEix-GLOBIOM_1.1"
          ],
          [
           "T34_1000_bitb_em",
           "MESSAGEix-GLOBIOM_1.1"
          ],
          [
           "T34_1000_bitb_em",
           "MESSAGEix-GLOBIOM_1.1"
          ],
          [
           "T34_1000_bitb_em",
           "MESSAGEix-GLOBIOM_1.1"
          ]
         ],
         "hovertemplate": "region=RoW<br>model=%{customdata[1]}<br>scenario_narrative=Tech+Inst<br>year=%{x}<br>Emissions|Kyoto Gases=%{y}<br>scenario=%{customdata[0]}<extra></extra>",
         "legendgroup": "RoW, MESSAGEix-GLOBIOM_1.1",
         "line": {
          "color": "#00cc96",
          "dash": "dashdot"
         },
         "marker": {
          "symbol": "circle"
         },
         "mode": "lines",
         "name": "RoW, MESSAGEix-GLOBIOM_1.1",
         "showlegend": true,
         "type": "scattergl",
         "x": [
          1990,
          1995,
          2000,
          2005,
          2010,
          2015,
          2020,
          2025,
          2030,
          2035,
          2040,
          2045,
          2050,
          2055,
          2060,
          2070,
          2080,
          2090,
          2100,
          2110
         ],
         "xaxis": "x4",
         "y": [
          12449.196041500001,
          12874.567420399999,
          13833.145321666665,
          15319.395992333331,
          16608.757367333335,
          18216.631782666664,
          18342.15489268185,
          16939.260187906944,
          16341.47819247188,
          16006.420013181825,
          15451.598547006337,
          14841.856655120271,
          13752.637787069583,
          12598.46332540087,
          11090.456898605566,
          6793.705789758978,
          4850.5482331985295,
          3178.170682737437,
          3128.8102176592542,
          3527.975923112464
         ],
         "yaxis": "y4"
        },
        {
         "customdata": [
          [
           "T34_1000_feas_em",
           "MESSAGEix-GLOBIOM_1.1"
          ],
          [
           "T34_1000_feas_em",
           "MESSAGEix-GLOBIOM_1.1"
          ],
          [
           "T34_1000_feas_em",
           "MESSAGEix-GLOBIOM_1.1"
          ],
          [
           "T34_1000_feas_em",
           "MESSAGEix-GLOBIOM_1.1"
          ],
          [
           "T34_1000_feas_em",
           "MESSAGEix-GLOBIOM_1.1"
          ],
          [
           "T34_1000_feas_em",
           "MESSAGEix-GLOBIOM_1.1"
          ],
          [
           "T34_1000_feas_em",
           "MESSAGEix-GLOBIOM_1.1"
          ],
          [
           "T34_1000_feas_em",
           "MESSAGEix-GLOBIOM_1.1"
          ],
          [
           "T34_1000_feas_em",
           "MESSAGEix-GLOBIOM_1.1"
          ],
          [
           "T34_1000_feas_em",
           "MESSAGEix-GLOBIOM_1.1"
          ],
          [
           "T34_1000_feas_em",
           "MESSAGEix-GLOBIOM_1.1"
          ],
          [
           "T34_1000_feas_em",
           "MESSAGEix-GLOBIOM_1.1"
          ],
          [
           "T34_1000_feas_em",
           "MESSAGEix-GLOBIOM_1.1"
          ],
          [
           "T34_1000_feas_em",
           "MESSAGEix-GLOBIOM_1.1"
          ],
          [
           "T34_1000_feas_em",
           "MESSAGEix-GLOBIOM_1.1"
          ],
          [
           "T34_1000_feas_em",
           "MESSAGEix-GLOBIOM_1.1"
          ],
          [
           "T34_1000_feas_em",
           "MESSAGEix-GLOBIOM_1.1"
          ],
          [
           "T34_1000_feas_em",
           "MESSAGEix-GLOBIOM_1.1"
          ],
          [
           "T34_1000_feas_em",
           "MESSAGEix-GLOBIOM_1.1"
          ],
          [
           "T34_1000_feas_em",
           "MESSAGEix-GLOBIOM_1.1"
          ]
         ],
         "hovertemplate": "region=RoW<br>model=%{customdata[1]}<br>scenario_narrative=Tech+Inst+Enab<br>year=%{x}<br>Emissions|Kyoto Gases=%{y}<br>scenario=%{customdata[0]}<extra></extra>",
         "legendgroup": "RoW, MESSAGEix-GLOBIOM_1.1",
         "line": {
          "color": "#00cc96",
          "dash": "dashdot"
         },
         "marker": {
          "symbol": "circle"
         },
         "mode": "lines",
         "name": "RoW, MESSAGEix-GLOBIOM_1.1",
         "showlegend": false,
         "type": "scattergl",
         "x": [
          1990,
          1995,
          2000,
          2005,
          2010,
          2015,
          2020,
          2025,
          2030,
          2035,
          2040,
          2045,
          2050,
          2055,
          2060,
          2070,
          2080,
          2090,
          2100,
          2110
         ],
         "xaxis": "x5",
         "y": [
          12449.196041500001,
          12874.567420399999,
          13833.145321666665,
          15319.395992333331,
          16608.757367333335,
          18216.631782666664,
          18342.15489268185,
          16939.260187906944,
          18567.464495587174,
          18973.166859498477,
          18472.287121217996,
          16998.751803444196,
          14771.236374102375,
          12783.146172081473,
          10398.867587568631,
          6537.669238178805,
          3178.942963923627,
          1619.3449929347998,
          1040.9084864924725,
          526.014979271436
         ],
         "yaxis": "y5"
        },
        {
         "customdata": [
          [
           "T34_1000_govem",
           "MESSAGEix-GLOBIOM_1.1"
          ],
          [
           "T34_1000_govem",
           "MESSAGEix-GLOBIOM_1.1"
          ],
          [
           "T34_1000_govem",
           "MESSAGEix-GLOBIOM_1.1"
          ],
          [
           "T34_1000_govem",
           "MESSAGEix-GLOBIOM_1.1"
          ],
          [
           "T34_1000_govem",
           "MESSAGEix-GLOBIOM_1.1"
          ],
          [
           "T34_1000_govem",
           "MESSAGEix-GLOBIOM_1.1"
          ],
          [
           "T34_1000_govem",
           "MESSAGEix-GLOBIOM_1.1"
          ],
          [
           "T34_1000_govem",
           "MESSAGEix-GLOBIOM_1.1"
          ],
          [
           "T34_1000_govem",
           "MESSAGEix-GLOBIOM_1.1"
          ],
          [
           "T34_1000_govem",
           "MESSAGEix-GLOBIOM_1.1"
          ],
          [
           "T34_1000_govem",
           "MESSAGEix-GLOBIOM_1.1"
          ],
          [
           "T34_1000_govem",
           "MESSAGEix-GLOBIOM_1.1"
          ],
          [
           "T34_1000_govem",
           "MESSAGEix-GLOBIOM_1.1"
          ],
          [
           "T34_1000_govem",
           "MESSAGEix-GLOBIOM_1.1"
          ],
          [
           "T34_1000_govem",
           "MESSAGEix-GLOBIOM_1.1"
          ],
          [
           "T34_1000_govem",
           "MESSAGEix-GLOBIOM_1.1"
          ],
          [
           "T34_1000_govem",
           "MESSAGEix-GLOBIOM_1.1"
          ],
          [
           "T34_1000_govem",
           "MESSAGEix-GLOBIOM_1.1"
          ],
          [
           "T34_1000_govem",
           "MESSAGEix-GLOBIOM_1.1"
          ],
          [
           "T34_1000_govem",
           "MESSAGEix-GLOBIOM_1.1"
          ]
         ],
         "hovertemplate": "region=RoW<br>model=%{customdata[1]}<br>scenario_narrative=Instit<br>year=%{x}<br>Emissions|Kyoto Gases=%{y}<br>scenario=%{customdata[0]}<extra></extra>",
         "legendgroup": "RoW, MESSAGEix-GLOBIOM_1.1",
         "line": {
          "color": "#00cc96",
          "dash": "dashdot"
         },
         "marker": {
          "symbol": "circle"
         },
         "mode": "lines",
         "name": "RoW, MESSAGEix-GLOBIOM_1.1",
         "showlegend": false,
         "type": "scattergl",
         "x": [
          1990,
          1995,
          2000,
          2005,
          2010,
          2015,
          2020,
          2025,
          2030,
          2035,
          2040,
          2045,
          2050,
          2055,
          2060,
          2070,
          2080,
          2090,
          2100,
          2110
         ],
         "xaxis": "x6",
         "y": [
          12449.196041500001,
          12874.567420399999,
          13833.145321666665,
          15319.395992333331,
          16608.757367333335,
          18216.631782666664,
          18342.15489268185,
          16939.260187906944,
          16336.851725619528,
          15837.1397910601,
          15219.56423385287,
          14739.555474317516,
          13674.281109816777,
          12709.427015694419,
          11172.22898088182,
          7115.7310497235885,
          5152.944919654024,
          4286.073343072987,
          4227.176370812967,
          4245.835300661119
         ],
         "yaxis": "y6"
        },
        {
         "customdata": [
          [
           "T34_1000_ref",
           "MESSAGEix-GLOBIOM_1.1"
          ],
          [
           "T34_1000_ref",
           "MESSAGEix-GLOBIOM_1.1"
          ],
          [
           "T34_1000_ref",
           "MESSAGEix-GLOBIOM_1.1"
          ],
          [
           "T34_1000_ref",
           "MESSAGEix-GLOBIOM_1.1"
          ],
          [
           "T34_1000_ref",
           "MESSAGEix-GLOBIOM_1.1"
          ],
          [
           "T34_1000_ref",
           "MESSAGEix-GLOBIOM_1.1"
          ],
          [
           "T34_1000_ref",
           "MESSAGEix-GLOBIOM_1.1"
          ],
          [
           "T34_1000_ref",
           "MESSAGEix-GLOBIOM_1.1"
          ],
          [
           "T34_1000_ref",
           "MESSAGEix-GLOBIOM_1.1"
          ],
          [
           "T34_1000_ref",
           "MESSAGEix-GLOBIOM_1.1"
          ],
          [
           "T34_1000_ref",
           "MESSAGEix-GLOBIOM_1.1"
          ],
          [
           "T34_1000_ref",
           "MESSAGEix-GLOBIOM_1.1"
          ],
          [
           "T34_1000_ref",
           "MESSAGEix-GLOBIOM_1.1"
          ],
          [
           "T34_1000_ref",
           "MESSAGEix-GLOBIOM_1.1"
          ],
          [
           "T34_1000_ref",
           "MESSAGEix-GLOBIOM_1.1"
          ],
          [
           "T34_1000_ref",
           "MESSAGEix-GLOBIOM_1.1"
          ],
          [
           "T34_1000_ref",
           "MESSAGEix-GLOBIOM_1.1"
          ],
          [
           "T34_1000_ref",
           "MESSAGEix-GLOBIOM_1.1"
          ],
          [
           "T34_1000_ref",
           "MESSAGEix-GLOBIOM_1.1"
          ],
          [
           "T34_1000_ref",
           "MESSAGEix-GLOBIOM_1.1"
          ]
         ],
         "hovertemplate": "region=RoW<br>model=%{customdata[1]}<br>scenario_narrative=Cost Effective<br>year=%{x}<br>Emissions|Kyoto Gases=%{y}<br>scenario=%{customdata[0]}<extra></extra>",
         "legendgroup": "RoW, MESSAGEix-GLOBIOM_1.1",
         "line": {
          "color": "#00cc96",
          "dash": "dashdot"
         },
         "marker": {
          "symbol": "circle"
         },
         "mode": "lines",
         "name": "RoW, MESSAGEix-GLOBIOM_1.1",
         "showlegend": false,
         "type": "scattergl",
         "x": [
          1990,
          1995,
          2000,
          2005,
          2010,
          2015,
          2020,
          2025,
          2030,
          2035,
          2040,
          2045,
          2050,
          2055,
          2060,
          2070,
          2080,
          2090,
          2100,
          2110
         ],
         "xaxis": "x",
         "y": [
          12449.196041500001,
          12874.567420399999,
          13833.145321666665,
          15319.395992333331,
          16608.757367333335,
          18216.631782666664,
          18342.15489268185,
          16939.260187906944,
          13829.527174317845,
          12629.178638012349,
          10992.084425066569,
          9273.593368055399,
          7521.062180477835,
          6113.232695650373,
          5056.086065032967,
          2884.090519554808,
          2854.069972124809,
          2589.014622513862,
          2878.539554935338,
          3065.6739944137416
         ],
         "yaxis": "y"
        },
        {
         "customdata": [
          [
           "T34_1000_bitb_ref",
           "MESSAGEix-GLOBIOM_1.1"
          ],
          [
           "T34_1000_bitb_ref",
           "MESSAGEix-GLOBIOM_1.1"
          ],
          [
           "T34_1000_bitb_ref",
           "MESSAGEix-GLOBIOM_1.1"
          ],
          [
           "T34_1000_bitb_ref",
           "MESSAGEix-GLOBIOM_1.1"
          ],
          [
           "T34_1000_bitb_ref",
           "MESSAGEix-GLOBIOM_1.1"
          ],
          [
           "T34_1000_bitb_ref",
           "MESSAGEix-GLOBIOM_1.1"
          ],
          [
           "T34_1000_bitb_ref",
           "MESSAGEix-GLOBIOM_1.1"
          ],
          [
           "T34_1000_bitb_ref",
           "MESSAGEix-GLOBIOM_1.1"
          ],
          [
           "T34_1000_bitb_ref",
           "MESSAGEix-GLOBIOM_1.1"
          ],
          [
           "T34_1000_bitb_ref",
           "MESSAGEix-GLOBIOM_1.1"
          ],
          [
           "T34_1000_bitb_ref",
           "MESSAGEix-GLOBIOM_1.1"
          ],
          [
           "T34_1000_bitb_ref",
           "MESSAGEix-GLOBIOM_1.1"
          ],
          [
           "T34_1000_bitb_ref",
           "MESSAGEix-GLOBIOM_1.1"
          ],
          [
           "T34_1000_bitb_ref",
           "MESSAGEix-GLOBIOM_1.1"
          ],
          [
           "T34_1000_bitb_ref",
           "MESSAGEix-GLOBIOM_1.1"
          ],
          [
           "T34_1000_bitb_ref",
           "MESSAGEix-GLOBIOM_1.1"
          ],
          [
           "T34_1000_bitb_ref",
           "MESSAGEix-GLOBIOM_1.1"
          ],
          [
           "T34_1000_bitb_ref",
           "MESSAGEix-GLOBIOM_1.1"
          ],
          [
           "T34_1000_bitb_ref",
           "MESSAGEix-GLOBIOM_1.1"
          ],
          [
           "T34_1000_bitb_ref",
           "MESSAGEix-GLOBIOM_1.1"
          ]
         ],
         "hovertemplate": "region=RoW<br>model=%{customdata[1]}<br>scenario_narrative=Tech<br>year=%{x}<br>Emissions|Kyoto Gases=%{y}<br>scenario=%{customdata[0]}<extra></extra>",
         "legendgroup": "RoW, MESSAGEix-GLOBIOM_1.1",
         "line": {
          "color": "#00cc96",
          "dash": "dashdot"
         },
         "marker": {
          "symbol": "circle"
         },
         "mode": "lines",
         "name": "RoW, MESSAGEix-GLOBIOM_1.1",
         "showlegend": false,
         "type": "scattergl",
         "x": [
          1990,
          1995,
          2000,
          2005,
          2010,
          2015,
          2020,
          2025,
          2030,
          2035,
          2040,
          2045,
          2050,
          2055,
          2060,
          2070,
          2080,
          2090,
          2100,
          2110
         ],
         "xaxis": "x2",
         "y": [
          12449.196041500001,
          12874.567420399999,
          13833.145321666665,
          15319.395992333331,
          16608.757367333335,
          18216.631782666664,
          18342.15489268185,
          16939.260187906944,
          13804.190377651608,
          12521.986382071489,
          10952.837132127028,
          9181.486452164552,
          7304.909066611809,
          5900.890380493131,
          4860.85783141126,
          2311.1941611289353,
          2213.195084670058,
          2497.520512739057,
          2993.252444433415,
          3241.27412209521
         ],
         "yaxis": "y2"
        },
        {
         "customdata": [
          [
           "T34_1000_enab_em",
           "MESSAGEix-GLOBIOM_1.1"
          ],
          [
           "T34_1000_enab_em",
           "MESSAGEix-GLOBIOM_1.1"
          ],
          [
           "T34_1000_enab_em",
           "MESSAGEix-GLOBIOM_1.1"
          ],
          [
           "T34_1000_enab_em",
           "MESSAGEix-GLOBIOM_1.1"
          ],
          [
           "T34_1000_enab_em",
           "MESSAGEix-GLOBIOM_1.1"
          ],
          [
           "T34_1000_enab_em",
           "MESSAGEix-GLOBIOM_1.1"
          ],
          [
           "T34_1000_enab_em",
           "MESSAGEix-GLOBIOM_1.1"
          ],
          [
           "T34_1000_enab_em",
           "MESSAGEix-GLOBIOM_1.1"
          ],
          [
           "T34_1000_enab_em",
           "MESSAGEix-GLOBIOM_1.1"
          ],
          [
           "T34_1000_enab_em",
           "MESSAGEix-GLOBIOM_1.1"
          ],
          [
           "T34_1000_enab_em",
           "MESSAGEix-GLOBIOM_1.1"
          ],
          [
           "T34_1000_enab_em",
           "MESSAGEix-GLOBIOM_1.1"
          ],
          [
           "T34_1000_enab_em",
           "MESSAGEix-GLOBIOM_1.1"
          ],
          [
           "T34_1000_enab_em",
           "MESSAGEix-GLOBIOM_1.1"
          ],
          [
           "T34_1000_enab_em",
           "MESSAGEix-GLOBIOM_1.1"
          ],
          [
           "T34_1000_enab_em",
           "MESSAGEix-GLOBIOM_1.1"
          ],
          [
           "T34_1000_enab_em",
           "MESSAGEix-GLOBIOM_1.1"
          ],
          [
           "T34_1000_enab_em",
           "MESSAGEix-GLOBIOM_1.1"
          ],
          [
           "T34_1000_enab_em",
           "MESSAGEix-GLOBIOM_1.1"
          ],
          [
           "T34_1000_enab_em",
           "MESSAGEix-GLOBIOM_1.1"
          ]
         ],
         "hovertemplate": "region=RoW<br>model=%{customdata[1]}<br>scenario_narrative=Inst+Enab<br>year=%{x}<br>Emissions|Kyoto Gases=%{y}<br>scenario=%{customdata[0]}<extra></extra>",
         "legendgroup": "RoW, MESSAGEix-GLOBIOM_1.1",
         "line": {
          "color": "#00cc96",
          "dash": "dashdot"
         },
         "marker": {
          "symbol": "circle"
         },
         "mode": "lines",
         "name": "RoW, MESSAGEix-GLOBIOM_1.1",
         "showlegend": false,
         "type": "scattergl",
         "x": [
          1990,
          1995,
          2000,
          2005,
          2010,
          2015,
          2020,
          2025,
          2030,
          2035,
          2040,
          2045,
          2050,
          2055,
          2060,
          2070,
          2080,
          2090,
          2100,
          2110
         ],
         "xaxis": "x3",
         "y": [
          12449.196041500001,
          12874.567420399999,
          13833.145321666665,
          15319.395992333331,
          16608.757367333335,
          18216.631782666664,
          18342.15489268185,
          16939.260187906944,
          18472.388071830883,
          18857.9031760828,
          18319.562986650148,
          16906.993218889496,
          14703.804371636044,
          12736.06953107092,
          10421.021067811695,
          6582.3999265823495,
          3204.824680453017,
          1627.638516738129,
          998.4605668319547,
          470.2189602614604
         ],
         "yaxis": "y3"
        },
        {
         "customdata": [
          [
           "T34_1000_bitb_em",
           "POLES ENGAGE"
          ],
          [
           "T34_1000_bitb_em",
           "POLES ENGAGE"
          ],
          [
           "T34_1000_bitb_em",
           "POLES ENGAGE"
          ],
          [
           "T34_1000_bitb_em",
           "POLES ENGAGE"
          ],
          [
           "T34_1000_bitb_em",
           "POLES ENGAGE"
          ],
          [
           "T34_1000_bitb_em",
           "POLES ENGAGE"
          ],
          [
           "T34_1000_bitb_em",
           "POLES ENGAGE"
          ],
          [
           "T34_1000_bitb_em",
           "POLES ENGAGE"
          ],
          [
           "T34_1000_bitb_em",
           "POLES ENGAGE"
          ],
          [
           "T34_1000_bitb_em",
           "POLES ENGAGE"
          ],
          [
           "T34_1000_bitb_em",
           "POLES ENGAGE"
          ],
          [
           "T34_1000_bitb_em",
           "POLES ENGAGE"
          ],
          [
           "T34_1000_bitb_em",
           "POLES ENGAGE"
          ],
          [
           "T34_1000_bitb_em",
           "POLES ENGAGE"
          ],
          [
           "T34_1000_bitb_em",
           "POLES ENGAGE"
          ]
         ],
         "hovertemplate": "region=RoW<br>model=%{customdata[1]}<br>scenario_narrative=Tech+Inst<br>year=%{x}<br>Emissions|Kyoto Gases=%{y}<br>scenario=%{customdata[0]}<extra></extra>",
         "legendgroup": "RoW, POLES ENGAGE",
         "line": {
          "color": "#00cc96",
          "dash": "longdashdot"
         },
         "marker": {
          "symbol": "circle"
         },
         "mode": "lines",
         "name": "RoW, POLES ENGAGE",
         "showlegend": true,
         "type": "scattergl",
         "x": [
          2005,
          2010,
          2015,
          2020,
          2025,
          2030,
          2035,
          2040,
          2045,
          2050,
          2060,
          2070,
          2080,
          2090,
          2100
         ],
         "xaxis": "x4",
         "y": [
          11108.62451171875,
          13176.57470703125,
          14310.109130859375,
          14328.6162109375,
          14537.985595703125,
          12861.3701171875,
          12697.443115234375,
          12628.425537109375,
          11426.228515625,
          10593.005859375,
          7830.876281738281,
          6716.053146362305,
          7083.0127029418945,
          7614.78840637207,
          7466.01953125
         ],
         "yaxis": "y4"
        },
        {
         "customdata": [
          [
           "T34_1000_feas_em",
           "POLES ENGAGE"
          ],
          [
           "T34_1000_feas_em",
           "POLES ENGAGE"
          ],
          [
           "T34_1000_feas_em",
           "POLES ENGAGE"
          ],
          [
           "T34_1000_feas_em",
           "POLES ENGAGE"
          ],
          [
           "T34_1000_feas_em",
           "POLES ENGAGE"
          ],
          [
           "T34_1000_feas_em",
           "POLES ENGAGE"
          ],
          [
           "T34_1000_feas_em",
           "POLES ENGAGE"
          ],
          [
           "T34_1000_feas_em",
           "POLES ENGAGE"
          ],
          [
           "T34_1000_feas_em",
           "POLES ENGAGE"
          ],
          [
           "T34_1000_feas_em",
           "POLES ENGAGE"
          ],
          [
           "T34_1000_feas_em",
           "POLES ENGAGE"
          ],
          [
           "T34_1000_feas_em",
           "POLES ENGAGE"
          ],
          [
           "T34_1000_feas_em",
           "POLES ENGAGE"
          ],
          [
           "T34_1000_feas_em",
           "POLES ENGAGE"
          ],
          [
           "T34_1000_feas_em",
           "POLES ENGAGE"
          ]
         ],
         "hovertemplate": "region=RoW<br>model=%{customdata[1]}<br>scenario_narrative=Tech+Inst+Enab<br>year=%{x}<br>Emissions|Kyoto Gases=%{y}<br>scenario=%{customdata[0]}<extra></extra>",
         "legendgroup": "RoW, POLES ENGAGE",
         "line": {
          "color": "#00cc96",
          "dash": "longdashdot"
         },
         "marker": {
          "symbol": "circle"
         },
         "mode": "lines",
         "name": "RoW, POLES ENGAGE",
         "showlegend": false,
         "type": "scattergl",
         "x": [
          2005,
          2010,
          2015,
          2020,
          2025,
          2030,
          2035,
          2040,
          2045,
          2050,
          2060,
          2070,
          2080,
          2090,
          2100
         ],
         "xaxis": "x5",
         "y": [
          11108.62451171875,
          13176.57470703125,
          14310.109130859375,
          14328.615966796875,
          15629.489990234375,
          14280.058349609375,
          14240.142578125,
          14762.61376953125,
          13725.937255859375,
          12898.755981445312,
          8763.017211914062,
          7219.582275390625,
          7131.0137939453125,
          12680.613403320312,
          15681.204345703125
         ],
         "yaxis": "y5"
        },
        {
         "customdata": [
          [
           "T34_1000_govem",
           "POLES ENGAGE"
          ],
          [
           "T34_1000_govem",
           "POLES ENGAGE"
          ],
          [
           "T34_1000_govem",
           "POLES ENGAGE"
          ],
          [
           "T34_1000_govem",
           "POLES ENGAGE"
          ],
          [
           "T34_1000_govem",
           "POLES ENGAGE"
          ],
          [
           "T34_1000_govem",
           "POLES ENGAGE"
          ],
          [
           "T34_1000_govem",
           "POLES ENGAGE"
          ],
          [
           "T34_1000_govem",
           "POLES ENGAGE"
          ],
          [
           "T34_1000_govem",
           "POLES ENGAGE"
          ],
          [
           "T34_1000_govem",
           "POLES ENGAGE"
          ],
          [
           "T34_1000_govem",
           "POLES ENGAGE"
          ],
          [
           "T34_1000_govem",
           "POLES ENGAGE"
          ],
          [
           "T34_1000_govem",
           "POLES ENGAGE"
          ],
          [
           "T34_1000_govem",
           "POLES ENGAGE"
          ],
          [
           "T34_1000_govem",
           "POLES ENGAGE"
          ]
         ],
         "hovertemplate": "region=RoW<br>model=%{customdata[1]}<br>scenario_narrative=Instit<br>year=%{x}<br>Emissions|Kyoto Gases=%{y}<br>scenario=%{customdata[0]}<extra></extra>",
         "legendgroup": "RoW, POLES ENGAGE",
         "line": {
          "color": "#00cc96",
          "dash": "longdashdot"
         },
         "marker": {
          "symbol": "circle"
         },
         "mode": "lines",
         "name": "RoW, POLES ENGAGE",
         "showlegend": false,
         "type": "scattergl",
         "x": [
          2005,
          2010,
          2015,
          2020,
          2025,
          2030,
          2035,
          2040,
          2045,
          2050,
          2060,
          2070,
          2080,
          2090,
          2100
         ],
         "xaxis": "x6",
         "y": [
          11108.62451171875,
          13176.57470703125,
          14648.953369140625,
          15184.4892578125,
          15611.61376953125,
          14247.063720703125,
          14240.78515625,
          14651.82470703125,
          13471.9345703125,
          12673.664794921875,
          8374.490112304688,
          7458.26171875,
          5972.899108886719,
          16186.832275390625,
          20719.289306640625
         ],
         "yaxis": "y6"
        },
        {
         "customdata": [
          [
           "T34_1000_ref",
           "POLES ENGAGE"
          ],
          [
           "T34_1000_ref",
           "POLES ENGAGE"
          ],
          [
           "T34_1000_ref",
           "POLES ENGAGE"
          ],
          [
           "T34_1000_ref",
           "POLES ENGAGE"
          ],
          [
           "T34_1000_ref",
           "POLES ENGAGE"
          ],
          [
           "T34_1000_ref",
           "POLES ENGAGE"
          ],
          [
           "T34_1000_ref",
           "POLES ENGAGE"
          ],
          [
           "T34_1000_ref",
           "POLES ENGAGE"
          ],
          [
           "T34_1000_ref",
           "POLES ENGAGE"
          ],
          [
           "T34_1000_ref",
           "POLES ENGAGE"
          ],
          [
           "T34_1000_ref",
           "POLES ENGAGE"
          ],
          [
           "T34_1000_ref",
           "POLES ENGAGE"
          ],
          [
           "T34_1000_ref",
           "POLES ENGAGE"
          ],
          [
           "T34_1000_ref",
           "POLES ENGAGE"
          ],
          [
           "T34_1000_ref",
           "POLES ENGAGE"
          ]
         ],
         "hovertemplate": "region=RoW<br>model=%{customdata[1]}<br>scenario_narrative=Cost Effective<br>year=%{x}<br>Emissions|Kyoto Gases=%{y}<br>scenario=%{customdata[0]}<extra></extra>",
         "legendgroup": "RoW, POLES ENGAGE",
         "line": {
          "color": "#00cc96",
          "dash": "longdashdot"
         },
         "marker": {
          "symbol": "circle"
         },
         "mode": "lines",
         "name": "RoW, POLES ENGAGE",
         "showlegend": false,
         "type": "scattergl",
         "x": [
          2005,
          2010,
          2015,
          2020,
          2025,
          2030,
          2035,
          2040,
          2045,
          2050,
          2060,
          2070,
          2080,
          2090,
          2100
         ],
         "xaxis": "x",
         "y": [
          11108.62451171875,
          13176.57470703125,
          14310.109130859375,
          14328.6162109375,
          14433.509521484375,
          12277.01904296875,
          10714.832397460938,
          9175.249267578125,
          7099.166076660156,
          5730.774871826172,
          4304.055465698242,
          3386.3624267578125,
          2761.1377563476562,
          2737.579345703125,
          2512.0157775878906
         ],
         "yaxis": "y"
        },
        {
         "customdata": [
          [
           "T34_1000_bitb_ref",
           "POLES ENGAGE"
          ],
          [
           "T34_1000_bitb_ref",
           "POLES ENGAGE"
          ],
          [
           "T34_1000_bitb_ref",
           "POLES ENGAGE"
          ],
          [
           "T34_1000_bitb_ref",
           "POLES ENGAGE"
          ],
          [
           "T34_1000_bitb_ref",
           "POLES ENGAGE"
          ],
          [
           "T34_1000_bitb_ref",
           "POLES ENGAGE"
          ],
          [
           "T34_1000_bitb_ref",
           "POLES ENGAGE"
          ],
          [
           "T34_1000_bitb_ref",
           "POLES ENGAGE"
          ],
          [
           "T34_1000_bitb_ref",
           "POLES ENGAGE"
          ],
          [
           "T34_1000_bitb_ref",
           "POLES ENGAGE"
          ],
          [
           "T34_1000_bitb_ref",
           "POLES ENGAGE"
          ],
          [
           "T34_1000_bitb_ref",
           "POLES ENGAGE"
          ],
          [
           "T34_1000_bitb_ref",
           "POLES ENGAGE"
          ],
          [
           "T34_1000_bitb_ref",
           "POLES ENGAGE"
          ],
          [
           "T34_1000_bitb_ref",
           "POLES ENGAGE"
          ]
         ],
         "hovertemplate": "region=RoW<br>model=%{customdata[1]}<br>scenario_narrative=Tech<br>year=%{x}<br>Emissions|Kyoto Gases=%{y}<br>scenario=%{customdata[0]}<extra></extra>",
         "legendgroup": "RoW, POLES ENGAGE",
         "line": {
          "color": "#00cc96",
          "dash": "longdashdot"
         },
         "marker": {
          "symbol": "circle"
         },
         "mode": "lines",
         "name": "RoW, POLES ENGAGE",
         "showlegend": false,
         "type": "scattergl",
         "x": [
          2005,
          2010,
          2015,
          2020,
          2025,
          2030,
          2035,
          2040,
          2045,
          2050,
          2060,
          2070,
          2080,
          2090,
          2100
         ],
         "xaxis": "x2",
         "y": [
          11108.62451171875,
          13176.57470703125,
          14310.10888671875,
          14323.716064453125,
          15725.322998046875,
          13902.874755859375,
          13077.191162109375,
          11758.99365234375,
          9829.512084960938,
          7997.717041015625,
          5917.237579345703,
          3420.153106689453,
          1407.133544921875,
          244.46832275390625,
          -452.1036981344223
         ],
         "yaxis": "y2"
        },
        {
         "customdata": [
          [
           "T34_1000_bitb_em",
           "REMIND 3.0"
          ],
          [
           "T34_1000_bitb_em",
           "REMIND 3.0"
          ],
          [
           "T34_1000_bitb_em",
           "REMIND 3.0"
          ],
          [
           "T34_1000_bitb_em",
           "REMIND 3.0"
          ],
          [
           "T34_1000_bitb_em",
           "REMIND 3.0"
          ],
          [
           "T34_1000_bitb_em",
           "REMIND 3.0"
          ],
          [
           "T34_1000_bitb_em",
           "REMIND 3.0"
          ],
          [
           "T34_1000_bitb_em",
           "REMIND 3.0"
          ],
          [
           "T34_1000_bitb_em",
           "REMIND 3.0"
          ],
          [
           "T34_1000_bitb_em",
           "REMIND 3.0"
          ],
          [
           "T34_1000_bitb_em",
           "REMIND 3.0"
          ],
          [
           "T34_1000_bitb_em",
           "REMIND 3.0"
          ],
          [
           "T34_1000_bitb_em",
           "REMIND 3.0"
          ],
          [
           "T34_1000_bitb_em",
           "REMIND 3.0"
          ],
          [
           "T34_1000_bitb_em",
           "REMIND 3.0"
          ],
          [
           "T34_1000_bitb_em",
           "REMIND 3.0"
          ]
         ],
         "hovertemplate": "region=RoW<br>model=%{customdata[1]}<br>scenario_narrative=Tech+Inst<br>year=%{x}<br>Emissions|Kyoto Gases=%{y}<br>scenario=%{customdata[0]}<extra></extra>",
         "legendgroup": "RoW, REMIND 3.0",
         "line": {
          "color": "#00cc96",
          "dash": "solid"
         },
         "marker": {
          "symbol": "circle"
         },
         "mode": "lines",
         "name": "RoW, REMIND 3.0",
         "showlegend": true,
         "type": "scattergl",
         "x": [
          2005,
          2010,
          2015,
          2020,
          2025,
          2030,
          2035,
          2040,
          2045,
          2050,
          2055,
          2060,
          2070,
          2080,
          2090,
          2100
         ],
         "xaxis": "x4",
         "y": [
          12578.8877061,
          14583.379752100001,
          16096.5793273,
          16877.0604535,
          16201.3147222,
          15828.4507877,
          14484.8292678,
          12774.4991961,
          10868.4373175,
          9410.5059709,
          8364.039915,
          7510.4467421,
          5854.3571234,
          4895.8290158,
          4453.0152151,
          3543.6542702
         ],
         "yaxis": "y4"
        },
        {
         "customdata": [
          [
           "T34_1000_feas_em",
           "REMIND 3.0"
          ],
          [
           "T34_1000_feas_em",
           "REMIND 3.0"
          ],
          [
           "T34_1000_feas_em",
           "REMIND 3.0"
          ],
          [
           "T34_1000_feas_em",
           "REMIND 3.0"
          ],
          [
           "T34_1000_feas_em",
           "REMIND 3.0"
          ],
          [
           "T34_1000_feas_em",
           "REMIND 3.0"
          ],
          [
           "T34_1000_feas_em",
           "REMIND 3.0"
          ],
          [
           "T34_1000_feas_em",
           "REMIND 3.0"
          ],
          [
           "T34_1000_feas_em",
           "REMIND 3.0"
          ],
          [
           "T34_1000_feas_em",
           "REMIND 3.0"
          ],
          [
           "T34_1000_feas_em",
           "REMIND 3.0"
          ],
          [
           "T34_1000_feas_em",
           "REMIND 3.0"
          ],
          [
           "T34_1000_feas_em",
           "REMIND 3.0"
          ],
          [
           "T34_1000_feas_em",
           "REMIND 3.0"
          ],
          [
           "T34_1000_feas_em",
           "REMIND 3.0"
          ],
          [
           "T34_1000_feas_em",
           "REMIND 3.0"
          ]
         ],
         "hovertemplate": "region=RoW<br>model=%{customdata[1]}<br>scenario_narrative=Tech+Inst+Enab<br>year=%{x}<br>Emissions|Kyoto Gases=%{y}<br>scenario=%{customdata[0]}<extra></extra>",
         "legendgroup": "RoW, REMIND 3.0",
         "line": {
          "color": "#00cc96",
          "dash": "solid"
         },
         "marker": {
          "symbol": "circle"
         },
         "mode": "lines",
         "name": "RoW, REMIND 3.0",
         "showlegend": false,
         "type": "scattergl",
         "x": [
          2005,
          2010,
          2015,
          2020,
          2025,
          2030,
          2035,
          2040,
          2045,
          2050,
          2055,
          2060,
          2070,
          2080,
          2090,
          2100
         ],
         "xaxis": "x5",
         "y": [
          12578.8877061,
          14583.379752100001,
          16096.5793273,
          16877.0604535,
          16052.742383199999,
          14361.5440893,
          12989.5102038,
          11410.2534135,
          9832.5482466,
          8736.018230900001,
          7972.696949300001,
          7140.9813782,
          5698.8297264,
          5132.9049592,
          4212.4336266,
          3383.98096
         ],
         "yaxis": "y5"
        },
        {
         "customdata": [
          [
           "T34_1000_govem",
           "REMIND 3.0"
          ],
          [
           "T34_1000_govem",
           "REMIND 3.0"
          ],
          [
           "T34_1000_govem",
           "REMIND 3.0"
          ],
          [
           "T34_1000_govem",
           "REMIND 3.0"
          ],
          [
           "T34_1000_govem",
           "REMIND 3.0"
          ],
          [
           "T34_1000_govem",
           "REMIND 3.0"
          ],
          [
           "T34_1000_govem",
           "REMIND 3.0"
          ],
          [
           "T34_1000_govem",
           "REMIND 3.0"
          ],
          [
           "T34_1000_govem",
           "REMIND 3.0"
          ],
          [
           "T34_1000_govem",
           "REMIND 3.0"
          ],
          [
           "T34_1000_govem",
           "REMIND 3.0"
          ],
          [
           "T34_1000_govem",
           "REMIND 3.0"
          ],
          [
           "T34_1000_govem",
           "REMIND 3.0"
          ],
          [
           "T34_1000_govem",
           "REMIND 3.0"
          ],
          [
           "T34_1000_govem",
           "REMIND 3.0"
          ],
          [
           "T34_1000_govem",
           "REMIND 3.0"
          ]
         ],
         "hovertemplate": "region=RoW<br>model=%{customdata[1]}<br>scenario_narrative=Instit<br>year=%{x}<br>Emissions|Kyoto Gases=%{y}<br>scenario=%{customdata[0]}<extra></extra>",
         "legendgroup": "RoW, REMIND 3.0",
         "line": {
          "color": "#00cc96",
          "dash": "solid"
         },
         "marker": {
          "symbol": "circle"
         },
         "mode": "lines",
         "name": "RoW, REMIND 3.0",
         "showlegend": false,
         "type": "scattergl",
         "x": [
          2005,
          2010,
          2015,
          2020,
          2025,
          2030,
          2035,
          2040,
          2045,
          2050,
          2055,
          2060,
          2070,
          2080,
          2090,
          2100
         ],
         "xaxis": "x6",
         "y": [
          12578.8877061,
          14583.379752100001,
          16096.5793273,
          16877.0604535,
          16248.3896544,
          16024.4758022,
          14745.3072361,
          12915.8732201,
          11037.638466100001,
          9499.357100199999,
          8355.914669,
          7464.9119051,
          6177.188981,
          5391.1685894,
          4719.2205099,
          3581.5256851
         ],
         "yaxis": "y6"
        },
        {
         "customdata": [
          [
           "T34_1000_ref",
           "REMIND 3.0"
          ],
          [
           "T34_1000_ref",
           "REMIND 3.0"
          ],
          [
           "T34_1000_ref",
           "REMIND 3.0"
          ],
          [
           "T34_1000_ref",
           "REMIND 3.0"
          ],
          [
           "T34_1000_ref",
           "REMIND 3.0"
          ],
          [
           "T34_1000_ref",
           "REMIND 3.0"
          ],
          [
           "T34_1000_ref",
           "REMIND 3.0"
          ],
          [
           "T34_1000_ref",
           "REMIND 3.0"
          ],
          [
           "T34_1000_ref",
           "REMIND 3.0"
          ],
          [
           "T34_1000_ref",
           "REMIND 3.0"
          ],
          [
           "T34_1000_ref",
           "REMIND 3.0"
          ],
          [
           "T34_1000_ref",
           "REMIND 3.0"
          ],
          [
           "T34_1000_ref",
           "REMIND 3.0"
          ],
          [
           "T34_1000_ref",
           "REMIND 3.0"
          ],
          [
           "T34_1000_ref",
           "REMIND 3.0"
          ],
          [
           "T34_1000_ref",
           "REMIND 3.0"
          ]
         ],
         "hovertemplate": "region=RoW<br>model=%{customdata[1]}<br>scenario_narrative=Cost Effective<br>year=%{x}<br>Emissions|Kyoto Gases=%{y}<br>scenario=%{customdata[0]}<extra></extra>",
         "legendgroup": "RoW, REMIND 3.0",
         "line": {
          "color": "#00cc96",
          "dash": "solid"
         },
         "marker": {
          "symbol": "circle"
         },
         "mode": "lines",
         "name": "RoW, REMIND 3.0",
         "showlegend": false,
         "type": "scattergl",
         "x": [
          2005,
          2010,
          2015,
          2020,
          2025,
          2030,
          2035,
          2040,
          2045,
          2050,
          2055,
          2060,
          2070,
          2080,
          2090,
          2100
         ],
         "xaxis": "x",
         "y": [
          12578.8877061,
          14583.379752100001,
          16096.5793273,
          16877.0604535,
          16000.978340099999,
          15392.6152004,
          13929.684691,
          11423.9474968,
          9459.9044936,
          8043.3139259,
          7183.6408908,
          6645.5632764,
          5620.8047908,
          4268.3725031,
          3857.4060876000003,
          3768.5004146
         ],
         "yaxis": "y"
        },
        {
         "customdata": [
          [
           "T34_1000_bitb_ref",
           "REMIND 3.0"
          ],
          [
           "T34_1000_bitb_ref",
           "REMIND 3.0"
          ],
          [
           "T34_1000_bitb_ref",
           "REMIND 3.0"
          ],
          [
           "T34_1000_bitb_ref",
           "REMIND 3.0"
          ],
          [
           "T34_1000_bitb_ref",
           "REMIND 3.0"
          ],
          [
           "T34_1000_bitb_ref",
           "REMIND 3.0"
          ],
          [
           "T34_1000_bitb_ref",
           "REMIND 3.0"
          ],
          [
           "T34_1000_bitb_ref",
           "REMIND 3.0"
          ],
          [
           "T34_1000_bitb_ref",
           "REMIND 3.0"
          ],
          [
           "T34_1000_bitb_ref",
           "REMIND 3.0"
          ],
          [
           "T34_1000_bitb_ref",
           "REMIND 3.0"
          ],
          [
           "T34_1000_bitb_ref",
           "REMIND 3.0"
          ],
          [
           "T34_1000_bitb_ref",
           "REMIND 3.0"
          ],
          [
           "T34_1000_bitb_ref",
           "REMIND 3.0"
          ],
          [
           "T34_1000_bitb_ref",
           "REMIND 3.0"
          ],
          [
           "T34_1000_bitb_ref",
           "REMIND 3.0"
          ]
         ],
         "hovertemplate": "region=RoW<br>model=%{customdata[1]}<br>scenario_narrative=Tech<br>year=%{x}<br>Emissions|Kyoto Gases=%{y}<br>scenario=%{customdata[0]}<extra></extra>",
         "legendgroup": "RoW, REMIND 3.0",
         "line": {
          "color": "#00cc96",
          "dash": "solid"
         },
         "marker": {
          "symbol": "circle"
         },
         "mode": "lines",
         "name": "RoW, REMIND 3.0",
         "showlegend": false,
         "type": "scattergl",
         "x": [
          2005,
          2010,
          2015,
          2020,
          2025,
          2030,
          2035,
          2040,
          2045,
          2050,
          2055,
          2060,
          2070,
          2080,
          2090,
          2100
         ],
         "xaxis": "x2",
         "y": [
          12578.8877061,
          14583.379752100001,
          16096.5793273,
          16877.0604535,
          15978.119469700001,
          14877.348854500002,
          12904.2243623,
          10585.6617964,
          8610.0095993,
          7307.229058,
          6715.4018656,
          6450.9966944,
          5712.779838,
          5058.0720439,
          4382.101212199999,
          3982.6436788
         ],
         "yaxis": "y2"
        },
        {
         "customdata": [
          [
           "T34_1000_enab_em",
           "REMIND 3.0"
          ],
          [
           "T34_1000_enab_em",
           "REMIND 3.0"
          ],
          [
           "T34_1000_enab_em",
           "REMIND 3.0"
          ],
          [
           "T34_1000_enab_em",
           "REMIND 3.0"
          ],
          [
           "T34_1000_enab_em",
           "REMIND 3.0"
          ],
          [
           "T34_1000_enab_em",
           "REMIND 3.0"
          ],
          [
           "T34_1000_enab_em",
           "REMIND 3.0"
          ],
          [
           "T34_1000_enab_em",
           "REMIND 3.0"
          ],
          [
           "T34_1000_enab_em",
           "REMIND 3.0"
          ],
          [
           "T34_1000_enab_em",
           "REMIND 3.0"
          ],
          [
           "T34_1000_enab_em",
           "REMIND 3.0"
          ],
          [
           "T34_1000_enab_em",
           "REMIND 3.0"
          ],
          [
           "T34_1000_enab_em",
           "REMIND 3.0"
          ],
          [
           "T34_1000_enab_em",
           "REMIND 3.0"
          ],
          [
           "T34_1000_enab_em",
           "REMIND 3.0"
          ],
          [
           "T34_1000_enab_em",
           "REMIND 3.0"
          ]
         ],
         "hovertemplate": "region=RoW<br>model=%{customdata[1]}<br>scenario_narrative=Inst+Enab<br>year=%{x}<br>Emissions|Kyoto Gases=%{y}<br>scenario=%{customdata[0]}<extra></extra>",
         "legendgroup": "RoW, REMIND 3.0",
         "line": {
          "color": "#00cc96",
          "dash": "solid"
         },
         "marker": {
          "symbol": "circle"
         },
         "mode": "lines",
         "name": "RoW, REMIND 3.0",
         "showlegend": false,
         "type": "scattergl",
         "x": [
          2005,
          2010,
          2015,
          2020,
          2025,
          2030,
          2035,
          2040,
          2045,
          2050,
          2055,
          2060,
          2070,
          2080,
          2090,
          2100
         ],
         "xaxis": "x3",
         "y": [
          12578.8877061,
          14583.379752100001,
          16096.5793273,
          16877.0604535,
          16037.3241562,
          14392.0617569,
          13088.362691,
          11568.9740059,
          10047.7399145,
          8954.256565900001,
          8188.0939479,
          7315.5788501,
          5879.1276485,
          4957.006430699999,
          4157.760788,
          3374.1624231
         ],
         "yaxis": "y3"
        },
        {
         "customdata": [
          [
           "T34_1000_bitb_em",
           "WITCH 5.0"
          ],
          [
           "T34_1000_bitb_em",
           "WITCH 5.0"
          ],
          [
           "T34_1000_bitb_em",
           "WITCH 5.0"
          ],
          [
           "T34_1000_bitb_em",
           "WITCH 5.0"
          ],
          [
           "T34_1000_bitb_em",
           "WITCH 5.0"
          ],
          [
           "T34_1000_bitb_em",
           "WITCH 5.0"
          ],
          [
           "T34_1000_bitb_em",
           "WITCH 5.0"
          ],
          [
           "T34_1000_bitb_em",
           "WITCH 5.0"
          ],
          [
           "T34_1000_bitb_em",
           "WITCH 5.0"
          ],
          [
           "T34_1000_bitb_em",
           "WITCH 5.0"
          ],
          [
           "T34_1000_bitb_em",
           "WITCH 5.0"
          ],
          [
           "T34_1000_bitb_em",
           "WITCH 5.0"
          ],
          [
           "T34_1000_bitb_em",
           "WITCH 5.0"
          ],
          [
           "T34_1000_bitb_em",
           "WITCH 5.0"
          ],
          [
           "T34_1000_bitb_em",
           "WITCH 5.0"
          ],
          [
           "T34_1000_bitb_em",
           "WITCH 5.0"
          ],
          [
           "T34_1000_bitb_em",
           "WITCH 5.0"
          ],
          [
           "T34_1000_bitb_em",
           "WITCH 5.0"
          ],
          [
           "T34_1000_bitb_em",
           "WITCH 5.0"
          ],
          [
           "T34_1000_bitb_em",
           "WITCH 5.0"
          ]
         ],
         "hovertemplate": "region=RoW<br>model=%{customdata[1]}<br>scenario_narrative=Tech+Inst<br>year=%{x}<br>Emissions|Kyoto Gases=%{y}<br>scenario=%{customdata[0]}<extra></extra>",
         "legendgroup": "RoW, WITCH 5.0",
         "line": {
          "color": "#00cc96",
          "dash": "dot"
         },
         "marker": {
          "symbol": "circle"
         },
         "mode": "lines",
         "name": "RoW, WITCH 5.0",
         "showlegend": true,
         "type": "scattergl",
         "x": [
          2005,
          2010,
          2015,
          2020,
          2025,
          2030,
          2035,
          2040,
          2045,
          2050,
          2055,
          2060,
          2065,
          2070,
          2075,
          2080,
          2085,
          2090,
          2095,
          2100
         ],
         "xaxis": "x4",
         "y": [
          12404.4490092423,
          13950.67668083179,
          15045.575476327478,
          15678.945732389644,
          14851.867229438538,
          12559.4228963906,
          11694.721936254859,
          11095.009327607539,
          10482.84038449872,
          10065.354062037655,
          9678.838457194232,
          8757.231279535326,
          8409.249058241272,
          7610.5959614414,
          7180.783634542843,
          6574.1602166058365,
          2651.7718447690645,
          2767.3546422503678,
          2793.777682497795,
          2849.901615476044
         ],
         "yaxis": "y4"
        },
        {
         "customdata": [
          [
           "T34_1000_feas_em",
           "WITCH 5.0"
          ],
          [
           "T34_1000_feas_em",
           "WITCH 5.0"
          ],
          [
           "T34_1000_feas_em",
           "WITCH 5.0"
          ],
          [
           "T34_1000_feas_em",
           "WITCH 5.0"
          ],
          [
           "T34_1000_feas_em",
           "WITCH 5.0"
          ],
          [
           "T34_1000_feas_em",
           "WITCH 5.0"
          ],
          [
           "T34_1000_feas_em",
           "WITCH 5.0"
          ],
          [
           "T34_1000_feas_em",
           "WITCH 5.0"
          ],
          [
           "T34_1000_feas_em",
           "WITCH 5.0"
          ],
          [
           "T34_1000_feas_em",
           "WITCH 5.0"
          ],
          [
           "T34_1000_feas_em",
           "WITCH 5.0"
          ],
          [
           "T34_1000_feas_em",
           "WITCH 5.0"
          ],
          [
           "T34_1000_feas_em",
           "WITCH 5.0"
          ],
          [
           "T34_1000_feas_em",
           "WITCH 5.0"
          ],
          [
           "T34_1000_feas_em",
           "WITCH 5.0"
          ],
          [
           "T34_1000_feas_em",
           "WITCH 5.0"
          ],
          [
           "T34_1000_feas_em",
           "WITCH 5.0"
          ],
          [
           "T34_1000_feas_em",
           "WITCH 5.0"
          ],
          [
           "T34_1000_feas_em",
           "WITCH 5.0"
          ],
          [
           "T34_1000_feas_em",
           "WITCH 5.0"
          ]
         ],
         "hovertemplate": "region=RoW<br>model=%{customdata[1]}<br>scenario_narrative=Tech+Inst+Enab<br>year=%{x}<br>Emissions|Kyoto Gases=%{y}<br>scenario=%{customdata[0]}<extra></extra>",
         "legendgroup": "RoW, WITCH 5.0",
         "line": {
          "color": "#00cc96",
          "dash": "dot"
         },
         "marker": {
          "symbol": "circle"
         },
         "mode": "lines",
         "name": "RoW, WITCH 5.0",
         "showlegend": false,
         "type": "scattergl",
         "x": [
          2005,
          2010,
          2015,
          2020,
          2025,
          2030,
          2035,
          2040,
          2045,
          2050,
          2055,
          2060,
          2065,
          2070,
          2075,
          2080,
          2085,
          2090,
          2095,
          2100
         ],
         "xaxis": "x5",
         "y": [
          12404.4490092423,
          13950.67668083179,
          15045.575476327478,
          15678.945732389644,
          14506.43915283456,
          12862.188547186208,
          11553.526185572962,
          10351.88175190255,
          9304.647570745681,
          8558.146115175407,
          7639.666073613824,
          6901.063715795254,
          6237.251566315115,
          5634.094253381511,
          4914.944181386968,
          4292.822603901724,
          3536.3365656706997,
          3922.475397039412,
          3586.9591455667655,
          3538.277744597918
         ],
         "yaxis": "y5"
        },
        {
         "customdata": [
          [
           "T34_1000_govem",
           "WITCH 5.0"
          ],
          [
           "T34_1000_govem",
           "WITCH 5.0"
          ],
          [
           "T34_1000_govem",
           "WITCH 5.0"
          ],
          [
           "T34_1000_govem",
           "WITCH 5.0"
          ],
          [
           "T34_1000_govem",
           "WITCH 5.0"
          ],
          [
           "T34_1000_govem",
           "WITCH 5.0"
          ],
          [
           "T34_1000_govem",
           "WITCH 5.0"
          ],
          [
           "T34_1000_govem",
           "WITCH 5.0"
          ],
          [
           "T34_1000_govem",
           "WITCH 5.0"
          ],
          [
           "T34_1000_govem",
           "WITCH 5.0"
          ],
          [
           "T34_1000_govem",
           "WITCH 5.0"
          ],
          [
           "T34_1000_govem",
           "WITCH 5.0"
          ],
          [
           "T34_1000_govem",
           "WITCH 5.0"
          ],
          [
           "T34_1000_govem",
           "WITCH 5.0"
          ],
          [
           "T34_1000_govem",
           "WITCH 5.0"
          ],
          [
           "T34_1000_govem",
           "WITCH 5.0"
          ],
          [
           "T34_1000_govem",
           "WITCH 5.0"
          ],
          [
           "T34_1000_govem",
           "WITCH 5.0"
          ],
          [
           "T34_1000_govem",
           "WITCH 5.0"
          ],
          [
           "T34_1000_govem",
           "WITCH 5.0"
          ]
         ],
         "hovertemplate": "region=RoW<br>model=%{customdata[1]}<br>scenario_narrative=Instit<br>year=%{x}<br>Emissions|Kyoto Gases=%{y}<br>scenario=%{customdata[0]}<extra></extra>",
         "legendgroup": "RoW, WITCH 5.0",
         "line": {
          "color": "#00cc96",
          "dash": "dot"
         },
         "marker": {
          "symbol": "circle"
         },
         "mode": "lines",
         "name": "RoW, WITCH 5.0",
         "showlegend": false,
         "type": "scattergl",
         "x": [
          2005,
          2010,
          2015,
          2020,
          2025,
          2030,
          2035,
          2040,
          2045,
          2050,
          2055,
          2060,
          2065,
          2070,
          2075,
          2080,
          2085,
          2090,
          2095,
          2100
         ],
         "xaxis": "x6",
         "y": [
          12404.4490092423,
          13950.67668083179,
          15045.575476327478,
          15678.945732389644,
          14631.295943713416,
          12991.166156579971,
          12030.66917670091,
          11203.424224328486,
          10354.328521792164,
          9927.566954292575,
          9027.88564844524,
          7803.7543433013725,
          6903.490369438189,
          6115.355574569219,
          5339.0865264589875,
          4308.696569145449,
          3756.4111197814673,
          967.3069394457054,
          -442.45065011850556,
          -402.914757707686
         ],
         "yaxis": "y6"
        },
        {
         "customdata": [
          [
           "T34_1000_ref",
           "WITCH 5.0"
          ],
          [
           "T34_1000_ref",
           "WITCH 5.0"
          ],
          [
           "T34_1000_ref",
           "WITCH 5.0"
          ],
          [
           "T34_1000_ref",
           "WITCH 5.0"
          ],
          [
           "T34_1000_ref",
           "WITCH 5.0"
          ],
          [
           "T34_1000_ref",
           "WITCH 5.0"
          ],
          [
           "T34_1000_ref",
           "WITCH 5.0"
          ],
          [
           "T34_1000_ref",
           "WITCH 5.0"
          ],
          [
           "T34_1000_ref",
           "WITCH 5.0"
          ],
          [
           "T34_1000_ref",
           "WITCH 5.0"
          ],
          [
           "T34_1000_ref",
           "WITCH 5.0"
          ],
          [
           "T34_1000_ref",
           "WITCH 5.0"
          ],
          [
           "T34_1000_ref",
           "WITCH 5.0"
          ],
          [
           "T34_1000_ref",
           "WITCH 5.0"
          ],
          [
           "T34_1000_ref",
           "WITCH 5.0"
          ],
          [
           "T34_1000_ref",
           "WITCH 5.0"
          ],
          [
           "T34_1000_ref",
           "WITCH 5.0"
          ],
          [
           "T34_1000_ref",
           "WITCH 5.0"
          ],
          [
           "T34_1000_ref",
           "WITCH 5.0"
          ],
          [
           "T34_1000_ref",
           "WITCH 5.0"
          ]
         ],
         "hovertemplate": "region=RoW<br>model=%{customdata[1]}<br>scenario_narrative=Cost Effective<br>year=%{x}<br>Emissions|Kyoto Gases=%{y}<br>scenario=%{customdata[0]}<extra></extra>",
         "legendgroup": "RoW, WITCH 5.0",
         "line": {
          "color": "#00cc96",
          "dash": "dot"
         },
         "marker": {
          "symbol": "circle"
         },
         "mode": "lines",
         "name": "RoW, WITCH 5.0",
         "showlegend": false,
         "type": "scattergl",
         "x": [
          2005,
          2010,
          2015,
          2020,
          2025,
          2030,
          2035,
          2040,
          2045,
          2050,
          2055,
          2060,
          2065,
          2070,
          2075,
          2080,
          2085,
          2090,
          2095,
          2100
         ],
         "xaxis": "x",
         "y": [
          12404.4490092423,
          13950.67668083179,
          15045.575476327478,
          15678.945732389644,
          13922.59345610752,
          8426.832302858265,
          7630.733715454924,
          7307.071937849455,
          7086.420338781177,
          6937.902929617614,
          6595.146478217004,
          6262.059438499903,
          5902.25877100851,
          5419.336619045205,
          4864.737770742972,
          4236.560126266599,
          3543.667966325409,
          3064.901253353793,
          3029.2432935845404,
          2943.855023727388
         ],
         "yaxis": "y"
        },
        {
         "customdata": [
          [
           "T34_1000_bitb_ref",
           "WITCH 5.0"
          ],
          [
           "T34_1000_bitb_ref",
           "WITCH 5.0"
          ],
          [
           "T34_1000_bitb_ref",
           "WITCH 5.0"
          ],
          [
           "T34_1000_bitb_ref",
           "WITCH 5.0"
          ],
          [
           "T34_1000_bitb_ref",
           "WITCH 5.0"
          ],
          [
           "T34_1000_bitb_ref",
           "WITCH 5.0"
          ],
          [
           "T34_1000_bitb_ref",
           "WITCH 5.0"
          ],
          [
           "T34_1000_bitb_ref",
           "WITCH 5.0"
          ],
          [
           "T34_1000_bitb_ref",
           "WITCH 5.0"
          ],
          [
           "T34_1000_bitb_ref",
           "WITCH 5.0"
          ],
          [
           "T34_1000_bitb_ref",
           "WITCH 5.0"
          ],
          [
           "T34_1000_bitb_ref",
           "WITCH 5.0"
          ],
          [
           "T34_1000_bitb_ref",
           "WITCH 5.0"
          ],
          [
           "T34_1000_bitb_ref",
           "WITCH 5.0"
          ],
          [
           "T34_1000_bitb_ref",
           "WITCH 5.0"
          ],
          [
           "T34_1000_bitb_ref",
           "WITCH 5.0"
          ],
          [
           "T34_1000_bitb_ref",
           "WITCH 5.0"
          ],
          [
           "T34_1000_bitb_ref",
           "WITCH 5.0"
          ],
          [
           "T34_1000_bitb_ref",
           "WITCH 5.0"
          ],
          [
           "T34_1000_bitb_ref",
           "WITCH 5.0"
          ]
         ],
         "hovertemplate": "region=RoW<br>model=%{customdata[1]}<br>scenario_narrative=Tech<br>year=%{x}<br>Emissions|Kyoto Gases=%{y}<br>scenario=%{customdata[0]}<extra></extra>",
         "legendgroup": "RoW, WITCH 5.0",
         "line": {
          "color": "#00cc96",
          "dash": "dot"
         },
         "marker": {
          "symbol": "circle"
         },
         "mode": "lines",
         "name": "RoW, WITCH 5.0",
         "showlegend": false,
         "type": "scattergl",
         "x": [
          2005,
          2010,
          2015,
          2020,
          2025,
          2030,
          2035,
          2040,
          2045,
          2050,
          2055,
          2060,
          2065,
          2070,
          2075,
          2080,
          2085,
          2090,
          2095,
          2100
         ],
         "xaxis": "x2",
         "y": [
          12404.4490092423,
          13950.67668083179,
          15045.575476327478,
          15678.945732389644,
          13838.599583165207,
          7159.807231175425,
          6837.013664475731,
          6221.7038613363475,
          5919.592308870602,
          5684.368613176763,
          5413.251209016056,
          5201.967174900969,
          4976.74275234897,
          4731.63021725942,
          4533.382908427147,
          4403.821947437574,
          4301.8827042236335,
          4148.341148173476,
          4041.6168180050736,
          3923.298487631307
         ],
         "yaxis": "y2"
        },
        {
         "customdata": [
          [
           "T34_1000_enab_em",
           "WITCH 5.0"
          ],
          [
           "T34_1000_enab_em",
           "WITCH 5.0"
          ],
          [
           "T34_1000_enab_em",
           "WITCH 5.0"
          ],
          [
           "T34_1000_enab_em",
           "WITCH 5.0"
          ],
          [
           "T34_1000_enab_em",
           "WITCH 5.0"
          ],
          [
           "T34_1000_enab_em",
           "WITCH 5.0"
          ],
          [
           "T34_1000_enab_em",
           "WITCH 5.0"
          ],
          [
           "T34_1000_enab_em",
           "WITCH 5.0"
          ],
          [
           "T34_1000_enab_em",
           "WITCH 5.0"
          ],
          [
           "T34_1000_enab_em",
           "WITCH 5.0"
          ],
          [
           "T34_1000_enab_em",
           "WITCH 5.0"
          ],
          [
           "T34_1000_enab_em",
           "WITCH 5.0"
          ],
          [
           "T34_1000_enab_em",
           "WITCH 5.0"
          ],
          [
           "T34_1000_enab_em",
           "WITCH 5.0"
          ],
          [
           "T34_1000_enab_em",
           "WITCH 5.0"
          ],
          [
           "T34_1000_enab_em",
           "WITCH 5.0"
          ],
          [
           "T34_1000_enab_em",
           "WITCH 5.0"
          ],
          [
           "T34_1000_enab_em",
           "WITCH 5.0"
          ],
          [
           "T34_1000_enab_em",
           "WITCH 5.0"
          ],
          [
           "T34_1000_enab_em",
           "WITCH 5.0"
          ]
         ],
         "hovertemplate": "region=RoW<br>model=%{customdata[1]}<br>scenario_narrative=Inst+Enab<br>year=%{x}<br>Emissions|Kyoto Gases=%{y}<br>scenario=%{customdata[0]}<extra></extra>",
         "legendgroup": "RoW, WITCH 5.0",
         "line": {
          "color": "#00cc96",
          "dash": "dot"
         },
         "marker": {
          "symbol": "circle"
         },
         "mode": "lines",
         "name": "RoW, WITCH 5.0",
         "showlegend": false,
         "type": "scattergl",
         "x": [
          2005,
          2010,
          2015,
          2020,
          2025,
          2030,
          2035,
          2040,
          2045,
          2050,
          2055,
          2060,
          2065,
          2070,
          2075,
          2080,
          2085,
          2090,
          2095,
          2100
         ],
         "xaxis": "x3",
         "y": [
          12404.4490092423,
          13950.67668083179,
          15045.575476327478,
          15678.945732389644,
          14631.518813965022,
          13291.374986970795,
          11749.615658008594,
          10436.695553659414,
          9353.772103426085,
          8543.819995026115,
          7727.188624718665,
          6940.919209248991,
          6224.089216381279,
          5535.562971543359,
          4739.637925834757,
          4083.610892970323,
          3801.777169198035,
          3363.2489464866976,
          2556.6874050273454,
          2081.236881619217
         ],
         "yaxis": "y3"
        }
       ],
       "layout": {
        "annotations": [
         {
          "font": {},
          "showarrow": false,
          "text": "scenario_narrative=Cost Effective",
          "x": 0.15999999999999998,
          "xanchor": "center",
          "xref": "paper",
          "y": 0.46499999999999997,
          "yanchor": "bottom",
          "yref": "paper"
         },
         {
          "font": {},
          "showarrow": false,
          "text": "scenario_narrative=Tech",
          "x": 0.49999999999999994,
          "xanchor": "center",
          "xref": "paper",
          "y": 0.46499999999999997,
          "yanchor": "bottom",
          "yref": "paper"
         },
         {
          "font": {},
          "showarrow": false,
          "text": "scenario_narrative=Inst+Enab",
          "x": 0.8399999999999999,
          "xanchor": "center",
          "xref": "paper",
          "y": 0.46499999999999997,
          "yanchor": "bottom",
          "yref": "paper"
         },
         {
          "font": {},
          "showarrow": false,
          "text": "scenario_narrative=Tech+Inst",
          "x": 0.15999999999999998,
          "xanchor": "center",
          "xref": "paper",
          "y": 0.9999999999999999,
          "yanchor": "bottom",
          "yref": "paper"
         },
         {
          "font": {},
          "showarrow": false,
          "text": "scenario_narrative=Tech+Inst+Enab",
          "x": 0.49999999999999994,
          "xanchor": "center",
          "xref": "paper",
          "y": 0.9999999999999999,
          "yanchor": "bottom",
          "yref": "paper"
         },
         {
          "font": {},
          "showarrow": false,
          "text": "scenario_narrative=Instit",
          "x": 0.8399999999999999,
          "xanchor": "center",
          "xref": "paper",
          "y": 0.9999999999999999,
          "yanchor": "bottom",
          "yref": "paper"
         }
        ],
        "legend": {
         "title": {
          "text": "region, model"
         },
         "tracegroupgap": 0
        },
        "showlegend": false,
        "template": {
         "data": {
          "bar": [
           {
            "error_x": {
             "color": "#2a3f5f"
            },
            "error_y": {
             "color": "#2a3f5f"
            },
            "marker": {
             "line": {
              "color": "#E5ECF6",
              "width": 0.5
             },
             "pattern": {
              "fillmode": "overlay",
              "size": 10,
              "solidity": 0.2
             }
            },
            "type": "bar"
           }
          ],
          "barpolar": [
           {
            "marker": {
             "line": {
              "color": "#E5ECF6",
              "width": 0.5
             },
             "pattern": {
              "fillmode": "overlay",
              "size": 10,
              "solidity": 0.2
             }
            },
            "type": "barpolar"
           }
          ],
          "carpet": [
           {
            "aaxis": {
             "endlinecolor": "#2a3f5f",
             "gridcolor": "white",
             "linecolor": "white",
             "minorgridcolor": "white",
             "startlinecolor": "#2a3f5f"
            },
            "baxis": {
             "endlinecolor": "#2a3f5f",
             "gridcolor": "white",
             "linecolor": "white",
             "minorgridcolor": "white",
             "startlinecolor": "#2a3f5f"
            },
            "type": "carpet"
           }
          ],
          "choropleth": [
           {
            "colorbar": {
             "outlinewidth": 0,
             "ticks": ""
            },
            "type": "choropleth"
           }
          ],
          "contour": [
           {
            "colorbar": {
             "outlinewidth": 0,
             "ticks": ""
            },
            "colorscale": [
             [
              0,
              "#0d0887"
             ],
             [
              0.1111111111111111,
              "#46039f"
             ],
             [
              0.2222222222222222,
              "#7201a8"
             ],
             [
              0.3333333333333333,
              "#9c179e"
             ],
             [
              0.4444444444444444,
              "#bd3786"
             ],
             [
              0.5555555555555556,
              "#d8576b"
             ],
             [
              0.6666666666666666,
              "#ed7953"
             ],
             [
              0.7777777777777778,
              "#fb9f3a"
             ],
             [
              0.8888888888888888,
              "#fdca26"
             ],
             [
              1,
              "#f0f921"
             ]
            ],
            "type": "contour"
           }
          ],
          "contourcarpet": [
           {
            "colorbar": {
             "outlinewidth": 0,
             "ticks": ""
            },
            "type": "contourcarpet"
           }
          ],
          "heatmap": [
           {
            "colorbar": {
             "outlinewidth": 0,
             "ticks": ""
            },
            "colorscale": [
             [
              0,
              "#0d0887"
             ],
             [
              0.1111111111111111,
              "#46039f"
             ],
             [
              0.2222222222222222,
              "#7201a8"
             ],
             [
              0.3333333333333333,
              "#9c179e"
             ],
             [
              0.4444444444444444,
              "#bd3786"
             ],
             [
              0.5555555555555556,
              "#d8576b"
             ],
             [
              0.6666666666666666,
              "#ed7953"
             ],
             [
              0.7777777777777778,
              "#fb9f3a"
             ],
             [
              0.8888888888888888,
              "#fdca26"
             ],
             [
              1,
              "#f0f921"
             ]
            ],
            "type": "heatmap"
           }
          ],
          "heatmapgl": [
           {
            "colorbar": {
             "outlinewidth": 0,
             "ticks": ""
            },
            "colorscale": [
             [
              0,
              "#0d0887"
             ],
             [
              0.1111111111111111,
              "#46039f"
             ],
             [
              0.2222222222222222,
              "#7201a8"
             ],
             [
              0.3333333333333333,
              "#9c179e"
             ],
             [
              0.4444444444444444,
              "#bd3786"
             ],
             [
              0.5555555555555556,
              "#d8576b"
             ],
             [
              0.6666666666666666,
              "#ed7953"
             ],
             [
              0.7777777777777778,
              "#fb9f3a"
             ],
             [
              0.8888888888888888,
              "#fdca26"
             ],
             [
              1,
              "#f0f921"
             ]
            ],
            "type": "heatmapgl"
           }
          ],
          "histogram": [
           {
            "marker": {
             "pattern": {
              "fillmode": "overlay",
              "size": 10,
              "solidity": 0.2
             }
            },
            "type": "histogram"
           }
          ],
          "histogram2d": [
           {
            "colorbar": {
             "outlinewidth": 0,
             "ticks": ""
            },
            "colorscale": [
             [
              0,
              "#0d0887"
             ],
             [
              0.1111111111111111,
              "#46039f"
             ],
             [
              0.2222222222222222,
              "#7201a8"
             ],
             [
              0.3333333333333333,
              "#9c179e"
             ],
             [
              0.4444444444444444,
              "#bd3786"
             ],
             [
              0.5555555555555556,
              "#d8576b"
             ],
             [
              0.6666666666666666,
              "#ed7953"
             ],
             [
              0.7777777777777778,
              "#fb9f3a"
             ],
             [
              0.8888888888888888,
              "#fdca26"
             ],
             [
              1,
              "#f0f921"
             ]
            ],
            "type": "histogram2d"
           }
          ],
          "histogram2dcontour": [
           {
            "colorbar": {
             "outlinewidth": 0,
             "ticks": ""
            },
            "colorscale": [
             [
              0,
              "#0d0887"
             ],
             [
              0.1111111111111111,
              "#46039f"
             ],
             [
              0.2222222222222222,
              "#7201a8"
             ],
             [
              0.3333333333333333,
              "#9c179e"
             ],
             [
              0.4444444444444444,
              "#bd3786"
             ],
             [
              0.5555555555555556,
              "#d8576b"
             ],
             [
              0.6666666666666666,
              "#ed7953"
             ],
             [
              0.7777777777777778,
              "#fb9f3a"
             ],
             [
              0.8888888888888888,
              "#fdca26"
             ],
             [
              1,
              "#f0f921"
             ]
            ],
            "type": "histogram2dcontour"
           }
          ],
          "mesh3d": [
           {
            "colorbar": {
             "outlinewidth": 0,
             "ticks": ""
            },
            "type": "mesh3d"
           }
          ],
          "parcoords": [
           {
            "line": {
             "colorbar": {
              "outlinewidth": 0,
              "ticks": ""
             }
            },
            "type": "parcoords"
           }
          ],
          "pie": [
           {
            "automargin": true,
            "type": "pie"
           }
          ],
          "scatter": [
           {
            "fillpattern": {
             "fillmode": "overlay",
             "size": 10,
             "solidity": 0.2
            },
            "type": "scatter"
           }
          ],
          "scatter3d": [
           {
            "line": {
             "colorbar": {
              "outlinewidth": 0,
              "ticks": ""
             }
            },
            "marker": {
             "colorbar": {
              "outlinewidth": 0,
              "ticks": ""
             }
            },
            "type": "scatter3d"
           }
          ],
          "scattercarpet": [
           {
            "marker": {
             "colorbar": {
              "outlinewidth": 0,
              "ticks": ""
             }
            },
            "type": "scattercarpet"
           }
          ],
          "scattergeo": [
           {
            "marker": {
             "colorbar": {
              "outlinewidth": 0,
              "ticks": ""
             }
            },
            "type": "scattergeo"
           }
          ],
          "scattergl": [
           {
            "marker": {
             "colorbar": {
              "outlinewidth": 0,
              "ticks": ""
             }
            },
            "type": "scattergl"
           }
          ],
          "scattermapbox": [
           {
            "marker": {
             "colorbar": {
              "outlinewidth": 0,
              "ticks": ""
             }
            },
            "type": "scattermapbox"
           }
          ],
          "scatterpolar": [
           {
            "marker": {
             "colorbar": {
              "outlinewidth": 0,
              "ticks": ""
             }
            },
            "type": "scatterpolar"
           }
          ],
          "scatterpolargl": [
           {
            "marker": {
             "colorbar": {
              "outlinewidth": 0,
              "ticks": ""
             }
            },
            "type": "scatterpolargl"
           }
          ],
          "scatterternary": [
           {
            "marker": {
             "colorbar": {
              "outlinewidth": 0,
              "ticks": ""
             }
            },
            "type": "scatterternary"
           }
          ],
          "surface": [
           {
            "colorbar": {
             "outlinewidth": 0,
             "ticks": ""
            },
            "colorscale": [
             [
              0,
              "#0d0887"
             ],
             [
              0.1111111111111111,
              "#46039f"
             ],
             [
              0.2222222222222222,
              "#7201a8"
             ],
             [
              0.3333333333333333,
              "#9c179e"
             ],
             [
              0.4444444444444444,
              "#bd3786"
             ],
             [
              0.5555555555555556,
              "#d8576b"
             ],
             [
              0.6666666666666666,
              "#ed7953"
             ],
             [
              0.7777777777777778,
              "#fb9f3a"
             ],
             [
              0.8888888888888888,
              "#fdca26"
             ],
             [
              1,
              "#f0f921"
             ]
            ],
            "type": "surface"
           }
          ],
          "table": [
           {
            "cells": {
             "fill": {
              "color": "#EBF0F8"
             },
             "line": {
              "color": "white"
             }
            },
            "header": {
             "fill": {
              "color": "#C8D4E3"
             },
             "line": {
              "color": "white"
             }
            },
            "type": "table"
           }
          ]
         },
         "layout": {
          "annotationdefaults": {
           "arrowcolor": "#2a3f5f",
           "arrowhead": 0,
           "arrowwidth": 1
          },
          "autotypenumbers": "strict",
          "coloraxis": {
           "colorbar": {
            "outlinewidth": 0,
            "ticks": ""
           }
          },
          "colorscale": {
           "diverging": [
            [
             0,
             "#8e0152"
            ],
            [
             0.1,
             "#c51b7d"
            ],
            [
             0.2,
             "#de77ae"
            ],
            [
             0.3,
             "#f1b6da"
            ],
            [
             0.4,
             "#fde0ef"
            ],
            [
             0.5,
             "#f7f7f7"
            ],
            [
             0.6,
             "#e6f5d0"
            ],
            [
             0.7,
             "#b8e186"
            ],
            [
             0.8,
             "#7fbc41"
            ],
            [
             0.9,
             "#4d9221"
            ],
            [
             1,
             "#276419"
            ]
           ],
           "sequential": [
            [
             0,
             "#0d0887"
            ],
            [
             0.1111111111111111,
             "#46039f"
            ],
            [
             0.2222222222222222,
             "#7201a8"
            ],
            [
             0.3333333333333333,
             "#9c179e"
            ],
            [
             0.4444444444444444,
             "#bd3786"
            ],
            [
             0.5555555555555556,
             "#d8576b"
            ],
            [
             0.6666666666666666,
             "#ed7953"
            ],
            [
             0.7777777777777778,
             "#fb9f3a"
            ],
            [
             0.8888888888888888,
             "#fdca26"
            ],
            [
             1,
             "#f0f921"
            ]
           ],
           "sequentialminus": [
            [
             0,
             "#0d0887"
            ],
            [
             0.1111111111111111,
             "#46039f"
            ],
            [
             0.2222222222222222,
             "#7201a8"
            ],
            [
             0.3333333333333333,
             "#9c179e"
            ],
            [
             0.4444444444444444,
             "#bd3786"
            ],
            [
             0.5555555555555556,
             "#d8576b"
            ],
            [
             0.6666666666666666,
             "#ed7953"
            ],
            [
             0.7777777777777778,
             "#fb9f3a"
            ],
            [
             0.8888888888888888,
             "#fdca26"
            ],
            [
             1,
             "#f0f921"
            ]
           ]
          },
          "colorway": [
           "#636efa",
           "#EF553B",
           "#00cc96",
           "#ab63fa",
           "#FFA15A",
           "#19d3f3",
           "#FF6692",
           "#B6E880",
           "#FF97FF",
           "#FECB52"
          ],
          "font": {
           "color": "#2a3f5f"
          },
          "geo": {
           "bgcolor": "white",
           "lakecolor": "white",
           "landcolor": "#E5ECF6",
           "showlakes": true,
           "showland": true,
           "subunitcolor": "white"
          },
          "hoverlabel": {
           "align": "left"
          },
          "hovermode": "closest",
          "mapbox": {
           "style": "light"
          },
          "paper_bgcolor": "white",
          "plot_bgcolor": "#E5ECF6",
          "polar": {
           "angularaxis": {
            "gridcolor": "white",
            "linecolor": "white",
            "ticks": ""
           },
           "bgcolor": "#E5ECF6",
           "radialaxis": {
            "gridcolor": "white",
            "linecolor": "white",
            "ticks": ""
           }
          },
          "scene": {
           "xaxis": {
            "backgroundcolor": "#E5ECF6",
            "gridcolor": "white",
            "gridwidth": 2,
            "linecolor": "white",
            "showbackground": true,
            "ticks": "",
            "zerolinecolor": "white"
           },
           "yaxis": {
            "backgroundcolor": "#E5ECF6",
            "gridcolor": "white",
            "gridwidth": 2,
            "linecolor": "white",
            "showbackground": true,
            "ticks": "",
            "zerolinecolor": "white"
           },
           "zaxis": {
            "backgroundcolor": "#E5ECF6",
            "gridcolor": "white",
            "gridwidth": 2,
            "linecolor": "white",
            "showbackground": true,
            "ticks": "",
            "zerolinecolor": "white"
           }
          },
          "shapedefaults": {
           "line": {
            "color": "#2a3f5f"
           }
          },
          "ternary": {
           "aaxis": {
            "gridcolor": "white",
            "linecolor": "white",
            "ticks": ""
           },
           "baxis": {
            "gridcolor": "white",
            "linecolor": "white",
            "ticks": ""
           },
           "bgcolor": "#E5ECF6",
           "caxis": {
            "gridcolor": "white",
            "linecolor": "white",
            "ticks": ""
           }
          },
          "title": {
           "x": 0.05
          },
          "xaxis": {
           "automargin": true,
           "gridcolor": "white",
           "linecolor": "white",
           "ticks": "",
           "title": {
            "standoff": 15
           },
           "zerolinecolor": "white",
           "zerolinewidth": 2
          },
          "yaxis": {
           "automargin": true,
           "gridcolor": "white",
           "linecolor": "white",
           "ticks": "",
           "title": {
            "standoff": 15
           },
           "zerolinecolor": "white",
           "zerolinewidth": 2
          }
         }
        },
        "title": {
         "text": "GHG emission trajectories"
        },
        "xaxis": {
         "anchor": "y",
         "domain": [
          0,
          0.31999999999999995
         ],
         "range": [
          2005,
          2100
         ],
         "title": {
          "text": "year"
         }
        },
        "xaxis2": {
         "anchor": "y2",
         "domain": [
          0.33999999999999997,
          0.6599999999999999
         ],
         "matches": "x",
         "range": [
          2005,
          2100
         ],
         "title": {
          "text": "year"
         }
        },
        "xaxis3": {
         "anchor": "y3",
         "domain": [
          0.6799999999999999,
          0.9999999999999999
         ],
         "matches": "x",
         "range": [
          2005,
          2100
         ],
         "title": {
          "text": "year"
         }
        },
        "xaxis4": {
         "anchor": "y4",
         "domain": [
          0,
          0.31999999999999995
         ],
         "matches": "x",
         "showticklabels": false
        },
        "xaxis5": {
         "anchor": "y5",
         "domain": [
          0.33999999999999997,
          0.6599999999999999
         ],
         "matches": "x",
         "showticklabels": false
        },
        "xaxis6": {
         "anchor": "y6",
         "domain": [
          0.6799999999999999,
          0.9999999999999999
         ],
         "matches": "x",
         "showticklabels": false
        },
        "yaxis": {
         "anchor": "x",
         "domain": [
          0,
          0.46499999999999997
         ],
         "range": [
          -10000,
          20000
         ],
         "title": {
          "text": "Emissions|Kyoto Gases"
         }
        },
        "yaxis2": {
         "anchor": "x2",
         "domain": [
          0,
          0.46499999999999997
         ],
         "matches": "y",
         "showticklabels": false
        },
        "yaxis3": {
         "anchor": "x3",
         "domain": [
          0,
          0.46499999999999997
         ],
         "matches": "y",
         "showticklabels": false
        },
        "yaxis4": {
         "anchor": "x4",
         "domain": [
          0.5349999999999999,
          0.9999999999999999
         ],
         "matches": "y",
         "range": [
          -10000,
          20000
         ],
         "title": {
          "text": "Emissions|Kyoto Gases"
         }
        },
        "yaxis5": {
         "anchor": "x5",
         "domain": [
          0.5349999999999999,
          0.9999999999999999
         ],
         "matches": "y",
         "showticklabels": false
        },
        "yaxis6": {
         "anchor": "x6",
         "domain": [
          0.5349999999999999,
          0.9999999999999999
         ],
         "matches": "y",
         "showticklabels": false
        }
       }
      }
     },
     "metadata": {},
     "output_type": "display_data"
    }
   ],
   "source": [
    "#Figure 2: GHG trajectories\n",
    "fig2 = px.line(df,\n",
    "               x = \"year\",\n",
    "               y=\"Emissions|Kyoto Gases\",\n",
    "               color = \"region\",\n",
    "               line_dash=\"model\",\n",
    "               facet_col=\"scenario_narrative\",\n",
    "               facet_col_wrap= 3,\n",
    "               range_x=[2005, 2100],\n",
    "               range_y = [-10000, 20000],\n",
    "               hover_data = {'scenario':True, 'model':True}, \n",
    "               title = \"GHG emission trajectories\")\n",
    "fig2.update_layout(showlegend=False)\n",
    "fig2"
   ]
  },
  {
   "cell_type": "code",
   "execution_count": 31,
   "metadata": {},
   "outputs": [
    {
     "data": {
      "text/html": [
       "<div>\n",
       "<style scoped>\n",
       "    .dataframe tbody tr th:only-of-type {\n",
       "        vertical-align: middle;\n",
       "    }\n",
       "\n",
       "    .dataframe tbody tr th {\n",
       "        vertical-align: top;\n",
       "    }\n",
       "\n",
       "    .dataframe thead th {\n",
       "        text-align: right;\n",
       "    }\n",
       "</style>\n",
       "<table border=\"1\" class=\"dataframe\">\n",
       "  <thead>\n",
       "    <tr style=\"text-align: right;\">\n",
       "      <th></th>\n",
       "      <th>model</th>\n",
       "      <th>scenario</th>\n",
       "      <th>carbon_budget</th>\n",
       "      <th>year_netzero</th>\n",
       "    </tr>\n",
       "  </thead>\n",
       "  <tbody>\n",
       "    <tr>\n",
       "      <th>0</th>\n",
       "      <td>AIM/CGE V2.2</td>\n",
       "      <td>T34_1000_feas_em</td>\n",
       "      <td>2C</td>\n",
       "      <td>2060</td>\n",
       "    </tr>\n",
       "    <tr>\n",
       "      <th>1</th>\n",
       "      <td>AIM/CGE V2.2</td>\n",
       "      <td>T34_1000_feas_pr</td>\n",
       "      <td>2C</td>\n",
       "      <td>2055</td>\n",
       "    </tr>\n",
       "    <tr>\n",
       "      <th>2</th>\n",
       "      <td>AIM/CGE V2.2</td>\n",
       "      <td>T34_1000_feas_ref</td>\n",
       "      <td>2C</td>\n",
       "      <td>2070</td>\n",
       "    </tr>\n",
       "    <tr>\n",
       "      <th>3</th>\n",
       "      <td>GEM-E3_V2023</td>\n",
       "      <td>T34_1000_feas_em</td>\n",
       "      <td>2C</td>\n",
       "      <td>2090</td>\n",
       "    </tr>\n",
       "    <tr>\n",
       "      <th>4</th>\n",
       "      <td>IMAGE 3.2</td>\n",
       "      <td>T34_1000_feas_em</td>\n",
       "      <td>2C</td>\n",
       "      <td>2070</td>\n",
       "    </tr>\n",
       "    <tr>\n",
       "      <th>5</th>\n",
       "      <td>IMAGE 3.2</td>\n",
       "      <td>T34_1000_feas_pr</td>\n",
       "      <td>2C</td>\n",
       "      <td>2070</td>\n",
       "    </tr>\n",
       "    <tr>\n",
       "      <th>6</th>\n",
       "      <td>IMAGE 3.2</td>\n",
       "      <td>T34_1000_feas_ref</td>\n",
       "      <td>2C</td>\n",
       "      <td>2070</td>\n",
       "    </tr>\n",
       "    <tr>\n",
       "      <th>7</th>\n",
       "      <td>MESSAGEix-GLOBIOM_1.1</td>\n",
       "      <td>T34_1000_feas_em</td>\n",
       "      <td>2C</td>\n",
       "      <td>2080</td>\n",
       "    </tr>\n",
       "    <tr>\n",
       "      <th>8</th>\n",
       "      <td>MESSAGEix-GLOBIOM_1.1</td>\n",
       "      <td>T34_1000_feas_pr</td>\n",
       "      <td>2C</td>\n",
       "      <td>2070</td>\n",
       "    </tr>\n",
       "    <tr>\n",
       "      <th>9</th>\n",
       "      <td>MESSAGEix-GLOBIOM_1.1</td>\n",
       "      <td>T34_1000_feas_ref</td>\n",
       "      <td>2C</td>\n",
       "      <td>2100</td>\n",
       "    </tr>\n",
       "    <tr>\n",
       "      <th>10</th>\n",
       "      <td>POLES ENGAGE</td>\n",
       "      <td>T34_1000_feas_em</td>\n",
       "      <td>2C</td>\n",
       "      <td>2080</td>\n",
       "    </tr>\n",
       "    <tr>\n",
       "      <th>11</th>\n",
       "      <td>POLES ENGAGE</td>\n",
       "      <td>T34_1000_feas_pr</td>\n",
       "      <td>2C</td>\n",
       "      <td>2080</td>\n",
       "    </tr>\n",
       "    <tr>\n",
       "      <th>12</th>\n",
       "      <td>REMIND 3.0</td>\n",
       "      <td>T34_550_feas_em</td>\n",
       "      <td>1.5C</td>\n",
       "      <td>2070</td>\n",
       "    </tr>\n",
       "    <tr>\n",
       "      <th>13</th>\n",
       "      <td>REMIND 3.0</td>\n",
       "      <td>T34_550_feas_ref</td>\n",
       "      <td>1.5C</td>\n",
       "      <td>2050</td>\n",
       "    </tr>\n",
       "    <tr>\n",
       "      <th>14</th>\n",
       "      <td>WITCH 5.0</td>\n",
       "      <td>T34_1000_feas_ref</td>\n",
       "      <td>2C</td>\n",
       "      <td>2100</td>\n",
       "    </tr>\n",
       "  </tbody>\n",
       "</table>\n",
       "</div>"
      ],
      "text/plain": [
       "                    model           scenario carbon_budget  year_netzero\n",
       "0            AIM/CGE V2.2   T34_1000_feas_em            2C          2060\n",
       "1            AIM/CGE V2.2   T34_1000_feas_pr            2C          2055\n",
       "2            AIM/CGE V2.2  T34_1000_feas_ref            2C          2070\n",
       "3            GEM-E3_V2023   T34_1000_feas_em            2C          2090\n",
       "4               IMAGE 3.2   T34_1000_feas_em            2C          2070\n",
       "5               IMAGE 3.2   T34_1000_feas_pr            2C          2070\n",
       "6               IMAGE 3.2  T34_1000_feas_ref            2C          2070\n",
       "7   MESSAGEix-GLOBIOM_1.1   T34_1000_feas_em            2C          2080\n",
       "8   MESSAGEix-GLOBIOM_1.1   T34_1000_feas_pr            2C          2070\n",
       "9   MESSAGEix-GLOBIOM_1.1  T34_1000_feas_ref            2C          2100\n",
       "10           POLES ENGAGE   T34_1000_feas_em            2C          2080\n",
       "11           POLES ENGAGE   T34_1000_feas_pr            2C          2080\n",
       "12             REMIND 3.0    T34_550_feas_em          1.5C          2070\n",
       "13             REMIND 3.0   T34_550_feas_ref          1.5C          2050\n",
       "14              WITCH 5.0  T34_1000_feas_ref            2C          2100"
      ]
     },
     "execution_count": 31,
     "metadata": {},
     "output_type": "execute_result"
    }
   ],
   "source": [
    "#calculate year that each scenario hit's net zero\n",
    "netzero_df = df[df[\"Emissions|CO2\"] <= 0].groupby([\"model\", \"scenario\", \"carbon_budget\"])['year'].min().reset_index()\n",
    "netzero_df.rename(columns={\"year\": \"year_netzero\"}, inplace=True)\n",
    "netzero_df\n",
    "#aggregated cost until 2100\n",
    "#df[\"year\"] = pd.to_numeric(df['year'])\n",
    "#df[df[\"year\"] <= 2100].groupby([\"model\", \"scenario\"]).agg({\"AR5 climate diagnostics|Temperature|Exceedance Probability|1.5 degC|MAGICC6\": ['sum']})"
   ]
  },
  {
   "cell_type": "code",
   "execution_count": 10,
   "metadata": {},
   "outputs": [
    {
     "data": {
      "application/vnd.plotly.v1+json": {
       "config": {
        "plotlyServerURL": "https://plot.ly"
       },
       "data": [
        {
         "hovertemplate": "year=%{x}<br>carbon_budget=%{y}<extra></extra>",
         "legendgroup": "",
         "marker": {
          "color": "#636efa",
          "symbol": "circle"
         },
         "mode": "markers",
         "name": "",
         "orientation": "h",
         "showlegend": false,
         "type": "scatter",
         "x": [
          2060,
          2055,
          2070,
          2090,
          2070,
          2070,
          2070,
          2080,
          2070,
          2100,
          2080,
          2080,
          2070,
          2050,
          2100
         ],
         "xaxis": "x",
         "y": [
          "2C",
          "2C",
          "2C",
          "2C",
          "2C",
          "2C",
          "2C",
          "2C",
          "2C",
          "2C",
          "2C",
          "2C",
          "1.5C",
          "1.5C",
          "2C"
         ],
         "yaxis": "y"
        }
       ],
       "layout": {
        "legend": {
         "tracegroupgap": 0
        },
        "margin": {
         "t": 60
        },
        "template": {
         "data": {
          "bar": [
           {
            "error_x": {
             "color": "#2a3f5f"
            },
            "error_y": {
             "color": "#2a3f5f"
            },
            "marker": {
             "line": {
              "color": "#E5ECF6",
              "width": 0.5
             },
             "pattern": {
              "fillmode": "overlay",
              "size": 10,
              "solidity": 0.2
             }
            },
            "type": "bar"
           }
          ],
          "barpolar": [
           {
            "marker": {
             "line": {
              "color": "#E5ECF6",
              "width": 0.5
             },
             "pattern": {
              "fillmode": "overlay",
              "size": 10,
              "solidity": 0.2
             }
            },
            "type": "barpolar"
           }
          ],
          "carpet": [
           {
            "aaxis": {
             "endlinecolor": "#2a3f5f",
             "gridcolor": "white",
             "linecolor": "white",
             "minorgridcolor": "white",
             "startlinecolor": "#2a3f5f"
            },
            "baxis": {
             "endlinecolor": "#2a3f5f",
             "gridcolor": "white",
             "linecolor": "white",
             "minorgridcolor": "white",
             "startlinecolor": "#2a3f5f"
            },
            "type": "carpet"
           }
          ],
          "choropleth": [
           {
            "colorbar": {
             "outlinewidth": 0,
             "ticks": ""
            },
            "type": "choropleth"
           }
          ],
          "contour": [
           {
            "colorbar": {
             "outlinewidth": 0,
             "ticks": ""
            },
            "colorscale": [
             [
              0,
              "#0d0887"
             ],
             [
              0.1111111111111111,
              "#46039f"
             ],
             [
              0.2222222222222222,
              "#7201a8"
             ],
             [
              0.3333333333333333,
              "#9c179e"
             ],
             [
              0.4444444444444444,
              "#bd3786"
             ],
             [
              0.5555555555555556,
              "#d8576b"
             ],
             [
              0.6666666666666666,
              "#ed7953"
             ],
             [
              0.7777777777777778,
              "#fb9f3a"
             ],
             [
              0.8888888888888888,
              "#fdca26"
             ],
             [
              1,
              "#f0f921"
             ]
            ],
            "type": "contour"
           }
          ],
          "contourcarpet": [
           {
            "colorbar": {
             "outlinewidth": 0,
             "ticks": ""
            },
            "type": "contourcarpet"
           }
          ],
          "heatmap": [
           {
            "colorbar": {
             "outlinewidth": 0,
             "ticks": ""
            },
            "colorscale": [
             [
              0,
              "#0d0887"
             ],
             [
              0.1111111111111111,
              "#46039f"
             ],
             [
              0.2222222222222222,
              "#7201a8"
             ],
             [
              0.3333333333333333,
              "#9c179e"
             ],
             [
              0.4444444444444444,
              "#bd3786"
             ],
             [
              0.5555555555555556,
              "#d8576b"
             ],
             [
              0.6666666666666666,
              "#ed7953"
             ],
             [
              0.7777777777777778,
              "#fb9f3a"
             ],
             [
              0.8888888888888888,
              "#fdca26"
             ],
             [
              1,
              "#f0f921"
             ]
            ],
            "type": "heatmap"
           }
          ],
          "heatmapgl": [
           {
            "colorbar": {
             "outlinewidth": 0,
             "ticks": ""
            },
            "colorscale": [
             [
              0,
              "#0d0887"
             ],
             [
              0.1111111111111111,
              "#46039f"
             ],
             [
              0.2222222222222222,
              "#7201a8"
             ],
             [
              0.3333333333333333,
              "#9c179e"
             ],
             [
              0.4444444444444444,
              "#bd3786"
             ],
             [
              0.5555555555555556,
              "#d8576b"
             ],
             [
              0.6666666666666666,
              "#ed7953"
             ],
             [
              0.7777777777777778,
              "#fb9f3a"
             ],
             [
              0.8888888888888888,
              "#fdca26"
             ],
             [
              1,
              "#f0f921"
             ]
            ],
            "type": "heatmapgl"
           }
          ],
          "histogram": [
           {
            "marker": {
             "pattern": {
              "fillmode": "overlay",
              "size": 10,
              "solidity": 0.2
             }
            },
            "type": "histogram"
           }
          ],
          "histogram2d": [
           {
            "colorbar": {
             "outlinewidth": 0,
             "ticks": ""
            },
            "colorscale": [
             [
              0,
              "#0d0887"
             ],
             [
              0.1111111111111111,
              "#46039f"
             ],
             [
              0.2222222222222222,
              "#7201a8"
             ],
             [
              0.3333333333333333,
              "#9c179e"
             ],
             [
              0.4444444444444444,
              "#bd3786"
             ],
             [
              0.5555555555555556,
              "#d8576b"
             ],
             [
              0.6666666666666666,
              "#ed7953"
             ],
             [
              0.7777777777777778,
              "#fb9f3a"
             ],
             [
              0.8888888888888888,
              "#fdca26"
             ],
             [
              1,
              "#f0f921"
             ]
            ],
            "type": "histogram2d"
           }
          ],
          "histogram2dcontour": [
           {
            "colorbar": {
             "outlinewidth": 0,
             "ticks": ""
            },
            "colorscale": [
             [
              0,
              "#0d0887"
             ],
             [
              0.1111111111111111,
              "#46039f"
             ],
             [
              0.2222222222222222,
              "#7201a8"
             ],
             [
              0.3333333333333333,
              "#9c179e"
             ],
             [
              0.4444444444444444,
              "#bd3786"
             ],
             [
              0.5555555555555556,
              "#d8576b"
             ],
             [
              0.6666666666666666,
              "#ed7953"
             ],
             [
              0.7777777777777778,
              "#fb9f3a"
             ],
             [
              0.8888888888888888,
              "#fdca26"
             ],
             [
              1,
              "#f0f921"
             ]
            ],
            "type": "histogram2dcontour"
           }
          ],
          "mesh3d": [
           {
            "colorbar": {
             "outlinewidth": 0,
             "ticks": ""
            },
            "type": "mesh3d"
           }
          ],
          "parcoords": [
           {
            "line": {
             "colorbar": {
              "outlinewidth": 0,
              "ticks": ""
             }
            },
            "type": "parcoords"
           }
          ],
          "pie": [
           {
            "automargin": true,
            "type": "pie"
           }
          ],
          "scatter": [
           {
            "fillpattern": {
             "fillmode": "overlay",
             "size": 10,
             "solidity": 0.2
            },
            "type": "scatter"
           }
          ],
          "scatter3d": [
           {
            "line": {
             "colorbar": {
              "outlinewidth": 0,
              "ticks": ""
             }
            },
            "marker": {
             "colorbar": {
              "outlinewidth": 0,
              "ticks": ""
             }
            },
            "type": "scatter3d"
           }
          ],
          "scattercarpet": [
           {
            "marker": {
             "colorbar": {
              "outlinewidth": 0,
              "ticks": ""
             }
            },
            "type": "scattercarpet"
           }
          ],
          "scattergeo": [
           {
            "marker": {
             "colorbar": {
              "outlinewidth": 0,
              "ticks": ""
             }
            },
            "type": "scattergeo"
           }
          ],
          "scattergl": [
           {
            "marker": {
             "colorbar": {
              "outlinewidth": 0,
              "ticks": ""
             }
            },
            "type": "scattergl"
           }
          ],
          "scattermapbox": [
           {
            "marker": {
             "colorbar": {
              "outlinewidth": 0,
              "ticks": ""
             }
            },
            "type": "scattermapbox"
           }
          ],
          "scatterpolar": [
           {
            "marker": {
             "colorbar": {
              "outlinewidth": 0,
              "ticks": ""
             }
            },
            "type": "scatterpolar"
           }
          ],
          "scatterpolargl": [
           {
            "marker": {
             "colorbar": {
              "outlinewidth": 0,
              "ticks": ""
             }
            },
            "type": "scatterpolargl"
           }
          ],
          "scatterternary": [
           {
            "marker": {
             "colorbar": {
              "outlinewidth": 0,
              "ticks": ""
             }
            },
            "type": "scatterternary"
           }
          ],
          "surface": [
           {
            "colorbar": {
             "outlinewidth": 0,
             "ticks": ""
            },
            "colorscale": [
             [
              0,
              "#0d0887"
             ],
             [
              0.1111111111111111,
              "#46039f"
             ],
             [
              0.2222222222222222,
              "#7201a8"
             ],
             [
              0.3333333333333333,
              "#9c179e"
             ],
             [
              0.4444444444444444,
              "#bd3786"
             ],
             [
              0.5555555555555556,
              "#d8576b"
             ],
             [
              0.6666666666666666,
              "#ed7953"
             ],
             [
              0.7777777777777778,
              "#fb9f3a"
             ],
             [
              0.8888888888888888,
              "#fdca26"
             ],
             [
              1,
              "#f0f921"
             ]
            ],
            "type": "surface"
           }
          ],
          "table": [
           {
            "cells": {
             "fill": {
              "color": "#EBF0F8"
             },
             "line": {
              "color": "white"
             }
            },
            "header": {
             "fill": {
              "color": "#C8D4E3"
             },
             "line": {
              "color": "white"
             }
            },
            "type": "table"
           }
          ]
         },
         "layout": {
          "annotationdefaults": {
           "arrowcolor": "#2a3f5f",
           "arrowhead": 0,
           "arrowwidth": 1
          },
          "autotypenumbers": "strict",
          "coloraxis": {
           "colorbar": {
            "outlinewidth": 0,
            "ticks": ""
           }
          },
          "colorscale": {
           "diverging": [
            [
             0,
             "#8e0152"
            ],
            [
             0.1,
             "#c51b7d"
            ],
            [
             0.2,
             "#de77ae"
            ],
            [
             0.3,
             "#f1b6da"
            ],
            [
             0.4,
             "#fde0ef"
            ],
            [
             0.5,
             "#f7f7f7"
            ],
            [
             0.6,
             "#e6f5d0"
            ],
            [
             0.7,
             "#b8e186"
            ],
            [
             0.8,
             "#7fbc41"
            ],
            [
             0.9,
             "#4d9221"
            ],
            [
             1,
             "#276419"
            ]
           ],
           "sequential": [
            [
             0,
             "#0d0887"
            ],
            [
             0.1111111111111111,
             "#46039f"
            ],
            [
             0.2222222222222222,
             "#7201a8"
            ],
            [
             0.3333333333333333,
             "#9c179e"
            ],
            [
             0.4444444444444444,
             "#bd3786"
            ],
            [
             0.5555555555555556,
             "#d8576b"
            ],
            [
             0.6666666666666666,
             "#ed7953"
            ],
            [
             0.7777777777777778,
             "#fb9f3a"
            ],
            [
             0.8888888888888888,
             "#fdca26"
            ],
            [
             1,
             "#f0f921"
            ]
           ],
           "sequentialminus": [
            [
             0,
             "#0d0887"
            ],
            [
             0.1111111111111111,
             "#46039f"
            ],
            [
             0.2222222222222222,
             "#7201a8"
            ],
            [
             0.3333333333333333,
             "#9c179e"
            ],
            [
             0.4444444444444444,
             "#bd3786"
            ],
            [
             0.5555555555555556,
             "#d8576b"
            ],
            [
             0.6666666666666666,
             "#ed7953"
            ],
            [
             0.7777777777777778,
             "#fb9f3a"
            ],
            [
             0.8888888888888888,
             "#fdca26"
            ],
            [
             1,
             "#f0f921"
            ]
           ]
          },
          "colorway": [
           "#636efa",
           "#EF553B",
           "#00cc96",
           "#ab63fa",
           "#FFA15A",
           "#19d3f3",
           "#FF6692",
           "#B6E880",
           "#FF97FF",
           "#FECB52"
          ],
          "font": {
           "color": "#2a3f5f"
          },
          "geo": {
           "bgcolor": "white",
           "lakecolor": "white",
           "landcolor": "#E5ECF6",
           "showlakes": true,
           "showland": true,
           "subunitcolor": "white"
          },
          "hoverlabel": {
           "align": "left"
          },
          "hovermode": "closest",
          "mapbox": {
           "style": "light"
          },
          "paper_bgcolor": "white",
          "plot_bgcolor": "#E5ECF6",
          "polar": {
           "angularaxis": {
            "gridcolor": "white",
            "linecolor": "white",
            "ticks": ""
           },
           "bgcolor": "#E5ECF6",
           "radialaxis": {
            "gridcolor": "white",
            "linecolor": "white",
            "ticks": ""
           }
          },
          "scene": {
           "xaxis": {
            "backgroundcolor": "#E5ECF6",
            "gridcolor": "white",
            "gridwidth": 2,
            "linecolor": "white",
            "showbackground": true,
            "ticks": "",
            "zerolinecolor": "white"
           },
           "yaxis": {
            "backgroundcolor": "#E5ECF6",
            "gridcolor": "white",
            "gridwidth": 2,
            "linecolor": "white",
            "showbackground": true,
            "ticks": "",
            "zerolinecolor": "white"
           },
           "zaxis": {
            "backgroundcolor": "#E5ECF6",
            "gridcolor": "white",
            "gridwidth": 2,
            "linecolor": "white",
            "showbackground": true,
            "ticks": "",
            "zerolinecolor": "white"
           }
          },
          "shapedefaults": {
           "line": {
            "color": "#2a3f5f"
           }
          },
          "ternary": {
           "aaxis": {
            "gridcolor": "white",
            "linecolor": "white",
            "ticks": ""
           },
           "baxis": {
            "gridcolor": "white",
            "linecolor": "white",
            "ticks": ""
           },
           "bgcolor": "#E5ECF6",
           "caxis": {
            "gridcolor": "white",
            "linecolor": "white",
            "ticks": ""
           }
          },
          "title": {
           "x": 0.05
          },
          "xaxis": {
           "automargin": true,
           "gridcolor": "white",
           "linecolor": "white",
           "ticks": "",
           "title": {
            "standoff": 15
           },
           "zerolinecolor": "white",
           "zerolinewidth": 2
          },
          "yaxis": {
           "automargin": true,
           "gridcolor": "white",
           "linecolor": "white",
           "ticks": "",
           "title": {
            "standoff": 15
           },
           "zerolinecolor": "white",
           "zerolinewidth": 2
          }
         }
        },
        "xaxis": {
         "anchor": "y",
         "domain": [
          0,
          1
         ],
         "title": {
          "text": "year"
         }
        },
        "yaxis": {
         "anchor": "x",
         "domain": [
          0,
          1
         ],
         "title": {
          "text": "carbon_budget"
         }
        }
       }
      }
     },
     "metadata": {},
     "output_type": "display_data"
    }
   ],
   "source": [
    "fig2 = px.scatter(\n",
    "    data_frame=netzero_df,\n",
    "    x = \"year\",\n",
    "    y=\"carbon_budget\"\n",
    ")\n",
    "fig2"
   ]
  },
  {
   "cell_type": "code",
   "execution_count": 32,
   "metadata": {},
   "outputs": [
    {
     "name": "stderr",
     "output_type": "stream",
     "text": [
      "C:\\Users\\schei\\AppData\\Local\\Temp\\ipykernel_10492\\1471908738.py:4: SettingWithCopyWarning:\n",
      "\n",
      "\n",
      "A value is trying to be set on a copy of a slice from a DataFrame.\n",
      "Try using .loc[row_indexer,col_indexer] = value instead\n",
      "\n",
      "See the caveats in the documentation: https://pandas.pydata.org/pandas-docs/stable/user_guide/indexing.html#returning-a-view-versus-a-copy\n",
      "\n"
     ]
    },
    {
     "data": {
      "text/html": [
       "<div>\n",
       "<style scoped>\n",
       "    .dataframe tbody tr th:only-of-type {\n",
       "        vertical-align: middle;\n",
       "    }\n",
       "\n",
       "    .dataframe tbody tr th {\n",
       "        vertical-align: top;\n",
       "    }\n",
       "\n",
       "    .dataframe thead th {\n",
       "        text-align: right;\n",
       "    }\n",
       "</style>\n",
       "<table border=\"1\" class=\"dataframe\">\n",
       "  <thead>\n",
       "    <tr style=\"text-align: right;\">\n",
       "      <th></th>\n",
       "      <th>model</th>\n",
       "      <th>scenario</th>\n",
       "      <th>carbon_budget</th>\n",
       "      <th>year_netcoal</th>\n",
       "    </tr>\n",
       "  </thead>\n",
       "  <tbody>\n",
       "    <tr>\n",
       "      <th>0</th>\n",
       "      <td>AIM/CGE V2.2</td>\n",
       "      <td>T34_1000_feas_em</td>\n",
       "      <td>2C</td>\n",
       "      <td>2055</td>\n",
       "    </tr>\n",
       "    <tr>\n",
       "      <th>1</th>\n",
       "      <td>AIM/CGE V2.2</td>\n",
       "      <td>T34_1000_feas_pr</td>\n",
       "      <td>2C</td>\n",
       "      <td>2055</td>\n",
       "    </tr>\n",
       "    <tr>\n",
       "      <th>2</th>\n",
       "      <td>AIM/CGE V2.2</td>\n",
       "      <td>T34_1000_feas_ref</td>\n",
       "      <td>2C</td>\n",
       "      <td>2050</td>\n",
       "    </tr>\n",
       "    <tr>\n",
       "      <th>3</th>\n",
       "      <td>GEM-E3_V2023</td>\n",
       "      <td>T34_1000_feas_em</td>\n",
       "      <td>2C</td>\n",
       "      <td>2065</td>\n",
       "    </tr>\n",
       "    <tr>\n",
       "      <th>4</th>\n",
       "      <td>GEM-E3_V2023</td>\n",
       "      <td>T34_1000_feas_ref</td>\n",
       "      <td>2C</td>\n",
       "      <td>2080</td>\n",
       "    </tr>\n",
       "    <tr>\n",
       "      <th>5</th>\n",
       "      <td>IMAGE 3.2</td>\n",
       "      <td>T34_1000_feas_em</td>\n",
       "      <td>2C</td>\n",
       "      <td>2060</td>\n",
       "    </tr>\n",
       "    <tr>\n",
       "      <th>6</th>\n",
       "      <td>IMAGE 3.2</td>\n",
       "      <td>T34_1000_feas_pr</td>\n",
       "      <td>2C</td>\n",
       "      <td>2060</td>\n",
       "    </tr>\n",
       "    <tr>\n",
       "      <th>7</th>\n",
       "      <td>IMAGE 3.2</td>\n",
       "      <td>T34_1000_feas_ref</td>\n",
       "      <td>2C</td>\n",
       "      <td>2060</td>\n",
       "    </tr>\n",
       "    <tr>\n",
       "      <th>8</th>\n",
       "      <td>MESSAGEix-GLOBIOM_1.1</td>\n",
       "      <td>T34_1000_feas_em</td>\n",
       "      <td>2C</td>\n",
       "      <td>2060</td>\n",
       "    </tr>\n",
       "    <tr>\n",
       "      <th>9</th>\n",
       "      <td>MESSAGEix-GLOBIOM_1.1</td>\n",
       "      <td>T34_1000_feas_pr</td>\n",
       "      <td>2C</td>\n",
       "      <td>2060</td>\n",
       "    </tr>\n",
       "    <tr>\n",
       "      <th>10</th>\n",
       "      <td>MESSAGEix-GLOBIOM_1.1</td>\n",
       "      <td>T34_1000_feas_ref</td>\n",
       "      <td>2C</td>\n",
       "      <td>2055</td>\n",
       "    </tr>\n",
       "    <tr>\n",
       "      <th>11</th>\n",
       "      <td>POLES ENGAGE</td>\n",
       "      <td>T34_1000_feas_pr</td>\n",
       "      <td>2C</td>\n",
       "      <td>2100</td>\n",
       "    </tr>\n",
       "    <tr>\n",
       "      <th>12</th>\n",
       "      <td>POLES ENGAGE</td>\n",
       "      <td>T34_1000_feas_ref</td>\n",
       "      <td>2C</td>\n",
       "      <td>2100</td>\n",
       "    </tr>\n",
       "    <tr>\n",
       "      <th>13</th>\n",
       "      <td>REMIND 3.0</td>\n",
       "      <td>T34_1000_feas_em</td>\n",
       "      <td>2C</td>\n",
       "      <td>2055</td>\n",
       "    </tr>\n",
       "    <tr>\n",
       "      <th>14</th>\n",
       "      <td>REMIND 3.0</td>\n",
       "      <td>T34_1000_feas_pr</td>\n",
       "      <td>2C</td>\n",
       "      <td>2050</td>\n",
       "    </tr>\n",
       "    <tr>\n",
       "      <th>15</th>\n",
       "      <td>REMIND 3.0</td>\n",
       "      <td>T34_1000_feas_ref</td>\n",
       "      <td>2C</td>\n",
       "      <td>2050</td>\n",
       "    </tr>\n",
       "    <tr>\n",
       "      <th>16</th>\n",
       "      <td>REMIND 3.0</td>\n",
       "      <td>T34_550_feas_em</td>\n",
       "      <td>1.5C</td>\n",
       "      <td>2050</td>\n",
       "    </tr>\n",
       "    <tr>\n",
       "      <th>17</th>\n",
       "      <td>REMIND 3.0</td>\n",
       "      <td>T34_550_feas_pr</td>\n",
       "      <td>1.5C</td>\n",
       "      <td>2045</td>\n",
       "    </tr>\n",
       "    <tr>\n",
       "      <th>18</th>\n",
       "      <td>REMIND 3.0</td>\n",
       "      <td>T34_550_feas_ref</td>\n",
       "      <td>1.5C</td>\n",
       "      <td>2035</td>\n",
       "    </tr>\n",
       "  </tbody>\n",
       "</table>\n",
       "</div>"
      ],
      "text/plain": [
       "                    model           scenario carbon_budget  year_netcoal\n",
       "0            AIM/CGE V2.2   T34_1000_feas_em            2C          2055\n",
       "1            AIM/CGE V2.2   T34_1000_feas_pr            2C          2055\n",
       "2            AIM/CGE V2.2  T34_1000_feas_ref            2C          2050\n",
       "3            GEM-E3_V2023   T34_1000_feas_em            2C          2065\n",
       "4            GEM-E3_V2023  T34_1000_feas_ref            2C          2080\n",
       "5               IMAGE 3.2   T34_1000_feas_em            2C          2060\n",
       "6               IMAGE 3.2   T34_1000_feas_pr            2C          2060\n",
       "7               IMAGE 3.2  T34_1000_feas_ref            2C          2060\n",
       "8   MESSAGEix-GLOBIOM_1.1   T34_1000_feas_em            2C          2060\n",
       "9   MESSAGEix-GLOBIOM_1.1   T34_1000_feas_pr            2C          2060\n",
       "10  MESSAGEix-GLOBIOM_1.1  T34_1000_feas_ref            2C          2055\n",
       "11           POLES ENGAGE   T34_1000_feas_pr            2C          2100\n",
       "12           POLES ENGAGE  T34_1000_feas_ref            2C          2100\n",
       "13             REMIND 3.0   T34_1000_feas_em            2C          2055\n",
       "14             REMIND 3.0   T34_1000_feas_pr            2C          2050\n",
       "15             REMIND 3.0  T34_1000_feas_ref            2C          2050\n",
       "16             REMIND 3.0    T34_550_feas_em          1.5C          2050\n",
       "17             REMIND 3.0    T34_550_feas_pr          1.5C          2045\n",
       "18             REMIND 3.0   T34_550_feas_ref          1.5C          2035"
      ]
     },
     "execution_count": 32,
     "metadata": {},
     "output_type": "execute_result"
    }
   ],
   "source": [
    "#get amounts of unabated coal\n",
    "#both Coal data are in EJ/yr\n",
    "unabcoal_df = df[[\"model\", \"scenario\", \"carbon_budget\", \"region\",\"year\", \"Primary Energy|Coal\", \"Primary Energy|Coal|w/ CCS\"]] \n",
    "unabcoal_df[\"Unabated Coal\"] = unabcoal_df[\"Primary Energy|Coal\"] - unabcoal_df[\"Primary Energy|Coal|w/ CCS\"]\n",
    "#pick threshold for when coal is supposed to the phased out // now it's 8EJ/y\n",
    "unabcoal_df = unabcoal_df[unabcoal_df[\"Unabated Coal\"] <= 8].groupby([\"model\", \"scenario\", \"carbon_budget\"])['year'].min().reset_index()\n",
    "unabcoal_df.rename(columns={\"year\": \"year_netcoal\"}, inplace=True)\n",
    "#combine with netzero df\n",
    "\n",
    "unabcoal_df"
   ]
  },
  {
   "cell_type": "code",
   "execution_count": 88,
   "metadata": {},
   "outputs": [
    {
     "data": {
      "application/vnd.plotly.v1+json": {
       "config": {
        "plotlyServerURL": "https://plot.ly"
       },
       "data": [
        {
         "hovertemplate": "carbon_budget=2C<br>year_netzero=%{x}<br>year_netcoal=%{y}<extra></extra>",
         "legendgroup": "2C",
         "marker": {
          "color": "#636efa",
          "symbol": "circle"
         },
         "mode": "markers",
         "name": "2C",
         "orientation": "v",
         "showlegend": true,
         "type": "scatter",
         "x": [
          2060,
          2055,
          2070,
          2090,
          2070,
          2070,
          2070,
          2080,
          2070,
          2100,
          2080
         ],
         "xaxis": "x",
         "y": [
          2055,
          2055,
          2050,
          2065,
          2060,
          2060,
          2060,
          2060,
          2060,
          2055,
          2100
         ],
         "yaxis": "y"
        },
        {
         "hovertemplate": "carbon_budget=1.5C<br>year_netzero=%{x}<br>year_netcoal=%{y}<extra></extra>",
         "legendgroup": "1.5C",
         "marker": {
          "color": "#EF553B",
          "symbol": "circle"
         },
         "mode": "markers",
         "name": "1.5C",
         "orientation": "v",
         "showlegend": true,
         "type": "scatter",
         "x": [
          2070,
          2050
         ],
         "xaxis": "x",
         "y": [
          2050,
          2035
         ],
         "yaxis": "y"
        }
       ],
       "layout": {
        "legend": {
         "title": {
          "text": "carbon_budget"
         },
         "tracegroupgap": 0
        },
        "margin": {
         "t": 60
        },
        "template": {
         "data": {
          "bar": [
           {
            "error_x": {
             "color": "#2a3f5f"
            },
            "error_y": {
             "color": "#2a3f5f"
            },
            "marker": {
             "line": {
              "color": "#E5ECF6",
              "width": 0.5
             },
             "pattern": {
              "fillmode": "overlay",
              "size": 10,
              "solidity": 0.2
             }
            },
            "type": "bar"
           }
          ],
          "barpolar": [
           {
            "marker": {
             "line": {
              "color": "#E5ECF6",
              "width": 0.5
             },
             "pattern": {
              "fillmode": "overlay",
              "size": 10,
              "solidity": 0.2
             }
            },
            "type": "barpolar"
           }
          ],
          "carpet": [
           {
            "aaxis": {
             "endlinecolor": "#2a3f5f",
             "gridcolor": "white",
             "linecolor": "white",
             "minorgridcolor": "white",
             "startlinecolor": "#2a3f5f"
            },
            "baxis": {
             "endlinecolor": "#2a3f5f",
             "gridcolor": "white",
             "linecolor": "white",
             "minorgridcolor": "white",
             "startlinecolor": "#2a3f5f"
            },
            "type": "carpet"
           }
          ],
          "choropleth": [
           {
            "colorbar": {
             "outlinewidth": 0,
             "ticks": ""
            },
            "type": "choropleth"
           }
          ],
          "contour": [
           {
            "colorbar": {
             "outlinewidth": 0,
             "ticks": ""
            },
            "colorscale": [
             [
              0,
              "#0d0887"
             ],
             [
              0.1111111111111111,
              "#46039f"
             ],
             [
              0.2222222222222222,
              "#7201a8"
             ],
             [
              0.3333333333333333,
              "#9c179e"
             ],
             [
              0.4444444444444444,
              "#bd3786"
             ],
             [
              0.5555555555555556,
              "#d8576b"
             ],
             [
              0.6666666666666666,
              "#ed7953"
             ],
             [
              0.7777777777777778,
              "#fb9f3a"
             ],
             [
              0.8888888888888888,
              "#fdca26"
             ],
             [
              1,
              "#f0f921"
             ]
            ],
            "type": "contour"
           }
          ],
          "contourcarpet": [
           {
            "colorbar": {
             "outlinewidth": 0,
             "ticks": ""
            },
            "type": "contourcarpet"
           }
          ],
          "heatmap": [
           {
            "colorbar": {
             "outlinewidth": 0,
             "ticks": ""
            },
            "colorscale": [
             [
              0,
              "#0d0887"
             ],
             [
              0.1111111111111111,
              "#46039f"
             ],
             [
              0.2222222222222222,
              "#7201a8"
             ],
             [
              0.3333333333333333,
              "#9c179e"
             ],
             [
              0.4444444444444444,
              "#bd3786"
             ],
             [
              0.5555555555555556,
              "#d8576b"
             ],
             [
              0.6666666666666666,
              "#ed7953"
             ],
             [
              0.7777777777777778,
              "#fb9f3a"
             ],
             [
              0.8888888888888888,
              "#fdca26"
             ],
             [
              1,
              "#f0f921"
             ]
            ],
            "type": "heatmap"
           }
          ],
          "heatmapgl": [
           {
            "colorbar": {
             "outlinewidth": 0,
             "ticks": ""
            },
            "colorscale": [
             [
              0,
              "#0d0887"
             ],
             [
              0.1111111111111111,
              "#46039f"
             ],
             [
              0.2222222222222222,
              "#7201a8"
             ],
             [
              0.3333333333333333,
              "#9c179e"
             ],
             [
              0.4444444444444444,
              "#bd3786"
             ],
             [
              0.5555555555555556,
              "#d8576b"
             ],
             [
              0.6666666666666666,
              "#ed7953"
             ],
             [
              0.7777777777777778,
              "#fb9f3a"
             ],
             [
              0.8888888888888888,
              "#fdca26"
             ],
             [
              1,
              "#f0f921"
             ]
            ],
            "type": "heatmapgl"
           }
          ],
          "histogram": [
           {
            "marker": {
             "pattern": {
              "fillmode": "overlay",
              "size": 10,
              "solidity": 0.2
             }
            },
            "type": "histogram"
           }
          ],
          "histogram2d": [
           {
            "colorbar": {
             "outlinewidth": 0,
             "ticks": ""
            },
            "colorscale": [
             [
              0,
              "#0d0887"
             ],
             [
              0.1111111111111111,
              "#46039f"
             ],
             [
              0.2222222222222222,
              "#7201a8"
             ],
             [
              0.3333333333333333,
              "#9c179e"
             ],
             [
              0.4444444444444444,
              "#bd3786"
             ],
             [
              0.5555555555555556,
              "#d8576b"
             ],
             [
              0.6666666666666666,
              "#ed7953"
             ],
             [
              0.7777777777777778,
              "#fb9f3a"
             ],
             [
              0.8888888888888888,
              "#fdca26"
             ],
             [
              1,
              "#f0f921"
             ]
            ],
            "type": "histogram2d"
           }
          ],
          "histogram2dcontour": [
           {
            "colorbar": {
             "outlinewidth": 0,
             "ticks": ""
            },
            "colorscale": [
             [
              0,
              "#0d0887"
             ],
             [
              0.1111111111111111,
              "#46039f"
             ],
             [
              0.2222222222222222,
              "#7201a8"
             ],
             [
              0.3333333333333333,
              "#9c179e"
             ],
             [
              0.4444444444444444,
              "#bd3786"
             ],
             [
              0.5555555555555556,
              "#d8576b"
             ],
             [
              0.6666666666666666,
              "#ed7953"
             ],
             [
              0.7777777777777778,
              "#fb9f3a"
             ],
             [
              0.8888888888888888,
              "#fdca26"
             ],
             [
              1,
              "#f0f921"
             ]
            ],
            "type": "histogram2dcontour"
           }
          ],
          "mesh3d": [
           {
            "colorbar": {
             "outlinewidth": 0,
             "ticks": ""
            },
            "type": "mesh3d"
           }
          ],
          "parcoords": [
           {
            "line": {
             "colorbar": {
              "outlinewidth": 0,
              "ticks": ""
             }
            },
            "type": "parcoords"
           }
          ],
          "pie": [
           {
            "automargin": true,
            "type": "pie"
           }
          ],
          "scatter": [
           {
            "fillpattern": {
             "fillmode": "overlay",
             "size": 10,
             "solidity": 0.2
            },
            "type": "scatter"
           }
          ],
          "scatter3d": [
           {
            "line": {
             "colorbar": {
              "outlinewidth": 0,
              "ticks": ""
             }
            },
            "marker": {
             "colorbar": {
              "outlinewidth": 0,
              "ticks": ""
             }
            },
            "type": "scatter3d"
           }
          ],
          "scattercarpet": [
           {
            "marker": {
             "colorbar": {
              "outlinewidth": 0,
              "ticks": ""
             }
            },
            "type": "scattercarpet"
           }
          ],
          "scattergeo": [
           {
            "marker": {
             "colorbar": {
              "outlinewidth": 0,
              "ticks": ""
             }
            },
            "type": "scattergeo"
           }
          ],
          "scattergl": [
           {
            "marker": {
             "colorbar": {
              "outlinewidth": 0,
              "ticks": ""
             }
            },
            "type": "scattergl"
           }
          ],
          "scattermapbox": [
           {
            "marker": {
             "colorbar": {
              "outlinewidth": 0,
              "ticks": ""
             }
            },
            "type": "scattermapbox"
           }
          ],
          "scatterpolar": [
           {
            "marker": {
             "colorbar": {
              "outlinewidth": 0,
              "ticks": ""
             }
            },
            "type": "scatterpolar"
           }
          ],
          "scatterpolargl": [
           {
            "marker": {
             "colorbar": {
              "outlinewidth": 0,
              "ticks": ""
             }
            },
            "type": "scatterpolargl"
           }
          ],
          "scatterternary": [
           {
            "marker": {
             "colorbar": {
              "outlinewidth": 0,
              "ticks": ""
             }
            },
            "type": "scatterternary"
           }
          ],
          "surface": [
           {
            "colorbar": {
             "outlinewidth": 0,
             "ticks": ""
            },
            "colorscale": [
             [
              0,
              "#0d0887"
             ],
             [
              0.1111111111111111,
              "#46039f"
             ],
             [
              0.2222222222222222,
              "#7201a8"
             ],
             [
              0.3333333333333333,
              "#9c179e"
             ],
             [
              0.4444444444444444,
              "#bd3786"
             ],
             [
              0.5555555555555556,
              "#d8576b"
             ],
             [
              0.6666666666666666,
              "#ed7953"
             ],
             [
              0.7777777777777778,
              "#fb9f3a"
             ],
             [
              0.8888888888888888,
              "#fdca26"
             ],
             [
              1,
              "#f0f921"
             ]
            ],
            "type": "surface"
           }
          ],
          "table": [
           {
            "cells": {
             "fill": {
              "color": "#EBF0F8"
             },
             "line": {
              "color": "white"
             }
            },
            "header": {
             "fill": {
              "color": "#C8D4E3"
             },
             "line": {
              "color": "white"
             }
            },
            "type": "table"
           }
          ]
         },
         "layout": {
          "annotationdefaults": {
           "arrowcolor": "#2a3f5f",
           "arrowhead": 0,
           "arrowwidth": 1
          },
          "autotypenumbers": "strict",
          "coloraxis": {
           "colorbar": {
            "outlinewidth": 0,
            "ticks": ""
           }
          },
          "colorscale": {
           "diverging": [
            [
             0,
             "#8e0152"
            ],
            [
             0.1,
             "#c51b7d"
            ],
            [
             0.2,
             "#de77ae"
            ],
            [
             0.3,
             "#f1b6da"
            ],
            [
             0.4,
             "#fde0ef"
            ],
            [
             0.5,
             "#f7f7f7"
            ],
            [
             0.6,
             "#e6f5d0"
            ],
            [
             0.7,
             "#b8e186"
            ],
            [
             0.8,
             "#7fbc41"
            ],
            [
             0.9,
             "#4d9221"
            ],
            [
             1,
             "#276419"
            ]
           ],
           "sequential": [
            [
             0,
             "#0d0887"
            ],
            [
             0.1111111111111111,
             "#46039f"
            ],
            [
             0.2222222222222222,
             "#7201a8"
            ],
            [
             0.3333333333333333,
             "#9c179e"
            ],
            [
             0.4444444444444444,
             "#bd3786"
            ],
            [
             0.5555555555555556,
             "#d8576b"
            ],
            [
             0.6666666666666666,
             "#ed7953"
            ],
            [
             0.7777777777777778,
             "#fb9f3a"
            ],
            [
             0.8888888888888888,
             "#fdca26"
            ],
            [
             1,
             "#f0f921"
            ]
           ],
           "sequentialminus": [
            [
             0,
             "#0d0887"
            ],
            [
             0.1111111111111111,
             "#46039f"
            ],
            [
             0.2222222222222222,
             "#7201a8"
            ],
            [
             0.3333333333333333,
             "#9c179e"
            ],
            [
             0.4444444444444444,
             "#bd3786"
            ],
            [
             0.5555555555555556,
             "#d8576b"
            ],
            [
             0.6666666666666666,
             "#ed7953"
            ],
            [
             0.7777777777777778,
             "#fb9f3a"
            ],
            [
             0.8888888888888888,
             "#fdca26"
            ],
            [
             1,
             "#f0f921"
            ]
           ]
          },
          "colorway": [
           "#636efa",
           "#EF553B",
           "#00cc96",
           "#ab63fa",
           "#FFA15A",
           "#19d3f3",
           "#FF6692",
           "#B6E880",
           "#FF97FF",
           "#FECB52"
          ],
          "font": {
           "color": "#2a3f5f"
          },
          "geo": {
           "bgcolor": "white",
           "lakecolor": "white",
           "landcolor": "#E5ECF6",
           "showlakes": true,
           "showland": true,
           "subunitcolor": "white"
          },
          "hoverlabel": {
           "align": "left"
          },
          "hovermode": "closest",
          "mapbox": {
           "style": "light"
          },
          "paper_bgcolor": "white",
          "plot_bgcolor": "#E5ECF6",
          "polar": {
           "angularaxis": {
            "gridcolor": "white",
            "linecolor": "white",
            "ticks": ""
           },
           "bgcolor": "#E5ECF6",
           "radialaxis": {
            "gridcolor": "white",
            "linecolor": "white",
            "ticks": ""
           }
          },
          "scene": {
           "xaxis": {
            "backgroundcolor": "#E5ECF6",
            "gridcolor": "white",
            "gridwidth": 2,
            "linecolor": "white",
            "showbackground": true,
            "ticks": "",
            "zerolinecolor": "white"
           },
           "yaxis": {
            "backgroundcolor": "#E5ECF6",
            "gridcolor": "white",
            "gridwidth": 2,
            "linecolor": "white",
            "showbackground": true,
            "ticks": "",
            "zerolinecolor": "white"
           },
           "zaxis": {
            "backgroundcolor": "#E5ECF6",
            "gridcolor": "white",
            "gridwidth": 2,
            "linecolor": "white",
            "showbackground": true,
            "ticks": "",
            "zerolinecolor": "white"
           }
          },
          "shapedefaults": {
           "line": {
            "color": "#2a3f5f"
           }
          },
          "ternary": {
           "aaxis": {
            "gridcolor": "white",
            "linecolor": "white",
            "ticks": ""
           },
           "baxis": {
            "gridcolor": "white",
            "linecolor": "white",
            "ticks": ""
           },
           "bgcolor": "#E5ECF6",
           "caxis": {
            "gridcolor": "white",
            "linecolor": "white",
            "ticks": ""
           }
          },
          "title": {
           "x": 0.05
          },
          "xaxis": {
           "automargin": true,
           "gridcolor": "white",
           "linecolor": "white",
           "ticks": "",
           "title": {
            "standoff": 15
           },
           "zerolinecolor": "white",
           "zerolinewidth": 2
          },
          "yaxis": {
           "automargin": true,
           "gridcolor": "white",
           "linecolor": "white",
           "ticks": "",
           "title": {
            "standoff": 15
           },
           "zerolinecolor": "white",
           "zerolinewidth": 2
          }
         }
        },
        "xaxis": {
         "anchor": "y",
         "domain": [
          0,
          1
         ],
         "title": {
          "text": "year_netzero"
         }
        },
        "yaxis": {
         "anchor": "x",
         "domain": [
          0,
          1
         ],
         "title": {
          "text": "year_netcoal"
         }
        }
       }
      }
     },
     "metadata": {},
     "output_type": "display_data"
    }
   ],
   "source": [
    "#combine dataframes\n",
    "to_plot = pd.merge(left=netzero_df, right=unabcoal_df, on=[\"model\", \"scenario\", \"carbon_budget\"])\n",
    "\n",
    "fig3 = px.scatter(\n",
    "    data_frame=to_plot,\n",
    "    x = \"year_netzero\",\n",
    "    y=\"year_netcoal\",\n",
    "    color= \"carbon_budget\"\n",
    ")\n",
    "fig3"
   ]
  },
  {
   "cell_type": "code",
   "execution_count": 89,
   "metadata": {},
   "outputs": [
    {
     "data": {
      "text/html": [
       "<div>\n",
       "<style scoped>\n",
       "    .dataframe tbody tr th:only-of-type {\n",
       "        vertical-align: middle;\n",
       "    }\n",
       "\n",
       "    .dataframe tbody tr th {\n",
       "        vertical-align: top;\n",
       "    }\n",
       "\n",
       "    .dataframe thead th {\n",
       "        text-align: right;\n",
       "    }\n",
       "</style>\n",
       "<table border=\"1\" class=\"dataframe\">\n",
       "  <thead>\n",
       "    <tr style=\"text-align: right;\">\n",
       "      <th>year</th>\n",
       "      <th>model</th>\n",
       "      <th>scenario</th>\n",
       "      <th>carbon_budget</th>\n",
       "      <th>region</th>\n",
       "      <th>2020</th>\n",
       "      <th>2030</th>\n",
       "      <th>redu_FET</th>\n",
       "    </tr>\n",
       "  </thead>\n",
       "  <tbody>\n",
       "    <tr>\n",
       "      <th>0</th>\n",
       "      <td>AIM/CGE V2.2</td>\n",
       "      <td>T34_1000_feas_em</td>\n",
       "      <td>2C</td>\n",
       "      <td>World</td>\n",
       "      <td>123.601600</td>\n",
       "      <td>104.300200</td>\n",
       "      <td>-0.156158</td>\n",
       "    </tr>\n",
       "    <tr>\n",
       "      <th>1</th>\n",
       "      <td>AIM/CGE V2.2</td>\n",
       "      <td>T34_1000_feas_pr</td>\n",
       "      <td>2C</td>\n",
       "      <td>World</td>\n",
       "      <td>123.601600</td>\n",
       "      <td>104.296500</td>\n",
       "      <td>-0.156188</td>\n",
       "    </tr>\n",
       "    <tr>\n",
       "      <th>2</th>\n",
       "      <td>AIM/CGE V2.2</td>\n",
       "      <td>T34_1000_feas_ref</td>\n",
       "      <td>2C</td>\n",
       "      <td>World</td>\n",
       "      <td>123.601600</td>\n",
       "      <td>111.827600</td>\n",
       "      <td>-0.095258</td>\n",
       "    </tr>\n",
       "    <tr>\n",
       "      <th>3</th>\n",
       "      <td>GEM-E3_V2023</td>\n",
       "      <td>T34_1000_feas_em</td>\n",
       "      <td>2C</td>\n",
       "      <td>World</td>\n",
       "      <td>106.172003</td>\n",
       "      <td>107.829240</td>\n",
       "      <td>0.015609</td>\n",
       "    </tr>\n",
       "    <tr>\n",
       "      <th>4</th>\n",
       "      <td>GEM-E3_V2023</td>\n",
       "      <td>T34_1000_feas_ref</td>\n",
       "      <td>2C</td>\n",
       "      <td>World</td>\n",
       "      <td>106.172003</td>\n",
       "      <td>107.223507</td>\n",
       "      <td>0.009904</td>\n",
       "    </tr>\n",
       "    <tr>\n",
       "      <th>5</th>\n",
       "      <td>IMAGE 3.2</td>\n",
       "      <td>T34_1000_feas_em</td>\n",
       "      <td>2C</td>\n",
       "      <td>World</td>\n",
       "      <td>92.399406</td>\n",
       "      <td>78.249680</td>\n",
       "      <td>-0.153137</td>\n",
       "    </tr>\n",
       "    <tr>\n",
       "      <th>6</th>\n",
       "      <td>IMAGE 3.2</td>\n",
       "      <td>T34_1000_feas_pr</td>\n",
       "      <td>2C</td>\n",
       "      <td>World</td>\n",
       "      <td>92.399406</td>\n",
       "      <td>77.118727</td>\n",
       "      <td>-0.165376</td>\n",
       "    </tr>\n",
       "    <tr>\n",
       "      <th>7</th>\n",
       "      <td>IMAGE 3.2</td>\n",
       "      <td>T34_1000_feas_ref</td>\n",
       "      <td>2C</td>\n",
       "      <td>World</td>\n",
       "      <td>92.399406</td>\n",
       "      <td>85.292977</td>\n",
       "      <td>-0.076910</td>\n",
       "    </tr>\n",
       "    <tr>\n",
       "      <th>8</th>\n",
       "      <td>MESSAGEix-GLOBIOM_1.1</td>\n",
       "      <td>T34_1000_feas_em</td>\n",
       "      <td>2C</td>\n",
       "      <td>World</td>\n",
       "      <td>113.118992</td>\n",
       "      <td>140.618740</td>\n",
       "      <td>0.243105</td>\n",
       "    </tr>\n",
       "    <tr>\n",
       "      <th>9</th>\n",
       "      <td>MESSAGEix-GLOBIOM_1.1</td>\n",
       "      <td>T34_1000_feas_pr</td>\n",
       "      <td>2C</td>\n",
       "      <td>World</td>\n",
       "      <td>113.118992</td>\n",
       "      <td>141.497312</td>\n",
       "      <td>0.250871</td>\n",
       "    </tr>\n",
       "    <tr>\n",
       "      <th>10</th>\n",
       "      <td>MESSAGEix-GLOBIOM_1.1</td>\n",
       "      <td>T34_1000_feas_ref</td>\n",
       "      <td>2C</td>\n",
       "      <td>World</td>\n",
       "      <td>113.118992</td>\n",
       "      <td>138.640052</td>\n",
       "      <td>0.225613</td>\n",
       "    </tr>\n",
       "    <tr>\n",
       "      <th>11</th>\n",
       "      <td>POLES ENGAGE</td>\n",
       "      <td>T34_1000_feas_em</td>\n",
       "      <td>2C</td>\n",
       "      <td>World</td>\n",
       "      <td>107.848488</td>\n",
       "      <td>107.732933</td>\n",
       "      <td>-0.001071</td>\n",
       "    </tr>\n",
       "    <tr>\n",
       "      <th>12</th>\n",
       "      <td>POLES ENGAGE</td>\n",
       "      <td>T34_1000_feas_pr</td>\n",
       "      <td>2C</td>\n",
       "      <td>World</td>\n",
       "      <td>107.848488</td>\n",
       "      <td>118.065712</td>\n",
       "      <td>0.094737</td>\n",
       "    </tr>\n",
       "    <tr>\n",
       "      <th>13</th>\n",
       "      <td>POLES ENGAGE</td>\n",
       "      <td>T34_1000_feas_ref</td>\n",
       "      <td>2C</td>\n",
       "      <td>World</td>\n",
       "      <td>107.848488</td>\n",
       "      <td>110.032166</td>\n",
       "      <td>0.020248</td>\n",
       "    </tr>\n",
       "    <tr>\n",
       "      <th>14</th>\n",
       "      <td>REMIND 3.0</td>\n",
       "      <td>T34_1000_feas_em</td>\n",
       "      <td>2C</td>\n",
       "      <td>World</td>\n",
       "      <td>118.958792</td>\n",
       "      <td>117.555399</td>\n",
       "      <td>-0.011797</td>\n",
       "    </tr>\n",
       "    <tr>\n",
       "      <th>15</th>\n",
       "      <td>REMIND 3.0</td>\n",
       "      <td>T34_1000_feas_pr</td>\n",
       "      <td>2C</td>\n",
       "      <td>World</td>\n",
       "      <td>118.958792</td>\n",
       "      <td>117.626265</td>\n",
       "      <td>-0.011202</td>\n",
       "    </tr>\n",
       "    <tr>\n",
       "      <th>16</th>\n",
       "      <td>REMIND 3.0</td>\n",
       "      <td>T34_1000_feas_ref</td>\n",
       "      <td>2C</td>\n",
       "      <td>World</td>\n",
       "      <td>118.958792</td>\n",
       "      <td>116.925112</td>\n",
       "      <td>-0.017096</td>\n",
       "    </tr>\n",
       "    <tr>\n",
       "      <th>17</th>\n",
       "      <td>REMIND 3.0</td>\n",
       "      <td>T34_550_feas_em</td>\n",
       "      <td>1.5C</td>\n",
       "      <td>World</td>\n",
       "      <td>118.958792</td>\n",
       "      <td>115.048436</td>\n",
       "      <td>-0.032872</td>\n",
       "    </tr>\n",
       "    <tr>\n",
       "      <th>18</th>\n",
       "      <td>REMIND 3.0</td>\n",
       "      <td>T34_550_feas_pr</td>\n",
       "      <td>1.5C</td>\n",
       "      <td>World</td>\n",
       "      <td>118.958792</td>\n",
       "      <td>114.592854</td>\n",
       "      <td>-0.036701</td>\n",
       "    </tr>\n",
       "    <tr>\n",
       "      <th>19</th>\n",
       "      <td>REMIND 3.0</td>\n",
       "      <td>T34_550_feas_ref</td>\n",
       "      <td>1.5C</td>\n",
       "      <td>World</td>\n",
       "      <td>118.958792</td>\n",
       "      <td>107.573860</td>\n",
       "      <td>-0.095705</td>\n",
       "    </tr>\n",
       "    <tr>\n",
       "      <th>20</th>\n",
       "      <td>WITCH 5.0</td>\n",
       "      <td>T34_1000_feas_em</td>\n",
       "      <td>2C</td>\n",
       "      <td>World</td>\n",
       "      <td>112.512133</td>\n",
       "      <td>103.492111</td>\n",
       "      <td>-0.080169</td>\n",
       "    </tr>\n",
       "    <tr>\n",
       "      <th>21</th>\n",
       "      <td>WITCH 5.0</td>\n",
       "      <td>T34_1000_feas_pr</td>\n",
       "      <td>2C</td>\n",
       "      <td>World</td>\n",
       "      <td>112.512133</td>\n",
       "      <td>105.380779</td>\n",
       "      <td>-0.063383</td>\n",
       "    </tr>\n",
       "    <tr>\n",
       "      <th>22</th>\n",
       "      <td>WITCH 5.0</td>\n",
       "      <td>T34_1000_feas_ref</td>\n",
       "      <td>2C</td>\n",
       "      <td>World</td>\n",
       "      <td>112.512133</td>\n",
       "      <td>104.706337</td>\n",
       "      <td>-0.069377</td>\n",
       "    </tr>\n",
       "  </tbody>\n",
       "</table>\n",
       "</div>"
      ],
      "text/plain": [
       "year                  model           scenario carbon_budget region   \n",
       "0              AIM/CGE V2.2   T34_1000_feas_em            2C  World  \\\n",
       "1              AIM/CGE V2.2   T34_1000_feas_pr            2C  World   \n",
       "2              AIM/CGE V2.2  T34_1000_feas_ref            2C  World   \n",
       "3              GEM-E3_V2023   T34_1000_feas_em            2C  World   \n",
       "4              GEM-E3_V2023  T34_1000_feas_ref            2C  World   \n",
       "5                 IMAGE 3.2   T34_1000_feas_em            2C  World   \n",
       "6                 IMAGE 3.2   T34_1000_feas_pr            2C  World   \n",
       "7                 IMAGE 3.2  T34_1000_feas_ref            2C  World   \n",
       "8     MESSAGEix-GLOBIOM_1.1   T34_1000_feas_em            2C  World   \n",
       "9     MESSAGEix-GLOBIOM_1.1   T34_1000_feas_pr            2C  World   \n",
       "10    MESSAGEix-GLOBIOM_1.1  T34_1000_feas_ref            2C  World   \n",
       "11             POLES ENGAGE   T34_1000_feas_em            2C  World   \n",
       "12             POLES ENGAGE   T34_1000_feas_pr            2C  World   \n",
       "13             POLES ENGAGE  T34_1000_feas_ref            2C  World   \n",
       "14               REMIND 3.0   T34_1000_feas_em            2C  World   \n",
       "15               REMIND 3.0   T34_1000_feas_pr            2C  World   \n",
       "16               REMIND 3.0  T34_1000_feas_ref            2C  World   \n",
       "17               REMIND 3.0    T34_550_feas_em          1.5C  World   \n",
       "18               REMIND 3.0    T34_550_feas_pr          1.5C  World   \n",
       "19               REMIND 3.0   T34_550_feas_ref          1.5C  World   \n",
       "20                WITCH 5.0   T34_1000_feas_em            2C  World   \n",
       "21                WITCH 5.0   T34_1000_feas_pr            2C  World   \n",
       "22                WITCH 5.0  T34_1000_feas_ref            2C  World   \n",
       "\n",
       "year        2020        2030  redu_FET  \n",
       "0     123.601600  104.300200 -0.156158  \n",
       "1     123.601600  104.296500 -0.156188  \n",
       "2     123.601600  111.827600 -0.095258  \n",
       "3     106.172003  107.829240  0.015609  \n",
       "4     106.172003  107.223507  0.009904  \n",
       "5      92.399406   78.249680 -0.153137  \n",
       "6      92.399406   77.118727 -0.165376  \n",
       "7      92.399406   85.292977 -0.076910  \n",
       "8     113.118992  140.618740  0.243105  \n",
       "9     113.118992  141.497312  0.250871  \n",
       "10    113.118992  138.640052  0.225613  \n",
       "11    107.848488  107.732933 -0.001071  \n",
       "12    107.848488  118.065712  0.094737  \n",
       "13    107.848488  110.032166  0.020248  \n",
       "14    118.958792  117.555399 -0.011797  \n",
       "15    118.958792  117.626265 -0.011202  \n",
       "16    118.958792  116.925112 -0.017096  \n",
       "17    118.958792  115.048436 -0.032872  \n",
       "18    118.958792  114.592854 -0.036701  \n",
       "19    118.958792  107.573860 -0.095705  \n",
       "20    112.512133  103.492111 -0.080169  \n",
       "21    112.512133  105.380779 -0.063383  \n",
       "22    112.512133  104.706337 -0.069377  "
      ]
     },
     "execution_count": 89,
     "metadata": {},
     "output_type": "execute_result"
    }
   ],
   "source": [
    "#calculate change in transportation energy from 2020 to 2030\n",
    "tranred_df = df[[\"model\", \"scenario\", \"carbon_budget\", \"region\",\"year\", \"Final Energy|Transportation\"]]\n",
    "#filter for year 2020 & 2030\n",
    "tranred_df = tranred_df[(tranred_df[\"year\"] == 2020) | (tranred_df[\"year\"] == 2030) ].reset_index().drop(\"index\", axis=1)\n",
    "#from long to wide\n",
    "tranred_df = pd.pivot(data=tranred_df, index=[\"model\", \"scenario\", \"carbon_budget\", \"region\"], \n",
    "             columns=\"year\", values= \"Final Energy|Transportation\").reset_index()\n",
    "#Finale Energy Transportation = (FET)\n",
    "tranred_df[\"redu_FET\"] = (tranred_df[2030] - tranred_df[2020]) / tranred_df[2020] \n",
    "\n",
    "# #both Coal data are in EJ/yr\n",
    "# unabcoal_df = df[[\"model\", \"scenario\", \"carbon_budget\", \"region\",\"year\", \"Primary Energy|Coal\", \"Primary Energy|Coal|w/ CCS\"]] \n",
    "# unabcoal_df[\"Unabated Coal\"] = unabcoal_df[\"Primary Energy|Coal\"] - unabcoal_df[\"Primary Energy|Coal|w/ CCS\"]\n",
    "# #pick threshold for when coal is supposed to the phased out // now it's 8EJ/y\n",
    "# unabcoal_df = unabcoal_df[unabcoal_df[\"Unabated Coal\"] <= 8].groupby([\"model\", \"scenario\", \"carbon_budget\"])['year'].min().reset_index()\n",
    "# unabcoal_df.rename(columns={\"year\": \"year_netcoal\"}, inplace=True)\n",
    "\n",
    "px.line(df,\n",
    "        x = \"year\",\n",
    "        y=\"Final Energy|Transportation\",\n",
    "        color = \"carbon_budget\",\n",
    "        line_dash=\"model\",\n",
    "        facet_col=\"scenario_narrative\",\n",
    "        hover_data = {'scenario':True, 'model':True})\n",
    "\n",
    "tranred_df"
   ]
  },
  {
   "cell_type": "code",
   "execution_count": 91,
   "metadata": {},
   "outputs": [
    {
     "data": {
      "text/html": [
       "<div>\n",
       "<style scoped>\n",
       "    .dataframe tbody tr th:only-of-type {\n",
       "        vertical-align: middle;\n",
       "    }\n",
       "\n",
       "    .dataframe tbody tr th {\n",
       "        vertical-align: top;\n",
       "    }\n",
       "\n",
       "    .dataframe thead th {\n",
       "        text-align: right;\n",
       "    }\n",
       "</style>\n",
       "<table border=\"1\" class=\"dataframe\">\n",
       "  <thead>\n",
       "    <tr style=\"text-align: right;\">\n",
       "      <th></th>\n",
       "      <th>model</th>\n",
       "      <th>scenario</th>\n",
       "      <th>carbon_budget</th>\n",
       "      <th>year_netzero</th>\n",
       "      <th>year_netcoal</th>\n",
       "      <th>region</th>\n",
       "      <th>redu_FET</th>\n",
       "    </tr>\n",
       "  </thead>\n",
       "  <tbody>\n",
       "    <tr>\n",
       "      <th>0</th>\n",
       "      <td>AIM/CGE V2.2</td>\n",
       "      <td>T34_1000_feas_em</td>\n",
       "      <td>2C</td>\n",
       "      <td>2060</td>\n",
       "      <td>2055</td>\n",
       "      <td>World</td>\n",
       "      <td>-0.156158</td>\n",
       "    </tr>\n",
       "    <tr>\n",
       "      <th>1</th>\n",
       "      <td>AIM/CGE V2.2</td>\n",
       "      <td>T34_1000_feas_pr</td>\n",
       "      <td>2C</td>\n",
       "      <td>2055</td>\n",
       "      <td>2055</td>\n",
       "      <td>World</td>\n",
       "      <td>-0.156188</td>\n",
       "    </tr>\n",
       "    <tr>\n",
       "      <th>2</th>\n",
       "      <td>AIM/CGE V2.2</td>\n",
       "      <td>T34_1000_feas_ref</td>\n",
       "      <td>2C</td>\n",
       "      <td>2070</td>\n",
       "      <td>2050</td>\n",
       "      <td>World</td>\n",
       "      <td>-0.095258</td>\n",
       "    </tr>\n",
       "  </tbody>\n",
       "</table>\n",
       "</div>"
      ],
      "text/plain": [
       "          model           scenario carbon_budget  year_netzero  year_netcoal   \n",
       "0  AIM/CGE V2.2   T34_1000_feas_em            2C          2060          2055  \\\n",
       "1  AIM/CGE V2.2   T34_1000_feas_pr            2C          2055          2055   \n",
       "2  AIM/CGE V2.2  T34_1000_feas_ref            2C          2070          2050   \n",
       "\n",
       "  region  redu_FET  \n",
       "0  World -0.156158  \n",
       "1  World -0.156188  \n",
       "2  World -0.095258  "
      ]
     },
     "execution_count": 91,
     "metadata": {},
     "output_type": "execute_result"
    }
   ],
   "source": [
    "#merge reduction data to rest of df\n",
    "to_plot = pd.merge(left=netzero_df, right=unabcoal_df, on=[\"model\", \"scenario\", \"carbon_budget\"])\n",
    "to_plot = pd.merge(left=to_plot, right=tranred_df.loc[:, ~tranred_df.columns.isin([2020, 2030])],\n",
    "                   on=[\"model\", \"scenario\", \"carbon_budget\"])\n",
    "to_plot.head(3)"
   ]
  },
  {
   "cell_type": "code",
   "execution_count": 86,
   "metadata": {},
   "outputs": [
    {
     "data": {
      "application/vnd.plotly.v1+json": {
       "config": {
        "plotlyServerURL": "https://plot.ly"
       },
       "data": [
        {
         "hovertemplate": "carbon_budget=2C<br>year_netcoal=%{x}<br>redu_FET=%{y}<extra></extra>",
         "legendgroup": "2C",
         "marker": {
          "color": "#636efa",
          "symbol": "circle"
         },
         "mode": "markers",
         "name": "2C",
         "orientation": "v",
         "showlegend": true,
         "type": "scatter",
         "x": [
          2055,
          2055,
          2050,
          2065,
          2060,
          2060,
          2060,
          2060,
          2060,
          2055,
          2100
         ],
         "xaxis": "x",
         "y": [
          -0.1561581727097384,
          -0.15618810759731272,
          -0.09525766656742309,
          0.015608982565342787,
          -0.15313655289316314,
          -0.1653763839797401,
          -0.0769099064151183,
          0.24310461485681237,
          0.25087140170686023,
          0.22561251911574307,
          0.09473683242480838
         ],
         "yaxis": "y"
        },
        {
         "hovertemplate": "carbon_budget=1.5C<br>year_netcoal=%{x}<br>redu_FET=%{y}<extra></extra>",
         "legendgroup": "1.5C",
         "marker": {
          "color": "#EF553B",
          "symbol": "circle"
         },
         "mode": "markers",
         "name": "1.5C",
         "orientation": "v",
         "showlegend": true,
         "type": "scatter",
         "x": [
          2050,
          2035
         ],
         "xaxis": "x",
         "y": [
          -0.03287151164443366,
          -0.0957048315340359
         ],
         "yaxis": "y"
        }
       ],
       "layout": {
        "legend": {
         "title": {
          "text": "carbon_budget"
         },
         "tracegroupgap": 0
        },
        "margin": {
         "t": 60
        },
        "template": {
         "data": {
          "bar": [
           {
            "error_x": {
             "color": "#2a3f5f"
            },
            "error_y": {
             "color": "#2a3f5f"
            },
            "marker": {
             "line": {
              "color": "#E5ECF6",
              "width": 0.5
             },
             "pattern": {
              "fillmode": "overlay",
              "size": 10,
              "solidity": 0.2
             }
            },
            "type": "bar"
           }
          ],
          "barpolar": [
           {
            "marker": {
             "line": {
              "color": "#E5ECF6",
              "width": 0.5
             },
             "pattern": {
              "fillmode": "overlay",
              "size": 10,
              "solidity": 0.2
             }
            },
            "type": "barpolar"
           }
          ],
          "carpet": [
           {
            "aaxis": {
             "endlinecolor": "#2a3f5f",
             "gridcolor": "white",
             "linecolor": "white",
             "minorgridcolor": "white",
             "startlinecolor": "#2a3f5f"
            },
            "baxis": {
             "endlinecolor": "#2a3f5f",
             "gridcolor": "white",
             "linecolor": "white",
             "minorgridcolor": "white",
             "startlinecolor": "#2a3f5f"
            },
            "type": "carpet"
           }
          ],
          "choropleth": [
           {
            "colorbar": {
             "outlinewidth": 0,
             "ticks": ""
            },
            "type": "choropleth"
           }
          ],
          "contour": [
           {
            "colorbar": {
             "outlinewidth": 0,
             "ticks": ""
            },
            "colorscale": [
             [
              0,
              "#0d0887"
             ],
             [
              0.1111111111111111,
              "#46039f"
             ],
             [
              0.2222222222222222,
              "#7201a8"
             ],
             [
              0.3333333333333333,
              "#9c179e"
             ],
             [
              0.4444444444444444,
              "#bd3786"
             ],
             [
              0.5555555555555556,
              "#d8576b"
             ],
             [
              0.6666666666666666,
              "#ed7953"
             ],
             [
              0.7777777777777778,
              "#fb9f3a"
             ],
             [
              0.8888888888888888,
              "#fdca26"
             ],
             [
              1,
              "#f0f921"
             ]
            ],
            "type": "contour"
           }
          ],
          "contourcarpet": [
           {
            "colorbar": {
             "outlinewidth": 0,
             "ticks": ""
            },
            "type": "contourcarpet"
           }
          ],
          "heatmap": [
           {
            "colorbar": {
             "outlinewidth": 0,
             "ticks": ""
            },
            "colorscale": [
             [
              0,
              "#0d0887"
             ],
             [
              0.1111111111111111,
              "#46039f"
             ],
             [
              0.2222222222222222,
              "#7201a8"
             ],
             [
              0.3333333333333333,
              "#9c179e"
             ],
             [
              0.4444444444444444,
              "#bd3786"
             ],
             [
              0.5555555555555556,
              "#d8576b"
             ],
             [
              0.6666666666666666,
              "#ed7953"
             ],
             [
              0.7777777777777778,
              "#fb9f3a"
             ],
             [
              0.8888888888888888,
              "#fdca26"
             ],
             [
              1,
              "#f0f921"
             ]
            ],
            "type": "heatmap"
           }
          ],
          "heatmapgl": [
           {
            "colorbar": {
             "outlinewidth": 0,
             "ticks": ""
            },
            "colorscale": [
             [
              0,
              "#0d0887"
             ],
             [
              0.1111111111111111,
              "#46039f"
             ],
             [
              0.2222222222222222,
              "#7201a8"
             ],
             [
              0.3333333333333333,
              "#9c179e"
             ],
             [
              0.4444444444444444,
              "#bd3786"
             ],
             [
              0.5555555555555556,
              "#d8576b"
             ],
             [
              0.6666666666666666,
              "#ed7953"
             ],
             [
              0.7777777777777778,
              "#fb9f3a"
             ],
             [
              0.8888888888888888,
              "#fdca26"
             ],
             [
              1,
              "#f0f921"
             ]
            ],
            "type": "heatmapgl"
           }
          ],
          "histogram": [
           {
            "marker": {
             "pattern": {
              "fillmode": "overlay",
              "size": 10,
              "solidity": 0.2
             }
            },
            "type": "histogram"
           }
          ],
          "histogram2d": [
           {
            "colorbar": {
             "outlinewidth": 0,
             "ticks": ""
            },
            "colorscale": [
             [
              0,
              "#0d0887"
             ],
             [
              0.1111111111111111,
              "#46039f"
             ],
             [
              0.2222222222222222,
              "#7201a8"
             ],
             [
              0.3333333333333333,
              "#9c179e"
             ],
             [
              0.4444444444444444,
              "#bd3786"
             ],
             [
              0.5555555555555556,
              "#d8576b"
             ],
             [
              0.6666666666666666,
              "#ed7953"
             ],
             [
              0.7777777777777778,
              "#fb9f3a"
             ],
             [
              0.8888888888888888,
              "#fdca26"
             ],
             [
              1,
              "#f0f921"
             ]
            ],
            "type": "histogram2d"
           }
          ],
          "histogram2dcontour": [
           {
            "colorbar": {
             "outlinewidth": 0,
             "ticks": ""
            },
            "colorscale": [
             [
              0,
              "#0d0887"
             ],
             [
              0.1111111111111111,
              "#46039f"
             ],
             [
              0.2222222222222222,
              "#7201a8"
             ],
             [
              0.3333333333333333,
              "#9c179e"
             ],
             [
              0.4444444444444444,
              "#bd3786"
             ],
             [
              0.5555555555555556,
              "#d8576b"
             ],
             [
              0.6666666666666666,
              "#ed7953"
             ],
             [
              0.7777777777777778,
              "#fb9f3a"
             ],
             [
              0.8888888888888888,
              "#fdca26"
             ],
             [
              1,
              "#f0f921"
             ]
            ],
            "type": "histogram2dcontour"
           }
          ],
          "mesh3d": [
           {
            "colorbar": {
             "outlinewidth": 0,
             "ticks": ""
            },
            "type": "mesh3d"
           }
          ],
          "parcoords": [
           {
            "line": {
             "colorbar": {
              "outlinewidth": 0,
              "ticks": ""
             }
            },
            "type": "parcoords"
           }
          ],
          "pie": [
           {
            "automargin": true,
            "type": "pie"
           }
          ],
          "scatter": [
           {
            "fillpattern": {
             "fillmode": "overlay",
             "size": 10,
             "solidity": 0.2
            },
            "type": "scatter"
           }
          ],
          "scatter3d": [
           {
            "line": {
             "colorbar": {
              "outlinewidth": 0,
              "ticks": ""
             }
            },
            "marker": {
             "colorbar": {
              "outlinewidth": 0,
              "ticks": ""
             }
            },
            "type": "scatter3d"
           }
          ],
          "scattercarpet": [
           {
            "marker": {
             "colorbar": {
              "outlinewidth": 0,
              "ticks": ""
             }
            },
            "type": "scattercarpet"
           }
          ],
          "scattergeo": [
           {
            "marker": {
             "colorbar": {
              "outlinewidth": 0,
              "ticks": ""
             }
            },
            "type": "scattergeo"
           }
          ],
          "scattergl": [
           {
            "marker": {
             "colorbar": {
              "outlinewidth": 0,
              "ticks": ""
             }
            },
            "type": "scattergl"
           }
          ],
          "scattermapbox": [
           {
            "marker": {
             "colorbar": {
              "outlinewidth": 0,
              "ticks": ""
             }
            },
            "type": "scattermapbox"
           }
          ],
          "scatterpolar": [
           {
            "marker": {
             "colorbar": {
              "outlinewidth": 0,
              "ticks": ""
             }
            },
            "type": "scatterpolar"
           }
          ],
          "scatterpolargl": [
           {
            "marker": {
             "colorbar": {
              "outlinewidth": 0,
              "ticks": ""
             }
            },
            "type": "scatterpolargl"
           }
          ],
          "scatterternary": [
           {
            "marker": {
             "colorbar": {
              "outlinewidth": 0,
              "ticks": ""
             }
            },
            "type": "scatterternary"
           }
          ],
          "surface": [
           {
            "colorbar": {
             "outlinewidth": 0,
             "ticks": ""
            },
            "colorscale": [
             [
              0,
              "#0d0887"
             ],
             [
              0.1111111111111111,
              "#46039f"
             ],
             [
              0.2222222222222222,
              "#7201a8"
             ],
             [
              0.3333333333333333,
              "#9c179e"
             ],
             [
              0.4444444444444444,
              "#bd3786"
             ],
             [
              0.5555555555555556,
              "#d8576b"
             ],
             [
              0.6666666666666666,
              "#ed7953"
             ],
             [
              0.7777777777777778,
              "#fb9f3a"
             ],
             [
              0.8888888888888888,
              "#fdca26"
             ],
             [
              1,
              "#f0f921"
             ]
            ],
            "type": "surface"
           }
          ],
          "table": [
           {
            "cells": {
             "fill": {
              "color": "#EBF0F8"
             },
             "line": {
              "color": "white"
             }
            },
            "header": {
             "fill": {
              "color": "#C8D4E3"
             },
             "line": {
              "color": "white"
             }
            },
            "type": "table"
           }
          ]
         },
         "layout": {
          "annotationdefaults": {
           "arrowcolor": "#2a3f5f",
           "arrowhead": 0,
           "arrowwidth": 1
          },
          "autotypenumbers": "strict",
          "coloraxis": {
           "colorbar": {
            "outlinewidth": 0,
            "ticks": ""
           }
          },
          "colorscale": {
           "diverging": [
            [
             0,
             "#8e0152"
            ],
            [
             0.1,
             "#c51b7d"
            ],
            [
             0.2,
             "#de77ae"
            ],
            [
             0.3,
             "#f1b6da"
            ],
            [
             0.4,
             "#fde0ef"
            ],
            [
             0.5,
             "#f7f7f7"
            ],
            [
             0.6,
             "#e6f5d0"
            ],
            [
             0.7,
             "#b8e186"
            ],
            [
             0.8,
             "#7fbc41"
            ],
            [
             0.9,
             "#4d9221"
            ],
            [
             1,
             "#276419"
            ]
           ],
           "sequential": [
            [
             0,
             "#0d0887"
            ],
            [
             0.1111111111111111,
             "#46039f"
            ],
            [
             0.2222222222222222,
             "#7201a8"
            ],
            [
             0.3333333333333333,
             "#9c179e"
            ],
            [
             0.4444444444444444,
             "#bd3786"
            ],
            [
             0.5555555555555556,
             "#d8576b"
            ],
            [
             0.6666666666666666,
             "#ed7953"
            ],
            [
             0.7777777777777778,
             "#fb9f3a"
            ],
            [
             0.8888888888888888,
             "#fdca26"
            ],
            [
             1,
             "#f0f921"
            ]
           ],
           "sequentialminus": [
            [
             0,
             "#0d0887"
            ],
            [
             0.1111111111111111,
             "#46039f"
            ],
            [
             0.2222222222222222,
             "#7201a8"
            ],
            [
             0.3333333333333333,
             "#9c179e"
            ],
            [
             0.4444444444444444,
             "#bd3786"
            ],
            [
             0.5555555555555556,
             "#d8576b"
            ],
            [
             0.6666666666666666,
             "#ed7953"
            ],
            [
             0.7777777777777778,
             "#fb9f3a"
            ],
            [
             0.8888888888888888,
             "#fdca26"
            ],
            [
             1,
             "#f0f921"
            ]
           ]
          },
          "colorway": [
           "#636efa",
           "#EF553B",
           "#00cc96",
           "#ab63fa",
           "#FFA15A",
           "#19d3f3",
           "#FF6692",
           "#B6E880",
           "#FF97FF",
           "#FECB52"
          ],
          "font": {
           "color": "#2a3f5f"
          },
          "geo": {
           "bgcolor": "white",
           "lakecolor": "white",
           "landcolor": "#E5ECF6",
           "showlakes": true,
           "showland": true,
           "subunitcolor": "white"
          },
          "hoverlabel": {
           "align": "left"
          },
          "hovermode": "closest",
          "mapbox": {
           "style": "light"
          },
          "paper_bgcolor": "white",
          "plot_bgcolor": "#E5ECF6",
          "polar": {
           "angularaxis": {
            "gridcolor": "white",
            "linecolor": "white",
            "ticks": ""
           },
           "bgcolor": "#E5ECF6",
           "radialaxis": {
            "gridcolor": "white",
            "linecolor": "white",
            "ticks": ""
           }
          },
          "scene": {
           "xaxis": {
            "backgroundcolor": "#E5ECF6",
            "gridcolor": "white",
            "gridwidth": 2,
            "linecolor": "white",
            "showbackground": true,
            "ticks": "",
            "zerolinecolor": "white"
           },
           "yaxis": {
            "backgroundcolor": "#E5ECF6",
            "gridcolor": "white",
            "gridwidth": 2,
            "linecolor": "white",
            "showbackground": true,
            "ticks": "",
            "zerolinecolor": "white"
           },
           "zaxis": {
            "backgroundcolor": "#E5ECF6",
            "gridcolor": "white",
            "gridwidth": 2,
            "linecolor": "white",
            "showbackground": true,
            "ticks": "",
            "zerolinecolor": "white"
           }
          },
          "shapedefaults": {
           "line": {
            "color": "#2a3f5f"
           }
          },
          "ternary": {
           "aaxis": {
            "gridcolor": "white",
            "linecolor": "white",
            "ticks": ""
           },
           "baxis": {
            "gridcolor": "white",
            "linecolor": "white",
            "ticks": ""
           },
           "bgcolor": "#E5ECF6",
           "caxis": {
            "gridcolor": "white",
            "linecolor": "white",
            "ticks": ""
           }
          },
          "title": {
           "x": 0.05
          },
          "xaxis": {
           "automargin": true,
           "gridcolor": "white",
           "linecolor": "white",
           "ticks": "",
           "title": {
            "standoff": 15
           },
           "zerolinecolor": "white",
           "zerolinewidth": 2
          },
          "yaxis": {
           "automargin": true,
           "gridcolor": "white",
           "linecolor": "white",
           "ticks": "",
           "title": {
            "standoff": 15
           },
           "zerolinecolor": "white",
           "zerolinewidth": 2
          }
         }
        },
        "xaxis": {
         "anchor": "y",
         "domain": [
          0,
          1
         ],
         "title": {
          "text": "year_netcoal"
         }
        },
        "yaxis": {
         "anchor": "x",
         "domain": [
          0,
          1
         ],
         "title": {
          "text": "redu_FET"
         }
        }
       }
      }
     },
     "metadata": {},
     "output_type": "display_data"
    }
   ],
   "source": [
    "fig4 = px.scatter(\n",
    "    data_frame=to_plot,\n",
    "    y = \"redu_FET\",\n",
    "    x=\"year_netcoal\",\n",
    "    color= \"carbon_budget\"\n",
    ")\n",
    "fig4"
   ]
  },
  {
   "cell_type": "code",
   "execution_count": 102,
   "metadata": {},
   "outputs": [
    {
     "name": "stdout",
     "output_type": "stream",
     "text": [
      "OUTPUT:\n",
      "Earliest possible net-zero year: 2050\n",
      "Is PA still possible? True\n"
     ]
    }
   ],
   "source": [
    "#Statement\n",
    "#Until when is it feasible to phase out coal\n",
    "year_coal_phaseout = 2050\n",
    "#What change in energy consumption of transport sector is realistic until 2030?\n",
    "change_energy_transport = 0\n",
    "\n",
    "#filter dataframe\n",
    "filter_df = to_plot.loc[(to_plot[\"year_netcoal\"] >= year_coal_phaseout) & (to_plot[\"redu_FET\"] >= change_energy_transport)]\n",
    "earliest_net_zero_year = filter_df[\"year_netzero\"].min()\n",
    "PA_aligned = (filter_df[\"carbon_budget\"].str.contains(\"1.5C\").sum() > 0)\n",
    "\n",
    "print(\"OUTPUT:\")\n",
    "print(\"Earliest possible net-zero year:\", earliest_net_zero_year)\n",
    "print(\"Is PA still possible?\", PA_aligned)"
   ]
  }
 ],
 "metadata": {
  "kernelspec": {
   "display_name": "Streamlit",
   "language": "python",
   "name": "python3"
  },
  "language_info": {
   "codemirror_mode": {
    "name": "ipython",
    "version": 3
   },
   "file_extension": ".py",
   "mimetype": "text/x-python",
   "name": "python",
   "nbconvert_exporter": "python",
   "pygments_lexer": "ipython3",
   "version": "3.10.11"
  },
  "orig_nbformat": 4
 },
 "nbformat": 4,
 "nbformat_minor": 2
}
