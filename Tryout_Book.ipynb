{
 "cells": [
  {
   "cell_type": "code",
   "execution_count": 15,
   "metadata": {},
   "outputs": [],
   "source": [
    "#Import libraries\n",
    "import pyam\n",
    "import plotly.express as px\n",
    "import plotly.graph_objects as go\n",
    "import pandas as pd\n",
    "import numpy as np"
   ]
  },
  {
   "cell_type": "code",
   "execution_count": 121,
   "metadata": {},
   "outputs": [],
   "source": [
    "def get_data():\n",
    "    #get IIASA identification\n",
    "    iiasa_creds = r\"C:\\Users\\scheifinger\\Documents\\GitHub\\Feasibility_Tool\\iiasa_credentials.yml\" \n",
    "    pyam.iiasa.Connection(creds=iiasa_creds)\n",
    "\n",
    "    connections = list(pyam.iiasa.Connection(creds=iiasa_creds).valid_connections)\n",
    "    #other variables: 'Emissions|CO2', 'Primary Energy|Coal', \n",
    "    #query for climate scenario data\n",
    "    df = pyam.read_iiasa(\n",
    "        name = 'engage_internal',\n",
    "        creds = iiasa_creds,\n",
    "        scenario =['T34_550_feas_em',\n",
    "                   'T34_550_feas_pr',\n",
    "                   'T34_550_feas_ref',\n",
    "                   'T34_1000_feas_em',\n",
    "                   'T34_1000_feas_pr',\n",
    "                   'T34_1000_feas_ref'],\n",
    "        variable=[\"Emissions|CO2\", \"Policy Cost|Consumption Loss\", \"AR5 climate diagnostics|Temperature|Exceedance Probability|1.5 degC|MAGICC6\"],\n",
    "        region=['World']\n",
    "    )   \n",
    "    #return data format of df\n",
    "    return df\n"
   ]
  },
  {
   "cell_type": "code",
   "execution_count": 122,
   "metadata": {},
   "outputs": [
    {
     "name": "stderr",
     "output_type": "stream",
     "text": [
      "httpx - INFO: HTTP Request: POST https://api.manager.ece.iiasa.ac.at/v1/token/obtain/ \"HTTP/1.1 200 OK\"\n",
      "pyam.iiasa - INFO: You are connected as user `scheifinger`\n",
      "httpx - INFO: HTTP Request: POST https://api.manager.ece.iiasa.ac.at/v1/token/obtain/ \"HTTP/1.1 200 OK\"\n",
      "pyam.iiasa - INFO: You are connected as user `scheifinger`\n",
      "httpx - INFO: HTTP Request: GET https://api.manager.ece.iiasa.ac.at/legacy/applications \"HTTP/1.1 200 OK\"\n",
      "httpx - INFO: HTTP Request: POST https://api.manager.ece.iiasa.ac.at/v1/token/obtain/ \"HTTP/1.1 200 OK\"\n",
      "httpx - INFO: HTTP Request: GET https://api.manager.ece.iiasa.ac.at/legacy/applications \"HTTP/1.1 200 OK\"\n",
      "httpx - INFO: HTTP Request: GET https://api.manager.ece.iiasa.ac.at/legacy/applications/IXSE_ENGAGE_INTERNAL/config \"HTTP/1.1 200 OK\"\n",
      "pyam.iiasa - INFO: You are connected to the IXSE_ENGAGE_INTERNAL scenario explorer hosted by IIASA. If you use this data in any published format, please cite the data as provided in the explorer guidelines: https://data.ece.iiasa.ac.at/engage-internal/#/about\n",
      "pyam.iiasa - INFO: You are connected as user `scheifinger`\n"
     ]
    }
   ],
   "source": [
    "data_set = get_data().data"
   ]
  },
  {
   "cell_type": "code",
   "execution_count": 123,
   "metadata": {},
   "outputs": [],
   "source": [
    "df = data_set\n",
    "#from long to wide\n",
    "df = pd.pivot(data=df, index=['model','scenario', 'region', 'year'], columns = 'variable', values = 'value').reset_index()"
   ]
  },
  {
   "cell_type": "code",
   "execution_count": 124,
   "metadata": {},
   "outputs": [],
   "source": [
    "#Data wrangling\n",
    "#get different carbon budgets from scenario name\n",
    "df['carbon_budget'] = np.where(df['scenario'].str.contains(\"1000\", case=False), \"2C\", \"1.5C\")\n",
    "#get diffeernt scenario narratives from scenario name\n",
    "df['scenario_narrative'] = np.where(df['scenario'].str.contains(\"_em\", case=True), \"EM\", np.nan) \n",
    "df['scenario_narrative'] = np.where(df['scenario'].str.contains(\"_ref\", case=True), \"REF\", df['scenario_narrative']) \n",
    "df['scenario_narrative'] = np.where(df['scenario'].str.contains(\"_pr\", case=True), \"PR\", df['scenario_narrative'])\n"
   ]
  },
  {
   "cell_type": "code",
   "execution_count": 125,
   "metadata": {},
   "outputs": [
    {
     "data": {
      "text/html": [
       "<div>\n",
       "<style scoped>\n",
       "    .dataframe tbody tr th:only-of-type {\n",
       "        vertical-align: middle;\n",
       "    }\n",
       "\n",
       "    .dataframe tbody tr th {\n",
       "        vertical-align: top;\n",
       "    }\n",
       "\n",
       "    .dataframe thead th {\n",
       "        text-align: right;\n",
       "    }\n",
       "</style>\n",
       "<table border=\"1\" class=\"dataframe\">\n",
       "  <thead>\n",
       "    <tr style=\"text-align: right;\">\n",
       "      <th>variable</th>\n",
       "      <th>model</th>\n",
       "      <th>scenario</th>\n",
       "      <th>region</th>\n",
       "      <th>year</th>\n",
       "      <th>Emissions|CO2</th>\n",
       "      <th>Policy Cost|Consumption Loss</th>\n",
       "      <th>carbon_budget</th>\n",
       "      <th>scenario_narrative</th>\n",
       "    </tr>\n",
       "  </thead>\n",
       "  <tbody>\n",
       "    <tr>\n",
       "      <th>0</th>\n",
       "      <td>AIM/CGE V2.2</td>\n",
       "      <td>T34_1000_feas_em</td>\n",
       "      <td>World</td>\n",
       "      <td>2010</td>\n",
       "      <td>37007.3548</td>\n",
       "      <td>17.8415</td>\n",
       "      <td>2C</td>\n",
       "      <td>EM</td>\n",
       "    </tr>\n",
       "    <tr>\n",
       "      <th>1</th>\n",
       "      <td>AIM/CGE V2.2</td>\n",
       "      <td>T34_1000_feas_em</td>\n",
       "      <td>World</td>\n",
       "      <td>2015</td>\n",
       "      <td>39100.9391</td>\n",
       "      <td>18.5841</td>\n",
       "      <td>2C</td>\n",
       "      <td>EM</td>\n",
       "    </tr>\n",
       "    <tr>\n",
       "      <th>2</th>\n",
       "      <td>AIM/CGE V2.2</td>\n",
       "      <td>T34_1000_feas_em</td>\n",
       "      <td>World</td>\n",
       "      <td>2020</td>\n",
       "      <td>41498.0654</td>\n",
       "      <td>23.8951</td>\n",
       "      <td>2C</td>\n",
       "      <td>EM</td>\n",
       "    </tr>\n",
       "    <tr>\n",
       "      <th>3</th>\n",
       "      <td>AIM/CGE V2.2</td>\n",
       "      <td>T34_1000_feas_em</td>\n",
       "      <td>World</td>\n",
       "      <td>2025</td>\n",
       "      <td>36040.5284</td>\n",
       "      <td>1715.2574</td>\n",
       "      <td>2C</td>\n",
       "      <td>EM</td>\n",
       "    </tr>\n",
       "    <tr>\n",
       "      <th>4</th>\n",
       "      <td>AIM/CGE V2.2</td>\n",
       "      <td>T34_1000_feas_em</td>\n",
       "      <td>World</td>\n",
       "      <td>2030</td>\n",
       "      <td>29490.0437</td>\n",
       "      <td>3705.7282</td>\n",
       "      <td>2C</td>\n",
       "      <td>EM</td>\n",
       "    </tr>\n",
       "  </tbody>\n",
       "</table>\n",
       "</div>"
      ],
      "text/plain": [
       "variable         model          scenario region  year  Emissions|CO2   \n",
       "0         AIM/CGE V2.2  T34_1000_feas_em  World  2010     37007.3548  \\\n",
       "1         AIM/CGE V2.2  T34_1000_feas_em  World  2015     39100.9391   \n",
       "2         AIM/CGE V2.2  T34_1000_feas_em  World  2020     41498.0654   \n",
       "3         AIM/CGE V2.2  T34_1000_feas_em  World  2025     36040.5284   \n",
       "4         AIM/CGE V2.2  T34_1000_feas_em  World  2030     29490.0437   \n",
       "\n",
       "variable  Policy Cost|Consumption Loss carbon_budget scenario_narrative  \n",
       "0                              17.8415            2C                 EM  \n",
       "1                              18.5841            2C                 EM  \n",
       "2                              23.8951            2C                 EM  \n",
       "3                            1715.2574            2C                 EM  \n",
       "4                            3705.7282            2C                 EM  "
      ]
     },
     "execution_count": 125,
     "metadata": {},
     "output_type": "execute_result"
    }
   ],
   "source": [
    "df.head(5)"
   ]
  },
  {
   "cell_type": "code",
   "execution_count": 79,
   "metadata": {},
   "outputs": [],
   "source": [
    "#create figure\n",
    "fig1 = px.line(df,\n",
    "               x = \"year\",\n",
    "               y=\"Emissions|CO2\",\n",
    "               color = \"carbon_budget\",\n",
    "               facet_col=\"scenario_narrative\")"
   ]
  },
  {
   "cell_type": "code",
   "execution_count": 108,
   "metadata": {},
   "outputs": [
    {
     "ename": "ValueError",
     "evalue": "Mime type rendering requires nbformat>=4.2.0 but it is not installed",
     "output_type": "error",
     "traceback": [
      "\u001b[1;31m---------------------------------------------------------------------------\u001b[0m",
      "\u001b[1;31mValueError\u001b[0m                                Traceback (most recent call last)",
      "File \u001b[1;32mc:\\Users\\scheifinger\\AppData\\Local\\anaconda3\\envs\\Streamlit\\lib\\site-packages\\IPython\\core\\formatters.py:922\u001b[0m, in \u001b[0;36mIPythonDisplayFormatter.__call__\u001b[1;34m(self, obj)\u001b[0m\n\u001b[0;32m    920\u001b[0m method \u001b[39m=\u001b[39m get_real_method(obj, \u001b[39mself\u001b[39m\u001b[39m.\u001b[39mprint_method)\n\u001b[0;32m    921\u001b[0m \u001b[39mif\u001b[39;00m method \u001b[39mis\u001b[39;00m \u001b[39mnot\u001b[39;00m \u001b[39mNone\u001b[39;00m:\n\u001b[1;32m--> 922\u001b[0m     method()\n\u001b[0;32m    923\u001b[0m     \u001b[39mreturn\u001b[39;00m \u001b[39mTrue\u001b[39;00m\n",
      "File \u001b[1;32mc:\\Users\\scheifinger\\AppData\\Local\\anaconda3\\envs\\Streamlit\\lib\\site-packages\\plotly\\basedatatypes.py:834\u001b[0m, in \u001b[0;36mBaseFigure._ipython_display_\u001b[1;34m(self)\u001b[0m\n\u001b[0;32m    831\u001b[0m \u001b[39mimport\u001b[39;00m \u001b[39mplotly\u001b[39;00m\u001b[39m.\u001b[39;00m\u001b[39mio\u001b[39;00m \u001b[39mas\u001b[39;00m \u001b[39mpio\u001b[39;00m\n\u001b[0;32m    833\u001b[0m \u001b[39mif\u001b[39;00m pio\u001b[39m.\u001b[39mrenderers\u001b[39m.\u001b[39mrender_on_display \u001b[39mand\u001b[39;00m pio\u001b[39m.\u001b[39mrenderers\u001b[39m.\u001b[39mdefault:\n\u001b[1;32m--> 834\u001b[0m     pio\u001b[39m.\u001b[39;49mshow(\u001b[39mself\u001b[39;49m)\n\u001b[0;32m    835\u001b[0m \u001b[39melse\u001b[39;00m:\n\u001b[0;32m    836\u001b[0m     \u001b[39mprint\u001b[39m(\u001b[39mrepr\u001b[39m(\u001b[39mself\u001b[39m))\n",
      "File \u001b[1;32mc:\\Users\\scheifinger\\AppData\\Local\\anaconda3\\envs\\Streamlit\\lib\\site-packages\\plotly\\io\\_renderers.py:396\u001b[0m, in \u001b[0;36mshow\u001b[1;34m(fig, renderer, validate, **kwargs)\u001b[0m\n\u001b[0;32m    391\u001b[0m         \u001b[39mraise\u001b[39;00m \u001b[39mValueError\u001b[39;00m(\n\u001b[0;32m    392\u001b[0m             \u001b[39m\"\u001b[39m\u001b[39mMime type rendering requires ipython but it is not installed\u001b[39m\u001b[39m\"\u001b[39m\n\u001b[0;32m    393\u001b[0m         )\n\u001b[0;32m    395\u001b[0m     \u001b[39mif\u001b[39;00m \u001b[39mnot\u001b[39;00m nbformat \u001b[39mor\u001b[39;00m Version(nbformat\u001b[39m.\u001b[39m__version__) \u001b[39m<\u001b[39m Version(\u001b[39m\"\u001b[39m\u001b[39m4.2.0\u001b[39m\u001b[39m\"\u001b[39m):\n\u001b[1;32m--> 396\u001b[0m         \u001b[39mraise\u001b[39;00m \u001b[39mValueError\u001b[39;00m(\n\u001b[0;32m    397\u001b[0m             \u001b[39m\"\u001b[39m\u001b[39mMime type rendering requires nbformat>=4.2.0 but it is not installed\u001b[39m\u001b[39m\"\u001b[39m\n\u001b[0;32m    398\u001b[0m         )\n\u001b[0;32m    400\u001b[0m     ipython_display\u001b[39m.\u001b[39mdisplay(bundle, raw\u001b[39m=\u001b[39m\u001b[39mTrue\u001b[39;00m)\n\u001b[0;32m    402\u001b[0m \u001b[39m# external renderers\u001b[39;00m\n",
      "\u001b[1;31mValueError\u001b[0m: Mime type rendering requires nbformat>=4.2.0 but it is not installed"
     ]
    },
    {
     "data": {
      "application/vnd.plotly.v1+json": {
       "config": {
        "plotlyServerURL": "https://plot.ly"
       },
       "data": [
        {
         "hovertemplate": "carbon_budget=2C<br>scenario_narrative=EM<br>year=%{x}<br>Emissions|CO2=%{y}<extra></extra>",
         "legendgroup": "2C",
         "line": {
          "color": "#636efa",
          "dash": "solid"
         },
         "marker": {
          "symbol": "circle"
         },
         "mode": "lines",
         "name": "2C",
         "orientation": "v",
         "showlegend": true,
         "type": "scatter",
         "x": [
          2010,
          2015,
          2020,
          2025,
          2030,
          2035,
          2040,
          2045,
          2050,
          2055,
          2060,
          2065,
          2070,
          2075,
          2080,
          2085,
          2090,
          2095,
          2100,
          2015,
          2020,
          2025,
          2030,
          2035,
          2040,
          2045,
          2050,
          2055,
          2060,
          2065,
          2070,
          2075,
          2080,
          2085,
          2090,
          2095,
          2100,
          2005,
          2010,
          2015,
          2020,
          2025,
          2030,
          2035,
          2040,
          2045,
          2050,
          2055,
          2060,
          2065,
          2070,
          2075,
          2080,
          2085,
          2090,
          2095,
          2100,
          1990,
          1995,
          2000,
          2005,
          2010,
          2015,
          2020,
          2025,
          2030,
          2035,
          2040,
          2045,
          2050,
          2055,
          2060,
          2070,
          2080,
          2090,
          2100,
          2110,
          2005,
          2010,
          2015,
          2020,
          2025,
          2030,
          2035,
          2040,
          2045,
          2050,
          2060,
          2070,
          2080,
          2090,
          2100,
          2005,
          2010,
          2015,
          2020,
          2025,
          2030,
          2035,
          2040,
          2045,
          2050,
          2055,
          2060,
          2070,
          2080,
          2090,
          2100,
          2005,
          2010,
          2015,
          2020,
          2025,
          2030,
          2035,
          2040,
          2045,
          2050,
          2055,
          2060,
          2065,
          2070,
          2075,
          2080,
          2085,
          2090,
          2095,
          2100
         ],
         "xaxis": "x",
         "y": [
          37007.3548,
          39100.9391,
          41498.0654,
          36040.5284,
          29490.0437,
          23592.0313,
          17906.9695,
          12995.3906,
          4791.289,
          256.1682,
          -1567.0931,
          -3567.6359,
          -4982.3678,
          -6096.5261,
          -6636.4415,
          -7180.9981,
          -7433.0634,
          -7317.7829,
          -6892.4296,
          40037.95968478094,
          38396.45762925719,
          35360.67348963348,
          30635.383802776272,
          25835.645709899163,
          20592.28476972339,
          15875.347019932502,
          12031.47992324186,
          8169.174998073619,
          6410.625737690511,
          4434.910447311931,
          2266.22483859282,
          1516.586453344251,
          779.1167739689357,
          442.7810093670224,
          -122.67543038815987,
          22.397107486872784,
          15.733486197856507,
          32948.73470351617,
          37624.76595394126,
          38916.31348010035,
          40017.15495155459,
          37195.801761193936,
          30790.471682486634,
          27253.497235550505,
          21606.925457693433,
          14440.748617849253,
          10102.601237897585,
          6472.044434182118,
          3688.5126956478193,
          1942.0635174291554,
          -26.12168153364504,
          -679.6819255175184,
          -2026.5241904511565,
          -2247.8499554452355,
          -3162.983174929471,
          -2561.0303753955814,
          -3105.055705034882,
          30943.69732619511,
          31643.35589356205,
          33807.81650025704,
          38242.12472115899,
          40738.80498025827,
          44262.56894582486,
          44326.98623718582,
          40060.99365059118,
          37335.4106510628,
          32826.55878750821,
          28329.93894294387,
          21709.669907167,
          16885.51306215626,
          12688.26073604108,
          8407.626270756691,
          623.9170618671119,
          -4212.039157826286,
          -7298.783058694957,
          -9237.408068860192,
          -10131.05335641365,
          30937.66796875,
          36240.515625,
          38365.6796875,
          38585.61328125,
          37973.65234375,
          30146.69140625,
          25340.720703125,
          22549.591796875,
          17922.787109375,
          14382.0673828125,
          6371.9501953125,
          686.85546875,
          -824.1339721679688,
          5760.50048828125,
          14256.326171875,
          36076.6584216,
          39344.5680891,
          42044.9008329,
          43169.8924414,
          39424.9854454,
          30030.3848351,
          23516.017394,
          17357.4892678,
          13002.8799275,
          10165.2601172,
          8013.405469,
          6094.3848887,
          3559.4433643,
          2145.989562,
          455.1165693,
          333.1364044,
          33090.9000845212,
          36640.4375831807,
          38689.6859400325,
          40153.2762651073,
          35764.2253719167,
          29083.705828117,
          23529.5737516993,
          19384.9092249618,
          15487.0757691984,
          12428.1825729341,
          9913.42312352917,
          7539.34394749177,
          5919.87765613422,
          4274.77142743842,
          2589.10583442328,
          1298.83827158299,
          20.9348021059696,
          109.790133128459,
          103.585635237051,
          130.994169249474
         ],
         "yaxis": "y"
        },
        {
         "hovertemplate": "carbon_budget=2C<br>scenario_narrative=PR<br>year=%{x}<br>Emissions|CO2=%{y}<extra></extra>",
         "legendgroup": "2C",
         "line": {
          "color": "#636efa",
          "dash": "solid"
         },
         "marker": {
          "symbol": "circle"
         },
         "mode": "lines",
         "name": "2C",
         "orientation": "v",
         "showlegend": false,
         "type": "scatter",
         "x": [
          2010,
          2015,
          2020,
          2025,
          2030,
          2035,
          2040,
          2045,
          2050,
          2055,
          2060,
          2065,
          2070,
          2075,
          2080,
          2085,
          2090,
          2095,
          2100,
          2005,
          2010,
          2015,
          2020,
          2025,
          2030,
          2035,
          2040,
          2045,
          2050,
          2055,
          2060,
          2065,
          2070,
          2075,
          2080,
          2085,
          2090,
          2095,
          2100,
          1990,
          1995,
          2000,
          2005,
          2010,
          2015,
          2020,
          2025,
          2030,
          2035,
          2040,
          2045,
          2050,
          2055,
          2060,
          2070,
          2080,
          2090,
          2100,
          2110,
          2005,
          2010,
          2015,
          2020,
          2025,
          2030,
          2035,
          2040,
          2045,
          2050,
          2060,
          2070,
          2080,
          2090,
          2100,
          2005,
          2010,
          2015,
          2020,
          2025,
          2030,
          2035,
          2040,
          2045,
          2050,
          2055,
          2060,
          2070,
          2080,
          2090,
          2100,
          2005,
          2010,
          2015,
          2020,
          2025,
          2030,
          2035,
          2040,
          2045,
          2050,
          2055,
          2060,
          2065,
          2070,
          2075,
          2080,
          2085,
          2090,
          2095,
          2100
         ],
         "xaxis": "x2",
         "y": [
          37007.355,
          39100.9393,
          41498.0654,
          36045.7748,
          29507.1568,
          23562.0215,
          17791.3184,
          12454.6876,
          5574.8459,
          -161.531,
          -2337.9482,
          -3885.5619,
          -5152.6102,
          -6096.0053,
          -6548.2102,
          -7067.5337,
          -7321.9124,
          -7215.2995,
          -6803.5166,
          32948.73470351617,
          37624.76595394126,
          38916.31348010035,
          40017.15495155459,
          36770.468427821936,
          30104.0709662784,
          25747.813153382376,
          18528.17334152813,
          13240.387940656796,
          9105.113933119404,
          5621.593953961575,
          3278.681010226447,
          1621.4649456226662,
          -271.0760523724623,
          -689.9474843970323,
          -1726.734914300856,
          -2023.910929545971,
          -2781.0758059168875,
          -2163.8187461277003,
          -2760.896159105157,
          30943.69732619511,
          31643.35589356205,
          33807.81650025704,
          38242.12472115899,
          40738.80498025827,
          44262.56894582486,
          44326.98623718582,
          40060.99365059118,
          37200.17443926974,
          32458.02594588215,
          27749.40901014774,
          22825.04104135613,
          16720.70805118224,
          10583.36706925492,
          6115.808822249901,
          -1505.925041818099,
          -3865.03243841161,
          -5124.180536412106,
          -6072.030705109491,
          -7476.81592256208,
          30937.66796875,
          36240.515625,
          38365.6796875,
          38578.6171875,
          39267.7890625,
          34086.15625,
          32866.20703125,
          31043.7421875,
          27767.0625,
          23987.85546875,
          16155.0927734375,
          6563.13916015625,
          -3994.706298828125,
          -16666.76953125,
          -25248.400390625,
          36076.6584216,
          39344.5680891,
          42044.9008329,
          43169.8924414,
          39437.6791219,
          30100.4311208,
          23672.7994045,
          17314.9013615,
          12688.7845402,
          9513.6777998,
          7319.3377975,
          5447.8129892,
          3183.7486327,
          1934.1862988,
          1171.9542329,
          180.343186,
          33090.9000845212,
          36640.4375831807,
          38689.6859400325,
          40153.2762651073,
          36801.5522019755,
          28624.0265688793,
          20946.033301787,
          17281.3190276267,
          14736.3873188541,
          12403.3345579926,
          10089.55144531,
          7633.73325762057,
          6201.34354422312,
          4998.65056698563,
          3737.31903942135,
          2584.19240444193,
          1460.7594834069,
          90.9014454087095,
          5.26123358807033,
          20.0576562859384
         ],
         "yaxis": "y2"
        },
        {
         "hovertemplate": "carbon_budget=2C<br>scenario_narrative=REF<br>year=%{x}<br>Emissions|CO2=%{y}<extra></extra>",
         "legendgroup": "2C",
         "line": {
          "color": "#636efa",
          "dash": "solid"
         },
         "marker": {
          "symbol": "circle"
         },
         "mode": "lines",
         "name": "2C",
         "orientation": "v",
         "showlegend": false,
         "type": "scatter",
         "x": [
          2010,
          2015,
          2020,
          2025,
          2030,
          2035,
          2040,
          2045,
          2050,
          2055,
          2060,
          2065,
          2070,
          2075,
          2080,
          2085,
          2090,
          2095,
          2100,
          2015,
          2020,
          2025,
          2030,
          2035,
          2040,
          2045,
          2050,
          2055,
          2060,
          2065,
          2070,
          2075,
          2080,
          2085,
          2090,
          2095,
          2100,
          2005,
          2010,
          2015,
          2020,
          2025,
          2030,
          2035,
          2040,
          2045,
          2050,
          2055,
          2060,
          2065,
          2070,
          2075,
          2080,
          2085,
          2090,
          2095,
          2100,
          1990,
          1995,
          2000,
          2005,
          2010,
          2015,
          2020,
          2025,
          2030,
          2035,
          2040,
          2045,
          2050,
          2055,
          2060,
          2070,
          2080,
          2090,
          2100,
          2110,
          2005,
          2010,
          2015,
          2020,
          2025,
          2030,
          2035,
          2040,
          2045,
          2050,
          2060,
          2070,
          2080,
          2090,
          2100,
          2005,
          2010,
          2015,
          2020,
          2025,
          2030,
          2035,
          2040,
          2045,
          2050,
          2055,
          2060,
          2070,
          2080,
          2090,
          2100,
          2005,
          2010,
          2015,
          2020,
          2025,
          2030,
          2035,
          2040,
          2045,
          2050,
          2055,
          2060,
          2065,
          2070,
          2075,
          2080,
          2085,
          2090,
          2095,
          2100
         ],
         "xaxis": "x3",
         "y": [
          37007.355,
          39100.9393,
          41498.0655,
          35262.8588,
          29876.0764,
          24905.1549,
          18042.1449,
          11696.3271,
          6219.2689,
          939.6625,
          1203.7678,
          300.2459,
          -247.718,
          -486.6466,
          -478.9601,
          -284.5831,
          -192.1635,
          -72.7713,
          -3.9812000000000003,
          40037.95968478094,
          38396.45762925719,
          35275.722114713964,
          29945.0734882725,
          25166.81321919868,
          19951.973244417943,
          15509.898704160983,
          11990.087821360145,
          8192.924965911297,
          6708.90536948063,
          4674.298248660193,
          2212.73104699814,
          1769.817283435701,
          982.1683415865157,
          661.5213524832608,
          64.65984607541506,
          14.90813008888847,
          25.4540632831943,
          32948.73470351617,
          37624.76595394126,
          38916.31348010035,
          40017.15495155459,
          40166.206383859804,
          34156.00260727176,
          25877.845542717114,
          18511.01269699532,
          13020.795248579541,
          9356.871420121457,
          6704.551473591276,
          4295.507161848834,
          1867.3629050362968,
          -372.2337773979345,
          -478.9869232613177,
          -1938.4604087048695,
          -2563.380900298139,
          -2865.3028363607423,
          -2126.087707712812,
          -2500.1774497715596,
          30943.69732619511,
          31643.35589356205,
          33807.81650025704,
          38242.12472115899,
          40738.80498025827,
          44262.56894582486,
          44326.98623718582,
          40060.99365059118,
          34205.39053461283,
          28259.70779247904,
          23080.84591253439,
          17228.82289174903,
          11165.38682129183,
          5625.753894593379,
          2534.117662327636,
          0.0008021819661507834,
          0.002097939926329,
          0.00008010335102426325,
          -0.0018096172334480002,
          -0.0020547194909560002,
          30937.66796875,
          36240.515625,
          38365.6796875,
          38585.8671875,
          37456.8125,
          29588.9453125,
          23239.658203125,
          18006.822265625,
          13593.2666015625,
          10284.42578125,
          5829.6181640625,
          3157.205078125,
          1545.1220703125,
          1095.7762451171875,
          589.1063232421875,
          36076.6584216,
          39344.5680891,
          42044.9008329,
          43169.8924414,
          39346.4896636,
          28919.1289999,
          22255.7973601,
          15948.0588156,
          11704.8812688,
          8898.7782891,
          6962.6260202,
          5377.6939744,
          3627.0899233,
          2706.9225268,
          1992.9886119,
          1325.2126907,
          33090.9000845212,
          36640.4375831807,
          38689.6859400325,
          40153.2762651073,
          36691.3979002781,
          27110.9406472828,
          19816.2465012422,
          16606.580781696,
          14266.3058986891,
          12248.7646079264,
          10185.1106344203,
          8246.02353506664,
          7065.05685781118,
          5747.29525571108,
          4417.63382048053,
          3272.59142572856,
          2002.99182458616,
          67.7089295056739,
          30.2571538952062,
          -7.70116771826095
         ],
         "yaxis": "y3"
        },
        {
         "hovertemplate": "carbon_budget=1.5C<br>scenario_narrative=EM<br>year=%{x}<br>Emissions|CO2=%{y}<extra></extra>",
         "legendgroup": "1.5C",
         "line": {
          "color": "#EF553B",
          "dash": "solid"
         },
         "marker": {
          "symbol": "circle"
         },
         "mode": "lines",
         "name": "1.5C",
         "orientation": "v",
         "showlegend": true,
         "type": "scatter",
         "x": [
          2005,
          2010,
          2015,
          2020,
          2025,
          2030,
          2035,
          2040,
          2045,
          2050,
          2055,
          2060,
          2070,
          2080,
          2090,
          2100
         ],
         "xaxis": "x",
         "y": [
          36076.6584216,
          39344.5680891,
          42044.9008329,
          43169.8924414,
          39126.8116934,
          27588.883096,
          18623.0283483,
          12745.2738243,
          8573.2747808,
          4798.4692981,
          2091.9993962,
          728.2638651,
          -41.4335866,
          -38.0844653,
          -54.3000756,
          28.1621396
         ],
         "yaxis": "y"
        },
        {
         "hovertemplate": "carbon_budget=1.5C<br>scenario_narrative=PR<br>year=%{x}<br>Emissions|CO2=%{y}<extra></extra>",
         "legendgroup": "1.5C",
         "line": {
          "color": "#EF553B",
          "dash": "solid"
         },
         "marker": {
          "symbol": "circle"
         },
         "mode": "lines",
         "name": "1.5C",
         "orientation": "v",
         "showlegend": false,
         "type": "scatter",
         "x": [
          2005,
          2010,
          2015,
          2020,
          2025,
          2030,
          2035,
          2040,
          2045,
          2050,
          2055,
          2060,
          2070,
          2080,
          2090,
          2100
         ],
         "xaxis": "x2",
         "y": [
          36076.6584216,
          39344.5680891,
          42044.9008329,
          43169.8924414,
          39003.0839628,
          26012.970282,
          16901.6528027,
          10765.1296971,
          6152.1213541,
          3234.5813171,
          1002.7648018,
          346.5036098,
          153.0553331,
          138.2809508,
          79.9602367,
          133.9382284
         ],
         "yaxis": "y2"
        },
        {
         "hovertemplate": "carbon_budget=1.5C<br>scenario_narrative=REF<br>year=%{x}<br>Emissions|CO2=%{y}<extra></extra>",
         "legendgroup": "1.5C",
         "line": {
          "color": "#EF553B",
          "dash": "solid"
         },
         "marker": {
          "symbol": "circle"
         },
         "mode": "lines",
         "name": "1.5C",
         "orientation": "v",
         "showlegend": false,
         "type": "scatter",
         "x": [
          2005,
          2010,
          2015,
          2020,
          2025,
          2030,
          2035,
          2040,
          2045,
          2050,
          2055,
          2060,
          2070,
          2080,
          2090,
          2100
         ],
         "xaxis": "x3",
         "y": [
          36076.6584216,
          39344.5680891,
          42044.9008329,
          43169.8924414,
          36478.8081597,
          19100.4321191,
          9952.112886,
          4177.9133658,
          998.6641815,
          -95.4651769,
          5.8695524,
          125.7077807,
          -13.9409352,
          -8.4115718,
          -9.3299555,
          10.5519811
         ],
         "yaxis": "y3"
        }
       ],
       "layout": {
        "annotations": [
         {
          "font": {},
          "showarrow": false,
          "text": "scenario_narrative=EM",
          "x": 0.15999999999999998,
          "xanchor": "center",
          "xref": "paper",
          "y": 1,
          "yanchor": "bottom",
          "yref": "paper"
         },
         {
          "font": {},
          "showarrow": false,
          "text": "scenario_narrative=PR",
          "x": 0.49999999999999994,
          "xanchor": "center",
          "xref": "paper",
          "y": 1,
          "yanchor": "bottom",
          "yref": "paper"
         },
         {
          "font": {},
          "showarrow": false,
          "text": "scenario_narrative=REF",
          "x": 0.8399999999999999,
          "xanchor": "center",
          "xref": "paper",
          "y": 1,
          "yanchor": "bottom",
          "yref": "paper"
         }
        ],
        "legend": {
         "title": {
          "text": "carbon_budget"
         },
         "tracegroupgap": 0
        },
        "margin": {
         "t": 60
        },
        "template": {
         "data": {
          "bar": [
           {
            "error_x": {
             "color": "#2a3f5f"
            },
            "error_y": {
             "color": "#2a3f5f"
            },
            "marker": {
             "line": {
              "color": "#E5ECF6",
              "width": 0.5
             },
             "pattern": {
              "fillmode": "overlay",
              "size": 10,
              "solidity": 0.2
             }
            },
            "type": "bar"
           }
          ],
          "barpolar": [
           {
            "marker": {
             "line": {
              "color": "#E5ECF6",
              "width": 0.5
             },
             "pattern": {
              "fillmode": "overlay",
              "size": 10,
              "solidity": 0.2
             }
            },
            "type": "barpolar"
           }
          ],
          "carpet": [
           {
            "aaxis": {
             "endlinecolor": "#2a3f5f",
             "gridcolor": "white",
             "linecolor": "white",
             "minorgridcolor": "white",
             "startlinecolor": "#2a3f5f"
            },
            "baxis": {
             "endlinecolor": "#2a3f5f",
             "gridcolor": "white",
             "linecolor": "white",
             "minorgridcolor": "white",
             "startlinecolor": "#2a3f5f"
            },
            "type": "carpet"
           }
          ],
          "choropleth": [
           {
            "colorbar": {
             "outlinewidth": 0,
             "ticks": ""
            },
            "type": "choropleth"
           }
          ],
          "contour": [
           {
            "colorbar": {
             "outlinewidth": 0,
             "ticks": ""
            },
            "colorscale": [
             [
              0,
              "#0d0887"
             ],
             [
              0.1111111111111111,
              "#46039f"
             ],
             [
              0.2222222222222222,
              "#7201a8"
             ],
             [
              0.3333333333333333,
              "#9c179e"
             ],
             [
              0.4444444444444444,
              "#bd3786"
             ],
             [
              0.5555555555555556,
              "#d8576b"
             ],
             [
              0.6666666666666666,
              "#ed7953"
             ],
             [
              0.7777777777777778,
              "#fb9f3a"
             ],
             [
              0.8888888888888888,
              "#fdca26"
             ],
             [
              1,
              "#f0f921"
             ]
            ],
            "type": "contour"
           }
          ],
          "contourcarpet": [
           {
            "colorbar": {
             "outlinewidth": 0,
             "ticks": ""
            },
            "type": "contourcarpet"
           }
          ],
          "heatmap": [
           {
            "colorbar": {
             "outlinewidth": 0,
             "ticks": ""
            },
            "colorscale": [
             [
              0,
              "#0d0887"
             ],
             [
              0.1111111111111111,
              "#46039f"
             ],
             [
              0.2222222222222222,
              "#7201a8"
             ],
             [
              0.3333333333333333,
              "#9c179e"
             ],
             [
              0.4444444444444444,
              "#bd3786"
             ],
             [
              0.5555555555555556,
              "#d8576b"
             ],
             [
              0.6666666666666666,
              "#ed7953"
             ],
             [
              0.7777777777777778,
              "#fb9f3a"
             ],
             [
              0.8888888888888888,
              "#fdca26"
             ],
             [
              1,
              "#f0f921"
             ]
            ],
            "type": "heatmap"
           }
          ],
          "heatmapgl": [
           {
            "colorbar": {
             "outlinewidth": 0,
             "ticks": ""
            },
            "colorscale": [
             [
              0,
              "#0d0887"
             ],
             [
              0.1111111111111111,
              "#46039f"
             ],
             [
              0.2222222222222222,
              "#7201a8"
             ],
             [
              0.3333333333333333,
              "#9c179e"
             ],
             [
              0.4444444444444444,
              "#bd3786"
             ],
             [
              0.5555555555555556,
              "#d8576b"
             ],
             [
              0.6666666666666666,
              "#ed7953"
             ],
             [
              0.7777777777777778,
              "#fb9f3a"
             ],
             [
              0.8888888888888888,
              "#fdca26"
             ],
             [
              1,
              "#f0f921"
             ]
            ],
            "type": "heatmapgl"
           }
          ],
          "histogram": [
           {
            "marker": {
             "pattern": {
              "fillmode": "overlay",
              "size": 10,
              "solidity": 0.2
             }
            },
            "type": "histogram"
           }
          ],
          "histogram2d": [
           {
            "colorbar": {
             "outlinewidth": 0,
             "ticks": ""
            },
            "colorscale": [
             [
              0,
              "#0d0887"
             ],
             [
              0.1111111111111111,
              "#46039f"
             ],
             [
              0.2222222222222222,
              "#7201a8"
             ],
             [
              0.3333333333333333,
              "#9c179e"
             ],
             [
              0.4444444444444444,
              "#bd3786"
             ],
             [
              0.5555555555555556,
              "#d8576b"
             ],
             [
              0.6666666666666666,
              "#ed7953"
             ],
             [
              0.7777777777777778,
              "#fb9f3a"
             ],
             [
              0.8888888888888888,
              "#fdca26"
             ],
             [
              1,
              "#f0f921"
             ]
            ],
            "type": "histogram2d"
           }
          ],
          "histogram2dcontour": [
           {
            "colorbar": {
             "outlinewidth": 0,
             "ticks": ""
            },
            "colorscale": [
             [
              0,
              "#0d0887"
             ],
             [
              0.1111111111111111,
              "#46039f"
             ],
             [
              0.2222222222222222,
              "#7201a8"
             ],
             [
              0.3333333333333333,
              "#9c179e"
             ],
             [
              0.4444444444444444,
              "#bd3786"
             ],
             [
              0.5555555555555556,
              "#d8576b"
             ],
             [
              0.6666666666666666,
              "#ed7953"
             ],
             [
              0.7777777777777778,
              "#fb9f3a"
             ],
             [
              0.8888888888888888,
              "#fdca26"
             ],
             [
              1,
              "#f0f921"
             ]
            ],
            "type": "histogram2dcontour"
           }
          ],
          "mesh3d": [
           {
            "colorbar": {
             "outlinewidth": 0,
             "ticks": ""
            },
            "type": "mesh3d"
           }
          ],
          "parcoords": [
           {
            "line": {
             "colorbar": {
              "outlinewidth": 0,
              "ticks": ""
             }
            },
            "type": "parcoords"
           }
          ],
          "pie": [
           {
            "automargin": true,
            "type": "pie"
           }
          ],
          "scatter": [
           {
            "fillpattern": {
             "fillmode": "overlay",
             "size": 10,
             "solidity": 0.2
            },
            "type": "scatter"
           }
          ],
          "scatter3d": [
           {
            "line": {
             "colorbar": {
              "outlinewidth": 0,
              "ticks": ""
             }
            },
            "marker": {
             "colorbar": {
              "outlinewidth": 0,
              "ticks": ""
             }
            },
            "type": "scatter3d"
           }
          ],
          "scattercarpet": [
           {
            "marker": {
             "colorbar": {
              "outlinewidth": 0,
              "ticks": ""
             }
            },
            "type": "scattercarpet"
           }
          ],
          "scattergeo": [
           {
            "marker": {
             "colorbar": {
              "outlinewidth": 0,
              "ticks": ""
             }
            },
            "type": "scattergeo"
           }
          ],
          "scattergl": [
           {
            "marker": {
             "colorbar": {
              "outlinewidth": 0,
              "ticks": ""
             }
            },
            "type": "scattergl"
           }
          ],
          "scattermapbox": [
           {
            "marker": {
             "colorbar": {
              "outlinewidth": 0,
              "ticks": ""
             }
            },
            "type": "scattermapbox"
           }
          ],
          "scatterpolar": [
           {
            "marker": {
             "colorbar": {
              "outlinewidth": 0,
              "ticks": ""
             }
            },
            "type": "scatterpolar"
           }
          ],
          "scatterpolargl": [
           {
            "marker": {
             "colorbar": {
              "outlinewidth": 0,
              "ticks": ""
             }
            },
            "type": "scatterpolargl"
           }
          ],
          "scatterternary": [
           {
            "marker": {
             "colorbar": {
              "outlinewidth": 0,
              "ticks": ""
             }
            },
            "type": "scatterternary"
           }
          ],
          "surface": [
           {
            "colorbar": {
             "outlinewidth": 0,
             "ticks": ""
            },
            "colorscale": [
             [
              0,
              "#0d0887"
             ],
             [
              0.1111111111111111,
              "#46039f"
             ],
             [
              0.2222222222222222,
              "#7201a8"
             ],
             [
              0.3333333333333333,
              "#9c179e"
             ],
             [
              0.4444444444444444,
              "#bd3786"
             ],
             [
              0.5555555555555556,
              "#d8576b"
             ],
             [
              0.6666666666666666,
              "#ed7953"
             ],
             [
              0.7777777777777778,
              "#fb9f3a"
             ],
             [
              0.8888888888888888,
              "#fdca26"
             ],
             [
              1,
              "#f0f921"
             ]
            ],
            "type": "surface"
           }
          ],
          "table": [
           {
            "cells": {
             "fill": {
              "color": "#EBF0F8"
             },
             "line": {
              "color": "white"
             }
            },
            "header": {
             "fill": {
              "color": "#C8D4E3"
             },
             "line": {
              "color": "white"
             }
            },
            "type": "table"
           }
          ]
         },
         "layout": {
          "annotationdefaults": {
           "arrowcolor": "#2a3f5f",
           "arrowhead": 0,
           "arrowwidth": 1
          },
          "autotypenumbers": "strict",
          "coloraxis": {
           "colorbar": {
            "outlinewidth": 0,
            "ticks": ""
           }
          },
          "colorscale": {
           "diverging": [
            [
             0,
             "#8e0152"
            ],
            [
             0.1,
             "#c51b7d"
            ],
            [
             0.2,
             "#de77ae"
            ],
            [
             0.3,
             "#f1b6da"
            ],
            [
             0.4,
             "#fde0ef"
            ],
            [
             0.5,
             "#f7f7f7"
            ],
            [
             0.6,
             "#e6f5d0"
            ],
            [
             0.7,
             "#b8e186"
            ],
            [
             0.8,
             "#7fbc41"
            ],
            [
             0.9,
             "#4d9221"
            ],
            [
             1,
             "#276419"
            ]
           ],
           "sequential": [
            [
             0,
             "#0d0887"
            ],
            [
             0.1111111111111111,
             "#46039f"
            ],
            [
             0.2222222222222222,
             "#7201a8"
            ],
            [
             0.3333333333333333,
             "#9c179e"
            ],
            [
             0.4444444444444444,
             "#bd3786"
            ],
            [
             0.5555555555555556,
             "#d8576b"
            ],
            [
             0.6666666666666666,
             "#ed7953"
            ],
            [
             0.7777777777777778,
             "#fb9f3a"
            ],
            [
             0.8888888888888888,
             "#fdca26"
            ],
            [
             1,
             "#f0f921"
            ]
           ],
           "sequentialminus": [
            [
             0,
             "#0d0887"
            ],
            [
             0.1111111111111111,
             "#46039f"
            ],
            [
             0.2222222222222222,
             "#7201a8"
            ],
            [
             0.3333333333333333,
             "#9c179e"
            ],
            [
             0.4444444444444444,
             "#bd3786"
            ],
            [
             0.5555555555555556,
             "#d8576b"
            ],
            [
             0.6666666666666666,
             "#ed7953"
            ],
            [
             0.7777777777777778,
             "#fb9f3a"
            ],
            [
             0.8888888888888888,
             "#fdca26"
            ],
            [
             1,
             "#f0f921"
            ]
           ]
          },
          "colorway": [
           "#636efa",
           "#EF553B",
           "#00cc96",
           "#ab63fa",
           "#FFA15A",
           "#19d3f3",
           "#FF6692",
           "#B6E880",
           "#FF97FF",
           "#FECB52"
          ],
          "font": {
           "color": "#2a3f5f"
          },
          "geo": {
           "bgcolor": "white",
           "lakecolor": "white",
           "landcolor": "#E5ECF6",
           "showlakes": true,
           "showland": true,
           "subunitcolor": "white"
          },
          "hoverlabel": {
           "align": "left"
          },
          "hovermode": "closest",
          "mapbox": {
           "style": "light"
          },
          "paper_bgcolor": "white",
          "plot_bgcolor": "#E5ECF6",
          "polar": {
           "angularaxis": {
            "gridcolor": "white",
            "linecolor": "white",
            "ticks": ""
           },
           "bgcolor": "#E5ECF6",
           "radialaxis": {
            "gridcolor": "white",
            "linecolor": "white",
            "ticks": ""
           }
          },
          "scene": {
           "xaxis": {
            "backgroundcolor": "#E5ECF6",
            "gridcolor": "white",
            "gridwidth": 2,
            "linecolor": "white",
            "showbackground": true,
            "ticks": "",
            "zerolinecolor": "white"
           },
           "yaxis": {
            "backgroundcolor": "#E5ECF6",
            "gridcolor": "white",
            "gridwidth": 2,
            "linecolor": "white",
            "showbackground": true,
            "ticks": "",
            "zerolinecolor": "white"
           },
           "zaxis": {
            "backgroundcolor": "#E5ECF6",
            "gridcolor": "white",
            "gridwidth": 2,
            "linecolor": "white",
            "showbackground": true,
            "ticks": "",
            "zerolinecolor": "white"
           }
          },
          "shapedefaults": {
           "line": {
            "color": "#2a3f5f"
           }
          },
          "ternary": {
           "aaxis": {
            "gridcolor": "white",
            "linecolor": "white",
            "ticks": ""
           },
           "baxis": {
            "gridcolor": "white",
            "linecolor": "white",
            "ticks": ""
           },
           "bgcolor": "#E5ECF6",
           "caxis": {
            "gridcolor": "white",
            "linecolor": "white",
            "ticks": ""
           }
          },
          "title": {
           "x": 0.05
          },
          "xaxis": {
           "automargin": true,
           "gridcolor": "white",
           "linecolor": "white",
           "ticks": "",
           "title": {
            "standoff": 15
           },
           "zerolinecolor": "white",
           "zerolinewidth": 2
          },
          "yaxis": {
           "automargin": true,
           "gridcolor": "white",
           "linecolor": "white",
           "ticks": "",
           "title": {
            "standoff": 15
           },
           "zerolinecolor": "white",
           "zerolinewidth": 2
          }
         }
        },
        "xaxis": {
         "anchor": "y",
         "domain": [
          0,
          0.31999999999999995
         ],
         "title": {
          "text": "year"
         }
        },
        "xaxis2": {
         "anchor": "y2",
         "domain": [
          0.33999999999999997,
          0.6599999999999999
         ],
         "matches": "x",
         "title": {
          "text": "year"
         }
        },
        "xaxis3": {
         "anchor": "y3",
         "domain": [
          0.6799999999999999,
          0.9999999999999999
         ],
         "matches": "x",
         "title": {
          "text": "year"
         }
        },
        "yaxis": {
         "anchor": "x",
         "domain": [
          0,
          1
         ],
         "title": {
          "text": "Emissions|CO2"
         }
        },
        "yaxis2": {
         "anchor": "x2",
         "domain": [
          0,
          1
         ],
         "matches": "y",
         "showticklabels": false
        },
        "yaxis3": {
         "anchor": "x3",
         "domain": [
          0,
          1
         ],
         "matches": "y",
         "showticklabels": false
        }
       }
      },
      "text/html": [
       "<div>                        <script type=\"text/javascript\">window.PlotlyConfig = {MathJaxConfig: 'local'};</script>\n",
       "        <script charset=\"utf-8\" src=\"https://cdn.plot.ly/plotly-2.20.0.min.js\"></script>                <div id=\"905d7f95-fce1-46cf-9a47-1b8fd642f1fe\" class=\"plotly-graph-div\" style=\"height:100%; width:100%;\"></div>            <script type=\"text/javascript\">                                    window.PLOTLYENV=window.PLOTLYENV || {};                                    if (document.getElementById(\"905d7f95-fce1-46cf-9a47-1b8fd642f1fe\")) {                    Plotly.newPlot(                        \"905d7f95-fce1-46cf-9a47-1b8fd642f1fe\",                        [{\"hovertemplate\":\"carbon_budget=2C<br>scenario_narrative=EM<br>year=%{x}<br>Emissions|CO2=%{y}<extra></extra>\",\"legendgroup\":\"2C\",\"line\":{\"color\":\"#636efa\",\"dash\":\"solid\"},\"marker\":{\"symbol\":\"circle\"},\"mode\":\"lines\",\"name\":\"2C\",\"orientation\":\"v\",\"showlegend\":true,\"x\":[2010,2015,2020,2025,2030,2035,2040,2045,2050,2055,2060,2065,2070,2075,2080,2085,2090,2095,2100,2015,2020,2025,2030,2035,2040,2045,2050,2055,2060,2065,2070,2075,2080,2085,2090,2095,2100,2005,2010,2015,2020,2025,2030,2035,2040,2045,2050,2055,2060,2065,2070,2075,2080,2085,2090,2095,2100,1990,1995,2000,2005,2010,2015,2020,2025,2030,2035,2040,2045,2050,2055,2060,2070,2080,2090,2100,2110,2005,2010,2015,2020,2025,2030,2035,2040,2045,2050,2060,2070,2080,2090,2100,2005,2010,2015,2020,2025,2030,2035,2040,2045,2050,2055,2060,2070,2080,2090,2100,2005,2010,2015,2020,2025,2030,2035,2040,2045,2050,2055,2060,2065,2070,2075,2080,2085,2090,2095,2100],\"xaxis\":\"x\",\"y\":[37007.3548,39100.9391,41498.0654,36040.5284,29490.0437,23592.0313,17906.9695,12995.3906,4791.289,256.1682,-1567.0931,-3567.6359,-4982.3678,-6096.5261,-6636.4415,-7180.9981,-7433.0634,-7317.7829,-6892.4296,40037.95968478094,38396.45762925719,35360.67348963348,30635.383802776272,25835.645709899163,20592.28476972339,15875.347019932502,12031.47992324186,8169.174998073619,6410.625737690511,4434.910447311931,2266.22483859282,1516.586453344251,779.1167739689357,442.7810093670224,-122.67543038815987,22.397107486872784,15.733486197856507,32948.73470351617,37624.76595394126,38916.31348010035,40017.15495155459,37195.801761193936,30790.471682486634,27253.497235550505,21606.925457693433,14440.748617849253,10102.601237897585,6472.044434182118,3688.5126956478193,1942.0635174291554,-26.12168153364504,-679.6819255175184,-2026.5241904511565,-2247.8499554452355,-3162.983174929471,-2561.0303753955814,-3105.055705034882,30943.69732619511,31643.35589356205,33807.81650025704,38242.12472115899,40738.80498025827,44262.56894582486,44326.98623718582,40060.99365059118,37335.4106510628,32826.55878750821,28329.93894294387,21709.669907167,16885.51306215626,12688.26073604108,8407.626270756691,623.9170618671119,-4212.039157826286,-7298.783058694957,-9237.408068860192,-10131.05335641365,30937.66796875,36240.515625,38365.6796875,38585.61328125,37973.65234375,30146.69140625,25340.720703125,22549.591796875,17922.787109375,14382.0673828125,6371.9501953125,686.85546875,-824.1339721679688,5760.50048828125,14256.326171875,36076.6584216,39344.5680891,42044.9008329,43169.8924414,39424.9854454,30030.3848351,23516.017394,17357.4892678,13002.8799275,10165.2601172,8013.405469,6094.3848887,3559.4433643,2145.989562,455.1165693,333.1364044,33090.9000845212,36640.4375831807,38689.6859400325,40153.2762651073,35764.2253719167,29083.705828117,23529.5737516993,19384.9092249618,15487.0757691984,12428.1825729341,9913.42312352917,7539.34394749177,5919.87765613422,4274.77142743842,2589.10583442328,1298.83827158299,20.9348021059696,109.790133128459,103.585635237051,130.994169249474],\"yaxis\":\"y\",\"type\":\"scatter\"},{\"hovertemplate\":\"carbon_budget=2C<br>scenario_narrative=PR<br>year=%{x}<br>Emissions|CO2=%{y}<extra></extra>\",\"legendgroup\":\"2C\",\"line\":{\"color\":\"#636efa\",\"dash\":\"solid\"},\"marker\":{\"symbol\":\"circle\"},\"mode\":\"lines\",\"name\":\"2C\",\"orientation\":\"v\",\"showlegend\":false,\"x\":[2010,2015,2020,2025,2030,2035,2040,2045,2050,2055,2060,2065,2070,2075,2080,2085,2090,2095,2100,2005,2010,2015,2020,2025,2030,2035,2040,2045,2050,2055,2060,2065,2070,2075,2080,2085,2090,2095,2100,1990,1995,2000,2005,2010,2015,2020,2025,2030,2035,2040,2045,2050,2055,2060,2070,2080,2090,2100,2110,2005,2010,2015,2020,2025,2030,2035,2040,2045,2050,2060,2070,2080,2090,2100,2005,2010,2015,2020,2025,2030,2035,2040,2045,2050,2055,2060,2070,2080,2090,2100,2005,2010,2015,2020,2025,2030,2035,2040,2045,2050,2055,2060,2065,2070,2075,2080,2085,2090,2095,2100],\"xaxis\":\"x2\",\"y\":[37007.355,39100.9393,41498.0654,36045.7748,29507.1568,23562.0215,17791.3184,12454.6876,5574.8459,-161.531,-2337.9482,-3885.5619,-5152.6102,-6096.0053,-6548.2102,-7067.5337,-7321.9124,-7215.2995,-6803.5166,32948.73470351617,37624.76595394126,38916.31348010035,40017.15495155459,36770.468427821936,30104.0709662784,25747.813153382376,18528.17334152813,13240.387940656796,9105.113933119404,5621.593953961575,3278.681010226447,1621.4649456226662,-271.0760523724623,-689.9474843970323,-1726.734914300856,-2023.910929545971,-2781.0758059168875,-2163.8187461277003,-2760.896159105157,30943.69732619511,31643.35589356205,33807.81650025704,38242.12472115899,40738.80498025827,44262.56894582486,44326.98623718582,40060.99365059118,37200.17443926974,32458.02594588215,27749.40901014774,22825.04104135613,16720.70805118224,10583.36706925492,6115.808822249901,-1505.925041818099,-3865.03243841161,-5124.180536412106,-6072.030705109491,-7476.81592256208,30937.66796875,36240.515625,38365.6796875,38578.6171875,39267.7890625,34086.15625,32866.20703125,31043.7421875,27767.0625,23987.85546875,16155.0927734375,6563.13916015625,-3994.706298828125,-16666.76953125,-25248.400390625,36076.6584216,39344.5680891,42044.9008329,43169.8924414,39437.6791219,30100.4311208,23672.7994045,17314.9013615,12688.7845402,9513.6777998,7319.3377975,5447.8129892,3183.7486327,1934.1862988,1171.9542329,180.343186,33090.9000845212,36640.4375831807,38689.6859400325,40153.2762651073,36801.5522019755,28624.0265688793,20946.033301787,17281.3190276267,14736.3873188541,12403.3345579926,10089.55144531,7633.73325762057,6201.34354422312,4998.65056698563,3737.31903942135,2584.19240444193,1460.7594834069,90.9014454087095,5.26123358807033,20.0576562859384],\"yaxis\":\"y2\",\"type\":\"scatter\"},{\"hovertemplate\":\"carbon_budget=2C<br>scenario_narrative=REF<br>year=%{x}<br>Emissions|CO2=%{y}<extra></extra>\",\"legendgroup\":\"2C\",\"line\":{\"color\":\"#636efa\",\"dash\":\"solid\"},\"marker\":{\"symbol\":\"circle\"},\"mode\":\"lines\",\"name\":\"2C\",\"orientation\":\"v\",\"showlegend\":false,\"x\":[2010,2015,2020,2025,2030,2035,2040,2045,2050,2055,2060,2065,2070,2075,2080,2085,2090,2095,2100,2015,2020,2025,2030,2035,2040,2045,2050,2055,2060,2065,2070,2075,2080,2085,2090,2095,2100,2005,2010,2015,2020,2025,2030,2035,2040,2045,2050,2055,2060,2065,2070,2075,2080,2085,2090,2095,2100,1990,1995,2000,2005,2010,2015,2020,2025,2030,2035,2040,2045,2050,2055,2060,2070,2080,2090,2100,2110,2005,2010,2015,2020,2025,2030,2035,2040,2045,2050,2060,2070,2080,2090,2100,2005,2010,2015,2020,2025,2030,2035,2040,2045,2050,2055,2060,2070,2080,2090,2100,2005,2010,2015,2020,2025,2030,2035,2040,2045,2050,2055,2060,2065,2070,2075,2080,2085,2090,2095,2100],\"xaxis\":\"x3\",\"y\":[37007.355,39100.9393,41498.0655,35262.8588,29876.0764,24905.1549,18042.1449,11696.3271,6219.2689,939.6625,1203.7678,300.2459,-247.718,-486.6466,-478.9601,-284.5831,-192.1635,-72.7713,-3.9812000000000003,40037.95968478094,38396.45762925719,35275.722114713964,29945.0734882725,25166.81321919868,19951.973244417943,15509.898704160983,11990.087821360145,8192.924965911297,6708.90536948063,4674.298248660193,2212.73104699814,1769.817283435701,982.1683415865157,661.5213524832608,64.65984607541506,14.90813008888847,25.4540632831943,32948.73470351617,37624.76595394126,38916.31348010035,40017.15495155459,40166.206383859804,34156.00260727176,25877.845542717114,18511.01269699532,13020.795248579541,9356.871420121457,6704.551473591276,4295.507161848834,1867.3629050362968,-372.2337773979345,-478.9869232613177,-1938.4604087048695,-2563.380900298139,-2865.3028363607423,-2126.087707712812,-2500.1774497715596,30943.69732619511,31643.35589356205,33807.81650025704,38242.12472115899,40738.80498025827,44262.56894582486,44326.98623718582,40060.99365059118,34205.39053461283,28259.70779247904,23080.84591253439,17228.82289174903,11165.38682129183,5625.753894593379,2534.117662327636,0.0008021819661507834,0.002097939926329,8.010335102426325e-05,-0.0018096172334480002,-0.0020547194909560002,30937.66796875,36240.515625,38365.6796875,38585.8671875,37456.8125,29588.9453125,23239.658203125,18006.822265625,13593.2666015625,10284.42578125,5829.6181640625,3157.205078125,1545.1220703125,1095.7762451171875,589.1063232421875,36076.6584216,39344.5680891,42044.9008329,43169.8924414,39346.4896636,28919.1289999,22255.7973601,15948.0588156,11704.8812688,8898.7782891,6962.6260202,5377.6939744,3627.0899233,2706.9225268,1992.9886119,1325.2126907,33090.9000845212,36640.4375831807,38689.6859400325,40153.2762651073,36691.3979002781,27110.9406472828,19816.2465012422,16606.580781696,14266.3058986891,12248.7646079264,10185.1106344203,8246.02353506664,7065.05685781118,5747.29525571108,4417.63382048053,3272.59142572856,2002.99182458616,67.7089295056739,30.2571538952062,-7.70116771826095],\"yaxis\":\"y3\",\"type\":\"scatter\"},{\"hovertemplate\":\"carbon_budget=1.5C<br>scenario_narrative=EM<br>year=%{x}<br>Emissions|CO2=%{y}<extra></extra>\",\"legendgroup\":\"1.5C\",\"line\":{\"color\":\"#EF553B\",\"dash\":\"solid\"},\"marker\":{\"symbol\":\"circle\"},\"mode\":\"lines\",\"name\":\"1.5C\",\"orientation\":\"v\",\"showlegend\":true,\"x\":[2005,2010,2015,2020,2025,2030,2035,2040,2045,2050,2055,2060,2070,2080,2090,2100],\"xaxis\":\"x\",\"y\":[36076.6584216,39344.5680891,42044.9008329,43169.8924414,39126.8116934,27588.883096,18623.0283483,12745.2738243,8573.2747808,4798.4692981,2091.9993962,728.2638651,-41.4335866,-38.0844653,-54.3000756,28.1621396],\"yaxis\":\"y\",\"type\":\"scatter\"},{\"hovertemplate\":\"carbon_budget=1.5C<br>scenario_narrative=PR<br>year=%{x}<br>Emissions|CO2=%{y}<extra></extra>\",\"legendgroup\":\"1.5C\",\"line\":{\"color\":\"#EF553B\",\"dash\":\"solid\"},\"marker\":{\"symbol\":\"circle\"},\"mode\":\"lines\",\"name\":\"1.5C\",\"orientation\":\"v\",\"showlegend\":false,\"x\":[2005,2010,2015,2020,2025,2030,2035,2040,2045,2050,2055,2060,2070,2080,2090,2100],\"xaxis\":\"x2\",\"y\":[36076.6584216,39344.5680891,42044.9008329,43169.8924414,39003.0839628,26012.970282,16901.6528027,10765.1296971,6152.1213541,3234.5813171,1002.7648018,346.5036098,153.0553331,138.2809508,79.9602367,133.9382284],\"yaxis\":\"y2\",\"type\":\"scatter\"},{\"hovertemplate\":\"carbon_budget=1.5C<br>scenario_narrative=REF<br>year=%{x}<br>Emissions|CO2=%{y}<extra></extra>\",\"legendgroup\":\"1.5C\",\"line\":{\"color\":\"#EF553B\",\"dash\":\"solid\"},\"marker\":{\"symbol\":\"circle\"},\"mode\":\"lines\",\"name\":\"1.5C\",\"orientation\":\"v\",\"showlegend\":false,\"x\":[2005,2010,2015,2020,2025,2030,2035,2040,2045,2050,2055,2060,2070,2080,2090,2100],\"xaxis\":\"x3\",\"y\":[36076.6584216,39344.5680891,42044.9008329,43169.8924414,36478.8081597,19100.4321191,9952.112886,4177.9133658,998.6641815,-95.4651769,5.8695524,125.7077807,-13.9409352,-8.4115718,-9.3299555,10.5519811],\"yaxis\":\"y3\",\"type\":\"scatter\"}],                        {\"template\":{\"data\":{\"histogram2dcontour\":[{\"type\":\"histogram2dcontour\",\"colorbar\":{\"outlinewidth\":0,\"ticks\":\"\"},\"colorscale\":[[0.0,\"#0d0887\"],[0.1111111111111111,\"#46039f\"],[0.2222222222222222,\"#7201a8\"],[0.3333333333333333,\"#9c179e\"],[0.4444444444444444,\"#bd3786\"],[0.5555555555555556,\"#d8576b\"],[0.6666666666666666,\"#ed7953\"],[0.7777777777777778,\"#fb9f3a\"],[0.8888888888888888,\"#fdca26\"],[1.0,\"#f0f921\"]]}],\"choropleth\":[{\"type\":\"choropleth\",\"colorbar\":{\"outlinewidth\":0,\"ticks\":\"\"}}],\"histogram2d\":[{\"type\":\"histogram2d\",\"colorbar\":{\"outlinewidth\":0,\"ticks\":\"\"},\"colorscale\":[[0.0,\"#0d0887\"],[0.1111111111111111,\"#46039f\"],[0.2222222222222222,\"#7201a8\"],[0.3333333333333333,\"#9c179e\"],[0.4444444444444444,\"#bd3786\"],[0.5555555555555556,\"#d8576b\"],[0.6666666666666666,\"#ed7953\"],[0.7777777777777778,\"#fb9f3a\"],[0.8888888888888888,\"#fdca26\"],[1.0,\"#f0f921\"]]}],\"heatmap\":[{\"type\":\"heatmap\",\"colorbar\":{\"outlinewidth\":0,\"ticks\":\"\"},\"colorscale\":[[0.0,\"#0d0887\"],[0.1111111111111111,\"#46039f\"],[0.2222222222222222,\"#7201a8\"],[0.3333333333333333,\"#9c179e\"],[0.4444444444444444,\"#bd3786\"],[0.5555555555555556,\"#d8576b\"],[0.6666666666666666,\"#ed7953\"],[0.7777777777777778,\"#fb9f3a\"],[0.8888888888888888,\"#fdca26\"],[1.0,\"#f0f921\"]]}],\"heatmapgl\":[{\"type\":\"heatmapgl\",\"colorbar\":{\"outlinewidth\":0,\"ticks\":\"\"},\"colorscale\":[[0.0,\"#0d0887\"],[0.1111111111111111,\"#46039f\"],[0.2222222222222222,\"#7201a8\"],[0.3333333333333333,\"#9c179e\"],[0.4444444444444444,\"#bd3786\"],[0.5555555555555556,\"#d8576b\"],[0.6666666666666666,\"#ed7953\"],[0.7777777777777778,\"#fb9f3a\"],[0.8888888888888888,\"#fdca26\"],[1.0,\"#f0f921\"]]}],\"contourcarpet\":[{\"type\":\"contourcarpet\",\"colorbar\":{\"outlinewidth\":0,\"ticks\":\"\"}}],\"contour\":[{\"type\":\"contour\",\"colorbar\":{\"outlinewidth\":0,\"ticks\":\"\"},\"colorscale\":[[0.0,\"#0d0887\"],[0.1111111111111111,\"#46039f\"],[0.2222222222222222,\"#7201a8\"],[0.3333333333333333,\"#9c179e\"],[0.4444444444444444,\"#bd3786\"],[0.5555555555555556,\"#d8576b\"],[0.6666666666666666,\"#ed7953\"],[0.7777777777777778,\"#fb9f3a\"],[0.8888888888888888,\"#fdca26\"],[1.0,\"#f0f921\"]]}],\"surface\":[{\"type\":\"surface\",\"colorbar\":{\"outlinewidth\":0,\"ticks\":\"\"},\"colorscale\":[[0.0,\"#0d0887\"],[0.1111111111111111,\"#46039f\"],[0.2222222222222222,\"#7201a8\"],[0.3333333333333333,\"#9c179e\"],[0.4444444444444444,\"#bd3786\"],[0.5555555555555556,\"#d8576b\"],[0.6666666666666666,\"#ed7953\"],[0.7777777777777778,\"#fb9f3a\"],[0.8888888888888888,\"#fdca26\"],[1.0,\"#f0f921\"]]}],\"mesh3d\":[{\"type\":\"mesh3d\",\"colorbar\":{\"outlinewidth\":0,\"ticks\":\"\"}}],\"scatter\":[{\"fillpattern\":{\"fillmode\":\"overlay\",\"size\":10,\"solidity\":0.2},\"type\":\"scatter\"}],\"parcoords\":[{\"type\":\"parcoords\",\"line\":{\"colorbar\":{\"outlinewidth\":0,\"ticks\":\"\"}}}],\"scatterpolargl\":[{\"type\":\"scatterpolargl\",\"marker\":{\"colorbar\":{\"outlinewidth\":0,\"ticks\":\"\"}}}],\"bar\":[{\"error_x\":{\"color\":\"#2a3f5f\"},\"error_y\":{\"color\":\"#2a3f5f\"},\"marker\":{\"line\":{\"color\":\"#E5ECF6\",\"width\":0.5},\"pattern\":{\"fillmode\":\"overlay\",\"size\":10,\"solidity\":0.2}},\"type\":\"bar\"}],\"scattergeo\":[{\"type\":\"scattergeo\",\"marker\":{\"colorbar\":{\"outlinewidth\":0,\"ticks\":\"\"}}}],\"scatterpolar\":[{\"type\":\"scatterpolar\",\"marker\":{\"colorbar\":{\"outlinewidth\":0,\"ticks\":\"\"}}}],\"histogram\":[{\"marker\":{\"pattern\":{\"fillmode\":\"overlay\",\"size\":10,\"solidity\":0.2}},\"type\":\"histogram\"}],\"scattergl\":[{\"type\":\"scattergl\",\"marker\":{\"colorbar\":{\"outlinewidth\":0,\"ticks\":\"\"}}}],\"scatter3d\":[{\"type\":\"scatter3d\",\"line\":{\"colorbar\":{\"outlinewidth\":0,\"ticks\":\"\"}},\"marker\":{\"colorbar\":{\"outlinewidth\":0,\"ticks\":\"\"}}}],\"scattermapbox\":[{\"type\":\"scattermapbox\",\"marker\":{\"colorbar\":{\"outlinewidth\":0,\"ticks\":\"\"}}}],\"scatterternary\":[{\"type\":\"scatterternary\",\"marker\":{\"colorbar\":{\"outlinewidth\":0,\"ticks\":\"\"}}}],\"scattercarpet\":[{\"type\":\"scattercarpet\",\"marker\":{\"colorbar\":{\"outlinewidth\":0,\"ticks\":\"\"}}}],\"carpet\":[{\"aaxis\":{\"endlinecolor\":\"#2a3f5f\",\"gridcolor\":\"white\",\"linecolor\":\"white\",\"minorgridcolor\":\"white\",\"startlinecolor\":\"#2a3f5f\"},\"baxis\":{\"endlinecolor\":\"#2a3f5f\",\"gridcolor\":\"white\",\"linecolor\":\"white\",\"minorgridcolor\":\"white\",\"startlinecolor\":\"#2a3f5f\"},\"type\":\"carpet\"}],\"table\":[{\"cells\":{\"fill\":{\"color\":\"#EBF0F8\"},\"line\":{\"color\":\"white\"}},\"header\":{\"fill\":{\"color\":\"#C8D4E3\"},\"line\":{\"color\":\"white\"}},\"type\":\"table\"}],\"barpolar\":[{\"marker\":{\"line\":{\"color\":\"#E5ECF6\",\"width\":0.5},\"pattern\":{\"fillmode\":\"overlay\",\"size\":10,\"solidity\":0.2}},\"type\":\"barpolar\"}],\"pie\":[{\"automargin\":true,\"type\":\"pie\"}]},\"layout\":{\"autotypenumbers\":\"strict\",\"colorway\":[\"#636efa\",\"#EF553B\",\"#00cc96\",\"#ab63fa\",\"#FFA15A\",\"#19d3f3\",\"#FF6692\",\"#B6E880\",\"#FF97FF\",\"#FECB52\"],\"font\":{\"color\":\"#2a3f5f\"},\"hovermode\":\"closest\",\"hoverlabel\":{\"align\":\"left\"},\"paper_bgcolor\":\"white\",\"plot_bgcolor\":\"#E5ECF6\",\"polar\":{\"bgcolor\":\"#E5ECF6\",\"angularaxis\":{\"gridcolor\":\"white\",\"linecolor\":\"white\",\"ticks\":\"\"},\"radialaxis\":{\"gridcolor\":\"white\",\"linecolor\":\"white\",\"ticks\":\"\"}},\"ternary\":{\"bgcolor\":\"#E5ECF6\",\"aaxis\":{\"gridcolor\":\"white\",\"linecolor\":\"white\",\"ticks\":\"\"},\"baxis\":{\"gridcolor\":\"white\",\"linecolor\":\"white\",\"ticks\":\"\"},\"caxis\":{\"gridcolor\":\"white\",\"linecolor\":\"white\",\"ticks\":\"\"}},\"coloraxis\":{\"colorbar\":{\"outlinewidth\":0,\"ticks\":\"\"}},\"colorscale\":{\"sequential\":[[0.0,\"#0d0887\"],[0.1111111111111111,\"#46039f\"],[0.2222222222222222,\"#7201a8\"],[0.3333333333333333,\"#9c179e\"],[0.4444444444444444,\"#bd3786\"],[0.5555555555555556,\"#d8576b\"],[0.6666666666666666,\"#ed7953\"],[0.7777777777777778,\"#fb9f3a\"],[0.8888888888888888,\"#fdca26\"],[1.0,\"#f0f921\"]],\"sequentialminus\":[[0.0,\"#0d0887\"],[0.1111111111111111,\"#46039f\"],[0.2222222222222222,\"#7201a8\"],[0.3333333333333333,\"#9c179e\"],[0.4444444444444444,\"#bd3786\"],[0.5555555555555556,\"#d8576b\"],[0.6666666666666666,\"#ed7953\"],[0.7777777777777778,\"#fb9f3a\"],[0.8888888888888888,\"#fdca26\"],[1.0,\"#f0f921\"]],\"diverging\":[[0,\"#8e0152\"],[0.1,\"#c51b7d\"],[0.2,\"#de77ae\"],[0.3,\"#f1b6da\"],[0.4,\"#fde0ef\"],[0.5,\"#f7f7f7\"],[0.6,\"#e6f5d0\"],[0.7,\"#b8e186\"],[0.8,\"#7fbc41\"],[0.9,\"#4d9221\"],[1,\"#276419\"]]},\"xaxis\":{\"gridcolor\":\"white\",\"linecolor\":\"white\",\"ticks\":\"\",\"title\":{\"standoff\":15},\"zerolinecolor\":\"white\",\"automargin\":true,\"zerolinewidth\":2},\"yaxis\":{\"gridcolor\":\"white\",\"linecolor\":\"white\",\"ticks\":\"\",\"title\":{\"standoff\":15},\"zerolinecolor\":\"white\",\"automargin\":true,\"zerolinewidth\":2},\"scene\":{\"xaxis\":{\"backgroundcolor\":\"#E5ECF6\",\"gridcolor\":\"white\",\"linecolor\":\"white\",\"showbackground\":true,\"ticks\":\"\",\"zerolinecolor\":\"white\",\"gridwidth\":2},\"yaxis\":{\"backgroundcolor\":\"#E5ECF6\",\"gridcolor\":\"white\",\"linecolor\":\"white\",\"showbackground\":true,\"ticks\":\"\",\"zerolinecolor\":\"white\",\"gridwidth\":2},\"zaxis\":{\"backgroundcolor\":\"#E5ECF6\",\"gridcolor\":\"white\",\"linecolor\":\"white\",\"showbackground\":true,\"ticks\":\"\",\"zerolinecolor\":\"white\",\"gridwidth\":2}},\"shapedefaults\":{\"line\":{\"color\":\"#2a3f5f\"}},\"annotationdefaults\":{\"arrowcolor\":\"#2a3f5f\",\"arrowhead\":0,\"arrowwidth\":1},\"geo\":{\"bgcolor\":\"white\",\"landcolor\":\"#E5ECF6\",\"subunitcolor\":\"white\",\"showland\":true,\"showlakes\":true,\"lakecolor\":\"white\"},\"title\":{\"x\":0.05},\"mapbox\":{\"style\":\"light\"}}},\"xaxis\":{\"anchor\":\"y\",\"domain\":[0.0,0.31999999999999995],\"title\":{\"text\":\"year\"}},\"yaxis\":{\"anchor\":\"x\",\"domain\":[0.0,1.0],\"title\":{\"text\":\"Emissions|CO2\"}},\"xaxis2\":{\"anchor\":\"y2\",\"domain\":[0.33999999999999997,0.6599999999999999],\"matches\":\"x\",\"title\":{\"text\":\"year\"}},\"yaxis2\":{\"anchor\":\"x2\",\"domain\":[0.0,1.0],\"matches\":\"y\",\"showticklabels\":false},\"xaxis3\":{\"anchor\":\"y3\",\"domain\":[0.6799999999999999,0.9999999999999999],\"matches\":\"x\",\"title\":{\"text\":\"year\"}},\"yaxis3\":{\"anchor\":\"x3\",\"domain\":[0.0,1.0],\"matches\":\"y\",\"showticklabels\":false},\"annotations\":[{\"font\":{},\"showarrow\":false,\"text\":\"scenario_narrative=EM\",\"x\":0.15999999999999998,\"xanchor\":\"center\",\"xref\":\"paper\",\"y\":1.0,\"yanchor\":\"bottom\",\"yref\":\"paper\"},{\"font\":{},\"showarrow\":false,\"text\":\"scenario_narrative=PR\",\"x\":0.49999999999999994,\"xanchor\":\"center\",\"xref\":\"paper\",\"y\":1.0,\"yanchor\":\"bottom\",\"yref\":\"paper\"},{\"font\":{},\"showarrow\":false,\"text\":\"scenario_narrative=REF\",\"x\":0.8399999999999999,\"xanchor\":\"center\",\"xref\":\"paper\",\"y\":1.0,\"yanchor\":\"bottom\",\"yref\":\"paper\"}],\"legend\":{\"title\":{\"text\":\"carbon_budget\"},\"tracegroupgap\":0},\"margin\":{\"t\":60}},                        {\"responsive\": true}                    )                };                            </script>        </div>"
      ],
      "text/plain": [
       "Figure({\n",
       "    'data': [{'hovertemplate': ('carbon_budget=2C<br>scenario_n' ... 'ssions|CO2=%{y}<extra></extra>'),\n",
       "              'legendgroup': '2C',\n",
       "              'line': {'color': '#636efa', 'dash': 'solid'},\n",
       "              'marker': {'symbol': 'circle'},\n",
       "              'mode': 'lines',\n",
       "              'name': '2C',\n",
       "              'orientation': 'v',\n",
       "              'showlegend': True,\n",
       "              'type': 'scatter',\n",
       "              'x': array([2010, 2015, 2020, 2025, 2030, 2035, 2040, 2045, 2050, 2055, 2060, 2065,\n",
       "                          2070, 2075, 2080, 2085, 2090, 2095, 2100, 2015, 2020, 2025, 2030, 2035,\n",
       "                          2040, 2045, 2050, 2055, 2060, 2065, 2070, 2075, 2080, 2085, 2090, 2095,\n",
       "                          2100, 2005, 2010, 2015, 2020, 2025, 2030, 2035, 2040, 2045, 2050, 2055,\n",
       "                          2060, 2065, 2070, 2075, 2080, 2085, 2090, 2095, 2100, 1990, 1995, 2000,\n",
       "                          2005, 2010, 2015, 2020, 2025, 2030, 2035, 2040, 2045, 2050, 2055, 2060,\n",
       "                          2070, 2080, 2090, 2100, 2110, 2005, 2010, 2015, 2020, 2025, 2030, 2035,\n",
       "                          2040, 2045, 2050, 2060, 2070, 2080, 2090, 2100, 2005, 2010, 2015, 2020,\n",
       "                          2025, 2030, 2035, 2040, 2045, 2050, 2055, 2060, 2070, 2080, 2090, 2100,\n",
       "                          2005, 2010, 2015, 2020, 2025, 2030, 2035, 2040, 2045, 2050, 2055, 2060,\n",
       "                          2065, 2070, 2075, 2080, 2085, 2090, 2095, 2100], dtype=int64),\n",
       "              'xaxis': 'x',\n",
       "              'y': array([ 3.70073548e+04,  3.91009391e+04,  4.14980654e+04,  3.60405284e+04,\n",
       "                           2.94900437e+04,  2.35920313e+04,  1.79069695e+04,  1.29953906e+04,\n",
       "                           4.79128900e+03,  2.56168200e+02, -1.56709310e+03, -3.56763590e+03,\n",
       "                          -4.98236780e+03, -6.09652610e+03, -6.63644150e+03, -7.18099810e+03,\n",
       "                          -7.43306340e+03, -7.31778290e+03, -6.89242960e+03,  4.00379597e+04,\n",
       "                           3.83964576e+04,  3.53606735e+04,  3.06353838e+04,  2.58356457e+04,\n",
       "                           2.05922848e+04,  1.58753470e+04,  1.20314799e+04,  8.16917500e+03,\n",
       "                           6.41062574e+03,  4.43491045e+03,  2.26622484e+03,  1.51658645e+03,\n",
       "                           7.79116774e+02,  4.42781009e+02, -1.22675430e+02,  2.23971075e+01,\n",
       "                           1.57334862e+01,  3.29487347e+04,  3.76247660e+04,  3.89163135e+04,\n",
       "                           4.00171550e+04,  3.71958018e+04,  3.07904717e+04,  2.72534972e+04,\n",
       "                           2.16069255e+04,  1.44407486e+04,  1.01026012e+04,  6.47204443e+03,\n",
       "                           3.68851270e+03,  1.94206352e+03, -2.61216815e+01, -6.79681926e+02,\n",
       "                          -2.02652419e+03, -2.24784996e+03, -3.16298317e+03, -2.56103038e+03,\n",
       "                          -3.10505571e+03,  3.09436973e+04,  3.16433559e+04,  3.38078165e+04,\n",
       "                           3.82421247e+04,  4.07388050e+04,  4.42625689e+04,  4.43269862e+04,\n",
       "                           4.00609937e+04,  3.73354107e+04,  3.28265588e+04,  2.83299389e+04,\n",
       "                           2.17096699e+04,  1.68855131e+04,  1.26882607e+04,  8.40762627e+03,\n",
       "                           6.23917062e+02, -4.21203916e+03, -7.29878306e+03, -9.23740807e+03,\n",
       "                          -1.01310534e+04,  3.09376680e+04,  3.62405156e+04,  3.83656797e+04,\n",
       "                           3.85856133e+04,  3.79736523e+04,  3.01466914e+04,  2.53407207e+04,\n",
       "                           2.25495918e+04,  1.79227871e+04,  1.43820674e+04,  6.37195020e+03,\n",
       "                           6.86855469e+02, -8.24133972e+02,  5.76050049e+03,  1.42563262e+04,\n",
       "                           3.60766584e+04,  3.93445681e+04,  4.20449008e+04,  4.31698924e+04,\n",
       "                           3.94249854e+04,  3.00303848e+04,  2.35160174e+04,  1.73574893e+04,\n",
       "                           1.30028799e+04,  1.01652601e+04,  8.01340547e+03,  6.09438489e+03,\n",
       "                           3.55944336e+03,  2.14598956e+03,  4.55116569e+02,  3.33136404e+02,\n",
       "                           3.30909001e+04,  3.66404376e+04,  3.86896859e+04,  4.01532763e+04,\n",
       "                           3.57642254e+04,  2.90837058e+04,  2.35295738e+04,  1.93849092e+04,\n",
       "                           1.54870758e+04,  1.24281826e+04,  9.91342312e+03,  7.53934395e+03,\n",
       "                           5.91987766e+03,  4.27477143e+03,  2.58910583e+03,  1.29883827e+03,\n",
       "                           2.09348021e+01,  1.09790133e+02,  1.03585635e+02,  1.30994169e+02]),\n",
       "              'yaxis': 'y'},\n",
       "             {'hovertemplate': ('carbon_budget=2C<br>scenario_n' ... 'ssions|CO2=%{y}<extra></extra>'),\n",
       "              'legendgroup': '2C',\n",
       "              'line': {'color': '#636efa', 'dash': 'solid'},\n",
       "              'marker': {'symbol': 'circle'},\n",
       "              'mode': 'lines',\n",
       "              'name': '2C',\n",
       "              'orientation': 'v',\n",
       "              'showlegend': False,\n",
       "              'type': 'scatter',\n",
       "              'x': array([2010, 2015, 2020, 2025, 2030, 2035, 2040, 2045, 2050, 2055, 2060, 2065,\n",
       "                          2070, 2075, 2080, 2085, 2090, 2095, 2100, 2005, 2010, 2015, 2020, 2025,\n",
       "                          2030, 2035, 2040, 2045, 2050, 2055, 2060, 2065, 2070, 2075, 2080, 2085,\n",
       "                          2090, 2095, 2100, 1990, 1995, 2000, 2005, 2010, 2015, 2020, 2025, 2030,\n",
       "                          2035, 2040, 2045, 2050, 2055, 2060, 2070, 2080, 2090, 2100, 2110, 2005,\n",
       "                          2010, 2015, 2020, 2025, 2030, 2035, 2040, 2045, 2050, 2060, 2070, 2080,\n",
       "                          2090, 2100, 2005, 2010, 2015, 2020, 2025, 2030, 2035, 2040, 2045, 2050,\n",
       "                          2055, 2060, 2070, 2080, 2090, 2100, 2005, 2010, 2015, 2020, 2025, 2030,\n",
       "                          2035, 2040, 2045, 2050, 2055, 2060, 2065, 2070, 2075, 2080, 2085, 2090,\n",
       "                          2095, 2100], dtype=int64),\n",
       "              'xaxis': 'x2',\n",
       "              'y': array([ 3.70073550e+04,  3.91009393e+04,  4.14980654e+04,  3.60457748e+04,\n",
       "                           2.95071568e+04,  2.35620215e+04,  1.77913184e+04,  1.24546876e+04,\n",
       "                           5.57484590e+03, -1.61531000e+02, -2.33794820e+03, -3.88556190e+03,\n",
       "                          -5.15261020e+03, -6.09600530e+03, -6.54821020e+03, -7.06753370e+03,\n",
       "                          -7.32191240e+03, -7.21529950e+03, -6.80351660e+03,  3.29487347e+04,\n",
       "                           3.76247660e+04,  3.89163135e+04,  4.00171550e+04,  3.67704684e+04,\n",
       "                           3.01040710e+04,  2.57478132e+04,  1.85281733e+04,  1.32403879e+04,\n",
       "                           9.10511393e+03,  5.62159395e+03,  3.27868101e+03,  1.62146495e+03,\n",
       "                          -2.71076052e+02, -6.89947484e+02, -1.72673491e+03, -2.02391093e+03,\n",
       "                          -2.78107581e+03, -2.16381875e+03, -2.76089616e+03,  3.09436973e+04,\n",
       "                           3.16433559e+04,  3.38078165e+04,  3.82421247e+04,  4.07388050e+04,\n",
       "                           4.42625689e+04,  4.43269862e+04,  4.00609937e+04,  3.72001744e+04,\n",
       "                           3.24580259e+04,  2.77494090e+04,  2.28250410e+04,  1.67207081e+04,\n",
       "                           1.05833671e+04,  6.11580882e+03, -1.50592504e+03, -3.86503244e+03,\n",
       "                          -5.12418054e+03, -6.07203071e+03, -7.47681592e+03,  3.09376680e+04,\n",
       "                           3.62405156e+04,  3.83656797e+04,  3.85786172e+04,  3.92677891e+04,\n",
       "                           3.40861562e+04,  3.28662070e+04,  3.10437422e+04,  2.77670625e+04,\n",
       "                           2.39878555e+04,  1.61550928e+04,  6.56313916e+03, -3.99470630e+03,\n",
       "                          -1.66667695e+04, -2.52484004e+04,  3.60766584e+04,  3.93445681e+04,\n",
       "                           4.20449008e+04,  4.31698924e+04,  3.94376791e+04,  3.01004311e+04,\n",
       "                           2.36727994e+04,  1.73149014e+04,  1.26887845e+04,  9.51367780e+03,\n",
       "                           7.31933780e+03,  5.44781299e+03,  3.18374863e+03,  1.93418630e+03,\n",
       "                           1.17195423e+03,  1.80343186e+02,  3.30909001e+04,  3.66404376e+04,\n",
       "                           3.86896859e+04,  4.01532763e+04,  3.68015522e+04,  2.86240266e+04,\n",
       "                           2.09460333e+04,  1.72813190e+04,  1.47363873e+04,  1.24033346e+04,\n",
       "                           1.00895514e+04,  7.63373326e+03,  6.20134354e+03,  4.99865057e+03,\n",
       "                           3.73731904e+03,  2.58419240e+03,  1.46075948e+03,  9.09014454e+01,\n",
       "                           5.26123359e+00,  2.00576563e+01]),\n",
       "              'yaxis': 'y2'},\n",
       "             {'hovertemplate': ('carbon_budget=2C<br>scenario_n' ... 'ssions|CO2=%{y}<extra></extra>'),\n",
       "              'legendgroup': '2C',\n",
       "              'line': {'color': '#636efa', 'dash': 'solid'},\n",
       "              'marker': {'symbol': 'circle'},\n",
       "              'mode': 'lines',\n",
       "              'name': '2C',\n",
       "              'orientation': 'v',\n",
       "              'showlegend': False,\n",
       "              'type': 'scatter',\n",
       "              'x': array([2010, 2015, 2020, 2025, 2030, 2035, 2040, 2045, 2050, 2055, 2060, 2065,\n",
       "                          2070, 2075, 2080, 2085, 2090, 2095, 2100, 2015, 2020, 2025, 2030, 2035,\n",
       "                          2040, 2045, 2050, 2055, 2060, 2065, 2070, 2075, 2080, 2085, 2090, 2095,\n",
       "                          2100, 2005, 2010, 2015, 2020, 2025, 2030, 2035, 2040, 2045, 2050, 2055,\n",
       "                          2060, 2065, 2070, 2075, 2080, 2085, 2090, 2095, 2100, 1990, 1995, 2000,\n",
       "                          2005, 2010, 2015, 2020, 2025, 2030, 2035, 2040, 2045, 2050, 2055, 2060,\n",
       "                          2070, 2080, 2090, 2100, 2110, 2005, 2010, 2015, 2020, 2025, 2030, 2035,\n",
       "                          2040, 2045, 2050, 2060, 2070, 2080, 2090, 2100, 2005, 2010, 2015, 2020,\n",
       "                          2025, 2030, 2035, 2040, 2045, 2050, 2055, 2060, 2070, 2080, 2090, 2100,\n",
       "                          2005, 2010, 2015, 2020, 2025, 2030, 2035, 2040, 2045, 2050, 2055, 2060,\n",
       "                          2065, 2070, 2075, 2080, 2085, 2090, 2095, 2100], dtype=int64),\n",
       "              'xaxis': 'x3',\n",
       "              'y': array([ 3.70073550e+04,  3.91009393e+04,  4.14980655e+04,  3.52628588e+04,\n",
       "                           2.98760764e+04,  2.49051549e+04,  1.80421449e+04,  1.16963271e+04,\n",
       "                           6.21926890e+03,  9.39662500e+02,  1.20376780e+03,  3.00245900e+02,\n",
       "                          -2.47718000e+02, -4.86646600e+02, -4.78960100e+02, -2.84583100e+02,\n",
       "                          -1.92163500e+02, -7.27713000e+01, -3.98120000e+00,  4.00379597e+04,\n",
       "                           3.83964576e+04,  3.52757221e+04,  2.99450735e+04,  2.51668132e+04,\n",
       "                           1.99519732e+04,  1.55098987e+04,  1.19900878e+04,  8.19292497e+03,\n",
       "                           6.70890537e+03,  4.67429825e+03,  2.21273105e+03,  1.76981728e+03,\n",
       "                           9.82168342e+02,  6.61521352e+02,  6.46598461e+01,  1.49081301e+01,\n",
       "                           2.54540633e+01,  3.29487347e+04,  3.76247660e+04,  3.89163135e+04,\n",
       "                           4.00171550e+04,  4.01662064e+04,  3.41560026e+04,  2.58778455e+04,\n",
       "                           1.85110127e+04,  1.30207952e+04,  9.35687142e+03,  6.70455147e+03,\n",
       "                           4.29550716e+03,  1.86736291e+03, -3.72233777e+02, -4.78986923e+02,\n",
       "                          -1.93846041e+03, -2.56338090e+03, -2.86530284e+03, -2.12608771e+03,\n",
       "                          -2.50017745e+03,  3.09436973e+04,  3.16433559e+04,  3.38078165e+04,\n",
       "                           3.82421247e+04,  4.07388050e+04,  4.42625689e+04,  4.43269862e+04,\n",
       "                           4.00609937e+04,  3.42053905e+04,  2.82597078e+04,  2.30808459e+04,\n",
       "                           1.72288229e+04,  1.11653868e+04,  5.62575389e+03,  2.53411766e+03,\n",
       "                           8.02181966e-04,  2.09793993e-03,  8.01033510e-05, -1.80961723e-03,\n",
       "                          -2.05471949e-03,  3.09376680e+04,  3.62405156e+04,  3.83656797e+04,\n",
       "                           3.85858672e+04,  3.74568125e+04,  2.95889453e+04,  2.32396582e+04,\n",
       "                           1.80068223e+04,  1.35932666e+04,  1.02844258e+04,  5.82961816e+03,\n",
       "                           3.15720508e+03,  1.54512207e+03,  1.09577625e+03,  5.89106323e+02,\n",
       "                           3.60766584e+04,  3.93445681e+04,  4.20449008e+04,  4.31698924e+04,\n",
       "                           3.93464897e+04,  2.89191290e+04,  2.22557974e+04,  1.59480588e+04,\n",
       "                           1.17048813e+04,  8.89877829e+03,  6.96262602e+03,  5.37769397e+03,\n",
       "                           3.62708992e+03,  2.70692253e+03,  1.99298861e+03,  1.32521269e+03,\n",
       "                           3.30909001e+04,  3.66404376e+04,  3.86896859e+04,  4.01532763e+04,\n",
       "                           3.66913979e+04,  2.71109406e+04,  1.98162465e+04,  1.66065808e+04,\n",
       "                           1.42663059e+04,  1.22487646e+04,  1.01851106e+04,  8.24602354e+03,\n",
       "                           7.06505686e+03,  5.74729526e+03,  4.41763382e+03,  3.27259143e+03,\n",
       "                           2.00299182e+03,  6.77089295e+01,  3.02571539e+01, -7.70116772e+00]),\n",
       "              'yaxis': 'y3'},\n",
       "             {'hovertemplate': ('carbon_budget=1.5C<br>scenario' ... 'ssions|CO2=%{y}<extra></extra>'),\n",
       "              'legendgroup': '1.5C',\n",
       "              'line': {'color': '#EF553B', 'dash': 'solid'},\n",
       "              'marker': {'symbol': 'circle'},\n",
       "              'mode': 'lines',\n",
       "              'name': '1.5C',\n",
       "              'orientation': 'v',\n",
       "              'showlegend': True,\n",
       "              'type': 'scatter',\n",
       "              'x': array([2005, 2010, 2015, 2020, 2025, 2030, 2035, 2040, 2045, 2050, 2055, 2060,\n",
       "                          2070, 2080, 2090, 2100], dtype=int64),\n",
       "              'xaxis': 'x',\n",
       "              'y': array([ 3.60766584e+04,  3.93445681e+04,  4.20449008e+04,  4.31698924e+04,\n",
       "                           3.91268117e+04,  2.75888831e+04,  1.86230283e+04,  1.27452738e+04,\n",
       "                           8.57327478e+03,  4.79846930e+03,  2.09199940e+03,  7.28263865e+02,\n",
       "                          -4.14335866e+01, -3.80844653e+01, -5.43000756e+01,  2.81621396e+01]),\n",
       "              'yaxis': 'y'},\n",
       "             {'hovertemplate': ('carbon_budget=1.5C<br>scenario' ... 'ssions|CO2=%{y}<extra></extra>'),\n",
       "              'legendgroup': '1.5C',\n",
       "              'line': {'color': '#EF553B', 'dash': 'solid'},\n",
       "              'marker': {'symbol': 'circle'},\n",
       "              'mode': 'lines',\n",
       "              'name': '1.5C',\n",
       "              'orientation': 'v',\n",
       "              'showlegend': False,\n",
       "              'type': 'scatter',\n",
       "              'x': array([2005, 2010, 2015, 2020, 2025, 2030, 2035, 2040, 2045, 2050, 2055, 2060,\n",
       "                          2070, 2080, 2090, 2100], dtype=int64),\n",
       "              'xaxis': 'x2',\n",
       "              'y': array([36076.6584216, 39344.5680891, 42044.9008329, 43169.8924414,\n",
       "                          39003.0839628, 26012.970282 , 16901.6528027, 10765.1296971,\n",
       "                           6152.1213541,  3234.5813171,  1002.7648018,   346.5036098,\n",
       "                            153.0553331,   138.2809508,    79.9602367,   133.9382284]),\n",
       "              'yaxis': 'y2'},\n",
       "             {'hovertemplate': ('carbon_budget=1.5C<br>scenario' ... 'ssions|CO2=%{y}<extra></extra>'),\n",
       "              'legendgroup': '1.5C',\n",
       "              'line': {'color': '#EF553B', 'dash': 'solid'},\n",
       "              'marker': {'symbol': 'circle'},\n",
       "              'mode': 'lines',\n",
       "              'name': '1.5C',\n",
       "              'orientation': 'v',\n",
       "              'showlegend': False,\n",
       "              'type': 'scatter',\n",
       "              'x': array([2005, 2010, 2015, 2020, 2025, 2030, 2035, 2040, 2045, 2050, 2055, 2060,\n",
       "                          2070, 2080, 2090, 2100], dtype=int64),\n",
       "              'xaxis': 'x3',\n",
       "              'y': array([ 3.60766584e+04,  3.93445681e+04,  4.20449008e+04,  4.31698924e+04,\n",
       "                           3.64788082e+04,  1.91004321e+04,  9.95211289e+03,  4.17791337e+03,\n",
       "                           9.98664182e+02, -9.54651769e+01,  5.86955240e+00,  1.25707781e+02,\n",
       "                          -1.39409352e+01, -8.41157180e+00, -9.32995550e+00,  1.05519811e+01]),\n",
       "              'yaxis': 'y3'}],\n",
       "    'layout': {'annotations': [{'font': {},\n",
       "                                'showarrow': False,\n",
       "                                'text': 'scenario_narrative=EM',\n",
       "                                'x': 0.15999999999999998,\n",
       "                                'xanchor': 'center',\n",
       "                                'xref': 'paper',\n",
       "                                'y': 1.0,\n",
       "                                'yanchor': 'bottom',\n",
       "                                'yref': 'paper'},\n",
       "                               {'font': {},\n",
       "                                'showarrow': False,\n",
       "                                'text': 'scenario_narrative=PR',\n",
       "                                'x': 0.49999999999999994,\n",
       "                                'xanchor': 'center',\n",
       "                                'xref': 'paper',\n",
       "                                'y': 1.0,\n",
       "                                'yanchor': 'bottom',\n",
       "                                'yref': 'paper'},\n",
       "                               {'font': {},\n",
       "                                'showarrow': False,\n",
       "                                'text': 'scenario_narrative=REF',\n",
       "                                'x': 0.8399999999999999,\n",
       "                                'xanchor': 'center',\n",
       "                                'xref': 'paper',\n",
       "                                'y': 1.0,\n",
       "                                'yanchor': 'bottom',\n",
       "                                'yref': 'paper'}],\n",
       "               'legend': {'title': {'text': 'carbon_budget'}, 'tracegroupgap': 0},\n",
       "               'margin': {'t': 60},\n",
       "               'template': '...',\n",
       "               'xaxis': {'anchor': 'y', 'domain': [0.0, 0.31999999999999995], 'title': {'text': 'year'}},\n",
       "               'xaxis2': {'anchor': 'y2',\n",
       "                          'domain': [0.33999999999999997, 0.6599999999999999],\n",
       "                          'matches': 'x',\n",
       "                          'title': {'text': 'year'}},\n",
       "               'xaxis3': {'anchor': 'y3',\n",
       "                          'domain': [0.6799999999999999, 0.9999999999999999],\n",
       "                          'matches': 'x',\n",
       "                          'title': {'text': 'year'}},\n",
       "               'yaxis': {'anchor': 'x', 'domain': [0.0, 1.0], 'title': {'text': 'Emissions|CO2'}},\n",
       "               'yaxis2': {'anchor': 'x2', 'domain': [0.0, 1.0], 'matches': 'y', 'showticklabels': False},\n",
       "               'yaxis3': {'anchor': 'x3', 'domain': [0.0, 1.0], 'matches': 'y', 'showticklabels': False}}\n",
       "})"
      ]
     },
     "execution_count": 108,
     "metadata": {},
     "output_type": "execute_result"
    }
   ],
   "source": [
    "fig1"
   ]
  },
  {
   "cell_type": "code",
   "execution_count": 135,
   "metadata": {},
   "outputs": [
    {
     "data": {
      "text/html": [
       "<div>\n",
       "<style scoped>\n",
       "    .dataframe tbody tr th:only-of-type {\n",
       "        vertical-align: middle;\n",
       "    }\n",
       "\n",
       "    .dataframe tbody tr th {\n",
       "        vertical-align: top;\n",
       "    }\n",
       "\n",
       "    .dataframe thead th {\n",
       "        text-align: right;\n",
       "    }\n",
       "</style>\n",
       "<table border=\"1\" class=\"dataframe\">\n",
       "  <thead>\n",
       "    <tr style=\"text-align: right;\">\n",
       "      <th></th>\n",
       "      <th>model</th>\n",
       "      <th>scenario</th>\n",
       "      <th>carbon_budget</th>\n",
       "      <th>year</th>\n",
       "    </tr>\n",
       "  </thead>\n",
       "  <tbody>\n",
       "    <tr>\n",
       "      <th>0</th>\n",
       "      <td>AIM/CGE V2.2</td>\n",
       "      <td>T34_1000_feas_em</td>\n",
       "      <td>2C</td>\n",
       "      <td>2060</td>\n",
       "    </tr>\n",
       "    <tr>\n",
       "      <th>1</th>\n",
       "      <td>AIM/CGE V2.2</td>\n",
       "      <td>T34_1000_feas_pr</td>\n",
       "      <td>2C</td>\n",
       "      <td>2055</td>\n",
       "    </tr>\n",
       "    <tr>\n",
       "      <th>2</th>\n",
       "      <td>AIM/CGE V2.2</td>\n",
       "      <td>T34_1000_feas_ref</td>\n",
       "      <td>2C</td>\n",
       "      <td>2070</td>\n",
       "    </tr>\n",
       "    <tr>\n",
       "      <th>3</th>\n",
       "      <td>GEM-E3_V2023</td>\n",
       "      <td>T34_1000_feas_em</td>\n",
       "      <td>2C</td>\n",
       "      <td>2090</td>\n",
       "    </tr>\n",
       "    <tr>\n",
       "      <th>4</th>\n",
       "      <td>IMAGE 3.2</td>\n",
       "      <td>T34_1000_feas_em</td>\n",
       "      <td>2C</td>\n",
       "      <td>2070</td>\n",
       "    </tr>\n",
       "    <tr>\n",
       "      <th>5</th>\n",
       "      <td>IMAGE 3.2</td>\n",
       "      <td>T34_1000_feas_pr</td>\n",
       "      <td>2C</td>\n",
       "      <td>2070</td>\n",
       "    </tr>\n",
       "    <tr>\n",
       "      <th>6</th>\n",
       "      <td>IMAGE 3.2</td>\n",
       "      <td>T34_1000_feas_ref</td>\n",
       "      <td>2C</td>\n",
       "      <td>2070</td>\n",
       "    </tr>\n",
       "    <tr>\n",
       "      <th>7</th>\n",
       "      <td>MESSAGEix-GLOBIOM_1.1</td>\n",
       "      <td>T34_1000_feas_em</td>\n",
       "      <td>2C</td>\n",
       "      <td>2080</td>\n",
       "    </tr>\n",
       "    <tr>\n",
       "      <th>8</th>\n",
       "      <td>MESSAGEix-GLOBIOM_1.1</td>\n",
       "      <td>T34_1000_feas_pr</td>\n",
       "      <td>2C</td>\n",
       "      <td>2070</td>\n",
       "    </tr>\n",
       "    <tr>\n",
       "      <th>9</th>\n",
       "      <td>MESSAGEix-GLOBIOM_1.1</td>\n",
       "      <td>T34_1000_feas_ref</td>\n",
       "      <td>2C</td>\n",
       "      <td>2100</td>\n",
       "    </tr>\n",
       "    <tr>\n",
       "      <th>10</th>\n",
       "      <td>POLES ENGAGE</td>\n",
       "      <td>T34_1000_feas_em</td>\n",
       "      <td>2C</td>\n",
       "      <td>2080</td>\n",
       "    </tr>\n",
       "    <tr>\n",
       "      <th>11</th>\n",
       "      <td>POLES ENGAGE</td>\n",
       "      <td>T34_1000_feas_pr</td>\n",
       "      <td>2C</td>\n",
       "      <td>2080</td>\n",
       "    </tr>\n",
       "    <tr>\n",
       "      <th>12</th>\n",
       "      <td>REMIND 3.0</td>\n",
       "      <td>T34_550_feas_em</td>\n",
       "      <td>1.5C</td>\n",
       "      <td>2070</td>\n",
       "    </tr>\n",
       "    <tr>\n",
       "      <th>13</th>\n",
       "      <td>REMIND 3.0</td>\n",
       "      <td>T34_550_feas_ref</td>\n",
       "      <td>1.5C</td>\n",
       "      <td>2050</td>\n",
       "    </tr>\n",
       "    <tr>\n",
       "      <th>14</th>\n",
       "      <td>WITCH 5.0</td>\n",
       "      <td>T34_1000_feas_ref</td>\n",
       "      <td>2C</td>\n",
       "      <td>2100</td>\n",
       "    </tr>\n",
       "  </tbody>\n",
       "</table>\n",
       "</div>"
      ],
      "text/plain": [
       "                    model           scenario carbon_budget  year\n",
       "0            AIM/CGE V2.2   T34_1000_feas_em            2C  2060\n",
       "1            AIM/CGE V2.2   T34_1000_feas_pr            2C  2055\n",
       "2            AIM/CGE V2.2  T34_1000_feas_ref            2C  2070\n",
       "3            GEM-E3_V2023   T34_1000_feas_em            2C  2090\n",
       "4               IMAGE 3.2   T34_1000_feas_em            2C  2070\n",
       "5               IMAGE 3.2   T34_1000_feas_pr            2C  2070\n",
       "6               IMAGE 3.2  T34_1000_feas_ref            2C  2070\n",
       "7   MESSAGEix-GLOBIOM_1.1   T34_1000_feas_em            2C  2080\n",
       "8   MESSAGEix-GLOBIOM_1.1   T34_1000_feas_pr            2C  2070\n",
       "9   MESSAGEix-GLOBIOM_1.1  T34_1000_feas_ref            2C  2100\n",
       "10           POLES ENGAGE   T34_1000_feas_em            2C  2080\n",
       "11           POLES ENGAGE   T34_1000_feas_pr            2C  2080\n",
       "12             REMIND 3.0    T34_550_feas_em          1.5C  2070\n",
       "13             REMIND 3.0   T34_550_feas_ref          1.5C  2050\n",
       "14              WITCH 5.0  T34_1000_feas_ref            2C  2100"
      ]
     },
     "execution_count": 135,
     "metadata": {},
     "output_type": "execute_result"
    }
   ],
   "source": [
    "#calculate year that each scenario hit's net zero\n",
    "netzero_df = df[df[\"Emissions|CO2\"] <= 0].groupby([\"model\", \"scenario\", \"carbon_budget\"])['year'].min().reset_index()\n",
    "netzero_df\n",
    "#aggregated cost until 2100\n",
    "#df[\"year\"] = pd.to_numeric(df['year'])\n",
    "#df[df[\"year\"] <= 2100].groupby([\"model\", \"scenario\"]).agg({\"AR5 climate diagnostics|Temperature|Exceedance Probability|1.5 degC|MAGICC6\": ['sum']})"
   ]
  },
  {
   "cell_type": "code",
   "execution_count": 134,
   "metadata": {},
   "outputs": [],
   "source": [
    "fig2 = px.scatter(\n",
    "    data_frame=netzero_df,\n",
    "    x = \"year\",\n",
    "    y=\"carbon_budget\"\n",
    ")"
   ]
  }
 ],
 "metadata": {
  "kernelspec": {
   "display_name": "Streamlit",
   "language": "python",
   "name": "python3"
  },
  "language_info": {
   "codemirror_mode": {
    "name": "ipython",
    "version": 3
   },
   "file_extension": ".py",
   "mimetype": "text/x-python",
   "name": "python",
   "nbconvert_exporter": "python",
   "pygments_lexer": "ipython3",
   "version": "3.10.11"
  },
  "orig_nbformat": 4
 },
 "nbformat": 4,
 "nbformat_minor": 2
}
