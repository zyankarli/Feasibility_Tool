{
 "cells": [
  {
   "cell_type": "code",
   "execution_count": 1,
   "metadata": {},
   "outputs": [
    {
     "data": {
      "application/javascript": "if (typeof IPython !== 'undefined') { IPython.OutputArea.prototype._should_scroll = function(lines){ return false; }}",
      "text/plain": [
       "<IPython.core.display.Javascript object>"
      ]
     },
     "metadata": {},
     "output_type": "display_data"
    }
   ],
   "source": [
    "#Import libraries\n",
    "import pyam\n",
    "import plotly.express as px\n",
    "import plotly.graph_objects as go\n",
    "import pandas as pd\n",
    "import numpy as np"
   ]
  },
  {
   "cell_type": "code",
   "execution_count": 159,
   "metadata": {},
   "outputs": [],
   "source": [
    "def get_data():\n",
    "    #get IIASA identification\n",
    "    #workplace IIASA\n",
    "    iiasa_creds = r\"C:\\Users\\scheifinger\\Documents\\GitHub\\Feasibility_Tool\\iiasa_credentials.yml\"\n",
    "    #workplace home\n",
    "    #iiasa_creds = r\"C:\\Users\\schei\\OneDrive\\Dokumente\\GitHub\\Feasibility_Tool\\iiasa_credentials.yml\"\n",
    "    pyam.iiasa.Connection(creds=iiasa_creds)\n",
    "\n",
    "    connections = list(pyam.iiasa.Connection(creds=iiasa_creds).valid_connections)\n",
    "    #other variables: 'Emissions|CO2', 'Primary Energy|Coal', \n",
    "    #query for climate scenario data\n",
    "    \n",
    "    data_set = pyam.read_iiasa(\n",
    "        name = 'engage_internal',\n",
    "        creds = iiasa_creds,\n",
    "        scenario =[\n",
    "            \"T34_1000_ref\",\n",
    "            \"T34_1000_govem\",\n",
    "            \"T34_1000_feas_em\",\n",
    "            \"T34_1000_bitb_em\",\n",
    "            \"T34_1000_bitb_ref\",\n",
    "            \"T34_1000_enab_em\"\n",
    "        ],\n",
    "        variable=[\"Emissions|CO2\", \n",
    "                  'Emissions|Kyoto Gases',\n",
    "                  'Primary Energy|Coal',\n",
    "                  'Primary Energy|Gas',\n",
    "                  'Primary Energy',\n",
    "                  'Capacity|Electricity|Coal',\n",
    "                  'Capacity|Electricity|Solar',\n",
    "                  'Capacity|Electricity|Wind',\n",
    "                  'Carbon Sequestration|CCS',\n",
    "                  'Carbon Sequestration|Land Use'\n",
    "                  ],\n",
    "        region=[\"World\",\n",
    "                \"North America; primarily the United States of America and Canada\",\n",
    "                \"Eastern and Western Europe (i.e., the EU28)\",\n",
    "                \"Countries of centrally-planned Asia; primarily China\",\n",
    "                \"Countries of South Asia; primarily India\", \n",
    "                \"Countries of Sub-Saharan Africa\",\n",
    "                \"Countries of Latin America and the Caribbean\",\n",
    "                \"Countries of the Middle East; Iran, Iraq, Israel, Saudi Arabia, Qatar, etc.\"]\n",
    "    )   \n",
    "    #return data format of df\n",
    "    return df\n"
   ]
  },
  {
   "cell_type": "code",
   "execution_count": 160,
   "metadata": {},
   "outputs": [
    {
     "name": "stderr",
     "output_type": "stream",
     "text": [
      "httpx - INFO: HTTP Request: POST https://api.manager.ece.iiasa.ac.at/v1/token/obtain/ \"HTTP/1.1 200 OK\"\n",
      "pyam.iiasa - INFO: You are connected as user `scheifinger`\n",
      "httpx - INFO: HTTP Request: POST https://api.manager.ece.iiasa.ac.at/v1/token/obtain/ \"HTTP/1.1 200 OK\"\n",
      "pyam.iiasa - INFO: You are connected as user `scheifinger`\n",
      "httpx - INFO: HTTP Request: GET https://api.manager.ece.iiasa.ac.at/legacy/applications \"HTTP/1.1 200 OK\"\n",
      "httpx - INFO: HTTP Request: POST https://api.manager.ece.iiasa.ac.at/v1/token/obtain/ \"HTTP/1.1 200 OK\"\n",
      "httpx - INFO: HTTP Request: GET https://api.manager.ece.iiasa.ac.at/legacy/applications \"HTTP/1.1 200 OK\"\n",
      "httpx - INFO: HTTP Request: GET https://api.manager.ece.iiasa.ac.at/legacy/applications/IXSE_ENGAGE_INTERNAL/config \"HTTP/1.1 200 OK\"\n",
      "pyam.iiasa - INFO: You are connected to the IXSE_ENGAGE_INTERNAL scenario explorer hosted by IIASA. If you use this data in any published format, please cite the data as provided in the explorer guidelines: https://data.ece.iiasa.ac.at/engage-internal/#/about\n",
      "pyam.iiasa - INFO: You are connected as user `scheifinger`\n"
     ]
    }
   ],
   "source": [
    "data_set = get_data().data"
   ]
  },
  {
   "cell_type": "code",
   "execution_count": 223,
   "metadata": {},
   "outputs": [
    {
     "name": "stdout",
     "output_type": "stream",
     "text": [
      "Sum of all countries is larger than World\n",
      "value    186.5678\n",
      "dtype: float64\n"
     ]
    },
    {
     "data": {
      "text/html": [
       "<div>\n",
       "<style scoped>\n",
       "    .dataframe tbody tr th:only-of-type {\n",
       "        vertical-align: middle;\n",
       "    }\n",
       "\n",
       "    .dataframe tbody tr th {\n",
       "        vertical-align: top;\n",
       "    }\n",
       "\n",
       "    .dataframe thead th {\n",
       "        text-align: right;\n",
       "    }\n",
       "</style>\n",
       "<table border=\"1\" class=\"dataframe\">\n",
       "  <thead>\n",
       "    <tr style=\"text-align: right;\">\n",
       "      <th></th>\n",
       "      <th>model</th>\n",
       "      <th>scenario</th>\n",
       "      <th>region</th>\n",
       "      <th>variable</th>\n",
       "      <th>unit</th>\n",
       "      <th>year</th>\n",
       "      <th>value</th>\n",
       "    </tr>\n",
       "  </thead>\n",
       "  <tbody>\n",
       "    <tr>\n",
       "      <th>154</th>\n",
       "      <td>AIM/CGE V2.2</td>\n",
       "      <td>T34_1000_bitb_em</td>\n",
       "      <td>Countries of Latin America and the Caribbean</td>\n",
       "      <td>Primary Energy|Gas</td>\n",
       "      <td>EJ/yr</td>\n",
       "      <td>2020</td>\n",
       "      <td>8.0877</td>\n",
       "    </tr>\n",
       "    <tr>\n",
       "      <th>325</th>\n",
       "      <td>AIM/CGE V2.2</td>\n",
       "      <td>T34_1000_bitb_em</td>\n",
       "      <td>Countries of South Asia; primarily India</td>\n",
       "      <td>Primary Energy|Gas</td>\n",
       "      <td>EJ/yr</td>\n",
       "      <td>2020</td>\n",
       "      <td>2.4281</td>\n",
       "    </tr>\n",
       "    <tr>\n",
       "      <th>496</th>\n",
       "      <td>AIM/CGE V2.2</td>\n",
       "      <td>T34_1000_bitb_em</td>\n",
       "      <td>Countries of Sub-Saharan Africa</td>\n",
       "      <td>Primary Energy|Gas</td>\n",
       "      <td>EJ/yr</td>\n",
       "      <td>2020</td>\n",
       "      <td>5.7682</td>\n",
       "    </tr>\n",
       "    <tr>\n",
       "      <th>667</th>\n",
       "      <td>AIM/CGE V2.2</td>\n",
       "      <td>T34_1000_bitb_em</td>\n",
       "      <td>Countries of centrally-planned Asia; primarily...</td>\n",
       "      <td>Primary Energy|Gas</td>\n",
       "      <td>EJ/yr</td>\n",
       "      <td>2020</td>\n",
       "      <td>9.5000</td>\n",
       "    </tr>\n",
       "    <tr>\n",
       "      <th>838</th>\n",
       "      <td>AIM/CGE V2.2</td>\n",
       "      <td>T34_1000_bitb_em</td>\n",
       "      <td>Countries of the Middle East; Iran, Iraq, Isra...</td>\n",
       "      <td>Primary Energy|Gas</td>\n",
       "      <td>EJ/yr</td>\n",
       "      <td>2020</td>\n",
       "      <td>20.6728</td>\n",
       "    </tr>\n",
       "    <tr>\n",
       "      <th>1009</th>\n",
       "      <td>AIM/CGE V2.2</td>\n",
       "      <td>T34_1000_bitb_em</td>\n",
       "      <td>Eastern and Western Europe (i.e., the EU28)</td>\n",
       "      <td>Primary Energy|Gas</td>\n",
       "      <td>EJ/yr</td>\n",
       "      <td>2020</td>\n",
       "      <td>17.7990</td>\n",
       "    </tr>\n",
       "    <tr>\n",
       "      <th>1180</th>\n",
       "      <td>AIM/CGE V2.2</td>\n",
       "      <td>T34_1000_bitb_em</td>\n",
       "      <td>North America; primarily the United States of ...</td>\n",
       "      <td>Primary Energy|Gas</td>\n",
       "      <td>EJ/yr</td>\n",
       "      <td>2020</td>\n",
       "      <td>32.9493</td>\n",
       "    </tr>\n",
       "    <tr>\n",
       "      <th>1351</th>\n",
       "      <td>AIM/CGE V2.2</td>\n",
       "      <td>T34_1000_bitb_em</td>\n",
       "      <td>World</td>\n",
       "      <td>Primary Energy|Gas</td>\n",
       "      <td>EJ/yr</td>\n",
       "      <td>2020</td>\n",
       "      <td>140.1110</td>\n",
       "    </tr>\n",
       "  </tbody>\n",
       "</table>\n",
       "</div>"
      ],
      "text/plain": [
       "             model          scenario   \n",
       "154   AIM/CGE V2.2  T34_1000_bitb_em  \\\n",
       "325   AIM/CGE V2.2  T34_1000_bitb_em   \n",
       "496   AIM/CGE V2.2  T34_1000_bitb_em   \n",
       "667   AIM/CGE V2.2  T34_1000_bitb_em   \n",
       "838   AIM/CGE V2.2  T34_1000_bitb_em   \n",
       "1009  AIM/CGE V2.2  T34_1000_bitb_em   \n",
       "1180  AIM/CGE V2.2  T34_1000_bitb_em   \n",
       "1351  AIM/CGE V2.2  T34_1000_bitb_em   \n",
       "\n",
       "                                                 region            variable   \n",
       "154        Countries of Latin America and the Caribbean  Primary Energy|Gas  \\\n",
       "325            Countries of South Asia; primarily India  Primary Energy|Gas   \n",
       "496                     Countries of Sub-Saharan Africa  Primary Energy|Gas   \n",
       "667   Countries of centrally-planned Asia; primarily...  Primary Energy|Gas   \n",
       "838   Countries of the Middle East; Iran, Iraq, Isra...  Primary Energy|Gas   \n",
       "1009        Eastern and Western Europe (i.e., the EU28)  Primary Energy|Gas   \n",
       "1180  North America; primarily the United States of ...  Primary Energy|Gas   \n",
       "1351                                              World  Primary Energy|Gas   \n",
       "\n",
       "       unit  year     value  \n",
       "154   EJ/yr  2020    8.0877  \n",
       "325   EJ/yr  2020    2.4281  \n",
       "496   EJ/yr  2020    5.7682  \n",
       "667   EJ/yr  2020    9.5000  \n",
       "838   EJ/yr  2020   20.6728  \n",
       "1009  EJ/yr  2020   17.7990  \n",
       "1180  EJ/yr  2020   32.9493  \n",
       "1351  EJ/yr  2020  140.1110  "
      ]
     },
     "execution_count": 223,
     "metadata": {},
     "output_type": "execute_result"
    }
   ],
   "source": [
    "print(\"Sum of all countries is larger than World\")\n",
    "#TODO: ask/ check\n",
    "print(\n",
    "data_set[(data_set[\"model\"] == \"AIM/CGE V2.2\") \\\n",
    "    & (data_set['scenario'] == \"T34_1000_bitb_em\") \\\n",
    "    & (data_set[\"variable\"] == \"Primary Energy|Gas\") \\\n",
    "    & (data_set[\"year\"] == 2020) \\\n",
    "    & (df[\"region\"] != \"World\")\n",
    "    ].agg({'value':\"sum\"})\n",
    ")\n",
    "\n",
    "data_set[(data_set[\"model\"] == \"AIM/CGE V2.2\") \\\n",
    "    & (data_set['scenario'] == \"T34_1000_bitb_em\") \\\n",
    "    & (data_set[\"variable\"] == \"Primary Energy|Gas\") \\\n",
    "    & (data_set[\"year\"] == 2020)\n",
    "    ]"
   ]
  },
  {
   "cell_type": "code",
   "execution_count": 218,
   "metadata": {},
   "outputs": [
    {
     "data": {
      "text/html": [
       "<div>\n",
       "<style scoped>\n",
       "    .dataframe tbody tr th:only-of-type {\n",
       "        vertical-align: middle;\n",
       "    }\n",
       "\n",
       "    .dataframe tbody tr th {\n",
       "        vertical-align: top;\n",
       "    }\n",
       "\n",
       "    .dataframe thead th {\n",
       "        text-align: right;\n",
       "    }\n",
       "</style>\n",
       "<table border=\"1\" class=\"dataframe\">\n",
       "  <thead>\n",
       "    <tr style=\"text-align: right;\">\n",
       "      <th>variable</th>\n",
       "      <th>model</th>\n",
       "      <th>scenario</th>\n",
       "      <th>region</th>\n",
       "      <th>year</th>\n",
       "      <th>Capacity|Electricity|Coal</th>\n",
       "      <th>Capacity|Electricity|Solar</th>\n",
       "      <th>Capacity|Electricity|Wind</th>\n",
       "      <th>Carbon Sequestration|CCS</th>\n",
       "      <th>Carbon Sequestration|Land Use</th>\n",
       "      <th>Emissions|CO2</th>\n",
       "      <th>Emissions|Kyoto Gases</th>\n",
       "      <th>Primary Energy</th>\n",
       "      <th>Primary Energy|Coal</th>\n",
       "      <th>Primary Energy|Gas</th>\n",
       "      <th>scenario_narrative</th>\n",
       "      <th>Share_Coal</th>\n",
       "      <th>Share_Gas</th>\n",
       "    </tr>\n",
       "  </thead>\n",
       "  <tbody>\n",
       "    <tr>\n",
       "      <th>0</th>\n",
       "      <td>AIM/CGE V2.2</td>\n",
       "      <td>T34_1000_bitb_em</td>\n",
       "      <td>China</td>\n",
       "      <td>2010</td>\n",
       "      <td>773.8319</td>\n",
       "      <td>1.4445</td>\n",
       "      <td>14.6534</td>\n",
       "      <td>0.0</td>\n",
       "      <td>NaN</td>\n",
       "      <td>8860.3168</td>\n",
       "      <td>11537.5187</td>\n",
       "      <td>108.3570</td>\n",
       "      <td>76.8021</td>\n",
       "      <td>4.0615</td>\n",
       "      <td>Tech+Inst</td>\n",
       "      <td>0.708788</td>\n",
       "      <td>0.037483</td>\n",
       "    </tr>\n",
       "    <tr>\n",
       "      <th>1</th>\n",
       "      <td>AIM/CGE V2.2</td>\n",
       "      <td>T34_1000_bitb_em</td>\n",
       "      <td>China</td>\n",
       "      <td>2015</td>\n",
       "      <td>1052.4402</td>\n",
       "      <td>66.0579</td>\n",
       "      <td>61.9462</td>\n",
       "      <td>0.0</td>\n",
       "      <td>NaN</td>\n",
       "      <td>10778.5587</td>\n",
       "      <td>13745.7169</td>\n",
       "      <td>132.7931</td>\n",
       "      <td>92.2560</td>\n",
       "      <td>5.6674</td>\n",
       "      <td>Tech+Inst</td>\n",
       "      <td>0.694735</td>\n",
       "      <td>0.042678</td>\n",
       "    </tr>\n",
       "    <tr>\n",
       "      <th>2</th>\n",
       "      <td>AIM/CGE V2.2</td>\n",
       "      <td>T34_1000_bitb_em</td>\n",
       "      <td>China</td>\n",
       "      <td>2020</td>\n",
       "      <td>1418.3453</td>\n",
       "      <td>343.1131</td>\n",
       "      <td>153.9295</td>\n",
       "      <td>0.0</td>\n",
       "      <td>NaN</td>\n",
       "      <td>11958.4702</td>\n",
       "      <td>15070.7563</td>\n",
       "      <td>151.2920</td>\n",
       "      <td>97.7011</td>\n",
       "      <td>9.5000</td>\n",
       "      <td>Tech+Inst</td>\n",
       "      <td>0.645778</td>\n",
       "      <td>0.062792</td>\n",
       "    </tr>\n",
       "  </tbody>\n",
       "</table>\n",
       "</div>"
      ],
      "text/plain": [
       "variable         model          scenario region  year   \n",
       "0         AIM/CGE V2.2  T34_1000_bitb_em  China  2010  \\\n",
       "1         AIM/CGE V2.2  T34_1000_bitb_em  China  2015   \n",
       "2         AIM/CGE V2.2  T34_1000_bitb_em  China  2020   \n",
       "\n",
       "variable  Capacity|Electricity|Coal  Capacity|Electricity|Solar   \n",
       "0                          773.8319                      1.4445  \\\n",
       "1                         1052.4402                     66.0579   \n",
       "2                         1418.3453                    343.1131   \n",
       "\n",
       "variable  Capacity|Electricity|Wind  Carbon Sequestration|CCS   \n",
       "0                           14.6534                       0.0  \\\n",
       "1                           61.9462                       0.0   \n",
       "2                          153.9295                       0.0   \n",
       "\n",
       "variable  Carbon Sequestration|Land Use  Emissions|CO2  Emissions|Kyoto Gases   \n",
       "0                                   NaN      8860.3168             11537.5187  \\\n",
       "1                                   NaN     10778.5587             13745.7169   \n",
       "2                                   NaN     11958.4702             15070.7563   \n",
       "\n",
       "variable  Primary Energy  Primary Energy|Coal  Primary Energy|Gas   \n",
       "0               108.3570              76.8021              4.0615  \\\n",
       "1               132.7931              92.2560              5.6674   \n",
       "2               151.2920              97.7011              9.5000   \n",
       "\n",
       "variable scenario_narrative  Share_Coal  Share_Gas  \n",
       "0                 Tech+Inst    0.708788   0.037483  \n",
       "1                 Tech+Inst    0.694735   0.042678  \n",
       "2                 Tech+Inst    0.645778   0.062792  "
      ]
     },
     "execution_count": 218,
     "metadata": {},
     "output_type": "execute_result"
    }
   ],
   "source": [
    "#Data wrangling\n",
    "df = data_set\n",
    "#get regional groupings\n",
    "## OECD: \"North America; primarily the United States of America and Canada\",\"Eastern and Western Europe (i.e., the EU28)\"\n",
    "#TODO Clarify that countries of Asia and Latin America are missing\n",
    "## China:  Countries of centrally-planned Asia; primarily China\n",
    "## Rest of the world: other countries\n",
    "#get world\n",
    "world = data_set[df['region'] == \"World\"]\n",
    "world.loc[:, \"region\"] = \"World\"\n",
    "#get OECD*\n",
    "oecd = df[df[\"region\"].isin([\"North America; primarily the United States of America and Canada\",\"Eastern and Western Europe (i.e., the EU28)\"])]\\\n",
    "    .groupby([\"model\", \"scenario\", \"variable\", \"year\", \"unit\"])\\\n",
    "        .agg({\"value\": \"sum\"}).reset_index()\n",
    "oecd['region'] = \"OECD\"\n",
    "#get China\n",
    "china = df[df['region'] == \"Countries of centrally-planned Asia; primarily China\"]\n",
    "china.loc[:, \"region\"] = \"China\"\n",
    "#get RoW\n",
    "row = df[~df[\"region\"].isin([\"World\", \"North America; primarily the United States of America and Canada\",\"Eastern and Western Europe (i.e., the EU28)\", \"Countries of centrally-planned Asia; primarily China\"])]\\\n",
    "        .groupby([\"model\", \"scenario\", \"variable\", \"year\", \"unit\"])\\\n",
    "            .agg({\"value\": \"sum\"}).reset_index()\n",
    "row[\"region\"] = \"RoW\"\n",
    "#Concat three regions\n",
    "df = pd.concat([world, oecd, china, row]).reset_index()\n",
    "\n",
    "#from long to wide\n",
    "df = pd.pivot(data=df, index=['model','scenario', 'region', 'year'], columns = 'variable', values = 'value').reset_index()\n",
    "#get diffeernt scenario narratives from scenario name\n",
    "df['scenario_narrative'] = np.where(df['scenario'].str.contains(\"T34_1000_ref\", case=True), \"Cost Effective\", np.nan) \n",
    "df['scenario_narrative'] = np.where(df['scenario'].str.contains(\"T34_1000_bitb_ref\", case=True), \"Tech\", df['scenario_narrative']) \n",
    "df['scenario_narrative'] = np.where(df['scenario'].str.contains(\"T34_1000_govem\", case=True), \"Instit\", df['scenario_narrative'])\n",
    "df['scenario_narrative'] = np.where(df['scenario'].str.contains(\"T34_1000_bitb_em\", case=True), \"Tech+Inst\", df['scenario_narrative'])\n",
    "df['scenario_narrative'] = np.where(df['scenario'].str.contains(\"T34_1000_enab_em\", case=True), \"Inst+Enab\", df['scenario_narrative'])\n",
    "df['scenario_narrative'] = np.where(df['scenario'].str.contains(\"T34_1000_feas_em\", case=True), \"Tech+Inst+Enab\", df['scenario_narrative'])\n",
    "\n",
    "#caluclate percentages of energymix for coal and gas\n",
    "df[\"Share_Coal\"] = df[\"Primary Energy|Coal\"] / df[\"Primary Energy\"]\n",
    "df[\"Share_Gas\"] = df[\"Primary Energy|Gas\"] / df[\"Primary Energy\"]\n",
    "\n",
    "#get reductions from 2020 - 2040\n",
    "df.head(3)\n",
    "#Sort dataframe\n",
    "#df.sort_values(by=[\"model\", \"scenario\", \"region\", \"year\"], ascending=True, inplace=True)"
   ]
  },
  {
   "cell_type": "code",
   "execution_count": 153,
   "metadata": {},
   "outputs": [
    {
     "data": {
      "text/html": [
       "<div>\n",
       "<style scoped>\n",
       "    .dataframe tbody tr th:only-of-type {\n",
       "        vertical-align: middle;\n",
       "    }\n",
       "\n",
       "    .dataframe tbody tr th {\n",
       "        vertical-align: top;\n",
       "    }\n",
       "\n",
       "    .dataframe thead th {\n",
       "        text-align: right;\n",
       "    }\n",
       "</style>\n",
       "<table border=\"1\" class=\"dataframe\">\n",
       "  <thead>\n",
       "    <tr style=\"text-align: right;\">\n",
       "      <th></th>\n",
       "      <th>model</th>\n",
       "      <th>scenario</th>\n",
       "      <th>region</th>\n",
       "      <th>year</th>\n",
       "      <th>Capacity|Electricity|Solar</th>\n",
       "      <th>Capacity|Electricity|Wind</th>\n",
       "      <th>Carbon Sequestration|CCS</th>\n",
       "      <th>Carbon Sequestration|Land Use</th>\n",
       "      <th>Emissions|CO2</th>\n",
       "      <th>Emissions|Kyoto Gases</th>\n",
       "      <th>Primary Energy</th>\n",
       "      <th>Primary Energy|Coal</th>\n",
       "      <th>Primary Energy|Gas</th>\n",
       "      <th>scenario_narrative</th>\n",
       "      <th>Share_Coal</th>\n",
       "      <th>Share_Gas</th>\n",
       "      <th>2030_CO2_redu</th>\n",
       "      <th>2040_CO2_redu</th>\n",
       "    </tr>\n",
       "  </thead>\n",
       "  <tbody>\n",
       "    <tr>\n",
       "      <th>0</th>\n",
       "      <td>AIM/CGE V2.2</td>\n",
       "      <td>T34_1000_govem</td>\n",
       "      <td>World</td>\n",
       "      <td>2020</td>\n",
       "      <td>874.0862</td>\n",
       "      <td>578.1408</td>\n",
       "      <td>0.0000</td>\n",
       "      <td>NaN</td>\n",
       "      <td>41483.9891</td>\n",
       "      <td>57383.4183</td>\n",
       "      <td>605.7297</td>\n",
       "      <td>172.4136</td>\n",
       "      <td>140.0969</td>\n",
       "      <td>Instit</td>\n",
       "      <td>0.284638</td>\n",
       "      <td>0.231286</td>\n",
       "      <td>0.218336</td>\n",
       "      <td>0.467688</td>\n",
       "    </tr>\n",
       "    <tr>\n",
       "      <th>1</th>\n",
       "      <td>AIM/CGE V2.2</td>\n",
       "      <td>T34_1000_govem</td>\n",
       "      <td>World</td>\n",
       "      <td>2030</td>\n",
       "      <td>6308.6826</td>\n",
       "      <td>2317.6574</td>\n",
       "      <td>877.2622</td>\n",
       "      <td>NaN</td>\n",
       "      <td>32426.5506</td>\n",
       "      <td>43000.1260</td>\n",
       "      <td>589.2797</td>\n",
       "      <td>111.7377</td>\n",
       "      <td>151.4121</td>\n",
       "      <td>Instit</td>\n",
       "      <td>0.189617</td>\n",
       "      <td>0.256944</td>\n",
       "      <td>0.218336</td>\n",
       "      <td>0.467688</td>\n",
       "    </tr>\n",
       "    <tr>\n",
       "      <th>2</th>\n",
       "      <td>AIM/CGE V2.2</td>\n",
       "      <td>T34_1000_govem</td>\n",
       "      <td>World</td>\n",
       "      <td>2040</td>\n",
       "      <td>13187.4473</td>\n",
       "      <td>5052.0789</td>\n",
       "      <td>4738.5071</td>\n",
       "      <td>NaN</td>\n",
       "      <td>22082.4170</td>\n",
       "      <td>30603.7339</td>\n",
       "      <td>603.0775</td>\n",
       "      <td>59.8423</td>\n",
       "      <td>151.2554</td>\n",
       "      <td>Instit</td>\n",
       "      <td>0.099228</td>\n",
       "      <td>0.250806</td>\n",
       "      <td>0.218336</td>\n",
       "      <td>0.467688</td>\n",
       "    </tr>\n",
       "  </tbody>\n",
       "</table>\n",
       "</div>"
      ],
      "text/plain": [
       "          model        scenario region  year  Capacity|Electricity|Solar   \n",
       "0  AIM/CGE V2.2  T34_1000_govem  World  2020                    874.0862  \\\n",
       "1  AIM/CGE V2.2  T34_1000_govem  World  2030                   6308.6826   \n",
       "2  AIM/CGE V2.2  T34_1000_govem  World  2040                  13187.4473   \n",
       "\n",
       "   Capacity|Electricity|Wind  Carbon Sequestration|CCS   \n",
       "0                   578.1408                    0.0000  \\\n",
       "1                  2317.6574                  877.2622   \n",
       "2                  5052.0789                 4738.5071   \n",
       "\n",
       "   Carbon Sequestration|Land Use  Emissions|CO2  Emissions|Kyoto Gases   \n",
       "0                            NaN     41483.9891             57383.4183  \\\n",
       "1                            NaN     32426.5506             43000.1260   \n",
       "2                            NaN     22082.4170             30603.7339   \n",
       "\n",
       "   Primary Energy  Primary Energy|Coal  Primary Energy|Gas scenario_narrative   \n",
       "0        605.7297             172.4136            140.0969             Instit  \\\n",
       "1        589.2797             111.7377            151.4121             Instit   \n",
       "2        603.0775              59.8423            151.2554             Instit   \n",
       "\n",
       "   Share_Coal  Share_Gas  2030_CO2_redu  2040_CO2_redu  \n",
       "0    0.284638   0.231286       0.218336       0.467688  \n",
       "1    0.189617   0.256944       0.218336       0.467688  \n",
       "2    0.099228   0.250806       0.218336       0.467688  "
      ]
     },
     "execution_count": 153,
     "metadata": {},
     "output_type": "execute_result"
    }
   ],
   "source": [
    "#filter\n",
    "to_plot_df = df[(df['year'].isin([2020, 2030, 2040])) & (df[\"scenario\"].isin([\"T34_1000_ref\", \"T34_1000_govem\"])) & (df[\"region\"] == \"World\")]\n",
    "\n",
    "#calculate reductions\n",
    "reductions_df = to_plot_df[[\"model\", \"scenario\", \"region\", 'year', \"Emissions|CO2\"]]\n",
    "reductions_df = pd.pivot(data=reductions_df, index=reductions_df.drop(['year', \"Emissions|CO2\"], axis=1).columns, columns = 'year', values = 'Emissions|CO2').reset_index()\n",
    "reductions_df[\"2030_CO2_redu\"] = ( (reductions_df[2030] - reductions_df[2020]) / reductions_df[2020]) * -1 #multiplied with -1 to have positive values \n",
    "reductions_df[\"2040_CO2_redu\"] = ((reductions_df[2040] - reductions_df[2020]) / reductions_df[2020]) * -1 \n",
    "reductions_df.drop([2020, 2030, 2040], axis=1, inplace=True)\n",
    "\n",
    "#merge\n",
    "to_plot_df = pd.merge(left=to_plot_df, right=reductions_df, on=[\"model\", \"scenario\", \"region\"])\n",
    "\n",
    "to_plot_df.head(3)"
   ]
  },
  {
   "cell_type": "code",
   "execution_count": 158,
   "metadata": {},
   "outputs": [
    {
     "data": {
      "application/vnd.plotly.v1+json": {
       "config": {
        "plotlyServerURL": "https://plot.ly"
       },
       "data": [
        {
         "alignmentgroup": "True",
         "boxpoints": "all",
         "fillcolor": "rgba(255,255,255,0)",
         "hoveron": "points",
         "hovertemplate": "model=AIM/CGE V2.2<br>scenario_narrative=%{x}<br>2030_CO2_redu=%{y}<extra></extra>",
         "legendgroup": "AIM/CGE V2.2",
         "line": {
          "color": "rgba(255,255,255,0)"
         },
         "marker": {
          "color": "#636efa",
          "size": 8
         },
         "name": "AIM/CGE V2.2",
         "offsetgroup": "AIM/CGE V2.2",
         "orientation": "v",
         "pointpos": 0,
         "showlegend": true,
         "type": "box",
         "x": [
          "Instit",
          "Cost Effective"
         ],
         "x0": " ",
         "xaxis": "x",
         "y": [
          0.21833576511088226,
          0.2475844294895769
         ],
         "y0": " ",
         "yaxis": "y"
        },
        {
         "alignmentgroup": "True",
         "boxpoints": "all",
         "fillcolor": "rgba(255,255,255,0)",
         "hoveron": "points",
         "hovertemplate": "model=COFFEE 1.5<br>scenario_narrative=%{x}<br>2030_CO2_redu=%{y}<extra></extra>",
         "legendgroup": "COFFEE 1.5",
         "line": {
          "color": "rgba(255,255,255,0)"
         },
         "marker": {
          "color": "#EF553B",
          "size": 8
         },
         "name": "COFFEE 1.5",
         "offsetgroup": "COFFEE 1.5",
         "orientation": "v",
         "pointpos": 0,
         "showlegend": true,
         "type": "box",
         "x": [
          "Cost Effective"
         ],
         "x0": " ",
         "xaxis": "x",
         "y": [
          0.1118504740914091
         ],
         "y0": " ",
         "yaxis": "y"
        },
        {
         "alignmentgroup": "True",
         "boxpoints": "all",
         "fillcolor": "rgba(255,255,255,0)",
         "hoveron": "points",
         "hovertemplate": "model=GEM-E3_V2023<br>scenario_narrative=%{x}<br>2030_CO2_redu=%{y}<extra></extra>",
         "legendgroup": "GEM-E3_V2023",
         "line": {
          "color": "rgba(255,255,255,0)"
         },
         "marker": {
          "color": "#00cc96",
          "size": 8
         },
         "name": "GEM-E3_V2023",
         "offsetgroup": "GEM-E3_V2023",
         "orientation": "v",
         "pointpos": 0,
         "showlegend": true,
         "type": "box",
         "x": [
          "Instit",
          "Cost Effective"
         ],
         "x0": " ",
         "xaxis": "x",
         "y": [
          0.16677098683471817,
          0.16585324384940472
         ],
         "y0": " ",
         "yaxis": "y"
        },
        {
         "alignmentgroup": "True",
         "boxpoints": "all",
         "fillcolor": "rgba(255,255,255,0)",
         "hoveron": "points",
         "hovertemplate": "model=IMAGE 3.2<br>scenario_narrative=%{x}<br>2030_CO2_redu=%{y}<extra></extra>",
         "legendgroup": "IMAGE 3.2",
         "line": {
          "color": "rgba(255,255,255,0)"
         },
         "marker": {
          "color": "#ab63fa",
          "size": 8
         },
         "name": "IMAGE 3.2",
         "offsetgroup": "IMAGE 3.2",
         "orientation": "v",
         "pointpos": 0,
         "showlegend": true,
         "type": "box",
         "x": [
          "Instit",
          "Cost Effective"
         ],
         "x0": " ",
         "xaxis": "x",
         "y": [
          0.160854721093494,
          0.24220762950586733
         ],
         "y0": " ",
         "yaxis": "y"
        },
        {
         "alignmentgroup": "True",
         "boxpoints": "all",
         "fillcolor": "rgba(255,255,255,0)",
         "hoveron": "points",
         "hovertemplate": "model=MESSAGEix-GLOBIOM_1.1<br>scenario_narrative=%{x}<br>2030_CO2_redu=%{y}<extra></extra>",
         "legendgroup": "MESSAGEix-GLOBIOM_1.1",
         "line": {
          "color": "rgba(255,255,255,0)"
         },
         "marker": {
          "color": "#FFA15A",
          "size": 8
         },
         "name": "MESSAGEix-GLOBIOM_1.1",
         "offsetgroup": "MESSAGEix-GLOBIOM_1.1",
         "orientation": "v",
         "pointpos": 0,
         "showlegend": true,
         "type": "box",
         "x": [
          "Instit",
          "Cost Effective"
         ],
         "x0": " ",
         "xaxis": "x",
         "y": [
          0.2305038960259554,
          0.30426085350928456
         ],
         "y0": " ",
         "yaxis": "y"
        },
        {
         "alignmentgroup": "True",
         "boxpoints": "all",
         "fillcolor": "rgba(255,255,255,0)",
         "hoveron": "points",
         "hovertemplate": "model=POLES ENGAGE<br>scenario_narrative=%{x}<br>2030_CO2_redu=%{y}<extra></extra>",
         "legendgroup": "POLES ENGAGE",
         "line": {
          "color": "rgba(255,255,255,0)"
         },
         "marker": {
          "color": "#19d3f3",
          "size": 8
         },
         "name": "POLES ENGAGE",
         "offsetgroup": "POLES ENGAGE",
         "orientation": "v",
         "pointpos": 0,
         "showlegend": true,
         "type": "box",
         "x": [
          "Instit",
          "Cost Effective"
         ],
         "x0": " ",
         "xaxis": "x",
         "y": [
          0.20066467474897637,
          0.19239051053140205
         ],
         "y0": " ",
         "yaxis": "y"
        },
        {
         "alignmentgroup": "True",
         "boxpoints": "all",
         "fillcolor": "rgba(255,255,255,0)",
         "hoveron": "points",
         "hovertemplate": "model=REMIND 3.0<br>scenario_narrative=%{x}<br>2030_CO2_redu=%{y}<extra></extra>",
         "legendgroup": "REMIND 3.0",
         "line": {
          "color": "rgba(255,255,255,0)"
         },
         "marker": {
          "color": "#FF6692",
          "size": 8
         },
         "name": "REMIND 3.0",
         "offsetgroup": "REMIND 3.0",
         "orientation": "v",
         "pointpos": 0,
         "showlegend": true,
         "type": "box",
         "x": [
          "Instit",
          "Cost Effective"
         ],
         "x0": " ",
         "xaxis": "x",
         "y": [
          0.21352085930054884,
          0.21088547311897723
         ],
         "y0": " ",
         "yaxis": "y"
        },
        {
         "alignmentgroup": "True",
         "boxpoints": "all",
         "fillcolor": "rgba(255,255,255,0)",
         "hoveron": "points",
         "hovertemplate": "model=WITCH 5.0<br>scenario_narrative=%{x}<br>2030_CO2_redu=%{y}<extra></extra>",
         "legendgroup": "WITCH 5.0",
         "line": {
          "color": "rgba(255,255,255,0)"
         },
         "marker": {
          "color": "#B6E880",
          "size": 8
         },
         "name": "WITCH 5.0",
         "offsetgroup": "WITCH 5.0",
         "orientation": "v",
         "pointpos": 0,
         "showlegend": true,
         "type": "box",
         "x": [
          "Instit",
          "Cost Effective"
         ],
         "x0": " ",
         "xaxis": "x",
         "y": [
          0.2913229756919772,
          0.45958632493761675
         ],
         "y0": " ",
         "yaxis": "y"
        },
        {
         "boxpoints": false,
         "marker": {
          "color": "grey",
          "size": 8
         },
         "name": "Instit",
         "opacity": 0.5,
         "showlegend": false,
         "type": "box",
         "y": [
          0.21833576511088226,
          0.16677098683471817,
          0.160854721093494,
          0.2305038960259554,
          0.20066467474897637,
          0.21352085930054884,
          0.2913229756919772
         ]
        },
        {
         "boxpoints": false,
         "marker": {
          "color": "grey",
          "size": 8
         },
         "name": "Cost Effective",
         "opacity": 0.3,
         "showlegend": false,
         "type": "box",
         "y": [
          0.2475844294895769,
          0.1118504740914091,
          0.16585324384940472,
          0.24220762950586733,
          0.30426085350928456,
          0.19239051053140205,
          0.21088547311897723,
          0.45958632493761675
         ]
        }
       ],
       "layout": {
        "autosize": false,
        "boxmode": "overlay",
        "height": 600,
        "legend": {
         "title": {
          "text": "model"
         },
         "tracegroupgap": 0
        },
        "margin": {
         "t": 60
        },
        "template": {
         "data": {
          "bar": [
           {
            "error_x": {
             "color": "#2a3f5f"
            },
            "error_y": {
             "color": "#2a3f5f"
            },
            "marker": {
             "line": {
              "color": "#E5ECF6",
              "width": 0.5
             },
             "pattern": {
              "fillmode": "overlay",
              "size": 10,
              "solidity": 0.2
             }
            },
            "type": "bar"
           }
          ],
          "barpolar": [
           {
            "marker": {
             "line": {
              "color": "#E5ECF6",
              "width": 0.5
             },
             "pattern": {
              "fillmode": "overlay",
              "size": 10,
              "solidity": 0.2
             }
            },
            "type": "barpolar"
           }
          ],
          "carpet": [
           {
            "aaxis": {
             "endlinecolor": "#2a3f5f",
             "gridcolor": "white",
             "linecolor": "white",
             "minorgridcolor": "white",
             "startlinecolor": "#2a3f5f"
            },
            "baxis": {
             "endlinecolor": "#2a3f5f",
             "gridcolor": "white",
             "linecolor": "white",
             "minorgridcolor": "white",
             "startlinecolor": "#2a3f5f"
            },
            "type": "carpet"
           }
          ],
          "choropleth": [
           {
            "colorbar": {
             "outlinewidth": 0,
             "ticks": ""
            },
            "type": "choropleth"
           }
          ],
          "contour": [
           {
            "colorbar": {
             "outlinewidth": 0,
             "ticks": ""
            },
            "colorscale": [
             [
              0,
              "#0d0887"
             ],
             [
              0.1111111111111111,
              "#46039f"
             ],
             [
              0.2222222222222222,
              "#7201a8"
             ],
             [
              0.3333333333333333,
              "#9c179e"
             ],
             [
              0.4444444444444444,
              "#bd3786"
             ],
             [
              0.5555555555555556,
              "#d8576b"
             ],
             [
              0.6666666666666666,
              "#ed7953"
             ],
             [
              0.7777777777777778,
              "#fb9f3a"
             ],
             [
              0.8888888888888888,
              "#fdca26"
             ],
             [
              1,
              "#f0f921"
             ]
            ],
            "type": "contour"
           }
          ],
          "contourcarpet": [
           {
            "colorbar": {
             "outlinewidth": 0,
             "ticks": ""
            },
            "type": "contourcarpet"
           }
          ],
          "heatmap": [
           {
            "colorbar": {
             "outlinewidth": 0,
             "ticks": ""
            },
            "colorscale": [
             [
              0,
              "#0d0887"
             ],
             [
              0.1111111111111111,
              "#46039f"
             ],
             [
              0.2222222222222222,
              "#7201a8"
             ],
             [
              0.3333333333333333,
              "#9c179e"
             ],
             [
              0.4444444444444444,
              "#bd3786"
             ],
             [
              0.5555555555555556,
              "#d8576b"
             ],
             [
              0.6666666666666666,
              "#ed7953"
             ],
             [
              0.7777777777777778,
              "#fb9f3a"
             ],
             [
              0.8888888888888888,
              "#fdca26"
             ],
             [
              1,
              "#f0f921"
             ]
            ],
            "type": "heatmap"
           }
          ],
          "heatmapgl": [
           {
            "colorbar": {
             "outlinewidth": 0,
             "ticks": ""
            },
            "colorscale": [
             [
              0,
              "#0d0887"
             ],
             [
              0.1111111111111111,
              "#46039f"
             ],
             [
              0.2222222222222222,
              "#7201a8"
             ],
             [
              0.3333333333333333,
              "#9c179e"
             ],
             [
              0.4444444444444444,
              "#bd3786"
             ],
             [
              0.5555555555555556,
              "#d8576b"
             ],
             [
              0.6666666666666666,
              "#ed7953"
             ],
             [
              0.7777777777777778,
              "#fb9f3a"
             ],
             [
              0.8888888888888888,
              "#fdca26"
             ],
             [
              1,
              "#f0f921"
             ]
            ],
            "type": "heatmapgl"
           }
          ],
          "histogram": [
           {
            "marker": {
             "pattern": {
              "fillmode": "overlay",
              "size": 10,
              "solidity": 0.2
             }
            },
            "type": "histogram"
           }
          ],
          "histogram2d": [
           {
            "colorbar": {
             "outlinewidth": 0,
             "ticks": ""
            },
            "colorscale": [
             [
              0,
              "#0d0887"
             ],
             [
              0.1111111111111111,
              "#46039f"
             ],
             [
              0.2222222222222222,
              "#7201a8"
             ],
             [
              0.3333333333333333,
              "#9c179e"
             ],
             [
              0.4444444444444444,
              "#bd3786"
             ],
             [
              0.5555555555555556,
              "#d8576b"
             ],
             [
              0.6666666666666666,
              "#ed7953"
             ],
             [
              0.7777777777777778,
              "#fb9f3a"
             ],
             [
              0.8888888888888888,
              "#fdca26"
             ],
             [
              1,
              "#f0f921"
             ]
            ],
            "type": "histogram2d"
           }
          ],
          "histogram2dcontour": [
           {
            "colorbar": {
             "outlinewidth": 0,
             "ticks": ""
            },
            "colorscale": [
             [
              0,
              "#0d0887"
             ],
             [
              0.1111111111111111,
              "#46039f"
             ],
             [
              0.2222222222222222,
              "#7201a8"
             ],
             [
              0.3333333333333333,
              "#9c179e"
             ],
             [
              0.4444444444444444,
              "#bd3786"
             ],
             [
              0.5555555555555556,
              "#d8576b"
             ],
             [
              0.6666666666666666,
              "#ed7953"
             ],
             [
              0.7777777777777778,
              "#fb9f3a"
             ],
             [
              0.8888888888888888,
              "#fdca26"
             ],
             [
              1,
              "#f0f921"
             ]
            ],
            "type": "histogram2dcontour"
           }
          ],
          "mesh3d": [
           {
            "colorbar": {
             "outlinewidth": 0,
             "ticks": ""
            },
            "type": "mesh3d"
           }
          ],
          "parcoords": [
           {
            "line": {
             "colorbar": {
              "outlinewidth": 0,
              "ticks": ""
             }
            },
            "type": "parcoords"
           }
          ],
          "pie": [
           {
            "automargin": true,
            "type": "pie"
           }
          ],
          "scatter": [
           {
            "fillpattern": {
             "fillmode": "overlay",
             "size": 10,
             "solidity": 0.2
            },
            "type": "scatter"
           }
          ],
          "scatter3d": [
           {
            "line": {
             "colorbar": {
              "outlinewidth": 0,
              "ticks": ""
             }
            },
            "marker": {
             "colorbar": {
              "outlinewidth": 0,
              "ticks": ""
             }
            },
            "type": "scatter3d"
           }
          ],
          "scattercarpet": [
           {
            "marker": {
             "colorbar": {
              "outlinewidth": 0,
              "ticks": ""
             }
            },
            "type": "scattercarpet"
           }
          ],
          "scattergeo": [
           {
            "marker": {
             "colorbar": {
              "outlinewidth": 0,
              "ticks": ""
             }
            },
            "type": "scattergeo"
           }
          ],
          "scattergl": [
           {
            "marker": {
             "colorbar": {
              "outlinewidth": 0,
              "ticks": ""
             }
            },
            "type": "scattergl"
           }
          ],
          "scattermapbox": [
           {
            "marker": {
             "colorbar": {
              "outlinewidth": 0,
              "ticks": ""
             }
            },
            "type": "scattermapbox"
           }
          ],
          "scatterpolar": [
           {
            "marker": {
             "colorbar": {
              "outlinewidth": 0,
              "ticks": ""
             }
            },
            "type": "scatterpolar"
           }
          ],
          "scatterpolargl": [
           {
            "marker": {
             "colorbar": {
              "outlinewidth": 0,
              "ticks": ""
             }
            },
            "type": "scatterpolargl"
           }
          ],
          "scatterternary": [
           {
            "marker": {
             "colorbar": {
              "outlinewidth": 0,
              "ticks": ""
             }
            },
            "type": "scatterternary"
           }
          ],
          "surface": [
           {
            "colorbar": {
             "outlinewidth": 0,
             "ticks": ""
            },
            "colorscale": [
             [
              0,
              "#0d0887"
             ],
             [
              0.1111111111111111,
              "#46039f"
             ],
             [
              0.2222222222222222,
              "#7201a8"
             ],
             [
              0.3333333333333333,
              "#9c179e"
             ],
             [
              0.4444444444444444,
              "#bd3786"
             ],
             [
              0.5555555555555556,
              "#d8576b"
             ],
             [
              0.6666666666666666,
              "#ed7953"
             ],
             [
              0.7777777777777778,
              "#fb9f3a"
             ],
             [
              0.8888888888888888,
              "#fdca26"
             ],
             [
              1,
              "#f0f921"
             ]
            ],
            "type": "surface"
           }
          ],
          "table": [
           {
            "cells": {
             "fill": {
              "color": "#EBF0F8"
             },
             "line": {
              "color": "white"
             }
            },
            "header": {
             "fill": {
              "color": "#C8D4E3"
             },
             "line": {
              "color": "white"
             }
            },
            "type": "table"
           }
          ]
         },
         "layout": {
          "annotationdefaults": {
           "arrowcolor": "#2a3f5f",
           "arrowhead": 0,
           "arrowwidth": 1
          },
          "autotypenumbers": "strict",
          "coloraxis": {
           "colorbar": {
            "outlinewidth": 0,
            "ticks": ""
           }
          },
          "colorscale": {
           "diverging": [
            [
             0,
             "#8e0152"
            ],
            [
             0.1,
             "#c51b7d"
            ],
            [
             0.2,
             "#de77ae"
            ],
            [
             0.3,
             "#f1b6da"
            ],
            [
             0.4,
             "#fde0ef"
            ],
            [
             0.5,
             "#f7f7f7"
            ],
            [
             0.6,
             "#e6f5d0"
            ],
            [
             0.7,
             "#b8e186"
            ],
            [
             0.8,
             "#7fbc41"
            ],
            [
             0.9,
             "#4d9221"
            ],
            [
             1,
             "#276419"
            ]
           ],
           "sequential": [
            [
             0,
             "#0d0887"
            ],
            [
             0.1111111111111111,
             "#46039f"
            ],
            [
             0.2222222222222222,
             "#7201a8"
            ],
            [
             0.3333333333333333,
             "#9c179e"
            ],
            [
             0.4444444444444444,
             "#bd3786"
            ],
            [
             0.5555555555555556,
             "#d8576b"
            ],
            [
             0.6666666666666666,
             "#ed7953"
            ],
            [
             0.7777777777777778,
             "#fb9f3a"
            ],
            [
             0.8888888888888888,
             "#fdca26"
            ],
            [
             1,
             "#f0f921"
            ]
           ],
           "sequentialminus": [
            [
             0,
             "#0d0887"
            ],
            [
             0.1111111111111111,
             "#46039f"
            ],
            [
             0.2222222222222222,
             "#7201a8"
            ],
            [
             0.3333333333333333,
             "#9c179e"
            ],
            [
             0.4444444444444444,
             "#bd3786"
            ],
            [
             0.5555555555555556,
             "#d8576b"
            ],
            [
             0.6666666666666666,
             "#ed7953"
            ],
            [
             0.7777777777777778,
             "#fb9f3a"
            ],
            [
             0.8888888888888888,
             "#fdca26"
            ],
            [
             1,
             "#f0f921"
            ]
           ]
          },
          "colorway": [
           "#636efa",
           "#EF553B",
           "#00cc96",
           "#ab63fa",
           "#FFA15A",
           "#19d3f3",
           "#FF6692",
           "#B6E880",
           "#FF97FF",
           "#FECB52"
          ],
          "font": {
           "color": "#2a3f5f"
          },
          "geo": {
           "bgcolor": "white",
           "lakecolor": "white",
           "landcolor": "#E5ECF6",
           "showlakes": true,
           "showland": true,
           "subunitcolor": "white"
          },
          "hoverlabel": {
           "align": "left"
          },
          "hovermode": "closest",
          "mapbox": {
           "style": "light"
          },
          "paper_bgcolor": "white",
          "plot_bgcolor": "#E5ECF6",
          "polar": {
           "angularaxis": {
            "gridcolor": "white",
            "linecolor": "white",
            "ticks": ""
           },
           "bgcolor": "#E5ECF6",
           "radialaxis": {
            "gridcolor": "white",
            "linecolor": "white",
            "ticks": ""
           }
          },
          "scene": {
           "xaxis": {
            "backgroundcolor": "#E5ECF6",
            "gridcolor": "white",
            "gridwidth": 2,
            "linecolor": "white",
            "showbackground": true,
            "ticks": "",
            "zerolinecolor": "white"
           },
           "yaxis": {
            "backgroundcolor": "#E5ECF6",
            "gridcolor": "white",
            "gridwidth": 2,
            "linecolor": "white",
            "showbackground": true,
            "ticks": "",
            "zerolinecolor": "white"
           },
           "zaxis": {
            "backgroundcolor": "#E5ECF6",
            "gridcolor": "white",
            "gridwidth": 2,
            "linecolor": "white",
            "showbackground": true,
            "ticks": "",
            "zerolinecolor": "white"
           }
          },
          "shapedefaults": {
           "line": {
            "color": "#2a3f5f"
           }
          },
          "ternary": {
           "aaxis": {
            "gridcolor": "white",
            "linecolor": "white",
            "ticks": ""
           },
           "baxis": {
            "gridcolor": "white",
            "linecolor": "white",
            "ticks": ""
           },
           "bgcolor": "#E5ECF6",
           "caxis": {
            "gridcolor": "white",
            "linecolor": "white",
            "ticks": ""
           }
          },
          "title": {
           "x": 0.05
          },
          "xaxis": {
           "automargin": true,
           "gridcolor": "white",
           "linecolor": "white",
           "ticks": "",
           "title": {
            "standoff": 15
           },
           "zerolinecolor": "white",
           "zerolinewidth": 2
          },
          "yaxis": {
           "automargin": true,
           "gridcolor": "white",
           "linecolor": "white",
           "ticks": "",
           "title": {
            "standoff": 15
           },
           "zerolinecolor": "white",
           "zerolinewidth": 2
          }
         }
        },
        "title": {
         "text": "ENGAGE 2C scenarios <br><sup>Global CO2 reductions by 2030</sup>",
         "x": 0,
         "xref": "paper"
        },
        "width": 600,
        "xaxis": {
         "anchor": "y",
         "domain": [
          0,
          1
         ],
         "title": {
          "text": "Scenario Narrative"
         }
        },
        "yaxis": {
         "anchor": "x",
         "domain": [
          0,
          1
         ],
         "tickformat": ".0%",
         "title": {
          "text": "CO2 reductions"
         }
        }
       }
      }
     },
     "metadata": {},
     "output_type": "display_data"
    }
   ],
   "source": [
    "fig = go.Figure(px.strip(\n",
    "    to_plot_df[(to_plot_df['year'] == 2030)],\n",
    "    x='scenario_narrative',\n",
    "    y='2030_CO2_redu',\n",
    "    color='model',\n",
    "    stripmode='overlay'))\n",
    "\n",
    "\n",
    "fig.add_trace(go.Box(\n",
    "    y = to_plot_df[(to_plot_df['year'] == 2030) & (to_plot_df[\"scenario_narrative\"] == \"Instit\")][\"2030_CO2_redu\"],\n",
    "    name = \"Instit\",\n",
    "    marker_color='grey',\n",
    "    opacity=0.5,\n",
    "    boxpoints=False,\n",
    "    showlegend=False\n",
    "))\n",
    "\n",
    "fig.add_trace(go.Box(\n",
    "    y = to_plot_df[(to_plot_df['year'] == 2030) & (to_plot_df[\"scenario_narrative\"] == \"Cost Effective\")][\"2030_CO2_redu\"],\n",
    "    name = \"Cost Effective\",\n",
    "    marker_color='grey',\n",
    "    opacity=0.3,\n",
    "    boxpoints=False,\n",
    "    showlegend=False\n",
    "))\n",
    "\n",
    "fig.update_traces({'marker':{'size': 8}})\n",
    "\n",
    "fig.update_layout(autosize=False,\n",
    "                  width=600,\n",
    "                  height=600,\n",
    "                  title = go.layout.Title(\n",
    "                    text=\"ENGAGE 2C scenarios <br><sup>Global CO2 reductions by 2030</sup>\",\n",
    "                    xref=\"paper\",\n",
    "                    x=0),\n",
    "                  xaxis_title=\"Scenario Narrative\",\n",
    "                  yaxis_title = \"CO2 reductions\",\n",
    "                  yaxis_tickformat='.0%')\n",
    "    \n",
    "fig"
   ]
  },
  {
   "cell_type": "code",
   "execution_count": 244,
   "metadata": {},
   "outputs": [
    {
     "data": {
      "text/html": [
       "<div>\n",
       "<style scoped>\n",
       "    .dataframe tbody tr th:only-of-type {\n",
       "        vertical-align: middle;\n",
       "    }\n",
       "\n",
       "    .dataframe tbody tr th {\n",
       "        vertical-align: top;\n",
       "    }\n",
       "\n",
       "    .dataframe thead th {\n",
       "        text-align: right;\n",
       "    }\n",
       "</style>\n",
       "<table border=\"1\" class=\"dataframe\">\n",
       "  <thead>\n",
       "    <tr style=\"text-align: right;\">\n",
       "      <th></th>\n",
       "      <th>count</th>\n",
       "      <th>mean</th>\n",
       "      <th>std</th>\n",
       "      <th>min</th>\n",
       "      <th>25%</th>\n",
       "      <th>50%</th>\n",
       "      <th>75%</th>\n",
       "      <th>max</th>\n",
       "    </tr>\n",
       "    <tr>\n",
       "      <th>region</th>\n",
       "      <th></th>\n",
       "      <th></th>\n",
       "      <th></th>\n",
       "      <th></th>\n",
       "      <th></th>\n",
       "      <th></th>\n",
       "      <th></th>\n",
       "      <th></th>\n",
       "    </tr>\n",
       "  </thead>\n",
       "  <tbody>\n",
       "    <tr>\n",
       "      <th>China</th>\n",
       "      <td>38.0</td>\n",
       "      <td>56.041418</td>\n",
       "      <td>14.467059</td>\n",
       "      <td>29.806632</td>\n",
       "      <td>48.286704</td>\n",
       "      <td>55.565989</td>\n",
       "      <td>64.209920</td>\n",
       "      <td>90.436352</td>\n",
       "    </tr>\n",
       "    <tr>\n",
       "      <th>OECD</th>\n",
       "      <td>38.0</td>\n",
       "      <td>6.890333</td>\n",
       "      <td>5.469974</td>\n",
       "      <td>1.100528</td>\n",
       "      <td>4.269227</td>\n",
       "      <td>6.438132</td>\n",
       "      <td>7.418936</td>\n",
       "      <td>27.848388</td>\n",
       "    </tr>\n",
       "    <tr>\n",
       "      <th>RoW</th>\n",
       "      <td>38.0</td>\n",
       "      <td>19.756672</td>\n",
       "      <td>5.740694</td>\n",
       "      <td>7.199248</td>\n",
       "      <td>16.353840</td>\n",
       "      <td>19.543754</td>\n",
       "      <td>22.371599</td>\n",
       "      <td>34.500193</td>\n",
       "    </tr>\n",
       "    <tr>\n",
       "      <th>World</th>\n",
       "      <td>38.0</td>\n",
       "      <td>98.085310</td>\n",
       "      <td>20.969411</td>\n",
       "      <td>49.714967</td>\n",
       "      <td>90.012625</td>\n",
       "      <td>98.770211</td>\n",
       "      <td>108.848852</td>\n",
       "      <td>145.496906</td>\n",
       "    </tr>\n",
       "  </tbody>\n",
       "</table>\n",
       "</div>"
      ],
      "text/plain": [
       "        count       mean        std        min        25%        50%   \n",
       "region                                                                 \n",
       "China    38.0  56.041418  14.467059  29.806632  48.286704  55.565989  \\\n",
       "OECD     38.0   6.890333   5.469974   1.100528   4.269227   6.438132   \n",
       "RoW      38.0  19.756672   5.740694   7.199248  16.353840  19.543754   \n",
       "World    38.0  98.085310  20.969411  49.714967  90.012625  98.770211   \n",
       "\n",
       "               75%         max  \n",
       "region                          \n",
       "China    64.209920   90.436352  \n",
       "OECD      7.418936   27.848388  \n",
       "RoW      22.371599   34.500193  \n",
       "World   108.848852  145.496906  "
      ]
     },
     "execution_count": 244,
     "metadata": {},
     "output_type": "execute_result"
    }
   ],
   "source": [
    "#Feasibility constraints\n",
    "\n",
    "#Coal reduction\n",
    "#get media coal consumption in 2020\n",
    "df[(df[\"year\"] == 2030)].groupby([\"region\"])[\"Primary Energy|Coal\"].describe()"
   ]
  },
  {
   "cell_type": "code",
   "execution_count": 41,
   "metadata": {},
   "outputs": [
    {
     "data": {
      "application/vnd.plotly.v1+json": {
       "config": {
        "plotlyServerURL": "https://plot.ly"
       },
       "data": [
        {
         "customdata": [
          [
           "T34_1000_bitb_em",
           "WITCH 5.0"
          ],
          [
           "T34_1000_bitb_em",
           "WITCH 5.0"
          ],
          [
           "T34_1000_bitb_em",
           "WITCH 5.0"
          ],
          [
           "T34_1000_bitb_em",
           "WITCH 5.0"
          ],
          [
           "T34_1000_bitb_em",
           "WITCH 5.0"
          ],
          [
           "T34_1000_bitb_em",
           "WITCH 5.0"
          ],
          [
           "T34_1000_bitb_em",
           "WITCH 5.0"
          ],
          [
           "T34_1000_bitb_em",
           "WITCH 5.0"
          ],
          [
           "T34_1000_bitb_em",
           "WITCH 5.0"
          ],
          [
           "T34_1000_bitb_em",
           "WITCH 5.0"
          ],
          [
           "T34_1000_bitb_em",
           "WITCH 5.0"
          ],
          [
           "T34_1000_bitb_em",
           "WITCH 5.0"
          ],
          [
           "T34_1000_bitb_em",
           "WITCH 5.0"
          ],
          [
           "T34_1000_bitb_em",
           "WITCH 5.0"
          ],
          [
           "T34_1000_bitb_em",
           "WITCH 5.0"
          ],
          [
           "T34_1000_bitb_em",
           "WITCH 5.0"
          ],
          [
           "T34_1000_bitb_em",
           "WITCH 5.0"
          ],
          [
           "T34_1000_bitb_em",
           "WITCH 5.0"
          ],
          [
           "T34_1000_bitb_em",
           "WITCH 5.0"
          ],
          [
           "T34_1000_bitb_em",
           "WITCH 5.0"
          ],
          [
           "T34_1000_bitb_em",
           "REMIND 3.0"
          ],
          [
           "T34_1000_bitb_em",
           "REMIND 3.0"
          ],
          [
           "T34_1000_bitb_em",
           "REMIND 3.0"
          ],
          [
           "T34_1000_bitb_em",
           "REMIND 3.0"
          ],
          [
           "T34_1000_bitb_em",
           "REMIND 3.0"
          ],
          [
           "T34_1000_bitb_em",
           "REMIND 3.0"
          ],
          [
           "T34_1000_bitb_em",
           "REMIND 3.0"
          ],
          [
           "T34_1000_bitb_em",
           "REMIND 3.0"
          ],
          [
           "T34_1000_bitb_em",
           "REMIND 3.0"
          ],
          [
           "T34_1000_bitb_em",
           "REMIND 3.0"
          ],
          [
           "T34_1000_bitb_em",
           "REMIND 3.0"
          ],
          [
           "T34_1000_bitb_em",
           "REMIND 3.0"
          ],
          [
           "T34_1000_bitb_em",
           "REMIND 3.0"
          ],
          [
           "T34_1000_bitb_em",
           "REMIND 3.0"
          ],
          [
           "T34_1000_bitb_em",
           "REMIND 3.0"
          ],
          [
           "T34_1000_bitb_em",
           "REMIND 3.0"
          ],
          [
           "T34_1000_bitb_em",
           "POLES ENGAGE"
          ],
          [
           "T34_1000_bitb_em",
           "POLES ENGAGE"
          ],
          [
           "T34_1000_bitb_em",
           "POLES ENGAGE"
          ],
          [
           "T34_1000_bitb_em",
           "POLES ENGAGE"
          ],
          [
           "T34_1000_bitb_em",
           "POLES ENGAGE"
          ],
          [
           "T34_1000_bitb_em",
           "POLES ENGAGE"
          ],
          [
           "T34_1000_bitb_em",
           "POLES ENGAGE"
          ],
          [
           "T34_1000_bitb_em",
           "POLES ENGAGE"
          ],
          [
           "T34_1000_bitb_em",
           "POLES ENGAGE"
          ],
          [
           "T34_1000_bitb_em",
           "POLES ENGAGE"
          ],
          [
           "T34_1000_bitb_em",
           "POLES ENGAGE"
          ],
          [
           "T34_1000_bitb_em",
           "POLES ENGAGE"
          ],
          [
           "T34_1000_bitb_em",
           "POLES ENGAGE"
          ],
          [
           "T34_1000_bitb_em",
           "POLES ENGAGE"
          ],
          [
           "T34_1000_bitb_em",
           "POLES ENGAGE"
          ],
          [
           "T34_1000_bitb_em",
           "MESSAGEix-GLOBIOM_1.1"
          ],
          [
           "T34_1000_bitb_em",
           "MESSAGEix-GLOBIOM_1.1"
          ],
          [
           "T34_1000_bitb_em",
           "MESSAGEix-GLOBIOM_1.1"
          ],
          [
           "T34_1000_bitb_em",
           "MESSAGEix-GLOBIOM_1.1"
          ],
          [
           "T34_1000_bitb_em",
           "MESSAGEix-GLOBIOM_1.1"
          ],
          [
           "T34_1000_bitb_em",
           "MESSAGEix-GLOBIOM_1.1"
          ],
          [
           "T34_1000_bitb_em",
           "MESSAGEix-GLOBIOM_1.1"
          ],
          [
           "T34_1000_bitb_em",
           "MESSAGEix-GLOBIOM_1.1"
          ],
          [
           "T34_1000_bitb_em",
           "MESSAGEix-GLOBIOM_1.1"
          ],
          [
           "T34_1000_bitb_em",
           "MESSAGEix-GLOBIOM_1.1"
          ],
          [
           "T34_1000_bitb_em",
           "MESSAGEix-GLOBIOM_1.1"
          ],
          [
           "T34_1000_bitb_em",
           "MESSAGEix-GLOBIOM_1.1"
          ],
          [
           "T34_1000_bitb_em",
           "MESSAGEix-GLOBIOM_1.1"
          ],
          [
           "T34_1000_bitb_em",
           "MESSAGEix-GLOBIOM_1.1"
          ],
          [
           "T34_1000_bitb_em",
           "MESSAGEix-GLOBIOM_1.1"
          ],
          [
           "T34_1000_bitb_em",
           "MESSAGEix-GLOBIOM_1.1"
          ],
          [
           "T34_1000_bitb_em",
           "MESSAGEix-GLOBIOM_1.1"
          ],
          [
           "T34_1000_bitb_em",
           "MESSAGEix-GLOBIOM_1.1"
          ],
          [
           "T34_1000_bitb_em",
           "MESSAGEix-GLOBIOM_1.1"
          ],
          [
           "T34_1000_bitb_em",
           "MESSAGEix-GLOBIOM_1.1"
          ],
          [
           "T34_1000_bitb_em",
           "IMAGE 3.2"
          ],
          [
           "T34_1000_bitb_em",
           "IMAGE 3.2"
          ],
          [
           "T34_1000_bitb_em",
           "IMAGE 3.2"
          ],
          [
           "T34_1000_bitb_em",
           "IMAGE 3.2"
          ],
          [
           "T34_1000_bitb_em",
           "IMAGE 3.2"
          ],
          [
           "T34_1000_bitb_em",
           "IMAGE 3.2"
          ],
          [
           "T34_1000_bitb_em",
           "IMAGE 3.2"
          ],
          [
           "T34_1000_bitb_em",
           "IMAGE 3.2"
          ],
          [
           "T34_1000_bitb_em",
           "IMAGE 3.2"
          ],
          [
           "T34_1000_bitb_em",
           "IMAGE 3.2"
          ],
          [
           "T34_1000_bitb_em",
           "IMAGE 3.2"
          ],
          [
           "T34_1000_bitb_em",
           "IMAGE 3.2"
          ],
          [
           "T34_1000_bitb_em",
           "IMAGE 3.2"
          ],
          [
           "T34_1000_bitb_em",
           "IMAGE 3.2"
          ],
          [
           "T34_1000_bitb_em",
           "IMAGE 3.2"
          ],
          [
           "T34_1000_bitb_em",
           "IMAGE 3.2"
          ],
          [
           "T34_1000_bitb_em",
           "IMAGE 3.2"
          ],
          [
           "T34_1000_bitb_em",
           "IMAGE 3.2"
          ],
          [
           "T34_1000_bitb_em",
           "IMAGE 3.2"
          ],
          [
           "T34_1000_bitb_em",
           "IMAGE 3.2"
          ],
          [
           "T34_1000_bitb_em",
           "GEM-E3_V2023"
          ],
          [
           "T34_1000_bitb_em",
           "GEM-E3_V2023"
          ],
          [
           "T34_1000_bitb_em",
           "GEM-E3_V2023"
          ],
          [
           "T34_1000_bitb_em",
           "GEM-E3_V2023"
          ],
          [
           "T34_1000_bitb_em",
           "GEM-E3_V2023"
          ],
          [
           "T34_1000_bitb_em",
           "GEM-E3_V2023"
          ],
          [
           "T34_1000_bitb_em",
           "GEM-E3_V2023"
          ],
          [
           "T34_1000_bitb_em",
           "GEM-E3_V2023"
          ],
          [
           "T34_1000_bitb_em",
           "GEM-E3_V2023"
          ],
          [
           "T34_1000_bitb_em",
           "GEM-E3_V2023"
          ],
          [
           "T34_1000_bitb_em",
           "GEM-E3_V2023"
          ],
          [
           "T34_1000_bitb_em",
           "GEM-E3_V2023"
          ],
          [
           "T34_1000_bitb_em",
           "GEM-E3_V2023"
          ],
          [
           "T34_1000_bitb_em",
           "GEM-E3_V2023"
          ],
          [
           "T34_1000_bitb_em",
           "GEM-E3_V2023"
          ],
          [
           "T34_1000_bitb_em",
           "GEM-E3_V2023"
          ],
          [
           "T34_1000_bitb_em",
           "GEM-E3_V2023"
          ],
          [
           "T34_1000_bitb_em",
           "GEM-E3_V2023"
          ],
          [
           "T34_1000_bitb_em",
           "AIM/CGE V2.2"
          ],
          [
           "T34_1000_bitb_em",
           "AIM/CGE V2.2"
          ],
          [
           "T34_1000_bitb_em",
           "AIM/CGE V2.2"
          ],
          [
           "T34_1000_bitb_em",
           "AIM/CGE V2.2"
          ],
          [
           "T34_1000_bitb_em",
           "AIM/CGE V2.2"
          ],
          [
           "T34_1000_bitb_em",
           "AIM/CGE V2.2"
          ],
          [
           "T34_1000_bitb_em",
           "AIM/CGE V2.2"
          ],
          [
           "T34_1000_bitb_em",
           "AIM/CGE V2.2"
          ],
          [
           "T34_1000_bitb_em",
           "AIM/CGE V2.2"
          ],
          [
           "T34_1000_bitb_em",
           "AIM/CGE V2.2"
          ],
          [
           "T34_1000_bitb_em",
           "AIM/CGE V2.2"
          ],
          [
           "T34_1000_bitb_em",
           "AIM/CGE V2.2"
          ],
          [
           "T34_1000_bitb_em",
           "AIM/CGE V2.2"
          ],
          [
           "T34_1000_bitb_em",
           "AIM/CGE V2.2"
          ],
          [
           "T34_1000_bitb_em",
           "AIM/CGE V2.2"
          ],
          [
           "T34_1000_bitb_em",
           "AIM/CGE V2.2"
          ],
          [
           "T34_1000_bitb_em",
           "AIM/CGE V2.2"
          ],
          [
           "T34_1000_bitb_em",
           "AIM/CGE V2.2"
          ],
          [
           "T34_1000_bitb_em",
           "AIM/CGE V2.2"
          ]
         ],
         "hovertemplate": "region=China<br>scenario_narrative=Tech+Inst<br>year=%{x}<br>Emissions|CO2=%{y}<br>scenario=%{customdata[0]}<br>model=%{customdata[1]}<extra></extra>",
         "legendgroup": "China",
         "line": {
          "color": "#636efa",
          "dash": "solid"
         },
         "marker": {
          "symbol": "circle"
         },
         "mode": "lines",
         "name": "China",
         "showlegend": true,
         "type": "scattergl",
         "x": [
          2100,
          2095,
          2090,
          2085,
          2080,
          2075,
          2070,
          2065,
          2060,
          2055,
          2050,
          2045,
          2040,
          2035,
          2030,
          2025,
          2020,
          2015,
          2010,
          2005,
          2100,
          2090,
          2080,
          2070,
          2060,
          2055,
          2050,
          2045,
          2040,
          2035,
          2030,
          2025,
          2020,
          2015,
          2010,
          2005,
          2100,
          2090,
          2080,
          2070,
          2060,
          2050,
          2045,
          2040,
          2035,
          2030,
          2025,
          2020,
          2015,
          2010,
          2005,
          2110,
          2100,
          2090,
          2080,
          2070,
          2060,
          2055,
          2050,
          2045,
          2040,
          2035,
          2030,
          2025,
          2020,
          2015,
          2010,
          2005,
          2000,
          1995,
          1990,
          2100,
          2095,
          2090,
          2085,
          2080,
          2075,
          2070,
          2065,
          2060,
          2055,
          2050,
          2045,
          2040,
          2035,
          2030,
          2025,
          2020,
          2015,
          2010,
          2005,
          2100,
          2095,
          2090,
          2085,
          2080,
          2075,
          2070,
          2065,
          2060,
          2055,
          2050,
          2045,
          2040,
          2035,
          2030,
          2025,
          2020,
          2015,
          2100,
          2095,
          2090,
          2085,
          2080,
          2075,
          2070,
          2065,
          2060,
          2055,
          2050,
          2045,
          2040,
          2035,
          2030,
          2025,
          2020,
          2015,
          2010
         ],
         "xaxis": "x4",
         "y": [
          1458.37929113455,
          1560.06041999499,
          1624.01838095063,
          1481.55211765262,
          757.822125605517,
          869.550100768293,
          1021.78392732057,
          1199.25997246846,
          1424.72652269692,
          1970.39562331265,
          3335.18520974239,
          4477.31805870933,
          5324.8184825153,
          6867.98222089272,
          8992.36339636978,
          10467.8094111636,
          10517.7786672793,
          10001.0773740209,
          8663.07917221972,
          5978.27228072794,
          -222.7280019,
          -684.5044197,
          -763.0826873,
          -540.8019654,
          -45.1434781,
          238.451248,
          790.603056,
          1556.6944368,
          2927.4041411,
          4510.2993232,
          7953.6443339,
          12414.6146332,
          12485.754226,
          11520.7349521,
          9530.0925114,
          7275.8779516,
          -1242.3037109375,
          -1007.5328979492188,
          -1428.6094970703125,
          -1420.55224609375,
          134.28089904785156,
          1665.2347412109375,
          3586.65087890625,
          5891.2861328125,
          7739.95947265625,
          9768.3837890625,
          11627.4921875,
          12279.3984375,
          10758.4365234375,
          9310.8505859375,
          6354.8251953125,
          -606.4237294167117,
          -499.139083216948,
          -505.3125473499361,
          -573.0073941604487,
          -593.1810148094054,
          68.29999968547577,
          555.295216341895,
          1650.751694337332,
          2830.377906631296,
          5812.834656425212,
          7504.337339224998,
          9688.057746135692,
          11186.80558099937,
          11457.31940031934,
          10783.74569928228,
          8316.262167546873,
          5965.917456450522,
          3657.060540755208,
          3154.404718001302,
          2661.779636621094,
          -76.45660337507397,
          -154.73770015851693,
          -65.19124476707556,
          18.88146639041889,
          353.62419640259037,
          473.464543703524,
          748.4011536324896,
          833.1557821395435,
          1111.4792583204446,
          1203.8058981400359,
          1975.9161785650454,
          2811.67806015144,
          4108.448527391724,
          5607.678792827497,
          8217.054606866797,
          10435.370036755961,
          12373.731527817592,
          10755.070069337109,
          9131.609538590563,
          6377.040975514627,
          250.02389794538914,
          94.75665212555543,
          6.341238212160249,
          -54.32707379089021,
          -336.323086216965,
          -676.7354748439906,
          -712.1996419005878,
          -461.6857805348771,
          -250.77035312288308,
          31.378628368648492,
          741.7514039333252,
          2481.7245753932093,
          4279.323734269941,
          6025.882140821097,
          7660.769080637464,
          9618.386968398629,
          10026.387085356802,
          9897.620690668353,
          -134.2874,
          -149.1402,
          -153.8872,
          -147.6395,
          -126.9477,
          -111.8757,
          -101.4133,
          -85.8077,
          -46.5592,
          398.1275,
          122.1459,
          2148.2135,
          4753.8611,
          7477.6228,
          9801.1577,
          11054.0689,
          11958.4702,
          10778.5587,
          8860.3168
         ],
         "yaxis": "y4"
        },
        {
         "customdata": [
          [
           "T34_1000_bitb_ref",
           "WITCH 5.0"
          ],
          [
           "T34_1000_bitb_ref",
           "WITCH 5.0"
          ],
          [
           "T34_1000_bitb_ref",
           "WITCH 5.0"
          ],
          [
           "T34_1000_bitb_ref",
           "WITCH 5.0"
          ],
          [
           "T34_1000_bitb_ref",
           "WITCH 5.0"
          ],
          [
           "T34_1000_bitb_ref",
           "WITCH 5.0"
          ],
          [
           "T34_1000_bitb_ref",
           "WITCH 5.0"
          ],
          [
           "T34_1000_bitb_ref",
           "WITCH 5.0"
          ],
          [
           "T34_1000_bitb_ref",
           "WITCH 5.0"
          ],
          [
           "T34_1000_bitb_ref",
           "WITCH 5.0"
          ],
          [
           "T34_1000_bitb_ref",
           "WITCH 5.0"
          ],
          [
           "T34_1000_bitb_ref",
           "WITCH 5.0"
          ],
          [
           "T34_1000_bitb_ref",
           "WITCH 5.0"
          ],
          [
           "T34_1000_bitb_ref",
           "WITCH 5.0"
          ],
          [
           "T34_1000_bitb_ref",
           "WITCH 5.0"
          ],
          [
           "T34_1000_bitb_ref",
           "WITCH 5.0"
          ],
          [
           "T34_1000_bitb_ref",
           "WITCH 5.0"
          ],
          [
           "T34_1000_bitb_ref",
           "WITCH 5.0"
          ],
          [
           "T34_1000_bitb_ref",
           "WITCH 5.0"
          ],
          [
           "T34_1000_bitb_ref",
           "WITCH 5.0"
          ],
          [
           "T34_1000_bitb_ref",
           "REMIND 3.0"
          ],
          [
           "T34_1000_bitb_ref",
           "REMIND 3.0"
          ],
          [
           "T34_1000_bitb_ref",
           "REMIND 3.0"
          ],
          [
           "T34_1000_bitb_ref",
           "REMIND 3.0"
          ],
          [
           "T34_1000_bitb_ref",
           "REMIND 3.0"
          ],
          [
           "T34_1000_bitb_ref",
           "REMIND 3.0"
          ],
          [
           "T34_1000_bitb_ref",
           "REMIND 3.0"
          ],
          [
           "T34_1000_bitb_ref",
           "REMIND 3.0"
          ],
          [
           "T34_1000_bitb_ref",
           "REMIND 3.0"
          ],
          [
           "T34_1000_bitb_ref",
           "REMIND 3.0"
          ],
          [
           "T34_1000_bitb_ref",
           "REMIND 3.0"
          ],
          [
           "T34_1000_bitb_ref",
           "REMIND 3.0"
          ],
          [
           "T34_1000_bitb_ref",
           "REMIND 3.0"
          ],
          [
           "T34_1000_bitb_ref",
           "REMIND 3.0"
          ],
          [
           "T34_1000_bitb_ref",
           "REMIND 3.0"
          ],
          [
           "T34_1000_bitb_ref",
           "REMIND 3.0"
          ],
          [
           "T34_1000_bitb_ref",
           "POLES ENGAGE"
          ],
          [
           "T34_1000_bitb_ref",
           "POLES ENGAGE"
          ],
          [
           "T34_1000_bitb_ref",
           "POLES ENGAGE"
          ],
          [
           "T34_1000_bitb_ref",
           "POLES ENGAGE"
          ],
          [
           "T34_1000_bitb_ref",
           "POLES ENGAGE"
          ],
          [
           "T34_1000_bitb_ref",
           "POLES ENGAGE"
          ],
          [
           "T34_1000_bitb_ref",
           "POLES ENGAGE"
          ],
          [
           "T34_1000_bitb_ref",
           "POLES ENGAGE"
          ],
          [
           "T34_1000_bitb_ref",
           "POLES ENGAGE"
          ],
          [
           "T34_1000_bitb_ref",
           "POLES ENGAGE"
          ],
          [
           "T34_1000_bitb_ref",
           "POLES ENGAGE"
          ],
          [
           "T34_1000_bitb_ref",
           "POLES ENGAGE"
          ],
          [
           "T34_1000_bitb_ref",
           "POLES ENGAGE"
          ],
          [
           "T34_1000_bitb_ref",
           "POLES ENGAGE"
          ],
          [
           "T34_1000_bitb_ref",
           "POLES ENGAGE"
          ],
          [
           "T34_1000_bitb_ref",
           "MESSAGEix-GLOBIOM_1.1"
          ],
          [
           "T34_1000_bitb_ref",
           "MESSAGEix-GLOBIOM_1.1"
          ],
          [
           "T34_1000_bitb_ref",
           "MESSAGEix-GLOBIOM_1.1"
          ],
          [
           "T34_1000_bitb_ref",
           "MESSAGEix-GLOBIOM_1.1"
          ],
          [
           "T34_1000_bitb_ref",
           "MESSAGEix-GLOBIOM_1.1"
          ],
          [
           "T34_1000_bitb_ref",
           "MESSAGEix-GLOBIOM_1.1"
          ],
          [
           "T34_1000_bitb_ref",
           "MESSAGEix-GLOBIOM_1.1"
          ],
          [
           "T34_1000_bitb_ref",
           "MESSAGEix-GLOBIOM_1.1"
          ],
          [
           "T34_1000_bitb_ref",
           "MESSAGEix-GLOBIOM_1.1"
          ],
          [
           "T34_1000_bitb_ref",
           "MESSAGEix-GLOBIOM_1.1"
          ],
          [
           "T34_1000_bitb_ref",
           "MESSAGEix-GLOBIOM_1.1"
          ],
          [
           "T34_1000_bitb_ref",
           "MESSAGEix-GLOBIOM_1.1"
          ],
          [
           "T34_1000_bitb_ref",
           "MESSAGEix-GLOBIOM_1.1"
          ],
          [
           "T34_1000_bitb_ref",
           "MESSAGEix-GLOBIOM_1.1"
          ],
          [
           "T34_1000_bitb_ref",
           "MESSAGEix-GLOBIOM_1.1"
          ],
          [
           "T34_1000_bitb_ref",
           "MESSAGEix-GLOBIOM_1.1"
          ],
          [
           "T34_1000_bitb_ref",
           "MESSAGEix-GLOBIOM_1.1"
          ],
          [
           "T34_1000_bitb_ref",
           "MESSAGEix-GLOBIOM_1.1"
          ],
          [
           "T34_1000_bitb_ref",
           "MESSAGEix-GLOBIOM_1.1"
          ],
          [
           "T34_1000_bitb_ref",
           "MESSAGEix-GLOBIOM_1.1"
          ],
          [
           "T34_1000_bitb_ref",
           "IMAGE 3.2"
          ],
          [
           "T34_1000_bitb_ref",
           "IMAGE 3.2"
          ],
          [
           "T34_1000_bitb_ref",
           "IMAGE 3.2"
          ],
          [
           "T34_1000_bitb_ref",
           "IMAGE 3.2"
          ],
          [
           "T34_1000_bitb_ref",
           "IMAGE 3.2"
          ],
          [
           "T34_1000_bitb_ref",
           "IMAGE 3.2"
          ],
          [
           "T34_1000_bitb_ref",
           "IMAGE 3.2"
          ],
          [
           "T34_1000_bitb_ref",
           "IMAGE 3.2"
          ],
          [
           "T34_1000_bitb_ref",
           "IMAGE 3.2"
          ],
          [
           "T34_1000_bitb_ref",
           "IMAGE 3.2"
          ],
          [
           "T34_1000_bitb_ref",
           "IMAGE 3.2"
          ],
          [
           "T34_1000_bitb_ref",
           "IMAGE 3.2"
          ],
          [
           "T34_1000_bitb_ref",
           "IMAGE 3.2"
          ],
          [
           "T34_1000_bitb_ref",
           "IMAGE 3.2"
          ],
          [
           "T34_1000_bitb_ref",
           "IMAGE 3.2"
          ],
          [
           "T34_1000_bitb_ref",
           "IMAGE 3.2"
          ],
          [
           "T34_1000_bitb_ref",
           "IMAGE 3.2"
          ],
          [
           "T34_1000_bitb_ref",
           "IMAGE 3.2"
          ],
          [
           "T34_1000_bitb_ref",
           "IMAGE 3.2"
          ],
          [
           "T34_1000_bitb_ref",
           "IMAGE 3.2"
          ],
          [
           "T34_1000_bitb_ref",
           "COFFEE 1.5"
          ],
          [
           "T34_1000_bitb_ref",
           "COFFEE 1.5"
          ],
          [
           "T34_1000_bitb_ref",
           "COFFEE 1.5"
          ],
          [
           "T34_1000_bitb_ref",
           "COFFEE 1.5"
          ],
          [
           "T34_1000_bitb_ref",
           "COFFEE 1.5"
          ],
          [
           "T34_1000_bitb_ref",
           "COFFEE 1.5"
          ],
          [
           "T34_1000_bitb_ref",
           "COFFEE 1.5"
          ],
          [
           "T34_1000_bitb_ref",
           "COFFEE 1.5"
          ],
          [
           "T34_1000_bitb_ref",
           "COFFEE 1.5"
          ],
          [
           "T34_1000_bitb_ref",
           "COFFEE 1.5"
          ],
          [
           "T34_1000_bitb_ref",
           "COFFEE 1.5"
          ],
          [
           "T34_1000_bitb_ref",
           "COFFEE 1.5"
          ],
          [
           "T34_1000_bitb_ref",
           "COFFEE 1.5"
          ],
          [
           "T34_1000_bitb_ref",
           "COFFEE 1.5"
          ]
         ],
         "hovertemplate": "region=China<br>scenario_narrative=Tech<br>year=%{x}<br>Emissions|CO2=%{y}<br>scenario=%{customdata[0]}<br>model=%{customdata[1]}<extra></extra>",
         "legendgroup": "China",
         "line": {
          "color": "#636efa",
          "dash": "solid"
         },
         "marker": {
          "symbol": "circle"
         },
         "mode": "lines",
         "name": "China",
         "showlegend": false,
         "type": "scattergl",
         "x": [
          2100,
          2095,
          2090,
          2085,
          2080,
          2075,
          2070,
          2065,
          2060,
          2055,
          2050,
          2045,
          2040,
          2035,
          2030,
          2025,
          2020,
          2015,
          2010,
          2005,
          2100,
          2090,
          2080,
          2070,
          2060,
          2055,
          2050,
          2045,
          2040,
          2035,
          2030,
          2025,
          2020,
          2015,
          2010,
          2005,
          2100,
          2090,
          2080,
          2070,
          2060,
          2050,
          2045,
          2040,
          2035,
          2030,
          2025,
          2020,
          2015,
          2010,
          2005,
          2110,
          2100,
          2090,
          2080,
          2070,
          2060,
          2055,
          2050,
          2045,
          2040,
          2035,
          2030,
          2025,
          2020,
          2015,
          2010,
          2005,
          2000,
          1995,
          1990,
          2100,
          2095,
          2090,
          2085,
          2080,
          2075,
          2070,
          2065,
          2060,
          2055,
          2050,
          2045,
          2040,
          2035,
          2030,
          2025,
          2020,
          2015,
          2010,
          2005,
          2100,
          2090,
          2080,
          2070,
          2060,
          2050,
          2045,
          2040,
          2035,
          2030,
          2025,
          2020,
          2015,
          2010
         ],
         "xaxis": "x5",
         "y": [
          1961.35983765815,
          2139.66665311765,
          2308.84325909198,
          2503.4423747401,
          2681.04684548457,
          2867.49672675661,
          3101.98773875951,
          3303.46997985769,
          3532.48834989765,
          3732.61131289653,
          4034.81372970957,
          4460.55023708054,
          4880.95581152716,
          5180.94343038187,
          5474.42157603563,
          10231.2213526232,
          10517.7786672793,
          10001.0773740209,
          8663.07917221972,
          5978.27228072794,
          -303.7508879,
          -250.6455167,
          -210.0869188,
          -6.0757228,
          333.2222001,
          642.242743,
          1199.8607613,
          1982.0563439,
          3289.2319469,
          5034.6774591,
          8191.6987077,
          12377.5337104,
          12485.754226,
          11520.7349521,
          9530.0925114,
          7275.8779516,
          -1359.5706787109375,
          -797.4478149414062,
          -11.197205543518066,
          1273.5621337890625,
          3492.075439453125,
          5432.46728515625,
          7243.18017578125,
          9141.4677734375,
          10682.125,
          11021.5634765625,
          12118.9619140625,
          12276.1630859375,
          10758.4365234375,
          9310.8505859375,
          6354.8251953125,
          301.8089546053596,
          386.4389444768671,
          424.7222321415856,
          395.3588847306555,
          545.4873186166917,
          1574.54286239321,
          2015.67040068188,
          2682.029320005917,
          3581.094519600575,
          4747.410363090552,
          6139.627994100335,
          7366.571761912481,
          11186.80558099937,
          11457.31940031934,
          10783.74569928228,
          8316.262167546873,
          5965.917456450522,
          3657.060540755208,
          3154.404718001302,
          2661.779636621094,
          176.69871776915596,
          117.0099347538827,
          152.20743943644445,
          268.3462219482232,
          573.9987183139004,
          583.1045125855616,
          945.6743775273766,
          1062.8534038238365,
          1186.1816610778867,
          1403.9402365371361,
          2182.565429885915,
          2887.1047772806933,
          4093.9837243305137,
          5559.326864112164,
          8168.390707122789,
          10464.817058243014,
          12373.731527817592,
          10755.070069337109,
          9131.609538590563,
          6377.040975514627,
          229.021323,
          286.32190399999996,
          463.88749599999994,
          722.382316,
          1430.914348,
          2682.74532,
          3738.954873,
          4765.911123,
          5903.8156930000005,
          6749.024299252001,
          8580.161282519999,
          11514.2679056,
          10667.969480000002,
          8750.35932
         ],
         "yaxis": "y5"
        },
        {
         "customdata": [
          [
           "T34_1000_enab_em",
           "WITCH 5.0"
          ],
          [
           "T34_1000_enab_em",
           "WITCH 5.0"
          ],
          [
           "T34_1000_enab_em",
           "WITCH 5.0"
          ],
          [
           "T34_1000_enab_em",
           "WITCH 5.0"
          ],
          [
           "T34_1000_enab_em",
           "WITCH 5.0"
          ],
          [
           "T34_1000_enab_em",
           "WITCH 5.0"
          ],
          [
           "T34_1000_enab_em",
           "WITCH 5.0"
          ],
          [
           "T34_1000_enab_em",
           "WITCH 5.0"
          ],
          [
           "T34_1000_enab_em",
           "WITCH 5.0"
          ],
          [
           "T34_1000_enab_em",
           "WITCH 5.0"
          ],
          [
           "T34_1000_enab_em",
           "WITCH 5.0"
          ],
          [
           "T34_1000_enab_em",
           "WITCH 5.0"
          ],
          [
           "T34_1000_enab_em",
           "WITCH 5.0"
          ],
          [
           "T34_1000_enab_em",
           "WITCH 5.0"
          ],
          [
           "T34_1000_enab_em",
           "WITCH 5.0"
          ],
          [
           "T34_1000_enab_em",
           "WITCH 5.0"
          ],
          [
           "T34_1000_enab_em",
           "WITCH 5.0"
          ],
          [
           "T34_1000_enab_em",
           "WITCH 5.0"
          ],
          [
           "T34_1000_enab_em",
           "WITCH 5.0"
          ],
          [
           "T34_1000_enab_em",
           "WITCH 5.0"
          ],
          [
           "T34_1000_enab_em",
           "REMIND 3.0"
          ],
          [
           "T34_1000_enab_em",
           "REMIND 3.0"
          ],
          [
           "T34_1000_enab_em",
           "REMIND 3.0"
          ],
          [
           "T34_1000_enab_em",
           "REMIND 3.0"
          ],
          [
           "T34_1000_enab_em",
           "REMIND 3.0"
          ],
          [
           "T34_1000_enab_em",
           "REMIND 3.0"
          ],
          [
           "T34_1000_enab_em",
           "REMIND 3.0"
          ],
          [
           "T34_1000_enab_em",
           "REMIND 3.0"
          ],
          [
           "T34_1000_enab_em",
           "REMIND 3.0"
          ],
          [
           "T34_1000_enab_em",
           "REMIND 3.0"
          ],
          [
           "T34_1000_enab_em",
           "REMIND 3.0"
          ],
          [
           "T34_1000_enab_em",
           "REMIND 3.0"
          ],
          [
           "T34_1000_enab_em",
           "REMIND 3.0"
          ],
          [
           "T34_1000_enab_em",
           "REMIND 3.0"
          ],
          [
           "T34_1000_enab_em",
           "REMIND 3.0"
          ],
          [
           "T34_1000_enab_em",
           "REMIND 3.0"
          ],
          [
           "T34_1000_enab_em",
           "MESSAGEix-GLOBIOM_1.1"
          ],
          [
           "T34_1000_enab_em",
           "MESSAGEix-GLOBIOM_1.1"
          ],
          [
           "T34_1000_enab_em",
           "MESSAGEix-GLOBIOM_1.1"
          ],
          [
           "T34_1000_enab_em",
           "MESSAGEix-GLOBIOM_1.1"
          ],
          [
           "T34_1000_enab_em",
           "MESSAGEix-GLOBIOM_1.1"
          ],
          [
           "T34_1000_enab_em",
           "MESSAGEix-GLOBIOM_1.1"
          ],
          [
           "T34_1000_enab_em",
           "MESSAGEix-GLOBIOM_1.1"
          ],
          [
           "T34_1000_enab_em",
           "MESSAGEix-GLOBIOM_1.1"
          ],
          [
           "T34_1000_enab_em",
           "MESSAGEix-GLOBIOM_1.1"
          ],
          [
           "T34_1000_enab_em",
           "MESSAGEix-GLOBIOM_1.1"
          ],
          [
           "T34_1000_enab_em",
           "MESSAGEix-GLOBIOM_1.1"
          ],
          [
           "T34_1000_enab_em",
           "MESSAGEix-GLOBIOM_1.1"
          ],
          [
           "T34_1000_enab_em",
           "MESSAGEix-GLOBIOM_1.1"
          ],
          [
           "T34_1000_enab_em",
           "MESSAGEix-GLOBIOM_1.1"
          ],
          [
           "T34_1000_enab_em",
           "MESSAGEix-GLOBIOM_1.1"
          ],
          [
           "T34_1000_enab_em",
           "MESSAGEix-GLOBIOM_1.1"
          ],
          [
           "T34_1000_enab_em",
           "MESSAGEix-GLOBIOM_1.1"
          ],
          [
           "T34_1000_enab_em",
           "MESSAGEix-GLOBIOM_1.1"
          ],
          [
           "T34_1000_enab_em",
           "MESSAGEix-GLOBIOM_1.1"
          ],
          [
           "T34_1000_enab_em",
           "MESSAGEix-GLOBIOM_1.1"
          ]
         ],
         "hovertemplate": "region=China<br>scenario_narrative=Inst+Enab<br>year=%{x}<br>Emissions|CO2=%{y}<br>scenario=%{customdata[0]}<br>model=%{customdata[1]}<extra></extra>",
         "legendgroup": "China",
         "line": {
          "color": "#636efa",
          "dash": "solid"
         },
         "marker": {
          "symbol": "circle"
         },
         "mode": "lines",
         "name": "China",
         "showlegend": false,
         "type": "scattergl",
         "x": [
          2100,
          2095,
          2090,
          2085,
          2080,
          2075,
          2070,
          2065,
          2060,
          2055,
          2050,
          2045,
          2040,
          2035,
          2030,
          2025,
          2020,
          2015,
          2010,
          2005,
          2100,
          2090,
          2080,
          2070,
          2060,
          2055,
          2050,
          2045,
          2040,
          2035,
          2030,
          2025,
          2020,
          2015,
          2010,
          2005,
          2110,
          2100,
          2090,
          2080,
          2070,
          2060,
          2055,
          2050,
          2045,
          2040,
          2035,
          2030,
          2025,
          2020,
          2015,
          2010,
          2005,
          2000,
          1995,
          1990
         ],
         "xaxis": "x6",
         "y": [
          883.31610084279,
          681.553404197295,
          421.270225154168,
          122.199842100692,
          102.995823190573,
          227.101150790561,
          594.791629408214,
          1080.61385853177,
          1535.61893757085,
          2037.86176025472,
          2530.69795950088,
          3173.06840907684,
          4733.00040027566,
          6110.27724262022,
          7888.33400045944,
          9191.69620468432,
          10517.7786672793,
          10001.0773740209,
          8663.07917221972,
          5978.27228072794,
          -188.4389837,
          -614.3595395,
          -521.4578625,
          -216.1375081,
          194.806232,
          726.9814565,
          1351.7885615,
          2273.9086193,
          3443.1673247,
          5716.3846255,
          7952.4612242,
          12171.472078,
          12485.754226,
          11520.7349521,
          9530.0925114,
          7275.8779516,
          -1446.830131336892,
          -1447.03739722457,
          -1348.666825312512,
          -1045.395590652371,
          -839.2557267017722,
          -9.699474442543249,
          495.1089174425209,
          1590.190701888458,
          2779.490384953397,
          5812.834656425212,
          7504.337285723259,
          9688.057768757599,
          11186.80558099937,
          11457.31940031934,
          10783.74569928228,
          8316.262167546873,
          5965.917456450522,
          3657.060540755208,
          3154.404718001302,
          2661.779636621094
         ],
         "yaxis": "y6"
        },
        {
         "customdata": [
          [
           "T34_1000_feas_em",
           "WITCH 5.0"
          ],
          [
           "T34_1000_feas_em",
           "WITCH 5.0"
          ],
          [
           "T34_1000_feas_em",
           "WITCH 5.0"
          ],
          [
           "T34_1000_feas_em",
           "WITCH 5.0"
          ],
          [
           "T34_1000_feas_em",
           "WITCH 5.0"
          ],
          [
           "T34_1000_feas_em",
           "WITCH 5.0"
          ],
          [
           "T34_1000_feas_em",
           "WITCH 5.0"
          ],
          [
           "T34_1000_feas_em",
           "WITCH 5.0"
          ],
          [
           "T34_1000_feas_em",
           "WITCH 5.0"
          ],
          [
           "T34_1000_feas_em",
           "WITCH 5.0"
          ],
          [
           "T34_1000_feas_em",
           "WITCH 5.0"
          ],
          [
           "T34_1000_feas_em",
           "WITCH 5.0"
          ],
          [
           "T34_1000_feas_em",
           "WITCH 5.0"
          ],
          [
           "T34_1000_feas_em",
           "WITCH 5.0"
          ],
          [
           "T34_1000_feas_em",
           "WITCH 5.0"
          ],
          [
           "T34_1000_feas_em",
           "WITCH 5.0"
          ],
          [
           "T34_1000_feas_em",
           "WITCH 5.0"
          ],
          [
           "T34_1000_feas_em",
           "WITCH 5.0"
          ],
          [
           "T34_1000_feas_em",
           "WITCH 5.0"
          ],
          [
           "T34_1000_feas_em",
           "WITCH 5.0"
          ],
          [
           "T34_1000_feas_em",
           "REMIND 3.0"
          ],
          [
           "T34_1000_feas_em",
           "REMIND 3.0"
          ],
          [
           "T34_1000_feas_em",
           "REMIND 3.0"
          ],
          [
           "T34_1000_feas_em",
           "REMIND 3.0"
          ],
          [
           "T34_1000_feas_em",
           "REMIND 3.0"
          ],
          [
           "T34_1000_feas_em",
           "REMIND 3.0"
          ],
          [
           "T34_1000_feas_em",
           "REMIND 3.0"
          ],
          [
           "T34_1000_feas_em",
           "REMIND 3.0"
          ],
          [
           "T34_1000_feas_em",
           "REMIND 3.0"
          ],
          [
           "T34_1000_feas_em",
           "REMIND 3.0"
          ],
          [
           "T34_1000_feas_em",
           "REMIND 3.0"
          ],
          [
           "T34_1000_feas_em",
           "REMIND 3.0"
          ],
          [
           "T34_1000_feas_em",
           "REMIND 3.0"
          ],
          [
           "T34_1000_feas_em",
           "REMIND 3.0"
          ],
          [
           "T34_1000_feas_em",
           "REMIND 3.0"
          ],
          [
           "T34_1000_feas_em",
           "REMIND 3.0"
          ],
          [
           "T34_1000_feas_em",
           "POLES ENGAGE"
          ],
          [
           "T34_1000_feas_em",
           "POLES ENGAGE"
          ],
          [
           "T34_1000_feas_em",
           "POLES ENGAGE"
          ],
          [
           "T34_1000_feas_em",
           "POLES ENGAGE"
          ],
          [
           "T34_1000_feas_em",
           "POLES ENGAGE"
          ],
          [
           "T34_1000_feas_em",
           "POLES ENGAGE"
          ],
          [
           "T34_1000_feas_em",
           "POLES ENGAGE"
          ],
          [
           "T34_1000_feas_em",
           "POLES ENGAGE"
          ],
          [
           "T34_1000_feas_em",
           "POLES ENGAGE"
          ],
          [
           "T34_1000_feas_em",
           "POLES ENGAGE"
          ],
          [
           "T34_1000_feas_em",
           "POLES ENGAGE"
          ],
          [
           "T34_1000_feas_em",
           "POLES ENGAGE"
          ],
          [
           "T34_1000_feas_em",
           "POLES ENGAGE"
          ],
          [
           "T34_1000_feas_em",
           "POLES ENGAGE"
          ],
          [
           "T34_1000_feas_em",
           "POLES ENGAGE"
          ],
          [
           "T34_1000_feas_em",
           "MESSAGEix-GLOBIOM_1.1"
          ],
          [
           "T34_1000_feas_em",
           "MESSAGEix-GLOBIOM_1.1"
          ],
          [
           "T34_1000_feas_em",
           "MESSAGEix-GLOBIOM_1.1"
          ],
          [
           "T34_1000_feas_em",
           "MESSAGEix-GLOBIOM_1.1"
          ],
          [
           "T34_1000_feas_em",
           "MESSAGEix-GLOBIOM_1.1"
          ],
          [
           "T34_1000_feas_em",
           "MESSAGEix-GLOBIOM_1.1"
          ],
          [
           "T34_1000_feas_em",
           "MESSAGEix-GLOBIOM_1.1"
          ],
          [
           "T34_1000_feas_em",
           "MESSAGEix-GLOBIOM_1.1"
          ],
          [
           "T34_1000_feas_em",
           "MESSAGEix-GLOBIOM_1.1"
          ],
          [
           "T34_1000_feas_em",
           "MESSAGEix-GLOBIOM_1.1"
          ],
          [
           "T34_1000_feas_em",
           "MESSAGEix-GLOBIOM_1.1"
          ],
          [
           "T34_1000_feas_em",
           "MESSAGEix-GLOBIOM_1.1"
          ],
          [
           "T34_1000_feas_em",
           "MESSAGEix-GLOBIOM_1.1"
          ],
          [
           "T34_1000_feas_em",
           "MESSAGEix-GLOBIOM_1.1"
          ],
          [
           "T34_1000_feas_em",
           "MESSAGEix-GLOBIOM_1.1"
          ],
          [
           "T34_1000_feas_em",
           "MESSAGEix-GLOBIOM_1.1"
          ],
          [
           "T34_1000_feas_em",
           "MESSAGEix-GLOBIOM_1.1"
          ],
          [
           "T34_1000_feas_em",
           "MESSAGEix-GLOBIOM_1.1"
          ],
          [
           "T34_1000_feas_em",
           "MESSAGEix-GLOBIOM_1.1"
          ],
          [
           "T34_1000_feas_em",
           "MESSAGEix-GLOBIOM_1.1"
          ],
          [
           "T34_1000_feas_em",
           "IMAGE 3.2"
          ],
          [
           "T34_1000_feas_em",
           "IMAGE 3.2"
          ],
          [
           "T34_1000_feas_em",
           "IMAGE 3.2"
          ],
          [
           "T34_1000_feas_em",
           "IMAGE 3.2"
          ],
          [
           "T34_1000_feas_em",
           "IMAGE 3.2"
          ],
          [
           "T34_1000_feas_em",
           "IMAGE 3.2"
          ],
          [
           "T34_1000_feas_em",
           "IMAGE 3.2"
          ],
          [
           "T34_1000_feas_em",
           "IMAGE 3.2"
          ],
          [
           "T34_1000_feas_em",
           "IMAGE 3.2"
          ],
          [
           "T34_1000_feas_em",
           "IMAGE 3.2"
          ],
          [
           "T34_1000_feas_em",
           "IMAGE 3.2"
          ],
          [
           "T34_1000_feas_em",
           "IMAGE 3.2"
          ],
          [
           "T34_1000_feas_em",
           "IMAGE 3.2"
          ],
          [
           "T34_1000_feas_em",
           "IMAGE 3.2"
          ],
          [
           "T34_1000_feas_em",
           "IMAGE 3.2"
          ],
          [
           "T34_1000_feas_em",
           "IMAGE 3.2"
          ],
          [
           "T34_1000_feas_em",
           "IMAGE 3.2"
          ],
          [
           "T34_1000_feas_em",
           "IMAGE 3.2"
          ],
          [
           "T34_1000_feas_em",
           "IMAGE 3.2"
          ],
          [
           "T34_1000_feas_em",
           "IMAGE 3.2"
          ],
          [
           "T34_1000_feas_em",
           "GEM-E3_V2023"
          ],
          [
           "T34_1000_feas_em",
           "GEM-E3_V2023"
          ],
          [
           "T34_1000_feas_em",
           "GEM-E3_V2023"
          ],
          [
           "T34_1000_feas_em",
           "GEM-E3_V2023"
          ],
          [
           "T34_1000_feas_em",
           "GEM-E3_V2023"
          ],
          [
           "T34_1000_feas_em",
           "GEM-E3_V2023"
          ],
          [
           "T34_1000_feas_em",
           "GEM-E3_V2023"
          ],
          [
           "T34_1000_feas_em",
           "GEM-E3_V2023"
          ],
          [
           "T34_1000_feas_em",
           "GEM-E3_V2023"
          ],
          [
           "T34_1000_feas_em",
           "GEM-E3_V2023"
          ],
          [
           "T34_1000_feas_em",
           "GEM-E3_V2023"
          ],
          [
           "T34_1000_feas_em",
           "GEM-E3_V2023"
          ],
          [
           "T34_1000_feas_em",
           "GEM-E3_V2023"
          ],
          [
           "T34_1000_feas_em",
           "GEM-E3_V2023"
          ],
          [
           "T34_1000_feas_em",
           "GEM-E3_V2023"
          ],
          [
           "T34_1000_feas_em",
           "GEM-E3_V2023"
          ],
          [
           "T34_1000_feas_em",
           "GEM-E3_V2023"
          ],
          [
           "T34_1000_feas_em",
           "GEM-E3_V2023"
          ],
          [
           "T34_1000_feas_em",
           "AIM/CGE V2.2"
          ],
          [
           "T34_1000_feas_em",
           "AIM/CGE V2.2"
          ],
          [
           "T34_1000_feas_em",
           "AIM/CGE V2.2"
          ],
          [
           "T34_1000_feas_em",
           "AIM/CGE V2.2"
          ],
          [
           "T34_1000_feas_em",
           "AIM/CGE V2.2"
          ],
          [
           "T34_1000_feas_em",
           "AIM/CGE V2.2"
          ],
          [
           "T34_1000_feas_em",
           "AIM/CGE V2.2"
          ],
          [
           "T34_1000_feas_em",
           "AIM/CGE V2.2"
          ],
          [
           "T34_1000_feas_em",
           "AIM/CGE V2.2"
          ],
          [
           "T34_1000_feas_em",
           "AIM/CGE V2.2"
          ],
          [
           "T34_1000_feas_em",
           "AIM/CGE V2.2"
          ],
          [
           "T34_1000_feas_em",
           "AIM/CGE V2.2"
          ],
          [
           "T34_1000_feas_em",
           "AIM/CGE V2.2"
          ],
          [
           "T34_1000_feas_em",
           "AIM/CGE V2.2"
          ],
          [
           "T34_1000_feas_em",
           "AIM/CGE V2.2"
          ],
          [
           "T34_1000_feas_em",
           "AIM/CGE V2.2"
          ],
          [
           "T34_1000_feas_em",
           "AIM/CGE V2.2"
          ],
          [
           "T34_1000_feas_em",
           "AIM/CGE V2.2"
          ],
          [
           "T34_1000_feas_em",
           "AIM/CGE V2.2"
          ]
         ],
         "hovertemplate": "region=China<br>scenario_narrative=Tech+Inst+Enab<br>year=%{x}<br>Emissions|CO2=%{y}<br>scenario=%{customdata[0]}<br>model=%{customdata[1]}<extra></extra>",
         "legendgroup": "China",
         "line": {
          "color": "#636efa",
          "dash": "solid"
         },
         "marker": {
          "symbol": "circle"
         },
         "mode": "lines",
         "name": "China",
         "showlegend": false,
         "type": "scattergl",
         "x": [
          2100,
          2095,
          2090,
          2085,
          2080,
          2075,
          2070,
          2065,
          2060,
          2055,
          2050,
          2045,
          2040,
          2035,
          2030,
          2025,
          2020,
          2015,
          2010,
          2005,
          2100,
          2090,
          2080,
          2070,
          2060,
          2055,
          2050,
          2045,
          2040,
          2035,
          2030,
          2025,
          2020,
          2015,
          2010,
          2005,
          2100,
          2090,
          2080,
          2070,
          2060,
          2050,
          2045,
          2040,
          2035,
          2030,
          2025,
          2020,
          2015,
          2010,
          2005,
          2110,
          2100,
          2090,
          2080,
          2070,
          2060,
          2055,
          2050,
          2045,
          2040,
          2035,
          2030,
          2025,
          2020,
          2015,
          2010,
          2005,
          2000,
          1995,
          1990,
          2100,
          2095,
          2090,
          2085,
          2080,
          2075,
          2070,
          2065,
          2060,
          2055,
          2050,
          2045,
          2040,
          2035,
          2030,
          2025,
          2020,
          2015,
          2010,
          2005,
          2100,
          2095,
          2090,
          2085,
          2080,
          2075,
          2070,
          2065,
          2060,
          2055,
          2050,
          2045,
          2040,
          2035,
          2030,
          2025,
          2020,
          2015,
          2100,
          2095,
          2090,
          2085,
          2080,
          2075,
          2070,
          2065,
          2060,
          2055,
          2050,
          2045,
          2040,
          2035,
          2030,
          2025,
          2020,
          2015,
          2010
         ],
         "xaxis": "x",
         "y": [
          521.315501495107,
          648.119194326209,
          662.24720360162,
          725.285681397339,
          782.941233793632,
          896.675286095006,
          1075.6577385564,
          1261.54175190575,
          1584.50788266253,
          2030.2031233408,
          2583.85419782619,
          3506.35710850984,
          4733.00040027566,
          6110.27724262022,
          7888.33400045944,
          9197.32873546599,
          10517.7786672793,
          10001.0773740209,
          8663.07917221972,
          5978.27228072794,
          -209.9658388,
          -496.8702385,
          -341.9564097,
          -48.0024957,
          387.1148892,
          802.5592272,
          1281.6415746,
          2021.369977,
          3189.9404628,
          5501.7526223,
          7799.1718184,
          12167.4956982,
          12485.754226,
          11520.7349521,
          9530.0925114,
          7275.8779516,
          -61.798072814941406,
          -2277.630126953125,
          -3106.862548828125,
          -2165.2548828125,
          419.9403381347656,
          1771.693359375,
          3488.3017578125,
          5345.04150390625,
          7214.04296875,
          9852.7177734375,
          11900.453125,
          12279.3984375,
          10758.4365234375,
          9310.8505859375,
          6354.8251953125,
          -1437.283665307272,
          -1427.994453314271,
          -1290.807747948961,
          -999.9688662939839,
          -834.2164441088671,
          -13.43766566336899,
          502.7130995183945,
          1543.466607456188,
          2748.347326013469,
          5812.834656425213,
          7504.337285723257,
          9688.0577687576,
          11186.80558099937,
          11457.31940031934,
          10783.74569928228,
          8316.262167546873,
          5965.917456450522,
          3657.060540755208,
          3154.404718001302,
          2661.779636621094,
          -96.1188418157856,
          -228.0114059655525,
          -256.37391410615174,
          -429.92217767173355,
          -410.4782028571404,
          -522.7654775458965,
          -179.48784003300003,
          -158.01389949963507,
          39.87731139227674,
          469.983459515382,
          1398.841725794485,
          2580.3582562567135,
          6140.412516834261,
          8569.374186976951,
          10083.721843364618,
          11207.112061565704,
          12112.063477663596,
          10752.961915040041,
          9131.331136897828,
          6377.040975514627,
          191.02314474646033,
          88.6435800183142,
          1.384956725149891,
          -53.179412168211144,
          -356.2390894874825,
          -643.5222840087313,
          -719.4763141441296,
          -465.2985532550066,
          -269.6355842840293,
          -131.46177096871236,
          868.4515238988931,
          2638.406449875573,
          4635.218560247773,
          6593.237794211624,
          7953.938843648899,
          9774.142284709693,
          10026.387085356802,
          9897.620690668353,
          -515.6891,
          -548.5382,
          -573.2108,
          -582.5622,
          -578.9409,
          -568.5539,
          -550.494,
          -517.7601,
          -422.8906,
          -260.7282,
          60.2662,
          2265.3013,
          4257.3877,
          6885.5973,
          9337.3571,
          10948.9846,
          11958.5927,
          10778.5587,
          8860.3168
         ],
         "yaxis": "y"
        },
        {
         "customdata": [
          [
           "T34_1000_govem",
           "WITCH 5.0"
          ],
          [
           "T34_1000_govem",
           "WITCH 5.0"
          ],
          [
           "T34_1000_govem",
           "WITCH 5.0"
          ],
          [
           "T34_1000_govem",
           "WITCH 5.0"
          ],
          [
           "T34_1000_govem",
           "WITCH 5.0"
          ],
          [
           "T34_1000_govem",
           "WITCH 5.0"
          ],
          [
           "T34_1000_govem",
           "WITCH 5.0"
          ],
          [
           "T34_1000_govem",
           "WITCH 5.0"
          ],
          [
           "T34_1000_govem",
           "WITCH 5.0"
          ],
          [
           "T34_1000_govem",
           "WITCH 5.0"
          ],
          [
           "T34_1000_govem",
           "WITCH 5.0"
          ],
          [
           "T34_1000_govem",
           "WITCH 5.0"
          ],
          [
           "T34_1000_govem",
           "WITCH 5.0"
          ],
          [
           "T34_1000_govem",
           "WITCH 5.0"
          ],
          [
           "T34_1000_govem",
           "WITCH 5.0"
          ],
          [
           "T34_1000_govem",
           "WITCH 5.0"
          ],
          [
           "T34_1000_govem",
           "WITCH 5.0"
          ],
          [
           "T34_1000_govem",
           "WITCH 5.0"
          ],
          [
           "T34_1000_govem",
           "WITCH 5.0"
          ],
          [
           "T34_1000_govem",
           "WITCH 5.0"
          ],
          [
           "T34_1000_govem",
           "REMIND 3.0"
          ],
          [
           "T34_1000_govem",
           "REMIND 3.0"
          ],
          [
           "T34_1000_govem",
           "REMIND 3.0"
          ],
          [
           "T34_1000_govem",
           "REMIND 3.0"
          ],
          [
           "T34_1000_govem",
           "REMIND 3.0"
          ],
          [
           "T34_1000_govem",
           "REMIND 3.0"
          ],
          [
           "T34_1000_govem",
           "REMIND 3.0"
          ],
          [
           "T34_1000_govem",
           "REMIND 3.0"
          ],
          [
           "T34_1000_govem",
           "REMIND 3.0"
          ],
          [
           "T34_1000_govem",
           "REMIND 3.0"
          ],
          [
           "T34_1000_govem",
           "REMIND 3.0"
          ],
          [
           "T34_1000_govem",
           "REMIND 3.0"
          ],
          [
           "T34_1000_govem",
           "REMIND 3.0"
          ],
          [
           "T34_1000_govem",
           "REMIND 3.0"
          ],
          [
           "T34_1000_govem",
           "REMIND 3.0"
          ],
          [
           "T34_1000_govem",
           "REMIND 3.0"
          ],
          [
           "T34_1000_govem",
           "POLES ENGAGE"
          ],
          [
           "T34_1000_govem",
           "POLES ENGAGE"
          ],
          [
           "T34_1000_govem",
           "POLES ENGAGE"
          ],
          [
           "T34_1000_govem",
           "POLES ENGAGE"
          ],
          [
           "T34_1000_govem",
           "POLES ENGAGE"
          ],
          [
           "T34_1000_govem",
           "POLES ENGAGE"
          ],
          [
           "T34_1000_govem",
           "POLES ENGAGE"
          ],
          [
           "T34_1000_govem",
           "POLES ENGAGE"
          ],
          [
           "T34_1000_govem",
           "POLES ENGAGE"
          ],
          [
           "T34_1000_govem",
           "POLES ENGAGE"
          ],
          [
           "T34_1000_govem",
           "POLES ENGAGE"
          ],
          [
           "T34_1000_govem",
           "POLES ENGAGE"
          ],
          [
           "T34_1000_govem",
           "POLES ENGAGE"
          ],
          [
           "T34_1000_govem",
           "POLES ENGAGE"
          ],
          [
           "T34_1000_govem",
           "POLES ENGAGE"
          ],
          [
           "T34_1000_govem",
           "MESSAGEix-GLOBIOM_1.1"
          ],
          [
           "T34_1000_govem",
           "MESSAGEix-GLOBIOM_1.1"
          ],
          [
           "T34_1000_govem",
           "MESSAGEix-GLOBIOM_1.1"
          ],
          [
           "T34_1000_govem",
           "MESSAGEix-GLOBIOM_1.1"
          ],
          [
           "T34_1000_govem",
           "MESSAGEix-GLOBIOM_1.1"
          ],
          [
           "T34_1000_govem",
           "MESSAGEix-GLOBIOM_1.1"
          ],
          [
           "T34_1000_govem",
           "MESSAGEix-GLOBIOM_1.1"
          ],
          [
           "T34_1000_govem",
           "MESSAGEix-GLOBIOM_1.1"
          ],
          [
           "T34_1000_govem",
           "MESSAGEix-GLOBIOM_1.1"
          ],
          [
           "T34_1000_govem",
           "MESSAGEix-GLOBIOM_1.1"
          ],
          [
           "T34_1000_govem",
           "MESSAGEix-GLOBIOM_1.1"
          ],
          [
           "T34_1000_govem",
           "MESSAGEix-GLOBIOM_1.1"
          ],
          [
           "T34_1000_govem",
           "MESSAGEix-GLOBIOM_1.1"
          ],
          [
           "T34_1000_govem",
           "MESSAGEix-GLOBIOM_1.1"
          ],
          [
           "T34_1000_govem",
           "MESSAGEix-GLOBIOM_1.1"
          ],
          [
           "T34_1000_govem",
           "MESSAGEix-GLOBIOM_1.1"
          ],
          [
           "T34_1000_govem",
           "MESSAGEix-GLOBIOM_1.1"
          ],
          [
           "T34_1000_govem",
           "MESSAGEix-GLOBIOM_1.1"
          ],
          [
           "T34_1000_govem",
           "MESSAGEix-GLOBIOM_1.1"
          ],
          [
           "T34_1000_govem",
           "MESSAGEix-GLOBIOM_1.1"
          ],
          [
           "T34_1000_govem",
           "IMAGE 3.2"
          ],
          [
           "T34_1000_govem",
           "IMAGE 3.2"
          ],
          [
           "T34_1000_govem",
           "IMAGE 3.2"
          ],
          [
           "T34_1000_govem",
           "IMAGE 3.2"
          ],
          [
           "T34_1000_govem",
           "IMAGE 3.2"
          ],
          [
           "T34_1000_govem",
           "IMAGE 3.2"
          ],
          [
           "T34_1000_govem",
           "IMAGE 3.2"
          ],
          [
           "T34_1000_govem",
           "IMAGE 3.2"
          ],
          [
           "T34_1000_govem",
           "IMAGE 3.2"
          ],
          [
           "T34_1000_govem",
           "IMAGE 3.2"
          ],
          [
           "T34_1000_govem",
           "IMAGE 3.2"
          ],
          [
           "T34_1000_govem",
           "IMAGE 3.2"
          ],
          [
           "T34_1000_govem",
           "IMAGE 3.2"
          ],
          [
           "T34_1000_govem",
           "IMAGE 3.2"
          ],
          [
           "T34_1000_govem",
           "IMAGE 3.2"
          ],
          [
           "T34_1000_govem",
           "IMAGE 3.2"
          ],
          [
           "T34_1000_govem",
           "IMAGE 3.2"
          ],
          [
           "T34_1000_govem",
           "IMAGE 3.2"
          ],
          [
           "T34_1000_govem",
           "IMAGE 3.2"
          ],
          [
           "T34_1000_govem",
           "IMAGE 3.2"
          ],
          [
           "T34_1000_govem",
           "GEM-E3_V2023"
          ],
          [
           "T34_1000_govem",
           "GEM-E3_V2023"
          ],
          [
           "T34_1000_govem",
           "GEM-E3_V2023"
          ],
          [
           "T34_1000_govem",
           "GEM-E3_V2023"
          ],
          [
           "T34_1000_govem",
           "GEM-E3_V2023"
          ],
          [
           "T34_1000_govem",
           "GEM-E3_V2023"
          ],
          [
           "T34_1000_govem",
           "GEM-E3_V2023"
          ],
          [
           "T34_1000_govem",
           "GEM-E3_V2023"
          ],
          [
           "T34_1000_govem",
           "GEM-E3_V2023"
          ],
          [
           "T34_1000_govem",
           "GEM-E3_V2023"
          ],
          [
           "T34_1000_govem",
           "GEM-E3_V2023"
          ],
          [
           "T34_1000_govem",
           "GEM-E3_V2023"
          ],
          [
           "T34_1000_govem",
           "GEM-E3_V2023"
          ],
          [
           "T34_1000_govem",
           "GEM-E3_V2023"
          ],
          [
           "T34_1000_govem",
           "GEM-E3_V2023"
          ],
          [
           "T34_1000_govem",
           "GEM-E3_V2023"
          ],
          [
           "T34_1000_govem",
           "GEM-E3_V2023"
          ],
          [
           "T34_1000_govem",
           "GEM-E3_V2023"
          ],
          [
           "T34_1000_govem",
           "AIM/CGE V2.2"
          ],
          [
           "T34_1000_govem",
           "AIM/CGE V2.2"
          ],
          [
           "T34_1000_govem",
           "AIM/CGE V2.2"
          ],
          [
           "T34_1000_govem",
           "AIM/CGE V2.2"
          ],
          [
           "T34_1000_govem",
           "AIM/CGE V2.2"
          ],
          [
           "T34_1000_govem",
           "AIM/CGE V2.2"
          ],
          [
           "T34_1000_govem",
           "AIM/CGE V2.2"
          ],
          [
           "T34_1000_govem",
           "AIM/CGE V2.2"
          ],
          [
           "T34_1000_govem",
           "AIM/CGE V2.2"
          ],
          [
           "T34_1000_govem",
           "AIM/CGE V2.2"
          ],
          [
           "T34_1000_govem",
           "AIM/CGE V2.2"
          ],
          [
           "T34_1000_govem",
           "AIM/CGE V2.2"
          ],
          [
           "T34_1000_govem",
           "AIM/CGE V2.2"
          ],
          [
           "T34_1000_govem",
           "AIM/CGE V2.2"
          ],
          [
           "T34_1000_govem",
           "AIM/CGE V2.2"
          ],
          [
           "T34_1000_govem",
           "AIM/CGE V2.2"
          ],
          [
           "T34_1000_govem",
           "AIM/CGE V2.2"
          ],
          [
           "T34_1000_govem",
           "AIM/CGE V2.2"
          ],
          [
           "T34_1000_govem",
           "AIM/CGE V2.2"
          ]
         ],
         "hovertemplate": "region=China<br>scenario_narrative=Instit<br>year=%{x}<br>Emissions|CO2=%{y}<br>scenario=%{customdata[0]}<br>model=%{customdata[1]}<extra></extra>",
         "legendgroup": "China",
         "line": {
          "color": "#636efa",
          "dash": "solid"
         },
         "marker": {
          "symbol": "circle"
         },
         "mode": "lines",
         "name": "China",
         "showlegend": false,
         "type": "scattergl",
         "x": [
          2100,
          2095,
          2090,
          2085,
          2080,
          2075,
          2070,
          2065,
          2060,
          2055,
          2050,
          2045,
          2040,
          2035,
          2030,
          2025,
          2020,
          2015,
          2010,
          2005,
          2100,
          2090,
          2080,
          2070,
          2060,
          2055,
          2050,
          2045,
          2040,
          2035,
          2030,
          2025,
          2020,
          2015,
          2010,
          2005,
          2100,
          2090,
          2080,
          2070,
          2060,
          2050,
          2045,
          2040,
          2035,
          2030,
          2025,
          2020,
          2015,
          2010,
          2005,
          2110,
          2100,
          2090,
          2080,
          2070,
          2060,
          2055,
          2050,
          2045,
          2040,
          2035,
          2030,
          2025,
          2020,
          2015,
          2010,
          2005,
          2000,
          1995,
          1990,
          2100,
          2095,
          2090,
          2085,
          2080,
          2075,
          2070,
          2065,
          2060,
          2055,
          2050,
          2045,
          2040,
          2035,
          2030,
          2025,
          2020,
          2015,
          2010,
          2005,
          2100,
          2095,
          2090,
          2085,
          2080,
          2075,
          2070,
          2065,
          2060,
          2055,
          2050,
          2045,
          2040,
          2035,
          2030,
          2025,
          2020,
          2015,
          2100,
          2095,
          2090,
          2085,
          2080,
          2075,
          2070,
          2065,
          2060,
          2055,
          2050,
          2045,
          2040,
          2035,
          2030,
          2025,
          2020,
          2015,
          2010
         ],
         "xaxis": "x2",
         "y": [
          2790.2414400926,
          2729.51754477127,
          2401.30171198849,
          1547.78493702109,
          1074.34347379913,
          764.90153186234,
          1036.5984700325,
          1295.23470223329,
          1646.53008214371,
          1969.72042369186,
          2683.32140296245,
          3917.03508043367,
          4829.47710800135,
          6110.27724262022,
          7888.33400045944,
          9193.46200934296,
          10517.7786672793,
          10001.0773740209,
          8663.07917221972,
          5978.27228072794,
          -223.9735434,
          -851.1156647,
          -1093.6259879,
          -899.5433715,
          -137.0348784,
          232.0447035,
          883.7047211,
          1568.3636864,
          2980.557127,
          5037.3138897,
          8390.6097194,
          12423.7088292,
          12485.754226,
          11520.7349521,
          9530.0925114,
          7275.8779516,
          4141.048828125,
          2208.824462890625,
          -1375.5267333984375,
          -1361.5086669921875,
          -146.7830352783203,
          1615.2586669921875,
          3554.863525390625,
          5852.91650390625,
          7757.40185546875,
          9785.81640625,
          11634.6171875,
          12279.3984375,
          10758.4365234375,
          9310.8505859375,
          6354.8251953125,
          -931.2752573624804,
          -774.7549036964923,
          -704.0312023317815,
          -619.000398157898,
          -463.7375990855028,
          328.3304036589669,
          733.1934803353972,
          1797.6363060026,
          2979.161130646363,
          5812.834688029212,
          7504.337350894595,
          9688.057723513788,
          11186.80558099937,
          11457.31940031934,
          10783.74569928228,
          8316.262167546873,
          5965.917456450522,
          3657.060540755208,
          3154.404718001302,
          2661.779636621094,
          -390.4119924264425,
          -396.53862003116615,
          -238.0466792005143,
          -370.0957463918807,
          -232.38537854081994,
          -78.23236529743592,
          200.54704540804275,
          276.6675008389537,
          502.699239140752,
          696.4738108950215,
          1298.5158489136197,
          2653.430196367523,
          5913.00980685265,
          9388.503581582667,
          11388.339926165512,
          12287.234538877437,
          12373.731527817592,
          10755.070069337109,
          9131.609538590563,
          6377.040975514627,
          -109.2310816262218,
          -153.8983942116306,
          -284.7565055431071,
          -355.03752621637364,
          -657.6737981103122,
          -915.9623841057335,
          -786.1576218070518,
          -661.5306681004968,
          -499.2992969604227,
          203.18402792771315,
          1009.2714484515545,
          3161.9323484012884,
          5495.8930767749725,
          8000.960556006591,
          8788.262831213262,
          9977.914994884679,
          10026.387085356802,
          9897.620690668353,
          -1843.2199,
          -1767.0905,
          -1659.7497,
          -1501.9944,
          -1290.8335,
          -1047.2986,
          -840.8554,
          -663.497,
          -461.5613,
          -240.1888,
          1078.9759,
          2843.2712,
          5083.5748,
          7470.5674,
          9663.9522,
          10998.1246,
          11944.0655,
          10778.5587,
          8860.3168
         ],
         "yaxis": "y2"
        },
        {
         "customdata": [
          [
           "T34_1000_ref",
           "WITCH 5.0"
          ],
          [
           "T34_1000_ref",
           "WITCH 5.0"
          ],
          [
           "T34_1000_ref",
           "WITCH 5.0"
          ],
          [
           "T34_1000_ref",
           "WITCH 5.0"
          ],
          [
           "T34_1000_ref",
           "WITCH 5.0"
          ],
          [
           "T34_1000_ref",
           "WITCH 5.0"
          ],
          [
           "T34_1000_ref",
           "WITCH 5.0"
          ],
          [
           "T34_1000_ref",
           "WITCH 5.0"
          ],
          [
           "T34_1000_ref",
           "WITCH 5.0"
          ],
          [
           "T34_1000_ref",
           "WITCH 5.0"
          ],
          [
           "T34_1000_ref",
           "WITCH 5.0"
          ],
          [
           "T34_1000_ref",
           "WITCH 5.0"
          ],
          [
           "T34_1000_ref",
           "WITCH 5.0"
          ],
          [
           "T34_1000_ref",
           "WITCH 5.0"
          ],
          [
           "T34_1000_ref",
           "WITCH 5.0"
          ],
          [
           "T34_1000_ref",
           "WITCH 5.0"
          ],
          [
           "T34_1000_ref",
           "WITCH 5.0"
          ],
          [
           "T34_1000_ref",
           "WITCH 5.0"
          ],
          [
           "T34_1000_ref",
           "WITCH 5.0"
          ],
          [
           "T34_1000_ref",
           "WITCH 5.0"
          ],
          [
           "T34_1000_ref",
           "REMIND 3.0"
          ],
          [
           "T34_1000_ref",
           "REMIND 3.0"
          ],
          [
           "T34_1000_ref",
           "REMIND 3.0"
          ],
          [
           "T34_1000_ref",
           "REMIND 3.0"
          ],
          [
           "T34_1000_ref",
           "REMIND 3.0"
          ],
          [
           "T34_1000_ref",
           "REMIND 3.0"
          ],
          [
           "T34_1000_ref",
           "REMIND 3.0"
          ],
          [
           "T34_1000_ref",
           "REMIND 3.0"
          ],
          [
           "T34_1000_ref",
           "REMIND 3.0"
          ],
          [
           "T34_1000_ref",
           "REMIND 3.0"
          ],
          [
           "T34_1000_ref",
           "REMIND 3.0"
          ],
          [
           "T34_1000_ref",
           "REMIND 3.0"
          ],
          [
           "T34_1000_ref",
           "REMIND 3.0"
          ],
          [
           "T34_1000_ref",
           "REMIND 3.0"
          ],
          [
           "T34_1000_ref",
           "REMIND 3.0"
          ],
          [
           "T34_1000_ref",
           "REMIND 3.0"
          ],
          [
           "T34_1000_ref",
           "POLES ENGAGE"
          ],
          [
           "T34_1000_ref",
           "POLES ENGAGE"
          ],
          [
           "T34_1000_ref",
           "POLES ENGAGE"
          ],
          [
           "T34_1000_ref",
           "POLES ENGAGE"
          ],
          [
           "T34_1000_ref",
           "POLES ENGAGE"
          ],
          [
           "T34_1000_ref",
           "POLES ENGAGE"
          ],
          [
           "T34_1000_ref",
           "POLES ENGAGE"
          ],
          [
           "T34_1000_ref",
           "POLES ENGAGE"
          ],
          [
           "T34_1000_ref",
           "POLES ENGAGE"
          ],
          [
           "T34_1000_ref",
           "POLES ENGAGE"
          ],
          [
           "T34_1000_ref",
           "POLES ENGAGE"
          ],
          [
           "T34_1000_ref",
           "POLES ENGAGE"
          ],
          [
           "T34_1000_ref",
           "POLES ENGAGE"
          ],
          [
           "T34_1000_ref",
           "POLES ENGAGE"
          ],
          [
           "T34_1000_ref",
           "POLES ENGAGE"
          ],
          [
           "T34_1000_ref",
           "MESSAGEix-GLOBIOM_1.1"
          ],
          [
           "T34_1000_ref",
           "MESSAGEix-GLOBIOM_1.1"
          ],
          [
           "T34_1000_ref",
           "MESSAGEix-GLOBIOM_1.1"
          ],
          [
           "T34_1000_ref",
           "MESSAGEix-GLOBIOM_1.1"
          ],
          [
           "T34_1000_ref",
           "MESSAGEix-GLOBIOM_1.1"
          ],
          [
           "T34_1000_ref",
           "MESSAGEix-GLOBIOM_1.1"
          ],
          [
           "T34_1000_ref",
           "MESSAGEix-GLOBIOM_1.1"
          ],
          [
           "T34_1000_ref",
           "MESSAGEix-GLOBIOM_1.1"
          ],
          [
           "T34_1000_ref",
           "MESSAGEix-GLOBIOM_1.1"
          ],
          [
           "T34_1000_ref",
           "MESSAGEix-GLOBIOM_1.1"
          ],
          [
           "T34_1000_ref",
           "MESSAGEix-GLOBIOM_1.1"
          ],
          [
           "T34_1000_ref",
           "MESSAGEix-GLOBIOM_1.1"
          ],
          [
           "T34_1000_ref",
           "MESSAGEix-GLOBIOM_1.1"
          ],
          [
           "T34_1000_ref",
           "MESSAGEix-GLOBIOM_1.1"
          ],
          [
           "T34_1000_ref",
           "MESSAGEix-GLOBIOM_1.1"
          ],
          [
           "T34_1000_ref",
           "MESSAGEix-GLOBIOM_1.1"
          ],
          [
           "T34_1000_ref",
           "MESSAGEix-GLOBIOM_1.1"
          ],
          [
           "T34_1000_ref",
           "MESSAGEix-GLOBIOM_1.1"
          ],
          [
           "T34_1000_ref",
           "MESSAGEix-GLOBIOM_1.1"
          ],
          [
           "T34_1000_ref",
           "MESSAGEix-GLOBIOM_1.1"
          ],
          [
           "T34_1000_ref",
           "IMAGE 3.2"
          ],
          [
           "T34_1000_ref",
           "IMAGE 3.2"
          ],
          [
           "T34_1000_ref",
           "IMAGE 3.2"
          ],
          [
           "T34_1000_ref",
           "IMAGE 3.2"
          ],
          [
           "T34_1000_ref",
           "IMAGE 3.2"
          ],
          [
           "T34_1000_ref",
           "IMAGE 3.2"
          ],
          [
           "T34_1000_ref",
           "IMAGE 3.2"
          ],
          [
           "T34_1000_ref",
           "IMAGE 3.2"
          ],
          [
           "T34_1000_ref",
           "IMAGE 3.2"
          ],
          [
           "T34_1000_ref",
           "IMAGE 3.2"
          ],
          [
           "T34_1000_ref",
           "IMAGE 3.2"
          ],
          [
           "T34_1000_ref",
           "IMAGE 3.2"
          ],
          [
           "T34_1000_ref",
           "IMAGE 3.2"
          ],
          [
           "T34_1000_ref",
           "IMAGE 3.2"
          ],
          [
           "T34_1000_ref",
           "IMAGE 3.2"
          ],
          [
           "T34_1000_ref",
           "IMAGE 3.2"
          ],
          [
           "T34_1000_ref",
           "IMAGE 3.2"
          ],
          [
           "T34_1000_ref",
           "IMAGE 3.2"
          ],
          [
           "T34_1000_ref",
           "IMAGE 3.2"
          ],
          [
           "T34_1000_ref",
           "IMAGE 3.2"
          ],
          [
           "T34_1000_ref",
           "GEM-E3_V2023"
          ],
          [
           "T34_1000_ref",
           "GEM-E3_V2023"
          ],
          [
           "T34_1000_ref",
           "GEM-E3_V2023"
          ],
          [
           "T34_1000_ref",
           "GEM-E3_V2023"
          ],
          [
           "T34_1000_ref",
           "GEM-E3_V2023"
          ],
          [
           "T34_1000_ref",
           "GEM-E3_V2023"
          ],
          [
           "T34_1000_ref",
           "GEM-E3_V2023"
          ],
          [
           "T34_1000_ref",
           "GEM-E3_V2023"
          ],
          [
           "T34_1000_ref",
           "GEM-E3_V2023"
          ],
          [
           "T34_1000_ref",
           "GEM-E3_V2023"
          ],
          [
           "T34_1000_ref",
           "GEM-E3_V2023"
          ],
          [
           "T34_1000_ref",
           "GEM-E3_V2023"
          ],
          [
           "T34_1000_ref",
           "GEM-E3_V2023"
          ],
          [
           "T34_1000_ref",
           "GEM-E3_V2023"
          ],
          [
           "T34_1000_ref",
           "GEM-E3_V2023"
          ],
          [
           "T34_1000_ref",
           "GEM-E3_V2023"
          ],
          [
           "T34_1000_ref",
           "GEM-E3_V2023"
          ],
          [
           "T34_1000_ref",
           "GEM-E3_V2023"
          ],
          [
           "T34_1000_ref",
           "COFFEE 1.5"
          ],
          [
           "T34_1000_ref",
           "COFFEE 1.5"
          ],
          [
           "T34_1000_ref",
           "COFFEE 1.5"
          ],
          [
           "T34_1000_ref",
           "COFFEE 1.5"
          ],
          [
           "T34_1000_ref",
           "COFFEE 1.5"
          ],
          [
           "T34_1000_ref",
           "COFFEE 1.5"
          ],
          [
           "T34_1000_ref",
           "COFFEE 1.5"
          ],
          [
           "T34_1000_ref",
           "COFFEE 1.5"
          ],
          [
           "T34_1000_ref",
           "COFFEE 1.5"
          ],
          [
           "T34_1000_ref",
           "COFFEE 1.5"
          ],
          [
           "T34_1000_ref",
           "COFFEE 1.5"
          ],
          [
           "T34_1000_ref",
           "COFFEE 1.5"
          ],
          [
           "T34_1000_ref",
           "COFFEE 1.5"
          ],
          [
           "T34_1000_ref",
           "COFFEE 1.5"
          ],
          [
           "T34_1000_ref",
           "AIM/CGE V2.2"
          ],
          [
           "T34_1000_ref",
           "AIM/CGE V2.2"
          ],
          [
           "T34_1000_ref",
           "AIM/CGE V2.2"
          ],
          [
           "T34_1000_ref",
           "AIM/CGE V2.2"
          ],
          [
           "T34_1000_ref",
           "AIM/CGE V2.2"
          ],
          [
           "T34_1000_ref",
           "AIM/CGE V2.2"
          ],
          [
           "T34_1000_ref",
           "AIM/CGE V2.2"
          ],
          [
           "T34_1000_ref",
           "AIM/CGE V2.2"
          ],
          [
           "T34_1000_ref",
           "AIM/CGE V2.2"
          ],
          [
           "T34_1000_ref",
           "AIM/CGE V2.2"
          ],
          [
           "T34_1000_ref",
           "AIM/CGE V2.2"
          ],
          [
           "T34_1000_ref",
           "AIM/CGE V2.2"
          ],
          [
           "T34_1000_ref",
           "AIM/CGE V2.2"
          ],
          [
           "T34_1000_ref",
           "AIM/CGE V2.2"
          ],
          [
           "T34_1000_ref",
           "AIM/CGE V2.2"
          ],
          [
           "T34_1000_ref",
           "AIM/CGE V2.2"
          ],
          [
           "T34_1000_ref",
           "AIM/CGE V2.2"
          ],
          [
           "T34_1000_ref",
           "AIM/CGE V2.2"
          ],
          [
           "T34_1000_ref",
           "AIM/CGE V2.2"
          ]
         ],
         "hovertemplate": "region=China<br>scenario_narrative=Cost Effective<br>year=%{x}<br>Emissions|CO2=%{y}<br>scenario=%{customdata[0]}<br>model=%{customdata[1]}<extra></extra>",
         "legendgroup": "China",
         "line": {
          "color": "#636efa",
          "dash": "solid"
         },
         "marker": {
          "symbol": "circle"
         },
         "mode": "lines",
         "name": "China",
         "showlegend": false,
         "type": "scattergl",
         "x": [
          2100,
          2095,
          2090,
          2085,
          2080,
          2075,
          2070,
          2065,
          2060,
          2055,
          2050,
          2045,
          2040,
          2035,
          2030,
          2025,
          2020,
          2015,
          2010,
          2005,
          2100,
          2090,
          2080,
          2070,
          2060,
          2055,
          2050,
          2045,
          2040,
          2035,
          2030,
          2025,
          2020,
          2015,
          2010,
          2005,
          2100,
          2090,
          2080,
          2070,
          2060,
          2050,
          2045,
          2040,
          2035,
          2030,
          2025,
          2020,
          2015,
          2010,
          2005,
          2110,
          2100,
          2090,
          2080,
          2070,
          2060,
          2055,
          2050,
          2045,
          2040,
          2035,
          2030,
          2025,
          2020,
          2015,
          2010,
          2005,
          2000,
          1995,
          1990,
          2100,
          2095,
          2090,
          2085,
          2080,
          2075,
          2070,
          2065,
          2060,
          2055,
          2050,
          2045,
          2040,
          2035,
          2030,
          2025,
          2020,
          2015,
          2010,
          2005,
          2100,
          2095,
          2090,
          2085,
          2080,
          2075,
          2070,
          2065,
          2060,
          2055,
          2050,
          2045,
          2040,
          2035,
          2030,
          2025,
          2020,
          2015,
          2100,
          2090,
          2080,
          2070,
          2060,
          2050,
          2045,
          2040,
          2035,
          2030,
          2025,
          2020,
          2015,
          2010,
          2100,
          2095,
          2090,
          2085,
          2080,
          2075,
          2070,
          2065,
          2060,
          2055,
          2050,
          2045,
          2040,
          2035,
          2030,
          2025,
          2020,
          2015,
          2010
         ],
         "xaxis": "x3",
         "y": [
          2407.12997051647,
          2239.55779591203,
          2063.42960134033,
          2062.27917996194,
          2232.23801362416,
          2460.45166442799,
          2732.54306214458,
          3217.04221974317,
          3650.81079658422,
          3948.65164581049,
          4280.85202254407,
          4580.12427009299,
          4858.33335213709,
          5079.99773483765,
          5933.9348442216,
          10260.1631426804,
          10517.7786672793,
          10001.0773740209,
          8663.07917221972,
          5978.27228072794,
          -196.162232,
          -306.9715599,
          -319.4159243,
          -23.9346573,
          409.6300759,
          817.1329244,
          1363.3483448,
          2041.5248281,
          3454.5900295,
          5836.7337954,
          8938.8376825,
          12424.9079506,
          12485.754226,
          11520.7349521,
          9530.0925114,
          7275.8779516,
          323.8664855957031,
          514.9029541015625,
          766.1712036132812,
          1621.84765625,
          2187.642333984375,
          3405.5087890625,
          5028.943359375,
          6045.7900390625,
          7755.97900390625,
          10010.4619140625,
          11733.2216796875,
          12279.3984375,
          10758.4365234375,
          9310.8505859375,
          6354.8251953125,
          460.3780313907317,
          535.1218467921051,
          589.7379322004814,
          355.0134435241428,
          355.4939541584847,
          1424.019333961106,
          1954.390263452406,
          2682.918321206843,
          3632.505751588972,
          4814.21704394065,
          6250.970969239322,
          7375.704169409599,
          11186.80558099937,
          11457.31940031934,
          10783.74569928228,
          8316.262167546873,
          5965.917456450522,
          3657.060540755208,
          3154.404718001302,
          2661.779636621094,
          261.1471379835388,
          240.59459179840218,
          292.7517725892765,
          157.6993688090954,
          348.80101016354513,
          403.19471998701215,
          663.6362305290805,
          773.7979228405276,
          903.98954272541,
          930.0624543081839,
          1568.0349834596059,
          3318.382792456619,
          5013.942871549562,
          7368.3756924016225,
          10122.459961857723,
          12185.734294727585,
          12373.731527817592,
          10755.070069337109,
          9131.609538590563,
          6377.040975514627,
          220.37017785830324,
          242.7793407647074,
          243.72248034695122,
          213.38383565271488,
          190.08552434446938,
          185.40701109760812,
          247.41574405432323,
          527.0289618479437,
          890.8544369171681,
          1563.6145899698222,
          2595.232799883163,
          3797.9858586412206,
          5110.866269011896,
          7705.977490470161,
          8923.547760263144,
          10172.77610154928,
          10026.387085356802,
          9897.620690668353,
          -1243.633506,
          -1067.879514,
          -440.50501599999996,
          476.68596399999996,
          2481.259996,
          3798.089425,
          4476.798761,
          5804.929024000001,
          6663.29679,
          7843.510381252,
          9224.71334052,
          11514.2679056,
          10667.969480000002,
          8750.35932,
          -250.7479,
          -205.1607,
          -156.695,
          -85.0061,
          -13.2449,
          124.195,
          278.6892,
          433.5899,
          541.3127,
          742.326,
          2265.7755,
          4011.4566,
          6028.2149,
          7894.0647,
          9381.3217,
          10575.6143,
          11944.0655,
          10778.5587,
          8860.3168
         ],
         "yaxis": "y3"
        },
        {
         "customdata": [
          [
           "T34_1000_bitb_em",
           "WITCH 5.0"
          ],
          [
           "T34_1000_bitb_em",
           "WITCH 5.0"
          ],
          [
           "T34_1000_bitb_em",
           "WITCH 5.0"
          ],
          [
           "T34_1000_bitb_em",
           "WITCH 5.0"
          ],
          [
           "T34_1000_bitb_em",
           "WITCH 5.0"
          ],
          [
           "T34_1000_bitb_em",
           "WITCH 5.0"
          ],
          [
           "T34_1000_bitb_em",
           "WITCH 5.0"
          ],
          [
           "T34_1000_bitb_em",
           "WITCH 5.0"
          ],
          [
           "T34_1000_bitb_em",
           "WITCH 5.0"
          ],
          [
           "T34_1000_bitb_em",
           "WITCH 5.0"
          ],
          [
           "T34_1000_bitb_em",
           "WITCH 5.0"
          ],
          [
           "T34_1000_bitb_em",
           "WITCH 5.0"
          ],
          [
           "T34_1000_bitb_em",
           "WITCH 5.0"
          ],
          [
           "T34_1000_bitb_em",
           "WITCH 5.0"
          ],
          [
           "T34_1000_bitb_em",
           "WITCH 5.0"
          ],
          [
           "T34_1000_bitb_em",
           "WITCH 5.0"
          ],
          [
           "T34_1000_bitb_em",
           "WITCH 5.0"
          ],
          [
           "T34_1000_bitb_em",
           "WITCH 5.0"
          ],
          [
           "T34_1000_bitb_em",
           "WITCH 5.0"
          ],
          [
           "T34_1000_bitb_em",
           "WITCH 5.0"
          ],
          [
           "T34_1000_bitb_em",
           "REMIND 3.0"
          ],
          [
           "T34_1000_bitb_em",
           "REMIND 3.0"
          ],
          [
           "T34_1000_bitb_em",
           "REMIND 3.0"
          ],
          [
           "T34_1000_bitb_em",
           "REMIND 3.0"
          ],
          [
           "T34_1000_bitb_em",
           "REMIND 3.0"
          ],
          [
           "T34_1000_bitb_em",
           "REMIND 3.0"
          ],
          [
           "T34_1000_bitb_em",
           "REMIND 3.0"
          ],
          [
           "T34_1000_bitb_em",
           "REMIND 3.0"
          ],
          [
           "T34_1000_bitb_em",
           "REMIND 3.0"
          ],
          [
           "T34_1000_bitb_em",
           "REMIND 3.0"
          ],
          [
           "T34_1000_bitb_em",
           "REMIND 3.0"
          ],
          [
           "T34_1000_bitb_em",
           "REMIND 3.0"
          ],
          [
           "T34_1000_bitb_em",
           "REMIND 3.0"
          ],
          [
           "T34_1000_bitb_em",
           "REMIND 3.0"
          ],
          [
           "T34_1000_bitb_em",
           "REMIND 3.0"
          ],
          [
           "T34_1000_bitb_em",
           "REMIND 3.0"
          ],
          [
           "T34_1000_bitb_em",
           "POLES ENGAGE"
          ],
          [
           "T34_1000_bitb_em",
           "POLES ENGAGE"
          ],
          [
           "T34_1000_bitb_em",
           "POLES ENGAGE"
          ],
          [
           "T34_1000_bitb_em",
           "POLES ENGAGE"
          ],
          [
           "T34_1000_bitb_em",
           "POLES ENGAGE"
          ],
          [
           "T34_1000_bitb_em",
           "POLES ENGAGE"
          ],
          [
           "T34_1000_bitb_em",
           "POLES ENGAGE"
          ],
          [
           "T34_1000_bitb_em",
           "POLES ENGAGE"
          ],
          [
           "T34_1000_bitb_em",
           "POLES ENGAGE"
          ],
          [
           "T34_1000_bitb_em",
           "POLES ENGAGE"
          ],
          [
           "T34_1000_bitb_em",
           "POLES ENGAGE"
          ],
          [
           "T34_1000_bitb_em",
           "POLES ENGAGE"
          ],
          [
           "T34_1000_bitb_em",
           "POLES ENGAGE"
          ],
          [
           "T34_1000_bitb_em",
           "POLES ENGAGE"
          ],
          [
           "T34_1000_bitb_em",
           "POLES ENGAGE"
          ],
          [
           "T34_1000_bitb_em",
           "MESSAGEix-GLOBIOM_1.1"
          ],
          [
           "T34_1000_bitb_em",
           "MESSAGEix-GLOBIOM_1.1"
          ],
          [
           "T34_1000_bitb_em",
           "MESSAGEix-GLOBIOM_1.1"
          ],
          [
           "T34_1000_bitb_em",
           "MESSAGEix-GLOBIOM_1.1"
          ],
          [
           "T34_1000_bitb_em",
           "MESSAGEix-GLOBIOM_1.1"
          ],
          [
           "T34_1000_bitb_em",
           "MESSAGEix-GLOBIOM_1.1"
          ],
          [
           "T34_1000_bitb_em",
           "MESSAGEix-GLOBIOM_1.1"
          ],
          [
           "T34_1000_bitb_em",
           "MESSAGEix-GLOBIOM_1.1"
          ],
          [
           "T34_1000_bitb_em",
           "MESSAGEix-GLOBIOM_1.1"
          ],
          [
           "T34_1000_bitb_em",
           "MESSAGEix-GLOBIOM_1.1"
          ],
          [
           "T34_1000_bitb_em",
           "MESSAGEix-GLOBIOM_1.1"
          ],
          [
           "T34_1000_bitb_em",
           "MESSAGEix-GLOBIOM_1.1"
          ],
          [
           "T34_1000_bitb_em",
           "MESSAGEix-GLOBIOM_1.1"
          ],
          [
           "T34_1000_bitb_em",
           "MESSAGEix-GLOBIOM_1.1"
          ],
          [
           "T34_1000_bitb_em",
           "MESSAGEix-GLOBIOM_1.1"
          ],
          [
           "T34_1000_bitb_em",
           "MESSAGEix-GLOBIOM_1.1"
          ],
          [
           "T34_1000_bitb_em",
           "MESSAGEix-GLOBIOM_1.1"
          ],
          [
           "T34_1000_bitb_em",
           "MESSAGEix-GLOBIOM_1.1"
          ],
          [
           "T34_1000_bitb_em",
           "MESSAGEix-GLOBIOM_1.1"
          ],
          [
           "T34_1000_bitb_em",
           "MESSAGEix-GLOBIOM_1.1"
          ],
          [
           "T34_1000_bitb_em",
           "IMAGE 3.2"
          ],
          [
           "T34_1000_bitb_em",
           "IMAGE 3.2"
          ],
          [
           "T34_1000_bitb_em",
           "IMAGE 3.2"
          ],
          [
           "T34_1000_bitb_em",
           "IMAGE 3.2"
          ],
          [
           "T34_1000_bitb_em",
           "IMAGE 3.2"
          ],
          [
           "T34_1000_bitb_em",
           "IMAGE 3.2"
          ],
          [
           "T34_1000_bitb_em",
           "IMAGE 3.2"
          ],
          [
           "T34_1000_bitb_em",
           "IMAGE 3.2"
          ],
          [
           "T34_1000_bitb_em",
           "IMAGE 3.2"
          ],
          [
           "T34_1000_bitb_em",
           "IMAGE 3.2"
          ],
          [
           "T34_1000_bitb_em",
           "IMAGE 3.2"
          ],
          [
           "T34_1000_bitb_em",
           "IMAGE 3.2"
          ],
          [
           "T34_1000_bitb_em",
           "IMAGE 3.2"
          ],
          [
           "T34_1000_bitb_em",
           "IMAGE 3.2"
          ],
          [
           "T34_1000_bitb_em",
           "IMAGE 3.2"
          ],
          [
           "T34_1000_bitb_em",
           "IMAGE 3.2"
          ],
          [
           "T34_1000_bitb_em",
           "IMAGE 3.2"
          ],
          [
           "T34_1000_bitb_em",
           "IMAGE 3.2"
          ],
          [
           "T34_1000_bitb_em",
           "IMAGE 3.2"
          ],
          [
           "T34_1000_bitb_em",
           "IMAGE 3.2"
          ],
          [
           "T34_1000_bitb_em",
           "GEM-E3_V2023"
          ],
          [
           "T34_1000_bitb_em",
           "GEM-E3_V2023"
          ],
          [
           "T34_1000_bitb_em",
           "GEM-E3_V2023"
          ],
          [
           "T34_1000_bitb_em",
           "GEM-E3_V2023"
          ],
          [
           "T34_1000_bitb_em",
           "GEM-E3_V2023"
          ],
          [
           "T34_1000_bitb_em",
           "GEM-E3_V2023"
          ],
          [
           "T34_1000_bitb_em",
           "GEM-E3_V2023"
          ],
          [
           "T34_1000_bitb_em",
           "GEM-E3_V2023"
          ],
          [
           "T34_1000_bitb_em",
           "GEM-E3_V2023"
          ],
          [
           "T34_1000_bitb_em",
           "GEM-E3_V2023"
          ],
          [
           "T34_1000_bitb_em",
           "GEM-E3_V2023"
          ],
          [
           "T34_1000_bitb_em",
           "GEM-E3_V2023"
          ],
          [
           "T34_1000_bitb_em",
           "GEM-E3_V2023"
          ],
          [
           "T34_1000_bitb_em",
           "GEM-E3_V2023"
          ],
          [
           "T34_1000_bitb_em",
           "GEM-E3_V2023"
          ],
          [
           "T34_1000_bitb_em",
           "GEM-E3_V2023"
          ],
          [
           "T34_1000_bitb_em",
           "GEM-E3_V2023"
          ],
          [
           "T34_1000_bitb_em",
           "GEM-E3_V2023"
          ],
          [
           "T34_1000_bitb_em",
           "AIM/CGE V2.2"
          ],
          [
           "T34_1000_bitb_em",
           "AIM/CGE V2.2"
          ],
          [
           "T34_1000_bitb_em",
           "AIM/CGE V2.2"
          ],
          [
           "T34_1000_bitb_em",
           "AIM/CGE V2.2"
          ],
          [
           "T34_1000_bitb_em",
           "AIM/CGE V2.2"
          ],
          [
           "T34_1000_bitb_em",
           "AIM/CGE V2.2"
          ],
          [
           "T34_1000_bitb_em",
           "AIM/CGE V2.2"
          ],
          [
           "T34_1000_bitb_em",
           "AIM/CGE V2.2"
          ],
          [
           "T34_1000_bitb_em",
           "AIM/CGE V2.2"
          ],
          [
           "T34_1000_bitb_em",
           "AIM/CGE V2.2"
          ],
          [
           "T34_1000_bitb_em",
           "AIM/CGE V2.2"
          ],
          [
           "T34_1000_bitb_em",
           "AIM/CGE V2.2"
          ],
          [
           "T34_1000_bitb_em",
           "AIM/CGE V2.2"
          ],
          [
           "T34_1000_bitb_em",
           "AIM/CGE V2.2"
          ],
          [
           "T34_1000_bitb_em",
           "AIM/CGE V2.2"
          ],
          [
           "T34_1000_bitb_em",
           "AIM/CGE V2.2"
          ],
          [
           "T34_1000_bitb_em",
           "AIM/CGE V2.2"
          ],
          [
           "T34_1000_bitb_em",
           "AIM/CGE V2.2"
          ],
          [
           "T34_1000_bitb_em",
           "AIM/CGE V2.2"
          ]
         ],
         "hovertemplate": "region=OECD<br>scenario_narrative=Tech+Inst<br>year=%{x}<br>Emissions|CO2=%{y}<br>scenario=%{customdata[0]}<br>model=%{customdata[1]}<extra></extra>",
         "legendgroup": "OECD",
         "line": {
          "color": "#EF553B",
          "dash": "solid"
         },
         "marker": {
          "symbol": "circle"
         },
         "mode": "lines",
         "name": "OECD",
         "showlegend": true,
         "type": "scattergl",
         "x": [
          2100,
          2095,
          2090,
          2085,
          2080,
          2075,
          2070,
          2065,
          2060,
          2055,
          2050,
          2045,
          2040,
          2035,
          2030,
          2025,
          2020,
          2015,
          2010,
          2005,
          2100,
          2090,
          2080,
          2070,
          2060,
          2055,
          2050,
          2045,
          2040,
          2035,
          2030,
          2025,
          2020,
          2015,
          2010,
          2005,
          2100,
          2090,
          2080,
          2070,
          2060,
          2050,
          2045,
          2040,
          2035,
          2030,
          2025,
          2020,
          2015,
          2010,
          2005,
          2110,
          2100,
          2090,
          2080,
          2070,
          2060,
          2055,
          2050,
          2045,
          2040,
          2035,
          2030,
          2025,
          2020,
          2015,
          2010,
          2005,
          2000,
          1995,
          1990,
          2100,
          2095,
          2090,
          2085,
          2080,
          2075,
          2070,
          2065,
          2060,
          2055,
          2050,
          2045,
          2040,
          2035,
          2030,
          2025,
          2020,
          2015,
          2010,
          2005,
          2100,
          2095,
          2090,
          2085,
          2080,
          2075,
          2070,
          2065,
          2060,
          2055,
          2050,
          2045,
          2040,
          2035,
          2030,
          2025,
          2020,
          2015,
          2100,
          2095,
          2090,
          2085,
          2080,
          2075,
          2070,
          2065,
          2060,
          2055,
          2050,
          2045,
          2040,
          2035,
          2030,
          2025,
          2020,
          2015,
          2010
         ],
         "xaxis": "x4",
         "y": [
          -1502.1234586418639,
          -1520.8811559258947,
          -1495.3565427356525,
          -1444.3842684818744,
          -1901.373523578891,
          -1662.8472693000328,
          -1416.1798361903939,
          -1110.8069983442213,
          -818.2693439181977,
          -515.1687149619503,
          -93.1544518514759,
          461.9487638211634,
          1172.3262872758808,
          2021.6474341932671,
          3873.226579203379,
          7328.0515012871865,
          8815.047628909653,
          9028.43474036386,
          9653.289125706495,
          10564.827079891358,
          161.2753038,
          -267.1673326,
          -633.1717638,
          -761.7692599,
          -690.9400878,
          -492.07447809999996,
          -155.47757309999997,
          400.6405934,
          1664.7777099,
          3251.5733545000003,
          4858.0962147,
          6456.306070799999,
          8075.5609438,
          8960.0834127,
          9765.288551099999,
          10834.893790900001,
          -2006.3070678710938,
          -1918.663818359375,
          -1739.94384765625,
          -1929.95947265625,
          -1224.1007080078125,
          49.04740905761719,
          373.8905944824219,
          1398.4781494140625,
          3008.899658203125,
          4552.4852294921875,
          7345.020263671875,
          8150.056640625,
          9321.853759765625,
          9923.6884765625,
          10254.65576171875,
          -5683.358705830505,
          -5728.836708542024,
          -5685.666923051817,
          -5386.6561311432615,
          -3101.9058880291414,
          -1183.9030048977293,
          -498.1202582698203,
          153.14601006412883,
          915.6427376412857,
          2046.566281984942,
          3575.0724397203276,
          5590.033657428388,
          8302.039746291448,
          10032.99581684467,
          10429.292103029084,
          11185.05279897168,
          12358.525187529947,
          11777.769719588214,
          11327.363449243163,
          10954.544159324123,
          -316.32321833466233,
          -425.14719315261254,
          -377.87064063010587,
          -504.69945403554647,
          -247.6794983870443,
          -257.14687385512593,
          70.42097314839006,
          38.710537874244125,
          331.8674901628195,
          604.3502830418997,
          1221.8021883485808,
          1921.8803458371513,
          2853.917852025397,
          3373.0904315200232,
          4492.591446331269,
          6619.039129223151,
          8860.154516389779,
          9846.779847086567,
          10465.281685826878,
          10961.99386187708,
          -1223.9951875834793,
          -1148.3826661727855,
          -1302.8908129568297,
          -1495.6664941541685,
          -1904.6257919259347,
          -2097.6019451795014,
          -2016.6192593531355,
          -1863.8111120228868,
          -1632.6749065285485,
          -1208.8449563750287,
          -431.7748657415009,
          99.23189385805009,
          1403.0789776202703,
          3432.399187453556,
          5265.190402392488,
          6916.4733603827735,
          7465.529215351675,
          8579.79255639537,
          -508.7961,
          -568.1274,
          -628.8081,
          -687.5934,
          -745.2533,
          -812.2103,
          -880.5048,
          -975.9174,
          -1124.4003,
          -770.0640999999999,
          -1305.6683,
          572.9532,
          2353.8857,
          3838.9647000000004,
          5233.7797,
          7527.7337,
          9675.3408,
          9821.216199999999,
          10618.129400000002
         ],
         "yaxis": "y4"
        },
        {
         "customdata": [
          [
           "T34_1000_bitb_ref",
           "WITCH 5.0"
          ],
          [
           "T34_1000_bitb_ref",
           "WITCH 5.0"
          ],
          [
           "T34_1000_bitb_ref",
           "WITCH 5.0"
          ],
          [
           "T34_1000_bitb_ref",
           "WITCH 5.0"
          ],
          [
           "T34_1000_bitb_ref",
           "WITCH 5.0"
          ],
          [
           "T34_1000_bitb_ref",
           "WITCH 5.0"
          ],
          [
           "T34_1000_bitb_ref",
           "WITCH 5.0"
          ],
          [
           "T34_1000_bitb_ref",
           "WITCH 5.0"
          ],
          [
           "T34_1000_bitb_ref",
           "WITCH 5.0"
          ],
          [
           "T34_1000_bitb_ref",
           "WITCH 5.0"
          ],
          [
           "T34_1000_bitb_ref",
           "WITCH 5.0"
          ],
          [
           "T34_1000_bitb_ref",
           "WITCH 5.0"
          ],
          [
           "T34_1000_bitb_ref",
           "WITCH 5.0"
          ],
          [
           "T34_1000_bitb_ref",
           "WITCH 5.0"
          ],
          [
           "T34_1000_bitb_ref",
           "WITCH 5.0"
          ],
          [
           "T34_1000_bitb_ref",
           "WITCH 5.0"
          ],
          [
           "T34_1000_bitb_ref",
           "WITCH 5.0"
          ],
          [
           "T34_1000_bitb_ref",
           "WITCH 5.0"
          ],
          [
           "T34_1000_bitb_ref",
           "WITCH 5.0"
          ],
          [
           "T34_1000_bitb_ref",
           "WITCH 5.0"
          ],
          [
           "T34_1000_bitb_ref",
           "REMIND 3.0"
          ],
          [
           "T34_1000_bitb_ref",
           "REMIND 3.0"
          ],
          [
           "T34_1000_bitb_ref",
           "REMIND 3.0"
          ],
          [
           "T34_1000_bitb_ref",
           "REMIND 3.0"
          ],
          [
           "T34_1000_bitb_ref",
           "REMIND 3.0"
          ],
          [
           "T34_1000_bitb_ref",
           "REMIND 3.0"
          ],
          [
           "T34_1000_bitb_ref",
           "REMIND 3.0"
          ],
          [
           "T34_1000_bitb_ref",
           "REMIND 3.0"
          ],
          [
           "T34_1000_bitb_ref",
           "REMIND 3.0"
          ],
          [
           "T34_1000_bitb_ref",
           "REMIND 3.0"
          ],
          [
           "T34_1000_bitb_ref",
           "REMIND 3.0"
          ],
          [
           "T34_1000_bitb_ref",
           "REMIND 3.0"
          ],
          [
           "T34_1000_bitb_ref",
           "REMIND 3.0"
          ],
          [
           "T34_1000_bitb_ref",
           "REMIND 3.0"
          ],
          [
           "T34_1000_bitb_ref",
           "REMIND 3.0"
          ],
          [
           "T34_1000_bitb_ref",
           "REMIND 3.0"
          ],
          [
           "T34_1000_bitb_ref",
           "POLES ENGAGE"
          ],
          [
           "T34_1000_bitb_ref",
           "POLES ENGAGE"
          ],
          [
           "T34_1000_bitb_ref",
           "POLES ENGAGE"
          ],
          [
           "T34_1000_bitb_ref",
           "POLES ENGAGE"
          ],
          [
           "T34_1000_bitb_ref",
           "POLES ENGAGE"
          ],
          [
           "T34_1000_bitb_ref",
           "POLES ENGAGE"
          ],
          [
           "T34_1000_bitb_ref",
           "POLES ENGAGE"
          ],
          [
           "T34_1000_bitb_ref",
           "POLES ENGAGE"
          ],
          [
           "T34_1000_bitb_ref",
           "POLES ENGAGE"
          ],
          [
           "T34_1000_bitb_ref",
           "POLES ENGAGE"
          ],
          [
           "T34_1000_bitb_ref",
           "POLES ENGAGE"
          ],
          [
           "T34_1000_bitb_ref",
           "POLES ENGAGE"
          ],
          [
           "T34_1000_bitb_ref",
           "POLES ENGAGE"
          ],
          [
           "T34_1000_bitb_ref",
           "POLES ENGAGE"
          ],
          [
           "T34_1000_bitb_ref",
           "POLES ENGAGE"
          ],
          [
           "T34_1000_bitb_ref",
           "MESSAGEix-GLOBIOM_1.1"
          ],
          [
           "T34_1000_bitb_ref",
           "MESSAGEix-GLOBIOM_1.1"
          ],
          [
           "T34_1000_bitb_ref",
           "MESSAGEix-GLOBIOM_1.1"
          ],
          [
           "T34_1000_bitb_ref",
           "MESSAGEix-GLOBIOM_1.1"
          ],
          [
           "T34_1000_bitb_ref",
           "MESSAGEix-GLOBIOM_1.1"
          ],
          [
           "T34_1000_bitb_ref",
           "MESSAGEix-GLOBIOM_1.1"
          ],
          [
           "T34_1000_bitb_ref",
           "MESSAGEix-GLOBIOM_1.1"
          ],
          [
           "T34_1000_bitb_ref",
           "MESSAGEix-GLOBIOM_1.1"
          ],
          [
           "T34_1000_bitb_ref",
           "MESSAGEix-GLOBIOM_1.1"
          ],
          [
           "T34_1000_bitb_ref",
           "MESSAGEix-GLOBIOM_1.1"
          ],
          [
           "T34_1000_bitb_ref",
           "MESSAGEix-GLOBIOM_1.1"
          ],
          [
           "T34_1000_bitb_ref",
           "MESSAGEix-GLOBIOM_1.1"
          ],
          [
           "T34_1000_bitb_ref",
           "MESSAGEix-GLOBIOM_1.1"
          ],
          [
           "T34_1000_bitb_ref",
           "MESSAGEix-GLOBIOM_1.1"
          ],
          [
           "T34_1000_bitb_ref",
           "MESSAGEix-GLOBIOM_1.1"
          ],
          [
           "T34_1000_bitb_ref",
           "MESSAGEix-GLOBIOM_1.1"
          ],
          [
           "T34_1000_bitb_ref",
           "MESSAGEix-GLOBIOM_1.1"
          ],
          [
           "T34_1000_bitb_ref",
           "MESSAGEix-GLOBIOM_1.1"
          ],
          [
           "T34_1000_bitb_ref",
           "MESSAGEix-GLOBIOM_1.1"
          ],
          [
           "T34_1000_bitb_ref",
           "MESSAGEix-GLOBIOM_1.1"
          ],
          [
           "T34_1000_bitb_ref",
           "IMAGE 3.2"
          ],
          [
           "T34_1000_bitb_ref",
           "IMAGE 3.2"
          ],
          [
           "T34_1000_bitb_ref",
           "IMAGE 3.2"
          ],
          [
           "T34_1000_bitb_ref",
           "IMAGE 3.2"
          ],
          [
           "T34_1000_bitb_ref",
           "IMAGE 3.2"
          ],
          [
           "T34_1000_bitb_ref",
           "IMAGE 3.2"
          ],
          [
           "T34_1000_bitb_ref",
           "IMAGE 3.2"
          ],
          [
           "T34_1000_bitb_ref",
           "IMAGE 3.2"
          ],
          [
           "T34_1000_bitb_ref",
           "IMAGE 3.2"
          ],
          [
           "T34_1000_bitb_ref",
           "IMAGE 3.2"
          ],
          [
           "T34_1000_bitb_ref",
           "IMAGE 3.2"
          ],
          [
           "T34_1000_bitb_ref",
           "IMAGE 3.2"
          ],
          [
           "T34_1000_bitb_ref",
           "IMAGE 3.2"
          ],
          [
           "T34_1000_bitb_ref",
           "IMAGE 3.2"
          ],
          [
           "T34_1000_bitb_ref",
           "IMAGE 3.2"
          ],
          [
           "T34_1000_bitb_ref",
           "IMAGE 3.2"
          ],
          [
           "T34_1000_bitb_ref",
           "IMAGE 3.2"
          ],
          [
           "T34_1000_bitb_ref",
           "IMAGE 3.2"
          ],
          [
           "T34_1000_bitb_ref",
           "IMAGE 3.2"
          ],
          [
           "T34_1000_bitb_ref",
           "IMAGE 3.2"
          ],
          [
           "T34_1000_bitb_ref",
           "COFFEE 1.5"
          ],
          [
           "T34_1000_bitb_ref",
           "COFFEE 1.5"
          ],
          [
           "T34_1000_bitb_ref",
           "COFFEE 1.5"
          ],
          [
           "T34_1000_bitb_ref",
           "COFFEE 1.5"
          ],
          [
           "T34_1000_bitb_ref",
           "COFFEE 1.5"
          ],
          [
           "T34_1000_bitb_ref",
           "COFFEE 1.5"
          ],
          [
           "T34_1000_bitb_ref",
           "COFFEE 1.5"
          ],
          [
           "T34_1000_bitb_ref",
           "COFFEE 1.5"
          ],
          [
           "T34_1000_bitb_ref",
           "COFFEE 1.5"
          ],
          [
           "T34_1000_bitb_ref",
           "COFFEE 1.5"
          ],
          [
           "T34_1000_bitb_ref",
           "COFFEE 1.5"
          ],
          [
           "T34_1000_bitb_ref",
           "COFFEE 1.5"
          ],
          [
           "T34_1000_bitb_ref",
           "COFFEE 1.5"
          ],
          [
           "T34_1000_bitb_ref",
           "COFFEE 1.5"
          ]
         ],
         "hovertemplate": "region=OECD<br>scenario_narrative=Tech<br>year=%{x}<br>Emissions|CO2=%{y}<br>scenario=%{customdata[0]}<br>model=%{customdata[1]}<extra></extra>",
         "legendgroup": "OECD",
         "line": {
          "color": "#EF553B",
          "dash": "solid"
         },
         "marker": {
          "symbol": "circle"
         },
         "mode": "lines",
         "name": "OECD",
         "showlegend": false,
         "type": "scattergl",
         "x": [
          2100,
          2095,
          2090,
          2085,
          2080,
          2075,
          2070,
          2065,
          2060,
          2055,
          2050,
          2045,
          2040,
          2035,
          2030,
          2025,
          2020,
          2015,
          2010,
          2005,
          2100,
          2090,
          2080,
          2070,
          2060,
          2055,
          2050,
          2045,
          2040,
          2035,
          2030,
          2025,
          2020,
          2015,
          2010,
          2005,
          2100,
          2090,
          2080,
          2070,
          2060,
          2050,
          2045,
          2040,
          2035,
          2030,
          2025,
          2020,
          2015,
          2010,
          2005,
          2110,
          2100,
          2090,
          2080,
          2070,
          2060,
          2055,
          2050,
          2045,
          2040,
          2035,
          2030,
          2025,
          2020,
          2015,
          2010,
          2005,
          2000,
          1995,
          1990,
          2100,
          2095,
          2090,
          2085,
          2080,
          2075,
          2070,
          2065,
          2060,
          2055,
          2050,
          2045,
          2040,
          2035,
          2030,
          2025,
          2020,
          2015,
          2010,
          2005,
          2100,
          2090,
          2080,
          2070,
          2060,
          2050,
          2045,
          2040,
          2035,
          2030,
          2025,
          2020,
          2015,
          2010
         ],
         "xaxis": "x5",
         "y": [
          -872.938196316076,
          -783.2923591574324,
          -646.1157876668718,
          -270.11736380354347,
          -29.186712091626987,
          184.46458881935098,
          396.2867756717302,
          503.73782740635784,
          830.4454425772816,
          1203.767228610191,
          1535.188112721688,
          2149.909903806665,
          2714.5657252915853,
          3597.395490844585,
          3911.5771340355905,
          6935.6951029082065,
          8815.047628909653,
          9028.43474036386,
          9653.289125706495,
          10564.827079891358,
          -27.4512287,
          -18.4135542,
          -102.1861593,
          -46.83770019999999,
          152.8867771,
          409.683313,
          746.4397613,
          1402.0403417,
          2639.3076265,
          3963.5751473,
          5332.931304899999,
          6615.169070399999,
          8075.5609438,
          8960.0834127,
          9765.288551099999,
          10834.893790900001,
          -1537.0950317382812,
          -1104.07861328125,
          -685.07275390625,
          -218.3775978088379,
          636.4130020141602,
          1808.7954406738281,
          2402.1033935546875,
          3447.4832763671875,
          4581.5423583984375,
          5806.1181640625,
          7786.58837890625,
          8150.054931640625,
          9321.853759765625,
          9923.6884765625,
          10254.65576171875,
          22.8708722797976,
          71.89682582341443,
          57.47344621662515,
          -124.5938479035508,
          -380.39316046192005,
          1014.7673294082001,
          1579.5187886892331,
          2716.9799546608024,
          3942.8221675810128,
          5398.627255073225,
          6530.230839165504,
          7329.813758951168,
          8302.039746291448,
          10032.99581684467,
          10429.292103029084,
          11185.05279897168,
          12358.525187529947,
          11777.769719588214,
          11327.363449243163,
          10954.544159324123,
          -100.54776625752575,
          -229.8821848442525,
          -104.80808608690023,
          -136.4166226908403,
          150.50495482859316,
          256.85583864003956,
          594.2616590404333,
          609.152269895618,
          1011.2171841587012,
          1288.6404846091332,
          1849.205335149392,
          2465.5178517357754,
          3358.7373723858245,
          3811.510546712875,
          4941.398445578612,
          6851.97426158889,
          8860.154516389779,
          9846.779847086567,
          10465.281685826878,
          10961.99386187708,
          1142.469261,
          779.95149,
          425.7859900000001,
          1016.6477769999999,
          2338.299758,
          3891.948122,
          4669.104206,
          6986.313939,
          7807.729375,
          12331.86884712,
          11025.2483812,
          10963.2797498,
          10214.774375,
          10800.118809
         ],
         "yaxis": "y5"
        },
        {
         "customdata": [
          [
           "T34_1000_enab_em",
           "WITCH 5.0"
          ],
          [
           "T34_1000_enab_em",
           "WITCH 5.0"
          ],
          [
           "T34_1000_enab_em",
           "WITCH 5.0"
          ],
          [
           "T34_1000_enab_em",
           "WITCH 5.0"
          ],
          [
           "T34_1000_enab_em",
           "WITCH 5.0"
          ],
          [
           "T34_1000_enab_em",
           "WITCH 5.0"
          ],
          [
           "T34_1000_enab_em",
           "WITCH 5.0"
          ],
          [
           "T34_1000_enab_em",
           "WITCH 5.0"
          ],
          [
           "T34_1000_enab_em",
           "WITCH 5.0"
          ],
          [
           "T34_1000_enab_em",
           "WITCH 5.0"
          ],
          [
           "T34_1000_enab_em",
           "WITCH 5.0"
          ],
          [
           "T34_1000_enab_em",
           "WITCH 5.0"
          ],
          [
           "T34_1000_enab_em",
           "WITCH 5.0"
          ],
          [
           "T34_1000_enab_em",
           "WITCH 5.0"
          ],
          [
           "T34_1000_enab_em",
           "WITCH 5.0"
          ],
          [
           "T34_1000_enab_em",
           "WITCH 5.0"
          ],
          [
           "T34_1000_enab_em",
           "WITCH 5.0"
          ],
          [
           "T34_1000_enab_em",
           "WITCH 5.0"
          ],
          [
           "T34_1000_enab_em",
           "WITCH 5.0"
          ],
          [
           "T34_1000_enab_em",
           "WITCH 5.0"
          ],
          [
           "T34_1000_enab_em",
           "REMIND 3.0"
          ],
          [
           "T34_1000_enab_em",
           "REMIND 3.0"
          ],
          [
           "T34_1000_enab_em",
           "REMIND 3.0"
          ],
          [
           "T34_1000_enab_em",
           "REMIND 3.0"
          ],
          [
           "T34_1000_enab_em",
           "REMIND 3.0"
          ],
          [
           "T34_1000_enab_em",
           "REMIND 3.0"
          ],
          [
           "T34_1000_enab_em",
           "REMIND 3.0"
          ],
          [
           "T34_1000_enab_em",
           "REMIND 3.0"
          ],
          [
           "T34_1000_enab_em",
           "REMIND 3.0"
          ],
          [
           "T34_1000_enab_em",
           "REMIND 3.0"
          ],
          [
           "T34_1000_enab_em",
           "REMIND 3.0"
          ],
          [
           "T34_1000_enab_em",
           "REMIND 3.0"
          ],
          [
           "T34_1000_enab_em",
           "REMIND 3.0"
          ],
          [
           "T34_1000_enab_em",
           "REMIND 3.0"
          ],
          [
           "T34_1000_enab_em",
           "REMIND 3.0"
          ],
          [
           "T34_1000_enab_em",
           "REMIND 3.0"
          ],
          [
           "T34_1000_enab_em",
           "MESSAGEix-GLOBIOM_1.1"
          ],
          [
           "T34_1000_enab_em",
           "MESSAGEix-GLOBIOM_1.1"
          ],
          [
           "T34_1000_enab_em",
           "MESSAGEix-GLOBIOM_1.1"
          ],
          [
           "T34_1000_enab_em",
           "MESSAGEix-GLOBIOM_1.1"
          ],
          [
           "T34_1000_enab_em",
           "MESSAGEix-GLOBIOM_1.1"
          ],
          [
           "T34_1000_enab_em",
           "MESSAGEix-GLOBIOM_1.1"
          ],
          [
           "T34_1000_enab_em",
           "MESSAGEix-GLOBIOM_1.1"
          ],
          [
           "T34_1000_enab_em",
           "MESSAGEix-GLOBIOM_1.1"
          ],
          [
           "T34_1000_enab_em",
           "MESSAGEix-GLOBIOM_1.1"
          ],
          [
           "T34_1000_enab_em",
           "MESSAGEix-GLOBIOM_1.1"
          ],
          [
           "T34_1000_enab_em",
           "MESSAGEix-GLOBIOM_1.1"
          ],
          [
           "T34_1000_enab_em",
           "MESSAGEix-GLOBIOM_1.1"
          ],
          [
           "T34_1000_enab_em",
           "MESSAGEix-GLOBIOM_1.1"
          ],
          [
           "T34_1000_enab_em",
           "MESSAGEix-GLOBIOM_1.1"
          ],
          [
           "T34_1000_enab_em",
           "MESSAGEix-GLOBIOM_1.1"
          ],
          [
           "T34_1000_enab_em",
           "MESSAGEix-GLOBIOM_1.1"
          ],
          [
           "T34_1000_enab_em",
           "MESSAGEix-GLOBIOM_1.1"
          ],
          [
           "T34_1000_enab_em",
           "MESSAGEix-GLOBIOM_1.1"
          ],
          [
           "T34_1000_enab_em",
           "MESSAGEix-GLOBIOM_1.1"
          ],
          [
           "T34_1000_enab_em",
           "MESSAGEix-GLOBIOM_1.1"
          ]
         ],
         "hovertemplate": "region=OECD<br>scenario_narrative=Inst+Enab<br>year=%{x}<br>Emissions|CO2=%{y}<br>scenario=%{customdata[0]}<br>model=%{customdata[1]}<extra></extra>",
         "legendgroup": "OECD",
         "line": {
          "color": "#EF553B",
          "dash": "solid"
         },
         "marker": {
          "symbol": "circle"
         },
         "mode": "lines",
         "name": "OECD",
         "showlegend": false,
         "type": "scattergl",
         "x": [
          2100,
          2095,
          2090,
          2085,
          2080,
          2075,
          2070,
          2065,
          2060,
          2055,
          2050,
          2045,
          2040,
          2035,
          2030,
          2025,
          2020,
          2015,
          2010,
          2005,
          2100,
          2090,
          2080,
          2070,
          2060,
          2055,
          2050,
          2045,
          2040,
          2035,
          2030,
          2025,
          2020,
          2015,
          2010,
          2005,
          2110,
          2100,
          2090,
          2080,
          2070,
          2060,
          2055,
          2050,
          2045,
          2040,
          2035,
          2030,
          2025,
          2020,
          2015,
          2010,
          2005,
          2000,
          1995,
          1990
         ],
         "xaxis": "x6",
         "y": [
          -536.3633027938267,
          -692.760445198563,
          -1065.5503399408349,
          -1437.194929158079,
          -1887.1998676134829,
          -2103.376179620131,
          -1676.978829163454,
          -1251.040453318562,
          -779.420776250453,
          -136.7184939297463,
          459.98143552076715,
          1018.1263648920158,
          1702.1346570121339,
          2778.552364424551,
          5267.799196959026,
          7127.712417604749,
          8815.047628909653,
          9028.43474036386,
          9653.289125706495,
          10564.827079891358,
          108.70143750000001,
          -247.4768774,
          -483.2042263,
          -509.5877513,
          -234.8024891,
          40.5169879,
          368.9834701,
          936.6079172,
          1835.774303,
          3076.7470550999997,
          4404.387949399999,
          6257.8394796,
          8075.5609438,
          8960.0834127,
          9765.288551099999,
          10834.893790900001,
          -4771.813702866125,
          -4680.875236476681,
          -4020.3665956025134,
          -3665.910061961172,
          -2575.5310374680544,
          -922.8923841605042,
          -128.7232916254822,
          754.7715133051895,
          1781.5634250197863,
          3261.0716848297307,
          4853.54618839535,
          6674.430714674758,
          8302.039746291448,
          10032.99581684467,
          10429.292103029084,
          11185.05279897168,
          12358.525187529947,
          11777.769719588214,
          11327.363449243163,
          10954.544159324123
         ],
         "yaxis": "y6"
        },
        {
         "customdata": [
          [
           "T34_1000_feas_em",
           "WITCH 5.0"
          ],
          [
           "T34_1000_feas_em",
           "WITCH 5.0"
          ],
          [
           "T34_1000_feas_em",
           "WITCH 5.0"
          ],
          [
           "T34_1000_feas_em",
           "WITCH 5.0"
          ],
          [
           "T34_1000_feas_em",
           "WITCH 5.0"
          ],
          [
           "T34_1000_feas_em",
           "WITCH 5.0"
          ],
          [
           "T34_1000_feas_em",
           "WITCH 5.0"
          ],
          [
           "T34_1000_feas_em",
           "WITCH 5.0"
          ],
          [
           "T34_1000_feas_em",
           "WITCH 5.0"
          ],
          [
           "T34_1000_feas_em",
           "WITCH 5.0"
          ],
          [
           "T34_1000_feas_em",
           "WITCH 5.0"
          ],
          [
           "T34_1000_feas_em",
           "WITCH 5.0"
          ],
          [
           "T34_1000_feas_em",
           "WITCH 5.0"
          ],
          [
           "T34_1000_feas_em",
           "WITCH 5.0"
          ],
          [
           "T34_1000_feas_em",
           "WITCH 5.0"
          ],
          [
           "T34_1000_feas_em",
           "WITCH 5.0"
          ],
          [
           "T34_1000_feas_em",
           "WITCH 5.0"
          ],
          [
           "T34_1000_feas_em",
           "WITCH 5.0"
          ],
          [
           "T34_1000_feas_em",
           "WITCH 5.0"
          ],
          [
           "T34_1000_feas_em",
           "WITCH 5.0"
          ],
          [
           "T34_1000_feas_em",
           "REMIND 3.0"
          ],
          [
           "T34_1000_feas_em",
           "REMIND 3.0"
          ],
          [
           "T34_1000_feas_em",
           "REMIND 3.0"
          ],
          [
           "T34_1000_feas_em",
           "REMIND 3.0"
          ],
          [
           "T34_1000_feas_em",
           "REMIND 3.0"
          ],
          [
           "T34_1000_feas_em",
           "REMIND 3.0"
          ],
          [
           "T34_1000_feas_em",
           "REMIND 3.0"
          ],
          [
           "T34_1000_feas_em",
           "REMIND 3.0"
          ],
          [
           "T34_1000_feas_em",
           "REMIND 3.0"
          ],
          [
           "T34_1000_feas_em",
           "REMIND 3.0"
          ],
          [
           "T34_1000_feas_em",
           "REMIND 3.0"
          ],
          [
           "T34_1000_feas_em",
           "REMIND 3.0"
          ],
          [
           "T34_1000_feas_em",
           "REMIND 3.0"
          ],
          [
           "T34_1000_feas_em",
           "REMIND 3.0"
          ],
          [
           "T34_1000_feas_em",
           "REMIND 3.0"
          ],
          [
           "T34_1000_feas_em",
           "REMIND 3.0"
          ],
          [
           "T34_1000_feas_em",
           "POLES ENGAGE"
          ],
          [
           "T34_1000_feas_em",
           "POLES ENGAGE"
          ],
          [
           "T34_1000_feas_em",
           "POLES ENGAGE"
          ],
          [
           "T34_1000_feas_em",
           "POLES ENGAGE"
          ],
          [
           "T34_1000_feas_em",
           "POLES ENGAGE"
          ],
          [
           "T34_1000_feas_em",
           "POLES ENGAGE"
          ],
          [
           "T34_1000_feas_em",
           "POLES ENGAGE"
          ],
          [
           "T34_1000_feas_em",
           "POLES ENGAGE"
          ],
          [
           "T34_1000_feas_em",
           "POLES ENGAGE"
          ],
          [
           "T34_1000_feas_em",
           "POLES ENGAGE"
          ],
          [
           "T34_1000_feas_em",
           "POLES ENGAGE"
          ],
          [
           "T34_1000_feas_em",
           "POLES ENGAGE"
          ],
          [
           "T34_1000_feas_em",
           "POLES ENGAGE"
          ],
          [
           "T34_1000_feas_em",
           "POLES ENGAGE"
          ],
          [
           "T34_1000_feas_em",
           "POLES ENGAGE"
          ],
          [
           "T34_1000_feas_em",
           "MESSAGEix-GLOBIOM_1.1"
          ],
          [
           "T34_1000_feas_em",
           "MESSAGEix-GLOBIOM_1.1"
          ],
          [
           "T34_1000_feas_em",
           "MESSAGEix-GLOBIOM_1.1"
          ],
          [
           "T34_1000_feas_em",
           "MESSAGEix-GLOBIOM_1.1"
          ],
          [
           "T34_1000_feas_em",
           "MESSAGEix-GLOBIOM_1.1"
          ],
          [
           "T34_1000_feas_em",
           "MESSAGEix-GLOBIOM_1.1"
          ],
          [
           "T34_1000_feas_em",
           "MESSAGEix-GLOBIOM_1.1"
          ],
          [
           "T34_1000_feas_em",
           "MESSAGEix-GLOBIOM_1.1"
          ],
          [
           "T34_1000_feas_em",
           "MESSAGEix-GLOBIOM_1.1"
          ],
          [
           "T34_1000_feas_em",
           "MESSAGEix-GLOBIOM_1.1"
          ],
          [
           "T34_1000_feas_em",
           "MESSAGEix-GLOBIOM_1.1"
          ],
          [
           "T34_1000_feas_em",
           "MESSAGEix-GLOBIOM_1.1"
          ],
          [
           "T34_1000_feas_em",
           "MESSAGEix-GLOBIOM_1.1"
          ],
          [
           "T34_1000_feas_em",
           "MESSAGEix-GLOBIOM_1.1"
          ],
          [
           "T34_1000_feas_em",
           "MESSAGEix-GLOBIOM_1.1"
          ],
          [
           "T34_1000_feas_em",
           "MESSAGEix-GLOBIOM_1.1"
          ],
          [
           "T34_1000_feas_em",
           "MESSAGEix-GLOBIOM_1.1"
          ],
          [
           "T34_1000_feas_em",
           "MESSAGEix-GLOBIOM_1.1"
          ],
          [
           "T34_1000_feas_em",
           "MESSAGEix-GLOBIOM_1.1"
          ],
          [
           "T34_1000_feas_em",
           "MESSAGEix-GLOBIOM_1.1"
          ],
          [
           "T34_1000_feas_em",
           "IMAGE 3.2"
          ],
          [
           "T34_1000_feas_em",
           "IMAGE 3.2"
          ],
          [
           "T34_1000_feas_em",
           "IMAGE 3.2"
          ],
          [
           "T34_1000_feas_em",
           "IMAGE 3.2"
          ],
          [
           "T34_1000_feas_em",
           "IMAGE 3.2"
          ],
          [
           "T34_1000_feas_em",
           "IMAGE 3.2"
          ],
          [
           "T34_1000_feas_em",
           "IMAGE 3.2"
          ],
          [
           "T34_1000_feas_em",
           "IMAGE 3.2"
          ],
          [
           "T34_1000_feas_em",
           "IMAGE 3.2"
          ],
          [
           "T34_1000_feas_em",
           "IMAGE 3.2"
          ],
          [
           "T34_1000_feas_em",
           "IMAGE 3.2"
          ],
          [
           "T34_1000_feas_em",
           "IMAGE 3.2"
          ],
          [
           "T34_1000_feas_em",
           "IMAGE 3.2"
          ],
          [
           "T34_1000_feas_em",
           "IMAGE 3.2"
          ],
          [
           "T34_1000_feas_em",
           "IMAGE 3.2"
          ],
          [
           "T34_1000_feas_em",
           "IMAGE 3.2"
          ],
          [
           "T34_1000_feas_em",
           "IMAGE 3.2"
          ],
          [
           "T34_1000_feas_em",
           "IMAGE 3.2"
          ],
          [
           "T34_1000_feas_em",
           "IMAGE 3.2"
          ],
          [
           "T34_1000_feas_em",
           "IMAGE 3.2"
          ],
          [
           "T34_1000_feas_em",
           "GEM-E3_V2023"
          ],
          [
           "T34_1000_feas_em",
           "GEM-E3_V2023"
          ],
          [
           "T34_1000_feas_em",
           "GEM-E3_V2023"
          ],
          [
           "T34_1000_feas_em",
           "GEM-E3_V2023"
          ],
          [
           "T34_1000_feas_em",
           "GEM-E3_V2023"
          ],
          [
           "T34_1000_feas_em",
           "GEM-E3_V2023"
          ],
          [
           "T34_1000_feas_em",
           "GEM-E3_V2023"
          ],
          [
           "T34_1000_feas_em",
           "GEM-E3_V2023"
          ],
          [
           "T34_1000_feas_em",
           "GEM-E3_V2023"
          ],
          [
           "T34_1000_feas_em",
           "GEM-E3_V2023"
          ],
          [
           "T34_1000_feas_em",
           "GEM-E3_V2023"
          ],
          [
           "T34_1000_feas_em",
           "GEM-E3_V2023"
          ],
          [
           "T34_1000_feas_em",
           "GEM-E3_V2023"
          ],
          [
           "T34_1000_feas_em",
           "GEM-E3_V2023"
          ],
          [
           "T34_1000_feas_em",
           "GEM-E3_V2023"
          ],
          [
           "T34_1000_feas_em",
           "GEM-E3_V2023"
          ],
          [
           "T34_1000_feas_em",
           "GEM-E3_V2023"
          ],
          [
           "T34_1000_feas_em",
           "GEM-E3_V2023"
          ],
          [
           "T34_1000_feas_em",
           "AIM/CGE V2.2"
          ],
          [
           "T34_1000_feas_em",
           "AIM/CGE V2.2"
          ],
          [
           "T34_1000_feas_em",
           "AIM/CGE V2.2"
          ],
          [
           "T34_1000_feas_em",
           "AIM/CGE V2.2"
          ],
          [
           "T34_1000_feas_em",
           "AIM/CGE V2.2"
          ],
          [
           "T34_1000_feas_em",
           "AIM/CGE V2.2"
          ],
          [
           "T34_1000_feas_em",
           "AIM/CGE V2.2"
          ],
          [
           "T34_1000_feas_em",
           "AIM/CGE V2.2"
          ],
          [
           "T34_1000_feas_em",
           "AIM/CGE V2.2"
          ],
          [
           "T34_1000_feas_em",
           "AIM/CGE V2.2"
          ],
          [
           "T34_1000_feas_em",
           "AIM/CGE V2.2"
          ],
          [
           "T34_1000_feas_em",
           "AIM/CGE V2.2"
          ],
          [
           "T34_1000_feas_em",
           "AIM/CGE V2.2"
          ],
          [
           "T34_1000_feas_em",
           "AIM/CGE V2.2"
          ],
          [
           "T34_1000_feas_em",
           "AIM/CGE V2.2"
          ],
          [
           "T34_1000_feas_em",
           "AIM/CGE V2.2"
          ],
          [
           "T34_1000_feas_em",
           "AIM/CGE V2.2"
          ],
          [
           "T34_1000_feas_em",
           "AIM/CGE V2.2"
          ],
          [
           "T34_1000_feas_em",
           "AIM/CGE V2.2"
          ]
         ],
         "hovertemplate": "region=OECD<br>scenario_narrative=Tech+Inst+Enab<br>year=%{x}<br>Emissions|CO2=%{y}<br>scenario=%{customdata[0]}<br>model=%{customdata[1]}<extra></extra>",
         "legendgroup": "OECD",
         "line": {
          "color": "#EF553B",
          "dash": "solid"
         },
         "marker": {
          "symbol": "circle"
         },
         "mode": "lines",
         "name": "OECD",
         "showlegend": false,
         "type": "scattergl",
         "x": [
          2100,
          2095,
          2090,
          2085,
          2080,
          2075,
          2070,
          2065,
          2060,
          2055,
          2050,
          2045,
          2040,
          2035,
          2030,
          2025,
          2020,
          2015,
          2010,
          2005,
          2100,
          2090,
          2080,
          2070,
          2060,
          2055,
          2050,
          2045,
          2040,
          2035,
          2030,
          2025,
          2020,
          2015,
          2010,
          2005,
          2100,
          2090,
          2080,
          2070,
          2060,
          2050,
          2045,
          2040,
          2035,
          2030,
          2025,
          2020,
          2015,
          2010,
          2005,
          2110,
          2100,
          2090,
          2080,
          2070,
          2060,
          2055,
          2050,
          2045,
          2040,
          2035,
          2030,
          2025,
          2020,
          2015,
          2010,
          2005,
          2000,
          1995,
          1990,
          2100,
          2095,
          2090,
          2085,
          2080,
          2075,
          2070,
          2065,
          2060,
          2055,
          2050,
          2045,
          2040,
          2035,
          2030,
          2025,
          2020,
          2015,
          2010,
          2005,
          2100,
          2095,
          2090,
          2085,
          2080,
          2075,
          2070,
          2065,
          2060,
          2055,
          2050,
          2045,
          2040,
          2035,
          2030,
          2025,
          2020,
          2015,
          2100,
          2095,
          2090,
          2085,
          2080,
          2075,
          2070,
          2065,
          2060,
          2055,
          2050,
          2045,
          2040,
          2035,
          2030,
          2025,
          2020,
          2015,
          2010
         ],
         "xaxis": "x",
         "y": [
          -1196.7725392806,
          -1394.848831238771,
          -1718.8329622756498,
          -1860.8540530479593,
          -1688.709718696272,
          -1457.3762034690592,
          -1227.0173714890961,
          -954.7470409571672,
          -726.54701634943,
          -444.903514083109,
          -111.33656950390943,
          493.20717341588033,
          1158.6535548385555,
          2025.8403984520392,
          3801.369054391761,
          6751.970094243656,
          8815.047628909653,
          9028.43474036386,
          9653.289125706495,
          10564.827079891358,
          95.73994400000001,
          -341.1911606,
          -418.44877099999997,
          -379.853223,
          -162.626554,
          76.3256288,
          364.07010379999997,
          909.8082325,
          1817.0188037,
          3020.7936228,
          4362.5440849999995,
          6256.2332962,
          8075.5609438,
          8960.0834127,
          9765.288551099999,
          10834.893790900001,
          649.3956756591797,
          -1406.7457885742188,
          -2168.1610717773438,
          -1813.8944702148438,
          -1075.5846252441406,
          49.83774185180664,
          492.02076721191406,
          1335.0441284179688,
          2331.133544921875,
          3800.6171875,
          6967.529541015625,
          8150.056640625,
          9321.853759765625,
          9923.6884765625,
          10254.65576171875,
          -4699.237857520328,
          -4584.9643437280165,
          -4038.6995628688837,
          -3672.3548455880764,
          -2570.9768550251465,
          -915.1776056599381,
          -122.95794016345607,
          754.3347434931384,
          1819.477100058754,
          3309.139517158265,
          4909.585953450824,
          6743.260884832473,
          8302.039746291448,
          10032.99581684467,
          10429.292103029084,
          11185.05279897168,
          12358.525187529947,
          11777.769719588214,
          11327.363449243163,
          10954.544159324123,
          -1259.6099322589928,
          -1471.9147289342661,
          -1500.593183971765,
          -1361.8668331748518,
          -1226.3977849803669,
          -1275.3671761718506,
          -899.1652724765584,
          -671.0230335209833,
          -159.4505007610635,
          465.7452504263533,
          1339.5571875200526,
          1946.396647312362,
          2831.3834981313403,
          3522.56559276815,
          4555.846174018498,
          6404.011978731597,
          8826.683091012386,
          9846.764964680968,
          10465.275867141982,
          10961.99386187708,
          -1228.9434849842717,
          -1097.4190293614568,
          -1295.6307579261722,
          -1386.0151358807593,
          -1921.9096940028912,
          -2070.931157588102,
          -2040.7966066750469,
          -1859.0309756219262,
          -1629.9693386244758,
          -1309.917556995077,
          -507.34890850652835,
          -74.2395989224708,
          1381.103731405281,
          3233.1205961490004,
          5174.797660064683,
          6816.008960111122,
          7465.529215351675,
          8579.79255639537,
          -1484.7992,
          -1576.4231,
          -1680.6479,
          -1790.3944999999999,
          -1902.315,
          -2023.6847999999998,
          -2139.707,
          -2250.6037,
          -2344.9719,
          -2316.6785999999997,
          -2014.9534999999998,
          297.4588,
          2247.1090999999997,
          3439.0384000000004,
          4941.4292000000005,
          7346.235500000001,
          9675.1502,
          9821.216199999999,
          10618.129400000002
         ],
         "yaxis": "y"
        },
        {
         "customdata": [
          [
           "T34_1000_govem",
           "WITCH 5.0"
          ],
          [
           "T34_1000_govem",
           "WITCH 5.0"
          ],
          [
           "T34_1000_govem",
           "WITCH 5.0"
          ],
          [
           "T34_1000_govem",
           "WITCH 5.0"
          ],
          [
           "T34_1000_govem",
           "WITCH 5.0"
          ],
          [
           "T34_1000_govem",
           "WITCH 5.0"
          ],
          [
           "T34_1000_govem",
           "WITCH 5.0"
          ],
          [
           "T34_1000_govem",
           "WITCH 5.0"
          ],
          [
           "T34_1000_govem",
           "WITCH 5.0"
          ],
          [
           "T34_1000_govem",
           "WITCH 5.0"
          ],
          [
           "T34_1000_govem",
           "WITCH 5.0"
          ],
          [
           "T34_1000_govem",
           "WITCH 5.0"
          ],
          [
           "T34_1000_govem",
           "WITCH 5.0"
          ],
          [
           "T34_1000_govem",
           "WITCH 5.0"
          ],
          [
           "T34_1000_govem",
           "WITCH 5.0"
          ],
          [
           "T34_1000_govem",
           "WITCH 5.0"
          ],
          [
           "T34_1000_govem",
           "WITCH 5.0"
          ],
          [
           "T34_1000_govem",
           "WITCH 5.0"
          ],
          [
           "T34_1000_govem",
           "WITCH 5.0"
          ],
          [
           "T34_1000_govem",
           "WITCH 5.0"
          ],
          [
           "T34_1000_govem",
           "REMIND 3.0"
          ],
          [
           "T34_1000_govem",
           "REMIND 3.0"
          ],
          [
           "T34_1000_govem",
           "REMIND 3.0"
          ],
          [
           "T34_1000_govem",
           "REMIND 3.0"
          ],
          [
           "T34_1000_govem",
           "REMIND 3.0"
          ],
          [
           "T34_1000_govem",
           "REMIND 3.0"
          ],
          [
           "T34_1000_govem",
           "REMIND 3.0"
          ],
          [
           "T34_1000_govem",
           "REMIND 3.0"
          ],
          [
           "T34_1000_govem",
           "REMIND 3.0"
          ],
          [
           "T34_1000_govem",
           "REMIND 3.0"
          ],
          [
           "T34_1000_govem",
           "REMIND 3.0"
          ],
          [
           "T34_1000_govem",
           "REMIND 3.0"
          ],
          [
           "T34_1000_govem",
           "REMIND 3.0"
          ],
          [
           "T34_1000_govem",
           "REMIND 3.0"
          ],
          [
           "T34_1000_govem",
           "REMIND 3.0"
          ],
          [
           "T34_1000_govem",
           "REMIND 3.0"
          ],
          [
           "T34_1000_govem",
           "POLES ENGAGE"
          ],
          [
           "T34_1000_govem",
           "POLES ENGAGE"
          ],
          [
           "T34_1000_govem",
           "POLES ENGAGE"
          ],
          [
           "T34_1000_govem",
           "POLES ENGAGE"
          ],
          [
           "T34_1000_govem",
           "POLES ENGAGE"
          ],
          [
           "T34_1000_govem",
           "POLES ENGAGE"
          ],
          [
           "T34_1000_govem",
           "POLES ENGAGE"
          ],
          [
           "T34_1000_govem",
           "POLES ENGAGE"
          ],
          [
           "T34_1000_govem",
           "POLES ENGAGE"
          ],
          [
           "T34_1000_govem",
           "POLES ENGAGE"
          ],
          [
           "T34_1000_govem",
           "POLES ENGAGE"
          ],
          [
           "T34_1000_govem",
           "POLES ENGAGE"
          ],
          [
           "T34_1000_govem",
           "POLES ENGAGE"
          ],
          [
           "T34_1000_govem",
           "POLES ENGAGE"
          ],
          [
           "T34_1000_govem",
           "POLES ENGAGE"
          ],
          [
           "T34_1000_govem",
           "MESSAGEix-GLOBIOM_1.1"
          ],
          [
           "T34_1000_govem",
           "MESSAGEix-GLOBIOM_1.1"
          ],
          [
           "T34_1000_govem",
           "MESSAGEix-GLOBIOM_1.1"
          ],
          [
           "T34_1000_govem",
           "MESSAGEix-GLOBIOM_1.1"
          ],
          [
           "T34_1000_govem",
           "MESSAGEix-GLOBIOM_1.1"
          ],
          [
           "T34_1000_govem",
           "MESSAGEix-GLOBIOM_1.1"
          ],
          [
           "T34_1000_govem",
           "MESSAGEix-GLOBIOM_1.1"
          ],
          [
           "T34_1000_govem",
           "MESSAGEix-GLOBIOM_1.1"
          ],
          [
           "T34_1000_govem",
           "MESSAGEix-GLOBIOM_1.1"
          ],
          [
           "T34_1000_govem",
           "MESSAGEix-GLOBIOM_1.1"
          ],
          [
           "T34_1000_govem",
           "MESSAGEix-GLOBIOM_1.1"
          ],
          [
           "T34_1000_govem",
           "MESSAGEix-GLOBIOM_1.1"
          ],
          [
           "T34_1000_govem",
           "MESSAGEix-GLOBIOM_1.1"
          ],
          [
           "T34_1000_govem",
           "MESSAGEix-GLOBIOM_1.1"
          ],
          [
           "T34_1000_govem",
           "MESSAGEix-GLOBIOM_1.1"
          ],
          [
           "T34_1000_govem",
           "MESSAGEix-GLOBIOM_1.1"
          ],
          [
           "T34_1000_govem",
           "MESSAGEix-GLOBIOM_1.1"
          ],
          [
           "T34_1000_govem",
           "MESSAGEix-GLOBIOM_1.1"
          ],
          [
           "T34_1000_govem",
           "MESSAGEix-GLOBIOM_1.1"
          ],
          [
           "T34_1000_govem",
           "MESSAGEix-GLOBIOM_1.1"
          ],
          [
           "T34_1000_govem",
           "IMAGE 3.2"
          ],
          [
           "T34_1000_govem",
           "IMAGE 3.2"
          ],
          [
           "T34_1000_govem",
           "IMAGE 3.2"
          ],
          [
           "T34_1000_govem",
           "IMAGE 3.2"
          ],
          [
           "T34_1000_govem",
           "IMAGE 3.2"
          ],
          [
           "T34_1000_govem",
           "IMAGE 3.2"
          ],
          [
           "T34_1000_govem",
           "IMAGE 3.2"
          ],
          [
           "T34_1000_govem",
           "IMAGE 3.2"
          ],
          [
           "T34_1000_govem",
           "IMAGE 3.2"
          ],
          [
           "T34_1000_govem",
           "IMAGE 3.2"
          ],
          [
           "T34_1000_govem",
           "IMAGE 3.2"
          ],
          [
           "T34_1000_govem",
           "IMAGE 3.2"
          ],
          [
           "T34_1000_govem",
           "IMAGE 3.2"
          ],
          [
           "T34_1000_govem",
           "IMAGE 3.2"
          ],
          [
           "T34_1000_govem",
           "IMAGE 3.2"
          ],
          [
           "T34_1000_govem",
           "IMAGE 3.2"
          ],
          [
           "T34_1000_govem",
           "IMAGE 3.2"
          ],
          [
           "T34_1000_govem",
           "IMAGE 3.2"
          ],
          [
           "T34_1000_govem",
           "IMAGE 3.2"
          ],
          [
           "T34_1000_govem",
           "IMAGE 3.2"
          ],
          [
           "T34_1000_govem",
           "GEM-E3_V2023"
          ],
          [
           "T34_1000_govem",
           "GEM-E3_V2023"
          ],
          [
           "T34_1000_govem",
           "GEM-E3_V2023"
          ],
          [
           "T34_1000_govem",
           "GEM-E3_V2023"
          ],
          [
           "T34_1000_govem",
           "GEM-E3_V2023"
          ],
          [
           "T34_1000_govem",
           "GEM-E3_V2023"
          ],
          [
           "T34_1000_govem",
           "GEM-E3_V2023"
          ],
          [
           "T34_1000_govem",
           "GEM-E3_V2023"
          ],
          [
           "T34_1000_govem",
           "GEM-E3_V2023"
          ],
          [
           "T34_1000_govem",
           "GEM-E3_V2023"
          ],
          [
           "T34_1000_govem",
           "GEM-E3_V2023"
          ],
          [
           "T34_1000_govem",
           "GEM-E3_V2023"
          ],
          [
           "T34_1000_govem",
           "GEM-E3_V2023"
          ],
          [
           "T34_1000_govem",
           "GEM-E3_V2023"
          ],
          [
           "T34_1000_govem",
           "GEM-E3_V2023"
          ],
          [
           "T34_1000_govem",
           "GEM-E3_V2023"
          ],
          [
           "T34_1000_govem",
           "GEM-E3_V2023"
          ],
          [
           "T34_1000_govem",
           "GEM-E3_V2023"
          ],
          [
           "T34_1000_govem",
           "AIM/CGE V2.2"
          ],
          [
           "T34_1000_govem",
           "AIM/CGE V2.2"
          ],
          [
           "T34_1000_govem",
           "AIM/CGE V2.2"
          ],
          [
           "T34_1000_govem",
           "AIM/CGE V2.2"
          ],
          [
           "T34_1000_govem",
           "AIM/CGE V2.2"
          ],
          [
           "T34_1000_govem",
           "AIM/CGE V2.2"
          ],
          [
           "T34_1000_govem",
           "AIM/CGE V2.2"
          ],
          [
           "T34_1000_govem",
           "AIM/CGE V2.2"
          ],
          [
           "T34_1000_govem",
           "AIM/CGE V2.2"
          ],
          [
           "T34_1000_govem",
           "AIM/CGE V2.2"
          ],
          [
           "T34_1000_govem",
           "AIM/CGE V2.2"
          ],
          [
           "T34_1000_govem",
           "AIM/CGE V2.2"
          ],
          [
           "T34_1000_govem",
           "AIM/CGE V2.2"
          ],
          [
           "T34_1000_govem",
           "AIM/CGE V2.2"
          ],
          [
           "T34_1000_govem",
           "AIM/CGE V2.2"
          ],
          [
           "T34_1000_govem",
           "AIM/CGE V2.2"
          ],
          [
           "T34_1000_govem",
           "AIM/CGE V2.2"
          ],
          [
           "T34_1000_govem",
           "AIM/CGE V2.2"
          ],
          [
           "T34_1000_govem",
           "AIM/CGE V2.2"
          ]
         ],
         "hovertemplate": "region=OECD<br>scenario_narrative=Instit<br>year=%{x}<br>Emissions|CO2=%{y}<br>scenario=%{customdata[0]}<br>model=%{customdata[1]}<extra></extra>",
         "legendgroup": "OECD",
         "line": {
          "color": "#EF553B",
          "dash": "solid"
         },
         "marker": {
          "symbol": "circle"
         },
         "mode": "lines",
         "name": "OECD",
         "showlegend": false,
         "type": "scattergl",
         "x": [
          2100,
          2095,
          2090,
          2085,
          2080,
          2075,
          2070,
          2065,
          2060,
          2055,
          2050,
          2045,
          2040,
          2035,
          2030,
          2025,
          2020,
          2015,
          2010,
          2005,
          2100,
          2090,
          2080,
          2070,
          2060,
          2055,
          2050,
          2045,
          2040,
          2035,
          2030,
          2025,
          2020,
          2015,
          2010,
          2005,
          2100,
          2090,
          2080,
          2070,
          2060,
          2050,
          2045,
          2040,
          2035,
          2030,
          2025,
          2020,
          2015,
          2010,
          2005,
          2110,
          2100,
          2090,
          2080,
          2070,
          2060,
          2055,
          2050,
          2045,
          2040,
          2035,
          2030,
          2025,
          2020,
          2015,
          2010,
          2005,
          2000,
          1995,
          1990,
          2100,
          2095,
          2090,
          2085,
          2080,
          2075,
          2070,
          2065,
          2060,
          2055,
          2050,
          2045,
          2040,
          2035,
          2030,
          2025,
          2020,
          2015,
          2010,
          2005,
          2100,
          2095,
          2090,
          2085,
          2080,
          2075,
          2070,
          2065,
          2060,
          2055,
          2050,
          2045,
          2040,
          2035,
          2030,
          2025,
          2020,
          2015,
          2100,
          2095,
          2090,
          2085,
          2080,
          2075,
          2070,
          2065,
          2060,
          2055,
          2050,
          2045,
          2040,
          2035,
          2030,
          2025,
          2020,
          2015,
          2010
         ],
         "xaxis": "x2",
         "y": [
          -1138.9601376880983,
          -964.0014330898159,
          -1213.854349520996,
          -1946.248252293843,
          -2174.278239179755,
          -2159.275056570994,
          -1673.958082191839,
          -1256.4582401144219,
          -873.233739564168,
          -445.8574444584721,
          155.0218649599334,
          782.6409014758267,
          1447.791797288641,
          2091.8118367951147,
          3063.8419479118456,
          5806.697171996105,
          8815.047628909653,
          9028.43474036386,
          9653.289125706495,
          10564.827079891358,
          161.75395300000002,
          -519.8206405,
          -1035.1638582,
          -1291.6171263,
          -1088.6588484000001,
          -659.8181853,
          -188.45501180000002,
          534.9478407,
          1842.4669755,
          3420.4296923,
          5026.1049379,
          6504.4583206,
          8075.5609438,
          8960.0834127,
          9765.288551099999,
          10834.893790900001,
          1485.6800842285156,
          -1296.4081420898438,
          -2510.0852661132812,
          -1975.39404296875,
          -1104.7589111328125,
          81.90594100952148,
          511.3316192626953,
          1566.5718994140625,
          3024.7188720703125,
          4548.8421630859375,
          7314.174560546875,
          8150.056640625,
          9321.853759765625,
          9923.6884765625,
          10254.65576171875,
          -6818.946237684158,
          -6933.090682317161,
          -6502.232777336313,
          -5581.866653470333,
          -2994.8079200955235,
          -1146.8409358580716,
          -467.3330496954728,
          192.99978170381723,
          968.0695720039871,
          2161.2896502215785,
          3681.2186372129877,
          5668.257208579666,
          8302.039746291448,
          10032.99581684467,
          10429.292103029084,
          11185.05279897168,
          12358.525187529947,
          11777.769719588214,
          11327.363449243163,
          10954.544159324123,
          -239.63985890341792,
          -224.50890733852512,
          -4.958291888687725,
          -226.99954313116586,
          -148.14091651991674,
          -415.2019221266071,
          -410.50084992007993,
          -318.35620135976217,
          -105.27089533173395,
          16.120204927002533,
          627.164907671405,
          1264.2801126993666,
          2321.762583625783,
          3583.573440877537,
          4972.633062178945,
          7009.637487412956,
          8860.154516389779,
          9846.779847086567,
          10465.281685826878,
          10961.99386187708,
          -1993.4480922298449,
          -1562.4505616711149,
          -1617.8626462186999,
          -1739.9071741968646,
          -2514.2350720795453,
          -2995.2128609792826,
          -2828.7012909871746,
          -2646.9918892060223,
          -2354.034710625586,
          -1419.9243634220998,
          -464.87975060982353,
          -41.908908889168174,
          1502.8687641701501,
          3335.167712140641,
          5529.948681416344,
          6956.198530052858,
          7465.529215351675,
          8579.79255639537,
          -3657.9009,
          -3679.302,
          -3704.1724,
          -3689.3036,
          -3679.3487999999998,
          -3564.4929999999995,
          -3392.4692999999997,
          -3159.4159,
          -2859.3673000000003,
          -2975.6791000000003,
          -687.5994000000001,
          1297.0883,
          3502.952,
          5200.7235,
          6318.1089,
          7770.3649000000005,
          9676.3207,
          9821.216199999999,
          10618.129400000002
         ],
         "yaxis": "y2"
        },
        {
         "customdata": [
          [
           "T34_1000_ref",
           "WITCH 5.0"
          ],
          [
           "T34_1000_ref",
           "WITCH 5.0"
          ],
          [
           "T34_1000_ref",
           "WITCH 5.0"
          ],
          [
           "T34_1000_ref",
           "WITCH 5.0"
          ],
          [
           "T34_1000_ref",
           "WITCH 5.0"
          ],
          [
           "T34_1000_ref",
           "WITCH 5.0"
          ],
          [
           "T34_1000_ref",
           "WITCH 5.0"
          ],
          [
           "T34_1000_ref",
           "WITCH 5.0"
          ],
          [
           "T34_1000_ref",
           "WITCH 5.0"
          ],
          [
           "T34_1000_ref",
           "WITCH 5.0"
          ],
          [
           "T34_1000_ref",
           "WITCH 5.0"
          ],
          [
           "T34_1000_ref",
           "WITCH 5.0"
          ],
          [
           "T34_1000_ref",
           "WITCH 5.0"
          ],
          [
           "T34_1000_ref",
           "WITCH 5.0"
          ],
          [
           "T34_1000_ref",
           "WITCH 5.0"
          ],
          [
           "T34_1000_ref",
           "WITCH 5.0"
          ],
          [
           "T34_1000_ref",
           "WITCH 5.0"
          ],
          [
           "T34_1000_ref",
           "WITCH 5.0"
          ],
          [
           "T34_1000_ref",
           "WITCH 5.0"
          ],
          [
           "T34_1000_ref",
           "WITCH 5.0"
          ],
          [
           "T34_1000_ref",
           "REMIND 3.0"
          ],
          [
           "T34_1000_ref",
           "REMIND 3.0"
          ],
          [
           "T34_1000_ref",
           "REMIND 3.0"
          ],
          [
           "T34_1000_ref",
           "REMIND 3.0"
          ],
          [
           "T34_1000_ref",
           "REMIND 3.0"
          ],
          [
           "T34_1000_ref",
           "REMIND 3.0"
          ],
          [
           "T34_1000_ref",
           "REMIND 3.0"
          ],
          [
           "T34_1000_ref",
           "REMIND 3.0"
          ],
          [
           "T34_1000_ref",
           "REMIND 3.0"
          ],
          [
           "T34_1000_ref",
           "REMIND 3.0"
          ],
          [
           "T34_1000_ref",
           "REMIND 3.0"
          ],
          [
           "T34_1000_ref",
           "REMIND 3.0"
          ],
          [
           "T34_1000_ref",
           "REMIND 3.0"
          ],
          [
           "T34_1000_ref",
           "REMIND 3.0"
          ],
          [
           "T34_1000_ref",
           "REMIND 3.0"
          ],
          [
           "T34_1000_ref",
           "REMIND 3.0"
          ],
          [
           "T34_1000_ref",
           "POLES ENGAGE"
          ],
          [
           "T34_1000_ref",
           "POLES ENGAGE"
          ],
          [
           "T34_1000_ref",
           "POLES ENGAGE"
          ],
          [
           "T34_1000_ref",
           "POLES ENGAGE"
          ],
          [
           "T34_1000_ref",
           "POLES ENGAGE"
          ],
          [
           "T34_1000_ref",
           "POLES ENGAGE"
          ],
          [
           "T34_1000_ref",
           "POLES ENGAGE"
          ],
          [
           "T34_1000_ref",
           "POLES ENGAGE"
          ],
          [
           "T34_1000_ref",
           "POLES ENGAGE"
          ],
          [
           "T34_1000_ref",
           "POLES ENGAGE"
          ],
          [
           "T34_1000_ref",
           "POLES ENGAGE"
          ],
          [
           "T34_1000_ref",
           "POLES ENGAGE"
          ],
          [
           "T34_1000_ref",
           "POLES ENGAGE"
          ],
          [
           "T34_1000_ref",
           "POLES ENGAGE"
          ],
          [
           "T34_1000_ref",
           "POLES ENGAGE"
          ],
          [
           "T34_1000_ref",
           "MESSAGEix-GLOBIOM_1.1"
          ],
          [
           "T34_1000_ref",
           "MESSAGEix-GLOBIOM_1.1"
          ],
          [
           "T34_1000_ref",
           "MESSAGEix-GLOBIOM_1.1"
          ],
          [
           "T34_1000_ref",
           "MESSAGEix-GLOBIOM_1.1"
          ],
          [
           "T34_1000_ref",
           "MESSAGEix-GLOBIOM_1.1"
          ],
          [
           "T34_1000_ref",
           "MESSAGEix-GLOBIOM_1.1"
          ],
          [
           "T34_1000_ref",
           "MESSAGEix-GLOBIOM_1.1"
          ],
          [
           "T34_1000_ref",
           "MESSAGEix-GLOBIOM_1.1"
          ],
          [
           "T34_1000_ref",
           "MESSAGEix-GLOBIOM_1.1"
          ],
          [
           "T34_1000_ref",
           "MESSAGEix-GLOBIOM_1.1"
          ],
          [
           "T34_1000_ref",
           "MESSAGEix-GLOBIOM_1.1"
          ],
          [
           "T34_1000_ref",
           "MESSAGEix-GLOBIOM_1.1"
          ],
          [
           "T34_1000_ref",
           "MESSAGEix-GLOBIOM_1.1"
          ],
          [
           "T34_1000_ref",
           "MESSAGEix-GLOBIOM_1.1"
          ],
          [
           "T34_1000_ref",
           "MESSAGEix-GLOBIOM_1.1"
          ],
          [
           "T34_1000_ref",
           "MESSAGEix-GLOBIOM_1.1"
          ],
          [
           "T34_1000_ref",
           "MESSAGEix-GLOBIOM_1.1"
          ],
          [
           "T34_1000_ref",
           "MESSAGEix-GLOBIOM_1.1"
          ],
          [
           "T34_1000_ref",
           "MESSAGEix-GLOBIOM_1.1"
          ],
          [
           "T34_1000_ref",
           "MESSAGEix-GLOBIOM_1.1"
          ],
          [
           "T34_1000_ref",
           "IMAGE 3.2"
          ],
          [
           "T34_1000_ref",
           "IMAGE 3.2"
          ],
          [
           "T34_1000_ref",
           "IMAGE 3.2"
          ],
          [
           "T34_1000_ref",
           "IMAGE 3.2"
          ],
          [
           "T34_1000_ref",
           "IMAGE 3.2"
          ],
          [
           "T34_1000_ref",
           "IMAGE 3.2"
          ],
          [
           "T34_1000_ref",
           "IMAGE 3.2"
          ],
          [
           "T34_1000_ref",
           "IMAGE 3.2"
          ],
          [
           "T34_1000_ref",
           "IMAGE 3.2"
          ],
          [
           "T34_1000_ref",
           "IMAGE 3.2"
          ],
          [
           "T34_1000_ref",
           "IMAGE 3.2"
          ],
          [
           "T34_1000_ref",
           "IMAGE 3.2"
          ],
          [
           "T34_1000_ref",
           "IMAGE 3.2"
          ],
          [
           "T34_1000_ref",
           "IMAGE 3.2"
          ],
          [
           "T34_1000_ref",
           "IMAGE 3.2"
          ],
          [
           "T34_1000_ref",
           "IMAGE 3.2"
          ],
          [
           "T34_1000_ref",
           "IMAGE 3.2"
          ],
          [
           "T34_1000_ref",
           "IMAGE 3.2"
          ],
          [
           "T34_1000_ref",
           "IMAGE 3.2"
          ],
          [
           "T34_1000_ref",
           "IMAGE 3.2"
          ],
          [
           "T34_1000_ref",
           "GEM-E3_V2023"
          ],
          [
           "T34_1000_ref",
           "GEM-E3_V2023"
          ],
          [
           "T34_1000_ref",
           "GEM-E3_V2023"
          ],
          [
           "T34_1000_ref",
           "GEM-E3_V2023"
          ],
          [
           "T34_1000_ref",
           "GEM-E3_V2023"
          ],
          [
           "T34_1000_ref",
           "GEM-E3_V2023"
          ],
          [
           "T34_1000_ref",
           "GEM-E3_V2023"
          ],
          [
           "T34_1000_ref",
           "GEM-E3_V2023"
          ],
          [
           "T34_1000_ref",
           "GEM-E3_V2023"
          ],
          [
           "T34_1000_ref",
           "GEM-E3_V2023"
          ],
          [
           "T34_1000_ref",
           "GEM-E3_V2023"
          ],
          [
           "T34_1000_ref",
           "GEM-E3_V2023"
          ],
          [
           "T34_1000_ref",
           "GEM-E3_V2023"
          ],
          [
           "T34_1000_ref",
           "GEM-E3_V2023"
          ],
          [
           "T34_1000_ref",
           "GEM-E3_V2023"
          ],
          [
           "T34_1000_ref",
           "GEM-E3_V2023"
          ],
          [
           "T34_1000_ref",
           "GEM-E3_V2023"
          ],
          [
           "T34_1000_ref",
           "GEM-E3_V2023"
          ],
          [
           "T34_1000_ref",
           "COFFEE 1.5"
          ],
          [
           "T34_1000_ref",
           "COFFEE 1.5"
          ],
          [
           "T34_1000_ref",
           "COFFEE 1.5"
          ],
          [
           "T34_1000_ref",
           "COFFEE 1.5"
          ],
          [
           "T34_1000_ref",
           "COFFEE 1.5"
          ],
          [
           "T34_1000_ref",
           "COFFEE 1.5"
          ],
          [
           "T34_1000_ref",
           "COFFEE 1.5"
          ],
          [
           "T34_1000_ref",
           "COFFEE 1.5"
          ],
          [
           "T34_1000_ref",
           "COFFEE 1.5"
          ],
          [
           "T34_1000_ref",
           "COFFEE 1.5"
          ],
          [
           "T34_1000_ref",
           "COFFEE 1.5"
          ],
          [
           "T34_1000_ref",
           "COFFEE 1.5"
          ],
          [
           "T34_1000_ref",
           "COFFEE 1.5"
          ],
          [
           "T34_1000_ref",
           "COFFEE 1.5"
          ],
          [
           "T34_1000_ref",
           "AIM/CGE V2.2"
          ],
          [
           "T34_1000_ref",
           "AIM/CGE V2.2"
          ],
          [
           "T34_1000_ref",
           "AIM/CGE V2.2"
          ],
          [
           "T34_1000_ref",
           "AIM/CGE V2.2"
          ],
          [
           "T34_1000_ref",
           "AIM/CGE V2.2"
          ],
          [
           "T34_1000_ref",
           "AIM/CGE V2.2"
          ],
          [
           "T34_1000_ref",
           "AIM/CGE V2.2"
          ],
          [
           "T34_1000_ref",
           "AIM/CGE V2.2"
          ],
          [
           "T34_1000_ref",
           "AIM/CGE V2.2"
          ],
          [
           "T34_1000_ref",
           "AIM/CGE V2.2"
          ],
          [
           "T34_1000_ref",
           "AIM/CGE V2.2"
          ],
          [
           "T34_1000_ref",
           "AIM/CGE V2.2"
          ],
          [
           "T34_1000_ref",
           "AIM/CGE V2.2"
          ],
          [
           "T34_1000_ref",
           "AIM/CGE V2.2"
          ],
          [
           "T34_1000_ref",
           "AIM/CGE V2.2"
          ],
          [
           "T34_1000_ref",
           "AIM/CGE V2.2"
          ],
          [
           "T34_1000_ref",
           "AIM/CGE V2.2"
          ],
          [
           "T34_1000_ref",
           "AIM/CGE V2.2"
          ],
          [
           "T34_1000_ref",
           "AIM/CGE V2.2"
          ]
         ],
         "hovertemplate": "region=OECD<br>scenario_narrative=Cost Effective<br>year=%{x}<br>Emissions|CO2=%{y}<br>scenario=%{customdata[0]}<br>model=%{customdata[1]}<extra></extra>",
         "legendgroup": "OECD",
         "line": {
          "color": "#EF553B",
          "dash": "solid"
         },
         "marker": {
          "symbol": "circle"
         },
         "mode": "lines",
         "name": "OECD",
         "showlegend": false,
         "type": "scattergl",
         "x": [
          2100,
          2095,
          2090,
          2085,
          2080,
          2075,
          2070,
          2065,
          2060,
          2055,
          2050,
          2045,
          2040,
          2035,
          2030,
          2025,
          2020,
          2015,
          2010,
          2005,
          2100,
          2090,
          2080,
          2070,
          2060,
          2055,
          2050,
          2045,
          2040,
          2035,
          2030,
          2025,
          2020,
          2015,
          2010,
          2005,
          2100,
          2090,
          2080,
          2070,
          2060,
          2050,
          2045,
          2040,
          2035,
          2030,
          2025,
          2020,
          2015,
          2010,
          2005,
          2110,
          2100,
          2090,
          2080,
          2070,
          2060,
          2055,
          2050,
          2045,
          2040,
          2035,
          2030,
          2025,
          2020,
          2015,
          2010,
          2005,
          2000,
          1995,
          1990,
          2100,
          2095,
          2090,
          2085,
          2080,
          2075,
          2070,
          2065,
          2060,
          2055,
          2050,
          2045,
          2040,
          2035,
          2030,
          2025,
          2020,
          2015,
          2010,
          2005,
          2100,
          2095,
          2090,
          2085,
          2080,
          2075,
          2070,
          2065,
          2060,
          2055,
          2050,
          2045,
          2040,
          2035,
          2030,
          2025,
          2020,
          2015,
          2100,
          2090,
          2080,
          2070,
          2060,
          2050,
          2045,
          2040,
          2035,
          2030,
          2025,
          2020,
          2015,
          2010,
          2100,
          2095,
          2090,
          2085,
          2080,
          2075,
          2070,
          2065,
          2060,
          2055,
          2050,
          2045,
          2040,
          2035,
          2030,
          2025,
          2020,
          2015,
          2010
         ],
         "xaxis": "x3",
         "y": [
          -2860.214016406718,
          -2501.6516377073845,
          -2131.6128004711086,
          -1580.24486988818,
          -1018.3864164004141,
          -498.380331338214,
          -13.0587255073699,
          433.6830954942001,
          1072.5115838341212,
          1653.413570872725,
          2090.2823351418697,
          2541.867961272536,
          3191.35856341584,
          3782.213474613083,
          4731.668399639946,
          6971.3690478055205,
          8815.047628909653,
          9028.43474036386,
          9653.289125706495,
          10564.827079891358,
          -0.00013330000000000001,
          -4.9148523,
          -134.3676442,
          -227.9432704,
          -26.4546014,
          431.19358639999996,
          819.2757553,
          1516.9842223,
          2718.300589,
          4123.0479133,
          5440.2733207,
          6629.717707600001,
          8075.5609438,
          8960.0834127,
          9765.288551099999,
          10834.893790900001,
          -532.5687065124512,
          -433.1996440887451,
          -299.7588348388672,
          -218.85991287231445,
          50.01805877685547,
          823.0845489501953,
          1400.9839782714844,
          2620.9314575195312,
          4016.1988525390625,
          5397.499267578125,
          7653.86669921875,
          8150.056640625,
          9321.853759765625,
          9923.6884765625,
          10254.65576171875,
          -91.15735640635664,
          -8.889810506306276,
          10.01327080464447,
          -291.14132989075466,
          -388.736698674962,
          902.110342903348,
          1571.2768488614786,
          2814.6751478008955,
          3996.6769356361774,
          5428.764528549986,
          6538.759012238936,
          7371.100325888745,
          8302.039746291448,
          10032.99581684467,
          10429.292103029084,
          11185.05279897168,
          12358.525187529947,
          11777.769719588214,
          11327.363449243163,
          10954.544159324123,
          819.7517097741536,
          671.5953771486472,
          720.7443929175106,
          442.278780977402,
          458.0577186365106,
          265.6585704329719,
          545.3719670473616,
          716.3443855301083,
          1059.5715606381134,
          1263.2515902078178,
          1756.8616309173644,
          2117.898300363435,
          3092.5176000227557,
          4177.578000766335,
          5486.675435882903,
          7392.416092590983,
          8860.154516389779,
          9846.779847086567,
          10465.281685826878,
          10961.99386187708,
          549.2429581162518,
          569.3412570195574,
          551.2862459239193,
          505.36927223587725,
          437.60255653024973,
          392.2068066933193,
          434.4294643224714,
          744.7740437250559,
          1096.1317183905198,
          1908.7956067875912,
          2654.867905035064,
          3310.790013239994,
          4103.029689518527,
          4983.228230622793,
          6027.737854677936,
          7093.189908026088,
          7465.529215351675,
          8579.79255639537,
          -2410.094075,
          -2845.4885730000005,
          -2020.587937,
          398.95742400000006,
          2999.3624979999995,
          5432.238695999999,
          5854.0028010000005,
          7560.504701,
          8774.440687,
          12809.758395296001,
          11250.81760196,
          10963.2797498,
          10214.774375,
          10800.118809,
          -990.7857999999999,
          -984.4319,
          -1003.6994,
          -954.1327000000001,
          -945.1009999999999,
          -718.5572,
          -347.17780000000005,
          -18.087500000000006,
          193.1848,
          323.6182,
          3527.6532,
          5178.103300000001,
          6372.3624,
          7204.034900000001,
          7711.012799999999,
          8472.369,
          9676.3207,
          9821.216199999999,
          10618.129400000002
         ],
         "yaxis": "y3"
        },
        {
         "customdata": [
          [
           "T34_1000_bitb_em",
           "WITCH 5.0"
          ],
          [
           "T34_1000_bitb_em",
           "WITCH 5.0"
          ],
          [
           "T34_1000_bitb_em",
           "WITCH 5.0"
          ],
          [
           "T34_1000_bitb_em",
           "WITCH 5.0"
          ],
          [
           "T34_1000_bitb_em",
           "WITCH 5.0"
          ],
          [
           "T34_1000_bitb_em",
           "WITCH 5.0"
          ],
          [
           "T34_1000_bitb_em",
           "WITCH 5.0"
          ],
          [
           "T34_1000_bitb_em",
           "WITCH 5.0"
          ],
          [
           "T34_1000_bitb_em",
           "WITCH 5.0"
          ],
          [
           "T34_1000_bitb_em",
           "WITCH 5.0"
          ],
          [
           "T34_1000_bitb_em",
           "WITCH 5.0"
          ],
          [
           "T34_1000_bitb_em",
           "WITCH 5.0"
          ],
          [
           "T34_1000_bitb_em",
           "WITCH 5.0"
          ],
          [
           "T34_1000_bitb_em",
           "WITCH 5.0"
          ],
          [
           "T34_1000_bitb_em",
           "WITCH 5.0"
          ],
          [
           "T34_1000_bitb_em",
           "WITCH 5.0"
          ],
          [
           "T34_1000_bitb_em",
           "WITCH 5.0"
          ],
          [
           "T34_1000_bitb_em",
           "WITCH 5.0"
          ],
          [
           "T34_1000_bitb_em",
           "WITCH 5.0"
          ],
          [
           "T34_1000_bitb_em",
           "WITCH 5.0"
          ],
          [
           "T34_1000_bitb_em",
           "REMIND 3.0"
          ],
          [
           "T34_1000_bitb_em",
           "REMIND 3.0"
          ],
          [
           "T34_1000_bitb_em",
           "REMIND 3.0"
          ],
          [
           "T34_1000_bitb_em",
           "REMIND 3.0"
          ],
          [
           "T34_1000_bitb_em",
           "REMIND 3.0"
          ],
          [
           "T34_1000_bitb_em",
           "REMIND 3.0"
          ],
          [
           "T34_1000_bitb_em",
           "REMIND 3.0"
          ],
          [
           "T34_1000_bitb_em",
           "REMIND 3.0"
          ],
          [
           "T34_1000_bitb_em",
           "REMIND 3.0"
          ],
          [
           "T34_1000_bitb_em",
           "REMIND 3.0"
          ],
          [
           "T34_1000_bitb_em",
           "REMIND 3.0"
          ],
          [
           "T34_1000_bitb_em",
           "REMIND 3.0"
          ],
          [
           "T34_1000_bitb_em",
           "REMIND 3.0"
          ],
          [
           "T34_1000_bitb_em",
           "REMIND 3.0"
          ],
          [
           "T34_1000_bitb_em",
           "REMIND 3.0"
          ],
          [
           "T34_1000_bitb_em",
           "REMIND 3.0"
          ],
          [
           "T34_1000_bitb_em",
           "POLES ENGAGE"
          ],
          [
           "T34_1000_bitb_em",
           "POLES ENGAGE"
          ],
          [
           "T34_1000_bitb_em",
           "POLES ENGAGE"
          ],
          [
           "T34_1000_bitb_em",
           "POLES ENGAGE"
          ],
          [
           "T34_1000_bitb_em",
           "POLES ENGAGE"
          ],
          [
           "T34_1000_bitb_em",
           "POLES ENGAGE"
          ],
          [
           "T34_1000_bitb_em",
           "POLES ENGAGE"
          ],
          [
           "T34_1000_bitb_em",
           "POLES ENGAGE"
          ],
          [
           "T34_1000_bitb_em",
           "POLES ENGAGE"
          ],
          [
           "T34_1000_bitb_em",
           "POLES ENGAGE"
          ],
          [
           "T34_1000_bitb_em",
           "POLES ENGAGE"
          ],
          [
           "T34_1000_bitb_em",
           "POLES ENGAGE"
          ],
          [
           "T34_1000_bitb_em",
           "POLES ENGAGE"
          ],
          [
           "T34_1000_bitb_em",
           "POLES ENGAGE"
          ],
          [
           "T34_1000_bitb_em",
           "POLES ENGAGE"
          ],
          [
           "T34_1000_bitb_em",
           "MESSAGEix-GLOBIOM_1.1"
          ],
          [
           "T34_1000_bitb_em",
           "MESSAGEix-GLOBIOM_1.1"
          ],
          [
           "T34_1000_bitb_em",
           "MESSAGEix-GLOBIOM_1.1"
          ],
          [
           "T34_1000_bitb_em",
           "MESSAGEix-GLOBIOM_1.1"
          ],
          [
           "T34_1000_bitb_em",
           "MESSAGEix-GLOBIOM_1.1"
          ],
          [
           "T34_1000_bitb_em",
           "MESSAGEix-GLOBIOM_1.1"
          ],
          [
           "T34_1000_bitb_em",
           "MESSAGEix-GLOBIOM_1.1"
          ],
          [
           "T34_1000_bitb_em",
           "MESSAGEix-GLOBIOM_1.1"
          ],
          [
           "T34_1000_bitb_em",
           "MESSAGEix-GLOBIOM_1.1"
          ],
          [
           "T34_1000_bitb_em",
           "MESSAGEix-GLOBIOM_1.1"
          ],
          [
           "T34_1000_bitb_em",
           "MESSAGEix-GLOBIOM_1.1"
          ],
          [
           "T34_1000_bitb_em",
           "MESSAGEix-GLOBIOM_1.1"
          ],
          [
           "T34_1000_bitb_em",
           "MESSAGEix-GLOBIOM_1.1"
          ],
          [
           "T34_1000_bitb_em",
           "MESSAGEix-GLOBIOM_1.1"
          ],
          [
           "T34_1000_bitb_em",
           "MESSAGEix-GLOBIOM_1.1"
          ],
          [
           "T34_1000_bitb_em",
           "MESSAGEix-GLOBIOM_1.1"
          ],
          [
           "T34_1000_bitb_em",
           "MESSAGEix-GLOBIOM_1.1"
          ],
          [
           "T34_1000_bitb_em",
           "MESSAGEix-GLOBIOM_1.1"
          ],
          [
           "T34_1000_bitb_em",
           "MESSAGEix-GLOBIOM_1.1"
          ],
          [
           "T34_1000_bitb_em",
           "MESSAGEix-GLOBIOM_1.1"
          ],
          [
           "T34_1000_bitb_em",
           "IMAGE 3.2"
          ],
          [
           "T34_1000_bitb_em",
           "IMAGE 3.2"
          ],
          [
           "T34_1000_bitb_em",
           "IMAGE 3.2"
          ],
          [
           "T34_1000_bitb_em",
           "IMAGE 3.2"
          ],
          [
           "T34_1000_bitb_em",
           "IMAGE 3.2"
          ],
          [
           "T34_1000_bitb_em",
           "IMAGE 3.2"
          ],
          [
           "T34_1000_bitb_em",
           "IMAGE 3.2"
          ],
          [
           "T34_1000_bitb_em",
           "IMAGE 3.2"
          ],
          [
           "T34_1000_bitb_em",
           "IMAGE 3.2"
          ],
          [
           "T34_1000_bitb_em",
           "IMAGE 3.2"
          ],
          [
           "T34_1000_bitb_em",
           "IMAGE 3.2"
          ],
          [
           "T34_1000_bitb_em",
           "IMAGE 3.2"
          ],
          [
           "T34_1000_bitb_em",
           "IMAGE 3.2"
          ],
          [
           "T34_1000_bitb_em",
           "IMAGE 3.2"
          ],
          [
           "T34_1000_bitb_em",
           "IMAGE 3.2"
          ],
          [
           "T34_1000_bitb_em",
           "IMAGE 3.2"
          ],
          [
           "T34_1000_bitb_em",
           "IMAGE 3.2"
          ],
          [
           "T34_1000_bitb_em",
           "IMAGE 3.2"
          ],
          [
           "T34_1000_bitb_em",
           "IMAGE 3.2"
          ],
          [
           "T34_1000_bitb_em",
           "IMAGE 3.2"
          ],
          [
           "T34_1000_bitb_em",
           "GEM-E3_V2023"
          ],
          [
           "T34_1000_bitb_em",
           "GEM-E3_V2023"
          ],
          [
           "T34_1000_bitb_em",
           "GEM-E3_V2023"
          ],
          [
           "T34_1000_bitb_em",
           "GEM-E3_V2023"
          ],
          [
           "T34_1000_bitb_em",
           "GEM-E3_V2023"
          ],
          [
           "T34_1000_bitb_em",
           "GEM-E3_V2023"
          ],
          [
           "T34_1000_bitb_em",
           "GEM-E3_V2023"
          ],
          [
           "T34_1000_bitb_em",
           "GEM-E3_V2023"
          ],
          [
           "T34_1000_bitb_em",
           "GEM-E3_V2023"
          ],
          [
           "T34_1000_bitb_em",
           "GEM-E3_V2023"
          ],
          [
           "T34_1000_bitb_em",
           "GEM-E3_V2023"
          ],
          [
           "T34_1000_bitb_em",
           "GEM-E3_V2023"
          ],
          [
           "T34_1000_bitb_em",
           "GEM-E3_V2023"
          ],
          [
           "T34_1000_bitb_em",
           "GEM-E3_V2023"
          ],
          [
           "T34_1000_bitb_em",
           "GEM-E3_V2023"
          ],
          [
           "T34_1000_bitb_em",
           "GEM-E3_V2023"
          ],
          [
           "T34_1000_bitb_em",
           "GEM-E3_V2023"
          ],
          [
           "T34_1000_bitb_em",
           "GEM-E3_V2023"
          ],
          [
           "T34_1000_bitb_em",
           "AIM/CGE V2.2"
          ],
          [
           "T34_1000_bitb_em",
           "AIM/CGE V2.2"
          ],
          [
           "T34_1000_bitb_em",
           "AIM/CGE V2.2"
          ],
          [
           "T34_1000_bitb_em",
           "AIM/CGE V2.2"
          ],
          [
           "T34_1000_bitb_em",
           "AIM/CGE V2.2"
          ],
          [
           "T34_1000_bitb_em",
           "AIM/CGE V2.2"
          ],
          [
           "T34_1000_bitb_em",
           "AIM/CGE V2.2"
          ],
          [
           "T34_1000_bitb_em",
           "AIM/CGE V2.2"
          ],
          [
           "T34_1000_bitb_em",
           "AIM/CGE V2.2"
          ],
          [
           "T34_1000_bitb_em",
           "AIM/CGE V2.2"
          ],
          [
           "T34_1000_bitb_em",
           "AIM/CGE V2.2"
          ],
          [
           "T34_1000_bitb_em",
           "AIM/CGE V2.2"
          ],
          [
           "T34_1000_bitb_em",
           "AIM/CGE V2.2"
          ],
          [
           "T34_1000_bitb_em",
           "AIM/CGE V2.2"
          ],
          [
           "T34_1000_bitb_em",
           "AIM/CGE V2.2"
          ],
          [
           "T34_1000_bitb_em",
           "AIM/CGE V2.2"
          ],
          [
           "T34_1000_bitb_em",
           "AIM/CGE V2.2"
          ],
          [
           "T34_1000_bitb_em",
           "AIM/CGE V2.2"
          ],
          [
           "T34_1000_bitb_em",
           "AIM/CGE V2.2"
          ]
         ],
         "hovertemplate": "region=RoW<br>scenario_narrative=Tech+Inst<br>year=%{x}<br>Emissions|CO2=%{y}<br>scenario=%{customdata[0]}<br>model=%{customdata[1]}<extra></extra>",
         "legendgroup": "RoW",
         "line": {
          "color": "#00cc96",
          "dash": "solid"
         },
         "marker": {
          "symbol": "circle"
         },
         "mode": "lines",
         "name": "RoW",
         "showlegend": true,
         "type": "scattergl",
         "x": [
          2100,
          2095,
          2090,
          2085,
          2080,
          2075,
          2070,
          2065,
          2060,
          2055,
          2050,
          2045,
          2040,
          2035,
          2030,
          2025,
          2020,
          2015,
          2010,
          2005,
          2100,
          2090,
          2080,
          2070,
          2060,
          2055,
          2050,
          2045,
          2040,
          2035,
          2030,
          2025,
          2020,
          2015,
          2010,
          2005,
          2100,
          2090,
          2080,
          2070,
          2060,
          2050,
          2045,
          2040,
          2035,
          2030,
          2025,
          2020,
          2015,
          2010,
          2005,
          2110,
          2100,
          2090,
          2080,
          2070,
          2060,
          2055,
          2050,
          2045,
          2040,
          2035,
          2030,
          2025,
          2020,
          2015,
          2010,
          2005,
          2000,
          1995,
          1990,
          2100,
          2095,
          2090,
          2085,
          2080,
          2075,
          2070,
          2065,
          2060,
          2055,
          2050,
          2045,
          2040,
          2035,
          2030,
          2025,
          2020,
          2015,
          2010,
          2005,
          2100,
          2095,
          2090,
          2085,
          2080,
          2075,
          2070,
          2065,
          2060,
          2055,
          2050,
          2045,
          2040,
          2035,
          2030,
          2025,
          2020,
          2015,
          2100,
          2095,
          2090,
          2085,
          2080,
          2075,
          2070,
          2065,
          2060,
          2055,
          2050,
          2045,
          2040,
          2035,
          2030,
          2025,
          2020,
          2015,
          2010
         ],
         "xaxis": "x4",
         "y": [
          630.3324027375762,
          602.8818880618878,
          509.8095056059235,
          -228.96996415529415,
          3363.201474713702,
          5479.319217909417,
          7236.606368715357,
          10025.463468406066,
          12937.585404014517,
          16876.230118200707,
          20568.828587078267,
          24097.847343350004,
          27796.318694994945,
          32082.702162304275,
          38521.826424238425,
          47706.879422130834,
          50680.22249817068,
          48643.19392988822,
          45612.01385215476,
          40841.18419460241,
          400.5391181,
          1026.3209118,
          1370.4501988000002,
          4360.7401863000005,
          8965.5177507,
          11572.381107500001,
          14869.1090095,
          19554.6989932,
          26492.606317499998,
          34055.729416,
          43325.646722599995,
          50777.790054900004,
          54386.611820699996,
          52620.3059896,
          49062.036533,
          44316.2673241,
          5345.609130859375,
          5699.377990722656,
          4312.098571777344,
          4216.927978515625,
          9670.6743850708,
          18557.49102783203,
          22906.352172851562,
          29406.810180664062,
          33707.90612792969,
          38440.397705078125,
          47402.916015625,
          47910.17956542969,
          48035.5263671875,
          45091.76953125,
          38044.51611328125,
          -5507.091412156222,
          -6048.904320390447,
          -5866.459042793483,
          -2010.6483701761956,
          4786.604913962392,
          17015.761351648885,
          21722.11190117956,
          26289.591789153244,
          30537.721445776217,
          35854.06492267267,
          40283.7860597112,
          45544.140475431166,
          52064.635823323304,
          57705.94328012635,
          57774.9121952648,
          52939.29696433314,
          49123.86992667722,
          43488.27774287683,
          40521.16656562845,
          39502.099931500125,
          -2594.505302824009,
          -1091.9687642057024,
          -1940.7472637669264,
          93.89046820858329,
          -136.87721190107482,
          1698.9874663308042,
          1180.384593435148,
          3130.378499315647,
          4051.694249839364,
          7034.966621402685,
          11148.882984300712,
          18619.184685810287,
          24864.614219382813,
          30613.385113002354,
          37078.08060410926,
          48534.895135841296,
          50491.127067069756,
          48360.793216015496,
          46850.99814904474,
          40448.728278976225,
          -261.0516103873352,
          16.954862383148964,
          -45.35477140019526,
          763.9505795097397,
          2443.2945199044443,
          3386.8202686235118,
          4017.3163943343025,
          6493.578803902953,
          8960.689422609055,
          11806.79725095683,
          16328.945263427906,
          20780.069170161325,
          25569.907633378134,
          30681.953680590137,
          35781.2817182242,
          41735.29160801732,
          44624.872770913724,
          46581.896871880905,
          -5929.5182,
          -6536.4753,
          -6702.636200000001,
          -6226.951,
          -5110.7635,
          -3824.8545999999997,
          -1727.8548,
          745.0343,
          4040.819,
          8559.5342,
          9878.3249,
          18981.5952,
          28235.580299999998,
          33841.9394,
          39740.7923,
          46117.9479,
          51851.138300000006,
          48799.13250000001,
          45926.5451
         ],
         "yaxis": "y4"
        },
        {
         "customdata": [
          [
           "T34_1000_bitb_ref",
           "WITCH 5.0"
          ],
          [
           "T34_1000_bitb_ref",
           "WITCH 5.0"
          ],
          [
           "T34_1000_bitb_ref",
           "WITCH 5.0"
          ],
          [
           "T34_1000_bitb_ref",
           "WITCH 5.0"
          ],
          [
           "T34_1000_bitb_ref",
           "WITCH 5.0"
          ],
          [
           "T34_1000_bitb_ref",
           "WITCH 5.0"
          ],
          [
           "T34_1000_bitb_ref",
           "WITCH 5.0"
          ],
          [
           "T34_1000_bitb_ref",
           "WITCH 5.0"
          ],
          [
           "T34_1000_bitb_ref",
           "WITCH 5.0"
          ],
          [
           "T34_1000_bitb_ref",
           "WITCH 5.0"
          ],
          [
           "T34_1000_bitb_ref",
           "WITCH 5.0"
          ],
          [
           "T34_1000_bitb_ref",
           "WITCH 5.0"
          ],
          [
           "T34_1000_bitb_ref",
           "WITCH 5.0"
          ],
          [
           "T34_1000_bitb_ref",
           "WITCH 5.0"
          ],
          [
           "T34_1000_bitb_ref",
           "WITCH 5.0"
          ],
          [
           "T34_1000_bitb_ref",
           "WITCH 5.0"
          ],
          [
           "T34_1000_bitb_ref",
           "WITCH 5.0"
          ],
          [
           "T34_1000_bitb_ref",
           "WITCH 5.0"
          ],
          [
           "T34_1000_bitb_ref",
           "WITCH 5.0"
          ],
          [
           "T34_1000_bitb_ref",
           "WITCH 5.0"
          ],
          [
           "T34_1000_bitb_ref",
           "REMIND 3.0"
          ],
          [
           "T34_1000_bitb_ref",
           "REMIND 3.0"
          ],
          [
           "T34_1000_bitb_ref",
           "REMIND 3.0"
          ],
          [
           "T34_1000_bitb_ref",
           "REMIND 3.0"
          ],
          [
           "T34_1000_bitb_ref",
           "REMIND 3.0"
          ],
          [
           "T34_1000_bitb_ref",
           "REMIND 3.0"
          ],
          [
           "T34_1000_bitb_ref",
           "REMIND 3.0"
          ],
          [
           "T34_1000_bitb_ref",
           "REMIND 3.0"
          ],
          [
           "T34_1000_bitb_ref",
           "REMIND 3.0"
          ],
          [
           "T34_1000_bitb_ref",
           "REMIND 3.0"
          ],
          [
           "T34_1000_bitb_ref",
           "REMIND 3.0"
          ],
          [
           "T34_1000_bitb_ref",
           "REMIND 3.0"
          ],
          [
           "T34_1000_bitb_ref",
           "REMIND 3.0"
          ],
          [
           "T34_1000_bitb_ref",
           "REMIND 3.0"
          ],
          [
           "T34_1000_bitb_ref",
           "REMIND 3.0"
          ],
          [
           "T34_1000_bitb_ref",
           "REMIND 3.0"
          ],
          [
           "T34_1000_bitb_ref",
           "POLES ENGAGE"
          ],
          [
           "T34_1000_bitb_ref",
           "POLES ENGAGE"
          ],
          [
           "T34_1000_bitb_ref",
           "POLES ENGAGE"
          ],
          [
           "T34_1000_bitb_ref",
           "POLES ENGAGE"
          ],
          [
           "T34_1000_bitb_ref",
           "POLES ENGAGE"
          ],
          [
           "T34_1000_bitb_ref",
           "POLES ENGAGE"
          ],
          [
           "T34_1000_bitb_ref",
           "POLES ENGAGE"
          ],
          [
           "T34_1000_bitb_ref",
           "POLES ENGAGE"
          ],
          [
           "T34_1000_bitb_ref",
           "POLES ENGAGE"
          ],
          [
           "T34_1000_bitb_ref",
           "POLES ENGAGE"
          ],
          [
           "T34_1000_bitb_ref",
           "POLES ENGAGE"
          ],
          [
           "T34_1000_bitb_ref",
           "POLES ENGAGE"
          ],
          [
           "T34_1000_bitb_ref",
           "POLES ENGAGE"
          ],
          [
           "T34_1000_bitb_ref",
           "POLES ENGAGE"
          ],
          [
           "T34_1000_bitb_ref",
           "POLES ENGAGE"
          ],
          [
           "T34_1000_bitb_ref",
           "MESSAGEix-GLOBIOM_1.1"
          ],
          [
           "T34_1000_bitb_ref",
           "MESSAGEix-GLOBIOM_1.1"
          ],
          [
           "T34_1000_bitb_ref",
           "MESSAGEix-GLOBIOM_1.1"
          ],
          [
           "T34_1000_bitb_ref",
           "MESSAGEix-GLOBIOM_1.1"
          ],
          [
           "T34_1000_bitb_ref",
           "MESSAGEix-GLOBIOM_1.1"
          ],
          [
           "T34_1000_bitb_ref",
           "MESSAGEix-GLOBIOM_1.1"
          ],
          [
           "T34_1000_bitb_ref",
           "MESSAGEix-GLOBIOM_1.1"
          ],
          [
           "T34_1000_bitb_ref",
           "MESSAGEix-GLOBIOM_1.1"
          ],
          [
           "T34_1000_bitb_ref",
           "MESSAGEix-GLOBIOM_1.1"
          ],
          [
           "T34_1000_bitb_ref",
           "MESSAGEix-GLOBIOM_1.1"
          ],
          [
           "T34_1000_bitb_ref",
           "MESSAGEix-GLOBIOM_1.1"
          ],
          [
           "T34_1000_bitb_ref",
           "MESSAGEix-GLOBIOM_1.1"
          ],
          [
           "T34_1000_bitb_ref",
           "MESSAGEix-GLOBIOM_1.1"
          ],
          [
           "T34_1000_bitb_ref",
           "MESSAGEix-GLOBIOM_1.1"
          ],
          [
           "T34_1000_bitb_ref",
           "MESSAGEix-GLOBIOM_1.1"
          ],
          [
           "T34_1000_bitb_ref",
           "MESSAGEix-GLOBIOM_1.1"
          ],
          [
           "T34_1000_bitb_ref",
           "MESSAGEix-GLOBIOM_1.1"
          ],
          [
           "T34_1000_bitb_ref",
           "MESSAGEix-GLOBIOM_1.1"
          ],
          [
           "T34_1000_bitb_ref",
           "MESSAGEix-GLOBIOM_1.1"
          ],
          [
           "T34_1000_bitb_ref",
           "MESSAGEix-GLOBIOM_1.1"
          ],
          [
           "T34_1000_bitb_ref",
           "IMAGE 3.2"
          ],
          [
           "T34_1000_bitb_ref",
           "IMAGE 3.2"
          ],
          [
           "T34_1000_bitb_ref",
           "IMAGE 3.2"
          ],
          [
           "T34_1000_bitb_ref",
           "IMAGE 3.2"
          ],
          [
           "T34_1000_bitb_ref",
           "IMAGE 3.2"
          ],
          [
           "T34_1000_bitb_ref",
           "IMAGE 3.2"
          ],
          [
           "T34_1000_bitb_ref",
           "IMAGE 3.2"
          ],
          [
           "T34_1000_bitb_ref",
           "IMAGE 3.2"
          ],
          [
           "T34_1000_bitb_ref",
           "IMAGE 3.2"
          ],
          [
           "T34_1000_bitb_ref",
           "IMAGE 3.2"
          ],
          [
           "T34_1000_bitb_ref",
           "IMAGE 3.2"
          ],
          [
           "T34_1000_bitb_ref",
           "IMAGE 3.2"
          ],
          [
           "T34_1000_bitb_ref",
           "IMAGE 3.2"
          ],
          [
           "T34_1000_bitb_ref",
           "IMAGE 3.2"
          ],
          [
           "T34_1000_bitb_ref",
           "IMAGE 3.2"
          ],
          [
           "T34_1000_bitb_ref",
           "IMAGE 3.2"
          ],
          [
           "T34_1000_bitb_ref",
           "IMAGE 3.2"
          ],
          [
           "T34_1000_bitb_ref",
           "IMAGE 3.2"
          ],
          [
           "T34_1000_bitb_ref",
           "IMAGE 3.2"
          ],
          [
           "T34_1000_bitb_ref",
           "IMAGE 3.2"
          ],
          [
           "T34_1000_bitb_ref",
           "COFFEE 1.5"
          ],
          [
           "T34_1000_bitb_ref",
           "COFFEE 1.5"
          ],
          [
           "T34_1000_bitb_ref",
           "COFFEE 1.5"
          ],
          [
           "T34_1000_bitb_ref",
           "COFFEE 1.5"
          ],
          [
           "T34_1000_bitb_ref",
           "COFFEE 1.5"
          ],
          [
           "T34_1000_bitb_ref",
           "COFFEE 1.5"
          ],
          [
           "T34_1000_bitb_ref",
           "COFFEE 1.5"
          ],
          [
           "T34_1000_bitb_ref",
           "COFFEE 1.5"
          ],
          [
           "T34_1000_bitb_ref",
           "COFFEE 1.5"
          ],
          [
           "T34_1000_bitb_ref",
           "COFFEE 1.5"
          ],
          [
           "T34_1000_bitb_ref",
           "COFFEE 1.5"
          ],
          [
           "T34_1000_bitb_ref",
           "COFFEE 1.5"
          ],
          [
           "T34_1000_bitb_ref",
           "COFFEE 1.5"
          ],
          [
           "T34_1000_bitb_ref",
           "COFFEE 1.5"
          ]
         ],
         "hovertemplate": "region=RoW<br>scenario_narrative=Tech<br>year=%{x}<br>Emissions|CO2=%{y}<br>scenario=%{customdata[0]}<br>model=%{customdata[1]}<extra></extra>",
         "legendgroup": "RoW",
         "line": {
          "color": "#00cc96",
          "dash": "solid"
         },
         "marker": {
          "symbol": "circle"
         },
         "mode": "lines",
         "name": "RoW",
         "showlegend": false,
         "type": "scattergl",
         "x": [
          2100,
          2095,
          2090,
          2085,
          2080,
          2075,
          2070,
          2065,
          2060,
          2055,
          2050,
          2045,
          2040,
          2035,
          2030,
          2025,
          2020,
          2015,
          2010,
          2005,
          2100,
          2090,
          2080,
          2070,
          2060,
          2055,
          2050,
          2045,
          2040,
          2035,
          2030,
          2025,
          2020,
          2015,
          2010,
          2005,
          2100,
          2090,
          2080,
          2070,
          2060,
          2050,
          2045,
          2040,
          2035,
          2030,
          2025,
          2020,
          2015,
          2010,
          2005,
          2110,
          2100,
          2090,
          2080,
          2070,
          2060,
          2055,
          2050,
          2045,
          2040,
          2035,
          2030,
          2025,
          2020,
          2015,
          2010,
          2005,
          2000,
          1995,
          1990,
          2100,
          2095,
          2090,
          2085,
          2080,
          2075,
          2070,
          2065,
          2060,
          2055,
          2050,
          2045,
          2040,
          2035,
          2030,
          2025,
          2020,
          2015,
          2010,
          2005,
          2100,
          2090,
          2080,
          2070,
          2060,
          2050,
          2045,
          2040,
          2035,
          2030,
          2025,
          2020,
          2015,
          2010
         ],
         "xaxis": "x5",
         "y": [
          4245.311380369263,
          4778.457088196963,
          5317.711447016117,
          6270.518411409243,
          6961.122377215999,
          7741.001754991377,
          8784.846372017868,
          9807.673501775407,
          11039.301844588826,
          12568.20971148295,
          14418.851221050103,
          16390.558171683933,
          18444.573718650747,
          21374.907392854075,
          23020.458866376342,
          45297.2451922344,
          50680.22249817068,
          48643.19392988822,
          45612.01385215476,
          40841.18419460241,
          765.395642,
          1674.6027478,
          2998.0203299,
          4907.0214316,
          7661.3780939,
          9333.8897517,
          12016.6051525,
          16350.3832358,
          23289.4025299,
          31771.143999699998,
          41757.863339999996,
          50742.8751118,
          54386.611820699996,
          52620.3059896,
          49062.036533,
          44316.2673241,
          -9756.216306686401,
          -7253.799175262451,
          -3555.4749755859375,
          3032.3729553222656,
          12519.621490478516,
          20822.988677978516,
          26982.68084716797,
          34314.89794921875,
          40290.03942871094,
          43971.06359863281,
          50911.41882324219,
          47899.40869140625,
          48035.5263671875,
          45091.76953125,
          38044.51611328125,
          -44.813941074274226,
          -165.6192266035871,
          -614.5599124318362,
          -963.2718798814624,
          -993.7640729066449,
          7251.974703750916,
          10615.37340315982,
          15477.53118316066,
          21764.882313987593,
          28691.974627332944,
          34752.25305407104,
          39901.39792517017,
          52064.635823323304,
          57705.94328012635,
          57774.9121952648,
          52939.29696433314,
          49123.86992667722,
          43488.27774287683,
          40521.16656562845,
          39502.099931500125,
          -2573.953420157778,
          -950.5125265985561,
          -2264.6026529940345,
          -401.3497650193458,
          -417.3605426531967,
          1530.4790015899525,
          1379.998897360053,
          3317.913671477267,
          4350.935046313368,
          6999.3605595434965,
          10516.378300490356,
          17236.726516383256,
          23265.019654163745,
          28768.936720602418,
          34845.299406040474,
          47090.76798422076,
          50491.127067069756,
          48360.793216015496,
          46850.99814904474,
          40448.728278976225,
          3231.567234,
          -1332.4019789999998,
          284.86627299999986,
          2761.4133279999996,
          9462.965375,
          19048.910703,
          22953.798738999998,
          29104.743573,
          31427.435829,
          37821.935392679996,
          41085.663507799996,
          47393.31502939999,
          50003.588631,
          45521.887774
         ],
         "yaxis": "y5"
        },
        {
         "customdata": [
          [
           "T34_1000_enab_em",
           "WITCH 5.0"
          ],
          [
           "T34_1000_enab_em",
           "WITCH 5.0"
          ],
          [
           "T34_1000_enab_em",
           "WITCH 5.0"
          ],
          [
           "T34_1000_enab_em",
           "WITCH 5.0"
          ],
          [
           "T34_1000_enab_em",
           "WITCH 5.0"
          ],
          [
           "T34_1000_enab_em",
           "WITCH 5.0"
          ],
          [
           "T34_1000_enab_em",
           "WITCH 5.0"
          ],
          [
           "T34_1000_enab_em",
           "WITCH 5.0"
          ],
          [
           "T34_1000_enab_em",
           "WITCH 5.0"
          ],
          [
           "T34_1000_enab_em",
           "WITCH 5.0"
          ],
          [
           "T34_1000_enab_em",
           "WITCH 5.0"
          ],
          [
           "T34_1000_enab_em",
           "WITCH 5.0"
          ],
          [
           "T34_1000_enab_em",
           "WITCH 5.0"
          ],
          [
           "T34_1000_enab_em",
           "WITCH 5.0"
          ],
          [
           "T34_1000_enab_em",
           "WITCH 5.0"
          ],
          [
           "T34_1000_enab_em",
           "WITCH 5.0"
          ],
          [
           "T34_1000_enab_em",
           "WITCH 5.0"
          ],
          [
           "T34_1000_enab_em",
           "WITCH 5.0"
          ],
          [
           "T34_1000_enab_em",
           "WITCH 5.0"
          ],
          [
           "T34_1000_enab_em",
           "WITCH 5.0"
          ],
          [
           "T34_1000_enab_em",
           "REMIND 3.0"
          ],
          [
           "T34_1000_enab_em",
           "REMIND 3.0"
          ],
          [
           "T34_1000_enab_em",
           "REMIND 3.0"
          ],
          [
           "T34_1000_enab_em",
           "REMIND 3.0"
          ],
          [
           "T34_1000_enab_em",
           "REMIND 3.0"
          ],
          [
           "T34_1000_enab_em",
           "REMIND 3.0"
          ],
          [
           "T34_1000_enab_em",
           "REMIND 3.0"
          ],
          [
           "T34_1000_enab_em",
           "REMIND 3.0"
          ],
          [
           "T34_1000_enab_em",
           "REMIND 3.0"
          ],
          [
           "T34_1000_enab_em",
           "REMIND 3.0"
          ],
          [
           "T34_1000_enab_em",
           "REMIND 3.0"
          ],
          [
           "T34_1000_enab_em",
           "REMIND 3.0"
          ],
          [
           "T34_1000_enab_em",
           "REMIND 3.0"
          ],
          [
           "T34_1000_enab_em",
           "REMIND 3.0"
          ],
          [
           "T34_1000_enab_em",
           "REMIND 3.0"
          ],
          [
           "T34_1000_enab_em",
           "REMIND 3.0"
          ],
          [
           "T34_1000_enab_em",
           "MESSAGEix-GLOBIOM_1.1"
          ],
          [
           "T34_1000_enab_em",
           "MESSAGEix-GLOBIOM_1.1"
          ],
          [
           "T34_1000_enab_em",
           "MESSAGEix-GLOBIOM_1.1"
          ],
          [
           "T34_1000_enab_em",
           "MESSAGEix-GLOBIOM_1.1"
          ],
          [
           "T34_1000_enab_em",
           "MESSAGEix-GLOBIOM_1.1"
          ],
          [
           "T34_1000_enab_em",
           "MESSAGEix-GLOBIOM_1.1"
          ],
          [
           "T34_1000_enab_em",
           "MESSAGEix-GLOBIOM_1.1"
          ],
          [
           "T34_1000_enab_em",
           "MESSAGEix-GLOBIOM_1.1"
          ],
          [
           "T34_1000_enab_em",
           "MESSAGEix-GLOBIOM_1.1"
          ],
          [
           "T34_1000_enab_em",
           "MESSAGEix-GLOBIOM_1.1"
          ],
          [
           "T34_1000_enab_em",
           "MESSAGEix-GLOBIOM_1.1"
          ],
          [
           "T34_1000_enab_em",
           "MESSAGEix-GLOBIOM_1.1"
          ],
          [
           "T34_1000_enab_em",
           "MESSAGEix-GLOBIOM_1.1"
          ],
          [
           "T34_1000_enab_em",
           "MESSAGEix-GLOBIOM_1.1"
          ],
          [
           "T34_1000_enab_em",
           "MESSAGEix-GLOBIOM_1.1"
          ],
          [
           "T34_1000_enab_em",
           "MESSAGEix-GLOBIOM_1.1"
          ],
          [
           "T34_1000_enab_em",
           "MESSAGEix-GLOBIOM_1.1"
          ],
          [
           "T34_1000_enab_em",
           "MESSAGEix-GLOBIOM_1.1"
          ],
          [
           "T34_1000_enab_em",
           "MESSAGEix-GLOBIOM_1.1"
          ],
          [
           "T34_1000_enab_em",
           "MESSAGEix-GLOBIOM_1.1"
          ]
         ],
         "hovertemplate": "region=RoW<br>scenario_narrative=Inst+Enab<br>year=%{x}<br>Emissions|CO2=%{y}<br>scenario=%{customdata[0]}<br>model=%{customdata[1]}<extra></extra>",
         "legendgroup": "RoW",
         "line": {
          "color": "#00cc96",
          "dash": "solid"
         },
         "marker": {
          "symbol": "circle"
         },
         "mode": "lines",
         "name": "RoW",
         "showlegend": false,
         "type": "scattergl",
         "x": [
          2100,
          2095,
          2090,
          2085,
          2080,
          2075,
          2070,
          2065,
          2060,
          2055,
          2050,
          2045,
          2040,
          2035,
          2030,
          2025,
          2020,
          2015,
          2010,
          2005,
          2100,
          2090,
          2080,
          2070,
          2060,
          2055,
          2050,
          2045,
          2040,
          2035,
          2030,
          2025,
          2020,
          2015,
          2010,
          2005,
          2110,
          2100,
          2090,
          2080,
          2070,
          2060,
          2055,
          2050,
          2045,
          2040,
          2035,
          2030,
          2025,
          2020,
          2015,
          2010,
          2005,
          2000,
          1995,
          1990
         ],
         "xaxis": "x6",
         "y": [
          -738.3100011581876,
          -249.29376854936453,
          570.1655664493799,
          1016.5175924629741,
          1393.2132695356695,
          2854.274212559858,
          5860.217899421131,
          8681.572876063161,
          11404.545480805047,
          14966.66874501818,
          18450.318939725785,
          22024.030311984432,
          27336.092113947896,
          32676.527236489397,
          40130.25610189643,
          46520.359967697535,
          50680.22249817068,
          48643.19392988822,
          45612.01385215476,
          40841.18419460241,
          243.07726410000006,
          775.4352569999999,
          2560.217252,
          4911.2497634,
          8598.2880526,
          11470.820152299999,
          14449.2151601,
          18306.3409294,
          23933.329961800002,
          31489.33412,
          39075.463921999995,
          49725.0839824,
          54386.611820699996,
          52620.3059896,
          49062.036533,
          44316.2673241,
          -12208.0929196788,
          -10767.449153800339,
          -8206.672210359486,
          -3775.8441660014123,
          4041.8420488440784,
          15278.443050455946,
          21553.31924623609,
          27369.474213417612,
          33960.95585354393,
          41664.70026625601,
          46533.790041025284,
          50551.739290276455,
          52064.635823323304,
          57705.94328012635,
          57774.9121952648,
          52939.29696433314,
          49123.86992667722,
          43488.27774287683,
          40521.16656562845,
          39502.099931500125
         ],
         "yaxis": "y6"
        },
        {
         "customdata": [
          [
           "T34_1000_feas_em",
           "WITCH 5.0"
          ],
          [
           "T34_1000_feas_em",
           "WITCH 5.0"
          ],
          [
           "T34_1000_feas_em",
           "WITCH 5.0"
          ],
          [
           "T34_1000_feas_em",
           "WITCH 5.0"
          ],
          [
           "T34_1000_feas_em",
           "WITCH 5.0"
          ],
          [
           "T34_1000_feas_em",
           "WITCH 5.0"
          ],
          [
           "T34_1000_feas_em",
           "WITCH 5.0"
          ],
          [
           "T34_1000_feas_em",
           "WITCH 5.0"
          ],
          [
           "T34_1000_feas_em",
           "WITCH 5.0"
          ],
          [
           "T34_1000_feas_em",
           "WITCH 5.0"
          ],
          [
           "T34_1000_feas_em",
           "WITCH 5.0"
          ],
          [
           "T34_1000_feas_em",
           "WITCH 5.0"
          ],
          [
           "T34_1000_feas_em",
           "WITCH 5.0"
          ],
          [
           "T34_1000_feas_em",
           "WITCH 5.0"
          ],
          [
           "T34_1000_feas_em",
           "WITCH 5.0"
          ],
          [
           "T34_1000_feas_em",
           "WITCH 5.0"
          ],
          [
           "T34_1000_feas_em",
           "WITCH 5.0"
          ],
          [
           "T34_1000_feas_em",
           "WITCH 5.0"
          ],
          [
           "T34_1000_feas_em",
           "WITCH 5.0"
          ],
          [
           "T34_1000_feas_em",
           "WITCH 5.0"
          ],
          [
           "T34_1000_feas_em",
           "REMIND 3.0"
          ],
          [
           "T34_1000_feas_em",
           "REMIND 3.0"
          ],
          [
           "T34_1000_feas_em",
           "REMIND 3.0"
          ],
          [
           "T34_1000_feas_em",
           "REMIND 3.0"
          ],
          [
           "T34_1000_feas_em",
           "REMIND 3.0"
          ],
          [
           "T34_1000_feas_em",
           "REMIND 3.0"
          ],
          [
           "T34_1000_feas_em",
           "REMIND 3.0"
          ],
          [
           "T34_1000_feas_em",
           "REMIND 3.0"
          ],
          [
           "T34_1000_feas_em",
           "REMIND 3.0"
          ],
          [
           "T34_1000_feas_em",
           "REMIND 3.0"
          ],
          [
           "T34_1000_feas_em",
           "REMIND 3.0"
          ],
          [
           "T34_1000_feas_em",
           "REMIND 3.0"
          ],
          [
           "T34_1000_feas_em",
           "REMIND 3.0"
          ],
          [
           "T34_1000_feas_em",
           "REMIND 3.0"
          ],
          [
           "T34_1000_feas_em",
           "REMIND 3.0"
          ],
          [
           "T34_1000_feas_em",
           "REMIND 3.0"
          ],
          [
           "T34_1000_feas_em",
           "POLES ENGAGE"
          ],
          [
           "T34_1000_feas_em",
           "POLES ENGAGE"
          ],
          [
           "T34_1000_feas_em",
           "POLES ENGAGE"
          ],
          [
           "T34_1000_feas_em",
           "POLES ENGAGE"
          ],
          [
           "T34_1000_feas_em",
           "POLES ENGAGE"
          ],
          [
           "T34_1000_feas_em",
           "POLES ENGAGE"
          ],
          [
           "T34_1000_feas_em",
           "POLES ENGAGE"
          ],
          [
           "T34_1000_feas_em",
           "POLES ENGAGE"
          ],
          [
           "T34_1000_feas_em",
           "POLES ENGAGE"
          ],
          [
           "T34_1000_feas_em",
           "POLES ENGAGE"
          ],
          [
           "T34_1000_feas_em",
           "POLES ENGAGE"
          ],
          [
           "T34_1000_feas_em",
           "POLES ENGAGE"
          ],
          [
           "T34_1000_feas_em",
           "POLES ENGAGE"
          ],
          [
           "T34_1000_feas_em",
           "POLES ENGAGE"
          ],
          [
           "T34_1000_feas_em",
           "POLES ENGAGE"
          ],
          [
           "T34_1000_feas_em",
           "MESSAGEix-GLOBIOM_1.1"
          ],
          [
           "T34_1000_feas_em",
           "MESSAGEix-GLOBIOM_1.1"
          ],
          [
           "T34_1000_feas_em",
           "MESSAGEix-GLOBIOM_1.1"
          ],
          [
           "T34_1000_feas_em",
           "MESSAGEix-GLOBIOM_1.1"
          ],
          [
           "T34_1000_feas_em",
           "MESSAGEix-GLOBIOM_1.1"
          ],
          [
           "T34_1000_feas_em",
           "MESSAGEix-GLOBIOM_1.1"
          ],
          [
           "T34_1000_feas_em",
           "MESSAGEix-GLOBIOM_1.1"
          ],
          [
           "T34_1000_feas_em",
           "MESSAGEix-GLOBIOM_1.1"
          ],
          [
           "T34_1000_feas_em",
           "MESSAGEix-GLOBIOM_1.1"
          ],
          [
           "T34_1000_feas_em",
           "MESSAGEix-GLOBIOM_1.1"
          ],
          [
           "T34_1000_feas_em",
           "MESSAGEix-GLOBIOM_1.1"
          ],
          [
           "T34_1000_feas_em",
           "MESSAGEix-GLOBIOM_1.1"
          ],
          [
           "T34_1000_feas_em",
           "MESSAGEix-GLOBIOM_1.1"
          ],
          [
           "T34_1000_feas_em",
           "MESSAGEix-GLOBIOM_1.1"
          ],
          [
           "T34_1000_feas_em",
           "MESSAGEix-GLOBIOM_1.1"
          ],
          [
           "T34_1000_feas_em",
           "MESSAGEix-GLOBIOM_1.1"
          ],
          [
           "T34_1000_feas_em",
           "MESSAGEix-GLOBIOM_1.1"
          ],
          [
           "T34_1000_feas_em",
           "MESSAGEix-GLOBIOM_1.1"
          ],
          [
           "T34_1000_feas_em",
           "MESSAGEix-GLOBIOM_1.1"
          ],
          [
           "T34_1000_feas_em",
           "MESSAGEix-GLOBIOM_1.1"
          ],
          [
           "T34_1000_feas_em",
           "IMAGE 3.2"
          ],
          [
           "T34_1000_feas_em",
           "IMAGE 3.2"
          ],
          [
           "T34_1000_feas_em",
           "IMAGE 3.2"
          ],
          [
           "T34_1000_feas_em",
           "IMAGE 3.2"
          ],
          [
           "T34_1000_feas_em",
           "IMAGE 3.2"
          ],
          [
           "T34_1000_feas_em",
           "IMAGE 3.2"
          ],
          [
           "T34_1000_feas_em",
           "IMAGE 3.2"
          ],
          [
           "T34_1000_feas_em",
           "IMAGE 3.2"
          ],
          [
           "T34_1000_feas_em",
           "IMAGE 3.2"
          ],
          [
           "T34_1000_feas_em",
           "IMAGE 3.2"
          ],
          [
           "T34_1000_feas_em",
           "IMAGE 3.2"
          ],
          [
           "T34_1000_feas_em",
           "IMAGE 3.2"
          ],
          [
           "T34_1000_feas_em",
           "IMAGE 3.2"
          ],
          [
           "T34_1000_feas_em",
           "IMAGE 3.2"
          ],
          [
           "T34_1000_feas_em",
           "IMAGE 3.2"
          ],
          [
           "T34_1000_feas_em",
           "IMAGE 3.2"
          ],
          [
           "T34_1000_feas_em",
           "IMAGE 3.2"
          ],
          [
           "T34_1000_feas_em",
           "IMAGE 3.2"
          ],
          [
           "T34_1000_feas_em",
           "IMAGE 3.2"
          ],
          [
           "T34_1000_feas_em",
           "IMAGE 3.2"
          ],
          [
           "T34_1000_feas_em",
           "GEM-E3_V2023"
          ],
          [
           "T34_1000_feas_em",
           "GEM-E3_V2023"
          ],
          [
           "T34_1000_feas_em",
           "GEM-E3_V2023"
          ],
          [
           "T34_1000_feas_em",
           "GEM-E3_V2023"
          ],
          [
           "T34_1000_feas_em",
           "GEM-E3_V2023"
          ],
          [
           "T34_1000_feas_em",
           "GEM-E3_V2023"
          ],
          [
           "T34_1000_feas_em",
           "GEM-E3_V2023"
          ],
          [
           "T34_1000_feas_em",
           "GEM-E3_V2023"
          ],
          [
           "T34_1000_feas_em",
           "GEM-E3_V2023"
          ],
          [
           "T34_1000_feas_em",
           "GEM-E3_V2023"
          ],
          [
           "T34_1000_feas_em",
           "GEM-E3_V2023"
          ],
          [
           "T34_1000_feas_em",
           "GEM-E3_V2023"
          ],
          [
           "T34_1000_feas_em",
           "GEM-E3_V2023"
          ],
          [
           "T34_1000_feas_em",
           "GEM-E3_V2023"
          ],
          [
           "T34_1000_feas_em",
           "GEM-E3_V2023"
          ],
          [
           "T34_1000_feas_em",
           "GEM-E3_V2023"
          ],
          [
           "T34_1000_feas_em",
           "GEM-E3_V2023"
          ],
          [
           "T34_1000_feas_em",
           "GEM-E3_V2023"
          ],
          [
           "T34_1000_feas_em",
           "AIM/CGE V2.2"
          ],
          [
           "T34_1000_feas_em",
           "AIM/CGE V2.2"
          ],
          [
           "T34_1000_feas_em",
           "AIM/CGE V2.2"
          ],
          [
           "T34_1000_feas_em",
           "AIM/CGE V2.2"
          ],
          [
           "T34_1000_feas_em",
           "AIM/CGE V2.2"
          ],
          [
           "T34_1000_feas_em",
           "AIM/CGE V2.2"
          ],
          [
           "T34_1000_feas_em",
           "AIM/CGE V2.2"
          ],
          [
           "T34_1000_feas_em",
           "AIM/CGE V2.2"
          ],
          [
           "T34_1000_feas_em",
           "AIM/CGE V2.2"
          ],
          [
           "T34_1000_feas_em",
           "AIM/CGE V2.2"
          ],
          [
           "T34_1000_feas_em",
           "AIM/CGE V2.2"
          ],
          [
           "T34_1000_feas_em",
           "AIM/CGE V2.2"
          ],
          [
           "T34_1000_feas_em",
           "AIM/CGE V2.2"
          ],
          [
           "T34_1000_feas_em",
           "AIM/CGE V2.2"
          ],
          [
           "T34_1000_feas_em",
           "AIM/CGE V2.2"
          ],
          [
           "T34_1000_feas_em",
           "AIM/CGE V2.2"
          ],
          [
           "T34_1000_feas_em",
           "AIM/CGE V2.2"
          ],
          [
           "T34_1000_feas_em",
           "AIM/CGE V2.2"
          ],
          [
           "T34_1000_feas_em",
           "AIM/CGE V2.2"
          ]
         ],
         "hovertemplate": "region=RoW<br>scenario_narrative=Tech+Inst+Enab<br>year=%{x}<br>Emissions|CO2=%{y}<br>scenario=%{customdata[0]}<br>model=%{customdata[1]}<extra></extra>",
         "legendgroup": "RoW",
         "line": {
          "color": "#00cc96",
          "dash": "solid"
         },
         "marker": {
          "symbol": "circle"
         },
         "mode": "lines",
         "name": "RoW",
         "showlegend": false,
         "type": "scattergl",
         "x": [
          2100,
          2095,
          2090,
          2085,
          2080,
          2075,
          2070,
          2065,
          2060,
          2055,
          2050,
          2045,
          2040,
          2035,
          2030,
          2025,
          2020,
          2015,
          2010,
          2005,
          2100,
          2090,
          2080,
          2070,
          2060,
          2055,
          2050,
          2045,
          2040,
          2035,
          2030,
          2025,
          2020,
          2015,
          2010,
          2005,
          2100,
          2090,
          2080,
          2070,
          2060,
          2050,
          2045,
          2040,
          2035,
          2030,
          2025,
          2020,
          2015,
          2010,
          2005,
          2110,
          2100,
          2090,
          2080,
          2070,
          2060,
          2055,
          2050,
          2045,
          2040,
          2035,
          2030,
          2025,
          2020,
          2015,
          2010,
          2005,
          2000,
          1995,
          1990,
          2100,
          2095,
          2090,
          2085,
          2080,
          2075,
          2070,
          2065,
          2060,
          2055,
          2050,
          2045,
          2040,
          2035,
          2030,
          2025,
          2020,
          2015,
          2010,
          2005,
          2100,
          2095,
          2090,
          2085,
          2080,
          2075,
          2070,
          2065,
          2060,
          2055,
          2050,
          2045,
          2040,
          2035,
          2030,
          2025,
          2020,
          2015,
          2100,
          2095,
          2090,
          2085,
          2080,
          2075,
          2070,
          2065,
          2060,
          2055,
          2050,
          2045,
          2040,
          2035,
          2030,
          2025,
          2020,
          2015,
          2010
         ],
         "xaxis": "x",
         "y": [
          989.1694791555577,
          998.7748734939901,
          1335.0602222832822,
          868.4502910837717,
          2901.185679460993,
          4821.852063041374,
          7235.991282821895,
          9468.72958778024,
          11679.534801946864,
          14683.744814061563,
          18007.50530639464,
          21727.755159683104,
          26539.619354363374,
          31627.51328764703,
          38076.81648966024,
          45916.894257154214,
          50680.22249817068,
          48643.19392988822,
          45612.01385215476,
          40841.18419460241,
          328.3240106,
          1185.1233073,
          3557.7531324,
          5364.060662600001,
          8687.7485056,
          11217.1597444,
          14030.3915758,
          17649.4542841,
          23324.4216678,
          30970.530263,
          38804.488992700004,
          49758.4337195,
          54386.611820699996,
          52620.3059896,
          49062.036533,
          44316.2673241,
          24338.914428710938,
          12910.09716796875,
          3149.6478881835938,
          4754.868255615234,
          11510.061096191406,
          23105.744262695312,
          27257.912353515625,
          32743.70361328125,
          35046.922119140625,
          39862.17297363281,
          48786.56921386719,
          47909.99182128906,
          48035.5263671875,
          45091.76953125,
          38044.51611328125,
          -11952.613265506805,
          -10588.99560394653,
          -8233.174988226685,
          -3828.225891496524,
          3981.416034926411,
          15249.799467267772,
          21645.743502183283,
          27436.424563658024,
          34127.62136800295,
          41999.52172896348,
          46809.96550527221,
          50816.42071547036,
          52064.635823323304,
          57705.94328012635,
          57774.9121952648,
          52939.29696433314,
          49123.86992667722,
          43488.27774287683,
          40521.16656562845,
          39502.099931500125,
          -5234.591970522233,
          -3904.872116046491,
          -4887.059153047428,
          -2956.350988512776,
          -2717.0495954440466,
          -111.15950672842325,
          187.60278902169844,
          3388.9356109203186,
          5581.271597098066,
          9684.850266383371,
          14217.824000459019,
          19981.400036879917,
          28935.3379186868,
          36240.28240660471,
          40150.501921171206,
          48942.874185561006,
          50197.069783005754,
          48356.57585837961,
          46850.07439085578,
          40448.728278976225,
          -190.53107049041392,
          -245.36744129663325,
          -369.999291410983,
          430.325067425758,
          1449.4976830657483,
          2312.2102117083577,
          2995.1572688827378,
          5620.864248538433,
          8171.521673336847,
          10615.405620454572,
          15733.215157565732,
          20275.03619067212,
          25573.787261026464,
          31210.58944168265,
          36710.022634174835,
          41652.00511652841,
          44624.872770913724,
          46581.896871880905,
          -9691.8451,
          -10427.2914,
          -10779.4116,
          -10522.4382,
          -9671.375,
          -8651.1626,
          -6538.6772,
          -3990.2583,
          -359.9031,
          2307.1146,
          8950.9314,
          19282.6046,
          24168.0005,
          30791.8188,
          37715.505399999995,
          45339.7439,
          51849.821599999996,
          48799.132600000004,
          45926.5451
         ],
         "yaxis": "y"
        },
        {
         "customdata": [
          [
           "T34_1000_govem",
           "WITCH 5.0"
          ],
          [
           "T34_1000_govem",
           "WITCH 5.0"
          ],
          [
           "T34_1000_govem",
           "WITCH 5.0"
          ],
          [
           "T34_1000_govem",
           "WITCH 5.0"
          ],
          [
           "T34_1000_govem",
           "WITCH 5.0"
          ],
          [
           "T34_1000_govem",
           "WITCH 5.0"
          ],
          [
           "T34_1000_govem",
           "WITCH 5.0"
          ],
          [
           "T34_1000_govem",
           "WITCH 5.0"
          ],
          [
           "T34_1000_govem",
           "WITCH 5.0"
          ],
          [
           "T34_1000_govem",
           "WITCH 5.0"
          ],
          [
           "T34_1000_govem",
           "WITCH 5.0"
          ],
          [
           "T34_1000_govem",
           "WITCH 5.0"
          ],
          [
           "T34_1000_govem",
           "WITCH 5.0"
          ],
          [
           "T34_1000_govem",
           "WITCH 5.0"
          ],
          [
           "T34_1000_govem",
           "WITCH 5.0"
          ],
          [
           "T34_1000_govem",
           "WITCH 5.0"
          ],
          [
           "T34_1000_govem",
           "WITCH 5.0"
          ],
          [
           "T34_1000_govem",
           "WITCH 5.0"
          ],
          [
           "T34_1000_govem",
           "WITCH 5.0"
          ],
          [
           "T34_1000_govem",
           "WITCH 5.0"
          ],
          [
           "T34_1000_govem",
           "REMIND 3.0"
          ],
          [
           "T34_1000_govem",
           "REMIND 3.0"
          ],
          [
           "T34_1000_govem",
           "REMIND 3.0"
          ],
          [
           "T34_1000_govem",
           "REMIND 3.0"
          ],
          [
           "T34_1000_govem",
           "REMIND 3.0"
          ],
          [
           "T34_1000_govem",
           "REMIND 3.0"
          ],
          [
           "T34_1000_govem",
           "REMIND 3.0"
          ],
          [
           "T34_1000_govem",
           "REMIND 3.0"
          ],
          [
           "T34_1000_govem",
           "REMIND 3.0"
          ],
          [
           "T34_1000_govem",
           "REMIND 3.0"
          ],
          [
           "T34_1000_govem",
           "REMIND 3.0"
          ],
          [
           "T34_1000_govem",
           "REMIND 3.0"
          ],
          [
           "T34_1000_govem",
           "REMIND 3.0"
          ],
          [
           "T34_1000_govem",
           "REMIND 3.0"
          ],
          [
           "T34_1000_govem",
           "REMIND 3.0"
          ],
          [
           "T34_1000_govem",
           "REMIND 3.0"
          ],
          [
           "T34_1000_govem",
           "POLES ENGAGE"
          ],
          [
           "T34_1000_govem",
           "POLES ENGAGE"
          ],
          [
           "T34_1000_govem",
           "POLES ENGAGE"
          ],
          [
           "T34_1000_govem",
           "POLES ENGAGE"
          ],
          [
           "T34_1000_govem",
           "POLES ENGAGE"
          ],
          [
           "T34_1000_govem",
           "POLES ENGAGE"
          ],
          [
           "T34_1000_govem",
           "POLES ENGAGE"
          ],
          [
           "T34_1000_govem",
           "POLES ENGAGE"
          ],
          [
           "T34_1000_govem",
           "POLES ENGAGE"
          ],
          [
           "T34_1000_govem",
           "POLES ENGAGE"
          ],
          [
           "T34_1000_govem",
           "POLES ENGAGE"
          ],
          [
           "T34_1000_govem",
           "POLES ENGAGE"
          ],
          [
           "T34_1000_govem",
           "POLES ENGAGE"
          ],
          [
           "T34_1000_govem",
           "POLES ENGAGE"
          ],
          [
           "T34_1000_govem",
           "POLES ENGAGE"
          ],
          [
           "T34_1000_govem",
           "MESSAGEix-GLOBIOM_1.1"
          ],
          [
           "T34_1000_govem",
           "MESSAGEix-GLOBIOM_1.1"
          ],
          [
           "T34_1000_govem",
           "MESSAGEix-GLOBIOM_1.1"
          ],
          [
           "T34_1000_govem",
           "MESSAGEix-GLOBIOM_1.1"
          ],
          [
           "T34_1000_govem",
           "MESSAGEix-GLOBIOM_1.1"
          ],
          [
           "T34_1000_govem",
           "MESSAGEix-GLOBIOM_1.1"
          ],
          [
           "T34_1000_govem",
           "MESSAGEix-GLOBIOM_1.1"
          ],
          [
           "T34_1000_govem",
           "MESSAGEix-GLOBIOM_1.1"
          ],
          [
           "T34_1000_govem",
           "MESSAGEix-GLOBIOM_1.1"
          ],
          [
           "T34_1000_govem",
           "MESSAGEix-GLOBIOM_1.1"
          ],
          [
           "T34_1000_govem",
           "MESSAGEix-GLOBIOM_1.1"
          ],
          [
           "T34_1000_govem",
           "MESSAGEix-GLOBIOM_1.1"
          ],
          [
           "T34_1000_govem",
           "MESSAGEix-GLOBIOM_1.1"
          ],
          [
           "T34_1000_govem",
           "MESSAGEix-GLOBIOM_1.1"
          ],
          [
           "T34_1000_govem",
           "MESSAGEix-GLOBIOM_1.1"
          ],
          [
           "T34_1000_govem",
           "MESSAGEix-GLOBIOM_1.1"
          ],
          [
           "T34_1000_govem",
           "MESSAGEix-GLOBIOM_1.1"
          ],
          [
           "T34_1000_govem",
           "MESSAGEix-GLOBIOM_1.1"
          ],
          [
           "T34_1000_govem",
           "MESSAGEix-GLOBIOM_1.1"
          ],
          [
           "T34_1000_govem",
           "MESSAGEix-GLOBIOM_1.1"
          ],
          [
           "T34_1000_govem",
           "IMAGE 3.2"
          ],
          [
           "T34_1000_govem",
           "IMAGE 3.2"
          ],
          [
           "T34_1000_govem",
           "IMAGE 3.2"
          ],
          [
           "T34_1000_govem",
           "IMAGE 3.2"
          ],
          [
           "T34_1000_govem",
           "IMAGE 3.2"
          ],
          [
           "T34_1000_govem",
           "IMAGE 3.2"
          ],
          [
           "T34_1000_govem",
           "IMAGE 3.2"
          ],
          [
           "T34_1000_govem",
           "IMAGE 3.2"
          ],
          [
           "T34_1000_govem",
           "IMAGE 3.2"
          ],
          [
           "T34_1000_govem",
           "IMAGE 3.2"
          ],
          [
           "T34_1000_govem",
           "IMAGE 3.2"
          ],
          [
           "T34_1000_govem",
           "IMAGE 3.2"
          ],
          [
           "T34_1000_govem",
           "IMAGE 3.2"
          ],
          [
           "T34_1000_govem",
           "IMAGE 3.2"
          ],
          [
           "T34_1000_govem",
           "IMAGE 3.2"
          ],
          [
           "T34_1000_govem",
           "IMAGE 3.2"
          ],
          [
           "T34_1000_govem",
           "IMAGE 3.2"
          ],
          [
           "T34_1000_govem",
           "IMAGE 3.2"
          ],
          [
           "T34_1000_govem",
           "IMAGE 3.2"
          ],
          [
           "T34_1000_govem",
           "IMAGE 3.2"
          ],
          [
           "T34_1000_govem",
           "GEM-E3_V2023"
          ],
          [
           "T34_1000_govem",
           "GEM-E3_V2023"
          ],
          [
           "T34_1000_govem",
           "GEM-E3_V2023"
          ],
          [
           "T34_1000_govem",
           "GEM-E3_V2023"
          ],
          [
           "T34_1000_govem",
           "GEM-E3_V2023"
          ],
          [
           "T34_1000_govem",
           "GEM-E3_V2023"
          ],
          [
           "T34_1000_govem",
           "GEM-E3_V2023"
          ],
          [
           "T34_1000_govem",
           "GEM-E3_V2023"
          ],
          [
           "T34_1000_govem",
           "GEM-E3_V2023"
          ],
          [
           "T34_1000_govem",
           "GEM-E3_V2023"
          ],
          [
           "T34_1000_govem",
           "GEM-E3_V2023"
          ],
          [
           "T34_1000_govem",
           "GEM-E3_V2023"
          ],
          [
           "T34_1000_govem",
           "GEM-E3_V2023"
          ],
          [
           "T34_1000_govem",
           "GEM-E3_V2023"
          ],
          [
           "T34_1000_govem",
           "GEM-E3_V2023"
          ],
          [
           "T34_1000_govem",
           "GEM-E3_V2023"
          ],
          [
           "T34_1000_govem",
           "GEM-E3_V2023"
          ],
          [
           "T34_1000_govem",
           "GEM-E3_V2023"
          ],
          [
           "T34_1000_govem",
           "AIM/CGE V2.2"
          ],
          [
           "T34_1000_govem",
           "AIM/CGE V2.2"
          ],
          [
           "T34_1000_govem",
           "AIM/CGE V2.2"
          ],
          [
           "T34_1000_govem",
           "AIM/CGE V2.2"
          ],
          [
           "T34_1000_govem",
           "AIM/CGE V2.2"
          ],
          [
           "T34_1000_govem",
           "AIM/CGE V2.2"
          ],
          [
           "T34_1000_govem",
           "AIM/CGE V2.2"
          ],
          [
           "T34_1000_govem",
           "AIM/CGE V2.2"
          ],
          [
           "T34_1000_govem",
           "AIM/CGE V2.2"
          ],
          [
           "T34_1000_govem",
           "AIM/CGE V2.2"
          ],
          [
           "T34_1000_govem",
           "AIM/CGE V2.2"
          ],
          [
           "T34_1000_govem",
           "AIM/CGE V2.2"
          ],
          [
           "T34_1000_govem",
           "AIM/CGE V2.2"
          ],
          [
           "T34_1000_govem",
           "AIM/CGE V2.2"
          ],
          [
           "T34_1000_govem",
           "AIM/CGE V2.2"
          ],
          [
           "T34_1000_govem",
           "AIM/CGE V2.2"
          ],
          [
           "T34_1000_govem",
           "AIM/CGE V2.2"
          ],
          [
           "T34_1000_govem",
           "AIM/CGE V2.2"
          ],
          [
           "T34_1000_govem",
           "AIM/CGE V2.2"
          ]
         ],
         "hovertemplate": "region=RoW<br>scenario_narrative=Instit<br>year=%{x}<br>Emissions|CO2=%{y}<br>scenario=%{customdata[0]}<br>model=%{customdata[1]}<extra></extra>",
         "legendgroup": "RoW",
         "line": {
          "color": "#00cc96",
          "dash": "solid"
         },
         "marker": {
          "symbol": "circle"
         },
         "mode": "lines",
         "name": "RoW",
         "showlegend": false,
         "type": "scattergl",
         "x": [
          2100,
          2095,
          2090,
          2085,
          2080,
          2075,
          2070,
          2065,
          2060,
          2055,
          2050,
          2045,
          2040,
          2035,
          2030,
          2025,
          2020,
          2015,
          2010,
          2005,
          2100,
          2090,
          2080,
          2070,
          2060,
          2055,
          2050,
          2045,
          2040,
          2035,
          2030,
          2025,
          2020,
          2015,
          2010,
          2005,
          2100,
          2090,
          2080,
          2070,
          2060,
          2050,
          2045,
          2040,
          2035,
          2030,
          2025,
          2020,
          2015,
          2010,
          2005,
          2110,
          2100,
          2090,
          2080,
          2070,
          2060,
          2055,
          2050,
          2045,
          2040,
          2035,
          2030,
          2025,
          2020,
          2015,
          2010,
          2005,
          2000,
          1995,
          1990,
          2100,
          2095,
          2090,
          2085,
          2080,
          2075,
          2070,
          2065,
          2060,
          2055,
          2050,
          2045,
          2040,
          2035,
          2030,
          2025,
          2020,
          2015,
          2010,
          2005,
          2100,
          2095,
          2090,
          2085,
          2080,
          2075,
          2070,
          2065,
          2060,
          2055,
          2050,
          2045,
          2040,
          2035,
          2030,
          2025,
          2020,
          2015,
          2100,
          2095,
          2090,
          2085,
          2080,
          2075,
          2070,
          2065,
          2060,
          2055,
          2050,
          2045,
          2040,
          2035,
          2030,
          2025,
          2020,
          2015,
          2010
         ],
         "xaxis": "x2",
         "y": [
          -3034.5291146193904,
          -3103.559137629088,
          -1719.7568237525777,
          1037.8334769183714,
          1544.3404627341063,
          3523.9621044256883,
          6638.780746315506,
          9741.244282896978,
          12660.188863631916,
          16641.732194446962,
          20636.12032169817,
          24062.5997743648,
          28263.25726822941,
          32312.91415858103,
          37612.58972281172,
          45204.904225554885,
          50680.22249817068,
          48643.19392988822,
          45612.01385215476,
          40841.18419460241,
          271.4821668999999,
          971.4744446000001,
          1638.1492246,
          3483.5229482000004,
          8049.7533888,
          11272.2786022,
          15021.412134400001,
          19914.2150146,
          27005.5714672,
          35365.7896396,
          44346.1255173,
          50945.998212599996,
          54386.611820699996,
          52620.3059896,
          49062.036533,
          44316.2673241,
          42137.499755859375,
          26560.25244140625,
          2748.646171569824,
          5953.061859130859,
          10853.645324707031,
          23067.231811523438,
          27542.955200195312,
          34029.35925292969,
          37022.361572265625,
          41207.354248046875,
          49489.40478515625,
          49609.552001953125,
          48713.213623046875,
          45091.76953125,
          38044.51611328125,
          -6766.090070147295,
          -6297.244174772543,
          -5312.508935854068,
          -2081.9051296209977,
          5305.489820180966,
          17393.276909037482,
          22162.51118530037,
          26323.213463479427,
          30513.697082701186,
          35436.32968282029,
          39977.096694380234,
          45577.828615675186,
          52064.635823323304,
          57705.94328012635,
          57774.9121952648,
          52939.29696433314,
          49123.86992667722,
          43488.27774287683,
          40521.16656562845,
          39502.099931500125,
          5376.84680733288,
          6785.113760611335,
          5546.735062149756,
          5899.580352047962,
          4568.0821270327115,
          5503.6976750926715,
          3850.9455418908674,
          5363.906629970533,
          5474.287404160661,
          8414.633682380161,
          11905.74241774233,
          18034.469502499076,
          27385.72473774962,
          37828.72873523015,
          43850.201709919,
          52614.16673502806,
          50490.93261669132,
          48360.793216015496,
          46850.99814904474,
          40448.728278976225,
          -221.82524935365998,
          -55.74101133829794,
          -396.284704441554,
          -729.3798744525426,
          202.78273056228966,
          -14.286550564885658,
          1389.1470038407788,
          4015.7265348283354,
          6776.333352874041,
          12031.068994679183,
          17353.78061734957,
          21697.342955092474,
          26900.91951417449,
          33314.45922813137,
          38102.36781657451,
          42299.70886987222,
          44624.872770913724,
          46581.896871880905,
          -11879.2572,
          -11843.5196,
          -11662.2977,
          -11321.6964,
          -10894.8407,
          -9530.498,
          -6581.6845,
          -2410.4029,
          2197.2865,
          4536.7266,
          15259.934000000001,
          23197.8423,
          29426.4215,
          35292.889200000005,
          41229.619699999996,
          46757.4052,
          51834.6887,
          48799.1324,
          45926.54490000001
         ],
         "yaxis": "y2"
        },
        {
         "customdata": [
          [
           "T34_1000_ref",
           "WITCH 5.0"
          ],
          [
           "T34_1000_ref",
           "WITCH 5.0"
          ],
          [
           "T34_1000_ref",
           "WITCH 5.0"
          ],
          [
           "T34_1000_ref",
           "WITCH 5.0"
          ],
          [
           "T34_1000_ref",
           "WITCH 5.0"
          ],
          [
           "T34_1000_ref",
           "WITCH 5.0"
          ],
          [
           "T34_1000_ref",
           "WITCH 5.0"
          ],
          [
           "T34_1000_ref",
           "WITCH 5.0"
          ],
          [
           "T34_1000_ref",
           "WITCH 5.0"
          ],
          [
           "T34_1000_ref",
           "WITCH 5.0"
          ],
          [
           "T34_1000_ref",
           "WITCH 5.0"
          ],
          [
           "T34_1000_ref",
           "WITCH 5.0"
          ],
          [
           "T34_1000_ref",
           "WITCH 5.0"
          ],
          [
           "T34_1000_ref",
           "WITCH 5.0"
          ],
          [
           "T34_1000_ref",
           "WITCH 5.0"
          ],
          [
           "T34_1000_ref",
           "WITCH 5.0"
          ],
          [
           "T34_1000_ref",
           "WITCH 5.0"
          ],
          [
           "T34_1000_ref",
           "WITCH 5.0"
          ],
          [
           "T34_1000_ref",
           "WITCH 5.0"
          ],
          [
           "T34_1000_ref",
           "WITCH 5.0"
          ],
          [
           "T34_1000_ref",
           "REMIND 3.0"
          ],
          [
           "T34_1000_ref",
           "REMIND 3.0"
          ],
          [
           "T34_1000_ref",
           "REMIND 3.0"
          ],
          [
           "T34_1000_ref",
           "REMIND 3.0"
          ],
          [
           "T34_1000_ref",
           "REMIND 3.0"
          ],
          [
           "T34_1000_ref",
           "REMIND 3.0"
          ],
          [
           "T34_1000_ref",
           "REMIND 3.0"
          ],
          [
           "T34_1000_ref",
           "REMIND 3.0"
          ],
          [
           "T34_1000_ref",
           "REMIND 3.0"
          ],
          [
           "T34_1000_ref",
           "REMIND 3.0"
          ],
          [
           "T34_1000_ref",
           "REMIND 3.0"
          ],
          [
           "T34_1000_ref",
           "REMIND 3.0"
          ],
          [
           "T34_1000_ref",
           "REMIND 3.0"
          ],
          [
           "T34_1000_ref",
           "REMIND 3.0"
          ],
          [
           "T34_1000_ref",
           "REMIND 3.0"
          ],
          [
           "T34_1000_ref",
           "REMIND 3.0"
          ],
          [
           "T34_1000_ref",
           "POLES ENGAGE"
          ],
          [
           "T34_1000_ref",
           "POLES ENGAGE"
          ],
          [
           "T34_1000_ref",
           "POLES ENGAGE"
          ],
          [
           "T34_1000_ref",
           "POLES ENGAGE"
          ],
          [
           "T34_1000_ref",
           "POLES ENGAGE"
          ],
          [
           "T34_1000_ref",
           "POLES ENGAGE"
          ],
          [
           "T34_1000_ref",
           "POLES ENGAGE"
          ],
          [
           "T34_1000_ref",
           "POLES ENGAGE"
          ],
          [
           "T34_1000_ref",
           "POLES ENGAGE"
          ],
          [
           "T34_1000_ref",
           "POLES ENGAGE"
          ],
          [
           "T34_1000_ref",
           "POLES ENGAGE"
          ],
          [
           "T34_1000_ref",
           "POLES ENGAGE"
          ],
          [
           "T34_1000_ref",
           "POLES ENGAGE"
          ],
          [
           "T34_1000_ref",
           "POLES ENGAGE"
          ],
          [
           "T34_1000_ref",
           "POLES ENGAGE"
          ],
          [
           "T34_1000_ref",
           "MESSAGEix-GLOBIOM_1.1"
          ],
          [
           "T34_1000_ref",
           "MESSAGEix-GLOBIOM_1.1"
          ],
          [
           "T34_1000_ref",
           "MESSAGEix-GLOBIOM_1.1"
          ],
          [
           "T34_1000_ref",
           "MESSAGEix-GLOBIOM_1.1"
          ],
          [
           "T34_1000_ref",
           "MESSAGEix-GLOBIOM_1.1"
          ],
          [
           "T34_1000_ref",
           "MESSAGEix-GLOBIOM_1.1"
          ],
          [
           "T34_1000_ref",
           "MESSAGEix-GLOBIOM_1.1"
          ],
          [
           "T34_1000_ref",
           "MESSAGEix-GLOBIOM_1.1"
          ],
          [
           "T34_1000_ref",
           "MESSAGEix-GLOBIOM_1.1"
          ],
          [
           "T34_1000_ref",
           "MESSAGEix-GLOBIOM_1.1"
          ],
          [
           "T34_1000_ref",
           "MESSAGEix-GLOBIOM_1.1"
          ],
          [
           "T34_1000_ref",
           "MESSAGEix-GLOBIOM_1.1"
          ],
          [
           "T34_1000_ref",
           "MESSAGEix-GLOBIOM_1.1"
          ],
          [
           "T34_1000_ref",
           "MESSAGEix-GLOBIOM_1.1"
          ],
          [
           "T34_1000_ref",
           "MESSAGEix-GLOBIOM_1.1"
          ],
          [
           "T34_1000_ref",
           "MESSAGEix-GLOBIOM_1.1"
          ],
          [
           "T34_1000_ref",
           "MESSAGEix-GLOBIOM_1.1"
          ],
          [
           "T34_1000_ref",
           "MESSAGEix-GLOBIOM_1.1"
          ],
          [
           "T34_1000_ref",
           "MESSAGEix-GLOBIOM_1.1"
          ],
          [
           "T34_1000_ref",
           "MESSAGEix-GLOBIOM_1.1"
          ],
          [
           "T34_1000_ref",
           "IMAGE 3.2"
          ],
          [
           "T34_1000_ref",
           "IMAGE 3.2"
          ],
          [
           "T34_1000_ref",
           "IMAGE 3.2"
          ],
          [
           "T34_1000_ref",
           "IMAGE 3.2"
          ],
          [
           "T34_1000_ref",
           "IMAGE 3.2"
          ],
          [
           "T34_1000_ref",
           "IMAGE 3.2"
          ],
          [
           "T34_1000_ref",
           "IMAGE 3.2"
          ],
          [
           "T34_1000_ref",
           "IMAGE 3.2"
          ],
          [
           "T34_1000_ref",
           "IMAGE 3.2"
          ],
          [
           "T34_1000_ref",
           "IMAGE 3.2"
          ],
          [
           "T34_1000_ref",
           "IMAGE 3.2"
          ],
          [
           "T34_1000_ref",
           "IMAGE 3.2"
          ],
          [
           "T34_1000_ref",
           "IMAGE 3.2"
          ],
          [
           "T34_1000_ref",
           "IMAGE 3.2"
          ],
          [
           "T34_1000_ref",
           "IMAGE 3.2"
          ],
          [
           "T34_1000_ref",
           "IMAGE 3.2"
          ],
          [
           "T34_1000_ref",
           "IMAGE 3.2"
          ],
          [
           "T34_1000_ref",
           "IMAGE 3.2"
          ],
          [
           "T34_1000_ref",
           "IMAGE 3.2"
          ],
          [
           "T34_1000_ref",
           "IMAGE 3.2"
          ],
          [
           "T34_1000_ref",
           "GEM-E3_V2023"
          ],
          [
           "T34_1000_ref",
           "GEM-E3_V2023"
          ],
          [
           "T34_1000_ref",
           "GEM-E3_V2023"
          ],
          [
           "T34_1000_ref",
           "GEM-E3_V2023"
          ],
          [
           "T34_1000_ref",
           "GEM-E3_V2023"
          ],
          [
           "T34_1000_ref",
           "GEM-E3_V2023"
          ],
          [
           "T34_1000_ref",
           "GEM-E3_V2023"
          ],
          [
           "T34_1000_ref",
           "GEM-E3_V2023"
          ],
          [
           "T34_1000_ref",
           "GEM-E3_V2023"
          ],
          [
           "T34_1000_ref",
           "GEM-E3_V2023"
          ],
          [
           "T34_1000_ref",
           "GEM-E3_V2023"
          ],
          [
           "T34_1000_ref",
           "GEM-E3_V2023"
          ],
          [
           "T34_1000_ref",
           "GEM-E3_V2023"
          ],
          [
           "T34_1000_ref",
           "GEM-E3_V2023"
          ],
          [
           "T34_1000_ref",
           "GEM-E3_V2023"
          ],
          [
           "T34_1000_ref",
           "GEM-E3_V2023"
          ],
          [
           "T34_1000_ref",
           "GEM-E3_V2023"
          ],
          [
           "T34_1000_ref",
           "GEM-E3_V2023"
          ],
          [
           "T34_1000_ref",
           "COFFEE 1.5"
          ],
          [
           "T34_1000_ref",
           "COFFEE 1.5"
          ],
          [
           "T34_1000_ref",
           "COFFEE 1.5"
          ],
          [
           "T34_1000_ref",
           "COFFEE 1.5"
          ],
          [
           "T34_1000_ref",
           "COFFEE 1.5"
          ],
          [
           "T34_1000_ref",
           "COFFEE 1.5"
          ],
          [
           "T34_1000_ref",
           "COFFEE 1.5"
          ],
          [
           "T34_1000_ref",
           "COFFEE 1.5"
          ],
          [
           "T34_1000_ref",
           "COFFEE 1.5"
          ],
          [
           "T34_1000_ref",
           "COFFEE 1.5"
          ],
          [
           "T34_1000_ref",
           "COFFEE 1.5"
          ],
          [
           "T34_1000_ref",
           "COFFEE 1.5"
          ],
          [
           "T34_1000_ref",
           "COFFEE 1.5"
          ],
          [
           "T34_1000_ref",
           "COFFEE 1.5"
          ],
          [
           "T34_1000_ref",
           "AIM/CGE V2.2"
          ],
          [
           "T34_1000_ref",
           "AIM/CGE V2.2"
          ],
          [
           "T34_1000_ref",
           "AIM/CGE V2.2"
          ],
          [
           "T34_1000_ref",
           "AIM/CGE V2.2"
          ],
          [
           "T34_1000_ref",
           "AIM/CGE V2.2"
          ],
          [
           "T34_1000_ref",
           "AIM/CGE V2.2"
          ],
          [
           "T34_1000_ref",
           "AIM/CGE V2.2"
          ],
          [
           "T34_1000_ref",
           "AIM/CGE V2.2"
          ],
          [
           "T34_1000_ref",
           "AIM/CGE V2.2"
          ],
          [
           "T34_1000_ref",
           "AIM/CGE V2.2"
          ],
          [
           "T34_1000_ref",
           "AIM/CGE V2.2"
          ],
          [
           "T34_1000_ref",
           "AIM/CGE V2.2"
          ],
          [
           "T34_1000_ref",
           "AIM/CGE V2.2"
          ],
          [
           "T34_1000_ref",
           "AIM/CGE V2.2"
          ],
          [
           "T34_1000_ref",
           "AIM/CGE V2.2"
          ],
          [
           "T34_1000_ref",
           "AIM/CGE V2.2"
          ],
          [
           "T34_1000_ref",
           "AIM/CGE V2.2"
          ],
          [
           "T34_1000_ref",
           "AIM/CGE V2.2"
          ],
          [
           "T34_1000_ref",
           "AIM/CGE V2.2"
          ]
         ],
         "hovertemplate": "region=RoW<br>scenario_narrative=Cost Effective<br>year=%{x}<br>Emissions|CO2=%{y}<br>scenario=%{customdata[0]}<br>model=%{customdata[1]}<extra></extra>",
         "legendgroup": "RoW",
         "line": {
          "color": "#00cc96",
          "dash": "solid"
         },
         "marker": {
          "symbol": "circle"
         },
         "mode": "lines",
         "name": "RoW",
         "showlegend": false,
         "type": "scattergl",
         "x": [
          2100,
          2095,
          2090,
          2085,
          2080,
          2075,
          2070,
          2065,
          2060,
          2055,
          2050,
          2045,
          2040,
          2035,
          2030,
          2025,
          2020,
          2015,
          2010,
          2005,
          2100,
          2090,
          2080,
          2070,
          2060,
          2055,
          2050,
          2045,
          2040,
          2035,
          2030,
          2025,
          2020,
          2015,
          2010,
          2005,
          2100,
          2090,
          2080,
          2070,
          2060,
          2050,
          2045,
          2040,
          2035,
          2030,
          2025,
          2020,
          2015,
          2010,
          2005,
          2110,
          2100,
          2090,
          2080,
          2070,
          2060,
          2055,
          2050,
          2045,
          2040,
          2035,
          2030,
          2025,
          2020,
          2015,
          2010,
          2005,
          2000,
          1995,
          1990,
          2100,
          2095,
          2090,
          2085,
          2080,
          2075,
          2070,
          2065,
          2060,
          2055,
          2050,
          2045,
          2040,
          2035,
          2030,
          2025,
          2020,
          2015,
          2010,
          2005,
          2100,
          2095,
          2090,
          2085,
          2080,
          2075,
          2070,
          2065,
          2060,
          2055,
          2050,
          2045,
          2040,
          2035,
          2030,
          2025,
          2020,
          2015,
          2100,
          2090,
          2080,
          2070,
          2060,
          2050,
          2045,
          2040,
          2035,
          2030,
          2025,
          2020,
          2015,
          2010,
          2100,
          2095,
          2090,
          2085,
          2080,
          2075,
          2070,
          2065,
          2060,
          2055,
          2050,
          2045,
          2040,
          2035,
          2030,
          2025,
          2020,
          2015,
          2010
         ],
         "xaxis": "x3",
         "y": [
          272.2636628886659,
          304.08659973467906,
          384.7964510461334,
          1911.9164361789522,
          4279.848509738871,
          6668.56943284991,
          9111.739271616423,
          11505.344721307452,
          13721.687031442783,
          16017.623447811475,
          18132.908287340462,
          19654.24289549964,
          21455.420664781617,
          23172.388063881037,
          27102.634180172536,
          45592.23612492265,
          50680.22249817068,
          48643.19392988822,
          45612.01385215476,
          40841.18419460241,
          331.8484952,
          198.3548189,
          537.3474489,
          3936.687589,
          7652.8045745,
          10362.5827371,
          13399.867277399999,
          17830.3525778,
          25368.0158058,
          34980.844742400004,
          43974.2601992,
          50863.071693599995,
          54386.611820699996,
          52620.3059896,
          49062.036533,
          44316.2673241,
          127.2922592163086,
          685.0682373046875,
          820.2906799316406,
          3226.5123596191406,
          6557.217315673828,
          12247.806762695312,
          17518.839473724365,
          24583.738647460938,
          31560.086181640625,
          39036.71545410156,
          47632.407958984375,
          47910.24597167969,
          48035.5263671875,
          45091.76953125,
          38044.51611328125,
          -221.5472414485398,
          -293.45097563927675,
          -586.0948254153361,
          -442.15524514769936,
          -587.7861040679128,
          6824.734739531725,
          10623.79139232262,
          15829.239620020307,
          21999.385331452493,
          28690.204346273487,
          35038.174967725114,
          39989.091729458756,
          52064.635823323304,
          57705.94328012635,
          57774.9121952648,
          52939.29696433314,
          49123.86992667722,
          43488.27774287683,
          40521.16656562845,
          39502.099931500125,
          3956.982075097274,
          5041.540998917184,
          3469.336850799606,
          3442.84224891172,
          1500.8231758846277,
          2959.8787300893314,
          1133.1940938072412,
          2927.361565538137,
          3996.8842277981475,
          5754.036548183921,
          8206.793438664099,
          14144.39959893066,
          20646.94454253658,
          29139.936307377273,
          38896.128546118205,
          51541.049730535975,
          50490.93261669132,
          48360.793216015496,
          46850.99814904474,
          40448.728278976225,
          -62.79654293232397,
          -196.0779000088042,
          -230.39762682152696,
          -701.034389495476,
          -471.05779226726486,
          -539.9882349190553,
          1068.5930927304605,
          3204.9177646817316,
          5578.118470134557,
          10138.638649477603,
          15188.505283378407,
          19822.721876505624,
          25443.35740160602,
          31823.59540933425,
          37843.322595760415,
          42417.825998052576,
          44624.872770913724,
          46581.896871880905,
          -7335.4135479999995,
          -12308.816557000002,
          -6683.066355999999,
          4687.3005539999995,
          17910.277108,
          25801.011347000003,
          28206.606487,
          33465.22348700001,
          35538.573189,
          42237.205338572,
          42915.97875272,
          47393.31502939999,
          50003.588631,
          45521.887774,
          -3864.5961,
          -3732.4304,
          -3712.8063999999995,
          -3553.3917,
          -3648.3529,
          -3046.871,
          -2132.0513,
          -1049.9072999999999,
          -531.0025999999999,
          -274.4185000000001,
          11144.7458,
          19269.2033,
          26584.6487,
          33192.7796,
          38302.4288,
          44107.8668,
          51834.6881,
          48799.13250000001,
          45926.5451
         ],
         "yaxis": "y3"
        },
        {
         "customdata": [
          [
           "T34_1000_bitb_em",
           "WITCH 5.0"
          ],
          [
           "T34_1000_bitb_em",
           "WITCH 5.0"
          ],
          [
           "T34_1000_bitb_em",
           "WITCH 5.0"
          ],
          [
           "T34_1000_bitb_em",
           "WITCH 5.0"
          ],
          [
           "T34_1000_bitb_em",
           "WITCH 5.0"
          ],
          [
           "T34_1000_bitb_em",
           "WITCH 5.0"
          ],
          [
           "T34_1000_bitb_em",
           "WITCH 5.0"
          ],
          [
           "T34_1000_bitb_em",
           "WITCH 5.0"
          ],
          [
           "T34_1000_bitb_em",
           "WITCH 5.0"
          ],
          [
           "T34_1000_bitb_em",
           "WITCH 5.0"
          ],
          [
           "T34_1000_bitb_em",
           "WITCH 5.0"
          ],
          [
           "T34_1000_bitb_em",
           "WITCH 5.0"
          ],
          [
           "T34_1000_bitb_em",
           "WITCH 5.0"
          ],
          [
           "T34_1000_bitb_em",
           "WITCH 5.0"
          ],
          [
           "T34_1000_bitb_em",
           "WITCH 5.0"
          ],
          [
           "T34_1000_bitb_em",
           "WITCH 5.0"
          ],
          [
           "T34_1000_bitb_em",
           "WITCH 5.0"
          ],
          [
           "T34_1000_bitb_em",
           "WITCH 5.0"
          ],
          [
           "T34_1000_bitb_em",
           "WITCH 5.0"
          ],
          [
           "T34_1000_bitb_em",
           "WITCH 5.0"
          ],
          [
           "T34_1000_bitb_em",
           "REMIND 3.0"
          ],
          [
           "T34_1000_bitb_em",
           "REMIND 3.0"
          ],
          [
           "T34_1000_bitb_em",
           "REMIND 3.0"
          ],
          [
           "T34_1000_bitb_em",
           "REMIND 3.0"
          ],
          [
           "T34_1000_bitb_em",
           "REMIND 3.0"
          ],
          [
           "T34_1000_bitb_em",
           "REMIND 3.0"
          ],
          [
           "T34_1000_bitb_em",
           "REMIND 3.0"
          ],
          [
           "T34_1000_bitb_em",
           "REMIND 3.0"
          ],
          [
           "T34_1000_bitb_em",
           "REMIND 3.0"
          ],
          [
           "T34_1000_bitb_em",
           "REMIND 3.0"
          ],
          [
           "T34_1000_bitb_em",
           "REMIND 3.0"
          ],
          [
           "T34_1000_bitb_em",
           "REMIND 3.0"
          ],
          [
           "T34_1000_bitb_em",
           "REMIND 3.0"
          ],
          [
           "T34_1000_bitb_em",
           "REMIND 3.0"
          ],
          [
           "T34_1000_bitb_em",
           "REMIND 3.0"
          ],
          [
           "T34_1000_bitb_em",
           "REMIND 3.0"
          ],
          [
           "T34_1000_bitb_em",
           "POLES ENGAGE"
          ],
          [
           "T34_1000_bitb_em",
           "POLES ENGAGE"
          ],
          [
           "T34_1000_bitb_em",
           "POLES ENGAGE"
          ],
          [
           "T34_1000_bitb_em",
           "POLES ENGAGE"
          ],
          [
           "T34_1000_bitb_em",
           "POLES ENGAGE"
          ],
          [
           "T34_1000_bitb_em",
           "POLES ENGAGE"
          ],
          [
           "T34_1000_bitb_em",
           "POLES ENGAGE"
          ],
          [
           "T34_1000_bitb_em",
           "POLES ENGAGE"
          ],
          [
           "T34_1000_bitb_em",
           "POLES ENGAGE"
          ],
          [
           "T34_1000_bitb_em",
           "POLES ENGAGE"
          ],
          [
           "T34_1000_bitb_em",
           "POLES ENGAGE"
          ],
          [
           "T34_1000_bitb_em",
           "POLES ENGAGE"
          ],
          [
           "T34_1000_bitb_em",
           "POLES ENGAGE"
          ],
          [
           "T34_1000_bitb_em",
           "POLES ENGAGE"
          ],
          [
           "T34_1000_bitb_em",
           "POLES ENGAGE"
          ],
          [
           "T34_1000_bitb_em",
           "MESSAGEix-GLOBIOM_1.1"
          ],
          [
           "T34_1000_bitb_em",
           "MESSAGEix-GLOBIOM_1.1"
          ],
          [
           "T34_1000_bitb_em",
           "MESSAGEix-GLOBIOM_1.1"
          ],
          [
           "T34_1000_bitb_em",
           "MESSAGEix-GLOBIOM_1.1"
          ],
          [
           "T34_1000_bitb_em",
           "MESSAGEix-GLOBIOM_1.1"
          ],
          [
           "T34_1000_bitb_em",
           "MESSAGEix-GLOBIOM_1.1"
          ],
          [
           "T34_1000_bitb_em",
           "MESSAGEix-GLOBIOM_1.1"
          ],
          [
           "T34_1000_bitb_em",
           "MESSAGEix-GLOBIOM_1.1"
          ],
          [
           "T34_1000_bitb_em",
           "MESSAGEix-GLOBIOM_1.1"
          ],
          [
           "T34_1000_bitb_em",
           "MESSAGEix-GLOBIOM_1.1"
          ],
          [
           "T34_1000_bitb_em",
           "MESSAGEix-GLOBIOM_1.1"
          ],
          [
           "T34_1000_bitb_em",
           "MESSAGEix-GLOBIOM_1.1"
          ],
          [
           "T34_1000_bitb_em",
           "MESSAGEix-GLOBIOM_1.1"
          ],
          [
           "T34_1000_bitb_em",
           "MESSAGEix-GLOBIOM_1.1"
          ],
          [
           "T34_1000_bitb_em",
           "MESSAGEix-GLOBIOM_1.1"
          ],
          [
           "T34_1000_bitb_em",
           "MESSAGEix-GLOBIOM_1.1"
          ],
          [
           "T34_1000_bitb_em",
           "MESSAGEix-GLOBIOM_1.1"
          ],
          [
           "T34_1000_bitb_em",
           "MESSAGEix-GLOBIOM_1.1"
          ],
          [
           "T34_1000_bitb_em",
           "MESSAGEix-GLOBIOM_1.1"
          ],
          [
           "T34_1000_bitb_em",
           "MESSAGEix-GLOBIOM_1.1"
          ],
          [
           "T34_1000_bitb_em",
           "IMAGE 3.2"
          ],
          [
           "T34_1000_bitb_em",
           "IMAGE 3.2"
          ],
          [
           "T34_1000_bitb_em",
           "IMAGE 3.2"
          ],
          [
           "T34_1000_bitb_em",
           "IMAGE 3.2"
          ],
          [
           "T34_1000_bitb_em",
           "IMAGE 3.2"
          ],
          [
           "T34_1000_bitb_em",
           "IMAGE 3.2"
          ],
          [
           "T34_1000_bitb_em",
           "IMAGE 3.2"
          ],
          [
           "T34_1000_bitb_em",
           "IMAGE 3.2"
          ],
          [
           "T34_1000_bitb_em",
           "IMAGE 3.2"
          ],
          [
           "T34_1000_bitb_em",
           "IMAGE 3.2"
          ],
          [
           "T34_1000_bitb_em",
           "IMAGE 3.2"
          ],
          [
           "T34_1000_bitb_em",
           "IMAGE 3.2"
          ],
          [
           "T34_1000_bitb_em",
           "IMAGE 3.2"
          ],
          [
           "T34_1000_bitb_em",
           "IMAGE 3.2"
          ],
          [
           "T34_1000_bitb_em",
           "IMAGE 3.2"
          ],
          [
           "T34_1000_bitb_em",
           "IMAGE 3.2"
          ],
          [
           "T34_1000_bitb_em",
           "IMAGE 3.2"
          ],
          [
           "T34_1000_bitb_em",
           "IMAGE 3.2"
          ],
          [
           "T34_1000_bitb_em",
           "IMAGE 3.2"
          ],
          [
           "T34_1000_bitb_em",
           "IMAGE 3.2"
          ],
          [
           "T34_1000_bitb_em",
           "GEM-E3_V2023"
          ],
          [
           "T34_1000_bitb_em",
           "GEM-E3_V2023"
          ],
          [
           "T34_1000_bitb_em",
           "GEM-E3_V2023"
          ],
          [
           "T34_1000_bitb_em",
           "GEM-E3_V2023"
          ],
          [
           "T34_1000_bitb_em",
           "GEM-E3_V2023"
          ],
          [
           "T34_1000_bitb_em",
           "GEM-E3_V2023"
          ],
          [
           "T34_1000_bitb_em",
           "GEM-E3_V2023"
          ],
          [
           "T34_1000_bitb_em",
           "GEM-E3_V2023"
          ],
          [
           "T34_1000_bitb_em",
           "GEM-E3_V2023"
          ],
          [
           "T34_1000_bitb_em",
           "GEM-E3_V2023"
          ],
          [
           "T34_1000_bitb_em",
           "GEM-E3_V2023"
          ],
          [
           "T34_1000_bitb_em",
           "GEM-E3_V2023"
          ],
          [
           "T34_1000_bitb_em",
           "GEM-E3_V2023"
          ],
          [
           "T34_1000_bitb_em",
           "GEM-E3_V2023"
          ],
          [
           "T34_1000_bitb_em",
           "GEM-E3_V2023"
          ],
          [
           "T34_1000_bitb_em",
           "GEM-E3_V2023"
          ],
          [
           "T34_1000_bitb_em",
           "GEM-E3_V2023"
          ],
          [
           "T34_1000_bitb_em",
           "GEM-E3_V2023"
          ],
          [
           "T34_1000_bitb_em",
           "AIM/CGE V2.2"
          ],
          [
           "T34_1000_bitb_em",
           "AIM/CGE V2.2"
          ],
          [
           "T34_1000_bitb_em",
           "AIM/CGE V2.2"
          ],
          [
           "T34_1000_bitb_em",
           "AIM/CGE V2.2"
          ],
          [
           "T34_1000_bitb_em",
           "AIM/CGE V2.2"
          ],
          [
           "T34_1000_bitb_em",
           "AIM/CGE V2.2"
          ],
          [
           "T34_1000_bitb_em",
           "AIM/CGE V2.2"
          ],
          [
           "T34_1000_bitb_em",
           "AIM/CGE V2.2"
          ],
          [
           "T34_1000_bitb_em",
           "AIM/CGE V2.2"
          ],
          [
           "T34_1000_bitb_em",
           "AIM/CGE V2.2"
          ],
          [
           "T34_1000_bitb_em",
           "AIM/CGE V2.2"
          ],
          [
           "T34_1000_bitb_em",
           "AIM/CGE V2.2"
          ],
          [
           "T34_1000_bitb_em",
           "AIM/CGE V2.2"
          ],
          [
           "T34_1000_bitb_em",
           "AIM/CGE V2.2"
          ],
          [
           "T34_1000_bitb_em",
           "AIM/CGE V2.2"
          ],
          [
           "T34_1000_bitb_em",
           "AIM/CGE V2.2"
          ],
          [
           "T34_1000_bitb_em",
           "AIM/CGE V2.2"
          ],
          [
           "T34_1000_bitb_em",
           "AIM/CGE V2.2"
          ],
          [
           "T34_1000_bitb_em",
           "AIM/CGE V2.2"
          ]
         ],
         "hovertemplate": "region=World<br>scenario_narrative=Tech+Inst<br>year=%{x}<br>Emissions|CO2=%{y}<br>scenario=%{customdata[0]}<br>model=%{customdata[1]}<extra></extra>",
         "legendgroup": "World",
         "line": {
          "color": "#ab63fa",
          "dash": "solid"
         },
         "marker": {
          "symbol": "circle"
         },
         "mode": "lines",
         "name": "World",
         "showlegend": true,
         "type": "scattergl",
         "x": [
          2100,
          2095,
          2090,
          2085,
          2080,
          2075,
          2070,
          2065,
          2060,
          2055,
          2050,
          2045,
          2040,
          2035,
          2030,
          2025,
          2020,
          2015,
          2010,
          2005,
          2100,
          2090,
          2080,
          2070,
          2060,
          2055,
          2050,
          2045,
          2040,
          2035,
          2030,
          2025,
          2020,
          2015,
          2010,
          2005,
          2100,
          2090,
          2080,
          2070,
          2060,
          2050,
          2045,
          2040,
          2035,
          2030,
          2025,
          2020,
          2015,
          2010,
          2005,
          2110,
          2100,
          2090,
          2080,
          2070,
          2060,
          2055,
          2050,
          2045,
          2040,
          2035,
          2030,
          2025,
          2020,
          2015,
          2010,
          2005,
          2000,
          1995,
          1990,
          2100,
          2095,
          2090,
          2085,
          2080,
          2075,
          2070,
          2065,
          2060,
          2055,
          2050,
          2045,
          2040,
          2035,
          2030,
          2025,
          2020,
          2015,
          2010,
          2005,
          2100,
          2095,
          2090,
          2085,
          2080,
          2075,
          2070,
          2065,
          2060,
          2055,
          2050,
          2045,
          2040,
          2035,
          2030,
          2025,
          2020,
          2015,
          2100,
          2095,
          2090,
          2085,
          2080,
          2075,
          2070,
          2065,
          2060,
          2055,
          2050,
          2045,
          2040,
          2035,
          2030,
          2025,
          2020,
          2015,
          2010
         ],
         "xaxis": "x4",
         "y": [
          464.175156656201,
          487.254232775864,
          435.860624507731,
          -149.849979378872,
          1476.53863120583,
          2829.48602068441,
          4140.97282166931,
          6154.65500464048,
          8128.92229004552,
          11088.8967097211,
          14300.9391374315,
          17390.0064327575,
          20477.0841817433,
          24216.4932974989,
          30009.1406165278,
          37674.5271993123,
          40153.2762651073,
          38689.6859400325,
          36640.4375831807,
          33090.9000845212,
          267.267944,
          102.7070767,
          236.9707487,
          2414.8829159,
          5710.133163,
          7636.7724077,
          10112.1022133,
          13641.8109282,
          19026.8833905,
          25080.9880039,
          33075.3989363,
          40244.3467537,
          43169.8924414,
          42044.9008329,
          39344.5680891,
          36076.6584216,
          1525.776611328125,
          1848.988037109375,
          898.9569091796875,
          901.8017578125,
          5363.69140625,
          11933.6435546875,
          15729.4189453125,
          21191.7734375,
          25437.216796875,
          30042.212890625,
          37615.4453125,
          38585.80078125,
          38365.6796875,
          36240.515625,
          30937.66796875,
          -6425.631559633819,
          -6653.602251641035,
          -6385.59848118146,
          -3936.847360921741,
          1321.080885924608,
          9583.081913968965,
          12950.09834966132,
          16554.69506796483,
          19962.30102390401,
          24903.86587316135,
          28978.45245668445,
          34049.66405034751,
          40060.99365059118,
          44326.98623718582,
          44262.56894582486,
          40738.80498025827,
          38242.12472115899,
          33807.81650025704,
          31643.35589356205,
          30943.69732619511,
          -863.459660926478,
          -137.09256618474487,
          -498.9621887660633,
          577.3416087357538,
          851.8418172974922,
          1956.7375693510623,
          2008.3403525588785,
          3096.0541995002095,
          3965.954752964708,
          5690.021240751649,
          8769.570069156609,
          13782.116456331045,
          18652.10953945606,
          22991.8548197985,
          28376.12386325673,
          36815.166670013496,
          40314.59538126913,
          38919.50390978814,
          37625.46419612883,
          32948.73470351617,
          -275.2531347914026,
          -7.525004770095222,
          0.71527048111983,
          518.4767869141723,
          1474.2859419315687,
          2324.0023404897443,
          3031.099872195975,
          5090.301625529246,
          6962.774763366715,
          9067.981593845743,
          12418.583228339725,
          16229.176799383167,
          20485.346969649207,
          25333.984666064178,
          30064.59908432237,
          35424.81200516422,
          38396.45762925719,
          40037.95968478094,
          -3961.8732,
          -4312.474,
          -4317.1161,
          -3907.8723,
          -3113.3515,
          -2349.517,
          -1227.9014,
          178.102,
          1947.0751,
          5355.8269,
          6046.3234,
          13321.7983,
          20585.8176,
          25889.1083,
          31088.138,
          36665.5596,
          41498.7646,
          39100.9391,
          37007.3548
         ],
         "yaxis": "y4"
        },
        {
         "customdata": [
          [
           "T34_1000_bitb_ref",
           "WITCH 5.0"
          ],
          [
           "T34_1000_bitb_ref",
           "WITCH 5.0"
          ],
          [
           "T34_1000_bitb_ref",
           "WITCH 5.0"
          ],
          [
           "T34_1000_bitb_ref",
           "WITCH 5.0"
          ],
          [
           "T34_1000_bitb_ref",
           "WITCH 5.0"
          ],
          [
           "T34_1000_bitb_ref",
           "WITCH 5.0"
          ],
          [
           "T34_1000_bitb_ref",
           "WITCH 5.0"
          ],
          [
           "T34_1000_bitb_ref",
           "WITCH 5.0"
          ],
          [
           "T34_1000_bitb_ref",
           "WITCH 5.0"
          ],
          [
           "T34_1000_bitb_ref",
           "WITCH 5.0"
          ],
          [
           "T34_1000_bitb_ref",
           "WITCH 5.0"
          ],
          [
           "T34_1000_bitb_ref",
           "WITCH 5.0"
          ],
          [
           "T34_1000_bitb_ref",
           "WITCH 5.0"
          ],
          [
           "T34_1000_bitb_ref",
           "WITCH 5.0"
          ],
          [
           "T34_1000_bitb_ref",
           "WITCH 5.0"
          ],
          [
           "T34_1000_bitb_ref",
           "WITCH 5.0"
          ],
          [
           "T34_1000_bitb_ref",
           "WITCH 5.0"
          ],
          [
           "T34_1000_bitb_ref",
           "WITCH 5.0"
          ],
          [
           "T34_1000_bitb_ref",
           "WITCH 5.0"
          ],
          [
           "T34_1000_bitb_ref",
           "WITCH 5.0"
          ],
          [
           "T34_1000_bitb_ref",
           "REMIND 3.0"
          ],
          [
           "T34_1000_bitb_ref",
           "REMIND 3.0"
          ],
          [
           "T34_1000_bitb_ref",
           "REMIND 3.0"
          ],
          [
           "T34_1000_bitb_ref",
           "REMIND 3.0"
          ],
          [
           "T34_1000_bitb_ref",
           "REMIND 3.0"
          ],
          [
           "T34_1000_bitb_ref",
           "REMIND 3.0"
          ],
          [
           "T34_1000_bitb_ref",
           "REMIND 3.0"
          ],
          [
           "T34_1000_bitb_ref",
           "REMIND 3.0"
          ],
          [
           "T34_1000_bitb_ref",
           "REMIND 3.0"
          ],
          [
           "T34_1000_bitb_ref",
           "REMIND 3.0"
          ],
          [
           "T34_1000_bitb_ref",
           "REMIND 3.0"
          ],
          [
           "T34_1000_bitb_ref",
           "REMIND 3.0"
          ],
          [
           "T34_1000_bitb_ref",
           "REMIND 3.0"
          ],
          [
           "T34_1000_bitb_ref",
           "REMIND 3.0"
          ],
          [
           "T34_1000_bitb_ref",
           "REMIND 3.0"
          ],
          [
           "T34_1000_bitb_ref",
           "REMIND 3.0"
          ],
          [
           "T34_1000_bitb_ref",
           "POLES ENGAGE"
          ],
          [
           "T34_1000_bitb_ref",
           "POLES ENGAGE"
          ],
          [
           "T34_1000_bitb_ref",
           "POLES ENGAGE"
          ],
          [
           "T34_1000_bitb_ref",
           "POLES ENGAGE"
          ],
          [
           "T34_1000_bitb_ref",
           "POLES ENGAGE"
          ],
          [
           "T34_1000_bitb_ref",
           "POLES ENGAGE"
          ],
          [
           "T34_1000_bitb_ref",
           "POLES ENGAGE"
          ],
          [
           "T34_1000_bitb_ref",
           "POLES ENGAGE"
          ],
          [
           "T34_1000_bitb_ref",
           "POLES ENGAGE"
          ],
          [
           "T34_1000_bitb_ref",
           "POLES ENGAGE"
          ],
          [
           "T34_1000_bitb_ref",
           "POLES ENGAGE"
          ],
          [
           "T34_1000_bitb_ref",
           "POLES ENGAGE"
          ],
          [
           "T34_1000_bitb_ref",
           "POLES ENGAGE"
          ],
          [
           "T34_1000_bitb_ref",
           "POLES ENGAGE"
          ],
          [
           "T34_1000_bitb_ref",
           "POLES ENGAGE"
          ],
          [
           "T34_1000_bitb_ref",
           "MESSAGEix-GLOBIOM_1.1"
          ],
          [
           "T34_1000_bitb_ref",
           "MESSAGEix-GLOBIOM_1.1"
          ],
          [
           "T34_1000_bitb_ref",
           "MESSAGEix-GLOBIOM_1.1"
          ],
          [
           "T34_1000_bitb_ref",
           "MESSAGEix-GLOBIOM_1.1"
          ],
          [
           "T34_1000_bitb_ref",
           "MESSAGEix-GLOBIOM_1.1"
          ],
          [
           "T34_1000_bitb_ref",
           "MESSAGEix-GLOBIOM_1.1"
          ],
          [
           "T34_1000_bitb_ref",
           "MESSAGEix-GLOBIOM_1.1"
          ],
          [
           "T34_1000_bitb_ref",
           "MESSAGEix-GLOBIOM_1.1"
          ],
          [
           "T34_1000_bitb_ref",
           "MESSAGEix-GLOBIOM_1.1"
          ],
          [
           "T34_1000_bitb_ref",
           "MESSAGEix-GLOBIOM_1.1"
          ],
          [
           "T34_1000_bitb_ref",
           "MESSAGEix-GLOBIOM_1.1"
          ],
          [
           "T34_1000_bitb_ref",
           "MESSAGEix-GLOBIOM_1.1"
          ],
          [
           "T34_1000_bitb_ref",
           "MESSAGEix-GLOBIOM_1.1"
          ],
          [
           "T34_1000_bitb_ref",
           "MESSAGEix-GLOBIOM_1.1"
          ],
          [
           "T34_1000_bitb_ref",
           "MESSAGEix-GLOBIOM_1.1"
          ],
          [
           "T34_1000_bitb_ref",
           "MESSAGEix-GLOBIOM_1.1"
          ],
          [
           "T34_1000_bitb_ref",
           "MESSAGEix-GLOBIOM_1.1"
          ],
          [
           "T34_1000_bitb_ref",
           "MESSAGEix-GLOBIOM_1.1"
          ],
          [
           "T34_1000_bitb_ref",
           "MESSAGEix-GLOBIOM_1.1"
          ],
          [
           "T34_1000_bitb_ref",
           "MESSAGEix-GLOBIOM_1.1"
          ],
          [
           "T34_1000_bitb_ref",
           "IMAGE 3.2"
          ],
          [
           "T34_1000_bitb_ref",
           "IMAGE 3.2"
          ],
          [
           "T34_1000_bitb_ref",
           "IMAGE 3.2"
          ],
          [
           "T34_1000_bitb_ref",
           "IMAGE 3.2"
          ],
          [
           "T34_1000_bitb_ref",
           "IMAGE 3.2"
          ],
          [
           "T34_1000_bitb_ref",
           "IMAGE 3.2"
          ],
          [
           "T34_1000_bitb_ref",
           "IMAGE 3.2"
          ],
          [
           "T34_1000_bitb_ref",
           "IMAGE 3.2"
          ],
          [
           "T34_1000_bitb_ref",
           "IMAGE 3.2"
          ],
          [
           "T34_1000_bitb_ref",
           "IMAGE 3.2"
          ],
          [
           "T34_1000_bitb_ref",
           "IMAGE 3.2"
          ],
          [
           "T34_1000_bitb_ref",
           "IMAGE 3.2"
          ],
          [
           "T34_1000_bitb_ref",
           "IMAGE 3.2"
          ],
          [
           "T34_1000_bitb_ref",
           "IMAGE 3.2"
          ],
          [
           "T34_1000_bitb_ref",
           "IMAGE 3.2"
          ],
          [
           "T34_1000_bitb_ref",
           "IMAGE 3.2"
          ],
          [
           "T34_1000_bitb_ref",
           "IMAGE 3.2"
          ],
          [
           "T34_1000_bitb_ref",
           "IMAGE 3.2"
          ],
          [
           "T34_1000_bitb_ref",
           "IMAGE 3.2"
          ],
          [
           "T34_1000_bitb_ref",
           "IMAGE 3.2"
          ],
          [
           "T34_1000_bitb_ref",
           "COFFEE 1.5"
          ],
          [
           "T34_1000_bitb_ref",
           "COFFEE 1.5"
          ],
          [
           "T34_1000_bitb_ref",
           "COFFEE 1.5"
          ],
          [
           "T34_1000_bitb_ref",
           "COFFEE 1.5"
          ],
          [
           "T34_1000_bitb_ref",
           "COFFEE 1.5"
          ],
          [
           "T34_1000_bitb_ref",
           "COFFEE 1.5"
          ],
          [
           "T34_1000_bitb_ref",
           "COFFEE 1.5"
          ],
          [
           "T34_1000_bitb_ref",
           "COFFEE 1.5"
          ],
          [
           "T34_1000_bitb_ref",
           "COFFEE 1.5"
          ],
          [
           "T34_1000_bitb_ref",
           "COFFEE 1.5"
          ],
          [
           "T34_1000_bitb_ref",
           "COFFEE 1.5"
          ],
          [
           "T34_1000_bitb_ref",
           "COFFEE 1.5"
          ],
          [
           "T34_1000_bitb_ref",
           "COFFEE 1.5"
          ],
          [
           "T34_1000_bitb_ref",
           "COFFEE 1.5"
          ]
         ],
         "hovertemplate": "region=World<br>scenario_narrative=Tech<br>year=%{x}<br>Emissions|CO2=%{y}<br>scenario=%{customdata[0]}<br>model=%{customdata[1]}<extra></extra>",
         "legendgroup": "World",
         "line": {
          "color": "#ab63fa",
          "dash": "solid"
         },
         "marker": {
          "symbol": "circle"
         },
         "mode": "lines",
         "name": "World",
         "showlegend": false,
         "type": "scattergl",
         "x": [
          2100,
          2095,
          2090,
          2085,
          2080,
          2075,
          2070,
          2065,
          2060,
          2055,
          2050,
          2045,
          2040,
          2035,
          2030,
          2025,
          2020,
          2015,
          2010,
          2005,
          2100,
          2090,
          2080,
          2070,
          2060,
          2055,
          2050,
          2045,
          2040,
          2035,
          2030,
          2025,
          2020,
          2015,
          2010,
          2005,
          2100,
          2090,
          2080,
          2070,
          2060,
          2050,
          2045,
          2040,
          2035,
          2030,
          2025,
          2020,
          2015,
          2010,
          2005,
          2110,
          2100,
          2090,
          2080,
          2070,
          2060,
          2055,
          2050,
          2045,
          2040,
          2035,
          2030,
          2025,
          2020,
          2015,
          2010,
          2005,
          2000,
          1995,
          1990,
          2100,
          2095,
          2090,
          2085,
          2080,
          2075,
          2070,
          2065,
          2060,
          2055,
          2050,
          2045,
          2040,
          2035,
          2030,
          2025,
          2020,
          2015,
          2010,
          2005,
          2100,
          2090,
          2080,
          2070,
          2060,
          2050,
          2045,
          2040,
          2035,
          2030,
          2025,
          2020,
          2015,
          2010
         ],
         "xaxis": "x5",
         "y": [
          2994.80769710095,
          3423.11770669891,
          3864.32149948646,
          4659.6894725622,
          5249.4410948437,
          5883.5042570803,
          6702.5479109632,
          7462.92803346896,
          8450.92355530174,
          9751.47507863032,
          11306.9385680557,
          13036.3298897012,
          14771.5475177586,
          17136.3969908984,
          18522.8293464304,
          35804.8621765935,
          40153.2762651073,
          38689.6859400325,
          36640.4375831807,
          33090.9000845212,
          197.8336409,
          827.2724018,
          1692.3209955,
          3090.8621671,
          5206.1303781,
          6685.7709605,
          8826.56532,
          12203.6135262,
          17537.3296387,
          24052.7078858,
          32314.2187095,
          40276.556356,
          43169.8924414,
          42044.9008329,
          39344.5680891,
          36076.6584216,
          -6855.93798828125,
          -4946.03564453125,
          -2296.40869140625,
          2385.51513671875,
          9517.4072265625,
          15979.734375,
          20851.48828125,
          26716.24609375,
          31647.00390625,
          34661.2109375,
          40026.59375,
          38578.63671875,
          38365.6796875,
          36240.515625,
          30937.66796875,
          0.0008150312332873,
          0.002618060268332,
          0.004118845763287,
          0.0002563754735547263,
          -0.0052474269402860005,
          5869.168358325795,
          8292.375504330801,
          11932.74850593715,
          16569.97711699913,
          21967.84241497218,
          26697.81684499999,
          30770.07088759882,
          40060.99365059118,
          44326.98623718582,
          44262.56894582486,
          40738.80498025827,
          38242.12472115899,
          33807.81650025704,
          31643.35589356205,
          30943.69732619511,
          -607.3011780337248,
          157.26737341721045,
          -406.76241306188075,
          696.8635508852913,
          1092.2618205745569,
          2243.4892987065577,
          2543.0224408236318,
          3652.833862636763,
          4489.947021892552,
          6095.404541569753,
          8769.889649234763,
          13261.020997299296,
          17933.23698079696,
          22040.438966847425,
          27211.25716393208,
          36044.05306317256,
          40314.59538126913,
          38919.50390978814,
          37625.46419612883,
          32948.73470351617,
          2726.3667100000002,
          -78.59952499999997,
          961.9659899999999,
          2847.2989239999997,
          7776.848889999999,
          14680.947245000001,
          17904.40567,
          23027.396816,
          25294.275095999998,
          31318.558234504,
          33770.731043039996,
          38986.90827659999,
          39709.84605,
          36603.092352
         ],
         "yaxis": "y5"
        },
        {
         "customdata": [
          [
           "T34_1000_enab_em",
           "WITCH 5.0"
          ],
          [
           "T34_1000_enab_em",
           "WITCH 5.0"
          ],
          [
           "T34_1000_enab_em",
           "WITCH 5.0"
          ],
          [
           "T34_1000_enab_em",
           "WITCH 5.0"
          ],
          [
           "T34_1000_enab_em",
           "WITCH 5.0"
          ],
          [
           "T34_1000_enab_em",
           "WITCH 5.0"
          ],
          [
           "T34_1000_enab_em",
           "WITCH 5.0"
          ],
          [
           "T34_1000_enab_em",
           "WITCH 5.0"
          ],
          [
           "T34_1000_enab_em",
           "WITCH 5.0"
          ],
          [
           "T34_1000_enab_em",
           "WITCH 5.0"
          ],
          [
           "T34_1000_enab_em",
           "WITCH 5.0"
          ],
          [
           "T34_1000_enab_em",
           "WITCH 5.0"
          ],
          [
           "T34_1000_enab_em",
           "WITCH 5.0"
          ],
          [
           "T34_1000_enab_em",
           "WITCH 5.0"
          ],
          [
           "T34_1000_enab_em",
           "WITCH 5.0"
          ],
          [
           "T34_1000_enab_em",
           "WITCH 5.0"
          ],
          [
           "T34_1000_enab_em",
           "WITCH 5.0"
          ],
          [
           "T34_1000_enab_em",
           "WITCH 5.0"
          ],
          [
           "T34_1000_enab_em",
           "WITCH 5.0"
          ],
          [
           "T34_1000_enab_em",
           "WITCH 5.0"
          ],
          [
           "T34_1000_enab_em",
           "REMIND 3.0"
          ],
          [
           "T34_1000_enab_em",
           "REMIND 3.0"
          ],
          [
           "T34_1000_enab_em",
           "REMIND 3.0"
          ],
          [
           "T34_1000_enab_em",
           "REMIND 3.0"
          ],
          [
           "T34_1000_enab_em",
           "REMIND 3.0"
          ],
          [
           "T34_1000_enab_em",
           "REMIND 3.0"
          ],
          [
           "T34_1000_enab_em",
           "REMIND 3.0"
          ],
          [
           "T34_1000_enab_em",
           "REMIND 3.0"
          ],
          [
           "T34_1000_enab_em",
           "REMIND 3.0"
          ],
          [
           "T34_1000_enab_em",
           "REMIND 3.0"
          ],
          [
           "T34_1000_enab_em",
           "REMIND 3.0"
          ],
          [
           "T34_1000_enab_em",
           "REMIND 3.0"
          ],
          [
           "T34_1000_enab_em",
           "REMIND 3.0"
          ],
          [
           "T34_1000_enab_em",
           "REMIND 3.0"
          ],
          [
           "T34_1000_enab_em",
           "REMIND 3.0"
          ],
          [
           "T34_1000_enab_em",
           "REMIND 3.0"
          ],
          [
           "T34_1000_enab_em",
           "MESSAGEix-GLOBIOM_1.1"
          ],
          [
           "T34_1000_enab_em",
           "MESSAGEix-GLOBIOM_1.1"
          ],
          [
           "T34_1000_enab_em",
           "MESSAGEix-GLOBIOM_1.1"
          ],
          [
           "T34_1000_enab_em",
           "MESSAGEix-GLOBIOM_1.1"
          ],
          [
           "T34_1000_enab_em",
           "MESSAGEix-GLOBIOM_1.1"
          ],
          [
           "T34_1000_enab_em",
           "MESSAGEix-GLOBIOM_1.1"
          ],
          [
           "T34_1000_enab_em",
           "MESSAGEix-GLOBIOM_1.1"
          ],
          [
           "T34_1000_enab_em",
           "MESSAGEix-GLOBIOM_1.1"
          ],
          [
           "T34_1000_enab_em",
           "MESSAGEix-GLOBIOM_1.1"
          ],
          [
           "T34_1000_enab_em",
           "MESSAGEix-GLOBIOM_1.1"
          ],
          [
           "T34_1000_enab_em",
           "MESSAGEix-GLOBIOM_1.1"
          ],
          [
           "T34_1000_enab_em",
           "MESSAGEix-GLOBIOM_1.1"
          ],
          [
           "T34_1000_enab_em",
           "MESSAGEix-GLOBIOM_1.1"
          ],
          [
           "T34_1000_enab_em",
           "MESSAGEix-GLOBIOM_1.1"
          ],
          [
           "T34_1000_enab_em",
           "MESSAGEix-GLOBIOM_1.1"
          ],
          [
           "T34_1000_enab_em",
           "MESSAGEix-GLOBIOM_1.1"
          ],
          [
           "T34_1000_enab_em",
           "MESSAGEix-GLOBIOM_1.1"
          ],
          [
           "T34_1000_enab_em",
           "MESSAGEix-GLOBIOM_1.1"
          ],
          [
           "T34_1000_enab_em",
           "MESSAGEix-GLOBIOM_1.1"
          ],
          [
           "T34_1000_enab_em",
           "MESSAGEix-GLOBIOM_1.1"
          ]
         ],
         "hovertemplate": "region=World<br>scenario_narrative=Inst+Enab<br>year=%{x}<br>Emissions|CO2=%{y}<br>scenario=%{customdata[0]}<br>model=%{customdata[1]}<extra></extra>",
         "legendgroup": "World",
         "line": {
          "color": "#ab63fa",
          "dash": "solid"
         },
         "marker": {
          "symbol": "circle"
         },
         "mode": "lines",
         "name": "World",
         "showlegend": false,
         "type": "scattergl",
         "x": [
          2100,
          2095,
          2090,
          2085,
          2080,
          2075,
          2070,
          2065,
          2060,
          2055,
          2050,
          2045,
          2040,
          2035,
          2030,
          2025,
          2020,
          2015,
          2010,
          2005,
          2100,
          2090,
          2080,
          2070,
          2060,
          2055,
          2050,
          2045,
          2040,
          2035,
          2030,
          2025,
          2020,
          2015,
          2010,
          2005,
          2110,
          2100,
          2090,
          2080,
          2070,
          2060,
          2055,
          2050,
          2045,
          2040,
          2035,
          2030,
          2025,
          2020,
          2015,
          2010,
          2005,
          2000,
          1995,
          1990
         ],
         "xaxis": "x6",
         "y": [
          120.97552317496,
          95.1085142696789,
          75.1792189873151,
          28.1551604825099,
          66.4974345372972,
          869.242533505427,
          3077.46083703505,
          5254.32303127984,
          7332.05769972007,
          10223.3749156252,
          12962.3534298752,
          15795.606608539,
          20113.5302486586,
          24498.7167173076,
          30923.0762903626,
          36282.6141030857,
          40153.2762651073,
          38689.6859400325,
          36640.4375831807,
          33090.9000845212,
          282.8680277,
          127.723321,
          1345.8933786,
          3043.3090686,
          5903.6783196,
          8106.3645301,
          10428.9277355,
          13481.2919389,
          17833.1075286,
          23954.7681157,
          30278.9364415,
          39418.3007974,
          43169.8924414,
          42044.9008329,
          39344.5680891,
          36076.6584216,
          -10329.63986468161,
          -9369.709518658236,
          -7279.218768082606,
          -4184.854653048013,
          640.4709711071285,
          8417.28801504069,
          12633.13199589377,
          16873.40741455175,
          21621.29540250874,
          28137.32415294238,
          32659.4616998976,
          37167.44553813973,
          40060.99365059118,
          44326.98623718582,
          44262.56894582486,
          40738.80498025827,
          38242.12472115899,
          33807.81650025704,
          31643.35589356205,
          30943.69732619511
         ],
         "yaxis": "y6"
        },
        {
         "customdata": [
          [
           "T34_1000_feas_em",
           "WITCH 5.0"
          ],
          [
           "T34_1000_feas_em",
           "WITCH 5.0"
          ],
          [
           "T34_1000_feas_em",
           "WITCH 5.0"
          ],
          [
           "T34_1000_feas_em",
           "WITCH 5.0"
          ],
          [
           "T34_1000_feas_em",
           "WITCH 5.0"
          ],
          [
           "T34_1000_feas_em",
           "WITCH 5.0"
          ],
          [
           "T34_1000_feas_em",
           "WITCH 5.0"
          ],
          [
           "T34_1000_feas_em",
           "WITCH 5.0"
          ],
          [
           "T34_1000_feas_em",
           "WITCH 5.0"
          ],
          [
           "T34_1000_feas_em",
           "WITCH 5.0"
          ],
          [
           "T34_1000_feas_em",
           "WITCH 5.0"
          ],
          [
           "T34_1000_feas_em",
           "WITCH 5.0"
          ],
          [
           "T34_1000_feas_em",
           "WITCH 5.0"
          ],
          [
           "T34_1000_feas_em",
           "WITCH 5.0"
          ],
          [
           "T34_1000_feas_em",
           "WITCH 5.0"
          ],
          [
           "T34_1000_feas_em",
           "WITCH 5.0"
          ],
          [
           "T34_1000_feas_em",
           "WITCH 5.0"
          ],
          [
           "T34_1000_feas_em",
           "WITCH 5.0"
          ],
          [
           "T34_1000_feas_em",
           "WITCH 5.0"
          ],
          [
           "T34_1000_feas_em",
           "WITCH 5.0"
          ],
          [
           "T34_1000_feas_em",
           "REMIND 3.0"
          ],
          [
           "T34_1000_feas_em",
           "REMIND 3.0"
          ],
          [
           "T34_1000_feas_em",
           "REMIND 3.0"
          ],
          [
           "T34_1000_feas_em",
           "REMIND 3.0"
          ],
          [
           "T34_1000_feas_em",
           "REMIND 3.0"
          ],
          [
           "T34_1000_feas_em",
           "REMIND 3.0"
          ],
          [
           "T34_1000_feas_em",
           "REMIND 3.0"
          ],
          [
           "T34_1000_feas_em",
           "REMIND 3.0"
          ],
          [
           "T34_1000_feas_em",
           "REMIND 3.0"
          ],
          [
           "T34_1000_feas_em",
           "REMIND 3.0"
          ],
          [
           "T34_1000_feas_em",
           "REMIND 3.0"
          ],
          [
           "T34_1000_feas_em",
           "REMIND 3.0"
          ],
          [
           "T34_1000_feas_em",
           "REMIND 3.0"
          ],
          [
           "T34_1000_feas_em",
           "REMIND 3.0"
          ],
          [
           "T34_1000_feas_em",
           "REMIND 3.0"
          ],
          [
           "T34_1000_feas_em",
           "REMIND 3.0"
          ],
          [
           "T34_1000_feas_em",
           "POLES ENGAGE"
          ],
          [
           "T34_1000_feas_em",
           "POLES ENGAGE"
          ],
          [
           "T34_1000_feas_em",
           "POLES ENGAGE"
          ],
          [
           "T34_1000_feas_em",
           "POLES ENGAGE"
          ],
          [
           "T34_1000_feas_em",
           "POLES ENGAGE"
          ],
          [
           "T34_1000_feas_em",
           "POLES ENGAGE"
          ],
          [
           "T34_1000_feas_em",
           "POLES ENGAGE"
          ],
          [
           "T34_1000_feas_em",
           "POLES ENGAGE"
          ],
          [
           "T34_1000_feas_em",
           "POLES ENGAGE"
          ],
          [
           "T34_1000_feas_em",
           "POLES ENGAGE"
          ],
          [
           "T34_1000_feas_em",
           "POLES ENGAGE"
          ],
          [
           "T34_1000_feas_em",
           "POLES ENGAGE"
          ],
          [
           "T34_1000_feas_em",
           "POLES ENGAGE"
          ],
          [
           "T34_1000_feas_em",
           "POLES ENGAGE"
          ],
          [
           "T34_1000_feas_em",
           "POLES ENGAGE"
          ],
          [
           "T34_1000_feas_em",
           "MESSAGEix-GLOBIOM_1.1"
          ],
          [
           "T34_1000_feas_em",
           "MESSAGEix-GLOBIOM_1.1"
          ],
          [
           "T34_1000_feas_em",
           "MESSAGEix-GLOBIOM_1.1"
          ],
          [
           "T34_1000_feas_em",
           "MESSAGEix-GLOBIOM_1.1"
          ],
          [
           "T34_1000_feas_em",
           "MESSAGEix-GLOBIOM_1.1"
          ],
          [
           "T34_1000_feas_em",
           "MESSAGEix-GLOBIOM_1.1"
          ],
          [
           "T34_1000_feas_em",
           "MESSAGEix-GLOBIOM_1.1"
          ],
          [
           "T34_1000_feas_em",
           "MESSAGEix-GLOBIOM_1.1"
          ],
          [
           "T34_1000_feas_em",
           "MESSAGEix-GLOBIOM_1.1"
          ],
          [
           "T34_1000_feas_em",
           "MESSAGEix-GLOBIOM_1.1"
          ],
          [
           "T34_1000_feas_em",
           "MESSAGEix-GLOBIOM_1.1"
          ],
          [
           "T34_1000_feas_em",
           "MESSAGEix-GLOBIOM_1.1"
          ],
          [
           "T34_1000_feas_em",
           "MESSAGEix-GLOBIOM_1.1"
          ],
          [
           "T34_1000_feas_em",
           "MESSAGEix-GLOBIOM_1.1"
          ],
          [
           "T34_1000_feas_em",
           "MESSAGEix-GLOBIOM_1.1"
          ],
          [
           "T34_1000_feas_em",
           "MESSAGEix-GLOBIOM_1.1"
          ],
          [
           "T34_1000_feas_em",
           "MESSAGEix-GLOBIOM_1.1"
          ],
          [
           "T34_1000_feas_em",
           "MESSAGEix-GLOBIOM_1.1"
          ],
          [
           "T34_1000_feas_em",
           "MESSAGEix-GLOBIOM_1.1"
          ],
          [
           "T34_1000_feas_em",
           "MESSAGEix-GLOBIOM_1.1"
          ],
          [
           "T34_1000_feas_em",
           "IMAGE 3.2"
          ],
          [
           "T34_1000_feas_em",
           "IMAGE 3.2"
          ],
          [
           "T34_1000_feas_em",
           "IMAGE 3.2"
          ],
          [
           "T34_1000_feas_em",
           "IMAGE 3.2"
          ],
          [
           "T34_1000_feas_em",
           "IMAGE 3.2"
          ],
          [
           "T34_1000_feas_em",
           "IMAGE 3.2"
          ],
          [
           "T34_1000_feas_em",
           "IMAGE 3.2"
          ],
          [
           "T34_1000_feas_em",
           "IMAGE 3.2"
          ],
          [
           "T34_1000_feas_em",
           "IMAGE 3.2"
          ],
          [
           "T34_1000_feas_em",
           "IMAGE 3.2"
          ],
          [
           "T34_1000_feas_em",
           "IMAGE 3.2"
          ],
          [
           "T34_1000_feas_em",
           "IMAGE 3.2"
          ],
          [
           "T34_1000_feas_em",
           "IMAGE 3.2"
          ],
          [
           "T34_1000_feas_em",
           "IMAGE 3.2"
          ],
          [
           "T34_1000_feas_em",
           "IMAGE 3.2"
          ],
          [
           "T34_1000_feas_em",
           "IMAGE 3.2"
          ],
          [
           "T34_1000_feas_em",
           "IMAGE 3.2"
          ],
          [
           "T34_1000_feas_em",
           "IMAGE 3.2"
          ],
          [
           "T34_1000_feas_em",
           "IMAGE 3.2"
          ],
          [
           "T34_1000_feas_em",
           "IMAGE 3.2"
          ],
          [
           "T34_1000_feas_em",
           "GEM-E3_V2023"
          ],
          [
           "T34_1000_feas_em",
           "GEM-E3_V2023"
          ],
          [
           "T34_1000_feas_em",
           "GEM-E3_V2023"
          ],
          [
           "T34_1000_feas_em",
           "GEM-E3_V2023"
          ],
          [
           "T34_1000_feas_em",
           "GEM-E3_V2023"
          ],
          [
           "T34_1000_feas_em",
           "GEM-E3_V2023"
          ],
          [
           "T34_1000_feas_em",
           "GEM-E3_V2023"
          ],
          [
           "T34_1000_feas_em",
           "GEM-E3_V2023"
          ],
          [
           "T34_1000_feas_em",
           "GEM-E3_V2023"
          ],
          [
           "T34_1000_feas_em",
           "GEM-E3_V2023"
          ],
          [
           "T34_1000_feas_em",
           "GEM-E3_V2023"
          ],
          [
           "T34_1000_feas_em",
           "GEM-E3_V2023"
          ],
          [
           "T34_1000_feas_em",
           "GEM-E3_V2023"
          ],
          [
           "T34_1000_feas_em",
           "GEM-E3_V2023"
          ],
          [
           "T34_1000_feas_em",
           "GEM-E3_V2023"
          ],
          [
           "T34_1000_feas_em",
           "GEM-E3_V2023"
          ],
          [
           "T34_1000_feas_em",
           "GEM-E3_V2023"
          ],
          [
           "T34_1000_feas_em",
           "GEM-E3_V2023"
          ],
          [
           "T34_1000_feas_em",
           "AIM/CGE V2.2"
          ],
          [
           "T34_1000_feas_em",
           "AIM/CGE V2.2"
          ],
          [
           "T34_1000_feas_em",
           "AIM/CGE V2.2"
          ],
          [
           "T34_1000_feas_em",
           "AIM/CGE V2.2"
          ],
          [
           "T34_1000_feas_em",
           "AIM/CGE V2.2"
          ],
          [
           "T34_1000_feas_em",
           "AIM/CGE V2.2"
          ],
          [
           "T34_1000_feas_em",
           "AIM/CGE V2.2"
          ],
          [
           "T34_1000_feas_em",
           "AIM/CGE V2.2"
          ],
          [
           "T34_1000_feas_em",
           "AIM/CGE V2.2"
          ],
          [
           "T34_1000_feas_em",
           "AIM/CGE V2.2"
          ],
          [
           "T34_1000_feas_em",
           "AIM/CGE V2.2"
          ],
          [
           "T34_1000_feas_em",
           "AIM/CGE V2.2"
          ],
          [
           "T34_1000_feas_em",
           "AIM/CGE V2.2"
          ],
          [
           "T34_1000_feas_em",
           "AIM/CGE V2.2"
          ],
          [
           "T34_1000_feas_em",
           "AIM/CGE V2.2"
          ],
          [
           "T34_1000_feas_em",
           "AIM/CGE V2.2"
          ],
          [
           "T34_1000_feas_em",
           "AIM/CGE V2.2"
          ],
          [
           "T34_1000_feas_em",
           "AIM/CGE V2.2"
          ],
          [
           "T34_1000_feas_em",
           "AIM/CGE V2.2"
          ]
         ],
         "hovertemplate": "region=World<br>scenario_narrative=Tech+Inst+Enab<br>year=%{x}<br>Emissions|CO2=%{y}<br>scenario=%{customdata[0]}<br>model=%{customdata[1]}<extra></extra>",
         "legendgroup": "World",
         "line": {
          "color": "#ab63fa",
          "dash": "solid"
         },
         "marker": {
          "symbol": "circle"
         },
         "mode": "lines",
         "name": "World",
         "showlegend": false,
         "type": "scattergl",
         "x": [
          2100,
          2095,
          2090,
          2085,
          2080,
          2075,
          2070,
          2065,
          2060,
          2055,
          2050,
          2045,
          2040,
          2035,
          2030,
          2025,
          2020,
          2015,
          2010,
          2005,
          2100,
          2090,
          2080,
          2070,
          2060,
          2055,
          2050,
          2045,
          2040,
          2035,
          2030,
          2025,
          2020,
          2015,
          2010,
          2005,
          2100,
          2090,
          2080,
          2070,
          2060,
          2050,
          2045,
          2040,
          2035,
          2030,
          2025,
          2020,
          2015,
          2010,
          2005,
          2110,
          2100,
          2090,
          2080,
          2070,
          2060,
          2055,
          2050,
          2045,
          2040,
          2035,
          2030,
          2025,
          2020,
          2015,
          2010,
          2005,
          2000,
          1995,
          1990,
          2100,
          2095,
          2090,
          2085,
          2080,
          2075,
          2070,
          2065,
          2060,
          2055,
          2050,
          2045,
          2040,
          2035,
          2030,
          2025,
          2020,
          2015,
          2010,
          2005,
          2100,
          2095,
          2090,
          2085,
          2080,
          2075,
          2070,
          2065,
          2060,
          2055,
          2050,
          2045,
          2040,
          2035,
          2030,
          2025,
          2020,
          2015,
          2100,
          2095,
          2090,
          2085,
          2080,
          2075,
          2070,
          2065,
          2060,
          2055,
          2050,
          2045,
          2040,
          2035,
          2030,
          2025,
          2020,
          2015,
          2010
         ],
         "xaxis": "x",
         "y": [
          130.994169249474,
          103.585635237051,
          109.790133128459,
          20.9348021059696,
          1298.83827158299,
          2589.10583442328,
          4274.77142743842,
          5919.87765613422,
          7539.34394749177,
          9913.42312352917,
          12428.1825729341,
          15487.0757691984,
          19384.9092249618,
          23529.5737516993,
          29083.705828117,
          35764.2253719167,
          40153.2762651073,
          38689.6859400325,
          36640.4375831807,
          33090.9000845212,
          333.1364044,
          455.1165693,
          2145.989562,
          3559.4433643,
          6094.3848887,
          8013.405469,
          10165.2601172,
          13002.8799275,
          17357.4892678,
          23516.017394,
          30030.3848351,
          39424.9854454,
          43169.8924414,
          42044.9008329,
          39344.5680891,
          36076.6584216,
          14256.326171875,
          5760.50048828125,
          -824.1339721679688,
          686.85546875,
          6371.9501953125,
          14382.0673828125,
          17922.787109375,
          22549.591796875,
          25340.720703125,
          30146.69140625,
          37973.65234375,
          38585.61328125,
          38365.6796875,
          36240.515625,
          30937.66796875,
          -10131.05335641365,
          -9237.408068860192,
          -7298.783058694957,
          -4212.039157826286,
          623.9170618671119,
          8407.626270756691,
          12688.26073604108,
          16885.51306215626,
          21709.669907167,
          28329.93894294387,
          32826.55878750821,
          37335.4106510628,
          40060.99365059118,
          44326.98623718582,
          44262.56894582486,
          40738.80498025827,
          38242.12472115899,
          33807.81650025704,
          31643.35589356205,
          30943.69732619511,
          -3105.055705034882,
          -2561.0303753955814,
          -3162.983174929471,
          -2247.8499554452355,
          -2026.5241904511565,
          -679.6819255175184,
          -26.12168153364504,
          1942.0635174291554,
          3688.5126956478193,
          6472.044434182118,
          10102.601237897585,
          14440.748617849253,
          21606.925457693433,
          27253.497235550505,
          30790.471682486634,
          37195.801761193936,
          40017.15495155459,
          38916.31348010035,
          37624.76595394126,
          32948.73470351617,
          15.733486197856507,
          22.397107486872784,
          -122.67543038815987,
          442.7810093670224,
          779.1167739689357,
          1516.586453344251,
          2266.22483859282,
          4434.910447311931,
          6410.625737690511,
          8169.174998073619,
          12031.47992324186,
          15875.347019932502,
          20592.28476972339,
          25835.645709899163,
          30635.383802776272,
          35360.67348963348,
          38396.45762925719,
          40037.95968478094,
          -6892.4296,
          -7317.7829,
          -7433.0634,
          -7180.9981,
          -6636.4415,
          -6096.5261,
          -4982.3678,
          -3567.6359,
          -1567.0931,
          256.1682,
          4791.289,
          12995.3906,
          17906.9695,
          23592.0313,
          29490.0437,
          36040.5284,
          41498.0654,
          39100.9391,
          37007.3548
         ],
         "yaxis": "y"
        },
        {
         "customdata": [
          [
           "T34_1000_govem",
           "WITCH 5.0"
          ],
          [
           "T34_1000_govem",
           "WITCH 5.0"
          ],
          [
           "T34_1000_govem",
           "WITCH 5.0"
          ],
          [
           "T34_1000_govem",
           "WITCH 5.0"
          ],
          [
           "T34_1000_govem",
           "WITCH 5.0"
          ],
          [
           "T34_1000_govem",
           "WITCH 5.0"
          ],
          [
           "T34_1000_govem",
           "WITCH 5.0"
          ],
          [
           "T34_1000_govem",
           "WITCH 5.0"
          ],
          [
           "T34_1000_govem",
           "WITCH 5.0"
          ],
          [
           "T34_1000_govem",
           "WITCH 5.0"
          ],
          [
           "T34_1000_govem",
           "WITCH 5.0"
          ],
          [
           "T34_1000_govem",
           "WITCH 5.0"
          ],
          [
           "T34_1000_govem",
           "WITCH 5.0"
          ],
          [
           "T34_1000_govem",
           "WITCH 5.0"
          ],
          [
           "T34_1000_govem",
           "WITCH 5.0"
          ],
          [
           "T34_1000_govem",
           "WITCH 5.0"
          ],
          [
           "T34_1000_govem",
           "WITCH 5.0"
          ],
          [
           "T34_1000_govem",
           "WITCH 5.0"
          ],
          [
           "T34_1000_govem",
           "WITCH 5.0"
          ],
          [
           "T34_1000_govem",
           "WITCH 5.0"
          ],
          [
           "T34_1000_govem",
           "REMIND 3.0"
          ],
          [
           "T34_1000_govem",
           "REMIND 3.0"
          ],
          [
           "T34_1000_govem",
           "REMIND 3.0"
          ],
          [
           "T34_1000_govem",
           "REMIND 3.0"
          ],
          [
           "T34_1000_govem",
           "REMIND 3.0"
          ],
          [
           "T34_1000_govem",
           "REMIND 3.0"
          ],
          [
           "T34_1000_govem",
           "REMIND 3.0"
          ],
          [
           "T34_1000_govem",
           "REMIND 3.0"
          ],
          [
           "T34_1000_govem",
           "REMIND 3.0"
          ],
          [
           "T34_1000_govem",
           "REMIND 3.0"
          ],
          [
           "T34_1000_govem",
           "REMIND 3.0"
          ],
          [
           "T34_1000_govem",
           "REMIND 3.0"
          ],
          [
           "T34_1000_govem",
           "REMIND 3.0"
          ],
          [
           "T34_1000_govem",
           "REMIND 3.0"
          ],
          [
           "T34_1000_govem",
           "REMIND 3.0"
          ],
          [
           "T34_1000_govem",
           "REMIND 3.0"
          ],
          [
           "T34_1000_govem",
           "POLES ENGAGE"
          ],
          [
           "T34_1000_govem",
           "POLES ENGAGE"
          ],
          [
           "T34_1000_govem",
           "POLES ENGAGE"
          ],
          [
           "T34_1000_govem",
           "POLES ENGAGE"
          ],
          [
           "T34_1000_govem",
           "POLES ENGAGE"
          ],
          [
           "T34_1000_govem",
           "POLES ENGAGE"
          ],
          [
           "T34_1000_govem",
           "POLES ENGAGE"
          ],
          [
           "T34_1000_govem",
           "POLES ENGAGE"
          ],
          [
           "T34_1000_govem",
           "POLES ENGAGE"
          ],
          [
           "T34_1000_govem",
           "POLES ENGAGE"
          ],
          [
           "T34_1000_govem",
           "POLES ENGAGE"
          ],
          [
           "T34_1000_govem",
           "POLES ENGAGE"
          ],
          [
           "T34_1000_govem",
           "POLES ENGAGE"
          ],
          [
           "T34_1000_govem",
           "POLES ENGAGE"
          ],
          [
           "T34_1000_govem",
           "POLES ENGAGE"
          ],
          [
           "T34_1000_govem",
           "MESSAGEix-GLOBIOM_1.1"
          ],
          [
           "T34_1000_govem",
           "MESSAGEix-GLOBIOM_1.1"
          ],
          [
           "T34_1000_govem",
           "MESSAGEix-GLOBIOM_1.1"
          ],
          [
           "T34_1000_govem",
           "MESSAGEix-GLOBIOM_1.1"
          ],
          [
           "T34_1000_govem",
           "MESSAGEix-GLOBIOM_1.1"
          ],
          [
           "T34_1000_govem",
           "MESSAGEix-GLOBIOM_1.1"
          ],
          [
           "T34_1000_govem",
           "MESSAGEix-GLOBIOM_1.1"
          ],
          [
           "T34_1000_govem",
           "MESSAGEix-GLOBIOM_1.1"
          ],
          [
           "T34_1000_govem",
           "MESSAGEix-GLOBIOM_1.1"
          ],
          [
           "T34_1000_govem",
           "MESSAGEix-GLOBIOM_1.1"
          ],
          [
           "T34_1000_govem",
           "MESSAGEix-GLOBIOM_1.1"
          ],
          [
           "T34_1000_govem",
           "MESSAGEix-GLOBIOM_1.1"
          ],
          [
           "T34_1000_govem",
           "MESSAGEix-GLOBIOM_1.1"
          ],
          [
           "T34_1000_govem",
           "MESSAGEix-GLOBIOM_1.1"
          ],
          [
           "T34_1000_govem",
           "MESSAGEix-GLOBIOM_1.1"
          ],
          [
           "T34_1000_govem",
           "MESSAGEix-GLOBIOM_1.1"
          ],
          [
           "T34_1000_govem",
           "MESSAGEix-GLOBIOM_1.1"
          ],
          [
           "T34_1000_govem",
           "MESSAGEix-GLOBIOM_1.1"
          ],
          [
           "T34_1000_govem",
           "MESSAGEix-GLOBIOM_1.1"
          ],
          [
           "T34_1000_govem",
           "MESSAGEix-GLOBIOM_1.1"
          ],
          [
           "T34_1000_govem",
           "IMAGE 3.2"
          ],
          [
           "T34_1000_govem",
           "IMAGE 3.2"
          ],
          [
           "T34_1000_govem",
           "IMAGE 3.2"
          ],
          [
           "T34_1000_govem",
           "IMAGE 3.2"
          ],
          [
           "T34_1000_govem",
           "IMAGE 3.2"
          ],
          [
           "T34_1000_govem",
           "IMAGE 3.2"
          ],
          [
           "T34_1000_govem",
           "IMAGE 3.2"
          ],
          [
           "T34_1000_govem",
           "IMAGE 3.2"
          ],
          [
           "T34_1000_govem",
           "IMAGE 3.2"
          ],
          [
           "T34_1000_govem",
           "IMAGE 3.2"
          ],
          [
           "T34_1000_govem",
           "IMAGE 3.2"
          ],
          [
           "T34_1000_govem",
           "IMAGE 3.2"
          ],
          [
           "T34_1000_govem",
           "IMAGE 3.2"
          ],
          [
           "T34_1000_govem",
           "IMAGE 3.2"
          ],
          [
           "T34_1000_govem",
           "IMAGE 3.2"
          ],
          [
           "T34_1000_govem",
           "IMAGE 3.2"
          ],
          [
           "T34_1000_govem",
           "IMAGE 3.2"
          ],
          [
           "T34_1000_govem",
           "IMAGE 3.2"
          ],
          [
           "T34_1000_govem",
           "IMAGE 3.2"
          ],
          [
           "T34_1000_govem",
           "IMAGE 3.2"
          ],
          [
           "T34_1000_govem",
           "GEM-E3_V2023"
          ],
          [
           "T34_1000_govem",
           "GEM-E3_V2023"
          ],
          [
           "T34_1000_govem",
           "GEM-E3_V2023"
          ],
          [
           "T34_1000_govem",
           "GEM-E3_V2023"
          ],
          [
           "T34_1000_govem",
           "GEM-E3_V2023"
          ],
          [
           "T34_1000_govem",
           "GEM-E3_V2023"
          ],
          [
           "T34_1000_govem",
           "GEM-E3_V2023"
          ],
          [
           "T34_1000_govem",
           "GEM-E3_V2023"
          ],
          [
           "T34_1000_govem",
           "GEM-E3_V2023"
          ],
          [
           "T34_1000_govem",
           "GEM-E3_V2023"
          ],
          [
           "T34_1000_govem",
           "GEM-E3_V2023"
          ],
          [
           "T34_1000_govem",
           "GEM-E3_V2023"
          ],
          [
           "T34_1000_govem",
           "GEM-E3_V2023"
          ],
          [
           "T34_1000_govem",
           "GEM-E3_V2023"
          ],
          [
           "T34_1000_govem",
           "GEM-E3_V2023"
          ],
          [
           "T34_1000_govem",
           "GEM-E3_V2023"
          ],
          [
           "T34_1000_govem",
           "GEM-E3_V2023"
          ],
          [
           "T34_1000_govem",
           "GEM-E3_V2023"
          ],
          [
           "T34_1000_govem",
           "AIM/CGE V2.2"
          ],
          [
           "T34_1000_govem",
           "AIM/CGE V2.2"
          ],
          [
           "T34_1000_govem",
           "AIM/CGE V2.2"
          ],
          [
           "T34_1000_govem",
           "AIM/CGE V2.2"
          ],
          [
           "T34_1000_govem",
           "AIM/CGE V2.2"
          ],
          [
           "T34_1000_govem",
           "AIM/CGE V2.2"
          ],
          [
           "T34_1000_govem",
           "AIM/CGE V2.2"
          ],
          [
           "T34_1000_govem",
           "AIM/CGE V2.2"
          ],
          [
           "T34_1000_govem",
           "AIM/CGE V2.2"
          ],
          [
           "T34_1000_govem",
           "AIM/CGE V2.2"
          ],
          [
           "T34_1000_govem",
           "AIM/CGE V2.2"
          ],
          [
           "T34_1000_govem",
           "AIM/CGE V2.2"
          ],
          [
           "T34_1000_govem",
           "AIM/CGE V2.2"
          ],
          [
           "T34_1000_govem",
           "AIM/CGE V2.2"
          ],
          [
           "T34_1000_govem",
           "AIM/CGE V2.2"
          ],
          [
           "T34_1000_govem",
           "AIM/CGE V2.2"
          ],
          [
           "T34_1000_govem",
           "AIM/CGE V2.2"
          ],
          [
           "T34_1000_govem",
           "AIM/CGE V2.2"
          ],
          [
           "T34_1000_govem",
           "AIM/CGE V2.2"
          ]
         ],
         "hovertemplate": "region=World<br>scenario_narrative=Instit<br>year=%{x}<br>Emissions|CO2=%{y}<br>scenario=%{customdata[0]}<br>model=%{customdata[1]}<extra></extra>",
         "legendgroup": "World",
         "line": {
          "color": "#ab63fa",
          "dash": "solid"
         },
         "marker": {
          "symbol": "circle"
         },
         "mode": "lines",
         "name": "World",
         "showlegend": false,
         "type": "scattergl",
         "x": [
          2100,
          2095,
          2090,
          2085,
          2080,
          2075,
          2070,
          2065,
          2060,
          2055,
          2050,
          2045,
          2040,
          2035,
          2030,
          2025,
          2020,
          2015,
          2010,
          2005,
          2100,
          2090,
          2080,
          2070,
          2060,
          2055,
          2050,
          2045,
          2040,
          2035,
          2030,
          2025,
          2020,
          2015,
          2010,
          2005,
          2100,
          2090,
          2080,
          2070,
          2060,
          2050,
          2045,
          2040,
          2035,
          2030,
          2025,
          2020,
          2015,
          2010,
          2005,
          2110,
          2100,
          2090,
          2080,
          2070,
          2060,
          2055,
          2050,
          2045,
          2040,
          2035,
          2030,
          2025,
          2020,
          2015,
          2010,
          2005,
          2000,
          1995,
          1990,
          2100,
          2095,
          2090,
          2085,
          2080,
          2075,
          2070,
          2065,
          2060,
          2055,
          2050,
          2045,
          2040,
          2035,
          2030,
          2025,
          2020,
          2015,
          2010,
          2005,
          2100,
          2095,
          2090,
          2085,
          2080,
          2075,
          2070,
          2065,
          2060,
          2055,
          2050,
          2045,
          2040,
          2035,
          2030,
          2025,
          2020,
          2015,
          2100,
          2095,
          2090,
          2085,
          2080,
          2075,
          2070,
          2065,
          2060,
          2055,
          2050,
          2045,
          2040,
          2035,
          2030,
          2025,
          2020,
          2015,
          2010
         ],
         "xaxis": "x2",
         "y": [
          164.557230590325,
          144.900093290592,
          112.79030533407,
          51.1597058210074,
          31.9421720344662,
          973.752036762382,
          3341.07078089831,
          5708.81201326955,
          7813.83317938751,
          10682.0917470163,
          13867.7198056286,
          16961.038404191,
          20494.0956783319,
          23893.5157840349,
          28455.7043397742,
          34895.4323777567,
          40153.2762651073,
          38689.6859400325,
          36640.4375831807,
          33090.9000845212,
          169.5736613,
          -168.164911,
          36.1678011,
          1229.0730045,
          4849.224733,
          7360.0639406,
          10206.7916335,
          13905.9768249,
          19441.3662697,
          26151.3495524,
          33952.2199114,
          40379.4883439,
          43169.8924414,
          42044.9008329,
          39344.5680891,
          36076.6584216,
          27198.798828125,
          16036.2763671875,
          -45.846710205078125,
          1696.63232421875,
          6120.2392578125,
          14560.568359375,
          18450.13671875,
          23938.150390625,
          27315.98828125,
          31522.11328125,
          38677.09765625,
          39435.40625,
          38704.5234375,
          36240.515625,
          30937.66796875,
          -8118.624333462643,
          -7717.144505198449,
          -6700.875324412085,
          -4085.600734781175,
          1694.663091991596,
          9979.691607454912,
          13364.40654854675,
          16730.22816703295,
          20069.21779255084,
          24739.929043578,
          28857.39778616129,
          34109.44321042558,
          40060.99365059118,
          44326.98623718582,
          44262.56894582486,
          40738.80498025827,
          38242.12472115899,
          33807.81650025704,
          31643.35589356205,
          30943.69732619511,
          4118.843831754649,
          4778.1907963328185,
          4220.212484107614,
          4114.2381188636045,
          3421.5977582863147,
          3693.0629072367747,
          2903.5472618199483,
          3783.6222334168824,
          4084.057943079611,
          5828.492961141842,
          8510.021810669472,
          13088.899822153442,
          20473.178875559115,
          28699.198733077767,
          33829.71224265876,
          40201.99219115473,
          40314.48795939412,
          38919.50390978814,
          37625.46419612883,
          32948.73470351617,
          -135.40311679260506,
          162.17525216665314,
          -94.30800847094415,
          -303.1925529282456,
          334.8920803832858,
          102.40878741695263,
          1238.5843346310892,
          3233.470624760374,
          5142.025031401173,
          9095.924602720008,
          13067.424122471039,
          16871.21002934078,
          21850.72681041318,
          27672.545546803594,
          31993.042499468524,
          35997.19955073704,
          38396.45762925719,
          40037.95968478094,
          -9476.7824,
          -9406.1138,
          -9221.7786,
          -8890.4379,
          -8477.1425,
          -7480.729,
          -5592.5846,
          -2952.5818,
          -93.1285,
          1509.4053,
          9694.7144,
          16272.9642,
          22082.417,
          27417.8362,
          32426.5506,
          37149.6096,
          41483.9891,
          39100.939,
          37007.3547
         ],
         "yaxis": "y2"
        },
        {
         "customdata": [
          [
           "T34_1000_ref",
           "WITCH 5.0"
          ],
          [
           "T34_1000_ref",
           "WITCH 5.0"
          ],
          [
           "T34_1000_ref",
           "WITCH 5.0"
          ],
          [
           "T34_1000_ref",
           "WITCH 5.0"
          ],
          [
           "T34_1000_ref",
           "WITCH 5.0"
          ],
          [
           "T34_1000_ref",
           "WITCH 5.0"
          ],
          [
           "T34_1000_ref",
           "WITCH 5.0"
          ],
          [
           "T34_1000_ref",
           "WITCH 5.0"
          ],
          [
           "T34_1000_ref",
           "WITCH 5.0"
          ],
          [
           "T34_1000_ref",
           "WITCH 5.0"
          ],
          [
           "T34_1000_ref",
           "WITCH 5.0"
          ],
          [
           "T34_1000_ref",
           "WITCH 5.0"
          ],
          [
           "T34_1000_ref",
           "WITCH 5.0"
          ],
          [
           "T34_1000_ref",
           "WITCH 5.0"
          ],
          [
           "T34_1000_ref",
           "WITCH 5.0"
          ],
          [
           "T34_1000_ref",
           "WITCH 5.0"
          ],
          [
           "T34_1000_ref",
           "WITCH 5.0"
          ],
          [
           "T34_1000_ref",
           "WITCH 5.0"
          ],
          [
           "T34_1000_ref",
           "WITCH 5.0"
          ],
          [
           "T34_1000_ref",
           "WITCH 5.0"
          ],
          [
           "T34_1000_ref",
           "REMIND 3.0"
          ],
          [
           "T34_1000_ref",
           "REMIND 3.0"
          ],
          [
           "T34_1000_ref",
           "REMIND 3.0"
          ],
          [
           "T34_1000_ref",
           "REMIND 3.0"
          ],
          [
           "T34_1000_ref",
           "REMIND 3.0"
          ],
          [
           "T34_1000_ref",
           "REMIND 3.0"
          ],
          [
           "T34_1000_ref",
           "REMIND 3.0"
          ],
          [
           "T34_1000_ref",
           "REMIND 3.0"
          ],
          [
           "T34_1000_ref",
           "REMIND 3.0"
          ],
          [
           "T34_1000_ref",
           "REMIND 3.0"
          ],
          [
           "T34_1000_ref",
           "REMIND 3.0"
          ],
          [
           "T34_1000_ref",
           "REMIND 3.0"
          ],
          [
           "T34_1000_ref",
           "REMIND 3.0"
          ],
          [
           "T34_1000_ref",
           "REMIND 3.0"
          ],
          [
           "T34_1000_ref",
           "REMIND 3.0"
          ],
          [
           "T34_1000_ref",
           "REMIND 3.0"
          ],
          [
           "T34_1000_ref",
           "POLES ENGAGE"
          ],
          [
           "T34_1000_ref",
           "POLES ENGAGE"
          ],
          [
           "T34_1000_ref",
           "POLES ENGAGE"
          ],
          [
           "T34_1000_ref",
           "POLES ENGAGE"
          ],
          [
           "T34_1000_ref",
           "POLES ENGAGE"
          ],
          [
           "T34_1000_ref",
           "POLES ENGAGE"
          ],
          [
           "T34_1000_ref",
           "POLES ENGAGE"
          ],
          [
           "T34_1000_ref",
           "POLES ENGAGE"
          ],
          [
           "T34_1000_ref",
           "POLES ENGAGE"
          ],
          [
           "T34_1000_ref",
           "POLES ENGAGE"
          ],
          [
           "T34_1000_ref",
           "POLES ENGAGE"
          ],
          [
           "T34_1000_ref",
           "POLES ENGAGE"
          ],
          [
           "T34_1000_ref",
           "POLES ENGAGE"
          ],
          [
           "T34_1000_ref",
           "POLES ENGAGE"
          ],
          [
           "T34_1000_ref",
           "POLES ENGAGE"
          ],
          [
           "T34_1000_ref",
           "MESSAGEix-GLOBIOM_1.1"
          ],
          [
           "T34_1000_ref",
           "MESSAGEix-GLOBIOM_1.1"
          ],
          [
           "T34_1000_ref",
           "MESSAGEix-GLOBIOM_1.1"
          ],
          [
           "T34_1000_ref",
           "MESSAGEix-GLOBIOM_1.1"
          ],
          [
           "T34_1000_ref",
           "MESSAGEix-GLOBIOM_1.1"
          ],
          [
           "T34_1000_ref",
           "MESSAGEix-GLOBIOM_1.1"
          ],
          [
           "T34_1000_ref",
           "MESSAGEix-GLOBIOM_1.1"
          ],
          [
           "T34_1000_ref",
           "MESSAGEix-GLOBIOM_1.1"
          ],
          [
           "T34_1000_ref",
           "MESSAGEix-GLOBIOM_1.1"
          ],
          [
           "T34_1000_ref",
           "MESSAGEix-GLOBIOM_1.1"
          ],
          [
           "T34_1000_ref",
           "MESSAGEix-GLOBIOM_1.1"
          ],
          [
           "T34_1000_ref",
           "MESSAGEix-GLOBIOM_1.1"
          ],
          [
           "T34_1000_ref",
           "MESSAGEix-GLOBIOM_1.1"
          ],
          [
           "T34_1000_ref",
           "MESSAGEix-GLOBIOM_1.1"
          ],
          [
           "T34_1000_ref",
           "MESSAGEix-GLOBIOM_1.1"
          ],
          [
           "T34_1000_ref",
           "MESSAGEix-GLOBIOM_1.1"
          ],
          [
           "T34_1000_ref",
           "MESSAGEix-GLOBIOM_1.1"
          ],
          [
           "T34_1000_ref",
           "MESSAGEix-GLOBIOM_1.1"
          ],
          [
           "T34_1000_ref",
           "MESSAGEix-GLOBIOM_1.1"
          ],
          [
           "T34_1000_ref",
           "MESSAGEix-GLOBIOM_1.1"
          ],
          [
           "T34_1000_ref",
           "IMAGE 3.2"
          ],
          [
           "T34_1000_ref",
           "IMAGE 3.2"
          ],
          [
           "T34_1000_ref",
           "IMAGE 3.2"
          ],
          [
           "T34_1000_ref",
           "IMAGE 3.2"
          ],
          [
           "T34_1000_ref",
           "IMAGE 3.2"
          ],
          [
           "T34_1000_ref",
           "IMAGE 3.2"
          ],
          [
           "T34_1000_ref",
           "IMAGE 3.2"
          ],
          [
           "T34_1000_ref",
           "IMAGE 3.2"
          ],
          [
           "T34_1000_ref",
           "IMAGE 3.2"
          ],
          [
           "T34_1000_ref",
           "IMAGE 3.2"
          ],
          [
           "T34_1000_ref",
           "IMAGE 3.2"
          ],
          [
           "T34_1000_ref",
           "IMAGE 3.2"
          ],
          [
           "T34_1000_ref",
           "IMAGE 3.2"
          ],
          [
           "T34_1000_ref",
           "IMAGE 3.2"
          ],
          [
           "T34_1000_ref",
           "IMAGE 3.2"
          ],
          [
           "T34_1000_ref",
           "IMAGE 3.2"
          ],
          [
           "T34_1000_ref",
           "IMAGE 3.2"
          ],
          [
           "T34_1000_ref",
           "IMAGE 3.2"
          ],
          [
           "T34_1000_ref",
           "IMAGE 3.2"
          ],
          [
           "T34_1000_ref",
           "IMAGE 3.2"
          ],
          [
           "T34_1000_ref",
           "GEM-E3_V2023"
          ],
          [
           "T34_1000_ref",
           "GEM-E3_V2023"
          ],
          [
           "T34_1000_ref",
           "GEM-E3_V2023"
          ],
          [
           "T34_1000_ref",
           "GEM-E3_V2023"
          ],
          [
           "T34_1000_ref",
           "GEM-E3_V2023"
          ],
          [
           "T34_1000_ref",
           "GEM-E3_V2023"
          ],
          [
           "T34_1000_ref",
           "GEM-E3_V2023"
          ],
          [
           "T34_1000_ref",
           "GEM-E3_V2023"
          ],
          [
           "T34_1000_ref",
           "GEM-E3_V2023"
          ],
          [
           "T34_1000_ref",
           "GEM-E3_V2023"
          ],
          [
           "T34_1000_ref",
           "GEM-E3_V2023"
          ],
          [
           "T34_1000_ref",
           "GEM-E3_V2023"
          ],
          [
           "T34_1000_ref",
           "GEM-E3_V2023"
          ],
          [
           "T34_1000_ref",
           "GEM-E3_V2023"
          ],
          [
           "T34_1000_ref",
           "GEM-E3_V2023"
          ],
          [
           "T34_1000_ref",
           "GEM-E3_V2023"
          ],
          [
           "T34_1000_ref",
           "GEM-E3_V2023"
          ],
          [
           "T34_1000_ref",
           "GEM-E3_V2023"
          ],
          [
           "T34_1000_ref",
           "COFFEE 1.5"
          ],
          [
           "T34_1000_ref",
           "COFFEE 1.5"
          ],
          [
           "T34_1000_ref",
           "COFFEE 1.5"
          ],
          [
           "T34_1000_ref",
           "COFFEE 1.5"
          ],
          [
           "T34_1000_ref",
           "COFFEE 1.5"
          ],
          [
           "T34_1000_ref",
           "COFFEE 1.5"
          ],
          [
           "T34_1000_ref",
           "COFFEE 1.5"
          ],
          [
           "T34_1000_ref",
           "COFFEE 1.5"
          ],
          [
           "T34_1000_ref",
           "COFFEE 1.5"
          ],
          [
           "T34_1000_ref",
           "COFFEE 1.5"
          ],
          [
           "T34_1000_ref",
           "COFFEE 1.5"
          ],
          [
           "T34_1000_ref",
           "COFFEE 1.5"
          ],
          [
           "T34_1000_ref",
           "COFFEE 1.5"
          ],
          [
           "T34_1000_ref",
           "COFFEE 1.5"
          ],
          [
           "T34_1000_ref",
           "AIM/CGE V2.2"
          ],
          [
           "T34_1000_ref",
           "AIM/CGE V2.2"
          ],
          [
           "T34_1000_ref",
           "AIM/CGE V2.2"
          ],
          [
           "T34_1000_ref",
           "AIM/CGE V2.2"
          ],
          [
           "T34_1000_ref",
           "AIM/CGE V2.2"
          ],
          [
           "T34_1000_ref",
           "AIM/CGE V2.2"
          ],
          [
           "T34_1000_ref",
           "AIM/CGE V2.2"
          ],
          [
           "T34_1000_ref",
           "AIM/CGE V2.2"
          ],
          [
           "T34_1000_ref",
           "AIM/CGE V2.2"
          ],
          [
           "T34_1000_ref",
           "AIM/CGE V2.2"
          ],
          [
           "T34_1000_ref",
           "AIM/CGE V2.2"
          ],
          [
           "T34_1000_ref",
           "AIM/CGE V2.2"
          ],
          [
           "T34_1000_ref",
           "AIM/CGE V2.2"
          ],
          [
           "T34_1000_ref",
           "AIM/CGE V2.2"
          ],
          [
           "T34_1000_ref",
           "AIM/CGE V2.2"
          ],
          [
           "T34_1000_ref",
           "AIM/CGE V2.2"
          ],
          [
           "T34_1000_ref",
           "AIM/CGE V2.2"
          ],
          [
           "T34_1000_ref",
           "AIM/CGE V2.2"
          ],
          [
           "T34_1000_ref",
           "AIM/CGE V2.2"
          ]
         ],
         "hovertemplate": "region=World<br>scenario_narrative=Cost Effective<br>year=%{x}<br>Emissions|CO2=%{y}<br>scenario=%{customdata[0]}<br>model=%{customdata[1]}<extra></extra>",
         "legendgroup": "World",
         "line": {
          "color": "#ab63fa",
          "dash": "solid"
         },
         "marker": {
          "symbol": "circle"
         },
         "mode": "lines",
         "name": "World",
         "showlegend": false,
         "type": "scattergl",
         "x": [
          2100,
          2095,
          2090,
          2085,
          2080,
          2075,
          2070,
          2065,
          2060,
          2055,
          2050,
          2045,
          2040,
          2035,
          2030,
          2025,
          2020,
          2015,
          2010,
          2005,
          2100,
          2090,
          2080,
          2070,
          2060,
          2055,
          2050,
          2045,
          2040,
          2035,
          2030,
          2025,
          2020,
          2015,
          2010,
          2005,
          2100,
          2090,
          2080,
          2070,
          2060,
          2050,
          2045,
          2040,
          2035,
          2030,
          2025,
          2020,
          2015,
          2010,
          2005,
          2110,
          2100,
          2090,
          2080,
          2070,
          2060,
          2055,
          2050,
          2045,
          2040,
          2035,
          2030,
          2025,
          2020,
          2015,
          2010,
          2005,
          2000,
          1995,
          1990,
          2100,
          2095,
          2090,
          2085,
          2080,
          2075,
          2070,
          2065,
          2060,
          2055,
          2050,
          2045,
          2040,
          2035,
          2030,
          2025,
          2020,
          2015,
          2010,
          2005,
          2100,
          2095,
          2090,
          2085,
          2080,
          2075,
          2070,
          2065,
          2060,
          2055,
          2050,
          2045,
          2040,
          2035,
          2030,
          2025,
          2020,
          2015,
          2100,
          2090,
          2080,
          2070,
          2060,
          2050,
          2045,
          2040,
          2035,
          2030,
          2025,
          2020,
          2015,
          2010,
          2100,
          2095,
          2090,
          2085,
          2080,
          2075,
          2070,
          2065,
          2060,
          2055,
          2050,
          2045,
          2040,
          2035,
          2030,
          2025,
          2020,
          2015,
          2010
         ],
         "xaxis": "x3",
         "y": [
          66.754807123739,
          12.0212427989208,
          55.0175694178136,
          1100.69949914986,
          2789.48940556215,
          4548.34682848484,
          6425.72634770984,
          8323.33391866541,
          10180.178819387,
          12140.2979139819,
          13899.2681988621,
          15249.3072189038,
          16871.5037183022,
          18367.0943899597,
          21699.3795922218,
          36023.1110613307,
          40153.2762651073,
          38689.6859400325,
          36640.4375831807,
          33090.9000845212,
          46.3283933,
          -70.9208169,
          68.2857758,
          2253.0147458,
          5055.048399,
          7316.9011927,
          9713.8101887,
          13133.135252,
          18894.7062278,
          26478.9451271,
          34065.9892494,
          40388.317401,
          43169.8924414,
          42044.9008329,
          39344.5680891,
          36076.6584216,
          342.3258361816406,
          783.4059448242188,
          955.2616577148438,
          2749.899658203125,
          5152.451171875,
          9500.40625,
          13781.5869140625,
          19160.580078125,
          24951.3828125,
          31162.3125,
          37952.91015625,
          38585.8671875,
          38365.6796875,
          36240.515625,
          30937.66796875,
          -0.0004194665139038989,
          0.001437713524182,
          0.0024411500689890003,
          -0.001340984224952,
          -0.005864416531267001,
          5368.861045597049,
          8178.167409283705,
          12112.89721369661,
          16726.58899179688,
          21962.46725612473,
          26911.00926165816,
          30840.01957116535,
          40060.99365059118,
          44326.98623718582,
          44262.56894582486,
          40738.80498025827,
          38242.12472115899,
          33807.81650025704,
          31643.35589356205,
          30943.69732619511,
          4058.7027998481394,
          4473.432251383238,
          3591.39257845149,
          3241.4154666032678,
          2178.362996617304,
          2713.8285931829096,
          2066.233805526381,
          3152.202270794376,
          3989.454183305386,
          5001.593831834898,
          6913.874186826451,
          11259.46769308088,
          16382.065105655945,
          22976.744142713793,
          30550.01139600644,
          39698.41276402561,
          40314.48795939412,
          38919.50390978814,
          37625.46419612883,
          32948.73470351617,
          191.8063186638317,
          143.5421905444361,
          117.37999023332736,
          -59.4579850135562,
          63.80985228716622,
          98.32418322762814,
          1253.2158537473997,
          3068.2516053628533,
          5090.615073275987,
          8881.08900866063,
          13085.102564313605,
          16995.968843117927,
          21658.62515138436,
          27190.94417518877,
          32028.28057911866,
          36142.36507053702,
          38396.45762925719,
          40037.95968478094,
          -5854.5903929999995,
          -8718.954545000002,
          -4603.692630999999,
          3599.3775269999996,
          13624.409602999998,
          20074.425475000004,
          21970.705994,
          26377.857055000008,
          28448.030009000006,
          34626.204102504,
          35325.998713040004,
          38986.90827659999,
          39709.84605,
          36603.092352,
          -2753.2575,
          -2635.8887,
          -2596.5053,
          -2423.559,
          -2421.686,
          -1863.4795,
          -1047.44,
          -147.6052,
          308.378,
          563.4218,
          9693.6824,
          16225.5658,
          22147.8476,
          27311.8048,
          31213.1991,
          35624.0259,
          41483.9888,
          39100.9391,
          37007.3548
         ],
         "yaxis": "y3"
        }
       ],
       "layout": {
        "annotations": [
         {
          "font": {},
          "showarrow": false,
          "text": "scenario_narrative=Tech+Inst+Enab",
          "x": 0.15999999999999998,
          "xanchor": "center",
          "xref": "paper",
          "y": 0.46499999999999997,
          "yanchor": "bottom",
          "yref": "paper"
         },
         {
          "font": {},
          "showarrow": false,
          "text": "scenario_narrative=Instit",
          "x": 0.49999999999999994,
          "xanchor": "center",
          "xref": "paper",
          "y": 0.46499999999999997,
          "yanchor": "bottom",
          "yref": "paper"
         },
         {
          "font": {},
          "showarrow": false,
          "text": "scenario_narrative=Cost Effective",
          "x": 0.8399999999999999,
          "xanchor": "center",
          "xref": "paper",
          "y": 0.46499999999999997,
          "yanchor": "bottom",
          "yref": "paper"
         },
         {
          "font": {},
          "showarrow": false,
          "text": "scenario_narrative=Tech+Inst",
          "x": 0.15999999999999998,
          "xanchor": "center",
          "xref": "paper",
          "y": 0.9999999999999999,
          "yanchor": "bottom",
          "yref": "paper"
         },
         {
          "font": {},
          "showarrow": false,
          "text": "scenario_narrative=Tech",
          "x": 0.49999999999999994,
          "xanchor": "center",
          "xref": "paper",
          "y": 0.9999999999999999,
          "yanchor": "bottom",
          "yref": "paper"
         },
         {
          "font": {},
          "showarrow": false,
          "text": "scenario_narrative=Inst+Enab",
          "x": 0.8399999999999999,
          "xanchor": "center",
          "xref": "paper",
          "y": 0.9999999999999999,
          "yanchor": "bottom",
          "yref": "paper"
         }
        ],
        "legend": {
         "title": {
          "text": "region"
         },
         "tracegroupgap": 0
        },
        "template": {
         "data": {
          "bar": [
           {
            "error_x": {
             "color": "#2a3f5f"
            },
            "error_y": {
             "color": "#2a3f5f"
            },
            "marker": {
             "line": {
              "color": "#E5ECF6",
              "width": 0.5
             },
             "pattern": {
              "fillmode": "overlay",
              "size": 10,
              "solidity": 0.2
             }
            },
            "type": "bar"
           }
          ],
          "barpolar": [
           {
            "marker": {
             "line": {
              "color": "#E5ECF6",
              "width": 0.5
             },
             "pattern": {
              "fillmode": "overlay",
              "size": 10,
              "solidity": 0.2
             }
            },
            "type": "barpolar"
           }
          ],
          "carpet": [
           {
            "aaxis": {
             "endlinecolor": "#2a3f5f",
             "gridcolor": "white",
             "linecolor": "white",
             "minorgridcolor": "white",
             "startlinecolor": "#2a3f5f"
            },
            "baxis": {
             "endlinecolor": "#2a3f5f",
             "gridcolor": "white",
             "linecolor": "white",
             "minorgridcolor": "white",
             "startlinecolor": "#2a3f5f"
            },
            "type": "carpet"
           }
          ],
          "choropleth": [
           {
            "colorbar": {
             "outlinewidth": 0,
             "ticks": ""
            },
            "type": "choropleth"
           }
          ],
          "contour": [
           {
            "colorbar": {
             "outlinewidth": 0,
             "ticks": ""
            },
            "colorscale": [
             [
              0,
              "#0d0887"
             ],
             [
              0.1111111111111111,
              "#46039f"
             ],
             [
              0.2222222222222222,
              "#7201a8"
             ],
             [
              0.3333333333333333,
              "#9c179e"
             ],
             [
              0.4444444444444444,
              "#bd3786"
             ],
             [
              0.5555555555555556,
              "#d8576b"
             ],
             [
              0.6666666666666666,
              "#ed7953"
             ],
             [
              0.7777777777777778,
              "#fb9f3a"
             ],
             [
              0.8888888888888888,
              "#fdca26"
             ],
             [
              1,
              "#f0f921"
             ]
            ],
            "type": "contour"
           }
          ],
          "contourcarpet": [
           {
            "colorbar": {
             "outlinewidth": 0,
             "ticks": ""
            },
            "type": "contourcarpet"
           }
          ],
          "heatmap": [
           {
            "colorbar": {
             "outlinewidth": 0,
             "ticks": ""
            },
            "colorscale": [
             [
              0,
              "#0d0887"
             ],
             [
              0.1111111111111111,
              "#46039f"
             ],
             [
              0.2222222222222222,
              "#7201a8"
             ],
             [
              0.3333333333333333,
              "#9c179e"
             ],
             [
              0.4444444444444444,
              "#bd3786"
             ],
             [
              0.5555555555555556,
              "#d8576b"
             ],
             [
              0.6666666666666666,
              "#ed7953"
             ],
             [
              0.7777777777777778,
              "#fb9f3a"
             ],
             [
              0.8888888888888888,
              "#fdca26"
             ],
             [
              1,
              "#f0f921"
             ]
            ],
            "type": "heatmap"
           }
          ],
          "heatmapgl": [
           {
            "colorbar": {
             "outlinewidth": 0,
             "ticks": ""
            },
            "colorscale": [
             [
              0,
              "#0d0887"
             ],
             [
              0.1111111111111111,
              "#46039f"
             ],
             [
              0.2222222222222222,
              "#7201a8"
             ],
             [
              0.3333333333333333,
              "#9c179e"
             ],
             [
              0.4444444444444444,
              "#bd3786"
             ],
             [
              0.5555555555555556,
              "#d8576b"
             ],
             [
              0.6666666666666666,
              "#ed7953"
             ],
             [
              0.7777777777777778,
              "#fb9f3a"
             ],
             [
              0.8888888888888888,
              "#fdca26"
             ],
             [
              1,
              "#f0f921"
             ]
            ],
            "type": "heatmapgl"
           }
          ],
          "histogram": [
           {
            "marker": {
             "pattern": {
              "fillmode": "overlay",
              "size": 10,
              "solidity": 0.2
             }
            },
            "type": "histogram"
           }
          ],
          "histogram2d": [
           {
            "colorbar": {
             "outlinewidth": 0,
             "ticks": ""
            },
            "colorscale": [
             [
              0,
              "#0d0887"
             ],
             [
              0.1111111111111111,
              "#46039f"
             ],
             [
              0.2222222222222222,
              "#7201a8"
             ],
             [
              0.3333333333333333,
              "#9c179e"
             ],
             [
              0.4444444444444444,
              "#bd3786"
             ],
             [
              0.5555555555555556,
              "#d8576b"
             ],
             [
              0.6666666666666666,
              "#ed7953"
             ],
             [
              0.7777777777777778,
              "#fb9f3a"
             ],
             [
              0.8888888888888888,
              "#fdca26"
             ],
             [
              1,
              "#f0f921"
             ]
            ],
            "type": "histogram2d"
           }
          ],
          "histogram2dcontour": [
           {
            "colorbar": {
             "outlinewidth": 0,
             "ticks": ""
            },
            "colorscale": [
             [
              0,
              "#0d0887"
             ],
             [
              0.1111111111111111,
              "#46039f"
             ],
             [
              0.2222222222222222,
              "#7201a8"
             ],
             [
              0.3333333333333333,
              "#9c179e"
             ],
             [
              0.4444444444444444,
              "#bd3786"
             ],
             [
              0.5555555555555556,
              "#d8576b"
             ],
             [
              0.6666666666666666,
              "#ed7953"
             ],
             [
              0.7777777777777778,
              "#fb9f3a"
             ],
             [
              0.8888888888888888,
              "#fdca26"
             ],
             [
              1,
              "#f0f921"
             ]
            ],
            "type": "histogram2dcontour"
           }
          ],
          "mesh3d": [
           {
            "colorbar": {
             "outlinewidth": 0,
             "ticks": ""
            },
            "type": "mesh3d"
           }
          ],
          "parcoords": [
           {
            "line": {
             "colorbar": {
              "outlinewidth": 0,
              "ticks": ""
             }
            },
            "type": "parcoords"
           }
          ],
          "pie": [
           {
            "automargin": true,
            "type": "pie"
           }
          ],
          "scatter": [
           {
            "fillpattern": {
             "fillmode": "overlay",
             "size": 10,
             "solidity": 0.2
            },
            "type": "scatter"
           }
          ],
          "scatter3d": [
           {
            "line": {
             "colorbar": {
              "outlinewidth": 0,
              "ticks": ""
             }
            },
            "marker": {
             "colorbar": {
              "outlinewidth": 0,
              "ticks": ""
             }
            },
            "type": "scatter3d"
           }
          ],
          "scattercarpet": [
           {
            "marker": {
             "colorbar": {
              "outlinewidth": 0,
              "ticks": ""
             }
            },
            "type": "scattercarpet"
           }
          ],
          "scattergeo": [
           {
            "marker": {
             "colorbar": {
              "outlinewidth": 0,
              "ticks": ""
             }
            },
            "type": "scattergeo"
           }
          ],
          "scattergl": [
           {
            "marker": {
             "colorbar": {
              "outlinewidth": 0,
              "ticks": ""
             }
            },
            "type": "scattergl"
           }
          ],
          "scattermapbox": [
           {
            "marker": {
             "colorbar": {
              "outlinewidth": 0,
              "ticks": ""
             }
            },
            "type": "scattermapbox"
           }
          ],
          "scatterpolar": [
           {
            "marker": {
             "colorbar": {
              "outlinewidth": 0,
              "ticks": ""
             }
            },
            "type": "scatterpolar"
           }
          ],
          "scatterpolargl": [
           {
            "marker": {
             "colorbar": {
              "outlinewidth": 0,
              "ticks": ""
             }
            },
            "type": "scatterpolargl"
           }
          ],
          "scatterternary": [
           {
            "marker": {
             "colorbar": {
              "outlinewidth": 0,
              "ticks": ""
             }
            },
            "type": "scatterternary"
           }
          ],
          "surface": [
           {
            "colorbar": {
             "outlinewidth": 0,
             "ticks": ""
            },
            "colorscale": [
             [
              0,
              "#0d0887"
             ],
             [
              0.1111111111111111,
              "#46039f"
             ],
             [
              0.2222222222222222,
              "#7201a8"
             ],
             [
              0.3333333333333333,
              "#9c179e"
             ],
             [
              0.4444444444444444,
              "#bd3786"
             ],
             [
              0.5555555555555556,
              "#d8576b"
             ],
             [
              0.6666666666666666,
              "#ed7953"
             ],
             [
              0.7777777777777778,
              "#fb9f3a"
             ],
             [
              0.8888888888888888,
              "#fdca26"
             ],
             [
              1,
              "#f0f921"
             ]
            ],
            "type": "surface"
           }
          ],
          "table": [
           {
            "cells": {
             "fill": {
              "color": "#EBF0F8"
             },
             "line": {
              "color": "white"
             }
            },
            "header": {
             "fill": {
              "color": "#C8D4E3"
             },
             "line": {
              "color": "white"
             }
            },
            "type": "table"
           }
          ]
         },
         "layout": {
          "annotationdefaults": {
           "arrowcolor": "#2a3f5f",
           "arrowhead": 0,
           "arrowwidth": 1
          },
          "autotypenumbers": "strict",
          "coloraxis": {
           "colorbar": {
            "outlinewidth": 0,
            "ticks": ""
           }
          },
          "colorscale": {
           "diverging": [
            [
             0,
             "#8e0152"
            ],
            [
             0.1,
             "#c51b7d"
            ],
            [
             0.2,
             "#de77ae"
            ],
            [
             0.3,
             "#f1b6da"
            ],
            [
             0.4,
             "#fde0ef"
            ],
            [
             0.5,
             "#f7f7f7"
            ],
            [
             0.6,
             "#e6f5d0"
            ],
            [
             0.7,
             "#b8e186"
            ],
            [
             0.8,
             "#7fbc41"
            ],
            [
             0.9,
             "#4d9221"
            ],
            [
             1,
             "#276419"
            ]
           ],
           "sequential": [
            [
             0,
             "#0d0887"
            ],
            [
             0.1111111111111111,
             "#46039f"
            ],
            [
             0.2222222222222222,
             "#7201a8"
            ],
            [
             0.3333333333333333,
             "#9c179e"
            ],
            [
             0.4444444444444444,
             "#bd3786"
            ],
            [
             0.5555555555555556,
             "#d8576b"
            ],
            [
             0.6666666666666666,
             "#ed7953"
            ],
            [
             0.7777777777777778,
             "#fb9f3a"
            ],
            [
             0.8888888888888888,
             "#fdca26"
            ],
            [
             1,
             "#f0f921"
            ]
           ],
           "sequentialminus": [
            [
             0,
             "#0d0887"
            ],
            [
             0.1111111111111111,
             "#46039f"
            ],
            [
             0.2222222222222222,
             "#7201a8"
            ],
            [
             0.3333333333333333,
             "#9c179e"
            ],
            [
             0.4444444444444444,
             "#bd3786"
            ],
            [
             0.5555555555555556,
             "#d8576b"
            ],
            [
             0.6666666666666666,
             "#ed7953"
            ],
            [
             0.7777777777777778,
             "#fb9f3a"
            ],
            [
             0.8888888888888888,
             "#fdca26"
            ],
            [
             1,
             "#f0f921"
            ]
           ]
          },
          "colorway": [
           "#636efa",
           "#EF553B",
           "#00cc96",
           "#ab63fa",
           "#FFA15A",
           "#19d3f3",
           "#FF6692",
           "#B6E880",
           "#FF97FF",
           "#FECB52"
          ],
          "font": {
           "color": "#2a3f5f"
          },
          "geo": {
           "bgcolor": "white",
           "lakecolor": "white",
           "landcolor": "#E5ECF6",
           "showlakes": true,
           "showland": true,
           "subunitcolor": "white"
          },
          "hoverlabel": {
           "align": "left"
          },
          "hovermode": "closest",
          "mapbox": {
           "style": "light"
          },
          "paper_bgcolor": "white",
          "plot_bgcolor": "#E5ECF6",
          "polar": {
           "angularaxis": {
            "gridcolor": "white",
            "linecolor": "white",
            "ticks": ""
           },
           "bgcolor": "#E5ECF6",
           "radialaxis": {
            "gridcolor": "white",
            "linecolor": "white",
            "ticks": ""
           }
          },
          "scene": {
           "xaxis": {
            "backgroundcolor": "#E5ECF6",
            "gridcolor": "white",
            "gridwidth": 2,
            "linecolor": "white",
            "showbackground": true,
            "ticks": "",
            "zerolinecolor": "white"
           },
           "yaxis": {
            "backgroundcolor": "#E5ECF6",
            "gridcolor": "white",
            "gridwidth": 2,
            "linecolor": "white",
            "showbackground": true,
            "ticks": "",
            "zerolinecolor": "white"
           },
           "zaxis": {
            "backgroundcolor": "#E5ECF6",
            "gridcolor": "white",
            "gridwidth": 2,
            "linecolor": "white",
            "showbackground": true,
            "ticks": "",
            "zerolinecolor": "white"
           }
          },
          "shapedefaults": {
           "line": {
            "color": "#2a3f5f"
           }
          },
          "ternary": {
           "aaxis": {
            "gridcolor": "white",
            "linecolor": "white",
            "ticks": ""
           },
           "baxis": {
            "gridcolor": "white",
            "linecolor": "white",
            "ticks": ""
           },
           "bgcolor": "#E5ECF6",
           "caxis": {
            "gridcolor": "white",
            "linecolor": "white",
            "ticks": ""
           }
          },
          "title": {
           "x": 0.05
          },
          "xaxis": {
           "automargin": true,
           "gridcolor": "white",
           "linecolor": "white",
           "ticks": "",
           "title": {
            "standoff": 15
           },
           "zerolinecolor": "white",
           "zerolinewidth": 2
          },
          "yaxis": {
           "automargin": true,
           "gridcolor": "white",
           "linecolor": "white",
           "ticks": "",
           "title": {
            "standoff": 15
           },
           "zerolinecolor": "white",
           "zerolinewidth": 2
          }
         }
        },
        "title": {
         "text": "CO2 emission trajectories"
        },
        "xaxis": {
         "anchor": "y",
         "domain": [
          0,
          0.31999999999999995
         ],
         "range": [
          2005,
          2100
         ],
         "title": {
          "text": "year"
         }
        },
        "xaxis2": {
         "anchor": "y2",
         "domain": [
          0.33999999999999997,
          0.6599999999999999
         ],
         "matches": "x",
         "range": [
          2005,
          2100
         ],
         "title": {
          "text": "year"
         }
        },
        "xaxis3": {
         "anchor": "y3",
         "domain": [
          0.6799999999999999,
          0.9999999999999999
         ],
         "matches": "x",
         "range": [
          2005,
          2100
         ],
         "title": {
          "text": "year"
         }
        },
        "xaxis4": {
         "anchor": "y4",
         "domain": [
          0,
          0.31999999999999995
         ],
         "matches": "x",
         "showticklabels": false
        },
        "xaxis5": {
         "anchor": "y5",
         "domain": [
          0.33999999999999997,
          0.6599999999999999
         ],
         "matches": "x",
         "showticklabels": false
        },
        "xaxis6": {
         "anchor": "y6",
         "domain": [
          0.6799999999999999,
          0.9999999999999999
         ],
         "matches": "x",
         "showticklabels": false
        },
        "yaxis": {
         "anchor": "x",
         "domain": [
          0,
          0.46499999999999997
         ],
         "range": [
          -10000,
          15000
         ],
         "title": {
          "text": "Emissions|CO2"
         }
        },
        "yaxis2": {
         "anchor": "x2",
         "domain": [
          0,
          0.46499999999999997
         ],
         "matches": "y",
         "showticklabels": false
        },
        "yaxis3": {
         "anchor": "x3",
         "domain": [
          0,
          0.46499999999999997
         ],
         "matches": "y",
         "showticklabels": false
        },
        "yaxis4": {
         "anchor": "x4",
         "domain": [
          0.5349999999999999,
          0.9999999999999999
         ],
         "matches": "y",
         "range": [
          -10000,
          15000
         ],
         "title": {
          "text": "Emissions|CO2"
         }
        },
        "yaxis5": {
         "anchor": "x5",
         "domain": [
          0.5349999999999999,
          0.9999999999999999
         ],
         "matches": "y",
         "showticklabels": false
        },
        "yaxis6": {
         "anchor": "x6",
         "domain": [
          0.5349999999999999,
          0.9999999999999999
         ],
         "matches": "y",
         "showticklabels": false
        }
       }
      }
     },
     "metadata": {},
     "output_type": "display_data"
    }
   ],
   "source": [
    "#Figure 1: Global CO2 trajectories\n",
    "fig1 = px.line(df.sort_values(by=[\"model\", \"year\"], ascending=False),\n",
    "               x = \"year\",\n",
    "               y=\"Emissions|CO2\",\n",
    "               color = \"region\",\n",
    "               #line_dash=\"model\",\n",
    "               facet_col=\"scenario_narrative\",\n",
    "               facet_col_wrap= 3,\n",
    "               range_x=[2005, 2100],\n",
    "               range_y = [-10000, 15000],\n",
    "               hover_data = {'scenario':True, 'model':True},\n",
    "               title = \"CO2 emission trajectories\")\n",
    "\n",
    "\n",
    "#fig1.update_layout(showlegend=False)\n",
    "fig1"
   ]
  },
  {
   "cell_type": "code",
   "execution_count": 53,
   "metadata": {},
   "outputs": [
    {
     "data": {
      "application/vnd.plotly.v1+json": {
       "config": {
        "plotlyServerURL": "https://plot.ly"
       },
       "data": [
        {
         "alignmentgroup": "True",
         "boxpoints": "all",
         "customdata": [
          [
           "AIM/CGE V2.2"
          ],
          [
           "GEM-E3_V2023"
          ],
          [
           "IMAGE 3.2"
          ],
          [
           "MESSAGEix-GLOBIOM_1.1"
          ],
          [
           "POLES ENGAGE"
          ],
          [
           "REMIND 3.0"
          ],
          [
           "WITCH 5.0"
          ]
         ],
         "hovertemplate": "Emissions|CO2=%{y}<br>model=%{customdata[0]}<extra></extra>",
         "legendgroup": "Instit",
         "marker": {
          "color": "#636efa"
         },
         "name": "Instit",
         "notched": false,
         "offsetgroup": "Instit",
         "orientation": "v",
         "showlegend": true,
         "type": "box",
         "x": [
          "Instit",
          "Instit",
          "Instit",
          "Instit",
          "Instit",
          "Instit",
          "Instit"
         ],
         "x0": " ",
         "xaxis": "x",
         "y": [
          32426.5506,
          31993.042499468524,
          33829.71224265876,
          34109.44321042558,
          31522.11328125,
          33952.2199114,
          28455.7043397742
         ],
         "y0": " ",
         "yaxis": "y"
        },
        {
         "alignmentgroup": "True",
         "boxpoints": "all",
         "customdata": [
          [
           "AIM/CGE V2.2"
          ],
          [
           "COFFEE 1.5"
          ],
          [
           "GEM-E3_V2023"
          ],
          [
           "IMAGE 3.2"
          ],
          [
           "MESSAGEix-GLOBIOM_1.1"
          ],
          [
           "POLES ENGAGE"
          ],
          [
           "REMIND 3.0"
          ],
          [
           "WITCH 5.0"
          ]
         ],
         "hovertemplate": "Emissions|CO2=%{y}<br>model=%{customdata[0]}<extra></extra>",
         "legendgroup": "Cost Effective",
         "marker": {
          "color": "#EF553B"
         },
         "name": "Cost Effective",
         "notched": false,
         "offsetgroup": "Cost Effective",
         "orientation": "v",
         "showlegend": true,
         "type": "box",
         "x": [
          "Cost Effective",
          "Cost Effective",
          "Cost Effective",
          "Cost Effective",
          "Cost Effective",
          "Cost Effective",
          "Cost Effective",
          "Cost Effective"
         ],
         "x0": " ",
         "xaxis": "x",
         "y": [
          31213.1991,
          34626.204102504,
          32028.28057911866,
          30550.01139600644,
          30840.01957116535,
          31162.3125,
          34065.9892494,
          21699.3795922218
         ],
         "y0": " ",
         "yaxis": "y"
        }
       ],
       "layout": {
        "boxmode": "overlay",
        "legend": {
         "title": {
          "text": "scenario_narrative"
         },
         "tracegroupgap": 0
        },
        "margin": {
         "t": 60
        },
        "template": {
         "data": {
          "bar": [
           {
            "error_x": {
             "color": "#2a3f5f"
            },
            "error_y": {
             "color": "#2a3f5f"
            },
            "marker": {
             "line": {
              "color": "#E5ECF6",
              "width": 0.5
             },
             "pattern": {
              "fillmode": "overlay",
              "size": 10,
              "solidity": 0.2
             }
            },
            "type": "bar"
           }
          ],
          "barpolar": [
           {
            "marker": {
             "line": {
              "color": "#E5ECF6",
              "width": 0.5
             },
             "pattern": {
              "fillmode": "overlay",
              "size": 10,
              "solidity": 0.2
             }
            },
            "type": "barpolar"
           }
          ],
          "carpet": [
           {
            "aaxis": {
             "endlinecolor": "#2a3f5f",
             "gridcolor": "white",
             "linecolor": "white",
             "minorgridcolor": "white",
             "startlinecolor": "#2a3f5f"
            },
            "baxis": {
             "endlinecolor": "#2a3f5f",
             "gridcolor": "white",
             "linecolor": "white",
             "minorgridcolor": "white",
             "startlinecolor": "#2a3f5f"
            },
            "type": "carpet"
           }
          ],
          "choropleth": [
           {
            "colorbar": {
             "outlinewidth": 0,
             "ticks": ""
            },
            "type": "choropleth"
           }
          ],
          "contour": [
           {
            "colorbar": {
             "outlinewidth": 0,
             "ticks": ""
            },
            "colorscale": [
             [
              0,
              "#0d0887"
             ],
             [
              0.1111111111111111,
              "#46039f"
             ],
             [
              0.2222222222222222,
              "#7201a8"
             ],
             [
              0.3333333333333333,
              "#9c179e"
             ],
             [
              0.4444444444444444,
              "#bd3786"
             ],
             [
              0.5555555555555556,
              "#d8576b"
             ],
             [
              0.6666666666666666,
              "#ed7953"
             ],
             [
              0.7777777777777778,
              "#fb9f3a"
             ],
             [
              0.8888888888888888,
              "#fdca26"
             ],
             [
              1,
              "#f0f921"
             ]
            ],
            "type": "contour"
           }
          ],
          "contourcarpet": [
           {
            "colorbar": {
             "outlinewidth": 0,
             "ticks": ""
            },
            "type": "contourcarpet"
           }
          ],
          "heatmap": [
           {
            "colorbar": {
             "outlinewidth": 0,
             "ticks": ""
            },
            "colorscale": [
             [
              0,
              "#0d0887"
             ],
             [
              0.1111111111111111,
              "#46039f"
             ],
             [
              0.2222222222222222,
              "#7201a8"
             ],
             [
              0.3333333333333333,
              "#9c179e"
             ],
             [
              0.4444444444444444,
              "#bd3786"
             ],
             [
              0.5555555555555556,
              "#d8576b"
             ],
             [
              0.6666666666666666,
              "#ed7953"
             ],
             [
              0.7777777777777778,
              "#fb9f3a"
             ],
             [
              0.8888888888888888,
              "#fdca26"
             ],
             [
              1,
              "#f0f921"
             ]
            ],
            "type": "heatmap"
           }
          ],
          "heatmapgl": [
           {
            "colorbar": {
             "outlinewidth": 0,
             "ticks": ""
            },
            "colorscale": [
             [
              0,
              "#0d0887"
             ],
             [
              0.1111111111111111,
              "#46039f"
             ],
             [
              0.2222222222222222,
              "#7201a8"
             ],
             [
              0.3333333333333333,
              "#9c179e"
             ],
             [
              0.4444444444444444,
              "#bd3786"
             ],
             [
              0.5555555555555556,
              "#d8576b"
             ],
             [
              0.6666666666666666,
              "#ed7953"
             ],
             [
              0.7777777777777778,
              "#fb9f3a"
             ],
             [
              0.8888888888888888,
              "#fdca26"
             ],
             [
              1,
              "#f0f921"
             ]
            ],
            "type": "heatmapgl"
           }
          ],
          "histogram": [
           {
            "marker": {
             "pattern": {
              "fillmode": "overlay",
              "size": 10,
              "solidity": 0.2
             }
            },
            "type": "histogram"
           }
          ],
          "histogram2d": [
           {
            "colorbar": {
             "outlinewidth": 0,
             "ticks": ""
            },
            "colorscale": [
             [
              0,
              "#0d0887"
             ],
             [
              0.1111111111111111,
              "#46039f"
             ],
             [
              0.2222222222222222,
              "#7201a8"
             ],
             [
              0.3333333333333333,
              "#9c179e"
             ],
             [
              0.4444444444444444,
              "#bd3786"
             ],
             [
              0.5555555555555556,
              "#d8576b"
             ],
             [
              0.6666666666666666,
              "#ed7953"
             ],
             [
              0.7777777777777778,
              "#fb9f3a"
             ],
             [
              0.8888888888888888,
              "#fdca26"
             ],
             [
              1,
              "#f0f921"
             ]
            ],
            "type": "histogram2d"
           }
          ],
          "histogram2dcontour": [
           {
            "colorbar": {
             "outlinewidth": 0,
             "ticks": ""
            },
            "colorscale": [
             [
              0,
              "#0d0887"
             ],
             [
              0.1111111111111111,
              "#46039f"
             ],
             [
              0.2222222222222222,
              "#7201a8"
             ],
             [
              0.3333333333333333,
              "#9c179e"
             ],
             [
              0.4444444444444444,
              "#bd3786"
             ],
             [
              0.5555555555555556,
              "#d8576b"
             ],
             [
              0.6666666666666666,
              "#ed7953"
             ],
             [
              0.7777777777777778,
              "#fb9f3a"
             ],
             [
              0.8888888888888888,
              "#fdca26"
             ],
             [
              1,
              "#f0f921"
             ]
            ],
            "type": "histogram2dcontour"
           }
          ],
          "mesh3d": [
           {
            "colorbar": {
             "outlinewidth": 0,
             "ticks": ""
            },
            "type": "mesh3d"
           }
          ],
          "parcoords": [
           {
            "line": {
             "colorbar": {
              "outlinewidth": 0,
              "ticks": ""
             }
            },
            "type": "parcoords"
           }
          ],
          "pie": [
           {
            "automargin": true,
            "type": "pie"
           }
          ],
          "scatter": [
           {
            "fillpattern": {
             "fillmode": "overlay",
             "size": 10,
             "solidity": 0.2
            },
            "type": "scatter"
           }
          ],
          "scatter3d": [
           {
            "line": {
             "colorbar": {
              "outlinewidth": 0,
              "ticks": ""
             }
            },
            "marker": {
             "colorbar": {
              "outlinewidth": 0,
              "ticks": ""
             }
            },
            "type": "scatter3d"
           }
          ],
          "scattercarpet": [
           {
            "marker": {
             "colorbar": {
              "outlinewidth": 0,
              "ticks": ""
             }
            },
            "type": "scattercarpet"
           }
          ],
          "scattergeo": [
           {
            "marker": {
             "colorbar": {
              "outlinewidth": 0,
              "ticks": ""
             }
            },
            "type": "scattergeo"
           }
          ],
          "scattergl": [
           {
            "marker": {
             "colorbar": {
              "outlinewidth": 0,
              "ticks": ""
             }
            },
            "type": "scattergl"
           }
          ],
          "scattermapbox": [
           {
            "marker": {
             "colorbar": {
              "outlinewidth": 0,
              "ticks": ""
             }
            },
            "type": "scattermapbox"
           }
          ],
          "scatterpolar": [
           {
            "marker": {
             "colorbar": {
              "outlinewidth": 0,
              "ticks": ""
             }
            },
            "type": "scatterpolar"
           }
          ],
          "scatterpolargl": [
           {
            "marker": {
             "colorbar": {
              "outlinewidth": 0,
              "ticks": ""
             }
            },
            "type": "scatterpolargl"
           }
          ],
          "scatterternary": [
           {
            "marker": {
             "colorbar": {
              "outlinewidth": 0,
              "ticks": ""
             }
            },
            "type": "scatterternary"
           }
          ],
          "surface": [
           {
            "colorbar": {
             "outlinewidth": 0,
             "ticks": ""
            },
            "colorscale": [
             [
              0,
              "#0d0887"
             ],
             [
              0.1111111111111111,
              "#46039f"
             ],
             [
              0.2222222222222222,
              "#7201a8"
             ],
             [
              0.3333333333333333,
              "#9c179e"
             ],
             [
              0.4444444444444444,
              "#bd3786"
             ],
             [
              0.5555555555555556,
              "#d8576b"
             ],
             [
              0.6666666666666666,
              "#ed7953"
             ],
             [
              0.7777777777777778,
              "#fb9f3a"
             ],
             [
              0.8888888888888888,
              "#fdca26"
             ],
             [
              1,
              "#f0f921"
             ]
            ],
            "type": "surface"
           }
          ],
          "table": [
           {
            "cells": {
             "fill": {
              "color": "#EBF0F8"
             },
             "line": {
              "color": "white"
             }
            },
            "header": {
             "fill": {
              "color": "#C8D4E3"
             },
             "line": {
              "color": "white"
             }
            },
            "type": "table"
           }
          ]
         },
         "layout": {
          "annotationdefaults": {
           "arrowcolor": "#2a3f5f",
           "arrowhead": 0,
           "arrowwidth": 1
          },
          "autotypenumbers": "strict",
          "coloraxis": {
           "colorbar": {
            "outlinewidth": 0,
            "ticks": ""
           }
          },
          "colorscale": {
           "diverging": [
            [
             0,
             "#8e0152"
            ],
            [
             0.1,
             "#c51b7d"
            ],
            [
             0.2,
             "#de77ae"
            ],
            [
             0.3,
             "#f1b6da"
            ],
            [
             0.4,
             "#fde0ef"
            ],
            [
             0.5,
             "#f7f7f7"
            ],
            [
             0.6,
             "#e6f5d0"
            ],
            [
             0.7,
             "#b8e186"
            ],
            [
             0.8,
             "#7fbc41"
            ],
            [
             0.9,
             "#4d9221"
            ],
            [
             1,
             "#276419"
            ]
           ],
           "sequential": [
            [
             0,
             "#0d0887"
            ],
            [
             0.1111111111111111,
             "#46039f"
            ],
            [
             0.2222222222222222,
             "#7201a8"
            ],
            [
             0.3333333333333333,
             "#9c179e"
            ],
            [
             0.4444444444444444,
             "#bd3786"
            ],
            [
             0.5555555555555556,
             "#d8576b"
            ],
            [
             0.6666666666666666,
             "#ed7953"
            ],
            [
             0.7777777777777778,
             "#fb9f3a"
            ],
            [
             0.8888888888888888,
             "#fdca26"
            ],
            [
             1,
             "#f0f921"
            ]
           ],
           "sequentialminus": [
            [
             0,
             "#0d0887"
            ],
            [
             0.1111111111111111,
             "#46039f"
            ],
            [
             0.2222222222222222,
             "#7201a8"
            ],
            [
             0.3333333333333333,
             "#9c179e"
            ],
            [
             0.4444444444444444,
             "#bd3786"
            ],
            [
             0.5555555555555556,
             "#d8576b"
            ],
            [
             0.6666666666666666,
             "#ed7953"
            ],
            [
             0.7777777777777778,
             "#fb9f3a"
            ],
            [
             0.8888888888888888,
             "#fdca26"
            ],
            [
             1,
             "#f0f921"
            ]
           ]
          },
          "colorway": [
           "#636efa",
           "#EF553B",
           "#00cc96",
           "#ab63fa",
           "#FFA15A",
           "#19d3f3",
           "#FF6692",
           "#B6E880",
           "#FF97FF",
           "#FECB52"
          ],
          "font": {
           "color": "#2a3f5f"
          },
          "geo": {
           "bgcolor": "white",
           "lakecolor": "white",
           "landcolor": "#E5ECF6",
           "showlakes": true,
           "showland": true,
           "subunitcolor": "white"
          },
          "hoverlabel": {
           "align": "left"
          },
          "hovermode": "closest",
          "mapbox": {
           "style": "light"
          },
          "paper_bgcolor": "white",
          "plot_bgcolor": "#E5ECF6",
          "polar": {
           "angularaxis": {
            "gridcolor": "white",
            "linecolor": "white",
            "ticks": ""
           },
           "bgcolor": "#E5ECF6",
           "radialaxis": {
            "gridcolor": "white",
            "linecolor": "white",
            "ticks": ""
           }
          },
          "scene": {
           "xaxis": {
            "backgroundcolor": "#E5ECF6",
            "gridcolor": "white",
            "gridwidth": 2,
            "linecolor": "white",
            "showbackground": true,
            "ticks": "",
            "zerolinecolor": "white"
           },
           "yaxis": {
            "backgroundcolor": "#E5ECF6",
            "gridcolor": "white",
            "gridwidth": 2,
            "linecolor": "white",
            "showbackground": true,
            "ticks": "",
            "zerolinecolor": "white"
           },
           "zaxis": {
            "backgroundcolor": "#E5ECF6",
            "gridcolor": "white",
            "gridwidth": 2,
            "linecolor": "white",
            "showbackground": true,
            "ticks": "",
            "zerolinecolor": "white"
           }
          },
          "shapedefaults": {
           "line": {
            "color": "#2a3f5f"
           }
          },
          "ternary": {
           "aaxis": {
            "gridcolor": "white",
            "linecolor": "white",
            "ticks": ""
           },
           "baxis": {
            "gridcolor": "white",
            "linecolor": "white",
            "ticks": ""
           },
           "bgcolor": "#E5ECF6",
           "caxis": {
            "gridcolor": "white",
            "linecolor": "white",
            "ticks": ""
           }
          },
          "title": {
           "x": 0.05
          },
          "xaxis": {
           "automargin": true,
           "gridcolor": "white",
           "linecolor": "white",
           "ticks": "",
           "title": {
            "standoff": 15
           },
           "zerolinecolor": "white",
           "zerolinewidth": 2
          },
          "yaxis": {
           "automargin": true,
           "gridcolor": "white",
           "linecolor": "white",
           "ticks": "",
           "title": {
            "standoff": 15
           },
           "zerolinecolor": "white",
           "zerolinewidth": 2
          }
         }
        },
        "xaxis": {
         "anchor": "y",
         "categoryarray": [
          "Instit",
          "Cost Effective"
         ],
         "categoryorder": "array",
         "domain": [
          0,
          1
         ],
         "title": {
          "text": "scenario_narrative"
         }
        },
        "yaxis": {
         "anchor": "x",
         "domain": [
          0,
          1
         ],
         "title": {
          "text": "Emissions|CO2"
         }
        }
       }
      }
     },
     "metadata": {},
     "output_type": "display_data"
    }
   ],
   "source": [
    "fig = go.Figure()\n",
    "\n",
    "fig = go.Figure()\n",
    "fig.add_trace(go.Box(\n",
    "    x=to_plot_df[\"scenario_narrative\"],\n",
    "    y=to_plot_df[\"Emissions|CO2\"],\n",
    "    name=\"All Points\",\n",
    "    jitter=0.3,\n",
    "    pointpos=0,\n",
    "    boxpoints='all',  # represent all points\n",
    "    #marker_color=to_plot_df[\"scenario_narrative\"],\n",
    "    line_color='rgb(7,40,89)'\n",
    "\n",
    "\n",
    "))\n",
    "\n",
    "\n",
    "fig2 = px.box(\n",
    "    data_frame = to_plot_df\n",
    "    ,y = 'Emissions|CO2'\n",
    "    ,x = 'scenario_narrative'\n",
    "    ,color = \"scenario_narrative\"\n",
    "    ,points = 'all'\n",
    "    ,hover_data = {'model':True, 'scenario_narrative':False}\n",
    ")\n",
    "fig2\n",
    " "
   ]
  },
  {
   "cell_type": "code",
   "execution_count": 122,
   "metadata": {},
   "outputs": [
    {
     "data": {
      "application/vnd.plotly.v1+json": {
       "config": {
        "plotlyServerURL": "https://plot.ly"
       },
       "data": [
        {
         "customdata": [
          [
           "T34_1000_bitb_em",
           "AIM/CGE V2.2"
          ],
          [
           "T34_1000_bitb_em",
           "AIM/CGE V2.2"
          ],
          [
           "T34_1000_bitb_em",
           "AIM/CGE V2.2"
          ],
          [
           "T34_1000_bitb_em",
           "AIM/CGE V2.2"
          ],
          [
           "T34_1000_bitb_em",
           "AIM/CGE V2.2"
          ],
          [
           "T34_1000_bitb_em",
           "AIM/CGE V2.2"
          ],
          [
           "T34_1000_bitb_em",
           "AIM/CGE V2.2"
          ],
          [
           "T34_1000_bitb_em",
           "AIM/CGE V2.2"
          ],
          [
           "T34_1000_bitb_em",
           "AIM/CGE V2.2"
          ],
          [
           "T34_1000_bitb_em",
           "AIM/CGE V2.2"
          ],
          [
           "T34_1000_bitb_em",
           "AIM/CGE V2.2"
          ],
          [
           "T34_1000_bitb_em",
           "AIM/CGE V2.2"
          ],
          [
           "T34_1000_bitb_em",
           "AIM/CGE V2.2"
          ],
          [
           "T34_1000_bitb_em",
           "AIM/CGE V2.2"
          ],
          [
           "T34_1000_bitb_em",
           "AIM/CGE V2.2"
          ],
          [
           "T34_1000_bitb_em",
           "AIM/CGE V2.2"
          ],
          [
           "T34_1000_bitb_em",
           "AIM/CGE V2.2"
          ],
          [
           "T34_1000_bitb_em",
           "AIM/CGE V2.2"
          ],
          [
           "T34_1000_bitb_em",
           "AIM/CGE V2.2"
          ]
         ],
         "hovertemplate": "region=China<br>model=%{customdata[1]}<br>scenario_narrative=Tech+Inst<br>year=%{x}<br>Emissions|Kyoto Gases=%{y}<br>scenario=%{customdata[0]}<extra></extra>",
         "legendgroup": "China, AIM/CGE V2.2",
         "line": {
          "color": "#636efa",
          "dash": "solid"
         },
         "marker": {
          "symbol": "circle"
         },
         "mode": "lines",
         "name": "China, AIM/CGE V2.2",
         "showlegend": true,
         "type": "scattergl",
         "x": [
          2010,
          2015,
          2020,
          2025,
          2030,
          2035,
          2040,
          2045,
          2050,
          2055,
          2060,
          2065,
          2070,
          2075,
          2080,
          2085,
          2090,
          2095,
          2100
         ],
         "xaxis": "x4",
         "y": [
          11537.5187,
          13745.7169,
          15070.7563,
          13229.0308,
          11433.0647,
          8648.9213,
          5588.2266,
          2766.8869,
          624.5474,
          879.3148,
          410.5252,
          348.1959,
          309.1487,
          274.8137,
          237.504,
          196.2544,
          172.7269,
          161.8852,
          162.574
         ],
         "yaxis": "y4"
        },
        {
         "customdata": [
          [
           "T34_1000_feas_em",
           "AIM/CGE V2.2"
          ],
          [
           "T34_1000_feas_em",
           "AIM/CGE V2.2"
          ],
          [
           "T34_1000_feas_em",
           "AIM/CGE V2.2"
          ],
          [
           "T34_1000_feas_em",
           "AIM/CGE V2.2"
          ],
          [
           "T34_1000_feas_em",
           "AIM/CGE V2.2"
          ],
          [
           "T34_1000_feas_em",
           "AIM/CGE V2.2"
          ],
          [
           "T34_1000_feas_em",
           "AIM/CGE V2.2"
          ],
          [
           "T34_1000_feas_em",
           "AIM/CGE V2.2"
          ],
          [
           "T34_1000_feas_em",
           "AIM/CGE V2.2"
          ],
          [
           "T34_1000_feas_em",
           "AIM/CGE V2.2"
          ],
          [
           "T34_1000_feas_em",
           "AIM/CGE V2.2"
          ],
          [
           "T34_1000_feas_em",
           "AIM/CGE V2.2"
          ],
          [
           "T34_1000_feas_em",
           "AIM/CGE V2.2"
          ],
          [
           "T34_1000_feas_em",
           "AIM/CGE V2.2"
          ],
          [
           "T34_1000_feas_em",
           "AIM/CGE V2.2"
          ],
          [
           "T34_1000_feas_em",
           "AIM/CGE V2.2"
          ],
          [
           "T34_1000_feas_em",
           "AIM/CGE V2.2"
          ],
          [
           "T34_1000_feas_em",
           "AIM/CGE V2.2"
          ],
          [
           "T34_1000_feas_em",
           "AIM/CGE V2.2"
          ]
         ],
         "hovertemplate": "region=China<br>model=%{customdata[1]}<br>scenario_narrative=Tech+Inst+Enab<br>year=%{x}<br>Emissions|Kyoto Gases=%{y}<br>scenario=%{customdata[0]}<extra></extra>",
         "legendgroup": "China, AIM/CGE V2.2",
         "line": {
          "color": "#636efa",
          "dash": "solid"
         },
         "marker": {
          "symbol": "circle"
         },
         "mode": "lines",
         "name": "China, AIM/CGE V2.2",
         "showlegend": false,
         "type": "scattergl",
         "x": [
          2010,
          2015,
          2020,
          2025,
          2030,
          2035,
          2040,
          2045,
          2050,
          2055,
          2060,
          2065,
          2070,
          2075,
          2080,
          2085,
          2090,
          2095,
          2100
         ],
         "xaxis": "x5",
         "y": [
          11537.5187,
          13745.7169,
          15070.9138,
          13114.8775,
          10941.585,
          8034.1136,
          5077.5237,
          2926.7054,
          555.4704,
          215.1128,
          27.977899999999998,
          -89.6426,
          -145.3248,
          -186.7774,
          -219.0997,
          -243.0364,
          -250.7683,
          -241.5842,
          -222.879
         ],
         "yaxis": "y5"
        },
        {
         "customdata": [
          [
           "T34_1000_govem",
           "AIM/CGE V2.2"
          ],
          [
           "T34_1000_govem",
           "AIM/CGE V2.2"
          ],
          [
           "T34_1000_govem",
           "AIM/CGE V2.2"
          ],
          [
           "T34_1000_govem",
           "AIM/CGE V2.2"
          ],
          [
           "T34_1000_govem",
           "AIM/CGE V2.2"
          ],
          [
           "T34_1000_govem",
           "AIM/CGE V2.2"
          ],
          [
           "T34_1000_govem",
           "AIM/CGE V2.2"
          ],
          [
           "T34_1000_govem",
           "AIM/CGE V2.2"
          ],
          [
           "T34_1000_govem",
           "AIM/CGE V2.2"
          ],
          [
           "T34_1000_govem",
           "AIM/CGE V2.2"
          ],
          [
           "T34_1000_govem",
           "AIM/CGE V2.2"
          ],
          [
           "T34_1000_govem",
           "AIM/CGE V2.2"
          ],
          [
           "T34_1000_govem",
           "AIM/CGE V2.2"
          ],
          [
           "T34_1000_govem",
           "AIM/CGE V2.2"
          ],
          [
           "T34_1000_govem",
           "AIM/CGE V2.2"
          ],
          [
           "T34_1000_govem",
           "AIM/CGE V2.2"
          ],
          [
           "T34_1000_govem",
           "AIM/CGE V2.2"
          ],
          [
           "T34_1000_govem",
           "AIM/CGE V2.2"
          ],
          [
           "T34_1000_govem",
           "AIM/CGE V2.2"
          ]
         ],
         "hovertemplate": "region=China<br>model=%{customdata[1]}<br>scenario_narrative=Instit<br>year=%{x}<br>Emissions|Kyoto Gases=%{y}<br>scenario=%{customdata[0]}<extra></extra>",
         "legendgroup": "China, AIM/CGE V2.2",
         "line": {
          "color": "#636efa",
          "dash": "solid"
         },
         "marker": {
          "symbol": "circle"
         },
         "mode": "lines",
         "name": "China, AIM/CGE V2.2",
         "showlegend": false,
         "type": "scattergl",
         "x": [
          2010,
          2015,
          2020,
          2025,
          2030,
          2035,
          2040,
          2045,
          2050,
          2055,
          2060,
          2065,
          2070,
          2075,
          2080,
          2085,
          2090,
          2095,
          2100
         ],
         "xaxis": "x6",
         "y": [
          11537.5187,
          13745.7169,
          15054.2493,
          13166.868,
          11290.2687,
          8722.8337,
          6054.4933,
          3612.7563,
          1693.3457,
          292.5607,
          69.9506,
          -159.3432,
          -366.9757,
          -603.5443,
          -873.9954,
          -1107.8006,
          -1285.0168,
          -1409.4018,
          -1501.3822
         ],
         "yaxis": "y6"
        },
        {
         "customdata": [
          [
           "T34_1000_ref",
           "AIM/CGE V2.2"
          ],
          [
           "T34_1000_ref",
           "AIM/CGE V2.2"
          ],
          [
           "T34_1000_ref",
           "AIM/CGE V2.2"
          ],
          [
           "T34_1000_ref",
           "AIM/CGE V2.2"
          ],
          [
           "T34_1000_ref",
           "AIM/CGE V2.2"
          ],
          [
           "T34_1000_ref",
           "AIM/CGE V2.2"
          ],
          [
           "T34_1000_ref",
           "AIM/CGE V2.2"
          ],
          [
           "T34_1000_ref",
           "AIM/CGE V2.2"
          ],
          [
           "T34_1000_ref",
           "AIM/CGE V2.2"
          ],
          [
           "T34_1000_ref",
           "AIM/CGE V2.2"
          ],
          [
           "T34_1000_ref",
           "AIM/CGE V2.2"
          ],
          [
           "T34_1000_ref",
           "AIM/CGE V2.2"
          ],
          [
           "T34_1000_ref",
           "AIM/CGE V2.2"
          ],
          [
           "T34_1000_ref",
           "AIM/CGE V2.2"
          ],
          [
           "T34_1000_ref",
           "AIM/CGE V2.2"
          ],
          [
           "T34_1000_ref",
           "AIM/CGE V2.2"
          ],
          [
           "T34_1000_ref",
           "AIM/CGE V2.2"
          ],
          [
           "T34_1000_ref",
           "AIM/CGE V2.2"
          ],
          [
           "T34_1000_ref",
           "AIM/CGE V2.2"
          ]
         ],
         "hovertemplate": "region=China<br>model=%{customdata[1]}<br>scenario_narrative=Cost Effective<br>year=%{x}<br>Emissions|Kyoto Gases=%{y}<br>scenario=%{customdata[0]}<extra></extra>",
         "legendgroup": "China, AIM/CGE V2.2",
         "line": {
          "color": "#636efa",
          "dash": "solid"
         },
         "marker": {
          "symbol": "circle"
         },
         "mode": "lines",
         "name": "China, AIM/CGE V2.2",
         "showlegend": false,
         "type": "scattergl",
         "x": [
          2010,
          2015,
          2020,
          2025,
          2030,
          2035,
          2040,
          2045,
          2050,
          2055,
          2060,
          2065,
          2070,
          2075,
          2080,
          2085,
          2090,
          2095,
          2100
         ],
         "xaxis": "x",
         "y": [
          11537.5187,
          13745.7169,
          15054.2493,
          12640.5223,
          10981.8938,
          9164.2416,
          7035.3985,
          4827.0068,
          2928.5076,
          1314.2616,
          1115.7875,
          981.893,
          797.1289,
          613.7934,
          451.1176,
          358.0988,
          265.5907,
          198.9506,
          136.433
         ],
         "yaxis": "y"
        },
        {
         "customdata": [
          [
           "T34_1000_ref",
           "COFFEE 1.5"
          ],
          [
           "T34_1000_ref",
           "COFFEE 1.5"
          ],
          [
           "T34_1000_ref",
           "COFFEE 1.5"
          ],
          [
           "T34_1000_ref",
           "COFFEE 1.5"
          ],
          [
           "T34_1000_ref",
           "COFFEE 1.5"
          ],
          [
           "T34_1000_ref",
           "COFFEE 1.5"
          ],
          [
           "T34_1000_ref",
           "COFFEE 1.5"
          ],
          [
           "T34_1000_ref",
           "COFFEE 1.5"
          ],
          [
           "T34_1000_ref",
           "COFFEE 1.5"
          ],
          [
           "T34_1000_ref",
           "COFFEE 1.5"
          ],
          [
           "T34_1000_ref",
           "COFFEE 1.5"
          ],
          [
           "T34_1000_ref",
           "COFFEE 1.5"
          ],
          [
           "T34_1000_ref",
           "COFFEE 1.5"
          ],
          [
           "T34_1000_ref",
           "COFFEE 1.5"
          ]
         ],
         "hovertemplate": "region=China<br>model=%{customdata[1]}<br>scenario_narrative=Cost Effective<br>year=%{x}<br>Emissions|Kyoto Gases=%{y}<br>scenario=%{customdata[0]}<extra></extra>",
         "legendgroup": "China, COFFEE 1.5",
         "line": {
          "color": "#636efa",
          "dash": "dot"
         },
         "marker": {
          "symbol": "circle"
         },
         "mode": "lines",
         "name": "China, COFFEE 1.5",
         "showlegend": true,
         "type": "scattergl",
         "x": [
          2010,
          2015,
          2020,
          2025,
          2030,
          2035,
          2040,
          2045,
          2050,
          2060,
          2070,
          2080,
          2090,
          2100
         ],
         "xaxis": "x",
         "y": [
          11346.159063608124,
          13401.55211409336,
          14234.474173507308,
          11580.803160194831,
          10127.850759657598,
          8732.147938659153,
          7745.854730915451,
          6322.263562557394,
          5526.620571619815,
          3977.208009964207,
          1771.4482644069897,
          722.1755924356672,
          -20.617927207040793,
          -302.0817266420057
         ],
         "yaxis": "y"
        },
        {
         "customdata": [
          [
           "T34_1000_bitb_ref",
           "COFFEE 1.5"
          ],
          [
           "T34_1000_bitb_ref",
           "COFFEE 1.5"
          ],
          [
           "T34_1000_bitb_ref",
           "COFFEE 1.5"
          ],
          [
           "T34_1000_bitb_ref",
           "COFFEE 1.5"
          ],
          [
           "T34_1000_bitb_ref",
           "COFFEE 1.5"
          ],
          [
           "T34_1000_bitb_ref",
           "COFFEE 1.5"
          ],
          [
           "T34_1000_bitb_ref",
           "COFFEE 1.5"
          ],
          [
           "T34_1000_bitb_ref",
           "COFFEE 1.5"
          ],
          [
           "T34_1000_bitb_ref",
           "COFFEE 1.5"
          ],
          [
           "T34_1000_bitb_ref",
           "COFFEE 1.5"
          ],
          [
           "T34_1000_bitb_ref",
           "COFFEE 1.5"
          ],
          [
           "T34_1000_bitb_ref",
           "COFFEE 1.5"
          ],
          [
           "T34_1000_bitb_ref",
           "COFFEE 1.5"
          ],
          [
           "T34_1000_bitb_ref",
           "COFFEE 1.5"
          ]
         ],
         "hovertemplate": "region=China<br>model=%{customdata[1]}<br>scenario_narrative=Tech<br>year=%{x}<br>Emissions|Kyoto Gases=%{y}<br>scenario=%{customdata[0]}<extra></extra>",
         "legendgroup": "China, COFFEE 1.5",
         "line": {
          "color": "#636efa",
          "dash": "dot"
         },
         "marker": {
          "symbol": "circle"
         },
         "mode": "lines",
         "name": "China, COFFEE 1.5",
         "showlegend": false,
         "type": "scattergl",
         "x": [
          2010,
          2015,
          2020,
          2025,
          2030,
          2035,
          2040,
          2045,
          2050,
          2060,
          2070,
          2080,
          2090,
          2100
         ],
         "xaxis": "x2",
         "y": [
          11346.159063608124,
          13401.55211409336,
          14234.474173507308,
          10911.334914342131,
          8986.653511759532,
          7943.5107386676145,
          6674.458667225822,
          5547.6351603019775,
          4372.8646055006775,
          2887.011884649136,
          2001.2875987346501,
          1607.583651913394,
          1298.503232694675,
          1116.6696854675995
         ],
         "yaxis": "y2"
        },
        {
         "customdata": [
          [
           "T34_1000_bitb_em",
           "GEM-E3_V2023"
          ],
          [
           "T34_1000_bitb_em",
           "GEM-E3_V2023"
          ],
          [
           "T34_1000_bitb_em",
           "GEM-E3_V2023"
          ],
          [
           "T34_1000_bitb_em",
           "GEM-E3_V2023"
          ],
          [
           "T34_1000_bitb_em",
           "GEM-E3_V2023"
          ],
          [
           "T34_1000_bitb_em",
           "GEM-E3_V2023"
          ],
          [
           "T34_1000_bitb_em",
           "GEM-E3_V2023"
          ],
          [
           "T34_1000_bitb_em",
           "GEM-E3_V2023"
          ],
          [
           "T34_1000_bitb_em",
           "GEM-E3_V2023"
          ],
          [
           "T34_1000_bitb_em",
           "GEM-E3_V2023"
          ],
          [
           "T34_1000_bitb_em",
           "GEM-E3_V2023"
          ],
          [
           "T34_1000_bitb_em",
           "GEM-E3_V2023"
          ],
          [
           "T34_1000_bitb_em",
           "GEM-E3_V2023"
          ],
          [
           "T34_1000_bitb_em",
           "GEM-E3_V2023"
          ],
          [
           "T34_1000_bitb_em",
           "GEM-E3_V2023"
          ],
          [
           "T34_1000_bitb_em",
           "GEM-E3_V2023"
          ],
          [
           "T34_1000_bitb_em",
           "GEM-E3_V2023"
          ],
          [
           "T34_1000_bitb_em",
           "GEM-E3_V2023"
          ]
         ],
         "hovertemplate": "region=China<br>model=%{customdata[1]}<br>scenario_narrative=Tech+Inst<br>year=%{x}<br>Emissions|Kyoto Gases=%{y}<br>scenario=%{customdata[0]}<extra></extra>",
         "legendgroup": "China, GEM-E3_V2023",
         "line": {
          "color": "#636efa",
          "dash": "dash"
         },
         "marker": {
          "symbol": "circle"
         },
         "mode": "lines",
         "name": "China, GEM-E3_V2023",
         "showlegend": true,
         "type": "scattergl",
         "x": [
          2015,
          2020,
          2025,
          2030,
          2035,
          2040,
          2045,
          2050,
          2055,
          2060,
          2065,
          2070,
          2075,
          2080,
          2085,
          2090,
          2095,
          2100
         ],
         "xaxis": "x4",
         "y": [
          12593.183391073102,
          12915.981537379288,
          12610.84273197449,
          10262.230212462615,
          8524.23480113458,
          6515.469055809439,
          4268.990759442412,
          2126.2376310897675,
          1258.8651026886496,
          906.5396399563554,
          656.1237748585859,
          384.4145891917375,
          395.7860362969458,
          735.956875221246,
          1093.981070429965,
          1138.5100839953056,
          1225.4067543962838,
          1397.0493533434158
         ],
         "yaxis": "y4"
        },
        {
         "customdata": [
          [
           "T34_1000_feas_em",
           "GEM-E3_V2023"
          ],
          [
           "T34_1000_feas_em",
           "GEM-E3_V2023"
          ],
          [
           "T34_1000_feas_em",
           "GEM-E3_V2023"
          ],
          [
           "T34_1000_feas_em",
           "GEM-E3_V2023"
          ],
          [
           "T34_1000_feas_em",
           "GEM-E3_V2023"
          ],
          [
           "T34_1000_feas_em",
           "GEM-E3_V2023"
          ],
          [
           "T34_1000_feas_em",
           "GEM-E3_V2023"
          ],
          [
           "T34_1000_feas_em",
           "GEM-E3_V2023"
          ],
          [
           "T34_1000_feas_em",
           "GEM-E3_V2023"
          ],
          [
           "T34_1000_feas_em",
           "GEM-E3_V2023"
          ],
          [
           "T34_1000_feas_em",
           "GEM-E3_V2023"
          ],
          [
           "T34_1000_feas_em",
           "GEM-E3_V2023"
          ],
          [
           "T34_1000_feas_em",
           "GEM-E3_V2023"
          ],
          [
           "T34_1000_feas_em",
           "GEM-E3_V2023"
          ],
          [
           "T34_1000_feas_em",
           "GEM-E3_V2023"
          ],
          [
           "T34_1000_feas_em",
           "GEM-E3_V2023"
          ],
          [
           "T34_1000_feas_em",
           "GEM-E3_V2023"
          ],
          [
           "T34_1000_feas_em",
           "GEM-E3_V2023"
          ]
         ],
         "hovertemplate": "region=China<br>model=%{customdata[1]}<br>scenario_narrative=Tech+Inst+Enab<br>year=%{x}<br>Emissions|Kyoto Gases=%{y}<br>scenario=%{customdata[0]}<extra></extra>",
         "legendgroup": "China, GEM-E3_V2023",
         "line": {
          "color": "#636efa",
          "dash": "dash"
         },
         "marker": {
          "symbol": "circle"
         },
         "mode": "lines",
         "name": "China, GEM-E3_V2023",
         "showlegend": false,
         "type": "scattergl",
         "x": [
          2015,
          2020,
          2025,
          2030,
          2035,
          2040,
          2045,
          2050,
          2055,
          2060,
          2065,
          2070,
          2075,
          2080,
          2085,
          2090,
          2095,
          2100
         ],
         "xaxis": "x5",
         "y": [
          12593.183391073102,
          12915.981537379288,
          12827.530492417784,
          10665.964527804352,
          9215.095680227152,
          7029.7730314494,
          4496.9381714678675,
          2321.585685666247,
          1078.47126371295,
          919.0203494499636,
          663.8674193474832,
          387.36845497625404,
          437.88872903827047,
          733.0250412324319,
          1136.2372631285145,
          1176.0375071132066,
          1261.6068986988948,
          1365.1294904686017
         ],
         "yaxis": "y5"
        },
        {
         "customdata": [
          [
           "T34_1000_govem",
           "GEM-E3_V2023"
          ],
          [
           "T34_1000_govem",
           "GEM-E3_V2023"
          ],
          [
           "T34_1000_govem",
           "GEM-E3_V2023"
          ],
          [
           "T34_1000_govem",
           "GEM-E3_V2023"
          ],
          [
           "T34_1000_govem",
           "GEM-E3_V2023"
          ],
          [
           "T34_1000_govem",
           "GEM-E3_V2023"
          ],
          [
           "T34_1000_govem",
           "GEM-E3_V2023"
          ],
          [
           "T34_1000_govem",
           "GEM-E3_V2023"
          ],
          [
           "T34_1000_govem",
           "GEM-E3_V2023"
          ],
          [
           "T34_1000_govem",
           "GEM-E3_V2023"
          ],
          [
           "T34_1000_govem",
           "GEM-E3_V2023"
          ],
          [
           "T34_1000_govem",
           "GEM-E3_V2023"
          ],
          [
           "T34_1000_govem",
           "GEM-E3_V2023"
          ],
          [
           "T34_1000_govem",
           "GEM-E3_V2023"
          ],
          [
           "T34_1000_govem",
           "GEM-E3_V2023"
          ],
          [
           "T34_1000_govem",
           "GEM-E3_V2023"
          ],
          [
           "T34_1000_govem",
           "GEM-E3_V2023"
          ],
          [
           "T34_1000_govem",
           "GEM-E3_V2023"
          ]
         ],
         "hovertemplate": "region=China<br>model=%{customdata[1]}<br>scenario_narrative=Instit<br>year=%{x}<br>Emissions|Kyoto Gases=%{y}<br>scenario=%{customdata[0]}<extra></extra>",
         "legendgroup": "China, GEM-E3_V2023",
         "line": {
          "color": "#636efa",
          "dash": "dash"
         },
         "marker": {
          "symbol": "circle"
         },
         "mode": "lines",
         "name": "China, GEM-E3_V2023",
         "showlegend": false,
         "type": "scattergl",
         "x": [
          2015,
          2020,
          2025,
          2030,
          2035,
          2040,
          2045,
          2050,
          2055,
          2060,
          2065,
          2070,
          2075,
          2080,
          2085,
          2090,
          2095,
          2100
         ],
         "xaxis": "x6",
         "y": [
          12593.183391073102,
          12915.981537379288,
          13044.060538111793,
          11668.868322371334,
          10852.066753912179,
          8194.82180625513,
          5304.795670867886,
          2585.9073920973196,
          1652.8537802232095,
          733.6831623509995,
          522.0002656164754,
          352.6361232414183,
          172.6799189988635,
          486.41597750523033,
          895.5635376099801,
          947.2510669127025,
          1086.9954723037865,
          1098.5984755211941
         ],
         "yaxis": "y6"
        },
        {
         "customdata": [
          [
           "T34_1000_ref",
           "GEM-E3_V2023"
          ],
          [
           "T34_1000_ref",
           "GEM-E3_V2023"
          ],
          [
           "T34_1000_ref",
           "GEM-E3_V2023"
          ],
          [
           "T34_1000_ref",
           "GEM-E3_V2023"
          ],
          [
           "T34_1000_ref",
           "GEM-E3_V2023"
          ],
          [
           "T34_1000_ref",
           "GEM-E3_V2023"
          ],
          [
           "T34_1000_ref",
           "GEM-E3_V2023"
          ],
          [
           "T34_1000_ref",
           "GEM-E3_V2023"
          ],
          [
           "T34_1000_ref",
           "GEM-E3_V2023"
          ],
          [
           "T34_1000_ref",
           "GEM-E3_V2023"
          ],
          [
           "T34_1000_ref",
           "GEM-E3_V2023"
          ],
          [
           "T34_1000_ref",
           "GEM-E3_V2023"
          ],
          [
           "T34_1000_ref",
           "GEM-E3_V2023"
          ],
          [
           "T34_1000_ref",
           "GEM-E3_V2023"
          ],
          [
           "T34_1000_ref",
           "GEM-E3_V2023"
          ],
          [
           "T34_1000_ref",
           "GEM-E3_V2023"
          ],
          [
           "T34_1000_ref",
           "GEM-E3_V2023"
          ],
          [
           "T34_1000_ref",
           "GEM-E3_V2023"
          ]
         ],
         "hovertemplate": "region=China<br>model=%{customdata[1]}<br>scenario_narrative=Cost Effective<br>year=%{x}<br>Emissions|Kyoto Gases=%{y}<br>scenario=%{customdata[0]}<extra></extra>",
         "legendgroup": "China, GEM-E3_V2023",
         "line": {
          "color": "#636efa",
          "dash": "dash"
         },
         "marker": {
          "symbol": "circle"
         },
         "mode": "lines",
         "name": "China, GEM-E3_V2023",
         "showlegend": false,
         "type": "scattergl",
         "x": [
          2015,
          2020,
          2025,
          2030,
          2035,
          2040,
          2045,
          2050,
          2055,
          2060,
          2065,
          2070,
          2075,
          2080,
          2085,
          2090,
          2095,
          2100
         ],
         "xaxis": "x",
         "y": [
          12593.183391073102,
          12915.981537379288,
          13297.4136349238,
          11850.22592386502,
          10462.423977271577,
          7649.854696699638,
          6066.39424650628,
          4627.573713777427,
          3393.1611221448493,
          2555.185631619085,
          2127.7914293463573,
          1769.7286886232177,
          1653.7227822851175,
          1621.0253689327276,
          1607.5959772806373,
          1590.9860835600764,
          1539.4102423518507,
          1458.7911888683666
         ],
         "yaxis": "y"
        },
        {
         "customdata": [
          [
           "T34_1000_bitb_em",
           "IMAGE 3.2"
          ],
          [
           "T34_1000_bitb_em",
           "IMAGE 3.2"
          ],
          [
           "T34_1000_bitb_em",
           "IMAGE 3.2"
          ],
          [
           "T34_1000_bitb_em",
           "IMAGE 3.2"
          ],
          [
           "T34_1000_bitb_em",
           "IMAGE 3.2"
          ],
          [
           "T34_1000_bitb_em",
           "IMAGE 3.2"
          ],
          [
           "T34_1000_bitb_em",
           "IMAGE 3.2"
          ],
          [
           "T34_1000_bitb_em",
           "IMAGE 3.2"
          ],
          [
           "T34_1000_bitb_em",
           "IMAGE 3.2"
          ],
          [
           "T34_1000_bitb_em",
           "IMAGE 3.2"
          ],
          [
           "T34_1000_bitb_em",
           "IMAGE 3.2"
          ],
          [
           "T34_1000_bitb_em",
           "IMAGE 3.2"
          ],
          [
           "T34_1000_bitb_em",
           "IMAGE 3.2"
          ],
          [
           "T34_1000_bitb_em",
           "IMAGE 3.2"
          ],
          [
           "T34_1000_bitb_em",
           "IMAGE 3.2"
          ],
          [
           "T34_1000_bitb_em",
           "IMAGE 3.2"
          ],
          [
           "T34_1000_bitb_em",
           "IMAGE 3.2"
          ],
          [
           "T34_1000_bitb_em",
           "IMAGE 3.2"
          ],
          [
           "T34_1000_bitb_em",
           "IMAGE 3.2"
          ],
          [
           "T34_1000_bitb_em",
           "IMAGE 3.2"
          ]
         ],
         "hovertemplate": "region=China<br>model=%{customdata[1]}<br>scenario_narrative=Tech+Inst<br>year=%{x}<br>Emissions|Kyoto Gases=%{y}<br>scenario=%{customdata[0]}<extra></extra>",
         "legendgroup": "China, IMAGE 3.2",
         "line": {
          "color": "#636efa",
          "dash": "longdash"
         },
         "marker": {
          "symbol": "circle"
         },
         "mode": "lines",
         "name": "China, IMAGE 3.2",
         "showlegend": true,
         "type": "scattergl",
         "x": [
          2005,
          2010,
          2015,
          2020,
          2025,
          2030,
          2035,
          2040,
          2045,
          2050,
          2055,
          2060,
          2065,
          2070,
          2075,
          2080,
          2085,
          2090,
          2095,
          2100
         ],
         "xaxis": "x4",
         "y": [
          8140.7578125,
          11169.23046875,
          13067.4501953125,
          15067.1796875,
          12740.0595703125,
          10184.6904296875,
          7198.91015625,
          5370.8671875,
          3861.908935546875,
          2962.446044921875,
          2155.951904296875,
          2035.93505859375,
          1709.14404296875,
          1576.9930419921875,
          1264.3160400390625,
          1108.760009765625,
          747.044921875,
          635.5742797851562,
          525.7551879882812,
          569.7429809570312
         ],
         "yaxis": "y4"
        },
        {
         "customdata": [
          [
           "T34_1000_feas_em",
           "IMAGE 3.2"
          ],
          [
           "T34_1000_feas_em",
           "IMAGE 3.2"
          ],
          [
           "T34_1000_feas_em",
           "IMAGE 3.2"
          ],
          [
           "T34_1000_feas_em",
           "IMAGE 3.2"
          ],
          [
           "T34_1000_feas_em",
           "IMAGE 3.2"
          ],
          [
           "T34_1000_feas_em",
           "IMAGE 3.2"
          ],
          [
           "T34_1000_feas_em",
           "IMAGE 3.2"
          ],
          [
           "T34_1000_feas_em",
           "IMAGE 3.2"
          ],
          [
           "T34_1000_feas_em",
           "IMAGE 3.2"
          ],
          [
           "T34_1000_feas_em",
           "IMAGE 3.2"
          ],
          [
           "T34_1000_feas_em",
           "IMAGE 3.2"
          ],
          [
           "T34_1000_feas_em",
           "IMAGE 3.2"
          ],
          [
           "T34_1000_feas_em",
           "IMAGE 3.2"
          ],
          [
           "T34_1000_feas_em",
           "IMAGE 3.2"
          ],
          [
           "T34_1000_feas_em",
           "IMAGE 3.2"
          ],
          [
           "T34_1000_feas_em",
           "IMAGE 3.2"
          ],
          [
           "T34_1000_feas_em",
           "IMAGE 3.2"
          ],
          [
           "T34_1000_feas_em",
           "IMAGE 3.2"
          ],
          [
           "T34_1000_feas_em",
           "IMAGE 3.2"
          ],
          [
           "T34_1000_feas_em",
           "IMAGE 3.2"
          ]
         ],
         "hovertemplate": "region=China<br>model=%{customdata[1]}<br>scenario_narrative=Tech+Inst+Enab<br>year=%{x}<br>Emissions|Kyoto Gases=%{y}<br>scenario=%{customdata[0]}<extra></extra>",
         "legendgroup": "China, IMAGE 3.2",
         "line": {
          "color": "#636efa",
          "dash": "longdash"
         },
         "marker": {
          "symbol": "circle"
         },
         "mode": "lines",
         "name": "China, IMAGE 3.2",
         "showlegend": false,
         "type": "scattergl",
         "x": [
          2005,
          2010,
          2015,
          2020,
          2025,
          2030,
          2035,
          2040,
          2045,
          2050,
          2055,
          2060,
          2065,
          2070,
          2075,
          2080,
          2085,
          2090,
          2095,
          2100
         ],
         "xaxis": "x5",
         "y": [
          8140.7578125,
          11168.900390625,
          13065.009765625,
          14795.0703125,
          13593.9501953125,
          12215.900390625,
          10380.6103515625,
          7583.1572265625,
          3724.248046875,
          2471.48291015625,
          1493.5240478515625,
          1025.56005859375,
          783.7214965820312,
          723.130126953125,
          336.5032043457031,
          403.9796142578125,
          354.21429443359375,
          505.2943115234375,
          519.406982421875,
          625.1370239257812
         ],
         "yaxis": "y5"
        },
        {
         "customdata": [
          [
           "T34_1000_govem",
           "IMAGE 3.2"
          ],
          [
           "T34_1000_govem",
           "IMAGE 3.2"
          ],
          [
           "T34_1000_govem",
           "IMAGE 3.2"
          ],
          [
           "T34_1000_govem",
           "IMAGE 3.2"
          ],
          [
           "T34_1000_govem",
           "IMAGE 3.2"
          ],
          [
           "T34_1000_govem",
           "IMAGE 3.2"
          ],
          [
           "T34_1000_govem",
           "IMAGE 3.2"
          ],
          [
           "T34_1000_govem",
           "IMAGE 3.2"
          ],
          [
           "T34_1000_govem",
           "IMAGE 3.2"
          ],
          [
           "T34_1000_govem",
           "IMAGE 3.2"
          ],
          [
           "T34_1000_govem",
           "IMAGE 3.2"
          ],
          [
           "T34_1000_govem",
           "IMAGE 3.2"
          ],
          [
           "T34_1000_govem",
           "IMAGE 3.2"
          ],
          [
           "T34_1000_govem",
           "IMAGE 3.2"
          ],
          [
           "T34_1000_govem",
           "IMAGE 3.2"
          ],
          [
           "T34_1000_govem",
           "IMAGE 3.2"
          ],
          [
           "T34_1000_govem",
           "IMAGE 3.2"
          ],
          [
           "T34_1000_govem",
           "IMAGE 3.2"
          ],
          [
           "T34_1000_govem",
           "IMAGE 3.2"
          ],
          [
           "T34_1000_govem",
           "IMAGE 3.2"
          ]
         ],
         "hovertemplate": "region=China<br>model=%{customdata[1]}<br>scenario_narrative=Instit<br>year=%{x}<br>Emissions|Kyoto Gases=%{y}<br>scenario=%{customdata[0]}<extra></extra>",
         "legendgroup": "China, IMAGE 3.2",
         "line": {
          "color": "#636efa",
          "dash": "longdash"
         },
         "marker": {
          "symbol": "circle"
         },
         "mode": "lines",
         "name": "China, IMAGE 3.2",
         "showlegend": false,
         "type": "scattergl",
         "x": [
          2005,
          2010,
          2015,
          2020,
          2025,
          2030,
          2035,
          2040,
          2045,
          2050,
          2055,
          2060,
          2065,
          2070,
          2075,
          2080,
          2085,
          2090,
          2095,
          2100
         ],
         "xaxis": "x6",
         "y": [
          8140.7578125,
          11169.23046875,
          13067.4501953125,
          15066.849609375,
          15042.2998046875,
          14216.5,
          11795.990234375,
          7882.01416015625,
          4211.18603515625,
          2481.39404296875,
          1687.405029296875,
          1470.9439697265625,
          1221,
          1126.3330078125,
          823.7053833007812,
          633.7338256835938,
          474.2572021484375,
          590.9829711914062,
          411.6817932128906,
          391.2406921386719
         ],
         "yaxis": "y6"
        },
        {
         "customdata": [
          [
           "T34_1000_ref",
           "IMAGE 3.2"
          ],
          [
           "T34_1000_ref",
           "IMAGE 3.2"
          ],
          [
           "T34_1000_ref",
           "IMAGE 3.2"
          ],
          [
           "T34_1000_ref",
           "IMAGE 3.2"
          ],
          [
           "T34_1000_ref",
           "IMAGE 3.2"
          ],
          [
           "T34_1000_ref",
           "IMAGE 3.2"
          ],
          [
           "T34_1000_ref",
           "IMAGE 3.2"
          ],
          [
           "T34_1000_ref",
           "IMAGE 3.2"
          ],
          [
           "T34_1000_ref",
           "IMAGE 3.2"
          ],
          [
           "T34_1000_ref",
           "IMAGE 3.2"
          ],
          [
           "T34_1000_ref",
           "IMAGE 3.2"
          ],
          [
           "T34_1000_ref",
           "IMAGE 3.2"
          ],
          [
           "T34_1000_ref",
           "IMAGE 3.2"
          ],
          [
           "T34_1000_ref",
           "IMAGE 3.2"
          ],
          [
           "T34_1000_ref",
           "IMAGE 3.2"
          ],
          [
           "T34_1000_ref",
           "IMAGE 3.2"
          ],
          [
           "T34_1000_ref",
           "IMAGE 3.2"
          ],
          [
           "T34_1000_ref",
           "IMAGE 3.2"
          ],
          [
           "T34_1000_ref",
           "IMAGE 3.2"
          ],
          [
           "T34_1000_ref",
           "IMAGE 3.2"
          ]
         ],
         "hovertemplate": "region=China<br>model=%{customdata[1]}<br>scenario_narrative=Cost Effective<br>year=%{x}<br>Emissions|Kyoto Gases=%{y}<br>scenario=%{customdata[0]}<extra></extra>",
         "legendgroup": "China, IMAGE 3.2",
         "line": {
          "color": "#636efa",
          "dash": "longdash"
         },
         "marker": {
          "symbol": "circle"
         },
         "mode": "lines",
         "name": "China, IMAGE 3.2",
         "showlegend": false,
         "type": "scattergl",
         "x": [
          2005,
          2010,
          2015,
          2020,
          2025,
          2030,
          2035,
          2040,
          2045,
          2050,
          2055,
          2060,
          2065,
          2070,
          2075,
          2080,
          2085,
          2090,
          2095,
          2100
         ],
         "xaxis": "x",
         "y": [
          8140.7578125,
          11169.23046875,
          13067.4501953125,
          15066.849609375,
          14937.1298828125,
          12877.3603515625,
          9686.6689453125,
          6945.51123046875,
          4890.4541015625,
          2760.697021484375,
          1940.427001953125,
          1894.5760498046875,
          1732.009033203125,
          1597.9010009765625,
          1317.1639404296875,
          1233.8680419921875,
          1029.31103515625,
          1150.1209716796875,
          1073.248046875,
          1061.4530029296875
         ],
         "yaxis": "y"
        },
        {
         "customdata": [
          [
           "T34_1000_bitb_ref",
           "IMAGE 3.2"
          ],
          [
           "T34_1000_bitb_ref",
           "IMAGE 3.2"
          ],
          [
           "T34_1000_bitb_ref",
           "IMAGE 3.2"
          ],
          [
           "T34_1000_bitb_ref",
           "IMAGE 3.2"
          ],
          [
           "T34_1000_bitb_ref",
           "IMAGE 3.2"
          ],
          [
           "T34_1000_bitb_ref",
           "IMAGE 3.2"
          ],
          [
           "T34_1000_bitb_ref",
           "IMAGE 3.2"
          ],
          [
           "T34_1000_bitb_ref",
           "IMAGE 3.2"
          ],
          [
           "T34_1000_bitb_ref",
           "IMAGE 3.2"
          ],
          [
           "T34_1000_bitb_ref",
           "IMAGE 3.2"
          ],
          [
           "T34_1000_bitb_ref",
           "IMAGE 3.2"
          ],
          [
           "T34_1000_bitb_ref",
           "IMAGE 3.2"
          ],
          [
           "T34_1000_bitb_ref",
           "IMAGE 3.2"
          ],
          [
           "T34_1000_bitb_ref",
           "IMAGE 3.2"
          ],
          [
           "T34_1000_bitb_ref",
           "IMAGE 3.2"
          ],
          [
           "T34_1000_bitb_ref",
           "IMAGE 3.2"
          ],
          [
           "T34_1000_bitb_ref",
           "IMAGE 3.2"
          ],
          [
           "T34_1000_bitb_ref",
           "IMAGE 3.2"
          ],
          [
           "T34_1000_bitb_ref",
           "IMAGE 3.2"
          ],
          [
           "T34_1000_bitb_ref",
           "IMAGE 3.2"
          ]
         ],
         "hovertemplate": "region=China<br>model=%{customdata[1]}<br>scenario_narrative=Tech<br>year=%{x}<br>Emissions|Kyoto Gases=%{y}<br>scenario=%{customdata[0]}<extra></extra>",
         "legendgroup": "China, IMAGE 3.2",
         "line": {
          "color": "#636efa",
          "dash": "longdash"
         },
         "marker": {
          "symbol": "circle"
         },
         "mode": "lines",
         "name": "China, IMAGE 3.2",
         "showlegend": false,
         "type": "scattergl",
         "x": [
          2005,
          2010,
          2015,
          2020,
          2025,
          2030,
          2035,
          2040,
          2045,
          2050,
          2055,
          2060,
          2065,
          2070,
          2075,
          2080,
          2085,
          2090,
          2095,
          2100
         ],
         "xaxis": "x2",
         "y": [
          8140.7578125,
          11169.23046875,
          13067.4501953125,
          15067.1796875,
          12797.5,
          10143.8095703125,
          7160.1259765625,
          5364.330078125,
          3945.337890625,
          3196.93701171875,
          2376.85791015625,
          2126.992919921875,
          1967.532958984375,
          1803.4859619140625,
          1390.364990234375,
          1343.7259521484375,
          1011.7949829101562,
          867.6917724609375,
          814.9779052734375,
          842.1641845703125
         ],
         "yaxis": "y2"
        },
        {
         "customdata": [
          [
           "T34_1000_bitb_em",
           "MESSAGEix-GLOBIOM_1.1"
          ],
          [
           "T34_1000_bitb_em",
           "MESSAGEix-GLOBIOM_1.1"
          ],
          [
           "T34_1000_bitb_em",
           "MESSAGEix-GLOBIOM_1.1"
          ],
          [
           "T34_1000_bitb_em",
           "MESSAGEix-GLOBIOM_1.1"
          ],
          [
           "T34_1000_bitb_em",
           "MESSAGEix-GLOBIOM_1.1"
          ],
          [
           "T34_1000_bitb_em",
           "MESSAGEix-GLOBIOM_1.1"
          ],
          [
           "T34_1000_bitb_em",
           "MESSAGEix-GLOBIOM_1.1"
          ],
          [
           "T34_1000_bitb_em",
           "MESSAGEix-GLOBIOM_1.1"
          ],
          [
           "T34_1000_bitb_em",
           "MESSAGEix-GLOBIOM_1.1"
          ],
          [
           "T34_1000_bitb_em",
           "MESSAGEix-GLOBIOM_1.1"
          ],
          [
           "T34_1000_bitb_em",
           "MESSAGEix-GLOBIOM_1.1"
          ],
          [
           "T34_1000_bitb_em",
           "MESSAGEix-GLOBIOM_1.1"
          ],
          [
           "T34_1000_bitb_em",
           "MESSAGEix-GLOBIOM_1.1"
          ],
          [
           "T34_1000_bitb_em",
           "MESSAGEix-GLOBIOM_1.1"
          ],
          [
           "T34_1000_bitb_em",
           "MESSAGEix-GLOBIOM_1.1"
          ],
          [
           "T34_1000_bitb_em",
           "MESSAGEix-GLOBIOM_1.1"
          ],
          [
           "T34_1000_bitb_em",
           "MESSAGEix-GLOBIOM_1.1"
          ],
          [
           "T34_1000_bitb_em",
           "MESSAGEix-GLOBIOM_1.1"
          ],
          [
           "T34_1000_bitb_em",
           "MESSAGEix-GLOBIOM_1.1"
          ],
          [
           "T34_1000_bitb_em",
           "MESSAGEix-GLOBIOM_1.1"
          ]
         ],
         "hovertemplate": "region=China<br>model=%{customdata[1]}<br>scenario_narrative=Tech+Inst<br>year=%{x}<br>Emissions|Kyoto Gases=%{y}<br>scenario=%{customdata[0]}<extra></extra>",
         "legendgroup": "China, MESSAGEix-GLOBIOM_1.1",
         "line": {
          "color": "#636efa",
          "dash": "dashdot"
         },
         "marker": {
          "symbol": "circle"
         },
         "mode": "lines",
         "name": "China, MESSAGEix-GLOBIOM_1.1",
         "showlegend": true,
         "type": "scattergl",
         "x": [
          1990,
          1995,
          2000,
          2005,
          2010,
          2015,
          2020,
          2025,
          2030,
          2035,
          2040,
          2045,
          2050,
          2055,
          2060,
          2070,
          2080,
          2090,
          2100,
          2110
         ],
         "xaxis": "x4",
         "y": [
          4212.030145,
          4827.087527666667,
          5319.001351333333,
          8021.199838333333,
          10609.42741166667,
          13516.42659,
          14656.0049284386,
          14358.30761654974,
          12238.3713731375,
          9708.140230246529,
          7826.230762276159,
          4498.451894521331,
          3175.180408369573,
          1958.150480916865,
          1376.864407240615,
          540.2971975344351,
          463.2156909051053,
          453.7524625785104,
          396.0863873653806,
          259.7976645661033
         ],
         "yaxis": "y4"
        },
        {
         "customdata": [
          [
           "T34_1000_feas_em",
           "MESSAGEix-GLOBIOM_1.1"
          ],
          [
           "T34_1000_feas_em",
           "MESSAGEix-GLOBIOM_1.1"
          ],
          [
           "T34_1000_feas_em",
           "MESSAGEix-GLOBIOM_1.1"
          ],
          [
           "T34_1000_feas_em",
           "MESSAGEix-GLOBIOM_1.1"
          ],
          [
           "T34_1000_feas_em",
           "MESSAGEix-GLOBIOM_1.1"
          ],
          [
           "T34_1000_feas_em",
           "MESSAGEix-GLOBIOM_1.1"
          ],
          [
           "T34_1000_feas_em",
           "MESSAGEix-GLOBIOM_1.1"
          ],
          [
           "T34_1000_feas_em",
           "MESSAGEix-GLOBIOM_1.1"
          ],
          [
           "T34_1000_feas_em",
           "MESSAGEix-GLOBIOM_1.1"
          ],
          [
           "T34_1000_feas_em",
           "MESSAGEix-GLOBIOM_1.1"
          ],
          [
           "T34_1000_feas_em",
           "MESSAGEix-GLOBIOM_1.1"
          ],
          [
           "T34_1000_feas_em",
           "MESSAGEix-GLOBIOM_1.1"
          ],
          [
           "T34_1000_feas_em",
           "MESSAGEix-GLOBIOM_1.1"
          ],
          [
           "T34_1000_feas_em",
           "MESSAGEix-GLOBIOM_1.1"
          ],
          [
           "T34_1000_feas_em",
           "MESSAGEix-GLOBIOM_1.1"
          ],
          [
           "T34_1000_feas_em",
           "MESSAGEix-GLOBIOM_1.1"
          ],
          [
           "T34_1000_feas_em",
           "MESSAGEix-GLOBIOM_1.1"
          ],
          [
           "T34_1000_feas_em",
           "MESSAGEix-GLOBIOM_1.1"
          ],
          [
           "T34_1000_feas_em",
           "MESSAGEix-GLOBIOM_1.1"
          ],
          [
           "T34_1000_feas_em",
           "MESSAGEix-GLOBIOM_1.1"
          ]
         ],
         "hovertemplate": "region=China<br>model=%{customdata[1]}<br>scenario_narrative=Tech+Inst+Enab<br>year=%{x}<br>Emissions|Kyoto Gases=%{y}<br>scenario=%{customdata[0]}<extra></extra>",
         "legendgroup": "China, MESSAGEix-GLOBIOM_1.1",
         "line": {
          "color": "#636efa",
          "dash": "dashdot"
         },
         "marker": {
          "symbol": "circle"
         },
         "mode": "lines",
         "name": "China, MESSAGEix-GLOBIOM_1.1",
         "showlegend": false,
         "type": "scattergl",
         "x": [
          1990,
          1995,
          2000,
          2005,
          2010,
          2015,
          2020,
          2025,
          2030,
          2035,
          2040,
          2045,
          2050,
          2055,
          2060,
          2070,
          2080,
          2090,
          2100,
          2110
         ],
         "xaxis": "x5",
         "y": [
          4212.030145,
          4827.087527666667,
          5319.001351333333,
          8021.199838333333,
          10609.42741166667,
          13516.42659,
          14656.0049284386,
          14358.30761654974,
          12282.36623871207,
          9684.7696925098,
          7800.727270749478,
          4430.48724857962,
          3076.509184872714,
          1878.609034813015,
          1215.268394616488,
          206.9953530154665,
          -65.79917369713661,
          -436.5838986423951,
          -638.6243625931942,
          -670.916017724784
         ],
         "yaxis": "y5"
        },
        {
         "customdata": [
          [
           "T34_1000_govem",
           "MESSAGEix-GLOBIOM_1.1"
          ],
          [
           "T34_1000_govem",
           "MESSAGEix-GLOBIOM_1.1"
          ],
          [
           "T34_1000_govem",
           "MESSAGEix-GLOBIOM_1.1"
          ],
          [
           "T34_1000_govem",
           "MESSAGEix-GLOBIOM_1.1"
          ],
          [
           "T34_1000_govem",
           "MESSAGEix-GLOBIOM_1.1"
          ],
          [
           "T34_1000_govem",
           "MESSAGEix-GLOBIOM_1.1"
          ],
          [
           "T34_1000_govem",
           "MESSAGEix-GLOBIOM_1.1"
          ],
          [
           "T34_1000_govem",
           "MESSAGEix-GLOBIOM_1.1"
          ],
          [
           "T34_1000_govem",
           "MESSAGEix-GLOBIOM_1.1"
          ],
          [
           "T34_1000_govem",
           "MESSAGEix-GLOBIOM_1.1"
          ],
          [
           "T34_1000_govem",
           "MESSAGEix-GLOBIOM_1.1"
          ],
          [
           "T34_1000_govem",
           "MESSAGEix-GLOBIOM_1.1"
          ],
          [
           "T34_1000_govem",
           "MESSAGEix-GLOBIOM_1.1"
          ],
          [
           "T34_1000_govem",
           "MESSAGEix-GLOBIOM_1.1"
          ],
          [
           "T34_1000_govem",
           "MESSAGEix-GLOBIOM_1.1"
          ],
          [
           "T34_1000_govem",
           "MESSAGEix-GLOBIOM_1.1"
          ],
          [
           "T34_1000_govem",
           "MESSAGEix-GLOBIOM_1.1"
          ],
          [
           "T34_1000_govem",
           "MESSAGEix-GLOBIOM_1.1"
          ],
          [
           "T34_1000_govem",
           "MESSAGEix-GLOBIOM_1.1"
          ],
          [
           "T34_1000_govem",
           "MESSAGEix-GLOBIOM_1.1"
          ]
         ],
         "hovertemplate": "region=China<br>model=%{customdata[1]}<br>scenario_narrative=Instit<br>year=%{x}<br>Emissions|Kyoto Gases=%{y}<br>scenario=%{customdata[0]}<extra></extra>",
         "legendgroup": "China, MESSAGEix-GLOBIOM_1.1",
         "line": {
          "color": "#636efa",
          "dash": "dashdot"
         },
         "marker": {
          "symbol": "circle"
         },
         "mode": "lines",
         "name": "China, MESSAGEix-GLOBIOM_1.1",
         "showlegend": false,
         "type": "scattergl",
         "x": [
          1990,
          1995,
          2000,
          2005,
          2010,
          2015,
          2020,
          2025,
          2030,
          2035,
          2040,
          2045,
          2050,
          2055,
          2060,
          2070,
          2080,
          2090,
          2100,
          2110
         ],
         "xaxis": "x6",
         "y": [
          4212.030145,
          4827.087527666667,
          5319.001351333333,
          8021.199838333333,
          10609.42741166667,
          13516.42659,
          14656.0049284386,
          14358.30761654974,
          12256.22671675439,
          9727.027734090776,
          7839.921531841076,
          4677.160702621878,
          3353.880720389157,
          2176.868937842211,
          1672.44671919572,
          731.5175531944893,
          482.8942980686081,
          317.5701302092947,
          185.9333124591737,
          1.7619376406632452
         ],
         "yaxis": "y6"
        },
        {
         "customdata": [
          [
           "T34_1000_ref",
           "MESSAGEix-GLOBIOM_1.1"
          ],
          [
           "T34_1000_ref",
           "MESSAGEix-GLOBIOM_1.1"
          ],
          [
           "T34_1000_ref",
           "MESSAGEix-GLOBIOM_1.1"
          ],
          [
           "T34_1000_ref",
           "MESSAGEix-GLOBIOM_1.1"
          ],
          [
           "T34_1000_ref",
           "MESSAGEix-GLOBIOM_1.1"
          ],
          [
           "T34_1000_ref",
           "MESSAGEix-GLOBIOM_1.1"
          ],
          [
           "T34_1000_ref",
           "MESSAGEix-GLOBIOM_1.1"
          ],
          [
           "T34_1000_ref",
           "MESSAGEix-GLOBIOM_1.1"
          ],
          [
           "T34_1000_ref",
           "MESSAGEix-GLOBIOM_1.1"
          ],
          [
           "T34_1000_ref",
           "MESSAGEix-GLOBIOM_1.1"
          ],
          [
           "T34_1000_ref",
           "MESSAGEix-GLOBIOM_1.1"
          ],
          [
           "T34_1000_ref",
           "MESSAGEix-GLOBIOM_1.1"
          ],
          [
           "T34_1000_ref",
           "MESSAGEix-GLOBIOM_1.1"
          ],
          [
           "T34_1000_ref",
           "MESSAGEix-GLOBIOM_1.1"
          ],
          [
           "T34_1000_ref",
           "MESSAGEix-GLOBIOM_1.1"
          ],
          [
           "T34_1000_ref",
           "MESSAGEix-GLOBIOM_1.1"
          ],
          [
           "T34_1000_ref",
           "MESSAGEix-GLOBIOM_1.1"
          ],
          [
           "T34_1000_ref",
           "MESSAGEix-GLOBIOM_1.1"
          ],
          [
           "T34_1000_ref",
           "MESSAGEix-GLOBIOM_1.1"
          ],
          [
           "T34_1000_ref",
           "MESSAGEix-GLOBIOM_1.1"
          ]
         ],
         "hovertemplate": "region=China<br>model=%{customdata[1]}<br>scenario_narrative=Cost Effective<br>year=%{x}<br>Emissions|Kyoto Gases=%{y}<br>scenario=%{customdata[0]}<extra></extra>",
         "legendgroup": "China, MESSAGEix-GLOBIOM_1.1",
         "line": {
          "color": "#636efa",
          "dash": "dashdot"
         },
         "marker": {
          "symbol": "circle"
         },
         "mode": "lines",
         "name": "China, MESSAGEix-GLOBIOM_1.1",
         "showlegend": false,
         "type": "scattergl",
         "x": [
          1990,
          1995,
          2000,
          2005,
          2010,
          2015,
          2020,
          2025,
          2030,
          2035,
          2040,
          2045,
          2050,
          2055,
          2060,
          2070,
          2080,
          2090,
          2100,
          2110
         ],
         "xaxis": "x",
         "y": [
          4212.030145,
          4827.087527666667,
          5319.001351333333,
          8021.199838333333,
          10609.42741166667,
          13516.42659,
          14656.0049284386,
          14358.30761654974,
          9712.559872198355,
          8399.843665567927,
          6733.036718082532,
          5389.231487184066,
          4324.622649767169,
          3486.309720457889,
          2869.970959162777,
          1689.613350424223,
          1612.144234319904,
          1780.863605321822,
          1661.512148020115,
          1541.164689679207
         ],
         "yaxis": "y"
        },
        {
         "customdata": [
          [
           "T34_1000_bitb_ref",
           "MESSAGEix-GLOBIOM_1.1"
          ],
          [
           "T34_1000_bitb_ref",
           "MESSAGEix-GLOBIOM_1.1"
          ],
          [
           "T34_1000_bitb_ref",
           "MESSAGEix-GLOBIOM_1.1"
          ],
          [
           "T34_1000_bitb_ref",
           "MESSAGEix-GLOBIOM_1.1"
          ],
          [
           "T34_1000_bitb_ref",
           "MESSAGEix-GLOBIOM_1.1"
          ],
          [
           "T34_1000_bitb_ref",
           "MESSAGEix-GLOBIOM_1.1"
          ],
          [
           "T34_1000_bitb_ref",
           "MESSAGEix-GLOBIOM_1.1"
          ],
          [
           "T34_1000_bitb_ref",
           "MESSAGEix-GLOBIOM_1.1"
          ],
          [
           "T34_1000_bitb_ref",
           "MESSAGEix-GLOBIOM_1.1"
          ],
          [
           "T34_1000_bitb_ref",
           "MESSAGEix-GLOBIOM_1.1"
          ],
          [
           "T34_1000_bitb_ref",
           "MESSAGEix-GLOBIOM_1.1"
          ],
          [
           "T34_1000_bitb_ref",
           "MESSAGEix-GLOBIOM_1.1"
          ],
          [
           "T34_1000_bitb_ref",
           "MESSAGEix-GLOBIOM_1.1"
          ],
          [
           "T34_1000_bitb_ref",
           "MESSAGEix-GLOBIOM_1.1"
          ],
          [
           "T34_1000_bitb_ref",
           "MESSAGEix-GLOBIOM_1.1"
          ],
          [
           "T34_1000_bitb_ref",
           "MESSAGEix-GLOBIOM_1.1"
          ],
          [
           "T34_1000_bitb_ref",
           "MESSAGEix-GLOBIOM_1.1"
          ],
          [
           "T34_1000_bitb_ref",
           "MESSAGEix-GLOBIOM_1.1"
          ],
          [
           "T34_1000_bitb_ref",
           "MESSAGEix-GLOBIOM_1.1"
          ],
          [
           "T34_1000_bitb_ref",
           "MESSAGEix-GLOBIOM_1.1"
          ]
         ],
         "hovertemplate": "region=China<br>model=%{customdata[1]}<br>scenario_narrative=Tech<br>year=%{x}<br>Emissions|Kyoto Gases=%{y}<br>scenario=%{customdata[0]}<extra></extra>",
         "legendgroup": "China, MESSAGEix-GLOBIOM_1.1",
         "line": {
          "color": "#636efa",
          "dash": "dashdot"
         },
         "marker": {
          "symbol": "circle"
         },
         "mode": "lines",
         "name": "China, MESSAGEix-GLOBIOM_1.1",
         "showlegend": false,
         "type": "scattergl",
         "x": [
          1990,
          1995,
          2000,
          2005,
          2010,
          2015,
          2020,
          2025,
          2030,
          2035,
          2040,
          2045,
          2050,
          2055,
          2060,
          2070,
          2080,
          2090,
          2100,
          2110
         ],
         "xaxis": "x2",
         "y": [
          4212.030145,
          4827.087527666667,
          5319.001351333333,
          8021.199838333333,
          10609.42741166667,
          13516.42659,
          14656.0049284386,
          14358.30761654974,
          9701.026998006024,
          8280.707085704538,
          6658.741525991119,
          5317.667267978403,
          4303.500204843016,
          3524.987589732321,
          2988.494386958535,
          1824.80666376126,
          1590.637194536518,
          1551.94873591577,
          1478.616239603973,
          1370.999107555267
         ],
         "yaxis": "y2"
        },
        {
         "customdata": [
          [
           "T34_1000_enab_em",
           "MESSAGEix-GLOBIOM_1.1"
          ],
          [
           "T34_1000_enab_em",
           "MESSAGEix-GLOBIOM_1.1"
          ],
          [
           "T34_1000_enab_em",
           "MESSAGEix-GLOBIOM_1.1"
          ],
          [
           "T34_1000_enab_em",
           "MESSAGEix-GLOBIOM_1.1"
          ],
          [
           "T34_1000_enab_em",
           "MESSAGEix-GLOBIOM_1.1"
          ],
          [
           "T34_1000_enab_em",
           "MESSAGEix-GLOBIOM_1.1"
          ],
          [
           "T34_1000_enab_em",
           "MESSAGEix-GLOBIOM_1.1"
          ],
          [
           "T34_1000_enab_em",
           "MESSAGEix-GLOBIOM_1.1"
          ],
          [
           "T34_1000_enab_em",
           "MESSAGEix-GLOBIOM_1.1"
          ],
          [
           "T34_1000_enab_em",
           "MESSAGEix-GLOBIOM_1.1"
          ],
          [
           "T34_1000_enab_em",
           "MESSAGEix-GLOBIOM_1.1"
          ],
          [
           "T34_1000_enab_em",
           "MESSAGEix-GLOBIOM_1.1"
          ],
          [
           "T34_1000_enab_em",
           "MESSAGEix-GLOBIOM_1.1"
          ],
          [
           "T34_1000_enab_em",
           "MESSAGEix-GLOBIOM_1.1"
          ],
          [
           "T34_1000_enab_em",
           "MESSAGEix-GLOBIOM_1.1"
          ],
          [
           "T34_1000_enab_em",
           "MESSAGEix-GLOBIOM_1.1"
          ],
          [
           "T34_1000_enab_em",
           "MESSAGEix-GLOBIOM_1.1"
          ],
          [
           "T34_1000_enab_em",
           "MESSAGEix-GLOBIOM_1.1"
          ],
          [
           "T34_1000_enab_em",
           "MESSAGEix-GLOBIOM_1.1"
          ],
          [
           "T34_1000_enab_em",
           "MESSAGEix-GLOBIOM_1.1"
          ]
         ],
         "hovertemplate": "region=China<br>model=%{customdata[1]}<br>scenario_narrative=Inst+Enab<br>year=%{x}<br>Emissions|Kyoto Gases=%{y}<br>scenario=%{customdata[0]}<extra></extra>",
         "legendgroup": "China, MESSAGEix-GLOBIOM_1.1",
         "line": {
          "color": "#636efa",
          "dash": "dashdot"
         },
         "marker": {
          "symbol": "circle"
         },
         "mode": "lines",
         "name": "China, MESSAGEix-GLOBIOM_1.1",
         "showlegend": false,
         "type": "scattergl",
         "x": [
          1990,
          1995,
          2000,
          2005,
          2010,
          2015,
          2020,
          2025,
          2030,
          2035,
          2040,
          2045,
          2050,
          2055,
          2060,
          2070,
          2080,
          2090,
          2100,
          2110
         ],
         "xaxis": "x3",
         "y": [
          4212.030145,
          4827.087527666667,
          5319.001351333333,
          8021.199838333333,
          10609.42741166667,
          13516.42659,
          14656.0049284386,
          14358.30761654974,
          12283.35238061406,
          9684.925890039976,
          7797.722989530455,
          4461.545080754471,
          3124.57808613942,
          1872.202075703391,
          1219.124704215587,
          202.0597728153783,
          -110.8611578219296,
          -493.6588904211436,
          -656.2744186952876,
          -679.6792931720712
         ],
         "yaxis": "y3"
        },
        {
         "customdata": [
          [
           "T34_1000_bitb_em",
           "POLES ENGAGE"
          ],
          [
           "T34_1000_bitb_em",
           "POLES ENGAGE"
          ],
          [
           "T34_1000_bitb_em",
           "POLES ENGAGE"
          ],
          [
           "T34_1000_bitb_em",
           "POLES ENGAGE"
          ],
          [
           "T34_1000_bitb_em",
           "POLES ENGAGE"
          ],
          [
           "T34_1000_bitb_em",
           "POLES ENGAGE"
          ],
          [
           "T34_1000_bitb_em",
           "POLES ENGAGE"
          ],
          [
           "T34_1000_bitb_em",
           "POLES ENGAGE"
          ],
          [
           "T34_1000_bitb_em",
           "POLES ENGAGE"
          ],
          [
           "T34_1000_bitb_em",
           "POLES ENGAGE"
          ],
          [
           "T34_1000_bitb_em",
           "POLES ENGAGE"
          ],
          [
           "T34_1000_bitb_em",
           "POLES ENGAGE"
          ],
          [
           "T34_1000_bitb_em",
           "POLES ENGAGE"
          ],
          [
           "T34_1000_bitb_em",
           "POLES ENGAGE"
          ],
          [
           "T34_1000_bitb_em",
           "POLES ENGAGE"
          ]
         ],
         "hovertemplate": "region=China<br>model=%{customdata[1]}<br>scenario_narrative=Tech+Inst<br>year=%{x}<br>Emissions|Kyoto Gases=%{y}<br>scenario=%{customdata[0]}<extra></extra>",
         "legendgroup": "China, POLES ENGAGE",
         "line": {
          "color": "#636efa",
          "dash": "longdashdot"
         },
         "marker": {
          "symbol": "circle"
         },
         "mode": "lines",
         "name": "China, POLES ENGAGE",
         "showlegend": true,
         "type": "scattergl",
         "x": [
          2005,
          2010,
          2015,
          2020,
          2025,
          2030,
          2035,
          2040,
          2045,
          2050,
          2060,
          2070,
          2080,
          2090,
          2100
         ],
         "xaxis": "x4",
         "y": [
          8326.1904296875,
          11513.0517578125,
          13178.15234375,
          14898.8916015625,
          13936.865234375,
          11691.060546875,
          9362.2138671875,
          7261.52880859375,
          4622.10205078125,
          2492.87451171875,
          772.8021850585938,
          -883.4584350585938,
          -914.324951171875,
          -532.68212890625,
          -816.5419921875
         ],
         "yaxis": "y4"
        },
        {
         "customdata": [
          [
           "T34_1000_feas_em",
           "POLES ENGAGE"
          ],
          [
           "T34_1000_feas_em",
           "POLES ENGAGE"
          ],
          [
           "T34_1000_feas_em",
           "POLES ENGAGE"
          ],
          [
           "T34_1000_feas_em",
           "POLES ENGAGE"
          ],
          [
           "T34_1000_feas_em",
           "POLES ENGAGE"
          ],
          [
           "T34_1000_feas_em",
           "POLES ENGAGE"
          ],
          [
           "T34_1000_feas_em",
           "POLES ENGAGE"
          ],
          [
           "T34_1000_feas_em",
           "POLES ENGAGE"
          ],
          [
           "T34_1000_feas_em",
           "POLES ENGAGE"
          ],
          [
           "T34_1000_feas_em",
           "POLES ENGAGE"
          ],
          [
           "T34_1000_feas_em",
           "POLES ENGAGE"
          ],
          [
           "T34_1000_feas_em",
           "POLES ENGAGE"
          ],
          [
           "T34_1000_feas_em",
           "POLES ENGAGE"
          ],
          [
           "T34_1000_feas_em",
           "POLES ENGAGE"
          ],
          [
           "T34_1000_feas_em",
           "POLES ENGAGE"
          ]
         ],
         "hovertemplate": "region=China<br>model=%{customdata[1]}<br>scenario_narrative=Tech+Inst+Enab<br>year=%{x}<br>Emissions|Kyoto Gases=%{y}<br>scenario=%{customdata[0]}<extra></extra>",
         "legendgroup": "China, POLES ENGAGE",
         "line": {
          "color": "#636efa",
          "dash": "longdashdot"
         },
         "marker": {
          "symbol": "circle"
         },
         "mode": "lines",
         "name": "China, POLES ENGAGE",
         "showlegend": false,
         "type": "scattergl",
         "x": [
          2005,
          2010,
          2015,
          2020,
          2025,
          2030,
          2035,
          2040,
          2045,
          2050,
          2060,
          2070,
          2080,
          2090,
          2100
         ],
         "xaxis": "x5",
         "y": [
          8326.1904296875,
          11513.0517578125,
          13178.15234375,
          14898.8916015625,
          14222.294921875,
          11766.513671875,
          8819.4697265625,
          6696.02490234375,
          4521.21240234375,
          2605.353759765625,
          1046.0128173828125,
          -1713.95654296875,
          -2569.881103515625,
          -1655.203125,
          601.1172485351562
         ],
         "yaxis": "y5"
        },
        {
         "customdata": [
          [
           "T34_1000_govem",
           "POLES ENGAGE"
          ],
          [
           "T34_1000_govem",
           "POLES ENGAGE"
          ],
          [
           "T34_1000_govem",
           "POLES ENGAGE"
          ],
          [
           "T34_1000_govem",
           "POLES ENGAGE"
          ],
          [
           "T34_1000_govem",
           "POLES ENGAGE"
          ],
          [
           "T34_1000_govem",
           "POLES ENGAGE"
          ],
          [
           "T34_1000_govem",
           "POLES ENGAGE"
          ],
          [
           "T34_1000_govem",
           "POLES ENGAGE"
          ],
          [
           "T34_1000_govem",
           "POLES ENGAGE"
          ],
          [
           "T34_1000_govem",
           "POLES ENGAGE"
          ],
          [
           "T34_1000_govem",
           "POLES ENGAGE"
          ],
          [
           "T34_1000_govem",
           "POLES ENGAGE"
          ],
          [
           "T34_1000_govem",
           "POLES ENGAGE"
          ],
          [
           "T34_1000_govem",
           "POLES ENGAGE"
          ],
          [
           "T34_1000_govem",
           "POLES ENGAGE"
          ]
         ],
         "hovertemplate": "region=China<br>model=%{customdata[1]}<br>scenario_narrative=Instit<br>year=%{x}<br>Emissions|Kyoto Gases=%{y}<br>scenario=%{customdata[0]}<extra></extra>",
         "legendgroup": "China, POLES ENGAGE",
         "line": {
          "color": "#636efa",
          "dash": "longdashdot"
         },
         "marker": {
          "symbol": "circle"
         },
         "mode": "lines",
         "name": "China, POLES ENGAGE",
         "showlegend": false,
         "type": "scattergl",
         "x": [
          2005,
          2010,
          2015,
          2020,
          2025,
          2030,
          2035,
          2040,
          2045,
          2050,
          2060,
          2070,
          2080,
          2090,
          2100
         ],
         "xaxis": "x6",
         "y": [
          8326.1904296875,
          11513.0517578125,
          13178.15234375,
          14898.8896484375,
          13944.568359375,
          11710.0537109375,
          9383.7666015625,
          7223.66162109375,
          4592.212890625,
          2448.35107421875,
          500.8511047363281,
          -905.1229858398438,
          -812.7600708007812,
          2931.167236328125,
          4946.65771484375
         ],
         "yaxis": "y6"
        },
        {
         "customdata": [
          [
           "T34_1000_ref",
           "POLES ENGAGE"
          ],
          [
           "T34_1000_ref",
           "POLES ENGAGE"
          ],
          [
           "T34_1000_ref",
           "POLES ENGAGE"
          ],
          [
           "T34_1000_ref",
           "POLES ENGAGE"
          ],
          [
           "T34_1000_ref",
           "POLES ENGAGE"
          ],
          [
           "T34_1000_ref",
           "POLES ENGAGE"
          ],
          [
           "T34_1000_ref",
           "POLES ENGAGE"
          ],
          [
           "T34_1000_ref",
           "POLES ENGAGE"
          ],
          [
           "T34_1000_ref",
           "POLES ENGAGE"
          ],
          [
           "T34_1000_ref",
           "POLES ENGAGE"
          ],
          [
           "T34_1000_ref",
           "POLES ENGAGE"
          ],
          [
           "T34_1000_ref",
           "POLES ENGAGE"
          ],
          [
           "T34_1000_ref",
           "POLES ENGAGE"
          ],
          [
           "T34_1000_ref",
           "POLES ENGAGE"
          ],
          [
           "T34_1000_ref",
           "POLES ENGAGE"
          ]
         ],
         "hovertemplate": "region=China<br>model=%{customdata[1]}<br>scenario_narrative=Cost Effective<br>year=%{x}<br>Emissions|Kyoto Gases=%{y}<br>scenario=%{customdata[0]}<extra></extra>",
         "legendgroup": "China, POLES ENGAGE",
         "line": {
          "color": "#636efa",
          "dash": "longdashdot"
         },
         "marker": {
          "symbol": "circle"
         },
         "mode": "lines",
         "name": "China, POLES ENGAGE",
         "showlegend": false,
         "type": "scattergl",
         "x": [
          2005,
          2010,
          2015,
          2020,
          2025,
          2030,
          2035,
          2040,
          2045,
          2050,
          2060,
          2070,
          2080,
          2090,
          2100
         ],
         "xaxis": "x",
         "y": [
          8326.1904296875,
          11513.0517578125,
          13178.15234375,
          14898.8916015625,
          14070.625,
          11950.5810546875,
          9390.025390625,
          7422.15087890625,
          6102.02099609375,
          4293.10498046875,
          2961.25048828125,
          2349.540283203125,
          1402.81005859375,
          1086.016845703125,
          847.1149291992188
         ],
         "yaxis": "y"
        },
        {
         "customdata": [
          [
           "T34_1000_bitb_ref",
           "POLES ENGAGE"
          ],
          [
           "T34_1000_bitb_ref",
           "POLES ENGAGE"
          ],
          [
           "T34_1000_bitb_ref",
           "POLES ENGAGE"
          ],
          [
           "T34_1000_bitb_ref",
           "POLES ENGAGE"
          ],
          [
           "T34_1000_bitb_ref",
           "POLES ENGAGE"
          ],
          [
           "T34_1000_bitb_ref",
           "POLES ENGAGE"
          ],
          [
           "T34_1000_bitb_ref",
           "POLES ENGAGE"
          ],
          [
           "T34_1000_bitb_ref",
           "POLES ENGAGE"
          ],
          [
           "T34_1000_bitb_ref",
           "POLES ENGAGE"
          ],
          [
           "T34_1000_bitb_ref",
           "POLES ENGAGE"
          ],
          [
           "T34_1000_bitb_ref",
           "POLES ENGAGE"
          ],
          [
           "T34_1000_bitb_ref",
           "POLES ENGAGE"
          ],
          [
           "T34_1000_bitb_ref",
           "POLES ENGAGE"
          ],
          [
           "T34_1000_bitb_ref",
           "POLES ENGAGE"
          ],
          [
           "T34_1000_bitb_ref",
           "POLES ENGAGE"
          ]
         ],
         "hovertemplate": "region=China<br>model=%{customdata[1]}<br>scenario_narrative=Tech<br>year=%{x}<br>Emissions|Kyoto Gases=%{y}<br>scenario=%{customdata[0]}<extra></extra>",
         "legendgroup": "China, POLES ENGAGE",
         "line": {
          "color": "#636efa",
          "dash": "longdashdot"
         },
         "marker": {
          "symbol": "circle"
         },
         "mode": "lines",
         "name": "China, POLES ENGAGE",
         "showlegend": false,
         "type": "scattergl",
         "x": [
          2005,
          2010,
          2015,
          2020,
          2025,
          2030,
          2035,
          2040,
          2045,
          2050,
          2060,
          2070,
          2080,
          2090,
          2100
         ],
         "xaxis": "x2",
         "y": [
          8326.1904296875,
          11513.0517578125,
          13178.15234375,
          14814.7216796875,
          14396.4208984375,
          12979.2001953125,
          12440.40625,
          10654.30859375,
          8407.8876953125,
          6371.83837890625,
          4280.7783203125,
          1972.7490234375,
          602.8054809570312,
          -249.23275756835938,
          -866.2032470703125
         ],
         "yaxis": "y2"
        },
        {
         "customdata": [
          [
           "T34_1000_bitb_em",
           "REMIND 3.0"
          ],
          [
           "T34_1000_bitb_em",
           "REMIND 3.0"
          ],
          [
           "T34_1000_bitb_em",
           "REMIND 3.0"
          ],
          [
           "T34_1000_bitb_em",
           "REMIND 3.0"
          ],
          [
           "T34_1000_bitb_em",
           "REMIND 3.0"
          ],
          [
           "T34_1000_bitb_em",
           "REMIND 3.0"
          ],
          [
           "T34_1000_bitb_em",
           "REMIND 3.0"
          ],
          [
           "T34_1000_bitb_em",
           "REMIND 3.0"
          ],
          [
           "T34_1000_bitb_em",
           "REMIND 3.0"
          ],
          [
           "T34_1000_bitb_em",
           "REMIND 3.0"
          ],
          [
           "T34_1000_bitb_em",
           "REMIND 3.0"
          ],
          [
           "T34_1000_bitb_em",
           "REMIND 3.0"
          ],
          [
           "T34_1000_bitb_em",
           "REMIND 3.0"
          ],
          [
           "T34_1000_bitb_em",
           "REMIND 3.0"
          ],
          [
           "T34_1000_bitb_em",
           "REMIND 3.0"
          ],
          [
           "T34_1000_bitb_em",
           "REMIND 3.0"
          ]
         ],
         "hovertemplate": "region=China<br>model=%{customdata[1]}<br>scenario_narrative=Tech+Inst<br>year=%{x}<br>Emissions|Kyoto Gases=%{y}<br>scenario=%{customdata[0]}<extra></extra>",
         "legendgroup": "China, REMIND 3.0",
         "line": {
          "color": "#636efa",
          "dash": "solid"
         },
         "marker": {
          "symbol": "circle"
         },
         "mode": "lines",
         "name": "China, REMIND 3.0",
         "showlegend": true,
         "type": "scattergl",
         "x": [
          2005,
          2010,
          2015,
          2020,
          2025,
          2030,
          2035,
          2040,
          2045,
          2050,
          2055,
          2060,
          2070,
          2080,
          2090,
          2100
         ],
         "xaxis": "x4",
         "y": [
          9510.7522795,
          12127.3339175,
          14512.6400533,
          15340.9096905,
          14969.4053443,
          10015.3820573,
          6150.3669694,
          4248.8255191,
          2599.9347138,
          1634.9561065,
          1031.0292555,
          695.9074103,
          127.2071578,
          -214.7312283,
          -224.6602933,
          180.138348
         ],
         "yaxis": "y4"
        },
        {
         "customdata": [
          [
           "T34_1000_feas_em",
           "REMIND 3.0"
          ],
          [
           "T34_1000_feas_em",
           "REMIND 3.0"
          ],
          [
           "T34_1000_feas_em",
           "REMIND 3.0"
          ],
          [
           "T34_1000_feas_em",
           "REMIND 3.0"
          ],
          [
           "T34_1000_feas_em",
           "REMIND 3.0"
          ],
          [
           "T34_1000_feas_em",
           "REMIND 3.0"
          ],
          [
           "T34_1000_feas_em",
           "REMIND 3.0"
          ],
          [
           "T34_1000_feas_em",
           "REMIND 3.0"
          ],
          [
           "T34_1000_feas_em",
           "REMIND 3.0"
          ],
          [
           "T34_1000_feas_em",
           "REMIND 3.0"
          ],
          [
           "T34_1000_feas_em",
           "REMIND 3.0"
          ],
          [
           "T34_1000_feas_em",
           "REMIND 3.0"
          ],
          [
           "T34_1000_feas_em",
           "REMIND 3.0"
          ],
          [
           "T34_1000_feas_em",
           "REMIND 3.0"
          ],
          [
           "T34_1000_feas_em",
           "REMIND 3.0"
          ],
          [
           "T34_1000_feas_em",
           "REMIND 3.0"
          ]
         ],
         "hovertemplate": "region=China<br>model=%{customdata[1]}<br>scenario_narrative=Tech+Inst+Enab<br>year=%{x}<br>Emissions|Kyoto Gases=%{y}<br>scenario=%{customdata[0]}<extra></extra>",
         "legendgroup": "China, REMIND 3.0",
         "line": {
          "color": "#636efa",
          "dash": "solid"
         },
         "marker": {
          "symbol": "circle"
         },
         "mode": "lines",
         "name": "China, REMIND 3.0",
         "showlegend": false,
         "type": "scattergl",
         "x": [
          2005,
          2010,
          2015,
          2020,
          2025,
          2030,
          2035,
          2040,
          2045,
          2050,
          2055,
          2060,
          2070,
          2080,
          2090,
          2100
         ],
         "xaxis": "x5",
         "y": [
          9510.7522795,
          12127.3339175,
          14512.6400533,
          15340.9096905,
          14759.2209607,
          9916.2991061,
          7270.3507074,
          4743.4859653,
          3269.1480979,
          2326.4343268,
          1733.2925197,
          1150.4791951,
          605.6933333,
          193.4572251,
          -47.3773054,
          184.8587377
         ],
         "yaxis": "y5"
        },
        {
         "customdata": [
          [
           "T34_1000_govem",
           "REMIND 3.0"
          ],
          [
           "T34_1000_govem",
           "REMIND 3.0"
          ],
          [
           "T34_1000_govem",
           "REMIND 3.0"
          ],
          [
           "T34_1000_govem",
           "REMIND 3.0"
          ],
          [
           "T34_1000_govem",
           "REMIND 3.0"
          ],
          [
           "T34_1000_govem",
           "REMIND 3.0"
          ],
          [
           "T34_1000_govem",
           "REMIND 3.0"
          ],
          [
           "T34_1000_govem",
           "REMIND 3.0"
          ],
          [
           "T34_1000_govem",
           "REMIND 3.0"
          ],
          [
           "T34_1000_govem",
           "REMIND 3.0"
          ],
          [
           "T34_1000_govem",
           "REMIND 3.0"
          ],
          [
           "T34_1000_govem",
           "REMIND 3.0"
          ],
          [
           "T34_1000_govem",
           "REMIND 3.0"
          ],
          [
           "T34_1000_govem",
           "REMIND 3.0"
          ],
          [
           "T34_1000_govem",
           "REMIND 3.0"
          ],
          [
           "T34_1000_govem",
           "REMIND 3.0"
          ]
         ],
         "hovertemplate": "region=China<br>model=%{customdata[1]}<br>scenario_narrative=Instit<br>year=%{x}<br>Emissions|Kyoto Gases=%{y}<br>scenario=%{customdata[0]}<extra></extra>",
         "legendgroup": "China, REMIND 3.0",
         "line": {
          "color": "#636efa",
          "dash": "solid"
         },
         "marker": {
          "symbol": "circle"
         },
         "mode": "lines",
         "name": "China, REMIND 3.0",
         "showlegend": false,
         "type": "scattergl",
         "x": [
          2005,
          2010,
          2015,
          2020,
          2025,
          2030,
          2035,
          2040,
          2045,
          2050,
          2055,
          2060,
          2070,
          2080,
          2090,
          2100
         ],
         "xaxis": "x6",
         "y": [
          9510.7522795,
          12127.3339175,
          14512.6400533,
          15340.9096905,
          14973.901773,
          10471.8109306,
          6721.1196926,
          4410.9873341,
          2679.2469972,
          1745.6699934,
          1036.0448008,
          619.3855044,
          -219.5075458,
          -536.6544651,
          -392.0888867,
          166.2055798
         ],
         "yaxis": "y6"
        },
        {
         "customdata": [
          [
           "T34_1000_ref",
           "REMIND 3.0"
          ],
          [
           "T34_1000_ref",
           "REMIND 3.0"
          ],
          [
           "T34_1000_ref",
           "REMIND 3.0"
          ],
          [
           "T34_1000_ref",
           "REMIND 3.0"
          ],
          [
           "T34_1000_ref",
           "REMIND 3.0"
          ],
          [
           "T34_1000_ref",
           "REMIND 3.0"
          ],
          [
           "T34_1000_ref",
           "REMIND 3.0"
          ],
          [
           "T34_1000_ref",
           "REMIND 3.0"
          ],
          [
           "T34_1000_ref",
           "REMIND 3.0"
          ],
          [
           "T34_1000_ref",
           "REMIND 3.0"
          ],
          [
           "T34_1000_ref",
           "REMIND 3.0"
          ],
          [
           "T34_1000_ref",
           "REMIND 3.0"
          ],
          [
           "T34_1000_ref",
           "REMIND 3.0"
          ],
          [
           "T34_1000_ref",
           "REMIND 3.0"
          ],
          [
           "T34_1000_ref",
           "REMIND 3.0"
          ],
          [
           "T34_1000_ref",
           "REMIND 3.0"
          ]
         ],
         "hovertemplate": "region=China<br>model=%{customdata[1]}<br>scenario_narrative=Cost Effective<br>year=%{x}<br>Emissions|Kyoto Gases=%{y}<br>scenario=%{customdata[0]}<extra></extra>",
         "legendgroup": "China, REMIND 3.0",
         "line": {
          "color": "#636efa",
          "dash": "solid"
         },
         "marker": {
          "symbol": "circle"
         },
         "mode": "lines",
         "name": "China, REMIND 3.0",
         "showlegend": false,
         "type": "scattergl",
         "x": [
          2005,
          2010,
          2015,
          2020,
          2025,
          2030,
          2035,
          2040,
          2045,
          2050,
          2055,
          2060,
          2070,
          2080,
          2090,
          2100
         ],
         "xaxis": "x",
         "y": [
          9510.7522795,
          12127.3339175,
          14512.6400533,
          15340.9096905,
          14965.480187,
          11036.1873348,
          7578.3634497,
          4931.0459721,
          3273.2656783,
          2330.1683468,
          1626.0634694,
          1152.6718219,
          639.9705744,
          224.1100022,
          147.592788,
          198.1681978
         ],
         "yaxis": "y"
        },
        {
         "customdata": [
          [
           "T34_1000_bitb_ref",
           "REMIND 3.0"
          ],
          [
           "T34_1000_bitb_ref",
           "REMIND 3.0"
          ],
          [
           "T34_1000_bitb_ref",
           "REMIND 3.0"
          ],
          [
           "T34_1000_bitb_ref",
           "REMIND 3.0"
          ],
          [
           "T34_1000_bitb_ref",
           "REMIND 3.0"
          ],
          [
           "T34_1000_bitb_ref",
           "REMIND 3.0"
          ],
          [
           "T34_1000_bitb_ref",
           "REMIND 3.0"
          ],
          [
           "T34_1000_bitb_ref",
           "REMIND 3.0"
          ],
          [
           "T34_1000_bitb_ref",
           "REMIND 3.0"
          ],
          [
           "T34_1000_bitb_ref",
           "REMIND 3.0"
          ],
          [
           "T34_1000_bitb_ref",
           "REMIND 3.0"
          ],
          [
           "T34_1000_bitb_ref",
           "REMIND 3.0"
          ],
          [
           "T34_1000_bitb_ref",
           "REMIND 3.0"
          ],
          [
           "T34_1000_bitb_ref",
           "REMIND 3.0"
          ],
          [
           "T34_1000_bitb_ref",
           "REMIND 3.0"
          ],
          [
           "T34_1000_bitb_ref",
           "REMIND 3.0"
          ]
         ],
         "hovertemplate": "region=China<br>model=%{customdata[1]}<br>scenario_narrative=Tech<br>year=%{x}<br>Emissions|Kyoto Gases=%{y}<br>scenario=%{customdata[0]}<extra></extra>",
         "legendgroup": "China, REMIND 3.0",
         "line": {
          "color": "#636efa",
          "dash": "solid"
         },
         "marker": {
          "symbol": "circle"
         },
         "mode": "lines",
         "name": "China, REMIND 3.0",
         "showlegend": false,
         "type": "scattergl",
         "x": [
          2005,
          2010,
          2015,
          2020,
          2025,
          2030,
          2035,
          2040,
          2045,
          2050,
          2055,
          2060,
          2070,
          2080,
          2090,
          2100
         ],
         "xaxis": "x2",
         "y": [
          9510.7522795,
          12127.3339175,
          14512.6400533,
          15340.9096905,
          14908.0976326,
          10257.0138342,
          6717.2948581,
          4726.0989022,
          3136.6110516,
          2072.2204859,
          1434.3745813,
          1074.6765296,
          658.973898,
          337.8006624,
          209.7391922,
          99.2693228
         ],
         "yaxis": "y2"
        },
        {
         "customdata": [
          [
           "T34_1000_enab_em",
           "REMIND 3.0"
          ],
          [
           "T34_1000_enab_em",
           "REMIND 3.0"
          ],
          [
           "T34_1000_enab_em",
           "REMIND 3.0"
          ],
          [
           "T34_1000_enab_em",
           "REMIND 3.0"
          ],
          [
           "T34_1000_enab_em",
           "REMIND 3.0"
          ],
          [
           "T34_1000_enab_em",
           "REMIND 3.0"
          ],
          [
           "T34_1000_enab_em",
           "REMIND 3.0"
          ],
          [
           "T34_1000_enab_em",
           "REMIND 3.0"
          ],
          [
           "T34_1000_enab_em",
           "REMIND 3.0"
          ],
          [
           "T34_1000_enab_em",
           "REMIND 3.0"
          ],
          [
           "T34_1000_enab_em",
           "REMIND 3.0"
          ],
          [
           "T34_1000_enab_em",
           "REMIND 3.0"
          ],
          [
           "T34_1000_enab_em",
           "REMIND 3.0"
          ],
          [
           "T34_1000_enab_em",
           "REMIND 3.0"
          ],
          [
           "T34_1000_enab_em",
           "REMIND 3.0"
          ],
          [
           "T34_1000_enab_em",
           "REMIND 3.0"
          ]
         ],
         "hovertemplate": "region=China<br>model=%{customdata[1]}<br>scenario_narrative=Inst+Enab<br>year=%{x}<br>Emissions|Kyoto Gases=%{y}<br>scenario=%{customdata[0]}<extra></extra>",
         "legendgroup": "China, REMIND 3.0",
         "line": {
          "color": "#636efa",
          "dash": "solid"
         },
         "marker": {
          "symbol": "circle"
         },
         "mode": "lines",
         "name": "China, REMIND 3.0",
         "showlegend": false,
         "type": "scattergl",
         "x": [
          2005,
          2010,
          2015,
          2020,
          2025,
          2030,
          2035,
          2040,
          2045,
          2050,
          2055,
          2060,
          2070,
          2080,
          2090,
          2100
         ],
         "xaxis": "x3",
         "y": [
          9510.7522795,
          12127.3339175,
          14512.6400533,
          15340.9096905,
          14768.6428684,
          10080.7112745,
          7501.6328643,
          5033.6267042,
          3558.3088627,
          2409.0284687,
          1710.1783181,
          1030.4591361,
          442.6926033,
          17.983396,
          -165.8125275,
          196.718674
         ],
         "yaxis": "y3"
        },
        {
         "customdata": [
          [
           "T34_1000_bitb_em",
           "WITCH 5.0"
          ],
          [
           "T34_1000_bitb_em",
           "WITCH 5.0"
          ],
          [
           "T34_1000_bitb_em",
           "WITCH 5.0"
          ],
          [
           "T34_1000_bitb_em",
           "WITCH 5.0"
          ],
          [
           "T34_1000_bitb_em",
           "WITCH 5.0"
          ],
          [
           "T34_1000_bitb_em",
           "WITCH 5.0"
          ],
          [
           "T34_1000_bitb_em",
           "WITCH 5.0"
          ],
          [
           "T34_1000_bitb_em",
           "WITCH 5.0"
          ],
          [
           "T34_1000_bitb_em",
           "WITCH 5.0"
          ],
          [
           "T34_1000_bitb_em",
           "WITCH 5.0"
          ],
          [
           "T34_1000_bitb_em",
           "WITCH 5.0"
          ],
          [
           "T34_1000_bitb_em",
           "WITCH 5.0"
          ],
          [
           "T34_1000_bitb_em",
           "WITCH 5.0"
          ],
          [
           "T34_1000_bitb_em",
           "WITCH 5.0"
          ],
          [
           "T34_1000_bitb_em",
           "WITCH 5.0"
          ],
          [
           "T34_1000_bitb_em",
           "WITCH 5.0"
          ],
          [
           "T34_1000_bitb_em",
           "WITCH 5.0"
          ],
          [
           "T34_1000_bitb_em",
           "WITCH 5.0"
          ],
          [
           "T34_1000_bitb_em",
           "WITCH 5.0"
          ],
          [
           "T34_1000_bitb_em",
           "WITCH 5.0"
          ]
         ],
         "hovertemplate": "region=China<br>model=%{customdata[1]}<br>scenario_narrative=Tech+Inst<br>year=%{x}<br>Emissions|Kyoto Gases=%{y}<br>scenario=%{customdata[0]}<extra></extra>",
         "legendgroup": "China, WITCH 5.0",
         "line": {
          "color": "#636efa",
          "dash": "dot"
         },
         "marker": {
          "symbol": "circle"
         },
         "mode": "lines",
         "name": "China, WITCH 5.0",
         "showlegend": true,
         "type": "scattergl",
         "x": [
          2005,
          2010,
          2015,
          2020,
          2025,
          2030,
          2035,
          2040,
          2045,
          2050,
          2055,
          2060,
          2065,
          2070,
          2075,
          2080,
          2085,
          2090,
          2095,
          2100
         ],
         "xaxis": "x4",
         "y": [
          7565.58310742341,
          10539.6295135494,
          12094.7362482014,
          12704.4123444316,
          12647.3873953864,
          10423.2293802135,
          8251.0233534566,
          6716.6699260014,
          5849.07551773465,
          4680.80073156249,
          3272.13029243928,
          2642.0509053971,
          2372.57512621462,
          2156.7274161614,
          1964.96769201452,
          1814.90908957282,
          2046.06358544123,
          2158.48583865395,
          2065.34155562694,
          1934.538245949
         ],
         "yaxis": "y4"
        },
        {
         "customdata": [
          [
           "T34_1000_feas_em",
           "WITCH 5.0"
          ],
          [
           "T34_1000_feas_em",
           "WITCH 5.0"
          ],
          [
           "T34_1000_feas_em",
           "WITCH 5.0"
          ],
          [
           "T34_1000_feas_em",
           "WITCH 5.0"
          ],
          [
           "T34_1000_feas_em",
           "WITCH 5.0"
          ],
          [
           "T34_1000_feas_em",
           "WITCH 5.0"
          ],
          [
           "T34_1000_feas_em",
           "WITCH 5.0"
          ],
          [
           "T34_1000_feas_em",
           "WITCH 5.0"
          ],
          [
           "T34_1000_feas_em",
           "WITCH 5.0"
          ],
          [
           "T34_1000_feas_em",
           "WITCH 5.0"
          ],
          [
           "T34_1000_feas_em",
           "WITCH 5.0"
          ],
          [
           "T34_1000_feas_em",
           "WITCH 5.0"
          ],
          [
           "T34_1000_feas_em",
           "WITCH 5.0"
          ],
          [
           "T34_1000_feas_em",
           "WITCH 5.0"
          ],
          [
           "T34_1000_feas_em",
           "WITCH 5.0"
          ],
          [
           "T34_1000_feas_em",
           "WITCH 5.0"
          ],
          [
           "T34_1000_feas_em",
           "WITCH 5.0"
          ],
          [
           "T34_1000_feas_em",
           "WITCH 5.0"
          ],
          [
           "T34_1000_feas_em",
           "WITCH 5.0"
          ],
          [
           "T34_1000_feas_em",
           "WITCH 5.0"
          ]
         ],
         "hovertemplate": "region=China<br>model=%{customdata[1]}<br>scenario_narrative=Tech+Inst+Enab<br>year=%{x}<br>Emissions|Kyoto Gases=%{y}<br>scenario=%{customdata[0]}<extra></extra>",
         "legendgroup": "China, WITCH 5.0",
         "line": {
          "color": "#636efa",
          "dash": "dot"
         },
         "marker": {
          "symbol": "circle"
         },
         "mode": "lines",
         "name": "China, WITCH 5.0",
         "showlegend": false,
         "type": "scattergl",
         "x": [
          2005,
          2010,
          2015,
          2020,
          2025,
          2030,
          2035,
          2040,
          2045,
          2050,
          2055,
          2060,
          2065,
          2070,
          2075,
          2080,
          2085,
          2090,
          2095,
          2100
         ],
         "xaxis": "x5",
         "y": [
          7565.58310742341,
          10539.6295135494,
          12094.7362482014,
          12704.4123444316,
          10602.4245875331,
          8917.79664348064,
          7006.08341839646,
          5598.7813246188,
          4295.23227465741,
          3355.84878775238,
          2774.12363048063,
          2300.69993060942,
          1945.91118243631,
          1731.00730593218,
          1519.35303249379,
          1374.41369624752,
          1284.73527753871,
          1189.81308062352,
          1146.65514009561,
          992.854384855441
         ],
         "yaxis": "y5"
        },
        {
         "customdata": [
          [
           "T34_1000_govem",
           "WITCH 5.0"
          ],
          [
           "T34_1000_govem",
           "WITCH 5.0"
          ],
          [
           "T34_1000_govem",
           "WITCH 5.0"
          ],
          [
           "T34_1000_govem",
           "WITCH 5.0"
          ],
          [
           "T34_1000_govem",
           "WITCH 5.0"
          ],
          [
           "T34_1000_govem",
           "WITCH 5.0"
          ],
          [
           "T34_1000_govem",
           "WITCH 5.0"
          ],
          [
           "T34_1000_govem",
           "WITCH 5.0"
          ],
          [
           "T34_1000_govem",
           "WITCH 5.0"
          ],
          [
           "T34_1000_govem",
           "WITCH 5.0"
          ],
          [
           "T34_1000_govem",
           "WITCH 5.0"
          ],
          [
           "T34_1000_govem",
           "WITCH 5.0"
          ],
          [
           "T34_1000_govem",
           "WITCH 5.0"
          ],
          [
           "T34_1000_govem",
           "WITCH 5.0"
          ],
          [
           "T34_1000_govem",
           "WITCH 5.0"
          ],
          [
           "T34_1000_govem",
           "WITCH 5.0"
          ],
          [
           "T34_1000_govem",
           "WITCH 5.0"
          ],
          [
           "T34_1000_govem",
           "WITCH 5.0"
          ],
          [
           "T34_1000_govem",
           "WITCH 5.0"
          ],
          [
           "T34_1000_govem",
           "WITCH 5.0"
          ]
         ],
         "hovertemplate": "region=China<br>model=%{customdata[1]}<br>scenario_narrative=Instit<br>year=%{x}<br>Emissions|Kyoto Gases=%{y}<br>scenario=%{customdata[0]}<extra></extra>",
         "legendgroup": "China, WITCH 5.0",
         "line": {
          "color": "#636efa",
          "dash": "dot"
         },
         "marker": {
          "symbol": "circle"
         },
         "mode": "lines",
         "name": "China, WITCH 5.0",
         "showlegend": false,
         "type": "scattergl",
         "x": [
          2005,
          2010,
          2015,
          2020,
          2025,
          2030,
          2035,
          2040,
          2045,
          2050,
          2055,
          2060,
          2065,
          2070,
          2075,
          2080,
          2085,
          2090,
          2095,
          2100
         ],
         "xaxis": "x6",
         "y": [
          7565.58310742341,
          10539.6295135494,
          12094.7362482014,
          12704.4123444316,
          10583.0375447804,
          8915.32280229705,
          7000.87978733629,
          5687.89452705392,
          4700.17756956507,
          3449.19462557065,
          2706.05725316501,
          2356.05118089332,
          1972.59682273259,
          1684.14538624477,
          1380.04399393746,
          1660.64724499549,
          2104.05596923167,
          2933.59219460673,
          3236.0997457796,
          3269.39863047057
         ],
         "yaxis": "y6"
        },
        {
         "customdata": [
          [
           "T34_1000_ref",
           "WITCH 5.0"
          ],
          [
           "T34_1000_ref",
           "WITCH 5.0"
          ],
          [
           "T34_1000_ref",
           "WITCH 5.0"
          ],
          [
           "T34_1000_ref",
           "WITCH 5.0"
          ],
          [
           "T34_1000_ref",
           "WITCH 5.0"
          ],
          [
           "T34_1000_ref",
           "WITCH 5.0"
          ],
          [
           "T34_1000_ref",
           "WITCH 5.0"
          ],
          [
           "T34_1000_ref",
           "WITCH 5.0"
          ],
          [
           "T34_1000_ref",
           "WITCH 5.0"
          ],
          [
           "T34_1000_ref",
           "WITCH 5.0"
          ],
          [
           "T34_1000_ref",
           "WITCH 5.0"
          ],
          [
           "T34_1000_ref",
           "WITCH 5.0"
          ],
          [
           "T34_1000_ref",
           "WITCH 5.0"
          ],
          [
           "T34_1000_ref",
           "WITCH 5.0"
          ],
          [
           "T34_1000_ref",
           "WITCH 5.0"
          ],
          [
           "T34_1000_ref",
           "WITCH 5.0"
          ],
          [
           "T34_1000_ref",
           "WITCH 5.0"
          ],
          [
           "T34_1000_ref",
           "WITCH 5.0"
          ],
          [
           "T34_1000_ref",
           "WITCH 5.0"
          ],
          [
           "T34_1000_ref",
           "WITCH 5.0"
          ]
         ],
         "hovertemplate": "region=China<br>model=%{customdata[1]}<br>scenario_narrative=Cost Effective<br>year=%{x}<br>Emissions|Kyoto Gases=%{y}<br>scenario=%{customdata[0]}<extra></extra>",
         "legendgroup": "China, WITCH 5.0",
         "line": {
          "color": "#636efa",
          "dash": "dot"
         },
         "marker": {
          "symbol": "circle"
         },
         "mode": "lines",
         "name": "China, WITCH 5.0",
         "showlegend": false,
         "type": "scattergl",
         "x": [
          2005,
          2010,
          2015,
          2020,
          2025,
          2030,
          2035,
          2040,
          2045,
          2050,
          2055,
          2060,
          2065,
          2070,
          2075,
          2080,
          2085,
          2090,
          2095,
          2100
         ],
         "xaxis": "x",
         "y": [
          7565.58310742341,
          10539.6295135494,
          12094.7362482014,
          12704.4123444316,
          11707.9878652762,
          6807.1302033798,
          5924.43305962545,
          5685.16417701001,
          5371.50642360189,
          5063.6051785855,
          4705.92857609731,
          4382.87606960449,
          3918.2105619151,
          3404.95343594814,
          3100.21938493552,
          2839.82395587781,
          2637.05405161416,
          2606.74375335339,
          2756.62143556365,
          2898.13233314009
         ],
         "yaxis": "y"
        },
        {
         "customdata": [
          [
           "T34_1000_bitb_ref",
           "WITCH 5.0"
          ],
          [
           "T34_1000_bitb_ref",
           "WITCH 5.0"
          ],
          [
           "T34_1000_bitb_ref",
           "WITCH 5.0"
          ],
          [
           "T34_1000_bitb_ref",
           "WITCH 5.0"
          ],
          [
           "T34_1000_bitb_ref",
           "WITCH 5.0"
          ],
          [
           "T34_1000_bitb_ref",
           "WITCH 5.0"
          ],
          [
           "T34_1000_bitb_ref",
           "WITCH 5.0"
          ],
          [
           "T34_1000_bitb_ref",
           "WITCH 5.0"
          ],
          [
           "T34_1000_bitb_ref",
           "WITCH 5.0"
          ],
          [
           "T34_1000_bitb_ref",
           "WITCH 5.0"
          ],
          [
           "T34_1000_bitb_ref",
           "WITCH 5.0"
          ],
          [
           "T34_1000_bitb_ref",
           "WITCH 5.0"
          ],
          [
           "T34_1000_bitb_ref",
           "WITCH 5.0"
          ],
          [
           "T34_1000_bitb_ref",
           "WITCH 5.0"
          ],
          [
           "T34_1000_bitb_ref",
           "WITCH 5.0"
          ],
          [
           "T34_1000_bitb_ref",
           "WITCH 5.0"
          ],
          [
           "T34_1000_bitb_ref",
           "WITCH 5.0"
          ],
          [
           "T34_1000_bitb_ref",
           "WITCH 5.0"
          ],
          [
           "T34_1000_bitb_ref",
           "WITCH 5.0"
          ],
          [
           "T34_1000_bitb_ref",
           "WITCH 5.0"
          ]
         ],
         "hovertemplate": "region=China<br>model=%{customdata[1]}<br>scenario_narrative=Tech<br>year=%{x}<br>Emissions|Kyoto Gases=%{y}<br>scenario=%{customdata[0]}<extra></extra>",
         "legendgroup": "China, WITCH 5.0",
         "line": {
          "color": "#636efa",
          "dash": "dot"
         },
         "marker": {
          "symbol": "circle"
         },
         "mode": "lines",
         "name": "China, WITCH 5.0",
         "showlegend": false,
         "type": "scattergl",
         "x": [
          2005,
          2010,
          2015,
          2020,
          2025,
          2030,
          2035,
          2040,
          2045,
          2050,
          2055,
          2060,
          2065,
          2070,
          2075,
          2080,
          2085,
          2090,
          2095,
          2100
         ],
         "xaxis": "x2",
         "y": [
          7565.58310742341,
          10539.6295135494,
          12094.7362482014,
          12704.4123444316,
          11677.4221190256,
          6297.83460175679,
          5988.36986471005,
          5683.55919952504,
          5253.35641778512,
          4816.20415575432,
          4488.47812594672,
          4263.08882231502,
          4003.37816933123,
          3773.1093166624,
          3505.90143420553,
          3287.63584484959,
          3076.42368501917,
          2849.12830660746,
          2649.87930411583,
          2441.76543672214
         ],
         "yaxis": "y2"
        },
        {
         "customdata": [
          [
           "T34_1000_enab_em",
           "WITCH 5.0"
          ],
          [
           "T34_1000_enab_em",
           "WITCH 5.0"
          ],
          [
           "T34_1000_enab_em",
           "WITCH 5.0"
          ],
          [
           "T34_1000_enab_em",
           "WITCH 5.0"
          ],
          [
           "T34_1000_enab_em",
           "WITCH 5.0"
          ],
          [
           "T34_1000_enab_em",
           "WITCH 5.0"
          ],
          [
           "T34_1000_enab_em",
           "WITCH 5.0"
          ],
          [
           "T34_1000_enab_em",
           "WITCH 5.0"
          ],
          [
           "T34_1000_enab_em",
           "WITCH 5.0"
          ],
          [
           "T34_1000_enab_em",
           "WITCH 5.0"
          ],
          [
           "T34_1000_enab_em",
           "WITCH 5.0"
          ],
          [
           "T34_1000_enab_em",
           "WITCH 5.0"
          ],
          [
           "T34_1000_enab_em",
           "WITCH 5.0"
          ],
          [
           "T34_1000_enab_em",
           "WITCH 5.0"
          ],
          [
           "T34_1000_enab_em",
           "WITCH 5.0"
          ],
          [
           "T34_1000_enab_em",
           "WITCH 5.0"
          ],
          [
           "T34_1000_enab_em",
           "WITCH 5.0"
          ],
          [
           "T34_1000_enab_em",
           "WITCH 5.0"
          ],
          [
           "T34_1000_enab_em",
           "WITCH 5.0"
          ],
          [
           "T34_1000_enab_em",
           "WITCH 5.0"
          ]
         ],
         "hovertemplate": "region=China<br>model=%{customdata[1]}<br>scenario_narrative=Inst+Enab<br>year=%{x}<br>Emissions|Kyoto Gases=%{y}<br>scenario=%{customdata[0]}<extra></extra>",
         "legendgroup": "China, WITCH 5.0",
         "line": {
          "color": "#636efa",
          "dash": "dot"
         },
         "marker": {
          "symbol": "circle"
         },
         "mode": "lines",
         "name": "China, WITCH 5.0",
         "showlegend": false,
         "type": "scattergl",
         "x": [
          2005,
          2010,
          2015,
          2020,
          2025,
          2030,
          2035,
          2040,
          2045,
          2050,
          2055,
          2060,
          2065,
          2070,
          2075,
          2080,
          2085,
          2090,
          2095,
          2100
         ],
         "xaxis": "x3",
         "y": [
          7565.58310742341,
          10539.6295135494,
          12094.7362482014,
          12704.4123444316,
          10602.1844667401,
          8963.30770847637,
          7063.25388878006,
          5634.71929112131,
          4019.72391164525,
          3351.93788078024,
          2806.15233771387,
          2264.42246629919,
          1765.68013950202,
          1250.09820158561,
          849.187537689695,
          695.194415411003,
          697.991932596646,
          981.878456622754,
          1224.77404204708,
          1412.42886030731
         ],
         "yaxis": "y3"
        },
        {
         "customdata": [
          [
           "T34_1000_bitb_em",
           "AIM/CGE V2.2"
          ],
          [
           "T34_1000_bitb_em",
           "AIM/CGE V2.2"
          ],
          [
           "T34_1000_bitb_em",
           "AIM/CGE V2.2"
          ],
          [
           "T34_1000_bitb_em",
           "AIM/CGE V2.2"
          ],
          [
           "T34_1000_bitb_em",
           "AIM/CGE V2.2"
          ],
          [
           "T34_1000_bitb_em",
           "AIM/CGE V2.2"
          ],
          [
           "T34_1000_bitb_em",
           "AIM/CGE V2.2"
          ],
          [
           "T34_1000_bitb_em",
           "AIM/CGE V2.2"
          ],
          [
           "T34_1000_bitb_em",
           "AIM/CGE V2.2"
          ],
          [
           "T34_1000_bitb_em",
           "AIM/CGE V2.2"
          ],
          [
           "T34_1000_bitb_em",
           "AIM/CGE V2.2"
          ],
          [
           "T34_1000_bitb_em",
           "AIM/CGE V2.2"
          ],
          [
           "T34_1000_bitb_em",
           "AIM/CGE V2.2"
          ],
          [
           "T34_1000_bitb_em",
           "AIM/CGE V2.2"
          ],
          [
           "T34_1000_bitb_em",
           "AIM/CGE V2.2"
          ],
          [
           "T34_1000_bitb_em",
           "AIM/CGE V2.2"
          ],
          [
           "T34_1000_bitb_em",
           "AIM/CGE V2.2"
          ],
          [
           "T34_1000_bitb_em",
           "AIM/CGE V2.2"
          ],
          [
           "T34_1000_bitb_em",
           "AIM/CGE V2.2"
          ]
         ],
         "hovertemplate": "region=OECD<br>model=%{customdata[1]}<br>scenario_narrative=Tech+Inst<br>year=%{x}<br>Emissions|Kyoto Gases=%{y}<br>scenario=%{customdata[0]}<extra></extra>",
         "legendgroup": "OECD, AIM/CGE V2.2",
         "line": {
          "color": "#EF553B",
          "dash": "solid"
         },
         "marker": {
          "symbol": "circle"
         },
         "mode": "lines",
         "name": "OECD, AIM/CGE V2.2",
         "showlegend": true,
         "type": "scattergl",
         "x": [
          2010,
          2015,
          2020,
          2025,
          2030,
          2035,
          2040,
          2045,
          2050,
          2055,
          2060,
          2065,
          2070,
          2075,
          2080,
          2085,
          2090,
          2095,
          2100
         ],
         "xaxis": "x4",
         "y": [
          13279.6705,
          12551.344099999998,
          12524.0317,
          9449.9974,
          6592.5548,
          5011.9735,
          3379.0832,
          1484.5553,
          -486.9534,
          61.70560000000003,
          -286.03,
          -125.00840000000002,
          -19.35419999999999,
          56.06039999999999,
          129.3714,
          191.07009999999997,
          252.14530000000002,
          313.1886,
          371.1141
         ],
         "yaxis": "y4"
        },
        {
         "customdata": [
          [
           "T34_1000_feas_em",
           "AIM/CGE V2.2"
          ],
          [
           "T34_1000_feas_em",
           "AIM/CGE V2.2"
          ],
          [
           "T34_1000_feas_em",
           "AIM/CGE V2.2"
          ],
          [
           "T34_1000_feas_em",
           "AIM/CGE V2.2"
          ],
          [
           "T34_1000_feas_em",
           "AIM/CGE V2.2"
          ],
          [
           "T34_1000_feas_em",
           "AIM/CGE V2.2"
          ],
          [
           "T34_1000_feas_em",
           "AIM/CGE V2.2"
          ],
          [
           "T34_1000_feas_em",
           "AIM/CGE V2.2"
          ],
          [
           "T34_1000_feas_em",
           "AIM/CGE V2.2"
          ],
          [
           "T34_1000_feas_em",
           "AIM/CGE V2.2"
          ],
          [
           "T34_1000_feas_em",
           "AIM/CGE V2.2"
          ],
          [
           "T34_1000_feas_em",
           "AIM/CGE V2.2"
          ],
          [
           "T34_1000_feas_em",
           "AIM/CGE V2.2"
          ],
          [
           "T34_1000_feas_em",
           "AIM/CGE V2.2"
          ],
          [
           "T34_1000_feas_em",
           "AIM/CGE V2.2"
          ],
          [
           "T34_1000_feas_em",
           "AIM/CGE V2.2"
          ],
          [
           "T34_1000_feas_em",
           "AIM/CGE V2.2"
          ],
          [
           "T34_1000_feas_em",
           "AIM/CGE V2.2"
          ],
          [
           "T34_1000_feas_em",
           "AIM/CGE V2.2"
          ]
         ],
         "hovertemplate": "region=OECD<br>model=%{customdata[1]}<br>scenario_narrative=Tech+Inst+Enab<br>year=%{x}<br>Emissions|Kyoto Gases=%{y}<br>scenario=%{customdata[0]}<extra></extra>",
         "legendgroup": "OECD, AIM/CGE V2.2",
         "line": {
          "color": "#EF553B",
          "dash": "solid"
         },
         "marker": {
          "symbol": "circle"
         },
         "mode": "lines",
         "name": "OECD, AIM/CGE V2.2",
         "showlegend": false,
         "type": "scattergl",
         "x": [
          2010,
          2015,
          2020,
          2025,
          2030,
          2035,
          2040,
          2045,
          2050,
          2055,
          2060,
          2065,
          2070,
          2075,
          2080,
          2085,
          2090,
          2095,
          2100
         ],
         "xaxis": "x5",
         "y": [
          13279.6705,
          12551.344099999998,
          12523.829099999999,
          9261.3779,
          6290.584000000001,
          4597.6567,
          3275.9709000000003,
          1186.5711999999999,
          -1223.9005,
          -1515.3545,
          -1537.7133,
          -1429.708,
          -1308.8387,
          -1185.479,
          -1057.1892,
          -940.671,
          -828.1578,
          -723.0384,
          -632.303
         ],
         "yaxis": "y5"
        },
        {
         "customdata": [
          [
           "T34_1000_govem",
           "AIM/CGE V2.2"
          ],
          [
           "T34_1000_govem",
           "AIM/CGE V2.2"
          ],
          [
           "T34_1000_govem",
           "AIM/CGE V2.2"
          ],
          [
           "T34_1000_govem",
           "AIM/CGE V2.2"
          ],
          [
           "T34_1000_govem",
           "AIM/CGE V2.2"
          ],
          [
           "T34_1000_govem",
           "AIM/CGE V2.2"
          ],
          [
           "T34_1000_govem",
           "AIM/CGE V2.2"
          ],
          [
           "T34_1000_govem",
           "AIM/CGE V2.2"
          ],
          [
           "T34_1000_govem",
           "AIM/CGE V2.2"
          ],
          [
           "T34_1000_govem",
           "AIM/CGE V2.2"
          ],
          [
           "T34_1000_govem",
           "AIM/CGE V2.2"
          ],
          [
           "T34_1000_govem",
           "AIM/CGE V2.2"
          ],
          [
           "T34_1000_govem",
           "AIM/CGE V2.2"
          ],
          [
           "T34_1000_govem",
           "AIM/CGE V2.2"
          ],
          [
           "T34_1000_govem",
           "AIM/CGE V2.2"
          ],
          [
           "T34_1000_govem",
           "AIM/CGE V2.2"
          ],
          [
           "T34_1000_govem",
           "AIM/CGE V2.2"
          ],
          [
           "T34_1000_govem",
           "AIM/CGE V2.2"
          ],
          [
           "T34_1000_govem",
           "AIM/CGE V2.2"
          ]
         ],
         "hovertemplate": "region=OECD<br>model=%{customdata[1]}<br>scenario_narrative=Instit<br>year=%{x}<br>Emissions|Kyoto Gases=%{y}<br>scenario=%{customdata[0]}<extra></extra>",
         "legendgroup": "OECD, AIM/CGE V2.2",
         "line": {
          "color": "#EF553B",
          "dash": "solid"
         },
         "marker": {
          "symbol": "circle"
         },
         "mode": "lines",
         "name": "OECD, AIM/CGE V2.2",
         "showlegend": false,
         "type": "scattergl",
         "x": [
          2010,
          2015,
          2020,
          2025,
          2030,
          2035,
          2040,
          2045,
          2050,
          2055,
          2060,
          2065,
          2070,
          2075,
          2080,
          2085,
          2090,
          2095,
          2100
         ],
         "xaxis": "x6",
         "y": [
          13279.6705,
          12551.344099999998,
          12524.9889,
          9721.2444,
          7818.8308,
          6543.1193,
          4694.5665,
          2370.9354999999996,
          280.0263,
          -2064.3144,
          -1899.8772,
          -2186.8916999999997,
          -2413.3197,
          -2581.0753999999997,
          -2690.9316,
          -2694.3268,
          -2706.513,
          -2679.9188999999997,
          -2659.7048
         ],
         "yaxis": "y6"
        },
        {
         "customdata": [
          [
           "T34_1000_ref",
           "AIM/CGE V2.2"
          ],
          [
           "T34_1000_ref",
           "AIM/CGE V2.2"
          ],
          [
           "T34_1000_ref",
           "AIM/CGE V2.2"
          ],
          [
           "T34_1000_ref",
           "AIM/CGE V2.2"
          ],
          [
           "T34_1000_ref",
           "AIM/CGE V2.2"
          ],
          [
           "T34_1000_ref",
           "AIM/CGE V2.2"
          ],
          [
           "T34_1000_ref",
           "AIM/CGE V2.2"
          ],
          [
           "T34_1000_ref",
           "AIM/CGE V2.2"
          ],
          [
           "T34_1000_ref",
           "AIM/CGE V2.2"
          ],
          [
           "T34_1000_ref",
           "AIM/CGE V2.2"
          ],
          [
           "T34_1000_ref",
           "AIM/CGE V2.2"
          ],
          [
           "T34_1000_ref",
           "AIM/CGE V2.2"
          ],
          [
           "T34_1000_ref",
           "AIM/CGE V2.2"
          ],
          [
           "T34_1000_ref",
           "AIM/CGE V2.2"
          ],
          [
           "T34_1000_ref",
           "AIM/CGE V2.2"
          ],
          [
           "T34_1000_ref",
           "AIM/CGE V2.2"
          ],
          [
           "T34_1000_ref",
           "AIM/CGE V2.2"
          ],
          [
           "T34_1000_ref",
           "AIM/CGE V2.2"
          ],
          [
           "T34_1000_ref",
           "AIM/CGE V2.2"
          ]
         ],
         "hovertemplate": "region=OECD<br>model=%{customdata[1]}<br>scenario_narrative=Cost Effective<br>year=%{x}<br>Emissions|Kyoto Gases=%{y}<br>scenario=%{customdata[0]}<extra></extra>",
         "legendgroup": "OECD, AIM/CGE V2.2",
         "line": {
          "color": "#EF553B",
          "dash": "solid"
         },
         "marker": {
          "symbol": "circle"
         },
         "mode": "lines",
         "name": "OECD, AIM/CGE V2.2",
         "showlegend": false,
         "type": "scattergl",
         "x": [
          2010,
          2015,
          2020,
          2025,
          2030,
          2035,
          2040,
          2045,
          2050,
          2055,
          2060,
          2065,
          2070,
          2075,
          2080,
          2085,
          2090,
          2095,
          2100
         ],
         "xaxis": "x",
         "y": [
          13279.6705,
          12551.344099999998,
          12524.9889,
          10523.8178,
          9331.992,
          8673.5656,
          7688.561299999999,
          6372.355,
          4605.4005,
          1332.9495,
          1256.4818,
          1056.8449,
          733.0238,
          365.262,
          143.94939999999997,
          142.216,
          95.89830000000003,
          117.45330000000001,
          109.93739999999997
         ],
         "yaxis": "y"
        },
        {
         "customdata": [
          [
           "T34_1000_ref",
           "COFFEE 1.5"
          ],
          [
           "T34_1000_ref",
           "COFFEE 1.5"
          ],
          [
           "T34_1000_ref",
           "COFFEE 1.5"
          ],
          [
           "T34_1000_ref",
           "COFFEE 1.5"
          ],
          [
           "T34_1000_ref",
           "COFFEE 1.5"
          ],
          [
           "T34_1000_ref",
           "COFFEE 1.5"
          ],
          [
           "T34_1000_ref",
           "COFFEE 1.5"
          ],
          [
           "T34_1000_ref",
           "COFFEE 1.5"
          ],
          [
           "T34_1000_ref",
           "COFFEE 1.5"
          ],
          [
           "T34_1000_ref",
           "COFFEE 1.5"
          ],
          [
           "T34_1000_ref",
           "COFFEE 1.5"
          ],
          [
           "T34_1000_ref",
           "COFFEE 1.5"
          ],
          [
           "T34_1000_ref",
           "COFFEE 1.5"
          ],
          [
           "T34_1000_ref",
           "COFFEE 1.5"
          ]
         ],
         "hovertemplate": "region=OECD<br>model=%{customdata[1]}<br>scenario_narrative=Cost Effective<br>year=%{x}<br>Emissions|Kyoto Gases=%{y}<br>scenario=%{customdata[0]}<extra></extra>",
         "legendgroup": "OECD, COFFEE 1.5",
         "line": {
          "color": "#EF553B",
          "dash": "dot"
         },
         "marker": {
          "symbol": "circle"
         },
         "mode": "lines",
         "name": "OECD, COFFEE 1.5",
         "showlegend": true,
         "type": "scattergl",
         "x": [
          2010,
          2015,
          2020,
          2025,
          2030,
          2035,
          2040,
          2045,
          2050,
          2060,
          2070,
          2080,
          2090,
          2100
         ],
         "xaxis": "x",
         "y": [
          13574.717549687426,
          12986.678490203023,
          13352.076368308277,
          13352.809493214838,
          14934.332719024658,
          10826.011524811664,
          9475.47997322942,
          7719.932037869122,
          7182.83271139566,
          4663.112408757491,
          2018.388656582564,
          -486.8112385941079,
          -1445.3303002253963,
          -1082.4568220614824
         ],
         "yaxis": "y"
        },
        {
         "customdata": [
          [
           "T34_1000_bitb_ref",
           "COFFEE 1.5"
          ],
          [
           "T34_1000_bitb_ref",
           "COFFEE 1.5"
          ],
          [
           "T34_1000_bitb_ref",
           "COFFEE 1.5"
          ],
          [
           "T34_1000_bitb_ref",
           "COFFEE 1.5"
          ],
          [
           "T34_1000_bitb_ref",
           "COFFEE 1.5"
          ],
          [
           "T34_1000_bitb_ref",
           "COFFEE 1.5"
          ],
          [
           "T34_1000_bitb_ref",
           "COFFEE 1.5"
          ],
          [
           "T34_1000_bitb_ref",
           "COFFEE 1.5"
          ],
          [
           "T34_1000_bitb_ref",
           "COFFEE 1.5"
          ],
          [
           "T34_1000_bitb_ref",
           "COFFEE 1.5"
          ],
          [
           "T34_1000_bitb_ref",
           "COFFEE 1.5"
          ],
          [
           "T34_1000_bitb_ref",
           "COFFEE 1.5"
          ],
          [
           "T34_1000_bitb_ref",
           "COFFEE 1.5"
          ],
          [
           "T34_1000_bitb_ref",
           "COFFEE 1.5"
          ]
         ],
         "hovertemplate": "region=OECD<br>model=%{customdata[1]}<br>scenario_narrative=Tech<br>year=%{x}<br>Emissions|Kyoto Gases=%{y}<br>scenario=%{customdata[0]}<extra></extra>",
         "legendgroup": "OECD, COFFEE 1.5",
         "line": {
          "color": "#EF553B",
          "dash": "dot"
         },
         "marker": {
          "symbol": "circle"
         },
         "mode": "lines",
         "name": "OECD, COFFEE 1.5",
         "showlegend": false,
         "type": "scattergl",
         "x": [
          2010,
          2015,
          2020,
          2025,
          2030,
          2035,
          2040,
          2045,
          2050,
          2060,
          2070,
          2080,
          2090,
          2100
         ],
         "xaxis": "x2",
         "y": [
          13574.717549687426,
          12986.678490203023,
          13352.076368308277,
          13130.008825929886,
          14455.310169348957,
          9852.292622806071,
          8923.913134584272,
          6530.3288961936205,
          5619.879415886744,
          3972.644199753856,
          2555.1524421618756,
          1885.7524784498632,
          2138.3118945385513,
          2385.994789810443
         ],
         "yaxis": "y2"
        },
        {
         "customdata": [
          [
           "T34_1000_bitb_em",
           "GEM-E3_V2023"
          ],
          [
           "T34_1000_bitb_em",
           "GEM-E3_V2023"
          ],
          [
           "T34_1000_bitb_em",
           "GEM-E3_V2023"
          ],
          [
           "T34_1000_bitb_em",
           "GEM-E3_V2023"
          ],
          [
           "T34_1000_bitb_em",
           "GEM-E3_V2023"
          ],
          [
           "T34_1000_bitb_em",
           "GEM-E3_V2023"
          ],
          [
           "T34_1000_bitb_em",
           "GEM-E3_V2023"
          ],
          [
           "T34_1000_bitb_em",
           "GEM-E3_V2023"
          ],
          [
           "T34_1000_bitb_em",
           "GEM-E3_V2023"
          ],
          [
           "T34_1000_bitb_em",
           "GEM-E3_V2023"
          ],
          [
           "T34_1000_bitb_em",
           "GEM-E3_V2023"
          ],
          [
           "T34_1000_bitb_em",
           "GEM-E3_V2023"
          ],
          [
           "T34_1000_bitb_em",
           "GEM-E3_V2023"
          ],
          [
           "T34_1000_bitb_em",
           "GEM-E3_V2023"
          ],
          [
           "T34_1000_bitb_em",
           "GEM-E3_V2023"
          ],
          [
           "T34_1000_bitb_em",
           "GEM-E3_V2023"
          ],
          [
           "T34_1000_bitb_em",
           "GEM-E3_V2023"
          ],
          [
           "T34_1000_bitb_em",
           "GEM-E3_V2023"
          ]
         ],
         "hovertemplate": "region=OECD<br>model=%{customdata[1]}<br>scenario_narrative=Tech+Inst<br>year=%{x}<br>Emissions|Kyoto Gases=%{y}<br>scenario=%{customdata[0]}<extra></extra>",
         "legendgroup": "OECD, GEM-E3_V2023",
         "line": {
          "color": "#EF553B",
          "dash": "dash"
         },
         "marker": {
          "symbol": "circle"
         },
         "mode": "lines",
         "name": "OECD, GEM-E3_V2023",
         "showlegend": true,
         "type": "scattergl",
         "x": [
          2015,
          2020,
          2025,
          2030,
          2035,
          2040,
          2045,
          2050,
          2055,
          2060,
          2065,
          2070,
          2075,
          2080,
          2085,
          2090,
          2095,
          2100
         ],
         "xaxis": "x4",
         "y": [
          10871.914925956258,
          9481.220368757702,
          8667.58479321418,
          6906.320692240042,
          4741.542137417419,
          2454.219987855956,
          1070.3364669810767,
          475.20770833158116,
          -341.5531769984003,
          -778.1131615435468,
          -1004.5788508613828,
          -1142.561422069588,
          -1206.3879553993029,
          -990.4761504627947,
          -543.2613553891584,
          -331.06635462570915,
          -155.8080804645188,
          -222.8548358289733
         ],
         "yaxis": "y4"
        },
        {
         "customdata": [
          [
           "T34_1000_feas_em",
           "GEM-E3_V2023"
          ],
          [
           "T34_1000_feas_em",
           "GEM-E3_V2023"
          ],
          [
           "T34_1000_feas_em",
           "GEM-E3_V2023"
          ],
          [
           "T34_1000_feas_em",
           "GEM-E3_V2023"
          ],
          [
           "T34_1000_feas_em",
           "GEM-E3_V2023"
          ],
          [
           "T34_1000_feas_em",
           "GEM-E3_V2023"
          ],
          [
           "T34_1000_feas_em",
           "GEM-E3_V2023"
          ],
          [
           "T34_1000_feas_em",
           "GEM-E3_V2023"
          ],
          [
           "T34_1000_feas_em",
           "GEM-E3_V2023"
          ],
          [
           "T34_1000_feas_em",
           "GEM-E3_V2023"
          ],
          [
           "T34_1000_feas_em",
           "GEM-E3_V2023"
          ],
          [
           "T34_1000_feas_em",
           "GEM-E3_V2023"
          ],
          [
           "T34_1000_feas_em",
           "GEM-E3_V2023"
          ],
          [
           "T34_1000_feas_em",
           "GEM-E3_V2023"
          ],
          [
           "T34_1000_feas_em",
           "GEM-E3_V2023"
          ],
          [
           "T34_1000_feas_em",
           "GEM-E3_V2023"
          ],
          [
           "T34_1000_feas_em",
           "GEM-E3_V2023"
          ],
          [
           "T34_1000_feas_em",
           "GEM-E3_V2023"
          ]
         ],
         "hovertemplate": "region=OECD<br>model=%{customdata[1]}<br>scenario_narrative=Tech+Inst+Enab<br>year=%{x}<br>Emissions|Kyoto Gases=%{y}<br>scenario=%{customdata[0]}<extra></extra>",
         "legendgroup": "OECD, GEM-E3_V2023",
         "line": {
          "color": "#EF553B",
          "dash": "dash"
         },
         "marker": {
          "symbol": "circle"
         },
         "mode": "lines",
         "name": "OECD, GEM-E3_V2023",
         "showlegend": false,
         "type": "scattergl",
         "x": [
          2015,
          2020,
          2025,
          2030,
          2035,
          2040,
          2045,
          2050,
          2055,
          2060,
          2065,
          2070,
          2075,
          2080,
          2085,
          2090,
          2095,
          2100
         ],
         "xaxis": "x5",
         "y": [
          10871.914925956258,
          9481.220368757702,
          8593.664137597822,
          6838.132317551428,
          4551.034541987955,
          2461.010447650264,
          894.3364915533369,
          401.6650367407175,
          -447.56802336962966,
          -776.8687417076827,
          -999.7938168062683,
          -1170.1043436423786,
          -1175.112434267556,
          -1006.1307771121012,
          -419.3318471694503,
          -317.0448719541072,
          -96.61273803190659,
          -214.50950631752295
         ],
         "yaxis": "y5"
        },
        {
         "customdata": [
          [
           "T34_1000_govem",
           "GEM-E3_V2023"
          ],
          [
           "T34_1000_govem",
           "GEM-E3_V2023"
          ],
          [
           "T34_1000_govem",
           "GEM-E3_V2023"
          ],
          [
           "T34_1000_govem",
           "GEM-E3_V2023"
          ],
          [
           "T34_1000_govem",
           "GEM-E3_V2023"
          ],
          [
           "T34_1000_govem",
           "GEM-E3_V2023"
          ],
          [
           "T34_1000_govem",
           "GEM-E3_V2023"
          ],
          [
           "T34_1000_govem",
           "GEM-E3_V2023"
          ],
          [
           "T34_1000_govem",
           "GEM-E3_V2023"
          ],
          [
           "T34_1000_govem",
           "GEM-E3_V2023"
          ],
          [
           "T34_1000_govem",
           "GEM-E3_V2023"
          ],
          [
           "T34_1000_govem",
           "GEM-E3_V2023"
          ],
          [
           "T34_1000_govem",
           "GEM-E3_V2023"
          ],
          [
           "T34_1000_govem",
           "GEM-E3_V2023"
          ],
          [
           "T34_1000_govem",
           "GEM-E3_V2023"
          ],
          [
           "T34_1000_govem",
           "GEM-E3_V2023"
          ],
          [
           "T34_1000_govem",
           "GEM-E3_V2023"
          ],
          [
           "T34_1000_govem",
           "GEM-E3_V2023"
          ]
         ],
         "hovertemplate": "region=OECD<br>model=%{customdata[1]}<br>scenario_narrative=Instit<br>year=%{x}<br>Emissions|Kyoto Gases=%{y}<br>scenario=%{customdata[0]}<extra></extra>",
         "legendgroup": "OECD, GEM-E3_V2023",
         "line": {
          "color": "#EF553B",
          "dash": "dash"
         },
         "marker": {
          "symbol": "circle"
         },
         "mode": "lines",
         "name": "OECD, GEM-E3_V2023",
         "showlegend": false,
         "type": "scattergl",
         "x": [
          2015,
          2020,
          2025,
          2030,
          2035,
          2040,
          2045,
          2050,
          2055,
          2060,
          2065,
          2070,
          2075,
          2080,
          2085,
          2090,
          2095,
          2100
         ],
         "xaxis": "x6",
         "y": [
          10871.914925956258,
          9481.220368757702,
          8767.025019121067,
          7355.253593151925,
          4742.480571524116,
          2678.188205623953,
          1007.6039209337334,
          525.1438135831545,
          -468.8333118407013,
          -1459.4488764269286,
          -1747.3817135877523,
          -1915.7181267499004,
          -2066.009446407632,
          -1554.125198580783,
          -727.5533451705148,
          -586.4396185162262,
          -501.3764870426469,
          -922.190360677412
         ],
         "yaxis": "y6"
        },
        {
         "customdata": [
          [
           "T34_1000_ref",
           "GEM-E3_V2023"
          ],
          [
           "T34_1000_ref",
           "GEM-E3_V2023"
          ],
          [
           "T34_1000_ref",
           "GEM-E3_V2023"
          ],
          [
           "T34_1000_ref",
           "GEM-E3_V2023"
          ],
          [
           "T34_1000_ref",
           "GEM-E3_V2023"
          ],
          [
           "T34_1000_ref",
           "GEM-E3_V2023"
          ],
          [
           "T34_1000_ref",
           "GEM-E3_V2023"
          ],
          [
           "T34_1000_ref",
           "GEM-E3_V2023"
          ],
          [
           "T34_1000_ref",
           "GEM-E3_V2023"
          ],
          [
           "T34_1000_ref",
           "GEM-E3_V2023"
          ],
          [
           "T34_1000_ref",
           "GEM-E3_V2023"
          ],
          [
           "T34_1000_ref",
           "GEM-E3_V2023"
          ],
          [
           "T34_1000_ref",
           "GEM-E3_V2023"
          ],
          [
           "T34_1000_ref",
           "GEM-E3_V2023"
          ],
          [
           "T34_1000_ref",
           "GEM-E3_V2023"
          ],
          [
           "T34_1000_ref",
           "GEM-E3_V2023"
          ],
          [
           "T34_1000_ref",
           "GEM-E3_V2023"
          ],
          [
           "T34_1000_ref",
           "GEM-E3_V2023"
          ]
         ],
         "hovertemplate": "region=OECD<br>model=%{customdata[1]}<br>scenario_narrative=Cost Effective<br>year=%{x}<br>Emissions|Kyoto Gases=%{y}<br>scenario=%{customdata[0]}<extra></extra>",
         "legendgroup": "OECD, GEM-E3_V2023",
         "line": {
          "color": "#EF553B",
          "dash": "dash"
         },
         "marker": {
          "symbol": "circle"
         },
         "mode": "lines",
         "name": "OECD, GEM-E3_V2023",
         "showlegend": false,
         "type": "scattergl",
         "x": [
          2015,
          2020,
          2025,
          2030,
          2035,
          2040,
          2045,
          2050,
          2055,
          2060,
          2065,
          2070,
          2075,
          2080,
          2085,
          2090,
          2095,
          2100
         ],
         "xaxis": "x",
         "y": [
          10871.914925956258,
          9481.220368757702,
          8930.622225023279,
          7949.8059691746175,
          6753.453046517115,
          5799.232016526744,
          4892.8012878397385,
          4072.0287751317082,
          3187.89921834747,
          2247.0900495512333,
          1856.1692883729852,
          1520.7919795636965,
          1484.3055127669495,
          1533.138829260414,
          1609.0148043153908,
          1662.0031677102238,
          1685.3290147601037,
          1668.5773596607044
         ],
         "yaxis": "y"
        },
        {
         "customdata": [
          [
           "T34_1000_bitb_em",
           "IMAGE 3.2"
          ],
          [
           "T34_1000_bitb_em",
           "IMAGE 3.2"
          ],
          [
           "T34_1000_bitb_em",
           "IMAGE 3.2"
          ],
          [
           "T34_1000_bitb_em",
           "IMAGE 3.2"
          ],
          [
           "T34_1000_bitb_em",
           "IMAGE 3.2"
          ],
          [
           "T34_1000_bitb_em",
           "IMAGE 3.2"
          ],
          [
           "T34_1000_bitb_em",
           "IMAGE 3.2"
          ],
          [
           "T34_1000_bitb_em",
           "IMAGE 3.2"
          ],
          [
           "T34_1000_bitb_em",
           "IMAGE 3.2"
          ],
          [
           "T34_1000_bitb_em",
           "IMAGE 3.2"
          ],
          [
           "T34_1000_bitb_em",
           "IMAGE 3.2"
          ],
          [
           "T34_1000_bitb_em",
           "IMAGE 3.2"
          ],
          [
           "T34_1000_bitb_em",
           "IMAGE 3.2"
          ],
          [
           "T34_1000_bitb_em",
           "IMAGE 3.2"
          ],
          [
           "T34_1000_bitb_em",
           "IMAGE 3.2"
          ],
          [
           "T34_1000_bitb_em",
           "IMAGE 3.2"
          ],
          [
           "T34_1000_bitb_em",
           "IMAGE 3.2"
          ],
          [
           "T34_1000_bitb_em",
           "IMAGE 3.2"
          ],
          [
           "T34_1000_bitb_em",
           "IMAGE 3.2"
          ],
          [
           "T34_1000_bitb_em",
           "IMAGE 3.2"
          ]
         ],
         "hovertemplate": "region=OECD<br>model=%{customdata[1]}<br>scenario_narrative=Tech+Inst<br>year=%{x}<br>Emissions|Kyoto Gases=%{y}<br>scenario=%{customdata[0]}<extra></extra>",
         "legendgroup": "OECD, IMAGE 3.2",
         "line": {
          "color": "#EF553B",
          "dash": "longdash"
         },
         "marker": {
          "symbol": "circle"
         },
         "mode": "lines",
         "name": "OECD, IMAGE 3.2",
         "showlegend": true,
         "type": "scattergl",
         "x": [
          2005,
          2010,
          2015,
          2020,
          2025,
          2030,
          2035,
          2040,
          2045,
          2050,
          2055,
          2060,
          2065,
          2070,
          2075,
          2080,
          2085,
          2090,
          2095,
          2100
         ],
         "xaxis": "x4",
         "y": [
          13593.864929199219,
          13221.207550048828,
          12751.902709960938,
          11908.013000488281,
          9074.651184082031,
          6443.767303466797,
          5158.971740722656,
          4647.105163574219,
          3672.8202514648438,
          2921.788055419922,
          2318.4965057373047,
          2124.92626953125,
          1822.7044067382812,
          1844.2926788330078,
          1494.7307052612305,
          1495.1425476074219,
          1217.68505859375,
          1322.2888107299805,
          1249.1246814727783,
          1323.7562637329102
         ],
         "yaxis": "y4"
        },
        {
         "customdata": [
          [
           "T34_1000_feas_em",
           "IMAGE 3.2"
          ],
          [
           "T34_1000_feas_em",
           "IMAGE 3.2"
          ],
          [
           "T34_1000_feas_em",
           "IMAGE 3.2"
          ],
          [
           "T34_1000_feas_em",
           "IMAGE 3.2"
          ],
          [
           "T34_1000_feas_em",
           "IMAGE 3.2"
          ],
          [
           "T34_1000_feas_em",
           "IMAGE 3.2"
          ],
          [
           "T34_1000_feas_em",
           "IMAGE 3.2"
          ],
          [
           "T34_1000_feas_em",
           "IMAGE 3.2"
          ],
          [
           "T34_1000_feas_em",
           "IMAGE 3.2"
          ],
          [
           "T34_1000_feas_em",
           "IMAGE 3.2"
          ],
          [
           "T34_1000_feas_em",
           "IMAGE 3.2"
          ],
          [
           "T34_1000_feas_em",
           "IMAGE 3.2"
          ],
          [
           "T34_1000_feas_em",
           "IMAGE 3.2"
          ],
          [
           "T34_1000_feas_em",
           "IMAGE 3.2"
          ],
          [
           "T34_1000_feas_em",
           "IMAGE 3.2"
          ],
          [
           "T34_1000_feas_em",
           "IMAGE 3.2"
          ],
          [
           "T34_1000_feas_em",
           "IMAGE 3.2"
          ],
          [
           "T34_1000_feas_em",
           "IMAGE 3.2"
          ],
          [
           "T34_1000_feas_em",
           "IMAGE 3.2"
          ],
          [
           "T34_1000_feas_em",
           "IMAGE 3.2"
          ]
         ],
         "hovertemplate": "region=OECD<br>model=%{customdata[1]}<br>scenario_narrative=Tech+Inst+Enab<br>year=%{x}<br>Emissions|Kyoto Gases=%{y}<br>scenario=%{customdata[0]}<extra></extra>",
         "legendgroup": "OECD, IMAGE 3.2",
         "line": {
          "color": "#EF553B",
          "dash": "longdash"
         },
         "marker": {
          "symbol": "circle"
         },
         "mode": "lines",
         "name": "OECD, IMAGE 3.2",
         "showlegend": false,
         "type": "scattergl",
         "x": [
          2005,
          2010,
          2015,
          2020,
          2025,
          2030,
          2035,
          2040,
          2045,
          2050,
          2055,
          2060,
          2065,
          2070,
          2075,
          2080,
          2085,
          2090,
          2095,
          2100
         ],
         "xaxis": "x5",
         "y": [
          13593.864929199219,
          13221.198333740234,
          12751.882995605469,
          11873.044921875,
          8873.333557128906,
          6571.272399902344,
          5361.055389404297,
          4683.178375244141,
          3746.3670959472656,
          3075.438934326172,
          2219.0470275878906,
          1647.2178649902344,
          1136.7731246948242,
          907.6305694580078,
          519.5635223388672,
          558.8050384521484,
          414.604079246521,
          263.78584146499634,
          273.4765386581421,
          464.40230560302734
         ],
         "yaxis": "y5"
        },
        {
         "customdata": [
          [
           "T34_1000_govem",
           "IMAGE 3.2"
          ],
          [
           "T34_1000_govem",
           "IMAGE 3.2"
          ],
          [
           "T34_1000_govem",
           "IMAGE 3.2"
          ],
          [
           "T34_1000_govem",
           "IMAGE 3.2"
          ],
          [
           "T34_1000_govem",
           "IMAGE 3.2"
          ],
          [
           "T34_1000_govem",
           "IMAGE 3.2"
          ],
          [
           "T34_1000_govem",
           "IMAGE 3.2"
          ],
          [
           "T34_1000_govem",
           "IMAGE 3.2"
          ],
          [
           "T34_1000_govem",
           "IMAGE 3.2"
          ],
          [
           "T34_1000_govem",
           "IMAGE 3.2"
          ],
          [
           "T34_1000_govem",
           "IMAGE 3.2"
          ],
          [
           "T34_1000_govem",
           "IMAGE 3.2"
          ],
          [
           "T34_1000_govem",
           "IMAGE 3.2"
          ],
          [
           "T34_1000_govem",
           "IMAGE 3.2"
          ],
          [
           "T34_1000_govem",
           "IMAGE 3.2"
          ],
          [
           "T34_1000_govem",
           "IMAGE 3.2"
          ],
          [
           "T34_1000_govem",
           "IMAGE 3.2"
          ],
          [
           "T34_1000_govem",
           "IMAGE 3.2"
          ],
          [
           "T34_1000_govem",
           "IMAGE 3.2"
          ],
          [
           "T34_1000_govem",
           "IMAGE 3.2"
          ]
         ],
         "hovertemplate": "region=OECD<br>model=%{customdata[1]}<br>scenario_narrative=Instit<br>year=%{x}<br>Emissions|Kyoto Gases=%{y}<br>scenario=%{customdata[0]}<extra></extra>",
         "legendgroup": "OECD, IMAGE 3.2",
         "line": {
          "color": "#EF553B",
          "dash": "longdash"
         },
         "marker": {
          "symbol": "circle"
         },
         "mode": "lines",
         "name": "OECD, IMAGE 3.2",
         "showlegend": false,
         "type": "scattergl",
         "x": [
          2005,
          2010,
          2015,
          2020,
          2025,
          2030,
          2035,
          2040,
          2045,
          2050,
          2055,
          2060,
          2065,
          2070,
          2075,
          2080,
          2085,
          2090,
          2095,
          2100
         ],
         "xaxis": "x6",
         "y": [
          13593.864929199219,
          13221.207550048828,
          12715.07568359375,
          11715.6962890625,
          9369.043029785156,
          6989.303649902344,
          5429.638671875,
          4214.2567138671875,
          3116.109573364258,
          2411.4544372558594,
          1797.6975860595703,
          1703.1535339355469,
          1494.9908599853516,
          1419.9946975708008,
          1416.6006774902344,
          1683.7167663574219,
          1596.2085266113281,
          1807.5955810546875,
          1561.0283432006836,
          1518.8236846923828
         ],
         "yaxis": "y6"
        },
        {
         "customdata": [
          [
           "T34_1000_ref",
           "IMAGE 3.2"
          ],
          [
           "T34_1000_ref",
           "IMAGE 3.2"
          ],
          [
           "T34_1000_ref",
           "IMAGE 3.2"
          ],
          [
           "T34_1000_ref",
           "IMAGE 3.2"
          ],
          [
           "T34_1000_ref",
           "IMAGE 3.2"
          ],
          [
           "T34_1000_ref",
           "IMAGE 3.2"
          ],
          [
           "T34_1000_ref",
           "IMAGE 3.2"
          ],
          [
           "T34_1000_ref",
           "IMAGE 3.2"
          ],
          [
           "T34_1000_ref",
           "IMAGE 3.2"
          ],
          [
           "T34_1000_ref",
           "IMAGE 3.2"
          ],
          [
           "T34_1000_ref",
           "IMAGE 3.2"
          ],
          [
           "T34_1000_ref",
           "IMAGE 3.2"
          ],
          [
           "T34_1000_ref",
           "IMAGE 3.2"
          ],
          [
           "T34_1000_ref",
           "IMAGE 3.2"
          ],
          [
           "T34_1000_ref",
           "IMAGE 3.2"
          ],
          [
           "T34_1000_ref",
           "IMAGE 3.2"
          ],
          [
           "T34_1000_ref",
           "IMAGE 3.2"
          ],
          [
           "T34_1000_ref",
           "IMAGE 3.2"
          ],
          [
           "T34_1000_ref",
           "IMAGE 3.2"
          ],
          [
           "T34_1000_ref",
           "IMAGE 3.2"
          ]
         ],
         "hovertemplate": "region=OECD<br>model=%{customdata[1]}<br>scenario_narrative=Cost Effective<br>year=%{x}<br>Emissions|Kyoto Gases=%{y}<br>scenario=%{customdata[0]}<extra></extra>",
         "legendgroup": "OECD, IMAGE 3.2",
         "line": {
          "color": "#EF553B",
          "dash": "longdash"
         },
         "marker": {
          "symbol": "circle"
         },
         "mode": "lines",
         "name": "OECD, IMAGE 3.2",
         "showlegend": false,
         "type": "scattergl",
         "x": [
          2005,
          2010,
          2015,
          2020,
          2025,
          2030,
          2035,
          2040,
          2045,
          2050,
          2055,
          2060,
          2065,
          2070,
          2075,
          2080,
          2085,
          2090,
          2095,
          2100
         ],
         "xaxis": "x",
         "y": [
          13593.864929199219,
          13221.207550048828,
          12715.07568359375,
          11715.6962890625,
          9823.292053222656,
          7595.433654785156,
          6065.062072753906,
          5019.622650146484,
          3987.3609008789062,
          3575.3983459472656,
          3066.8495330810547,
          2943.6424102783203,
          2549.77490234375,
          2396.3304290771484,
          2116.282485961914,
          2306.904006958008,
          2281.3463745117188,
          2546.6170959472656,
          2465.3120880126953,
          2580.5741119384766
         ],
         "yaxis": "y"
        },
        {
         "customdata": [
          [
           "T34_1000_bitb_ref",
           "IMAGE 3.2"
          ],
          [
           "T34_1000_bitb_ref",
           "IMAGE 3.2"
          ],
          [
           "T34_1000_bitb_ref",
           "IMAGE 3.2"
          ],
          [
           "T34_1000_bitb_ref",
           "IMAGE 3.2"
          ],
          [
           "T34_1000_bitb_ref",
           "IMAGE 3.2"
          ],
          [
           "T34_1000_bitb_ref",
           "IMAGE 3.2"
          ],
          [
           "T34_1000_bitb_ref",
           "IMAGE 3.2"
          ],
          [
           "T34_1000_bitb_ref",
           "IMAGE 3.2"
          ],
          [
           "T34_1000_bitb_ref",
           "IMAGE 3.2"
          ],
          [
           "T34_1000_bitb_ref",
           "IMAGE 3.2"
          ],
          [
           "T34_1000_bitb_ref",
           "IMAGE 3.2"
          ],
          [
           "T34_1000_bitb_ref",
           "IMAGE 3.2"
          ],
          [
           "T34_1000_bitb_ref",
           "IMAGE 3.2"
          ],
          [
           "T34_1000_bitb_ref",
           "IMAGE 3.2"
          ],
          [
           "T34_1000_bitb_ref",
           "IMAGE 3.2"
          ],
          [
           "T34_1000_bitb_ref",
           "IMAGE 3.2"
          ],
          [
           "T34_1000_bitb_ref",
           "IMAGE 3.2"
          ],
          [
           "T34_1000_bitb_ref",
           "IMAGE 3.2"
          ],
          [
           "T34_1000_bitb_ref",
           "IMAGE 3.2"
          ],
          [
           "T34_1000_bitb_ref",
           "IMAGE 3.2"
          ]
         ],
         "hovertemplate": "region=OECD<br>model=%{customdata[1]}<br>scenario_narrative=Tech<br>year=%{x}<br>Emissions|Kyoto Gases=%{y}<br>scenario=%{customdata[0]}<extra></extra>",
         "legendgroup": "OECD, IMAGE 3.2",
         "line": {
          "color": "#EF553B",
          "dash": "longdash"
         },
         "marker": {
          "symbol": "circle"
         },
         "mode": "lines",
         "name": "OECD, IMAGE 3.2",
         "showlegend": false,
         "type": "scattergl",
         "x": [
          2005,
          2010,
          2015,
          2020,
          2025,
          2030,
          2035,
          2040,
          2045,
          2050,
          2055,
          2060,
          2065,
          2070,
          2075,
          2080,
          2085,
          2090,
          2095,
          2100
         ],
         "xaxis": "x2",
         "y": [
          13593.864929199219,
          13221.207550048828,
          12751.902709960938,
          11908.013000488281,
          9364.464904785156,
          6953.1826171875,
          5634.310272216797,
          5198.027313232422,
          4263.7178955078125,
          3595.87841796875,
          3049.8204345703125,
          2837.5106048583984,
          2436.868408203125,
          2410.3597412109375,
          2044.3306579589844,
          1917.8097229003906,
          1613.2451553344727,
          1631.4750518798828,
          1479.3100242614746,
          1577.4389877319336
         ],
         "yaxis": "y2"
        },
        {
         "customdata": [
          [
           "T34_1000_bitb_em",
           "MESSAGEix-GLOBIOM_1.1"
          ],
          [
           "T34_1000_bitb_em",
           "MESSAGEix-GLOBIOM_1.1"
          ],
          [
           "T34_1000_bitb_em",
           "MESSAGEix-GLOBIOM_1.1"
          ],
          [
           "T34_1000_bitb_em",
           "MESSAGEix-GLOBIOM_1.1"
          ],
          [
           "T34_1000_bitb_em",
           "MESSAGEix-GLOBIOM_1.1"
          ],
          [
           "T34_1000_bitb_em",
           "MESSAGEix-GLOBIOM_1.1"
          ],
          [
           "T34_1000_bitb_em",
           "MESSAGEix-GLOBIOM_1.1"
          ],
          [
           "T34_1000_bitb_em",
           "MESSAGEix-GLOBIOM_1.1"
          ],
          [
           "T34_1000_bitb_em",
           "MESSAGEix-GLOBIOM_1.1"
          ],
          [
           "T34_1000_bitb_em",
           "MESSAGEix-GLOBIOM_1.1"
          ],
          [
           "T34_1000_bitb_em",
           "MESSAGEix-GLOBIOM_1.1"
          ],
          [
           "T34_1000_bitb_em",
           "MESSAGEix-GLOBIOM_1.1"
          ],
          [
           "T34_1000_bitb_em",
           "MESSAGEix-GLOBIOM_1.1"
          ],
          [
           "T34_1000_bitb_em",
           "MESSAGEix-GLOBIOM_1.1"
          ],
          [
           "T34_1000_bitb_em",
           "MESSAGEix-GLOBIOM_1.1"
          ],
          [
           "T34_1000_bitb_em",
           "MESSAGEix-GLOBIOM_1.1"
          ],
          [
           "T34_1000_bitb_em",
           "MESSAGEix-GLOBIOM_1.1"
          ],
          [
           "T34_1000_bitb_em",
           "MESSAGEix-GLOBIOM_1.1"
          ],
          [
           "T34_1000_bitb_em",
           "MESSAGEix-GLOBIOM_1.1"
          ],
          [
           "T34_1000_bitb_em",
           "MESSAGEix-GLOBIOM_1.1"
          ]
         ],
         "hovertemplate": "region=OECD<br>model=%{customdata[1]}<br>scenario_narrative=Tech+Inst<br>year=%{x}<br>Emissions|Kyoto Gases=%{y}<br>scenario=%{customdata[0]}<extra></extra>",
         "legendgroup": "OECD, MESSAGEix-GLOBIOM_1.1",
         "line": {
          "color": "#EF553B",
          "dash": "dashdot"
         },
         "marker": {
          "symbol": "circle"
         },
         "mode": "lines",
         "name": "OECD, MESSAGEix-GLOBIOM_1.1",
         "showlegend": true,
         "type": "scattergl",
         "x": [
          1990,
          1995,
          2000,
          2005,
          2010,
          2015,
          2020,
          2025,
          2030,
          2035,
          2040,
          2045,
          2050,
          2055,
          2060,
          2070,
          2080,
          2090,
          2100,
          2110
         ],
         "xaxis": "x4",
         "y": [
          13410.454668333334,
          13811.994669333333,
          14319.145588333333,
          14985.560541666668,
          13860.313440333333,
          13064.650746233332,
          12705.823091100989,
          10492.0569422285,
          7479.76337326776,
          5211.856228344856,
          3459.557500566756,
          2082.9945168018676,
          1112.778062797118,
          418.4188449753325,
          -312.6518985894999,
          -2275.7255024822343,
          -4587.9619310517755,
          -4901.355191048992,
          -4961.408020685718,
          -4920.26458390936
         ],
         "yaxis": "y4"
        },
        {
         "customdata": [
          [
           "T34_1000_feas_em",
           "MESSAGEix-GLOBIOM_1.1"
          ],
          [
           "T34_1000_feas_em",
           "MESSAGEix-GLOBIOM_1.1"
          ],
          [
           "T34_1000_feas_em",
           "MESSAGEix-GLOBIOM_1.1"
          ],
          [
           "T34_1000_feas_em",
           "MESSAGEix-GLOBIOM_1.1"
          ],
          [
           "T34_1000_feas_em",
           "MESSAGEix-GLOBIOM_1.1"
          ],
          [
           "T34_1000_feas_em",
           "MESSAGEix-GLOBIOM_1.1"
          ],
          [
           "T34_1000_feas_em",
           "MESSAGEix-GLOBIOM_1.1"
          ],
          [
           "T34_1000_feas_em",
           "MESSAGEix-GLOBIOM_1.1"
          ],
          [
           "T34_1000_feas_em",
           "MESSAGEix-GLOBIOM_1.1"
          ],
          [
           "T34_1000_feas_em",
           "MESSAGEix-GLOBIOM_1.1"
          ],
          [
           "T34_1000_feas_em",
           "MESSAGEix-GLOBIOM_1.1"
          ],
          [
           "T34_1000_feas_em",
           "MESSAGEix-GLOBIOM_1.1"
          ],
          [
           "T34_1000_feas_em",
           "MESSAGEix-GLOBIOM_1.1"
          ],
          [
           "T34_1000_feas_em",
           "MESSAGEix-GLOBIOM_1.1"
          ],
          [
           "T34_1000_feas_em",
           "MESSAGEix-GLOBIOM_1.1"
          ],
          [
           "T34_1000_feas_em",
           "MESSAGEix-GLOBIOM_1.1"
          ],
          [
           "T34_1000_feas_em",
           "MESSAGEix-GLOBIOM_1.1"
          ],
          [
           "T34_1000_feas_em",
           "MESSAGEix-GLOBIOM_1.1"
          ],
          [
           "T34_1000_feas_em",
           "MESSAGEix-GLOBIOM_1.1"
          ],
          [
           "T34_1000_feas_em",
           "MESSAGEix-GLOBIOM_1.1"
          ]
         ],
         "hovertemplate": "region=OECD<br>model=%{customdata[1]}<br>scenario_narrative=Tech+Inst+Enab<br>year=%{x}<br>Emissions|Kyoto Gases=%{y}<br>scenario=%{customdata[0]}<extra></extra>",
         "legendgroup": "OECD, MESSAGEix-GLOBIOM_1.1",
         "line": {
          "color": "#EF553B",
          "dash": "dashdot"
         },
         "marker": {
          "symbol": "circle"
         },
         "mode": "lines",
         "name": "OECD, MESSAGEix-GLOBIOM_1.1",
         "showlegend": false,
         "type": "scattergl",
         "x": [
          1990,
          1995,
          2000,
          2005,
          2010,
          2015,
          2020,
          2025,
          2030,
          2035,
          2040,
          2045,
          2050,
          2055,
          2060,
          2070,
          2080,
          2090,
          2100,
          2110
         ],
         "xaxis": "x5",
         "y": [
          13410.454668333334,
          13811.994669333333,
          14319.145588333333,
          14985.560541666668,
          13860.313440333333,
          13064.650746233332,
          12705.823091100989,
          10492.0569422285,
          8669.38089638187,
          6608.50210932902,
          4786.881909313291,
          3037.89684787316,
          1756.0472652611825,
          808.3613507744201,
          -18.56745473366894,
          -1723.6280256588689,
          -2846.053858458612,
          -3240.463981891091,
          -3811.732657240325,
          -3944.607428501341
         ],
         "yaxis": "y5"
        },
        {
         "customdata": [
          [
           "T34_1000_govem",
           "MESSAGEix-GLOBIOM_1.1"
          ],
          [
           "T34_1000_govem",
           "MESSAGEix-GLOBIOM_1.1"
          ],
          [
           "T34_1000_govem",
           "MESSAGEix-GLOBIOM_1.1"
          ],
          [
           "T34_1000_govem",
           "MESSAGEix-GLOBIOM_1.1"
          ],
          [
           "T34_1000_govem",
           "MESSAGEix-GLOBIOM_1.1"
          ],
          [
           "T34_1000_govem",
           "MESSAGEix-GLOBIOM_1.1"
          ],
          [
           "T34_1000_govem",
           "MESSAGEix-GLOBIOM_1.1"
          ],
          [
           "T34_1000_govem",
           "MESSAGEix-GLOBIOM_1.1"
          ],
          [
           "T34_1000_govem",
           "MESSAGEix-GLOBIOM_1.1"
          ],
          [
           "T34_1000_govem",
           "MESSAGEix-GLOBIOM_1.1"
          ],
          [
           "T34_1000_govem",
           "MESSAGEix-GLOBIOM_1.1"
          ],
          [
           "T34_1000_govem",
           "MESSAGEix-GLOBIOM_1.1"
          ],
          [
           "T34_1000_govem",
           "MESSAGEix-GLOBIOM_1.1"
          ],
          [
           "T34_1000_govem",
           "MESSAGEix-GLOBIOM_1.1"
          ],
          [
           "T34_1000_govem",
           "MESSAGEix-GLOBIOM_1.1"
          ],
          [
           "T34_1000_govem",
           "MESSAGEix-GLOBIOM_1.1"
          ],
          [
           "T34_1000_govem",
           "MESSAGEix-GLOBIOM_1.1"
          ],
          [
           "T34_1000_govem",
           "MESSAGEix-GLOBIOM_1.1"
          ],
          [
           "T34_1000_govem",
           "MESSAGEix-GLOBIOM_1.1"
          ],
          [
           "T34_1000_govem",
           "MESSAGEix-GLOBIOM_1.1"
          ]
         ],
         "hovertemplate": "region=OECD<br>model=%{customdata[1]}<br>scenario_narrative=Instit<br>year=%{x}<br>Emissions|Kyoto Gases=%{y}<br>scenario=%{customdata[0]}<extra></extra>",
         "legendgroup": "OECD, MESSAGEix-GLOBIOM_1.1",
         "line": {
          "color": "#EF553B",
          "dash": "dashdot"
         },
         "marker": {
          "symbol": "circle"
         },
         "mode": "lines",
         "name": "OECD, MESSAGEix-GLOBIOM_1.1",
         "showlegend": false,
         "type": "scattergl",
         "x": [
          1990,
          1995,
          2000,
          2005,
          2010,
          2015,
          2020,
          2025,
          2030,
          2035,
          2040,
          2045,
          2050,
          2055,
          2060,
          2070,
          2080,
          2090,
          2100,
          2110
         ],
         "xaxis": "x6",
         "y": [
          13410.454668333334,
          13811.994669333333,
          14319.145588333333,
          14985.560541666668,
          13860.313440333333,
          13064.650746233332,
          12705.823091100989,
          10492.0569422285,
          7550.571078436915,
          5332.673454647835,
          3594.681324835438,
          2167.131311929425,
          1191.7654827252204,
          486.52098879124526,
          -220.85471944269503,
          -2123.0481762003424,
          -4722.005349464405,
          -5664.530039050449,
          -6112.7138436245405,
          -6009.994705869812
         ],
         "yaxis": "y6"
        },
        {
         "customdata": [
          [
           "T34_1000_ref",
           "MESSAGEix-GLOBIOM_1.1"
          ],
          [
           "T34_1000_ref",
           "MESSAGEix-GLOBIOM_1.1"
          ],
          [
           "T34_1000_ref",
           "MESSAGEix-GLOBIOM_1.1"
          ],
          [
           "T34_1000_ref",
           "MESSAGEix-GLOBIOM_1.1"
          ],
          [
           "T34_1000_ref",
           "MESSAGEix-GLOBIOM_1.1"
          ],
          [
           "T34_1000_ref",
           "MESSAGEix-GLOBIOM_1.1"
          ],
          [
           "T34_1000_ref",
           "MESSAGEix-GLOBIOM_1.1"
          ],
          [
           "T34_1000_ref",
           "MESSAGEix-GLOBIOM_1.1"
          ],
          [
           "T34_1000_ref",
           "MESSAGEix-GLOBIOM_1.1"
          ],
          [
           "T34_1000_ref",
           "MESSAGEix-GLOBIOM_1.1"
          ],
          [
           "T34_1000_ref",
           "MESSAGEix-GLOBIOM_1.1"
          ],
          [
           "T34_1000_ref",
           "MESSAGEix-GLOBIOM_1.1"
          ],
          [
           "T34_1000_ref",
           "MESSAGEix-GLOBIOM_1.1"
          ],
          [
           "T34_1000_ref",
           "MESSAGEix-GLOBIOM_1.1"
          ],
          [
           "T34_1000_ref",
           "MESSAGEix-GLOBIOM_1.1"
          ],
          [
           "T34_1000_ref",
           "MESSAGEix-GLOBIOM_1.1"
          ],
          [
           "T34_1000_ref",
           "MESSAGEix-GLOBIOM_1.1"
          ],
          [
           "T34_1000_ref",
           "MESSAGEix-GLOBIOM_1.1"
          ],
          [
           "T34_1000_ref",
           "MESSAGEix-GLOBIOM_1.1"
          ],
          [
           "T34_1000_ref",
           "MESSAGEix-GLOBIOM_1.1"
          ]
         ],
         "hovertemplate": "region=OECD<br>model=%{customdata[1]}<br>scenario_narrative=Cost Effective<br>year=%{x}<br>Emissions|Kyoto Gases=%{y}<br>scenario=%{customdata[0]}<extra></extra>",
         "legendgroup": "OECD, MESSAGEix-GLOBIOM_1.1",
         "line": {
          "color": "#EF553B",
          "dash": "dashdot"
         },
         "marker": {
          "symbol": "circle"
         },
         "mode": "lines",
         "name": "OECD, MESSAGEix-GLOBIOM_1.1",
         "showlegend": false,
         "type": "scattergl",
         "x": [
          1990,
          1995,
          2000,
          2005,
          2010,
          2015,
          2020,
          2025,
          2030,
          2035,
          2040,
          2045,
          2050,
          2055,
          2060,
          2070,
          2080,
          2090,
          2100,
          2110
         ],
         "xaxis": "x",
         "y": [
          13410.454668333334,
          13811.994669333333,
          14319.145588333333,
          14985.560541666668,
          13860.313440333333,
          13064.650746233332,
          12705.823091100989,
          10492.0569422285,
          9331.486420997913,
          8330.40012150618,
          7002.362877371632,
          5322.4624574061,
          3920.05358761145,
          2621.10700950327,
          1932.8509893410903,
          605.9687717014126,
          690.8294851332586,
          991.5127847205715,
          970.4021512632797,
          894.0143656326928
         ],
         "yaxis": "y"
        },
        {
         "customdata": [
          [
           "T34_1000_bitb_ref",
           "MESSAGEix-GLOBIOM_1.1"
          ],
          [
           "T34_1000_bitb_ref",
           "MESSAGEix-GLOBIOM_1.1"
          ],
          [
           "T34_1000_bitb_ref",
           "MESSAGEix-GLOBIOM_1.1"
          ],
          [
           "T34_1000_bitb_ref",
           "MESSAGEix-GLOBIOM_1.1"
          ],
          [
           "T34_1000_bitb_ref",
           "MESSAGEix-GLOBIOM_1.1"
          ],
          [
           "T34_1000_bitb_ref",
           "MESSAGEix-GLOBIOM_1.1"
          ],
          [
           "T34_1000_bitb_ref",
           "MESSAGEix-GLOBIOM_1.1"
          ],
          [
           "T34_1000_bitb_ref",
           "MESSAGEix-GLOBIOM_1.1"
          ],
          [
           "T34_1000_bitb_ref",
           "MESSAGEix-GLOBIOM_1.1"
          ],
          [
           "T34_1000_bitb_ref",
           "MESSAGEix-GLOBIOM_1.1"
          ],
          [
           "T34_1000_bitb_ref",
           "MESSAGEix-GLOBIOM_1.1"
          ],
          [
           "T34_1000_bitb_ref",
           "MESSAGEix-GLOBIOM_1.1"
          ],
          [
           "T34_1000_bitb_ref",
           "MESSAGEix-GLOBIOM_1.1"
          ],
          [
           "T34_1000_bitb_ref",
           "MESSAGEix-GLOBIOM_1.1"
          ],
          [
           "T34_1000_bitb_ref",
           "MESSAGEix-GLOBIOM_1.1"
          ],
          [
           "T34_1000_bitb_ref",
           "MESSAGEix-GLOBIOM_1.1"
          ],
          [
           "T34_1000_bitb_ref",
           "MESSAGEix-GLOBIOM_1.1"
          ],
          [
           "T34_1000_bitb_ref",
           "MESSAGEix-GLOBIOM_1.1"
          ],
          [
           "T34_1000_bitb_ref",
           "MESSAGEix-GLOBIOM_1.1"
          ],
          [
           "T34_1000_bitb_ref",
           "MESSAGEix-GLOBIOM_1.1"
          ]
         ],
         "hovertemplate": "region=OECD<br>model=%{customdata[1]}<br>scenario_narrative=Tech<br>year=%{x}<br>Emissions|Kyoto Gases=%{y}<br>scenario=%{customdata[0]}<extra></extra>",
         "legendgroup": "OECD, MESSAGEix-GLOBIOM_1.1",
         "line": {
          "color": "#EF553B",
          "dash": "dashdot"
         },
         "marker": {
          "symbol": "circle"
         },
         "mode": "lines",
         "name": "OECD, MESSAGEix-GLOBIOM_1.1",
         "showlegend": false,
         "type": "scattergl",
         "x": [
          1990,
          1995,
          2000,
          2005,
          2010,
          2015,
          2020,
          2025,
          2030,
          2035,
          2040,
          2045,
          2050,
          2055,
          2060,
          2070,
          2080,
          2090,
          2100,
          2110
         ],
         "xaxis": "x2",
         "y": [
          13410.454668333334,
          13811.994669333333,
          14319.145588333333,
          14985.560541666668,
          13860.313440333333,
          13064.650746233332,
          12705.823091100989,
          10492.0569422285,
          9282.202949026545,
          8314.5921397594,
          6966.108112487107,
          5255.330611911965,
          3809.4556779441955,
          2620.2071176689196,
          2035.8903120477835,
          594.5577253518818,
          848.392174422557,
          1036.1967267984396,
          1048.2308332574207,
          1019.5681865405288
         ],
         "yaxis": "y2"
        },
        {
         "customdata": [
          [
           "T34_1000_enab_em",
           "MESSAGEix-GLOBIOM_1.1"
          ],
          [
           "T34_1000_enab_em",
           "MESSAGEix-GLOBIOM_1.1"
          ],
          [
           "T34_1000_enab_em",
           "MESSAGEix-GLOBIOM_1.1"
          ],
          [
           "T34_1000_enab_em",
           "MESSAGEix-GLOBIOM_1.1"
          ],
          [
           "T34_1000_enab_em",
           "MESSAGEix-GLOBIOM_1.1"
          ],
          [
           "T34_1000_enab_em",
           "MESSAGEix-GLOBIOM_1.1"
          ],
          [
           "T34_1000_enab_em",
           "MESSAGEix-GLOBIOM_1.1"
          ],
          [
           "T34_1000_enab_em",
           "MESSAGEix-GLOBIOM_1.1"
          ],
          [
           "T34_1000_enab_em",
           "MESSAGEix-GLOBIOM_1.1"
          ],
          [
           "T34_1000_enab_em",
           "MESSAGEix-GLOBIOM_1.1"
          ],
          [
           "T34_1000_enab_em",
           "MESSAGEix-GLOBIOM_1.1"
          ],
          [
           "T34_1000_enab_em",
           "MESSAGEix-GLOBIOM_1.1"
          ],
          [
           "T34_1000_enab_em",
           "MESSAGEix-GLOBIOM_1.1"
          ],
          [
           "T34_1000_enab_em",
           "MESSAGEix-GLOBIOM_1.1"
          ],
          [
           "T34_1000_enab_em",
           "MESSAGEix-GLOBIOM_1.1"
          ],
          [
           "T34_1000_enab_em",
           "MESSAGEix-GLOBIOM_1.1"
          ],
          [
           "T34_1000_enab_em",
           "MESSAGEix-GLOBIOM_1.1"
          ],
          [
           "T34_1000_enab_em",
           "MESSAGEix-GLOBIOM_1.1"
          ],
          [
           "T34_1000_enab_em",
           "MESSAGEix-GLOBIOM_1.1"
          ],
          [
           "T34_1000_enab_em",
           "MESSAGEix-GLOBIOM_1.1"
          ]
         ],
         "hovertemplate": "region=OECD<br>model=%{customdata[1]}<br>scenario_narrative=Inst+Enab<br>year=%{x}<br>Emissions|Kyoto Gases=%{y}<br>scenario=%{customdata[0]}<extra></extra>",
         "legendgroup": "OECD, MESSAGEix-GLOBIOM_1.1",
         "line": {
          "color": "#EF553B",
          "dash": "dashdot"
         },
         "marker": {
          "symbol": "circle"
         },
         "mode": "lines",
         "name": "OECD, MESSAGEix-GLOBIOM_1.1",
         "showlegend": false,
         "type": "scattergl",
         "x": [
          1990,
          1995,
          2000,
          2005,
          2010,
          2015,
          2020,
          2025,
          2030,
          2035,
          2040,
          2045,
          2050,
          2055,
          2060,
          2070,
          2080,
          2090,
          2100,
          2110
         ],
         "xaxis": "x3",
         "y": [
          13410.454668333334,
          13811.994669333333,
          14319.145588333333,
          14985.560541666668,
          13860.313440333333,
          13064.650746233332,
          12705.823091100989,
          10492.0569422285,
          8595.247668595777,
          6551.132228646628,
          4742.376207846299,
          3000.27350292318,
          1758.64060476949,
          803.5264484555375,
          -26.219233690622133,
          -1728.0116280726106,
          -2842.194358262943,
          -3223.939544260465,
          -3916.5445838542587,
          -4012.908836258913
         ],
         "yaxis": "y3"
        },
        {
         "customdata": [
          [
           "T34_1000_bitb_em",
           "POLES ENGAGE"
          ],
          [
           "T34_1000_bitb_em",
           "POLES ENGAGE"
          ],
          [
           "T34_1000_bitb_em",
           "POLES ENGAGE"
          ],
          [
           "T34_1000_bitb_em",
           "POLES ENGAGE"
          ],
          [
           "T34_1000_bitb_em",
           "POLES ENGAGE"
          ],
          [
           "T34_1000_bitb_em",
           "POLES ENGAGE"
          ],
          [
           "T34_1000_bitb_em",
           "POLES ENGAGE"
          ],
          [
           "T34_1000_bitb_em",
           "POLES ENGAGE"
          ],
          [
           "T34_1000_bitb_em",
           "POLES ENGAGE"
          ],
          [
           "T34_1000_bitb_em",
           "POLES ENGAGE"
          ],
          [
           "T34_1000_bitb_em",
           "POLES ENGAGE"
          ],
          [
           "T34_1000_bitb_em",
           "POLES ENGAGE"
          ],
          [
           "T34_1000_bitb_em",
           "POLES ENGAGE"
          ],
          [
           "T34_1000_bitb_em",
           "POLES ENGAGE"
          ],
          [
           "T34_1000_bitb_em",
           "POLES ENGAGE"
          ]
         ],
         "hovertemplate": "region=OECD<br>model=%{customdata[1]}<br>scenario_narrative=Tech+Inst<br>year=%{x}<br>Emissions|Kyoto Gases=%{y}<br>scenario=%{customdata[0]}<extra></extra>",
         "legendgroup": "OECD, POLES ENGAGE",
         "line": {
          "color": "#EF553B",
          "dash": "longdashdot"
         },
         "marker": {
          "symbol": "circle"
         },
         "mode": "lines",
         "name": "OECD, POLES ENGAGE",
         "showlegend": true,
         "type": "scattergl",
         "x": [
          2005,
          2010,
          2015,
          2020,
          2025,
          2030,
          2035,
          2040,
          2045,
          2050,
          2060,
          2070,
          2080,
          2090,
          2100
         ],
         "xaxis": "x4",
         "y": [
          12577.30078125,
          12186.89013671875,
          11558.91259765625,
          10327.32275390625,
          9208.92529296875,
          6027.581787109375,
          4273.866455078125,
          2522.1785888671875,
          1362.6516723632812,
          961.2648315429688,
          -381.98179626464844,
          -1123.4878234863281,
          -956.1220703125,
          -1143.97998046875,
          -1242.3087768554688
         ],
         "yaxis": "y4"
        },
        {
         "customdata": [
          [
           "T34_1000_feas_em",
           "POLES ENGAGE"
          ],
          [
           "T34_1000_feas_em",
           "POLES ENGAGE"
          ],
          [
           "T34_1000_feas_em",
           "POLES ENGAGE"
          ],
          [
           "T34_1000_feas_em",
           "POLES ENGAGE"
          ],
          [
           "T34_1000_feas_em",
           "POLES ENGAGE"
          ],
          [
           "T34_1000_feas_em",
           "POLES ENGAGE"
          ],
          [
           "T34_1000_feas_em",
           "POLES ENGAGE"
          ],
          [
           "T34_1000_feas_em",
           "POLES ENGAGE"
          ],
          [
           "T34_1000_feas_em",
           "POLES ENGAGE"
          ],
          [
           "T34_1000_feas_em",
           "POLES ENGAGE"
          ],
          [
           "T34_1000_feas_em",
           "POLES ENGAGE"
          ],
          [
           "T34_1000_feas_em",
           "POLES ENGAGE"
          ],
          [
           "T34_1000_feas_em",
           "POLES ENGAGE"
          ],
          [
           "T34_1000_feas_em",
           "POLES ENGAGE"
          ],
          [
           "T34_1000_feas_em",
           "POLES ENGAGE"
          ]
         ],
         "hovertemplate": "region=OECD<br>model=%{customdata[1]}<br>scenario_narrative=Tech+Inst+Enab<br>year=%{x}<br>Emissions|Kyoto Gases=%{y}<br>scenario=%{customdata[0]}<extra></extra>",
         "legendgroup": "OECD, POLES ENGAGE",
         "line": {
          "color": "#EF553B",
          "dash": "longdashdot"
         },
         "marker": {
          "symbol": "circle"
         },
         "mode": "lines",
         "name": "OECD, POLES ENGAGE",
         "showlegend": false,
         "type": "scattergl",
         "x": [
          2005,
          2010,
          2015,
          2020,
          2025,
          2030,
          2035,
          2040,
          2045,
          2050,
          2060,
          2070,
          2080,
          2090,
          2100
         ],
         "xaxis": "x5",
         "y": [
          12577.30078125,
          12186.89013671875,
          11558.91259765625,
          10327.32275390625,
          8821.9326171875,
          5237.232421875,
          3565.9820556640625,
          2460.9635009765625,
          1484.2122802734375,
          961.7668762207031,
          -240.6640911102295,
          -1021.915771484375,
          -1370.8107147216797,
          -424.5795440673828,
          1662.6966552734375
         ],
         "yaxis": "y5"
        },
        {
         "customdata": [
          [
           "T34_1000_govem",
           "POLES ENGAGE"
          ],
          [
           "T34_1000_govem",
           "POLES ENGAGE"
          ],
          [
           "T34_1000_govem",
           "POLES ENGAGE"
          ],
          [
           "T34_1000_govem",
           "POLES ENGAGE"
          ],
          [
           "T34_1000_govem",
           "POLES ENGAGE"
          ],
          [
           "T34_1000_govem",
           "POLES ENGAGE"
          ],
          [
           "T34_1000_govem",
           "POLES ENGAGE"
          ],
          [
           "T34_1000_govem",
           "POLES ENGAGE"
          ],
          [
           "T34_1000_govem",
           "POLES ENGAGE"
          ],
          [
           "T34_1000_govem",
           "POLES ENGAGE"
          ],
          [
           "T34_1000_govem",
           "POLES ENGAGE"
          ],
          [
           "T34_1000_govem",
           "POLES ENGAGE"
          ],
          [
           "T34_1000_govem",
           "POLES ENGAGE"
          ],
          [
           "T34_1000_govem",
           "POLES ENGAGE"
          ],
          [
           "T34_1000_govem",
           "POLES ENGAGE"
          ]
         ],
         "hovertemplate": "region=OECD<br>model=%{customdata[1]}<br>scenario_narrative=Instit<br>year=%{x}<br>Emissions|Kyoto Gases=%{y}<br>scenario=%{customdata[0]}<extra></extra>",
         "legendgroup": "OECD, POLES ENGAGE",
         "line": {
          "color": "#EF553B",
          "dash": "longdashdot"
         },
         "marker": {
          "symbol": "circle"
         },
         "mode": "lines",
         "name": "OECD, POLES ENGAGE",
         "showlegend": false,
         "type": "scattergl",
         "x": [
          2005,
          2010,
          2015,
          2020,
          2025,
          2030,
          2035,
          2040,
          2045,
          2050,
          2060,
          2070,
          2080,
          2090,
          2100
         ],
         "xaxis": "x6",
         "y": [
          12577.30078125,
          12186.89013671875,
          11558.91259765625,
          10327.322265625,
          9186.759765625,
          6031.661376953125,
          4291.333251953125,
          2712.2586669921875,
          1513.0075073242188,
          1000.0426330566406,
          -259.668212890625,
          -1163.9729309082031,
          -1686.5599975585938,
          -287.1644592285156,
          2532.0765380859375
         ],
         "yaxis": "y6"
        },
        {
         "customdata": [
          [
           "T34_1000_ref",
           "POLES ENGAGE"
          ],
          [
           "T34_1000_ref",
           "POLES ENGAGE"
          ],
          [
           "T34_1000_ref",
           "POLES ENGAGE"
          ],
          [
           "T34_1000_ref",
           "POLES ENGAGE"
          ],
          [
           "T34_1000_ref",
           "POLES ENGAGE"
          ],
          [
           "T34_1000_ref",
           "POLES ENGAGE"
          ],
          [
           "T34_1000_ref",
           "POLES ENGAGE"
          ],
          [
           "T34_1000_ref",
           "POLES ENGAGE"
          ],
          [
           "T34_1000_ref",
           "POLES ENGAGE"
          ],
          [
           "T34_1000_ref",
           "POLES ENGAGE"
          ],
          [
           "T34_1000_ref",
           "POLES ENGAGE"
          ],
          [
           "T34_1000_ref",
           "POLES ENGAGE"
          ],
          [
           "T34_1000_ref",
           "POLES ENGAGE"
          ],
          [
           "T34_1000_ref",
           "POLES ENGAGE"
          ],
          [
           "T34_1000_ref",
           "POLES ENGAGE"
          ]
         ],
         "hovertemplate": "region=OECD<br>model=%{customdata[1]}<br>scenario_narrative=Cost Effective<br>year=%{x}<br>Emissions|Kyoto Gases=%{y}<br>scenario=%{customdata[0]}<extra></extra>",
         "legendgroup": "OECD, POLES ENGAGE",
         "line": {
          "color": "#EF553B",
          "dash": "longdashdot"
         },
         "marker": {
          "symbol": "circle"
         },
         "mode": "lines",
         "name": "OECD, POLES ENGAGE",
         "showlegend": false,
         "type": "scattergl",
         "x": [
          2005,
          2010,
          2015,
          2020,
          2025,
          2030,
          2035,
          2040,
          2045,
          2050,
          2060,
          2070,
          2080,
          2090,
          2100
         ],
         "xaxis": "x",
         "y": [
          12577.30078125,
          12186.89013671875,
          11558.91259765625,
          10327.32275390625,
          9535.41357421875,
          6916.20849609375,
          5330.8109130859375,
          3780.41748046875,
          2422.8079223632812,
          1768.5654907226562,
          949.2096557617188,
          664.916259765625,
          582.2613220214844,
          443.7300224304199,
          339.02262115478516
         ],
         "yaxis": "y"
        },
        {
         "customdata": [
          [
           "T34_1000_bitb_ref",
           "POLES ENGAGE"
          ],
          [
           "T34_1000_bitb_ref",
           "POLES ENGAGE"
          ],
          [
           "T34_1000_bitb_ref",
           "POLES ENGAGE"
          ],
          [
           "T34_1000_bitb_ref",
           "POLES ENGAGE"
          ],
          [
           "T34_1000_bitb_ref",
           "POLES ENGAGE"
          ],
          [
           "T34_1000_bitb_ref",
           "POLES ENGAGE"
          ],
          [
           "T34_1000_bitb_ref",
           "POLES ENGAGE"
          ],
          [
           "T34_1000_bitb_ref",
           "POLES ENGAGE"
          ],
          [
           "T34_1000_bitb_ref",
           "POLES ENGAGE"
          ],
          [
           "T34_1000_bitb_ref",
           "POLES ENGAGE"
          ],
          [
           "T34_1000_bitb_ref",
           "POLES ENGAGE"
          ],
          [
           "T34_1000_bitb_ref",
           "POLES ENGAGE"
          ],
          [
           "T34_1000_bitb_ref",
           "POLES ENGAGE"
          ],
          [
           "T34_1000_bitb_ref",
           "POLES ENGAGE"
          ],
          [
           "T34_1000_bitb_ref",
           "POLES ENGAGE"
          ]
         ],
         "hovertemplate": "region=OECD<br>model=%{customdata[1]}<br>scenario_narrative=Tech<br>year=%{x}<br>Emissions|Kyoto Gases=%{y}<br>scenario=%{customdata[0]}<extra></extra>",
         "legendgroup": "OECD, POLES ENGAGE",
         "line": {
          "color": "#EF553B",
          "dash": "longdashdot"
         },
         "marker": {
          "symbol": "circle"
         },
         "mode": "lines",
         "name": "OECD, POLES ENGAGE",
         "showlegend": false,
         "type": "scattergl",
         "x": [
          2005,
          2010,
          2015,
          2020,
          2025,
          2030,
          2035,
          2040,
          2045,
          2050,
          2060,
          2070,
          2080,
          2090,
          2100
         ],
         "xaxis": "x2",
         "y": [
          12577.30078125,
          12186.89013671875,
          11558.91259765625,
          10321.404296875,
          9673.484619140625,
          7381.142578125,
          5955.5712890625,
          4674.6324462890625,
          3483.63671875,
          2796.9722900390625,
          1543.4646606445312,
          646.5064392089844,
          154.9255714416504,
          -273.096586227417,
          -716.7095031738281
         ],
         "yaxis": "y2"
        },
        {
         "customdata": [
          [
           "T34_1000_bitb_em",
           "REMIND 3.0"
          ],
          [
           "T34_1000_bitb_em",
           "REMIND 3.0"
          ],
          [
           "T34_1000_bitb_em",
           "REMIND 3.0"
          ],
          [
           "T34_1000_bitb_em",
           "REMIND 3.0"
          ],
          [
           "T34_1000_bitb_em",
           "REMIND 3.0"
          ],
          [
           "T34_1000_bitb_em",
           "REMIND 3.0"
          ],
          [
           "T34_1000_bitb_em",
           "REMIND 3.0"
          ],
          [
           "T34_1000_bitb_em",
           "REMIND 3.0"
          ],
          [
           "T34_1000_bitb_em",
           "REMIND 3.0"
          ],
          [
           "T34_1000_bitb_em",
           "REMIND 3.0"
          ],
          [
           "T34_1000_bitb_em",
           "REMIND 3.0"
          ],
          [
           "T34_1000_bitb_em",
           "REMIND 3.0"
          ],
          [
           "T34_1000_bitb_em",
           "REMIND 3.0"
          ],
          [
           "T34_1000_bitb_em",
           "REMIND 3.0"
          ],
          [
           "T34_1000_bitb_em",
           "REMIND 3.0"
          ],
          [
           "T34_1000_bitb_em",
           "REMIND 3.0"
          ]
         ],
         "hovertemplate": "region=OECD<br>model=%{customdata[1]}<br>scenario_narrative=Tech+Inst<br>year=%{x}<br>Emissions|Kyoto Gases=%{y}<br>scenario=%{customdata[0]}<extra></extra>",
         "legendgroup": "OECD, REMIND 3.0",
         "line": {
          "color": "#EF553B",
          "dash": "solid"
         },
         "marker": {
          "symbol": "circle"
         },
         "mode": "lines",
         "name": "OECD, REMIND 3.0",
         "showlegend": true,
         "type": "scattergl",
         "x": [
          2005,
          2010,
          2015,
          2020,
          2025,
          2030,
          2035,
          2040,
          2045,
          2050,
          2055,
          2060,
          2070,
          2080,
          2090,
          2100
         ],
         "xaxis": "x4",
         "y": [
          13072.5794726,
          11838.253859699998,
          11015.080150400001,
          10095.6317483,
          8120.6673443,
          6212.0960206,
          4382.3964255,
          2649.5678958,
          1285.000241,
          627.7953128,
          299.1206277,
          100.30587629999997,
          31.210495400000013,
          148.62897860000004,
          501.1805915,
          925.9214038
         ],
         "yaxis": "y4"
        },
        {
         "customdata": [
          [
           "T34_1000_feas_em",
           "REMIND 3.0"
          ],
          [
           "T34_1000_feas_em",
           "REMIND 3.0"
          ],
          [
           "T34_1000_feas_em",
           "REMIND 3.0"
          ],
          [
           "T34_1000_feas_em",
           "REMIND 3.0"
          ],
          [
           "T34_1000_feas_em",
           "REMIND 3.0"
          ],
          [
           "T34_1000_feas_em",
           "REMIND 3.0"
          ],
          [
           "T34_1000_feas_em",
           "REMIND 3.0"
          ],
          [
           "T34_1000_feas_em",
           "REMIND 3.0"
          ],
          [
           "T34_1000_feas_em",
           "REMIND 3.0"
          ],
          [
           "T34_1000_feas_em",
           "REMIND 3.0"
          ],
          [
           "T34_1000_feas_em",
           "REMIND 3.0"
          ],
          [
           "T34_1000_feas_em",
           "REMIND 3.0"
          ],
          [
           "T34_1000_feas_em",
           "REMIND 3.0"
          ],
          [
           "T34_1000_feas_em",
           "REMIND 3.0"
          ],
          [
           "T34_1000_feas_em",
           "REMIND 3.0"
          ],
          [
           "T34_1000_feas_em",
           "REMIND 3.0"
          ]
         ],
         "hovertemplate": "region=OECD<br>model=%{customdata[1]}<br>scenario_narrative=Tech+Inst+Enab<br>year=%{x}<br>Emissions|Kyoto Gases=%{y}<br>scenario=%{customdata[0]}<extra></extra>",
         "legendgroup": "OECD, REMIND 3.0",
         "line": {
          "color": "#EF553B",
          "dash": "solid"
         },
         "marker": {
          "symbol": "circle"
         },
         "mode": "lines",
         "name": "OECD, REMIND 3.0",
         "showlegend": false,
         "type": "scattergl",
         "x": [
          2005,
          2010,
          2015,
          2020,
          2025,
          2030,
          2035,
          2040,
          2045,
          2050,
          2055,
          2060,
          2070,
          2080,
          2090,
          2100
         ],
         "xaxis": "x5",
         "y": [
          13072.5794726,
          11838.253859699998,
          11015.080150400001,
          10095.6317483,
          8010.2311825,
          5901.5652001,
          4297.3936522,
          2855.1939864,
          1855.8949247,
          1203.474177,
          875.473225,
          626.9347744,
          402.0189009,
          362.9187892,
          427.9559053,
          856.918269
         ],
         "yaxis": "y5"
        },
        {
         "customdata": [
          [
           "T34_1000_govem",
           "REMIND 3.0"
          ],
          [
           "T34_1000_govem",
           "REMIND 3.0"
          ],
          [
           "T34_1000_govem",
           "REMIND 3.0"
          ],
          [
           "T34_1000_govem",
           "REMIND 3.0"
          ],
          [
           "T34_1000_govem",
           "REMIND 3.0"
          ],
          [
           "T34_1000_govem",
           "REMIND 3.0"
          ],
          [
           "T34_1000_govem",
           "REMIND 3.0"
          ],
          [
           "T34_1000_govem",
           "REMIND 3.0"
          ],
          [
           "T34_1000_govem",
           "REMIND 3.0"
          ],
          [
           "T34_1000_govem",
           "REMIND 3.0"
          ],
          [
           "T34_1000_govem",
           "REMIND 3.0"
          ],
          [
           "T34_1000_govem",
           "REMIND 3.0"
          ],
          [
           "T34_1000_govem",
           "REMIND 3.0"
          ],
          [
           "T34_1000_govem",
           "REMIND 3.0"
          ],
          [
           "T34_1000_govem",
           "REMIND 3.0"
          ],
          [
           "T34_1000_govem",
           "REMIND 3.0"
          ]
         ],
         "hovertemplate": "region=OECD<br>model=%{customdata[1]}<br>scenario_narrative=Instit<br>year=%{x}<br>Emissions|Kyoto Gases=%{y}<br>scenario=%{customdata[0]}<extra></extra>",
         "legendgroup": "OECD, REMIND 3.0",
         "line": {
          "color": "#EF553B",
          "dash": "solid"
         },
         "marker": {
          "symbol": "circle"
         },
         "mode": "lines",
         "name": "OECD, REMIND 3.0",
         "showlegend": false,
         "type": "scattergl",
         "x": [
          2005,
          2010,
          2015,
          2020,
          2025,
          2030,
          2035,
          2040,
          2045,
          2050,
          2055,
          2060,
          2070,
          2080,
          2090,
          2100
         ],
         "xaxis": "x6",
         "y": [
          13072.5794726,
          11838.253859699998,
          11015.080150400001,
          10095.6317483,
          8175.1711344,
          6408.3551164,
          4595.0542266,
          2843.0268547,
          1440.3510557,
          611.6495829,
          148.7396673,
          -274.09037550000005,
          -469.2466174,
          -221.3741415,
          267.9103566,
          929.5395358999999
         ],
         "yaxis": "y6"
        },
        {
         "customdata": [
          [
           "T34_1000_ref",
           "REMIND 3.0"
          ],
          [
           "T34_1000_ref",
           "REMIND 3.0"
          ],
          [
           "T34_1000_ref",
           "REMIND 3.0"
          ],
          [
           "T34_1000_ref",
           "REMIND 3.0"
          ],
          [
           "T34_1000_ref",
           "REMIND 3.0"
          ],
          [
           "T34_1000_ref",
           "REMIND 3.0"
          ],
          [
           "T34_1000_ref",
           "REMIND 3.0"
          ],
          [
           "T34_1000_ref",
           "REMIND 3.0"
          ],
          [
           "T34_1000_ref",
           "REMIND 3.0"
          ],
          [
           "T34_1000_ref",
           "REMIND 3.0"
          ],
          [
           "T34_1000_ref",
           "REMIND 3.0"
          ],
          [
           "T34_1000_ref",
           "REMIND 3.0"
          ],
          [
           "T34_1000_ref",
           "REMIND 3.0"
          ],
          [
           "T34_1000_ref",
           "REMIND 3.0"
          ],
          [
           "T34_1000_ref",
           "REMIND 3.0"
          ],
          [
           "T34_1000_ref",
           "REMIND 3.0"
          ]
         ],
         "hovertemplate": "region=OECD<br>model=%{customdata[1]}<br>scenario_narrative=Cost Effective<br>year=%{x}<br>Emissions|Kyoto Gases=%{y}<br>scenario=%{customdata[0]}<extra></extra>",
         "legendgroup": "OECD, REMIND 3.0",
         "line": {
          "color": "#EF553B",
          "dash": "solid"
         },
         "marker": {
          "symbol": "circle"
         },
         "mode": "lines",
         "name": "OECD, REMIND 3.0",
         "showlegend": false,
         "type": "scattergl",
         "x": [
          2005,
          2010,
          2015,
          2020,
          2025,
          2030,
          2035,
          2040,
          2045,
          2050,
          2055,
          2060,
          2070,
          2080,
          2090,
          2100
         ],
         "xaxis": "x",
         "y": [
          13072.5794726,
          11838.253859699998,
          11015.080150400001,
          10095.6317483,
          8402.6840929,
          7024.6427556,
          5465.3812516,
          3785.1422181,
          2477.4680567,
          1671.1081060000001,
          1244.2301648,
          775.9948133,
          579.2154006000001,
          659.6087411,
          775.9395208000001,
          771.5233891
         ],
         "yaxis": "y"
        },
        {
         "customdata": [
          [
           "T34_1000_bitb_ref",
           "REMIND 3.0"
          ],
          [
           "T34_1000_bitb_ref",
           "REMIND 3.0"
          ],
          [
           "T34_1000_bitb_ref",
           "REMIND 3.0"
          ],
          [
           "T34_1000_bitb_ref",
           "REMIND 3.0"
          ],
          [
           "T34_1000_bitb_ref",
           "REMIND 3.0"
          ],
          [
           "T34_1000_bitb_ref",
           "REMIND 3.0"
          ],
          [
           "T34_1000_bitb_ref",
           "REMIND 3.0"
          ],
          [
           "T34_1000_bitb_ref",
           "REMIND 3.0"
          ],
          [
           "T34_1000_bitb_ref",
           "REMIND 3.0"
          ],
          [
           "T34_1000_bitb_ref",
           "REMIND 3.0"
          ],
          [
           "T34_1000_bitb_ref",
           "REMIND 3.0"
          ],
          [
           "T34_1000_bitb_ref",
           "REMIND 3.0"
          ],
          [
           "T34_1000_bitb_ref",
           "REMIND 3.0"
          ],
          [
           "T34_1000_bitb_ref",
           "REMIND 3.0"
          ],
          [
           "T34_1000_bitb_ref",
           "REMIND 3.0"
          ],
          [
           "T34_1000_bitb_ref",
           "REMIND 3.0"
          ]
         ],
         "hovertemplate": "region=OECD<br>model=%{customdata[1]}<br>scenario_narrative=Tech<br>year=%{x}<br>Emissions|Kyoto Gases=%{y}<br>scenario=%{customdata[0]}<extra></extra>",
         "legendgroup": "OECD, REMIND 3.0",
         "line": {
          "color": "#EF553B",
          "dash": "solid"
         },
         "marker": {
          "symbol": "circle"
         },
         "mode": "lines",
         "name": "OECD, REMIND 3.0",
         "showlegend": false,
         "type": "scattergl",
         "x": [
          2005,
          2010,
          2015,
          2020,
          2025,
          2030,
          2035,
          2040,
          2045,
          2050,
          2055,
          2060,
          2070,
          2080,
          2090,
          2100
         ],
         "xaxis": "x2",
         "y": [
          13072.5794726,
          11838.253859699998,
          11015.080150400001,
          10095.6317483,
          8375.1897689,
          6857.1979682,
          5221.5788433,
          3685.6245054,
          2341.7569788,
          1551.9045918,
          1209.1139173,
          940.6291651,
          739.3450115999999,
          680.6623744999999,
          750.2956025999999,
          736.854664
         ],
         "yaxis": "y2"
        },
        {
         "customdata": [
          [
           "T34_1000_enab_em",
           "REMIND 3.0"
          ],
          [
           "T34_1000_enab_em",
           "REMIND 3.0"
          ],
          [
           "T34_1000_enab_em",
           "REMIND 3.0"
          ],
          [
           "T34_1000_enab_em",
           "REMIND 3.0"
          ],
          [
           "T34_1000_enab_em",
           "REMIND 3.0"
          ],
          [
           "T34_1000_enab_em",
           "REMIND 3.0"
          ],
          [
           "T34_1000_enab_em",
           "REMIND 3.0"
          ],
          [
           "T34_1000_enab_em",
           "REMIND 3.0"
          ],
          [
           "T34_1000_enab_em",
           "REMIND 3.0"
          ],
          [
           "T34_1000_enab_em",
           "REMIND 3.0"
          ],
          [
           "T34_1000_enab_em",
           "REMIND 3.0"
          ],
          [
           "T34_1000_enab_em",
           "REMIND 3.0"
          ],
          [
           "T34_1000_enab_em",
           "REMIND 3.0"
          ],
          [
           "T34_1000_enab_em",
           "REMIND 3.0"
          ],
          [
           "T34_1000_enab_em",
           "REMIND 3.0"
          ],
          [
           "T34_1000_enab_em",
           "REMIND 3.0"
          ]
         ],
         "hovertemplate": "region=OECD<br>model=%{customdata[1]}<br>scenario_narrative=Inst+Enab<br>year=%{x}<br>Emissions|Kyoto Gases=%{y}<br>scenario=%{customdata[0]}<extra></extra>",
         "legendgroup": "OECD, REMIND 3.0",
         "line": {
          "color": "#EF553B",
          "dash": "solid"
         },
         "marker": {
          "symbol": "circle"
         },
         "mode": "lines",
         "name": "OECD, REMIND 3.0",
         "showlegend": false,
         "type": "scattergl",
         "x": [
          2005,
          2010,
          2015,
          2020,
          2025,
          2030,
          2035,
          2040,
          2045,
          2050,
          2055,
          2060,
          2070,
          2080,
          2090,
          2100
         ],
         "xaxis": "x3",
         "y": [
          13072.5794726,
          11838.253859699998,
          11015.080150400001,
          10095.6317483,
          8020.7776732,
          5969.1495643,
          4403.6501834,
          2891.0417483,
          1887.483249,
          1221.1075336,
          863.4332231000001,
          559.6397365,
          282.4534951,
          301.1703836,
          520.2313243,
          865.9615852
         ],
         "yaxis": "y3"
        },
        {
         "customdata": [
          [
           "T34_1000_bitb_em",
           "WITCH 5.0"
          ],
          [
           "T34_1000_bitb_em",
           "WITCH 5.0"
          ],
          [
           "T34_1000_bitb_em",
           "WITCH 5.0"
          ],
          [
           "T34_1000_bitb_em",
           "WITCH 5.0"
          ],
          [
           "T34_1000_bitb_em",
           "WITCH 5.0"
          ],
          [
           "T34_1000_bitb_em",
           "WITCH 5.0"
          ],
          [
           "T34_1000_bitb_em",
           "WITCH 5.0"
          ],
          [
           "T34_1000_bitb_em",
           "WITCH 5.0"
          ],
          [
           "T34_1000_bitb_em",
           "WITCH 5.0"
          ],
          [
           "T34_1000_bitb_em",
           "WITCH 5.0"
          ],
          [
           "T34_1000_bitb_em",
           "WITCH 5.0"
          ],
          [
           "T34_1000_bitb_em",
           "WITCH 5.0"
          ],
          [
           "T34_1000_bitb_em",
           "WITCH 5.0"
          ],
          [
           "T34_1000_bitb_em",
           "WITCH 5.0"
          ],
          [
           "T34_1000_bitb_em",
           "WITCH 5.0"
          ],
          [
           "T34_1000_bitb_em",
           "WITCH 5.0"
          ],
          [
           "T34_1000_bitb_em",
           "WITCH 5.0"
          ],
          [
           "T34_1000_bitb_em",
           "WITCH 5.0"
          ],
          [
           "T34_1000_bitb_em",
           "WITCH 5.0"
          ],
          [
           "T34_1000_bitb_em",
           "WITCH 5.0"
          ]
         ],
         "hovertemplate": "region=OECD<br>model=%{customdata[1]}<br>scenario_narrative=Tech+Inst<br>year=%{x}<br>Emissions|Kyoto Gases=%{y}<br>scenario=%{customdata[0]}<extra></extra>",
         "legendgroup": "OECD, WITCH 5.0",
         "line": {
          "color": "#EF553B",
          "dash": "dot"
         },
         "marker": {
          "symbol": "circle"
         },
         "mode": "lines",
         "name": "OECD, WITCH 5.0",
         "showlegend": true,
         "type": "scattergl",
         "x": [
          2005,
          2010,
          2015,
          2020,
          2025,
          2030,
          2035,
          2040,
          2045,
          2050,
          2055,
          2060,
          2065,
          2070,
          2075,
          2080,
          2085,
          2090,
          2095,
          2100
         ],
         "xaxis": "x4",
         "y": [
          13116.978173398875,
          12186.424663679882,
          11669.445570228849,
          11538.087551459605,
          9199.14984576388,
          5367.384887241037,
          3475.571227458834,
          2600.495279798741,
          1858.7828096996884,
          1267.6621986227842,
          830.3992757461148,
          525.4985575456824,
          204.76936919046494,
          -86.20007891651301,
          -214.83761909775103,
          -524.958189544274,
          -408.34539815362996,
          -475.714142975065,
          -513.184886133704,
          -506.434878994032
         ],
         "yaxis": "y4"
        },
        {
         "customdata": [
          [
           "T34_1000_feas_em",
           "WITCH 5.0"
          ],
          [
           "T34_1000_feas_em",
           "WITCH 5.0"
          ],
          [
           "T34_1000_feas_em",
           "WITCH 5.0"
          ],
          [
           "T34_1000_feas_em",
           "WITCH 5.0"
          ],
          [
           "T34_1000_feas_em",
           "WITCH 5.0"
          ],
          [
           "T34_1000_feas_em",
           "WITCH 5.0"
          ],
          [
           "T34_1000_feas_em",
           "WITCH 5.0"
          ],
          [
           "T34_1000_feas_em",
           "WITCH 5.0"
          ],
          [
           "T34_1000_feas_em",
           "WITCH 5.0"
          ],
          [
           "T34_1000_feas_em",
           "WITCH 5.0"
          ],
          [
           "T34_1000_feas_em",
           "WITCH 5.0"
          ],
          [
           "T34_1000_feas_em",
           "WITCH 5.0"
          ],
          [
           "T34_1000_feas_em",
           "WITCH 5.0"
          ],
          [
           "T34_1000_feas_em",
           "WITCH 5.0"
          ],
          [
           "T34_1000_feas_em",
           "WITCH 5.0"
          ],
          [
           "T34_1000_feas_em",
           "WITCH 5.0"
          ],
          [
           "T34_1000_feas_em",
           "WITCH 5.0"
          ],
          [
           "T34_1000_feas_em",
           "WITCH 5.0"
          ],
          [
           "T34_1000_feas_em",
           "WITCH 5.0"
          ],
          [
           "T34_1000_feas_em",
           "WITCH 5.0"
          ]
         ],
         "hovertemplate": "region=OECD<br>model=%{customdata[1]}<br>scenario_narrative=Tech+Inst+Enab<br>year=%{x}<br>Emissions|Kyoto Gases=%{y}<br>scenario=%{customdata[0]}<extra></extra>",
         "legendgroup": "OECD, WITCH 5.0",
         "line": {
          "color": "#EF553B",
          "dash": "dot"
         },
         "marker": {
          "symbol": "circle"
         },
         "mode": "lines",
         "name": "OECD, WITCH 5.0",
         "showlegend": false,
         "type": "scattergl",
         "x": [
          2005,
          2010,
          2015,
          2020,
          2025,
          2030,
          2035,
          2040,
          2045,
          2050,
          2055,
          2060,
          2065,
          2070,
          2075,
          2080,
          2085,
          2090,
          2095,
          2100
         ],
         "xaxis": "x5",
         "y": [
          13116.978173398875,
          12186.424663679882,
          11669.445570228849,
          11538.087551459605,
          8297.950248079442,
          4972.368325288799,
          3150.513223721862,
          2261.37214711828,
          1575.0921593524172,
          949.4287593997689,
          613.5814785838925,
          333.49786499690856,
          99.169920413402,
          -179.10337778588303,
          -416.108434707946,
          -654.4091312228961,
          -835.9588377057352,
          -696.6282199623399,
          -382.628974652447,
          -197.780893546558
         ],
         "yaxis": "y5"
        },
        {
         "customdata": [
          [
           "T34_1000_govem",
           "WITCH 5.0"
          ],
          [
           "T34_1000_govem",
           "WITCH 5.0"
          ],
          [
           "T34_1000_govem",
           "WITCH 5.0"
          ],
          [
           "T34_1000_govem",
           "WITCH 5.0"
          ],
          [
           "T34_1000_govem",
           "WITCH 5.0"
          ],
          [
           "T34_1000_govem",
           "WITCH 5.0"
          ],
          [
           "T34_1000_govem",
           "WITCH 5.0"
          ],
          [
           "T34_1000_govem",
           "WITCH 5.0"
          ],
          [
           "T34_1000_govem",
           "WITCH 5.0"
          ],
          [
           "T34_1000_govem",
           "WITCH 5.0"
          ],
          [
           "T34_1000_govem",
           "WITCH 5.0"
          ],
          [
           "T34_1000_govem",
           "WITCH 5.0"
          ],
          [
           "T34_1000_govem",
           "WITCH 5.0"
          ],
          [
           "T34_1000_govem",
           "WITCH 5.0"
          ],
          [
           "T34_1000_govem",
           "WITCH 5.0"
          ],
          [
           "T34_1000_govem",
           "WITCH 5.0"
          ],
          [
           "T34_1000_govem",
           "WITCH 5.0"
          ],
          [
           "T34_1000_govem",
           "WITCH 5.0"
          ],
          [
           "T34_1000_govem",
           "WITCH 5.0"
          ],
          [
           "T34_1000_govem",
           "WITCH 5.0"
          ]
         ],
         "hovertemplate": "region=OECD<br>model=%{customdata[1]}<br>scenario_narrative=Instit<br>year=%{x}<br>Emissions|Kyoto Gases=%{y}<br>scenario=%{customdata[0]}<extra></extra>",
         "legendgroup": "OECD, WITCH 5.0",
         "line": {
          "color": "#EF553B",
          "dash": "dot"
         },
         "marker": {
          "symbol": "circle"
         },
         "mode": "lines",
         "name": "OECD, WITCH 5.0",
         "showlegend": false,
         "type": "scattergl",
         "x": [
          2005,
          2010,
          2015,
          2020,
          2025,
          2030,
          2035,
          2040,
          2045,
          2050,
          2055,
          2060,
          2065,
          2070,
          2075,
          2080,
          2085,
          2090,
          2095,
          2100
         ],
         "xaxis": "x6",
         "y": [
          13116.978173398875,
          12186.424663679882,
          11669.445570228849,
          11538.087551459605,
          7336.190032120321,
          4219.4111224824255,
          3211.688420264006,
          2543.302780430661,
          1849.4923311212522,
          1189.374236423223,
          583.743695965505,
          154.0152435362081,
          -235.187583179385,
          -658.785816050796,
          -1154.9015357275732,
          -1181.3272930538285,
          -945.2872448382421,
          -206.34314522518616,
          38.666646385996955,
          -145.00455255309043
         ],
         "yaxis": "y6"
        },
        {
         "customdata": [
          [
           "T34_1000_ref",
           "WITCH 5.0"
          ],
          [
           "T34_1000_ref",
           "WITCH 5.0"
          ],
          [
           "T34_1000_ref",
           "WITCH 5.0"
          ],
          [
           "T34_1000_ref",
           "WITCH 5.0"
          ],
          [
           "T34_1000_ref",
           "WITCH 5.0"
          ],
          [
           "T34_1000_ref",
           "WITCH 5.0"
          ],
          [
           "T34_1000_ref",
           "WITCH 5.0"
          ],
          [
           "T34_1000_ref",
           "WITCH 5.0"
          ],
          [
           "T34_1000_ref",
           "WITCH 5.0"
          ],
          [
           "T34_1000_ref",
           "WITCH 5.0"
          ],
          [
           "T34_1000_ref",
           "WITCH 5.0"
          ],
          [
           "T34_1000_ref",
           "WITCH 5.0"
          ],
          [
           "T34_1000_ref",
           "WITCH 5.0"
          ],
          [
           "T34_1000_ref",
           "WITCH 5.0"
          ],
          [
           "T34_1000_ref",
           "WITCH 5.0"
          ],
          [
           "T34_1000_ref",
           "WITCH 5.0"
          ],
          [
           "T34_1000_ref",
           "WITCH 5.0"
          ],
          [
           "T34_1000_ref",
           "WITCH 5.0"
          ],
          [
           "T34_1000_ref",
           "WITCH 5.0"
          ],
          [
           "T34_1000_ref",
           "WITCH 5.0"
          ]
         ],
         "hovertemplate": "region=OECD<br>model=%{customdata[1]}<br>scenario_narrative=Cost Effective<br>year=%{x}<br>Emissions|Kyoto Gases=%{y}<br>scenario=%{customdata[0]}<extra></extra>",
         "legendgroup": "OECD, WITCH 5.0",
         "line": {
          "color": "#EF553B",
          "dash": "dot"
         },
         "marker": {
          "symbol": "circle"
         },
         "mode": "lines",
         "name": "OECD, WITCH 5.0",
         "showlegend": false,
         "type": "scattergl",
         "x": [
          2005,
          2010,
          2015,
          2020,
          2025,
          2030,
          2035,
          2040,
          2045,
          2050,
          2055,
          2060,
          2065,
          2070,
          2075,
          2080,
          2085,
          2090,
          2095,
          2100
         ],
         "xaxis": "x",
         "y": [
          13116.978173398875,
          12186.424663679882,
          11669.445570228849,
          11538.087551459605,
          8530.1588204527,
          5957.631282470609,
          4953.556679326675,
          4315.980428176295,
          3624.030998438865,
          3146.8321445445963,
          2707.039180592472,
          2119.0342200564737,
          1475.3598049999514,
          1022.318036501683,
          524.4381772755501,
          -5.212011542519235,
          -579.158416372204,
          -1142.669285776426,
          -1529.662373810076,
          -1905.1078546355038
         ],
         "yaxis": "y"
        },
        {
         "customdata": [
          [
           "T34_1000_bitb_ref",
           "WITCH 5.0"
          ],
          [
           "T34_1000_bitb_ref",
           "WITCH 5.0"
          ],
          [
           "T34_1000_bitb_ref",
           "WITCH 5.0"
          ],
          [
           "T34_1000_bitb_ref",
           "WITCH 5.0"
          ],
          [
           "T34_1000_bitb_ref",
           "WITCH 5.0"
          ],
          [
           "T34_1000_bitb_ref",
           "WITCH 5.0"
          ],
          [
           "T34_1000_bitb_ref",
           "WITCH 5.0"
          ],
          [
           "T34_1000_bitb_ref",
           "WITCH 5.0"
          ],
          [
           "T34_1000_bitb_ref",
           "WITCH 5.0"
          ],
          [
           "T34_1000_bitb_ref",
           "WITCH 5.0"
          ],
          [
           "T34_1000_bitb_ref",
           "WITCH 5.0"
          ],
          [
           "T34_1000_bitb_ref",
           "WITCH 5.0"
          ],
          [
           "T34_1000_bitb_ref",
           "WITCH 5.0"
          ],
          [
           "T34_1000_bitb_ref",
           "WITCH 5.0"
          ],
          [
           "T34_1000_bitb_ref",
           "WITCH 5.0"
          ],
          [
           "T34_1000_bitb_ref",
           "WITCH 5.0"
          ],
          [
           "T34_1000_bitb_ref",
           "WITCH 5.0"
          ],
          [
           "T34_1000_bitb_ref",
           "WITCH 5.0"
          ],
          [
           "T34_1000_bitb_ref",
           "WITCH 5.0"
          ],
          [
           "T34_1000_bitb_ref",
           "WITCH 5.0"
          ]
         ],
         "hovertemplate": "region=OECD<br>model=%{customdata[1]}<br>scenario_narrative=Tech<br>year=%{x}<br>Emissions|Kyoto Gases=%{y}<br>scenario=%{customdata[0]}<extra></extra>",
         "legendgroup": "OECD, WITCH 5.0",
         "line": {
          "color": "#EF553B",
          "dash": "dot"
         },
         "marker": {
          "symbol": "circle"
         },
         "mode": "lines",
         "name": "OECD, WITCH 5.0",
         "showlegend": false,
         "type": "scattergl",
         "x": [
          2005,
          2010,
          2015,
          2020,
          2025,
          2030,
          2035,
          2040,
          2045,
          2050,
          2055,
          2060,
          2065,
          2070,
          2075,
          2080,
          2085,
          2090,
          2095,
          2100
         ],
         "xaxis": "x2",
         "y": [
          13116.978173398875,
          12186.424663679882,
          11669.445570228849,
          11538.087551459605,
          8493.237828093574,
          5082.5856009426025,
          4730.276103159495,
          3817.5974938159943,
          3231.7531821002713,
          2596.957204316398,
          2263.198547758122,
          1885.940541590886,
          1554.1610426375955,
          1444.2007693749429,
          1225.7323575804648,
          1005.144198420868,
          754.608610307137,
          368.8916981422291,
          200.74508180010497,
          94.194680714686
         ],
         "yaxis": "y2"
        },
        {
         "customdata": [
          [
           "T34_1000_enab_em",
           "WITCH 5.0"
          ],
          [
           "T34_1000_enab_em",
           "WITCH 5.0"
          ],
          [
           "T34_1000_enab_em",
           "WITCH 5.0"
          ],
          [
           "T34_1000_enab_em",
           "WITCH 5.0"
          ],
          [
           "T34_1000_enab_em",
           "WITCH 5.0"
          ],
          [
           "T34_1000_enab_em",
           "WITCH 5.0"
          ],
          [
           "T34_1000_enab_em",
           "WITCH 5.0"
          ],
          [
           "T34_1000_enab_em",
           "WITCH 5.0"
          ],
          [
           "T34_1000_enab_em",
           "WITCH 5.0"
          ],
          [
           "T34_1000_enab_em",
           "WITCH 5.0"
          ],
          [
           "T34_1000_enab_em",
           "WITCH 5.0"
          ],
          [
           "T34_1000_enab_em",
           "WITCH 5.0"
          ],
          [
           "T34_1000_enab_em",
           "WITCH 5.0"
          ],
          [
           "T34_1000_enab_em",
           "WITCH 5.0"
          ],
          [
           "T34_1000_enab_em",
           "WITCH 5.0"
          ],
          [
           "T34_1000_enab_em",
           "WITCH 5.0"
          ],
          [
           "T34_1000_enab_em",
           "WITCH 5.0"
          ],
          [
           "T34_1000_enab_em",
           "WITCH 5.0"
          ],
          [
           "T34_1000_enab_em",
           "WITCH 5.0"
          ],
          [
           "T34_1000_enab_em",
           "WITCH 5.0"
          ]
         ],
         "hovertemplate": "region=OECD<br>model=%{customdata[1]}<br>scenario_narrative=Inst+Enab<br>year=%{x}<br>Emissions|Kyoto Gases=%{y}<br>scenario=%{customdata[0]}<extra></extra>",
         "legendgroup": "OECD, WITCH 5.0",
         "line": {
          "color": "#EF553B",
          "dash": "dot"
         },
         "marker": {
          "symbol": "circle"
         },
         "mode": "lines",
         "name": "OECD, WITCH 5.0",
         "showlegend": false,
         "type": "scattergl",
         "x": [
          2005,
          2010,
          2015,
          2020,
          2025,
          2030,
          2035,
          2040,
          2045,
          2050,
          2055,
          2060,
          2065,
          2070,
          2075,
          2080,
          2085,
          2090,
          2095,
          2100
         ],
         "xaxis": "x3",
         "y": [
          13116.978173398875,
          12186.424663679882,
          11669.445570228849,
          11538.087551459605,
          8686.152876160559,
          6573.582031373002,
          3970.781600181661,
          2855.270879541875,
          2126.508112128202,
          1535.2555985788306,
          924.4507179608745,
          279.12967548476615,
          -195.39142423112023,
          -628.2126943081034,
          -1073.423572520695,
          -840.787496900704,
          -378.37330297904924,
          3.533627648048821,
          372.2435322270223,
          525.0130362035231
         ],
         "yaxis": "y3"
        },
        {
         "customdata": [
          [
           "T34_1000_bitb_em",
           "AIM/CGE V2.2"
          ],
          [
           "T34_1000_bitb_em",
           "AIM/CGE V2.2"
          ],
          [
           "T34_1000_bitb_em",
           "AIM/CGE V2.2"
          ],
          [
           "T34_1000_bitb_em",
           "AIM/CGE V2.2"
          ],
          [
           "T34_1000_bitb_em",
           "AIM/CGE V2.2"
          ],
          [
           "T34_1000_bitb_em",
           "AIM/CGE V2.2"
          ],
          [
           "T34_1000_bitb_em",
           "AIM/CGE V2.2"
          ],
          [
           "T34_1000_bitb_em",
           "AIM/CGE V2.2"
          ],
          [
           "T34_1000_bitb_em",
           "AIM/CGE V2.2"
          ],
          [
           "T34_1000_bitb_em",
           "AIM/CGE V2.2"
          ],
          [
           "T34_1000_bitb_em",
           "AIM/CGE V2.2"
          ],
          [
           "T34_1000_bitb_em",
           "AIM/CGE V2.2"
          ],
          [
           "T34_1000_bitb_em",
           "AIM/CGE V2.2"
          ],
          [
           "T34_1000_bitb_em",
           "AIM/CGE V2.2"
          ],
          [
           "T34_1000_bitb_em",
           "AIM/CGE V2.2"
          ],
          [
           "T34_1000_bitb_em",
           "AIM/CGE V2.2"
          ],
          [
           "T34_1000_bitb_em",
           "AIM/CGE V2.2"
          ],
          [
           "T34_1000_bitb_em",
           "AIM/CGE V2.2"
          ],
          [
           "T34_1000_bitb_em",
           "AIM/CGE V2.2"
          ]
         ],
         "hovertemplate": "region=RoW<br>model=%{customdata[1]}<br>scenario_narrative=Tech+Inst<br>year=%{x}<br>Emissions|Kyoto Gases=%{y}<br>scenario=%{customdata[0]}<extra></extra>",
         "legendgroup": "RoW, AIM/CGE V2.2",
         "line": {
          "color": "#00cc96",
          "dash": "solid"
         },
         "marker": {
          "symbol": "circle"
         },
         "mode": "lines",
         "name": "RoW, AIM/CGE V2.2",
         "showlegend": true,
         "type": "scattergl",
         "x": [
          2010,
          2015,
          2020,
          2025,
          2030,
          2035,
          2040,
          2045,
          2050,
          2055,
          2060,
          2065,
          2070,
          2075,
          2080,
          2085,
          2090,
          2095,
          2100
         ],
         "xaxis": "x4",
         "y": [
          13674.386700000001,
          14993.2741,
          16218.1006,
          14425.4795,
          13208.9421,
          12351.9537,
          11930.6307,
          9794.7224,
          7824.9388,
          7256.1208,
          6205.081100000001,
          4583.0074,
          3599.7432,
          2615.764,
          2116.0514,
          1920.0690000000002,
          1975.1843,
          2247.6003,
          2614.0254000000004
         ],
         "yaxis": "y4"
        },
        {
         "customdata": [
          [
           "T34_1000_feas_em",
           "AIM/CGE V2.2"
          ],
          [
           "T34_1000_feas_em",
           "AIM/CGE V2.2"
          ],
          [
           "T34_1000_feas_em",
           "AIM/CGE V2.2"
          ],
          [
           "T34_1000_feas_em",
           "AIM/CGE V2.2"
          ],
          [
           "T34_1000_feas_em",
           "AIM/CGE V2.2"
          ],
          [
           "T34_1000_feas_em",
           "AIM/CGE V2.2"
          ],
          [
           "T34_1000_feas_em",
           "AIM/CGE V2.2"
          ],
          [
           "T34_1000_feas_em",
           "AIM/CGE V2.2"
          ],
          [
           "T34_1000_feas_em",
           "AIM/CGE V2.2"
          ],
          [
           "T34_1000_feas_em",
           "AIM/CGE V2.2"
          ],
          [
           "T34_1000_feas_em",
           "AIM/CGE V2.2"
          ],
          [
           "T34_1000_feas_em",
           "AIM/CGE V2.2"
          ],
          [
           "T34_1000_feas_em",
           "AIM/CGE V2.2"
          ],
          [
           "T34_1000_feas_em",
           "AIM/CGE V2.2"
          ],
          [
           "T34_1000_feas_em",
           "AIM/CGE V2.2"
          ],
          [
           "T34_1000_feas_em",
           "AIM/CGE V2.2"
          ],
          [
           "T34_1000_feas_em",
           "AIM/CGE V2.2"
          ],
          [
           "T34_1000_feas_em",
           "AIM/CGE V2.2"
          ],
          [
           "T34_1000_feas_em",
           "AIM/CGE V2.2"
          ]
         ],
         "hovertemplate": "region=RoW<br>model=%{customdata[1]}<br>scenario_narrative=Tech+Inst+Enab<br>year=%{x}<br>Emissions|Kyoto Gases=%{y}<br>scenario=%{customdata[0]}<extra></extra>",
         "legendgroup": "RoW, AIM/CGE V2.2",
         "line": {
          "color": "#00cc96",
          "dash": "solid"
         },
         "marker": {
          "symbol": "circle"
         },
         "mode": "lines",
         "name": "RoW, AIM/CGE V2.2",
         "showlegend": false,
         "type": "scattergl",
         "x": [
          2010,
          2015,
          2020,
          2025,
          2030,
          2035,
          2040,
          2045,
          2050,
          2055,
          2060,
          2065,
          2070,
          2075,
          2080,
          2085,
          2090,
          2095,
          2100
         ],
         "xaxis": "x5",
         "y": [
          13674.3866,
          14993.2742,
          16217.522700000001,
          14241.9576,
          12736.0374,
          11545.389,
          10493.4785,
          10585.7952,
          8519.4672,
          6061.5731,
          5267.606999999999,
          3533.7389999999996,
          2474.3682,
          1467.5777999999998,
          1011.3635999999999,
          829.7855,
          944.8858,
          1291.1501,
          1709.6412000000003
         ],
         "yaxis": "y5"
        },
        {
         "customdata": [
          [
           "T34_1000_govem",
           "AIM/CGE V2.2"
          ],
          [
           "T34_1000_govem",
           "AIM/CGE V2.2"
          ],
          [
           "T34_1000_govem",
           "AIM/CGE V2.2"
          ],
          [
           "T34_1000_govem",
           "AIM/CGE V2.2"
          ],
          [
           "T34_1000_govem",
           "AIM/CGE V2.2"
          ],
          [
           "T34_1000_govem",
           "AIM/CGE V2.2"
          ],
          [
           "T34_1000_govem",
           "AIM/CGE V2.2"
          ],
          [
           "T34_1000_govem",
           "AIM/CGE V2.2"
          ],
          [
           "T34_1000_govem",
           "AIM/CGE V2.2"
          ],
          [
           "T34_1000_govem",
           "AIM/CGE V2.2"
          ],
          [
           "T34_1000_govem",
           "AIM/CGE V2.2"
          ],
          [
           "T34_1000_govem",
           "AIM/CGE V2.2"
          ],
          [
           "T34_1000_govem",
           "AIM/CGE V2.2"
          ],
          [
           "T34_1000_govem",
           "AIM/CGE V2.2"
          ],
          [
           "T34_1000_govem",
           "AIM/CGE V2.2"
          ],
          [
           "T34_1000_govem",
           "AIM/CGE V2.2"
          ],
          [
           "T34_1000_govem",
           "AIM/CGE V2.2"
          ],
          [
           "T34_1000_govem",
           "AIM/CGE V2.2"
          ],
          [
           "T34_1000_govem",
           "AIM/CGE V2.2"
          ]
         ],
         "hovertemplate": "region=RoW<br>model=%{customdata[1]}<br>scenario_narrative=Instit<br>year=%{x}<br>Emissions|Kyoto Gases=%{y}<br>scenario=%{customdata[0]}<extra></extra>",
         "legendgroup": "RoW, AIM/CGE V2.2",
         "line": {
          "color": "#00cc96",
          "dash": "solid"
         },
         "marker": {
          "symbol": "circle"
         },
         "mode": "lines",
         "name": "RoW, AIM/CGE V2.2",
         "showlegend": false,
         "type": "scattergl",
         "x": [
          2010,
          2015,
          2020,
          2025,
          2030,
          2035,
          2040,
          2045,
          2050,
          2055,
          2060,
          2065,
          2070,
          2075,
          2080,
          2085,
          2090,
          2095,
          2100
         ],
         "xaxis": "x6",
         "y": [
          13674.3866,
          14993.274,
          16216.076000000001,
          14762.3298,
          13570.943500000001,
          12326.2757,
          11659.1563,
          11118.5541,
          10110.4236,
          7126.1274,
          6478.2914,
          4648.2882,
          3249.2960999999996,
          2309.9428,
          2096.8103,
          2239.6531,
          2360.5305,
          2486.0845000000004,
          2637.6157
         ],
         "yaxis": "y6"
        },
        {
         "customdata": [
          [
           "T34_1000_ref",
           "AIM/CGE V2.2"
          ],
          [
           "T34_1000_ref",
           "AIM/CGE V2.2"
          ],
          [
           "T34_1000_ref",
           "AIM/CGE V2.2"
          ],
          [
           "T34_1000_ref",
           "AIM/CGE V2.2"
          ],
          [
           "T34_1000_ref",
           "AIM/CGE V2.2"
          ],
          [
           "T34_1000_ref",
           "AIM/CGE V2.2"
          ],
          [
           "T34_1000_ref",
           "AIM/CGE V2.2"
          ],
          [
           "T34_1000_ref",
           "AIM/CGE V2.2"
          ],
          [
           "T34_1000_ref",
           "AIM/CGE V2.2"
          ],
          [
           "T34_1000_ref",
           "AIM/CGE V2.2"
          ],
          [
           "T34_1000_ref",
           "AIM/CGE V2.2"
          ],
          [
           "T34_1000_ref",
           "AIM/CGE V2.2"
          ],
          [
           "T34_1000_ref",
           "AIM/CGE V2.2"
          ],
          [
           "T34_1000_ref",
           "AIM/CGE V2.2"
          ],
          [
           "T34_1000_ref",
           "AIM/CGE V2.2"
          ],
          [
           "T34_1000_ref",
           "AIM/CGE V2.2"
          ],
          [
           "T34_1000_ref",
           "AIM/CGE V2.2"
          ],
          [
           "T34_1000_ref",
           "AIM/CGE V2.2"
          ],
          [
           "T34_1000_ref",
           "AIM/CGE V2.2"
          ]
         ],
         "hovertemplate": "region=RoW<br>model=%{customdata[1]}<br>scenario_narrative=Cost Effective<br>year=%{x}<br>Emissions|Kyoto Gases=%{y}<br>scenario=%{customdata[0]}<extra></extra>",
         "legendgroup": "RoW, AIM/CGE V2.2",
         "line": {
          "color": "#00cc96",
          "dash": "solid"
         },
         "marker": {
          "symbol": "circle"
         },
         "mode": "lines",
         "name": "RoW, AIM/CGE V2.2",
         "showlegend": false,
         "type": "scattergl",
         "x": [
          2010,
          2015,
          2020,
          2025,
          2030,
          2035,
          2040,
          2045,
          2050,
          2055,
          2060,
          2065,
          2070,
          2075,
          2080,
          2085,
          2090,
          2095,
          2100
         ],
         "xaxis": "x",
         "y": [
          13674.386700000001,
          14993.2741,
          16216.075499999999,
          13001.9974,
          11296.5312,
          9976.394400000001,
          8356.781,
          6782.0054,
          4976.9653,
          2601.7297,
          2982.2180999999996,
          3138.1421,
          3128.2882,
          3200.2347999999997,
          3324.3532000000005,
          3590.5781,
          3749.7209000000003,
          3903.9739999999993,
          4004.6767000000004
         ],
         "yaxis": "y"
        },
        {
         "customdata": [
          [
           "T34_1000_ref",
           "COFFEE 1.5"
          ],
          [
           "T34_1000_ref",
           "COFFEE 1.5"
          ],
          [
           "T34_1000_ref",
           "COFFEE 1.5"
          ],
          [
           "T34_1000_ref",
           "COFFEE 1.5"
          ],
          [
           "T34_1000_ref",
           "COFFEE 1.5"
          ],
          [
           "T34_1000_ref",
           "COFFEE 1.5"
          ],
          [
           "T34_1000_ref",
           "COFFEE 1.5"
          ],
          [
           "T34_1000_ref",
           "COFFEE 1.5"
          ],
          [
           "T34_1000_ref",
           "COFFEE 1.5"
          ],
          [
           "T34_1000_ref",
           "COFFEE 1.5"
          ],
          [
           "T34_1000_ref",
           "COFFEE 1.5"
          ],
          [
           "T34_1000_ref",
           "COFFEE 1.5"
          ],
          [
           "T34_1000_ref",
           "COFFEE 1.5"
          ],
          [
           "T34_1000_ref",
           "COFFEE 1.5"
          ]
         ],
         "hovertemplate": "region=RoW<br>model=%{customdata[1]}<br>scenario_narrative=Cost Effective<br>year=%{x}<br>Emissions|Kyoto Gases=%{y}<br>scenario=%{customdata[0]}<extra></extra>",
         "legendgroup": "RoW, COFFEE 1.5",
         "line": {
          "color": "#00cc96",
          "dash": "dot"
         },
         "marker": {
          "symbol": "circle"
         },
         "mode": "lines",
         "name": "RoW, COFFEE 1.5",
         "showlegend": true,
         "type": "scattergl",
         "x": [
          2010,
          2015,
          2020,
          2025,
          2030,
          2035,
          2040,
          2045,
          2050,
          2060,
          2070,
          2080,
          2090,
          2100
         ],
         "xaxis": "x",
         "y": [
          14293.682910520552,
          15728.734347119656,
          13285.159692829598,
          11831.076450443055,
          11900.438598947218,
          11364.405235059181,
          11292.374146001797,
          10437.878531830316,
          9817.470731223864,
          8356.302640977163,
          5074.126942090801,
          1846.8748741024992,
          217.56710403501017,
          2206.9345595501213
         ],
         "yaxis": "y"
        },
        {
         "customdata": [
          [
           "T34_1000_bitb_ref",
           "COFFEE 1.5"
          ],
          [
           "T34_1000_bitb_ref",
           "COFFEE 1.5"
          ],
          [
           "T34_1000_bitb_ref",
           "COFFEE 1.5"
          ],
          [
           "T34_1000_bitb_ref",
           "COFFEE 1.5"
          ],
          [
           "T34_1000_bitb_ref",
           "COFFEE 1.5"
          ],
          [
           "T34_1000_bitb_ref",
           "COFFEE 1.5"
          ],
          [
           "T34_1000_bitb_ref",
           "COFFEE 1.5"
          ],
          [
           "T34_1000_bitb_ref",
           "COFFEE 1.5"
          ],
          [
           "T34_1000_bitb_ref",
           "COFFEE 1.5"
          ],
          [
           "T34_1000_bitb_ref",
           "COFFEE 1.5"
          ],
          [
           "T34_1000_bitb_ref",
           "COFFEE 1.5"
          ],
          [
           "T34_1000_bitb_ref",
           "COFFEE 1.5"
          ],
          [
           "T34_1000_bitb_ref",
           "COFFEE 1.5"
          ],
          [
           "T34_1000_bitb_ref",
           "COFFEE 1.5"
          ]
         ],
         "hovertemplate": "region=RoW<br>model=%{customdata[1]}<br>scenario_narrative=Tech<br>year=%{x}<br>Emissions|Kyoto Gases=%{y}<br>scenario=%{customdata[0]}<extra></extra>",
         "legendgroup": "RoW, COFFEE 1.5",
         "line": {
          "color": "#00cc96",
          "dash": "dot"
         },
         "marker": {
          "symbol": "circle"
         },
         "mode": "lines",
         "name": "RoW, COFFEE 1.5",
         "showlegend": false,
         "type": "scattergl",
         "x": [
          2010,
          2015,
          2020,
          2025,
          2030,
          2035,
          2040,
          2045,
          2050,
          2060,
          2070,
          2080,
          2090,
          2100
         ],
         "xaxis": "x2",
         "y": [
          14293.682910520552,
          15728.734347119656,
          13285.159692829598,
          11558.839694029055,
          10803.918677895917,
          10431.410472781905,
          10305.140375753448,
          9254.406471275244,
          8468.23343822718,
          5747.96759447389,
          3886.819037968411,
          3295.4301490581533,
          2632.827617151882,
          4252.959990062299
         ],
         "yaxis": "y2"
        },
        {
         "customdata": [
          [
           "T34_1000_bitb_em",
           "GEM-E3_V2023"
          ],
          [
           "T34_1000_bitb_em",
           "GEM-E3_V2023"
          ],
          [
           "T34_1000_bitb_em",
           "GEM-E3_V2023"
          ],
          [
           "T34_1000_bitb_em",
           "GEM-E3_V2023"
          ],
          [
           "T34_1000_bitb_em",
           "GEM-E3_V2023"
          ],
          [
           "T34_1000_bitb_em",
           "GEM-E3_V2023"
          ],
          [
           "T34_1000_bitb_em",
           "GEM-E3_V2023"
          ],
          [
           "T34_1000_bitb_em",
           "GEM-E3_V2023"
          ],
          [
           "T34_1000_bitb_em",
           "GEM-E3_V2023"
          ],
          [
           "T34_1000_bitb_em",
           "GEM-E3_V2023"
          ],
          [
           "T34_1000_bitb_em",
           "GEM-E3_V2023"
          ],
          [
           "T34_1000_bitb_em",
           "GEM-E3_V2023"
          ],
          [
           "T34_1000_bitb_em",
           "GEM-E3_V2023"
          ],
          [
           "T34_1000_bitb_em",
           "GEM-E3_V2023"
          ],
          [
           "T34_1000_bitb_em",
           "GEM-E3_V2023"
          ],
          [
           "T34_1000_bitb_em",
           "GEM-E3_V2023"
          ],
          [
           "T34_1000_bitb_em",
           "GEM-E3_V2023"
          ],
          [
           "T34_1000_bitb_em",
           "GEM-E3_V2023"
          ]
         ],
         "hovertemplate": "region=RoW<br>model=%{customdata[1]}<br>scenario_narrative=Tech+Inst<br>year=%{x}<br>Emissions|Kyoto Gases=%{y}<br>scenario=%{customdata[0]}<extra></extra>",
         "legendgroup": "RoW, GEM-E3_V2023",
         "line": {
          "color": "#00cc96",
          "dash": "dash"
         },
         "marker": {
          "symbol": "circle"
         },
         "mode": "lines",
         "name": "RoW, GEM-E3_V2023",
         "showlegend": true,
         "type": "scattergl",
         "x": [
          2015,
          2020,
          2025,
          2030,
          2035,
          2040,
          2045,
          2050,
          2055,
          2060,
          2065,
          2070,
          2075,
          2080,
          2085,
          2090,
          2095,
          2100
         ],
         "xaxis": "x4",
         "y": [
          9573.504737686944,
          9380.941145759622,
          9668.301255385559,
          8977.162135862247,
          8686.340198152342,
          8347.964105753355,
          7599.440116247169,
          6665.856586036167,
          5042.858143992415,
          4135.226518934574,
          3288.6583044258796,
          2730.717258162235,
          2751.253362340884,
          2580.9658683006714,
          1782.0383022279098,
          1284.316897496012,
          1334.3574886270048,
          1289.7050567380602
         ],
         "yaxis": "y4"
        },
        {
         "customdata": [
          [
           "T34_1000_feas_em",
           "GEM-E3_V2023"
          ],
          [
           "T34_1000_feas_em",
           "GEM-E3_V2023"
          ],
          [
           "T34_1000_feas_em",
           "GEM-E3_V2023"
          ],
          [
           "T34_1000_feas_em",
           "GEM-E3_V2023"
          ],
          [
           "T34_1000_feas_em",
           "GEM-E3_V2023"
          ],
          [
           "T34_1000_feas_em",
           "GEM-E3_V2023"
          ],
          [
           "T34_1000_feas_em",
           "GEM-E3_V2023"
          ],
          [
           "T34_1000_feas_em",
           "GEM-E3_V2023"
          ],
          [
           "T34_1000_feas_em",
           "GEM-E3_V2023"
          ],
          [
           "T34_1000_feas_em",
           "GEM-E3_V2023"
          ],
          [
           "T34_1000_feas_em",
           "GEM-E3_V2023"
          ],
          [
           "T34_1000_feas_em",
           "GEM-E3_V2023"
          ],
          [
           "T34_1000_feas_em",
           "GEM-E3_V2023"
          ],
          [
           "T34_1000_feas_em",
           "GEM-E3_V2023"
          ],
          [
           "T34_1000_feas_em",
           "GEM-E3_V2023"
          ],
          [
           "T34_1000_feas_em",
           "GEM-E3_V2023"
          ],
          [
           "T34_1000_feas_em",
           "GEM-E3_V2023"
          ],
          [
           "T34_1000_feas_em",
           "GEM-E3_V2023"
          ]
         ],
         "hovertemplate": "region=RoW<br>model=%{customdata[1]}<br>scenario_narrative=Tech+Inst+Enab<br>year=%{x}<br>Emissions|Kyoto Gases=%{y}<br>scenario=%{customdata[0]}<extra></extra>",
         "legendgroup": "RoW, GEM-E3_V2023",
         "line": {
          "color": "#00cc96",
          "dash": "dash"
         },
         "marker": {
          "symbol": "circle"
         },
         "mode": "lines",
         "name": "RoW, GEM-E3_V2023",
         "showlegend": false,
         "type": "scattergl",
         "x": [
          2015,
          2020,
          2025,
          2030,
          2035,
          2040,
          2045,
          2050,
          2055,
          2060,
          2065,
          2070,
          2075,
          2080,
          2085,
          2090,
          2095,
          2100
         ],
         "xaxis": "x5",
         "y": [
          9573.504737686944,
          9380.941145759622,
          9658.208294848318,
          9456.177942343289,
          8800.873724244282,
          8322.650830648872,
          7517.688131733427,
          6512.267447106715,
          4774.8706544376,
          3923.597892038707,
          3095.4817350027897,
          2483.9634472011207,
          2490.9871132309013,
          2295.251088356337,
          1558.1136727786327,
          1147.6442394902754,
          1063.7550031901771,
          1106.3171889093107
         ],
         "yaxis": "y5"
        },
        {
         "customdata": [
          [
           "T34_1000_govem",
           "GEM-E3_V2023"
          ],
          [
           "T34_1000_govem",
           "GEM-E3_V2023"
          ],
          [
           "T34_1000_govem",
           "GEM-E3_V2023"
          ],
          [
           "T34_1000_govem",
           "GEM-E3_V2023"
          ],
          [
           "T34_1000_govem",
           "GEM-E3_V2023"
          ],
          [
           "T34_1000_govem",
           "GEM-E3_V2023"
          ],
          [
           "T34_1000_govem",
           "GEM-E3_V2023"
          ],
          [
           "T34_1000_govem",
           "GEM-E3_V2023"
          ],
          [
           "T34_1000_govem",
           "GEM-E3_V2023"
          ],
          [
           "T34_1000_govem",
           "GEM-E3_V2023"
          ],
          [
           "T34_1000_govem",
           "GEM-E3_V2023"
          ],
          [
           "T34_1000_govem",
           "GEM-E3_V2023"
          ],
          [
           "T34_1000_govem",
           "GEM-E3_V2023"
          ],
          [
           "T34_1000_govem",
           "GEM-E3_V2023"
          ],
          [
           "T34_1000_govem",
           "GEM-E3_V2023"
          ],
          [
           "T34_1000_govem",
           "GEM-E3_V2023"
          ],
          [
           "T34_1000_govem",
           "GEM-E3_V2023"
          ],
          [
           "T34_1000_govem",
           "GEM-E3_V2023"
          ]
         ],
         "hovertemplate": "region=RoW<br>model=%{customdata[1]}<br>scenario_narrative=Instit<br>year=%{x}<br>Emissions|Kyoto Gases=%{y}<br>scenario=%{customdata[0]}<extra></extra>",
         "legendgroup": "RoW, GEM-E3_V2023",
         "line": {
          "color": "#00cc96",
          "dash": "dash"
         },
         "marker": {
          "symbol": "circle"
         },
         "mode": "lines",
         "name": "RoW, GEM-E3_V2023",
         "showlegend": false,
         "type": "scattergl",
         "x": [
          2015,
          2020,
          2025,
          2030,
          2035,
          2040,
          2045,
          2050,
          2055,
          2060,
          2065,
          2070,
          2075,
          2080,
          2085,
          2090,
          2095,
          2100
         ],
         "xaxis": "x6",
         "y": [
          9573.504737686944,
          9380.941145759622,
          9711.438321593565,
          9514.62256992213,
          9074.087258974861,
          8503.945429422009,
          8263.566569214472,
          7645.78080106323,
          5664.113688112575,
          3992.957697755429,
          2956.0131119321304,
          2171.150592321287,
          1744.4893317131964,
          1651.3514795037413,
          1321.9920545363782,
          1385.120802230878,
          1375.0546798143268,
          1482.022005982907
         ],
         "yaxis": "y6"
        },
        {
         "customdata": [
          [
           "T34_1000_ref",
           "GEM-E3_V2023"
          ],
          [
           "T34_1000_ref",
           "GEM-E3_V2023"
          ],
          [
           "T34_1000_ref",
           "GEM-E3_V2023"
          ],
          [
           "T34_1000_ref",
           "GEM-E3_V2023"
          ],
          [
           "T34_1000_ref",
           "GEM-E3_V2023"
          ],
          [
           "T34_1000_ref",
           "GEM-E3_V2023"
          ],
          [
           "T34_1000_ref",
           "GEM-E3_V2023"
          ],
          [
           "T34_1000_ref",
           "GEM-E3_V2023"
          ],
          [
           "T34_1000_ref",
           "GEM-E3_V2023"
          ],
          [
           "T34_1000_ref",
           "GEM-E3_V2023"
          ],
          [
           "T34_1000_ref",
           "GEM-E3_V2023"
          ],
          [
           "T34_1000_ref",
           "GEM-E3_V2023"
          ],
          [
           "T34_1000_ref",
           "GEM-E3_V2023"
          ],
          [
           "T34_1000_ref",
           "GEM-E3_V2023"
          ],
          [
           "T34_1000_ref",
           "GEM-E3_V2023"
          ],
          [
           "T34_1000_ref",
           "GEM-E3_V2023"
          ],
          [
           "T34_1000_ref",
           "GEM-E3_V2023"
          ],
          [
           "T34_1000_ref",
           "GEM-E3_V2023"
          ]
         ],
         "hovertemplate": "region=RoW<br>model=%{customdata[1]}<br>scenario_narrative=Cost Effective<br>year=%{x}<br>Emissions|Kyoto Gases=%{y}<br>scenario=%{customdata[0]}<extra></extra>",
         "legendgroup": "RoW, GEM-E3_V2023",
         "line": {
          "color": "#00cc96",
          "dash": "dash"
         },
         "marker": {
          "symbol": "circle"
         },
         "mode": "lines",
         "name": "RoW, GEM-E3_V2023",
         "showlegend": false,
         "type": "scattergl",
         "x": [
          2015,
          2020,
          2025,
          2030,
          2035,
          2040,
          2045,
          2050,
          2055,
          2060,
          2065,
          2070,
          2075,
          2080,
          2085,
          2090,
          2095,
          2100
         ],
         "xaxis": "x",
         "y": [
          9573.504737686944,
          9380.941145759622,
          9688.350285653343,
          9091.929516979459,
          7728.607954511759,
          6660.777316025506,
          5351.340186958771,
          4344.9399558461755,
          3168.3367712294,
          2122.2644846433936,
          1716.8485181850517,
          1338.492054246901,
          846.7460611590129,
          947.0166977776888,
          840.027154183642,
          1124.342737244956,
          1110.007386607326,
          1159.7630661262158
         ],
         "yaxis": "y"
        },
        {
         "customdata": [
          [
           "T34_1000_bitb_em",
           "IMAGE 3.2"
          ],
          [
           "T34_1000_bitb_em",
           "IMAGE 3.2"
          ],
          [
           "T34_1000_bitb_em",
           "IMAGE 3.2"
          ],
          [
           "T34_1000_bitb_em",
           "IMAGE 3.2"
          ],
          [
           "T34_1000_bitb_em",
           "IMAGE 3.2"
          ],
          [
           "T34_1000_bitb_em",
           "IMAGE 3.2"
          ],
          [
           "T34_1000_bitb_em",
           "IMAGE 3.2"
          ],
          [
           "T34_1000_bitb_em",
           "IMAGE 3.2"
          ],
          [
           "T34_1000_bitb_em",
           "IMAGE 3.2"
          ],
          [
           "T34_1000_bitb_em",
           "IMAGE 3.2"
          ],
          [
           "T34_1000_bitb_em",
           "IMAGE 3.2"
          ],
          [
           "T34_1000_bitb_em",
           "IMAGE 3.2"
          ],
          [
           "T34_1000_bitb_em",
           "IMAGE 3.2"
          ],
          [
           "T34_1000_bitb_em",
           "IMAGE 3.2"
          ],
          [
           "T34_1000_bitb_em",
           "IMAGE 3.2"
          ],
          [
           "T34_1000_bitb_em",
           "IMAGE 3.2"
          ],
          [
           "T34_1000_bitb_em",
           "IMAGE 3.2"
          ],
          [
           "T34_1000_bitb_em",
           "IMAGE 3.2"
          ],
          [
           "T34_1000_bitb_em",
           "IMAGE 3.2"
          ],
          [
           "T34_1000_bitb_em",
           "IMAGE 3.2"
          ]
         ],
         "hovertemplate": "region=RoW<br>model=%{customdata[1]}<br>scenario_narrative=Tech+Inst<br>year=%{x}<br>Emissions|Kyoto Gases=%{y}<br>scenario=%{customdata[0]}<extra></extra>",
         "legendgroup": "RoW, IMAGE 3.2",
         "line": {
          "color": "#00cc96",
          "dash": "longdash"
         },
         "marker": {
          "symbol": "circle"
         },
         "mode": "lines",
         "name": "RoW, IMAGE 3.2",
         "showlegend": true,
         "type": "scattergl",
         "x": [
          2005,
          2010,
          2015,
          2020,
          2025,
          2030,
          2035,
          2040,
          2045,
          2050,
          2055,
          2060,
          2065,
          2070,
          2075,
          2080,
          2085,
          2090,
          2095,
          2100
         ],
         "xaxis": "x4",
         "y": [
          12317.008361816406,
          14562.927215576172,
          15006.793975830078,
          16150.40365600586,
          17553.889038085938,
          13952.332916259766,
          12594.897354125977,
          11018.009307861328,
          9475.618041992188,
          7016.450729370117,
          5973.238334655762,
          4797.852411270142,
          4711.8275644779205,
          3820.8621578216553,
          4367.947635650635,
          3616.196831703186,
          4140.893337249756,
          3102.7946977615356,
          3520.6410388946533,
          2631.172550201416
         ],
         "yaxis": "y4"
        },
        {
         "customdata": [
          [
           "T34_1000_feas_em",
           "IMAGE 3.2"
          ],
          [
           "T34_1000_feas_em",
           "IMAGE 3.2"
          ],
          [
           "T34_1000_feas_em",
           "IMAGE 3.2"
          ],
          [
           "T34_1000_feas_em",
           "IMAGE 3.2"
          ],
          [
           "T34_1000_feas_em",
           "IMAGE 3.2"
          ],
          [
           "T34_1000_feas_em",
           "IMAGE 3.2"
          ],
          [
           "T34_1000_feas_em",
           "IMAGE 3.2"
          ],
          [
           "T34_1000_feas_em",
           "IMAGE 3.2"
          ],
          [
           "T34_1000_feas_em",
           "IMAGE 3.2"
          ],
          [
           "T34_1000_feas_em",
           "IMAGE 3.2"
          ],
          [
           "T34_1000_feas_em",
           "IMAGE 3.2"
          ],
          [
           "T34_1000_feas_em",
           "IMAGE 3.2"
          ],
          [
           "T34_1000_feas_em",
           "IMAGE 3.2"
          ],
          [
           "T34_1000_feas_em",
           "IMAGE 3.2"
          ],
          [
           "T34_1000_feas_em",
           "IMAGE 3.2"
          ],
          [
           "T34_1000_feas_em",
           "IMAGE 3.2"
          ],
          [
           "T34_1000_feas_em",
           "IMAGE 3.2"
          ],
          [
           "T34_1000_feas_em",
           "IMAGE 3.2"
          ],
          [
           "T34_1000_feas_em",
           "IMAGE 3.2"
          ],
          [
           "T34_1000_feas_em",
           "IMAGE 3.2"
          ]
         ],
         "hovertemplate": "region=RoW<br>model=%{customdata[1]}<br>scenario_narrative=Tech+Inst+Enab<br>year=%{x}<br>Emissions|Kyoto Gases=%{y}<br>scenario=%{customdata[0]}<extra></extra>",
         "legendgroup": "RoW, IMAGE 3.2",
         "line": {
          "color": "#00cc96",
          "dash": "longdash"
         },
         "marker": {
          "symbol": "circle"
         },
         "mode": "lines",
         "name": "RoW, IMAGE 3.2",
         "showlegend": false,
         "type": "scattergl",
         "x": [
          2005,
          2010,
          2015,
          2020,
          2025,
          2030,
          2035,
          2040,
          2045,
          2050,
          2055,
          2060,
          2065,
          2070,
          2075,
          2080,
          2085,
          2090,
          2095,
          2100
         ],
         "xaxis": "x5",
         "y": [
          12317.008361816406,
          14562.644775390625,
          15005.565795898438,
          16150.08041381836,
          17648.31723022461,
          14844.742492675781,
          14222.69970703125,
          12334.782318115234,
          10334.422897338867,
          8881.406173706055,
          7988.575241088867,
          6730.0979347229,
          6239.982063293457,
          4973.825174331665,
          5328.019939422607,
          4038.3641233444214,
          4047.317551136017,
          3010.31444644928,
          3392.273509979248,
          2562.456760406494
         ],
         "yaxis": "y5"
        },
        {
         "customdata": [
          [
           "T34_1000_govem",
           "IMAGE 3.2"
          ],
          [
           "T34_1000_govem",
           "IMAGE 3.2"
          ],
          [
           "T34_1000_govem",
           "IMAGE 3.2"
          ],
          [
           "T34_1000_govem",
           "IMAGE 3.2"
          ],
          [
           "T34_1000_govem",
           "IMAGE 3.2"
          ],
          [
           "T34_1000_govem",
           "IMAGE 3.2"
          ],
          [
           "T34_1000_govem",
           "IMAGE 3.2"
          ],
          [
           "T34_1000_govem",
           "IMAGE 3.2"
          ],
          [
           "T34_1000_govem",
           "IMAGE 3.2"
          ],
          [
           "T34_1000_govem",
           "IMAGE 3.2"
          ],
          [
           "T34_1000_govem",
           "IMAGE 3.2"
          ],
          [
           "T34_1000_govem",
           "IMAGE 3.2"
          ],
          [
           "T34_1000_govem",
           "IMAGE 3.2"
          ],
          [
           "T34_1000_govem",
           "IMAGE 3.2"
          ],
          [
           "T34_1000_govem",
           "IMAGE 3.2"
          ],
          [
           "T34_1000_govem",
           "IMAGE 3.2"
          ],
          [
           "T34_1000_govem",
           "IMAGE 3.2"
          ],
          [
           "T34_1000_govem",
           "IMAGE 3.2"
          ],
          [
           "T34_1000_govem",
           "IMAGE 3.2"
          ],
          [
           "T34_1000_govem",
           "IMAGE 3.2"
          ]
         ],
         "hovertemplate": "region=RoW<br>model=%{customdata[1]}<br>scenario_narrative=Instit<br>year=%{x}<br>Emissions|Kyoto Gases=%{y}<br>scenario=%{customdata[0]}<extra></extra>",
         "legendgroup": "RoW, IMAGE 3.2",
         "line": {
          "color": "#00cc96",
          "dash": "longdash"
         },
         "marker": {
          "symbol": "circle"
         },
         "mode": "lines",
         "name": "RoW, IMAGE 3.2",
         "showlegend": false,
         "type": "scattergl",
         "x": [
          2005,
          2010,
          2015,
          2020,
          2025,
          2030,
          2035,
          2040,
          2045,
          2050,
          2055,
          2060,
          2065,
          2070,
          2075,
          2080,
          2085,
          2090,
          2095,
          2100
         ],
         "xaxis": "x6",
         "y": [
          12317.008361816406,
          14562.927215576172,
          15006.793975830078,
          16146.317413330078,
          18418.70199584961,
          15548.20767211914,
          14374.297241210938,
          11968.432540893555,
          9836.191101074219,
          8307.931640625,
          7494.369338989258,
          6354.28625869751,
          6545.97575378418,
          5957.769367218018,
          6873.205326080322,
          6110.244934082031,
          6696.809872627258,
          6179.8246212005615,
          6813.223808288574,
          5984.939805984497
         ],
         "yaxis": "y6"
        },
        {
         "customdata": [
          [
           "T34_1000_ref",
           "IMAGE 3.2"
          ],
          [
           "T34_1000_ref",
           "IMAGE 3.2"
          ],
          [
           "T34_1000_ref",
           "IMAGE 3.2"
          ],
          [
           "T34_1000_ref",
           "IMAGE 3.2"
          ],
          [
           "T34_1000_ref",
           "IMAGE 3.2"
          ],
          [
           "T34_1000_ref",
           "IMAGE 3.2"
          ],
          [
           "T34_1000_ref",
           "IMAGE 3.2"
          ],
          [
           "T34_1000_ref",
           "IMAGE 3.2"
          ],
          [
           "T34_1000_ref",
           "IMAGE 3.2"
          ],
          [
           "T34_1000_ref",
           "IMAGE 3.2"
          ],
          [
           "T34_1000_ref",
           "IMAGE 3.2"
          ],
          [
           "T34_1000_ref",
           "IMAGE 3.2"
          ],
          [
           "T34_1000_ref",
           "IMAGE 3.2"
          ],
          [
           "T34_1000_ref",
           "IMAGE 3.2"
          ],
          [
           "T34_1000_ref",
           "IMAGE 3.2"
          ],
          [
           "T34_1000_ref",
           "IMAGE 3.2"
          ],
          [
           "T34_1000_ref",
           "IMAGE 3.2"
          ],
          [
           "T34_1000_ref",
           "IMAGE 3.2"
          ],
          [
           "T34_1000_ref",
           "IMAGE 3.2"
          ],
          [
           "T34_1000_ref",
           "IMAGE 3.2"
          ]
         ],
         "hovertemplate": "region=RoW<br>model=%{customdata[1]}<br>scenario_narrative=Cost Effective<br>year=%{x}<br>Emissions|Kyoto Gases=%{y}<br>scenario=%{customdata[0]}<extra></extra>",
         "legendgroup": "RoW, IMAGE 3.2",
         "line": {
          "color": "#00cc96",
          "dash": "longdash"
         },
         "marker": {
          "symbol": "circle"
         },
         "mode": "lines",
         "name": "RoW, IMAGE 3.2",
         "showlegend": false,
         "type": "scattergl",
         "x": [
          2005,
          2010,
          2015,
          2020,
          2025,
          2030,
          2035,
          2040,
          2045,
          2050,
          2055,
          2060,
          2065,
          2070,
          2075,
          2080,
          2085,
          2090,
          2095,
          2100
         ],
         "xaxis": "x",
         "y": [
          12317.008361816406,
          14562.927215576172,
          15006.793975830078,
          16146.317413330078,
          17810.173370361328,
          13695.521270751953,
          11164.341812133789,
          9156.872451782227,
          7669.255599975586,
          6124.143257141113,
          5572.283313751221,
          4903.266632080078,
          4641.488830566406,
          3968.1140327453613,
          5245.038513183594,
          4229.589541256428,
          5080.639189422131,
          4699.642616271973,
          5344.770164489746,
          4582.394304275513
         ],
         "yaxis": "y"
        },
        {
         "customdata": [
          [
           "T34_1000_bitb_ref",
           "IMAGE 3.2"
          ],
          [
           "T34_1000_bitb_ref",
           "IMAGE 3.2"
          ],
          [
           "T34_1000_bitb_ref",
           "IMAGE 3.2"
          ],
          [
           "T34_1000_bitb_ref",
           "IMAGE 3.2"
          ],
          [
           "T34_1000_bitb_ref",
           "IMAGE 3.2"
          ],
          [
           "T34_1000_bitb_ref",
           "IMAGE 3.2"
          ],
          [
           "T34_1000_bitb_ref",
           "IMAGE 3.2"
          ],
          [
           "T34_1000_bitb_ref",
           "IMAGE 3.2"
          ],
          [
           "T34_1000_bitb_ref",
           "IMAGE 3.2"
          ],
          [
           "T34_1000_bitb_ref",
           "IMAGE 3.2"
          ],
          [
           "T34_1000_bitb_ref",
           "IMAGE 3.2"
          ],
          [
           "T34_1000_bitb_ref",
           "IMAGE 3.2"
          ],
          [
           "T34_1000_bitb_ref",
           "IMAGE 3.2"
          ],
          [
           "T34_1000_bitb_ref",
           "IMAGE 3.2"
          ],
          [
           "T34_1000_bitb_ref",
           "IMAGE 3.2"
          ],
          [
           "T34_1000_bitb_ref",
           "IMAGE 3.2"
          ],
          [
           "T34_1000_bitb_ref",
           "IMAGE 3.2"
          ],
          [
           "T34_1000_bitb_ref",
           "IMAGE 3.2"
          ],
          [
           "T34_1000_bitb_ref",
           "IMAGE 3.2"
          ],
          [
           "T34_1000_bitb_ref",
           "IMAGE 3.2"
          ]
         ],
         "hovertemplate": "region=RoW<br>model=%{customdata[1]}<br>scenario_narrative=Tech<br>year=%{x}<br>Emissions|Kyoto Gases=%{y}<br>scenario=%{customdata[0]}<extra></extra>",
         "legendgroup": "RoW, IMAGE 3.2",
         "line": {
          "color": "#00cc96",
          "dash": "longdash"
         },
         "marker": {
          "symbol": "circle"
         },
         "mode": "lines",
         "name": "RoW, IMAGE 3.2",
         "showlegend": false,
         "type": "scattergl",
         "x": [
          2005,
          2010,
          2015,
          2020,
          2025,
          2030,
          2035,
          2040,
          2045,
          2050,
          2055,
          2060,
          2065,
          2070,
          2075,
          2080,
          2085,
          2090,
          2095,
          2100
         ],
         "xaxis": "x2",
         "y": [
          12317.008361816406,
          14562.927215576172,
          15006.793975830078,
          16150.40365600586,
          16874.645751953125,
          12839.394775390625,
          11630.588897705078,
          10068.31770324707,
          8545.905014038086,
          6346.7537841796875,
          5488.4858322143555,
          4531.007261276245,
          4262.456432342529,
          3421.0280208587646,
          3858.341869354248,
          3036.290414571762,
          3471.48548412323,
          2660.618621826172,
          3391.1937742233276,
          2438.511308670044
         ],
         "yaxis": "y2"
        },
        {
         "customdata": [
          [
           "T34_1000_bitb_em",
           "MESSAGEix-GLOBIOM_1.1"
          ],
          [
           "T34_1000_bitb_em",
           "MESSAGEix-GLOBIOM_1.1"
          ],
          [
           "T34_1000_bitb_em",
           "MESSAGEix-GLOBIOM_1.1"
          ],
          [
           "T34_1000_bitb_em",
           "MESSAGEix-GLOBIOM_1.1"
          ],
          [
           "T34_1000_bitb_em",
           "MESSAGEix-GLOBIOM_1.1"
          ],
          [
           "T34_1000_bitb_em",
           "MESSAGEix-GLOBIOM_1.1"
          ],
          [
           "T34_1000_bitb_em",
           "MESSAGEix-GLOBIOM_1.1"
          ],
          [
           "T34_1000_bitb_em",
           "MESSAGEix-GLOBIOM_1.1"
          ],
          [
           "T34_1000_bitb_em",
           "MESSAGEix-GLOBIOM_1.1"
          ],
          [
           "T34_1000_bitb_em",
           "MESSAGEix-GLOBIOM_1.1"
          ],
          [
           "T34_1000_bitb_em",
           "MESSAGEix-GLOBIOM_1.1"
          ],
          [
           "T34_1000_bitb_em",
           "MESSAGEix-GLOBIOM_1.1"
          ],
          [
           "T34_1000_bitb_em",
           "MESSAGEix-GLOBIOM_1.1"
          ],
          [
           "T34_1000_bitb_em",
           "MESSAGEix-GLOBIOM_1.1"
          ],
          [
           "T34_1000_bitb_em",
           "MESSAGEix-GLOBIOM_1.1"
          ],
          [
           "T34_1000_bitb_em",
           "MESSAGEix-GLOBIOM_1.1"
          ],
          [
           "T34_1000_bitb_em",
           "MESSAGEix-GLOBIOM_1.1"
          ],
          [
           "T34_1000_bitb_em",
           "MESSAGEix-GLOBIOM_1.1"
          ],
          [
           "T34_1000_bitb_em",
           "MESSAGEix-GLOBIOM_1.1"
          ],
          [
           "T34_1000_bitb_em",
           "MESSAGEix-GLOBIOM_1.1"
          ]
         ],
         "hovertemplate": "region=RoW<br>model=%{customdata[1]}<br>scenario_narrative=Tech+Inst<br>year=%{x}<br>Emissions|Kyoto Gases=%{y}<br>scenario=%{customdata[0]}<extra></extra>",
         "legendgroup": "RoW, MESSAGEix-GLOBIOM_1.1",
         "line": {
          "color": "#00cc96",
          "dash": "dashdot"
         },
         "marker": {
          "symbol": "circle"
         },
         "mode": "lines",
         "name": "RoW, MESSAGEix-GLOBIOM_1.1",
         "showlegend": true,
         "type": "scattergl",
         "x": [
          1990,
          1995,
          2000,
          2005,
          2010,
          2015,
          2020,
          2025,
          2030,
          2035,
          2040,
          2045,
          2050,
          2055,
          2060,
          2070,
          2080,
          2090,
          2100,
          2110
         ],
         "xaxis": "x4",
         "y": [
          12449.196041500001,
          12874.567420399999,
          13833.145321666665,
          15319.395992333331,
          16608.757367333335,
          18216.631782666664,
          18342.15489268185,
          16939.260187906944,
          16341.47819247188,
          16006.420013181825,
          15451.598547006337,
          14841.856655120271,
          13752.637787069583,
          12598.46332540087,
          11090.456898605566,
          6793.705789758978,
          4850.5482331985295,
          3178.170682737437,
          3128.8102176592542,
          3527.975923112464
         ],
         "yaxis": "y4"
        },
        {
         "customdata": [
          [
           "T34_1000_feas_em",
           "MESSAGEix-GLOBIOM_1.1"
          ],
          [
           "T34_1000_feas_em",
           "MESSAGEix-GLOBIOM_1.1"
          ],
          [
           "T34_1000_feas_em",
           "MESSAGEix-GLOBIOM_1.1"
          ],
          [
           "T34_1000_feas_em",
           "MESSAGEix-GLOBIOM_1.1"
          ],
          [
           "T34_1000_feas_em",
           "MESSAGEix-GLOBIOM_1.1"
          ],
          [
           "T34_1000_feas_em",
           "MESSAGEix-GLOBIOM_1.1"
          ],
          [
           "T34_1000_feas_em",
           "MESSAGEix-GLOBIOM_1.1"
          ],
          [
           "T34_1000_feas_em",
           "MESSAGEix-GLOBIOM_1.1"
          ],
          [
           "T34_1000_feas_em",
           "MESSAGEix-GLOBIOM_1.1"
          ],
          [
           "T34_1000_feas_em",
           "MESSAGEix-GLOBIOM_1.1"
          ],
          [
           "T34_1000_feas_em",
           "MESSAGEix-GLOBIOM_1.1"
          ],
          [
           "T34_1000_feas_em",
           "MESSAGEix-GLOBIOM_1.1"
          ],
          [
           "T34_1000_feas_em",
           "MESSAGEix-GLOBIOM_1.1"
          ],
          [
           "T34_1000_feas_em",
           "MESSAGEix-GLOBIOM_1.1"
          ],
          [
           "T34_1000_feas_em",
           "MESSAGEix-GLOBIOM_1.1"
          ],
          [
           "T34_1000_feas_em",
           "MESSAGEix-GLOBIOM_1.1"
          ],
          [
           "T34_1000_feas_em",
           "MESSAGEix-GLOBIOM_1.1"
          ],
          [
           "T34_1000_feas_em",
           "MESSAGEix-GLOBIOM_1.1"
          ],
          [
           "T34_1000_feas_em",
           "MESSAGEix-GLOBIOM_1.1"
          ],
          [
           "T34_1000_feas_em",
           "MESSAGEix-GLOBIOM_1.1"
          ]
         ],
         "hovertemplate": "region=RoW<br>model=%{customdata[1]}<br>scenario_narrative=Tech+Inst+Enab<br>year=%{x}<br>Emissions|Kyoto Gases=%{y}<br>scenario=%{customdata[0]}<extra></extra>",
         "legendgroup": "RoW, MESSAGEix-GLOBIOM_1.1",
         "line": {
          "color": "#00cc96",
          "dash": "dashdot"
         },
         "marker": {
          "symbol": "circle"
         },
         "mode": "lines",
         "name": "RoW, MESSAGEix-GLOBIOM_1.1",
         "showlegend": false,
         "type": "scattergl",
         "x": [
          1990,
          1995,
          2000,
          2005,
          2010,
          2015,
          2020,
          2025,
          2030,
          2035,
          2040,
          2045,
          2050,
          2055,
          2060,
          2070,
          2080,
          2090,
          2100,
          2110
         ],
         "xaxis": "x5",
         "y": [
          12449.196041500001,
          12874.567420399999,
          13833.145321666665,
          15319.395992333331,
          16608.757367333335,
          18216.631782666664,
          18342.15489268185,
          16939.260187906944,
          18567.464495587174,
          18973.166859498477,
          18472.287121217996,
          16998.751803444196,
          14771.236374102375,
          12783.146172081473,
          10398.867587568631,
          6537.669238178805,
          3178.942963923627,
          1619.3449929347998,
          1040.9084864924725,
          526.014979271436
         ],
         "yaxis": "y5"
        },
        {
         "customdata": [
          [
           "T34_1000_govem",
           "MESSAGEix-GLOBIOM_1.1"
          ],
          [
           "T34_1000_govem",
           "MESSAGEix-GLOBIOM_1.1"
          ],
          [
           "T34_1000_govem",
           "MESSAGEix-GLOBIOM_1.1"
          ],
          [
           "T34_1000_govem",
           "MESSAGEix-GLOBIOM_1.1"
          ],
          [
           "T34_1000_govem",
           "MESSAGEix-GLOBIOM_1.1"
          ],
          [
           "T34_1000_govem",
           "MESSAGEix-GLOBIOM_1.1"
          ],
          [
           "T34_1000_govem",
           "MESSAGEix-GLOBIOM_1.1"
          ],
          [
           "T34_1000_govem",
           "MESSAGEix-GLOBIOM_1.1"
          ],
          [
           "T34_1000_govem",
           "MESSAGEix-GLOBIOM_1.1"
          ],
          [
           "T34_1000_govem",
           "MESSAGEix-GLOBIOM_1.1"
          ],
          [
           "T34_1000_govem",
           "MESSAGEix-GLOBIOM_1.1"
          ],
          [
           "T34_1000_govem",
           "MESSAGEix-GLOBIOM_1.1"
          ],
          [
           "T34_1000_govem",
           "MESSAGEix-GLOBIOM_1.1"
          ],
          [
           "T34_1000_govem",
           "MESSAGEix-GLOBIOM_1.1"
          ],
          [
           "T34_1000_govem",
           "MESSAGEix-GLOBIOM_1.1"
          ],
          [
           "T34_1000_govem",
           "MESSAGEix-GLOBIOM_1.1"
          ],
          [
           "T34_1000_govem",
           "MESSAGEix-GLOBIOM_1.1"
          ],
          [
           "T34_1000_govem",
           "MESSAGEix-GLOBIOM_1.1"
          ],
          [
           "T34_1000_govem",
           "MESSAGEix-GLOBIOM_1.1"
          ],
          [
           "T34_1000_govem",
           "MESSAGEix-GLOBIOM_1.1"
          ]
         ],
         "hovertemplate": "region=RoW<br>model=%{customdata[1]}<br>scenario_narrative=Instit<br>year=%{x}<br>Emissions|Kyoto Gases=%{y}<br>scenario=%{customdata[0]}<extra></extra>",
         "legendgroup": "RoW, MESSAGEix-GLOBIOM_1.1",
         "line": {
          "color": "#00cc96",
          "dash": "dashdot"
         },
         "marker": {
          "symbol": "circle"
         },
         "mode": "lines",
         "name": "RoW, MESSAGEix-GLOBIOM_1.1",
         "showlegend": false,
         "type": "scattergl",
         "x": [
          1990,
          1995,
          2000,
          2005,
          2010,
          2015,
          2020,
          2025,
          2030,
          2035,
          2040,
          2045,
          2050,
          2055,
          2060,
          2070,
          2080,
          2090,
          2100,
          2110
         ],
         "xaxis": "x6",
         "y": [
          12449.196041500001,
          12874.567420399999,
          13833.145321666665,
          15319.395992333331,
          16608.757367333335,
          18216.631782666664,
          18342.15489268185,
          16939.260187906944,
          16336.851725619528,
          15837.1397910601,
          15219.56423385287,
          14739.555474317516,
          13674.281109816777,
          12709.427015694419,
          11172.22898088182,
          7115.7310497235885,
          5152.944919654024,
          4286.073343072987,
          4227.176370812967,
          4245.835300661119
         ],
         "yaxis": "y6"
        },
        {
         "customdata": [
          [
           "T34_1000_ref",
           "MESSAGEix-GLOBIOM_1.1"
          ],
          [
           "T34_1000_ref",
           "MESSAGEix-GLOBIOM_1.1"
          ],
          [
           "T34_1000_ref",
           "MESSAGEix-GLOBIOM_1.1"
          ],
          [
           "T34_1000_ref",
           "MESSAGEix-GLOBIOM_1.1"
          ],
          [
           "T34_1000_ref",
           "MESSAGEix-GLOBIOM_1.1"
          ],
          [
           "T34_1000_ref",
           "MESSAGEix-GLOBIOM_1.1"
          ],
          [
           "T34_1000_ref",
           "MESSAGEix-GLOBIOM_1.1"
          ],
          [
           "T34_1000_ref",
           "MESSAGEix-GLOBIOM_1.1"
          ],
          [
           "T34_1000_ref",
           "MESSAGEix-GLOBIOM_1.1"
          ],
          [
           "T34_1000_ref",
           "MESSAGEix-GLOBIOM_1.1"
          ],
          [
           "T34_1000_ref",
           "MESSAGEix-GLOBIOM_1.1"
          ],
          [
           "T34_1000_ref",
           "MESSAGEix-GLOBIOM_1.1"
          ],
          [
           "T34_1000_ref",
           "MESSAGEix-GLOBIOM_1.1"
          ],
          [
           "T34_1000_ref",
           "MESSAGEix-GLOBIOM_1.1"
          ],
          [
           "T34_1000_ref",
           "MESSAGEix-GLOBIOM_1.1"
          ],
          [
           "T34_1000_ref",
           "MESSAGEix-GLOBIOM_1.1"
          ],
          [
           "T34_1000_ref",
           "MESSAGEix-GLOBIOM_1.1"
          ],
          [
           "T34_1000_ref",
           "MESSAGEix-GLOBIOM_1.1"
          ],
          [
           "T34_1000_ref",
           "MESSAGEix-GLOBIOM_1.1"
          ],
          [
           "T34_1000_ref",
           "MESSAGEix-GLOBIOM_1.1"
          ]
         ],
         "hovertemplate": "region=RoW<br>model=%{customdata[1]}<br>scenario_narrative=Cost Effective<br>year=%{x}<br>Emissions|Kyoto Gases=%{y}<br>scenario=%{customdata[0]}<extra></extra>",
         "legendgroup": "RoW, MESSAGEix-GLOBIOM_1.1",
         "line": {
          "color": "#00cc96",
          "dash": "dashdot"
         },
         "marker": {
          "symbol": "circle"
         },
         "mode": "lines",
         "name": "RoW, MESSAGEix-GLOBIOM_1.1",
         "showlegend": false,
         "type": "scattergl",
         "x": [
          1990,
          1995,
          2000,
          2005,
          2010,
          2015,
          2020,
          2025,
          2030,
          2035,
          2040,
          2045,
          2050,
          2055,
          2060,
          2070,
          2080,
          2090,
          2100,
          2110
         ],
         "xaxis": "x",
         "y": [
          12449.196041500001,
          12874.567420399999,
          13833.145321666665,
          15319.395992333331,
          16608.757367333335,
          18216.631782666664,
          18342.15489268185,
          16939.260187906944,
          13829.527174317845,
          12629.178638012349,
          10992.084425066569,
          9273.593368055399,
          7521.062180477835,
          6113.232695650373,
          5056.086065032967,
          2884.090519554808,
          2854.069972124809,
          2589.014622513862,
          2878.539554935338,
          3065.6739944137416
         ],
         "yaxis": "y"
        },
        {
         "customdata": [
          [
           "T34_1000_bitb_ref",
           "MESSAGEix-GLOBIOM_1.1"
          ],
          [
           "T34_1000_bitb_ref",
           "MESSAGEix-GLOBIOM_1.1"
          ],
          [
           "T34_1000_bitb_ref",
           "MESSAGEix-GLOBIOM_1.1"
          ],
          [
           "T34_1000_bitb_ref",
           "MESSAGEix-GLOBIOM_1.1"
          ],
          [
           "T34_1000_bitb_ref",
           "MESSAGEix-GLOBIOM_1.1"
          ],
          [
           "T34_1000_bitb_ref",
           "MESSAGEix-GLOBIOM_1.1"
          ],
          [
           "T34_1000_bitb_ref",
           "MESSAGEix-GLOBIOM_1.1"
          ],
          [
           "T34_1000_bitb_ref",
           "MESSAGEix-GLOBIOM_1.1"
          ],
          [
           "T34_1000_bitb_ref",
           "MESSAGEix-GLOBIOM_1.1"
          ],
          [
           "T34_1000_bitb_ref",
           "MESSAGEix-GLOBIOM_1.1"
          ],
          [
           "T34_1000_bitb_ref",
           "MESSAGEix-GLOBIOM_1.1"
          ],
          [
           "T34_1000_bitb_ref",
           "MESSAGEix-GLOBIOM_1.1"
          ],
          [
           "T34_1000_bitb_ref",
           "MESSAGEix-GLOBIOM_1.1"
          ],
          [
           "T34_1000_bitb_ref",
           "MESSAGEix-GLOBIOM_1.1"
          ],
          [
           "T34_1000_bitb_ref",
           "MESSAGEix-GLOBIOM_1.1"
          ],
          [
           "T34_1000_bitb_ref",
           "MESSAGEix-GLOBIOM_1.1"
          ],
          [
           "T34_1000_bitb_ref",
           "MESSAGEix-GLOBIOM_1.1"
          ],
          [
           "T34_1000_bitb_ref",
           "MESSAGEix-GLOBIOM_1.1"
          ],
          [
           "T34_1000_bitb_ref",
           "MESSAGEix-GLOBIOM_1.1"
          ],
          [
           "T34_1000_bitb_ref",
           "MESSAGEix-GLOBIOM_1.1"
          ]
         ],
         "hovertemplate": "region=RoW<br>model=%{customdata[1]}<br>scenario_narrative=Tech<br>year=%{x}<br>Emissions|Kyoto Gases=%{y}<br>scenario=%{customdata[0]}<extra></extra>",
         "legendgroup": "RoW, MESSAGEix-GLOBIOM_1.1",
         "line": {
          "color": "#00cc96",
          "dash": "dashdot"
         },
         "marker": {
          "symbol": "circle"
         },
         "mode": "lines",
         "name": "RoW, MESSAGEix-GLOBIOM_1.1",
         "showlegend": false,
         "type": "scattergl",
         "x": [
          1990,
          1995,
          2000,
          2005,
          2010,
          2015,
          2020,
          2025,
          2030,
          2035,
          2040,
          2045,
          2050,
          2055,
          2060,
          2070,
          2080,
          2090,
          2100,
          2110
         ],
         "xaxis": "x2",
         "y": [
          12449.196041500001,
          12874.567420399999,
          13833.145321666665,
          15319.395992333331,
          16608.757367333335,
          18216.631782666664,
          18342.15489268185,
          16939.260187906944,
          13804.190377651608,
          12521.986382071489,
          10952.837132127028,
          9181.486452164552,
          7304.909066611809,
          5900.890380493131,
          4860.85783141126,
          2311.1941611289353,
          2213.195084670058,
          2497.520512739057,
          2993.252444433415,
          3241.27412209521
         ],
         "yaxis": "y2"
        },
        {
         "customdata": [
          [
           "T34_1000_enab_em",
           "MESSAGEix-GLOBIOM_1.1"
          ],
          [
           "T34_1000_enab_em",
           "MESSAGEix-GLOBIOM_1.1"
          ],
          [
           "T34_1000_enab_em",
           "MESSAGEix-GLOBIOM_1.1"
          ],
          [
           "T34_1000_enab_em",
           "MESSAGEix-GLOBIOM_1.1"
          ],
          [
           "T34_1000_enab_em",
           "MESSAGEix-GLOBIOM_1.1"
          ],
          [
           "T34_1000_enab_em",
           "MESSAGEix-GLOBIOM_1.1"
          ],
          [
           "T34_1000_enab_em",
           "MESSAGEix-GLOBIOM_1.1"
          ],
          [
           "T34_1000_enab_em",
           "MESSAGEix-GLOBIOM_1.1"
          ],
          [
           "T34_1000_enab_em",
           "MESSAGEix-GLOBIOM_1.1"
          ],
          [
           "T34_1000_enab_em",
           "MESSAGEix-GLOBIOM_1.1"
          ],
          [
           "T34_1000_enab_em",
           "MESSAGEix-GLOBIOM_1.1"
          ],
          [
           "T34_1000_enab_em",
           "MESSAGEix-GLOBIOM_1.1"
          ],
          [
           "T34_1000_enab_em",
           "MESSAGEix-GLOBIOM_1.1"
          ],
          [
           "T34_1000_enab_em",
           "MESSAGEix-GLOBIOM_1.1"
          ],
          [
           "T34_1000_enab_em",
           "MESSAGEix-GLOBIOM_1.1"
          ],
          [
           "T34_1000_enab_em",
           "MESSAGEix-GLOBIOM_1.1"
          ],
          [
           "T34_1000_enab_em",
           "MESSAGEix-GLOBIOM_1.1"
          ],
          [
           "T34_1000_enab_em",
           "MESSAGEix-GLOBIOM_1.1"
          ],
          [
           "T34_1000_enab_em",
           "MESSAGEix-GLOBIOM_1.1"
          ],
          [
           "T34_1000_enab_em",
           "MESSAGEix-GLOBIOM_1.1"
          ]
         ],
         "hovertemplate": "region=RoW<br>model=%{customdata[1]}<br>scenario_narrative=Inst+Enab<br>year=%{x}<br>Emissions|Kyoto Gases=%{y}<br>scenario=%{customdata[0]}<extra></extra>",
         "legendgroup": "RoW, MESSAGEix-GLOBIOM_1.1",
         "line": {
          "color": "#00cc96",
          "dash": "dashdot"
         },
         "marker": {
          "symbol": "circle"
         },
         "mode": "lines",
         "name": "RoW, MESSAGEix-GLOBIOM_1.1",
         "showlegend": false,
         "type": "scattergl",
         "x": [
          1990,
          1995,
          2000,
          2005,
          2010,
          2015,
          2020,
          2025,
          2030,
          2035,
          2040,
          2045,
          2050,
          2055,
          2060,
          2070,
          2080,
          2090,
          2100,
          2110
         ],
         "xaxis": "x3",
         "y": [
          12449.196041500001,
          12874.567420399999,
          13833.145321666665,
          15319.395992333331,
          16608.757367333335,
          18216.631782666664,
          18342.15489268185,
          16939.260187906944,
          18472.388071830883,
          18857.9031760828,
          18319.562986650148,
          16906.993218889496,
          14703.804371636044,
          12736.06953107092,
          10421.021067811695,
          6582.3999265823495,
          3204.824680453017,
          1627.638516738129,
          998.4605668319547,
          470.2189602614604
         ],
         "yaxis": "y3"
        },
        {
         "customdata": [
          [
           "T34_1000_bitb_em",
           "POLES ENGAGE"
          ],
          [
           "T34_1000_bitb_em",
           "POLES ENGAGE"
          ],
          [
           "T34_1000_bitb_em",
           "POLES ENGAGE"
          ],
          [
           "T34_1000_bitb_em",
           "POLES ENGAGE"
          ],
          [
           "T34_1000_bitb_em",
           "POLES ENGAGE"
          ],
          [
           "T34_1000_bitb_em",
           "POLES ENGAGE"
          ],
          [
           "T34_1000_bitb_em",
           "POLES ENGAGE"
          ],
          [
           "T34_1000_bitb_em",
           "POLES ENGAGE"
          ],
          [
           "T34_1000_bitb_em",
           "POLES ENGAGE"
          ],
          [
           "T34_1000_bitb_em",
           "POLES ENGAGE"
          ],
          [
           "T34_1000_bitb_em",
           "POLES ENGAGE"
          ],
          [
           "T34_1000_bitb_em",
           "POLES ENGAGE"
          ],
          [
           "T34_1000_bitb_em",
           "POLES ENGAGE"
          ],
          [
           "T34_1000_bitb_em",
           "POLES ENGAGE"
          ],
          [
           "T34_1000_bitb_em",
           "POLES ENGAGE"
          ]
         ],
         "hovertemplate": "region=RoW<br>model=%{customdata[1]}<br>scenario_narrative=Tech+Inst<br>year=%{x}<br>Emissions|Kyoto Gases=%{y}<br>scenario=%{customdata[0]}<extra></extra>",
         "legendgroup": "RoW, POLES ENGAGE",
         "line": {
          "color": "#00cc96",
          "dash": "longdashdot"
         },
         "marker": {
          "symbol": "circle"
         },
         "mode": "lines",
         "name": "RoW, POLES ENGAGE",
         "showlegend": true,
         "type": "scattergl",
         "x": [
          2005,
          2010,
          2015,
          2020,
          2025,
          2030,
          2035,
          2040,
          2045,
          2050,
          2060,
          2070,
          2080,
          2090,
          2100
         ],
         "xaxis": "x4",
         "y": [
          11108.62451171875,
          13176.57470703125,
          14310.109130859375,
          14328.6162109375,
          14537.985595703125,
          12861.3701171875,
          12697.443115234375,
          12628.425537109375,
          11426.228515625,
          10593.005859375,
          7830.876281738281,
          6716.053146362305,
          7083.0127029418945,
          7614.78840637207,
          7466.01953125
         ],
         "yaxis": "y4"
        },
        {
         "customdata": [
          [
           "T34_1000_feas_em",
           "POLES ENGAGE"
          ],
          [
           "T34_1000_feas_em",
           "POLES ENGAGE"
          ],
          [
           "T34_1000_feas_em",
           "POLES ENGAGE"
          ],
          [
           "T34_1000_feas_em",
           "POLES ENGAGE"
          ],
          [
           "T34_1000_feas_em",
           "POLES ENGAGE"
          ],
          [
           "T34_1000_feas_em",
           "POLES ENGAGE"
          ],
          [
           "T34_1000_feas_em",
           "POLES ENGAGE"
          ],
          [
           "T34_1000_feas_em",
           "POLES ENGAGE"
          ],
          [
           "T34_1000_feas_em",
           "POLES ENGAGE"
          ],
          [
           "T34_1000_feas_em",
           "POLES ENGAGE"
          ],
          [
           "T34_1000_feas_em",
           "POLES ENGAGE"
          ],
          [
           "T34_1000_feas_em",
           "POLES ENGAGE"
          ],
          [
           "T34_1000_feas_em",
           "POLES ENGAGE"
          ],
          [
           "T34_1000_feas_em",
           "POLES ENGAGE"
          ],
          [
           "T34_1000_feas_em",
           "POLES ENGAGE"
          ]
         ],
         "hovertemplate": "region=RoW<br>model=%{customdata[1]}<br>scenario_narrative=Tech+Inst+Enab<br>year=%{x}<br>Emissions|Kyoto Gases=%{y}<br>scenario=%{customdata[0]}<extra></extra>",
         "legendgroup": "RoW, POLES ENGAGE",
         "line": {
          "color": "#00cc96",
          "dash": "longdashdot"
         },
         "marker": {
          "symbol": "circle"
         },
         "mode": "lines",
         "name": "RoW, POLES ENGAGE",
         "showlegend": false,
         "type": "scattergl",
         "x": [
          2005,
          2010,
          2015,
          2020,
          2025,
          2030,
          2035,
          2040,
          2045,
          2050,
          2060,
          2070,
          2080,
          2090,
          2100
         ],
         "xaxis": "x5",
         "y": [
          11108.62451171875,
          13176.57470703125,
          14310.109130859375,
          14328.615966796875,
          15629.489990234375,
          14280.058349609375,
          14240.142578125,
          14762.61376953125,
          13725.937255859375,
          12898.755981445312,
          8763.017211914062,
          7219.582275390625,
          7131.0137939453125,
          12680.613403320312,
          15681.204345703125
         ],
         "yaxis": "y5"
        },
        {
         "customdata": [
          [
           "T34_1000_govem",
           "POLES ENGAGE"
          ],
          [
           "T34_1000_govem",
           "POLES ENGAGE"
          ],
          [
           "T34_1000_govem",
           "POLES ENGAGE"
          ],
          [
           "T34_1000_govem",
           "POLES ENGAGE"
          ],
          [
           "T34_1000_govem",
           "POLES ENGAGE"
          ],
          [
           "T34_1000_govem",
           "POLES ENGAGE"
          ],
          [
           "T34_1000_govem",
           "POLES ENGAGE"
          ],
          [
           "T34_1000_govem",
           "POLES ENGAGE"
          ],
          [
           "T34_1000_govem",
           "POLES ENGAGE"
          ],
          [
           "T34_1000_govem",
           "POLES ENGAGE"
          ],
          [
           "T34_1000_govem",
           "POLES ENGAGE"
          ],
          [
           "T34_1000_govem",
           "POLES ENGAGE"
          ],
          [
           "T34_1000_govem",
           "POLES ENGAGE"
          ],
          [
           "T34_1000_govem",
           "POLES ENGAGE"
          ],
          [
           "T34_1000_govem",
           "POLES ENGAGE"
          ]
         ],
         "hovertemplate": "region=RoW<br>model=%{customdata[1]}<br>scenario_narrative=Instit<br>year=%{x}<br>Emissions|Kyoto Gases=%{y}<br>scenario=%{customdata[0]}<extra></extra>",
         "legendgroup": "RoW, POLES ENGAGE",
         "line": {
          "color": "#00cc96",
          "dash": "longdashdot"
         },
         "marker": {
          "symbol": "circle"
         },
         "mode": "lines",
         "name": "RoW, POLES ENGAGE",
         "showlegend": false,
         "type": "scattergl",
         "x": [
          2005,
          2010,
          2015,
          2020,
          2025,
          2030,
          2035,
          2040,
          2045,
          2050,
          2060,
          2070,
          2080,
          2090,
          2100
         ],
         "xaxis": "x6",
         "y": [
          11108.62451171875,
          13176.57470703125,
          14648.953369140625,
          15184.4892578125,
          15611.61376953125,
          14247.063720703125,
          14240.78515625,
          14651.82470703125,
          13471.9345703125,
          12673.664794921875,
          8374.490112304688,
          7458.26171875,
          5972.899108886719,
          16186.832275390625,
          20719.289306640625
         ],
         "yaxis": "y6"
        },
        {
         "customdata": [
          [
           "T34_1000_ref",
           "POLES ENGAGE"
          ],
          [
           "T34_1000_ref",
           "POLES ENGAGE"
          ],
          [
           "T34_1000_ref",
           "POLES ENGAGE"
          ],
          [
           "T34_1000_ref",
           "POLES ENGAGE"
          ],
          [
           "T34_1000_ref",
           "POLES ENGAGE"
          ],
          [
           "T34_1000_ref",
           "POLES ENGAGE"
          ],
          [
           "T34_1000_ref",
           "POLES ENGAGE"
          ],
          [
           "T34_1000_ref",
           "POLES ENGAGE"
          ],
          [
           "T34_1000_ref",
           "POLES ENGAGE"
          ],
          [
           "T34_1000_ref",
           "POLES ENGAGE"
          ],
          [
           "T34_1000_ref",
           "POLES ENGAGE"
          ],
          [
           "T34_1000_ref",
           "POLES ENGAGE"
          ],
          [
           "T34_1000_ref",
           "POLES ENGAGE"
          ],
          [
           "T34_1000_ref",
           "POLES ENGAGE"
          ],
          [
           "T34_1000_ref",
           "POLES ENGAGE"
          ]
         ],
         "hovertemplate": "region=RoW<br>model=%{customdata[1]}<br>scenario_narrative=Cost Effective<br>year=%{x}<br>Emissions|Kyoto Gases=%{y}<br>scenario=%{customdata[0]}<extra></extra>",
         "legendgroup": "RoW, POLES ENGAGE",
         "line": {
          "color": "#00cc96",
          "dash": "longdashdot"
         },
         "marker": {
          "symbol": "circle"
         },
         "mode": "lines",
         "name": "RoW, POLES ENGAGE",
         "showlegend": false,
         "type": "scattergl",
         "x": [
          2005,
          2010,
          2015,
          2020,
          2025,
          2030,
          2035,
          2040,
          2045,
          2050,
          2060,
          2070,
          2080,
          2090,
          2100
         ],
         "xaxis": "x",
         "y": [
          11108.62451171875,
          13176.57470703125,
          14310.109130859375,
          14328.6162109375,
          14433.509521484375,
          12277.01904296875,
          10714.832397460938,
          9175.249267578125,
          7099.166076660156,
          5730.774871826172,
          4304.055465698242,
          3386.3624267578125,
          2761.1377563476562,
          2737.579345703125,
          2512.0157775878906
         ],
         "yaxis": "y"
        },
        {
         "customdata": [
          [
           "T34_1000_bitb_ref",
           "POLES ENGAGE"
          ],
          [
           "T34_1000_bitb_ref",
           "POLES ENGAGE"
          ],
          [
           "T34_1000_bitb_ref",
           "POLES ENGAGE"
          ],
          [
           "T34_1000_bitb_ref",
           "POLES ENGAGE"
          ],
          [
           "T34_1000_bitb_ref",
           "POLES ENGAGE"
          ],
          [
           "T34_1000_bitb_ref",
           "POLES ENGAGE"
          ],
          [
           "T34_1000_bitb_ref",
           "POLES ENGAGE"
          ],
          [
           "T34_1000_bitb_ref",
           "POLES ENGAGE"
          ],
          [
           "T34_1000_bitb_ref",
           "POLES ENGAGE"
          ],
          [
           "T34_1000_bitb_ref",
           "POLES ENGAGE"
          ],
          [
           "T34_1000_bitb_ref",
           "POLES ENGAGE"
          ],
          [
           "T34_1000_bitb_ref",
           "POLES ENGAGE"
          ],
          [
           "T34_1000_bitb_ref",
           "POLES ENGAGE"
          ],
          [
           "T34_1000_bitb_ref",
           "POLES ENGAGE"
          ],
          [
           "T34_1000_bitb_ref",
           "POLES ENGAGE"
          ]
         ],
         "hovertemplate": "region=RoW<br>model=%{customdata[1]}<br>scenario_narrative=Tech<br>year=%{x}<br>Emissions|Kyoto Gases=%{y}<br>scenario=%{customdata[0]}<extra></extra>",
         "legendgroup": "RoW, POLES ENGAGE",
         "line": {
          "color": "#00cc96",
          "dash": "longdashdot"
         },
         "marker": {
          "symbol": "circle"
         },
         "mode": "lines",
         "name": "RoW, POLES ENGAGE",
         "showlegend": false,
         "type": "scattergl",
         "x": [
          2005,
          2010,
          2015,
          2020,
          2025,
          2030,
          2035,
          2040,
          2045,
          2050,
          2060,
          2070,
          2080,
          2090,
          2100
         ],
         "xaxis": "x2",
         "y": [
          11108.62451171875,
          13176.57470703125,
          14310.10888671875,
          14323.716064453125,
          15725.322998046875,
          13902.874755859375,
          13077.191162109375,
          11758.99365234375,
          9829.512084960938,
          7997.717041015625,
          5917.237579345703,
          3420.153106689453,
          1407.133544921875,
          244.46832275390625,
          -452.1036981344223
         ],
         "yaxis": "y2"
        },
        {
         "customdata": [
          [
           "T34_1000_bitb_em",
           "REMIND 3.0"
          ],
          [
           "T34_1000_bitb_em",
           "REMIND 3.0"
          ],
          [
           "T34_1000_bitb_em",
           "REMIND 3.0"
          ],
          [
           "T34_1000_bitb_em",
           "REMIND 3.0"
          ],
          [
           "T34_1000_bitb_em",
           "REMIND 3.0"
          ],
          [
           "T34_1000_bitb_em",
           "REMIND 3.0"
          ],
          [
           "T34_1000_bitb_em",
           "REMIND 3.0"
          ],
          [
           "T34_1000_bitb_em",
           "REMIND 3.0"
          ],
          [
           "T34_1000_bitb_em",
           "REMIND 3.0"
          ],
          [
           "T34_1000_bitb_em",
           "REMIND 3.0"
          ],
          [
           "T34_1000_bitb_em",
           "REMIND 3.0"
          ],
          [
           "T34_1000_bitb_em",
           "REMIND 3.0"
          ],
          [
           "T34_1000_bitb_em",
           "REMIND 3.0"
          ],
          [
           "T34_1000_bitb_em",
           "REMIND 3.0"
          ],
          [
           "T34_1000_bitb_em",
           "REMIND 3.0"
          ],
          [
           "T34_1000_bitb_em",
           "REMIND 3.0"
          ]
         ],
         "hovertemplate": "region=RoW<br>model=%{customdata[1]}<br>scenario_narrative=Tech+Inst<br>year=%{x}<br>Emissions|Kyoto Gases=%{y}<br>scenario=%{customdata[0]}<extra></extra>",
         "legendgroup": "RoW, REMIND 3.0",
         "line": {
          "color": "#00cc96",
          "dash": "solid"
         },
         "marker": {
          "symbol": "circle"
         },
         "mode": "lines",
         "name": "RoW, REMIND 3.0",
         "showlegend": true,
         "type": "scattergl",
         "x": [
          2005,
          2010,
          2015,
          2020,
          2025,
          2030,
          2035,
          2040,
          2045,
          2050,
          2055,
          2060,
          2070,
          2080,
          2090,
          2100
         ],
         "xaxis": "x4",
         "y": [
          12578.8877061,
          14583.379752100001,
          16096.5793273,
          16877.0604535,
          16201.3147222,
          15828.4507877,
          14484.8292678,
          12774.4991961,
          10868.4373175,
          9410.5059709,
          8364.039915,
          7510.4467421,
          5854.3571234,
          4895.8290158,
          4453.0152151,
          3543.6542702
         ],
         "yaxis": "y4"
        },
        {
         "customdata": [
          [
           "T34_1000_feas_em",
           "REMIND 3.0"
          ],
          [
           "T34_1000_feas_em",
           "REMIND 3.0"
          ],
          [
           "T34_1000_feas_em",
           "REMIND 3.0"
          ],
          [
           "T34_1000_feas_em",
           "REMIND 3.0"
          ],
          [
           "T34_1000_feas_em",
           "REMIND 3.0"
          ],
          [
           "T34_1000_feas_em",
           "REMIND 3.0"
          ],
          [
           "T34_1000_feas_em",
           "REMIND 3.0"
          ],
          [
           "T34_1000_feas_em",
           "REMIND 3.0"
          ],
          [
           "T34_1000_feas_em",
           "REMIND 3.0"
          ],
          [
           "T34_1000_feas_em",
           "REMIND 3.0"
          ],
          [
           "T34_1000_feas_em",
           "REMIND 3.0"
          ],
          [
           "T34_1000_feas_em",
           "REMIND 3.0"
          ],
          [
           "T34_1000_feas_em",
           "REMIND 3.0"
          ],
          [
           "T34_1000_feas_em",
           "REMIND 3.0"
          ],
          [
           "T34_1000_feas_em",
           "REMIND 3.0"
          ],
          [
           "T34_1000_feas_em",
           "REMIND 3.0"
          ]
         ],
         "hovertemplate": "region=RoW<br>model=%{customdata[1]}<br>scenario_narrative=Tech+Inst+Enab<br>year=%{x}<br>Emissions|Kyoto Gases=%{y}<br>scenario=%{customdata[0]}<extra></extra>",
         "legendgroup": "RoW, REMIND 3.0",
         "line": {
          "color": "#00cc96",
          "dash": "solid"
         },
         "marker": {
          "symbol": "circle"
         },
         "mode": "lines",
         "name": "RoW, REMIND 3.0",
         "showlegend": false,
         "type": "scattergl",
         "x": [
          2005,
          2010,
          2015,
          2020,
          2025,
          2030,
          2035,
          2040,
          2045,
          2050,
          2055,
          2060,
          2070,
          2080,
          2090,
          2100
         ],
         "xaxis": "x5",
         "y": [
          12578.8877061,
          14583.379752100001,
          16096.5793273,
          16877.0604535,
          16052.742383199999,
          14361.5440893,
          12989.5102038,
          11410.2534135,
          9832.5482466,
          8736.018230900001,
          7972.696949300001,
          7140.9813782,
          5698.8297264,
          5132.9049592,
          4212.4336266,
          3383.98096
         ],
         "yaxis": "y5"
        },
        {
         "customdata": [
          [
           "T34_1000_govem",
           "REMIND 3.0"
          ],
          [
           "T34_1000_govem",
           "REMIND 3.0"
          ],
          [
           "T34_1000_govem",
           "REMIND 3.0"
          ],
          [
           "T34_1000_govem",
           "REMIND 3.0"
          ],
          [
           "T34_1000_govem",
           "REMIND 3.0"
          ],
          [
           "T34_1000_govem",
           "REMIND 3.0"
          ],
          [
           "T34_1000_govem",
           "REMIND 3.0"
          ],
          [
           "T34_1000_govem",
           "REMIND 3.0"
          ],
          [
           "T34_1000_govem",
           "REMIND 3.0"
          ],
          [
           "T34_1000_govem",
           "REMIND 3.0"
          ],
          [
           "T34_1000_govem",
           "REMIND 3.0"
          ],
          [
           "T34_1000_govem",
           "REMIND 3.0"
          ],
          [
           "T34_1000_govem",
           "REMIND 3.0"
          ],
          [
           "T34_1000_govem",
           "REMIND 3.0"
          ],
          [
           "T34_1000_govem",
           "REMIND 3.0"
          ],
          [
           "T34_1000_govem",
           "REMIND 3.0"
          ]
         ],
         "hovertemplate": "region=RoW<br>model=%{customdata[1]}<br>scenario_narrative=Instit<br>year=%{x}<br>Emissions|Kyoto Gases=%{y}<br>scenario=%{customdata[0]}<extra></extra>",
         "legendgroup": "RoW, REMIND 3.0",
         "line": {
          "color": "#00cc96",
          "dash": "solid"
         },
         "marker": {
          "symbol": "circle"
         },
         "mode": "lines",
         "name": "RoW, REMIND 3.0",
         "showlegend": false,
         "type": "scattergl",
         "x": [
          2005,
          2010,
          2015,
          2020,
          2025,
          2030,
          2035,
          2040,
          2045,
          2050,
          2055,
          2060,
          2070,
          2080,
          2090,
          2100
         ],
         "xaxis": "x6",
         "y": [
          12578.8877061,
          14583.379752100001,
          16096.5793273,
          16877.0604535,
          16248.3896544,
          16024.4758022,
          14745.3072361,
          12915.8732201,
          11037.638466100001,
          9499.357100199999,
          8355.914669,
          7464.9119051,
          6177.188981,
          5391.1685894,
          4719.2205099,
          3581.5256851
         ],
         "yaxis": "y6"
        },
        {
         "customdata": [
          [
           "T34_1000_ref",
           "REMIND 3.0"
          ],
          [
           "T34_1000_ref",
           "REMIND 3.0"
          ],
          [
           "T34_1000_ref",
           "REMIND 3.0"
          ],
          [
           "T34_1000_ref",
           "REMIND 3.0"
          ],
          [
           "T34_1000_ref",
           "REMIND 3.0"
          ],
          [
           "T34_1000_ref",
           "REMIND 3.0"
          ],
          [
           "T34_1000_ref",
           "REMIND 3.0"
          ],
          [
           "T34_1000_ref",
           "REMIND 3.0"
          ],
          [
           "T34_1000_ref",
           "REMIND 3.0"
          ],
          [
           "T34_1000_ref",
           "REMIND 3.0"
          ],
          [
           "T34_1000_ref",
           "REMIND 3.0"
          ],
          [
           "T34_1000_ref",
           "REMIND 3.0"
          ],
          [
           "T34_1000_ref",
           "REMIND 3.0"
          ],
          [
           "T34_1000_ref",
           "REMIND 3.0"
          ],
          [
           "T34_1000_ref",
           "REMIND 3.0"
          ],
          [
           "T34_1000_ref",
           "REMIND 3.0"
          ]
         ],
         "hovertemplate": "region=RoW<br>model=%{customdata[1]}<br>scenario_narrative=Cost Effective<br>year=%{x}<br>Emissions|Kyoto Gases=%{y}<br>scenario=%{customdata[0]}<extra></extra>",
         "legendgroup": "RoW, REMIND 3.0",
         "line": {
          "color": "#00cc96",
          "dash": "solid"
         },
         "marker": {
          "symbol": "circle"
         },
         "mode": "lines",
         "name": "RoW, REMIND 3.0",
         "showlegend": false,
         "type": "scattergl",
         "x": [
          2005,
          2010,
          2015,
          2020,
          2025,
          2030,
          2035,
          2040,
          2045,
          2050,
          2055,
          2060,
          2070,
          2080,
          2090,
          2100
         ],
         "xaxis": "x",
         "y": [
          12578.8877061,
          14583.379752100001,
          16096.5793273,
          16877.0604535,
          16000.978340099999,
          15392.6152004,
          13929.684691,
          11423.9474968,
          9459.9044936,
          8043.3139259,
          7183.6408908,
          6645.5632764,
          5620.8047908,
          4268.3725031,
          3857.4060876000003,
          3768.5004146
         ],
         "yaxis": "y"
        },
        {
         "customdata": [
          [
           "T34_1000_bitb_ref",
           "REMIND 3.0"
          ],
          [
           "T34_1000_bitb_ref",
           "REMIND 3.0"
          ],
          [
           "T34_1000_bitb_ref",
           "REMIND 3.0"
          ],
          [
           "T34_1000_bitb_ref",
           "REMIND 3.0"
          ],
          [
           "T34_1000_bitb_ref",
           "REMIND 3.0"
          ],
          [
           "T34_1000_bitb_ref",
           "REMIND 3.0"
          ],
          [
           "T34_1000_bitb_ref",
           "REMIND 3.0"
          ],
          [
           "T34_1000_bitb_ref",
           "REMIND 3.0"
          ],
          [
           "T34_1000_bitb_ref",
           "REMIND 3.0"
          ],
          [
           "T34_1000_bitb_ref",
           "REMIND 3.0"
          ],
          [
           "T34_1000_bitb_ref",
           "REMIND 3.0"
          ],
          [
           "T34_1000_bitb_ref",
           "REMIND 3.0"
          ],
          [
           "T34_1000_bitb_ref",
           "REMIND 3.0"
          ],
          [
           "T34_1000_bitb_ref",
           "REMIND 3.0"
          ],
          [
           "T34_1000_bitb_ref",
           "REMIND 3.0"
          ],
          [
           "T34_1000_bitb_ref",
           "REMIND 3.0"
          ]
         ],
         "hovertemplate": "region=RoW<br>model=%{customdata[1]}<br>scenario_narrative=Tech<br>year=%{x}<br>Emissions|Kyoto Gases=%{y}<br>scenario=%{customdata[0]}<extra></extra>",
         "legendgroup": "RoW, REMIND 3.0",
         "line": {
          "color": "#00cc96",
          "dash": "solid"
         },
         "marker": {
          "symbol": "circle"
         },
         "mode": "lines",
         "name": "RoW, REMIND 3.0",
         "showlegend": false,
         "type": "scattergl",
         "x": [
          2005,
          2010,
          2015,
          2020,
          2025,
          2030,
          2035,
          2040,
          2045,
          2050,
          2055,
          2060,
          2070,
          2080,
          2090,
          2100
         ],
         "xaxis": "x2",
         "y": [
          12578.8877061,
          14583.379752100001,
          16096.5793273,
          16877.0604535,
          15978.119469700001,
          14877.348854500002,
          12904.2243623,
          10585.6617964,
          8610.0095993,
          7307.229058,
          6715.4018656,
          6450.9966944,
          5712.779838,
          5058.0720439,
          4382.101212199999,
          3982.6436788
         ],
         "yaxis": "y2"
        },
        {
         "customdata": [
          [
           "T34_1000_enab_em",
           "REMIND 3.0"
          ],
          [
           "T34_1000_enab_em",
           "REMIND 3.0"
          ],
          [
           "T34_1000_enab_em",
           "REMIND 3.0"
          ],
          [
           "T34_1000_enab_em",
           "REMIND 3.0"
          ],
          [
           "T34_1000_enab_em",
           "REMIND 3.0"
          ],
          [
           "T34_1000_enab_em",
           "REMIND 3.0"
          ],
          [
           "T34_1000_enab_em",
           "REMIND 3.0"
          ],
          [
           "T34_1000_enab_em",
           "REMIND 3.0"
          ],
          [
           "T34_1000_enab_em",
           "REMIND 3.0"
          ],
          [
           "T34_1000_enab_em",
           "REMIND 3.0"
          ],
          [
           "T34_1000_enab_em",
           "REMIND 3.0"
          ],
          [
           "T34_1000_enab_em",
           "REMIND 3.0"
          ],
          [
           "T34_1000_enab_em",
           "REMIND 3.0"
          ],
          [
           "T34_1000_enab_em",
           "REMIND 3.0"
          ],
          [
           "T34_1000_enab_em",
           "REMIND 3.0"
          ],
          [
           "T34_1000_enab_em",
           "REMIND 3.0"
          ]
         ],
         "hovertemplate": "region=RoW<br>model=%{customdata[1]}<br>scenario_narrative=Inst+Enab<br>year=%{x}<br>Emissions|Kyoto Gases=%{y}<br>scenario=%{customdata[0]}<extra></extra>",
         "legendgroup": "RoW, REMIND 3.0",
         "line": {
          "color": "#00cc96",
          "dash": "solid"
         },
         "marker": {
          "symbol": "circle"
         },
         "mode": "lines",
         "name": "RoW, REMIND 3.0",
         "showlegend": false,
         "type": "scattergl",
         "x": [
          2005,
          2010,
          2015,
          2020,
          2025,
          2030,
          2035,
          2040,
          2045,
          2050,
          2055,
          2060,
          2070,
          2080,
          2090,
          2100
         ],
         "xaxis": "x3",
         "y": [
          12578.8877061,
          14583.379752100001,
          16096.5793273,
          16877.0604535,
          16037.3241562,
          14392.0617569,
          13088.362691,
          11568.9740059,
          10047.7399145,
          8954.256565900001,
          8188.0939479,
          7315.5788501,
          5879.1276485,
          4957.006430699999,
          4157.760788,
          3374.1624231
         ],
         "yaxis": "y3"
        },
        {
         "customdata": [
          [
           "T34_1000_bitb_em",
           "WITCH 5.0"
          ],
          [
           "T34_1000_bitb_em",
           "WITCH 5.0"
          ],
          [
           "T34_1000_bitb_em",
           "WITCH 5.0"
          ],
          [
           "T34_1000_bitb_em",
           "WITCH 5.0"
          ],
          [
           "T34_1000_bitb_em",
           "WITCH 5.0"
          ],
          [
           "T34_1000_bitb_em",
           "WITCH 5.0"
          ],
          [
           "T34_1000_bitb_em",
           "WITCH 5.0"
          ],
          [
           "T34_1000_bitb_em",
           "WITCH 5.0"
          ],
          [
           "T34_1000_bitb_em",
           "WITCH 5.0"
          ],
          [
           "T34_1000_bitb_em",
           "WITCH 5.0"
          ],
          [
           "T34_1000_bitb_em",
           "WITCH 5.0"
          ],
          [
           "T34_1000_bitb_em",
           "WITCH 5.0"
          ],
          [
           "T34_1000_bitb_em",
           "WITCH 5.0"
          ],
          [
           "T34_1000_bitb_em",
           "WITCH 5.0"
          ],
          [
           "T34_1000_bitb_em",
           "WITCH 5.0"
          ],
          [
           "T34_1000_bitb_em",
           "WITCH 5.0"
          ],
          [
           "T34_1000_bitb_em",
           "WITCH 5.0"
          ],
          [
           "T34_1000_bitb_em",
           "WITCH 5.0"
          ],
          [
           "T34_1000_bitb_em",
           "WITCH 5.0"
          ],
          [
           "T34_1000_bitb_em",
           "WITCH 5.0"
          ]
         ],
         "hovertemplate": "region=RoW<br>model=%{customdata[1]}<br>scenario_narrative=Tech+Inst<br>year=%{x}<br>Emissions|Kyoto Gases=%{y}<br>scenario=%{customdata[0]}<extra></extra>",
         "legendgroup": "RoW, WITCH 5.0",
         "line": {
          "color": "#00cc96",
          "dash": "dot"
         },
         "marker": {
          "symbol": "circle"
         },
         "mode": "lines",
         "name": "RoW, WITCH 5.0",
         "showlegend": true,
         "type": "scattergl",
         "x": [
          2005,
          2010,
          2015,
          2020,
          2025,
          2030,
          2035,
          2040,
          2045,
          2050,
          2055,
          2060,
          2065,
          2070,
          2075,
          2080,
          2085,
          2090,
          2095,
          2100
         ],
         "xaxis": "x4",
         "y": [
          12404.4490092423,
          13950.67668083179,
          15045.575476327478,
          15678.945732389644,
          14851.867229438538,
          12559.4228963906,
          11694.721936254859,
          11095.009327607539,
          10482.84038449872,
          10065.354062037655,
          9678.838457194232,
          8757.231279535326,
          8409.249058241272,
          7610.5959614414,
          7180.783634542843,
          6574.1602166058365,
          2651.7718447690645,
          2767.3546422503678,
          2793.777682497795,
          2849.901615476044
         ],
         "yaxis": "y4"
        },
        {
         "customdata": [
          [
           "T34_1000_feas_em",
           "WITCH 5.0"
          ],
          [
           "T34_1000_feas_em",
           "WITCH 5.0"
          ],
          [
           "T34_1000_feas_em",
           "WITCH 5.0"
          ],
          [
           "T34_1000_feas_em",
           "WITCH 5.0"
          ],
          [
           "T34_1000_feas_em",
           "WITCH 5.0"
          ],
          [
           "T34_1000_feas_em",
           "WITCH 5.0"
          ],
          [
           "T34_1000_feas_em",
           "WITCH 5.0"
          ],
          [
           "T34_1000_feas_em",
           "WITCH 5.0"
          ],
          [
           "T34_1000_feas_em",
           "WITCH 5.0"
          ],
          [
           "T34_1000_feas_em",
           "WITCH 5.0"
          ],
          [
           "T34_1000_feas_em",
           "WITCH 5.0"
          ],
          [
           "T34_1000_feas_em",
           "WITCH 5.0"
          ],
          [
           "T34_1000_feas_em",
           "WITCH 5.0"
          ],
          [
           "T34_1000_feas_em",
           "WITCH 5.0"
          ],
          [
           "T34_1000_feas_em",
           "WITCH 5.0"
          ],
          [
           "T34_1000_feas_em",
           "WITCH 5.0"
          ],
          [
           "T34_1000_feas_em",
           "WITCH 5.0"
          ],
          [
           "T34_1000_feas_em",
           "WITCH 5.0"
          ],
          [
           "T34_1000_feas_em",
           "WITCH 5.0"
          ],
          [
           "T34_1000_feas_em",
           "WITCH 5.0"
          ]
         ],
         "hovertemplate": "region=RoW<br>model=%{customdata[1]}<br>scenario_narrative=Tech+Inst+Enab<br>year=%{x}<br>Emissions|Kyoto Gases=%{y}<br>scenario=%{customdata[0]}<extra></extra>",
         "legendgroup": "RoW, WITCH 5.0",
         "line": {
          "color": "#00cc96",
          "dash": "dot"
         },
         "marker": {
          "symbol": "circle"
         },
         "mode": "lines",
         "name": "RoW, WITCH 5.0",
         "showlegend": false,
         "type": "scattergl",
         "x": [
          2005,
          2010,
          2015,
          2020,
          2025,
          2030,
          2035,
          2040,
          2045,
          2050,
          2055,
          2060,
          2065,
          2070,
          2075,
          2080,
          2085,
          2090,
          2095,
          2100
         ],
         "xaxis": "x5",
         "y": [
          12404.4490092423,
          13950.67668083179,
          15045.575476327478,
          15678.945732389644,
          14506.43915283456,
          12862.188547186208,
          11553.526185572962,
          10351.88175190255,
          9304.647570745681,
          8558.146115175407,
          7639.666073613824,
          6901.063715795254,
          6237.251566315115,
          5634.094253381511,
          4914.944181386968,
          4292.822603901724,
          3536.3365656706997,
          3922.475397039412,
          3586.9591455667655,
          3538.277744597918
         ],
         "yaxis": "y5"
        },
        {
         "customdata": [
          [
           "T34_1000_govem",
           "WITCH 5.0"
          ],
          [
           "T34_1000_govem",
           "WITCH 5.0"
          ],
          [
           "T34_1000_govem",
           "WITCH 5.0"
          ],
          [
           "T34_1000_govem",
           "WITCH 5.0"
          ],
          [
           "T34_1000_govem",
           "WITCH 5.0"
          ],
          [
           "T34_1000_govem",
           "WITCH 5.0"
          ],
          [
           "T34_1000_govem",
           "WITCH 5.0"
          ],
          [
           "T34_1000_govem",
           "WITCH 5.0"
          ],
          [
           "T34_1000_govem",
           "WITCH 5.0"
          ],
          [
           "T34_1000_govem",
           "WITCH 5.0"
          ],
          [
           "T34_1000_govem",
           "WITCH 5.0"
          ],
          [
           "T34_1000_govem",
           "WITCH 5.0"
          ],
          [
           "T34_1000_govem",
           "WITCH 5.0"
          ],
          [
           "T34_1000_govem",
           "WITCH 5.0"
          ],
          [
           "T34_1000_govem",
           "WITCH 5.0"
          ],
          [
           "T34_1000_govem",
           "WITCH 5.0"
          ],
          [
           "T34_1000_govem",
           "WITCH 5.0"
          ],
          [
           "T34_1000_govem",
           "WITCH 5.0"
          ],
          [
           "T34_1000_govem",
           "WITCH 5.0"
          ],
          [
           "T34_1000_govem",
           "WITCH 5.0"
          ]
         ],
         "hovertemplate": "region=RoW<br>model=%{customdata[1]}<br>scenario_narrative=Instit<br>year=%{x}<br>Emissions|Kyoto Gases=%{y}<br>scenario=%{customdata[0]}<extra></extra>",
         "legendgroup": "RoW, WITCH 5.0",
         "line": {
          "color": "#00cc96",
          "dash": "dot"
         },
         "marker": {
          "symbol": "circle"
         },
         "mode": "lines",
         "name": "RoW, WITCH 5.0",
         "showlegend": false,
         "type": "scattergl",
         "x": [
          2005,
          2010,
          2015,
          2020,
          2025,
          2030,
          2035,
          2040,
          2045,
          2050,
          2055,
          2060,
          2065,
          2070,
          2075,
          2080,
          2085,
          2090,
          2095,
          2100
         ],
         "xaxis": "x6",
         "y": [
          12404.4490092423,
          13950.67668083179,
          15045.575476327478,
          15678.945732389644,
          14631.295943713416,
          12991.166156579971,
          12030.66917670091,
          11203.424224328486,
          10354.328521792164,
          9927.566954292575,
          9027.88564844524,
          7803.7543433013725,
          6903.490369438189,
          6115.355574569219,
          5339.0865264589875,
          4308.696569145449,
          3756.4111197814673,
          967.3069394457054,
          -442.45065011850556,
          -402.914757707686
         ],
         "yaxis": "y6"
        },
        {
         "customdata": [
          [
           "T34_1000_ref",
           "WITCH 5.0"
          ],
          [
           "T34_1000_ref",
           "WITCH 5.0"
          ],
          [
           "T34_1000_ref",
           "WITCH 5.0"
          ],
          [
           "T34_1000_ref",
           "WITCH 5.0"
          ],
          [
           "T34_1000_ref",
           "WITCH 5.0"
          ],
          [
           "T34_1000_ref",
           "WITCH 5.0"
          ],
          [
           "T34_1000_ref",
           "WITCH 5.0"
          ],
          [
           "T34_1000_ref",
           "WITCH 5.0"
          ],
          [
           "T34_1000_ref",
           "WITCH 5.0"
          ],
          [
           "T34_1000_ref",
           "WITCH 5.0"
          ],
          [
           "T34_1000_ref",
           "WITCH 5.0"
          ],
          [
           "T34_1000_ref",
           "WITCH 5.0"
          ],
          [
           "T34_1000_ref",
           "WITCH 5.0"
          ],
          [
           "T34_1000_ref",
           "WITCH 5.0"
          ],
          [
           "T34_1000_ref",
           "WITCH 5.0"
          ],
          [
           "T34_1000_ref",
           "WITCH 5.0"
          ],
          [
           "T34_1000_ref",
           "WITCH 5.0"
          ],
          [
           "T34_1000_ref",
           "WITCH 5.0"
          ],
          [
           "T34_1000_ref",
           "WITCH 5.0"
          ],
          [
           "T34_1000_ref",
           "WITCH 5.0"
          ]
         ],
         "hovertemplate": "region=RoW<br>model=%{customdata[1]}<br>scenario_narrative=Cost Effective<br>year=%{x}<br>Emissions|Kyoto Gases=%{y}<br>scenario=%{customdata[0]}<extra></extra>",
         "legendgroup": "RoW, WITCH 5.0",
         "line": {
          "color": "#00cc96",
          "dash": "dot"
         },
         "marker": {
          "symbol": "circle"
         },
         "mode": "lines",
         "name": "RoW, WITCH 5.0",
         "showlegend": false,
         "type": "scattergl",
         "x": [
          2005,
          2010,
          2015,
          2020,
          2025,
          2030,
          2035,
          2040,
          2045,
          2050,
          2055,
          2060,
          2065,
          2070,
          2075,
          2080,
          2085,
          2090,
          2095,
          2100
         ],
         "xaxis": "x",
         "y": [
          12404.4490092423,
          13950.67668083179,
          15045.575476327478,
          15678.945732389644,
          13922.59345610752,
          8426.832302858265,
          7630.733715454924,
          7307.071937849455,
          7086.420338781177,
          6937.902929617614,
          6595.146478217004,
          6262.059438499903,
          5902.25877100851,
          5419.336619045205,
          4864.737770742972,
          4236.560126266599,
          3543.667966325409,
          3064.901253353793,
          3029.2432935845404,
          2943.855023727388
         ],
         "yaxis": "y"
        },
        {
         "customdata": [
          [
           "T34_1000_bitb_ref",
           "WITCH 5.0"
          ],
          [
           "T34_1000_bitb_ref",
           "WITCH 5.0"
          ],
          [
           "T34_1000_bitb_ref",
           "WITCH 5.0"
          ],
          [
           "T34_1000_bitb_ref",
           "WITCH 5.0"
          ],
          [
           "T34_1000_bitb_ref",
           "WITCH 5.0"
          ],
          [
           "T34_1000_bitb_ref",
           "WITCH 5.0"
          ],
          [
           "T34_1000_bitb_ref",
           "WITCH 5.0"
          ],
          [
           "T34_1000_bitb_ref",
           "WITCH 5.0"
          ],
          [
           "T34_1000_bitb_ref",
           "WITCH 5.0"
          ],
          [
           "T34_1000_bitb_ref",
           "WITCH 5.0"
          ],
          [
           "T34_1000_bitb_ref",
           "WITCH 5.0"
          ],
          [
           "T34_1000_bitb_ref",
           "WITCH 5.0"
          ],
          [
           "T34_1000_bitb_ref",
           "WITCH 5.0"
          ],
          [
           "T34_1000_bitb_ref",
           "WITCH 5.0"
          ],
          [
           "T34_1000_bitb_ref",
           "WITCH 5.0"
          ],
          [
           "T34_1000_bitb_ref",
           "WITCH 5.0"
          ],
          [
           "T34_1000_bitb_ref",
           "WITCH 5.0"
          ],
          [
           "T34_1000_bitb_ref",
           "WITCH 5.0"
          ],
          [
           "T34_1000_bitb_ref",
           "WITCH 5.0"
          ],
          [
           "T34_1000_bitb_ref",
           "WITCH 5.0"
          ]
         ],
         "hovertemplate": "region=RoW<br>model=%{customdata[1]}<br>scenario_narrative=Tech<br>year=%{x}<br>Emissions|Kyoto Gases=%{y}<br>scenario=%{customdata[0]}<extra></extra>",
         "legendgroup": "RoW, WITCH 5.0",
         "line": {
          "color": "#00cc96",
          "dash": "dot"
         },
         "marker": {
          "symbol": "circle"
         },
         "mode": "lines",
         "name": "RoW, WITCH 5.0",
         "showlegend": false,
         "type": "scattergl",
         "x": [
          2005,
          2010,
          2015,
          2020,
          2025,
          2030,
          2035,
          2040,
          2045,
          2050,
          2055,
          2060,
          2065,
          2070,
          2075,
          2080,
          2085,
          2090,
          2095,
          2100
         ],
         "xaxis": "x2",
         "y": [
          12404.4490092423,
          13950.67668083179,
          15045.575476327478,
          15678.945732389644,
          13838.599583165207,
          7159.807231175425,
          6837.013664475731,
          6221.7038613363475,
          5919.592308870602,
          5684.368613176763,
          5413.251209016056,
          5201.967174900969,
          4976.74275234897,
          4731.63021725942,
          4533.382908427147,
          4403.821947437574,
          4301.8827042236335,
          4148.341148173476,
          4041.6168180050736,
          3923.298487631307
         ],
         "yaxis": "y2"
        },
        {
         "customdata": [
          [
           "T34_1000_enab_em",
           "WITCH 5.0"
          ],
          [
           "T34_1000_enab_em",
           "WITCH 5.0"
          ],
          [
           "T34_1000_enab_em",
           "WITCH 5.0"
          ],
          [
           "T34_1000_enab_em",
           "WITCH 5.0"
          ],
          [
           "T34_1000_enab_em",
           "WITCH 5.0"
          ],
          [
           "T34_1000_enab_em",
           "WITCH 5.0"
          ],
          [
           "T34_1000_enab_em",
           "WITCH 5.0"
          ],
          [
           "T34_1000_enab_em",
           "WITCH 5.0"
          ],
          [
           "T34_1000_enab_em",
           "WITCH 5.0"
          ],
          [
           "T34_1000_enab_em",
           "WITCH 5.0"
          ],
          [
           "T34_1000_enab_em",
           "WITCH 5.0"
          ],
          [
           "T34_1000_enab_em",
           "WITCH 5.0"
          ],
          [
           "T34_1000_enab_em",
           "WITCH 5.0"
          ],
          [
           "T34_1000_enab_em",
           "WITCH 5.0"
          ],
          [
           "T34_1000_enab_em",
           "WITCH 5.0"
          ],
          [
           "T34_1000_enab_em",
           "WITCH 5.0"
          ],
          [
           "T34_1000_enab_em",
           "WITCH 5.0"
          ],
          [
           "T34_1000_enab_em",
           "WITCH 5.0"
          ],
          [
           "T34_1000_enab_em",
           "WITCH 5.0"
          ],
          [
           "T34_1000_enab_em",
           "WITCH 5.0"
          ]
         ],
         "hovertemplate": "region=RoW<br>model=%{customdata[1]}<br>scenario_narrative=Inst+Enab<br>year=%{x}<br>Emissions|Kyoto Gases=%{y}<br>scenario=%{customdata[0]}<extra></extra>",
         "legendgroup": "RoW, WITCH 5.0",
         "line": {
          "color": "#00cc96",
          "dash": "dot"
         },
         "marker": {
          "symbol": "circle"
         },
         "mode": "lines",
         "name": "RoW, WITCH 5.0",
         "showlegend": false,
         "type": "scattergl",
         "x": [
          2005,
          2010,
          2015,
          2020,
          2025,
          2030,
          2035,
          2040,
          2045,
          2050,
          2055,
          2060,
          2065,
          2070,
          2075,
          2080,
          2085,
          2090,
          2095,
          2100
         ],
         "xaxis": "x3",
         "y": [
          12404.4490092423,
          13950.67668083179,
          15045.575476327478,
          15678.945732389644,
          14631.518813965022,
          13291.374986970795,
          11749.615658008594,
          10436.695553659414,
          9353.772103426085,
          8543.819995026115,
          7727.188624718665,
          6940.919209248991,
          6224.089216381279,
          5535.562971543359,
          4739.637925834757,
          4083.610892970323,
          3801.777169198035,
          3363.2489464866976,
          2556.6874050273454,
          2081.236881619217
         ],
         "yaxis": "y3"
        }
       ],
       "layout": {
        "annotations": [
         {
          "font": {},
          "showarrow": false,
          "text": "scenario_narrative=Cost Effective",
          "x": 0.15999999999999998,
          "xanchor": "center",
          "xref": "paper",
          "y": 0.46499999999999997,
          "yanchor": "bottom",
          "yref": "paper"
         },
         {
          "font": {},
          "showarrow": false,
          "text": "scenario_narrative=Tech",
          "x": 0.49999999999999994,
          "xanchor": "center",
          "xref": "paper",
          "y": 0.46499999999999997,
          "yanchor": "bottom",
          "yref": "paper"
         },
         {
          "font": {},
          "showarrow": false,
          "text": "scenario_narrative=Inst+Enab",
          "x": 0.8399999999999999,
          "xanchor": "center",
          "xref": "paper",
          "y": 0.46499999999999997,
          "yanchor": "bottom",
          "yref": "paper"
         },
         {
          "font": {},
          "showarrow": false,
          "text": "scenario_narrative=Tech+Inst",
          "x": 0.15999999999999998,
          "xanchor": "center",
          "xref": "paper",
          "y": 0.9999999999999999,
          "yanchor": "bottom",
          "yref": "paper"
         },
         {
          "font": {},
          "showarrow": false,
          "text": "scenario_narrative=Tech+Inst+Enab",
          "x": 0.49999999999999994,
          "xanchor": "center",
          "xref": "paper",
          "y": 0.9999999999999999,
          "yanchor": "bottom",
          "yref": "paper"
         },
         {
          "font": {},
          "showarrow": false,
          "text": "scenario_narrative=Instit",
          "x": 0.8399999999999999,
          "xanchor": "center",
          "xref": "paper",
          "y": 0.9999999999999999,
          "yanchor": "bottom",
          "yref": "paper"
         }
        ],
        "legend": {
         "title": {
          "text": "region, model"
         },
         "tracegroupgap": 0
        },
        "showlegend": false,
        "template": {
         "data": {
          "bar": [
           {
            "error_x": {
             "color": "#2a3f5f"
            },
            "error_y": {
             "color": "#2a3f5f"
            },
            "marker": {
             "line": {
              "color": "#E5ECF6",
              "width": 0.5
             },
             "pattern": {
              "fillmode": "overlay",
              "size": 10,
              "solidity": 0.2
             }
            },
            "type": "bar"
           }
          ],
          "barpolar": [
           {
            "marker": {
             "line": {
              "color": "#E5ECF6",
              "width": 0.5
             },
             "pattern": {
              "fillmode": "overlay",
              "size": 10,
              "solidity": 0.2
             }
            },
            "type": "barpolar"
           }
          ],
          "carpet": [
           {
            "aaxis": {
             "endlinecolor": "#2a3f5f",
             "gridcolor": "white",
             "linecolor": "white",
             "minorgridcolor": "white",
             "startlinecolor": "#2a3f5f"
            },
            "baxis": {
             "endlinecolor": "#2a3f5f",
             "gridcolor": "white",
             "linecolor": "white",
             "minorgridcolor": "white",
             "startlinecolor": "#2a3f5f"
            },
            "type": "carpet"
           }
          ],
          "choropleth": [
           {
            "colorbar": {
             "outlinewidth": 0,
             "ticks": ""
            },
            "type": "choropleth"
           }
          ],
          "contour": [
           {
            "colorbar": {
             "outlinewidth": 0,
             "ticks": ""
            },
            "colorscale": [
             [
              0,
              "#0d0887"
             ],
             [
              0.1111111111111111,
              "#46039f"
             ],
             [
              0.2222222222222222,
              "#7201a8"
             ],
             [
              0.3333333333333333,
              "#9c179e"
             ],
             [
              0.4444444444444444,
              "#bd3786"
             ],
             [
              0.5555555555555556,
              "#d8576b"
             ],
             [
              0.6666666666666666,
              "#ed7953"
             ],
             [
              0.7777777777777778,
              "#fb9f3a"
             ],
             [
              0.8888888888888888,
              "#fdca26"
             ],
             [
              1,
              "#f0f921"
             ]
            ],
            "type": "contour"
           }
          ],
          "contourcarpet": [
           {
            "colorbar": {
             "outlinewidth": 0,
             "ticks": ""
            },
            "type": "contourcarpet"
           }
          ],
          "heatmap": [
           {
            "colorbar": {
             "outlinewidth": 0,
             "ticks": ""
            },
            "colorscale": [
             [
              0,
              "#0d0887"
             ],
             [
              0.1111111111111111,
              "#46039f"
             ],
             [
              0.2222222222222222,
              "#7201a8"
             ],
             [
              0.3333333333333333,
              "#9c179e"
             ],
             [
              0.4444444444444444,
              "#bd3786"
             ],
             [
              0.5555555555555556,
              "#d8576b"
             ],
             [
              0.6666666666666666,
              "#ed7953"
             ],
             [
              0.7777777777777778,
              "#fb9f3a"
             ],
             [
              0.8888888888888888,
              "#fdca26"
             ],
             [
              1,
              "#f0f921"
             ]
            ],
            "type": "heatmap"
           }
          ],
          "heatmapgl": [
           {
            "colorbar": {
             "outlinewidth": 0,
             "ticks": ""
            },
            "colorscale": [
             [
              0,
              "#0d0887"
             ],
             [
              0.1111111111111111,
              "#46039f"
             ],
             [
              0.2222222222222222,
              "#7201a8"
             ],
             [
              0.3333333333333333,
              "#9c179e"
             ],
             [
              0.4444444444444444,
              "#bd3786"
             ],
             [
              0.5555555555555556,
              "#d8576b"
             ],
             [
              0.6666666666666666,
              "#ed7953"
             ],
             [
              0.7777777777777778,
              "#fb9f3a"
             ],
             [
              0.8888888888888888,
              "#fdca26"
             ],
             [
              1,
              "#f0f921"
             ]
            ],
            "type": "heatmapgl"
           }
          ],
          "histogram": [
           {
            "marker": {
             "pattern": {
              "fillmode": "overlay",
              "size": 10,
              "solidity": 0.2
             }
            },
            "type": "histogram"
           }
          ],
          "histogram2d": [
           {
            "colorbar": {
             "outlinewidth": 0,
             "ticks": ""
            },
            "colorscale": [
             [
              0,
              "#0d0887"
             ],
             [
              0.1111111111111111,
              "#46039f"
             ],
             [
              0.2222222222222222,
              "#7201a8"
             ],
             [
              0.3333333333333333,
              "#9c179e"
             ],
             [
              0.4444444444444444,
              "#bd3786"
             ],
             [
              0.5555555555555556,
              "#d8576b"
             ],
             [
              0.6666666666666666,
              "#ed7953"
             ],
             [
              0.7777777777777778,
              "#fb9f3a"
             ],
             [
              0.8888888888888888,
              "#fdca26"
             ],
             [
              1,
              "#f0f921"
             ]
            ],
            "type": "histogram2d"
           }
          ],
          "histogram2dcontour": [
           {
            "colorbar": {
             "outlinewidth": 0,
             "ticks": ""
            },
            "colorscale": [
             [
              0,
              "#0d0887"
             ],
             [
              0.1111111111111111,
              "#46039f"
             ],
             [
              0.2222222222222222,
              "#7201a8"
             ],
             [
              0.3333333333333333,
              "#9c179e"
             ],
             [
              0.4444444444444444,
              "#bd3786"
             ],
             [
              0.5555555555555556,
              "#d8576b"
             ],
             [
              0.6666666666666666,
              "#ed7953"
             ],
             [
              0.7777777777777778,
              "#fb9f3a"
             ],
             [
              0.8888888888888888,
              "#fdca26"
             ],
             [
              1,
              "#f0f921"
             ]
            ],
            "type": "histogram2dcontour"
           }
          ],
          "mesh3d": [
           {
            "colorbar": {
             "outlinewidth": 0,
             "ticks": ""
            },
            "type": "mesh3d"
           }
          ],
          "parcoords": [
           {
            "line": {
             "colorbar": {
              "outlinewidth": 0,
              "ticks": ""
             }
            },
            "type": "parcoords"
           }
          ],
          "pie": [
           {
            "automargin": true,
            "type": "pie"
           }
          ],
          "scatter": [
           {
            "fillpattern": {
             "fillmode": "overlay",
             "size": 10,
             "solidity": 0.2
            },
            "type": "scatter"
           }
          ],
          "scatter3d": [
           {
            "line": {
             "colorbar": {
              "outlinewidth": 0,
              "ticks": ""
             }
            },
            "marker": {
             "colorbar": {
              "outlinewidth": 0,
              "ticks": ""
             }
            },
            "type": "scatter3d"
           }
          ],
          "scattercarpet": [
           {
            "marker": {
             "colorbar": {
              "outlinewidth": 0,
              "ticks": ""
             }
            },
            "type": "scattercarpet"
           }
          ],
          "scattergeo": [
           {
            "marker": {
             "colorbar": {
              "outlinewidth": 0,
              "ticks": ""
             }
            },
            "type": "scattergeo"
           }
          ],
          "scattergl": [
           {
            "marker": {
             "colorbar": {
              "outlinewidth": 0,
              "ticks": ""
             }
            },
            "type": "scattergl"
           }
          ],
          "scattermapbox": [
           {
            "marker": {
             "colorbar": {
              "outlinewidth": 0,
              "ticks": ""
             }
            },
            "type": "scattermapbox"
           }
          ],
          "scatterpolar": [
           {
            "marker": {
             "colorbar": {
              "outlinewidth": 0,
              "ticks": ""
             }
            },
            "type": "scatterpolar"
           }
          ],
          "scatterpolargl": [
           {
            "marker": {
             "colorbar": {
              "outlinewidth": 0,
              "ticks": ""
             }
            },
            "type": "scatterpolargl"
           }
          ],
          "scatterternary": [
           {
            "marker": {
             "colorbar": {
              "outlinewidth": 0,
              "ticks": ""
             }
            },
            "type": "scatterternary"
           }
          ],
          "surface": [
           {
            "colorbar": {
             "outlinewidth": 0,
             "ticks": ""
            },
            "colorscale": [
             [
              0,
              "#0d0887"
             ],
             [
              0.1111111111111111,
              "#46039f"
             ],
             [
              0.2222222222222222,
              "#7201a8"
             ],
             [
              0.3333333333333333,
              "#9c179e"
             ],
             [
              0.4444444444444444,
              "#bd3786"
             ],
             [
              0.5555555555555556,
              "#d8576b"
             ],
             [
              0.6666666666666666,
              "#ed7953"
             ],
             [
              0.7777777777777778,
              "#fb9f3a"
             ],
             [
              0.8888888888888888,
              "#fdca26"
             ],
             [
              1,
              "#f0f921"
             ]
            ],
            "type": "surface"
           }
          ],
          "table": [
           {
            "cells": {
             "fill": {
              "color": "#EBF0F8"
             },
             "line": {
              "color": "white"
             }
            },
            "header": {
             "fill": {
              "color": "#C8D4E3"
             },
             "line": {
              "color": "white"
             }
            },
            "type": "table"
           }
          ]
         },
         "layout": {
          "annotationdefaults": {
           "arrowcolor": "#2a3f5f",
           "arrowhead": 0,
           "arrowwidth": 1
          },
          "autotypenumbers": "strict",
          "coloraxis": {
           "colorbar": {
            "outlinewidth": 0,
            "ticks": ""
           }
          },
          "colorscale": {
           "diverging": [
            [
             0,
             "#8e0152"
            ],
            [
             0.1,
             "#c51b7d"
            ],
            [
             0.2,
             "#de77ae"
            ],
            [
             0.3,
             "#f1b6da"
            ],
            [
             0.4,
             "#fde0ef"
            ],
            [
             0.5,
             "#f7f7f7"
            ],
            [
             0.6,
             "#e6f5d0"
            ],
            [
             0.7,
             "#b8e186"
            ],
            [
             0.8,
             "#7fbc41"
            ],
            [
             0.9,
             "#4d9221"
            ],
            [
             1,
             "#276419"
            ]
           ],
           "sequential": [
            [
             0,
             "#0d0887"
            ],
            [
             0.1111111111111111,
             "#46039f"
            ],
            [
             0.2222222222222222,
             "#7201a8"
            ],
            [
             0.3333333333333333,
             "#9c179e"
            ],
            [
             0.4444444444444444,
             "#bd3786"
            ],
            [
             0.5555555555555556,
             "#d8576b"
            ],
            [
             0.6666666666666666,
             "#ed7953"
            ],
            [
             0.7777777777777778,
             "#fb9f3a"
            ],
            [
             0.8888888888888888,
             "#fdca26"
            ],
            [
             1,
             "#f0f921"
            ]
           ],
           "sequentialminus": [
            [
             0,
             "#0d0887"
            ],
            [
             0.1111111111111111,
             "#46039f"
            ],
            [
             0.2222222222222222,
             "#7201a8"
            ],
            [
             0.3333333333333333,
             "#9c179e"
            ],
            [
             0.4444444444444444,
             "#bd3786"
            ],
            [
             0.5555555555555556,
             "#d8576b"
            ],
            [
             0.6666666666666666,
             "#ed7953"
            ],
            [
             0.7777777777777778,
             "#fb9f3a"
            ],
            [
             0.8888888888888888,
             "#fdca26"
            ],
            [
             1,
             "#f0f921"
            ]
           ]
          },
          "colorway": [
           "#636efa",
           "#EF553B",
           "#00cc96",
           "#ab63fa",
           "#FFA15A",
           "#19d3f3",
           "#FF6692",
           "#B6E880",
           "#FF97FF",
           "#FECB52"
          ],
          "font": {
           "color": "#2a3f5f"
          },
          "geo": {
           "bgcolor": "white",
           "lakecolor": "white",
           "landcolor": "#E5ECF6",
           "showlakes": true,
           "showland": true,
           "subunitcolor": "white"
          },
          "hoverlabel": {
           "align": "left"
          },
          "hovermode": "closest",
          "mapbox": {
           "style": "light"
          },
          "paper_bgcolor": "white",
          "plot_bgcolor": "#E5ECF6",
          "polar": {
           "angularaxis": {
            "gridcolor": "white",
            "linecolor": "white",
            "ticks": ""
           },
           "bgcolor": "#E5ECF6",
           "radialaxis": {
            "gridcolor": "white",
            "linecolor": "white",
            "ticks": ""
           }
          },
          "scene": {
           "xaxis": {
            "backgroundcolor": "#E5ECF6",
            "gridcolor": "white",
            "gridwidth": 2,
            "linecolor": "white",
            "showbackground": true,
            "ticks": "",
            "zerolinecolor": "white"
           },
           "yaxis": {
            "backgroundcolor": "#E5ECF6",
            "gridcolor": "white",
            "gridwidth": 2,
            "linecolor": "white",
            "showbackground": true,
            "ticks": "",
            "zerolinecolor": "white"
           },
           "zaxis": {
            "backgroundcolor": "#E5ECF6",
            "gridcolor": "white",
            "gridwidth": 2,
            "linecolor": "white",
            "showbackground": true,
            "ticks": "",
            "zerolinecolor": "white"
           }
          },
          "shapedefaults": {
           "line": {
            "color": "#2a3f5f"
           }
          },
          "ternary": {
           "aaxis": {
            "gridcolor": "white",
            "linecolor": "white",
            "ticks": ""
           },
           "baxis": {
            "gridcolor": "white",
            "linecolor": "white",
            "ticks": ""
           },
           "bgcolor": "#E5ECF6",
           "caxis": {
            "gridcolor": "white",
            "linecolor": "white",
            "ticks": ""
           }
          },
          "title": {
           "x": 0.05
          },
          "xaxis": {
           "automargin": true,
           "gridcolor": "white",
           "linecolor": "white",
           "ticks": "",
           "title": {
            "standoff": 15
           },
           "zerolinecolor": "white",
           "zerolinewidth": 2
          },
          "yaxis": {
           "automargin": true,
           "gridcolor": "white",
           "linecolor": "white",
           "ticks": "",
           "title": {
            "standoff": 15
           },
           "zerolinecolor": "white",
           "zerolinewidth": 2
          }
         }
        },
        "title": {
         "text": "GHG emission trajectories"
        },
        "xaxis": {
         "anchor": "y",
         "domain": [
          0,
          0.31999999999999995
         ],
         "range": [
          2005,
          2100
         ],
         "title": {
          "text": "year"
         }
        },
        "xaxis2": {
         "anchor": "y2",
         "domain": [
          0.33999999999999997,
          0.6599999999999999
         ],
         "matches": "x",
         "range": [
          2005,
          2100
         ],
         "title": {
          "text": "year"
         }
        },
        "xaxis3": {
         "anchor": "y3",
         "domain": [
          0.6799999999999999,
          0.9999999999999999
         ],
         "matches": "x",
         "range": [
          2005,
          2100
         ],
         "title": {
          "text": "year"
         }
        },
        "xaxis4": {
         "anchor": "y4",
         "domain": [
          0,
          0.31999999999999995
         ],
         "matches": "x",
         "showticklabels": false
        },
        "xaxis5": {
         "anchor": "y5",
         "domain": [
          0.33999999999999997,
          0.6599999999999999
         ],
         "matches": "x",
         "showticklabels": false
        },
        "xaxis6": {
         "anchor": "y6",
         "domain": [
          0.6799999999999999,
          0.9999999999999999
         ],
         "matches": "x",
         "showticklabels": false
        },
        "yaxis": {
         "anchor": "x",
         "domain": [
          0,
          0.46499999999999997
         ],
         "range": [
          -10000,
          20000
         ],
         "title": {
          "text": "Emissions|Kyoto Gases"
         }
        },
        "yaxis2": {
         "anchor": "x2",
         "domain": [
          0,
          0.46499999999999997
         ],
         "matches": "y",
         "showticklabels": false
        },
        "yaxis3": {
         "anchor": "x3",
         "domain": [
          0,
          0.46499999999999997
         ],
         "matches": "y",
         "showticklabels": false
        },
        "yaxis4": {
         "anchor": "x4",
         "domain": [
          0.5349999999999999,
          0.9999999999999999
         ],
         "matches": "y",
         "range": [
          -10000,
          20000
         ],
         "title": {
          "text": "Emissions|Kyoto Gases"
         }
        },
        "yaxis5": {
         "anchor": "x5",
         "domain": [
          0.5349999999999999,
          0.9999999999999999
         ],
         "matches": "y",
         "showticklabels": false
        },
        "yaxis6": {
         "anchor": "x6",
         "domain": [
          0.5349999999999999,
          0.9999999999999999
         ],
         "matches": "y",
         "showticklabels": false
        }
       }
      }
     },
     "metadata": {},
     "output_type": "display_data"
    }
   ],
   "source": [
    "#Figure 2: GHG trajectories\n",
    "fig2 = px.line(df,\n",
    "               x = \"year\",\n",
    "               y=\"Emissions|Kyoto Gases\",\n",
    "               color = \"region\",\n",
    "               line_dash=\"model\",\n",
    "               facet_col=\"scenario_narrative\",\n",
    "               facet_col_wrap= 3,\n",
    "               range_x=[2005, 2100],\n",
    "               range_y = [-10000, 20000],\n",
    "               hover_data = {'scenario':True, 'model':True}, \n",
    "               title = \"GHG emission trajectories\")\n",
    "fig2.update_layout(showlegend=False)\n",
    "fig2"
   ]
  },
  {
   "cell_type": "code",
   "execution_count": 31,
   "metadata": {},
   "outputs": [
    {
     "data": {
      "text/html": [
       "<div>\n",
       "<style scoped>\n",
       "    .dataframe tbody tr th:only-of-type {\n",
       "        vertical-align: middle;\n",
       "    }\n",
       "\n",
       "    .dataframe tbody tr th {\n",
       "        vertical-align: top;\n",
       "    }\n",
       "\n",
       "    .dataframe thead th {\n",
       "        text-align: right;\n",
       "    }\n",
       "</style>\n",
       "<table border=\"1\" class=\"dataframe\">\n",
       "  <thead>\n",
       "    <tr style=\"text-align: right;\">\n",
       "      <th></th>\n",
       "      <th>model</th>\n",
       "      <th>scenario</th>\n",
       "      <th>carbon_budget</th>\n",
       "      <th>year_netzero</th>\n",
       "    </tr>\n",
       "  </thead>\n",
       "  <tbody>\n",
       "    <tr>\n",
       "      <th>0</th>\n",
       "      <td>AIM/CGE V2.2</td>\n",
       "      <td>T34_1000_feas_em</td>\n",
       "      <td>2C</td>\n",
       "      <td>2060</td>\n",
       "    </tr>\n",
       "    <tr>\n",
       "      <th>1</th>\n",
       "      <td>AIM/CGE V2.2</td>\n",
       "      <td>T34_1000_feas_pr</td>\n",
       "      <td>2C</td>\n",
       "      <td>2055</td>\n",
       "    </tr>\n",
       "    <tr>\n",
       "      <th>2</th>\n",
       "      <td>AIM/CGE V2.2</td>\n",
       "      <td>T34_1000_feas_ref</td>\n",
       "      <td>2C</td>\n",
       "      <td>2070</td>\n",
       "    </tr>\n",
       "    <tr>\n",
       "      <th>3</th>\n",
       "      <td>GEM-E3_V2023</td>\n",
       "      <td>T34_1000_feas_em</td>\n",
       "      <td>2C</td>\n",
       "      <td>2090</td>\n",
       "    </tr>\n",
       "    <tr>\n",
       "      <th>4</th>\n",
       "      <td>IMAGE 3.2</td>\n",
       "      <td>T34_1000_feas_em</td>\n",
       "      <td>2C</td>\n",
       "      <td>2070</td>\n",
       "    </tr>\n",
       "    <tr>\n",
       "      <th>5</th>\n",
       "      <td>IMAGE 3.2</td>\n",
       "      <td>T34_1000_feas_pr</td>\n",
       "      <td>2C</td>\n",
       "      <td>2070</td>\n",
       "    </tr>\n",
       "    <tr>\n",
       "      <th>6</th>\n",
       "      <td>IMAGE 3.2</td>\n",
       "      <td>T34_1000_feas_ref</td>\n",
       "      <td>2C</td>\n",
       "      <td>2070</td>\n",
       "    </tr>\n",
       "    <tr>\n",
       "      <th>7</th>\n",
       "      <td>MESSAGEix-GLOBIOM_1.1</td>\n",
       "      <td>T34_1000_feas_em</td>\n",
       "      <td>2C</td>\n",
       "      <td>2080</td>\n",
       "    </tr>\n",
       "    <tr>\n",
       "      <th>8</th>\n",
       "      <td>MESSAGEix-GLOBIOM_1.1</td>\n",
       "      <td>T34_1000_feas_pr</td>\n",
       "      <td>2C</td>\n",
       "      <td>2070</td>\n",
       "    </tr>\n",
       "    <tr>\n",
       "      <th>9</th>\n",
       "      <td>MESSAGEix-GLOBIOM_1.1</td>\n",
       "      <td>T34_1000_feas_ref</td>\n",
       "      <td>2C</td>\n",
       "      <td>2100</td>\n",
       "    </tr>\n",
       "    <tr>\n",
       "      <th>10</th>\n",
       "      <td>POLES ENGAGE</td>\n",
       "      <td>T34_1000_feas_em</td>\n",
       "      <td>2C</td>\n",
       "      <td>2080</td>\n",
       "    </tr>\n",
       "    <tr>\n",
       "      <th>11</th>\n",
       "      <td>POLES ENGAGE</td>\n",
       "      <td>T34_1000_feas_pr</td>\n",
       "      <td>2C</td>\n",
       "      <td>2080</td>\n",
       "    </tr>\n",
       "    <tr>\n",
       "      <th>12</th>\n",
       "      <td>REMIND 3.0</td>\n",
       "      <td>T34_550_feas_em</td>\n",
       "      <td>1.5C</td>\n",
       "      <td>2070</td>\n",
       "    </tr>\n",
       "    <tr>\n",
       "      <th>13</th>\n",
       "      <td>REMIND 3.0</td>\n",
       "      <td>T34_550_feas_ref</td>\n",
       "      <td>1.5C</td>\n",
       "      <td>2050</td>\n",
       "    </tr>\n",
       "    <tr>\n",
       "      <th>14</th>\n",
       "      <td>WITCH 5.0</td>\n",
       "      <td>T34_1000_feas_ref</td>\n",
       "      <td>2C</td>\n",
       "      <td>2100</td>\n",
       "    </tr>\n",
       "  </tbody>\n",
       "</table>\n",
       "</div>"
      ],
      "text/plain": [
       "                    model           scenario carbon_budget  year_netzero\n",
       "0            AIM/CGE V2.2   T34_1000_feas_em            2C          2060\n",
       "1            AIM/CGE V2.2   T34_1000_feas_pr            2C          2055\n",
       "2            AIM/CGE V2.2  T34_1000_feas_ref            2C          2070\n",
       "3            GEM-E3_V2023   T34_1000_feas_em            2C          2090\n",
       "4               IMAGE 3.2   T34_1000_feas_em            2C          2070\n",
       "5               IMAGE 3.2   T34_1000_feas_pr            2C          2070\n",
       "6               IMAGE 3.2  T34_1000_feas_ref            2C          2070\n",
       "7   MESSAGEix-GLOBIOM_1.1   T34_1000_feas_em            2C          2080\n",
       "8   MESSAGEix-GLOBIOM_1.1   T34_1000_feas_pr            2C          2070\n",
       "9   MESSAGEix-GLOBIOM_1.1  T34_1000_feas_ref            2C          2100\n",
       "10           POLES ENGAGE   T34_1000_feas_em            2C          2080\n",
       "11           POLES ENGAGE   T34_1000_feas_pr            2C          2080\n",
       "12             REMIND 3.0    T34_550_feas_em          1.5C          2070\n",
       "13             REMIND 3.0   T34_550_feas_ref          1.5C          2050\n",
       "14              WITCH 5.0  T34_1000_feas_ref            2C          2100"
      ]
     },
     "execution_count": 31,
     "metadata": {},
     "output_type": "execute_result"
    }
   ],
   "source": [
    "#calculate year that each scenario hit's net zero\n",
    "netzero_df = df[df[\"Emissions|CO2\"] <= 0].groupby([\"model\", \"scenario\", \"carbon_budget\"])['year'].min().reset_index()\n",
    "netzero_df.rename(columns={\"year\": \"year_netzero\"}, inplace=True)\n",
    "netzero_df\n",
    "#aggregated cost until 2100\n",
    "#df[\"year\"] = pd.to_numeric(df['year'])\n",
    "#df[df[\"year\"] <= 2100].groupby([\"model\", \"scenario\"]).agg({\"AR5 climate diagnostics|Temperature|Exceedance Probability|1.5 degC|MAGICC6\": ['sum']})"
   ]
  },
  {
   "cell_type": "code",
   "execution_count": 10,
   "metadata": {},
   "outputs": [
    {
     "data": {
      "application/vnd.plotly.v1+json": {
       "config": {
        "plotlyServerURL": "https://plot.ly"
       },
       "data": [
        {
         "hovertemplate": "year=%{x}<br>carbon_budget=%{y}<extra></extra>",
         "legendgroup": "",
         "marker": {
          "color": "#636efa",
          "symbol": "circle"
         },
         "mode": "markers",
         "name": "",
         "orientation": "h",
         "showlegend": false,
         "type": "scatter",
         "x": [
          2060,
          2055,
          2070,
          2090,
          2070,
          2070,
          2070,
          2080,
          2070,
          2100,
          2080,
          2080,
          2070,
          2050,
          2100
         ],
         "xaxis": "x",
         "y": [
          "2C",
          "2C",
          "2C",
          "2C",
          "2C",
          "2C",
          "2C",
          "2C",
          "2C",
          "2C",
          "2C",
          "2C",
          "1.5C",
          "1.5C",
          "2C"
         ],
         "yaxis": "y"
        }
       ],
       "layout": {
        "legend": {
         "tracegroupgap": 0
        },
        "margin": {
         "t": 60
        },
        "template": {
         "data": {
          "bar": [
           {
            "error_x": {
             "color": "#2a3f5f"
            },
            "error_y": {
             "color": "#2a3f5f"
            },
            "marker": {
             "line": {
              "color": "#E5ECF6",
              "width": 0.5
             },
             "pattern": {
              "fillmode": "overlay",
              "size": 10,
              "solidity": 0.2
             }
            },
            "type": "bar"
           }
          ],
          "barpolar": [
           {
            "marker": {
             "line": {
              "color": "#E5ECF6",
              "width": 0.5
             },
             "pattern": {
              "fillmode": "overlay",
              "size": 10,
              "solidity": 0.2
             }
            },
            "type": "barpolar"
           }
          ],
          "carpet": [
           {
            "aaxis": {
             "endlinecolor": "#2a3f5f",
             "gridcolor": "white",
             "linecolor": "white",
             "minorgridcolor": "white",
             "startlinecolor": "#2a3f5f"
            },
            "baxis": {
             "endlinecolor": "#2a3f5f",
             "gridcolor": "white",
             "linecolor": "white",
             "minorgridcolor": "white",
             "startlinecolor": "#2a3f5f"
            },
            "type": "carpet"
           }
          ],
          "choropleth": [
           {
            "colorbar": {
             "outlinewidth": 0,
             "ticks": ""
            },
            "type": "choropleth"
           }
          ],
          "contour": [
           {
            "colorbar": {
             "outlinewidth": 0,
             "ticks": ""
            },
            "colorscale": [
             [
              0,
              "#0d0887"
             ],
             [
              0.1111111111111111,
              "#46039f"
             ],
             [
              0.2222222222222222,
              "#7201a8"
             ],
             [
              0.3333333333333333,
              "#9c179e"
             ],
             [
              0.4444444444444444,
              "#bd3786"
             ],
             [
              0.5555555555555556,
              "#d8576b"
             ],
             [
              0.6666666666666666,
              "#ed7953"
             ],
             [
              0.7777777777777778,
              "#fb9f3a"
             ],
             [
              0.8888888888888888,
              "#fdca26"
             ],
             [
              1,
              "#f0f921"
             ]
            ],
            "type": "contour"
           }
          ],
          "contourcarpet": [
           {
            "colorbar": {
             "outlinewidth": 0,
             "ticks": ""
            },
            "type": "contourcarpet"
           }
          ],
          "heatmap": [
           {
            "colorbar": {
             "outlinewidth": 0,
             "ticks": ""
            },
            "colorscale": [
             [
              0,
              "#0d0887"
             ],
             [
              0.1111111111111111,
              "#46039f"
             ],
             [
              0.2222222222222222,
              "#7201a8"
             ],
             [
              0.3333333333333333,
              "#9c179e"
             ],
             [
              0.4444444444444444,
              "#bd3786"
             ],
             [
              0.5555555555555556,
              "#d8576b"
             ],
             [
              0.6666666666666666,
              "#ed7953"
             ],
             [
              0.7777777777777778,
              "#fb9f3a"
             ],
             [
              0.8888888888888888,
              "#fdca26"
             ],
             [
              1,
              "#f0f921"
             ]
            ],
            "type": "heatmap"
           }
          ],
          "heatmapgl": [
           {
            "colorbar": {
             "outlinewidth": 0,
             "ticks": ""
            },
            "colorscale": [
             [
              0,
              "#0d0887"
             ],
             [
              0.1111111111111111,
              "#46039f"
             ],
             [
              0.2222222222222222,
              "#7201a8"
             ],
             [
              0.3333333333333333,
              "#9c179e"
             ],
             [
              0.4444444444444444,
              "#bd3786"
             ],
             [
              0.5555555555555556,
              "#d8576b"
             ],
             [
              0.6666666666666666,
              "#ed7953"
             ],
             [
              0.7777777777777778,
              "#fb9f3a"
             ],
             [
              0.8888888888888888,
              "#fdca26"
             ],
             [
              1,
              "#f0f921"
             ]
            ],
            "type": "heatmapgl"
           }
          ],
          "histogram": [
           {
            "marker": {
             "pattern": {
              "fillmode": "overlay",
              "size": 10,
              "solidity": 0.2
             }
            },
            "type": "histogram"
           }
          ],
          "histogram2d": [
           {
            "colorbar": {
             "outlinewidth": 0,
             "ticks": ""
            },
            "colorscale": [
             [
              0,
              "#0d0887"
             ],
             [
              0.1111111111111111,
              "#46039f"
             ],
             [
              0.2222222222222222,
              "#7201a8"
             ],
             [
              0.3333333333333333,
              "#9c179e"
             ],
             [
              0.4444444444444444,
              "#bd3786"
             ],
             [
              0.5555555555555556,
              "#d8576b"
             ],
             [
              0.6666666666666666,
              "#ed7953"
             ],
             [
              0.7777777777777778,
              "#fb9f3a"
             ],
             [
              0.8888888888888888,
              "#fdca26"
             ],
             [
              1,
              "#f0f921"
             ]
            ],
            "type": "histogram2d"
           }
          ],
          "histogram2dcontour": [
           {
            "colorbar": {
             "outlinewidth": 0,
             "ticks": ""
            },
            "colorscale": [
             [
              0,
              "#0d0887"
             ],
             [
              0.1111111111111111,
              "#46039f"
             ],
             [
              0.2222222222222222,
              "#7201a8"
             ],
             [
              0.3333333333333333,
              "#9c179e"
             ],
             [
              0.4444444444444444,
              "#bd3786"
             ],
             [
              0.5555555555555556,
              "#d8576b"
             ],
             [
              0.6666666666666666,
              "#ed7953"
             ],
             [
              0.7777777777777778,
              "#fb9f3a"
             ],
             [
              0.8888888888888888,
              "#fdca26"
             ],
             [
              1,
              "#f0f921"
             ]
            ],
            "type": "histogram2dcontour"
           }
          ],
          "mesh3d": [
           {
            "colorbar": {
             "outlinewidth": 0,
             "ticks": ""
            },
            "type": "mesh3d"
           }
          ],
          "parcoords": [
           {
            "line": {
             "colorbar": {
              "outlinewidth": 0,
              "ticks": ""
             }
            },
            "type": "parcoords"
           }
          ],
          "pie": [
           {
            "automargin": true,
            "type": "pie"
           }
          ],
          "scatter": [
           {
            "fillpattern": {
             "fillmode": "overlay",
             "size": 10,
             "solidity": 0.2
            },
            "type": "scatter"
           }
          ],
          "scatter3d": [
           {
            "line": {
             "colorbar": {
              "outlinewidth": 0,
              "ticks": ""
             }
            },
            "marker": {
             "colorbar": {
              "outlinewidth": 0,
              "ticks": ""
             }
            },
            "type": "scatter3d"
           }
          ],
          "scattercarpet": [
           {
            "marker": {
             "colorbar": {
              "outlinewidth": 0,
              "ticks": ""
             }
            },
            "type": "scattercarpet"
           }
          ],
          "scattergeo": [
           {
            "marker": {
             "colorbar": {
              "outlinewidth": 0,
              "ticks": ""
             }
            },
            "type": "scattergeo"
           }
          ],
          "scattergl": [
           {
            "marker": {
             "colorbar": {
              "outlinewidth": 0,
              "ticks": ""
             }
            },
            "type": "scattergl"
           }
          ],
          "scattermapbox": [
           {
            "marker": {
             "colorbar": {
              "outlinewidth": 0,
              "ticks": ""
             }
            },
            "type": "scattermapbox"
           }
          ],
          "scatterpolar": [
           {
            "marker": {
             "colorbar": {
              "outlinewidth": 0,
              "ticks": ""
             }
            },
            "type": "scatterpolar"
           }
          ],
          "scatterpolargl": [
           {
            "marker": {
             "colorbar": {
              "outlinewidth": 0,
              "ticks": ""
             }
            },
            "type": "scatterpolargl"
           }
          ],
          "scatterternary": [
           {
            "marker": {
             "colorbar": {
              "outlinewidth": 0,
              "ticks": ""
             }
            },
            "type": "scatterternary"
           }
          ],
          "surface": [
           {
            "colorbar": {
             "outlinewidth": 0,
             "ticks": ""
            },
            "colorscale": [
             [
              0,
              "#0d0887"
             ],
             [
              0.1111111111111111,
              "#46039f"
             ],
             [
              0.2222222222222222,
              "#7201a8"
             ],
             [
              0.3333333333333333,
              "#9c179e"
             ],
             [
              0.4444444444444444,
              "#bd3786"
             ],
             [
              0.5555555555555556,
              "#d8576b"
             ],
             [
              0.6666666666666666,
              "#ed7953"
             ],
             [
              0.7777777777777778,
              "#fb9f3a"
             ],
             [
              0.8888888888888888,
              "#fdca26"
             ],
             [
              1,
              "#f0f921"
             ]
            ],
            "type": "surface"
           }
          ],
          "table": [
           {
            "cells": {
             "fill": {
              "color": "#EBF0F8"
             },
             "line": {
              "color": "white"
             }
            },
            "header": {
             "fill": {
              "color": "#C8D4E3"
             },
             "line": {
              "color": "white"
             }
            },
            "type": "table"
           }
          ]
         },
         "layout": {
          "annotationdefaults": {
           "arrowcolor": "#2a3f5f",
           "arrowhead": 0,
           "arrowwidth": 1
          },
          "autotypenumbers": "strict",
          "coloraxis": {
           "colorbar": {
            "outlinewidth": 0,
            "ticks": ""
           }
          },
          "colorscale": {
           "diverging": [
            [
             0,
             "#8e0152"
            ],
            [
             0.1,
             "#c51b7d"
            ],
            [
             0.2,
             "#de77ae"
            ],
            [
             0.3,
             "#f1b6da"
            ],
            [
             0.4,
             "#fde0ef"
            ],
            [
             0.5,
             "#f7f7f7"
            ],
            [
             0.6,
             "#e6f5d0"
            ],
            [
             0.7,
             "#b8e186"
            ],
            [
             0.8,
             "#7fbc41"
            ],
            [
             0.9,
             "#4d9221"
            ],
            [
             1,
             "#276419"
            ]
           ],
           "sequential": [
            [
             0,
             "#0d0887"
            ],
            [
             0.1111111111111111,
             "#46039f"
            ],
            [
             0.2222222222222222,
             "#7201a8"
            ],
            [
             0.3333333333333333,
             "#9c179e"
            ],
            [
             0.4444444444444444,
             "#bd3786"
            ],
            [
             0.5555555555555556,
             "#d8576b"
            ],
            [
             0.6666666666666666,
             "#ed7953"
            ],
            [
             0.7777777777777778,
             "#fb9f3a"
            ],
            [
             0.8888888888888888,
             "#fdca26"
            ],
            [
             1,
             "#f0f921"
            ]
           ],
           "sequentialminus": [
            [
             0,
             "#0d0887"
            ],
            [
             0.1111111111111111,
             "#46039f"
            ],
            [
             0.2222222222222222,
             "#7201a8"
            ],
            [
             0.3333333333333333,
             "#9c179e"
            ],
            [
             0.4444444444444444,
             "#bd3786"
            ],
            [
             0.5555555555555556,
             "#d8576b"
            ],
            [
             0.6666666666666666,
             "#ed7953"
            ],
            [
             0.7777777777777778,
             "#fb9f3a"
            ],
            [
             0.8888888888888888,
             "#fdca26"
            ],
            [
             1,
             "#f0f921"
            ]
           ]
          },
          "colorway": [
           "#636efa",
           "#EF553B",
           "#00cc96",
           "#ab63fa",
           "#FFA15A",
           "#19d3f3",
           "#FF6692",
           "#B6E880",
           "#FF97FF",
           "#FECB52"
          ],
          "font": {
           "color": "#2a3f5f"
          },
          "geo": {
           "bgcolor": "white",
           "lakecolor": "white",
           "landcolor": "#E5ECF6",
           "showlakes": true,
           "showland": true,
           "subunitcolor": "white"
          },
          "hoverlabel": {
           "align": "left"
          },
          "hovermode": "closest",
          "mapbox": {
           "style": "light"
          },
          "paper_bgcolor": "white",
          "plot_bgcolor": "#E5ECF6",
          "polar": {
           "angularaxis": {
            "gridcolor": "white",
            "linecolor": "white",
            "ticks": ""
           },
           "bgcolor": "#E5ECF6",
           "radialaxis": {
            "gridcolor": "white",
            "linecolor": "white",
            "ticks": ""
           }
          },
          "scene": {
           "xaxis": {
            "backgroundcolor": "#E5ECF6",
            "gridcolor": "white",
            "gridwidth": 2,
            "linecolor": "white",
            "showbackground": true,
            "ticks": "",
            "zerolinecolor": "white"
           },
           "yaxis": {
            "backgroundcolor": "#E5ECF6",
            "gridcolor": "white",
            "gridwidth": 2,
            "linecolor": "white",
            "showbackground": true,
            "ticks": "",
            "zerolinecolor": "white"
           },
           "zaxis": {
            "backgroundcolor": "#E5ECF6",
            "gridcolor": "white",
            "gridwidth": 2,
            "linecolor": "white",
            "showbackground": true,
            "ticks": "",
            "zerolinecolor": "white"
           }
          },
          "shapedefaults": {
           "line": {
            "color": "#2a3f5f"
           }
          },
          "ternary": {
           "aaxis": {
            "gridcolor": "white",
            "linecolor": "white",
            "ticks": ""
           },
           "baxis": {
            "gridcolor": "white",
            "linecolor": "white",
            "ticks": ""
           },
           "bgcolor": "#E5ECF6",
           "caxis": {
            "gridcolor": "white",
            "linecolor": "white",
            "ticks": ""
           }
          },
          "title": {
           "x": 0.05
          },
          "xaxis": {
           "automargin": true,
           "gridcolor": "white",
           "linecolor": "white",
           "ticks": "",
           "title": {
            "standoff": 15
           },
           "zerolinecolor": "white",
           "zerolinewidth": 2
          },
          "yaxis": {
           "automargin": true,
           "gridcolor": "white",
           "linecolor": "white",
           "ticks": "",
           "title": {
            "standoff": 15
           },
           "zerolinecolor": "white",
           "zerolinewidth": 2
          }
         }
        },
        "xaxis": {
         "anchor": "y",
         "domain": [
          0,
          1
         ],
         "title": {
          "text": "year"
         }
        },
        "yaxis": {
         "anchor": "x",
         "domain": [
          0,
          1
         ],
         "title": {
          "text": "carbon_budget"
         }
        }
       }
      }
     },
     "metadata": {},
     "output_type": "display_data"
    }
   ],
   "source": [
    "fig2 = px.scatter(\n",
    "    data_frame=netzero_df,\n",
    "    x = \"year\",\n",
    "    y=\"carbon_budget\"\n",
    ")\n",
    "fig2"
   ]
  },
  {
   "cell_type": "code",
   "execution_count": 32,
   "metadata": {},
   "outputs": [
    {
     "name": "stderr",
     "output_type": "stream",
     "text": [
      "C:\\Users\\schei\\AppData\\Local\\Temp\\ipykernel_10492\\1471908738.py:4: SettingWithCopyWarning:\n",
      "\n",
      "\n",
      "A value is trying to be set on a copy of a slice from a DataFrame.\n",
      "Try using .loc[row_indexer,col_indexer] = value instead\n",
      "\n",
      "See the caveats in the documentation: https://pandas.pydata.org/pandas-docs/stable/user_guide/indexing.html#returning-a-view-versus-a-copy\n",
      "\n"
     ]
    },
    {
     "data": {
      "text/html": [
       "<div>\n",
       "<style scoped>\n",
       "    .dataframe tbody tr th:only-of-type {\n",
       "        vertical-align: middle;\n",
       "    }\n",
       "\n",
       "    .dataframe tbody tr th {\n",
       "        vertical-align: top;\n",
       "    }\n",
       "\n",
       "    .dataframe thead th {\n",
       "        text-align: right;\n",
       "    }\n",
       "</style>\n",
       "<table border=\"1\" class=\"dataframe\">\n",
       "  <thead>\n",
       "    <tr style=\"text-align: right;\">\n",
       "      <th></th>\n",
       "      <th>model</th>\n",
       "      <th>scenario</th>\n",
       "      <th>carbon_budget</th>\n",
       "      <th>year_netcoal</th>\n",
       "    </tr>\n",
       "  </thead>\n",
       "  <tbody>\n",
       "    <tr>\n",
       "      <th>0</th>\n",
       "      <td>AIM/CGE V2.2</td>\n",
       "      <td>T34_1000_feas_em</td>\n",
       "      <td>2C</td>\n",
       "      <td>2055</td>\n",
       "    </tr>\n",
       "    <tr>\n",
       "      <th>1</th>\n",
       "      <td>AIM/CGE V2.2</td>\n",
       "      <td>T34_1000_feas_pr</td>\n",
       "      <td>2C</td>\n",
       "      <td>2055</td>\n",
       "    </tr>\n",
       "    <tr>\n",
       "      <th>2</th>\n",
       "      <td>AIM/CGE V2.2</td>\n",
       "      <td>T34_1000_feas_ref</td>\n",
       "      <td>2C</td>\n",
       "      <td>2050</td>\n",
       "    </tr>\n",
       "    <tr>\n",
       "      <th>3</th>\n",
       "      <td>GEM-E3_V2023</td>\n",
       "      <td>T34_1000_feas_em</td>\n",
       "      <td>2C</td>\n",
       "      <td>2065</td>\n",
       "    </tr>\n",
       "    <tr>\n",
       "      <th>4</th>\n",
       "      <td>GEM-E3_V2023</td>\n",
       "      <td>T34_1000_feas_ref</td>\n",
       "      <td>2C</td>\n",
       "      <td>2080</td>\n",
       "    </tr>\n",
       "    <tr>\n",
       "      <th>5</th>\n",
       "      <td>IMAGE 3.2</td>\n",
       "      <td>T34_1000_feas_em</td>\n",
       "      <td>2C</td>\n",
       "      <td>2060</td>\n",
       "    </tr>\n",
       "    <tr>\n",
       "      <th>6</th>\n",
       "      <td>IMAGE 3.2</td>\n",
       "      <td>T34_1000_feas_pr</td>\n",
       "      <td>2C</td>\n",
       "      <td>2060</td>\n",
       "    </tr>\n",
       "    <tr>\n",
       "      <th>7</th>\n",
       "      <td>IMAGE 3.2</td>\n",
       "      <td>T34_1000_feas_ref</td>\n",
       "      <td>2C</td>\n",
       "      <td>2060</td>\n",
       "    </tr>\n",
       "    <tr>\n",
       "      <th>8</th>\n",
       "      <td>MESSAGEix-GLOBIOM_1.1</td>\n",
       "      <td>T34_1000_feas_em</td>\n",
       "      <td>2C</td>\n",
       "      <td>2060</td>\n",
       "    </tr>\n",
       "    <tr>\n",
       "      <th>9</th>\n",
       "      <td>MESSAGEix-GLOBIOM_1.1</td>\n",
       "      <td>T34_1000_feas_pr</td>\n",
       "      <td>2C</td>\n",
       "      <td>2060</td>\n",
       "    </tr>\n",
       "    <tr>\n",
       "      <th>10</th>\n",
       "      <td>MESSAGEix-GLOBIOM_1.1</td>\n",
       "      <td>T34_1000_feas_ref</td>\n",
       "      <td>2C</td>\n",
       "      <td>2055</td>\n",
       "    </tr>\n",
       "    <tr>\n",
       "      <th>11</th>\n",
       "      <td>POLES ENGAGE</td>\n",
       "      <td>T34_1000_feas_pr</td>\n",
       "      <td>2C</td>\n",
       "      <td>2100</td>\n",
       "    </tr>\n",
       "    <tr>\n",
       "      <th>12</th>\n",
       "      <td>POLES ENGAGE</td>\n",
       "      <td>T34_1000_feas_ref</td>\n",
       "      <td>2C</td>\n",
       "      <td>2100</td>\n",
       "    </tr>\n",
       "    <tr>\n",
       "      <th>13</th>\n",
       "      <td>REMIND 3.0</td>\n",
       "      <td>T34_1000_feas_em</td>\n",
       "      <td>2C</td>\n",
       "      <td>2055</td>\n",
       "    </tr>\n",
       "    <tr>\n",
       "      <th>14</th>\n",
       "      <td>REMIND 3.0</td>\n",
       "      <td>T34_1000_feas_pr</td>\n",
       "      <td>2C</td>\n",
       "      <td>2050</td>\n",
       "    </tr>\n",
       "    <tr>\n",
       "      <th>15</th>\n",
       "      <td>REMIND 3.0</td>\n",
       "      <td>T34_1000_feas_ref</td>\n",
       "      <td>2C</td>\n",
       "      <td>2050</td>\n",
       "    </tr>\n",
       "    <tr>\n",
       "      <th>16</th>\n",
       "      <td>REMIND 3.0</td>\n",
       "      <td>T34_550_feas_em</td>\n",
       "      <td>1.5C</td>\n",
       "      <td>2050</td>\n",
       "    </tr>\n",
       "    <tr>\n",
       "      <th>17</th>\n",
       "      <td>REMIND 3.0</td>\n",
       "      <td>T34_550_feas_pr</td>\n",
       "      <td>1.5C</td>\n",
       "      <td>2045</td>\n",
       "    </tr>\n",
       "    <tr>\n",
       "      <th>18</th>\n",
       "      <td>REMIND 3.0</td>\n",
       "      <td>T34_550_feas_ref</td>\n",
       "      <td>1.5C</td>\n",
       "      <td>2035</td>\n",
       "    </tr>\n",
       "  </tbody>\n",
       "</table>\n",
       "</div>"
      ],
      "text/plain": [
       "                    model           scenario carbon_budget  year_netcoal\n",
       "0            AIM/CGE V2.2   T34_1000_feas_em            2C          2055\n",
       "1            AIM/CGE V2.2   T34_1000_feas_pr            2C          2055\n",
       "2            AIM/CGE V2.2  T34_1000_feas_ref            2C          2050\n",
       "3            GEM-E3_V2023   T34_1000_feas_em            2C          2065\n",
       "4            GEM-E3_V2023  T34_1000_feas_ref            2C          2080\n",
       "5               IMAGE 3.2   T34_1000_feas_em            2C          2060\n",
       "6               IMAGE 3.2   T34_1000_feas_pr            2C          2060\n",
       "7               IMAGE 3.2  T34_1000_feas_ref            2C          2060\n",
       "8   MESSAGEix-GLOBIOM_1.1   T34_1000_feas_em            2C          2060\n",
       "9   MESSAGEix-GLOBIOM_1.1   T34_1000_feas_pr            2C          2060\n",
       "10  MESSAGEix-GLOBIOM_1.1  T34_1000_feas_ref            2C          2055\n",
       "11           POLES ENGAGE   T34_1000_feas_pr            2C          2100\n",
       "12           POLES ENGAGE  T34_1000_feas_ref            2C          2100\n",
       "13             REMIND 3.0   T34_1000_feas_em            2C          2055\n",
       "14             REMIND 3.0   T34_1000_feas_pr            2C          2050\n",
       "15             REMIND 3.0  T34_1000_feas_ref            2C          2050\n",
       "16             REMIND 3.0    T34_550_feas_em          1.5C          2050\n",
       "17             REMIND 3.0    T34_550_feas_pr          1.5C          2045\n",
       "18             REMIND 3.0   T34_550_feas_ref          1.5C          2035"
      ]
     },
     "execution_count": 32,
     "metadata": {},
     "output_type": "execute_result"
    }
   ],
   "source": [
    "#get amounts of unabated coal\n",
    "#both Coal data are in EJ/yr\n",
    "unabcoal_df = df[[\"model\", \"scenario\", \"carbon_budget\", \"region\",\"year\", \"Primary Energy|Coal\", \"Primary Energy|Coal|w/ CCS\"]] \n",
    "unabcoal_df[\"Unabated Coal\"] = unabcoal_df[\"Primary Energy|Coal\"] - unabcoal_df[\"Primary Energy|Coal|w/ CCS\"]\n",
    "#pick threshold for when coal is supposed to the phased out // now it's 8EJ/y\n",
    "unabcoal_df = unabcoal_df[unabcoal_df[\"Unabated Coal\"] <= 8].groupby([\"model\", \"scenario\", \"carbon_budget\"])['year'].min().reset_index()\n",
    "unabcoal_df.rename(columns={\"year\": \"year_netcoal\"}, inplace=True)\n",
    "#combine with netzero df\n",
    "\n",
    "unabcoal_df"
   ]
  },
  {
   "cell_type": "code",
   "execution_count": 88,
   "metadata": {},
   "outputs": [
    {
     "data": {
      "application/vnd.plotly.v1+json": {
       "config": {
        "plotlyServerURL": "https://plot.ly"
       },
       "data": [
        {
         "hovertemplate": "carbon_budget=2C<br>year_netzero=%{x}<br>year_netcoal=%{y}<extra></extra>",
         "legendgroup": "2C",
         "marker": {
          "color": "#636efa",
          "symbol": "circle"
         },
         "mode": "markers",
         "name": "2C",
         "orientation": "v",
         "showlegend": true,
         "type": "scatter",
         "x": [
          2060,
          2055,
          2070,
          2090,
          2070,
          2070,
          2070,
          2080,
          2070,
          2100,
          2080
         ],
         "xaxis": "x",
         "y": [
          2055,
          2055,
          2050,
          2065,
          2060,
          2060,
          2060,
          2060,
          2060,
          2055,
          2100
         ],
         "yaxis": "y"
        },
        {
         "hovertemplate": "carbon_budget=1.5C<br>year_netzero=%{x}<br>year_netcoal=%{y}<extra></extra>",
         "legendgroup": "1.5C",
         "marker": {
          "color": "#EF553B",
          "symbol": "circle"
         },
         "mode": "markers",
         "name": "1.5C",
         "orientation": "v",
         "showlegend": true,
         "type": "scatter",
         "x": [
          2070,
          2050
         ],
         "xaxis": "x",
         "y": [
          2050,
          2035
         ],
         "yaxis": "y"
        }
       ],
       "layout": {
        "legend": {
         "title": {
          "text": "carbon_budget"
         },
         "tracegroupgap": 0
        },
        "margin": {
         "t": 60
        },
        "template": {
         "data": {
          "bar": [
           {
            "error_x": {
             "color": "#2a3f5f"
            },
            "error_y": {
             "color": "#2a3f5f"
            },
            "marker": {
             "line": {
              "color": "#E5ECF6",
              "width": 0.5
             },
             "pattern": {
              "fillmode": "overlay",
              "size": 10,
              "solidity": 0.2
             }
            },
            "type": "bar"
           }
          ],
          "barpolar": [
           {
            "marker": {
             "line": {
              "color": "#E5ECF6",
              "width": 0.5
             },
             "pattern": {
              "fillmode": "overlay",
              "size": 10,
              "solidity": 0.2
             }
            },
            "type": "barpolar"
           }
          ],
          "carpet": [
           {
            "aaxis": {
             "endlinecolor": "#2a3f5f",
             "gridcolor": "white",
             "linecolor": "white",
             "minorgridcolor": "white",
             "startlinecolor": "#2a3f5f"
            },
            "baxis": {
             "endlinecolor": "#2a3f5f",
             "gridcolor": "white",
             "linecolor": "white",
             "minorgridcolor": "white",
             "startlinecolor": "#2a3f5f"
            },
            "type": "carpet"
           }
          ],
          "choropleth": [
           {
            "colorbar": {
             "outlinewidth": 0,
             "ticks": ""
            },
            "type": "choropleth"
           }
          ],
          "contour": [
           {
            "colorbar": {
             "outlinewidth": 0,
             "ticks": ""
            },
            "colorscale": [
             [
              0,
              "#0d0887"
             ],
             [
              0.1111111111111111,
              "#46039f"
             ],
             [
              0.2222222222222222,
              "#7201a8"
             ],
             [
              0.3333333333333333,
              "#9c179e"
             ],
             [
              0.4444444444444444,
              "#bd3786"
             ],
             [
              0.5555555555555556,
              "#d8576b"
             ],
             [
              0.6666666666666666,
              "#ed7953"
             ],
             [
              0.7777777777777778,
              "#fb9f3a"
             ],
             [
              0.8888888888888888,
              "#fdca26"
             ],
             [
              1,
              "#f0f921"
             ]
            ],
            "type": "contour"
           }
          ],
          "contourcarpet": [
           {
            "colorbar": {
             "outlinewidth": 0,
             "ticks": ""
            },
            "type": "contourcarpet"
           }
          ],
          "heatmap": [
           {
            "colorbar": {
             "outlinewidth": 0,
             "ticks": ""
            },
            "colorscale": [
             [
              0,
              "#0d0887"
             ],
             [
              0.1111111111111111,
              "#46039f"
             ],
             [
              0.2222222222222222,
              "#7201a8"
             ],
             [
              0.3333333333333333,
              "#9c179e"
             ],
             [
              0.4444444444444444,
              "#bd3786"
             ],
             [
              0.5555555555555556,
              "#d8576b"
             ],
             [
              0.6666666666666666,
              "#ed7953"
             ],
             [
              0.7777777777777778,
              "#fb9f3a"
             ],
             [
              0.8888888888888888,
              "#fdca26"
             ],
             [
              1,
              "#f0f921"
             ]
            ],
            "type": "heatmap"
           }
          ],
          "heatmapgl": [
           {
            "colorbar": {
             "outlinewidth": 0,
             "ticks": ""
            },
            "colorscale": [
             [
              0,
              "#0d0887"
             ],
             [
              0.1111111111111111,
              "#46039f"
             ],
             [
              0.2222222222222222,
              "#7201a8"
             ],
             [
              0.3333333333333333,
              "#9c179e"
             ],
             [
              0.4444444444444444,
              "#bd3786"
             ],
             [
              0.5555555555555556,
              "#d8576b"
             ],
             [
              0.6666666666666666,
              "#ed7953"
             ],
             [
              0.7777777777777778,
              "#fb9f3a"
             ],
             [
              0.8888888888888888,
              "#fdca26"
             ],
             [
              1,
              "#f0f921"
             ]
            ],
            "type": "heatmapgl"
           }
          ],
          "histogram": [
           {
            "marker": {
             "pattern": {
              "fillmode": "overlay",
              "size": 10,
              "solidity": 0.2
             }
            },
            "type": "histogram"
           }
          ],
          "histogram2d": [
           {
            "colorbar": {
             "outlinewidth": 0,
             "ticks": ""
            },
            "colorscale": [
             [
              0,
              "#0d0887"
             ],
             [
              0.1111111111111111,
              "#46039f"
             ],
             [
              0.2222222222222222,
              "#7201a8"
             ],
             [
              0.3333333333333333,
              "#9c179e"
             ],
             [
              0.4444444444444444,
              "#bd3786"
             ],
             [
              0.5555555555555556,
              "#d8576b"
             ],
             [
              0.6666666666666666,
              "#ed7953"
             ],
             [
              0.7777777777777778,
              "#fb9f3a"
             ],
             [
              0.8888888888888888,
              "#fdca26"
             ],
             [
              1,
              "#f0f921"
             ]
            ],
            "type": "histogram2d"
           }
          ],
          "histogram2dcontour": [
           {
            "colorbar": {
             "outlinewidth": 0,
             "ticks": ""
            },
            "colorscale": [
             [
              0,
              "#0d0887"
             ],
             [
              0.1111111111111111,
              "#46039f"
             ],
             [
              0.2222222222222222,
              "#7201a8"
             ],
             [
              0.3333333333333333,
              "#9c179e"
             ],
             [
              0.4444444444444444,
              "#bd3786"
             ],
             [
              0.5555555555555556,
              "#d8576b"
             ],
             [
              0.6666666666666666,
              "#ed7953"
             ],
             [
              0.7777777777777778,
              "#fb9f3a"
             ],
             [
              0.8888888888888888,
              "#fdca26"
             ],
             [
              1,
              "#f0f921"
             ]
            ],
            "type": "histogram2dcontour"
           }
          ],
          "mesh3d": [
           {
            "colorbar": {
             "outlinewidth": 0,
             "ticks": ""
            },
            "type": "mesh3d"
           }
          ],
          "parcoords": [
           {
            "line": {
             "colorbar": {
              "outlinewidth": 0,
              "ticks": ""
             }
            },
            "type": "parcoords"
           }
          ],
          "pie": [
           {
            "automargin": true,
            "type": "pie"
           }
          ],
          "scatter": [
           {
            "fillpattern": {
             "fillmode": "overlay",
             "size": 10,
             "solidity": 0.2
            },
            "type": "scatter"
           }
          ],
          "scatter3d": [
           {
            "line": {
             "colorbar": {
              "outlinewidth": 0,
              "ticks": ""
             }
            },
            "marker": {
             "colorbar": {
              "outlinewidth": 0,
              "ticks": ""
             }
            },
            "type": "scatter3d"
           }
          ],
          "scattercarpet": [
           {
            "marker": {
             "colorbar": {
              "outlinewidth": 0,
              "ticks": ""
             }
            },
            "type": "scattercarpet"
           }
          ],
          "scattergeo": [
           {
            "marker": {
             "colorbar": {
              "outlinewidth": 0,
              "ticks": ""
             }
            },
            "type": "scattergeo"
           }
          ],
          "scattergl": [
           {
            "marker": {
             "colorbar": {
              "outlinewidth": 0,
              "ticks": ""
             }
            },
            "type": "scattergl"
           }
          ],
          "scattermapbox": [
           {
            "marker": {
             "colorbar": {
              "outlinewidth": 0,
              "ticks": ""
             }
            },
            "type": "scattermapbox"
           }
          ],
          "scatterpolar": [
           {
            "marker": {
             "colorbar": {
              "outlinewidth": 0,
              "ticks": ""
             }
            },
            "type": "scatterpolar"
           }
          ],
          "scatterpolargl": [
           {
            "marker": {
             "colorbar": {
              "outlinewidth": 0,
              "ticks": ""
             }
            },
            "type": "scatterpolargl"
           }
          ],
          "scatterternary": [
           {
            "marker": {
             "colorbar": {
              "outlinewidth": 0,
              "ticks": ""
             }
            },
            "type": "scatterternary"
           }
          ],
          "surface": [
           {
            "colorbar": {
             "outlinewidth": 0,
             "ticks": ""
            },
            "colorscale": [
             [
              0,
              "#0d0887"
             ],
             [
              0.1111111111111111,
              "#46039f"
             ],
             [
              0.2222222222222222,
              "#7201a8"
             ],
             [
              0.3333333333333333,
              "#9c179e"
             ],
             [
              0.4444444444444444,
              "#bd3786"
             ],
             [
              0.5555555555555556,
              "#d8576b"
             ],
             [
              0.6666666666666666,
              "#ed7953"
             ],
             [
              0.7777777777777778,
              "#fb9f3a"
             ],
             [
              0.8888888888888888,
              "#fdca26"
             ],
             [
              1,
              "#f0f921"
             ]
            ],
            "type": "surface"
           }
          ],
          "table": [
           {
            "cells": {
             "fill": {
              "color": "#EBF0F8"
             },
             "line": {
              "color": "white"
             }
            },
            "header": {
             "fill": {
              "color": "#C8D4E3"
             },
             "line": {
              "color": "white"
             }
            },
            "type": "table"
           }
          ]
         },
         "layout": {
          "annotationdefaults": {
           "arrowcolor": "#2a3f5f",
           "arrowhead": 0,
           "arrowwidth": 1
          },
          "autotypenumbers": "strict",
          "coloraxis": {
           "colorbar": {
            "outlinewidth": 0,
            "ticks": ""
           }
          },
          "colorscale": {
           "diverging": [
            [
             0,
             "#8e0152"
            ],
            [
             0.1,
             "#c51b7d"
            ],
            [
             0.2,
             "#de77ae"
            ],
            [
             0.3,
             "#f1b6da"
            ],
            [
             0.4,
             "#fde0ef"
            ],
            [
             0.5,
             "#f7f7f7"
            ],
            [
             0.6,
             "#e6f5d0"
            ],
            [
             0.7,
             "#b8e186"
            ],
            [
             0.8,
             "#7fbc41"
            ],
            [
             0.9,
             "#4d9221"
            ],
            [
             1,
             "#276419"
            ]
           ],
           "sequential": [
            [
             0,
             "#0d0887"
            ],
            [
             0.1111111111111111,
             "#46039f"
            ],
            [
             0.2222222222222222,
             "#7201a8"
            ],
            [
             0.3333333333333333,
             "#9c179e"
            ],
            [
             0.4444444444444444,
             "#bd3786"
            ],
            [
             0.5555555555555556,
             "#d8576b"
            ],
            [
             0.6666666666666666,
             "#ed7953"
            ],
            [
             0.7777777777777778,
             "#fb9f3a"
            ],
            [
             0.8888888888888888,
             "#fdca26"
            ],
            [
             1,
             "#f0f921"
            ]
           ],
           "sequentialminus": [
            [
             0,
             "#0d0887"
            ],
            [
             0.1111111111111111,
             "#46039f"
            ],
            [
             0.2222222222222222,
             "#7201a8"
            ],
            [
             0.3333333333333333,
             "#9c179e"
            ],
            [
             0.4444444444444444,
             "#bd3786"
            ],
            [
             0.5555555555555556,
             "#d8576b"
            ],
            [
             0.6666666666666666,
             "#ed7953"
            ],
            [
             0.7777777777777778,
             "#fb9f3a"
            ],
            [
             0.8888888888888888,
             "#fdca26"
            ],
            [
             1,
             "#f0f921"
            ]
           ]
          },
          "colorway": [
           "#636efa",
           "#EF553B",
           "#00cc96",
           "#ab63fa",
           "#FFA15A",
           "#19d3f3",
           "#FF6692",
           "#B6E880",
           "#FF97FF",
           "#FECB52"
          ],
          "font": {
           "color": "#2a3f5f"
          },
          "geo": {
           "bgcolor": "white",
           "lakecolor": "white",
           "landcolor": "#E5ECF6",
           "showlakes": true,
           "showland": true,
           "subunitcolor": "white"
          },
          "hoverlabel": {
           "align": "left"
          },
          "hovermode": "closest",
          "mapbox": {
           "style": "light"
          },
          "paper_bgcolor": "white",
          "plot_bgcolor": "#E5ECF6",
          "polar": {
           "angularaxis": {
            "gridcolor": "white",
            "linecolor": "white",
            "ticks": ""
           },
           "bgcolor": "#E5ECF6",
           "radialaxis": {
            "gridcolor": "white",
            "linecolor": "white",
            "ticks": ""
           }
          },
          "scene": {
           "xaxis": {
            "backgroundcolor": "#E5ECF6",
            "gridcolor": "white",
            "gridwidth": 2,
            "linecolor": "white",
            "showbackground": true,
            "ticks": "",
            "zerolinecolor": "white"
           },
           "yaxis": {
            "backgroundcolor": "#E5ECF6",
            "gridcolor": "white",
            "gridwidth": 2,
            "linecolor": "white",
            "showbackground": true,
            "ticks": "",
            "zerolinecolor": "white"
           },
           "zaxis": {
            "backgroundcolor": "#E5ECF6",
            "gridcolor": "white",
            "gridwidth": 2,
            "linecolor": "white",
            "showbackground": true,
            "ticks": "",
            "zerolinecolor": "white"
           }
          },
          "shapedefaults": {
           "line": {
            "color": "#2a3f5f"
           }
          },
          "ternary": {
           "aaxis": {
            "gridcolor": "white",
            "linecolor": "white",
            "ticks": ""
           },
           "baxis": {
            "gridcolor": "white",
            "linecolor": "white",
            "ticks": ""
           },
           "bgcolor": "#E5ECF6",
           "caxis": {
            "gridcolor": "white",
            "linecolor": "white",
            "ticks": ""
           }
          },
          "title": {
           "x": 0.05
          },
          "xaxis": {
           "automargin": true,
           "gridcolor": "white",
           "linecolor": "white",
           "ticks": "",
           "title": {
            "standoff": 15
           },
           "zerolinecolor": "white",
           "zerolinewidth": 2
          },
          "yaxis": {
           "automargin": true,
           "gridcolor": "white",
           "linecolor": "white",
           "ticks": "",
           "title": {
            "standoff": 15
           },
           "zerolinecolor": "white",
           "zerolinewidth": 2
          }
         }
        },
        "xaxis": {
         "anchor": "y",
         "domain": [
          0,
          1
         ],
         "title": {
          "text": "year_netzero"
         }
        },
        "yaxis": {
         "anchor": "x",
         "domain": [
          0,
          1
         ],
         "title": {
          "text": "year_netcoal"
         }
        }
       }
      }
     },
     "metadata": {},
     "output_type": "display_data"
    }
   ],
   "source": [
    "#combine dataframes\n",
    "to_plot = pd.merge(left=netzero_df, right=unabcoal_df, on=[\"model\", \"scenario\", \"carbon_budget\"])\n",
    "\n",
    "fig3 = px.scatter(\n",
    "    data_frame=to_plot,\n",
    "    x = \"year_netzero\",\n",
    "    y=\"year_netcoal\",\n",
    "    color= \"carbon_budget\"\n",
    ")\n",
    "fig3"
   ]
  },
  {
   "cell_type": "code",
   "execution_count": 89,
   "metadata": {},
   "outputs": [
    {
     "data": {
      "text/html": [
       "<div>\n",
       "<style scoped>\n",
       "    .dataframe tbody tr th:only-of-type {\n",
       "        vertical-align: middle;\n",
       "    }\n",
       "\n",
       "    .dataframe tbody tr th {\n",
       "        vertical-align: top;\n",
       "    }\n",
       "\n",
       "    .dataframe thead th {\n",
       "        text-align: right;\n",
       "    }\n",
       "</style>\n",
       "<table border=\"1\" class=\"dataframe\">\n",
       "  <thead>\n",
       "    <tr style=\"text-align: right;\">\n",
       "      <th>year</th>\n",
       "      <th>model</th>\n",
       "      <th>scenario</th>\n",
       "      <th>carbon_budget</th>\n",
       "      <th>region</th>\n",
       "      <th>2020</th>\n",
       "      <th>2030</th>\n",
       "      <th>redu_FET</th>\n",
       "    </tr>\n",
       "  </thead>\n",
       "  <tbody>\n",
       "    <tr>\n",
       "      <th>0</th>\n",
       "      <td>AIM/CGE V2.2</td>\n",
       "      <td>T34_1000_feas_em</td>\n",
       "      <td>2C</td>\n",
       "      <td>World</td>\n",
       "      <td>123.601600</td>\n",
       "      <td>104.300200</td>\n",
       "      <td>-0.156158</td>\n",
       "    </tr>\n",
       "    <tr>\n",
       "      <th>1</th>\n",
       "      <td>AIM/CGE V2.2</td>\n",
       "      <td>T34_1000_feas_pr</td>\n",
       "      <td>2C</td>\n",
       "      <td>World</td>\n",
       "      <td>123.601600</td>\n",
       "      <td>104.296500</td>\n",
       "      <td>-0.156188</td>\n",
       "    </tr>\n",
       "    <tr>\n",
       "      <th>2</th>\n",
       "      <td>AIM/CGE V2.2</td>\n",
       "      <td>T34_1000_feas_ref</td>\n",
       "      <td>2C</td>\n",
       "      <td>World</td>\n",
       "      <td>123.601600</td>\n",
       "      <td>111.827600</td>\n",
       "      <td>-0.095258</td>\n",
       "    </tr>\n",
       "    <tr>\n",
       "      <th>3</th>\n",
       "      <td>GEM-E3_V2023</td>\n",
       "      <td>T34_1000_feas_em</td>\n",
       "      <td>2C</td>\n",
       "      <td>World</td>\n",
       "      <td>106.172003</td>\n",
       "      <td>107.829240</td>\n",
       "      <td>0.015609</td>\n",
       "    </tr>\n",
       "    <tr>\n",
       "      <th>4</th>\n",
       "      <td>GEM-E3_V2023</td>\n",
       "      <td>T34_1000_feas_ref</td>\n",
       "      <td>2C</td>\n",
       "      <td>World</td>\n",
       "      <td>106.172003</td>\n",
       "      <td>107.223507</td>\n",
       "      <td>0.009904</td>\n",
       "    </tr>\n",
       "    <tr>\n",
       "      <th>5</th>\n",
       "      <td>IMAGE 3.2</td>\n",
       "      <td>T34_1000_feas_em</td>\n",
       "      <td>2C</td>\n",
       "      <td>World</td>\n",
       "      <td>92.399406</td>\n",
       "      <td>78.249680</td>\n",
       "      <td>-0.153137</td>\n",
       "    </tr>\n",
       "    <tr>\n",
       "      <th>6</th>\n",
       "      <td>IMAGE 3.2</td>\n",
       "      <td>T34_1000_feas_pr</td>\n",
       "      <td>2C</td>\n",
       "      <td>World</td>\n",
       "      <td>92.399406</td>\n",
       "      <td>77.118727</td>\n",
       "      <td>-0.165376</td>\n",
       "    </tr>\n",
       "    <tr>\n",
       "      <th>7</th>\n",
       "      <td>IMAGE 3.2</td>\n",
       "      <td>T34_1000_feas_ref</td>\n",
       "      <td>2C</td>\n",
       "      <td>World</td>\n",
       "      <td>92.399406</td>\n",
       "      <td>85.292977</td>\n",
       "      <td>-0.076910</td>\n",
       "    </tr>\n",
       "    <tr>\n",
       "      <th>8</th>\n",
       "      <td>MESSAGEix-GLOBIOM_1.1</td>\n",
       "      <td>T34_1000_feas_em</td>\n",
       "      <td>2C</td>\n",
       "      <td>World</td>\n",
       "      <td>113.118992</td>\n",
       "      <td>140.618740</td>\n",
       "      <td>0.243105</td>\n",
       "    </tr>\n",
       "    <tr>\n",
       "      <th>9</th>\n",
       "      <td>MESSAGEix-GLOBIOM_1.1</td>\n",
       "      <td>T34_1000_feas_pr</td>\n",
       "      <td>2C</td>\n",
       "      <td>World</td>\n",
       "      <td>113.118992</td>\n",
       "      <td>141.497312</td>\n",
       "      <td>0.250871</td>\n",
       "    </tr>\n",
       "    <tr>\n",
       "      <th>10</th>\n",
       "      <td>MESSAGEix-GLOBIOM_1.1</td>\n",
       "      <td>T34_1000_feas_ref</td>\n",
       "      <td>2C</td>\n",
       "      <td>World</td>\n",
       "      <td>113.118992</td>\n",
       "      <td>138.640052</td>\n",
       "      <td>0.225613</td>\n",
       "    </tr>\n",
       "    <tr>\n",
       "      <th>11</th>\n",
       "      <td>POLES ENGAGE</td>\n",
       "      <td>T34_1000_feas_em</td>\n",
       "      <td>2C</td>\n",
       "      <td>World</td>\n",
       "      <td>107.848488</td>\n",
       "      <td>107.732933</td>\n",
       "      <td>-0.001071</td>\n",
       "    </tr>\n",
       "    <tr>\n",
       "      <th>12</th>\n",
       "      <td>POLES ENGAGE</td>\n",
       "      <td>T34_1000_feas_pr</td>\n",
       "      <td>2C</td>\n",
       "      <td>World</td>\n",
       "      <td>107.848488</td>\n",
       "      <td>118.065712</td>\n",
       "      <td>0.094737</td>\n",
       "    </tr>\n",
       "    <tr>\n",
       "      <th>13</th>\n",
       "      <td>POLES ENGAGE</td>\n",
       "      <td>T34_1000_feas_ref</td>\n",
       "      <td>2C</td>\n",
       "      <td>World</td>\n",
       "      <td>107.848488</td>\n",
       "      <td>110.032166</td>\n",
       "      <td>0.020248</td>\n",
       "    </tr>\n",
       "    <tr>\n",
       "      <th>14</th>\n",
       "      <td>REMIND 3.0</td>\n",
       "      <td>T34_1000_feas_em</td>\n",
       "      <td>2C</td>\n",
       "      <td>World</td>\n",
       "      <td>118.958792</td>\n",
       "      <td>117.555399</td>\n",
       "      <td>-0.011797</td>\n",
       "    </tr>\n",
       "    <tr>\n",
       "      <th>15</th>\n",
       "      <td>REMIND 3.0</td>\n",
       "      <td>T34_1000_feas_pr</td>\n",
       "      <td>2C</td>\n",
       "      <td>World</td>\n",
       "      <td>118.958792</td>\n",
       "      <td>117.626265</td>\n",
       "      <td>-0.011202</td>\n",
       "    </tr>\n",
       "    <tr>\n",
       "      <th>16</th>\n",
       "      <td>REMIND 3.0</td>\n",
       "      <td>T34_1000_feas_ref</td>\n",
       "      <td>2C</td>\n",
       "      <td>World</td>\n",
       "      <td>118.958792</td>\n",
       "      <td>116.925112</td>\n",
       "      <td>-0.017096</td>\n",
       "    </tr>\n",
       "    <tr>\n",
       "      <th>17</th>\n",
       "      <td>REMIND 3.0</td>\n",
       "      <td>T34_550_feas_em</td>\n",
       "      <td>1.5C</td>\n",
       "      <td>World</td>\n",
       "      <td>118.958792</td>\n",
       "      <td>115.048436</td>\n",
       "      <td>-0.032872</td>\n",
       "    </tr>\n",
       "    <tr>\n",
       "      <th>18</th>\n",
       "      <td>REMIND 3.0</td>\n",
       "      <td>T34_550_feas_pr</td>\n",
       "      <td>1.5C</td>\n",
       "      <td>World</td>\n",
       "      <td>118.958792</td>\n",
       "      <td>114.592854</td>\n",
       "      <td>-0.036701</td>\n",
       "    </tr>\n",
       "    <tr>\n",
       "      <th>19</th>\n",
       "      <td>REMIND 3.0</td>\n",
       "      <td>T34_550_feas_ref</td>\n",
       "      <td>1.5C</td>\n",
       "      <td>World</td>\n",
       "      <td>118.958792</td>\n",
       "      <td>107.573860</td>\n",
       "      <td>-0.095705</td>\n",
       "    </tr>\n",
       "    <tr>\n",
       "      <th>20</th>\n",
       "      <td>WITCH 5.0</td>\n",
       "      <td>T34_1000_feas_em</td>\n",
       "      <td>2C</td>\n",
       "      <td>World</td>\n",
       "      <td>112.512133</td>\n",
       "      <td>103.492111</td>\n",
       "      <td>-0.080169</td>\n",
       "    </tr>\n",
       "    <tr>\n",
       "      <th>21</th>\n",
       "      <td>WITCH 5.0</td>\n",
       "      <td>T34_1000_feas_pr</td>\n",
       "      <td>2C</td>\n",
       "      <td>World</td>\n",
       "      <td>112.512133</td>\n",
       "      <td>105.380779</td>\n",
       "      <td>-0.063383</td>\n",
       "    </tr>\n",
       "    <tr>\n",
       "      <th>22</th>\n",
       "      <td>WITCH 5.0</td>\n",
       "      <td>T34_1000_feas_ref</td>\n",
       "      <td>2C</td>\n",
       "      <td>World</td>\n",
       "      <td>112.512133</td>\n",
       "      <td>104.706337</td>\n",
       "      <td>-0.069377</td>\n",
       "    </tr>\n",
       "  </tbody>\n",
       "</table>\n",
       "</div>"
      ],
      "text/plain": [
       "year                  model           scenario carbon_budget region   \n",
       "0              AIM/CGE V2.2   T34_1000_feas_em            2C  World  \\\n",
       "1              AIM/CGE V2.2   T34_1000_feas_pr            2C  World   \n",
       "2              AIM/CGE V2.2  T34_1000_feas_ref            2C  World   \n",
       "3              GEM-E3_V2023   T34_1000_feas_em            2C  World   \n",
       "4              GEM-E3_V2023  T34_1000_feas_ref            2C  World   \n",
       "5                 IMAGE 3.2   T34_1000_feas_em            2C  World   \n",
       "6                 IMAGE 3.2   T34_1000_feas_pr            2C  World   \n",
       "7                 IMAGE 3.2  T34_1000_feas_ref            2C  World   \n",
       "8     MESSAGEix-GLOBIOM_1.1   T34_1000_feas_em            2C  World   \n",
       "9     MESSAGEix-GLOBIOM_1.1   T34_1000_feas_pr            2C  World   \n",
       "10    MESSAGEix-GLOBIOM_1.1  T34_1000_feas_ref            2C  World   \n",
       "11             POLES ENGAGE   T34_1000_feas_em            2C  World   \n",
       "12             POLES ENGAGE   T34_1000_feas_pr            2C  World   \n",
       "13             POLES ENGAGE  T34_1000_feas_ref            2C  World   \n",
       "14               REMIND 3.0   T34_1000_feas_em            2C  World   \n",
       "15               REMIND 3.0   T34_1000_feas_pr            2C  World   \n",
       "16               REMIND 3.0  T34_1000_feas_ref            2C  World   \n",
       "17               REMIND 3.0    T34_550_feas_em          1.5C  World   \n",
       "18               REMIND 3.0    T34_550_feas_pr          1.5C  World   \n",
       "19               REMIND 3.0   T34_550_feas_ref          1.5C  World   \n",
       "20                WITCH 5.0   T34_1000_feas_em            2C  World   \n",
       "21                WITCH 5.0   T34_1000_feas_pr            2C  World   \n",
       "22                WITCH 5.0  T34_1000_feas_ref            2C  World   \n",
       "\n",
       "year        2020        2030  redu_FET  \n",
       "0     123.601600  104.300200 -0.156158  \n",
       "1     123.601600  104.296500 -0.156188  \n",
       "2     123.601600  111.827600 -0.095258  \n",
       "3     106.172003  107.829240  0.015609  \n",
       "4     106.172003  107.223507  0.009904  \n",
       "5      92.399406   78.249680 -0.153137  \n",
       "6      92.399406   77.118727 -0.165376  \n",
       "7      92.399406   85.292977 -0.076910  \n",
       "8     113.118992  140.618740  0.243105  \n",
       "9     113.118992  141.497312  0.250871  \n",
       "10    113.118992  138.640052  0.225613  \n",
       "11    107.848488  107.732933 -0.001071  \n",
       "12    107.848488  118.065712  0.094737  \n",
       "13    107.848488  110.032166  0.020248  \n",
       "14    118.958792  117.555399 -0.011797  \n",
       "15    118.958792  117.626265 -0.011202  \n",
       "16    118.958792  116.925112 -0.017096  \n",
       "17    118.958792  115.048436 -0.032872  \n",
       "18    118.958792  114.592854 -0.036701  \n",
       "19    118.958792  107.573860 -0.095705  \n",
       "20    112.512133  103.492111 -0.080169  \n",
       "21    112.512133  105.380779 -0.063383  \n",
       "22    112.512133  104.706337 -0.069377  "
      ]
     },
     "execution_count": 89,
     "metadata": {},
     "output_type": "execute_result"
    }
   ],
   "source": [
    "#calculate change in transportation energy from 2020 to 2030\n",
    "tranred_df = df[[\"model\", \"scenario\", \"carbon_budget\", \"region\",\"year\", \"Final Energy|Transportation\"]]\n",
    "#filter for year 2020 & 2030\n",
    "tranred_df = tranred_df[(tranred_df[\"year\"] == 2020) | (tranred_df[\"year\"] == 2030) ].reset_index().drop(\"index\", axis=1)\n",
    "#from long to wide\n",
    "tranred_df = pd.pivot(data=tranred_df, index=[\"model\", \"scenario\", \"carbon_budget\", \"region\"], \n",
    "             columns=\"year\", values= \"Final Energy|Transportation\").reset_index()\n",
    "#Finale Energy Transportation = (FET)\n",
    "tranred_df[\"redu_FET\"] = (tranred_df[2030] - tranred_df[2020]) / tranred_df[2020] \n",
    "\n",
    "# #both Coal data are in EJ/yr\n",
    "# unabcoal_df = df[[\"model\", \"scenario\", \"carbon_budget\", \"region\",\"year\", \"Primary Energy|Coal\", \"Primary Energy|Coal|w/ CCS\"]] \n",
    "# unabcoal_df[\"Unabated Coal\"] = unabcoal_df[\"Primary Energy|Coal\"] - unabcoal_df[\"Primary Energy|Coal|w/ CCS\"]\n",
    "# #pick threshold for when coal is supposed to the phased out // now it's 8EJ/y\n",
    "# unabcoal_df = unabcoal_df[unabcoal_df[\"Unabated Coal\"] <= 8].groupby([\"model\", \"scenario\", \"carbon_budget\"])['year'].min().reset_index()\n",
    "# unabcoal_df.rename(columns={\"year\": \"year_netcoal\"}, inplace=True)\n",
    "\n",
    "px.line(df,\n",
    "        x = \"year\",\n",
    "        y=\"Final Energy|Transportation\",\n",
    "        color = \"carbon_budget\",\n",
    "        line_dash=\"model\",\n",
    "        facet_col=\"scenario_narrative\",\n",
    "        hover_data = {'scenario':True, 'model':True})\n",
    "\n",
    "tranred_df"
   ]
  },
  {
   "cell_type": "code",
   "execution_count": 91,
   "metadata": {},
   "outputs": [
    {
     "data": {
      "text/html": [
       "<div>\n",
       "<style scoped>\n",
       "    .dataframe tbody tr th:only-of-type {\n",
       "        vertical-align: middle;\n",
       "    }\n",
       "\n",
       "    .dataframe tbody tr th {\n",
       "        vertical-align: top;\n",
       "    }\n",
       "\n",
       "    .dataframe thead th {\n",
       "        text-align: right;\n",
       "    }\n",
       "</style>\n",
       "<table border=\"1\" class=\"dataframe\">\n",
       "  <thead>\n",
       "    <tr style=\"text-align: right;\">\n",
       "      <th></th>\n",
       "      <th>model</th>\n",
       "      <th>scenario</th>\n",
       "      <th>carbon_budget</th>\n",
       "      <th>year_netzero</th>\n",
       "      <th>year_netcoal</th>\n",
       "      <th>region</th>\n",
       "      <th>redu_FET</th>\n",
       "    </tr>\n",
       "  </thead>\n",
       "  <tbody>\n",
       "    <tr>\n",
       "      <th>0</th>\n",
       "      <td>AIM/CGE V2.2</td>\n",
       "      <td>T34_1000_feas_em</td>\n",
       "      <td>2C</td>\n",
       "      <td>2060</td>\n",
       "      <td>2055</td>\n",
       "      <td>World</td>\n",
       "      <td>-0.156158</td>\n",
       "    </tr>\n",
       "    <tr>\n",
       "      <th>1</th>\n",
       "      <td>AIM/CGE V2.2</td>\n",
       "      <td>T34_1000_feas_pr</td>\n",
       "      <td>2C</td>\n",
       "      <td>2055</td>\n",
       "      <td>2055</td>\n",
       "      <td>World</td>\n",
       "      <td>-0.156188</td>\n",
       "    </tr>\n",
       "    <tr>\n",
       "      <th>2</th>\n",
       "      <td>AIM/CGE V2.2</td>\n",
       "      <td>T34_1000_feas_ref</td>\n",
       "      <td>2C</td>\n",
       "      <td>2070</td>\n",
       "      <td>2050</td>\n",
       "      <td>World</td>\n",
       "      <td>-0.095258</td>\n",
       "    </tr>\n",
       "  </tbody>\n",
       "</table>\n",
       "</div>"
      ],
      "text/plain": [
       "          model           scenario carbon_budget  year_netzero  year_netcoal   \n",
       "0  AIM/CGE V2.2   T34_1000_feas_em            2C          2060          2055  \\\n",
       "1  AIM/CGE V2.2   T34_1000_feas_pr            2C          2055          2055   \n",
       "2  AIM/CGE V2.2  T34_1000_feas_ref            2C          2070          2050   \n",
       "\n",
       "  region  redu_FET  \n",
       "0  World -0.156158  \n",
       "1  World -0.156188  \n",
       "2  World -0.095258  "
      ]
     },
     "execution_count": 91,
     "metadata": {},
     "output_type": "execute_result"
    }
   ],
   "source": [
    "#merge reduction data to rest of df\n",
    "to_plot = pd.merge(left=netzero_df, right=unabcoal_df, on=[\"model\", \"scenario\", \"carbon_budget\"])\n",
    "to_plot = pd.merge(left=to_plot, right=tranred_df.loc[:, ~tranred_df.columns.isin([2020, 2030])],\n",
    "                   on=[\"model\", \"scenario\", \"carbon_budget\"])\n",
    "to_plot.head(3)"
   ]
  },
  {
   "cell_type": "code",
   "execution_count": 86,
   "metadata": {},
   "outputs": [
    {
     "data": {
      "application/vnd.plotly.v1+json": {
       "config": {
        "plotlyServerURL": "https://plot.ly"
       },
       "data": [
        {
         "hovertemplate": "carbon_budget=2C<br>year_netcoal=%{x}<br>redu_FET=%{y}<extra></extra>",
         "legendgroup": "2C",
         "marker": {
          "color": "#636efa",
          "symbol": "circle"
         },
         "mode": "markers",
         "name": "2C",
         "orientation": "v",
         "showlegend": true,
         "type": "scatter",
         "x": [
          2055,
          2055,
          2050,
          2065,
          2060,
          2060,
          2060,
          2060,
          2060,
          2055,
          2100
         ],
         "xaxis": "x",
         "y": [
          -0.1561581727097384,
          -0.15618810759731272,
          -0.09525766656742309,
          0.015608982565342787,
          -0.15313655289316314,
          -0.1653763839797401,
          -0.0769099064151183,
          0.24310461485681237,
          0.25087140170686023,
          0.22561251911574307,
          0.09473683242480838
         ],
         "yaxis": "y"
        },
        {
         "hovertemplate": "carbon_budget=1.5C<br>year_netcoal=%{x}<br>redu_FET=%{y}<extra></extra>",
         "legendgroup": "1.5C",
         "marker": {
          "color": "#EF553B",
          "symbol": "circle"
         },
         "mode": "markers",
         "name": "1.5C",
         "orientation": "v",
         "showlegend": true,
         "type": "scatter",
         "x": [
          2050,
          2035
         ],
         "xaxis": "x",
         "y": [
          -0.03287151164443366,
          -0.0957048315340359
         ],
         "yaxis": "y"
        }
       ],
       "layout": {
        "legend": {
         "title": {
          "text": "carbon_budget"
         },
         "tracegroupgap": 0
        },
        "margin": {
         "t": 60
        },
        "template": {
         "data": {
          "bar": [
           {
            "error_x": {
             "color": "#2a3f5f"
            },
            "error_y": {
             "color": "#2a3f5f"
            },
            "marker": {
             "line": {
              "color": "#E5ECF6",
              "width": 0.5
             },
             "pattern": {
              "fillmode": "overlay",
              "size": 10,
              "solidity": 0.2
             }
            },
            "type": "bar"
           }
          ],
          "barpolar": [
           {
            "marker": {
             "line": {
              "color": "#E5ECF6",
              "width": 0.5
             },
             "pattern": {
              "fillmode": "overlay",
              "size": 10,
              "solidity": 0.2
             }
            },
            "type": "barpolar"
           }
          ],
          "carpet": [
           {
            "aaxis": {
             "endlinecolor": "#2a3f5f",
             "gridcolor": "white",
             "linecolor": "white",
             "minorgridcolor": "white",
             "startlinecolor": "#2a3f5f"
            },
            "baxis": {
             "endlinecolor": "#2a3f5f",
             "gridcolor": "white",
             "linecolor": "white",
             "minorgridcolor": "white",
             "startlinecolor": "#2a3f5f"
            },
            "type": "carpet"
           }
          ],
          "choropleth": [
           {
            "colorbar": {
             "outlinewidth": 0,
             "ticks": ""
            },
            "type": "choropleth"
           }
          ],
          "contour": [
           {
            "colorbar": {
             "outlinewidth": 0,
             "ticks": ""
            },
            "colorscale": [
             [
              0,
              "#0d0887"
             ],
             [
              0.1111111111111111,
              "#46039f"
             ],
             [
              0.2222222222222222,
              "#7201a8"
             ],
             [
              0.3333333333333333,
              "#9c179e"
             ],
             [
              0.4444444444444444,
              "#bd3786"
             ],
             [
              0.5555555555555556,
              "#d8576b"
             ],
             [
              0.6666666666666666,
              "#ed7953"
             ],
             [
              0.7777777777777778,
              "#fb9f3a"
             ],
             [
              0.8888888888888888,
              "#fdca26"
             ],
             [
              1,
              "#f0f921"
             ]
            ],
            "type": "contour"
           }
          ],
          "contourcarpet": [
           {
            "colorbar": {
             "outlinewidth": 0,
             "ticks": ""
            },
            "type": "contourcarpet"
           }
          ],
          "heatmap": [
           {
            "colorbar": {
             "outlinewidth": 0,
             "ticks": ""
            },
            "colorscale": [
             [
              0,
              "#0d0887"
             ],
             [
              0.1111111111111111,
              "#46039f"
             ],
             [
              0.2222222222222222,
              "#7201a8"
             ],
             [
              0.3333333333333333,
              "#9c179e"
             ],
             [
              0.4444444444444444,
              "#bd3786"
             ],
             [
              0.5555555555555556,
              "#d8576b"
             ],
             [
              0.6666666666666666,
              "#ed7953"
             ],
             [
              0.7777777777777778,
              "#fb9f3a"
             ],
             [
              0.8888888888888888,
              "#fdca26"
             ],
             [
              1,
              "#f0f921"
             ]
            ],
            "type": "heatmap"
           }
          ],
          "heatmapgl": [
           {
            "colorbar": {
             "outlinewidth": 0,
             "ticks": ""
            },
            "colorscale": [
             [
              0,
              "#0d0887"
             ],
             [
              0.1111111111111111,
              "#46039f"
             ],
             [
              0.2222222222222222,
              "#7201a8"
             ],
             [
              0.3333333333333333,
              "#9c179e"
             ],
             [
              0.4444444444444444,
              "#bd3786"
             ],
             [
              0.5555555555555556,
              "#d8576b"
             ],
             [
              0.6666666666666666,
              "#ed7953"
             ],
             [
              0.7777777777777778,
              "#fb9f3a"
             ],
             [
              0.8888888888888888,
              "#fdca26"
             ],
             [
              1,
              "#f0f921"
             ]
            ],
            "type": "heatmapgl"
           }
          ],
          "histogram": [
           {
            "marker": {
             "pattern": {
              "fillmode": "overlay",
              "size": 10,
              "solidity": 0.2
             }
            },
            "type": "histogram"
           }
          ],
          "histogram2d": [
           {
            "colorbar": {
             "outlinewidth": 0,
             "ticks": ""
            },
            "colorscale": [
             [
              0,
              "#0d0887"
             ],
             [
              0.1111111111111111,
              "#46039f"
             ],
             [
              0.2222222222222222,
              "#7201a8"
             ],
             [
              0.3333333333333333,
              "#9c179e"
             ],
             [
              0.4444444444444444,
              "#bd3786"
             ],
             [
              0.5555555555555556,
              "#d8576b"
             ],
             [
              0.6666666666666666,
              "#ed7953"
             ],
             [
              0.7777777777777778,
              "#fb9f3a"
             ],
             [
              0.8888888888888888,
              "#fdca26"
             ],
             [
              1,
              "#f0f921"
             ]
            ],
            "type": "histogram2d"
           }
          ],
          "histogram2dcontour": [
           {
            "colorbar": {
             "outlinewidth": 0,
             "ticks": ""
            },
            "colorscale": [
             [
              0,
              "#0d0887"
             ],
             [
              0.1111111111111111,
              "#46039f"
             ],
             [
              0.2222222222222222,
              "#7201a8"
             ],
             [
              0.3333333333333333,
              "#9c179e"
             ],
             [
              0.4444444444444444,
              "#bd3786"
             ],
             [
              0.5555555555555556,
              "#d8576b"
             ],
             [
              0.6666666666666666,
              "#ed7953"
             ],
             [
              0.7777777777777778,
              "#fb9f3a"
             ],
             [
              0.8888888888888888,
              "#fdca26"
             ],
             [
              1,
              "#f0f921"
             ]
            ],
            "type": "histogram2dcontour"
           }
          ],
          "mesh3d": [
           {
            "colorbar": {
             "outlinewidth": 0,
             "ticks": ""
            },
            "type": "mesh3d"
           }
          ],
          "parcoords": [
           {
            "line": {
             "colorbar": {
              "outlinewidth": 0,
              "ticks": ""
             }
            },
            "type": "parcoords"
           }
          ],
          "pie": [
           {
            "automargin": true,
            "type": "pie"
           }
          ],
          "scatter": [
           {
            "fillpattern": {
             "fillmode": "overlay",
             "size": 10,
             "solidity": 0.2
            },
            "type": "scatter"
           }
          ],
          "scatter3d": [
           {
            "line": {
             "colorbar": {
              "outlinewidth": 0,
              "ticks": ""
             }
            },
            "marker": {
             "colorbar": {
              "outlinewidth": 0,
              "ticks": ""
             }
            },
            "type": "scatter3d"
           }
          ],
          "scattercarpet": [
           {
            "marker": {
             "colorbar": {
              "outlinewidth": 0,
              "ticks": ""
             }
            },
            "type": "scattercarpet"
           }
          ],
          "scattergeo": [
           {
            "marker": {
             "colorbar": {
              "outlinewidth": 0,
              "ticks": ""
             }
            },
            "type": "scattergeo"
           }
          ],
          "scattergl": [
           {
            "marker": {
             "colorbar": {
              "outlinewidth": 0,
              "ticks": ""
             }
            },
            "type": "scattergl"
           }
          ],
          "scattermapbox": [
           {
            "marker": {
             "colorbar": {
              "outlinewidth": 0,
              "ticks": ""
             }
            },
            "type": "scattermapbox"
           }
          ],
          "scatterpolar": [
           {
            "marker": {
             "colorbar": {
              "outlinewidth": 0,
              "ticks": ""
             }
            },
            "type": "scatterpolar"
           }
          ],
          "scatterpolargl": [
           {
            "marker": {
             "colorbar": {
              "outlinewidth": 0,
              "ticks": ""
             }
            },
            "type": "scatterpolargl"
           }
          ],
          "scatterternary": [
           {
            "marker": {
             "colorbar": {
              "outlinewidth": 0,
              "ticks": ""
             }
            },
            "type": "scatterternary"
           }
          ],
          "surface": [
           {
            "colorbar": {
             "outlinewidth": 0,
             "ticks": ""
            },
            "colorscale": [
             [
              0,
              "#0d0887"
             ],
             [
              0.1111111111111111,
              "#46039f"
             ],
             [
              0.2222222222222222,
              "#7201a8"
             ],
             [
              0.3333333333333333,
              "#9c179e"
             ],
             [
              0.4444444444444444,
              "#bd3786"
             ],
             [
              0.5555555555555556,
              "#d8576b"
             ],
             [
              0.6666666666666666,
              "#ed7953"
             ],
             [
              0.7777777777777778,
              "#fb9f3a"
             ],
             [
              0.8888888888888888,
              "#fdca26"
             ],
             [
              1,
              "#f0f921"
             ]
            ],
            "type": "surface"
           }
          ],
          "table": [
           {
            "cells": {
             "fill": {
              "color": "#EBF0F8"
             },
             "line": {
              "color": "white"
             }
            },
            "header": {
             "fill": {
              "color": "#C8D4E3"
             },
             "line": {
              "color": "white"
             }
            },
            "type": "table"
           }
          ]
         },
         "layout": {
          "annotationdefaults": {
           "arrowcolor": "#2a3f5f",
           "arrowhead": 0,
           "arrowwidth": 1
          },
          "autotypenumbers": "strict",
          "coloraxis": {
           "colorbar": {
            "outlinewidth": 0,
            "ticks": ""
           }
          },
          "colorscale": {
           "diverging": [
            [
             0,
             "#8e0152"
            ],
            [
             0.1,
             "#c51b7d"
            ],
            [
             0.2,
             "#de77ae"
            ],
            [
             0.3,
             "#f1b6da"
            ],
            [
             0.4,
             "#fde0ef"
            ],
            [
             0.5,
             "#f7f7f7"
            ],
            [
             0.6,
             "#e6f5d0"
            ],
            [
             0.7,
             "#b8e186"
            ],
            [
             0.8,
             "#7fbc41"
            ],
            [
             0.9,
             "#4d9221"
            ],
            [
             1,
             "#276419"
            ]
           ],
           "sequential": [
            [
             0,
             "#0d0887"
            ],
            [
             0.1111111111111111,
             "#46039f"
            ],
            [
             0.2222222222222222,
             "#7201a8"
            ],
            [
             0.3333333333333333,
             "#9c179e"
            ],
            [
             0.4444444444444444,
             "#bd3786"
            ],
            [
             0.5555555555555556,
             "#d8576b"
            ],
            [
             0.6666666666666666,
             "#ed7953"
            ],
            [
             0.7777777777777778,
             "#fb9f3a"
            ],
            [
             0.8888888888888888,
             "#fdca26"
            ],
            [
             1,
             "#f0f921"
            ]
           ],
           "sequentialminus": [
            [
             0,
             "#0d0887"
            ],
            [
             0.1111111111111111,
             "#46039f"
            ],
            [
             0.2222222222222222,
             "#7201a8"
            ],
            [
             0.3333333333333333,
             "#9c179e"
            ],
            [
             0.4444444444444444,
             "#bd3786"
            ],
            [
             0.5555555555555556,
             "#d8576b"
            ],
            [
             0.6666666666666666,
             "#ed7953"
            ],
            [
             0.7777777777777778,
             "#fb9f3a"
            ],
            [
             0.8888888888888888,
             "#fdca26"
            ],
            [
             1,
             "#f0f921"
            ]
           ]
          },
          "colorway": [
           "#636efa",
           "#EF553B",
           "#00cc96",
           "#ab63fa",
           "#FFA15A",
           "#19d3f3",
           "#FF6692",
           "#B6E880",
           "#FF97FF",
           "#FECB52"
          ],
          "font": {
           "color": "#2a3f5f"
          },
          "geo": {
           "bgcolor": "white",
           "lakecolor": "white",
           "landcolor": "#E5ECF6",
           "showlakes": true,
           "showland": true,
           "subunitcolor": "white"
          },
          "hoverlabel": {
           "align": "left"
          },
          "hovermode": "closest",
          "mapbox": {
           "style": "light"
          },
          "paper_bgcolor": "white",
          "plot_bgcolor": "#E5ECF6",
          "polar": {
           "angularaxis": {
            "gridcolor": "white",
            "linecolor": "white",
            "ticks": ""
           },
           "bgcolor": "#E5ECF6",
           "radialaxis": {
            "gridcolor": "white",
            "linecolor": "white",
            "ticks": ""
           }
          },
          "scene": {
           "xaxis": {
            "backgroundcolor": "#E5ECF6",
            "gridcolor": "white",
            "gridwidth": 2,
            "linecolor": "white",
            "showbackground": true,
            "ticks": "",
            "zerolinecolor": "white"
           },
           "yaxis": {
            "backgroundcolor": "#E5ECF6",
            "gridcolor": "white",
            "gridwidth": 2,
            "linecolor": "white",
            "showbackground": true,
            "ticks": "",
            "zerolinecolor": "white"
           },
           "zaxis": {
            "backgroundcolor": "#E5ECF6",
            "gridcolor": "white",
            "gridwidth": 2,
            "linecolor": "white",
            "showbackground": true,
            "ticks": "",
            "zerolinecolor": "white"
           }
          },
          "shapedefaults": {
           "line": {
            "color": "#2a3f5f"
           }
          },
          "ternary": {
           "aaxis": {
            "gridcolor": "white",
            "linecolor": "white",
            "ticks": ""
           },
           "baxis": {
            "gridcolor": "white",
            "linecolor": "white",
            "ticks": ""
           },
           "bgcolor": "#E5ECF6",
           "caxis": {
            "gridcolor": "white",
            "linecolor": "white",
            "ticks": ""
           }
          },
          "title": {
           "x": 0.05
          },
          "xaxis": {
           "automargin": true,
           "gridcolor": "white",
           "linecolor": "white",
           "ticks": "",
           "title": {
            "standoff": 15
           },
           "zerolinecolor": "white",
           "zerolinewidth": 2
          },
          "yaxis": {
           "automargin": true,
           "gridcolor": "white",
           "linecolor": "white",
           "ticks": "",
           "title": {
            "standoff": 15
           },
           "zerolinecolor": "white",
           "zerolinewidth": 2
          }
         }
        },
        "xaxis": {
         "anchor": "y",
         "domain": [
          0,
          1
         ],
         "title": {
          "text": "year_netcoal"
         }
        },
        "yaxis": {
         "anchor": "x",
         "domain": [
          0,
          1
         ],
         "title": {
          "text": "redu_FET"
         }
        }
       }
      }
     },
     "metadata": {},
     "output_type": "display_data"
    }
   ],
   "source": [
    "fig4 = px.scatter(\n",
    "    data_frame=to_plot,\n",
    "    y = \"redu_FET\",\n",
    "    x=\"year_netcoal\",\n",
    "    color= \"carbon_budget\"\n",
    ")\n",
    "fig4"
   ]
  },
  {
   "cell_type": "code",
   "execution_count": 102,
   "metadata": {},
   "outputs": [
    {
     "name": "stdout",
     "output_type": "stream",
     "text": [
      "OUTPUT:\n",
      "Earliest possible net-zero year: 2050\n",
      "Is PA still possible? True\n"
     ]
    }
   ],
   "source": [
    "#Statement\n",
    "#Until when is it feasible to phase out coal\n",
    "year_coal_phaseout = 2050\n",
    "#What change in energy consumption of transport sector is realistic until 2030?\n",
    "change_energy_transport = 0\n",
    "\n",
    "#filter dataframe\n",
    "filter_df = to_plot.loc[(to_plot[\"year_netcoal\"] >= year_coal_phaseout) & (to_plot[\"redu_FET\"] >= change_energy_transport)]\n",
    "earliest_net_zero_year = filter_df[\"year_netzero\"].min()\n",
    "PA_aligned = (filter_data_set[\"carbon_budget\"].str.contains(\"1.5C\").sum() > 0)\n",
    "\n",
    "print(\"OUTPUT:\")\n",
    "print(\"Earliest possible net-zero year:\", earliest_net_zero_year)\n",
    "print(\"Is PA still possible?\", PA_aligned)"
   ]
  }
 ],
 "metadata": {
  "kernelspec": {
   "display_name": "Streamlit",
   "language": "python",
   "name": "python3"
  },
  "language_info": {
   "codemirror_mode": {
    "name": "ipython",
    "version": 3
   },
   "file_extension": ".py",
   "mimetype": "text/x-python",
   "name": "python",
   "nbconvert_exporter": "python",
   "pygments_lexer": "ipython3",
   "version": "3.10.11"
  },
  "orig_nbformat": 4
 },
 "nbformat": 4,
 "nbformat_minor": 2
}
