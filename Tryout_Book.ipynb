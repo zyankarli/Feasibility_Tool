{
 "cells": [
  {
   "cell_type": "code",
   "execution_count": 1,
   "metadata": {},
   "outputs": [
    {
     "data": {
      "application/javascript": "if (typeof IPython !== 'undefined') { IPython.OutputArea.prototype._should_scroll = function(lines){ return false; }}",
      "text/plain": [
       "<IPython.core.display.Javascript object>"
      ]
     },
     "metadata": {},
     "output_type": "display_data"
    }
   ],
   "source": [
    "#Import libraries\n",
    "import pyam\n",
    "import plotly.express as px\n",
    "import plotly.graph_objects as go\n",
    "from plotly.subplots import make_subplots\n",
    "import pandas as pd\n",
    "import numpy as np"
   ]
  },
  {
   "cell_type": "code",
   "execution_count": 2,
   "metadata": {},
   "outputs": [],
   "source": [
    "def get_data():\n",
    "    #get IIASA identification\n",
    "    #workplace IIASA\n",
    "    iiasa_creds = r\"C:\\Users\\scheifinger\\Documents\\GitHub\\Feasibility_Tool\\iiasa_credentials.yml\"\n",
    "    #workplace home\n",
    "    #iiasa_creds = r\"C:\\Users\\schei\\OneDrive\\Dokumente\\GitHub\\Feasibility_Tool\\iiasa_credentials.yml\"\n",
    "    pyam.iiasa.Connection(creds=iiasa_creds)\n",
    "\n",
    "    connections = list(pyam.iiasa.Connection(creds=iiasa_creds).valid_connections)\n",
    "    #other variables: 'Emissions|CO2', 'Primary Energy|Coal', \n",
    "    #query for climate scenario data\n",
    "    \n",
    "    df = pyam.read_iiasa(\n",
    "        name = 'engage_internal',\n",
    "        creds = iiasa_creds,\n",
    "        scenario =[\n",
    "            \"T34_1000_ref\",\n",
    "            \"T34_1000_govem\",\n",
    "            \"T34_1000_feas_em\",\n",
    "            \"T34_1000_bitb_em\",\n",
    "            \"T34_1000_bitb_ref\",\n",
    "            \"T34_1000_enab_em\",\n",
    "            \"T34_NPi2100\",\n",
    "            \"T34_NDC2100\"\n",
    "        ],\n",
    "        variable=[\"Emissions|CO2\", \n",
    "                  'Emissions|Kyoto Gases',\n",
    "                  'Primary Energy|Coal',\n",
    "                  'Primary Energy|Gas',\n",
    "                  'Primary Energy',\n",
    "                  'Capacity|Electricity|Coal',\n",
    "                  'Capacity|Electricity|Solar',\n",
    "                  'Capacity|Electricity|Wind',\n",
    "                  'Carbon Sequestration|CCS',\n",
    "                  'Carbon Sequestration|Land Use',\n",
    "                  'Secondary Energy|Electricity|Coal',\n",
    "                  'Secondary Energy|Electricity|Solar'\n",
    "                  ],\n",
    "        region=[\"World\",\n",
    "                \"North America; primarily the United States of America and Canada\",\n",
    "                \"Eastern and Western Europe (i.e., the EU28)\",\n",
    "                \"Pacific OECD\",\n",
    "                \"Countries of centrally-planned Asia; primarily China\",\n",
    "                \"Countries of South Asia; primarily India\",\n",
    "                \"Other countries of Asia\",\n",
    "                \"Countries of Sub-Saharan Africa\",\n",
    "                \"Countries of Latin America and the Caribbean\",\n",
    "                \"Countries of the Middle East; Iran, Iraq, Israel, Saudi Arabia, Qatar, etc.\",\n",
    "                \"Reforming Economies of Eastern Europe and the Former Soviet Union; primarily Russia\"]\n",
    "    )   \n",
    "    #return data format of df\n",
    "    return df\n"
   ]
  },
  {
   "cell_type": "code",
   "execution_count": 3,
   "metadata": {},
   "outputs": [
    {
     "name": "stderr",
     "output_type": "stream",
     "text": [
      "pyam - INFO: Running in a notebook, setting up a basic logging at level INFO\n",
      "pyam.iiasa - INFO: You are connected as user `scheifinger`\n",
      "httpx - INFO: HTTP Request: POST https://api.manager.ece.iiasa.ac.at/v1/token/obtain/ \"HTTP/1.1 200 OK\"\n",
      "pyam.iiasa - INFO: You are connected as user `scheifinger`\n",
      "httpx - INFO: HTTP Request: GET https://api.manager.ece.iiasa.ac.at/legacy/applications \"HTTP/1.1 200 OK\"\n",
      "httpx - INFO: HTTP Request: POST https://api.manager.ece.iiasa.ac.at/v1/token/obtain/ \"HTTP/1.1 200 OK\"\n",
      "httpx - INFO: HTTP Request: GET https://api.manager.ece.iiasa.ac.at/legacy/applications \"HTTP/1.1 200 OK\"\n",
      "httpx - INFO: HTTP Request: GET https://api.manager.ece.iiasa.ac.at/legacy/applications/IXSE_ENGAGE_INTERNAL/config \"HTTP/1.1 200 OK\"\n",
      "pyam.iiasa - INFO: You are connected to the IXSE_ENGAGE_INTERNAL scenario explorer hosted by IIASA. If you use this data in any published format, please cite the data as provided in the explorer guidelines: https://data.ece.iiasa.ac.at/engage-internal/#/about\n",
      "pyam.iiasa - INFO: You are connected as user `scheifinger`\n"
     ]
    }
   ],
   "source": [
    "data_set = get_data().data"
   ]
  },
  {
   "cell_type": "code",
   "execution_count": 4,
   "metadata": {},
   "outputs": [
    {
     "name": "stdout",
     "output_type": "stream",
     "text": [
      "Sum of all countries is larger than World?\n",
      "value    131.927354\n",
      "dtype: float64\n",
      "                            value\n",
      "model                            \n",
      "AIM/CGE V2.2           140.111100\n",
      "GEM-E3_V2023           124.479440\n",
      "IMAGE 3.2              125.988247\n",
      "MESSAGEix-GLOBIOM_1.1  139.348818\n",
      "POLES ENGAGE           139.420928\n",
      "REMIND 3.0             128.937054\n",
      "WITCH 5.0              131.927354\n",
      "                            value\n",
      "model                            \n",
      "AIM/CGE V2.2           140.111000\n",
      "GEM-E3_V2023           143.410610\n",
      "IMAGE 3.2              125.988203\n",
      "MESSAGEix-GLOBIOM_1.1  139.715211\n",
      "POLES ENGAGE           144.365265\n",
      "REMIND 3.0             134.583383\n",
      "WITCH 5.0              131.927354\n"
     ]
    }
   ],
   "source": [
    "print(\"Sum of all countries is larger than World?\")\n",
    "#TODO: ask/ check\n",
    "print(\n",
    "data_set[(data_set[\"model\"] == \"WITCH 5.0\") \\\n",
    "    & (data_set['scenario'] == \"T34_1000_bitb_em\") \\\n",
    "    & (data_set[\"variable\"] == \"Primary Energy|Gas\") \\\n",
    "    & (data_set[\"year\"] == 2020) \\\n",
    "    & (data_set[\"region\"] != \"World\")\n",
    "    ].agg({'value':\"sum\"})\n",
    ")\n",
    "\n",
    "data_set[(data_set[\"model\"] == \"WITCH 5.0\") \\\n",
    "    & (data_set['scenario'] == \"T34_1000_bitb_em\") \\\n",
    "    & (data_set[\"variable\"] == \"Primary Energy|Gas\") \\\n",
    "    & (data_set[\"year\"] == 2020) \\\n",
    "    & (data_set[\"region\"] == 'World')\n",
    "    ]\n",
    "\n",
    "print(\n",
    "    data_set[(data_set['scenario'] == \"T34_1000_bitb_em\") \\\n",
    "    & (data_set[\"variable\"] == \"Primary Energy|Gas\") \\\n",
    "    & (data_set[\"year\"] == 2020) \\\n",
    "    & (data_set[\"region\"] != \"World\")\n",
    "    ].groupby(\"model\").agg({'value':\"sum\"})\n",
    ")\n",
    "\n",
    "print(\n",
    "    data_set[(data_set['scenario'] == \"T34_1000_bitb_em\") \\\n",
    "    & (data_set[\"variable\"] == \"Primary Energy|Gas\") \\\n",
    "    & (data_set[\"year\"] == 2020) \\\n",
    "    & (data_set[\"region\"] == \"World\")\n",
    "    ].groupby(\"model\").agg({'value':\"sum\"})\n",
    "    )\n",
    "\n"
   ]
  },
  {
   "cell_type": "code",
   "execution_count": 58,
   "metadata": {},
   "outputs": [
    {
     "data": {
      "text/html": [
       "<div>\n",
       "<style scoped>\n",
       "    .dataframe tbody tr th:only-of-type {\n",
       "        vertical-align: middle;\n",
       "    }\n",
       "\n",
       "    .dataframe tbody tr th {\n",
       "        vertical-align: top;\n",
       "    }\n",
       "\n",
       "    .dataframe thead th {\n",
       "        text-align: right;\n",
       "    }\n",
       "</style>\n",
       "<table border=\"1\" class=\"dataframe\">\n",
       "  <thead>\n",
       "    <tr style=\"text-align: right;\">\n",
       "      <th>variable</th>\n",
       "      <th>model</th>\n",
       "      <th>scenario</th>\n",
       "      <th>region</th>\n",
       "      <th>year</th>\n",
       "      <th>Capacity|Electricity|Coal</th>\n",
       "      <th>Capacity|Electricity|Solar</th>\n",
       "      <th>Capacity|Electricity|Wind</th>\n",
       "      <th>Carbon Sequestration|CCS</th>\n",
       "      <th>Carbon Sequestration|Land Use</th>\n",
       "      <th>Emissions|CO2</th>\n",
       "      <th>Emissions|Kyoto Gases</th>\n",
       "      <th>Primary Energy</th>\n",
       "      <th>Primary Energy|Coal</th>\n",
       "      <th>Primary Energy|Gas</th>\n",
       "      <th>Secondary Energy|Electricity|Coal</th>\n",
       "      <th>Secondary Energy|Electricity|Solar</th>\n",
       "      <th>scenario_narrative</th>\n",
       "      <th>Share_Coal</th>\n",
       "      <th>Share_Gas</th>\n",
       "    </tr>\n",
       "  </thead>\n",
       "  <tbody>\n",
       "    <tr>\n",
       "      <th>0</th>\n",
       "      <td>AIM/CGE V2.2</td>\n",
       "      <td>T34_1000_bitb_em</td>\n",
       "      <td>China</td>\n",
       "      <td>2010</td>\n",
       "      <td>773.8319</td>\n",
       "      <td>1.4445</td>\n",
       "      <td>14.6534</td>\n",
       "      <td>0.0</td>\n",
       "      <td>NaN</td>\n",
       "      <td>8860.3168</td>\n",
       "      <td>11537.5187</td>\n",
       "      <td>108.3570</td>\n",
       "      <td>76.8021</td>\n",
       "      <td>4.0615</td>\n",
       "      <td>11.5723</td>\n",
       "      <td>0.0087</td>\n",
       "      <td>Tech+Inst</td>\n",
       "      <td>0.708788</td>\n",
       "      <td>0.037483</td>\n",
       "    </tr>\n",
       "    <tr>\n",
       "      <th>1</th>\n",
       "      <td>AIM/CGE V2.2</td>\n",
       "      <td>T34_1000_bitb_em</td>\n",
       "      <td>China</td>\n",
       "      <td>2015</td>\n",
       "      <td>1052.4402</td>\n",
       "      <td>66.0579</td>\n",
       "      <td>61.9462</td>\n",
       "      <td>0.0</td>\n",
       "      <td>NaN</td>\n",
       "      <td>10778.5587</td>\n",
       "      <td>13745.7169</td>\n",
       "      <td>132.7931</td>\n",
       "      <td>92.2560</td>\n",
       "      <td>5.6674</td>\n",
       "      <td>15.0383</td>\n",
       "      <td>0.3993</td>\n",
       "      <td>Tech+Inst</td>\n",
       "      <td>0.694735</td>\n",
       "      <td>0.042678</td>\n",
       "    </tr>\n",
       "    <tr>\n",
       "      <th>2</th>\n",
       "      <td>AIM/CGE V2.2</td>\n",
       "      <td>T34_1000_bitb_em</td>\n",
       "      <td>China</td>\n",
       "      <td>2020</td>\n",
       "      <td>1418.3453</td>\n",
       "      <td>343.1131</td>\n",
       "      <td>153.9295</td>\n",
       "      <td>0.0</td>\n",
       "      <td>NaN</td>\n",
       "      <td>11958.4702</td>\n",
       "      <td>15070.7563</td>\n",
       "      <td>151.2920</td>\n",
       "      <td>97.7011</td>\n",
       "      <td>9.5000</td>\n",
       "      <td>18.8428</td>\n",
       "      <td>2.0741</td>\n",
       "      <td>Tech+Inst</td>\n",
       "      <td>0.645778</td>\n",
       "      <td>0.062792</td>\n",
       "    </tr>\n",
       "  </tbody>\n",
       "</table>\n",
       "</div>"
      ],
      "text/plain": [
       "variable         model          scenario region  year   \n",
       "0         AIM/CGE V2.2  T34_1000_bitb_em  China  2010  \\\n",
       "1         AIM/CGE V2.2  T34_1000_bitb_em  China  2015   \n",
       "2         AIM/CGE V2.2  T34_1000_bitb_em  China  2020   \n",
       "\n",
       "variable  Capacity|Electricity|Coal  Capacity|Electricity|Solar   \n",
       "0                          773.8319                      1.4445  \\\n",
       "1                         1052.4402                     66.0579   \n",
       "2                         1418.3453                    343.1131   \n",
       "\n",
       "variable  Capacity|Electricity|Wind  Carbon Sequestration|CCS   \n",
       "0                           14.6534                       0.0  \\\n",
       "1                           61.9462                       0.0   \n",
       "2                          153.9295                       0.0   \n",
       "\n",
       "variable  Carbon Sequestration|Land Use  Emissions|CO2  Emissions|Kyoto Gases   \n",
       "0                                   NaN      8860.3168             11537.5187  \\\n",
       "1                                   NaN     10778.5587             13745.7169   \n",
       "2                                   NaN     11958.4702             15070.7563   \n",
       "\n",
       "variable  Primary Energy  Primary Energy|Coal  Primary Energy|Gas   \n",
       "0               108.3570              76.8021              4.0615  \\\n",
       "1               132.7931              92.2560              5.6674   \n",
       "2               151.2920              97.7011              9.5000   \n",
       "\n",
       "variable  Secondary Energy|Electricity|Coal   \n",
       "0                                   11.5723  \\\n",
       "1                                   15.0383   \n",
       "2                                   18.8428   \n",
       "\n",
       "variable  Secondary Energy|Electricity|Solar scenario_narrative  Share_Coal   \n",
       "0                                     0.0087          Tech+Inst    0.708788  \\\n",
       "1                                     0.3993          Tech+Inst    0.694735   \n",
       "2                                     2.0741          Tech+Inst    0.645778   \n",
       "\n",
       "variable  Share_Gas  \n",
       "0          0.037483  \n",
       "1          0.042678  \n",
       "2          0.062792  "
      ]
     },
     "execution_count": 58,
     "metadata": {},
     "output_type": "execute_result"
    }
   ],
   "source": [
    "#Data wrangling\n",
    "df = data_set\n",
    "#get regional groupings\n",
    "## OECD: \"North America; primarily the United States of America and Canada\",\"Eastern and Western Europe (i.e., the EU28)\"\n",
    "#TODO Clarify that countries of Asia and Latin America are missing\n",
    "## China:  Countries of centrally-planned Asia; primarily China\n",
    "## Rest of the world: other countries\n",
    "#get world\n",
    "world = data_set[df['region'] == \"World\"]\n",
    "world.loc[:, \"region\"] = \"World\"\n",
    "#get OECD*\n",
    "oecd = df[df[\"region\"].isin([\"North America; primarily the United States of America and Canada\",\"Eastern and Western Europe (i.e., the EU28)\", \"Pacific OECD\"])]\\\n",
    "    .groupby([\"model\", \"scenario\", \"variable\", \"year\", \"unit\"])\\\n",
    "        .agg({\"value\": \"sum\"}).reset_index()\n",
    "oecd['region'] = \"OECD\"\n",
    "#get China\n",
    "china = df[df['region'] == \"Countries of centrally-planned Asia; primarily China\"]\n",
    "china.loc[:, \"region\"] = \"China\"\n",
    "#get RoW\n",
    "row = df[~df[\"region\"].isin([\"World\", \"North America; primarily the United States of America and Canada\",\"Eastern and Western Europe (i.e., the EU28)\", \"Pacific OECD\", \"Countries of centrally-planned Asia; primarily China\"])]\\\n",
    "        .groupby([\"model\", \"scenario\", \"variable\", \"year\", \"unit\"])\\\n",
    "            .agg({\"value\": \"sum\"}).reset_index()\n",
    "row[\"region\"] = \"RoW\"\n",
    "#Concat four regions\n",
    "df = pd.concat([world, oecd, china, row]).reset_index()\n",
    "\n",
    "#from long to wide\n",
    "df = pd.pivot(data=df, index=['model','scenario', 'region', 'year'], columns = 'variable', values = 'value').reset_index()\n",
    "#get diffeernt scenario narratives from scenario name\n",
    "df['scenario_narrative'] = np.where(df['scenario'].str.contains(\"T34_1000_ref\", case=True), \"Cost Effective\", np.nan) \n",
    "df['scenario_narrative'] = np.where(df['scenario'].str.contains(\"T34_1000_bitb_ref\", case=True), \"Tech\", df['scenario_narrative']) \n",
    "df['scenario_narrative'] = np.where(df['scenario'].str.contains(\"T34_1000_govem\", case=True), \"Instit\", df['scenario_narrative'])\n",
    "df['scenario_narrative'] = np.where(df['scenario'].str.contains(\"T34_1000_bitb_em\", case=True), \"Tech+Inst\", df['scenario_narrative'])\n",
    "df['scenario_narrative'] = np.where(df['scenario'].str.contains(\"T34_1000_enab_em\", case=True), \"Inst+Enab\", df['scenario_narrative'])\n",
    "df['scenario_narrative'] = np.where(df['scenario'].str.contains(\"T34_1000_feas_em\", case=True), \"Tech+Inst+Enab\", df['scenario_narrative'])\n",
    "df['scenario_narrative'] = np.where(df['scenario'].str.contains(\"T34_NDC2100\", case=True), \"NDC\", df['scenario_narrative'])\n",
    "df['scenario_narrative'] = np.where(df['scenario'].str.contains(\"T34_NPi2100\", case=True), \"Current Policy\", df['scenario_narrative'])\n",
    "\n",
    "\n",
    "#caluclate percentages of energymix for coal and gas\n",
    "df[\"Share_Coal\"] = df[\"Primary Energy|Coal\"] / df[\"Primary Energy\"]\n",
    "df[\"Share_Gas\"] = df[\"Primary Energy|Gas\"] / df[\"Primary Energy\"]\n",
    "\n",
    "#get reductions from 2020 - 2040\n",
    "df.head(3)\n",
    "#Sort dataframe\n",
    "#df.sort_values(by=[\"model\", \"scenario\", \"region\", \"year\"], ascending=True, inplace=True)"
   ]
  },
  {
   "cell_type": "code",
   "execution_count": 62,
   "metadata": {},
   "outputs": [
    {
     "data": {
      "text/html": [
       "<div>\n",
       "<style scoped>\n",
       "    .dataframe tbody tr th:only-of-type {\n",
       "        vertical-align: middle;\n",
       "    }\n",
       "\n",
       "    .dataframe tbody tr th {\n",
       "        vertical-align: top;\n",
       "    }\n",
       "\n",
       "    .dataframe thead th {\n",
       "        text-align: right;\n",
       "    }\n",
       "</style>\n",
       "<table border=\"1\" class=\"dataframe\">\n",
       "  <thead>\n",
       "    <tr style=\"text-align: right;\">\n",
       "      <th></th>\n",
       "      <th>model</th>\n",
       "      <th>scenario</th>\n",
       "      <th>region</th>\n",
       "      <th>scenario_narrative</th>\n",
       "      <th>coal_use_2030</th>\n",
       "      <th>solar_use_2030</th>\n",
       "      <th>ccs_use_2050</th>\n",
       "      <th>reduction_year</th>\n",
       "      <th>reduction_value</th>\n",
       "    </tr>\n",
       "  </thead>\n",
       "  <tbody>\n",
       "    <tr>\n",
       "      <th>0</th>\n",
       "      <td>AIM/CGE V2.2</td>\n",
       "      <td>T34_1000_govem</td>\n",
       "      <td>China</td>\n",
       "      <td>Instit</td>\n",
       "      <td>15.890800</td>\n",
       "      <td>10.623400</td>\n",
       "      <td>3604.438500</td>\n",
       "      <td>2030_CO2_redu</td>\n",
       "      <td>0.190899</td>\n",
       "    </tr>\n",
       "    <tr>\n",
       "      <th>1</th>\n",
       "      <td>AIM/CGE V2.2</td>\n",
       "      <td>T34_1000_govem</td>\n",
       "      <td>OECD</td>\n",
       "      <td>Instit</td>\n",
       "      <td>3.153600</td>\n",
       "      <td>8.215100</td>\n",
       "      <td>4728.317000</td>\n",
       "      <td>2030_CO2_redu</td>\n",
       "      <td>0.349371</td>\n",
       "    </tr>\n",
       "    <tr>\n",
       "      <th>2</th>\n",
       "      <td>AIM/CGE V2.2</td>\n",
       "      <td>T34_1000_govem</td>\n",
       "      <td>RoW</td>\n",
       "      <td>Instit</td>\n",
       "      <td>8.802100</td>\n",
       "      <td>12.543600</td>\n",
       "      <td>1313.795600</td>\n",
       "      <td>2030_CO2_redu</td>\n",
       "      <td>0.156149</td>\n",
       "    </tr>\n",
       "    <tr>\n",
       "      <th>3</th>\n",
       "      <td>AIM/CGE V2.2</td>\n",
       "      <td>T34_1000_govem</td>\n",
       "      <td>World</td>\n",
       "      <td>Instit</td>\n",
       "      <td>27.846500</td>\n",
       "      <td>31.382000</td>\n",
       "      <td>9646.551200</td>\n",
       "      <td>2030_CO2_redu</td>\n",
       "      <td>0.218336</td>\n",
       "    </tr>\n",
       "    <tr>\n",
       "      <th>4</th>\n",
       "      <td>AIM/CGE V2.2</td>\n",
       "      <td>T34_1000_ref</td>\n",
       "      <td>China</td>\n",
       "      <td>Cost Effective</td>\n",
       "      <td>14.993200</td>\n",
       "      <td>11.410800</td>\n",
       "      <td>3207.475000</td>\n",
       "      <td>2030_CO2_redu</td>\n",
       "      <td>0.214562</td>\n",
       "    </tr>\n",
       "    <tr>\n",
       "      <th>...</th>\n",
       "      <td>...</td>\n",
       "      <td>...</td>\n",
       "      <td>...</td>\n",
       "      <td>...</td>\n",
       "      <td>...</td>\n",
       "      <td>...</td>\n",
       "      <td>...</td>\n",
       "      <td>...</td>\n",
       "      <td>...</td>\n",
       "    </tr>\n",
       "    <tr>\n",
       "      <th>219</th>\n",
       "      <td>WITCH 5.0</td>\n",
       "      <td>T34_NDC2100</td>\n",
       "      <td>World</td>\n",
       "      <td>NDC</td>\n",
       "      <td>26.703312</td>\n",
       "      <td>22.055595</td>\n",
       "      <td>629.500912</td>\n",
       "      <td>2040_CO2_redu</td>\n",
       "      <td>0.174320</td>\n",
       "    </tr>\n",
       "    <tr>\n",
       "      <th>220</th>\n",
       "      <td>WITCH 5.0</td>\n",
       "      <td>T34_NPi2100</td>\n",
       "      <td>China</td>\n",
       "      <td>Current Policy</td>\n",
       "      <td>16.604370</td>\n",
       "      <td>2.906712</td>\n",
       "      <td>0.000052</td>\n",
       "      <td>2040_CO2_redu</td>\n",
       "      <td>0.032554</td>\n",
       "    </tr>\n",
       "    <tr>\n",
       "      <th>221</th>\n",
       "      <td>WITCH 5.0</td>\n",
       "      <td>T34_NPi2100</td>\n",
       "      <td>OECD</td>\n",
       "      <td>Current Policy</td>\n",
       "      <td>8.304743</td>\n",
       "      <td>8.329264</td>\n",
       "      <td>0.000466</td>\n",
       "      <td>2040_CO2_redu</td>\n",
       "      <td>0.203401</td>\n",
       "    </tr>\n",
       "    <tr>\n",
       "      <th>222</th>\n",
       "      <td>WITCH 5.0</td>\n",
       "      <td>T34_NPi2100</td>\n",
       "      <td>RoW</td>\n",
       "      <td>Current Policy</td>\n",
       "      <td>11.154327</td>\n",
       "      <td>4.381168</td>\n",
       "      <td>0.000421</td>\n",
       "      <td>2040_CO2_redu</td>\n",
       "      <td>-0.035808</td>\n",
       "    </tr>\n",
       "    <tr>\n",
       "      <th>223</th>\n",
       "      <td>WITCH 5.0</td>\n",
       "      <td>T34_NPi2100</td>\n",
       "      <td>World</td>\n",
       "      <td>Current Policy</td>\n",
       "      <td>36.063440</td>\n",
       "      <td>15.617144</td>\n",
       "      <td>0.000939</td>\n",
       "      <td>2040_CO2_redu</td>\n",
       "      <td>0.034726</td>\n",
       "    </tr>\n",
       "  </tbody>\n",
       "</table>\n",
       "<p>224 rows × 9 columns</p>\n",
       "</div>"
      ],
      "text/plain": [
       "            model        scenario region scenario_narrative  coal_use_2030   \n",
       "0    AIM/CGE V2.2  T34_1000_govem  China             Instit      15.890800  \\\n",
       "1    AIM/CGE V2.2  T34_1000_govem   OECD             Instit       3.153600   \n",
       "2    AIM/CGE V2.2  T34_1000_govem    RoW             Instit       8.802100   \n",
       "3    AIM/CGE V2.2  T34_1000_govem  World             Instit      27.846500   \n",
       "4    AIM/CGE V2.2    T34_1000_ref  China     Cost Effective      14.993200   \n",
       "..            ...             ...    ...                ...            ...   \n",
       "219     WITCH 5.0     T34_NDC2100  World                NDC      26.703312   \n",
       "220     WITCH 5.0     T34_NPi2100  China     Current Policy      16.604370   \n",
       "221     WITCH 5.0     T34_NPi2100   OECD     Current Policy       8.304743   \n",
       "222     WITCH 5.0     T34_NPi2100    RoW     Current Policy      11.154327   \n",
       "223     WITCH 5.0     T34_NPi2100  World     Current Policy      36.063440   \n",
       "\n",
       "     solar_use_2030  ccs_use_2050 reduction_year  reduction_value  \n",
       "0         10.623400   3604.438500  2030_CO2_redu         0.190899  \n",
       "1          8.215100   4728.317000  2030_CO2_redu         0.349371  \n",
       "2         12.543600   1313.795600  2030_CO2_redu         0.156149  \n",
       "3         31.382000   9646.551200  2030_CO2_redu         0.218336  \n",
       "4         11.410800   3207.475000  2030_CO2_redu         0.214562  \n",
       "..              ...           ...            ...              ...  \n",
       "219       22.055595    629.500912  2040_CO2_redu         0.174320  \n",
       "220        2.906712      0.000052  2040_CO2_redu         0.032554  \n",
       "221        8.329264      0.000466  2040_CO2_redu         0.203401  \n",
       "222        4.381168      0.000421  2040_CO2_redu        -0.035808  \n",
       "223       15.617144      0.000939  2040_CO2_redu         0.034726  \n",
       "\n",
       "[224 rows x 9 columns]"
      ]
     },
     "execution_count": 62,
     "metadata": {},
     "output_type": "execute_result"
    }
   ],
   "source": [
    "#filter\n",
    "to_plot_df = df[(df['year'].isin([2020, 2030, 2040, 2050])) & (df[\"scenario\"].isin([\"T34_1000_ref\", \"T34_1000_govem\",\"T34_NPi2100\",\"T34_NDC2100\"]))]\n",
    "\n",
    "#calculate reductions\n",
    "reductions_df = to_plot_df[[\"model\", \"scenario\", \"scenario_narrative\", \"region\", 'year', \"Emissions|CO2\"]]\n",
    "reductions_df = pd.pivot(data=reductions_df, index=reductions_df.drop(['year', \"Emissions|CO2\"], axis=1).columns, columns = 'year', values = 'Emissions|CO2').reset_index()\n",
    "reductions_df[\"2030_CO2_redu\"] = ( (reductions_df[2030] - reductions_df[2020]) / reductions_df[2020]) * -1 #multiplied with -1 to have positive values \n",
    "reductions_df[\"2040_CO2_redu\"] = ((reductions_df[2040] - reductions_df[2020]) / reductions_df[2020]) * -1 \n",
    "reductions_df.drop([2020, 2030, 2040], axis=1, inplace=True)\n",
    "\n",
    "#calculate capacities/usage for 2030\n",
    "coal_use_2030 = pd.pivot(data=to_plot_df, index=['model','scenario', 'region'], columns = 'year', values = 'Secondary Energy|Electricity|Coal').reset_index()[['model', 'scenario', 'region', 2030]]\n",
    "coal_use_2030.rename(columns={2030:\"coal_use_2030\"}, inplace=True)\n",
    "\n",
    "solar_use_2030 = pd.pivot(data=to_plot_df, index=['model','scenario', 'region'], columns = 'year', values = 'Secondary Energy|Electricity|Solar').reset_index()[['model', 'scenario', 'region', 2030]]\n",
    "solar_use_2030.rename(columns={2030:\"solar_use_2030\"}, inplace=True)\n",
    "\n",
    "ccs_use_2050 = pd.pivot(data=to_plot_df, index=['model','scenario', 'region'], columns = 'year', values = 'Carbon Sequestration|CCS').reset_index()[['model', 'scenario', 'region', 2050]]\n",
    "ccs_use_2050.rename(columns={2050:\"ccs_use_2050\"}, inplace=True) #unit \tMt CO2/yr\n",
    "\n",
    "\t\n",
    "\n",
    "#merge\n",
    "to_plot_df = pd.merge(left=reductions_df, right=coal_use_2030, on=[\"model\", \"scenario\", \"region\"])\n",
    "to_plot_df = pd.merge(left=to_plot_df, right=solar_use_2030, on=[\"model\", \"scenario\", \"region\"])\n",
    "to_plot_df = pd.merge(left=to_plot_df, right=ccs_use_2050, on=[\"model\", \"scenario\", \"region\"])\n",
    "\n",
    "\n",
    "# #make CO2 reduction longer for plotting purposes\n",
    "#reduce data\n",
    "to_plot_df = pd.melt(to_plot_df, id_vars=[\"model\", 'scenario', 'region', 'scenario_narrative', 'coal_use_2030','solar_use_2030', 'ccs_use_2050'],\n",
    "                    value_vars=[\"2030_CO2_redu\", \"2040_CO2_redu\"],\n",
    "                    var_name='reduction_year', value_name='reduction_value')\n",
    "#TODO: Note: COFFEE doesn't have govem scenario\n",
    "to_plot_df"
   ]
  },
  {
   "cell_type": "code",
   "execution_count": 28,
   "metadata": {},
   "outputs": [
    {
     "name": "stderr",
     "output_type": "stream",
     "text": [
      "C:\\Users\\scheifinger\\AppData\\Local\\Temp\\ipykernel_4416\\2420778190.py:4: UserWarning:\n",
      "\n",
      "Boolean Series key will be reindexed to match DataFrame index.\n",
      "\n",
      "C:\\Users\\scheifinger\\AppData\\Local\\Temp\\ipykernel_4416\\2420778190.py:12: UserWarning:\n",
      "\n",
      "Boolean Series key will be reindexed to match DataFrame index.\n",
      "\n",
      "C:\\Users\\scheifinger\\AppData\\Local\\Temp\\ipykernel_4416\\2420778190.py:21: UserWarning:\n",
      "\n",
      "Boolean Series key will be reindexed to match DataFrame index.\n",
      "\n"
     ]
    },
    {
     "data": {
      "application/vnd.plotly.v1+json": {
       "config": {
        "plotlyServerURL": "https://plot.ly"
       },
       "data": [
        {
         "alignmentgroup": "True",
         "boxpoints": "all",
         "fillcolor": "rgba(255,255,255,0)",
         "hoveron": "points",
         "hovertemplate": "model=AIM/CGE V2.2<br>scenario_narrative=%{x}<br>reduction_value=%{y}<extra></extra>",
         "legendgroup": "AIM/CGE V2.2",
         "line": {
          "color": "rgba(255,255,255,0)"
         },
         "marker": {
          "color": "#636efa",
          "size": 8
         },
         "name": "AIM/CGE V2.2",
         "offsetgroup": "AIM/CGE V2.2",
         "orientation": "v",
         "pointpos": 0,
         "showlegend": true,
         "type": "box",
         "x": [
          "Instit",
          "Cost Effective"
         ],
         "x0": " ",
         "xaxis": "x",
         "y": [
          0.21833576511088226,
          0.2475844294895769
         ],
         "y0": " ",
         "yaxis": "y"
        },
        {
         "alignmentgroup": "True",
         "boxpoints": "all",
         "fillcolor": "rgba(255,255,255,0)",
         "hoveron": "points",
         "hovertemplate": "model=COFFEE 1.5<br>scenario_narrative=%{x}<br>reduction_value=%{y}<extra></extra>",
         "legendgroup": "COFFEE 1.5",
         "line": {
          "color": "rgba(255,255,255,0)"
         },
         "marker": {
          "color": "#EF553B",
          "size": 8
         },
         "name": "COFFEE 1.5",
         "offsetgroup": "COFFEE 1.5",
         "orientation": "v",
         "pointpos": 0,
         "showlegend": true,
         "type": "box",
         "x": [
          "Cost Effective"
         ],
         "x0": " ",
         "xaxis": "x",
         "y": [
          0.1118504740914091
         ],
         "y0": " ",
         "yaxis": "y"
        },
        {
         "alignmentgroup": "True",
         "boxpoints": "all",
         "fillcolor": "rgba(255,255,255,0)",
         "hoveron": "points",
         "hovertemplate": "model=GEM-E3_V2023<br>scenario_narrative=%{x}<br>reduction_value=%{y}<extra></extra>",
         "legendgroup": "GEM-E3_V2023",
         "line": {
          "color": "rgba(255,255,255,0)"
         },
         "marker": {
          "color": "#00cc96",
          "size": 8
         },
         "name": "GEM-E3_V2023",
         "offsetgroup": "GEM-E3_V2023",
         "orientation": "v",
         "pointpos": 0,
         "showlegend": true,
         "type": "box",
         "x": [
          "Instit",
          "Cost Effective"
         ],
         "x0": " ",
         "xaxis": "x",
         "y": [
          0.16677098683471817,
          0.16585324384940472
         ],
         "y0": " ",
         "yaxis": "y"
        },
        {
         "alignmentgroup": "True",
         "boxpoints": "all",
         "fillcolor": "rgba(255,255,255,0)",
         "hoveron": "points",
         "hovertemplate": "model=IMAGE 3.2<br>scenario_narrative=%{x}<br>reduction_value=%{y}<extra></extra>",
         "legendgroup": "IMAGE 3.2",
         "line": {
          "color": "rgba(255,255,255,0)"
         },
         "marker": {
          "color": "#ab63fa",
          "size": 8
         },
         "name": "IMAGE 3.2",
         "offsetgroup": "IMAGE 3.2",
         "orientation": "v",
         "pointpos": 0,
         "showlegend": true,
         "type": "box",
         "x": [
          "Instit",
          "Cost Effective"
         ],
         "x0": " ",
         "xaxis": "x",
         "y": [
          0.160854721093494,
          0.24220762950586733
         ],
         "y0": " ",
         "yaxis": "y"
        },
        {
         "alignmentgroup": "True",
         "boxpoints": "all",
         "fillcolor": "rgba(255,255,255,0)",
         "hoveron": "points",
         "hovertemplate": "model=MESSAGEix-GLOBIOM_1.1<br>scenario_narrative=%{x}<br>reduction_value=%{y}<extra></extra>",
         "legendgroup": "MESSAGEix-GLOBIOM_1.1",
         "line": {
          "color": "rgba(255,255,255,0)"
         },
         "marker": {
          "color": "#FFA15A",
          "size": 8
         },
         "name": "MESSAGEix-GLOBIOM_1.1",
         "offsetgroup": "MESSAGEix-GLOBIOM_1.1",
         "orientation": "v",
         "pointpos": 0,
         "showlegend": true,
         "type": "box",
         "x": [
          "Instit",
          "Cost Effective"
         ],
         "x0": " ",
         "xaxis": "x",
         "y": [
          0.2305038960259554,
          0.30426085350928456
         ],
         "y0": " ",
         "yaxis": "y"
        },
        {
         "alignmentgroup": "True",
         "boxpoints": "all",
         "fillcolor": "rgba(255,255,255,0)",
         "hoveron": "points",
         "hovertemplate": "model=POLES ENGAGE<br>scenario_narrative=%{x}<br>reduction_value=%{y}<extra></extra>",
         "legendgroup": "POLES ENGAGE",
         "line": {
          "color": "rgba(255,255,255,0)"
         },
         "marker": {
          "color": "#19d3f3",
          "size": 8
         },
         "name": "POLES ENGAGE",
         "offsetgroup": "POLES ENGAGE",
         "orientation": "v",
         "pointpos": 0,
         "showlegend": true,
         "type": "box",
         "x": [
          "Instit",
          "Cost Effective"
         ],
         "x0": " ",
         "xaxis": "x",
         "y": [
          0.20066467474897637,
          0.19239051053140205
         ],
         "y0": " ",
         "yaxis": "y"
        },
        {
         "alignmentgroup": "True",
         "boxpoints": "all",
         "fillcolor": "rgba(255,255,255,0)",
         "hoveron": "points",
         "hovertemplate": "model=REMIND 3.0<br>scenario_narrative=%{x}<br>reduction_value=%{y}<extra></extra>",
         "legendgroup": "REMIND 3.0",
         "line": {
          "color": "rgba(255,255,255,0)"
         },
         "marker": {
          "color": "#FF6692",
          "size": 8
         },
         "name": "REMIND 3.0",
         "offsetgroup": "REMIND 3.0",
         "orientation": "v",
         "pointpos": 0,
         "showlegend": true,
         "type": "box",
         "x": [
          "Instit",
          "Cost Effective"
         ],
         "x0": " ",
         "xaxis": "x",
         "y": [
          0.21352085930054884,
          0.21088547311897723
         ],
         "y0": " ",
         "yaxis": "y"
        },
        {
         "alignmentgroup": "True",
         "boxpoints": "all",
         "fillcolor": "rgba(255,255,255,0)",
         "hoveron": "points",
         "hovertemplate": "model=WITCH 5.0<br>scenario_narrative=%{x}<br>reduction_value=%{y}<extra></extra>",
         "legendgroup": "WITCH 5.0",
         "line": {
          "color": "rgba(255,255,255,0)"
         },
         "marker": {
          "color": "#B6E880",
          "size": 8
         },
         "name": "WITCH 5.0",
         "offsetgroup": "WITCH 5.0",
         "orientation": "v",
         "pointpos": 0,
         "showlegend": true,
         "type": "box",
         "x": [
          "Instit",
          "Cost Effective"
         ],
         "x0": " ",
         "xaxis": "x",
         "y": [
          0.2913229756919772,
          0.45958632493761675
         ],
         "y0": " ",
         "yaxis": "y"
        },
        {
         "boxpoints": false,
         "marker": {
          "color": "grey",
          "size": 8
         },
         "name": "Instit",
         "opacity": 0.5,
         "showlegend": false,
         "type": "box",
         "y": [
          0.21833576511088226,
          0.16677098683471817,
          0.160854721093494,
          0.2305038960259554,
          0.20066467474897637,
          0.21352085930054884,
          0.2913229756919772
         ]
        },
        {
         "boxpoints": false,
         "marker": {
          "color": "grey",
          "size": 8
         },
         "name": "Cost Effective",
         "opacity": 0.3,
         "showlegend": false,
         "type": "box",
         "y": [
          0.2475844294895769,
          0.1118504740914091,
          0.16585324384940472,
          0.24220762950586733,
          0.30426085350928456,
          0.19239051053140205,
          0.21088547311897723,
          0.45958632493761675
         ]
        }
       ],
       "layout": {
        "autosize": false,
        "boxmode": "overlay",
        "height": 600,
        "legend": {
         "title": {
          "text": "model"
         },
         "tracegroupgap": 0
        },
        "margin": {
         "t": 60
        },
        "template": {
         "data": {
          "bar": [
           {
            "error_x": {
             "color": "#2a3f5f"
            },
            "error_y": {
             "color": "#2a3f5f"
            },
            "marker": {
             "line": {
              "color": "#E5ECF6",
              "width": 0.5
             },
             "pattern": {
              "fillmode": "overlay",
              "size": 10,
              "solidity": 0.2
             }
            },
            "type": "bar"
           }
          ],
          "barpolar": [
           {
            "marker": {
             "line": {
              "color": "#E5ECF6",
              "width": 0.5
             },
             "pattern": {
              "fillmode": "overlay",
              "size": 10,
              "solidity": 0.2
             }
            },
            "type": "barpolar"
           }
          ],
          "carpet": [
           {
            "aaxis": {
             "endlinecolor": "#2a3f5f",
             "gridcolor": "white",
             "linecolor": "white",
             "minorgridcolor": "white",
             "startlinecolor": "#2a3f5f"
            },
            "baxis": {
             "endlinecolor": "#2a3f5f",
             "gridcolor": "white",
             "linecolor": "white",
             "minorgridcolor": "white",
             "startlinecolor": "#2a3f5f"
            },
            "type": "carpet"
           }
          ],
          "choropleth": [
           {
            "colorbar": {
             "outlinewidth": 0,
             "ticks": ""
            },
            "type": "choropleth"
           }
          ],
          "contour": [
           {
            "colorbar": {
             "outlinewidth": 0,
             "ticks": ""
            },
            "colorscale": [
             [
              0,
              "#0d0887"
             ],
             [
              0.1111111111111111,
              "#46039f"
             ],
             [
              0.2222222222222222,
              "#7201a8"
             ],
             [
              0.3333333333333333,
              "#9c179e"
             ],
             [
              0.4444444444444444,
              "#bd3786"
             ],
             [
              0.5555555555555556,
              "#d8576b"
             ],
             [
              0.6666666666666666,
              "#ed7953"
             ],
             [
              0.7777777777777778,
              "#fb9f3a"
             ],
             [
              0.8888888888888888,
              "#fdca26"
             ],
             [
              1,
              "#f0f921"
             ]
            ],
            "type": "contour"
           }
          ],
          "contourcarpet": [
           {
            "colorbar": {
             "outlinewidth": 0,
             "ticks": ""
            },
            "type": "contourcarpet"
           }
          ],
          "heatmap": [
           {
            "colorbar": {
             "outlinewidth": 0,
             "ticks": ""
            },
            "colorscale": [
             [
              0,
              "#0d0887"
             ],
             [
              0.1111111111111111,
              "#46039f"
             ],
             [
              0.2222222222222222,
              "#7201a8"
             ],
             [
              0.3333333333333333,
              "#9c179e"
             ],
             [
              0.4444444444444444,
              "#bd3786"
             ],
             [
              0.5555555555555556,
              "#d8576b"
             ],
             [
              0.6666666666666666,
              "#ed7953"
             ],
             [
              0.7777777777777778,
              "#fb9f3a"
             ],
             [
              0.8888888888888888,
              "#fdca26"
             ],
             [
              1,
              "#f0f921"
             ]
            ],
            "type": "heatmap"
           }
          ],
          "heatmapgl": [
           {
            "colorbar": {
             "outlinewidth": 0,
             "ticks": ""
            },
            "colorscale": [
             [
              0,
              "#0d0887"
             ],
             [
              0.1111111111111111,
              "#46039f"
             ],
             [
              0.2222222222222222,
              "#7201a8"
             ],
             [
              0.3333333333333333,
              "#9c179e"
             ],
             [
              0.4444444444444444,
              "#bd3786"
             ],
             [
              0.5555555555555556,
              "#d8576b"
             ],
             [
              0.6666666666666666,
              "#ed7953"
             ],
             [
              0.7777777777777778,
              "#fb9f3a"
             ],
             [
              0.8888888888888888,
              "#fdca26"
             ],
             [
              1,
              "#f0f921"
             ]
            ],
            "type": "heatmapgl"
           }
          ],
          "histogram": [
           {
            "marker": {
             "pattern": {
              "fillmode": "overlay",
              "size": 10,
              "solidity": 0.2
             }
            },
            "type": "histogram"
           }
          ],
          "histogram2d": [
           {
            "colorbar": {
             "outlinewidth": 0,
             "ticks": ""
            },
            "colorscale": [
             [
              0,
              "#0d0887"
             ],
             [
              0.1111111111111111,
              "#46039f"
             ],
             [
              0.2222222222222222,
              "#7201a8"
             ],
             [
              0.3333333333333333,
              "#9c179e"
             ],
             [
              0.4444444444444444,
              "#bd3786"
             ],
             [
              0.5555555555555556,
              "#d8576b"
             ],
             [
              0.6666666666666666,
              "#ed7953"
             ],
             [
              0.7777777777777778,
              "#fb9f3a"
             ],
             [
              0.8888888888888888,
              "#fdca26"
             ],
             [
              1,
              "#f0f921"
             ]
            ],
            "type": "histogram2d"
           }
          ],
          "histogram2dcontour": [
           {
            "colorbar": {
             "outlinewidth": 0,
             "ticks": ""
            },
            "colorscale": [
             [
              0,
              "#0d0887"
             ],
             [
              0.1111111111111111,
              "#46039f"
             ],
             [
              0.2222222222222222,
              "#7201a8"
             ],
             [
              0.3333333333333333,
              "#9c179e"
             ],
             [
              0.4444444444444444,
              "#bd3786"
             ],
             [
              0.5555555555555556,
              "#d8576b"
             ],
             [
              0.6666666666666666,
              "#ed7953"
             ],
             [
              0.7777777777777778,
              "#fb9f3a"
             ],
             [
              0.8888888888888888,
              "#fdca26"
             ],
             [
              1,
              "#f0f921"
             ]
            ],
            "type": "histogram2dcontour"
           }
          ],
          "mesh3d": [
           {
            "colorbar": {
             "outlinewidth": 0,
             "ticks": ""
            },
            "type": "mesh3d"
           }
          ],
          "parcoords": [
           {
            "line": {
             "colorbar": {
              "outlinewidth": 0,
              "ticks": ""
             }
            },
            "type": "parcoords"
           }
          ],
          "pie": [
           {
            "automargin": true,
            "type": "pie"
           }
          ],
          "scatter": [
           {
            "fillpattern": {
             "fillmode": "overlay",
             "size": 10,
             "solidity": 0.2
            },
            "type": "scatter"
           }
          ],
          "scatter3d": [
           {
            "line": {
             "colorbar": {
              "outlinewidth": 0,
              "ticks": ""
             }
            },
            "marker": {
             "colorbar": {
              "outlinewidth": 0,
              "ticks": ""
             }
            },
            "type": "scatter3d"
           }
          ],
          "scattercarpet": [
           {
            "marker": {
             "colorbar": {
              "outlinewidth": 0,
              "ticks": ""
             }
            },
            "type": "scattercarpet"
           }
          ],
          "scattergeo": [
           {
            "marker": {
             "colorbar": {
              "outlinewidth": 0,
              "ticks": ""
             }
            },
            "type": "scattergeo"
           }
          ],
          "scattergl": [
           {
            "marker": {
             "colorbar": {
              "outlinewidth": 0,
              "ticks": ""
             }
            },
            "type": "scattergl"
           }
          ],
          "scattermapbox": [
           {
            "marker": {
             "colorbar": {
              "outlinewidth": 0,
              "ticks": ""
             }
            },
            "type": "scattermapbox"
           }
          ],
          "scatterpolar": [
           {
            "marker": {
             "colorbar": {
              "outlinewidth": 0,
              "ticks": ""
             }
            },
            "type": "scatterpolar"
           }
          ],
          "scatterpolargl": [
           {
            "marker": {
             "colorbar": {
              "outlinewidth": 0,
              "ticks": ""
             }
            },
            "type": "scatterpolargl"
           }
          ],
          "scatterternary": [
           {
            "marker": {
             "colorbar": {
              "outlinewidth": 0,
              "ticks": ""
             }
            },
            "type": "scatterternary"
           }
          ],
          "surface": [
           {
            "colorbar": {
             "outlinewidth": 0,
             "ticks": ""
            },
            "colorscale": [
             [
              0,
              "#0d0887"
             ],
             [
              0.1111111111111111,
              "#46039f"
             ],
             [
              0.2222222222222222,
              "#7201a8"
             ],
             [
              0.3333333333333333,
              "#9c179e"
             ],
             [
              0.4444444444444444,
              "#bd3786"
             ],
             [
              0.5555555555555556,
              "#d8576b"
             ],
             [
              0.6666666666666666,
              "#ed7953"
             ],
             [
              0.7777777777777778,
              "#fb9f3a"
             ],
             [
              0.8888888888888888,
              "#fdca26"
             ],
             [
              1,
              "#f0f921"
             ]
            ],
            "type": "surface"
           }
          ],
          "table": [
           {
            "cells": {
             "fill": {
              "color": "#EBF0F8"
             },
             "line": {
              "color": "white"
             }
            },
            "header": {
             "fill": {
              "color": "#C8D4E3"
             },
             "line": {
              "color": "white"
             }
            },
            "type": "table"
           }
          ]
         },
         "layout": {
          "annotationdefaults": {
           "arrowcolor": "#2a3f5f",
           "arrowhead": 0,
           "arrowwidth": 1
          },
          "autotypenumbers": "strict",
          "coloraxis": {
           "colorbar": {
            "outlinewidth": 0,
            "ticks": ""
           }
          },
          "colorscale": {
           "diverging": [
            [
             0,
             "#8e0152"
            ],
            [
             0.1,
             "#c51b7d"
            ],
            [
             0.2,
             "#de77ae"
            ],
            [
             0.3,
             "#f1b6da"
            ],
            [
             0.4,
             "#fde0ef"
            ],
            [
             0.5,
             "#f7f7f7"
            ],
            [
             0.6,
             "#e6f5d0"
            ],
            [
             0.7,
             "#b8e186"
            ],
            [
             0.8,
             "#7fbc41"
            ],
            [
             0.9,
             "#4d9221"
            ],
            [
             1,
             "#276419"
            ]
           ],
           "sequential": [
            [
             0,
             "#0d0887"
            ],
            [
             0.1111111111111111,
             "#46039f"
            ],
            [
             0.2222222222222222,
             "#7201a8"
            ],
            [
             0.3333333333333333,
             "#9c179e"
            ],
            [
             0.4444444444444444,
             "#bd3786"
            ],
            [
             0.5555555555555556,
             "#d8576b"
            ],
            [
             0.6666666666666666,
             "#ed7953"
            ],
            [
             0.7777777777777778,
             "#fb9f3a"
            ],
            [
             0.8888888888888888,
             "#fdca26"
            ],
            [
             1,
             "#f0f921"
            ]
           ],
           "sequentialminus": [
            [
             0,
             "#0d0887"
            ],
            [
             0.1111111111111111,
             "#46039f"
            ],
            [
             0.2222222222222222,
             "#7201a8"
            ],
            [
             0.3333333333333333,
             "#9c179e"
            ],
            [
             0.4444444444444444,
             "#bd3786"
            ],
            [
             0.5555555555555556,
             "#d8576b"
            ],
            [
             0.6666666666666666,
             "#ed7953"
            ],
            [
             0.7777777777777778,
             "#fb9f3a"
            ],
            [
             0.8888888888888888,
             "#fdca26"
            ],
            [
             1,
             "#f0f921"
            ]
           ]
          },
          "colorway": [
           "#636efa",
           "#EF553B",
           "#00cc96",
           "#ab63fa",
           "#FFA15A",
           "#19d3f3",
           "#FF6692",
           "#B6E880",
           "#FF97FF",
           "#FECB52"
          ],
          "font": {
           "color": "#2a3f5f"
          },
          "geo": {
           "bgcolor": "white",
           "lakecolor": "white",
           "landcolor": "#E5ECF6",
           "showlakes": true,
           "showland": true,
           "subunitcolor": "white"
          },
          "hoverlabel": {
           "align": "left"
          },
          "hovermode": "closest",
          "mapbox": {
           "style": "light"
          },
          "paper_bgcolor": "white",
          "plot_bgcolor": "#E5ECF6",
          "polar": {
           "angularaxis": {
            "gridcolor": "white",
            "linecolor": "white",
            "ticks": ""
           },
           "bgcolor": "#E5ECF6",
           "radialaxis": {
            "gridcolor": "white",
            "linecolor": "white",
            "ticks": ""
           }
          },
          "scene": {
           "xaxis": {
            "backgroundcolor": "#E5ECF6",
            "gridcolor": "white",
            "gridwidth": 2,
            "linecolor": "white",
            "showbackground": true,
            "ticks": "",
            "zerolinecolor": "white"
           },
           "yaxis": {
            "backgroundcolor": "#E5ECF6",
            "gridcolor": "white",
            "gridwidth": 2,
            "linecolor": "white",
            "showbackground": true,
            "ticks": "",
            "zerolinecolor": "white"
           },
           "zaxis": {
            "backgroundcolor": "#E5ECF6",
            "gridcolor": "white",
            "gridwidth": 2,
            "linecolor": "white",
            "showbackground": true,
            "ticks": "",
            "zerolinecolor": "white"
           }
          },
          "shapedefaults": {
           "line": {
            "color": "#2a3f5f"
           }
          },
          "ternary": {
           "aaxis": {
            "gridcolor": "white",
            "linecolor": "white",
            "ticks": ""
           },
           "baxis": {
            "gridcolor": "white",
            "linecolor": "white",
            "ticks": ""
           },
           "bgcolor": "#E5ECF6",
           "caxis": {
            "gridcolor": "white",
            "linecolor": "white",
            "ticks": ""
           }
          },
          "title": {
           "x": 0.05
          },
          "xaxis": {
           "automargin": true,
           "gridcolor": "white",
           "linecolor": "white",
           "ticks": "",
           "title": {
            "standoff": 15
           },
           "zerolinecolor": "white",
           "zerolinewidth": 2
          },
          "yaxis": {
           "automargin": true,
           "gridcolor": "white",
           "linecolor": "white",
           "ticks": "",
           "title": {
            "standoff": 15
           },
           "zerolinecolor": "white",
           "zerolinewidth": 2
          }
         }
        },
        "title": {
         "text": "ENGAGE 2C scenarios <br><sup>Global CO2 reductions by 2030</sup>",
         "x": 0,
         "xref": "paper"
        },
        "width": 600,
        "xaxis": {
         "anchor": "y",
         "domain": [
          0,
          1
         ],
         "title": {
          "text": "Scenario Narrative"
         }
        },
        "yaxis": {
         "anchor": "x",
         "domain": [
          0,
          1
         ],
         "tickformat": ".0%",
         "title": {
          "text": "CO2 reductions"
         }
        }
       }
      }
     },
     "metadata": {},
     "output_type": "display_data"
    }
   ],
   "source": [
    "# GLOBAL 2030\n",
    "filter_df = to_plot_df[to_plot_df[\"region\"] == \"World\"]\n",
    "fig = go.Figure(px.strip(\n",
    "    filter_df[(to_plot_df['reduction_year'] == '2030_CO2_redu')],#filter because I only need one row per model and scenario\n",
    "    x='scenario_narrative',\n",
    "    y='reduction_value',\n",
    "    color='model',\n",
    "    stripmode='overlay'))\n",
    "\n",
    "\n",
    "fig.add_trace(go.Box(\n",
    "    y = filter_df[(to_plot_df['reduction_year'] == '2030_CO2_redu') & (to_plot_df[\"scenario_narrative\"] == \"Instit\")][\"reduction_value\"],\n",
    "    name = \"Instit\",\n",
    "    marker_color='grey',\n",
    "    opacity=0.5,\n",
    "    boxpoints=False,\n",
    "    showlegend=False\n",
    "))\n",
    "\n",
    "fig.add_trace(go.Box(\n",
    "    y = filter_df[(to_plot_df['reduction_year'] == '2030_CO2_redu') & (to_plot_df[\"scenario_narrative\"] == \"Cost Effective\")][\"reduction_value\"],\n",
    "    name = \"Cost Effective\",\n",
    "    marker_color='grey',\n",
    "    opacity=0.3,\n",
    "    boxpoints=False,\n",
    "    showlegend=False\n",
    "))\n",
    "\n",
    "fig.update_traces({'marker':{'size': 8}})\n",
    "\n",
    "fig.update_layout(autosize=False,\n",
    "                  width=600,\n",
    "                  height=600,\n",
    "                  title = go.layout.Title(\n",
    "                    text=\"ENGAGE 2C scenarios <br><sup>Global CO2 reductions by 2030</sup>\",\n",
    "                    xref=\"paper\",\n",
    "                    x=0),\n",
    "                  xaxis_title=\"Scenario Narrative\",\n",
    "                  yaxis_title = \"CO2 reductions\",\n",
    "                  yaxis_tickformat='.0%')\n",
    "    \n",
    "fig"
   ]
  },
  {
   "cell_type": "code",
   "execution_count": 38,
   "metadata": {},
   "outputs": [
    {
     "name": "stderr",
     "output_type": "stream",
     "text": [
      "C:\\Users\\scheifinger\\AppData\\Local\\Temp\\ipykernel_4416\\2741664121.py:4: UserWarning:\n",
      "\n",
      "Boolean Series key will be reindexed to match DataFrame index.\n",
      "\n",
      "C:\\Users\\scheifinger\\AppData\\Local\\Temp\\ipykernel_4416\\2741664121.py:12: UserWarning:\n",
      "\n",
      "Boolean Series key will be reindexed to match DataFrame index.\n",
      "\n",
      "C:\\Users\\scheifinger\\AppData\\Local\\Temp\\ipykernel_4416\\2741664121.py:21: UserWarning:\n",
      "\n",
      "Boolean Series key will be reindexed to match DataFrame index.\n",
      "\n",
      "C:\\Users\\scheifinger\\AppData\\Local\\Temp\\ipykernel_4416\\2741664121.py:30: UserWarning:\n",
      "\n",
      "Boolean Series key will be reindexed to match DataFrame index.\n",
      "\n",
      "C:\\Users\\scheifinger\\AppData\\Local\\Temp\\ipykernel_4416\\2741664121.py:39: UserWarning:\n",
      "\n",
      "Boolean Series key will be reindexed to match DataFrame index.\n",
      "\n"
     ]
    },
    {
     "data": {
      "application/vnd.plotly.v1+json": {
       "config": {
        "plotlyServerURL": "https://plot.ly"
       },
       "data": [
        {
         "alignmentgroup": "True",
         "boxpoints": "all",
         "fillcolor": "rgba(255,255,255,0)",
         "hoveron": "points",
         "hovertemplate": "model=AIM/CGE V2.2<br>scenario_narrative=%{x}<br>reduction_value=%{y}<extra></extra>",
         "legendgroup": "AIM/CGE V2.2",
         "line": {
          "color": "rgba(255,255,255,0)"
         },
         "marker": {
          "color": "#636efa",
          "size": 8
         },
         "name": "AIM/CGE V2.2",
         "offsetgroup": "AIM/CGE V2.2",
         "orientation": "v",
         "pointpos": 0,
         "showlegend": true,
         "type": "box",
         "x": [
          "Instit",
          "Cost Effective",
          "NDC",
          "Current Policy"
         ],
         "x0": " ",
         "xaxis": "x",
         "y": [
          0.21833576511088226,
          0.2475844294895769,
          0.04574317323788894,
          -0.0436043909599703
         ],
         "y0": " ",
         "yaxis": "y"
        },
        {
         "alignmentgroup": "True",
         "boxpoints": "all",
         "fillcolor": "rgba(255,255,255,0)",
         "hoveron": "points",
         "hovertemplate": "model=COFFEE 1.5<br>scenario_narrative=%{x}<br>reduction_value=%{y}<extra></extra>",
         "legendgroup": "COFFEE 1.5",
         "line": {
          "color": "rgba(255,255,255,0)"
         },
         "marker": {
          "color": "#EF553B",
          "size": 8
         },
         "name": "COFFEE 1.5",
         "offsetgroup": "COFFEE 1.5",
         "orientation": "v",
         "pointpos": 0,
         "showlegend": true,
         "type": "box",
         "x": [
          "Cost Effective",
          "Current Policy"
         ],
         "x0": " ",
         "xaxis": "x",
         "y": [
          0.1118504740914091,
          -0.02786658171928128
         ],
         "y0": " ",
         "yaxis": "y"
        },
        {
         "alignmentgroup": "True",
         "boxpoints": "all",
         "fillcolor": "rgba(255,255,255,0)",
         "hoveron": "points",
         "hovertemplate": "model=GEM-E3_V2023<br>scenario_narrative=%{x}<br>reduction_value=%{y}<extra></extra>",
         "legendgroup": "GEM-E3_V2023",
         "line": {
          "color": "rgba(255,255,255,0)"
         },
         "marker": {
          "color": "#00cc96",
          "size": 8
         },
         "name": "GEM-E3_V2023",
         "offsetgroup": "GEM-E3_V2023",
         "orientation": "v",
         "pointpos": 0,
         "showlegend": true,
         "type": "box",
         "x": [
          "Instit",
          "Cost Effective",
          "NDC",
          "Current Policy"
         ],
         "x0": " ",
         "xaxis": "x",
         "y": [
          0.16677098683471817,
          0.16585324384940472,
          0.10050156734288884,
          0.022980607306182135
         ],
         "y0": " ",
         "yaxis": "y"
        },
        {
         "alignmentgroup": "True",
         "boxpoints": "all",
         "fillcolor": "rgba(255,255,255,0)",
         "hoveron": "points",
         "hovertemplate": "model=IMAGE 3.2<br>scenario_narrative=%{x}<br>reduction_value=%{y}<extra></extra>",
         "legendgroup": "IMAGE 3.2",
         "line": {
          "color": "rgba(255,255,255,0)"
         },
         "marker": {
          "color": "#ab63fa",
          "size": 8
         },
         "name": "IMAGE 3.2",
         "offsetgroup": "IMAGE 3.2",
         "orientation": "v",
         "pointpos": 0,
         "showlegend": true,
         "type": "box",
         "x": [
          "Instit",
          "Cost Effective",
          "NDC",
          "Current Policy"
         ],
         "x0": " ",
         "xaxis": "x",
         "y": [
          0.160854721093494,
          0.24220762950586733,
          0.008615266029197868,
          -0.10028134572831589
         ],
         "y0": " ",
         "yaxis": "y"
        },
        {
         "alignmentgroup": "True",
         "boxpoints": "all",
         "fillcolor": "rgba(255,255,255,0)",
         "hoveron": "points",
         "hovertemplate": "model=MESSAGEix-GLOBIOM_1.1<br>scenario_narrative=%{x}<br>reduction_value=%{y}<extra></extra>",
         "legendgroup": "MESSAGEix-GLOBIOM_1.1",
         "line": {
          "color": "rgba(255,255,255,0)"
         },
         "marker": {
          "color": "#FFA15A",
          "size": 8
         },
         "name": "MESSAGEix-GLOBIOM_1.1",
         "offsetgroup": "MESSAGEix-GLOBIOM_1.1",
         "orientation": "v",
         "pointpos": 0,
         "showlegend": true,
         "type": "box",
         "x": [
          "Instit",
          "Cost Effective"
         ],
         "x0": " ",
         "xaxis": "x",
         "y": [
          0.2305038960259554,
          0.30426085350928456
         ],
         "y0": " ",
         "yaxis": "y"
        },
        {
         "alignmentgroup": "True",
         "boxpoints": "all",
         "fillcolor": "rgba(255,255,255,0)",
         "hoveron": "points",
         "hovertemplate": "model=POLES ENGAGE<br>scenario_narrative=%{x}<br>reduction_value=%{y}<extra></extra>",
         "legendgroup": "POLES ENGAGE",
         "line": {
          "color": "rgba(255,255,255,0)"
         },
         "marker": {
          "color": "#19d3f3",
          "size": 8
         },
         "name": "POLES ENGAGE",
         "offsetgroup": "POLES ENGAGE",
         "orientation": "v",
         "pointpos": 0,
         "showlegend": true,
         "type": "box",
         "x": [
          "Instit",
          "Cost Effective",
          "NDC",
          "Current Policy"
         ],
         "x0": " ",
         "xaxis": "x",
         "y": [
          0.20066467474897637,
          0.19239051053140205,
          0.06059295127496329,
          -0.022592824497882396
         ],
         "y0": " ",
         "yaxis": "y"
        },
        {
         "alignmentgroup": "True",
         "boxpoints": "all",
         "fillcolor": "rgba(255,255,255,0)",
         "hoveron": "points",
         "hovertemplate": "model=REMIND 3.0<br>scenario_narrative=%{x}<br>reduction_value=%{y}<extra></extra>",
         "legendgroup": "REMIND 3.0",
         "line": {
          "color": "rgba(255,255,255,0)"
         },
         "marker": {
          "color": "#FF6692",
          "size": 8
         },
         "name": "REMIND 3.0",
         "offsetgroup": "REMIND 3.0",
         "orientation": "v",
         "pointpos": 0,
         "showlegend": true,
         "type": "box",
         "x": [
          "Instit",
          "Cost Effective",
          "NDC",
          "Current Policy"
         ],
         "x0": " ",
         "xaxis": "x",
         "y": [
          0.21352085930054884,
          0.21088547311897723,
          0.13306659838909027,
          0.04498912120608974
         ],
         "y0": " ",
         "yaxis": "y"
        },
        {
         "alignmentgroup": "True",
         "boxpoints": "all",
         "fillcolor": "rgba(255,255,255,0)",
         "hoveron": "points",
         "hovertemplate": "model=WITCH 5.0<br>scenario_narrative=%{x}<br>reduction_value=%{y}<extra></extra>",
         "legendgroup": "WITCH 5.0",
         "line": {
          "color": "rgba(255,255,255,0)"
         },
         "marker": {
          "color": "#B6E880",
          "size": 8
         },
         "name": "WITCH 5.0",
         "offsetgroup": "WITCH 5.0",
         "orientation": "v",
         "pointpos": 0,
         "showlegend": true,
         "type": "box",
         "x": [
          "Instit",
          "Cost Effective",
          "NDC",
          "Current Policy"
         ],
         "x0": " ",
         "xaxis": "x",
         "y": [
          0.2913229756919772,
          0.45958632493761675,
          0.13458588579243938,
          0.01841356731216221
         ],
         "y0": " ",
         "yaxis": "y"
        },
        {
         "boxpoints": false,
         "marker": {
          "color": "grey",
          "size": 8
         },
         "name": "Instit",
         "opacity": 0.5,
         "showlegend": false,
         "type": "box",
         "y": [
          0.21833576511088226,
          0.16677098683471817,
          0.160854721093494,
          0.2305038960259554,
          0.20066467474897637,
          0.21352085930054884,
          0.2913229756919772
         ]
        },
        {
         "boxpoints": false,
         "marker": {
          "color": "grey",
          "size": 8
         },
         "name": "Cost Effective",
         "opacity": 0.3,
         "showlegend": false,
         "type": "box",
         "y": [
          0.2475844294895769,
          0.1118504740914091,
          0.16585324384940472,
          0.24220762950586733,
          0.30426085350928456,
          0.19239051053140205,
          0.21088547311897723,
          0.45958632493761675
         ]
        },
        {
         "boxpoints": false,
         "marker": {
          "color": "grey",
          "size": 8
         },
         "name": "NDC",
         "opacity": 0.3,
         "showlegend": false,
         "type": "box",
         "y": [
          0.04574317323788894,
          0.10050156734288884,
          0.008615266029197868,
          0.06059295127496329,
          0.13306659838909027,
          0.13458588579243938
         ]
        },
        {
         "boxpoints": false,
         "marker": {
          "color": "grey",
          "size": 8
         },
         "name": "Current Policy",
         "opacity": 0.3,
         "showlegend": false,
         "type": "box",
         "y": [
          -0.0436043909599703,
          -0.02786658171928128,
          0.022980607306182135,
          -0.10028134572831589,
          -0.022592824497882396,
          0.04498912120608974,
          0.01841356731216221
         ]
        }
       ],
       "layout": {
        "autosize": false,
        "boxmode": "overlay",
        "height": 600,
        "legend": {
         "title": {
          "text": "model"
         },
         "tracegroupgap": 0
        },
        "margin": {
         "t": 60
        },
        "template": {
         "data": {
          "bar": [
           {
            "error_x": {
             "color": "#2a3f5f"
            },
            "error_y": {
             "color": "#2a3f5f"
            },
            "marker": {
             "line": {
              "color": "#E5ECF6",
              "width": 0.5
             },
             "pattern": {
              "fillmode": "overlay",
              "size": 10,
              "solidity": 0.2
             }
            },
            "type": "bar"
           }
          ],
          "barpolar": [
           {
            "marker": {
             "line": {
              "color": "#E5ECF6",
              "width": 0.5
             },
             "pattern": {
              "fillmode": "overlay",
              "size": 10,
              "solidity": 0.2
             }
            },
            "type": "barpolar"
           }
          ],
          "carpet": [
           {
            "aaxis": {
             "endlinecolor": "#2a3f5f",
             "gridcolor": "white",
             "linecolor": "white",
             "minorgridcolor": "white",
             "startlinecolor": "#2a3f5f"
            },
            "baxis": {
             "endlinecolor": "#2a3f5f",
             "gridcolor": "white",
             "linecolor": "white",
             "minorgridcolor": "white",
             "startlinecolor": "#2a3f5f"
            },
            "type": "carpet"
           }
          ],
          "choropleth": [
           {
            "colorbar": {
             "outlinewidth": 0,
             "ticks": ""
            },
            "type": "choropleth"
           }
          ],
          "contour": [
           {
            "colorbar": {
             "outlinewidth": 0,
             "ticks": ""
            },
            "colorscale": [
             [
              0,
              "#0d0887"
             ],
             [
              0.1111111111111111,
              "#46039f"
             ],
             [
              0.2222222222222222,
              "#7201a8"
             ],
             [
              0.3333333333333333,
              "#9c179e"
             ],
             [
              0.4444444444444444,
              "#bd3786"
             ],
             [
              0.5555555555555556,
              "#d8576b"
             ],
             [
              0.6666666666666666,
              "#ed7953"
             ],
             [
              0.7777777777777778,
              "#fb9f3a"
             ],
             [
              0.8888888888888888,
              "#fdca26"
             ],
             [
              1,
              "#f0f921"
             ]
            ],
            "type": "contour"
           }
          ],
          "contourcarpet": [
           {
            "colorbar": {
             "outlinewidth": 0,
             "ticks": ""
            },
            "type": "contourcarpet"
           }
          ],
          "heatmap": [
           {
            "colorbar": {
             "outlinewidth": 0,
             "ticks": ""
            },
            "colorscale": [
             [
              0,
              "#0d0887"
             ],
             [
              0.1111111111111111,
              "#46039f"
             ],
             [
              0.2222222222222222,
              "#7201a8"
             ],
             [
              0.3333333333333333,
              "#9c179e"
             ],
             [
              0.4444444444444444,
              "#bd3786"
             ],
             [
              0.5555555555555556,
              "#d8576b"
             ],
             [
              0.6666666666666666,
              "#ed7953"
             ],
             [
              0.7777777777777778,
              "#fb9f3a"
             ],
             [
              0.8888888888888888,
              "#fdca26"
             ],
             [
              1,
              "#f0f921"
             ]
            ],
            "type": "heatmap"
           }
          ],
          "heatmapgl": [
           {
            "colorbar": {
             "outlinewidth": 0,
             "ticks": ""
            },
            "colorscale": [
             [
              0,
              "#0d0887"
             ],
             [
              0.1111111111111111,
              "#46039f"
             ],
             [
              0.2222222222222222,
              "#7201a8"
             ],
             [
              0.3333333333333333,
              "#9c179e"
             ],
             [
              0.4444444444444444,
              "#bd3786"
             ],
             [
              0.5555555555555556,
              "#d8576b"
             ],
             [
              0.6666666666666666,
              "#ed7953"
             ],
             [
              0.7777777777777778,
              "#fb9f3a"
             ],
             [
              0.8888888888888888,
              "#fdca26"
             ],
             [
              1,
              "#f0f921"
             ]
            ],
            "type": "heatmapgl"
           }
          ],
          "histogram": [
           {
            "marker": {
             "pattern": {
              "fillmode": "overlay",
              "size": 10,
              "solidity": 0.2
             }
            },
            "type": "histogram"
           }
          ],
          "histogram2d": [
           {
            "colorbar": {
             "outlinewidth": 0,
             "ticks": ""
            },
            "colorscale": [
             [
              0,
              "#0d0887"
             ],
             [
              0.1111111111111111,
              "#46039f"
             ],
             [
              0.2222222222222222,
              "#7201a8"
             ],
             [
              0.3333333333333333,
              "#9c179e"
             ],
             [
              0.4444444444444444,
              "#bd3786"
             ],
             [
              0.5555555555555556,
              "#d8576b"
             ],
             [
              0.6666666666666666,
              "#ed7953"
             ],
             [
              0.7777777777777778,
              "#fb9f3a"
             ],
             [
              0.8888888888888888,
              "#fdca26"
             ],
             [
              1,
              "#f0f921"
             ]
            ],
            "type": "histogram2d"
           }
          ],
          "histogram2dcontour": [
           {
            "colorbar": {
             "outlinewidth": 0,
             "ticks": ""
            },
            "colorscale": [
             [
              0,
              "#0d0887"
             ],
             [
              0.1111111111111111,
              "#46039f"
             ],
             [
              0.2222222222222222,
              "#7201a8"
             ],
             [
              0.3333333333333333,
              "#9c179e"
             ],
             [
              0.4444444444444444,
              "#bd3786"
             ],
             [
              0.5555555555555556,
              "#d8576b"
             ],
             [
              0.6666666666666666,
              "#ed7953"
             ],
             [
              0.7777777777777778,
              "#fb9f3a"
             ],
             [
              0.8888888888888888,
              "#fdca26"
             ],
             [
              1,
              "#f0f921"
             ]
            ],
            "type": "histogram2dcontour"
           }
          ],
          "mesh3d": [
           {
            "colorbar": {
             "outlinewidth": 0,
             "ticks": ""
            },
            "type": "mesh3d"
           }
          ],
          "parcoords": [
           {
            "line": {
             "colorbar": {
              "outlinewidth": 0,
              "ticks": ""
             }
            },
            "type": "parcoords"
           }
          ],
          "pie": [
           {
            "automargin": true,
            "type": "pie"
           }
          ],
          "scatter": [
           {
            "fillpattern": {
             "fillmode": "overlay",
             "size": 10,
             "solidity": 0.2
            },
            "type": "scatter"
           }
          ],
          "scatter3d": [
           {
            "line": {
             "colorbar": {
              "outlinewidth": 0,
              "ticks": ""
             }
            },
            "marker": {
             "colorbar": {
              "outlinewidth": 0,
              "ticks": ""
             }
            },
            "type": "scatter3d"
           }
          ],
          "scattercarpet": [
           {
            "marker": {
             "colorbar": {
              "outlinewidth": 0,
              "ticks": ""
             }
            },
            "type": "scattercarpet"
           }
          ],
          "scattergeo": [
           {
            "marker": {
             "colorbar": {
              "outlinewidth": 0,
              "ticks": ""
             }
            },
            "type": "scattergeo"
           }
          ],
          "scattergl": [
           {
            "marker": {
             "colorbar": {
              "outlinewidth": 0,
              "ticks": ""
             }
            },
            "type": "scattergl"
           }
          ],
          "scattermapbox": [
           {
            "marker": {
             "colorbar": {
              "outlinewidth": 0,
              "ticks": ""
             }
            },
            "type": "scattermapbox"
           }
          ],
          "scatterpolar": [
           {
            "marker": {
             "colorbar": {
              "outlinewidth": 0,
              "ticks": ""
             }
            },
            "type": "scatterpolar"
           }
          ],
          "scatterpolargl": [
           {
            "marker": {
             "colorbar": {
              "outlinewidth": 0,
              "ticks": ""
             }
            },
            "type": "scatterpolargl"
           }
          ],
          "scatterternary": [
           {
            "marker": {
             "colorbar": {
              "outlinewidth": 0,
              "ticks": ""
             }
            },
            "type": "scatterternary"
           }
          ],
          "surface": [
           {
            "colorbar": {
             "outlinewidth": 0,
             "ticks": ""
            },
            "colorscale": [
             [
              0,
              "#0d0887"
             ],
             [
              0.1111111111111111,
              "#46039f"
             ],
             [
              0.2222222222222222,
              "#7201a8"
             ],
             [
              0.3333333333333333,
              "#9c179e"
             ],
             [
              0.4444444444444444,
              "#bd3786"
             ],
             [
              0.5555555555555556,
              "#d8576b"
             ],
             [
              0.6666666666666666,
              "#ed7953"
             ],
             [
              0.7777777777777778,
              "#fb9f3a"
             ],
             [
              0.8888888888888888,
              "#fdca26"
             ],
             [
              1,
              "#f0f921"
             ]
            ],
            "type": "surface"
           }
          ],
          "table": [
           {
            "cells": {
             "fill": {
              "color": "#EBF0F8"
             },
             "line": {
              "color": "white"
             }
            },
            "header": {
             "fill": {
              "color": "#C8D4E3"
             },
             "line": {
              "color": "white"
             }
            },
            "type": "table"
           }
          ]
         },
         "layout": {
          "annotationdefaults": {
           "arrowcolor": "#2a3f5f",
           "arrowhead": 0,
           "arrowwidth": 1
          },
          "autotypenumbers": "strict",
          "coloraxis": {
           "colorbar": {
            "outlinewidth": 0,
            "ticks": ""
           }
          },
          "colorscale": {
           "diverging": [
            [
             0,
             "#8e0152"
            ],
            [
             0.1,
             "#c51b7d"
            ],
            [
             0.2,
             "#de77ae"
            ],
            [
             0.3,
             "#f1b6da"
            ],
            [
             0.4,
             "#fde0ef"
            ],
            [
             0.5,
             "#f7f7f7"
            ],
            [
             0.6,
             "#e6f5d0"
            ],
            [
             0.7,
             "#b8e186"
            ],
            [
             0.8,
             "#7fbc41"
            ],
            [
             0.9,
             "#4d9221"
            ],
            [
             1,
             "#276419"
            ]
           ],
           "sequential": [
            [
             0,
             "#0d0887"
            ],
            [
             0.1111111111111111,
             "#46039f"
            ],
            [
             0.2222222222222222,
             "#7201a8"
            ],
            [
             0.3333333333333333,
             "#9c179e"
            ],
            [
             0.4444444444444444,
             "#bd3786"
            ],
            [
             0.5555555555555556,
             "#d8576b"
            ],
            [
             0.6666666666666666,
             "#ed7953"
            ],
            [
             0.7777777777777778,
             "#fb9f3a"
            ],
            [
             0.8888888888888888,
             "#fdca26"
            ],
            [
             1,
             "#f0f921"
            ]
           ],
           "sequentialminus": [
            [
             0,
             "#0d0887"
            ],
            [
             0.1111111111111111,
             "#46039f"
            ],
            [
             0.2222222222222222,
             "#7201a8"
            ],
            [
             0.3333333333333333,
             "#9c179e"
            ],
            [
             0.4444444444444444,
             "#bd3786"
            ],
            [
             0.5555555555555556,
             "#d8576b"
            ],
            [
             0.6666666666666666,
             "#ed7953"
            ],
            [
             0.7777777777777778,
             "#fb9f3a"
            ],
            [
             0.8888888888888888,
             "#fdca26"
            ],
            [
             1,
             "#f0f921"
            ]
           ]
          },
          "colorway": [
           "#636efa",
           "#EF553B",
           "#00cc96",
           "#ab63fa",
           "#FFA15A",
           "#19d3f3",
           "#FF6692",
           "#B6E880",
           "#FF97FF",
           "#FECB52"
          ],
          "font": {
           "color": "#2a3f5f"
          },
          "geo": {
           "bgcolor": "white",
           "lakecolor": "white",
           "landcolor": "#E5ECF6",
           "showlakes": true,
           "showland": true,
           "subunitcolor": "white"
          },
          "hoverlabel": {
           "align": "left"
          },
          "hovermode": "closest",
          "mapbox": {
           "style": "light"
          },
          "paper_bgcolor": "white",
          "plot_bgcolor": "#E5ECF6",
          "polar": {
           "angularaxis": {
            "gridcolor": "white",
            "linecolor": "white",
            "ticks": ""
           },
           "bgcolor": "#E5ECF6",
           "radialaxis": {
            "gridcolor": "white",
            "linecolor": "white",
            "ticks": ""
           }
          },
          "scene": {
           "xaxis": {
            "backgroundcolor": "#E5ECF6",
            "gridcolor": "white",
            "gridwidth": 2,
            "linecolor": "white",
            "showbackground": true,
            "ticks": "",
            "zerolinecolor": "white"
           },
           "yaxis": {
            "backgroundcolor": "#E5ECF6",
            "gridcolor": "white",
            "gridwidth": 2,
            "linecolor": "white",
            "showbackground": true,
            "ticks": "",
            "zerolinecolor": "white"
           },
           "zaxis": {
            "backgroundcolor": "#E5ECF6",
            "gridcolor": "white",
            "gridwidth": 2,
            "linecolor": "white",
            "showbackground": true,
            "ticks": "",
            "zerolinecolor": "white"
           }
          },
          "shapedefaults": {
           "line": {
            "color": "#2a3f5f"
           }
          },
          "ternary": {
           "aaxis": {
            "gridcolor": "white",
            "linecolor": "white",
            "ticks": ""
           },
           "baxis": {
            "gridcolor": "white",
            "linecolor": "white",
            "ticks": ""
           },
           "bgcolor": "#E5ECF6",
           "caxis": {
            "gridcolor": "white",
            "linecolor": "white",
            "ticks": ""
           }
          },
          "title": {
           "x": 0.05
          },
          "xaxis": {
           "automargin": true,
           "gridcolor": "white",
           "linecolor": "white",
           "ticks": "",
           "title": {
            "standoff": 15
           },
           "zerolinecolor": "white",
           "zerolinewidth": 2
          },
          "yaxis": {
           "automargin": true,
           "gridcolor": "white",
           "linecolor": "white",
           "ticks": "",
           "title": {
            "standoff": 15
           },
           "zerolinecolor": "white",
           "zerolinewidth": 2
          }
         }
        },
        "title": {
         "text": "ENGAGE 2C scenarios <br><sup>Global CO2 reductions by 2030</sup>",
         "x": 0,
         "xref": "paper"
        },
        "width": 600,
        "xaxis": {
         "anchor": "y",
         "domain": [
          0,
          1
         ],
         "title": {
          "text": "Scenario Narrative"
         }
        },
        "yaxis": {
         "anchor": "x",
         "domain": [
          0,
          1
         ],
         "tickformat": ".0%",
         "title": {
          "text": "CO2 reductions"
         }
        }
       }
      }
     },
     "metadata": {},
     "output_type": "display_data"
    }
   ],
   "source": [
    "# GLOBAL 2030 + Current policies\n",
    "filter_df = to_plot_df[to_plot_df[\"region\"] == \"World\"]\n",
    "fig = go.Figure(px.strip(\n",
    "    filter_df[(to_plot_df['reduction_year'] == '2030_CO2_redu')],#filter because I only need one row per model and scenario\n",
    "    x='scenario_narrative',\n",
    "    y='reduction_value',\n",
    "    color='model',\n",
    "    stripmode='overlay'))\n",
    "\n",
    "\n",
    "fig.add_trace(go.Box(\n",
    "    y = filter_df[(to_plot_df['reduction_year'] == '2030_CO2_redu') & (to_plot_df[\"scenario_narrative\"] == \"Instit\")][\"reduction_value\"],\n",
    "    name = \"Instit\",\n",
    "    marker_color='grey',\n",
    "    opacity=0.5,\n",
    "    boxpoints=False,\n",
    "    showlegend=False\n",
    "))\n",
    "\n",
    "fig.add_trace(go.Box(\n",
    "    y = filter_df[(to_plot_df['reduction_year'] == '2030_CO2_redu') & (to_plot_df[\"scenario_narrative\"] == \"Cost Effective\")][\"reduction_value\"],\n",
    "    name = \"Cost Effective\",\n",
    "    marker_color='grey',\n",
    "    opacity=0.3,\n",
    "    boxpoints=False,\n",
    "    showlegend=False\n",
    "))\n",
    "\n",
    "fig.add_trace(go.Box(\n",
    "    y = filter_df[(to_plot_df['reduction_year'] == '2030_CO2_redu') & (to_plot_df[\"scenario_narrative\"] == \"NDC\")][\"reduction_value\"],\n",
    "    name = \"NDC\",\n",
    "    marker_color='grey',\n",
    "    opacity=0.3,\n",
    "    boxpoints=False,\n",
    "    showlegend=False\n",
    "))\n",
    "\n",
    "fig.add_trace(go.Box(\n",
    "    y = filter_df[(to_plot_df['reduction_year'] == '2030_CO2_redu') & (to_plot_df[\"scenario_narrative\"] == \"Current Policy\")][\"reduction_value\"],\n",
    "    name = \"Current Policy\",\n",
    "    marker_color='grey',\n",
    "    opacity=0.3,\n",
    "    boxpoints=False,\n",
    "    showlegend=False\n",
    "))\n",
    "\n",
    "fig.update_traces({'marker':{'size': 8}})\n",
    "\n",
    "fig.update_layout(autosize=False,\n",
    "                  width=600,\n",
    "                  height=600,\n",
    "                  title = go.layout.Title(\n",
    "                    text=\"ENGAGE 2C scenarios <br><sup>Global CO2 reductions by 2030</sup>\",\n",
    "                    xref=\"paper\",\n",
    "                    x=0),\n",
    "                  xaxis_title=\"Scenario Narrative\",\n",
    "                  yaxis_title = \"CO2 reductions\",\n",
    "                  yaxis_tickformat='.0%')\n",
    "    \n",
    "fig"
   ]
  },
  {
   "cell_type": "code",
   "execution_count": 22,
   "metadata": {},
   "outputs": [
    {
     "ename": "KeyError",
     "evalue": "'year'",
     "output_type": "error",
     "traceback": [
      "\u001b[1;31m---------------------------------------------------------------------------\u001b[0m",
      "\u001b[1;31mKeyError\u001b[0m                                  Traceback (most recent call last)",
      "File \u001b[1;32mc:\\Users\\scheifinger\\AppData\\Local\\anaconda3\\envs\\Streamlit\\lib\\site-packages\\pandas\\core\\indexes\\base.py:3652\u001b[0m, in \u001b[0;36mIndex.get_loc\u001b[1;34m(self, key)\u001b[0m\n\u001b[0;32m   3651\u001b[0m \u001b[39mtry\u001b[39;00m:\n\u001b[1;32m-> 3652\u001b[0m     \u001b[39mreturn\u001b[39;00m \u001b[39mself\u001b[39;49m\u001b[39m.\u001b[39;49m_engine\u001b[39m.\u001b[39;49mget_loc(casted_key)\n\u001b[0;32m   3653\u001b[0m \u001b[39mexcept\u001b[39;00m \u001b[39mKeyError\u001b[39;00m \u001b[39mas\u001b[39;00m err:\n",
      "File \u001b[1;32mc:\\Users\\scheifinger\\AppData\\Local\\anaconda3\\envs\\Streamlit\\lib\\site-packages\\pandas\\_libs\\index.pyx:147\u001b[0m, in \u001b[0;36mpandas._libs.index.IndexEngine.get_loc\u001b[1;34m()\u001b[0m\n",
      "File \u001b[1;32mc:\\Users\\scheifinger\\AppData\\Local\\anaconda3\\envs\\Streamlit\\lib\\site-packages\\pandas\\_libs\\index.pyx:176\u001b[0m, in \u001b[0;36mpandas._libs.index.IndexEngine.get_loc\u001b[1;34m()\u001b[0m\n",
      "File \u001b[1;32mpandas\\_libs\\hashtable_class_helper.pxi:7080\u001b[0m, in \u001b[0;36mpandas._libs.hashtable.PyObjectHashTable.get_item\u001b[1;34m()\u001b[0m\n",
      "File \u001b[1;32mpandas\\_libs\\hashtable_class_helper.pxi:7088\u001b[0m, in \u001b[0;36mpandas._libs.hashtable.PyObjectHashTable.get_item\u001b[1;34m()\u001b[0m\n",
      "\u001b[1;31mKeyError\u001b[0m: 'year'",
      "\nThe above exception was the direct cause of the following exception:\n",
      "\u001b[1;31mKeyError\u001b[0m                                  Traceback (most recent call last)",
      "Cell \u001b[1;32mIn[22], line 3\u001b[0m\n\u001b[0;32m      1\u001b[0m \u001b[39m# GLOBAL 2040\u001b[39;00m\n\u001b[0;32m      2\u001b[0m fig \u001b[39m=\u001b[39m go\u001b[39m.\u001b[39mFigure(px\u001b[39m.\u001b[39mstrip(\n\u001b[1;32m----> 3\u001b[0m     to_plot_df[(to_plot_df[\u001b[39m'\u001b[39;49m\u001b[39myear\u001b[39;49m\u001b[39m'\u001b[39;49m] \u001b[39m==\u001b[39m \u001b[39m2030\u001b[39m)],\u001b[39m#filter because I only need one row per model and scenario\u001b[39;00m\n\u001b[0;32m      4\u001b[0m     x\u001b[39m=\u001b[39m\u001b[39m'\u001b[39m\u001b[39mscenario_narrative\u001b[39m\u001b[39m'\u001b[39m,\n\u001b[0;32m      5\u001b[0m     y\u001b[39m=\u001b[39m\u001b[39m'\u001b[39m\u001b[39m2040_CO2_redu\u001b[39m\u001b[39m'\u001b[39m,\n\u001b[0;32m      6\u001b[0m     color\u001b[39m=\u001b[39m\u001b[39m'\u001b[39m\u001b[39mmodel\u001b[39m\u001b[39m'\u001b[39m,\n\u001b[0;32m      7\u001b[0m     stripmode\u001b[39m=\u001b[39m\u001b[39m'\u001b[39m\u001b[39moverlay\u001b[39m\u001b[39m'\u001b[39m))\n\u001b[0;32m     10\u001b[0m fig\u001b[39m.\u001b[39madd_trace(go\u001b[39m.\u001b[39mBox(\n\u001b[0;32m     11\u001b[0m     y \u001b[39m=\u001b[39m to_plot_df[(to_plot_df[\u001b[39m'\u001b[39m\u001b[39myear\u001b[39m\u001b[39m'\u001b[39m] \u001b[39m==\u001b[39m \u001b[39m2030\u001b[39m) \u001b[39m&\u001b[39m (to_plot_df[\u001b[39m\"\u001b[39m\u001b[39mscenario_narrative\u001b[39m\u001b[39m\"\u001b[39m] \u001b[39m==\u001b[39m \u001b[39m\"\u001b[39m\u001b[39mInstit\u001b[39m\u001b[39m\"\u001b[39m)][\u001b[39m\"\u001b[39m\u001b[39m2040_CO2_redu\u001b[39m\u001b[39m\"\u001b[39m],\n\u001b[0;32m     12\u001b[0m     name \u001b[39m=\u001b[39m \u001b[39m\"\u001b[39m\u001b[39mInstit\u001b[39m\u001b[39m\"\u001b[39m,\n\u001b[1;32m   (...)\u001b[0m\n\u001b[0;32m     16\u001b[0m     showlegend\u001b[39m=\u001b[39m\u001b[39mFalse\u001b[39;00m\n\u001b[0;32m     17\u001b[0m ))\n\u001b[0;32m     19\u001b[0m fig\u001b[39m.\u001b[39madd_trace(go\u001b[39m.\u001b[39mBox(\n\u001b[0;32m     20\u001b[0m     y \u001b[39m=\u001b[39m to_plot_df[(to_plot_df[\u001b[39m'\u001b[39m\u001b[39myear\u001b[39m\u001b[39m'\u001b[39m] \u001b[39m==\u001b[39m \u001b[39m2030\u001b[39m) \u001b[39m&\u001b[39m (to_plot_df[\u001b[39m\"\u001b[39m\u001b[39mscenario_narrative\u001b[39m\u001b[39m\"\u001b[39m] \u001b[39m==\u001b[39m \u001b[39m\"\u001b[39m\u001b[39mCost Effective\u001b[39m\u001b[39m\"\u001b[39m)][\u001b[39m\"\u001b[39m\u001b[39m2040_CO2_redu\u001b[39m\u001b[39m\"\u001b[39m],\n\u001b[0;32m     21\u001b[0m     name \u001b[39m=\u001b[39m \u001b[39m\"\u001b[39m\u001b[39mCost Effective\u001b[39m\u001b[39m\"\u001b[39m,\n\u001b[1;32m   (...)\u001b[0m\n\u001b[0;32m     25\u001b[0m     showlegend\u001b[39m=\u001b[39m\u001b[39mFalse\u001b[39;00m\n\u001b[0;32m     26\u001b[0m ))\n",
      "File \u001b[1;32mc:\\Users\\scheifinger\\AppData\\Local\\anaconda3\\envs\\Streamlit\\lib\\site-packages\\pandas\\core\\frame.py:3761\u001b[0m, in \u001b[0;36mDataFrame.__getitem__\u001b[1;34m(self, key)\u001b[0m\n\u001b[0;32m   3759\u001b[0m \u001b[39mif\u001b[39;00m \u001b[39mself\u001b[39m\u001b[39m.\u001b[39mcolumns\u001b[39m.\u001b[39mnlevels \u001b[39m>\u001b[39m \u001b[39m1\u001b[39m:\n\u001b[0;32m   3760\u001b[0m     \u001b[39mreturn\u001b[39;00m \u001b[39mself\u001b[39m\u001b[39m.\u001b[39m_getitem_multilevel(key)\n\u001b[1;32m-> 3761\u001b[0m indexer \u001b[39m=\u001b[39m \u001b[39mself\u001b[39;49m\u001b[39m.\u001b[39;49mcolumns\u001b[39m.\u001b[39;49mget_loc(key)\n\u001b[0;32m   3762\u001b[0m \u001b[39mif\u001b[39;00m is_integer(indexer):\n\u001b[0;32m   3763\u001b[0m     indexer \u001b[39m=\u001b[39m [indexer]\n",
      "File \u001b[1;32mc:\\Users\\scheifinger\\AppData\\Local\\anaconda3\\envs\\Streamlit\\lib\\site-packages\\pandas\\core\\indexes\\base.py:3654\u001b[0m, in \u001b[0;36mIndex.get_loc\u001b[1;34m(self, key)\u001b[0m\n\u001b[0;32m   3652\u001b[0m     \u001b[39mreturn\u001b[39;00m \u001b[39mself\u001b[39m\u001b[39m.\u001b[39m_engine\u001b[39m.\u001b[39mget_loc(casted_key)\n\u001b[0;32m   3653\u001b[0m \u001b[39mexcept\u001b[39;00m \u001b[39mKeyError\u001b[39;00m \u001b[39mas\u001b[39;00m err:\n\u001b[1;32m-> 3654\u001b[0m     \u001b[39mraise\u001b[39;00m \u001b[39mKeyError\u001b[39;00m(key) \u001b[39mfrom\u001b[39;00m \u001b[39merr\u001b[39;00m\n\u001b[0;32m   3655\u001b[0m \u001b[39mexcept\u001b[39;00m \u001b[39mTypeError\u001b[39;00m:\n\u001b[0;32m   3656\u001b[0m     \u001b[39m# If we have a listlike key, _check_indexing_error will raise\u001b[39;00m\n\u001b[0;32m   3657\u001b[0m     \u001b[39m#  InvalidIndexError. Otherwise we fall through and re-raise\u001b[39;00m\n\u001b[0;32m   3658\u001b[0m     \u001b[39m#  the TypeError.\u001b[39;00m\n\u001b[0;32m   3659\u001b[0m     \u001b[39mself\u001b[39m\u001b[39m.\u001b[39m_check_indexing_error(key)\n",
      "\u001b[1;31mKeyError\u001b[0m: 'year'"
     ]
    }
   ],
   "source": [
    "# GLOBAL 2040\n",
    "fig = go.Figure(px.strip(\n",
    "    to_plot_df[(to_plot_df['year'] == 2030)],#filter because I only need one row per model and scenario\n",
    "    x='scenario_narrative',\n",
    "    y='2040_CO2_redu',\n",
    "    color='model',\n",
    "    stripmode='overlay'))\n",
    "\n",
    "\n",
    "fig.add_trace(go.Box(\n",
    "    y = to_plot_df[(to_plot_df['year'] == 2030) & (to_plot_df[\"scenario_narrative\"] == \"Instit\")][\"2040_CO2_redu\"],\n",
    "    name = \"Instit\",\n",
    "    marker_color='grey',\n",
    "    opacity=0.5,\n",
    "    boxpoints=False,\n",
    "    showlegend=False\n",
    "))\n",
    "\n",
    "fig.add_trace(go.Box(\n",
    "    y = to_plot_df[(to_plot_df['year'] == 2030) & (to_plot_df[\"scenario_narrative\"] == \"Cost Effective\")][\"2040_CO2_redu\"],\n",
    "    name = \"Cost Effective\",\n",
    "    marker_color='grey',\n",
    "    opacity=0.3,\n",
    "    boxpoints=False,\n",
    "    showlegend=False\n",
    "))\n",
    "\n",
    "fig.update_traces({'marker':{'size': 8}})\n",
    "\n",
    "fig.update_layout(autosize=False,\n",
    "                  width=600,\n",
    "                  height=600,\n",
    "                  title = go.layout.Title(\n",
    "                    text=\"ENGAGE 2C scenarios <br><sup>Global CO2 reductions by 2040</sup>\",\n",
    "                    xref=\"paper\",\n",
    "                    x=0),\n",
    "                  xaxis_title=\"Scenario Narrative\",\n",
    "                  yaxis_title = \"CO2 reductions\",\n",
    "                  yaxis_tickformat='.0%')\n",
    "    \n",
    "fig"
   ]
  },
  {
   "cell_type": "code",
   "execution_count": 63,
   "metadata": {},
   "outputs": [
    {
     "data": {
      "text/html": [
       "<div>\n",
       "<style scoped>\n",
       "    .dataframe tbody tr th:only-of-type {\n",
       "        vertical-align: middle;\n",
       "    }\n",
       "\n",
       "    .dataframe tbody tr th {\n",
       "        vertical-align: top;\n",
       "    }\n",
       "\n",
       "    .dataframe thead tr th {\n",
       "        text-align: left;\n",
       "    }\n",
       "\n",
       "    .dataframe thead tr:last-of-type th {\n",
       "        text-align: right;\n",
       "    }\n",
       "</style>\n",
       "<table border=\"1\" class=\"dataframe\">\n",
       "  <thead>\n",
       "    <tr>\n",
       "      <th></th>\n",
       "      <th colspan=\"8\" halign=\"left\">solar_use_2030</th>\n",
       "      <th colspan=\"5\" halign=\"left\">coal_use_2030</th>\n",
       "      <th colspan=\"8\" halign=\"left\">ccs_use_2050</th>\n",
       "    </tr>\n",
       "    <tr>\n",
       "      <th></th>\n",
       "      <th>count</th>\n",
       "      <th>mean</th>\n",
       "      <th>std</th>\n",
       "      <th>min</th>\n",
       "      <th>25%</th>\n",
       "      <th>50%</th>\n",
       "      <th>75%</th>\n",
       "      <th>max</th>\n",
       "      <th>count</th>\n",
       "      <th>mean</th>\n",
       "      <th>...</th>\n",
       "      <th>75%</th>\n",
       "      <th>max</th>\n",
       "      <th>count</th>\n",
       "      <th>mean</th>\n",
       "      <th>std</th>\n",
       "      <th>min</th>\n",
       "      <th>25%</th>\n",
       "      <th>50%</th>\n",
       "      <th>75%</th>\n",
       "      <th>max</th>\n",
       "    </tr>\n",
       "    <tr>\n",
       "      <th>region</th>\n",
       "      <th></th>\n",
       "      <th></th>\n",
       "      <th></th>\n",
       "      <th></th>\n",
       "      <th></th>\n",
       "      <th></th>\n",
       "      <th></th>\n",
       "      <th></th>\n",
       "      <th></th>\n",
       "      <th></th>\n",
       "      <th></th>\n",
       "      <th></th>\n",
       "      <th></th>\n",
       "      <th></th>\n",
       "      <th></th>\n",
       "      <th></th>\n",
       "      <th></th>\n",
       "      <th></th>\n",
       "      <th></th>\n",
       "      <th></th>\n",
       "      <th></th>\n",
       "    </tr>\n",
       "  </thead>\n",
       "  <tbody>\n",
       "    <tr>\n",
       "      <th>China</th>\n",
       "      <td>56.0</td>\n",
       "      <td>5.838600</td>\n",
       "      <td>3.458289</td>\n",
       "      <td>1.079159</td>\n",
       "      <td>3.147270</td>\n",
       "      <td>5.274653</td>\n",
       "      <td>8.107662</td>\n",
       "      <td>12.407217</td>\n",
       "      <td>56.0</td>\n",
       "      <td>14.255353</td>\n",
       "      <td>...</td>\n",
       "      <td>17.985347</td>\n",
       "      <td>24.824760</td>\n",
       "      <td>44.0</td>\n",
       "      <td>949.398214</td>\n",
       "      <td>1102.450475</td>\n",
       "      <td>0.0</td>\n",
       "      <td>0.018008</td>\n",
       "      <td>777.892720</td>\n",
       "      <td>1515.210945</td>\n",
       "      <td>3604.438500</td>\n",
       "    </tr>\n",
       "    <tr>\n",
       "      <th>OECD</th>\n",
       "      <td>56.0</td>\n",
       "      <td>6.342230</td>\n",
       "      <td>2.974541</td>\n",
       "      <td>1.895875</td>\n",
       "      <td>4.375460</td>\n",
       "      <td>5.626193</td>\n",
       "      <td>8.433792</td>\n",
       "      <td>13.553495</td>\n",
       "      <td>56.0</td>\n",
       "      <td>3.315698</td>\n",
       "      <td>...</td>\n",
       "      <td>4.176373</td>\n",
       "      <td>13.353713</td>\n",
       "      <td>46.0</td>\n",
       "      <td>1331.532249</td>\n",
       "      <td>1213.009272</td>\n",
       "      <td>0.0</td>\n",
       "      <td>312.253761</td>\n",
       "      <td>1080.914251</td>\n",
       "      <td>1838.331048</td>\n",
       "      <td>4728.317000</td>\n",
       "    </tr>\n",
       "    <tr>\n",
       "      <th>RoW</th>\n",
       "      <td>56.0</td>\n",
       "      <td>6.309051</td>\n",
       "      <td>4.639789</td>\n",
       "      <td>0.606488</td>\n",
       "      <td>2.955446</td>\n",
       "      <td>4.588248</td>\n",
       "      <td>9.420500</td>\n",
       "      <td>15.910465</td>\n",
       "      <td>56.0</td>\n",
       "      <td>7.589699</td>\n",
       "      <td>...</td>\n",
       "      <td>9.323534</td>\n",
       "      <td>13.318324</td>\n",
       "      <td>46.0</td>\n",
       "      <td>1572.089059</td>\n",
       "      <td>1756.770959</td>\n",
       "      <td>0.0</td>\n",
       "      <td>138.461063</td>\n",
       "      <td>1334.286908</td>\n",
       "      <td>1923.678439</td>\n",
       "      <td>7305.685230</td>\n",
       "    </tr>\n",
       "    <tr>\n",
       "      <th>World</th>\n",
       "      <td>56.0</td>\n",
       "      <td>18.800685</td>\n",
       "      <td>9.823043</td>\n",
       "      <td>3.618173</td>\n",
       "      <td>11.121933</td>\n",
       "      <td>16.828754</td>\n",
       "      <td>23.656286</td>\n",
       "      <td>39.180369</td>\n",
       "      <td>56.0</td>\n",
       "      <td>25.426672</td>\n",
       "      <td>...</td>\n",
       "      <td>31.267411</td>\n",
       "      <td>45.370248</td>\n",
       "      <td>46.0</td>\n",
       "      <td>3909.863046</td>\n",
       "      <td>3557.356190</td>\n",
       "      <td>0.0</td>\n",
       "      <td>649.691817</td>\n",
       "      <td>3434.162067</td>\n",
       "      <td>5236.769354</td>\n",
       "      <td>12038.996601</td>\n",
       "    </tr>\n",
       "  </tbody>\n",
       "</table>\n",
       "<p>4 rows × 24 columns</p>\n",
       "</div>"
      ],
      "text/plain": [
       "       solar_use_2030                                                        \n",
       "                count       mean       std       min        25%        50%   \n",
       "region                                                                       \n",
       "China            56.0   5.838600  3.458289  1.079159   3.147270   5.274653  \\\n",
       "OECD             56.0   6.342230  2.974541  1.895875   4.375460   5.626193   \n",
       "RoW              56.0   6.309051  4.639789  0.606488   2.955446   4.588248   \n",
       "World            56.0  18.800685  9.823043  3.618173  11.121933  16.828754   \n",
       "\n",
       "                             coal_use_2030             ...              \n",
       "              75%        max         count       mean  ...        75%   \n",
       "region                                                 ...              \n",
       "China    8.107662  12.407217          56.0  14.255353  ...  17.985347  \\\n",
       "OECD     8.433792  13.553495          56.0   3.315698  ...   4.176373   \n",
       "RoW      9.420500  15.910465          56.0   7.589699  ...   9.323534   \n",
       "World   23.656286  39.180369          56.0  25.426672  ...  31.267411   \n",
       "\n",
       "                  ccs_use_2050                                              \n",
       "              max        count         mean          std  min         25%   \n",
       "region                                                                      \n",
       "China   24.824760         44.0   949.398214  1102.450475  0.0    0.018008  \\\n",
       "OECD    13.353713         46.0  1331.532249  1213.009272  0.0  312.253761   \n",
       "RoW     13.318324         46.0  1572.089059  1756.770959  0.0  138.461063   \n",
       "World   45.370248         46.0  3909.863046  3557.356190  0.0  649.691817   \n",
       "\n",
       "                                                \n",
       "                50%          75%           max  \n",
       "region                                          \n",
       "China    777.892720  1515.210945   3604.438500  \n",
       "OECD    1080.914251  1838.331048   4728.317000  \n",
       "RoW     1334.286908  1923.678439   7305.685230  \n",
       "World   3434.162067  5236.769354  12038.996601  \n",
       "\n",
       "[4 rows x 24 columns]"
      ]
     },
     "execution_count": 63,
     "metadata": {},
     "output_type": "execute_result"
    }
   ],
   "source": [
    "#Feasibility constraints\n",
    "\n",
    "#Coal reduction\n",
    "#get media coal consumption in 2020\n",
    "df[(df[\"year\"] == 2030)].groupby([\"region\"])[\"Secondary Energy|Electricity|Coal\"].describe()\n",
    "\n",
    "#try filtering\n",
    "min_coal_use_2030 = 1\n",
    "max_solar_use_2030 = 40\n",
    "#filter_df = pd.pivot(data=to_plot_df, index=['model','scenario', 'region', 'scenario_narrative', '2030_CO2_redu', '2040_CO2_redu'], columns = 'year', values = 'Secondary Energy|Electricity|Coal').reset_index()\n",
    "filter_df = to_plot_df[(to_plot_df['coal_use_2030'] >= min_coal_use_2030) &\\\n",
    "                        (to_plot_df['solar_use_2030'] <= max_solar_use_2030) &\\\n",
    "                        (to_plot_df['region'] != \"World\")]\n",
    "\n",
    "\n",
    "\n",
    "\n",
    "df[(df[\"year\"] == 2030)].groupby([\"region\"])[\"Secondary Energy|Electricity|Coal\"].describe()\n",
    "\n",
    "df[(df[\"year\"] == 2030)].groupby([\"model\"])[\"Secondary Energy|Electricity|Solar\"].describe()\n",
    "#to_plot_df[to_plot_df[\"region\"] == \"OECD\"].groupby(['model'])[[\"coal_use_2030\",\"solar_use_2030\"]].min().min()\n",
    "to_plot_df.groupby(['region'])[[\"solar_use_2030\", \"coal_use_2030\", \"ccs_use_2050\"]].describe()\n",
    "# px.line(data_frame= df[(df[\"model\"].isin([\"IMAGE 3.2\", \"WITCH 5.0\"])) & (df['region'] == \"World\") & (df[\"scenario\"].isin([\"T34_1000_ref\", \"T34_1000_govem\"]))],\n",
    "#         x=\"year\",\n",
    "#         y=\"Emissions|CO2\",\n",
    "#         color=\"model\",\n",
    "#         markers=\"scenario\"     \n",
    "# )\n"
   ]
  },
  {
   "cell_type": "code",
   "execution_count": 9,
   "metadata": {},
   "outputs": [
    {
     "data": {
      "text/html": [
       "<div>\n",
       "<style scoped>\n",
       "    .dataframe tbody tr th:only-of-type {\n",
       "        vertical-align: middle;\n",
       "    }\n",
       "\n",
       "    .dataframe tbody tr th {\n",
       "        vertical-align: top;\n",
       "    }\n",
       "\n",
       "    .dataframe thead th {\n",
       "        text-align: right;\n",
       "    }\n",
       "</style>\n",
       "<table border=\"1\" class=\"dataframe\">\n",
       "  <thead>\n",
       "    <tr style=\"text-align: right;\">\n",
       "      <th></th>\n",
       "      <th>region</th>\n",
       "      <th>MIN_solar_use_2030</th>\n",
       "      <th>MAX_solar_use_2030</th>\n",
       "      <th>MIN_coal_use_2030</th>\n",
       "      <th>MAX_coal_use_2030</th>\n",
       "    </tr>\n",
       "  </thead>\n",
       "  <tbody>\n",
       "    <tr>\n",
       "      <th>0</th>\n",
       "      <td>China</td>\n",
       "      <td>1.079159</td>\n",
       "      <td>12.407217</td>\n",
       "      <td>3.564727e-07</td>\n",
       "      <td>19.725314</td>\n",
       "    </tr>\n",
       "    <tr>\n",
       "      <th>1</th>\n",
       "      <td>OECD</td>\n",
       "      <td>2.444933</td>\n",
       "      <td>13.553495</td>\n",
       "      <td>2.975541e-01</td>\n",
       "      <td>7.548869</td>\n",
       "    </tr>\n",
       "    <tr>\n",
       "      <th>2</th>\n",
       "      <td>RoW</td>\n",
       "      <td>1.278904</td>\n",
       "      <td>15.910465</td>\n",
       "      <td>7.563150e-01</td>\n",
       "      <td>9.916576</td>\n",
       "    </tr>\n",
       "    <tr>\n",
       "      <th>3</th>\n",
       "      <td>World</td>\n",
       "      <td>4.972892</td>\n",
       "      <td>39.180369</td>\n",
       "      <td>2.014303e+00</td>\n",
       "      <td>31.663743</td>\n",
       "    </tr>\n",
       "  </tbody>\n",
       "</table>\n",
       "</div>"
      ],
      "text/plain": [
       "  region  MIN_solar_use_2030  MAX_solar_use_2030  MIN_coal_use_2030   \n",
       "0  China            1.079159           12.407217       3.564727e-07  \\\n",
       "1   OECD            2.444933           13.553495       2.975541e-01   \n",
       "2    RoW            1.278904           15.910465       7.563150e-01   \n",
       "3  World            4.972892           39.180369       2.014303e+00   \n",
       "\n",
       "   MAX_coal_use_2030  \n",
       "0          19.725314  \n",
       "1           7.548869  \n",
       "2           9.916576  \n",
       "3          31.663743  "
      ]
     },
     "execution_count": 9,
     "metadata": {},
     "output_type": "execute_result"
    }
   ],
   "source": [
    "#Scenario Space\n",
    "#explore full scenario space\n",
    "##get min and max values for all regions across all scenarios\n",
    "min = to_plot_df.groupby(['region'])[[\"solar_use_2030\", \"coal_use_2030\"]].min().reset_index()\n",
    "min.rename(columns = {'solar_use_2030': \"MIN_solar_use_2030\", 'coal_use_2030': 'MIN_coal_use_2030'}, inplace = True)\n",
    "max = to_plot_df.groupby(['region'])[[\"solar_use_2030\", \"coal_use_2030\"]].max().reset_index()\n",
    "max.rename(columns = {'solar_use_2030': \"MAX_solar_use_2030\", 'coal_use_2030': 'MAX_coal_use_2030'}, inplace = True)\n",
    "\n",
    "\n",
    "\n",
    "pd.merge(left=min, right=max, on=\"region\").reindex(columns=[\n",
    "    'region',\n",
    "    'MIN_solar_use_2030',\n",
    "    'MAX_solar_use_2030',\n",
    "    'MIN_coal_use_2030',\n",
    "    'MAX_coal_use_2030'\n",
    "])\n"
   ]
  },
  {
   "cell_type": "code",
   "execution_count": 57,
   "metadata": {},
   "outputs": [
    {
     "name": "stdout",
     "output_type": "stream",
     "text": [
      "7/8 models\n",
      "46/30 scenarios\n",
      "model\n",
      "AIM/CGE V2.2             6\n",
      "COFFEE 1.5               4\n",
      "GEM-E3_V2023             8\n",
      "IMAGE 3.2                8\n",
      "MESSAGEix-GLOBIOM_1.1    4\n",
      "REMIND 3.0               8\n",
      "WITCH 5.0                8\n",
      "Name: scenario, dtype: int64\n"
     ]
    },
    {
     "data": {
      "text/html": [
       "<div>\n",
       "<style scoped>\n",
       "    .dataframe tbody tr th:only-of-type {\n",
       "        vertical-align: middle;\n",
       "    }\n",
       "\n",
       "    .dataframe tbody tr th {\n",
       "        vertical-align: top;\n",
       "    }\n",
       "\n",
       "    .dataframe thead th {\n",
       "        text-align: right;\n",
       "    }\n",
       "</style>\n",
       "<table border=\"1\" class=\"dataframe\">\n",
       "  <thead>\n",
       "    <tr style=\"text-align: right;\">\n",
       "      <th></th>\n",
       "      <th>model</th>\n",
       "      <th>scenario</th>\n",
       "      <th>region</th>\n",
       "      <th>scenario_narrative</th>\n",
       "      <th>coal_use_2030</th>\n",
       "      <th>solar_use_2030</th>\n",
       "      <th>ccs_use_2030</th>\n",
       "      <th>reduction_year</th>\n",
       "      <th>reduction_value</th>\n",
       "    </tr>\n",
       "  </thead>\n",
       "  <tbody>\n",
       "    <tr>\n",
       "      <th>64</th>\n",
       "      <td>POLES ENGAGE</td>\n",
       "      <td>T34_1000_govem</td>\n",
       "      <td>China</td>\n",
       "      <td>Instit</td>\n",
       "      <td>12.550456</td>\n",
       "      <td>11.327579</td>\n",
       "      <td>NaN</td>\n",
       "      <td>2030_CO2_redu</td>\n",
       "      <td>0.203070</td>\n",
       "    </tr>\n",
       "    <tr>\n",
       "      <th>65</th>\n",
       "      <td>POLES ENGAGE</td>\n",
       "      <td>T34_1000_govem</td>\n",
       "      <td>OECD</td>\n",
       "      <td>Instit</td>\n",
       "      <td>1.548296</td>\n",
       "      <td>5.984885</td>\n",
       "      <td>NaN</td>\n",
       "      <td>2030_CO2_redu</td>\n",
       "      <td>0.447092</td>\n",
       "    </tr>\n",
       "    <tr>\n",
       "      <th>66</th>\n",
       "      <td>POLES ENGAGE</td>\n",
       "      <td>T34_1000_govem</td>\n",
       "      <td>RoW</td>\n",
       "      <td>Instit</td>\n",
       "      <td>8.552605</td>\n",
       "      <td>4.795329</td>\n",
       "      <td>NaN</td>\n",
       "      <td>2030_CO2_redu</td>\n",
       "      <td>0.085193</td>\n",
       "    </tr>\n",
       "    <tr>\n",
       "      <th>67</th>\n",
       "      <td>POLES ENGAGE</td>\n",
       "      <td>T34_1000_govem</td>\n",
       "      <td>World</td>\n",
       "      <td>Instit</td>\n",
       "      <td>22.770554</td>\n",
       "      <td>22.240467</td>\n",
       "      <td>NaN</td>\n",
       "      <td>2030_CO2_redu</td>\n",
       "      <td>0.200665</td>\n",
       "    </tr>\n",
       "    <tr>\n",
       "      <th>68</th>\n",
       "      <td>POLES ENGAGE</td>\n",
       "      <td>T34_1000_ref</td>\n",
       "      <td>China</td>\n",
       "      <td>Cost Effective</td>\n",
       "      <td>13.413551</td>\n",
       "      <td>11.105577</td>\n",
       "      <td>NaN</td>\n",
       "      <td>2030_CO2_redu</td>\n",
       "      <td>0.184776</td>\n",
       "    </tr>\n",
       "    <tr>\n",
       "      <th>69</th>\n",
       "      <td>POLES ENGAGE</td>\n",
       "      <td>T34_1000_ref</td>\n",
       "      <td>OECD</td>\n",
       "      <td>Cost Effective</td>\n",
       "      <td>2.607351</td>\n",
       "      <td>5.600019</td>\n",
       "      <td>NaN</td>\n",
       "      <td>2030_CO2_redu</td>\n",
       "      <td>0.327067</td>\n",
       "    </tr>\n",
       "    <tr>\n",
       "      <th>70</th>\n",
       "      <td>POLES ENGAGE</td>\n",
       "      <td>T34_1000_ref</td>\n",
       "      <td>RoW</td>\n",
       "      <td>Cost Effective</td>\n",
       "      <td>7.885040</td>\n",
       "      <td>4.911810</td>\n",
       "      <td>NaN</td>\n",
       "      <td>2030_CO2_redu</td>\n",
       "      <td>0.171462</td>\n",
       "    </tr>\n",
       "    <tr>\n",
       "      <th>71</th>\n",
       "      <td>POLES ENGAGE</td>\n",
       "      <td>T34_1000_ref</td>\n",
       "      <td>World</td>\n",
       "      <td>Cost Effective</td>\n",
       "      <td>24.011316</td>\n",
       "      <td>21.758619</td>\n",
       "      <td>NaN</td>\n",
       "      <td>2030_CO2_redu</td>\n",
       "      <td>0.192391</td>\n",
       "    </tr>\n",
       "    <tr>\n",
       "      <th>72</th>\n",
       "      <td>POLES ENGAGE</td>\n",
       "      <td>T34_NDC2100</td>\n",
       "      <td>China</td>\n",
       "      <td>NDC</td>\n",
       "      <td>22.603245</td>\n",
       "      <td>2.669643</td>\n",
       "      <td>NaN</td>\n",
       "      <td>2030_CO2_redu</td>\n",
       "      <td>-0.029902</td>\n",
       "    </tr>\n",
       "    <tr>\n",
       "      <th>73</th>\n",
       "      <td>POLES ENGAGE</td>\n",
       "      <td>T34_NDC2100</td>\n",
       "      <td>OECD</td>\n",
       "      <td>NDC</td>\n",
       "      <td>2.726007</td>\n",
       "      <td>5.382869</td>\n",
       "      <td>NaN</td>\n",
       "      <td>2030_CO2_redu</td>\n",
       "      <td>0.346620</td>\n",
       "    </tr>\n",
       "    <tr>\n",
       "      <th>74</th>\n",
       "      <td>POLES ENGAGE</td>\n",
       "      <td>T34_NDC2100</td>\n",
       "      <td>RoW</td>\n",
       "      <td>NDC</td>\n",
       "      <td>11.033532</td>\n",
       "      <td>3.615826</td>\n",
       "      <td>NaN</td>\n",
       "      <td>2030_CO2_redu</td>\n",
       "      <td>-0.027420</td>\n",
       "    </tr>\n",
       "    <tr>\n",
       "      <th>75</th>\n",
       "      <td>POLES ENGAGE</td>\n",
       "      <td>T34_NDC2100</td>\n",
       "      <td>World</td>\n",
       "      <td>NDC</td>\n",
       "      <td>36.422619</td>\n",
       "      <td>11.803931</td>\n",
       "      <td>NaN</td>\n",
       "      <td>2030_CO2_redu</td>\n",
       "      <td>0.060593</td>\n",
       "    </tr>\n",
       "    <tr>\n",
       "      <th>76</th>\n",
       "      <td>POLES ENGAGE</td>\n",
       "      <td>T34_NPi2100</td>\n",
       "      <td>China</td>\n",
       "      <td>Current Policy</td>\n",
       "      <td>22.634607</td>\n",
       "      <td>2.660485</td>\n",
       "      <td>NaN</td>\n",
       "      <td>2030_CO2_redu</td>\n",
       "      <td>-0.024536</td>\n",
       "    </tr>\n",
       "    <tr>\n",
       "      <th>77</th>\n",
       "      <td>POLES ENGAGE</td>\n",
       "      <td>T34_NPi2100</td>\n",
       "      <td>OECD</td>\n",
       "      <td>Current Policy</td>\n",
       "      <td>3.387749</td>\n",
       "      <td>5.206531</td>\n",
       "      <td>NaN</td>\n",
       "      <td>2030_CO2_redu</td>\n",
       "      <td>0.285688</td>\n",
       "    </tr>\n",
       "    <tr>\n",
       "      <th>78</th>\n",
       "      <td>POLES ENGAGE</td>\n",
       "      <td>T34_NPi2100</td>\n",
       "      <td>RoW</td>\n",
       "      <td>Current Policy</td>\n",
       "      <td>13.318324</td>\n",
       "      <td>3.187943</td>\n",
       "      <td>NaN</td>\n",
       "      <td>2030_CO2_redu</td>\n",
       "      <td>-0.191283</td>\n",
       "    </tr>\n",
       "    <tr>\n",
       "      <th>79</th>\n",
       "      <td>POLES ENGAGE</td>\n",
       "      <td>T34_NPi2100</td>\n",
       "      <td>World</td>\n",
       "      <td>Current Policy</td>\n",
       "      <td>39.526901</td>\n",
       "      <td>11.153563</td>\n",
       "      <td>NaN</td>\n",
       "      <td>2030_CO2_redu</td>\n",
       "      <td>-0.022593</td>\n",
       "    </tr>\n",
       "  </tbody>\n",
       "</table>\n",
       "</div>"
      ],
      "text/plain": [
       "           model        scenario region scenario_narrative  coal_use_2030   \n",
       "64  POLES ENGAGE  T34_1000_govem  China             Instit      12.550456  \\\n",
       "65  POLES ENGAGE  T34_1000_govem   OECD             Instit       1.548296   \n",
       "66  POLES ENGAGE  T34_1000_govem    RoW             Instit       8.552605   \n",
       "67  POLES ENGAGE  T34_1000_govem  World             Instit      22.770554   \n",
       "68  POLES ENGAGE    T34_1000_ref  China     Cost Effective      13.413551   \n",
       "69  POLES ENGAGE    T34_1000_ref   OECD     Cost Effective       2.607351   \n",
       "70  POLES ENGAGE    T34_1000_ref    RoW     Cost Effective       7.885040   \n",
       "71  POLES ENGAGE    T34_1000_ref  World     Cost Effective      24.011316   \n",
       "72  POLES ENGAGE     T34_NDC2100  China                NDC      22.603245   \n",
       "73  POLES ENGAGE     T34_NDC2100   OECD                NDC       2.726007   \n",
       "74  POLES ENGAGE     T34_NDC2100    RoW                NDC      11.033532   \n",
       "75  POLES ENGAGE     T34_NDC2100  World                NDC      36.422619   \n",
       "76  POLES ENGAGE     T34_NPi2100  China     Current Policy      22.634607   \n",
       "77  POLES ENGAGE     T34_NPi2100   OECD     Current Policy       3.387749   \n",
       "78  POLES ENGAGE     T34_NPi2100    RoW     Current Policy      13.318324   \n",
       "79  POLES ENGAGE     T34_NPi2100  World     Current Policy      39.526901   \n",
       "\n",
       "    solar_use_2030  ccs_use_2030 reduction_year  reduction_value  \n",
       "64       11.327579           NaN  2030_CO2_redu         0.203070  \n",
       "65        5.984885           NaN  2030_CO2_redu         0.447092  \n",
       "66        4.795329           NaN  2030_CO2_redu         0.085193  \n",
       "67       22.240467           NaN  2030_CO2_redu         0.200665  \n",
       "68       11.105577           NaN  2030_CO2_redu         0.184776  \n",
       "69        5.600019           NaN  2030_CO2_redu         0.327067  \n",
       "70        4.911810           NaN  2030_CO2_redu         0.171462  \n",
       "71       21.758619           NaN  2030_CO2_redu         0.192391  \n",
       "72        2.669643           NaN  2030_CO2_redu        -0.029902  \n",
       "73        5.382869           NaN  2030_CO2_redu         0.346620  \n",
       "74        3.615826           NaN  2030_CO2_redu        -0.027420  \n",
       "75       11.803931           NaN  2030_CO2_redu         0.060593  \n",
       "76        2.660485           NaN  2030_CO2_redu        -0.024536  \n",
       "77        5.206531           NaN  2030_CO2_redu         0.285688  \n",
       "78        3.187943           NaN  2030_CO2_redu        -0.191283  \n",
       "79       11.153563           NaN  2030_CO2_redu        -0.022593  "
      ]
     },
     "execution_count": 57,
     "metadata": {},
     "output_type": "execute_result"
    }
   ],
   "source": [
    "test_coal = 0\n",
    "test_ccs = 1400\n",
    "test_region = \"World\"\n",
    "\n",
    "\n",
    "print(str(len(to_plot_df[(to_plot_df[\"region\"] == test_region) & (to_plot_df[\"ccs_use_2030\"] <= test_ccs)].groupby('model').count()['scenario'])) + \"/8 models\")\n",
    "print(str(to_plot_df[(to_plot_df[\"region\"] == test_region) & (to_plot_df[\"ccs_use_2030\"] <= test_ccs)].groupby('model').count().sum().scenario) + \"/30 scenarios\")\n",
    "print(to_plot_df[(to_plot_df[\"region\"] == test_region) & (to_plot_df[\"ccs_use_2030\"] <= test_ccs)].groupby('model').count()['scenario'])\n",
    "\n",
    "to_plot_df[(to_plot_df[\"model\"] == \"POLES ENGAGE\") & (to_plot_df[\"reduction_year\"] == \"2030_CO2_redu\")]"
   ]
  },
  {
   "cell_type": "code",
   "execution_count": null,
   "metadata": {},
   "outputs": [],
   "source": []
  },
  {
   "cell_type": "code",
   "execution_count": 53,
   "metadata": {},
   "outputs": [
    {
     "data": {
      "text/plain": [
       "array(['IMAGE 3.2'], dtype=object)"
      ]
     },
     "execution_count": 53,
     "metadata": {},
     "output_type": "execute_result"
    }
   ],
   "source": [
    "##CHECK Policy\n",
    "px.line(\n",
    "    data_frame= df[((df['scenario'] == \"T34_NDC2100\") | (df[\"scenario\"] == \"T34_NPi2100\")) &(df['region']==\"World\")]\n",
    "    ,x=\"year\"\n",
    "    ,y=\"Emissions|CO2\"\n",
    "    ,color=\"scenario\"\n",
    "    ,line_dash=\"model\"\n",
    ")\n",
    "\n",
    "df[((df['scenario'] == \"T34_NDC2100\") | (df[\"scenario\"] == \"T34_NPi2100\"))].groupby(['model', 'scenario']).describe()\n",
    "df[((df['scenario'] == \"T34_NDC2100\") & (df[\"model\"] == \"IMAGE 3.2\")) & (df[\"region\"] == \"World\")]"
   ]
  },
  {
   "cell_type": "code",
   "execution_count": 24,
   "metadata": {},
   "outputs": [
    {
     "data": {
      "text/html": [
       "<div>\n",
       "<style scoped>\n",
       "    .dataframe tbody tr th:only-of-type {\n",
       "        vertical-align: middle;\n",
       "    }\n",
       "\n",
       "    .dataframe tbody tr th {\n",
       "        vertical-align: top;\n",
       "    }\n",
       "\n",
       "    .dataframe thead th {\n",
       "        text-align: right;\n",
       "    }\n",
       "</style>\n",
       "<table border=\"1\" class=\"dataframe\">\n",
       "  <thead>\n",
       "    <tr style=\"text-align: right;\">\n",
       "      <th></th>\n",
       "      <th></th>\n",
       "      <th></th>\n",
       "      <th>variable</th>\n",
       "      <th>Capacity|Electricity|Coal</th>\n",
       "      <th>Capacity|Electricity|Solar</th>\n",
       "      <th>Capacity|Electricity|Wind</th>\n",
       "      <th>Carbon Sequestration|CCS</th>\n",
       "      <th>Carbon Sequestration|Land Use</th>\n",
       "      <th>Emissions|CO2</th>\n",
       "      <th>Emissions|Kyoto Gases</th>\n",
       "      <th>Primary Energy</th>\n",
       "      <th>Primary Energy|Coal</th>\n",
       "      <th>Primary Energy|Gas</th>\n",
       "      <th>Secondary Energy|Electricity|Coal</th>\n",
       "      <th>Secondary Energy|Electricity|Solar</th>\n",
       "      <th>scenario_narrative</th>\n",
       "      <th>Share_Coal</th>\n",
       "      <th>Share_Gas</th>\n",
       "    </tr>\n",
       "    <tr>\n",
       "      <th>model</th>\n",
       "      <th>scenario</th>\n",
       "      <th>region</th>\n",
       "      <th>year</th>\n",
       "      <th></th>\n",
       "      <th></th>\n",
       "      <th></th>\n",
       "      <th></th>\n",
       "      <th></th>\n",
       "      <th></th>\n",
       "      <th></th>\n",
       "      <th></th>\n",
       "      <th></th>\n",
       "      <th></th>\n",
       "      <th></th>\n",
       "      <th></th>\n",
       "      <th></th>\n",
       "      <th></th>\n",
       "      <th></th>\n",
       "    </tr>\n",
       "  </thead>\n",
       "  <tbody>\n",
       "    <tr>\n",
       "      <th rowspan=\"5\" valign=\"top\">AIM/CGE V2.2</th>\n",
       "      <th rowspan=\"5\" valign=\"top\">T34_1000_bitb_em</th>\n",
       "      <th rowspan=\"5\" valign=\"top\">China</th>\n",
       "      <th>2010</th>\n",
       "      <td>773.831900</td>\n",
       "      <td>1.444500</td>\n",
       "      <td>14.653400</td>\n",
       "      <td>0.000000</td>\n",
       "      <td>0.000000</td>\n",
       "      <td>8860.316800</td>\n",
       "      <td>11537.518700</td>\n",
       "      <td>108.357000</td>\n",
       "      <td>76.802100</td>\n",
       "      <td>4.061500</td>\n",
       "      <td>1.157230e+01</td>\n",
       "      <td>0.008700</td>\n",
       "      <td>Tech+Inst</td>\n",
       "      <td>0.708788</td>\n",
       "      <td>0.037483</td>\n",
       "    </tr>\n",
       "    <tr>\n",
       "      <th>2015</th>\n",
       "      <td>1052.440200</td>\n",
       "      <td>66.057900</td>\n",
       "      <td>61.946200</td>\n",
       "      <td>0.000000</td>\n",
       "      <td>0.000000</td>\n",
       "      <td>10778.558700</td>\n",
       "      <td>13745.716900</td>\n",
       "      <td>132.793100</td>\n",
       "      <td>92.256000</td>\n",
       "      <td>5.667400</td>\n",
       "      <td>1.503830e+01</td>\n",
       "      <td>0.399300</td>\n",
       "      <td>Tech+Inst</td>\n",
       "      <td>0.694735</td>\n",
       "      <td>0.042678</td>\n",
       "    </tr>\n",
       "    <tr>\n",
       "      <th>2020</th>\n",
       "      <td>1418.345300</td>\n",
       "      <td>343.113100</td>\n",
       "      <td>153.929500</td>\n",
       "      <td>0.000000</td>\n",
       "      <td>0.000000</td>\n",
       "      <td>11958.470200</td>\n",
       "      <td>15070.756300</td>\n",
       "      <td>151.292000</td>\n",
       "      <td>97.701100</td>\n",
       "      <td>9.500000</td>\n",
       "      <td>1.884280e+01</td>\n",
       "      <td>2.074100</td>\n",
       "      <td>Tech+Inst</td>\n",
       "      <td>0.645778</td>\n",
       "      <td>0.062792</td>\n",
       "    </tr>\n",
       "    <tr>\n",
       "      <th>2025</th>\n",
       "      <td>1627.245700</td>\n",
       "      <td>869.817100</td>\n",
       "      <td>299.663600</td>\n",
       "      <td>0.000000</td>\n",
       "      <td>0.000000</td>\n",
       "      <td>11054.068900</td>\n",
       "      <td>13229.030800</td>\n",
       "      <td>152.715400</td>\n",
       "      <td>82.873900</td>\n",
       "      <td>19.923700</td>\n",
       "      <td>1.993550e+01</td>\n",
       "      <td>4.893300</td>\n",
       "      <td>Tech+Inst</td>\n",
       "      <td>0.542669</td>\n",
       "      <td>0.130463</td>\n",
       "    </tr>\n",
       "    <tr>\n",
       "      <th>2030</th>\n",
       "      <td>1554.853200</td>\n",
       "      <td>1991.788100</td>\n",
       "      <td>577.686300</td>\n",
       "      <td>47.916800</td>\n",
       "      <td>0.000000</td>\n",
       "      <td>9801.157700</td>\n",
       "      <td>11433.064700</td>\n",
       "      <td>151.627000</td>\n",
       "      <td>66.704800</td>\n",
       "      <td>27.172400</td>\n",
       "      <td>1.607110e+01</td>\n",
       "      <td>10.869000</td>\n",
       "      <td>Tech+Inst</td>\n",
       "      <td>0.439927</td>\n",
       "      <td>0.179206</td>\n",
       "    </tr>\n",
       "    <tr>\n",
       "      <th>...</th>\n",
       "      <th>...</th>\n",
       "      <th>...</th>\n",
       "      <th>...</th>\n",
       "      <td>...</td>\n",
       "      <td>...</td>\n",
       "      <td>...</td>\n",
       "      <td>...</td>\n",
       "      <td>...</td>\n",
       "      <td>...</td>\n",
       "      <td>...</td>\n",
       "      <td>...</td>\n",
       "      <td>...</td>\n",
       "      <td>...</td>\n",
       "      <td>...</td>\n",
       "      <td>...</td>\n",
       "      <td>...</td>\n",
       "      <td>...</td>\n",
       "      <td>...</td>\n",
       "    </tr>\n",
       "    <tr>\n",
       "      <th rowspan=\"5\" valign=\"top\">WITCH 5.0</th>\n",
       "      <th rowspan=\"5\" valign=\"top\">T34_1000_ref</th>\n",
       "      <th rowspan=\"5\" valign=\"top\">World</th>\n",
       "      <th>2080</th>\n",
       "      <td>316.943016</td>\n",
       "      <td>30327.633257</td>\n",
       "      <td>7912.127852</td>\n",
       "      <td>13019.949055</td>\n",
       "      <td>3915.968699</td>\n",
       "      <td>2789.489406</td>\n",
       "      <td>8124.562984</td>\n",
       "      <td>776.050459</td>\n",
       "      <td>27.209929</td>\n",
       "      <td>107.940216</td>\n",
       "      <td>3.649017e-13</td>\n",
       "      <td>209.980255</td>\n",
       "      <td>Cost Effective</td>\n",
       "      <td>0.035062</td>\n",
       "      <td>0.139089</td>\n",
       "    </tr>\n",
       "    <tr>\n",
       "      <th>2085</th>\n",
       "      <td>271.095727</td>\n",
       "      <td>32499.802703</td>\n",
       "      <td>8411.131342</td>\n",
       "      <td>14488.485935</td>\n",
       "      <td>4052.508409</td>\n",
       "      <td>1100.699499</td>\n",
       "      <td>6351.255444</td>\n",
       "      <td>808.340568</td>\n",
       "      <td>25.537040</td>\n",
       "      <td>111.098035</td>\n",
       "      <td>3.626697e-13</td>\n",
       "      <td>224.980277</td>\n",
       "      <td>Cost Effective</td>\n",
       "      <td>0.031592</td>\n",
       "      <td>0.137440</td>\n",
       "    </tr>\n",
       "    <tr>\n",
       "      <th>2090</th>\n",
       "      <td>231.880464</td>\n",
       "      <td>33635.986743</td>\n",
       "      <td>8793.346077</td>\n",
       "      <td>15839.578086</td>\n",
       "      <td>4192.491680</td>\n",
       "      <td>55.017569</td>\n",
       "      <td>5222.291749</td>\n",
       "      <td>847.957322</td>\n",
       "      <td>23.946139</td>\n",
       "      <td>118.800754</td>\n",
       "      <td>3.649689e-13</td>\n",
       "      <td>233.181234</td>\n",
       "      <td>Cost Effective</td>\n",
       "      <td>0.028240</td>\n",
       "      <td>0.140102</td>\n",
       "    </tr>\n",
       "    <tr>\n",
       "      <th>2095</th>\n",
       "      <td>198.337871</td>\n",
       "      <td>34400.909467</td>\n",
       "      <td>9067.978281</td>\n",
       "      <td>17260.237502</td>\n",
       "      <td>4231.795430</td>\n",
       "      <td>12.021243</td>\n",
       "      <td>5096.530287</td>\n",
       "      <td>898.333540</td>\n",
       "      <td>22.433208</td>\n",
       "      <td>131.859482</td>\n",
       "      <td>3.604794e-13</td>\n",
       "      <td>238.208094</td>\n",
       "      <td>Cost Effective</td>\n",
       "      <td>0.024972</td>\n",
       "      <td>0.146782</td>\n",
       "    </tr>\n",
       "    <tr>\n",
       "      <th>2100</th>\n",
       "      <td>169.647371</td>\n",
       "      <td>35108.923937</td>\n",
       "      <td>9273.556347</td>\n",
       "      <td>18563.372220</td>\n",
       "      <td>4261.485541</td>\n",
       "      <td>66.754807</td>\n",
       "      <td>5074.572778</td>\n",
       "      <td>946.553506</td>\n",
       "      <td>20.994425</td>\n",
       "      <td>146.593106</td>\n",
       "      <td>3.627180e-13</td>\n",
       "      <td>243.040944</td>\n",
       "      <td>Cost Effective</td>\n",
       "      <td>0.022180</td>\n",
       "      <td>0.154870</td>\n",
       "    </tr>\n",
       "  </tbody>\n",
       "</table>\n",
       "<p>2748 rows × 15 columns</p>\n",
       "</div>"
      ],
      "text/plain": [
       "variable                                   Capacity|Electricity|Coal   \n",
       "model        scenario         region year                              \n",
       "AIM/CGE V2.2 T34_1000_bitb_em China  2010                 773.831900  \\\n",
       "                                     2015                1052.440200   \n",
       "                                     2020                1418.345300   \n",
       "                                     2025                1627.245700   \n",
       "                                     2030                1554.853200   \n",
       "...                                                              ...   \n",
       "WITCH 5.0    T34_1000_ref     World  2080                 316.943016   \n",
       "                                     2085                 271.095727   \n",
       "                                     2090                 231.880464   \n",
       "                                     2095                 198.337871   \n",
       "                                     2100                 169.647371   \n",
       "\n",
       "variable                                   Capacity|Electricity|Solar   \n",
       "model        scenario         region year                               \n",
       "AIM/CGE V2.2 T34_1000_bitb_em China  2010                    1.444500  \\\n",
       "                                     2015                   66.057900   \n",
       "                                     2020                  343.113100   \n",
       "                                     2025                  869.817100   \n",
       "                                     2030                 1991.788100   \n",
       "...                                                               ...   \n",
       "WITCH 5.0    T34_1000_ref     World  2080                30327.633257   \n",
       "                                     2085                32499.802703   \n",
       "                                     2090                33635.986743   \n",
       "                                     2095                34400.909467   \n",
       "                                     2100                35108.923937   \n",
       "\n",
       "variable                                   Capacity|Electricity|Wind   \n",
       "model        scenario         region year                              \n",
       "AIM/CGE V2.2 T34_1000_bitb_em China  2010                  14.653400  \\\n",
       "                                     2015                  61.946200   \n",
       "                                     2020                 153.929500   \n",
       "                                     2025                 299.663600   \n",
       "                                     2030                 577.686300   \n",
       "...                                                              ...   \n",
       "WITCH 5.0    T34_1000_ref     World  2080                7912.127852   \n",
       "                                     2085                8411.131342   \n",
       "                                     2090                8793.346077   \n",
       "                                     2095                9067.978281   \n",
       "                                     2100                9273.556347   \n",
       "\n",
       "variable                                   Carbon Sequestration|CCS   \n",
       "model        scenario         region year                             \n",
       "AIM/CGE V2.2 T34_1000_bitb_em China  2010                  0.000000  \\\n",
       "                                     2015                  0.000000   \n",
       "                                     2020                  0.000000   \n",
       "                                     2025                  0.000000   \n",
       "                                     2030                 47.916800   \n",
       "...                                                             ...   \n",
       "WITCH 5.0    T34_1000_ref     World  2080              13019.949055   \n",
       "                                     2085              14488.485935   \n",
       "                                     2090              15839.578086   \n",
       "                                     2095              17260.237502   \n",
       "                                     2100              18563.372220   \n",
       "\n",
       "variable                                   Carbon Sequestration|Land Use   \n",
       "model        scenario         region year                                  \n",
       "AIM/CGE V2.2 T34_1000_bitb_em China  2010                       0.000000  \\\n",
       "                                     2015                       0.000000   \n",
       "                                     2020                       0.000000   \n",
       "                                     2025                       0.000000   \n",
       "                                     2030                       0.000000   \n",
       "...                                                                  ...   \n",
       "WITCH 5.0    T34_1000_ref     World  2080                    3915.968699   \n",
       "                                     2085                    4052.508409   \n",
       "                                     2090                    4192.491680   \n",
       "                                     2095                    4231.795430   \n",
       "                                     2100                    4261.485541   \n",
       "\n",
       "variable                                   Emissions|CO2   \n",
       "model        scenario         region year                  \n",
       "AIM/CGE V2.2 T34_1000_bitb_em China  2010    8860.316800  \\\n",
       "                                     2015   10778.558700   \n",
       "                                     2020   11958.470200   \n",
       "                                     2025   11054.068900   \n",
       "                                     2030    9801.157700   \n",
       "...                                                  ...   \n",
       "WITCH 5.0    T34_1000_ref     World  2080    2789.489406   \n",
       "                                     2085    1100.699499   \n",
       "                                     2090      55.017569   \n",
       "                                     2095      12.021243   \n",
       "                                     2100      66.754807   \n",
       "\n",
       "variable                                   Emissions|Kyoto Gases   \n",
       "model        scenario         region year                          \n",
       "AIM/CGE V2.2 T34_1000_bitb_em China  2010           11537.518700  \\\n",
       "                                     2015           13745.716900   \n",
       "                                     2020           15070.756300   \n",
       "                                     2025           13229.030800   \n",
       "                                     2030           11433.064700   \n",
       "...                                                          ...   \n",
       "WITCH 5.0    T34_1000_ref     World  2080            8124.562984   \n",
       "                                     2085            6351.255444   \n",
       "                                     2090            5222.291749   \n",
       "                                     2095            5096.530287   \n",
       "                                     2100            5074.572778   \n",
       "\n",
       "variable                                   Primary Energy   \n",
       "model        scenario         region year                   \n",
       "AIM/CGE V2.2 T34_1000_bitb_em China  2010      108.357000  \\\n",
       "                                     2015      132.793100   \n",
       "                                     2020      151.292000   \n",
       "                                     2025      152.715400   \n",
       "                                     2030      151.627000   \n",
       "...                                                   ...   \n",
       "WITCH 5.0    T34_1000_ref     World  2080      776.050459   \n",
       "                                     2085      808.340568   \n",
       "                                     2090      847.957322   \n",
       "                                     2095      898.333540   \n",
       "                                     2100      946.553506   \n",
       "\n",
       "variable                                   Primary Energy|Coal   \n",
       "model        scenario         region year                        \n",
       "AIM/CGE V2.2 T34_1000_bitb_em China  2010            76.802100  \\\n",
       "                                     2015            92.256000   \n",
       "                                     2020            97.701100   \n",
       "                                     2025            82.873900   \n",
       "                                     2030            66.704800   \n",
       "...                                                        ...   \n",
       "WITCH 5.0    T34_1000_ref     World  2080            27.209929   \n",
       "                                     2085            25.537040   \n",
       "                                     2090            23.946139   \n",
       "                                     2095            22.433208   \n",
       "                                     2100            20.994425   \n",
       "\n",
       "variable                                   Primary Energy|Gas   \n",
       "model        scenario         region year                       \n",
       "AIM/CGE V2.2 T34_1000_bitb_em China  2010            4.061500  \\\n",
       "                                     2015            5.667400   \n",
       "                                     2020            9.500000   \n",
       "                                     2025           19.923700   \n",
       "                                     2030           27.172400   \n",
       "...                                                       ...   \n",
       "WITCH 5.0    T34_1000_ref     World  2080          107.940216   \n",
       "                                     2085          111.098035   \n",
       "                                     2090          118.800754   \n",
       "                                     2095          131.859482   \n",
       "                                     2100          146.593106   \n",
       "\n",
       "variable                                   Secondary Energy|Electricity|Coal   \n",
       "model        scenario         region year                                      \n",
       "AIM/CGE V2.2 T34_1000_bitb_em China  2010                       1.157230e+01  \\\n",
       "                                     2015                       1.503830e+01   \n",
       "                                     2020                       1.884280e+01   \n",
       "                                     2025                       1.993550e+01   \n",
       "                                     2030                       1.607110e+01   \n",
       "...                                                                      ...   \n",
       "WITCH 5.0    T34_1000_ref     World  2080                       3.649017e-13   \n",
       "                                     2085                       3.626697e-13   \n",
       "                                     2090                       3.649689e-13   \n",
       "                                     2095                       3.604794e-13   \n",
       "                                     2100                       3.627180e-13   \n",
       "\n",
       "variable                                   Secondary Energy|Electricity|Solar   \n",
       "model        scenario         region year                                       \n",
       "AIM/CGE V2.2 T34_1000_bitb_em China  2010                            0.008700  \\\n",
       "                                     2015                            0.399300   \n",
       "                                     2020                            2.074100   \n",
       "                                     2025                            4.893300   \n",
       "                                     2030                           10.869000   \n",
       "...                                                                       ...   \n",
       "WITCH 5.0    T34_1000_ref     World  2080                          209.980255   \n",
       "                                     2085                          224.980277   \n",
       "                                     2090                          233.181234   \n",
       "                                     2095                          238.208094   \n",
       "                                     2100                          243.040944   \n",
       "\n",
       "variable                                  scenario_narrative  Share_Coal   \n",
       "model        scenario         region year                                  \n",
       "AIM/CGE V2.2 T34_1000_bitb_em China  2010          Tech+Inst    0.708788  \\\n",
       "                                     2015          Tech+Inst    0.694735   \n",
       "                                     2020          Tech+Inst    0.645778   \n",
       "                                     2025          Tech+Inst    0.542669   \n",
       "                                     2030          Tech+Inst    0.439927   \n",
       "...                                                      ...         ...   \n",
       "WITCH 5.0    T34_1000_ref     World  2080     Cost Effective    0.035062   \n",
       "                                     2085     Cost Effective    0.031592   \n",
       "                                     2090     Cost Effective    0.028240   \n",
       "                                     2095     Cost Effective    0.024972   \n",
       "                                     2100     Cost Effective    0.022180   \n",
       "\n",
       "variable                                   Share_Gas  \n",
       "model        scenario         region year             \n",
       "AIM/CGE V2.2 T34_1000_bitb_em China  2010   0.037483  \n",
       "                                     2015   0.042678  \n",
       "                                     2020   0.062792  \n",
       "                                     2025   0.130463  \n",
       "                                     2030   0.179206  \n",
       "...                                              ...  \n",
       "WITCH 5.0    T34_1000_ref     World  2080   0.139089  \n",
       "                                     2085   0.137440  \n",
       "                                     2090   0.140102  \n",
       "                                     2095   0.146782  \n",
       "                                     2100   0.154870  \n",
       "\n",
       "[2748 rows x 15 columns]"
      ]
     },
     "execution_count": 24,
     "metadata": {},
     "output_type": "execute_result"
    }
   ],
   "source": [
    "#get boxplot data from NDC & NPi\n"
   ]
  },
  {
   "cell_type": "markdown",
   "metadata": {},
   "source": [
    "# OLD CODE BELOW\n"
   ]
  },
  {
   "cell_type": "code",
   "execution_count": 83,
   "metadata": {},
   "outputs": [
    {
     "data": {
      "application/vnd.plotly.v1+json": {
       "config": {
        "plotlyServerURL": "https://plot.ly"
       },
       "data": [
        {
         "boxpoints": false,
         "marker": {
          "color": "grey"
         },
         "name": "Boxplot",
         "opacity": 0.3,
         "showlegend": false,
         "type": "box",
         "x": [
          "Instit",
          "Cost Effective",
          "Cost Effective",
          "Instit",
          "Cost Effective",
          "Instit",
          "Cost Effective",
          "Instit",
          "Cost Effective",
          "Instit",
          "Cost Effective",
          "Instit",
          "Cost Effective",
          "Instit",
          "Cost Effective"
         ],
         "xaxis": "x",
         "y": [
          0.21833576511088226,
          0.2475844294895769,
          0.1118504740914091,
          0.16677098683471817,
          0.16585324384940472,
          0.160854721093494,
          0.24220762950586733,
          0.2305038960259554,
          0.30426085350928456,
          0.20066467474897637,
          0.19239051053140205,
          0.21352085930054884,
          0.21088547311897723,
          0.2913229756919772,
          0.45958632493761675
         ],
         "yaxis": "y"
        },
        {
         "legendgroup": "Models",
         "marker": {
          "color": [
           "rgb(255, 0, 0)",
           "rgb(255, 0, 0)",
           "rgb(0, 255, 0)",
           "rgb(0, 0, 255)",
           "rgb(0, 0, 255)",
           "rgb(255, 255, 0)",
           "rgb(255, 255, 0)",
           "rgb(255, 0, 255)",
           "rgb(255, 0, 255)",
           "rgb(0, 255, 255)",
           "rgb(0, 255, 255)",
           "rgb(128, 0, 0)",
           "rgb(128, 0, 0)",
           "rgb(0, 128, 0)",
           "rgb(0, 128, 0)"
          ],
          "size": 6
         },
         "mode": "markers",
         "name": "Scatterplot",
         "showlegend": false,
         "type": "scatter",
         "x": [
          "Instit",
          "Cost Effective",
          "Cost Effective",
          "Instit",
          "Cost Effective",
          "Instit",
          "Cost Effective",
          "Instit",
          "Cost Effective",
          "Instit",
          "Cost Effective",
          "Instit",
          "Cost Effective",
          "Instit",
          "Cost Effective"
         ],
         "xaxis": "x",
         "y": [
          0.21833576511088226,
          0.2475844294895769,
          0.1118504740914091,
          0.16677098683471817,
          0.16585324384940472,
          0.160854721093494,
          0.24220762950586733,
          0.2305038960259554,
          0.30426085350928456,
          0.20066467474897637,
          0.19239051053140205,
          0.21352085930054884,
          0.21088547311897723,
          0.2913229756919772,
          0.45958632493761675
         ],
         "yaxis": "y"
        },
        {
         "boxpoints": false,
         "marker": {
          "color": "grey"
         },
         "name": "Boxplot",
         "opacity": 0.3,
         "showlegend": false,
         "type": "box",
         "x": [
          "Instit",
          "Cost Effective",
          "Cost Effective",
          "Instit",
          "Cost Effective",
          "Instit",
          "Cost Effective",
          "Instit",
          "Cost Effective",
          "Instit",
          "Cost Effective",
          "Instit",
          "Cost Effective",
          "Instit",
          "Cost Effective"
         ],
         "xaxis": "x2",
         "y": [
          0.46768819780641585,
          0.4661109444711835,
          0.3234175721794272,
          0.4309181586125423,
          0.4359212675160689,
          0.49216324175615794,
          0.5936432301420667,
          0.4418765825585561,
          0.5045350672250201,
          0.3929782226948657,
          0.5034301034361067,
          0.5496545122022195,
          0.5623175051119668,
          0.4896034001553936,
          0.5798224880353455
         ],
         "yaxis": "y2"
        },
        {
         "legendgroup": "Models",
         "marker": {
          "color": [
           "rgb(255, 0, 0)",
           "rgb(255, 0, 0)",
           "rgb(0, 255, 0)",
           "rgb(0, 0, 255)",
           "rgb(0, 0, 255)",
           "rgb(255, 255, 0)",
           "rgb(255, 255, 0)",
           "rgb(255, 0, 255)",
           "rgb(255, 0, 255)",
           "rgb(0, 255, 255)",
           "rgb(0, 255, 255)",
           "rgb(128, 0, 0)",
           "rgb(128, 0, 0)",
           "rgb(0, 128, 0)",
           "rgb(0, 128, 0)"
          ],
          "size": 6
         },
         "mode": "markers",
         "name": "Scatterplot",
         "showlegend": false,
         "type": "scatter",
         "x": [
          "Instit",
          "Cost Effective",
          "Cost Effective",
          "Instit",
          "Cost Effective",
          "Instit",
          "Cost Effective",
          "Instit",
          "Cost Effective",
          "Instit",
          "Cost Effective",
          "Instit",
          "Cost Effective",
          "Instit",
          "Cost Effective"
         ],
         "xaxis": "x2",
         "y": [
          0.46768819780641585,
          0.4661109444711835,
          0.3234175721794272,
          0.4309181586125423,
          0.4359212675160689,
          0.49216324175615794,
          0.5936432301420667,
          0.4418765825585561,
          0.5045350672250201,
          0.3929782226948657,
          0.5034301034361067,
          0.5496545122022195,
          0.5623175051119668,
          0.4896034001553936,
          0.5798224880353455
         ],
         "yaxis": "y2"
        },
        {
         "legendgroup": "Models",
         "marker": {
          "color": "rgb(255, 0, 0)"
         },
         "name": "AIM/CGE V2.2",
         "showlegend": true,
         "type": "scatter",
         "x": [
          null
         ],
         "y": [
          null
         ]
        },
        {
         "legendgroup": "Models",
         "marker": {
          "color": "rgb(0, 255, 0)"
         },
         "name": "COFFEE 1.5",
         "showlegend": true,
         "type": "scatter",
         "x": [
          null
         ],
         "y": [
          null
         ]
        },
        {
         "legendgroup": "Models",
         "marker": {
          "color": "rgb(0, 0, 255)"
         },
         "name": "GEM-E3_V2023",
         "showlegend": true,
         "type": "scatter",
         "x": [
          null
         ],
         "y": [
          null
         ]
        },
        {
         "legendgroup": "Models",
         "marker": {
          "color": "rgb(255, 255, 0)"
         },
         "name": "IMAGE 3.2",
         "showlegend": true,
         "type": "scatter",
         "x": [
          null
         ],
         "y": [
          null
         ]
        },
        {
         "legendgroup": "Models",
         "marker": {
          "color": "rgb(255, 0, 255)"
         },
         "name": "MESSAGEix-GLOBIOM_1.1",
         "showlegend": true,
         "type": "scatter",
         "x": [
          null
         ],
         "y": [
          null
         ]
        },
        {
         "legendgroup": "Models",
         "marker": {
          "color": "rgb(0, 255, 255)"
         },
         "name": "POLES ENGAGE",
         "showlegend": true,
         "type": "scatter",
         "x": [
          null
         ],
         "y": [
          null
         ]
        },
        {
         "legendgroup": "Models",
         "marker": {
          "color": "rgb(128, 0, 0)"
         },
         "name": "REMIND 3.0",
         "showlegend": true,
         "type": "scatter",
         "x": [
          null
         ],
         "y": [
          null
         ]
        },
        {
         "legendgroup": "Models",
         "marker": {
          "color": "rgb(0, 128, 0)"
         },
         "name": "WITCH 5.0",
         "showlegend": true,
         "type": "scatter",
         "x": [
          null
         ],
         "y": [
          null
         ]
        }
       ],
       "layout": {
        "annotations": [
         {
          "showarrow": false,
          "text": "2030_CO2_redu",
          "x": 0.5,
          "xref": "x",
          "y": 1.1,
          "yref": "paper"
         },
         {
          "showarrow": false,
          "text": "2040_CO2_redu",
          "x": 0.5,
          "xref": "x2",
          "y": 1.1,
          "yref": "paper"
         }
        ],
        "legend": {
         "itemsizing": "constant",
         "traceorder": "normal"
        },
        "template": {
         "data": {
          "bar": [
           {
            "error_x": {
             "color": "#2a3f5f"
            },
            "error_y": {
             "color": "#2a3f5f"
            },
            "marker": {
             "line": {
              "color": "#E5ECF6",
              "width": 0.5
             },
             "pattern": {
              "fillmode": "overlay",
              "size": 10,
              "solidity": 0.2
             }
            },
            "type": "bar"
           }
          ],
          "barpolar": [
           {
            "marker": {
             "line": {
              "color": "#E5ECF6",
              "width": 0.5
             },
             "pattern": {
              "fillmode": "overlay",
              "size": 10,
              "solidity": 0.2
             }
            },
            "type": "barpolar"
           }
          ],
          "carpet": [
           {
            "aaxis": {
             "endlinecolor": "#2a3f5f",
             "gridcolor": "white",
             "linecolor": "white",
             "minorgridcolor": "white",
             "startlinecolor": "#2a3f5f"
            },
            "baxis": {
             "endlinecolor": "#2a3f5f",
             "gridcolor": "white",
             "linecolor": "white",
             "minorgridcolor": "white",
             "startlinecolor": "#2a3f5f"
            },
            "type": "carpet"
           }
          ],
          "choropleth": [
           {
            "colorbar": {
             "outlinewidth": 0,
             "ticks": ""
            },
            "type": "choropleth"
           }
          ],
          "contour": [
           {
            "colorbar": {
             "outlinewidth": 0,
             "ticks": ""
            },
            "colorscale": [
             [
              0,
              "#0d0887"
             ],
             [
              0.1111111111111111,
              "#46039f"
             ],
             [
              0.2222222222222222,
              "#7201a8"
             ],
             [
              0.3333333333333333,
              "#9c179e"
             ],
             [
              0.4444444444444444,
              "#bd3786"
             ],
             [
              0.5555555555555556,
              "#d8576b"
             ],
             [
              0.6666666666666666,
              "#ed7953"
             ],
             [
              0.7777777777777778,
              "#fb9f3a"
             ],
             [
              0.8888888888888888,
              "#fdca26"
             ],
             [
              1,
              "#f0f921"
             ]
            ],
            "type": "contour"
           }
          ],
          "contourcarpet": [
           {
            "colorbar": {
             "outlinewidth": 0,
             "ticks": ""
            },
            "type": "contourcarpet"
           }
          ],
          "heatmap": [
           {
            "colorbar": {
             "outlinewidth": 0,
             "ticks": ""
            },
            "colorscale": [
             [
              0,
              "#0d0887"
             ],
             [
              0.1111111111111111,
              "#46039f"
             ],
             [
              0.2222222222222222,
              "#7201a8"
             ],
             [
              0.3333333333333333,
              "#9c179e"
             ],
             [
              0.4444444444444444,
              "#bd3786"
             ],
             [
              0.5555555555555556,
              "#d8576b"
             ],
             [
              0.6666666666666666,
              "#ed7953"
             ],
             [
              0.7777777777777778,
              "#fb9f3a"
             ],
             [
              0.8888888888888888,
              "#fdca26"
             ],
             [
              1,
              "#f0f921"
             ]
            ],
            "type": "heatmap"
           }
          ],
          "heatmapgl": [
           {
            "colorbar": {
             "outlinewidth": 0,
             "ticks": ""
            },
            "colorscale": [
             [
              0,
              "#0d0887"
             ],
             [
              0.1111111111111111,
              "#46039f"
             ],
             [
              0.2222222222222222,
              "#7201a8"
             ],
             [
              0.3333333333333333,
              "#9c179e"
             ],
             [
              0.4444444444444444,
              "#bd3786"
             ],
             [
              0.5555555555555556,
              "#d8576b"
             ],
             [
              0.6666666666666666,
              "#ed7953"
             ],
             [
              0.7777777777777778,
              "#fb9f3a"
             ],
             [
              0.8888888888888888,
              "#fdca26"
             ],
             [
              1,
              "#f0f921"
             ]
            ],
            "type": "heatmapgl"
           }
          ],
          "histogram": [
           {
            "marker": {
             "pattern": {
              "fillmode": "overlay",
              "size": 10,
              "solidity": 0.2
             }
            },
            "type": "histogram"
           }
          ],
          "histogram2d": [
           {
            "colorbar": {
             "outlinewidth": 0,
             "ticks": ""
            },
            "colorscale": [
             [
              0,
              "#0d0887"
             ],
             [
              0.1111111111111111,
              "#46039f"
             ],
             [
              0.2222222222222222,
              "#7201a8"
             ],
             [
              0.3333333333333333,
              "#9c179e"
             ],
             [
              0.4444444444444444,
              "#bd3786"
             ],
             [
              0.5555555555555556,
              "#d8576b"
             ],
             [
              0.6666666666666666,
              "#ed7953"
             ],
             [
              0.7777777777777778,
              "#fb9f3a"
             ],
             [
              0.8888888888888888,
              "#fdca26"
             ],
             [
              1,
              "#f0f921"
             ]
            ],
            "type": "histogram2d"
           }
          ],
          "histogram2dcontour": [
           {
            "colorbar": {
             "outlinewidth": 0,
             "ticks": ""
            },
            "colorscale": [
             [
              0,
              "#0d0887"
             ],
             [
              0.1111111111111111,
              "#46039f"
             ],
             [
              0.2222222222222222,
              "#7201a8"
             ],
             [
              0.3333333333333333,
              "#9c179e"
             ],
             [
              0.4444444444444444,
              "#bd3786"
             ],
             [
              0.5555555555555556,
              "#d8576b"
             ],
             [
              0.6666666666666666,
              "#ed7953"
             ],
             [
              0.7777777777777778,
              "#fb9f3a"
             ],
             [
              0.8888888888888888,
              "#fdca26"
             ],
             [
              1,
              "#f0f921"
             ]
            ],
            "type": "histogram2dcontour"
           }
          ],
          "mesh3d": [
           {
            "colorbar": {
             "outlinewidth": 0,
             "ticks": ""
            },
            "type": "mesh3d"
           }
          ],
          "parcoords": [
           {
            "line": {
             "colorbar": {
              "outlinewidth": 0,
              "ticks": ""
             }
            },
            "type": "parcoords"
           }
          ],
          "pie": [
           {
            "automargin": true,
            "type": "pie"
           }
          ],
          "scatter": [
           {
            "fillpattern": {
             "fillmode": "overlay",
             "size": 10,
             "solidity": 0.2
            },
            "type": "scatter"
           }
          ],
          "scatter3d": [
           {
            "line": {
             "colorbar": {
              "outlinewidth": 0,
              "ticks": ""
             }
            },
            "marker": {
             "colorbar": {
              "outlinewidth": 0,
              "ticks": ""
             }
            },
            "type": "scatter3d"
           }
          ],
          "scattercarpet": [
           {
            "marker": {
             "colorbar": {
              "outlinewidth": 0,
              "ticks": ""
             }
            },
            "type": "scattercarpet"
           }
          ],
          "scattergeo": [
           {
            "marker": {
             "colorbar": {
              "outlinewidth": 0,
              "ticks": ""
             }
            },
            "type": "scattergeo"
           }
          ],
          "scattergl": [
           {
            "marker": {
             "colorbar": {
              "outlinewidth": 0,
              "ticks": ""
             }
            },
            "type": "scattergl"
           }
          ],
          "scattermapbox": [
           {
            "marker": {
             "colorbar": {
              "outlinewidth": 0,
              "ticks": ""
             }
            },
            "type": "scattermapbox"
           }
          ],
          "scatterpolar": [
           {
            "marker": {
             "colorbar": {
              "outlinewidth": 0,
              "ticks": ""
             }
            },
            "type": "scatterpolar"
           }
          ],
          "scatterpolargl": [
           {
            "marker": {
             "colorbar": {
              "outlinewidth": 0,
              "ticks": ""
             }
            },
            "type": "scatterpolargl"
           }
          ],
          "scatterternary": [
           {
            "marker": {
             "colorbar": {
              "outlinewidth": 0,
              "ticks": ""
             }
            },
            "type": "scatterternary"
           }
          ],
          "surface": [
           {
            "colorbar": {
             "outlinewidth": 0,
             "ticks": ""
            },
            "colorscale": [
             [
              0,
              "#0d0887"
             ],
             [
              0.1111111111111111,
              "#46039f"
             ],
             [
              0.2222222222222222,
              "#7201a8"
             ],
             [
              0.3333333333333333,
              "#9c179e"
             ],
             [
              0.4444444444444444,
              "#bd3786"
             ],
             [
              0.5555555555555556,
              "#d8576b"
             ],
             [
              0.6666666666666666,
              "#ed7953"
             ],
             [
              0.7777777777777778,
              "#fb9f3a"
             ],
             [
              0.8888888888888888,
              "#fdca26"
             ],
             [
              1,
              "#f0f921"
             ]
            ],
            "type": "surface"
           }
          ],
          "table": [
           {
            "cells": {
             "fill": {
              "color": "#EBF0F8"
             },
             "line": {
              "color": "white"
             }
            },
            "header": {
             "fill": {
              "color": "#C8D4E3"
             },
             "line": {
              "color": "white"
             }
            },
            "type": "table"
           }
          ]
         },
         "layout": {
          "annotationdefaults": {
           "arrowcolor": "#2a3f5f",
           "arrowhead": 0,
           "arrowwidth": 1
          },
          "autotypenumbers": "strict",
          "coloraxis": {
           "colorbar": {
            "outlinewidth": 0,
            "ticks": ""
           }
          },
          "colorscale": {
           "diverging": [
            [
             0,
             "#8e0152"
            ],
            [
             0.1,
             "#c51b7d"
            ],
            [
             0.2,
             "#de77ae"
            ],
            [
             0.3,
             "#f1b6da"
            ],
            [
             0.4,
             "#fde0ef"
            ],
            [
             0.5,
             "#f7f7f7"
            ],
            [
             0.6,
             "#e6f5d0"
            ],
            [
             0.7,
             "#b8e186"
            ],
            [
             0.8,
             "#7fbc41"
            ],
            [
             0.9,
             "#4d9221"
            ],
            [
             1,
             "#276419"
            ]
           ],
           "sequential": [
            [
             0,
             "#0d0887"
            ],
            [
             0.1111111111111111,
             "#46039f"
            ],
            [
             0.2222222222222222,
             "#7201a8"
            ],
            [
             0.3333333333333333,
             "#9c179e"
            ],
            [
             0.4444444444444444,
             "#bd3786"
            ],
            [
             0.5555555555555556,
             "#d8576b"
            ],
            [
             0.6666666666666666,
             "#ed7953"
            ],
            [
             0.7777777777777778,
             "#fb9f3a"
            ],
            [
             0.8888888888888888,
             "#fdca26"
            ],
            [
             1,
             "#f0f921"
            ]
           ],
           "sequentialminus": [
            [
             0,
             "#0d0887"
            ],
            [
             0.1111111111111111,
             "#46039f"
            ],
            [
             0.2222222222222222,
             "#7201a8"
            ],
            [
             0.3333333333333333,
             "#9c179e"
            ],
            [
             0.4444444444444444,
             "#bd3786"
            ],
            [
             0.5555555555555556,
             "#d8576b"
            ],
            [
             0.6666666666666666,
             "#ed7953"
            ],
            [
             0.7777777777777778,
             "#fb9f3a"
            ],
            [
             0.8888888888888888,
             "#fdca26"
            ],
            [
             1,
             "#f0f921"
            ]
           ]
          },
          "colorway": [
           "#636efa",
           "#EF553B",
           "#00cc96",
           "#ab63fa",
           "#FFA15A",
           "#19d3f3",
           "#FF6692",
           "#B6E880",
           "#FF97FF",
           "#FECB52"
          ],
          "font": {
           "color": "#2a3f5f"
          },
          "geo": {
           "bgcolor": "white",
           "lakecolor": "white",
           "landcolor": "#E5ECF6",
           "showlakes": true,
           "showland": true,
           "subunitcolor": "white"
          },
          "hoverlabel": {
           "align": "left"
          },
          "hovermode": "closest",
          "mapbox": {
           "style": "light"
          },
          "paper_bgcolor": "white",
          "plot_bgcolor": "#E5ECF6",
          "polar": {
           "angularaxis": {
            "gridcolor": "white",
            "linecolor": "white",
            "ticks": ""
           },
           "bgcolor": "#E5ECF6",
           "radialaxis": {
            "gridcolor": "white",
            "linecolor": "white",
            "ticks": ""
           }
          },
          "scene": {
           "xaxis": {
            "backgroundcolor": "#E5ECF6",
            "gridcolor": "white",
            "gridwidth": 2,
            "linecolor": "white",
            "showbackground": true,
            "ticks": "",
            "zerolinecolor": "white"
           },
           "yaxis": {
            "backgroundcolor": "#E5ECF6",
            "gridcolor": "white",
            "gridwidth": 2,
            "linecolor": "white",
            "showbackground": true,
            "ticks": "",
            "zerolinecolor": "white"
           },
           "zaxis": {
            "backgroundcolor": "#E5ECF6",
            "gridcolor": "white",
            "gridwidth": 2,
            "linecolor": "white",
            "showbackground": true,
            "ticks": "",
            "zerolinecolor": "white"
           }
          },
          "shapedefaults": {
           "line": {
            "color": "#2a3f5f"
           }
          },
          "ternary": {
           "aaxis": {
            "gridcolor": "white",
            "linecolor": "white",
            "ticks": ""
           },
           "baxis": {
            "gridcolor": "white",
            "linecolor": "white",
            "ticks": ""
           },
           "bgcolor": "#E5ECF6",
           "caxis": {
            "gridcolor": "white",
            "linecolor": "white",
            "ticks": ""
           }
          },
          "title": {
           "x": 0.05
          },
          "xaxis": {
           "automargin": true,
           "gridcolor": "white",
           "linecolor": "white",
           "ticks": "",
           "title": {
            "standoff": 15
           },
           "zerolinecolor": "white",
           "zerolinewidth": 2
          },
          "yaxis": {
           "automargin": true,
           "gridcolor": "white",
           "linecolor": "white",
           "ticks": "",
           "title": {
            "standoff": 15
           },
           "zerolinecolor": "white",
           "zerolinewidth": 2
          }
         }
        },
        "title": {
         "text": "Boxplot with Scatterplot"
        },
        "xaxis": {
         "anchor": "y",
         "domain": [
          0,
          0.45
         ],
         "title": {
          "text": "Scenario Narrative"
         }
        },
        "xaxis2": {
         "anchor": "y2",
         "domain": [
          0.55,
          1
         ]
        },
        "yaxis": {
         "anchor": "x",
         "domain": [
          0,
          1
         ],
         "title": {
          "text": "Reduction Value"
         }
        },
        "yaxis2": {
         "anchor": "x2",
         "domain": [
          0,
          1
         ],
         "matches": "y",
         "showticklabels": false
        }
       }
      }
     },
     "metadata": {},
     "output_type": "display_data"
    }
   ],
   "source": [
    "# Define color mapping for models\n",
    "color_mapping = {\n",
    "    'AIM/CGE V2.2': \"rgb(255, 0, 0)\",\n",
    "    'COFFEE 1.5': \"rgb(0, 255, 0)\",\n",
    "    'GEM-E3_V2023': \"rgb(0, 0, 255)\",\n",
    "    'IMAGE 3.2': \"rgb(255, 255, 0)\",\n",
    "    'MESSAGEix-GLOBIOM_1.1': \"rgb(255, 0, 255)\",\n",
    "    'POLES ENGAGE': \"rgb(0, 255, 255)\",\n",
    "    'REMIND 3.0': \"rgb(128, 0, 0)\",\n",
    "    'WITCH 5.0': \"rgb(0, 128, 0)\"\n",
    "}\n",
    "\n",
    "# Map colors based on the \"model\" column\n",
    "filter_df[\"color\"] = filter_df[\"model\"].map(color_mapping)\n",
    "\n",
    "fig = make_subplots(rows=1, cols=len(filter_df[\"reduction_year\"].unique()), shared_yaxes=True)\n",
    "\n",
    "for i, year in enumerate(filter_df[\"reduction_year\"].unique()):\n",
    "    box_trace = go.Box(\n",
    "        x=filter_df[(filter_df[\"reduction_year\"] == year)][\"scenario_narrative\"],\n",
    "        y=filter_df[(filter_df[\"reduction_year\"] == year)][\"reduction_value\"],\n",
    "        name=\"Boxplot\",\n",
    "        boxpoints=False,\n",
    "        marker_color='grey',\n",
    "        opacity=0.3,\n",
    "        showlegend=False\n",
    "    )\n",
    "\n",
    "    scatter_trace = go.Scatter(\n",
    "        x=filter_df[(filter_df[\"reduction_year\"] == year)][\"scenario_narrative\"],\n",
    "        y=filter_df[(filter_df[\"reduction_year\"] == year)][\"reduction_value\"],\n",
    "        mode=\"markers\",\n",
    "        name=\"Scatterplot\",\n",
    "        marker=dict(\n",
    "            color=filter_df[(filter_df[\"reduction_year\"] == year)][\"color\"],\n",
    "            size=6\n",
    "        ),\n",
    "        showlegend=False,\n",
    "        legendgroup=\"Models\"\n",
    "    )\n",
    "\n",
    "    fig.add_trace(box_trace, row=1, col=i + 1)\n",
    "    fig.add_trace(scatter_trace, row=1, col=i + 1)\n",
    "\n",
    "    # Add subplot titles\n",
    "    fig.update_layout(\n",
    "        annotations=[dict(text=str(year), xref=\"x\" + str(i + 1), yref=\"paper\", x=0.5, y=1.1, showarrow=False) for i, year in enumerate(filter_df[\"reduction_year\"].unique())]\n",
    "    )\n",
    "\n",
    "    # Update legend to show scatterplot colors\n",
    "# Add legend items for scatterplot colors\n",
    "for model in filter_df[\"model\"].unique():\n",
    "    fig.add_trace(go.Scatter(\n",
    "        x=[None],\n",
    "        y=[None],\n",
    "        marker=dict(color=color_mapping[model]),\n",
    "        name=model,\n",
    "        legendgroup=\"Models\", \n",
    "        showlegend=True\n",
    "    ))\n",
    "\n",
    "fig.update_layout(\n",
    "    title=\"Boxplot with Scatterplot\",\n",
    "    xaxis=dict(title=\"Scenario Narrative\"),\n",
    "    yaxis=dict(title=\"Reduction Value\"),\n",
    "    legend=dict(\n",
    "        traceorder=\"normal\",\n",
    "        itemsizing=\"constant\"\n",
    "    )\n",
    ")\n",
    "\n",
    "fig.show()"
   ]
  },
  {
   "cell_type": "code",
   "execution_count": 53,
   "metadata": {},
   "outputs": [
    {
     "name": "stderr",
     "output_type": "stream",
     "text": [
      "C:\\Users\\scheifinger\\AppData\\Local\\Temp\\ipykernel_13332\\2045176072.py:14: SettingWithCopyWarning:\n",
      "\n",
      "\n",
      "A value is trying to be set on a copy of a slice from a DataFrame.\n",
      "Try using .loc[row_indexer,col_indexer] = value instead\n",
      "\n",
      "See the caveats in the documentation: https://pandas.pydata.org/pandas-docs/stable/user_guide/indexing.html#returning-a-view-versus-a-copy\n",
      "\n"
     ]
    },
    {
     "data": {
      "application/vnd.plotly.v1+json": {
       "config": {
        "plotlyServerURL": "https://plot.ly"
       },
       "data": [
        {
         "boxpoints": false,
         "marker": {
          "color": "grey"
         },
         "name": "Boxplot",
         "opacity": 0.3,
         "showlegend": false,
         "type": "box",
         "x": [
          "Instit",
          "Instit",
          "Instit",
          "Cost Effective",
          "Cost Effective",
          "Cost Effective",
          "Cost Effective",
          "Cost Effective",
          "Cost Effective",
          "Instit",
          "Instit",
          "Cost Effective",
          "Cost Effective",
          "Cost Effective",
          "Instit",
          "Instit",
          "Instit",
          "Cost Effective",
          "Cost Effective",
          "Cost Effective",
          "Instit",
          "Instit",
          "Instit",
          "Cost Effective",
          "Cost Effective",
          "Cost Effective",
          "Instit",
          "Instit",
          "Instit",
          "Cost Effective",
          "Cost Effective",
          "Cost Effective",
          "Instit",
          "Instit",
          "Cost Effective",
          "Cost Effective",
          "Instit",
          "Instit",
          "Cost Effective"
         ],
         "xaxis": "x",
         "y": [
          0.19089926290173148,
          0.3493709753099426,
          0.15614909844877173,
          0.21456210199115203,
          0.20601951846505107,
          0.2944889991033322,
          0.31880077434733955,
          -0.11050205594872727,
          0.14672348107083244,
          0.12348658032081952,
          0.07017362782379873,
          0.10999369121747934,
          0.2091511336594297,
          0.13092520260405208,
          0.07963576706321812,
          0.4572387119569702,
          0.07587287580599086,
          0.1819395839402809,
          0.3934301614198927,
          0.23329964759985738,
          0.1544219563920195,
          0.46004099771739304,
          0.14899939555459782,
          0.35624521655527713,
          0.28649198479064236,
          0.2996523234382535,
          0.20307037384134885,
          0.4470922096573954,
          0.08519308441892864,
          0.18477586951722366,
          0.32706705322170454,
          0.17146219697598727,
          0.32798535294506925,
          0.054946960642255675,
          0.28407707530507015,
          0.11022324338213345,
          0.2500000000000034,
          0.15303819789868672,
          0.4589283563737967
         ],
         "yaxis": "y"
        },
        {
         "legendgroup": "AIM/CGE V2.2",
         "marker": {
          "color": "rgb(255, 0, 0)",
          "size": 6
         },
         "mode": "markers",
         "name": "AIM/CGE V2.2",
         "showlegend": true,
         "type": "scatter",
         "x": [
          "Instit",
          "Instit",
          "Instit",
          "Cost Effective",
          "Cost Effective",
          "Cost Effective"
         ],
         "xaxis": "x",
         "y": [
          0.19089926290173148,
          0.3493709753099426,
          0.15614909844877173,
          0.21456210199115203,
          0.20601951846505107,
          0.2944889991033322
         ],
         "yaxis": "y"
        },
        {
         "legendgroup": "COFFEE 1.5",
         "marker": {
          "color": "rgb(0, 255, 0)",
          "size": 6
         },
         "mode": "markers",
         "name": "COFFEE 1.5",
         "showlegend": true,
         "type": "scatter",
         "x": [
          "Cost Effective",
          "Cost Effective",
          "Cost Effective"
         ],
         "xaxis": "x",
         "y": [
          0.31880077434733955,
          -0.11050205594872727,
          0.14672348107083244
         ],
         "yaxis": "y"
        },
        {
         "legendgroup": "GEM-E3_V2023",
         "marker": {
          "color": "rgb(0, 0, 255)",
          "size": 6
         },
         "mode": "markers",
         "name": "GEM-E3_V2023",
         "showlegend": true,
         "type": "scatter",
         "x": [
          "Instit",
          "Instit",
          "Cost Effective",
          "Cost Effective",
          "Cost Effective"
         ],
         "xaxis": "x",
         "y": [
          0.12348658032081952,
          0.07017362782379873,
          0.10999369121747934,
          0.2091511336594297,
          0.13092520260405208
         ],
         "yaxis": "y"
        },
        {
         "legendgroup": "IMAGE 3.2",
         "marker": {
          "color": "rgb(255, 255, 0)",
          "size": 6
         },
         "mode": "markers",
         "name": "IMAGE 3.2",
         "showlegend": true,
         "type": "scatter",
         "x": [
          "Instit",
          "Instit",
          "Instit",
          "Cost Effective",
          "Cost Effective",
          "Cost Effective"
         ],
         "xaxis": "x",
         "y": [
          0.07963576706321812,
          0.4572387119569702,
          0.07587287580599086,
          0.1819395839402809,
          0.3934301614198927,
          0.23329964759985738
         ],
         "yaxis": "y"
        },
        {
         "legendgroup": "MESSAGEix-GLOBIOM_1.1",
         "marker": {
          "color": "rgb(255, 0, 255)",
          "size": 6
         },
         "mode": "markers",
         "name": "MESSAGEix-GLOBIOM_1.1",
         "showlegend": true,
         "type": "scatter",
         "x": [
          "Instit",
          "Instit",
          "Instit",
          "Cost Effective",
          "Cost Effective",
          "Cost Effective"
         ],
         "xaxis": "x",
         "y": [
          0.1544219563920195,
          0.46004099771739304,
          0.14899939555459782,
          0.35624521655527713,
          0.28649198479064236,
          0.2996523234382535
         ],
         "yaxis": "y"
        },
        {
         "legendgroup": "POLES ENGAGE",
         "marker": {
          "color": "rgb(0, 255, 255)",
          "size": 6
         },
         "mode": "markers",
         "name": "POLES ENGAGE",
         "showlegend": true,
         "type": "scatter",
         "x": [
          "Instit",
          "Instit",
          "Instit",
          "Cost Effective",
          "Cost Effective",
          "Cost Effective"
         ],
         "xaxis": "x",
         "y": [
          0.20307037384134885,
          0.4470922096573954,
          0.08519308441892864,
          0.18477586951722366,
          0.32706705322170454,
          0.17146219697598727
         ],
         "yaxis": "y"
        },
        {
         "legendgroup": "REMIND 3.0",
         "marker": {
          "color": "rgb(128, 0, 0)",
          "size": 6
         },
         "mode": "markers",
         "name": "REMIND 3.0",
         "showlegend": true,
         "type": "scatter",
         "x": [
          "Instit",
          "Instit",
          "Cost Effective",
          "Cost Effective"
         ],
         "xaxis": "x",
         "y": [
          0.32798535294506925,
          0.054946960642255675,
          0.28407707530507015,
          0.11022324338213345
         ],
         "yaxis": "y"
        },
        {
         "legendgroup": "WITCH 5.0",
         "marker": {
          "color": "rgb(0, 128, 0)",
          "size": 6
         },
         "mode": "markers",
         "name": "WITCH 5.0",
         "showlegend": true,
         "type": "scatter",
         "x": [
          "Instit",
          "Instit",
          "Cost Effective"
         ],
         "xaxis": "x",
         "y": [
          0.2500000000000034,
          0.15303819789868672,
          0.4589283563737967
         ],
         "yaxis": "y"
        },
        {
         "boxpoints": false,
         "marker": {
          "color": "grey"
         },
         "name": "Boxplot",
         "opacity": 0.3,
         "showlegend": false,
         "type": "box",
         "x": [
          "Instit",
          "Instit",
          "Instit",
          "Cost Effective",
          "Cost Effective",
          "Cost Effective",
          "Cost Effective",
          "Cost Effective",
          "Cost Effective",
          "Instit",
          "Instit",
          "Cost Effective",
          "Cost Effective",
          "Cost Effective",
          "Instit",
          "Instit",
          "Instit",
          "Cost Effective",
          "Cost Effective",
          "Cost Effective",
          "Instit",
          "Instit",
          "Instit",
          "Cost Effective",
          "Cost Effective",
          "Cost Effective",
          "Instit",
          "Instit",
          "Instit",
          "Cost Effective",
          "Cost Effective",
          "Cost Effective",
          "Instit",
          "Instit",
          "Cost Effective",
          "Cost Effective",
          "Instit",
          "Instit",
          "Cost Effective"
         ],
         "xaxis": "x2",
         "y": [
          0.5743848859502654,
          0.6465473584458464,
          0.28891210949526513,
          0.4952962289096623,
          0.35435553085257226,
          0.5153792122040198,
          0.4958490568751874,
          0.33444996307123503,
          0.1930302517650692,
          0.45185708171974154,
          0.24484117095404245,
          0.49025843252390056,
          0.4713528016396869,
          0.4544854342727768,
          0.5221320429039926,
          0.7754909838962484,
          0.3563835330915503,
          0.5947913642479123,
          0.6921330128769597,
          0.5920561017070267,
          0.49265316912896784,
          0.8087783138419571,
          0.20951061473597127,
          0.579812967088404,
          0.49099282815622197,
          0.4895880481240352,
          0.5233547853588614,
          0.8068517771724254,
          0.09927042091992475,
          0.5076477019754251,
          0.6675250564243294,
          0.4844232342734582,
          0.761283373591211,
          0.3234789690141238,
          0.7233174731001628,
          0.44297530571198435,
          0.5408272734407501,
          0.29243534115907993,
          0.6296892276535354
         ],
         "yaxis": "y2"
        },
        {
         "legendgroup": "AIM/CGE V2.2",
         "marker": {
          "color": "rgb(255, 0, 0)",
          "size": 6
         },
         "mode": "markers",
         "name": "AIM/CGE V2.2",
         "showlegend": false,
         "type": "scatter",
         "x": [
          "Instit",
          "Instit",
          "Instit",
          "Cost Effective",
          "Cost Effective",
          "Cost Effective"
         ],
         "xaxis": "x2",
         "y": [
          0.5743848859502654,
          0.6465473584458464,
          0.28891210949526513,
          0.4952962289096623,
          0.35435553085257226,
          0.5153792122040198
         ],
         "yaxis": "y2"
        },
        {
         "legendgroup": "COFFEE 1.5",
         "marker": {
          "color": "rgb(0, 255, 0)",
          "size": 6
         },
         "mode": "markers",
         "name": "COFFEE 1.5",
         "showlegend": false,
         "type": "scatter",
         "x": [
          "Cost Effective",
          "Cost Effective",
          "Cost Effective"
         ],
         "xaxis": "x2",
         "y": [
          0.4958490568751874,
          0.33444996307123503,
          0.1930302517650692
         ],
         "yaxis": "y2"
        },
        {
         "legendgroup": "GEM-E3_V2023",
         "marker": {
          "color": "rgb(0, 0, 255)",
          "size": 6
         },
         "mode": "markers",
         "name": "GEM-E3_V2023",
         "showlegend": false,
         "type": "scatter",
         "x": [
          "Instit",
          "Instit",
          "Cost Effective",
          "Cost Effective",
          "Cost Effective"
         ],
         "xaxis": "x2",
         "y": [
          0.45185708171974154,
          0.24484117095404245,
          0.49025843252390056,
          0.4713528016396869,
          0.4544854342727768
         ],
         "yaxis": "y2"
        },
        {
         "legendgroup": "IMAGE 3.2",
         "marker": {
          "color": "rgb(255, 255, 0)",
          "size": 6
         },
         "mode": "markers",
         "name": "IMAGE 3.2",
         "showlegend": false,
         "type": "scatter",
         "x": [
          "Instit",
          "Instit",
          "Instit",
          "Cost Effective",
          "Cost Effective",
          "Cost Effective"
         ],
         "xaxis": "x2",
         "y": [
          0.5221320429039926,
          0.7754909838962484,
          0.3563835330915503,
          0.5947913642479123,
          0.6921330128769597,
          0.5920561017070267
         ],
         "yaxis": "y2"
        },
        {
         "legendgroup": "MESSAGEix-GLOBIOM_1.1",
         "marker": {
          "color": "rgb(255, 0, 255)",
          "size": 6
         },
         "mode": "markers",
         "name": "MESSAGEix-GLOBIOM_1.1",
         "showlegend": false,
         "type": "scatter",
         "x": [
          "Instit",
          "Instit",
          "Instit",
          "Cost Effective",
          "Cost Effective",
          "Cost Effective"
         ],
         "xaxis": "x2",
         "y": [
          0.49265316912896784,
          0.8087783138419571,
          0.20951061473597127,
          0.579812967088404,
          0.49099282815622197,
          0.4895880481240352
         ],
         "yaxis": "y2"
        },
        {
         "legendgroup": "POLES ENGAGE",
         "marker": {
          "color": "rgb(0, 255, 255)",
          "size": 6
         },
         "mode": "markers",
         "name": "POLES ENGAGE",
         "showlegend": false,
         "type": "scatter",
         "x": [
          "Instit",
          "Instit",
          "Instit",
          "Cost Effective",
          "Cost Effective",
          "Cost Effective"
         ],
         "xaxis": "x2",
         "y": [
          0.5233547853588614,
          0.8068517771724254,
          0.09927042091992475,
          0.5076477019754251,
          0.6675250564243294,
          0.4844232342734582
         ],
         "yaxis": "y2"
        },
        {
         "legendgroup": "REMIND 3.0",
         "marker": {
          "color": "rgb(128, 0, 0)",
          "size": 6
         },
         "mode": "markers",
         "name": "REMIND 3.0",
         "showlegend": false,
         "type": "scatter",
         "x": [
          "Instit",
          "Instit",
          "Cost Effective",
          "Cost Effective"
         ],
         "xaxis": "x2",
         "y": [
          0.761283373591211,
          0.3234789690141238,
          0.7233174731001628,
          0.44297530571198435
         ],
         "yaxis": "y2"
        },
        {
         "legendgroup": "WITCH 5.0",
         "marker": {
          "color": "rgb(0, 128, 0)",
          "size": 6
         },
         "mode": "markers",
         "name": "WITCH 5.0",
         "showlegend": false,
         "type": "scatter",
         "x": [
          "Instit",
          "Instit",
          "Cost Effective"
         ],
         "xaxis": "x2",
         "y": [
          0.5408272734407501,
          0.29243534115907993,
          0.6296892276535354
         ],
         "yaxis": "y2"
        }
       ],
       "layout": {
        "annotations": [
         {
          "showarrow": false,
          "text": "2030_CO2_redu",
          "x": 0.5,
          "xref": "x",
          "y": 1.1,
          "yref": "paper"
         },
         {
          "showarrow": false,
          "text": "2040_CO2_redu",
          "x": 0.5,
          "xref": "x2",
          "y": 1.1,
          "yref": "paper"
         }
        ],
        "legend": {
         "itemsizing": "constant",
         "traceorder": "normal"
        },
        "template": {
         "data": {
          "bar": [
           {
            "error_x": {
             "color": "#2a3f5f"
            },
            "error_y": {
             "color": "#2a3f5f"
            },
            "marker": {
             "line": {
              "color": "#E5ECF6",
              "width": 0.5
             },
             "pattern": {
              "fillmode": "overlay",
              "size": 10,
              "solidity": 0.2
             }
            },
            "type": "bar"
           }
          ],
          "barpolar": [
           {
            "marker": {
             "line": {
              "color": "#E5ECF6",
              "width": 0.5
             },
             "pattern": {
              "fillmode": "overlay",
              "size": 10,
              "solidity": 0.2
             }
            },
            "type": "barpolar"
           }
          ],
          "carpet": [
           {
            "aaxis": {
             "endlinecolor": "#2a3f5f",
             "gridcolor": "white",
             "linecolor": "white",
             "minorgridcolor": "white",
             "startlinecolor": "#2a3f5f"
            },
            "baxis": {
             "endlinecolor": "#2a3f5f",
             "gridcolor": "white",
             "linecolor": "white",
             "minorgridcolor": "white",
             "startlinecolor": "#2a3f5f"
            },
            "type": "carpet"
           }
          ],
          "choropleth": [
           {
            "colorbar": {
             "outlinewidth": 0,
             "ticks": ""
            },
            "type": "choropleth"
           }
          ],
          "contour": [
           {
            "colorbar": {
             "outlinewidth": 0,
             "ticks": ""
            },
            "colorscale": [
             [
              0,
              "#0d0887"
             ],
             [
              0.1111111111111111,
              "#46039f"
             ],
             [
              0.2222222222222222,
              "#7201a8"
             ],
             [
              0.3333333333333333,
              "#9c179e"
             ],
             [
              0.4444444444444444,
              "#bd3786"
             ],
             [
              0.5555555555555556,
              "#d8576b"
             ],
             [
              0.6666666666666666,
              "#ed7953"
             ],
             [
              0.7777777777777778,
              "#fb9f3a"
             ],
             [
              0.8888888888888888,
              "#fdca26"
             ],
             [
              1,
              "#f0f921"
             ]
            ],
            "type": "contour"
           }
          ],
          "contourcarpet": [
           {
            "colorbar": {
             "outlinewidth": 0,
             "ticks": ""
            },
            "type": "contourcarpet"
           }
          ],
          "heatmap": [
           {
            "colorbar": {
             "outlinewidth": 0,
             "ticks": ""
            },
            "colorscale": [
             [
              0,
              "#0d0887"
             ],
             [
              0.1111111111111111,
              "#46039f"
             ],
             [
              0.2222222222222222,
              "#7201a8"
             ],
             [
              0.3333333333333333,
              "#9c179e"
             ],
             [
              0.4444444444444444,
              "#bd3786"
             ],
             [
              0.5555555555555556,
              "#d8576b"
             ],
             [
              0.6666666666666666,
              "#ed7953"
             ],
             [
              0.7777777777777778,
              "#fb9f3a"
             ],
             [
              0.8888888888888888,
              "#fdca26"
             ],
             [
              1,
              "#f0f921"
             ]
            ],
            "type": "heatmap"
           }
          ],
          "heatmapgl": [
           {
            "colorbar": {
             "outlinewidth": 0,
             "ticks": ""
            },
            "colorscale": [
             [
              0,
              "#0d0887"
             ],
             [
              0.1111111111111111,
              "#46039f"
             ],
             [
              0.2222222222222222,
              "#7201a8"
             ],
             [
              0.3333333333333333,
              "#9c179e"
             ],
             [
              0.4444444444444444,
              "#bd3786"
             ],
             [
              0.5555555555555556,
              "#d8576b"
             ],
             [
              0.6666666666666666,
              "#ed7953"
             ],
             [
              0.7777777777777778,
              "#fb9f3a"
             ],
             [
              0.8888888888888888,
              "#fdca26"
             ],
             [
              1,
              "#f0f921"
             ]
            ],
            "type": "heatmapgl"
           }
          ],
          "histogram": [
           {
            "marker": {
             "pattern": {
              "fillmode": "overlay",
              "size": 10,
              "solidity": 0.2
             }
            },
            "type": "histogram"
           }
          ],
          "histogram2d": [
           {
            "colorbar": {
             "outlinewidth": 0,
             "ticks": ""
            },
            "colorscale": [
             [
              0,
              "#0d0887"
             ],
             [
              0.1111111111111111,
              "#46039f"
             ],
             [
              0.2222222222222222,
              "#7201a8"
             ],
             [
              0.3333333333333333,
              "#9c179e"
             ],
             [
              0.4444444444444444,
              "#bd3786"
             ],
             [
              0.5555555555555556,
              "#d8576b"
             ],
             [
              0.6666666666666666,
              "#ed7953"
             ],
             [
              0.7777777777777778,
              "#fb9f3a"
             ],
             [
              0.8888888888888888,
              "#fdca26"
             ],
             [
              1,
              "#f0f921"
             ]
            ],
            "type": "histogram2d"
           }
          ],
          "histogram2dcontour": [
           {
            "colorbar": {
             "outlinewidth": 0,
             "ticks": ""
            },
            "colorscale": [
             [
              0,
              "#0d0887"
             ],
             [
              0.1111111111111111,
              "#46039f"
             ],
             [
              0.2222222222222222,
              "#7201a8"
             ],
             [
              0.3333333333333333,
              "#9c179e"
             ],
             [
              0.4444444444444444,
              "#bd3786"
             ],
             [
              0.5555555555555556,
              "#d8576b"
             ],
             [
              0.6666666666666666,
              "#ed7953"
             ],
             [
              0.7777777777777778,
              "#fb9f3a"
             ],
             [
              0.8888888888888888,
              "#fdca26"
             ],
             [
              1,
              "#f0f921"
             ]
            ],
            "type": "histogram2dcontour"
           }
          ],
          "mesh3d": [
           {
            "colorbar": {
             "outlinewidth": 0,
             "ticks": ""
            },
            "type": "mesh3d"
           }
          ],
          "parcoords": [
           {
            "line": {
             "colorbar": {
              "outlinewidth": 0,
              "ticks": ""
             }
            },
            "type": "parcoords"
           }
          ],
          "pie": [
           {
            "automargin": true,
            "type": "pie"
           }
          ],
          "scatter": [
           {
            "fillpattern": {
             "fillmode": "overlay",
             "size": 10,
             "solidity": 0.2
            },
            "type": "scatter"
           }
          ],
          "scatter3d": [
           {
            "line": {
             "colorbar": {
              "outlinewidth": 0,
              "ticks": ""
             }
            },
            "marker": {
             "colorbar": {
              "outlinewidth": 0,
              "ticks": ""
             }
            },
            "type": "scatter3d"
           }
          ],
          "scattercarpet": [
           {
            "marker": {
             "colorbar": {
              "outlinewidth": 0,
              "ticks": ""
             }
            },
            "type": "scattercarpet"
           }
          ],
          "scattergeo": [
           {
            "marker": {
             "colorbar": {
              "outlinewidth": 0,
              "ticks": ""
             }
            },
            "type": "scattergeo"
           }
          ],
          "scattergl": [
           {
            "marker": {
             "colorbar": {
              "outlinewidth": 0,
              "ticks": ""
             }
            },
            "type": "scattergl"
           }
          ],
          "scattermapbox": [
           {
            "marker": {
             "colorbar": {
              "outlinewidth": 0,
              "ticks": ""
             }
            },
            "type": "scattermapbox"
           }
          ],
          "scatterpolar": [
           {
            "marker": {
             "colorbar": {
              "outlinewidth": 0,
              "ticks": ""
             }
            },
            "type": "scatterpolar"
           }
          ],
          "scatterpolargl": [
           {
            "marker": {
             "colorbar": {
              "outlinewidth": 0,
              "ticks": ""
             }
            },
            "type": "scatterpolargl"
           }
          ],
          "scatterternary": [
           {
            "marker": {
             "colorbar": {
              "outlinewidth": 0,
              "ticks": ""
             }
            },
            "type": "scatterternary"
           }
          ],
          "surface": [
           {
            "colorbar": {
             "outlinewidth": 0,
             "ticks": ""
            },
            "colorscale": [
             [
              0,
              "#0d0887"
             ],
             [
              0.1111111111111111,
              "#46039f"
             ],
             [
              0.2222222222222222,
              "#7201a8"
             ],
             [
              0.3333333333333333,
              "#9c179e"
             ],
             [
              0.4444444444444444,
              "#bd3786"
             ],
             [
              0.5555555555555556,
              "#d8576b"
             ],
             [
              0.6666666666666666,
              "#ed7953"
             ],
             [
              0.7777777777777778,
              "#fb9f3a"
             ],
             [
              0.8888888888888888,
              "#fdca26"
             ],
             [
              1,
              "#f0f921"
             ]
            ],
            "type": "surface"
           }
          ],
          "table": [
           {
            "cells": {
             "fill": {
              "color": "#EBF0F8"
             },
             "line": {
              "color": "white"
             }
            },
            "header": {
             "fill": {
              "color": "#C8D4E3"
             },
             "line": {
              "color": "white"
             }
            },
            "type": "table"
           }
          ]
         },
         "layout": {
          "annotationdefaults": {
           "arrowcolor": "#2a3f5f",
           "arrowhead": 0,
           "arrowwidth": 1
          },
          "autotypenumbers": "strict",
          "coloraxis": {
           "colorbar": {
            "outlinewidth": 0,
            "ticks": ""
           }
          },
          "colorscale": {
           "diverging": [
            [
             0,
             "#8e0152"
            ],
            [
             0.1,
             "#c51b7d"
            ],
            [
             0.2,
             "#de77ae"
            ],
            [
             0.3,
             "#f1b6da"
            ],
            [
             0.4,
             "#fde0ef"
            ],
            [
             0.5,
             "#f7f7f7"
            ],
            [
             0.6,
             "#e6f5d0"
            ],
            [
             0.7,
             "#b8e186"
            ],
            [
             0.8,
             "#7fbc41"
            ],
            [
             0.9,
             "#4d9221"
            ],
            [
             1,
             "#276419"
            ]
           ],
           "sequential": [
            [
             0,
             "#0d0887"
            ],
            [
             0.1111111111111111,
             "#46039f"
            ],
            [
             0.2222222222222222,
             "#7201a8"
            ],
            [
             0.3333333333333333,
             "#9c179e"
            ],
            [
             0.4444444444444444,
             "#bd3786"
            ],
            [
             0.5555555555555556,
             "#d8576b"
            ],
            [
             0.6666666666666666,
             "#ed7953"
            ],
            [
             0.7777777777777778,
             "#fb9f3a"
            ],
            [
             0.8888888888888888,
             "#fdca26"
            ],
            [
             1,
             "#f0f921"
            ]
           ],
           "sequentialminus": [
            [
             0,
             "#0d0887"
            ],
            [
             0.1111111111111111,
             "#46039f"
            ],
            [
             0.2222222222222222,
             "#7201a8"
            ],
            [
             0.3333333333333333,
             "#9c179e"
            ],
            [
             0.4444444444444444,
             "#bd3786"
            ],
            [
             0.5555555555555556,
             "#d8576b"
            ],
            [
             0.6666666666666666,
             "#ed7953"
            ],
            [
             0.7777777777777778,
             "#fb9f3a"
            ],
            [
             0.8888888888888888,
             "#fdca26"
            ],
            [
             1,
             "#f0f921"
            ]
           ]
          },
          "colorway": [
           "#636efa",
           "#EF553B",
           "#00cc96",
           "#ab63fa",
           "#FFA15A",
           "#19d3f3",
           "#FF6692",
           "#B6E880",
           "#FF97FF",
           "#FECB52"
          ],
          "font": {
           "color": "#2a3f5f"
          },
          "geo": {
           "bgcolor": "white",
           "lakecolor": "white",
           "landcolor": "#E5ECF6",
           "showlakes": true,
           "showland": true,
           "subunitcolor": "white"
          },
          "hoverlabel": {
           "align": "left"
          },
          "hovermode": "closest",
          "mapbox": {
           "style": "light"
          },
          "paper_bgcolor": "white",
          "plot_bgcolor": "#E5ECF6",
          "polar": {
           "angularaxis": {
            "gridcolor": "white",
            "linecolor": "white",
            "ticks": ""
           },
           "bgcolor": "#E5ECF6",
           "radialaxis": {
            "gridcolor": "white",
            "linecolor": "white",
            "ticks": ""
           }
          },
          "scene": {
           "xaxis": {
            "backgroundcolor": "#E5ECF6",
            "gridcolor": "white",
            "gridwidth": 2,
            "linecolor": "white",
            "showbackground": true,
            "ticks": "",
            "zerolinecolor": "white"
           },
           "yaxis": {
            "backgroundcolor": "#E5ECF6",
            "gridcolor": "white",
            "gridwidth": 2,
            "linecolor": "white",
            "showbackground": true,
            "ticks": "",
            "zerolinecolor": "white"
           },
           "zaxis": {
            "backgroundcolor": "#E5ECF6",
            "gridcolor": "white",
            "gridwidth": 2,
            "linecolor": "white",
            "showbackground": true,
            "ticks": "",
            "zerolinecolor": "white"
           }
          },
          "shapedefaults": {
           "line": {
            "color": "#2a3f5f"
           }
          },
          "ternary": {
           "aaxis": {
            "gridcolor": "white",
            "linecolor": "white",
            "ticks": ""
           },
           "baxis": {
            "gridcolor": "white",
            "linecolor": "white",
            "ticks": ""
           },
           "bgcolor": "#E5ECF6",
           "caxis": {
            "gridcolor": "white",
            "linecolor": "white",
            "ticks": ""
           }
          },
          "title": {
           "x": 0.05
          },
          "xaxis": {
           "automargin": true,
           "gridcolor": "white",
           "linecolor": "white",
           "ticks": "",
           "title": {
            "standoff": 15
           },
           "zerolinecolor": "white",
           "zerolinewidth": 2
          },
          "yaxis": {
           "automargin": true,
           "gridcolor": "white",
           "linecolor": "white",
           "ticks": "",
           "title": {
            "standoff": 15
           },
           "zerolinecolor": "white",
           "zerolinewidth": 2
          }
         }
        },
        "title": {
         "text": "ENGAGE 2C scenarios <br><sup>Global CO2 reductions by 2030 and 2040</sup>",
         "x": 0,
         "xref": "paper"
        },
        "xaxis": {
         "anchor": "y",
         "domain": [
          0,
          0.45
         ],
         "title": {
          "text": "Scenario Narrative"
         }
        },
        "xaxis2": {
         "anchor": "y2",
         "domain": [
          0.55,
          1
         ]
        },
        "yaxis": {
         "anchor": "x",
         "domain": [
          0,
          1
         ],
         "range": [
          0,
          0.6
         ],
         "title": {
          "text": "Reduction Value"
         }
        },
        "yaxis2": {
         "anchor": "x2",
         "domain": [
          0,
          1
         ],
         "matches": "y",
         "showticklabels": false
        }
       }
      }
     },
     "metadata": {},
     "output_type": "display_data"
    }
   ],
   "source": [
    "# Define color mapping for models\n",
    "color_mapping = {\n",
    "    'AIM/CGE V2.2': \"rgb(255, 0, 0)\",\n",
    "    'COFFEE 1.5': \"rgb(0, 255, 0)\",\n",
    "    'GEM-E3_V2023': \"rgb(0, 0, 255)\",\n",
    "    'IMAGE 3.2': \"rgb(255, 255, 0)\",\n",
    "    'MESSAGEix-GLOBIOM_1.1': \"rgb(255, 0, 255)\",\n",
    "    'POLES ENGAGE': \"rgb(0, 255, 255)\",\n",
    "    'REMIND 3.0': \"rgb(128, 0, 0)\",\n",
    "    'WITCH 5.0': \"rgb(0, 128, 0)\"\n",
    "}\n",
    "\n",
    "# Map colors based on the \"model\" column\n",
    "filter_df[\"color\"] = filter_df[\"model\"].map(color_mapping)\n",
    "\n",
    "fig = make_subplots(rows=1, cols=len(filter_df[\"reduction_year\"].unique()), shared_yaxes=True)\n",
    "\n",
    "for i, year in enumerate(filter_df[\"reduction_year\"].unique()):\n",
    "    box_trace = go.Box(\n",
    "        x=filter_df[(filter_df[\"reduction_year\"] == year)][\"scenario_narrative\"],\n",
    "        y=filter_df[(filter_df[\"reduction_year\"] == year)][\"reduction_value\"],\n",
    "        name=\"Boxplot\",\n",
    "        boxpoints=False,\n",
    "         marker_color='grey',\n",
    "        opacity=0.3,\n",
    "        showlegend=False\n",
    "    )\n",
    "\n",
    "    fig.add_trace(box_trace, row=1, col=i + 1)\n",
    "\n",
    "    # Add subplot titles\n",
    "    fig.update_layout(\n",
    "        annotations=[dict(text=str(year), xref=\"x\" + str(i + 1), yref=\"paper\", x=0.5, y=1.1, showarrow=False) for i, year in enumerate(filter_df[\"reduction_year\"].unique())]\n",
    "    )\n",
    "\n",
    "    # Create a scatterplot for each model\n",
    "    for model in filter_df[\"model\"].unique():\n",
    "        scatter_trace = go.Scatter(\n",
    "            x=filter_df[(filter_df[\"reduction_year\"] == year) & (filter_df[\"model\"] == model)][\"scenario_narrative\"],\n",
    "            y=filter_df[(filter_df[\"reduction_year\"] == year) & (filter_df[\"model\"] == model)][\"reduction_value\"],\n",
    "            mode=\"markers\",\n",
    "            name=model,\n",
    "            marker=dict(\n",
    "                color=color_mapping[model],\n",
    "                size=6\n",
    "            ),\n",
    "            showlegend=i==0,\n",
    "            legendgroup=model\n",
    "        )\n",
    "\n",
    "        fig.add_trace(scatter_trace, row=1, col=i + 1)\n",
    "\n",
    "fig.update_layout(\n",
    "    title = go.layout.Title(\n",
    "        text=\"ENGAGE 2C scenarios <br><sup>Global CO2 reductions by 2030 and 2040</sup>\",\n",
    "        xref=\"paper\",\n",
    "        x=0),\n",
    "    xaxis=dict(title=\"Scenario Narrative\", ),\n",
    "    yaxis=dict(title=\"Reduction Value\", range=[0, 0.6]),\n",
    "    legend=dict(\n",
    "        traceorder=\"normal\",\n",
    "        itemsizing=\"constant\"\n",
    "    )\n",
    ")\n",
    "\n",
    "fig.show()"
   ]
  },
  {
   "cell_type": "code",
   "execution_count": 66,
   "metadata": {},
   "outputs": [
    {
     "data": {
      "text/html": [
       "<div>\n",
       "<style scoped>\n",
       "    .dataframe tbody tr th:only-of-type {\n",
       "        vertical-align: middle;\n",
       "    }\n",
       "\n",
       "    .dataframe tbody tr th {\n",
       "        vertical-align: top;\n",
       "    }\n",
       "\n",
       "    .dataframe thead th {\n",
       "        text-align: right;\n",
       "    }\n",
       "</style>\n",
       "<table border=\"1\" class=\"dataframe\">\n",
       "  <thead>\n",
       "    <tr style=\"text-align: right;\">\n",
       "      <th></th>\n",
       "      <th>model</th>\n",
       "      <th>scenario</th>\n",
       "      <th>region</th>\n",
       "      <th>scenario_narrative</th>\n",
       "      <th>coal_use_2030</th>\n",
       "      <th>solar_use_2030</th>\n",
       "      <th>reduction_year</th>\n",
       "      <th>reduction_value</th>\n",
       "      <th>color</th>\n",
       "    </tr>\n",
       "  </thead>\n",
       "  <tbody>\n",
       "    <tr>\n",
       "      <th>0</th>\n",
       "      <td>AIM/CGE V2.2</td>\n",
       "      <td>T34_1000_govem</td>\n",
       "      <td>China</td>\n",
       "      <td>Instit</td>\n",
       "      <td>15.890800</td>\n",
       "      <td>10.623400</td>\n",
       "      <td>2030_CO2_redu</td>\n",
       "      <td>0.190899</td>\n",
       "      <td>rgb(255, 0, 0)</td>\n",
       "    </tr>\n",
       "    <tr>\n",
       "      <th>1</th>\n",
       "      <td>AIM/CGE V2.2</td>\n",
       "      <td>T34_1000_govem</td>\n",
       "      <td>OECD</td>\n",
       "      <td>Instit</td>\n",
       "      <td>3.153600</td>\n",
       "      <td>8.215100</td>\n",
       "      <td>2030_CO2_redu</td>\n",
       "      <td>0.349371</td>\n",
       "      <td>rgb(255, 0, 0)</td>\n",
       "    </tr>\n",
       "    <tr>\n",
       "      <th>2</th>\n",
       "      <td>AIM/CGE V2.2</td>\n",
       "      <td>T34_1000_govem</td>\n",
       "      <td>RoW</td>\n",
       "      <td>Instit</td>\n",
       "      <td>8.802100</td>\n",
       "      <td>12.543600</td>\n",
       "      <td>2030_CO2_redu</td>\n",
       "      <td>0.156149</td>\n",
       "      <td>rgb(255, 0, 0)</td>\n",
       "    </tr>\n",
       "    <tr>\n",
       "      <th>4</th>\n",
       "      <td>AIM/CGE V2.2</td>\n",
       "      <td>T34_1000_ref</td>\n",
       "      <td>China</td>\n",
       "      <td>Cost Effective</td>\n",
       "      <td>14.993200</td>\n",
       "      <td>11.410800</td>\n",
       "      <td>2030_CO2_redu</td>\n",
       "      <td>0.214562</td>\n",
       "      <td>rgb(255, 0, 0)</td>\n",
       "    </tr>\n",
       "    <tr>\n",
       "      <th>5</th>\n",
       "      <td>AIM/CGE V2.2</td>\n",
       "      <td>T34_1000_ref</td>\n",
       "      <td>OECD</td>\n",
       "      <td>Cost Effective</td>\n",
       "      <td>4.231800</td>\n",
       "      <td>6.472300</td>\n",
       "      <td>2030_CO2_redu</td>\n",
       "      <td>0.206020</td>\n",
       "      <td>rgb(255, 0, 0)</td>\n",
       "    </tr>\n",
       "    <tr>\n",
       "      <th>6</th>\n",
       "      <td>AIM/CGE V2.2</td>\n",
       "      <td>T34_1000_ref</td>\n",
       "      <td>RoW</td>\n",
       "      <td>Cost Effective</td>\n",
       "      <td>7.840800</td>\n",
       "      <td>14.583000</td>\n",
       "      <td>2030_CO2_redu</td>\n",
       "      <td>0.294489</td>\n",
       "      <td>rgb(255, 0, 0)</td>\n",
       "    </tr>\n",
       "    <tr>\n",
       "      <th>8</th>\n",
       "      <td>COFFEE 1.5</td>\n",
       "      <td>T34_1000_ref</td>\n",
       "      <td>China</td>\n",
       "      <td>Cost Effective</td>\n",
       "      <td>4.636654</td>\n",
       "      <td>1.079159</td>\n",
       "      <td>2030_CO2_redu</td>\n",
       "      <td>0.318801</td>\n",
       "      <td>rgb(0, 255, 0)</td>\n",
       "    </tr>\n",
       "    <tr>\n",
       "      <th>9</th>\n",
       "      <td>COFFEE 1.5</td>\n",
       "      <td>T34_1000_ref</td>\n",
       "      <td>OECD</td>\n",
       "      <td>Cost Effective</td>\n",
       "      <td>7.548869</td>\n",
       "      <td>2.578177</td>\n",
       "      <td>2030_CO2_redu</td>\n",
       "      <td>-0.110502</td>\n",
       "      <td>rgb(0, 255, 0)</td>\n",
       "    </tr>\n",
       "    <tr>\n",
       "      <th>10</th>\n",
       "      <td>COFFEE 1.5</td>\n",
       "      <td>T34_1000_ref</td>\n",
       "      <td>RoW</td>\n",
       "      <td>Cost Effective</td>\n",
       "      <td>2.247348</td>\n",
       "      <td>1.278904</td>\n",
       "      <td>2030_CO2_redu</td>\n",
       "      <td>0.146723</td>\n",
       "      <td>rgb(0, 255, 0)</td>\n",
       "    </tr>\n",
       "    <tr>\n",
       "      <th>12</th>\n",
       "      <td>GEM-E3_V2023</td>\n",
       "      <td>T34_1000_govem</td>\n",
       "      <td>China</td>\n",
       "      <td>Instit</td>\n",
       "      <td>12.059744</td>\n",
       "      <td>5.712676</td>\n",
       "      <td>2030_CO2_redu</td>\n",
       "      <td>0.123487</td>\n",
       "      <td>rgb(0, 0, 255)</td>\n",
       "    </tr>\n",
       "    <tr>\n",
       "      <th>14</th>\n",
       "      <td>GEM-E3_V2023</td>\n",
       "      <td>T34_1000_govem</td>\n",
       "      <td>RoW</td>\n",
       "      <td>Instit</td>\n",
       "      <td>5.800591</td>\n",
       "      <td>3.074643</td>\n",
       "      <td>2030_CO2_redu</td>\n",
       "      <td>0.070174</td>\n",
       "      <td>rgb(0, 0, 255)</td>\n",
       "    </tr>\n",
       "    <tr>\n",
       "      <th>16</th>\n",
       "      <td>GEM-E3_V2023</td>\n",
       "      <td>T34_1000_ref</td>\n",
       "      <td>China</td>\n",
       "      <td>Cost Effective</td>\n",
       "      <td>12.064995</td>\n",
       "      <td>5.755911</td>\n",
       "      <td>2030_CO2_redu</td>\n",
       "      <td>0.109994</td>\n",
       "      <td>rgb(0, 0, 255)</td>\n",
       "    </tr>\n",
       "    <tr>\n",
       "      <th>17</th>\n",
       "      <td>GEM-E3_V2023</td>\n",
       "      <td>T34_1000_ref</td>\n",
       "      <td>OECD</td>\n",
       "      <td>Cost Effective</td>\n",
       "      <td>2.833473</td>\n",
       "      <td>2.444933</td>\n",
       "      <td>2030_CO2_redu</td>\n",
       "      <td>0.209151</td>\n",
       "      <td>rgb(0, 0, 255)</td>\n",
       "    </tr>\n",
       "    <tr>\n",
       "      <th>18</th>\n",
       "      <td>GEM-E3_V2023</td>\n",
       "      <td>T34_1000_ref</td>\n",
       "      <td>RoW</td>\n",
       "      <td>Cost Effective</td>\n",
       "      <td>4.845332</td>\n",
       "      <td>3.280091</td>\n",
       "      <td>2030_CO2_redu</td>\n",
       "      <td>0.130925</td>\n",
       "      <td>rgb(0, 0, 255)</td>\n",
       "    </tr>\n",
       "    <tr>\n",
       "      <th>20</th>\n",
       "      <td>IMAGE 3.2</td>\n",
       "      <td>T34_1000_govem</td>\n",
       "      <td>China</td>\n",
       "      <td>Instit</td>\n",
       "      <td>19.725314</td>\n",
       "      <td>3.187668</td>\n",
       "      <td>2030_CO2_redu</td>\n",
       "      <td>0.079636</td>\n",
       "      <td>rgb(255, 255, 0)</td>\n",
       "    </tr>\n",
       "    <tr>\n",
       "      <th>21</th>\n",
       "      <td>IMAGE 3.2</td>\n",
       "      <td>T34_1000_govem</td>\n",
       "      <td>OECD</td>\n",
       "      <td>Instit</td>\n",
       "      <td>2.021855</td>\n",
       "      <td>5.333335</td>\n",
       "      <td>2030_CO2_redu</td>\n",
       "      <td>0.457239</td>\n",
       "      <td>rgb(255, 255, 0)</td>\n",
       "    </tr>\n",
       "    <tr>\n",
       "      <th>22</th>\n",
       "      <td>IMAGE 3.2</td>\n",
       "      <td>T34_1000_govem</td>\n",
       "      <td>RoW</td>\n",
       "      <td>Instit</td>\n",
       "      <td>9.916576</td>\n",
       "      <td>2.506044</td>\n",
       "      <td>2030_CO2_redu</td>\n",
       "      <td>0.075873</td>\n",
       "      <td>rgb(255, 255, 0)</td>\n",
       "    </tr>\n",
       "    <tr>\n",
       "      <th>24</th>\n",
       "      <td>IMAGE 3.2</td>\n",
       "      <td>T34_1000_ref</td>\n",
       "      <td>China</td>\n",
       "      <td>Cost Effective</td>\n",
       "      <td>14.810271</td>\n",
       "      <td>3.408476</td>\n",
       "      <td>2030_CO2_redu</td>\n",
       "      <td>0.181940</td>\n",
       "      <td>rgb(255, 255, 0)</td>\n",
       "    </tr>\n",
       "    <tr>\n",
       "      <th>25</th>\n",
       "      <td>IMAGE 3.2</td>\n",
       "      <td>T34_1000_ref</td>\n",
       "      <td>OECD</td>\n",
       "      <td>Cost Effective</td>\n",
       "      <td>2.182438</td>\n",
       "      <td>4.927855</td>\n",
       "      <td>2030_CO2_redu</td>\n",
       "      <td>0.393430</td>\n",
       "      <td>rgb(255, 255, 0)</td>\n",
       "    </tr>\n",
       "    <tr>\n",
       "      <th>26</th>\n",
       "      <td>IMAGE 3.2</td>\n",
       "      <td>T34_1000_ref</td>\n",
       "      <td>RoW</td>\n",
       "      <td>Cost Effective</td>\n",
       "      <td>5.053125</td>\n",
       "      <td>2.993088</td>\n",
       "      <td>2030_CO2_redu</td>\n",
       "      <td>0.233300</td>\n",
       "      <td>rgb(255, 255, 0)</td>\n",
       "    </tr>\n",
       "    <tr>\n",
       "      <th>28</th>\n",
       "      <td>MESSAGEix-GLOBIOM_1.1</td>\n",
       "      <td>T34_1000_govem</td>\n",
       "      <td>China</td>\n",
       "      <td>Instit</td>\n",
       "      <td>12.692839</td>\n",
       "      <td>3.590067</td>\n",
       "      <td>2030_CO2_redu</td>\n",
       "      <td>0.154422</td>\n",
       "      <td>rgb(255, 0, 255)</td>\n",
       "    </tr>\n",
       "    <tr>\n",
       "      <th>29</th>\n",
       "      <td>MESSAGEix-GLOBIOM_1.1</td>\n",
       "      <td>T34_1000_govem</td>\n",
       "      <td>OECD</td>\n",
       "      <td>Instit</td>\n",
       "      <td>1.946610</td>\n",
       "      <td>8.747377</td>\n",
       "      <td>2030_CO2_redu</td>\n",
       "      <td>0.460041</td>\n",
       "      <td>rgb(255, 0, 255)</td>\n",
       "    </tr>\n",
       "    <tr>\n",
       "      <th>30</th>\n",
       "      <td>MESSAGEix-GLOBIOM_1.1</td>\n",
       "      <td>T34_1000_govem</td>\n",
       "      <td>RoW</td>\n",
       "      <td>Instit</td>\n",
       "      <td>3.944521</td>\n",
       "      <td>4.050560</td>\n",
       "      <td>2030_CO2_redu</td>\n",
       "      <td>0.148999</td>\n",
       "      <td>rgb(255, 0, 255)</td>\n",
       "    </tr>\n",
       "    <tr>\n",
       "      <th>32</th>\n",
       "      <td>MESSAGEix-GLOBIOM_1.1</td>\n",
       "      <td>T34_1000_ref</td>\n",
       "      <td>China</td>\n",
       "      <td>Cost Effective</td>\n",
       "      <td>3.294211</td>\n",
       "      <td>5.917298</td>\n",
       "      <td>2030_CO2_redu</td>\n",
       "      <td>0.356245</td>\n",
       "      <td>rgb(255, 0, 255)</td>\n",
       "    </tr>\n",
       "    <tr>\n",
       "      <th>33</th>\n",
       "      <td>MESSAGEix-GLOBIOM_1.1</td>\n",
       "      <td>T34_1000_ref</td>\n",
       "      <td>OECD</td>\n",
       "      <td>Cost Effective</td>\n",
       "      <td>1.916433</td>\n",
       "      <td>5.652368</td>\n",
       "      <td>2030_CO2_redu</td>\n",
       "      <td>0.286492</td>\n",
       "      <td>rgb(255, 0, 255)</td>\n",
       "    </tr>\n",
       "    <tr>\n",
       "      <th>34</th>\n",
       "      <td>MESSAGEix-GLOBIOM_1.1</td>\n",
       "      <td>T34_1000_ref</td>\n",
       "      <td>RoW</td>\n",
       "      <td>Cost Effective</td>\n",
       "      <td>2.095708</td>\n",
       "      <td>5.699838</td>\n",
       "      <td>2030_CO2_redu</td>\n",
       "      <td>0.299652</td>\n",
       "      <td>rgb(255, 0, 255)</td>\n",
       "    </tr>\n",
       "    <tr>\n",
       "      <th>36</th>\n",
       "      <td>POLES ENGAGE</td>\n",
       "      <td>T34_1000_govem</td>\n",
       "      <td>China</td>\n",
       "      <td>Instit</td>\n",
       "      <td>12.550456</td>\n",
       "      <td>11.327579</td>\n",
       "      <td>2030_CO2_redu</td>\n",
       "      <td>0.203070</td>\n",
       "      <td>rgb(0, 255, 255)</td>\n",
       "    </tr>\n",
       "    <tr>\n",
       "      <th>37</th>\n",
       "      <td>POLES ENGAGE</td>\n",
       "      <td>T34_1000_govem</td>\n",
       "      <td>OECD</td>\n",
       "      <td>Instit</td>\n",
       "      <td>1.548296</td>\n",
       "      <td>5.984885</td>\n",
       "      <td>2030_CO2_redu</td>\n",
       "      <td>0.447092</td>\n",
       "      <td>rgb(0, 255, 255)</td>\n",
       "    </tr>\n",
       "    <tr>\n",
       "      <th>38</th>\n",
       "      <td>POLES ENGAGE</td>\n",
       "      <td>T34_1000_govem</td>\n",
       "      <td>RoW</td>\n",
       "      <td>Instit</td>\n",
       "      <td>8.552605</td>\n",
       "      <td>4.795329</td>\n",
       "      <td>2030_CO2_redu</td>\n",
       "      <td>0.085193</td>\n",
       "      <td>rgb(0, 255, 255)</td>\n",
       "    </tr>\n",
       "    <tr>\n",
       "      <th>40</th>\n",
       "      <td>POLES ENGAGE</td>\n",
       "      <td>T34_1000_ref</td>\n",
       "      <td>China</td>\n",
       "      <td>Cost Effective</td>\n",
       "      <td>13.413551</td>\n",
       "      <td>11.105577</td>\n",
       "      <td>2030_CO2_redu</td>\n",
       "      <td>0.184776</td>\n",
       "      <td>rgb(0, 255, 255)</td>\n",
       "    </tr>\n",
       "    <tr>\n",
       "      <th>41</th>\n",
       "      <td>POLES ENGAGE</td>\n",
       "      <td>T34_1000_ref</td>\n",
       "      <td>OECD</td>\n",
       "      <td>Cost Effective</td>\n",
       "      <td>2.607351</td>\n",
       "      <td>5.600019</td>\n",
       "      <td>2030_CO2_redu</td>\n",
       "      <td>0.327067</td>\n",
       "      <td>rgb(0, 255, 255)</td>\n",
       "    </tr>\n",
       "    <tr>\n",
       "      <th>42</th>\n",
       "      <td>POLES ENGAGE</td>\n",
       "      <td>T34_1000_ref</td>\n",
       "      <td>RoW</td>\n",
       "      <td>Cost Effective</td>\n",
       "      <td>7.885040</td>\n",
       "      <td>4.911810</td>\n",
       "      <td>2030_CO2_redu</td>\n",
       "      <td>0.171462</td>\n",
       "      <td>rgb(0, 255, 255)</td>\n",
       "    </tr>\n",
       "    <tr>\n",
       "      <th>44</th>\n",
       "      <td>REMIND 3.0</td>\n",
       "      <td>T34_1000_govem</td>\n",
       "      <td>China</td>\n",
       "      <td>Instit</td>\n",
       "      <td>9.427264</td>\n",
       "      <td>12.407217</td>\n",
       "      <td>2030_CO2_redu</td>\n",
       "      <td>0.327985</td>\n",
       "      <td>rgb(128, 0, 0)</td>\n",
       "    </tr>\n",
       "    <tr>\n",
       "      <th>46</th>\n",
       "      <td>REMIND 3.0</td>\n",
       "      <td>T34_1000_govem</td>\n",
       "      <td>RoW</td>\n",
       "      <td>Instit</td>\n",
       "      <td>7.459149</td>\n",
       "      <td>15.197322</td>\n",
       "      <td>2030_CO2_redu</td>\n",
       "      <td>0.054947</td>\n",
       "      <td>rgb(128, 0, 0)</td>\n",
       "    </tr>\n",
       "    <tr>\n",
       "      <th>48</th>\n",
       "      <td>REMIND 3.0</td>\n",
       "      <td>T34_1000_ref</td>\n",
       "      <td>China</td>\n",
       "      <td>Cost Effective</td>\n",
       "      <td>10.934131</td>\n",
       "      <td>11.807911</td>\n",
       "      <td>2030_CO2_redu</td>\n",
       "      <td>0.284077</td>\n",
       "      <td>rgb(128, 0, 0)</td>\n",
       "    </tr>\n",
       "    <tr>\n",
       "      <th>50</th>\n",
       "      <td>REMIND 3.0</td>\n",
       "      <td>T34_1000_ref</td>\n",
       "      <td>RoW</td>\n",
       "      <td>Cost Effective</td>\n",
       "      <td>6.721772</td>\n",
       "      <td>15.910465</td>\n",
       "      <td>2030_CO2_redu</td>\n",
       "      <td>0.110223</td>\n",
       "      <td>rgb(128, 0, 0)</td>\n",
       "    </tr>\n",
       "    <tr>\n",
       "      <th>52</th>\n",
       "      <td>WITCH 5.0</td>\n",
       "      <td>T34_1000_govem</td>\n",
       "      <td>China</td>\n",
       "      <td>Instit</td>\n",
       "      <td>6.177640</td>\n",
       "      <td>4.378391</td>\n",
       "      <td>2030_CO2_redu</td>\n",
       "      <td>0.250000</td>\n",
       "      <td>rgb(0, 128, 0)</td>\n",
       "    </tr>\n",
       "    <tr>\n",
       "      <th>54</th>\n",
       "      <td>WITCH 5.0</td>\n",
       "      <td>T34_1000_govem</td>\n",
       "      <td>RoW</td>\n",
       "      <td>Instit</td>\n",
       "      <td>8.001707</td>\n",
       "      <td>5.369969</td>\n",
       "      <td>2030_CO2_redu</td>\n",
       "      <td>0.153038</td>\n",
       "      <td>rgb(0, 128, 0)</td>\n",
       "    </tr>\n",
       "    <tr>\n",
       "      <th>57</th>\n",
       "      <td>WITCH 5.0</td>\n",
       "      <td>T34_1000_ref</td>\n",
       "      <td>OECD</td>\n",
       "      <td>Cost Effective</td>\n",
       "      <td>1.257988</td>\n",
       "      <td>11.137975</td>\n",
       "      <td>2030_CO2_redu</td>\n",
       "      <td>0.458928</td>\n",
       "      <td>rgb(0, 128, 0)</td>\n",
       "    </tr>\n",
       "  </tbody>\n",
       "</table>\n",
       "</div>"
      ],
      "text/plain": [
       "                    model        scenario region scenario_narrative   \n",
       "0            AIM/CGE V2.2  T34_1000_govem  China             Instit  \\\n",
       "1            AIM/CGE V2.2  T34_1000_govem   OECD             Instit   \n",
       "2            AIM/CGE V2.2  T34_1000_govem    RoW             Instit   \n",
       "4            AIM/CGE V2.2    T34_1000_ref  China     Cost Effective   \n",
       "5            AIM/CGE V2.2    T34_1000_ref   OECD     Cost Effective   \n",
       "6            AIM/CGE V2.2    T34_1000_ref    RoW     Cost Effective   \n",
       "8              COFFEE 1.5    T34_1000_ref  China     Cost Effective   \n",
       "9              COFFEE 1.5    T34_1000_ref   OECD     Cost Effective   \n",
       "10             COFFEE 1.5    T34_1000_ref    RoW     Cost Effective   \n",
       "12           GEM-E3_V2023  T34_1000_govem  China             Instit   \n",
       "14           GEM-E3_V2023  T34_1000_govem    RoW             Instit   \n",
       "16           GEM-E3_V2023    T34_1000_ref  China     Cost Effective   \n",
       "17           GEM-E3_V2023    T34_1000_ref   OECD     Cost Effective   \n",
       "18           GEM-E3_V2023    T34_1000_ref    RoW     Cost Effective   \n",
       "20              IMAGE 3.2  T34_1000_govem  China             Instit   \n",
       "21              IMAGE 3.2  T34_1000_govem   OECD             Instit   \n",
       "22              IMAGE 3.2  T34_1000_govem    RoW             Instit   \n",
       "24              IMAGE 3.2    T34_1000_ref  China     Cost Effective   \n",
       "25              IMAGE 3.2    T34_1000_ref   OECD     Cost Effective   \n",
       "26              IMAGE 3.2    T34_1000_ref    RoW     Cost Effective   \n",
       "28  MESSAGEix-GLOBIOM_1.1  T34_1000_govem  China             Instit   \n",
       "29  MESSAGEix-GLOBIOM_1.1  T34_1000_govem   OECD             Instit   \n",
       "30  MESSAGEix-GLOBIOM_1.1  T34_1000_govem    RoW             Instit   \n",
       "32  MESSAGEix-GLOBIOM_1.1    T34_1000_ref  China     Cost Effective   \n",
       "33  MESSAGEix-GLOBIOM_1.1    T34_1000_ref   OECD     Cost Effective   \n",
       "34  MESSAGEix-GLOBIOM_1.1    T34_1000_ref    RoW     Cost Effective   \n",
       "36           POLES ENGAGE  T34_1000_govem  China             Instit   \n",
       "37           POLES ENGAGE  T34_1000_govem   OECD             Instit   \n",
       "38           POLES ENGAGE  T34_1000_govem    RoW             Instit   \n",
       "40           POLES ENGAGE    T34_1000_ref  China     Cost Effective   \n",
       "41           POLES ENGAGE    T34_1000_ref   OECD     Cost Effective   \n",
       "42           POLES ENGAGE    T34_1000_ref    RoW     Cost Effective   \n",
       "44             REMIND 3.0  T34_1000_govem  China             Instit   \n",
       "46             REMIND 3.0  T34_1000_govem    RoW             Instit   \n",
       "48             REMIND 3.0    T34_1000_ref  China     Cost Effective   \n",
       "50             REMIND 3.0    T34_1000_ref    RoW     Cost Effective   \n",
       "52              WITCH 5.0  T34_1000_govem  China             Instit   \n",
       "54              WITCH 5.0  T34_1000_govem    RoW             Instit   \n",
       "57              WITCH 5.0    T34_1000_ref   OECD     Cost Effective   \n",
       "\n",
       "    coal_use_2030  solar_use_2030 reduction_year  reduction_value   \n",
       "0       15.890800       10.623400  2030_CO2_redu         0.190899  \\\n",
       "1        3.153600        8.215100  2030_CO2_redu         0.349371   \n",
       "2        8.802100       12.543600  2030_CO2_redu         0.156149   \n",
       "4       14.993200       11.410800  2030_CO2_redu         0.214562   \n",
       "5        4.231800        6.472300  2030_CO2_redu         0.206020   \n",
       "6        7.840800       14.583000  2030_CO2_redu         0.294489   \n",
       "8        4.636654        1.079159  2030_CO2_redu         0.318801   \n",
       "9        7.548869        2.578177  2030_CO2_redu        -0.110502   \n",
       "10       2.247348        1.278904  2030_CO2_redu         0.146723   \n",
       "12      12.059744        5.712676  2030_CO2_redu         0.123487   \n",
       "14       5.800591        3.074643  2030_CO2_redu         0.070174   \n",
       "16      12.064995        5.755911  2030_CO2_redu         0.109994   \n",
       "17       2.833473        2.444933  2030_CO2_redu         0.209151   \n",
       "18       4.845332        3.280091  2030_CO2_redu         0.130925   \n",
       "20      19.725314        3.187668  2030_CO2_redu         0.079636   \n",
       "21       2.021855        5.333335  2030_CO2_redu         0.457239   \n",
       "22       9.916576        2.506044  2030_CO2_redu         0.075873   \n",
       "24      14.810271        3.408476  2030_CO2_redu         0.181940   \n",
       "25       2.182438        4.927855  2030_CO2_redu         0.393430   \n",
       "26       5.053125        2.993088  2030_CO2_redu         0.233300   \n",
       "28      12.692839        3.590067  2030_CO2_redu         0.154422   \n",
       "29       1.946610        8.747377  2030_CO2_redu         0.460041   \n",
       "30       3.944521        4.050560  2030_CO2_redu         0.148999   \n",
       "32       3.294211        5.917298  2030_CO2_redu         0.356245   \n",
       "33       1.916433        5.652368  2030_CO2_redu         0.286492   \n",
       "34       2.095708        5.699838  2030_CO2_redu         0.299652   \n",
       "36      12.550456       11.327579  2030_CO2_redu         0.203070   \n",
       "37       1.548296        5.984885  2030_CO2_redu         0.447092   \n",
       "38       8.552605        4.795329  2030_CO2_redu         0.085193   \n",
       "40      13.413551       11.105577  2030_CO2_redu         0.184776   \n",
       "41       2.607351        5.600019  2030_CO2_redu         0.327067   \n",
       "42       7.885040        4.911810  2030_CO2_redu         0.171462   \n",
       "44       9.427264       12.407217  2030_CO2_redu         0.327985   \n",
       "46       7.459149       15.197322  2030_CO2_redu         0.054947   \n",
       "48      10.934131       11.807911  2030_CO2_redu         0.284077   \n",
       "50       6.721772       15.910465  2030_CO2_redu         0.110223   \n",
       "52       6.177640        4.378391  2030_CO2_redu         0.250000   \n",
       "54       8.001707        5.369969  2030_CO2_redu         0.153038   \n",
       "57       1.257988       11.137975  2030_CO2_redu         0.458928   \n",
       "\n",
       "               color  \n",
       "0     rgb(255, 0, 0)  \n",
       "1     rgb(255, 0, 0)  \n",
       "2     rgb(255, 0, 0)  \n",
       "4     rgb(255, 0, 0)  \n",
       "5     rgb(255, 0, 0)  \n",
       "6     rgb(255, 0, 0)  \n",
       "8     rgb(0, 255, 0)  \n",
       "9     rgb(0, 255, 0)  \n",
       "10    rgb(0, 255, 0)  \n",
       "12    rgb(0, 0, 255)  \n",
       "14    rgb(0, 0, 255)  \n",
       "16    rgb(0, 0, 255)  \n",
       "17    rgb(0, 0, 255)  \n",
       "18    rgb(0, 0, 255)  \n",
       "20  rgb(255, 255, 0)  \n",
       "21  rgb(255, 255, 0)  \n",
       "22  rgb(255, 255, 0)  \n",
       "24  rgb(255, 255, 0)  \n",
       "25  rgb(255, 255, 0)  \n",
       "26  rgb(255, 255, 0)  \n",
       "28  rgb(255, 0, 255)  \n",
       "29  rgb(255, 0, 255)  \n",
       "30  rgb(255, 0, 255)  \n",
       "32  rgb(255, 0, 255)  \n",
       "33  rgb(255, 0, 255)  \n",
       "34  rgb(255, 0, 255)  \n",
       "36  rgb(0, 255, 255)  \n",
       "37  rgb(0, 255, 255)  \n",
       "38  rgb(0, 255, 255)  \n",
       "40  rgb(0, 255, 255)  \n",
       "41  rgb(0, 255, 255)  \n",
       "42  rgb(0, 255, 255)  \n",
       "44    rgb(128, 0, 0)  \n",
       "46    rgb(128, 0, 0)  \n",
       "48    rgb(128, 0, 0)  \n",
       "50    rgb(128, 0, 0)  \n",
       "52    rgb(0, 128, 0)  \n",
       "54    rgb(0, 128, 0)  \n",
       "57    rgb(0, 128, 0)  "
      ]
     },
     "execution_count": 66,
     "metadata": {},
     "output_type": "execute_result"
    }
   ],
   "source": [
    "filter_df = filter_df[filter_df['reduction_year'] == \"2030_CO2_redu\"]\n",
    "filter_df"
   ]
  },
  {
   "cell_type": "code",
   "execution_count": 57,
   "metadata": {},
   "outputs": [
    {
     "name": "stderr",
     "output_type": "stream",
     "text": [
      "C:\\Users\\scheifinger\\AppData\\Local\\Temp\\ipykernel_13332\\3601570762.py:18: SettingWithCopyWarning:\n",
      "\n",
      "\n",
      "A value is trying to be set on a copy of a slice from a DataFrame.\n",
      "Try using .loc[row_indexer,col_indexer] = value instead\n",
      "\n",
      "See the caveats in the documentation: https://pandas.pydata.org/pandas-docs/stable/user_guide/indexing.html#returning-a-view-versus-a-copy\n",
      "\n"
     ]
    },
    {
     "data": {
      "application/vnd.plotly.v1+json": {
       "config": {
        "plotlyServerURL": "https://plot.ly"
       },
       "data": [
        {
         "boxpoints": false,
         "marker": {
          "color": "grey"
         },
         "name": "Boxplot",
         "opacity": 0.3,
         "showlegend": false,
         "type": "box",
         "x": [
          "Instit",
          "Cost Effective",
          "Cost Effective",
          "Instit",
          "Cost Effective",
          "Instit",
          "Cost Effective",
          "Instit",
          "Cost Effective",
          "Instit",
          "Cost Effective",
          "Instit",
          "Cost Effective",
          "Instit"
         ],
         "xaxis": "x",
         "y": [
          0.19089926290173148,
          0.21456210199115203,
          0.31880077434733955,
          0.12348658032081952,
          0.10999369121747934,
          0.07963576706321812,
          0.1819395839402809,
          0.1544219563920195,
          0.35624521655527713,
          0.20307037384134885,
          0.18477586951722366,
          0.32798535294506925,
          0.28407707530507015,
          0.2500000000000034
         ],
         "yaxis": "y"
        },
        {
         "legendgroup": "AIM/CGE V2.2",
         "marker": {
          "color": "rgb(255, 0, 0)",
          "size": 6
         },
         "mode": "markers",
         "name": "AIM/CGE V2.2",
         "showlegend": true,
         "type": "scatter",
         "x": [
          "Instit",
          "Cost Effective"
         ],
         "xaxis": "x",
         "y": [
          0.19089926290173148,
          0.21456210199115203
         ],
         "yaxis": "y"
        },
        {
         "legendgroup": "COFFEE 1.5",
         "marker": {
          "color": "rgb(0, 255, 0)",
          "size": 6
         },
         "mode": "markers",
         "name": "COFFEE 1.5",
         "showlegend": true,
         "type": "scatter",
         "x": [
          "Cost Effective"
         ],
         "xaxis": "x",
         "y": [
          0.31880077434733955
         ],
         "yaxis": "y"
        },
        {
         "legendgroup": "GEM-E3_V2023",
         "marker": {
          "color": "rgb(0, 0, 255)",
          "size": 6
         },
         "mode": "markers",
         "name": "GEM-E3_V2023",
         "showlegend": true,
         "type": "scatter",
         "x": [
          "Instit",
          "Cost Effective"
         ],
         "xaxis": "x",
         "y": [
          0.12348658032081952,
          0.10999369121747934
         ],
         "yaxis": "y"
        },
        {
         "legendgroup": "IMAGE 3.2",
         "marker": {
          "color": "rgb(255, 255, 0)",
          "size": 6
         },
         "mode": "markers",
         "name": "IMAGE 3.2",
         "showlegend": true,
         "type": "scatter",
         "x": [
          "Instit",
          "Cost Effective"
         ],
         "xaxis": "x",
         "y": [
          0.07963576706321812,
          0.1819395839402809
         ],
         "yaxis": "y"
        },
        {
         "legendgroup": "MESSAGEix-GLOBIOM_1.1",
         "marker": {
          "color": "rgb(255, 0, 255)",
          "size": 6
         },
         "mode": "markers",
         "name": "MESSAGEix-GLOBIOM_1.1",
         "showlegend": true,
         "type": "scatter",
         "x": [
          "Instit",
          "Cost Effective"
         ],
         "xaxis": "x",
         "y": [
          0.1544219563920195,
          0.35624521655527713
         ],
         "yaxis": "y"
        },
        {
         "legendgroup": "POLES ENGAGE",
         "marker": {
          "color": "rgb(0, 255, 255)",
          "size": 6
         },
         "mode": "markers",
         "name": "POLES ENGAGE",
         "showlegend": true,
         "type": "scatter",
         "x": [
          "Instit",
          "Cost Effective"
         ],
         "xaxis": "x",
         "y": [
          0.20307037384134885,
          0.18477586951722366
         ],
         "yaxis": "y"
        },
        {
         "legendgroup": "REMIND 3.0",
         "marker": {
          "color": "rgb(128, 0, 0)",
          "size": 6
         },
         "mode": "markers",
         "name": "REMIND 3.0",
         "showlegend": true,
         "type": "scatter",
         "x": [
          "Instit",
          "Cost Effective"
         ],
         "xaxis": "x",
         "y": [
          0.32798535294506925,
          0.28407707530507015
         ],
         "yaxis": "y"
        },
        {
         "legendgroup": "WITCH 5.0",
         "marker": {
          "color": "rgb(0, 128, 0)",
          "size": 6
         },
         "mode": "markers",
         "name": "WITCH 5.0",
         "showlegend": true,
         "type": "scatter",
         "x": [
          "Instit"
         ],
         "xaxis": "x",
         "y": [
          0.2500000000000034
         ],
         "yaxis": "y"
        },
        {
         "boxpoints": false,
         "marker": {
          "color": "grey"
         },
         "name": "Boxplot",
         "opacity": 0.3,
         "showlegend": false,
         "type": "box",
         "x": [
          "Instit",
          "Cost Effective",
          "Cost Effective",
          "Cost Effective",
          "Instit",
          "Cost Effective",
          "Instit",
          "Cost Effective",
          "Instit",
          "Cost Effective",
          "Cost Effective"
         ],
         "xaxis": "x2",
         "y": [
          0.3493709753099426,
          0.20601951846505107,
          -0.11050205594872727,
          0.2091511336594297,
          0.4572387119569702,
          0.3934301614198927,
          0.46004099771739304,
          0.28649198479064236,
          0.4470922096573954,
          0.32706705322170454,
          0.4589283563737967
         ],
         "yaxis": "y2"
        },
        {
         "legendgroup": "AIM/CGE V2.2",
         "marker": {
          "color": "rgb(255, 0, 0)",
          "size": 6
         },
         "mode": "markers",
         "name": "AIM/CGE V2.2",
         "showlegend": false,
         "type": "scatter",
         "x": [
          "Instit",
          "Cost Effective"
         ],
         "xaxis": "x2",
         "y": [
          0.3493709753099426,
          0.20601951846505107
         ],
         "yaxis": "y2"
        },
        {
         "legendgroup": "COFFEE 1.5",
         "marker": {
          "color": "rgb(0, 255, 0)",
          "size": 6
         },
         "mode": "markers",
         "name": "COFFEE 1.5",
         "showlegend": false,
         "type": "scatter",
         "x": [
          "Cost Effective"
         ],
         "xaxis": "x2",
         "y": [
          -0.11050205594872727
         ],
         "yaxis": "y2"
        },
        {
         "legendgroup": "GEM-E3_V2023",
         "marker": {
          "color": "rgb(0, 0, 255)",
          "size": 6
         },
         "mode": "markers",
         "name": "GEM-E3_V2023",
         "showlegend": false,
         "type": "scatter",
         "x": [
          "Cost Effective"
         ],
         "xaxis": "x2",
         "y": [
          0.2091511336594297
         ],
         "yaxis": "y2"
        },
        {
         "legendgroup": "IMAGE 3.2",
         "marker": {
          "color": "rgb(255, 255, 0)",
          "size": 6
         },
         "mode": "markers",
         "name": "IMAGE 3.2",
         "showlegend": false,
         "type": "scatter",
         "x": [
          "Instit",
          "Cost Effective"
         ],
         "xaxis": "x2",
         "y": [
          0.4572387119569702,
          0.3934301614198927
         ],
         "yaxis": "y2"
        },
        {
         "legendgroup": "MESSAGEix-GLOBIOM_1.1",
         "marker": {
          "color": "rgb(255, 0, 255)",
          "size": 6
         },
         "mode": "markers",
         "name": "MESSAGEix-GLOBIOM_1.1",
         "showlegend": false,
         "type": "scatter",
         "x": [
          "Instit",
          "Cost Effective"
         ],
         "xaxis": "x2",
         "y": [
          0.46004099771739304,
          0.28649198479064236
         ],
         "yaxis": "y2"
        },
        {
         "legendgroup": "POLES ENGAGE",
         "marker": {
          "color": "rgb(0, 255, 255)",
          "size": 6
         },
         "mode": "markers",
         "name": "POLES ENGAGE",
         "showlegend": false,
         "type": "scatter",
         "x": [
          "Instit",
          "Cost Effective"
         ],
         "xaxis": "x2",
         "y": [
          0.4470922096573954,
          0.32706705322170454
         ],
         "yaxis": "y2"
        },
        {
         "legendgroup": "REMIND 3.0",
         "marker": {
          "color": "rgb(128, 0, 0)",
          "size": 6
         },
         "mode": "markers",
         "name": "REMIND 3.0",
         "showlegend": false,
         "type": "scatter",
         "x": [],
         "xaxis": "x2",
         "y": [],
         "yaxis": "y2"
        },
        {
         "legendgroup": "WITCH 5.0",
         "marker": {
          "color": "rgb(0, 128, 0)",
          "size": 6
         },
         "mode": "markers",
         "name": "WITCH 5.0",
         "showlegend": false,
         "type": "scatter",
         "x": [
          "Cost Effective"
         ],
         "xaxis": "x2",
         "y": [
          0.4589283563737967
         ],
         "yaxis": "y2"
        },
        {
         "boxpoints": false,
         "marker": {
          "color": "grey"
         },
         "name": "Boxplot",
         "opacity": 0.3,
         "showlegend": false,
         "type": "box",
         "x": [
          "Instit",
          "Cost Effective",
          "Cost Effective",
          "Instit",
          "Cost Effective",
          "Instit",
          "Cost Effective",
          "Instit",
          "Cost Effective",
          "Instit",
          "Cost Effective",
          "Instit",
          "Cost Effective",
          "Instit"
         ],
         "xaxis": "x3",
         "y": [
          0.15614909844877173,
          0.2944889991033322,
          0.14672348107083244,
          0.07017362782379873,
          0.13092520260405208,
          0.07587287580599086,
          0.23329964759985738,
          0.14899939555459782,
          0.2996523234382535,
          0.08519308441892864,
          0.17146219697598727,
          0.054946960642255675,
          0.11022324338213345,
          0.15303819789868672
         ],
         "yaxis": "y3"
        },
        {
         "legendgroup": "AIM/CGE V2.2",
         "marker": {
          "color": "rgb(255, 0, 0)",
          "size": 6
         },
         "mode": "markers",
         "name": "AIM/CGE V2.2",
         "showlegend": false,
         "type": "scatter",
         "x": [
          "Instit",
          "Cost Effective"
         ],
         "xaxis": "x3",
         "y": [
          0.15614909844877173,
          0.2944889991033322
         ],
         "yaxis": "y3"
        },
        {
         "legendgroup": "COFFEE 1.5",
         "marker": {
          "color": "rgb(0, 255, 0)",
          "size": 6
         },
         "mode": "markers",
         "name": "COFFEE 1.5",
         "showlegend": false,
         "type": "scatter",
         "x": [
          "Cost Effective"
         ],
         "xaxis": "x3",
         "y": [
          0.14672348107083244
         ],
         "yaxis": "y3"
        },
        {
         "legendgroup": "GEM-E3_V2023",
         "marker": {
          "color": "rgb(0, 0, 255)",
          "size": 6
         },
         "mode": "markers",
         "name": "GEM-E3_V2023",
         "showlegend": false,
         "type": "scatter",
         "x": [
          "Instit",
          "Cost Effective"
         ],
         "xaxis": "x3",
         "y": [
          0.07017362782379873,
          0.13092520260405208
         ],
         "yaxis": "y3"
        },
        {
         "legendgroup": "IMAGE 3.2",
         "marker": {
          "color": "rgb(255, 255, 0)",
          "size": 6
         },
         "mode": "markers",
         "name": "IMAGE 3.2",
         "showlegend": false,
         "type": "scatter",
         "x": [
          "Instit",
          "Cost Effective"
         ],
         "xaxis": "x3",
         "y": [
          0.07587287580599086,
          0.23329964759985738
         ],
         "yaxis": "y3"
        },
        {
         "legendgroup": "MESSAGEix-GLOBIOM_1.1",
         "marker": {
          "color": "rgb(255, 0, 255)",
          "size": 6
         },
         "mode": "markers",
         "name": "MESSAGEix-GLOBIOM_1.1",
         "showlegend": false,
         "type": "scatter",
         "x": [
          "Instit",
          "Cost Effective"
         ],
         "xaxis": "x3",
         "y": [
          0.14899939555459782,
          0.2996523234382535
         ],
         "yaxis": "y3"
        },
        {
         "legendgroup": "POLES ENGAGE",
         "marker": {
          "color": "rgb(0, 255, 255)",
          "size": 6
         },
         "mode": "markers",
         "name": "POLES ENGAGE",
         "showlegend": false,
         "type": "scatter",
         "x": [
          "Instit",
          "Cost Effective"
         ],
         "xaxis": "x3",
         "y": [
          0.08519308441892864,
          0.17146219697598727
         ],
         "yaxis": "y3"
        },
        {
         "legendgroup": "REMIND 3.0",
         "marker": {
          "color": "rgb(128, 0, 0)",
          "size": 6
         },
         "mode": "markers",
         "name": "REMIND 3.0",
         "showlegend": false,
         "type": "scatter",
         "x": [
          "Instit",
          "Cost Effective"
         ],
         "xaxis": "x3",
         "y": [
          0.054946960642255675,
          0.11022324338213345
         ],
         "yaxis": "y3"
        },
        {
         "legendgroup": "WITCH 5.0",
         "marker": {
          "color": "rgb(0, 128, 0)",
          "size": 6
         },
         "mode": "markers",
         "name": "WITCH 5.0",
         "showlegend": false,
         "type": "scatter",
         "x": [
          "Instit"
         ],
         "xaxis": "x3",
         "y": [
          0.15303819789868672
         ],
         "yaxis": "y3"
        }
       ],
       "layout": {
        "annotations": [
         {
          "showarrow": false,
          "text": "China",
          "x": 0.5,
          "xref": "x",
          "y": 1.1,
          "yref": "paper"
         },
         {
          "showarrow": false,
          "text": "OECD",
          "x": 0.5,
          "xref": "x2",
          "y": 1.1,
          "yref": "paper"
         },
         {
          "showarrow": false,
          "text": "RoW",
          "x": 0.5,
          "xref": "x3",
          "y": 1.1,
          "yref": "paper"
         }
        ],
        "legend": {
         "itemsizing": "constant",
         "traceorder": "normal"
        },
        "template": {
         "data": {
          "bar": [
           {
            "error_x": {
             "color": "#2a3f5f"
            },
            "error_y": {
             "color": "#2a3f5f"
            },
            "marker": {
             "line": {
              "color": "#E5ECF6",
              "width": 0.5
             },
             "pattern": {
              "fillmode": "overlay",
              "size": 10,
              "solidity": 0.2
             }
            },
            "type": "bar"
           }
          ],
          "barpolar": [
           {
            "marker": {
             "line": {
              "color": "#E5ECF6",
              "width": 0.5
             },
             "pattern": {
              "fillmode": "overlay",
              "size": 10,
              "solidity": 0.2
             }
            },
            "type": "barpolar"
           }
          ],
          "carpet": [
           {
            "aaxis": {
             "endlinecolor": "#2a3f5f",
             "gridcolor": "white",
             "linecolor": "white",
             "minorgridcolor": "white",
             "startlinecolor": "#2a3f5f"
            },
            "baxis": {
             "endlinecolor": "#2a3f5f",
             "gridcolor": "white",
             "linecolor": "white",
             "minorgridcolor": "white",
             "startlinecolor": "#2a3f5f"
            },
            "type": "carpet"
           }
          ],
          "choropleth": [
           {
            "colorbar": {
             "outlinewidth": 0,
             "ticks": ""
            },
            "type": "choropleth"
           }
          ],
          "contour": [
           {
            "colorbar": {
             "outlinewidth": 0,
             "ticks": ""
            },
            "colorscale": [
             [
              0,
              "#0d0887"
             ],
             [
              0.1111111111111111,
              "#46039f"
             ],
             [
              0.2222222222222222,
              "#7201a8"
             ],
             [
              0.3333333333333333,
              "#9c179e"
             ],
             [
              0.4444444444444444,
              "#bd3786"
             ],
             [
              0.5555555555555556,
              "#d8576b"
             ],
             [
              0.6666666666666666,
              "#ed7953"
             ],
             [
              0.7777777777777778,
              "#fb9f3a"
             ],
             [
              0.8888888888888888,
              "#fdca26"
             ],
             [
              1,
              "#f0f921"
             ]
            ],
            "type": "contour"
           }
          ],
          "contourcarpet": [
           {
            "colorbar": {
             "outlinewidth": 0,
             "ticks": ""
            },
            "type": "contourcarpet"
           }
          ],
          "heatmap": [
           {
            "colorbar": {
             "outlinewidth": 0,
             "ticks": ""
            },
            "colorscale": [
             [
              0,
              "#0d0887"
             ],
             [
              0.1111111111111111,
              "#46039f"
             ],
             [
              0.2222222222222222,
              "#7201a8"
             ],
             [
              0.3333333333333333,
              "#9c179e"
             ],
             [
              0.4444444444444444,
              "#bd3786"
             ],
             [
              0.5555555555555556,
              "#d8576b"
             ],
             [
              0.6666666666666666,
              "#ed7953"
             ],
             [
              0.7777777777777778,
              "#fb9f3a"
             ],
             [
              0.8888888888888888,
              "#fdca26"
             ],
             [
              1,
              "#f0f921"
             ]
            ],
            "type": "heatmap"
           }
          ],
          "heatmapgl": [
           {
            "colorbar": {
             "outlinewidth": 0,
             "ticks": ""
            },
            "colorscale": [
             [
              0,
              "#0d0887"
             ],
             [
              0.1111111111111111,
              "#46039f"
             ],
             [
              0.2222222222222222,
              "#7201a8"
             ],
             [
              0.3333333333333333,
              "#9c179e"
             ],
             [
              0.4444444444444444,
              "#bd3786"
             ],
             [
              0.5555555555555556,
              "#d8576b"
             ],
             [
              0.6666666666666666,
              "#ed7953"
             ],
             [
              0.7777777777777778,
              "#fb9f3a"
             ],
             [
              0.8888888888888888,
              "#fdca26"
             ],
             [
              1,
              "#f0f921"
             ]
            ],
            "type": "heatmapgl"
           }
          ],
          "histogram": [
           {
            "marker": {
             "pattern": {
              "fillmode": "overlay",
              "size": 10,
              "solidity": 0.2
             }
            },
            "type": "histogram"
           }
          ],
          "histogram2d": [
           {
            "colorbar": {
             "outlinewidth": 0,
             "ticks": ""
            },
            "colorscale": [
             [
              0,
              "#0d0887"
             ],
             [
              0.1111111111111111,
              "#46039f"
             ],
             [
              0.2222222222222222,
              "#7201a8"
             ],
             [
              0.3333333333333333,
              "#9c179e"
             ],
             [
              0.4444444444444444,
              "#bd3786"
             ],
             [
              0.5555555555555556,
              "#d8576b"
             ],
             [
              0.6666666666666666,
              "#ed7953"
             ],
             [
              0.7777777777777778,
              "#fb9f3a"
             ],
             [
              0.8888888888888888,
              "#fdca26"
             ],
             [
              1,
              "#f0f921"
             ]
            ],
            "type": "histogram2d"
           }
          ],
          "histogram2dcontour": [
           {
            "colorbar": {
             "outlinewidth": 0,
             "ticks": ""
            },
            "colorscale": [
             [
              0,
              "#0d0887"
             ],
             [
              0.1111111111111111,
              "#46039f"
             ],
             [
              0.2222222222222222,
              "#7201a8"
             ],
             [
              0.3333333333333333,
              "#9c179e"
             ],
             [
              0.4444444444444444,
              "#bd3786"
             ],
             [
              0.5555555555555556,
              "#d8576b"
             ],
             [
              0.6666666666666666,
              "#ed7953"
             ],
             [
              0.7777777777777778,
              "#fb9f3a"
             ],
             [
              0.8888888888888888,
              "#fdca26"
             ],
             [
              1,
              "#f0f921"
             ]
            ],
            "type": "histogram2dcontour"
           }
          ],
          "mesh3d": [
           {
            "colorbar": {
             "outlinewidth": 0,
             "ticks": ""
            },
            "type": "mesh3d"
           }
          ],
          "parcoords": [
           {
            "line": {
             "colorbar": {
              "outlinewidth": 0,
              "ticks": ""
             }
            },
            "type": "parcoords"
           }
          ],
          "pie": [
           {
            "automargin": true,
            "type": "pie"
           }
          ],
          "scatter": [
           {
            "fillpattern": {
             "fillmode": "overlay",
             "size": 10,
             "solidity": 0.2
            },
            "type": "scatter"
           }
          ],
          "scatter3d": [
           {
            "line": {
             "colorbar": {
              "outlinewidth": 0,
              "ticks": ""
             }
            },
            "marker": {
             "colorbar": {
              "outlinewidth": 0,
              "ticks": ""
             }
            },
            "type": "scatter3d"
           }
          ],
          "scattercarpet": [
           {
            "marker": {
             "colorbar": {
              "outlinewidth": 0,
              "ticks": ""
             }
            },
            "type": "scattercarpet"
           }
          ],
          "scattergeo": [
           {
            "marker": {
             "colorbar": {
              "outlinewidth": 0,
              "ticks": ""
             }
            },
            "type": "scattergeo"
           }
          ],
          "scattergl": [
           {
            "marker": {
             "colorbar": {
              "outlinewidth": 0,
              "ticks": ""
             }
            },
            "type": "scattergl"
           }
          ],
          "scattermapbox": [
           {
            "marker": {
             "colorbar": {
              "outlinewidth": 0,
              "ticks": ""
             }
            },
            "type": "scattermapbox"
           }
          ],
          "scatterpolar": [
           {
            "marker": {
             "colorbar": {
              "outlinewidth": 0,
              "ticks": ""
             }
            },
            "type": "scatterpolar"
           }
          ],
          "scatterpolargl": [
           {
            "marker": {
             "colorbar": {
              "outlinewidth": 0,
              "ticks": ""
             }
            },
            "type": "scatterpolargl"
           }
          ],
          "scatterternary": [
           {
            "marker": {
             "colorbar": {
              "outlinewidth": 0,
              "ticks": ""
             }
            },
            "type": "scatterternary"
           }
          ],
          "surface": [
           {
            "colorbar": {
             "outlinewidth": 0,
             "ticks": ""
            },
            "colorscale": [
             [
              0,
              "#0d0887"
             ],
             [
              0.1111111111111111,
              "#46039f"
             ],
             [
              0.2222222222222222,
              "#7201a8"
             ],
             [
              0.3333333333333333,
              "#9c179e"
             ],
             [
              0.4444444444444444,
              "#bd3786"
             ],
             [
              0.5555555555555556,
              "#d8576b"
             ],
             [
              0.6666666666666666,
              "#ed7953"
             ],
             [
              0.7777777777777778,
              "#fb9f3a"
             ],
             [
              0.8888888888888888,
              "#fdca26"
             ],
             [
              1,
              "#f0f921"
             ]
            ],
            "type": "surface"
           }
          ],
          "table": [
           {
            "cells": {
             "fill": {
              "color": "#EBF0F8"
             },
             "line": {
              "color": "white"
             }
            },
            "header": {
             "fill": {
              "color": "#C8D4E3"
             },
             "line": {
              "color": "white"
             }
            },
            "type": "table"
           }
          ]
         },
         "layout": {
          "annotationdefaults": {
           "arrowcolor": "#2a3f5f",
           "arrowhead": 0,
           "arrowwidth": 1
          },
          "autotypenumbers": "strict",
          "coloraxis": {
           "colorbar": {
            "outlinewidth": 0,
            "ticks": ""
           }
          },
          "colorscale": {
           "diverging": [
            [
             0,
             "#8e0152"
            ],
            [
             0.1,
             "#c51b7d"
            ],
            [
             0.2,
             "#de77ae"
            ],
            [
             0.3,
             "#f1b6da"
            ],
            [
             0.4,
             "#fde0ef"
            ],
            [
             0.5,
             "#f7f7f7"
            ],
            [
             0.6,
             "#e6f5d0"
            ],
            [
             0.7,
             "#b8e186"
            ],
            [
             0.8,
             "#7fbc41"
            ],
            [
             0.9,
             "#4d9221"
            ],
            [
             1,
             "#276419"
            ]
           ],
           "sequential": [
            [
             0,
             "#0d0887"
            ],
            [
             0.1111111111111111,
             "#46039f"
            ],
            [
             0.2222222222222222,
             "#7201a8"
            ],
            [
             0.3333333333333333,
             "#9c179e"
            ],
            [
             0.4444444444444444,
             "#bd3786"
            ],
            [
             0.5555555555555556,
             "#d8576b"
            ],
            [
             0.6666666666666666,
             "#ed7953"
            ],
            [
             0.7777777777777778,
             "#fb9f3a"
            ],
            [
             0.8888888888888888,
             "#fdca26"
            ],
            [
             1,
             "#f0f921"
            ]
           ],
           "sequentialminus": [
            [
             0,
             "#0d0887"
            ],
            [
             0.1111111111111111,
             "#46039f"
            ],
            [
             0.2222222222222222,
             "#7201a8"
            ],
            [
             0.3333333333333333,
             "#9c179e"
            ],
            [
             0.4444444444444444,
             "#bd3786"
            ],
            [
             0.5555555555555556,
             "#d8576b"
            ],
            [
             0.6666666666666666,
             "#ed7953"
            ],
            [
             0.7777777777777778,
             "#fb9f3a"
            ],
            [
             0.8888888888888888,
             "#fdca26"
            ],
            [
             1,
             "#f0f921"
            ]
           ]
          },
          "colorway": [
           "#636efa",
           "#EF553B",
           "#00cc96",
           "#ab63fa",
           "#FFA15A",
           "#19d3f3",
           "#FF6692",
           "#B6E880",
           "#FF97FF",
           "#FECB52"
          ],
          "font": {
           "color": "#2a3f5f"
          },
          "geo": {
           "bgcolor": "white",
           "lakecolor": "white",
           "landcolor": "#E5ECF6",
           "showlakes": true,
           "showland": true,
           "subunitcolor": "white"
          },
          "hoverlabel": {
           "align": "left"
          },
          "hovermode": "closest",
          "mapbox": {
           "style": "light"
          },
          "paper_bgcolor": "white",
          "plot_bgcolor": "#E5ECF6",
          "polar": {
           "angularaxis": {
            "gridcolor": "white",
            "linecolor": "white",
            "ticks": ""
           },
           "bgcolor": "#E5ECF6",
           "radialaxis": {
            "gridcolor": "white",
            "linecolor": "white",
            "ticks": ""
           }
          },
          "scene": {
           "xaxis": {
            "backgroundcolor": "#E5ECF6",
            "gridcolor": "white",
            "gridwidth": 2,
            "linecolor": "white",
            "showbackground": true,
            "ticks": "",
            "zerolinecolor": "white"
           },
           "yaxis": {
            "backgroundcolor": "#E5ECF6",
            "gridcolor": "white",
            "gridwidth": 2,
            "linecolor": "white",
            "showbackground": true,
            "ticks": "",
            "zerolinecolor": "white"
           },
           "zaxis": {
            "backgroundcolor": "#E5ECF6",
            "gridcolor": "white",
            "gridwidth": 2,
            "linecolor": "white",
            "showbackground": true,
            "ticks": "",
            "zerolinecolor": "white"
           }
          },
          "shapedefaults": {
           "line": {
            "color": "#2a3f5f"
           }
          },
          "ternary": {
           "aaxis": {
            "gridcolor": "white",
            "linecolor": "white",
            "ticks": ""
           },
           "baxis": {
            "gridcolor": "white",
            "linecolor": "white",
            "ticks": ""
           },
           "bgcolor": "#E5ECF6",
           "caxis": {
            "gridcolor": "white",
            "linecolor": "white",
            "ticks": ""
           }
          },
          "title": {
           "x": 0.05
          },
          "xaxis": {
           "automargin": true,
           "gridcolor": "white",
           "linecolor": "white",
           "ticks": "",
           "title": {
            "standoff": 15
           },
           "zerolinecolor": "white",
           "zerolinewidth": 2
          },
          "yaxis": {
           "automargin": true,
           "gridcolor": "white",
           "linecolor": "white",
           "ticks": "",
           "title": {
            "standoff": 15
           },
           "zerolinecolor": "white",
           "zerolinewidth": 2
          }
         }
        },
        "title": {
         "text": "ENGAGE 2C scenarios <br><sup>Regional CO2 reductions by 2030 </sup>",
         "x": 0,
         "xref": "paper"
        },
        "xaxis": {
         "anchor": "y",
         "domain": [
          0,
          0.2888888888888889
         ],
         "title": {
          "text": "Scenario Narrative"
         }
        },
        "xaxis2": {
         "anchor": "y2",
         "domain": [
          0.35555555555555557,
          0.6444444444444445
         ]
        },
        "xaxis3": {
         "anchor": "y3",
         "domain": [
          0.7111111111111111,
          1
         ]
        },
        "yaxis": {
         "anchor": "x",
         "domain": [
          0,
          1
         ],
         "range": [
          0,
          0.6
         ],
         "title": {
          "text": "Reduction Value"
         }
        },
        "yaxis2": {
         "anchor": "x2",
         "domain": [
          0,
          1
         ],
         "matches": "y",
         "showticklabels": false
        },
        "yaxis3": {
         "anchor": "x3",
         "domain": [
          0,
          1
         ],
         "matches": "y",
         "showticklabels": false
        }
       }
      }
     },
     "metadata": {},
     "output_type": "display_data"
    }
   ],
   "source": [
    "#REGIONAL PLOT\n",
    "\n",
    "#filter data on reduction year\n",
    "filter_df = filter_df[filter_df['reduction_year'] == \"2030_CO2_redu\"]\n",
    "# Define color mapping for models\n",
    "color_mapping = {\n",
    "    'AIM/CGE V2.2': \"rgb(255, 0, 0)\",\n",
    "    'COFFEE 1.5': \"rgb(0, 255, 0)\",\n",
    "    'GEM-E3_V2023': \"rgb(0, 0, 255)\",\n",
    "    'IMAGE 3.2': \"rgb(255, 255, 0)\",\n",
    "    'MESSAGEix-GLOBIOM_1.1': \"rgb(255, 0, 255)\",\n",
    "    'POLES ENGAGE': \"rgb(0, 255, 255)\",\n",
    "    'REMIND 3.0': \"rgb(128, 0, 0)\",\n",
    "    'WITCH 5.0': \"rgb(0, 128, 0)\"\n",
    "}\n",
    "\n",
    "# Map colors based on the \"model\" column\n",
    "filter_df[\"color\"] = filter_df[\"model\"].map(color_mapping)\n",
    "\n",
    "fig = make_subplots(rows=1, cols=len(filter_df[\"region\"].unique()), shared_yaxes=True)\n",
    "\n",
    "for i, region_ in enumerate(filter_df[\"region\"].unique()):\n",
    "    box_trace = go.Box(\n",
    "        x=filter_df[(filter_df[\"region\"] == region_)][\"scenario_narrative\"],\n",
    "        y=filter_df[(filter_df[\"region\"] == region_)][\"reduction_value\"],\n",
    "        name=\"Boxplot\",\n",
    "        boxpoints=False,\n",
    "        marker_color='grey',\n",
    "        opacity=0.3,\n",
    "        showlegend=False\n",
    "    )\n",
    "\n",
    "    fig.add_trace(box_trace, row=1, col=i + 1)\n",
    "\n",
    "    # Add subplot titles\n",
    "    fig.update_layout(\n",
    "        annotations=[dict(text=str(year), xref=\"x\" + str(i + 1), yref=\"paper\", x=0.5, y=1.1, showarrow=False) for i, year in enumerate(filter_df[\"region\"].unique())]\n",
    "    )\n",
    "\n",
    "    # Create a scatterplot for each model\n",
    "    for model in filter_df[\"model\"].unique():\n",
    "        scatter_trace = go.Scatter(\n",
    "            x=filter_df[(filter_df[\"region\"] == region_) & (filter_df[\"model\"] == model)][\"scenario_narrative\"],\n",
    "            y=filter_df[(filter_df[\"region\"] == region_) & (filter_df[\"model\"] == model)][\"reduction_value\"],\n",
    "            mode=\"markers\",\n",
    "            name=model,\n",
    "            marker=dict(\n",
    "                color=color_mapping[model],\n",
    "                size=6\n",
    "            ),\n",
    "            showlegend=i==0,\n",
    "            legendgroup=model\n",
    "        )\n",
    "\n",
    "        fig.add_trace(scatter_trace, row=1, col=i + 1)\n",
    "\n",
    "fig.update_layout(\n",
    "    title = go.layout.Title(\n",
    "        text=\"ENGAGE 2C scenarios <br><sup>Regional CO2 reductions by 2030 </sup>\",\n",
    "        xref=\"paper\",\n",
    "        x=0),\n",
    "    xaxis=dict(title=\"Scenario Narrative\", ),\n",
    "    yaxis=dict(title=\"Reduction Value\", range=[0, 0.6]),\n",
    "    legend=dict(\n",
    "        traceorder=\"normal\",\n",
    "        itemsizing=\"constant\"\n",
    "    )\n",
    ")\n",
    "\n",
    "fig.show()"
   ]
  },
  {
   "cell_type": "code",
   "execution_count": 53,
   "metadata": {},
   "outputs": [
    {
     "data": {
      "application/vnd.plotly.v1+json": {
       "config": {
        "plotlyServerURL": "https://plot.ly"
       },
       "data": [
        {
         "alignmentgroup": "True",
         "boxpoints": "all",
         "customdata": [
          [
           "AIM/CGE V2.2"
          ],
          [
           "GEM-E3_V2023"
          ],
          [
           "IMAGE 3.2"
          ],
          [
           "MESSAGEix-GLOBIOM_1.1"
          ],
          [
           "POLES ENGAGE"
          ],
          [
           "REMIND 3.0"
          ],
          [
           "WITCH 5.0"
          ]
         ],
         "hovertemplate": "Emissions|CO2=%{y}<br>model=%{customdata[0]}<extra></extra>",
         "legendgroup": "Instit",
         "marker": {
          "color": "#636efa"
         },
         "name": "Instit",
         "notched": false,
         "offsetgroup": "Instit",
         "orientation": "v",
         "showlegend": true,
         "type": "box",
         "x": [
          "Instit",
          "Instit",
          "Instit",
          "Instit",
          "Instit",
          "Instit",
          "Instit"
         ],
         "x0": " ",
         "xaxis": "x",
         "y": [
          32426.5506,
          31993.042499468524,
          33829.71224265876,
          34109.44321042558,
          31522.11328125,
          33952.2199114,
          28455.7043397742
         ],
         "y0": " ",
         "yaxis": "y"
        },
        {
         "alignmentgroup": "True",
         "boxpoints": "all",
         "customdata": [
          [
           "AIM/CGE V2.2"
          ],
          [
           "COFFEE 1.5"
          ],
          [
           "GEM-E3_V2023"
          ],
          [
           "IMAGE 3.2"
          ],
          [
           "MESSAGEix-GLOBIOM_1.1"
          ],
          [
           "POLES ENGAGE"
          ],
          [
           "REMIND 3.0"
          ],
          [
           "WITCH 5.0"
          ]
         ],
         "hovertemplate": "Emissions|CO2=%{y}<br>model=%{customdata[0]}<extra></extra>",
         "legendgroup": "Cost Effective",
         "marker": {
          "color": "#EF553B"
         },
         "name": "Cost Effective",
         "notched": false,
         "offsetgroup": "Cost Effective",
         "orientation": "v",
         "showlegend": true,
         "type": "box",
         "x": [
          "Cost Effective",
          "Cost Effective",
          "Cost Effective",
          "Cost Effective",
          "Cost Effective",
          "Cost Effective",
          "Cost Effective",
          "Cost Effective"
         ],
         "x0": " ",
         "xaxis": "x",
         "y": [
          31213.1991,
          34626.204102504,
          32028.28057911866,
          30550.01139600644,
          30840.01957116535,
          31162.3125,
          34065.9892494,
          21699.3795922218
         ],
         "y0": " ",
         "yaxis": "y"
        }
       ],
       "layout": {
        "boxmode": "overlay",
        "legend": {
         "title": {
          "text": "scenario_narrative"
         },
         "tracegroupgap": 0
        },
        "margin": {
         "t": 60
        },
        "template": {
         "data": {
          "bar": [
           {
            "error_x": {
             "color": "#2a3f5f"
            },
            "error_y": {
             "color": "#2a3f5f"
            },
            "marker": {
             "line": {
              "color": "#E5ECF6",
              "width": 0.5
             },
             "pattern": {
              "fillmode": "overlay",
              "size": 10,
              "solidity": 0.2
             }
            },
            "type": "bar"
           }
          ],
          "barpolar": [
           {
            "marker": {
             "line": {
              "color": "#E5ECF6",
              "width": 0.5
             },
             "pattern": {
              "fillmode": "overlay",
              "size": 10,
              "solidity": 0.2
             }
            },
            "type": "barpolar"
           }
          ],
          "carpet": [
           {
            "aaxis": {
             "endlinecolor": "#2a3f5f",
             "gridcolor": "white",
             "linecolor": "white",
             "minorgridcolor": "white",
             "startlinecolor": "#2a3f5f"
            },
            "baxis": {
             "endlinecolor": "#2a3f5f",
             "gridcolor": "white",
             "linecolor": "white",
             "minorgridcolor": "white",
             "startlinecolor": "#2a3f5f"
            },
            "type": "carpet"
           }
          ],
          "choropleth": [
           {
            "colorbar": {
             "outlinewidth": 0,
             "ticks": ""
            },
            "type": "choropleth"
           }
          ],
          "contour": [
           {
            "colorbar": {
             "outlinewidth": 0,
             "ticks": ""
            },
            "colorscale": [
             [
              0,
              "#0d0887"
             ],
             [
              0.1111111111111111,
              "#46039f"
             ],
             [
              0.2222222222222222,
              "#7201a8"
             ],
             [
              0.3333333333333333,
              "#9c179e"
             ],
             [
              0.4444444444444444,
              "#bd3786"
             ],
             [
              0.5555555555555556,
              "#d8576b"
             ],
             [
              0.6666666666666666,
              "#ed7953"
             ],
             [
              0.7777777777777778,
              "#fb9f3a"
             ],
             [
              0.8888888888888888,
              "#fdca26"
             ],
             [
              1,
              "#f0f921"
             ]
            ],
            "type": "contour"
           }
          ],
          "contourcarpet": [
           {
            "colorbar": {
             "outlinewidth": 0,
             "ticks": ""
            },
            "type": "contourcarpet"
           }
          ],
          "heatmap": [
           {
            "colorbar": {
             "outlinewidth": 0,
             "ticks": ""
            },
            "colorscale": [
             [
              0,
              "#0d0887"
             ],
             [
              0.1111111111111111,
              "#46039f"
             ],
             [
              0.2222222222222222,
              "#7201a8"
             ],
             [
              0.3333333333333333,
              "#9c179e"
             ],
             [
              0.4444444444444444,
              "#bd3786"
             ],
             [
              0.5555555555555556,
              "#d8576b"
             ],
             [
              0.6666666666666666,
              "#ed7953"
             ],
             [
              0.7777777777777778,
              "#fb9f3a"
             ],
             [
              0.8888888888888888,
              "#fdca26"
             ],
             [
              1,
              "#f0f921"
             ]
            ],
            "type": "heatmap"
           }
          ],
          "heatmapgl": [
           {
            "colorbar": {
             "outlinewidth": 0,
             "ticks": ""
            },
            "colorscale": [
             [
              0,
              "#0d0887"
             ],
             [
              0.1111111111111111,
              "#46039f"
             ],
             [
              0.2222222222222222,
              "#7201a8"
             ],
             [
              0.3333333333333333,
              "#9c179e"
             ],
             [
              0.4444444444444444,
              "#bd3786"
             ],
             [
              0.5555555555555556,
              "#d8576b"
             ],
             [
              0.6666666666666666,
              "#ed7953"
             ],
             [
              0.7777777777777778,
              "#fb9f3a"
             ],
             [
              0.8888888888888888,
              "#fdca26"
             ],
             [
              1,
              "#f0f921"
             ]
            ],
            "type": "heatmapgl"
           }
          ],
          "histogram": [
           {
            "marker": {
             "pattern": {
              "fillmode": "overlay",
              "size": 10,
              "solidity": 0.2
             }
            },
            "type": "histogram"
           }
          ],
          "histogram2d": [
           {
            "colorbar": {
             "outlinewidth": 0,
             "ticks": ""
            },
            "colorscale": [
             [
              0,
              "#0d0887"
             ],
             [
              0.1111111111111111,
              "#46039f"
             ],
             [
              0.2222222222222222,
              "#7201a8"
             ],
             [
              0.3333333333333333,
              "#9c179e"
             ],
             [
              0.4444444444444444,
              "#bd3786"
             ],
             [
              0.5555555555555556,
              "#d8576b"
             ],
             [
              0.6666666666666666,
              "#ed7953"
             ],
             [
              0.7777777777777778,
              "#fb9f3a"
             ],
             [
              0.8888888888888888,
              "#fdca26"
             ],
             [
              1,
              "#f0f921"
             ]
            ],
            "type": "histogram2d"
           }
          ],
          "histogram2dcontour": [
           {
            "colorbar": {
             "outlinewidth": 0,
             "ticks": ""
            },
            "colorscale": [
             [
              0,
              "#0d0887"
             ],
             [
              0.1111111111111111,
              "#46039f"
             ],
             [
              0.2222222222222222,
              "#7201a8"
             ],
             [
              0.3333333333333333,
              "#9c179e"
             ],
             [
              0.4444444444444444,
              "#bd3786"
             ],
             [
              0.5555555555555556,
              "#d8576b"
             ],
             [
              0.6666666666666666,
              "#ed7953"
             ],
             [
              0.7777777777777778,
              "#fb9f3a"
             ],
             [
              0.8888888888888888,
              "#fdca26"
             ],
             [
              1,
              "#f0f921"
             ]
            ],
            "type": "histogram2dcontour"
           }
          ],
          "mesh3d": [
           {
            "colorbar": {
             "outlinewidth": 0,
             "ticks": ""
            },
            "type": "mesh3d"
           }
          ],
          "parcoords": [
           {
            "line": {
             "colorbar": {
              "outlinewidth": 0,
              "ticks": ""
             }
            },
            "type": "parcoords"
           }
          ],
          "pie": [
           {
            "automargin": true,
            "type": "pie"
           }
          ],
          "scatter": [
           {
            "fillpattern": {
             "fillmode": "overlay",
             "size": 10,
             "solidity": 0.2
            },
            "type": "scatter"
           }
          ],
          "scatter3d": [
           {
            "line": {
             "colorbar": {
              "outlinewidth": 0,
              "ticks": ""
             }
            },
            "marker": {
             "colorbar": {
              "outlinewidth": 0,
              "ticks": ""
             }
            },
            "type": "scatter3d"
           }
          ],
          "scattercarpet": [
           {
            "marker": {
             "colorbar": {
              "outlinewidth": 0,
              "ticks": ""
             }
            },
            "type": "scattercarpet"
           }
          ],
          "scattergeo": [
           {
            "marker": {
             "colorbar": {
              "outlinewidth": 0,
              "ticks": ""
             }
            },
            "type": "scattergeo"
           }
          ],
          "scattergl": [
           {
            "marker": {
             "colorbar": {
              "outlinewidth": 0,
              "ticks": ""
             }
            },
            "type": "scattergl"
           }
          ],
          "scattermapbox": [
           {
            "marker": {
             "colorbar": {
              "outlinewidth": 0,
              "ticks": ""
             }
            },
            "type": "scattermapbox"
           }
          ],
          "scatterpolar": [
           {
            "marker": {
             "colorbar": {
              "outlinewidth": 0,
              "ticks": ""
             }
            },
            "type": "scatterpolar"
           }
          ],
          "scatterpolargl": [
           {
            "marker": {
             "colorbar": {
              "outlinewidth": 0,
              "ticks": ""
             }
            },
            "type": "scatterpolargl"
           }
          ],
          "scatterternary": [
           {
            "marker": {
             "colorbar": {
              "outlinewidth": 0,
              "ticks": ""
             }
            },
            "type": "scatterternary"
           }
          ],
          "surface": [
           {
            "colorbar": {
             "outlinewidth": 0,
             "ticks": ""
            },
            "colorscale": [
             [
              0,
              "#0d0887"
             ],
             [
              0.1111111111111111,
              "#46039f"
             ],
             [
              0.2222222222222222,
              "#7201a8"
             ],
             [
              0.3333333333333333,
              "#9c179e"
             ],
             [
              0.4444444444444444,
              "#bd3786"
             ],
             [
              0.5555555555555556,
              "#d8576b"
             ],
             [
              0.6666666666666666,
              "#ed7953"
             ],
             [
              0.7777777777777778,
              "#fb9f3a"
             ],
             [
              0.8888888888888888,
              "#fdca26"
             ],
             [
              1,
              "#f0f921"
             ]
            ],
            "type": "surface"
           }
          ],
          "table": [
           {
            "cells": {
             "fill": {
              "color": "#EBF0F8"
             },
             "line": {
              "color": "white"
             }
            },
            "header": {
             "fill": {
              "color": "#C8D4E3"
             },
             "line": {
              "color": "white"
             }
            },
            "type": "table"
           }
          ]
         },
         "layout": {
          "annotationdefaults": {
           "arrowcolor": "#2a3f5f",
           "arrowhead": 0,
           "arrowwidth": 1
          },
          "autotypenumbers": "strict",
          "coloraxis": {
           "colorbar": {
            "outlinewidth": 0,
            "ticks": ""
           }
          },
          "colorscale": {
           "diverging": [
            [
             0,
             "#8e0152"
            ],
            [
             0.1,
             "#c51b7d"
            ],
            [
             0.2,
             "#de77ae"
            ],
            [
             0.3,
             "#f1b6da"
            ],
            [
             0.4,
             "#fde0ef"
            ],
            [
             0.5,
             "#f7f7f7"
            ],
            [
             0.6,
             "#e6f5d0"
            ],
            [
             0.7,
             "#b8e186"
            ],
            [
             0.8,
             "#7fbc41"
            ],
            [
             0.9,
             "#4d9221"
            ],
            [
             1,
             "#276419"
            ]
           ],
           "sequential": [
            [
             0,
             "#0d0887"
            ],
            [
             0.1111111111111111,
             "#46039f"
            ],
            [
             0.2222222222222222,
             "#7201a8"
            ],
            [
             0.3333333333333333,
             "#9c179e"
            ],
            [
             0.4444444444444444,
             "#bd3786"
            ],
            [
             0.5555555555555556,
             "#d8576b"
            ],
            [
             0.6666666666666666,
             "#ed7953"
            ],
            [
             0.7777777777777778,
             "#fb9f3a"
            ],
            [
             0.8888888888888888,
             "#fdca26"
            ],
            [
             1,
             "#f0f921"
            ]
           ],
           "sequentialminus": [
            [
             0,
             "#0d0887"
            ],
            [
             0.1111111111111111,
             "#46039f"
            ],
            [
             0.2222222222222222,
             "#7201a8"
            ],
            [
             0.3333333333333333,
             "#9c179e"
            ],
            [
             0.4444444444444444,
             "#bd3786"
            ],
            [
             0.5555555555555556,
             "#d8576b"
            ],
            [
             0.6666666666666666,
             "#ed7953"
            ],
            [
             0.7777777777777778,
             "#fb9f3a"
            ],
            [
             0.8888888888888888,
             "#fdca26"
            ],
            [
             1,
             "#f0f921"
            ]
           ]
          },
          "colorway": [
           "#636efa",
           "#EF553B",
           "#00cc96",
           "#ab63fa",
           "#FFA15A",
           "#19d3f3",
           "#FF6692",
           "#B6E880",
           "#FF97FF",
           "#FECB52"
          ],
          "font": {
           "color": "#2a3f5f"
          },
          "geo": {
           "bgcolor": "white",
           "lakecolor": "white",
           "landcolor": "#E5ECF6",
           "showlakes": true,
           "showland": true,
           "subunitcolor": "white"
          },
          "hoverlabel": {
           "align": "left"
          },
          "hovermode": "closest",
          "mapbox": {
           "style": "light"
          },
          "paper_bgcolor": "white",
          "plot_bgcolor": "#E5ECF6",
          "polar": {
           "angularaxis": {
            "gridcolor": "white",
            "linecolor": "white",
            "ticks": ""
           },
           "bgcolor": "#E5ECF6",
           "radialaxis": {
            "gridcolor": "white",
            "linecolor": "white",
            "ticks": ""
           }
          },
          "scene": {
           "xaxis": {
            "backgroundcolor": "#E5ECF6",
            "gridcolor": "white",
            "gridwidth": 2,
            "linecolor": "white",
            "showbackground": true,
            "ticks": "",
            "zerolinecolor": "white"
           },
           "yaxis": {
            "backgroundcolor": "#E5ECF6",
            "gridcolor": "white",
            "gridwidth": 2,
            "linecolor": "white",
            "showbackground": true,
            "ticks": "",
            "zerolinecolor": "white"
           },
           "zaxis": {
            "backgroundcolor": "#E5ECF6",
            "gridcolor": "white",
            "gridwidth": 2,
            "linecolor": "white",
            "showbackground": true,
            "ticks": "",
            "zerolinecolor": "white"
           }
          },
          "shapedefaults": {
           "line": {
            "color": "#2a3f5f"
           }
          },
          "ternary": {
           "aaxis": {
            "gridcolor": "white",
            "linecolor": "white",
            "ticks": ""
           },
           "baxis": {
            "gridcolor": "white",
            "linecolor": "white",
            "ticks": ""
           },
           "bgcolor": "#E5ECF6",
           "caxis": {
            "gridcolor": "white",
            "linecolor": "white",
            "ticks": ""
           }
          },
          "title": {
           "x": 0.05
          },
          "xaxis": {
           "automargin": true,
           "gridcolor": "white",
           "linecolor": "white",
           "ticks": "",
           "title": {
            "standoff": 15
           },
           "zerolinecolor": "white",
           "zerolinewidth": 2
          },
          "yaxis": {
           "automargin": true,
           "gridcolor": "white",
           "linecolor": "white",
           "ticks": "",
           "title": {
            "standoff": 15
           },
           "zerolinecolor": "white",
           "zerolinewidth": 2
          }
         }
        },
        "xaxis": {
         "anchor": "y",
         "categoryarray": [
          "Instit",
          "Cost Effective"
         ],
         "categoryorder": "array",
         "domain": [
          0,
          1
         ],
         "title": {
          "text": "scenario_narrative"
         }
        },
        "yaxis": {
         "anchor": "x",
         "domain": [
          0,
          1
         ],
         "title": {
          "text": "Emissions|CO2"
         }
        }
       }
      }
     },
     "metadata": {},
     "output_type": "display_data"
    }
   ],
   "source": [
    "fig = go.Figure()\n",
    "\n",
    "fig = go.Figure()\n",
    "fig.add_trace(go.Box(\n",
    "    x=to_plot_df[\"scenario_narrative\"],\n",
    "    y=to_plot_df[\"Emissions|CO2\"],\n",
    "    name=\"All Points\",\n",
    "    jitter=0.3,\n",
    "    pointpos=0,\n",
    "    boxpoints='all',  # represent all points\n",
    "    #marker_color=to_plot_df[\"scenario_narrative\"],\n",
    "    line_color='rgb(7,40,89)'\n",
    "\n",
    "\n",
    "))\n",
    "\n",
    "\n",
    "fig2 = px.box(\n",
    "    data_frame = to_plot_df\n",
    "    ,y = 'Emissions|CO2'\n",
    "    ,x = 'scenario_narrative'\n",
    "    ,color = \"scenario_narrative\"\n",
    "    ,points = 'all'\n",
    "    ,hover_data = {'model':True, 'scenario_narrative':False}\n",
    ")\n",
    "fig2\n",
    " "
   ]
  },
  {
   "cell_type": "code",
   "execution_count": 122,
   "metadata": {},
   "outputs": [
    {
     "data": {
      "application/vnd.plotly.v1+json": {
       "config": {
        "plotlyServerURL": "https://plot.ly"
       },
       "data": [
        {
         "customdata": [
          [
           "T34_1000_bitb_em",
           "AIM/CGE V2.2"
          ],
          [
           "T34_1000_bitb_em",
           "AIM/CGE V2.2"
          ],
          [
           "T34_1000_bitb_em",
           "AIM/CGE V2.2"
          ],
          [
           "T34_1000_bitb_em",
           "AIM/CGE V2.2"
          ],
          [
           "T34_1000_bitb_em",
           "AIM/CGE V2.2"
          ],
          [
           "T34_1000_bitb_em",
           "AIM/CGE V2.2"
          ],
          [
           "T34_1000_bitb_em",
           "AIM/CGE V2.2"
          ],
          [
           "T34_1000_bitb_em",
           "AIM/CGE V2.2"
          ],
          [
           "T34_1000_bitb_em",
           "AIM/CGE V2.2"
          ],
          [
           "T34_1000_bitb_em",
           "AIM/CGE V2.2"
          ],
          [
           "T34_1000_bitb_em",
           "AIM/CGE V2.2"
          ],
          [
           "T34_1000_bitb_em",
           "AIM/CGE V2.2"
          ],
          [
           "T34_1000_bitb_em",
           "AIM/CGE V2.2"
          ],
          [
           "T34_1000_bitb_em",
           "AIM/CGE V2.2"
          ],
          [
           "T34_1000_bitb_em",
           "AIM/CGE V2.2"
          ],
          [
           "T34_1000_bitb_em",
           "AIM/CGE V2.2"
          ],
          [
           "T34_1000_bitb_em",
           "AIM/CGE V2.2"
          ],
          [
           "T34_1000_bitb_em",
           "AIM/CGE V2.2"
          ],
          [
           "T34_1000_bitb_em",
           "AIM/CGE V2.2"
          ]
         ],
         "hovertemplate": "region=China<br>model=%{customdata[1]}<br>scenario_narrative=Tech+Inst<br>year=%{x}<br>Emissions|Kyoto Gases=%{y}<br>scenario=%{customdata[0]}<extra></extra>",
         "legendgroup": "China, AIM/CGE V2.2",
         "line": {
          "color": "#636efa",
          "dash": "solid"
         },
         "marker": {
          "symbol": "circle"
         },
         "mode": "lines",
         "name": "China, AIM/CGE V2.2",
         "showlegend": true,
         "type": "scattergl",
         "x": [
          2010,
          2015,
          2020,
          2025,
          2030,
          2035,
          2040,
          2045,
          2050,
          2055,
          2060,
          2065,
          2070,
          2075,
          2080,
          2085,
          2090,
          2095,
          2100
         ],
         "xaxis": "x4",
         "y": [
          11537.5187,
          13745.7169,
          15070.7563,
          13229.0308,
          11433.0647,
          8648.9213,
          5588.2266,
          2766.8869,
          624.5474,
          879.3148,
          410.5252,
          348.1959,
          309.1487,
          274.8137,
          237.504,
          196.2544,
          172.7269,
          161.8852,
          162.574
         ],
         "yaxis": "y4"
        },
        {
         "customdata": [
          [
           "T34_1000_feas_em",
           "AIM/CGE V2.2"
          ],
          [
           "T34_1000_feas_em",
           "AIM/CGE V2.2"
          ],
          [
           "T34_1000_feas_em",
           "AIM/CGE V2.2"
          ],
          [
           "T34_1000_feas_em",
           "AIM/CGE V2.2"
          ],
          [
           "T34_1000_feas_em",
           "AIM/CGE V2.2"
          ],
          [
           "T34_1000_feas_em",
           "AIM/CGE V2.2"
          ],
          [
           "T34_1000_feas_em",
           "AIM/CGE V2.2"
          ],
          [
           "T34_1000_feas_em",
           "AIM/CGE V2.2"
          ],
          [
           "T34_1000_feas_em",
           "AIM/CGE V2.2"
          ],
          [
           "T34_1000_feas_em",
           "AIM/CGE V2.2"
          ],
          [
           "T34_1000_feas_em",
           "AIM/CGE V2.2"
          ],
          [
           "T34_1000_feas_em",
           "AIM/CGE V2.2"
          ],
          [
           "T34_1000_feas_em",
           "AIM/CGE V2.2"
          ],
          [
           "T34_1000_feas_em",
           "AIM/CGE V2.2"
          ],
          [
           "T34_1000_feas_em",
           "AIM/CGE V2.2"
          ],
          [
           "T34_1000_feas_em",
           "AIM/CGE V2.2"
          ],
          [
           "T34_1000_feas_em",
           "AIM/CGE V2.2"
          ],
          [
           "T34_1000_feas_em",
           "AIM/CGE V2.2"
          ],
          [
           "T34_1000_feas_em",
           "AIM/CGE V2.2"
          ]
         ],
         "hovertemplate": "region=China<br>model=%{customdata[1]}<br>scenario_narrative=Tech+Inst+Enab<br>year=%{x}<br>Emissions|Kyoto Gases=%{y}<br>scenario=%{customdata[0]}<extra></extra>",
         "legendgroup": "China, AIM/CGE V2.2",
         "line": {
          "color": "#636efa",
          "dash": "solid"
         },
         "marker": {
          "symbol": "circle"
         },
         "mode": "lines",
         "name": "China, AIM/CGE V2.2",
         "showlegend": false,
         "type": "scattergl",
         "x": [
          2010,
          2015,
          2020,
          2025,
          2030,
          2035,
          2040,
          2045,
          2050,
          2055,
          2060,
          2065,
          2070,
          2075,
          2080,
          2085,
          2090,
          2095,
          2100
         ],
         "xaxis": "x5",
         "y": [
          11537.5187,
          13745.7169,
          15070.9138,
          13114.8775,
          10941.585,
          8034.1136,
          5077.5237,
          2926.7054,
          555.4704,
          215.1128,
          27.977899999999998,
          -89.6426,
          -145.3248,
          -186.7774,
          -219.0997,
          -243.0364,
          -250.7683,
          -241.5842,
          -222.879
         ],
         "yaxis": "y5"
        },
        {
         "customdata": [
          [
           "T34_1000_govem",
           "AIM/CGE V2.2"
          ],
          [
           "T34_1000_govem",
           "AIM/CGE V2.2"
          ],
          [
           "T34_1000_govem",
           "AIM/CGE V2.2"
          ],
          [
           "T34_1000_govem",
           "AIM/CGE V2.2"
          ],
          [
           "T34_1000_govem",
           "AIM/CGE V2.2"
          ],
          [
           "T34_1000_govem",
           "AIM/CGE V2.2"
          ],
          [
           "T34_1000_govem",
           "AIM/CGE V2.2"
          ],
          [
           "T34_1000_govem",
           "AIM/CGE V2.2"
          ],
          [
           "T34_1000_govem",
           "AIM/CGE V2.2"
          ],
          [
           "T34_1000_govem",
           "AIM/CGE V2.2"
          ],
          [
           "T34_1000_govem",
           "AIM/CGE V2.2"
          ],
          [
           "T34_1000_govem",
           "AIM/CGE V2.2"
          ],
          [
           "T34_1000_govem",
           "AIM/CGE V2.2"
          ],
          [
           "T34_1000_govem",
           "AIM/CGE V2.2"
          ],
          [
           "T34_1000_govem",
           "AIM/CGE V2.2"
          ],
          [
           "T34_1000_govem",
           "AIM/CGE V2.2"
          ],
          [
           "T34_1000_govem",
           "AIM/CGE V2.2"
          ],
          [
           "T34_1000_govem",
           "AIM/CGE V2.2"
          ],
          [
           "T34_1000_govem",
           "AIM/CGE V2.2"
          ]
         ],
         "hovertemplate": "region=China<br>model=%{customdata[1]}<br>scenario_narrative=Instit<br>year=%{x}<br>Emissions|Kyoto Gases=%{y}<br>scenario=%{customdata[0]}<extra></extra>",
         "legendgroup": "China, AIM/CGE V2.2",
         "line": {
          "color": "#636efa",
          "dash": "solid"
         },
         "marker": {
          "symbol": "circle"
         },
         "mode": "lines",
         "name": "China, AIM/CGE V2.2",
         "showlegend": false,
         "type": "scattergl",
         "x": [
          2010,
          2015,
          2020,
          2025,
          2030,
          2035,
          2040,
          2045,
          2050,
          2055,
          2060,
          2065,
          2070,
          2075,
          2080,
          2085,
          2090,
          2095,
          2100
         ],
         "xaxis": "x6",
         "y": [
          11537.5187,
          13745.7169,
          15054.2493,
          13166.868,
          11290.2687,
          8722.8337,
          6054.4933,
          3612.7563,
          1693.3457,
          292.5607,
          69.9506,
          -159.3432,
          -366.9757,
          -603.5443,
          -873.9954,
          -1107.8006,
          -1285.0168,
          -1409.4018,
          -1501.3822
         ],
         "yaxis": "y6"
        },
        {
         "customdata": [
          [
           "T34_1000_ref",
           "AIM/CGE V2.2"
          ],
          [
           "T34_1000_ref",
           "AIM/CGE V2.2"
          ],
          [
           "T34_1000_ref",
           "AIM/CGE V2.2"
          ],
          [
           "T34_1000_ref",
           "AIM/CGE V2.2"
          ],
          [
           "T34_1000_ref",
           "AIM/CGE V2.2"
          ],
          [
           "T34_1000_ref",
           "AIM/CGE V2.2"
          ],
          [
           "T34_1000_ref",
           "AIM/CGE V2.2"
          ],
          [
           "T34_1000_ref",
           "AIM/CGE V2.2"
          ],
          [
           "T34_1000_ref",
           "AIM/CGE V2.2"
          ],
          [
           "T34_1000_ref",
           "AIM/CGE V2.2"
          ],
          [
           "T34_1000_ref",
           "AIM/CGE V2.2"
          ],
          [
           "T34_1000_ref",
           "AIM/CGE V2.2"
          ],
          [
           "T34_1000_ref",
           "AIM/CGE V2.2"
          ],
          [
           "T34_1000_ref",
           "AIM/CGE V2.2"
          ],
          [
           "T34_1000_ref",
           "AIM/CGE V2.2"
          ],
          [
           "T34_1000_ref",
           "AIM/CGE V2.2"
          ],
          [
           "T34_1000_ref",
           "AIM/CGE V2.2"
          ],
          [
           "T34_1000_ref",
           "AIM/CGE V2.2"
          ],
          [
           "T34_1000_ref",
           "AIM/CGE V2.2"
          ]
         ],
         "hovertemplate": "region=China<br>model=%{customdata[1]}<br>scenario_narrative=Cost Effective<br>year=%{x}<br>Emissions|Kyoto Gases=%{y}<br>scenario=%{customdata[0]}<extra></extra>",
         "legendgroup": "China, AIM/CGE V2.2",
         "line": {
          "color": "#636efa",
          "dash": "solid"
         },
         "marker": {
          "symbol": "circle"
         },
         "mode": "lines",
         "name": "China, AIM/CGE V2.2",
         "showlegend": false,
         "type": "scattergl",
         "x": [
          2010,
          2015,
          2020,
          2025,
          2030,
          2035,
          2040,
          2045,
          2050,
          2055,
          2060,
          2065,
          2070,
          2075,
          2080,
          2085,
          2090,
          2095,
          2100
         ],
         "xaxis": "x",
         "y": [
          11537.5187,
          13745.7169,
          15054.2493,
          12640.5223,
          10981.8938,
          9164.2416,
          7035.3985,
          4827.0068,
          2928.5076,
          1314.2616,
          1115.7875,
          981.893,
          797.1289,
          613.7934,
          451.1176,
          358.0988,
          265.5907,
          198.9506,
          136.433
         ],
         "yaxis": "y"
        },
        {
         "customdata": [
          [
           "T34_1000_ref",
           "COFFEE 1.5"
          ],
          [
           "T34_1000_ref",
           "COFFEE 1.5"
          ],
          [
           "T34_1000_ref",
           "COFFEE 1.5"
          ],
          [
           "T34_1000_ref",
           "COFFEE 1.5"
          ],
          [
           "T34_1000_ref",
           "COFFEE 1.5"
          ],
          [
           "T34_1000_ref",
           "COFFEE 1.5"
          ],
          [
           "T34_1000_ref",
           "COFFEE 1.5"
          ],
          [
           "T34_1000_ref",
           "COFFEE 1.5"
          ],
          [
           "T34_1000_ref",
           "COFFEE 1.5"
          ],
          [
           "T34_1000_ref",
           "COFFEE 1.5"
          ],
          [
           "T34_1000_ref",
           "COFFEE 1.5"
          ],
          [
           "T34_1000_ref",
           "COFFEE 1.5"
          ],
          [
           "T34_1000_ref",
           "COFFEE 1.5"
          ],
          [
           "T34_1000_ref",
           "COFFEE 1.5"
          ]
         ],
         "hovertemplate": "region=China<br>model=%{customdata[1]}<br>scenario_narrative=Cost Effective<br>year=%{x}<br>Emissions|Kyoto Gases=%{y}<br>scenario=%{customdata[0]}<extra></extra>",
         "legendgroup": "China, COFFEE 1.5",
         "line": {
          "color": "#636efa",
          "dash": "dot"
         },
         "marker": {
          "symbol": "circle"
         },
         "mode": "lines",
         "name": "China, COFFEE 1.5",
         "showlegend": true,
         "type": "scattergl",
         "x": [
          2010,
          2015,
          2020,
          2025,
          2030,
          2035,
          2040,
          2045,
          2050,
          2060,
          2070,
          2080,
          2090,
          2100
         ],
         "xaxis": "x",
         "y": [
          11346.159063608124,
          13401.55211409336,
          14234.474173507308,
          11580.803160194831,
          10127.850759657598,
          8732.147938659153,
          7745.854730915451,
          6322.263562557394,
          5526.620571619815,
          3977.208009964207,
          1771.4482644069897,
          722.1755924356672,
          -20.617927207040793,
          -302.0817266420057
         ],
         "yaxis": "y"
        },
        {
         "customdata": [
          [
           "T34_1000_bitb_ref",
           "COFFEE 1.5"
          ],
          [
           "T34_1000_bitb_ref",
           "COFFEE 1.5"
          ],
          [
           "T34_1000_bitb_ref",
           "COFFEE 1.5"
          ],
          [
           "T34_1000_bitb_ref",
           "COFFEE 1.5"
          ],
          [
           "T34_1000_bitb_ref",
           "COFFEE 1.5"
          ],
          [
           "T34_1000_bitb_ref",
           "COFFEE 1.5"
          ],
          [
           "T34_1000_bitb_ref",
           "COFFEE 1.5"
          ],
          [
           "T34_1000_bitb_ref",
           "COFFEE 1.5"
          ],
          [
           "T34_1000_bitb_ref",
           "COFFEE 1.5"
          ],
          [
           "T34_1000_bitb_ref",
           "COFFEE 1.5"
          ],
          [
           "T34_1000_bitb_ref",
           "COFFEE 1.5"
          ],
          [
           "T34_1000_bitb_ref",
           "COFFEE 1.5"
          ],
          [
           "T34_1000_bitb_ref",
           "COFFEE 1.5"
          ],
          [
           "T34_1000_bitb_ref",
           "COFFEE 1.5"
          ]
         ],
         "hovertemplate": "region=China<br>model=%{customdata[1]}<br>scenario_narrative=Tech<br>year=%{x}<br>Emissions|Kyoto Gases=%{y}<br>scenario=%{customdata[0]}<extra></extra>",
         "legendgroup": "China, COFFEE 1.5",
         "line": {
          "color": "#636efa",
          "dash": "dot"
         },
         "marker": {
          "symbol": "circle"
         },
         "mode": "lines",
         "name": "China, COFFEE 1.5",
         "showlegend": false,
         "type": "scattergl",
         "x": [
          2010,
          2015,
          2020,
          2025,
          2030,
          2035,
          2040,
          2045,
          2050,
          2060,
          2070,
          2080,
          2090,
          2100
         ],
         "xaxis": "x2",
         "y": [
          11346.159063608124,
          13401.55211409336,
          14234.474173507308,
          10911.334914342131,
          8986.653511759532,
          7943.5107386676145,
          6674.458667225822,
          5547.6351603019775,
          4372.8646055006775,
          2887.011884649136,
          2001.2875987346501,
          1607.583651913394,
          1298.503232694675,
          1116.6696854675995
         ],
         "yaxis": "y2"
        },
        {
         "customdata": [
          [
           "T34_1000_bitb_em",
           "GEM-E3_V2023"
          ],
          [
           "T34_1000_bitb_em",
           "GEM-E3_V2023"
          ],
          [
           "T34_1000_bitb_em",
           "GEM-E3_V2023"
          ],
          [
           "T34_1000_bitb_em",
           "GEM-E3_V2023"
          ],
          [
           "T34_1000_bitb_em",
           "GEM-E3_V2023"
          ],
          [
           "T34_1000_bitb_em",
           "GEM-E3_V2023"
          ],
          [
           "T34_1000_bitb_em",
           "GEM-E3_V2023"
          ],
          [
           "T34_1000_bitb_em",
           "GEM-E3_V2023"
          ],
          [
           "T34_1000_bitb_em",
           "GEM-E3_V2023"
          ],
          [
           "T34_1000_bitb_em",
           "GEM-E3_V2023"
          ],
          [
           "T34_1000_bitb_em",
           "GEM-E3_V2023"
          ],
          [
           "T34_1000_bitb_em",
           "GEM-E3_V2023"
          ],
          [
           "T34_1000_bitb_em",
           "GEM-E3_V2023"
          ],
          [
           "T34_1000_bitb_em",
           "GEM-E3_V2023"
          ],
          [
           "T34_1000_bitb_em",
           "GEM-E3_V2023"
          ],
          [
           "T34_1000_bitb_em",
           "GEM-E3_V2023"
          ],
          [
           "T34_1000_bitb_em",
           "GEM-E3_V2023"
          ],
          [
           "T34_1000_bitb_em",
           "GEM-E3_V2023"
          ]
         ],
         "hovertemplate": "region=China<br>model=%{customdata[1]}<br>scenario_narrative=Tech+Inst<br>year=%{x}<br>Emissions|Kyoto Gases=%{y}<br>scenario=%{customdata[0]}<extra></extra>",
         "legendgroup": "China, GEM-E3_V2023",
         "line": {
          "color": "#636efa",
          "dash": "dash"
         },
         "marker": {
          "symbol": "circle"
         },
         "mode": "lines",
         "name": "China, GEM-E3_V2023",
         "showlegend": true,
         "type": "scattergl",
         "x": [
          2015,
          2020,
          2025,
          2030,
          2035,
          2040,
          2045,
          2050,
          2055,
          2060,
          2065,
          2070,
          2075,
          2080,
          2085,
          2090,
          2095,
          2100
         ],
         "xaxis": "x4",
         "y": [
          12593.183391073102,
          12915.981537379288,
          12610.84273197449,
          10262.230212462615,
          8524.23480113458,
          6515.469055809439,
          4268.990759442412,
          2126.2376310897675,
          1258.8651026886496,
          906.5396399563554,
          656.1237748585859,
          384.4145891917375,
          395.7860362969458,
          735.956875221246,
          1093.981070429965,
          1138.5100839953056,
          1225.4067543962838,
          1397.0493533434158
         ],
         "yaxis": "y4"
        },
        {
         "customdata": [
          [
           "T34_1000_feas_em",
           "GEM-E3_V2023"
          ],
          [
           "T34_1000_feas_em",
           "GEM-E3_V2023"
          ],
          [
           "T34_1000_feas_em",
           "GEM-E3_V2023"
          ],
          [
           "T34_1000_feas_em",
           "GEM-E3_V2023"
          ],
          [
           "T34_1000_feas_em",
           "GEM-E3_V2023"
          ],
          [
           "T34_1000_feas_em",
           "GEM-E3_V2023"
          ],
          [
           "T34_1000_feas_em",
           "GEM-E3_V2023"
          ],
          [
           "T34_1000_feas_em",
           "GEM-E3_V2023"
          ],
          [
           "T34_1000_feas_em",
           "GEM-E3_V2023"
          ],
          [
           "T34_1000_feas_em",
           "GEM-E3_V2023"
          ],
          [
           "T34_1000_feas_em",
           "GEM-E3_V2023"
          ],
          [
           "T34_1000_feas_em",
           "GEM-E3_V2023"
          ],
          [
           "T34_1000_feas_em",
           "GEM-E3_V2023"
          ],
          [
           "T34_1000_feas_em",
           "GEM-E3_V2023"
          ],
          [
           "T34_1000_feas_em",
           "GEM-E3_V2023"
          ],
          [
           "T34_1000_feas_em",
           "GEM-E3_V2023"
          ],
          [
           "T34_1000_feas_em",
           "GEM-E3_V2023"
          ],
          [
           "T34_1000_feas_em",
           "GEM-E3_V2023"
          ]
         ],
         "hovertemplate": "region=China<br>model=%{customdata[1]}<br>scenario_narrative=Tech+Inst+Enab<br>year=%{x}<br>Emissions|Kyoto Gases=%{y}<br>scenario=%{customdata[0]}<extra></extra>",
         "legendgroup": "China, GEM-E3_V2023",
         "line": {
          "color": "#636efa",
          "dash": "dash"
         },
         "marker": {
          "symbol": "circle"
         },
         "mode": "lines",
         "name": "China, GEM-E3_V2023",
         "showlegend": false,
         "type": "scattergl",
         "x": [
          2015,
          2020,
          2025,
          2030,
          2035,
          2040,
          2045,
          2050,
          2055,
          2060,
          2065,
          2070,
          2075,
          2080,
          2085,
          2090,
          2095,
          2100
         ],
         "xaxis": "x5",
         "y": [
          12593.183391073102,
          12915.981537379288,
          12827.530492417784,
          10665.964527804352,
          9215.095680227152,
          7029.7730314494,
          4496.9381714678675,
          2321.585685666247,
          1078.47126371295,
          919.0203494499636,
          663.8674193474832,
          387.36845497625404,
          437.88872903827047,
          733.0250412324319,
          1136.2372631285145,
          1176.0375071132066,
          1261.6068986988948,
          1365.1294904686017
         ],
         "yaxis": "y5"
        },
        {
         "customdata": [
          [
           "T34_1000_govem",
           "GEM-E3_V2023"
          ],
          [
           "T34_1000_govem",
           "GEM-E3_V2023"
          ],
          [
           "T34_1000_govem",
           "GEM-E3_V2023"
          ],
          [
           "T34_1000_govem",
           "GEM-E3_V2023"
          ],
          [
           "T34_1000_govem",
           "GEM-E3_V2023"
          ],
          [
           "T34_1000_govem",
           "GEM-E3_V2023"
          ],
          [
           "T34_1000_govem",
           "GEM-E3_V2023"
          ],
          [
           "T34_1000_govem",
           "GEM-E3_V2023"
          ],
          [
           "T34_1000_govem",
           "GEM-E3_V2023"
          ],
          [
           "T34_1000_govem",
           "GEM-E3_V2023"
          ],
          [
           "T34_1000_govem",
           "GEM-E3_V2023"
          ],
          [
           "T34_1000_govem",
           "GEM-E3_V2023"
          ],
          [
           "T34_1000_govem",
           "GEM-E3_V2023"
          ],
          [
           "T34_1000_govem",
           "GEM-E3_V2023"
          ],
          [
           "T34_1000_govem",
           "GEM-E3_V2023"
          ],
          [
           "T34_1000_govem",
           "GEM-E3_V2023"
          ],
          [
           "T34_1000_govem",
           "GEM-E3_V2023"
          ],
          [
           "T34_1000_govem",
           "GEM-E3_V2023"
          ]
         ],
         "hovertemplate": "region=China<br>model=%{customdata[1]}<br>scenario_narrative=Instit<br>year=%{x}<br>Emissions|Kyoto Gases=%{y}<br>scenario=%{customdata[0]}<extra></extra>",
         "legendgroup": "China, GEM-E3_V2023",
         "line": {
          "color": "#636efa",
          "dash": "dash"
         },
         "marker": {
          "symbol": "circle"
         },
         "mode": "lines",
         "name": "China, GEM-E3_V2023",
         "showlegend": false,
         "type": "scattergl",
         "x": [
          2015,
          2020,
          2025,
          2030,
          2035,
          2040,
          2045,
          2050,
          2055,
          2060,
          2065,
          2070,
          2075,
          2080,
          2085,
          2090,
          2095,
          2100
         ],
         "xaxis": "x6",
         "y": [
          12593.183391073102,
          12915.981537379288,
          13044.060538111793,
          11668.868322371334,
          10852.066753912179,
          8194.82180625513,
          5304.795670867886,
          2585.9073920973196,
          1652.8537802232095,
          733.6831623509995,
          522.0002656164754,
          352.6361232414183,
          172.6799189988635,
          486.41597750523033,
          895.5635376099801,
          947.2510669127025,
          1086.9954723037865,
          1098.5984755211941
         ],
         "yaxis": "y6"
        },
        {
         "customdata": [
          [
           "T34_1000_ref",
           "GEM-E3_V2023"
          ],
          [
           "T34_1000_ref",
           "GEM-E3_V2023"
          ],
          [
           "T34_1000_ref",
           "GEM-E3_V2023"
          ],
          [
           "T34_1000_ref",
           "GEM-E3_V2023"
          ],
          [
           "T34_1000_ref",
           "GEM-E3_V2023"
          ],
          [
           "T34_1000_ref",
           "GEM-E3_V2023"
          ],
          [
           "T34_1000_ref",
           "GEM-E3_V2023"
          ],
          [
           "T34_1000_ref",
           "GEM-E3_V2023"
          ],
          [
           "T34_1000_ref",
           "GEM-E3_V2023"
          ],
          [
           "T34_1000_ref",
           "GEM-E3_V2023"
          ],
          [
           "T34_1000_ref",
           "GEM-E3_V2023"
          ],
          [
           "T34_1000_ref",
           "GEM-E3_V2023"
          ],
          [
           "T34_1000_ref",
           "GEM-E3_V2023"
          ],
          [
           "T34_1000_ref",
           "GEM-E3_V2023"
          ],
          [
           "T34_1000_ref",
           "GEM-E3_V2023"
          ],
          [
           "T34_1000_ref",
           "GEM-E3_V2023"
          ],
          [
           "T34_1000_ref",
           "GEM-E3_V2023"
          ],
          [
           "T34_1000_ref",
           "GEM-E3_V2023"
          ]
         ],
         "hovertemplate": "region=China<br>model=%{customdata[1]}<br>scenario_narrative=Cost Effective<br>year=%{x}<br>Emissions|Kyoto Gases=%{y}<br>scenario=%{customdata[0]}<extra></extra>",
         "legendgroup": "China, GEM-E3_V2023",
         "line": {
          "color": "#636efa",
          "dash": "dash"
         },
         "marker": {
          "symbol": "circle"
         },
         "mode": "lines",
         "name": "China, GEM-E3_V2023",
         "showlegend": false,
         "type": "scattergl",
         "x": [
          2015,
          2020,
          2025,
          2030,
          2035,
          2040,
          2045,
          2050,
          2055,
          2060,
          2065,
          2070,
          2075,
          2080,
          2085,
          2090,
          2095,
          2100
         ],
         "xaxis": "x",
         "y": [
          12593.183391073102,
          12915.981537379288,
          13297.4136349238,
          11850.22592386502,
          10462.423977271577,
          7649.854696699638,
          6066.39424650628,
          4627.573713777427,
          3393.1611221448493,
          2555.185631619085,
          2127.7914293463573,
          1769.7286886232177,
          1653.7227822851175,
          1621.0253689327276,
          1607.5959772806373,
          1590.9860835600764,
          1539.4102423518507,
          1458.7911888683666
         ],
         "yaxis": "y"
        },
        {
         "customdata": [
          [
           "T34_1000_bitb_em",
           "IMAGE 3.2"
          ],
          [
           "T34_1000_bitb_em",
           "IMAGE 3.2"
          ],
          [
           "T34_1000_bitb_em",
           "IMAGE 3.2"
          ],
          [
           "T34_1000_bitb_em",
           "IMAGE 3.2"
          ],
          [
           "T34_1000_bitb_em",
           "IMAGE 3.2"
          ],
          [
           "T34_1000_bitb_em",
           "IMAGE 3.2"
          ],
          [
           "T34_1000_bitb_em",
           "IMAGE 3.2"
          ],
          [
           "T34_1000_bitb_em",
           "IMAGE 3.2"
          ],
          [
           "T34_1000_bitb_em",
           "IMAGE 3.2"
          ],
          [
           "T34_1000_bitb_em",
           "IMAGE 3.2"
          ],
          [
           "T34_1000_bitb_em",
           "IMAGE 3.2"
          ],
          [
           "T34_1000_bitb_em",
           "IMAGE 3.2"
          ],
          [
           "T34_1000_bitb_em",
           "IMAGE 3.2"
          ],
          [
           "T34_1000_bitb_em",
           "IMAGE 3.2"
          ],
          [
           "T34_1000_bitb_em",
           "IMAGE 3.2"
          ],
          [
           "T34_1000_bitb_em",
           "IMAGE 3.2"
          ],
          [
           "T34_1000_bitb_em",
           "IMAGE 3.2"
          ],
          [
           "T34_1000_bitb_em",
           "IMAGE 3.2"
          ],
          [
           "T34_1000_bitb_em",
           "IMAGE 3.2"
          ],
          [
           "T34_1000_bitb_em",
           "IMAGE 3.2"
          ]
         ],
         "hovertemplate": "region=China<br>model=%{customdata[1]}<br>scenario_narrative=Tech+Inst<br>year=%{x}<br>Emissions|Kyoto Gases=%{y}<br>scenario=%{customdata[0]}<extra></extra>",
         "legendgroup": "China, IMAGE 3.2",
         "line": {
          "color": "#636efa",
          "dash": "longdash"
         },
         "marker": {
          "symbol": "circle"
         },
         "mode": "lines",
         "name": "China, IMAGE 3.2",
         "showlegend": true,
         "type": "scattergl",
         "x": [
          2005,
          2010,
          2015,
          2020,
          2025,
          2030,
          2035,
          2040,
          2045,
          2050,
          2055,
          2060,
          2065,
          2070,
          2075,
          2080,
          2085,
          2090,
          2095,
          2100
         ],
         "xaxis": "x4",
         "y": [
          8140.7578125,
          11169.23046875,
          13067.4501953125,
          15067.1796875,
          12740.0595703125,
          10184.6904296875,
          7198.91015625,
          5370.8671875,
          3861.908935546875,
          2962.446044921875,
          2155.951904296875,
          2035.93505859375,
          1709.14404296875,
          1576.9930419921875,
          1264.3160400390625,
          1108.760009765625,
          747.044921875,
          635.5742797851562,
          525.7551879882812,
          569.7429809570312
         ],
         "yaxis": "y4"
        },
        {
         "customdata": [
          [
           "T34_1000_feas_em",
           "IMAGE 3.2"
          ],
          [
           "T34_1000_feas_em",
           "IMAGE 3.2"
          ],
          [
           "T34_1000_feas_em",
           "IMAGE 3.2"
          ],
          [
           "T34_1000_feas_em",
           "IMAGE 3.2"
          ],
          [
           "T34_1000_feas_em",
           "IMAGE 3.2"
          ],
          [
           "T34_1000_feas_em",
           "IMAGE 3.2"
          ],
          [
           "T34_1000_feas_em",
           "IMAGE 3.2"
          ],
          [
           "T34_1000_feas_em",
           "IMAGE 3.2"
          ],
          [
           "T34_1000_feas_em",
           "IMAGE 3.2"
          ],
          [
           "T34_1000_feas_em",
           "IMAGE 3.2"
          ],
          [
           "T34_1000_feas_em",
           "IMAGE 3.2"
          ],
          [
           "T34_1000_feas_em",
           "IMAGE 3.2"
          ],
          [
           "T34_1000_feas_em",
           "IMAGE 3.2"
          ],
          [
           "T34_1000_feas_em",
           "IMAGE 3.2"
          ],
          [
           "T34_1000_feas_em",
           "IMAGE 3.2"
          ],
          [
           "T34_1000_feas_em",
           "IMAGE 3.2"
          ],
          [
           "T34_1000_feas_em",
           "IMAGE 3.2"
          ],
          [
           "T34_1000_feas_em",
           "IMAGE 3.2"
          ],
          [
           "T34_1000_feas_em",
           "IMAGE 3.2"
          ],
          [
           "T34_1000_feas_em",
           "IMAGE 3.2"
          ]
         ],
         "hovertemplate": "region=China<br>model=%{customdata[1]}<br>scenario_narrative=Tech+Inst+Enab<br>year=%{x}<br>Emissions|Kyoto Gases=%{y}<br>scenario=%{customdata[0]}<extra></extra>",
         "legendgroup": "China, IMAGE 3.2",
         "line": {
          "color": "#636efa",
          "dash": "longdash"
         },
         "marker": {
          "symbol": "circle"
         },
         "mode": "lines",
         "name": "China, IMAGE 3.2",
         "showlegend": false,
         "type": "scattergl",
         "x": [
          2005,
          2010,
          2015,
          2020,
          2025,
          2030,
          2035,
          2040,
          2045,
          2050,
          2055,
          2060,
          2065,
          2070,
          2075,
          2080,
          2085,
          2090,
          2095,
          2100
         ],
         "xaxis": "x5",
         "y": [
          8140.7578125,
          11168.900390625,
          13065.009765625,
          14795.0703125,
          13593.9501953125,
          12215.900390625,
          10380.6103515625,
          7583.1572265625,
          3724.248046875,
          2471.48291015625,
          1493.5240478515625,
          1025.56005859375,
          783.7214965820312,
          723.130126953125,
          336.5032043457031,
          403.9796142578125,
          354.21429443359375,
          505.2943115234375,
          519.406982421875,
          625.1370239257812
         ],
         "yaxis": "y5"
        },
        {
         "customdata": [
          [
           "T34_1000_govem",
           "IMAGE 3.2"
          ],
          [
           "T34_1000_govem",
           "IMAGE 3.2"
          ],
          [
           "T34_1000_govem",
           "IMAGE 3.2"
          ],
          [
           "T34_1000_govem",
           "IMAGE 3.2"
          ],
          [
           "T34_1000_govem",
           "IMAGE 3.2"
          ],
          [
           "T34_1000_govem",
           "IMAGE 3.2"
          ],
          [
           "T34_1000_govem",
           "IMAGE 3.2"
          ],
          [
           "T34_1000_govem",
           "IMAGE 3.2"
          ],
          [
           "T34_1000_govem",
           "IMAGE 3.2"
          ],
          [
           "T34_1000_govem",
           "IMAGE 3.2"
          ],
          [
           "T34_1000_govem",
           "IMAGE 3.2"
          ],
          [
           "T34_1000_govem",
           "IMAGE 3.2"
          ],
          [
           "T34_1000_govem",
           "IMAGE 3.2"
          ],
          [
           "T34_1000_govem",
           "IMAGE 3.2"
          ],
          [
           "T34_1000_govem",
           "IMAGE 3.2"
          ],
          [
           "T34_1000_govem",
           "IMAGE 3.2"
          ],
          [
           "T34_1000_govem",
           "IMAGE 3.2"
          ],
          [
           "T34_1000_govem",
           "IMAGE 3.2"
          ],
          [
           "T34_1000_govem",
           "IMAGE 3.2"
          ],
          [
           "T34_1000_govem",
           "IMAGE 3.2"
          ]
         ],
         "hovertemplate": "region=China<br>model=%{customdata[1]}<br>scenario_narrative=Instit<br>year=%{x}<br>Emissions|Kyoto Gases=%{y}<br>scenario=%{customdata[0]}<extra></extra>",
         "legendgroup": "China, IMAGE 3.2",
         "line": {
          "color": "#636efa",
          "dash": "longdash"
         },
         "marker": {
          "symbol": "circle"
         },
         "mode": "lines",
         "name": "China, IMAGE 3.2",
         "showlegend": false,
         "type": "scattergl",
         "x": [
          2005,
          2010,
          2015,
          2020,
          2025,
          2030,
          2035,
          2040,
          2045,
          2050,
          2055,
          2060,
          2065,
          2070,
          2075,
          2080,
          2085,
          2090,
          2095,
          2100
         ],
         "xaxis": "x6",
         "y": [
          8140.7578125,
          11169.23046875,
          13067.4501953125,
          15066.849609375,
          15042.2998046875,
          14216.5,
          11795.990234375,
          7882.01416015625,
          4211.18603515625,
          2481.39404296875,
          1687.405029296875,
          1470.9439697265625,
          1221,
          1126.3330078125,
          823.7053833007812,
          633.7338256835938,
          474.2572021484375,
          590.9829711914062,
          411.6817932128906,
          391.2406921386719
         ],
         "yaxis": "y6"
        },
        {
         "customdata": [
          [
           "T34_1000_ref",
           "IMAGE 3.2"
          ],
          [
           "T34_1000_ref",
           "IMAGE 3.2"
          ],
          [
           "T34_1000_ref",
           "IMAGE 3.2"
          ],
          [
           "T34_1000_ref",
           "IMAGE 3.2"
          ],
          [
           "T34_1000_ref",
           "IMAGE 3.2"
          ],
          [
           "T34_1000_ref",
           "IMAGE 3.2"
          ],
          [
           "T34_1000_ref",
           "IMAGE 3.2"
          ],
          [
           "T34_1000_ref",
           "IMAGE 3.2"
          ],
          [
           "T34_1000_ref",
           "IMAGE 3.2"
          ],
          [
           "T34_1000_ref",
           "IMAGE 3.2"
          ],
          [
           "T34_1000_ref",
           "IMAGE 3.2"
          ],
          [
           "T34_1000_ref",
           "IMAGE 3.2"
          ],
          [
           "T34_1000_ref",
           "IMAGE 3.2"
          ],
          [
           "T34_1000_ref",
           "IMAGE 3.2"
          ],
          [
           "T34_1000_ref",
           "IMAGE 3.2"
          ],
          [
           "T34_1000_ref",
           "IMAGE 3.2"
          ],
          [
           "T34_1000_ref",
           "IMAGE 3.2"
          ],
          [
           "T34_1000_ref",
           "IMAGE 3.2"
          ],
          [
           "T34_1000_ref",
           "IMAGE 3.2"
          ],
          [
           "T34_1000_ref",
           "IMAGE 3.2"
          ]
         ],
         "hovertemplate": "region=China<br>model=%{customdata[1]}<br>scenario_narrative=Cost Effective<br>year=%{x}<br>Emissions|Kyoto Gases=%{y}<br>scenario=%{customdata[0]}<extra></extra>",
         "legendgroup": "China, IMAGE 3.2",
         "line": {
          "color": "#636efa",
          "dash": "longdash"
         },
         "marker": {
          "symbol": "circle"
         },
         "mode": "lines",
         "name": "China, IMAGE 3.2",
         "showlegend": false,
         "type": "scattergl",
         "x": [
          2005,
          2010,
          2015,
          2020,
          2025,
          2030,
          2035,
          2040,
          2045,
          2050,
          2055,
          2060,
          2065,
          2070,
          2075,
          2080,
          2085,
          2090,
          2095,
          2100
         ],
         "xaxis": "x",
         "y": [
          8140.7578125,
          11169.23046875,
          13067.4501953125,
          15066.849609375,
          14937.1298828125,
          12877.3603515625,
          9686.6689453125,
          6945.51123046875,
          4890.4541015625,
          2760.697021484375,
          1940.427001953125,
          1894.5760498046875,
          1732.009033203125,
          1597.9010009765625,
          1317.1639404296875,
          1233.8680419921875,
          1029.31103515625,
          1150.1209716796875,
          1073.248046875,
          1061.4530029296875
         ],
         "yaxis": "y"
        },
        {
         "customdata": [
          [
           "T34_1000_bitb_ref",
           "IMAGE 3.2"
          ],
          [
           "T34_1000_bitb_ref",
           "IMAGE 3.2"
          ],
          [
           "T34_1000_bitb_ref",
           "IMAGE 3.2"
          ],
          [
           "T34_1000_bitb_ref",
           "IMAGE 3.2"
          ],
          [
           "T34_1000_bitb_ref",
           "IMAGE 3.2"
          ],
          [
           "T34_1000_bitb_ref",
           "IMAGE 3.2"
          ],
          [
           "T34_1000_bitb_ref",
           "IMAGE 3.2"
          ],
          [
           "T34_1000_bitb_ref",
           "IMAGE 3.2"
          ],
          [
           "T34_1000_bitb_ref",
           "IMAGE 3.2"
          ],
          [
           "T34_1000_bitb_ref",
           "IMAGE 3.2"
          ],
          [
           "T34_1000_bitb_ref",
           "IMAGE 3.2"
          ],
          [
           "T34_1000_bitb_ref",
           "IMAGE 3.2"
          ],
          [
           "T34_1000_bitb_ref",
           "IMAGE 3.2"
          ],
          [
           "T34_1000_bitb_ref",
           "IMAGE 3.2"
          ],
          [
           "T34_1000_bitb_ref",
           "IMAGE 3.2"
          ],
          [
           "T34_1000_bitb_ref",
           "IMAGE 3.2"
          ],
          [
           "T34_1000_bitb_ref",
           "IMAGE 3.2"
          ],
          [
           "T34_1000_bitb_ref",
           "IMAGE 3.2"
          ],
          [
           "T34_1000_bitb_ref",
           "IMAGE 3.2"
          ],
          [
           "T34_1000_bitb_ref",
           "IMAGE 3.2"
          ]
         ],
         "hovertemplate": "region=China<br>model=%{customdata[1]}<br>scenario_narrative=Tech<br>year=%{x}<br>Emissions|Kyoto Gases=%{y}<br>scenario=%{customdata[0]}<extra></extra>",
         "legendgroup": "China, IMAGE 3.2",
         "line": {
          "color": "#636efa",
          "dash": "longdash"
         },
         "marker": {
          "symbol": "circle"
         },
         "mode": "lines",
         "name": "China, IMAGE 3.2",
         "showlegend": false,
         "type": "scattergl",
         "x": [
          2005,
          2010,
          2015,
          2020,
          2025,
          2030,
          2035,
          2040,
          2045,
          2050,
          2055,
          2060,
          2065,
          2070,
          2075,
          2080,
          2085,
          2090,
          2095,
          2100
         ],
         "xaxis": "x2",
         "y": [
          8140.7578125,
          11169.23046875,
          13067.4501953125,
          15067.1796875,
          12797.5,
          10143.8095703125,
          7160.1259765625,
          5364.330078125,
          3945.337890625,
          3196.93701171875,
          2376.85791015625,
          2126.992919921875,
          1967.532958984375,
          1803.4859619140625,
          1390.364990234375,
          1343.7259521484375,
          1011.7949829101562,
          867.6917724609375,
          814.9779052734375,
          842.1641845703125
         ],
         "yaxis": "y2"
        },
        {
         "customdata": [
          [
           "T34_1000_bitb_em",
           "MESSAGEix-GLOBIOM_1.1"
          ],
          [
           "T34_1000_bitb_em",
           "MESSAGEix-GLOBIOM_1.1"
          ],
          [
           "T34_1000_bitb_em",
           "MESSAGEix-GLOBIOM_1.1"
          ],
          [
           "T34_1000_bitb_em",
           "MESSAGEix-GLOBIOM_1.1"
          ],
          [
           "T34_1000_bitb_em",
           "MESSAGEix-GLOBIOM_1.1"
          ],
          [
           "T34_1000_bitb_em",
           "MESSAGEix-GLOBIOM_1.1"
          ],
          [
           "T34_1000_bitb_em",
           "MESSAGEix-GLOBIOM_1.1"
          ],
          [
           "T34_1000_bitb_em",
           "MESSAGEix-GLOBIOM_1.1"
          ],
          [
           "T34_1000_bitb_em",
           "MESSAGEix-GLOBIOM_1.1"
          ],
          [
           "T34_1000_bitb_em",
           "MESSAGEix-GLOBIOM_1.1"
          ],
          [
           "T34_1000_bitb_em",
           "MESSAGEix-GLOBIOM_1.1"
          ],
          [
           "T34_1000_bitb_em",
           "MESSAGEix-GLOBIOM_1.1"
          ],
          [
           "T34_1000_bitb_em",
           "MESSAGEix-GLOBIOM_1.1"
          ],
          [
           "T34_1000_bitb_em",
           "MESSAGEix-GLOBIOM_1.1"
          ],
          [
           "T34_1000_bitb_em",
           "MESSAGEix-GLOBIOM_1.1"
          ],
          [
           "T34_1000_bitb_em",
           "MESSAGEix-GLOBIOM_1.1"
          ],
          [
           "T34_1000_bitb_em",
           "MESSAGEix-GLOBIOM_1.1"
          ],
          [
           "T34_1000_bitb_em",
           "MESSAGEix-GLOBIOM_1.1"
          ],
          [
           "T34_1000_bitb_em",
           "MESSAGEix-GLOBIOM_1.1"
          ],
          [
           "T34_1000_bitb_em",
           "MESSAGEix-GLOBIOM_1.1"
          ]
         ],
         "hovertemplate": "region=China<br>model=%{customdata[1]}<br>scenario_narrative=Tech+Inst<br>year=%{x}<br>Emissions|Kyoto Gases=%{y}<br>scenario=%{customdata[0]}<extra></extra>",
         "legendgroup": "China, MESSAGEix-GLOBIOM_1.1",
         "line": {
          "color": "#636efa",
          "dash": "dashdot"
         },
         "marker": {
          "symbol": "circle"
         },
         "mode": "lines",
         "name": "China, MESSAGEix-GLOBIOM_1.1",
         "showlegend": true,
         "type": "scattergl",
         "x": [
          1990,
          1995,
          2000,
          2005,
          2010,
          2015,
          2020,
          2025,
          2030,
          2035,
          2040,
          2045,
          2050,
          2055,
          2060,
          2070,
          2080,
          2090,
          2100,
          2110
         ],
         "xaxis": "x4",
         "y": [
          4212.030145,
          4827.087527666667,
          5319.001351333333,
          8021.199838333333,
          10609.42741166667,
          13516.42659,
          14656.0049284386,
          14358.30761654974,
          12238.3713731375,
          9708.140230246529,
          7826.230762276159,
          4498.451894521331,
          3175.180408369573,
          1958.150480916865,
          1376.864407240615,
          540.2971975344351,
          463.2156909051053,
          453.7524625785104,
          396.0863873653806,
          259.7976645661033
         ],
         "yaxis": "y4"
        },
        {
         "customdata": [
          [
           "T34_1000_feas_em",
           "MESSAGEix-GLOBIOM_1.1"
          ],
          [
           "T34_1000_feas_em",
           "MESSAGEix-GLOBIOM_1.1"
          ],
          [
           "T34_1000_feas_em",
           "MESSAGEix-GLOBIOM_1.1"
          ],
          [
           "T34_1000_feas_em",
           "MESSAGEix-GLOBIOM_1.1"
          ],
          [
           "T34_1000_feas_em",
           "MESSAGEix-GLOBIOM_1.1"
          ],
          [
           "T34_1000_feas_em",
           "MESSAGEix-GLOBIOM_1.1"
          ],
          [
           "T34_1000_feas_em",
           "MESSAGEix-GLOBIOM_1.1"
          ],
          [
           "T34_1000_feas_em",
           "MESSAGEix-GLOBIOM_1.1"
          ],
          [
           "T34_1000_feas_em",
           "MESSAGEix-GLOBIOM_1.1"
          ],
          [
           "T34_1000_feas_em",
           "MESSAGEix-GLOBIOM_1.1"
          ],
          [
           "T34_1000_feas_em",
           "MESSAGEix-GLOBIOM_1.1"
          ],
          [
           "T34_1000_feas_em",
           "MESSAGEix-GLOBIOM_1.1"
          ],
          [
           "T34_1000_feas_em",
           "MESSAGEix-GLOBIOM_1.1"
          ],
          [
           "T34_1000_feas_em",
           "MESSAGEix-GLOBIOM_1.1"
          ],
          [
           "T34_1000_feas_em",
           "MESSAGEix-GLOBIOM_1.1"
          ],
          [
           "T34_1000_feas_em",
           "MESSAGEix-GLOBIOM_1.1"
          ],
          [
           "T34_1000_feas_em",
           "MESSAGEix-GLOBIOM_1.1"
          ],
          [
           "T34_1000_feas_em",
           "MESSAGEix-GLOBIOM_1.1"
          ],
          [
           "T34_1000_feas_em",
           "MESSAGEix-GLOBIOM_1.1"
          ],
          [
           "T34_1000_feas_em",
           "MESSAGEix-GLOBIOM_1.1"
          ]
         ],
         "hovertemplate": "region=China<br>model=%{customdata[1]}<br>scenario_narrative=Tech+Inst+Enab<br>year=%{x}<br>Emissions|Kyoto Gases=%{y}<br>scenario=%{customdata[0]}<extra></extra>",
         "legendgroup": "China, MESSAGEix-GLOBIOM_1.1",
         "line": {
          "color": "#636efa",
          "dash": "dashdot"
         },
         "marker": {
          "symbol": "circle"
         },
         "mode": "lines",
         "name": "China, MESSAGEix-GLOBIOM_1.1",
         "showlegend": false,
         "type": "scattergl",
         "x": [
          1990,
          1995,
          2000,
          2005,
          2010,
          2015,
          2020,
          2025,
          2030,
          2035,
          2040,
          2045,
          2050,
          2055,
          2060,
          2070,
          2080,
          2090,
          2100,
          2110
         ],
         "xaxis": "x5",
         "y": [
          4212.030145,
          4827.087527666667,
          5319.001351333333,
          8021.199838333333,
          10609.42741166667,
          13516.42659,
          14656.0049284386,
          14358.30761654974,
          12282.36623871207,
          9684.7696925098,
          7800.727270749478,
          4430.48724857962,
          3076.509184872714,
          1878.609034813015,
          1215.268394616488,
          206.9953530154665,
          -65.79917369713661,
          -436.5838986423951,
          -638.6243625931942,
          -670.916017724784
         ],
         "yaxis": "y5"
        },
        {
         "customdata": [
          [
           "T34_1000_govem",
           "MESSAGEix-GLOBIOM_1.1"
          ],
          [
           "T34_1000_govem",
           "MESSAGEix-GLOBIOM_1.1"
          ],
          [
           "T34_1000_govem",
           "MESSAGEix-GLOBIOM_1.1"
          ],
          [
           "T34_1000_govem",
           "MESSAGEix-GLOBIOM_1.1"
          ],
          [
           "T34_1000_govem",
           "MESSAGEix-GLOBIOM_1.1"
          ],
          [
           "T34_1000_govem",
           "MESSAGEix-GLOBIOM_1.1"
          ],
          [
           "T34_1000_govem",
           "MESSAGEix-GLOBIOM_1.1"
          ],
          [
           "T34_1000_govem",
           "MESSAGEix-GLOBIOM_1.1"
          ],
          [
           "T34_1000_govem",
           "MESSAGEix-GLOBIOM_1.1"
          ],
          [
           "T34_1000_govem",
           "MESSAGEix-GLOBIOM_1.1"
          ],
          [
           "T34_1000_govem",
           "MESSAGEix-GLOBIOM_1.1"
          ],
          [
           "T34_1000_govem",
           "MESSAGEix-GLOBIOM_1.1"
          ],
          [
           "T34_1000_govem",
           "MESSAGEix-GLOBIOM_1.1"
          ],
          [
           "T34_1000_govem",
           "MESSAGEix-GLOBIOM_1.1"
          ],
          [
           "T34_1000_govem",
           "MESSAGEix-GLOBIOM_1.1"
          ],
          [
           "T34_1000_govem",
           "MESSAGEix-GLOBIOM_1.1"
          ],
          [
           "T34_1000_govem",
           "MESSAGEix-GLOBIOM_1.1"
          ],
          [
           "T34_1000_govem",
           "MESSAGEix-GLOBIOM_1.1"
          ],
          [
           "T34_1000_govem",
           "MESSAGEix-GLOBIOM_1.1"
          ],
          [
           "T34_1000_govem",
           "MESSAGEix-GLOBIOM_1.1"
          ]
         ],
         "hovertemplate": "region=China<br>model=%{customdata[1]}<br>scenario_narrative=Instit<br>year=%{x}<br>Emissions|Kyoto Gases=%{y}<br>scenario=%{customdata[0]}<extra></extra>",
         "legendgroup": "China, MESSAGEix-GLOBIOM_1.1",
         "line": {
          "color": "#636efa",
          "dash": "dashdot"
         },
         "marker": {
          "symbol": "circle"
         },
         "mode": "lines",
         "name": "China, MESSAGEix-GLOBIOM_1.1",
         "showlegend": false,
         "type": "scattergl",
         "x": [
          1990,
          1995,
          2000,
          2005,
          2010,
          2015,
          2020,
          2025,
          2030,
          2035,
          2040,
          2045,
          2050,
          2055,
          2060,
          2070,
          2080,
          2090,
          2100,
          2110
         ],
         "xaxis": "x6",
         "y": [
          4212.030145,
          4827.087527666667,
          5319.001351333333,
          8021.199838333333,
          10609.42741166667,
          13516.42659,
          14656.0049284386,
          14358.30761654974,
          12256.22671675439,
          9727.027734090776,
          7839.921531841076,
          4677.160702621878,
          3353.880720389157,
          2176.868937842211,
          1672.44671919572,
          731.5175531944893,
          482.8942980686081,
          317.5701302092947,
          185.9333124591737,
          1.7619376406632452
         ],
         "yaxis": "y6"
        },
        {
         "customdata": [
          [
           "T34_1000_ref",
           "MESSAGEix-GLOBIOM_1.1"
          ],
          [
           "T34_1000_ref",
           "MESSAGEix-GLOBIOM_1.1"
          ],
          [
           "T34_1000_ref",
           "MESSAGEix-GLOBIOM_1.1"
          ],
          [
           "T34_1000_ref",
           "MESSAGEix-GLOBIOM_1.1"
          ],
          [
           "T34_1000_ref",
           "MESSAGEix-GLOBIOM_1.1"
          ],
          [
           "T34_1000_ref",
           "MESSAGEix-GLOBIOM_1.1"
          ],
          [
           "T34_1000_ref",
           "MESSAGEix-GLOBIOM_1.1"
          ],
          [
           "T34_1000_ref",
           "MESSAGEix-GLOBIOM_1.1"
          ],
          [
           "T34_1000_ref",
           "MESSAGEix-GLOBIOM_1.1"
          ],
          [
           "T34_1000_ref",
           "MESSAGEix-GLOBIOM_1.1"
          ],
          [
           "T34_1000_ref",
           "MESSAGEix-GLOBIOM_1.1"
          ],
          [
           "T34_1000_ref",
           "MESSAGEix-GLOBIOM_1.1"
          ],
          [
           "T34_1000_ref",
           "MESSAGEix-GLOBIOM_1.1"
          ],
          [
           "T34_1000_ref",
           "MESSAGEix-GLOBIOM_1.1"
          ],
          [
           "T34_1000_ref",
           "MESSAGEix-GLOBIOM_1.1"
          ],
          [
           "T34_1000_ref",
           "MESSAGEix-GLOBIOM_1.1"
          ],
          [
           "T34_1000_ref",
           "MESSAGEix-GLOBIOM_1.1"
          ],
          [
           "T34_1000_ref",
           "MESSAGEix-GLOBIOM_1.1"
          ],
          [
           "T34_1000_ref",
           "MESSAGEix-GLOBIOM_1.1"
          ],
          [
           "T34_1000_ref",
           "MESSAGEix-GLOBIOM_1.1"
          ]
         ],
         "hovertemplate": "region=China<br>model=%{customdata[1]}<br>scenario_narrative=Cost Effective<br>year=%{x}<br>Emissions|Kyoto Gases=%{y}<br>scenario=%{customdata[0]}<extra></extra>",
         "legendgroup": "China, MESSAGEix-GLOBIOM_1.1",
         "line": {
          "color": "#636efa",
          "dash": "dashdot"
         },
         "marker": {
          "symbol": "circle"
         },
         "mode": "lines",
         "name": "China, MESSAGEix-GLOBIOM_1.1",
         "showlegend": false,
         "type": "scattergl",
         "x": [
          1990,
          1995,
          2000,
          2005,
          2010,
          2015,
          2020,
          2025,
          2030,
          2035,
          2040,
          2045,
          2050,
          2055,
          2060,
          2070,
          2080,
          2090,
          2100,
          2110
         ],
         "xaxis": "x",
         "y": [
          4212.030145,
          4827.087527666667,
          5319.001351333333,
          8021.199838333333,
          10609.42741166667,
          13516.42659,
          14656.0049284386,
          14358.30761654974,
          9712.559872198355,
          8399.843665567927,
          6733.036718082532,
          5389.231487184066,
          4324.622649767169,
          3486.309720457889,
          2869.970959162777,
          1689.613350424223,
          1612.144234319904,
          1780.863605321822,
          1661.512148020115,
          1541.164689679207
         ],
         "yaxis": "y"
        },
        {
         "customdata": [
          [
           "T34_1000_bitb_ref",
           "MESSAGEix-GLOBIOM_1.1"
          ],
          [
           "T34_1000_bitb_ref",
           "MESSAGEix-GLOBIOM_1.1"
          ],
          [
           "T34_1000_bitb_ref",
           "MESSAGEix-GLOBIOM_1.1"
          ],
          [
           "T34_1000_bitb_ref",
           "MESSAGEix-GLOBIOM_1.1"
          ],
          [
           "T34_1000_bitb_ref",
           "MESSAGEix-GLOBIOM_1.1"
          ],
          [
           "T34_1000_bitb_ref",
           "MESSAGEix-GLOBIOM_1.1"
          ],
          [
           "T34_1000_bitb_ref",
           "MESSAGEix-GLOBIOM_1.1"
          ],
          [
           "T34_1000_bitb_ref",
           "MESSAGEix-GLOBIOM_1.1"
          ],
          [
           "T34_1000_bitb_ref",
           "MESSAGEix-GLOBIOM_1.1"
          ],
          [
           "T34_1000_bitb_ref",
           "MESSAGEix-GLOBIOM_1.1"
          ],
          [
           "T34_1000_bitb_ref",
           "MESSAGEix-GLOBIOM_1.1"
          ],
          [
           "T34_1000_bitb_ref",
           "MESSAGEix-GLOBIOM_1.1"
          ],
          [
           "T34_1000_bitb_ref",
           "MESSAGEix-GLOBIOM_1.1"
          ],
          [
           "T34_1000_bitb_ref",
           "MESSAGEix-GLOBIOM_1.1"
          ],
          [
           "T34_1000_bitb_ref",
           "MESSAGEix-GLOBIOM_1.1"
          ],
          [
           "T34_1000_bitb_ref",
           "MESSAGEix-GLOBIOM_1.1"
          ],
          [
           "T34_1000_bitb_ref",
           "MESSAGEix-GLOBIOM_1.1"
          ],
          [
           "T34_1000_bitb_ref",
           "MESSAGEix-GLOBIOM_1.1"
          ],
          [
           "T34_1000_bitb_ref",
           "MESSAGEix-GLOBIOM_1.1"
          ],
          [
           "T34_1000_bitb_ref",
           "MESSAGEix-GLOBIOM_1.1"
          ]
         ],
         "hovertemplate": "region=China<br>model=%{customdata[1]}<br>scenario_narrative=Tech<br>year=%{x}<br>Emissions|Kyoto Gases=%{y}<br>scenario=%{customdata[0]}<extra></extra>",
         "legendgroup": "China, MESSAGEix-GLOBIOM_1.1",
         "line": {
          "color": "#636efa",
          "dash": "dashdot"
         },
         "marker": {
          "symbol": "circle"
         },
         "mode": "lines",
         "name": "China, MESSAGEix-GLOBIOM_1.1",
         "showlegend": false,
         "type": "scattergl",
         "x": [
          1990,
          1995,
          2000,
          2005,
          2010,
          2015,
          2020,
          2025,
          2030,
          2035,
          2040,
          2045,
          2050,
          2055,
          2060,
          2070,
          2080,
          2090,
          2100,
          2110
         ],
         "xaxis": "x2",
         "y": [
          4212.030145,
          4827.087527666667,
          5319.001351333333,
          8021.199838333333,
          10609.42741166667,
          13516.42659,
          14656.0049284386,
          14358.30761654974,
          9701.026998006024,
          8280.707085704538,
          6658.741525991119,
          5317.667267978403,
          4303.500204843016,
          3524.987589732321,
          2988.494386958535,
          1824.80666376126,
          1590.637194536518,
          1551.94873591577,
          1478.616239603973,
          1370.999107555267
         ],
         "yaxis": "y2"
        },
        {
         "customdata": [
          [
           "T34_1000_enab_em",
           "MESSAGEix-GLOBIOM_1.1"
          ],
          [
           "T34_1000_enab_em",
           "MESSAGEix-GLOBIOM_1.1"
          ],
          [
           "T34_1000_enab_em",
           "MESSAGEix-GLOBIOM_1.1"
          ],
          [
           "T34_1000_enab_em",
           "MESSAGEix-GLOBIOM_1.1"
          ],
          [
           "T34_1000_enab_em",
           "MESSAGEix-GLOBIOM_1.1"
          ],
          [
           "T34_1000_enab_em",
           "MESSAGEix-GLOBIOM_1.1"
          ],
          [
           "T34_1000_enab_em",
           "MESSAGEix-GLOBIOM_1.1"
          ],
          [
           "T34_1000_enab_em",
           "MESSAGEix-GLOBIOM_1.1"
          ],
          [
           "T34_1000_enab_em",
           "MESSAGEix-GLOBIOM_1.1"
          ],
          [
           "T34_1000_enab_em",
           "MESSAGEix-GLOBIOM_1.1"
          ],
          [
           "T34_1000_enab_em",
           "MESSAGEix-GLOBIOM_1.1"
          ],
          [
           "T34_1000_enab_em",
           "MESSAGEix-GLOBIOM_1.1"
          ],
          [
           "T34_1000_enab_em",
           "MESSAGEix-GLOBIOM_1.1"
          ],
          [
           "T34_1000_enab_em",
           "MESSAGEix-GLOBIOM_1.1"
          ],
          [
           "T34_1000_enab_em",
           "MESSAGEix-GLOBIOM_1.1"
          ],
          [
           "T34_1000_enab_em",
           "MESSAGEix-GLOBIOM_1.1"
          ],
          [
           "T34_1000_enab_em",
           "MESSAGEix-GLOBIOM_1.1"
          ],
          [
           "T34_1000_enab_em",
           "MESSAGEix-GLOBIOM_1.1"
          ],
          [
           "T34_1000_enab_em",
           "MESSAGEix-GLOBIOM_1.1"
          ],
          [
           "T34_1000_enab_em",
           "MESSAGEix-GLOBIOM_1.1"
          ]
         ],
         "hovertemplate": "region=China<br>model=%{customdata[1]}<br>scenario_narrative=Inst+Enab<br>year=%{x}<br>Emissions|Kyoto Gases=%{y}<br>scenario=%{customdata[0]}<extra></extra>",
         "legendgroup": "China, MESSAGEix-GLOBIOM_1.1",
         "line": {
          "color": "#636efa",
          "dash": "dashdot"
         },
         "marker": {
          "symbol": "circle"
         },
         "mode": "lines",
         "name": "China, MESSAGEix-GLOBIOM_1.1",
         "showlegend": false,
         "type": "scattergl",
         "x": [
          1990,
          1995,
          2000,
          2005,
          2010,
          2015,
          2020,
          2025,
          2030,
          2035,
          2040,
          2045,
          2050,
          2055,
          2060,
          2070,
          2080,
          2090,
          2100,
          2110
         ],
         "xaxis": "x3",
         "y": [
          4212.030145,
          4827.087527666667,
          5319.001351333333,
          8021.199838333333,
          10609.42741166667,
          13516.42659,
          14656.0049284386,
          14358.30761654974,
          12283.35238061406,
          9684.925890039976,
          7797.722989530455,
          4461.545080754471,
          3124.57808613942,
          1872.202075703391,
          1219.124704215587,
          202.0597728153783,
          -110.8611578219296,
          -493.6588904211436,
          -656.2744186952876,
          -679.6792931720712
         ],
         "yaxis": "y3"
        },
        {
         "customdata": [
          [
           "T34_1000_bitb_em",
           "POLES ENGAGE"
          ],
          [
           "T34_1000_bitb_em",
           "POLES ENGAGE"
          ],
          [
           "T34_1000_bitb_em",
           "POLES ENGAGE"
          ],
          [
           "T34_1000_bitb_em",
           "POLES ENGAGE"
          ],
          [
           "T34_1000_bitb_em",
           "POLES ENGAGE"
          ],
          [
           "T34_1000_bitb_em",
           "POLES ENGAGE"
          ],
          [
           "T34_1000_bitb_em",
           "POLES ENGAGE"
          ],
          [
           "T34_1000_bitb_em",
           "POLES ENGAGE"
          ],
          [
           "T34_1000_bitb_em",
           "POLES ENGAGE"
          ],
          [
           "T34_1000_bitb_em",
           "POLES ENGAGE"
          ],
          [
           "T34_1000_bitb_em",
           "POLES ENGAGE"
          ],
          [
           "T34_1000_bitb_em",
           "POLES ENGAGE"
          ],
          [
           "T34_1000_bitb_em",
           "POLES ENGAGE"
          ],
          [
           "T34_1000_bitb_em",
           "POLES ENGAGE"
          ],
          [
           "T34_1000_bitb_em",
           "POLES ENGAGE"
          ]
         ],
         "hovertemplate": "region=China<br>model=%{customdata[1]}<br>scenario_narrative=Tech+Inst<br>year=%{x}<br>Emissions|Kyoto Gases=%{y}<br>scenario=%{customdata[0]}<extra></extra>",
         "legendgroup": "China, POLES ENGAGE",
         "line": {
          "color": "#636efa",
          "dash": "longdashdot"
         },
         "marker": {
          "symbol": "circle"
         },
         "mode": "lines",
         "name": "China, POLES ENGAGE",
         "showlegend": true,
         "type": "scattergl",
         "x": [
          2005,
          2010,
          2015,
          2020,
          2025,
          2030,
          2035,
          2040,
          2045,
          2050,
          2060,
          2070,
          2080,
          2090,
          2100
         ],
         "xaxis": "x4",
         "y": [
          8326.1904296875,
          11513.0517578125,
          13178.15234375,
          14898.8916015625,
          13936.865234375,
          11691.060546875,
          9362.2138671875,
          7261.52880859375,
          4622.10205078125,
          2492.87451171875,
          772.8021850585938,
          -883.4584350585938,
          -914.324951171875,
          -532.68212890625,
          -816.5419921875
         ],
         "yaxis": "y4"
        },
        {
         "customdata": [
          [
           "T34_1000_feas_em",
           "POLES ENGAGE"
          ],
          [
           "T34_1000_feas_em",
           "POLES ENGAGE"
          ],
          [
           "T34_1000_feas_em",
           "POLES ENGAGE"
          ],
          [
           "T34_1000_feas_em",
           "POLES ENGAGE"
          ],
          [
           "T34_1000_feas_em",
           "POLES ENGAGE"
          ],
          [
           "T34_1000_feas_em",
           "POLES ENGAGE"
          ],
          [
           "T34_1000_feas_em",
           "POLES ENGAGE"
          ],
          [
           "T34_1000_feas_em",
           "POLES ENGAGE"
          ],
          [
           "T34_1000_feas_em",
           "POLES ENGAGE"
          ],
          [
           "T34_1000_feas_em",
           "POLES ENGAGE"
          ],
          [
           "T34_1000_feas_em",
           "POLES ENGAGE"
          ],
          [
           "T34_1000_feas_em",
           "POLES ENGAGE"
          ],
          [
           "T34_1000_feas_em",
           "POLES ENGAGE"
          ],
          [
           "T34_1000_feas_em",
           "POLES ENGAGE"
          ],
          [
           "T34_1000_feas_em",
           "POLES ENGAGE"
          ]
         ],
         "hovertemplate": "region=China<br>model=%{customdata[1]}<br>scenario_narrative=Tech+Inst+Enab<br>year=%{x}<br>Emissions|Kyoto Gases=%{y}<br>scenario=%{customdata[0]}<extra></extra>",
         "legendgroup": "China, POLES ENGAGE",
         "line": {
          "color": "#636efa",
          "dash": "longdashdot"
         },
         "marker": {
          "symbol": "circle"
         },
         "mode": "lines",
         "name": "China, POLES ENGAGE",
         "showlegend": false,
         "type": "scattergl",
         "x": [
          2005,
          2010,
          2015,
          2020,
          2025,
          2030,
          2035,
          2040,
          2045,
          2050,
          2060,
          2070,
          2080,
          2090,
          2100
         ],
         "xaxis": "x5",
         "y": [
          8326.1904296875,
          11513.0517578125,
          13178.15234375,
          14898.8916015625,
          14222.294921875,
          11766.513671875,
          8819.4697265625,
          6696.02490234375,
          4521.21240234375,
          2605.353759765625,
          1046.0128173828125,
          -1713.95654296875,
          -2569.881103515625,
          -1655.203125,
          601.1172485351562
         ],
         "yaxis": "y5"
        },
        {
         "customdata": [
          [
           "T34_1000_govem",
           "POLES ENGAGE"
          ],
          [
           "T34_1000_govem",
           "POLES ENGAGE"
          ],
          [
           "T34_1000_govem",
           "POLES ENGAGE"
          ],
          [
           "T34_1000_govem",
           "POLES ENGAGE"
          ],
          [
           "T34_1000_govem",
           "POLES ENGAGE"
          ],
          [
           "T34_1000_govem",
           "POLES ENGAGE"
          ],
          [
           "T34_1000_govem",
           "POLES ENGAGE"
          ],
          [
           "T34_1000_govem",
           "POLES ENGAGE"
          ],
          [
           "T34_1000_govem",
           "POLES ENGAGE"
          ],
          [
           "T34_1000_govem",
           "POLES ENGAGE"
          ],
          [
           "T34_1000_govem",
           "POLES ENGAGE"
          ],
          [
           "T34_1000_govem",
           "POLES ENGAGE"
          ],
          [
           "T34_1000_govem",
           "POLES ENGAGE"
          ],
          [
           "T34_1000_govem",
           "POLES ENGAGE"
          ],
          [
           "T34_1000_govem",
           "POLES ENGAGE"
          ]
         ],
         "hovertemplate": "region=China<br>model=%{customdata[1]}<br>scenario_narrative=Instit<br>year=%{x}<br>Emissions|Kyoto Gases=%{y}<br>scenario=%{customdata[0]}<extra></extra>",
         "legendgroup": "China, POLES ENGAGE",
         "line": {
          "color": "#636efa",
          "dash": "longdashdot"
         },
         "marker": {
          "symbol": "circle"
         },
         "mode": "lines",
         "name": "China, POLES ENGAGE",
         "showlegend": false,
         "type": "scattergl",
         "x": [
          2005,
          2010,
          2015,
          2020,
          2025,
          2030,
          2035,
          2040,
          2045,
          2050,
          2060,
          2070,
          2080,
          2090,
          2100
         ],
         "xaxis": "x6",
         "y": [
          8326.1904296875,
          11513.0517578125,
          13178.15234375,
          14898.8896484375,
          13944.568359375,
          11710.0537109375,
          9383.7666015625,
          7223.66162109375,
          4592.212890625,
          2448.35107421875,
          500.8511047363281,
          -905.1229858398438,
          -812.7600708007812,
          2931.167236328125,
          4946.65771484375
         ],
         "yaxis": "y6"
        },
        {
         "customdata": [
          [
           "T34_1000_ref",
           "POLES ENGAGE"
          ],
          [
           "T34_1000_ref",
           "POLES ENGAGE"
          ],
          [
           "T34_1000_ref",
           "POLES ENGAGE"
          ],
          [
           "T34_1000_ref",
           "POLES ENGAGE"
          ],
          [
           "T34_1000_ref",
           "POLES ENGAGE"
          ],
          [
           "T34_1000_ref",
           "POLES ENGAGE"
          ],
          [
           "T34_1000_ref",
           "POLES ENGAGE"
          ],
          [
           "T34_1000_ref",
           "POLES ENGAGE"
          ],
          [
           "T34_1000_ref",
           "POLES ENGAGE"
          ],
          [
           "T34_1000_ref",
           "POLES ENGAGE"
          ],
          [
           "T34_1000_ref",
           "POLES ENGAGE"
          ],
          [
           "T34_1000_ref",
           "POLES ENGAGE"
          ],
          [
           "T34_1000_ref",
           "POLES ENGAGE"
          ],
          [
           "T34_1000_ref",
           "POLES ENGAGE"
          ],
          [
           "T34_1000_ref",
           "POLES ENGAGE"
          ]
         ],
         "hovertemplate": "region=China<br>model=%{customdata[1]}<br>scenario_narrative=Cost Effective<br>year=%{x}<br>Emissions|Kyoto Gases=%{y}<br>scenario=%{customdata[0]}<extra></extra>",
         "legendgroup": "China, POLES ENGAGE",
         "line": {
          "color": "#636efa",
          "dash": "longdashdot"
         },
         "marker": {
          "symbol": "circle"
         },
         "mode": "lines",
         "name": "China, POLES ENGAGE",
         "showlegend": false,
         "type": "scattergl",
         "x": [
          2005,
          2010,
          2015,
          2020,
          2025,
          2030,
          2035,
          2040,
          2045,
          2050,
          2060,
          2070,
          2080,
          2090,
          2100
         ],
         "xaxis": "x",
         "y": [
          8326.1904296875,
          11513.0517578125,
          13178.15234375,
          14898.8916015625,
          14070.625,
          11950.5810546875,
          9390.025390625,
          7422.15087890625,
          6102.02099609375,
          4293.10498046875,
          2961.25048828125,
          2349.540283203125,
          1402.81005859375,
          1086.016845703125,
          847.1149291992188
         ],
         "yaxis": "y"
        },
        {
         "customdata": [
          [
           "T34_1000_bitb_ref",
           "POLES ENGAGE"
          ],
          [
           "T34_1000_bitb_ref",
           "POLES ENGAGE"
          ],
          [
           "T34_1000_bitb_ref",
           "POLES ENGAGE"
          ],
          [
           "T34_1000_bitb_ref",
           "POLES ENGAGE"
          ],
          [
           "T34_1000_bitb_ref",
           "POLES ENGAGE"
          ],
          [
           "T34_1000_bitb_ref",
           "POLES ENGAGE"
          ],
          [
           "T34_1000_bitb_ref",
           "POLES ENGAGE"
          ],
          [
           "T34_1000_bitb_ref",
           "POLES ENGAGE"
          ],
          [
           "T34_1000_bitb_ref",
           "POLES ENGAGE"
          ],
          [
           "T34_1000_bitb_ref",
           "POLES ENGAGE"
          ],
          [
           "T34_1000_bitb_ref",
           "POLES ENGAGE"
          ],
          [
           "T34_1000_bitb_ref",
           "POLES ENGAGE"
          ],
          [
           "T34_1000_bitb_ref",
           "POLES ENGAGE"
          ],
          [
           "T34_1000_bitb_ref",
           "POLES ENGAGE"
          ],
          [
           "T34_1000_bitb_ref",
           "POLES ENGAGE"
          ]
         ],
         "hovertemplate": "region=China<br>model=%{customdata[1]}<br>scenario_narrative=Tech<br>year=%{x}<br>Emissions|Kyoto Gases=%{y}<br>scenario=%{customdata[0]}<extra></extra>",
         "legendgroup": "China, POLES ENGAGE",
         "line": {
          "color": "#636efa",
          "dash": "longdashdot"
         },
         "marker": {
          "symbol": "circle"
         },
         "mode": "lines",
         "name": "China, POLES ENGAGE",
         "showlegend": false,
         "type": "scattergl",
         "x": [
          2005,
          2010,
          2015,
          2020,
          2025,
          2030,
          2035,
          2040,
          2045,
          2050,
          2060,
          2070,
          2080,
          2090,
          2100
         ],
         "xaxis": "x2",
         "y": [
          8326.1904296875,
          11513.0517578125,
          13178.15234375,
          14814.7216796875,
          14396.4208984375,
          12979.2001953125,
          12440.40625,
          10654.30859375,
          8407.8876953125,
          6371.83837890625,
          4280.7783203125,
          1972.7490234375,
          602.8054809570312,
          -249.23275756835938,
          -866.2032470703125
         ],
         "yaxis": "y2"
        },
        {
         "customdata": [
          [
           "T34_1000_bitb_em",
           "REMIND 3.0"
          ],
          [
           "T34_1000_bitb_em",
           "REMIND 3.0"
          ],
          [
           "T34_1000_bitb_em",
           "REMIND 3.0"
          ],
          [
           "T34_1000_bitb_em",
           "REMIND 3.0"
          ],
          [
           "T34_1000_bitb_em",
           "REMIND 3.0"
          ],
          [
           "T34_1000_bitb_em",
           "REMIND 3.0"
          ],
          [
           "T34_1000_bitb_em",
           "REMIND 3.0"
          ],
          [
           "T34_1000_bitb_em",
           "REMIND 3.0"
          ],
          [
           "T34_1000_bitb_em",
           "REMIND 3.0"
          ],
          [
           "T34_1000_bitb_em",
           "REMIND 3.0"
          ],
          [
           "T34_1000_bitb_em",
           "REMIND 3.0"
          ],
          [
           "T34_1000_bitb_em",
           "REMIND 3.0"
          ],
          [
           "T34_1000_bitb_em",
           "REMIND 3.0"
          ],
          [
           "T34_1000_bitb_em",
           "REMIND 3.0"
          ],
          [
           "T34_1000_bitb_em",
           "REMIND 3.0"
          ],
          [
           "T34_1000_bitb_em",
           "REMIND 3.0"
          ]
         ],
         "hovertemplate": "region=China<br>model=%{customdata[1]}<br>scenario_narrative=Tech+Inst<br>year=%{x}<br>Emissions|Kyoto Gases=%{y}<br>scenario=%{customdata[0]}<extra></extra>",
         "legendgroup": "China, REMIND 3.0",
         "line": {
          "color": "#636efa",
          "dash": "solid"
         },
         "marker": {
          "symbol": "circle"
         },
         "mode": "lines",
         "name": "China, REMIND 3.0",
         "showlegend": true,
         "type": "scattergl",
         "x": [
          2005,
          2010,
          2015,
          2020,
          2025,
          2030,
          2035,
          2040,
          2045,
          2050,
          2055,
          2060,
          2070,
          2080,
          2090,
          2100
         ],
         "xaxis": "x4",
         "y": [
          9510.7522795,
          12127.3339175,
          14512.6400533,
          15340.9096905,
          14969.4053443,
          10015.3820573,
          6150.3669694,
          4248.8255191,
          2599.9347138,
          1634.9561065,
          1031.0292555,
          695.9074103,
          127.2071578,
          -214.7312283,
          -224.6602933,
          180.138348
         ],
         "yaxis": "y4"
        },
        {
         "customdata": [
          [
           "T34_1000_feas_em",
           "REMIND 3.0"
          ],
          [
           "T34_1000_feas_em",
           "REMIND 3.0"
          ],
          [
           "T34_1000_feas_em",
           "REMIND 3.0"
          ],
          [
           "T34_1000_feas_em",
           "REMIND 3.0"
          ],
          [
           "T34_1000_feas_em",
           "REMIND 3.0"
          ],
          [
           "T34_1000_feas_em",
           "REMIND 3.0"
          ],
          [
           "T34_1000_feas_em",
           "REMIND 3.0"
          ],
          [
           "T34_1000_feas_em",
           "REMIND 3.0"
          ],
          [
           "T34_1000_feas_em",
           "REMIND 3.0"
          ],
          [
           "T34_1000_feas_em",
           "REMIND 3.0"
          ],
          [
           "T34_1000_feas_em",
           "REMIND 3.0"
          ],
          [
           "T34_1000_feas_em",
           "REMIND 3.0"
          ],
          [
           "T34_1000_feas_em",
           "REMIND 3.0"
          ],
          [
           "T34_1000_feas_em",
           "REMIND 3.0"
          ],
          [
           "T34_1000_feas_em",
           "REMIND 3.0"
          ],
          [
           "T34_1000_feas_em",
           "REMIND 3.0"
          ]
         ],
         "hovertemplate": "region=China<br>model=%{customdata[1]}<br>scenario_narrative=Tech+Inst+Enab<br>year=%{x}<br>Emissions|Kyoto Gases=%{y}<br>scenario=%{customdata[0]}<extra></extra>",
         "legendgroup": "China, REMIND 3.0",
         "line": {
          "color": "#636efa",
          "dash": "solid"
         },
         "marker": {
          "symbol": "circle"
         },
         "mode": "lines",
         "name": "China, REMIND 3.0",
         "showlegend": false,
         "type": "scattergl",
         "x": [
          2005,
          2010,
          2015,
          2020,
          2025,
          2030,
          2035,
          2040,
          2045,
          2050,
          2055,
          2060,
          2070,
          2080,
          2090,
          2100
         ],
         "xaxis": "x5",
         "y": [
          9510.7522795,
          12127.3339175,
          14512.6400533,
          15340.9096905,
          14759.2209607,
          9916.2991061,
          7270.3507074,
          4743.4859653,
          3269.1480979,
          2326.4343268,
          1733.2925197,
          1150.4791951,
          605.6933333,
          193.4572251,
          -47.3773054,
          184.8587377
         ],
         "yaxis": "y5"
        },
        {
         "customdata": [
          [
           "T34_1000_govem",
           "REMIND 3.0"
          ],
          [
           "T34_1000_govem",
           "REMIND 3.0"
          ],
          [
           "T34_1000_govem",
           "REMIND 3.0"
          ],
          [
           "T34_1000_govem",
           "REMIND 3.0"
          ],
          [
           "T34_1000_govem",
           "REMIND 3.0"
          ],
          [
           "T34_1000_govem",
           "REMIND 3.0"
          ],
          [
           "T34_1000_govem",
           "REMIND 3.0"
          ],
          [
           "T34_1000_govem",
           "REMIND 3.0"
          ],
          [
           "T34_1000_govem",
           "REMIND 3.0"
          ],
          [
           "T34_1000_govem",
           "REMIND 3.0"
          ],
          [
           "T34_1000_govem",
           "REMIND 3.0"
          ],
          [
           "T34_1000_govem",
           "REMIND 3.0"
          ],
          [
           "T34_1000_govem",
           "REMIND 3.0"
          ],
          [
           "T34_1000_govem",
           "REMIND 3.0"
          ],
          [
           "T34_1000_govem",
           "REMIND 3.0"
          ],
          [
           "T34_1000_govem",
           "REMIND 3.0"
          ]
         ],
         "hovertemplate": "region=China<br>model=%{customdata[1]}<br>scenario_narrative=Instit<br>year=%{x}<br>Emissions|Kyoto Gases=%{y}<br>scenario=%{customdata[0]}<extra></extra>",
         "legendgroup": "China, REMIND 3.0",
         "line": {
          "color": "#636efa",
          "dash": "solid"
         },
         "marker": {
          "symbol": "circle"
         },
         "mode": "lines",
         "name": "China, REMIND 3.0",
         "showlegend": false,
         "type": "scattergl",
         "x": [
          2005,
          2010,
          2015,
          2020,
          2025,
          2030,
          2035,
          2040,
          2045,
          2050,
          2055,
          2060,
          2070,
          2080,
          2090,
          2100
         ],
         "xaxis": "x6",
         "y": [
          9510.7522795,
          12127.3339175,
          14512.6400533,
          15340.9096905,
          14973.901773,
          10471.8109306,
          6721.1196926,
          4410.9873341,
          2679.2469972,
          1745.6699934,
          1036.0448008,
          619.3855044,
          -219.5075458,
          -536.6544651,
          -392.0888867,
          166.2055798
         ],
         "yaxis": "y6"
        },
        {
         "customdata": [
          [
           "T34_1000_ref",
           "REMIND 3.0"
          ],
          [
           "T34_1000_ref",
           "REMIND 3.0"
          ],
          [
           "T34_1000_ref",
           "REMIND 3.0"
          ],
          [
           "T34_1000_ref",
           "REMIND 3.0"
          ],
          [
           "T34_1000_ref",
           "REMIND 3.0"
          ],
          [
           "T34_1000_ref",
           "REMIND 3.0"
          ],
          [
           "T34_1000_ref",
           "REMIND 3.0"
          ],
          [
           "T34_1000_ref",
           "REMIND 3.0"
          ],
          [
           "T34_1000_ref",
           "REMIND 3.0"
          ],
          [
           "T34_1000_ref",
           "REMIND 3.0"
          ],
          [
           "T34_1000_ref",
           "REMIND 3.0"
          ],
          [
           "T34_1000_ref",
           "REMIND 3.0"
          ],
          [
           "T34_1000_ref",
           "REMIND 3.0"
          ],
          [
           "T34_1000_ref",
           "REMIND 3.0"
          ],
          [
           "T34_1000_ref",
           "REMIND 3.0"
          ],
          [
           "T34_1000_ref",
           "REMIND 3.0"
          ]
         ],
         "hovertemplate": "region=China<br>model=%{customdata[1]}<br>scenario_narrative=Cost Effective<br>year=%{x}<br>Emissions|Kyoto Gases=%{y}<br>scenario=%{customdata[0]}<extra></extra>",
         "legendgroup": "China, REMIND 3.0",
         "line": {
          "color": "#636efa",
          "dash": "solid"
         },
         "marker": {
          "symbol": "circle"
         },
         "mode": "lines",
         "name": "China, REMIND 3.0",
         "showlegend": false,
         "type": "scattergl",
         "x": [
          2005,
          2010,
          2015,
          2020,
          2025,
          2030,
          2035,
          2040,
          2045,
          2050,
          2055,
          2060,
          2070,
          2080,
          2090,
          2100
         ],
         "xaxis": "x",
         "y": [
          9510.7522795,
          12127.3339175,
          14512.6400533,
          15340.9096905,
          14965.480187,
          11036.1873348,
          7578.3634497,
          4931.0459721,
          3273.2656783,
          2330.1683468,
          1626.0634694,
          1152.6718219,
          639.9705744,
          224.1100022,
          147.592788,
          198.1681978
         ],
         "yaxis": "y"
        },
        {
         "customdata": [
          [
           "T34_1000_bitb_ref",
           "REMIND 3.0"
          ],
          [
           "T34_1000_bitb_ref",
           "REMIND 3.0"
          ],
          [
           "T34_1000_bitb_ref",
           "REMIND 3.0"
          ],
          [
           "T34_1000_bitb_ref",
           "REMIND 3.0"
          ],
          [
           "T34_1000_bitb_ref",
           "REMIND 3.0"
          ],
          [
           "T34_1000_bitb_ref",
           "REMIND 3.0"
          ],
          [
           "T34_1000_bitb_ref",
           "REMIND 3.0"
          ],
          [
           "T34_1000_bitb_ref",
           "REMIND 3.0"
          ],
          [
           "T34_1000_bitb_ref",
           "REMIND 3.0"
          ],
          [
           "T34_1000_bitb_ref",
           "REMIND 3.0"
          ],
          [
           "T34_1000_bitb_ref",
           "REMIND 3.0"
          ],
          [
           "T34_1000_bitb_ref",
           "REMIND 3.0"
          ],
          [
           "T34_1000_bitb_ref",
           "REMIND 3.0"
          ],
          [
           "T34_1000_bitb_ref",
           "REMIND 3.0"
          ],
          [
           "T34_1000_bitb_ref",
           "REMIND 3.0"
          ],
          [
           "T34_1000_bitb_ref",
           "REMIND 3.0"
          ]
         ],
         "hovertemplate": "region=China<br>model=%{customdata[1]}<br>scenario_narrative=Tech<br>year=%{x}<br>Emissions|Kyoto Gases=%{y}<br>scenario=%{customdata[0]}<extra></extra>",
         "legendgroup": "China, REMIND 3.0",
         "line": {
          "color": "#636efa",
          "dash": "solid"
         },
         "marker": {
          "symbol": "circle"
         },
         "mode": "lines",
         "name": "China, REMIND 3.0",
         "showlegend": false,
         "type": "scattergl",
         "x": [
          2005,
          2010,
          2015,
          2020,
          2025,
          2030,
          2035,
          2040,
          2045,
          2050,
          2055,
          2060,
          2070,
          2080,
          2090,
          2100
         ],
         "xaxis": "x2",
         "y": [
          9510.7522795,
          12127.3339175,
          14512.6400533,
          15340.9096905,
          14908.0976326,
          10257.0138342,
          6717.2948581,
          4726.0989022,
          3136.6110516,
          2072.2204859,
          1434.3745813,
          1074.6765296,
          658.973898,
          337.8006624,
          209.7391922,
          99.2693228
         ],
         "yaxis": "y2"
        },
        {
         "customdata": [
          [
           "T34_1000_enab_em",
           "REMIND 3.0"
          ],
          [
           "T34_1000_enab_em",
           "REMIND 3.0"
          ],
          [
           "T34_1000_enab_em",
           "REMIND 3.0"
          ],
          [
           "T34_1000_enab_em",
           "REMIND 3.0"
          ],
          [
           "T34_1000_enab_em",
           "REMIND 3.0"
          ],
          [
           "T34_1000_enab_em",
           "REMIND 3.0"
          ],
          [
           "T34_1000_enab_em",
           "REMIND 3.0"
          ],
          [
           "T34_1000_enab_em",
           "REMIND 3.0"
          ],
          [
           "T34_1000_enab_em",
           "REMIND 3.0"
          ],
          [
           "T34_1000_enab_em",
           "REMIND 3.0"
          ],
          [
           "T34_1000_enab_em",
           "REMIND 3.0"
          ],
          [
           "T34_1000_enab_em",
           "REMIND 3.0"
          ],
          [
           "T34_1000_enab_em",
           "REMIND 3.0"
          ],
          [
           "T34_1000_enab_em",
           "REMIND 3.0"
          ],
          [
           "T34_1000_enab_em",
           "REMIND 3.0"
          ],
          [
           "T34_1000_enab_em",
           "REMIND 3.0"
          ]
         ],
         "hovertemplate": "region=China<br>model=%{customdata[1]}<br>scenario_narrative=Inst+Enab<br>year=%{x}<br>Emissions|Kyoto Gases=%{y}<br>scenario=%{customdata[0]}<extra></extra>",
         "legendgroup": "China, REMIND 3.0",
         "line": {
          "color": "#636efa",
          "dash": "solid"
         },
         "marker": {
          "symbol": "circle"
         },
         "mode": "lines",
         "name": "China, REMIND 3.0",
         "showlegend": false,
         "type": "scattergl",
         "x": [
          2005,
          2010,
          2015,
          2020,
          2025,
          2030,
          2035,
          2040,
          2045,
          2050,
          2055,
          2060,
          2070,
          2080,
          2090,
          2100
         ],
         "xaxis": "x3",
         "y": [
          9510.7522795,
          12127.3339175,
          14512.6400533,
          15340.9096905,
          14768.6428684,
          10080.7112745,
          7501.6328643,
          5033.6267042,
          3558.3088627,
          2409.0284687,
          1710.1783181,
          1030.4591361,
          442.6926033,
          17.983396,
          -165.8125275,
          196.718674
         ],
         "yaxis": "y3"
        },
        {
         "customdata": [
          [
           "T34_1000_bitb_em",
           "WITCH 5.0"
          ],
          [
           "T34_1000_bitb_em",
           "WITCH 5.0"
          ],
          [
           "T34_1000_bitb_em",
           "WITCH 5.0"
          ],
          [
           "T34_1000_bitb_em",
           "WITCH 5.0"
          ],
          [
           "T34_1000_bitb_em",
           "WITCH 5.0"
          ],
          [
           "T34_1000_bitb_em",
           "WITCH 5.0"
          ],
          [
           "T34_1000_bitb_em",
           "WITCH 5.0"
          ],
          [
           "T34_1000_bitb_em",
           "WITCH 5.0"
          ],
          [
           "T34_1000_bitb_em",
           "WITCH 5.0"
          ],
          [
           "T34_1000_bitb_em",
           "WITCH 5.0"
          ],
          [
           "T34_1000_bitb_em",
           "WITCH 5.0"
          ],
          [
           "T34_1000_bitb_em",
           "WITCH 5.0"
          ],
          [
           "T34_1000_bitb_em",
           "WITCH 5.0"
          ],
          [
           "T34_1000_bitb_em",
           "WITCH 5.0"
          ],
          [
           "T34_1000_bitb_em",
           "WITCH 5.0"
          ],
          [
           "T34_1000_bitb_em",
           "WITCH 5.0"
          ],
          [
           "T34_1000_bitb_em",
           "WITCH 5.0"
          ],
          [
           "T34_1000_bitb_em",
           "WITCH 5.0"
          ],
          [
           "T34_1000_bitb_em",
           "WITCH 5.0"
          ],
          [
           "T34_1000_bitb_em",
           "WITCH 5.0"
          ]
         ],
         "hovertemplate": "region=China<br>model=%{customdata[1]}<br>scenario_narrative=Tech+Inst<br>year=%{x}<br>Emissions|Kyoto Gases=%{y}<br>scenario=%{customdata[0]}<extra></extra>",
         "legendgroup": "China, WITCH 5.0",
         "line": {
          "color": "#636efa",
          "dash": "dot"
         },
         "marker": {
          "symbol": "circle"
         },
         "mode": "lines",
         "name": "China, WITCH 5.0",
         "showlegend": true,
         "type": "scattergl",
         "x": [
          2005,
          2010,
          2015,
          2020,
          2025,
          2030,
          2035,
          2040,
          2045,
          2050,
          2055,
          2060,
          2065,
          2070,
          2075,
          2080,
          2085,
          2090,
          2095,
          2100
         ],
         "xaxis": "x4",
         "y": [
          7565.58310742341,
          10539.6295135494,
          12094.7362482014,
          12704.4123444316,
          12647.3873953864,
          10423.2293802135,
          8251.0233534566,
          6716.6699260014,
          5849.07551773465,
          4680.80073156249,
          3272.13029243928,
          2642.0509053971,
          2372.57512621462,
          2156.7274161614,
          1964.96769201452,
          1814.90908957282,
          2046.06358544123,
          2158.48583865395,
          2065.34155562694,
          1934.538245949
         ],
         "yaxis": "y4"
        },
        {
         "customdata": [
          [
           "T34_1000_feas_em",
           "WITCH 5.0"
          ],
          [
           "T34_1000_feas_em",
           "WITCH 5.0"
          ],
          [
           "T34_1000_feas_em",
           "WITCH 5.0"
          ],
          [
           "T34_1000_feas_em",
           "WITCH 5.0"
          ],
          [
           "T34_1000_feas_em",
           "WITCH 5.0"
          ],
          [
           "T34_1000_feas_em",
           "WITCH 5.0"
          ],
          [
           "T34_1000_feas_em",
           "WITCH 5.0"
          ],
          [
           "T34_1000_feas_em",
           "WITCH 5.0"
          ],
          [
           "T34_1000_feas_em",
           "WITCH 5.0"
          ],
          [
           "T34_1000_feas_em",
           "WITCH 5.0"
          ],
          [
           "T34_1000_feas_em",
           "WITCH 5.0"
          ],
          [
           "T34_1000_feas_em",
           "WITCH 5.0"
          ],
          [
           "T34_1000_feas_em",
           "WITCH 5.0"
          ],
          [
           "T34_1000_feas_em",
           "WITCH 5.0"
          ],
          [
           "T34_1000_feas_em",
           "WITCH 5.0"
          ],
          [
           "T34_1000_feas_em",
           "WITCH 5.0"
          ],
          [
           "T34_1000_feas_em",
           "WITCH 5.0"
          ],
          [
           "T34_1000_feas_em",
           "WITCH 5.0"
          ],
          [
           "T34_1000_feas_em",
           "WITCH 5.0"
          ],
          [
           "T34_1000_feas_em",
           "WITCH 5.0"
          ]
         ],
         "hovertemplate": "region=China<br>model=%{customdata[1]}<br>scenario_narrative=Tech+Inst+Enab<br>year=%{x}<br>Emissions|Kyoto Gases=%{y}<br>scenario=%{customdata[0]}<extra></extra>",
         "legendgroup": "China, WITCH 5.0",
         "line": {
          "color": "#636efa",
          "dash": "dot"
         },
         "marker": {
          "symbol": "circle"
         },
         "mode": "lines",
         "name": "China, WITCH 5.0",
         "showlegend": false,
         "type": "scattergl",
         "x": [
          2005,
          2010,
          2015,
          2020,
          2025,
          2030,
          2035,
          2040,
          2045,
          2050,
          2055,
          2060,
          2065,
          2070,
          2075,
          2080,
          2085,
          2090,
          2095,
          2100
         ],
         "xaxis": "x5",
         "y": [
          7565.58310742341,
          10539.6295135494,
          12094.7362482014,
          12704.4123444316,
          10602.4245875331,
          8917.79664348064,
          7006.08341839646,
          5598.7813246188,
          4295.23227465741,
          3355.84878775238,
          2774.12363048063,
          2300.69993060942,
          1945.91118243631,
          1731.00730593218,
          1519.35303249379,
          1374.41369624752,
          1284.73527753871,
          1189.81308062352,
          1146.65514009561,
          992.854384855441
         ],
         "yaxis": "y5"
        },
        {
         "customdata": [
          [
           "T34_1000_govem",
           "WITCH 5.0"
          ],
          [
           "T34_1000_govem",
           "WITCH 5.0"
          ],
          [
           "T34_1000_govem",
           "WITCH 5.0"
          ],
          [
           "T34_1000_govem",
           "WITCH 5.0"
          ],
          [
           "T34_1000_govem",
           "WITCH 5.0"
          ],
          [
           "T34_1000_govem",
           "WITCH 5.0"
          ],
          [
           "T34_1000_govem",
           "WITCH 5.0"
          ],
          [
           "T34_1000_govem",
           "WITCH 5.0"
          ],
          [
           "T34_1000_govem",
           "WITCH 5.0"
          ],
          [
           "T34_1000_govem",
           "WITCH 5.0"
          ],
          [
           "T34_1000_govem",
           "WITCH 5.0"
          ],
          [
           "T34_1000_govem",
           "WITCH 5.0"
          ],
          [
           "T34_1000_govem",
           "WITCH 5.0"
          ],
          [
           "T34_1000_govem",
           "WITCH 5.0"
          ],
          [
           "T34_1000_govem",
           "WITCH 5.0"
          ],
          [
           "T34_1000_govem",
           "WITCH 5.0"
          ],
          [
           "T34_1000_govem",
           "WITCH 5.0"
          ],
          [
           "T34_1000_govem",
           "WITCH 5.0"
          ],
          [
           "T34_1000_govem",
           "WITCH 5.0"
          ],
          [
           "T34_1000_govem",
           "WITCH 5.0"
          ]
         ],
         "hovertemplate": "region=China<br>model=%{customdata[1]}<br>scenario_narrative=Instit<br>year=%{x}<br>Emissions|Kyoto Gases=%{y}<br>scenario=%{customdata[0]}<extra></extra>",
         "legendgroup": "China, WITCH 5.0",
         "line": {
          "color": "#636efa",
          "dash": "dot"
         },
         "marker": {
          "symbol": "circle"
         },
         "mode": "lines",
         "name": "China, WITCH 5.0",
         "showlegend": false,
         "type": "scattergl",
         "x": [
          2005,
          2010,
          2015,
          2020,
          2025,
          2030,
          2035,
          2040,
          2045,
          2050,
          2055,
          2060,
          2065,
          2070,
          2075,
          2080,
          2085,
          2090,
          2095,
          2100
         ],
         "xaxis": "x6",
         "y": [
          7565.58310742341,
          10539.6295135494,
          12094.7362482014,
          12704.4123444316,
          10583.0375447804,
          8915.32280229705,
          7000.87978733629,
          5687.89452705392,
          4700.17756956507,
          3449.19462557065,
          2706.05725316501,
          2356.05118089332,
          1972.59682273259,
          1684.14538624477,
          1380.04399393746,
          1660.64724499549,
          2104.05596923167,
          2933.59219460673,
          3236.0997457796,
          3269.39863047057
         ],
         "yaxis": "y6"
        },
        {
         "customdata": [
          [
           "T34_1000_ref",
           "WITCH 5.0"
          ],
          [
           "T34_1000_ref",
           "WITCH 5.0"
          ],
          [
           "T34_1000_ref",
           "WITCH 5.0"
          ],
          [
           "T34_1000_ref",
           "WITCH 5.0"
          ],
          [
           "T34_1000_ref",
           "WITCH 5.0"
          ],
          [
           "T34_1000_ref",
           "WITCH 5.0"
          ],
          [
           "T34_1000_ref",
           "WITCH 5.0"
          ],
          [
           "T34_1000_ref",
           "WITCH 5.0"
          ],
          [
           "T34_1000_ref",
           "WITCH 5.0"
          ],
          [
           "T34_1000_ref",
           "WITCH 5.0"
          ],
          [
           "T34_1000_ref",
           "WITCH 5.0"
          ],
          [
           "T34_1000_ref",
           "WITCH 5.0"
          ],
          [
           "T34_1000_ref",
           "WITCH 5.0"
          ],
          [
           "T34_1000_ref",
           "WITCH 5.0"
          ],
          [
           "T34_1000_ref",
           "WITCH 5.0"
          ],
          [
           "T34_1000_ref",
           "WITCH 5.0"
          ],
          [
           "T34_1000_ref",
           "WITCH 5.0"
          ],
          [
           "T34_1000_ref",
           "WITCH 5.0"
          ],
          [
           "T34_1000_ref",
           "WITCH 5.0"
          ],
          [
           "T34_1000_ref",
           "WITCH 5.0"
          ]
         ],
         "hovertemplate": "region=China<br>model=%{customdata[1]}<br>scenario_narrative=Cost Effective<br>year=%{x}<br>Emissions|Kyoto Gases=%{y}<br>scenario=%{customdata[0]}<extra></extra>",
         "legendgroup": "China, WITCH 5.0",
         "line": {
          "color": "#636efa",
          "dash": "dot"
         },
         "marker": {
          "symbol": "circle"
         },
         "mode": "lines",
         "name": "China, WITCH 5.0",
         "showlegend": false,
         "type": "scattergl",
         "x": [
          2005,
          2010,
          2015,
          2020,
          2025,
          2030,
          2035,
          2040,
          2045,
          2050,
          2055,
          2060,
          2065,
          2070,
          2075,
          2080,
          2085,
          2090,
          2095,
          2100
         ],
         "xaxis": "x",
         "y": [
          7565.58310742341,
          10539.6295135494,
          12094.7362482014,
          12704.4123444316,
          11707.9878652762,
          6807.1302033798,
          5924.43305962545,
          5685.16417701001,
          5371.50642360189,
          5063.6051785855,
          4705.92857609731,
          4382.87606960449,
          3918.2105619151,
          3404.95343594814,
          3100.21938493552,
          2839.82395587781,
          2637.05405161416,
          2606.74375335339,
          2756.62143556365,
          2898.13233314009
         ],
         "yaxis": "y"
        },
        {
         "customdata": [
          [
           "T34_1000_bitb_ref",
           "WITCH 5.0"
          ],
          [
           "T34_1000_bitb_ref",
           "WITCH 5.0"
          ],
          [
           "T34_1000_bitb_ref",
           "WITCH 5.0"
          ],
          [
           "T34_1000_bitb_ref",
           "WITCH 5.0"
          ],
          [
           "T34_1000_bitb_ref",
           "WITCH 5.0"
          ],
          [
           "T34_1000_bitb_ref",
           "WITCH 5.0"
          ],
          [
           "T34_1000_bitb_ref",
           "WITCH 5.0"
          ],
          [
           "T34_1000_bitb_ref",
           "WITCH 5.0"
          ],
          [
           "T34_1000_bitb_ref",
           "WITCH 5.0"
          ],
          [
           "T34_1000_bitb_ref",
           "WITCH 5.0"
          ],
          [
           "T34_1000_bitb_ref",
           "WITCH 5.0"
          ],
          [
           "T34_1000_bitb_ref",
           "WITCH 5.0"
          ],
          [
           "T34_1000_bitb_ref",
           "WITCH 5.0"
          ],
          [
           "T34_1000_bitb_ref",
           "WITCH 5.0"
          ],
          [
           "T34_1000_bitb_ref",
           "WITCH 5.0"
          ],
          [
           "T34_1000_bitb_ref",
           "WITCH 5.0"
          ],
          [
           "T34_1000_bitb_ref",
           "WITCH 5.0"
          ],
          [
           "T34_1000_bitb_ref",
           "WITCH 5.0"
          ],
          [
           "T34_1000_bitb_ref",
           "WITCH 5.0"
          ],
          [
           "T34_1000_bitb_ref",
           "WITCH 5.0"
          ]
         ],
         "hovertemplate": "region=China<br>model=%{customdata[1]}<br>scenario_narrative=Tech<br>year=%{x}<br>Emissions|Kyoto Gases=%{y}<br>scenario=%{customdata[0]}<extra></extra>",
         "legendgroup": "China, WITCH 5.0",
         "line": {
          "color": "#636efa",
          "dash": "dot"
         },
         "marker": {
          "symbol": "circle"
         },
         "mode": "lines",
         "name": "China, WITCH 5.0",
         "showlegend": false,
         "type": "scattergl",
         "x": [
          2005,
          2010,
          2015,
          2020,
          2025,
          2030,
          2035,
          2040,
          2045,
          2050,
          2055,
          2060,
          2065,
          2070,
          2075,
          2080,
          2085,
          2090,
          2095,
          2100
         ],
         "xaxis": "x2",
         "y": [
          7565.58310742341,
          10539.6295135494,
          12094.7362482014,
          12704.4123444316,
          11677.4221190256,
          6297.83460175679,
          5988.36986471005,
          5683.55919952504,
          5253.35641778512,
          4816.20415575432,
          4488.47812594672,
          4263.08882231502,
          4003.37816933123,
          3773.1093166624,
          3505.90143420553,
          3287.63584484959,
          3076.42368501917,
          2849.12830660746,
          2649.87930411583,
          2441.76543672214
         ],
         "yaxis": "y2"
        },
        {
         "customdata": [
          [
           "T34_1000_enab_em",
           "WITCH 5.0"
          ],
          [
           "T34_1000_enab_em",
           "WITCH 5.0"
          ],
          [
           "T34_1000_enab_em",
           "WITCH 5.0"
          ],
          [
           "T34_1000_enab_em",
           "WITCH 5.0"
          ],
          [
           "T34_1000_enab_em",
           "WITCH 5.0"
          ],
          [
           "T34_1000_enab_em",
           "WITCH 5.0"
          ],
          [
           "T34_1000_enab_em",
           "WITCH 5.0"
          ],
          [
           "T34_1000_enab_em",
           "WITCH 5.0"
          ],
          [
           "T34_1000_enab_em",
           "WITCH 5.0"
          ],
          [
           "T34_1000_enab_em",
           "WITCH 5.0"
          ],
          [
           "T34_1000_enab_em",
           "WITCH 5.0"
          ],
          [
           "T34_1000_enab_em",
           "WITCH 5.0"
          ],
          [
           "T34_1000_enab_em",
           "WITCH 5.0"
          ],
          [
           "T34_1000_enab_em",
           "WITCH 5.0"
          ],
          [
           "T34_1000_enab_em",
           "WITCH 5.0"
          ],
          [
           "T34_1000_enab_em",
           "WITCH 5.0"
          ],
          [
           "T34_1000_enab_em",
           "WITCH 5.0"
          ],
          [
           "T34_1000_enab_em",
           "WITCH 5.0"
          ],
          [
           "T34_1000_enab_em",
           "WITCH 5.0"
          ],
          [
           "T34_1000_enab_em",
           "WITCH 5.0"
          ]
         ],
         "hovertemplate": "region=China<br>model=%{customdata[1]}<br>scenario_narrative=Inst+Enab<br>year=%{x}<br>Emissions|Kyoto Gases=%{y}<br>scenario=%{customdata[0]}<extra></extra>",
         "legendgroup": "China, WITCH 5.0",
         "line": {
          "color": "#636efa",
          "dash": "dot"
         },
         "marker": {
          "symbol": "circle"
         },
         "mode": "lines",
         "name": "China, WITCH 5.0",
         "showlegend": false,
         "type": "scattergl",
         "x": [
          2005,
          2010,
          2015,
          2020,
          2025,
          2030,
          2035,
          2040,
          2045,
          2050,
          2055,
          2060,
          2065,
          2070,
          2075,
          2080,
          2085,
          2090,
          2095,
          2100
         ],
         "xaxis": "x3",
         "y": [
          7565.58310742341,
          10539.6295135494,
          12094.7362482014,
          12704.4123444316,
          10602.1844667401,
          8963.30770847637,
          7063.25388878006,
          5634.71929112131,
          4019.72391164525,
          3351.93788078024,
          2806.15233771387,
          2264.42246629919,
          1765.68013950202,
          1250.09820158561,
          849.187537689695,
          695.194415411003,
          697.991932596646,
          981.878456622754,
          1224.77404204708,
          1412.42886030731
         ],
         "yaxis": "y3"
        },
        {
         "customdata": [
          [
           "T34_1000_bitb_em",
           "AIM/CGE V2.2"
          ],
          [
           "T34_1000_bitb_em",
           "AIM/CGE V2.2"
          ],
          [
           "T34_1000_bitb_em",
           "AIM/CGE V2.2"
          ],
          [
           "T34_1000_bitb_em",
           "AIM/CGE V2.2"
          ],
          [
           "T34_1000_bitb_em",
           "AIM/CGE V2.2"
          ],
          [
           "T34_1000_bitb_em",
           "AIM/CGE V2.2"
          ],
          [
           "T34_1000_bitb_em",
           "AIM/CGE V2.2"
          ],
          [
           "T34_1000_bitb_em",
           "AIM/CGE V2.2"
          ],
          [
           "T34_1000_bitb_em",
           "AIM/CGE V2.2"
          ],
          [
           "T34_1000_bitb_em",
           "AIM/CGE V2.2"
          ],
          [
           "T34_1000_bitb_em",
           "AIM/CGE V2.2"
          ],
          [
           "T34_1000_bitb_em",
           "AIM/CGE V2.2"
          ],
          [
           "T34_1000_bitb_em",
           "AIM/CGE V2.2"
          ],
          [
           "T34_1000_bitb_em",
           "AIM/CGE V2.2"
          ],
          [
           "T34_1000_bitb_em",
           "AIM/CGE V2.2"
          ],
          [
           "T34_1000_bitb_em",
           "AIM/CGE V2.2"
          ],
          [
           "T34_1000_bitb_em",
           "AIM/CGE V2.2"
          ],
          [
           "T34_1000_bitb_em",
           "AIM/CGE V2.2"
          ],
          [
           "T34_1000_bitb_em",
           "AIM/CGE V2.2"
          ]
         ],
         "hovertemplate": "region=OECD<br>model=%{customdata[1]}<br>scenario_narrative=Tech+Inst<br>year=%{x}<br>Emissions|Kyoto Gases=%{y}<br>scenario=%{customdata[0]}<extra></extra>",
         "legendgroup": "OECD, AIM/CGE V2.2",
         "line": {
          "color": "#EF553B",
          "dash": "solid"
         },
         "marker": {
          "symbol": "circle"
         },
         "mode": "lines",
         "name": "OECD, AIM/CGE V2.2",
         "showlegend": true,
         "type": "scattergl",
         "x": [
          2010,
          2015,
          2020,
          2025,
          2030,
          2035,
          2040,
          2045,
          2050,
          2055,
          2060,
          2065,
          2070,
          2075,
          2080,
          2085,
          2090,
          2095,
          2100
         ],
         "xaxis": "x4",
         "y": [
          13279.6705,
          12551.344099999998,
          12524.0317,
          9449.9974,
          6592.5548,
          5011.9735,
          3379.0832,
          1484.5553,
          -486.9534,
          61.70560000000003,
          -286.03,
          -125.00840000000002,
          -19.35419999999999,
          56.06039999999999,
          129.3714,
          191.07009999999997,
          252.14530000000002,
          313.1886,
          371.1141
         ],
         "yaxis": "y4"
        },
        {
         "customdata": [
          [
           "T34_1000_feas_em",
           "AIM/CGE V2.2"
          ],
          [
           "T34_1000_feas_em",
           "AIM/CGE V2.2"
          ],
          [
           "T34_1000_feas_em",
           "AIM/CGE V2.2"
          ],
          [
           "T34_1000_feas_em",
           "AIM/CGE V2.2"
          ],
          [
           "T34_1000_feas_em",
           "AIM/CGE V2.2"
          ],
          [
           "T34_1000_feas_em",
           "AIM/CGE V2.2"
          ],
          [
           "T34_1000_feas_em",
           "AIM/CGE V2.2"
          ],
          [
           "T34_1000_feas_em",
           "AIM/CGE V2.2"
          ],
          [
           "T34_1000_feas_em",
           "AIM/CGE V2.2"
          ],
          [
           "T34_1000_feas_em",
           "AIM/CGE V2.2"
          ],
          [
           "T34_1000_feas_em",
           "AIM/CGE V2.2"
          ],
          [
           "T34_1000_feas_em",
           "AIM/CGE V2.2"
          ],
          [
           "T34_1000_feas_em",
           "AIM/CGE V2.2"
          ],
          [
           "T34_1000_feas_em",
           "AIM/CGE V2.2"
          ],
          [
           "T34_1000_feas_em",
           "AIM/CGE V2.2"
          ],
          [
           "T34_1000_feas_em",
           "AIM/CGE V2.2"
          ],
          [
           "T34_1000_feas_em",
           "AIM/CGE V2.2"
          ],
          [
           "T34_1000_feas_em",
           "AIM/CGE V2.2"
          ],
          [
           "T34_1000_feas_em",
           "AIM/CGE V2.2"
          ]
         ],
         "hovertemplate": "region=OECD<br>model=%{customdata[1]}<br>scenario_narrative=Tech+Inst+Enab<br>year=%{x}<br>Emissions|Kyoto Gases=%{y}<br>scenario=%{customdata[0]}<extra></extra>",
         "legendgroup": "OECD, AIM/CGE V2.2",
         "line": {
          "color": "#EF553B",
          "dash": "solid"
         },
         "marker": {
          "symbol": "circle"
         },
         "mode": "lines",
         "name": "OECD, AIM/CGE V2.2",
         "showlegend": false,
         "type": "scattergl",
         "x": [
          2010,
          2015,
          2020,
          2025,
          2030,
          2035,
          2040,
          2045,
          2050,
          2055,
          2060,
          2065,
          2070,
          2075,
          2080,
          2085,
          2090,
          2095,
          2100
         ],
         "xaxis": "x5",
         "y": [
          13279.6705,
          12551.344099999998,
          12523.829099999999,
          9261.3779,
          6290.584000000001,
          4597.6567,
          3275.9709000000003,
          1186.5711999999999,
          -1223.9005,
          -1515.3545,
          -1537.7133,
          -1429.708,
          -1308.8387,
          -1185.479,
          -1057.1892,
          -940.671,
          -828.1578,
          -723.0384,
          -632.303
         ],
         "yaxis": "y5"
        },
        {
         "customdata": [
          [
           "T34_1000_govem",
           "AIM/CGE V2.2"
          ],
          [
           "T34_1000_govem",
           "AIM/CGE V2.2"
          ],
          [
           "T34_1000_govem",
           "AIM/CGE V2.2"
          ],
          [
           "T34_1000_govem",
           "AIM/CGE V2.2"
          ],
          [
           "T34_1000_govem",
           "AIM/CGE V2.2"
          ],
          [
           "T34_1000_govem",
           "AIM/CGE V2.2"
          ],
          [
           "T34_1000_govem",
           "AIM/CGE V2.2"
          ],
          [
           "T34_1000_govem",
           "AIM/CGE V2.2"
          ],
          [
           "T34_1000_govem",
           "AIM/CGE V2.2"
          ],
          [
           "T34_1000_govem",
           "AIM/CGE V2.2"
          ],
          [
           "T34_1000_govem",
           "AIM/CGE V2.2"
          ],
          [
           "T34_1000_govem",
           "AIM/CGE V2.2"
          ],
          [
           "T34_1000_govem",
           "AIM/CGE V2.2"
          ],
          [
           "T34_1000_govem",
           "AIM/CGE V2.2"
          ],
          [
           "T34_1000_govem",
           "AIM/CGE V2.2"
          ],
          [
           "T34_1000_govem",
           "AIM/CGE V2.2"
          ],
          [
           "T34_1000_govem",
           "AIM/CGE V2.2"
          ],
          [
           "T34_1000_govem",
           "AIM/CGE V2.2"
          ],
          [
           "T34_1000_govem",
           "AIM/CGE V2.2"
          ]
         ],
         "hovertemplate": "region=OECD<br>model=%{customdata[1]}<br>scenario_narrative=Instit<br>year=%{x}<br>Emissions|Kyoto Gases=%{y}<br>scenario=%{customdata[0]}<extra></extra>",
         "legendgroup": "OECD, AIM/CGE V2.2",
         "line": {
          "color": "#EF553B",
          "dash": "solid"
         },
         "marker": {
          "symbol": "circle"
         },
         "mode": "lines",
         "name": "OECD, AIM/CGE V2.2",
         "showlegend": false,
         "type": "scattergl",
         "x": [
          2010,
          2015,
          2020,
          2025,
          2030,
          2035,
          2040,
          2045,
          2050,
          2055,
          2060,
          2065,
          2070,
          2075,
          2080,
          2085,
          2090,
          2095,
          2100
         ],
         "xaxis": "x6",
         "y": [
          13279.6705,
          12551.344099999998,
          12524.9889,
          9721.2444,
          7818.8308,
          6543.1193,
          4694.5665,
          2370.9354999999996,
          280.0263,
          -2064.3144,
          -1899.8772,
          -2186.8916999999997,
          -2413.3197,
          -2581.0753999999997,
          -2690.9316,
          -2694.3268,
          -2706.513,
          -2679.9188999999997,
          -2659.7048
         ],
         "yaxis": "y6"
        },
        {
         "customdata": [
          [
           "T34_1000_ref",
           "AIM/CGE V2.2"
          ],
          [
           "T34_1000_ref",
           "AIM/CGE V2.2"
          ],
          [
           "T34_1000_ref",
           "AIM/CGE V2.2"
          ],
          [
           "T34_1000_ref",
           "AIM/CGE V2.2"
          ],
          [
           "T34_1000_ref",
           "AIM/CGE V2.2"
          ],
          [
           "T34_1000_ref",
           "AIM/CGE V2.2"
          ],
          [
           "T34_1000_ref",
           "AIM/CGE V2.2"
          ],
          [
           "T34_1000_ref",
           "AIM/CGE V2.2"
          ],
          [
           "T34_1000_ref",
           "AIM/CGE V2.2"
          ],
          [
           "T34_1000_ref",
           "AIM/CGE V2.2"
          ],
          [
           "T34_1000_ref",
           "AIM/CGE V2.2"
          ],
          [
           "T34_1000_ref",
           "AIM/CGE V2.2"
          ],
          [
           "T34_1000_ref",
           "AIM/CGE V2.2"
          ],
          [
           "T34_1000_ref",
           "AIM/CGE V2.2"
          ],
          [
           "T34_1000_ref",
           "AIM/CGE V2.2"
          ],
          [
           "T34_1000_ref",
           "AIM/CGE V2.2"
          ],
          [
           "T34_1000_ref",
           "AIM/CGE V2.2"
          ],
          [
           "T34_1000_ref",
           "AIM/CGE V2.2"
          ],
          [
           "T34_1000_ref",
           "AIM/CGE V2.2"
          ]
         ],
         "hovertemplate": "region=OECD<br>model=%{customdata[1]}<br>scenario_narrative=Cost Effective<br>year=%{x}<br>Emissions|Kyoto Gases=%{y}<br>scenario=%{customdata[0]}<extra></extra>",
         "legendgroup": "OECD, AIM/CGE V2.2",
         "line": {
          "color": "#EF553B",
          "dash": "solid"
         },
         "marker": {
          "symbol": "circle"
         },
         "mode": "lines",
         "name": "OECD, AIM/CGE V2.2",
         "showlegend": false,
         "type": "scattergl",
         "x": [
          2010,
          2015,
          2020,
          2025,
          2030,
          2035,
          2040,
          2045,
          2050,
          2055,
          2060,
          2065,
          2070,
          2075,
          2080,
          2085,
          2090,
          2095,
          2100
         ],
         "xaxis": "x",
         "y": [
          13279.6705,
          12551.344099999998,
          12524.9889,
          10523.8178,
          9331.992,
          8673.5656,
          7688.561299999999,
          6372.355,
          4605.4005,
          1332.9495,
          1256.4818,
          1056.8449,
          733.0238,
          365.262,
          143.94939999999997,
          142.216,
          95.89830000000003,
          117.45330000000001,
          109.93739999999997
         ],
         "yaxis": "y"
        },
        {
         "customdata": [
          [
           "T34_1000_ref",
           "COFFEE 1.5"
          ],
          [
           "T34_1000_ref",
           "COFFEE 1.5"
          ],
          [
           "T34_1000_ref",
           "COFFEE 1.5"
          ],
          [
           "T34_1000_ref",
           "COFFEE 1.5"
          ],
          [
           "T34_1000_ref",
           "COFFEE 1.5"
          ],
          [
           "T34_1000_ref",
           "COFFEE 1.5"
          ],
          [
           "T34_1000_ref",
           "COFFEE 1.5"
          ],
          [
           "T34_1000_ref",
           "COFFEE 1.5"
          ],
          [
           "T34_1000_ref",
           "COFFEE 1.5"
          ],
          [
           "T34_1000_ref",
           "COFFEE 1.5"
          ],
          [
           "T34_1000_ref",
           "COFFEE 1.5"
          ],
          [
           "T34_1000_ref",
           "COFFEE 1.5"
          ],
          [
           "T34_1000_ref",
           "COFFEE 1.5"
          ],
          [
           "T34_1000_ref",
           "COFFEE 1.5"
          ]
         ],
         "hovertemplate": "region=OECD<br>model=%{customdata[1]}<br>scenario_narrative=Cost Effective<br>year=%{x}<br>Emissions|Kyoto Gases=%{y}<br>scenario=%{customdata[0]}<extra></extra>",
         "legendgroup": "OECD, COFFEE 1.5",
         "line": {
          "color": "#EF553B",
          "dash": "dot"
         },
         "marker": {
          "symbol": "circle"
         },
         "mode": "lines",
         "name": "OECD, COFFEE 1.5",
         "showlegend": true,
         "type": "scattergl",
         "x": [
          2010,
          2015,
          2020,
          2025,
          2030,
          2035,
          2040,
          2045,
          2050,
          2060,
          2070,
          2080,
          2090,
          2100
         ],
         "xaxis": "x",
         "y": [
          13574.717549687426,
          12986.678490203023,
          13352.076368308277,
          13352.809493214838,
          14934.332719024658,
          10826.011524811664,
          9475.47997322942,
          7719.932037869122,
          7182.83271139566,
          4663.112408757491,
          2018.388656582564,
          -486.8112385941079,
          -1445.3303002253963,
          -1082.4568220614824
         ],
         "yaxis": "y"
        },
        {
         "customdata": [
          [
           "T34_1000_bitb_ref",
           "COFFEE 1.5"
          ],
          [
           "T34_1000_bitb_ref",
           "COFFEE 1.5"
          ],
          [
           "T34_1000_bitb_ref",
           "COFFEE 1.5"
          ],
          [
           "T34_1000_bitb_ref",
           "COFFEE 1.5"
          ],
          [
           "T34_1000_bitb_ref",
           "COFFEE 1.5"
          ],
          [
           "T34_1000_bitb_ref",
           "COFFEE 1.5"
          ],
          [
           "T34_1000_bitb_ref",
           "COFFEE 1.5"
          ],
          [
           "T34_1000_bitb_ref",
           "COFFEE 1.5"
          ],
          [
           "T34_1000_bitb_ref",
           "COFFEE 1.5"
          ],
          [
           "T34_1000_bitb_ref",
           "COFFEE 1.5"
          ],
          [
           "T34_1000_bitb_ref",
           "COFFEE 1.5"
          ],
          [
           "T34_1000_bitb_ref",
           "COFFEE 1.5"
          ],
          [
           "T34_1000_bitb_ref",
           "COFFEE 1.5"
          ],
          [
           "T34_1000_bitb_ref",
           "COFFEE 1.5"
          ]
         ],
         "hovertemplate": "region=OECD<br>model=%{customdata[1]}<br>scenario_narrative=Tech<br>year=%{x}<br>Emissions|Kyoto Gases=%{y}<br>scenario=%{customdata[0]}<extra></extra>",
         "legendgroup": "OECD, COFFEE 1.5",
         "line": {
          "color": "#EF553B",
          "dash": "dot"
         },
         "marker": {
          "symbol": "circle"
         },
         "mode": "lines",
         "name": "OECD, COFFEE 1.5",
         "showlegend": false,
         "type": "scattergl",
         "x": [
          2010,
          2015,
          2020,
          2025,
          2030,
          2035,
          2040,
          2045,
          2050,
          2060,
          2070,
          2080,
          2090,
          2100
         ],
         "xaxis": "x2",
         "y": [
          13574.717549687426,
          12986.678490203023,
          13352.076368308277,
          13130.008825929886,
          14455.310169348957,
          9852.292622806071,
          8923.913134584272,
          6530.3288961936205,
          5619.879415886744,
          3972.644199753856,
          2555.1524421618756,
          1885.7524784498632,
          2138.3118945385513,
          2385.994789810443
         ],
         "yaxis": "y2"
        },
        {
         "customdata": [
          [
           "T34_1000_bitb_em",
           "GEM-E3_V2023"
          ],
          [
           "T34_1000_bitb_em",
           "GEM-E3_V2023"
          ],
          [
           "T34_1000_bitb_em",
           "GEM-E3_V2023"
          ],
          [
           "T34_1000_bitb_em",
           "GEM-E3_V2023"
          ],
          [
           "T34_1000_bitb_em",
           "GEM-E3_V2023"
          ],
          [
           "T34_1000_bitb_em",
           "GEM-E3_V2023"
          ],
          [
           "T34_1000_bitb_em",
           "GEM-E3_V2023"
          ],
          [
           "T34_1000_bitb_em",
           "GEM-E3_V2023"
          ],
          [
           "T34_1000_bitb_em",
           "GEM-E3_V2023"
          ],
          [
           "T34_1000_bitb_em",
           "GEM-E3_V2023"
          ],
          [
           "T34_1000_bitb_em",
           "GEM-E3_V2023"
          ],
          [
           "T34_1000_bitb_em",
           "GEM-E3_V2023"
          ],
          [
           "T34_1000_bitb_em",
           "GEM-E3_V2023"
          ],
          [
           "T34_1000_bitb_em",
           "GEM-E3_V2023"
          ],
          [
           "T34_1000_bitb_em",
           "GEM-E3_V2023"
          ],
          [
           "T34_1000_bitb_em",
           "GEM-E3_V2023"
          ],
          [
           "T34_1000_bitb_em",
           "GEM-E3_V2023"
          ],
          [
           "T34_1000_bitb_em",
           "GEM-E3_V2023"
          ]
         ],
         "hovertemplate": "region=OECD<br>model=%{customdata[1]}<br>scenario_narrative=Tech+Inst<br>year=%{x}<br>Emissions|Kyoto Gases=%{y}<br>scenario=%{customdata[0]}<extra></extra>",
         "legendgroup": "OECD, GEM-E3_V2023",
         "line": {
          "color": "#EF553B",
          "dash": "dash"
         },
         "marker": {
          "symbol": "circle"
         },
         "mode": "lines",
         "name": "OECD, GEM-E3_V2023",
         "showlegend": true,
         "type": "scattergl",
         "x": [
          2015,
          2020,
          2025,
          2030,
          2035,
          2040,
          2045,
          2050,
          2055,
          2060,
          2065,
          2070,
          2075,
          2080,
          2085,
          2090,
          2095,
          2100
         ],
         "xaxis": "x4",
         "y": [
          10871.914925956258,
          9481.220368757702,
          8667.58479321418,
          6906.320692240042,
          4741.542137417419,
          2454.219987855956,
          1070.3364669810767,
          475.20770833158116,
          -341.5531769984003,
          -778.1131615435468,
          -1004.5788508613828,
          -1142.561422069588,
          -1206.3879553993029,
          -990.4761504627947,
          -543.2613553891584,
          -331.06635462570915,
          -155.8080804645188,
          -222.8548358289733
         ],
         "yaxis": "y4"
        },
        {
         "customdata": [
          [
           "T34_1000_feas_em",
           "GEM-E3_V2023"
          ],
          [
           "T34_1000_feas_em",
           "GEM-E3_V2023"
          ],
          [
           "T34_1000_feas_em",
           "GEM-E3_V2023"
          ],
          [
           "T34_1000_feas_em",
           "GEM-E3_V2023"
          ],
          [
           "T34_1000_feas_em",
           "GEM-E3_V2023"
          ],
          [
           "T34_1000_feas_em",
           "GEM-E3_V2023"
          ],
          [
           "T34_1000_feas_em",
           "GEM-E3_V2023"
          ],
          [
           "T34_1000_feas_em",
           "GEM-E3_V2023"
          ],
          [
           "T34_1000_feas_em",
           "GEM-E3_V2023"
          ],
          [
           "T34_1000_feas_em",
           "GEM-E3_V2023"
          ],
          [
           "T34_1000_feas_em",
           "GEM-E3_V2023"
          ],
          [
           "T34_1000_feas_em",
           "GEM-E3_V2023"
          ],
          [
           "T34_1000_feas_em",
           "GEM-E3_V2023"
          ],
          [
           "T34_1000_feas_em",
           "GEM-E3_V2023"
          ],
          [
           "T34_1000_feas_em",
           "GEM-E3_V2023"
          ],
          [
           "T34_1000_feas_em",
           "GEM-E3_V2023"
          ],
          [
           "T34_1000_feas_em",
           "GEM-E3_V2023"
          ],
          [
           "T34_1000_feas_em",
           "GEM-E3_V2023"
          ]
         ],
         "hovertemplate": "region=OECD<br>model=%{customdata[1]}<br>scenario_narrative=Tech+Inst+Enab<br>year=%{x}<br>Emissions|Kyoto Gases=%{y}<br>scenario=%{customdata[0]}<extra></extra>",
         "legendgroup": "OECD, GEM-E3_V2023",
         "line": {
          "color": "#EF553B",
          "dash": "dash"
         },
         "marker": {
          "symbol": "circle"
         },
         "mode": "lines",
         "name": "OECD, GEM-E3_V2023",
         "showlegend": false,
         "type": "scattergl",
         "x": [
          2015,
          2020,
          2025,
          2030,
          2035,
          2040,
          2045,
          2050,
          2055,
          2060,
          2065,
          2070,
          2075,
          2080,
          2085,
          2090,
          2095,
          2100
         ],
         "xaxis": "x5",
         "y": [
          10871.914925956258,
          9481.220368757702,
          8593.664137597822,
          6838.132317551428,
          4551.034541987955,
          2461.010447650264,
          894.3364915533369,
          401.6650367407175,
          -447.56802336962966,
          -776.8687417076827,
          -999.7938168062683,
          -1170.1043436423786,
          -1175.112434267556,
          -1006.1307771121012,
          -419.3318471694503,
          -317.0448719541072,
          -96.61273803190659,
          -214.50950631752295
         ],
         "yaxis": "y5"
        },
        {
         "customdata": [
          [
           "T34_1000_govem",
           "GEM-E3_V2023"
          ],
          [
           "T34_1000_govem",
           "GEM-E3_V2023"
          ],
          [
           "T34_1000_govem",
           "GEM-E3_V2023"
          ],
          [
           "T34_1000_govem",
           "GEM-E3_V2023"
          ],
          [
           "T34_1000_govem",
           "GEM-E3_V2023"
          ],
          [
           "T34_1000_govem",
           "GEM-E3_V2023"
          ],
          [
           "T34_1000_govem",
           "GEM-E3_V2023"
          ],
          [
           "T34_1000_govem",
           "GEM-E3_V2023"
          ],
          [
           "T34_1000_govem",
           "GEM-E3_V2023"
          ],
          [
           "T34_1000_govem",
           "GEM-E3_V2023"
          ],
          [
           "T34_1000_govem",
           "GEM-E3_V2023"
          ],
          [
           "T34_1000_govem",
           "GEM-E3_V2023"
          ],
          [
           "T34_1000_govem",
           "GEM-E3_V2023"
          ],
          [
           "T34_1000_govem",
           "GEM-E3_V2023"
          ],
          [
           "T34_1000_govem",
           "GEM-E3_V2023"
          ],
          [
           "T34_1000_govem",
           "GEM-E3_V2023"
          ],
          [
           "T34_1000_govem",
           "GEM-E3_V2023"
          ],
          [
           "T34_1000_govem",
           "GEM-E3_V2023"
          ]
         ],
         "hovertemplate": "region=OECD<br>model=%{customdata[1]}<br>scenario_narrative=Instit<br>year=%{x}<br>Emissions|Kyoto Gases=%{y}<br>scenario=%{customdata[0]}<extra></extra>",
         "legendgroup": "OECD, GEM-E3_V2023",
         "line": {
          "color": "#EF553B",
          "dash": "dash"
         },
         "marker": {
          "symbol": "circle"
         },
         "mode": "lines",
         "name": "OECD, GEM-E3_V2023",
         "showlegend": false,
         "type": "scattergl",
         "x": [
          2015,
          2020,
          2025,
          2030,
          2035,
          2040,
          2045,
          2050,
          2055,
          2060,
          2065,
          2070,
          2075,
          2080,
          2085,
          2090,
          2095,
          2100
         ],
         "xaxis": "x6",
         "y": [
          10871.914925956258,
          9481.220368757702,
          8767.025019121067,
          7355.253593151925,
          4742.480571524116,
          2678.188205623953,
          1007.6039209337334,
          525.1438135831545,
          -468.8333118407013,
          -1459.4488764269286,
          -1747.3817135877523,
          -1915.7181267499004,
          -2066.009446407632,
          -1554.125198580783,
          -727.5533451705148,
          -586.4396185162262,
          -501.3764870426469,
          -922.190360677412
         ],
         "yaxis": "y6"
        },
        {
         "customdata": [
          [
           "T34_1000_ref",
           "GEM-E3_V2023"
          ],
          [
           "T34_1000_ref",
           "GEM-E3_V2023"
          ],
          [
           "T34_1000_ref",
           "GEM-E3_V2023"
          ],
          [
           "T34_1000_ref",
           "GEM-E3_V2023"
          ],
          [
           "T34_1000_ref",
           "GEM-E3_V2023"
          ],
          [
           "T34_1000_ref",
           "GEM-E3_V2023"
          ],
          [
           "T34_1000_ref",
           "GEM-E3_V2023"
          ],
          [
           "T34_1000_ref",
           "GEM-E3_V2023"
          ],
          [
           "T34_1000_ref",
           "GEM-E3_V2023"
          ],
          [
           "T34_1000_ref",
           "GEM-E3_V2023"
          ],
          [
           "T34_1000_ref",
           "GEM-E3_V2023"
          ],
          [
           "T34_1000_ref",
           "GEM-E3_V2023"
          ],
          [
           "T34_1000_ref",
           "GEM-E3_V2023"
          ],
          [
           "T34_1000_ref",
           "GEM-E3_V2023"
          ],
          [
           "T34_1000_ref",
           "GEM-E3_V2023"
          ],
          [
           "T34_1000_ref",
           "GEM-E3_V2023"
          ],
          [
           "T34_1000_ref",
           "GEM-E3_V2023"
          ],
          [
           "T34_1000_ref",
           "GEM-E3_V2023"
          ]
         ],
         "hovertemplate": "region=OECD<br>model=%{customdata[1]}<br>scenario_narrative=Cost Effective<br>year=%{x}<br>Emissions|Kyoto Gases=%{y}<br>scenario=%{customdata[0]}<extra></extra>",
         "legendgroup": "OECD, GEM-E3_V2023",
         "line": {
          "color": "#EF553B",
          "dash": "dash"
         },
         "marker": {
          "symbol": "circle"
         },
         "mode": "lines",
         "name": "OECD, GEM-E3_V2023",
         "showlegend": false,
         "type": "scattergl",
         "x": [
          2015,
          2020,
          2025,
          2030,
          2035,
          2040,
          2045,
          2050,
          2055,
          2060,
          2065,
          2070,
          2075,
          2080,
          2085,
          2090,
          2095,
          2100
         ],
         "xaxis": "x",
         "y": [
          10871.914925956258,
          9481.220368757702,
          8930.622225023279,
          7949.8059691746175,
          6753.453046517115,
          5799.232016526744,
          4892.8012878397385,
          4072.0287751317082,
          3187.89921834747,
          2247.0900495512333,
          1856.1692883729852,
          1520.7919795636965,
          1484.3055127669495,
          1533.138829260414,
          1609.0148043153908,
          1662.0031677102238,
          1685.3290147601037,
          1668.5773596607044
         ],
         "yaxis": "y"
        },
        {
         "customdata": [
          [
           "T34_1000_bitb_em",
           "IMAGE 3.2"
          ],
          [
           "T34_1000_bitb_em",
           "IMAGE 3.2"
          ],
          [
           "T34_1000_bitb_em",
           "IMAGE 3.2"
          ],
          [
           "T34_1000_bitb_em",
           "IMAGE 3.2"
          ],
          [
           "T34_1000_bitb_em",
           "IMAGE 3.2"
          ],
          [
           "T34_1000_bitb_em",
           "IMAGE 3.2"
          ],
          [
           "T34_1000_bitb_em",
           "IMAGE 3.2"
          ],
          [
           "T34_1000_bitb_em",
           "IMAGE 3.2"
          ],
          [
           "T34_1000_bitb_em",
           "IMAGE 3.2"
          ],
          [
           "T34_1000_bitb_em",
           "IMAGE 3.2"
          ],
          [
           "T34_1000_bitb_em",
           "IMAGE 3.2"
          ],
          [
           "T34_1000_bitb_em",
           "IMAGE 3.2"
          ],
          [
           "T34_1000_bitb_em",
           "IMAGE 3.2"
          ],
          [
           "T34_1000_bitb_em",
           "IMAGE 3.2"
          ],
          [
           "T34_1000_bitb_em",
           "IMAGE 3.2"
          ],
          [
           "T34_1000_bitb_em",
           "IMAGE 3.2"
          ],
          [
           "T34_1000_bitb_em",
           "IMAGE 3.2"
          ],
          [
           "T34_1000_bitb_em",
           "IMAGE 3.2"
          ],
          [
           "T34_1000_bitb_em",
           "IMAGE 3.2"
          ],
          [
           "T34_1000_bitb_em",
           "IMAGE 3.2"
          ]
         ],
         "hovertemplate": "region=OECD<br>model=%{customdata[1]}<br>scenario_narrative=Tech+Inst<br>year=%{x}<br>Emissions|Kyoto Gases=%{y}<br>scenario=%{customdata[0]}<extra></extra>",
         "legendgroup": "OECD, IMAGE 3.2",
         "line": {
          "color": "#EF553B",
          "dash": "longdash"
         },
         "marker": {
          "symbol": "circle"
         },
         "mode": "lines",
         "name": "OECD, IMAGE 3.2",
         "showlegend": true,
         "type": "scattergl",
         "x": [
          2005,
          2010,
          2015,
          2020,
          2025,
          2030,
          2035,
          2040,
          2045,
          2050,
          2055,
          2060,
          2065,
          2070,
          2075,
          2080,
          2085,
          2090,
          2095,
          2100
         ],
         "xaxis": "x4",
         "y": [
          13593.864929199219,
          13221.207550048828,
          12751.902709960938,
          11908.013000488281,
          9074.651184082031,
          6443.767303466797,
          5158.971740722656,
          4647.105163574219,
          3672.8202514648438,
          2921.788055419922,
          2318.4965057373047,
          2124.92626953125,
          1822.7044067382812,
          1844.2926788330078,
          1494.7307052612305,
          1495.1425476074219,
          1217.68505859375,
          1322.2888107299805,
          1249.1246814727783,
          1323.7562637329102
         ],
         "yaxis": "y4"
        },
        {
         "customdata": [
          [
           "T34_1000_feas_em",
           "IMAGE 3.2"
          ],
          [
           "T34_1000_feas_em",
           "IMAGE 3.2"
          ],
          [
           "T34_1000_feas_em",
           "IMAGE 3.2"
          ],
          [
           "T34_1000_feas_em",
           "IMAGE 3.2"
          ],
          [
           "T34_1000_feas_em",
           "IMAGE 3.2"
          ],
          [
           "T34_1000_feas_em",
           "IMAGE 3.2"
          ],
          [
           "T34_1000_feas_em",
           "IMAGE 3.2"
          ],
          [
           "T34_1000_feas_em",
           "IMAGE 3.2"
          ],
          [
           "T34_1000_feas_em",
           "IMAGE 3.2"
          ],
          [
           "T34_1000_feas_em",
           "IMAGE 3.2"
          ],
          [
           "T34_1000_feas_em",
           "IMAGE 3.2"
          ],
          [
           "T34_1000_feas_em",
           "IMAGE 3.2"
          ],
          [
           "T34_1000_feas_em",
           "IMAGE 3.2"
          ],
          [
           "T34_1000_feas_em",
           "IMAGE 3.2"
          ],
          [
           "T34_1000_feas_em",
           "IMAGE 3.2"
          ],
          [
           "T34_1000_feas_em",
           "IMAGE 3.2"
          ],
          [
           "T34_1000_feas_em",
           "IMAGE 3.2"
          ],
          [
           "T34_1000_feas_em",
           "IMAGE 3.2"
          ],
          [
           "T34_1000_feas_em",
           "IMAGE 3.2"
          ],
          [
           "T34_1000_feas_em",
           "IMAGE 3.2"
          ]
         ],
         "hovertemplate": "region=OECD<br>model=%{customdata[1]}<br>scenario_narrative=Tech+Inst+Enab<br>year=%{x}<br>Emissions|Kyoto Gases=%{y}<br>scenario=%{customdata[0]}<extra></extra>",
         "legendgroup": "OECD, IMAGE 3.2",
         "line": {
          "color": "#EF553B",
          "dash": "longdash"
         },
         "marker": {
          "symbol": "circle"
         },
         "mode": "lines",
         "name": "OECD, IMAGE 3.2",
         "showlegend": false,
         "type": "scattergl",
         "x": [
          2005,
          2010,
          2015,
          2020,
          2025,
          2030,
          2035,
          2040,
          2045,
          2050,
          2055,
          2060,
          2065,
          2070,
          2075,
          2080,
          2085,
          2090,
          2095,
          2100
         ],
         "xaxis": "x5",
         "y": [
          13593.864929199219,
          13221.198333740234,
          12751.882995605469,
          11873.044921875,
          8873.333557128906,
          6571.272399902344,
          5361.055389404297,
          4683.178375244141,
          3746.3670959472656,
          3075.438934326172,
          2219.0470275878906,
          1647.2178649902344,
          1136.7731246948242,
          907.6305694580078,
          519.5635223388672,
          558.8050384521484,
          414.604079246521,
          263.78584146499634,
          273.4765386581421,
          464.40230560302734
         ],
         "yaxis": "y5"
        },
        {
         "customdata": [
          [
           "T34_1000_govem",
           "IMAGE 3.2"
          ],
          [
           "T34_1000_govem",
           "IMAGE 3.2"
          ],
          [
           "T34_1000_govem",
           "IMAGE 3.2"
          ],
          [
           "T34_1000_govem",
           "IMAGE 3.2"
          ],
          [
           "T34_1000_govem",
           "IMAGE 3.2"
          ],
          [
           "T34_1000_govem",
           "IMAGE 3.2"
          ],
          [
           "T34_1000_govem",
           "IMAGE 3.2"
          ],
          [
           "T34_1000_govem",
           "IMAGE 3.2"
          ],
          [
           "T34_1000_govem",
           "IMAGE 3.2"
          ],
          [
           "T34_1000_govem",
           "IMAGE 3.2"
          ],
          [
           "T34_1000_govem",
           "IMAGE 3.2"
          ],
          [
           "T34_1000_govem",
           "IMAGE 3.2"
          ],
          [
           "T34_1000_govem",
           "IMAGE 3.2"
          ],
          [
           "T34_1000_govem",
           "IMAGE 3.2"
          ],
          [
           "T34_1000_govem",
           "IMAGE 3.2"
          ],
          [
           "T34_1000_govem",
           "IMAGE 3.2"
          ],
          [
           "T34_1000_govem",
           "IMAGE 3.2"
          ],
          [
           "T34_1000_govem",
           "IMAGE 3.2"
          ],
          [
           "T34_1000_govem",
           "IMAGE 3.2"
          ],
          [
           "T34_1000_govem",
           "IMAGE 3.2"
          ]
         ],
         "hovertemplate": "region=OECD<br>model=%{customdata[1]}<br>scenario_narrative=Instit<br>year=%{x}<br>Emissions|Kyoto Gases=%{y}<br>scenario=%{customdata[0]}<extra></extra>",
         "legendgroup": "OECD, IMAGE 3.2",
         "line": {
          "color": "#EF553B",
          "dash": "longdash"
         },
         "marker": {
          "symbol": "circle"
         },
         "mode": "lines",
         "name": "OECD, IMAGE 3.2",
         "showlegend": false,
         "type": "scattergl",
         "x": [
          2005,
          2010,
          2015,
          2020,
          2025,
          2030,
          2035,
          2040,
          2045,
          2050,
          2055,
          2060,
          2065,
          2070,
          2075,
          2080,
          2085,
          2090,
          2095,
          2100
         ],
         "xaxis": "x6",
         "y": [
          13593.864929199219,
          13221.207550048828,
          12715.07568359375,
          11715.6962890625,
          9369.043029785156,
          6989.303649902344,
          5429.638671875,
          4214.2567138671875,
          3116.109573364258,
          2411.4544372558594,
          1797.6975860595703,
          1703.1535339355469,
          1494.9908599853516,
          1419.9946975708008,
          1416.6006774902344,
          1683.7167663574219,
          1596.2085266113281,
          1807.5955810546875,
          1561.0283432006836,
          1518.8236846923828
         ],
         "yaxis": "y6"
        },
        {
         "customdata": [
          [
           "T34_1000_ref",
           "IMAGE 3.2"
          ],
          [
           "T34_1000_ref",
           "IMAGE 3.2"
          ],
          [
           "T34_1000_ref",
           "IMAGE 3.2"
          ],
          [
           "T34_1000_ref",
           "IMAGE 3.2"
          ],
          [
           "T34_1000_ref",
           "IMAGE 3.2"
          ],
          [
           "T34_1000_ref",
           "IMAGE 3.2"
          ],
          [
           "T34_1000_ref",
           "IMAGE 3.2"
          ],
          [
           "T34_1000_ref",
           "IMAGE 3.2"
          ],
          [
           "T34_1000_ref",
           "IMAGE 3.2"
          ],
          [
           "T34_1000_ref",
           "IMAGE 3.2"
          ],
          [
           "T34_1000_ref",
           "IMAGE 3.2"
          ],
          [
           "T34_1000_ref",
           "IMAGE 3.2"
          ],
          [
           "T34_1000_ref",
           "IMAGE 3.2"
          ],
          [
           "T34_1000_ref",
           "IMAGE 3.2"
          ],
          [
           "T34_1000_ref",
           "IMAGE 3.2"
          ],
          [
           "T34_1000_ref",
           "IMAGE 3.2"
          ],
          [
           "T34_1000_ref",
           "IMAGE 3.2"
          ],
          [
           "T34_1000_ref",
           "IMAGE 3.2"
          ],
          [
           "T34_1000_ref",
           "IMAGE 3.2"
          ],
          [
           "T34_1000_ref",
           "IMAGE 3.2"
          ]
         ],
         "hovertemplate": "region=OECD<br>model=%{customdata[1]}<br>scenario_narrative=Cost Effective<br>year=%{x}<br>Emissions|Kyoto Gases=%{y}<br>scenario=%{customdata[0]}<extra></extra>",
         "legendgroup": "OECD, IMAGE 3.2",
         "line": {
          "color": "#EF553B",
          "dash": "longdash"
         },
         "marker": {
          "symbol": "circle"
         },
         "mode": "lines",
         "name": "OECD, IMAGE 3.2",
         "showlegend": false,
         "type": "scattergl",
         "x": [
          2005,
          2010,
          2015,
          2020,
          2025,
          2030,
          2035,
          2040,
          2045,
          2050,
          2055,
          2060,
          2065,
          2070,
          2075,
          2080,
          2085,
          2090,
          2095,
          2100
         ],
         "xaxis": "x",
         "y": [
          13593.864929199219,
          13221.207550048828,
          12715.07568359375,
          11715.6962890625,
          9823.292053222656,
          7595.433654785156,
          6065.062072753906,
          5019.622650146484,
          3987.3609008789062,
          3575.3983459472656,
          3066.8495330810547,
          2943.6424102783203,
          2549.77490234375,
          2396.3304290771484,
          2116.282485961914,
          2306.904006958008,
          2281.3463745117188,
          2546.6170959472656,
          2465.3120880126953,
          2580.5741119384766
         ],
         "yaxis": "y"
        },
        {
         "customdata": [
          [
           "T34_1000_bitb_ref",
           "IMAGE 3.2"
          ],
          [
           "T34_1000_bitb_ref",
           "IMAGE 3.2"
          ],
          [
           "T34_1000_bitb_ref",
           "IMAGE 3.2"
          ],
          [
           "T34_1000_bitb_ref",
           "IMAGE 3.2"
          ],
          [
           "T34_1000_bitb_ref",
           "IMAGE 3.2"
          ],
          [
           "T34_1000_bitb_ref",
           "IMAGE 3.2"
          ],
          [
           "T34_1000_bitb_ref",
           "IMAGE 3.2"
          ],
          [
           "T34_1000_bitb_ref",
           "IMAGE 3.2"
          ],
          [
           "T34_1000_bitb_ref",
           "IMAGE 3.2"
          ],
          [
           "T34_1000_bitb_ref",
           "IMAGE 3.2"
          ],
          [
           "T34_1000_bitb_ref",
           "IMAGE 3.2"
          ],
          [
           "T34_1000_bitb_ref",
           "IMAGE 3.2"
          ],
          [
           "T34_1000_bitb_ref",
           "IMAGE 3.2"
          ],
          [
           "T34_1000_bitb_ref",
           "IMAGE 3.2"
          ],
          [
           "T34_1000_bitb_ref",
           "IMAGE 3.2"
          ],
          [
           "T34_1000_bitb_ref",
           "IMAGE 3.2"
          ],
          [
           "T34_1000_bitb_ref",
           "IMAGE 3.2"
          ],
          [
           "T34_1000_bitb_ref",
           "IMAGE 3.2"
          ],
          [
           "T34_1000_bitb_ref",
           "IMAGE 3.2"
          ],
          [
           "T34_1000_bitb_ref",
           "IMAGE 3.2"
          ]
         ],
         "hovertemplate": "region=OECD<br>model=%{customdata[1]}<br>scenario_narrative=Tech<br>year=%{x}<br>Emissions|Kyoto Gases=%{y}<br>scenario=%{customdata[0]}<extra></extra>",
         "legendgroup": "OECD, IMAGE 3.2",
         "line": {
          "color": "#EF553B",
          "dash": "longdash"
         },
         "marker": {
          "symbol": "circle"
         },
         "mode": "lines",
         "name": "OECD, IMAGE 3.2",
         "showlegend": false,
         "type": "scattergl",
         "x": [
          2005,
          2010,
          2015,
          2020,
          2025,
          2030,
          2035,
          2040,
          2045,
          2050,
          2055,
          2060,
          2065,
          2070,
          2075,
          2080,
          2085,
          2090,
          2095,
          2100
         ],
         "xaxis": "x2",
         "y": [
          13593.864929199219,
          13221.207550048828,
          12751.902709960938,
          11908.013000488281,
          9364.464904785156,
          6953.1826171875,
          5634.310272216797,
          5198.027313232422,
          4263.7178955078125,
          3595.87841796875,
          3049.8204345703125,
          2837.5106048583984,
          2436.868408203125,
          2410.3597412109375,
          2044.3306579589844,
          1917.8097229003906,
          1613.2451553344727,
          1631.4750518798828,
          1479.3100242614746,
          1577.4389877319336
         ],
         "yaxis": "y2"
        },
        {
         "customdata": [
          [
           "T34_1000_bitb_em",
           "MESSAGEix-GLOBIOM_1.1"
          ],
          [
           "T34_1000_bitb_em",
           "MESSAGEix-GLOBIOM_1.1"
          ],
          [
           "T34_1000_bitb_em",
           "MESSAGEix-GLOBIOM_1.1"
          ],
          [
           "T34_1000_bitb_em",
           "MESSAGEix-GLOBIOM_1.1"
          ],
          [
           "T34_1000_bitb_em",
           "MESSAGEix-GLOBIOM_1.1"
          ],
          [
           "T34_1000_bitb_em",
           "MESSAGEix-GLOBIOM_1.1"
          ],
          [
           "T34_1000_bitb_em",
           "MESSAGEix-GLOBIOM_1.1"
          ],
          [
           "T34_1000_bitb_em",
           "MESSAGEix-GLOBIOM_1.1"
          ],
          [
           "T34_1000_bitb_em",
           "MESSAGEix-GLOBIOM_1.1"
          ],
          [
           "T34_1000_bitb_em",
           "MESSAGEix-GLOBIOM_1.1"
          ],
          [
           "T34_1000_bitb_em",
           "MESSAGEix-GLOBIOM_1.1"
          ],
          [
           "T34_1000_bitb_em",
           "MESSAGEix-GLOBIOM_1.1"
          ],
          [
           "T34_1000_bitb_em",
           "MESSAGEix-GLOBIOM_1.1"
          ],
          [
           "T34_1000_bitb_em",
           "MESSAGEix-GLOBIOM_1.1"
          ],
          [
           "T34_1000_bitb_em",
           "MESSAGEix-GLOBIOM_1.1"
          ],
          [
           "T34_1000_bitb_em",
           "MESSAGEix-GLOBIOM_1.1"
          ],
          [
           "T34_1000_bitb_em",
           "MESSAGEix-GLOBIOM_1.1"
          ],
          [
           "T34_1000_bitb_em",
           "MESSAGEix-GLOBIOM_1.1"
          ],
          [
           "T34_1000_bitb_em",
           "MESSAGEix-GLOBIOM_1.1"
          ],
          [
           "T34_1000_bitb_em",
           "MESSAGEix-GLOBIOM_1.1"
          ]
         ],
         "hovertemplate": "region=OECD<br>model=%{customdata[1]}<br>scenario_narrative=Tech+Inst<br>year=%{x}<br>Emissions|Kyoto Gases=%{y}<br>scenario=%{customdata[0]}<extra></extra>",
         "legendgroup": "OECD, MESSAGEix-GLOBIOM_1.1",
         "line": {
          "color": "#EF553B",
          "dash": "dashdot"
         },
         "marker": {
          "symbol": "circle"
         },
         "mode": "lines",
         "name": "OECD, MESSAGEix-GLOBIOM_1.1",
         "showlegend": true,
         "type": "scattergl",
         "x": [
          1990,
          1995,
          2000,
          2005,
          2010,
          2015,
          2020,
          2025,
          2030,
          2035,
          2040,
          2045,
          2050,
          2055,
          2060,
          2070,
          2080,
          2090,
          2100,
          2110
         ],
         "xaxis": "x4",
         "y": [
          13410.454668333334,
          13811.994669333333,
          14319.145588333333,
          14985.560541666668,
          13860.313440333333,
          13064.650746233332,
          12705.823091100989,
          10492.0569422285,
          7479.76337326776,
          5211.856228344856,
          3459.557500566756,
          2082.9945168018676,
          1112.778062797118,
          418.4188449753325,
          -312.6518985894999,
          -2275.7255024822343,
          -4587.9619310517755,
          -4901.355191048992,
          -4961.408020685718,
          -4920.26458390936
         ],
         "yaxis": "y4"
        },
        {
         "customdata": [
          [
           "T34_1000_feas_em",
           "MESSAGEix-GLOBIOM_1.1"
          ],
          [
           "T34_1000_feas_em",
           "MESSAGEix-GLOBIOM_1.1"
          ],
          [
           "T34_1000_feas_em",
           "MESSAGEix-GLOBIOM_1.1"
          ],
          [
           "T34_1000_feas_em",
           "MESSAGEix-GLOBIOM_1.1"
          ],
          [
           "T34_1000_feas_em",
           "MESSAGEix-GLOBIOM_1.1"
          ],
          [
           "T34_1000_feas_em",
           "MESSAGEix-GLOBIOM_1.1"
          ],
          [
           "T34_1000_feas_em",
           "MESSAGEix-GLOBIOM_1.1"
          ],
          [
           "T34_1000_feas_em",
           "MESSAGEix-GLOBIOM_1.1"
          ],
          [
           "T34_1000_feas_em",
           "MESSAGEix-GLOBIOM_1.1"
          ],
          [
           "T34_1000_feas_em",
           "MESSAGEix-GLOBIOM_1.1"
          ],
          [
           "T34_1000_feas_em",
           "MESSAGEix-GLOBIOM_1.1"
          ],
          [
           "T34_1000_feas_em",
           "MESSAGEix-GLOBIOM_1.1"
          ],
          [
           "T34_1000_feas_em",
           "MESSAGEix-GLOBIOM_1.1"
          ],
          [
           "T34_1000_feas_em",
           "MESSAGEix-GLOBIOM_1.1"
          ],
          [
           "T34_1000_feas_em",
           "MESSAGEix-GLOBIOM_1.1"
          ],
          [
           "T34_1000_feas_em",
           "MESSAGEix-GLOBIOM_1.1"
          ],
          [
           "T34_1000_feas_em",
           "MESSAGEix-GLOBIOM_1.1"
          ],
          [
           "T34_1000_feas_em",
           "MESSAGEix-GLOBIOM_1.1"
          ],
          [
           "T34_1000_feas_em",
           "MESSAGEix-GLOBIOM_1.1"
          ],
          [
           "T34_1000_feas_em",
           "MESSAGEix-GLOBIOM_1.1"
          ]
         ],
         "hovertemplate": "region=OECD<br>model=%{customdata[1]}<br>scenario_narrative=Tech+Inst+Enab<br>year=%{x}<br>Emissions|Kyoto Gases=%{y}<br>scenario=%{customdata[0]}<extra></extra>",
         "legendgroup": "OECD, MESSAGEix-GLOBIOM_1.1",
         "line": {
          "color": "#EF553B",
          "dash": "dashdot"
         },
         "marker": {
          "symbol": "circle"
         },
         "mode": "lines",
         "name": "OECD, MESSAGEix-GLOBIOM_1.1",
         "showlegend": false,
         "type": "scattergl",
         "x": [
          1990,
          1995,
          2000,
          2005,
          2010,
          2015,
          2020,
          2025,
          2030,
          2035,
          2040,
          2045,
          2050,
          2055,
          2060,
          2070,
          2080,
          2090,
          2100,
          2110
         ],
         "xaxis": "x5",
         "y": [
          13410.454668333334,
          13811.994669333333,
          14319.145588333333,
          14985.560541666668,
          13860.313440333333,
          13064.650746233332,
          12705.823091100989,
          10492.0569422285,
          8669.38089638187,
          6608.50210932902,
          4786.881909313291,
          3037.89684787316,
          1756.0472652611825,
          808.3613507744201,
          -18.56745473366894,
          -1723.6280256588689,
          -2846.053858458612,
          -3240.463981891091,
          -3811.732657240325,
          -3944.607428501341
         ],
         "yaxis": "y5"
        },
        {
         "customdata": [
          [
           "T34_1000_govem",
           "MESSAGEix-GLOBIOM_1.1"
          ],
          [
           "T34_1000_govem",
           "MESSAGEix-GLOBIOM_1.1"
          ],
          [
           "T34_1000_govem",
           "MESSAGEix-GLOBIOM_1.1"
          ],
          [
           "T34_1000_govem",
           "MESSAGEix-GLOBIOM_1.1"
          ],
          [
           "T34_1000_govem",
           "MESSAGEix-GLOBIOM_1.1"
          ],
          [
           "T34_1000_govem",
           "MESSAGEix-GLOBIOM_1.1"
          ],
          [
           "T34_1000_govem",
           "MESSAGEix-GLOBIOM_1.1"
          ],
          [
           "T34_1000_govem",
           "MESSAGEix-GLOBIOM_1.1"
          ],
          [
           "T34_1000_govem",
           "MESSAGEix-GLOBIOM_1.1"
          ],
          [
           "T34_1000_govem",
           "MESSAGEix-GLOBIOM_1.1"
          ],
          [
           "T34_1000_govem",
           "MESSAGEix-GLOBIOM_1.1"
          ],
          [
           "T34_1000_govem",
           "MESSAGEix-GLOBIOM_1.1"
          ],
          [
           "T34_1000_govem",
           "MESSAGEix-GLOBIOM_1.1"
          ],
          [
           "T34_1000_govem",
           "MESSAGEix-GLOBIOM_1.1"
          ],
          [
           "T34_1000_govem",
           "MESSAGEix-GLOBIOM_1.1"
          ],
          [
           "T34_1000_govem",
           "MESSAGEix-GLOBIOM_1.1"
          ],
          [
           "T34_1000_govem",
           "MESSAGEix-GLOBIOM_1.1"
          ],
          [
           "T34_1000_govem",
           "MESSAGEix-GLOBIOM_1.1"
          ],
          [
           "T34_1000_govem",
           "MESSAGEix-GLOBIOM_1.1"
          ],
          [
           "T34_1000_govem",
           "MESSAGEix-GLOBIOM_1.1"
          ]
         ],
         "hovertemplate": "region=OECD<br>model=%{customdata[1]}<br>scenario_narrative=Instit<br>year=%{x}<br>Emissions|Kyoto Gases=%{y}<br>scenario=%{customdata[0]}<extra></extra>",
         "legendgroup": "OECD, MESSAGEix-GLOBIOM_1.1",
         "line": {
          "color": "#EF553B",
          "dash": "dashdot"
         },
         "marker": {
          "symbol": "circle"
         },
         "mode": "lines",
         "name": "OECD, MESSAGEix-GLOBIOM_1.1",
         "showlegend": false,
         "type": "scattergl",
         "x": [
          1990,
          1995,
          2000,
          2005,
          2010,
          2015,
          2020,
          2025,
          2030,
          2035,
          2040,
          2045,
          2050,
          2055,
          2060,
          2070,
          2080,
          2090,
          2100,
          2110
         ],
         "xaxis": "x6",
         "y": [
          13410.454668333334,
          13811.994669333333,
          14319.145588333333,
          14985.560541666668,
          13860.313440333333,
          13064.650746233332,
          12705.823091100989,
          10492.0569422285,
          7550.571078436915,
          5332.673454647835,
          3594.681324835438,
          2167.131311929425,
          1191.7654827252204,
          486.52098879124526,
          -220.85471944269503,
          -2123.0481762003424,
          -4722.005349464405,
          -5664.530039050449,
          -6112.7138436245405,
          -6009.994705869812
         ],
         "yaxis": "y6"
        },
        {
         "customdata": [
          [
           "T34_1000_ref",
           "MESSAGEix-GLOBIOM_1.1"
          ],
          [
           "T34_1000_ref",
           "MESSAGEix-GLOBIOM_1.1"
          ],
          [
           "T34_1000_ref",
           "MESSAGEix-GLOBIOM_1.1"
          ],
          [
           "T34_1000_ref",
           "MESSAGEix-GLOBIOM_1.1"
          ],
          [
           "T34_1000_ref",
           "MESSAGEix-GLOBIOM_1.1"
          ],
          [
           "T34_1000_ref",
           "MESSAGEix-GLOBIOM_1.1"
          ],
          [
           "T34_1000_ref",
           "MESSAGEix-GLOBIOM_1.1"
          ],
          [
           "T34_1000_ref",
           "MESSAGEix-GLOBIOM_1.1"
          ],
          [
           "T34_1000_ref",
           "MESSAGEix-GLOBIOM_1.1"
          ],
          [
           "T34_1000_ref",
           "MESSAGEix-GLOBIOM_1.1"
          ],
          [
           "T34_1000_ref",
           "MESSAGEix-GLOBIOM_1.1"
          ],
          [
           "T34_1000_ref",
           "MESSAGEix-GLOBIOM_1.1"
          ],
          [
           "T34_1000_ref",
           "MESSAGEix-GLOBIOM_1.1"
          ],
          [
           "T34_1000_ref",
           "MESSAGEix-GLOBIOM_1.1"
          ],
          [
           "T34_1000_ref",
           "MESSAGEix-GLOBIOM_1.1"
          ],
          [
           "T34_1000_ref",
           "MESSAGEix-GLOBIOM_1.1"
          ],
          [
           "T34_1000_ref",
           "MESSAGEix-GLOBIOM_1.1"
          ],
          [
           "T34_1000_ref",
           "MESSAGEix-GLOBIOM_1.1"
          ],
          [
           "T34_1000_ref",
           "MESSAGEix-GLOBIOM_1.1"
          ],
          [
           "T34_1000_ref",
           "MESSAGEix-GLOBIOM_1.1"
          ]
         ],
         "hovertemplate": "region=OECD<br>model=%{customdata[1]}<br>scenario_narrative=Cost Effective<br>year=%{x}<br>Emissions|Kyoto Gases=%{y}<br>scenario=%{customdata[0]}<extra></extra>",
         "legendgroup": "OECD, MESSAGEix-GLOBIOM_1.1",
         "line": {
          "color": "#EF553B",
          "dash": "dashdot"
         },
         "marker": {
          "symbol": "circle"
         },
         "mode": "lines",
         "name": "OECD, MESSAGEix-GLOBIOM_1.1",
         "showlegend": false,
         "type": "scattergl",
         "x": [
          1990,
          1995,
          2000,
          2005,
          2010,
          2015,
          2020,
          2025,
          2030,
          2035,
          2040,
          2045,
          2050,
          2055,
          2060,
          2070,
          2080,
          2090,
          2100,
          2110
         ],
         "xaxis": "x",
         "y": [
          13410.454668333334,
          13811.994669333333,
          14319.145588333333,
          14985.560541666668,
          13860.313440333333,
          13064.650746233332,
          12705.823091100989,
          10492.0569422285,
          9331.486420997913,
          8330.40012150618,
          7002.362877371632,
          5322.4624574061,
          3920.05358761145,
          2621.10700950327,
          1932.8509893410903,
          605.9687717014126,
          690.8294851332586,
          991.5127847205715,
          970.4021512632797,
          894.0143656326928
         ],
         "yaxis": "y"
        },
        {
         "customdata": [
          [
           "T34_1000_bitb_ref",
           "MESSAGEix-GLOBIOM_1.1"
          ],
          [
           "T34_1000_bitb_ref",
           "MESSAGEix-GLOBIOM_1.1"
          ],
          [
           "T34_1000_bitb_ref",
           "MESSAGEix-GLOBIOM_1.1"
          ],
          [
           "T34_1000_bitb_ref",
           "MESSAGEix-GLOBIOM_1.1"
          ],
          [
           "T34_1000_bitb_ref",
           "MESSAGEix-GLOBIOM_1.1"
          ],
          [
           "T34_1000_bitb_ref",
           "MESSAGEix-GLOBIOM_1.1"
          ],
          [
           "T34_1000_bitb_ref",
           "MESSAGEix-GLOBIOM_1.1"
          ],
          [
           "T34_1000_bitb_ref",
           "MESSAGEix-GLOBIOM_1.1"
          ],
          [
           "T34_1000_bitb_ref",
           "MESSAGEix-GLOBIOM_1.1"
          ],
          [
           "T34_1000_bitb_ref",
           "MESSAGEix-GLOBIOM_1.1"
          ],
          [
           "T34_1000_bitb_ref",
           "MESSAGEix-GLOBIOM_1.1"
          ],
          [
           "T34_1000_bitb_ref",
           "MESSAGEix-GLOBIOM_1.1"
          ],
          [
           "T34_1000_bitb_ref",
           "MESSAGEix-GLOBIOM_1.1"
          ],
          [
           "T34_1000_bitb_ref",
           "MESSAGEix-GLOBIOM_1.1"
          ],
          [
           "T34_1000_bitb_ref",
           "MESSAGEix-GLOBIOM_1.1"
          ],
          [
           "T34_1000_bitb_ref",
           "MESSAGEix-GLOBIOM_1.1"
          ],
          [
           "T34_1000_bitb_ref",
           "MESSAGEix-GLOBIOM_1.1"
          ],
          [
           "T34_1000_bitb_ref",
           "MESSAGEix-GLOBIOM_1.1"
          ],
          [
           "T34_1000_bitb_ref",
           "MESSAGEix-GLOBIOM_1.1"
          ],
          [
           "T34_1000_bitb_ref",
           "MESSAGEix-GLOBIOM_1.1"
          ]
         ],
         "hovertemplate": "region=OECD<br>model=%{customdata[1]}<br>scenario_narrative=Tech<br>year=%{x}<br>Emissions|Kyoto Gases=%{y}<br>scenario=%{customdata[0]}<extra></extra>",
         "legendgroup": "OECD, MESSAGEix-GLOBIOM_1.1",
         "line": {
          "color": "#EF553B",
          "dash": "dashdot"
         },
         "marker": {
          "symbol": "circle"
         },
         "mode": "lines",
         "name": "OECD, MESSAGEix-GLOBIOM_1.1",
         "showlegend": false,
         "type": "scattergl",
         "x": [
          1990,
          1995,
          2000,
          2005,
          2010,
          2015,
          2020,
          2025,
          2030,
          2035,
          2040,
          2045,
          2050,
          2055,
          2060,
          2070,
          2080,
          2090,
          2100,
          2110
         ],
         "xaxis": "x2",
         "y": [
          13410.454668333334,
          13811.994669333333,
          14319.145588333333,
          14985.560541666668,
          13860.313440333333,
          13064.650746233332,
          12705.823091100989,
          10492.0569422285,
          9282.202949026545,
          8314.5921397594,
          6966.108112487107,
          5255.330611911965,
          3809.4556779441955,
          2620.2071176689196,
          2035.8903120477835,
          594.5577253518818,
          848.392174422557,
          1036.1967267984396,
          1048.2308332574207,
          1019.5681865405288
         ],
         "yaxis": "y2"
        },
        {
         "customdata": [
          [
           "T34_1000_enab_em",
           "MESSAGEix-GLOBIOM_1.1"
          ],
          [
           "T34_1000_enab_em",
           "MESSAGEix-GLOBIOM_1.1"
          ],
          [
           "T34_1000_enab_em",
           "MESSAGEix-GLOBIOM_1.1"
          ],
          [
           "T34_1000_enab_em",
           "MESSAGEix-GLOBIOM_1.1"
          ],
          [
           "T34_1000_enab_em",
           "MESSAGEix-GLOBIOM_1.1"
          ],
          [
           "T34_1000_enab_em",
           "MESSAGEix-GLOBIOM_1.1"
          ],
          [
           "T34_1000_enab_em",
           "MESSAGEix-GLOBIOM_1.1"
          ],
          [
           "T34_1000_enab_em",
           "MESSAGEix-GLOBIOM_1.1"
          ],
          [
           "T34_1000_enab_em",
           "MESSAGEix-GLOBIOM_1.1"
          ],
          [
           "T34_1000_enab_em",
           "MESSAGEix-GLOBIOM_1.1"
          ],
          [
           "T34_1000_enab_em",
           "MESSAGEix-GLOBIOM_1.1"
          ],
          [
           "T34_1000_enab_em",
           "MESSAGEix-GLOBIOM_1.1"
          ],
          [
           "T34_1000_enab_em",
           "MESSAGEix-GLOBIOM_1.1"
          ],
          [
           "T34_1000_enab_em",
           "MESSAGEix-GLOBIOM_1.1"
          ],
          [
           "T34_1000_enab_em",
           "MESSAGEix-GLOBIOM_1.1"
          ],
          [
           "T34_1000_enab_em",
           "MESSAGEix-GLOBIOM_1.1"
          ],
          [
           "T34_1000_enab_em",
           "MESSAGEix-GLOBIOM_1.1"
          ],
          [
           "T34_1000_enab_em",
           "MESSAGEix-GLOBIOM_1.1"
          ],
          [
           "T34_1000_enab_em",
           "MESSAGEix-GLOBIOM_1.1"
          ],
          [
           "T34_1000_enab_em",
           "MESSAGEix-GLOBIOM_1.1"
          ]
         ],
         "hovertemplate": "region=OECD<br>model=%{customdata[1]}<br>scenario_narrative=Inst+Enab<br>year=%{x}<br>Emissions|Kyoto Gases=%{y}<br>scenario=%{customdata[0]}<extra></extra>",
         "legendgroup": "OECD, MESSAGEix-GLOBIOM_1.1",
         "line": {
          "color": "#EF553B",
          "dash": "dashdot"
         },
         "marker": {
          "symbol": "circle"
         },
         "mode": "lines",
         "name": "OECD, MESSAGEix-GLOBIOM_1.1",
         "showlegend": false,
         "type": "scattergl",
         "x": [
          1990,
          1995,
          2000,
          2005,
          2010,
          2015,
          2020,
          2025,
          2030,
          2035,
          2040,
          2045,
          2050,
          2055,
          2060,
          2070,
          2080,
          2090,
          2100,
          2110
         ],
         "xaxis": "x3",
         "y": [
          13410.454668333334,
          13811.994669333333,
          14319.145588333333,
          14985.560541666668,
          13860.313440333333,
          13064.650746233332,
          12705.823091100989,
          10492.0569422285,
          8595.247668595777,
          6551.132228646628,
          4742.376207846299,
          3000.27350292318,
          1758.64060476949,
          803.5264484555375,
          -26.219233690622133,
          -1728.0116280726106,
          -2842.194358262943,
          -3223.939544260465,
          -3916.5445838542587,
          -4012.908836258913
         ],
         "yaxis": "y3"
        },
        {
         "customdata": [
          [
           "T34_1000_bitb_em",
           "POLES ENGAGE"
          ],
          [
           "T34_1000_bitb_em",
           "POLES ENGAGE"
          ],
          [
           "T34_1000_bitb_em",
           "POLES ENGAGE"
          ],
          [
           "T34_1000_bitb_em",
           "POLES ENGAGE"
          ],
          [
           "T34_1000_bitb_em",
           "POLES ENGAGE"
          ],
          [
           "T34_1000_bitb_em",
           "POLES ENGAGE"
          ],
          [
           "T34_1000_bitb_em",
           "POLES ENGAGE"
          ],
          [
           "T34_1000_bitb_em",
           "POLES ENGAGE"
          ],
          [
           "T34_1000_bitb_em",
           "POLES ENGAGE"
          ],
          [
           "T34_1000_bitb_em",
           "POLES ENGAGE"
          ],
          [
           "T34_1000_bitb_em",
           "POLES ENGAGE"
          ],
          [
           "T34_1000_bitb_em",
           "POLES ENGAGE"
          ],
          [
           "T34_1000_bitb_em",
           "POLES ENGAGE"
          ],
          [
           "T34_1000_bitb_em",
           "POLES ENGAGE"
          ],
          [
           "T34_1000_bitb_em",
           "POLES ENGAGE"
          ]
         ],
         "hovertemplate": "region=OECD<br>model=%{customdata[1]}<br>scenario_narrative=Tech+Inst<br>year=%{x}<br>Emissions|Kyoto Gases=%{y}<br>scenario=%{customdata[0]}<extra></extra>",
         "legendgroup": "OECD, POLES ENGAGE",
         "line": {
          "color": "#EF553B",
          "dash": "longdashdot"
         },
         "marker": {
          "symbol": "circle"
         },
         "mode": "lines",
         "name": "OECD, POLES ENGAGE",
         "showlegend": true,
         "type": "scattergl",
         "x": [
          2005,
          2010,
          2015,
          2020,
          2025,
          2030,
          2035,
          2040,
          2045,
          2050,
          2060,
          2070,
          2080,
          2090,
          2100
         ],
         "xaxis": "x4",
         "y": [
          12577.30078125,
          12186.89013671875,
          11558.91259765625,
          10327.32275390625,
          9208.92529296875,
          6027.581787109375,
          4273.866455078125,
          2522.1785888671875,
          1362.6516723632812,
          961.2648315429688,
          -381.98179626464844,
          -1123.4878234863281,
          -956.1220703125,
          -1143.97998046875,
          -1242.3087768554688
         ],
         "yaxis": "y4"
        },
        {
         "customdata": [
          [
           "T34_1000_feas_em",
           "POLES ENGAGE"
          ],
          [
           "T34_1000_feas_em",
           "POLES ENGAGE"
          ],
          [
           "T34_1000_feas_em",
           "POLES ENGAGE"
          ],
          [
           "T34_1000_feas_em",
           "POLES ENGAGE"
          ],
          [
           "T34_1000_feas_em",
           "POLES ENGAGE"
          ],
          [
           "T34_1000_feas_em",
           "POLES ENGAGE"
          ],
          [
           "T34_1000_feas_em",
           "POLES ENGAGE"
          ],
          [
           "T34_1000_feas_em",
           "POLES ENGAGE"
          ],
          [
           "T34_1000_feas_em",
           "POLES ENGAGE"
          ],
          [
           "T34_1000_feas_em",
           "POLES ENGAGE"
          ],
          [
           "T34_1000_feas_em",
           "POLES ENGAGE"
          ],
          [
           "T34_1000_feas_em",
           "POLES ENGAGE"
          ],
          [
           "T34_1000_feas_em",
           "POLES ENGAGE"
          ],
          [
           "T34_1000_feas_em",
           "POLES ENGAGE"
          ],
          [
           "T34_1000_feas_em",
           "POLES ENGAGE"
          ]
         ],
         "hovertemplate": "region=OECD<br>model=%{customdata[1]}<br>scenario_narrative=Tech+Inst+Enab<br>year=%{x}<br>Emissions|Kyoto Gases=%{y}<br>scenario=%{customdata[0]}<extra></extra>",
         "legendgroup": "OECD, POLES ENGAGE",
         "line": {
          "color": "#EF553B",
          "dash": "longdashdot"
         },
         "marker": {
          "symbol": "circle"
         },
         "mode": "lines",
         "name": "OECD, POLES ENGAGE",
         "showlegend": false,
         "type": "scattergl",
         "x": [
          2005,
          2010,
          2015,
          2020,
          2025,
          2030,
          2035,
          2040,
          2045,
          2050,
          2060,
          2070,
          2080,
          2090,
          2100
         ],
         "xaxis": "x5",
         "y": [
          12577.30078125,
          12186.89013671875,
          11558.91259765625,
          10327.32275390625,
          8821.9326171875,
          5237.232421875,
          3565.9820556640625,
          2460.9635009765625,
          1484.2122802734375,
          961.7668762207031,
          -240.6640911102295,
          -1021.915771484375,
          -1370.8107147216797,
          -424.5795440673828,
          1662.6966552734375
         ],
         "yaxis": "y5"
        },
        {
         "customdata": [
          [
           "T34_1000_govem",
           "POLES ENGAGE"
          ],
          [
           "T34_1000_govem",
           "POLES ENGAGE"
          ],
          [
           "T34_1000_govem",
           "POLES ENGAGE"
          ],
          [
           "T34_1000_govem",
           "POLES ENGAGE"
          ],
          [
           "T34_1000_govem",
           "POLES ENGAGE"
          ],
          [
           "T34_1000_govem",
           "POLES ENGAGE"
          ],
          [
           "T34_1000_govem",
           "POLES ENGAGE"
          ],
          [
           "T34_1000_govem",
           "POLES ENGAGE"
          ],
          [
           "T34_1000_govem",
           "POLES ENGAGE"
          ],
          [
           "T34_1000_govem",
           "POLES ENGAGE"
          ],
          [
           "T34_1000_govem",
           "POLES ENGAGE"
          ],
          [
           "T34_1000_govem",
           "POLES ENGAGE"
          ],
          [
           "T34_1000_govem",
           "POLES ENGAGE"
          ],
          [
           "T34_1000_govem",
           "POLES ENGAGE"
          ],
          [
           "T34_1000_govem",
           "POLES ENGAGE"
          ]
         ],
         "hovertemplate": "region=OECD<br>model=%{customdata[1]}<br>scenario_narrative=Instit<br>year=%{x}<br>Emissions|Kyoto Gases=%{y}<br>scenario=%{customdata[0]}<extra></extra>",
         "legendgroup": "OECD, POLES ENGAGE",
         "line": {
          "color": "#EF553B",
          "dash": "longdashdot"
         },
         "marker": {
          "symbol": "circle"
         },
         "mode": "lines",
         "name": "OECD, POLES ENGAGE",
         "showlegend": false,
         "type": "scattergl",
         "x": [
          2005,
          2010,
          2015,
          2020,
          2025,
          2030,
          2035,
          2040,
          2045,
          2050,
          2060,
          2070,
          2080,
          2090,
          2100
         ],
         "xaxis": "x6",
         "y": [
          12577.30078125,
          12186.89013671875,
          11558.91259765625,
          10327.322265625,
          9186.759765625,
          6031.661376953125,
          4291.333251953125,
          2712.2586669921875,
          1513.0075073242188,
          1000.0426330566406,
          -259.668212890625,
          -1163.9729309082031,
          -1686.5599975585938,
          -287.1644592285156,
          2532.0765380859375
         ],
         "yaxis": "y6"
        },
        {
         "customdata": [
          [
           "T34_1000_ref",
           "POLES ENGAGE"
          ],
          [
           "T34_1000_ref",
           "POLES ENGAGE"
          ],
          [
           "T34_1000_ref",
           "POLES ENGAGE"
          ],
          [
           "T34_1000_ref",
           "POLES ENGAGE"
          ],
          [
           "T34_1000_ref",
           "POLES ENGAGE"
          ],
          [
           "T34_1000_ref",
           "POLES ENGAGE"
          ],
          [
           "T34_1000_ref",
           "POLES ENGAGE"
          ],
          [
           "T34_1000_ref",
           "POLES ENGAGE"
          ],
          [
           "T34_1000_ref",
           "POLES ENGAGE"
          ],
          [
           "T34_1000_ref",
           "POLES ENGAGE"
          ],
          [
           "T34_1000_ref",
           "POLES ENGAGE"
          ],
          [
           "T34_1000_ref",
           "POLES ENGAGE"
          ],
          [
           "T34_1000_ref",
           "POLES ENGAGE"
          ],
          [
           "T34_1000_ref",
           "POLES ENGAGE"
          ],
          [
           "T34_1000_ref",
           "POLES ENGAGE"
          ]
         ],
         "hovertemplate": "region=OECD<br>model=%{customdata[1]}<br>scenario_narrative=Cost Effective<br>year=%{x}<br>Emissions|Kyoto Gases=%{y}<br>scenario=%{customdata[0]}<extra></extra>",
         "legendgroup": "OECD, POLES ENGAGE",
         "line": {
          "color": "#EF553B",
          "dash": "longdashdot"
         },
         "marker": {
          "symbol": "circle"
         },
         "mode": "lines",
         "name": "OECD, POLES ENGAGE",
         "showlegend": false,
         "type": "scattergl",
         "x": [
          2005,
          2010,
          2015,
          2020,
          2025,
          2030,
          2035,
          2040,
          2045,
          2050,
          2060,
          2070,
          2080,
          2090,
          2100
         ],
         "xaxis": "x",
         "y": [
          12577.30078125,
          12186.89013671875,
          11558.91259765625,
          10327.32275390625,
          9535.41357421875,
          6916.20849609375,
          5330.8109130859375,
          3780.41748046875,
          2422.8079223632812,
          1768.5654907226562,
          949.2096557617188,
          664.916259765625,
          582.2613220214844,
          443.7300224304199,
          339.02262115478516
         ],
         "yaxis": "y"
        },
        {
         "customdata": [
          [
           "T34_1000_bitb_ref",
           "POLES ENGAGE"
          ],
          [
           "T34_1000_bitb_ref",
           "POLES ENGAGE"
          ],
          [
           "T34_1000_bitb_ref",
           "POLES ENGAGE"
          ],
          [
           "T34_1000_bitb_ref",
           "POLES ENGAGE"
          ],
          [
           "T34_1000_bitb_ref",
           "POLES ENGAGE"
          ],
          [
           "T34_1000_bitb_ref",
           "POLES ENGAGE"
          ],
          [
           "T34_1000_bitb_ref",
           "POLES ENGAGE"
          ],
          [
           "T34_1000_bitb_ref",
           "POLES ENGAGE"
          ],
          [
           "T34_1000_bitb_ref",
           "POLES ENGAGE"
          ],
          [
           "T34_1000_bitb_ref",
           "POLES ENGAGE"
          ],
          [
           "T34_1000_bitb_ref",
           "POLES ENGAGE"
          ],
          [
           "T34_1000_bitb_ref",
           "POLES ENGAGE"
          ],
          [
           "T34_1000_bitb_ref",
           "POLES ENGAGE"
          ],
          [
           "T34_1000_bitb_ref",
           "POLES ENGAGE"
          ],
          [
           "T34_1000_bitb_ref",
           "POLES ENGAGE"
          ]
         ],
         "hovertemplate": "region=OECD<br>model=%{customdata[1]}<br>scenario_narrative=Tech<br>year=%{x}<br>Emissions|Kyoto Gases=%{y}<br>scenario=%{customdata[0]}<extra></extra>",
         "legendgroup": "OECD, POLES ENGAGE",
         "line": {
          "color": "#EF553B",
          "dash": "longdashdot"
         },
         "marker": {
          "symbol": "circle"
         },
         "mode": "lines",
         "name": "OECD, POLES ENGAGE",
         "showlegend": false,
         "type": "scattergl",
         "x": [
          2005,
          2010,
          2015,
          2020,
          2025,
          2030,
          2035,
          2040,
          2045,
          2050,
          2060,
          2070,
          2080,
          2090,
          2100
         ],
         "xaxis": "x2",
         "y": [
          12577.30078125,
          12186.89013671875,
          11558.91259765625,
          10321.404296875,
          9673.484619140625,
          7381.142578125,
          5955.5712890625,
          4674.6324462890625,
          3483.63671875,
          2796.9722900390625,
          1543.4646606445312,
          646.5064392089844,
          154.9255714416504,
          -273.096586227417,
          -716.7095031738281
         ],
         "yaxis": "y2"
        },
        {
         "customdata": [
          [
           "T34_1000_bitb_em",
           "REMIND 3.0"
          ],
          [
           "T34_1000_bitb_em",
           "REMIND 3.0"
          ],
          [
           "T34_1000_bitb_em",
           "REMIND 3.0"
          ],
          [
           "T34_1000_bitb_em",
           "REMIND 3.0"
          ],
          [
           "T34_1000_bitb_em",
           "REMIND 3.0"
          ],
          [
           "T34_1000_bitb_em",
           "REMIND 3.0"
          ],
          [
           "T34_1000_bitb_em",
           "REMIND 3.0"
          ],
          [
           "T34_1000_bitb_em",
           "REMIND 3.0"
          ],
          [
           "T34_1000_bitb_em",
           "REMIND 3.0"
          ],
          [
           "T34_1000_bitb_em",
           "REMIND 3.0"
          ],
          [
           "T34_1000_bitb_em",
           "REMIND 3.0"
          ],
          [
           "T34_1000_bitb_em",
           "REMIND 3.0"
          ],
          [
           "T34_1000_bitb_em",
           "REMIND 3.0"
          ],
          [
           "T34_1000_bitb_em",
           "REMIND 3.0"
          ],
          [
           "T34_1000_bitb_em",
           "REMIND 3.0"
          ],
          [
           "T34_1000_bitb_em",
           "REMIND 3.0"
          ]
         ],
         "hovertemplate": "region=OECD<br>model=%{customdata[1]}<br>scenario_narrative=Tech+Inst<br>year=%{x}<br>Emissions|Kyoto Gases=%{y}<br>scenario=%{customdata[0]}<extra></extra>",
         "legendgroup": "OECD, REMIND 3.0",
         "line": {
          "color": "#EF553B",
          "dash": "solid"
         },
         "marker": {
          "symbol": "circle"
         },
         "mode": "lines",
         "name": "OECD, REMIND 3.0",
         "showlegend": true,
         "type": "scattergl",
         "x": [
          2005,
          2010,
          2015,
          2020,
          2025,
          2030,
          2035,
          2040,
          2045,
          2050,
          2055,
          2060,
          2070,
          2080,
          2090,
          2100
         ],
         "xaxis": "x4",
         "y": [
          13072.5794726,
          11838.253859699998,
          11015.080150400001,
          10095.6317483,
          8120.6673443,
          6212.0960206,
          4382.3964255,
          2649.5678958,
          1285.000241,
          627.7953128,
          299.1206277,
          100.30587629999997,
          31.210495400000013,
          148.62897860000004,
          501.1805915,
          925.9214038
         ],
         "yaxis": "y4"
        },
        {
         "customdata": [
          [
           "T34_1000_feas_em",
           "REMIND 3.0"
          ],
          [
           "T34_1000_feas_em",
           "REMIND 3.0"
          ],
          [
           "T34_1000_feas_em",
           "REMIND 3.0"
          ],
          [
           "T34_1000_feas_em",
           "REMIND 3.0"
          ],
          [
           "T34_1000_feas_em",
           "REMIND 3.0"
          ],
          [
           "T34_1000_feas_em",
           "REMIND 3.0"
          ],
          [
           "T34_1000_feas_em",
           "REMIND 3.0"
          ],
          [
           "T34_1000_feas_em",
           "REMIND 3.0"
          ],
          [
           "T34_1000_feas_em",
           "REMIND 3.0"
          ],
          [
           "T34_1000_feas_em",
           "REMIND 3.0"
          ],
          [
           "T34_1000_feas_em",
           "REMIND 3.0"
          ],
          [
           "T34_1000_feas_em",
           "REMIND 3.0"
          ],
          [
           "T34_1000_feas_em",
           "REMIND 3.0"
          ],
          [
           "T34_1000_feas_em",
           "REMIND 3.0"
          ],
          [
           "T34_1000_feas_em",
           "REMIND 3.0"
          ],
          [
           "T34_1000_feas_em",
           "REMIND 3.0"
          ]
         ],
         "hovertemplate": "region=OECD<br>model=%{customdata[1]}<br>scenario_narrative=Tech+Inst+Enab<br>year=%{x}<br>Emissions|Kyoto Gases=%{y}<br>scenario=%{customdata[0]}<extra></extra>",
         "legendgroup": "OECD, REMIND 3.0",
         "line": {
          "color": "#EF553B",
          "dash": "solid"
         },
         "marker": {
          "symbol": "circle"
         },
         "mode": "lines",
         "name": "OECD, REMIND 3.0",
         "showlegend": false,
         "type": "scattergl",
         "x": [
          2005,
          2010,
          2015,
          2020,
          2025,
          2030,
          2035,
          2040,
          2045,
          2050,
          2055,
          2060,
          2070,
          2080,
          2090,
          2100
         ],
         "xaxis": "x5",
         "y": [
          13072.5794726,
          11838.253859699998,
          11015.080150400001,
          10095.6317483,
          8010.2311825,
          5901.5652001,
          4297.3936522,
          2855.1939864,
          1855.8949247,
          1203.474177,
          875.473225,
          626.9347744,
          402.0189009,
          362.9187892,
          427.9559053,
          856.918269
         ],
         "yaxis": "y5"
        },
        {
         "customdata": [
          [
           "T34_1000_govem",
           "REMIND 3.0"
          ],
          [
           "T34_1000_govem",
           "REMIND 3.0"
          ],
          [
           "T34_1000_govem",
           "REMIND 3.0"
          ],
          [
           "T34_1000_govem",
           "REMIND 3.0"
          ],
          [
           "T34_1000_govem",
           "REMIND 3.0"
          ],
          [
           "T34_1000_govem",
           "REMIND 3.0"
          ],
          [
           "T34_1000_govem",
           "REMIND 3.0"
          ],
          [
           "T34_1000_govem",
           "REMIND 3.0"
          ],
          [
           "T34_1000_govem",
           "REMIND 3.0"
          ],
          [
           "T34_1000_govem",
           "REMIND 3.0"
          ],
          [
           "T34_1000_govem",
           "REMIND 3.0"
          ],
          [
           "T34_1000_govem",
           "REMIND 3.0"
          ],
          [
           "T34_1000_govem",
           "REMIND 3.0"
          ],
          [
           "T34_1000_govem",
           "REMIND 3.0"
          ],
          [
           "T34_1000_govem",
           "REMIND 3.0"
          ],
          [
           "T34_1000_govem",
           "REMIND 3.0"
          ]
         ],
         "hovertemplate": "region=OECD<br>model=%{customdata[1]}<br>scenario_narrative=Instit<br>year=%{x}<br>Emissions|Kyoto Gases=%{y}<br>scenario=%{customdata[0]}<extra></extra>",
         "legendgroup": "OECD, REMIND 3.0",
         "line": {
          "color": "#EF553B",
          "dash": "solid"
         },
         "marker": {
          "symbol": "circle"
         },
         "mode": "lines",
         "name": "OECD, REMIND 3.0",
         "showlegend": false,
         "type": "scattergl",
         "x": [
          2005,
          2010,
          2015,
          2020,
          2025,
          2030,
          2035,
          2040,
          2045,
          2050,
          2055,
          2060,
          2070,
          2080,
          2090,
          2100
         ],
         "xaxis": "x6",
         "y": [
          13072.5794726,
          11838.253859699998,
          11015.080150400001,
          10095.6317483,
          8175.1711344,
          6408.3551164,
          4595.0542266,
          2843.0268547,
          1440.3510557,
          611.6495829,
          148.7396673,
          -274.09037550000005,
          -469.2466174,
          -221.3741415,
          267.9103566,
          929.5395358999999
         ],
         "yaxis": "y6"
        },
        {
         "customdata": [
          [
           "T34_1000_ref",
           "REMIND 3.0"
          ],
          [
           "T34_1000_ref",
           "REMIND 3.0"
          ],
          [
           "T34_1000_ref",
           "REMIND 3.0"
          ],
          [
           "T34_1000_ref",
           "REMIND 3.0"
          ],
          [
           "T34_1000_ref",
           "REMIND 3.0"
          ],
          [
           "T34_1000_ref",
           "REMIND 3.0"
          ],
          [
           "T34_1000_ref",
           "REMIND 3.0"
          ],
          [
           "T34_1000_ref",
           "REMIND 3.0"
          ],
          [
           "T34_1000_ref",
           "REMIND 3.0"
          ],
          [
           "T34_1000_ref",
           "REMIND 3.0"
          ],
          [
           "T34_1000_ref",
           "REMIND 3.0"
          ],
          [
           "T34_1000_ref",
           "REMIND 3.0"
          ],
          [
           "T34_1000_ref",
           "REMIND 3.0"
          ],
          [
           "T34_1000_ref",
           "REMIND 3.0"
          ],
          [
           "T34_1000_ref",
           "REMIND 3.0"
          ],
          [
           "T34_1000_ref",
           "REMIND 3.0"
          ]
         ],
         "hovertemplate": "region=OECD<br>model=%{customdata[1]}<br>scenario_narrative=Cost Effective<br>year=%{x}<br>Emissions|Kyoto Gases=%{y}<br>scenario=%{customdata[0]}<extra></extra>",
         "legendgroup": "OECD, REMIND 3.0",
         "line": {
          "color": "#EF553B",
          "dash": "solid"
         },
         "marker": {
          "symbol": "circle"
         },
         "mode": "lines",
         "name": "OECD, REMIND 3.0",
         "showlegend": false,
         "type": "scattergl",
         "x": [
          2005,
          2010,
          2015,
          2020,
          2025,
          2030,
          2035,
          2040,
          2045,
          2050,
          2055,
          2060,
          2070,
          2080,
          2090,
          2100
         ],
         "xaxis": "x",
         "y": [
          13072.5794726,
          11838.253859699998,
          11015.080150400001,
          10095.6317483,
          8402.6840929,
          7024.6427556,
          5465.3812516,
          3785.1422181,
          2477.4680567,
          1671.1081060000001,
          1244.2301648,
          775.9948133,
          579.2154006000001,
          659.6087411,
          775.9395208000001,
          771.5233891
         ],
         "yaxis": "y"
        },
        {
         "customdata": [
          [
           "T34_1000_bitb_ref",
           "REMIND 3.0"
          ],
          [
           "T34_1000_bitb_ref",
           "REMIND 3.0"
          ],
          [
           "T34_1000_bitb_ref",
           "REMIND 3.0"
          ],
          [
           "T34_1000_bitb_ref",
           "REMIND 3.0"
          ],
          [
           "T34_1000_bitb_ref",
           "REMIND 3.0"
          ],
          [
           "T34_1000_bitb_ref",
           "REMIND 3.0"
          ],
          [
           "T34_1000_bitb_ref",
           "REMIND 3.0"
          ],
          [
           "T34_1000_bitb_ref",
           "REMIND 3.0"
          ],
          [
           "T34_1000_bitb_ref",
           "REMIND 3.0"
          ],
          [
           "T34_1000_bitb_ref",
           "REMIND 3.0"
          ],
          [
           "T34_1000_bitb_ref",
           "REMIND 3.0"
          ],
          [
           "T34_1000_bitb_ref",
           "REMIND 3.0"
          ],
          [
           "T34_1000_bitb_ref",
           "REMIND 3.0"
          ],
          [
           "T34_1000_bitb_ref",
           "REMIND 3.0"
          ],
          [
           "T34_1000_bitb_ref",
           "REMIND 3.0"
          ],
          [
           "T34_1000_bitb_ref",
           "REMIND 3.0"
          ]
         ],
         "hovertemplate": "region=OECD<br>model=%{customdata[1]}<br>scenario_narrative=Tech<br>year=%{x}<br>Emissions|Kyoto Gases=%{y}<br>scenario=%{customdata[0]}<extra></extra>",
         "legendgroup": "OECD, REMIND 3.0",
         "line": {
          "color": "#EF553B",
          "dash": "solid"
         },
         "marker": {
          "symbol": "circle"
         },
         "mode": "lines",
         "name": "OECD, REMIND 3.0",
         "showlegend": false,
         "type": "scattergl",
         "x": [
          2005,
          2010,
          2015,
          2020,
          2025,
          2030,
          2035,
          2040,
          2045,
          2050,
          2055,
          2060,
          2070,
          2080,
          2090,
          2100
         ],
         "xaxis": "x2",
         "y": [
          13072.5794726,
          11838.253859699998,
          11015.080150400001,
          10095.6317483,
          8375.1897689,
          6857.1979682,
          5221.5788433,
          3685.6245054,
          2341.7569788,
          1551.9045918,
          1209.1139173,
          940.6291651,
          739.3450115999999,
          680.6623744999999,
          750.2956025999999,
          736.854664
         ],
         "yaxis": "y2"
        },
        {
         "customdata": [
          [
           "T34_1000_enab_em",
           "REMIND 3.0"
          ],
          [
           "T34_1000_enab_em",
           "REMIND 3.0"
          ],
          [
           "T34_1000_enab_em",
           "REMIND 3.0"
          ],
          [
           "T34_1000_enab_em",
           "REMIND 3.0"
          ],
          [
           "T34_1000_enab_em",
           "REMIND 3.0"
          ],
          [
           "T34_1000_enab_em",
           "REMIND 3.0"
          ],
          [
           "T34_1000_enab_em",
           "REMIND 3.0"
          ],
          [
           "T34_1000_enab_em",
           "REMIND 3.0"
          ],
          [
           "T34_1000_enab_em",
           "REMIND 3.0"
          ],
          [
           "T34_1000_enab_em",
           "REMIND 3.0"
          ],
          [
           "T34_1000_enab_em",
           "REMIND 3.0"
          ],
          [
           "T34_1000_enab_em",
           "REMIND 3.0"
          ],
          [
           "T34_1000_enab_em",
           "REMIND 3.0"
          ],
          [
           "T34_1000_enab_em",
           "REMIND 3.0"
          ],
          [
           "T34_1000_enab_em",
           "REMIND 3.0"
          ],
          [
           "T34_1000_enab_em",
           "REMIND 3.0"
          ]
         ],
         "hovertemplate": "region=OECD<br>model=%{customdata[1]}<br>scenario_narrative=Inst+Enab<br>year=%{x}<br>Emissions|Kyoto Gases=%{y}<br>scenario=%{customdata[0]}<extra></extra>",
         "legendgroup": "OECD, REMIND 3.0",
         "line": {
          "color": "#EF553B",
          "dash": "solid"
         },
         "marker": {
          "symbol": "circle"
         },
         "mode": "lines",
         "name": "OECD, REMIND 3.0",
         "showlegend": false,
         "type": "scattergl",
         "x": [
          2005,
          2010,
          2015,
          2020,
          2025,
          2030,
          2035,
          2040,
          2045,
          2050,
          2055,
          2060,
          2070,
          2080,
          2090,
          2100
         ],
         "xaxis": "x3",
         "y": [
          13072.5794726,
          11838.253859699998,
          11015.080150400001,
          10095.6317483,
          8020.7776732,
          5969.1495643,
          4403.6501834,
          2891.0417483,
          1887.483249,
          1221.1075336,
          863.4332231000001,
          559.6397365,
          282.4534951,
          301.1703836,
          520.2313243,
          865.9615852
         ],
         "yaxis": "y3"
        },
        {
         "customdata": [
          [
           "T34_1000_bitb_em",
           "WITCH 5.0"
          ],
          [
           "T34_1000_bitb_em",
           "WITCH 5.0"
          ],
          [
           "T34_1000_bitb_em",
           "WITCH 5.0"
          ],
          [
           "T34_1000_bitb_em",
           "WITCH 5.0"
          ],
          [
           "T34_1000_bitb_em",
           "WITCH 5.0"
          ],
          [
           "T34_1000_bitb_em",
           "WITCH 5.0"
          ],
          [
           "T34_1000_bitb_em",
           "WITCH 5.0"
          ],
          [
           "T34_1000_bitb_em",
           "WITCH 5.0"
          ],
          [
           "T34_1000_bitb_em",
           "WITCH 5.0"
          ],
          [
           "T34_1000_bitb_em",
           "WITCH 5.0"
          ],
          [
           "T34_1000_bitb_em",
           "WITCH 5.0"
          ],
          [
           "T34_1000_bitb_em",
           "WITCH 5.0"
          ],
          [
           "T34_1000_bitb_em",
           "WITCH 5.0"
          ],
          [
           "T34_1000_bitb_em",
           "WITCH 5.0"
          ],
          [
           "T34_1000_bitb_em",
           "WITCH 5.0"
          ],
          [
           "T34_1000_bitb_em",
           "WITCH 5.0"
          ],
          [
           "T34_1000_bitb_em",
           "WITCH 5.0"
          ],
          [
           "T34_1000_bitb_em",
           "WITCH 5.0"
          ],
          [
           "T34_1000_bitb_em",
           "WITCH 5.0"
          ],
          [
           "T34_1000_bitb_em",
           "WITCH 5.0"
          ]
         ],
         "hovertemplate": "region=OECD<br>model=%{customdata[1]}<br>scenario_narrative=Tech+Inst<br>year=%{x}<br>Emissions|Kyoto Gases=%{y}<br>scenario=%{customdata[0]}<extra></extra>",
         "legendgroup": "OECD, WITCH 5.0",
         "line": {
          "color": "#EF553B",
          "dash": "dot"
         },
         "marker": {
          "symbol": "circle"
         },
         "mode": "lines",
         "name": "OECD, WITCH 5.0",
         "showlegend": true,
         "type": "scattergl",
         "x": [
          2005,
          2010,
          2015,
          2020,
          2025,
          2030,
          2035,
          2040,
          2045,
          2050,
          2055,
          2060,
          2065,
          2070,
          2075,
          2080,
          2085,
          2090,
          2095,
          2100
         ],
         "xaxis": "x4",
         "y": [
          13116.978173398875,
          12186.424663679882,
          11669.445570228849,
          11538.087551459605,
          9199.14984576388,
          5367.384887241037,
          3475.571227458834,
          2600.495279798741,
          1858.7828096996884,
          1267.6621986227842,
          830.3992757461148,
          525.4985575456824,
          204.76936919046494,
          -86.20007891651301,
          -214.83761909775103,
          -524.958189544274,
          -408.34539815362996,
          -475.714142975065,
          -513.184886133704,
          -506.434878994032
         ],
         "yaxis": "y4"
        },
        {
         "customdata": [
          [
           "T34_1000_feas_em",
           "WITCH 5.0"
          ],
          [
           "T34_1000_feas_em",
           "WITCH 5.0"
          ],
          [
           "T34_1000_feas_em",
           "WITCH 5.0"
          ],
          [
           "T34_1000_feas_em",
           "WITCH 5.0"
          ],
          [
           "T34_1000_feas_em",
           "WITCH 5.0"
          ],
          [
           "T34_1000_feas_em",
           "WITCH 5.0"
          ],
          [
           "T34_1000_feas_em",
           "WITCH 5.0"
          ],
          [
           "T34_1000_feas_em",
           "WITCH 5.0"
          ],
          [
           "T34_1000_feas_em",
           "WITCH 5.0"
          ],
          [
           "T34_1000_feas_em",
           "WITCH 5.0"
          ],
          [
           "T34_1000_feas_em",
           "WITCH 5.0"
          ],
          [
           "T34_1000_feas_em",
           "WITCH 5.0"
          ],
          [
           "T34_1000_feas_em",
           "WITCH 5.0"
          ],
          [
           "T34_1000_feas_em",
           "WITCH 5.0"
          ],
          [
           "T34_1000_feas_em",
           "WITCH 5.0"
          ],
          [
           "T34_1000_feas_em",
           "WITCH 5.0"
          ],
          [
           "T34_1000_feas_em",
           "WITCH 5.0"
          ],
          [
           "T34_1000_feas_em",
           "WITCH 5.0"
          ],
          [
           "T34_1000_feas_em",
           "WITCH 5.0"
          ],
          [
           "T34_1000_feas_em",
           "WITCH 5.0"
          ]
         ],
         "hovertemplate": "region=OECD<br>model=%{customdata[1]}<br>scenario_narrative=Tech+Inst+Enab<br>year=%{x}<br>Emissions|Kyoto Gases=%{y}<br>scenario=%{customdata[0]}<extra></extra>",
         "legendgroup": "OECD, WITCH 5.0",
         "line": {
          "color": "#EF553B",
          "dash": "dot"
         },
         "marker": {
          "symbol": "circle"
         },
         "mode": "lines",
         "name": "OECD, WITCH 5.0",
         "showlegend": false,
         "type": "scattergl",
         "x": [
          2005,
          2010,
          2015,
          2020,
          2025,
          2030,
          2035,
          2040,
          2045,
          2050,
          2055,
          2060,
          2065,
          2070,
          2075,
          2080,
          2085,
          2090,
          2095,
          2100
         ],
         "xaxis": "x5",
         "y": [
          13116.978173398875,
          12186.424663679882,
          11669.445570228849,
          11538.087551459605,
          8297.950248079442,
          4972.368325288799,
          3150.513223721862,
          2261.37214711828,
          1575.0921593524172,
          949.4287593997689,
          613.5814785838925,
          333.49786499690856,
          99.169920413402,
          -179.10337778588303,
          -416.108434707946,
          -654.4091312228961,
          -835.9588377057352,
          -696.6282199623399,
          -382.628974652447,
          -197.780893546558
         ],
         "yaxis": "y5"
        },
        {
         "customdata": [
          [
           "T34_1000_govem",
           "WITCH 5.0"
          ],
          [
           "T34_1000_govem",
           "WITCH 5.0"
          ],
          [
           "T34_1000_govem",
           "WITCH 5.0"
          ],
          [
           "T34_1000_govem",
           "WITCH 5.0"
          ],
          [
           "T34_1000_govem",
           "WITCH 5.0"
          ],
          [
           "T34_1000_govem",
           "WITCH 5.0"
          ],
          [
           "T34_1000_govem",
           "WITCH 5.0"
          ],
          [
           "T34_1000_govem",
           "WITCH 5.0"
          ],
          [
           "T34_1000_govem",
           "WITCH 5.0"
          ],
          [
           "T34_1000_govem",
           "WITCH 5.0"
          ],
          [
           "T34_1000_govem",
           "WITCH 5.0"
          ],
          [
           "T34_1000_govem",
           "WITCH 5.0"
          ],
          [
           "T34_1000_govem",
           "WITCH 5.0"
          ],
          [
           "T34_1000_govem",
           "WITCH 5.0"
          ],
          [
           "T34_1000_govem",
           "WITCH 5.0"
          ],
          [
           "T34_1000_govem",
           "WITCH 5.0"
          ],
          [
           "T34_1000_govem",
           "WITCH 5.0"
          ],
          [
           "T34_1000_govem",
           "WITCH 5.0"
          ],
          [
           "T34_1000_govem",
           "WITCH 5.0"
          ],
          [
           "T34_1000_govem",
           "WITCH 5.0"
          ]
         ],
         "hovertemplate": "region=OECD<br>model=%{customdata[1]}<br>scenario_narrative=Instit<br>year=%{x}<br>Emissions|Kyoto Gases=%{y}<br>scenario=%{customdata[0]}<extra></extra>",
         "legendgroup": "OECD, WITCH 5.0",
         "line": {
          "color": "#EF553B",
          "dash": "dot"
         },
         "marker": {
          "symbol": "circle"
         },
         "mode": "lines",
         "name": "OECD, WITCH 5.0",
         "showlegend": false,
         "type": "scattergl",
         "x": [
          2005,
          2010,
          2015,
          2020,
          2025,
          2030,
          2035,
          2040,
          2045,
          2050,
          2055,
          2060,
          2065,
          2070,
          2075,
          2080,
          2085,
          2090,
          2095,
          2100
         ],
         "xaxis": "x6",
         "y": [
          13116.978173398875,
          12186.424663679882,
          11669.445570228849,
          11538.087551459605,
          7336.190032120321,
          4219.4111224824255,
          3211.688420264006,
          2543.302780430661,
          1849.4923311212522,
          1189.374236423223,
          583.743695965505,
          154.0152435362081,
          -235.187583179385,
          -658.785816050796,
          -1154.9015357275732,
          -1181.3272930538285,
          -945.2872448382421,
          -206.34314522518616,
          38.666646385996955,
          -145.00455255309043
         ],
         "yaxis": "y6"
        },
        {
         "customdata": [
          [
           "T34_1000_ref",
           "WITCH 5.0"
          ],
          [
           "T34_1000_ref",
           "WITCH 5.0"
          ],
          [
           "T34_1000_ref",
           "WITCH 5.0"
          ],
          [
           "T34_1000_ref",
           "WITCH 5.0"
          ],
          [
           "T34_1000_ref",
           "WITCH 5.0"
          ],
          [
           "T34_1000_ref",
           "WITCH 5.0"
          ],
          [
           "T34_1000_ref",
           "WITCH 5.0"
          ],
          [
           "T34_1000_ref",
           "WITCH 5.0"
          ],
          [
           "T34_1000_ref",
           "WITCH 5.0"
          ],
          [
           "T34_1000_ref",
           "WITCH 5.0"
          ],
          [
           "T34_1000_ref",
           "WITCH 5.0"
          ],
          [
           "T34_1000_ref",
           "WITCH 5.0"
          ],
          [
           "T34_1000_ref",
           "WITCH 5.0"
          ],
          [
           "T34_1000_ref",
           "WITCH 5.0"
          ],
          [
           "T34_1000_ref",
           "WITCH 5.0"
          ],
          [
           "T34_1000_ref",
           "WITCH 5.0"
          ],
          [
           "T34_1000_ref",
           "WITCH 5.0"
          ],
          [
           "T34_1000_ref",
           "WITCH 5.0"
          ],
          [
           "T34_1000_ref",
           "WITCH 5.0"
          ],
          [
           "T34_1000_ref",
           "WITCH 5.0"
          ]
         ],
         "hovertemplate": "region=OECD<br>model=%{customdata[1]}<br>scenario_narrative=Cost Effective<br>year=%{x}<br>Emissions|Kyoto Gases=%{y}<br>scenario=%{customdata[0]}<extra></extra>",
         "legendgroup": "OECD, WITCH 5.0",
         "line": {
          "color": "#EF553B",
          "dash": "dot"
         },
         "marker": {
          "symbol": "circle"
         },
         "mode": "lines",
         "name": "OECD, WITCH 5.0",
         "showlegend": false,
         "type": "scattergl",
         "x": [
          2005,
          2010,
          2015,
          2020,
          2025,
          2030,
          2035,
          2040,
          2045,
          2050,
          2055,
          2060,
          2065,
          2070,
          2075,
          2080,
          2085,
          2090,
          2095,
          2100
         ],
         "xaxis": "x",
         "y": [
          13116.978173398875,
          12186.424663679882,
          11669.445570228849,
          11538.087551459605,
          8530.1588204527,
          5957.631282470609,
          4953.556679326675,
          4315.980428176295,
          3624.030998438865,
          3146.8321445445963,
          2707.039180592472,
          2119.0342200564737,
          1475.3598049999514,
          1022.318036501683,
          524.4381772755501,
          -5.212011542519235,
          -579.158416372204,
          -1142.669285776426,
          -1529.662373810076,
          -1905.1078546355038
         ],
         "yaxis": "y"
        },
        {
         "customdata": [
          [
           "T34_1000_bitb_ref",
           "WITCH 5.0"
          ],
          [
           "T34_1000_bitb_ref",
           "WITCH 5.0"
          ],
          [
           "T34_1000_bitb_ref",
           "WITCH 5.0"
          ],
          [
           "T34_1000_bitb_ref",
           "WITCH 5.0"
          ],
          [
           "T34_1000_bitb_ref",
           "WITCH 5.0"
          ],
          [
           "T34_1000_bitb_ref",
           "WITCH 5.0"
          ],
          [
           "T34_1000_bitb_ref",
           "WITCH 5.0"
          ],
          [
           "T34_1000_bitb_ref",
           "WITCH 5.0"
          ],
          [
           "T34_1000_bitb_ref",
           "WITCH 5.0"
          ],
          [
           "T34_1000_bitb_ref",
           "WITCH 5.0"
          ],
          [
           "T34_1000_bitb_ref",
           "WITCH 5.0"
          ],
          [
           "T34_1000_bitb_ref",
           "WITCH 5.0"
          ],
          [
           "T34_1000_bitb_ref",
           "WITCH 5.0"
          ],
          [
           "T34_1000_bitb_ref",
           "WITCH 5.0"
          ],
          [
           "T34_1000_bitb_ref",
           "WITCH 5.0"
          ],
          [
           "T34_1000_bitb_ref",
           "WITCH 5.0"
          ],
          [
           "T34_1000_bitb_ref",
           "WITCH 5.0"
          ],
          [
           "T34_1000_bitb_ref",
           "WITCH 5.0"
          ],
          [
           "T34_1000_bitb_ref",
           "WITCH 5.0"
          ],
          [
           "T34_1000_bitb_ref",
           "WITCH 5.0"
          ]
         ],
         "hovertemplate": "region=OECD<br>model=%{customdata[1]}<br>scenario_narrative=Tech<br>year=%{x}<br>Emissions|Kyoto Gases=%{y}<br>scenario=%{customdata[0]}<extra></extra>",
         "legendgroup": "OECD, WITCH 5.0",
         "line": {
          "color": "#EF553B",
          "dash": "dot"
         },
         "marker": {
          "symbol": "circle"
         },
         "mode": "lines",
         "name": "OECD, WITCH 5.0",
         "showlegend": false,
         "type": "scattergl",
         "x": [
          2005,
          2010,
          2015,
          2020,
          2025,
          2030,
          2035,
          2040,
          2045,
          2050,
          2055,
          2060,
          2065,
          2070,
          2075,
          2080,
          2085,
          2090,
          2095,
          2100
         ],
         "xaxis": "x2",
         "y": [
          13116.978173398875,
          12186.424663679882,
          11669.445570228849,
          11538.087551459605,
          8493.237828093574,
          5082.5856009426025,
          4730.276103159495,
          3817.5974938159943,
          3231.7531821002713,
          2596.957204316398,
          2263.198547758122,
          1885.940541590886,
          1554.1610426375955,
          1444.2007693749429,
          1225.7323575804648,
          1005.144198420868,
          754.608610307137,
          368.8916981422291,
          200.74508180010497,
          94.194680714686
         ],
         "yaxis": "y2"
        },
        {
         "customdata": [
          [
           "T34_1000_enab_em",
           "WITCH 5.0"
          ],
          [
           "T34_1000_enab_em",
           "WITCH 5.0"
          ],
          [
           "T34_1000_enab_em",
           "WITCH 5.0"
          ],
          [
           "T34_1000_enab_em",
           "WITCH 5.0"
          ],
          [
           "T34_1000_enab_em",
           "WITCH 5.0"
          ],
          [
           "T34_1000_enab_em",
           "WITCH 5.0"
          ],
          [
           "T34_1000_enab_em",
           "WITCH 5.0"
          ],
          [
           "T34_1000_enab_em",
           "WITCH 5.0"
          ],
          [
           "T34_1000_enab_em",
           "WITCH 5.0"
          ],
          [
           "T34_1000_enab_em",
           "WITCH 5.0"
          ],
          [
           "T34_1000_enab_em",
           "WITCH 5.0"
          ],
          [
           "T34_1000_enab_em",
           "WITCH 5.0"
          ],
          [
           "T34_1000_enab_em",
           "WITCH 5.0"
          ],
          [
           "T34_1000_enab_em",
           "WITCH 5.0"
          ],
          [
           "T34_1000_enab_em",
           "WITCH 5.0"
          ],
          [
           "T34_1000_enab_em",
           "WITCH 5.0"
          ],
          [
           "T34_1000_enab_em",
           "WITCH 5.0"
          ],
          [
           "T34_1000_enab_em",
           "WITCH 5.0"
          ],
          [
           "T34_1000_enab_em",
           "WITCH 5.0"
          ],
          [
           "T34_1000_enab_em",
           "WITCH 5.0"
          ]
         ],
         "hovertemplate": "region=OECD<br>model=%{customdata[1]}<br>scenario_narrative=Inst+Enab<br>year=%{x}<br>Emissions|Kyoto Gases=%{y}<br>scenario=%{customdata[0]}<extra></extra>",
         "legendgroup": "OECD, WITCH 5.0",
         "line": {
          "color": "#EF553B",
          "dash": "dot"
         },
         "marker": {
          "symbol": "circle"
         },
         "mode": "lines",
         "name": "OECD, WITCH 5.0",
         "showlegend": false,
         "type": "scattergl",
         "x": [
          2005,
          2010,
          2015,
          2020,
          2025,
          2030,
          2035,
          2040,
          2045,
          2050,
          2055,
          2060,
          2065,
          2070,
          2075,
          2080,
          2085,
          2090,
          2095,
          2100
         ],
         "xaxis": "x3",
         "y": [
          13116.978173398875,
          12186.424663679882,
          11669.445570228849,
          11538.087551459605,
          8686.152876160559,
          6573.582031373002,
          3970.781600181661,
          2855.270879541875,
          2126.508112128202,
          1535.2555985788306,
          924.4507179608745,
          279.12967548476615,
          -195.39142423112023,
          -628.2126943081034,
          -1073.423572520695,
          -840.787496900704,
          -378.37330297904924,
          3.533627648048821,
          372.2435322270223,
          525.0130362035231
         ],
         "yaxis": "y3"
        },
        {
         "customdata": [
          [
           "T34_1000_bitb_em",
           "AIM/CGE V2.2"
          ],
          [
           "T34_1000_bitb_em",
           "AIM/CGE V2.2"
          ],
          [
           "T34_1000_bitb_em",
           "AIM/CGE V2.2"
          ],
          [
           "T34_1000_bitb_em",
           "AIM/CGE V2.2"
          ],
          [
           "T34_1000_bitb_em",
           "AIM/CGE V2.2"
          ],
          [
           "T34_1000_bitb_em",
           "AIM/CGE V2.2"
          ],
          [
           "T34_1000_bitb_em",
           "AIM/CGE V2.2"
          ],
          [
           "T34_1000_bitb_em",
           "AIM/CGE V2.2"
          ],
          [
           "T34_1000_bitb_em",
           "AIM/CGE V2.2"
          ],
          [
           "T34_1000_bitb_em",
           "AIM/CGE V2.2"
          ],
          [
           "T34_1000_bitb_em",
           "AIM/CGE V2.2"
          ],
          [
           "T34_1000_bitb_em",
           "AIM/CGE V2.2"
          ],
          [
           "T34_1000_bitb_em",
           "AIM/CGE V2.2"
          ],
          [
           "T34_1000_bitb_em",
           "AIM/CGE V2.2"
          ],
          [
           "T34_1000_bitb_em",
           "AIM/CGE V2.2"
          ],
          [
           "T34_1000_bitb_em",
           "AIM/CGE V2.2"
          ],
          [
           "T34_1000_bitb_em",
           "AIM/CGE V2.2"
          ],
          [
           "T34_1000_bitb_em",
           "AIM/CGE V2.2"
          ],
          [
           "T34_1000_bitb_em",
           "AIM/CGE V2.2"
          ]
         ],
         "hovertemplate": "region=RoW<br>model=%{customdata[1]}<br>scenario_narrative=Tech+Inst<br>year=%{x}<br>Emissions|Kyoto Gases=%{y}<br>scenario=%{customdata[0]}<extra></extra>",
         "legendgroup": "RoW, AIM/CGE V2.2",
         "line": {
          "color": "#00cc96",
          "dash": "solid"
         },
         "marker": {
          "symbol": "circle"
         },
         "mode": "lines",
         "name": "RoW, AIM/CGE V2.2",
         "showlegend": true,
         "type": "scattergl",
         "x": [
          2010,
          2015,
          2020,
          2025,
          2030,
          2035,
          2040,
          2045,
          2050,
          2055,
          2060,
          2065,
          2070,
          2075,
          2080,
          2085,
          2090,
          2095,
          2100
         ],
         "xaxis": "x4",
         "y": [
          13674.386700000001,
          14993.2741,
          16218.1006,
          14425.4795,
          13208.9421,
          12351.9537,
          11930.6307,
          9794.7224,
          7824.9388,
          7256.1208,
          6205.081100000001,
          4583.0074,
          3599.7432,
          2615.764,
          2116.0514,
          1920.0690000000002,
          1975.1843,
          2247.6003,
          2614.0254000000004
         ],
         "yaxis": "y4"
        },
        {
         "customdata": [
          [
           "T34_1000_feas_em",
           "AIM/CGE V2.2"
          ],
          [
           "T34_1000_feas_em",
           "AIM/CGE V2.2"
          ],
          [
           "T34_1000_feas_em",
           "AIM/CGE V2.2"
          ],
          [
           "T34_1000_feas_em",
           "AIM/CGE V2.2"
          ],
          [
           "T34_1000_feas_em",
           "AIM/CGE V2.2"
          ],
          [
           "T34_1000_feas_em",
           "AIM/CGE V2.2"
          ],
          [
           "T34_1000_feas_em",
           "AIM/CGE V2.2"
          ],
          [
           "T34_1000_feas_em",
           "AIM/CGE V2.2"
          ],
          [
           "T34_1000_feas_em",
           "AIM/CGE V2.2"
          ],
          [
           "T34_1000_feas_em",
           "AIM/CGE V2.2"
          ],
          [
           "T34_1000_feas_em",
           "AIM/CGE V2.2"
          ],
          [
           "T34_1000_feas_em",
           "AIM/CGE V2.2"
          ],
          [
           "T34_1000_feas_em",
           "AIM/CGE V2.2"
          ],
          [
           "T34_1000_feas_em",
           "AIM/CGE V2.2"
          ],
          [
           "T34_1000_feas_em",
           "AIM/CGE V2.2"
          ],
          [
           "T34_1000_feas_em",
           "AIM/CGE V2.2"
          ],
          [
           "T34_1000_feas_em",
           "AIM/CGE V2.2"
          ],
          [
           "T34_1000_feas_em",
           "AIM/CGE V2.2"
          ],
          [
           "T34_1000_feas_em",
           "AIM/CGE V2.2"
          ]
         ],
         "hovertemplate": "region=RoW<br>model=%{customdata[1]}<br>scenario_narrative=Tech+Inst+Enab<br>year=%{x}<br>Emissions|Kyoto Gases=%{y}<br>scenario=%{customdata[0]}<extra></extra>",
         "legendgroup": "RoW, AIM/CGE V2.2",
         "line": {
          "color": "#00cc96",
          "dash": "solid"
         },
         "marker": {
          "symbol": "circle"
         },
         "mode": "lines",
         "name": "RoW, AIM/CGE V2.2",
         "showlegend": false,
         "type": "scattergl",
         "x": [
          2010,
          2015,
          2020,
          2025,
          2030,
          2035,
          2040,
          2045,
          2050,
          2055,
          2060,
          2065,
          2070,
          2075,
          2080,
          2085,
          2090,
          2095,
          2100
         ],
         "xaxis": "x5",
         "y": [
          13674.3866,
          14993.2742,
          16217.522700000001,
          14241.9576,
          12736.0374,
          11545.389,
          10493.4785,
          10585.7952,
          8519.4672,
          6061.5731,
          5267.606999999999,
          3533.7389999999996,
          2474.3682,
          1467.5777999999998,
          1011.3635999999999,
          829.7855,
          944.8858,
          1291.1501,
          1709.6412000000003
         ],
         "yaxis": "y5"
        },
        {
         "customdata": [
          [
           "T34_1000_govem",
           "AIM/CGE V2.2"
          ],
          [
           "T34_1000_govem",
           "AIM/CGE V2.2"
          ],
          [
           "T34_1000_govem",
           "AIM/CGE V2.2"
          ],
          [
           "T34_1000_govem",
           "AIM/CGE V2.2"
          ],
          [
           "T34_1000_govem",
           "AIM/CGE V2.2"
          ],
          [
           "T34_1000_govem",
           "AIM/CGE V2.2"
          ],
          [
           "T34_1000_govem",
           "AIM/CGE V2.2"
          ],
          [
           "T34_1000_govem",
           "AIM/CGE V2.2"
          ],
          [
           "T34_1000_govem",
           "AIM/CGE V2.2"
          ],
          [
           "T34_1000_govem",
           "AIM/CGE V2.2"
          ],
          [
           "T34_1000_govem",
           "AIM/CGE V2.2"
          ],
          [
           "T34_1000_govem",
           "AIM/CGE V2.2"
          ],
          [
           "T34_1000_govem",
           "AIM/CGE V2.2"
          ],
          [
           "T34_1000_govem",
           "AIM/CGE V2.2"
          ],
          [
           "T34_1000_govem",
           "AIM/CGE V2.2"
          ],
          [
           "T34_1000_govem",
           "AIM/CGE V2.2"
          ],
          [
           "T34_1000_govem",
           "AIM/CGE V2.2"
          ],
          [
           "T34_1000_govem",
           "AIM/CGE V2.2"
          ],
          [
           "T34_1000_govem",
           "AIM/CGE V2.2"
          ]
         ],
         "hovertemplate": "region=RoW<br>model=%{customdata[1]}<br>scenario_narrative=Instit<br>year=%{x}<br>Emissions|Kyoto Gases=%{y}<br>scenario=%{customdata[0]}<extra></extra>",
         "legendgroup": "RoW, AIM/CGE V2.2",
         "line": {
          "color": "#00cc96",
          "dash": "solid"
         },
         "marker": {
          "symbol": "circle"
         },
         "mode": "lines",
         "name": "RoW, AIM/CGE V2.2",
         "showlegend": false,
         "type": "scattergl",
         "x": [
          2010,
          2015,
          2020,
          2025,
          2030,
          2035,
          2040,
          2045,
          2050,
          2055,
          2060,
          2065,
          2070,
          2075,
          2080,
          2085,
          2090,
          2095,
          2100
         ],
         "xaxis": "x6",
         "y": [
          13674.3866,
          14993.274,
          16216.076000000001,
          14762.3298,
          13570.943500000001,
          12326.2757,
          11659.1563,
          11118.5541,
          10110.4236,
          7126.1274,
          6478.2914,
          4648.2882,
          3249.2960999999996,
          2309.9428,
          2096.8103,
          2239.6531,
          2360.5305,
          2486.0845000000004,
          2637.6157
         ],
         "yaxis": "y6"
        },
        {
         "customdata": [
          [
           "T34_1000_ref",
           "AIM/CGE V2.2"
          ],
          [
           "T34_1000_ref",
           "AIM/CGE V2.2"
          ],
          [
           "T34_1000_ref",
           "AIM/CGE V2.2"
          ],
          [
           "T34_1000_ref",
           "AIM/CGE V2.2"
          ],
          [
           "T34_1000_ref",
           "AIM/CGE V2.2"
          ],
          [
           "T34_1000_ref",
           "AIM/CGE V2.2"
          ],
          [
           "T34_1000_ref",
           "AIM/CGE V2.2"
          ],
          [
           "T34_1000_ref",
           "AIM/CGE V2.2"
          ],
          [
           "T34_1000_ref",
           "AIM/CGE V2.2"
          ],
          [
           "T34_1000_ref",
           "AIM/CGE V2.2"
          ],
          [
           "T34_1000_ref",
           "AIM/CGE V2.2"
          ],
          [
           "T34_1000_ref",
           "AIM/CGE V2.2"
          ],
          [
           "T34_1000_ref",
           "AIM/CGE V2.2"
          ],
          [
           "T34_1000_ref",
           "AIM/CGE V2.2"
          ],
          [
           "T34_1000_ref",
           "AIM/CGE V2.2"
          ],
          [
           "T34_1000_ref",
           "AIM/CGE V2.2"
          ],
          [
           "T34_1000_ref",
           "AIM/CGE V2.2"
          ],
          [
           "T34_1000_ref",
           "AIM/CGE V2.2"
          ],
          [
           "T34_1000_ref",
           "AIM/CGE V2.2"
          ]
         ],
         "hovertemplate": "region=RoW<br>model=%{customdata[1]}<br>scenario_narrative=Cost Effective<br>year=%{x}<br>Emissions|Kyoto Gases=%{y}<br>scenario=%{customdata[0]}<extra></extra>",
         "legendgroup": "RoW, AIM/CGE V2.2",
         "line": {
          "color": "#00cc96",
          "dash": "solid"
         },
         "marker": {
          "symbol": "circle"
         },
         "mode": "lines",
         "name": "RoW, AIM/CGE V2.2",
         "showlegend": false,
         "type": "scattergl",
         "x": [
          2010,
          2015,
          2020,
          2025,
          2030,
          2035,
          2040,
          2045,
          2050,
          2055,
          2060,
          2065,
          2070,
          2075,
          2080,
          2085,
          2090,
          2095,
          2100
         ],
         "xaxis": "x",
         "y": [
          13674.386700000001,
          14993.2741,
          16216.075499999999,
          13001.9974,
          11296.5312,
          9976.394400000001,
          8356.781,
          6782.0054,
          4976.9653,
          2601.7297,
          2982.2180999999996,
          3138.1421,
          3128.2882,
          3200.2347999999997,
          3324.3532000000005,
          3590.5781,
          3749.7209000000003,
          3903.9739999999993,
          4004.6767000000004
         ],
         "yaxis": "y"
        },
        {
         "customdata": [
          [
           "T34_1000_ref",
           "COFFEE 1.5"
          ],
          [
           "T34_1000_ref",
           "COFFEE 1.5"
          ],
          [
           "T34_1000_ref",
           "COFFEE 1.5"
          ],
          [
           "T34_1000_ref",
           "COFFEE 1.5"
          ],
          [
           "T34_1000_ref",
           "COFFEE 1.5"
          ],
          [
           "T34_1000_ref",
           "COFFEE 1.5"
          ],
          [
           "T34_1000_ref",
           "COFFEE 1.5"
          ],
          [
           "T34_1000_ref",
           "COFFEE 1.5"
          ],
          [
           "T34_1000_ref",
           "COFFEE 1.5"
          ],
          [
           "T34_1000_ref",
           "COFFEE 1.5"
          ],
          [
           "T34_1000_ref",
           "COFFEE 1.5"
          ],
          [
           "T34_1000_ref",
           "COFFEE 1.5"
          ],
          [
           "T34_1000_ref",
           "COFFEE 1.5"
          ],
          [
           "T34_1000_ref",
           "COFFEE 1.5"
          ]
         ],
         "hovertemplate": "region=RoW<br>model=%{customdata[1]}<br>scenario_narrative=Cost Effective<br>year=%{x}<br>Emissions|Kyoto Gases=%{y}<br>scenario=%{customdata[0]}<extra></extra>",
         "legendgroup": "RoW, COFFEE 1.5",
         "line": {
          "color": "#00cc96",
          "dash": "dot"
         },
         "marker": {
          "symbol": "circle"
         },
         "mode": "lines",
         "name": "RoW, COFFEE 1.5",
         "showlegend": true,
         "type": "scattergl",
         "x": [
          2010,
          2015,
          2020,
          2025,
          2030,
          2035,
          2040,
          2045,
          2050,
          2060,
          2070,
          2080,
          2090,
          2100
         ],
         "xaxis": "x",
         "y": [
          14293.682910520552,
          15728.734347119656,
          13285.159692829598,
          11831.076450443055,
          11900.438598947218,
          11364.405235059181,
          11292.374146001797,
          10437.878531830316,
          9817.470731223864,
          8356.302640977163,
          5074.126942090801,
          1846.8748741024992,
          217.56710403501017,
          2206.9345595501213
         ],
         "yaxis": "y"
        },
        {
         "customdata": [
          [
           "T34_1000_bitb_ref",
           "COFFEE 1.5"
          ],
          [
           "T34_1000_bitb_ref",
           "COFFEE 1.5"
          ],
          [
           "T34_1000_bitb_ref",
           "COFFEE 1.5"
          ],
          [
           "T34_1000_bitb_ref",
           "COFFEE 1.5"
          ],
          [
           "T34_1000_bitb_ref",
           "COFFEE 1.5"
          ],
          [
           "T34_1000_bitb_ref",
           "COFFEE 1.5"
          ],
          [
           "T34_1000_bitb_ref",
           "COFFEE 1.5"
          ],
          [
           "T34_1000_bitb_ref",
           "COFFEE 1.5"
          ],
          [
           "T34_1000_bitb_ref",
           "COFFEE 1.5"
          ],
          [
           "T34_1000_bitb_ref",
           "COFFEE 1.5"
          ],
          [
           "T34_1000_bitb_ref",
           "COFFEE 1.5"
          ],
          [
           "T34_1000_bitb_ref",
           "COFFEE 1.5"
          ],
          [
           "T34_1000_bitb_ref",
           "COFFEE 1.5"
          ],
          [
           "T34_1000_bitb_ref",
           "COFFEE 1.5"
          ]
         ],
         "hovertemplate": "region=RoW<br>model=%{customdata[1]}<br>scenario_narrative=Tech<br>year=%{x}<br>Emissions|Kyoto Gases=%{y}<br>scenario=%{customdata[0]}<extra></extra>",
         "legendgroup": "RoW, COFFEE 1.5",
         "line": {
          "color": "#00cc96",
          "dash": "dot"
         },
         "marker": {
          "symbol": "circle"
         },
         "mode": "lines",
         "name": "RoW, COFFEE 1.5",
         "showlegend": false,
         "type": "scattergl",
         "x": [
          2010,
          2015,
          2020,
          2025,
          2030,
          2035,
          2040,
          2045,
          2050,
          2060,
          2070,
          2080,
          2090,
          2100
         ],
         "xaxis": "x2",
         "y": [
          14293.682910520552,
          15728.734347119656,
          13285.159692829598,
          11558.839694029055,
          10803.918677895917,
          10431.410472781905,
          10305.140375753448,
          9254.406471275244,
          8468.23343822718,
          5747.96759447389,
          3886.819037968411,
          3295.4301490581533,
          2632.827617151882,
          4252.959990062299
         ],
         "yaxis": "y2"
        },
        {
         "customdata": [
          [
           "T34_1000_bitb_em",
           "GEM-E3_V2023"
          ],
          [
           "T34_1000_bitb_em",
           "GEM-E3_V2023"
          ],
          [
           "T34_1000_bitb_em",
           "GEM-E3_V2023"
          ],
          [
           "T34_1000_bitb_em",
           "GEM-E3_V2023"
          ],
          [
           "T34_1000_bitb_em",
           "GEM-E3_V2023"
          ],
          [
           "T34_1000_bitb_em",
           "GEM-E3_V2023"
          ],
          [
           "T34_1000_bitb_em",
           "GEM-E3_V2023"
          ],
          [
           "T34_1000_bitb_em",
           "GEM-E3_V2023"
          ],
          [
           "T34_1000_bitb_em",
           "GEM-E3_V2023"
          ],
          [
           "T34_1000_bitb_em",
           "GEM-E3_V2023"
          ],
          [
           "T34_1000_bitb_em",
           "GEM-E3_V2023"
          ],
          [
           "T34_1000_bitb_em",
           "GEM-E3_V2023"
          ],
          [
           "T34_1000_bitb_em",
           "GEM-E3_V2023"
          ],
          [
           "T34_1000_bitb_em",
           "GEM-E3_V2023"
          ],
          [
           "T34_1000_bitb_em",
           "GEM-E3_V2023"
          ],
          [
           "T34_1000_bitb_em",
           "GEM-E3_V2023"
          ],
          [
           "T34_1000_bitb_em",
           "GEM-E3_V2023"
          ],
          [
           "T34_1000_bitb_em",
           "GEM-E3_V2023"
          ]
         ],
         "hovertemplate": "region=RoW<br>model=%{customdata[1]}<br>scenario_narrative=Tech+Inst<br>year=%{x}<br>Emissions|Kyoto Gases=%{y}<br>scenario=%{customdata[0]}<extra></extra>",
         "legendgroup": "RoW, GEM-E3_V2023",
         "line": {
          "color": "#00cc96",
          "dash": "dash"
         },
         "marker": {
          "symbol": "circle"
         },
         "mode": "lines",
         "name": "RoW, GEM-E3_V2023",
         "showlegend": true,
         "type": "scattergl",
         "x": [
          2015,
          2020,
          2025,
          2030,
          2035,
          2040,
          2045,
          2050,
          2055,
          2060,
          2065,
          2070,
          2075,
          2080,
          2085,
          2090,
          2095,
          2100
         ],
         "xaxis": "x4",
         "y": [
          9573.504737686944,
          9380.941145759622,
          9668.301255385559,
          8977.162135862247,
          8686.340198152342,
          8347.964105753355,
          7599.440116247169,
          6665.856586036167,
          5042.858143992415,
          4135.226518934574,
          3288.6583044258796,
          2730.717258162235,
          2751.253362340884,
          2580.9658683006714,
          1782.0383022279098,
          1284.316897496012,
          1334.3574886270048,
          1289.7050567380602
         ],
         "yaxis": "y4"
        },
        {
         "customdata": [
          [
           "T34_1000_feas_em",
           "GEM-E3_V2023"
          ],
          [
           "T34_1000_feas_em",
           "GEM-E3_V2023"
          ],
          [
           "T34_1000_feas_em",
           "GEM-E3_V2023"
          ],
          [
           "T34_1000_feas_em",
           "GEM-E3_V2023"
          ],
          [
           "T34_1000_feas_em",
           "GEM-E3_V2023"
          ],
          [
           "T34_1000_feas_em",
           "GEM-E3_V2023"
          ],
          [
           "T34_1000_feas_em",
           "GEM-E3_V2023"
          ],
          [
           "T34_1000_feas_em",
           "GEM-E3_V2023"
          ],
          [
           "T34_1000_feas_em",
           "GEM-E3_V2023"
          ],
          [
           "T34_1000_feas_em",
           "GEM-E3_V2023"
          ],
          [
           "T34_1000_feas_em",
           "GEM-E3_V2023"
          ],
          [
           "T34_1000_feas_em",
           "GEM-E3_V2023"
          ],
          [
           "T34_1000_feas_em",
           "GEM-E3_V2023"
          ],
          [
           "T34_1000_feas_em",
           "GEM-E3_V2023"
          ],
          [
           "T34_1000_feas_em",
           "GEM-E3_V2023"
          ],
          [
           "T34_1000_feas_em",
           "GEM-E3_V2023"
          ],
          [
           "T34_1000_feas_em",
           "GEM-E3_V2023"
          ],
          [
           "T34_1000_feas_em",
           "GEM-E3_V2023"
          ]
         ],
         "hovertemplate": "region=RoW<br>model=%{customdata[1]}<br>scenario_narrative=Tech+Inst+Enab<br>year=%{x}<br>Emissions|Kyoto Gases=%{y}<br>scenario=%{customdata[0]}<extra></extra>",
         "legendgroup": "RoW, GEM-E3_V2023",
         "line": {
          "color": "#00cc96",
          "dash": "dash"
         },
         "marker": {
          "symbol": "circle"
         },
         "mode": "lines",
         "name": "RoW, GEM-E3_V2023",
         "showlegend": false,
         "type": "scattergl",
         "x": [
          2015,
          2020,
          2025,
          2030,
          2035,
          2040,
          2045,
          2050,
          2055,
          2060,
          2065,
          2070,
          2075,
          2080,
          2085,
          2090,
          2095,
          2100
         ],
         "xaxis": "x5",
         "y": [
          9573.504737686944,
          9380.941145759622,
          9658.208294848318,
          9456.177942343289,
          8800.873724244282,
          8322.650830648872,
          7517.688131733427,
          6512.267447106715,
          4774.8706544376,
          3923.597892038707,
          3095.4817350027897,
          2483.9634472011207,
          2490.9871132309013,
          2295.251088356337,
          1558.1136727786327,
          1147.6442394902754,
          1063.7550031901771,
          1106.3171889093107
         ],
         "yaxis": "y5"
        },
        {
         "customdata": [
          [
           "T34_1000_govem",
           "GEM-E3_V2023"
          ],
          [
           "T34_1000_govem",
           "GEM-E3_V2023"
          ],
          [
           "T34_1000_govem",
           "GEM-E3_V2023"
          ],
          [
           "T34_1000_govem",
           "GEM-E3_V2023"
          ],
          [
           "T34_1000_govem",
           "GEM-E3_V2023"
          ],
          [
           "T34_1000_govem",
           "GEM-E3_V2023"
          ],
          [
           "T34_1000_govem",
           "GEM-E3_V2023"
          ],
          [
           "T34_1000_govem",
           "GEM-E3_V2023"
          ],
          [
           "T34_1000_govem",
           "GEM-E3_V2023"
          ],
          [
           "T34_1000_govem",
           "GEM-E3_V2023"
          ],
          [
           "T34_1000_govem",
           "GEM-E3_V2023"
          ],
          [
           "T34_1000_govem",
           "GEM-E3_V2023"
          ],
          [
           "T34_1000_govem",
           "GEM-E3_V2023"
          ],
          [
           "T34_1000_govem",
           "GEM-E3_V2023"
          ],
          [
           "T34_1000_govem",
           "GEM-E3_V2023"
          ],
          [
           "T34_1000_govem",
           "GEM-E3_V2023"
          ],
          [
           "T34_1000_govem",
           "GEM-E3_V2023"
          ],
          [
           "T34_1000_govem",
           "GEM-E3_V2023"
          ]
         ],
         "hovertemplate": "region=RoW<br>model=%{customdata[1]}<br>scenario_narrative=Instit<br>year=%{x}<br>Emissions|Kyoto Gases=%{y}<br>scenario=%{customdata[0]}<extra></extra>",
         "legendgroup": "RoW, GEM-E3_V2023",
         "line": {
          "color": "#00cc96",
          "dash": "dash"
         },
         "marker": {
          "symbol": "circle"
         },
         "mode": "lines",
         "name": "RoW, GEM-E3_V2023",
         "showlegend": false,
         "type": "scattergl",
         "x": [
          2015,
          2020,
          2025,
          2030,
          2035,
          2040,
          2045,
          2050,
          2055,
          2060,
          2065,
          2070,
          2075,
          2080,
          2085,
          2090,
          2095,
          2100
         ],
         "xaxis": "x6",
         "y": [
          9573.504737686944,
          9380.941145759622,
          9711.438321593565,
          9514.62256992213,
          9074.087258974861,
          8503.945429422009,
          8263.566569214472,
          7645.78080106323,
          5664.113688112575,
          3992.957697755429,
          2956.0131119321304,
          2171.150592321287,
          1744.4893317131964,
          1651.3514795037413,
          1321.9920545363782,
          1385.120802230878,
          1375.0546798143268,
          1482.022005982907
         ],
         "yaxis": "y6"
        },
        {
         "customdata": [
          [
           "T34_1000_ref",
           "GEM-E3_V2023"
          ],
          [
           "T34_1000_ref",
           "GEM-E3_V2023"
          ],
          [
           "T34_1000_ref",
           "GEM-E3_V2023"
          ],
          [
           "T34_1000_ref",
           "GEM-E3_V2023"
          ],
          [
           "T34_1000_ref",
           "GEM-E3_V2023"
          ],
          [
           "T34_1000_ref",
           "GEM-E3_V2023"
          ],
          [
           "T34_1000_ref",
           "GEM-E3_V2023"
          ],
          [
           "T34_1000_ref",
           "GEM-E3_V2023"
          ],
          [
           "T34_1000_ref",
           "GEM-E3_V2023"
          ],
          [
           "T34_1000_ref",
           "GEM-E3_V2023"
          ],
          [
           "T34_1000_ref",
           "GEM-E3_V2023"
          ],
          [
           "T34_1000_ref",
           "GEM-E3_V2023"
          ],
          [
           "T34_1000_ref",
           "GEM-E3_V2023"
          ],
          [
           "T34_1000_ref",
           "GEM-E3_V2023"
          ],
          [
           "T34_1000_ref",
           "GEM-E3_V2023"
          ],
          [
           "T34_1000_ref",
           "GEM-E3_V2023"
          ],
          [
           "T34_1000_ref",
           "GEM-E3_V2023"
          ],
          [
           "T34_1000_ref",
           "GEM-E3_V2023"
          ]
         ],
         "hovertemplate": "region=RoW<br>model=%{customdata[1]}<br>scenario_narrative=Cost Effective<br>year=%{x}<br>Emissions|Kyoto Gases=%{y}<br>scenario=%{customdata[0]}<extra></extra>",
         "legendgroup": "RoW, GEM-E3_V2023",
         "line": {
          "color": "#00cc96",
          "dash": "dash"
         },
         "marker": {
          "symbol": "circle"
         },
         "mode": "lines",
         "name": "RoW, GEM-E3_V2023",
         "showlegend": false,
         "type": "scattergl",
         "x": [
          2015,
          2020,
          2025,
          2030,
          2035,
          2040,
          2045,
          2050,
          2055,
          2060,
          2065,
          2070,
          2075,
          2080,
          2085,
          2090,
          2095,
          2100
         ],
         "xaxis": "x",
         "y": [
          9573.504737686944,
          9380.941145759622,
          9688.350285653343,
          9091.929516979459,
          7728.607954511759,
          6660.777316025506,
          5351.340186958771,
          4344.9399558461755,
          3168.3367712294,
          2122.2644846433936,
          1716.8485181850517,
          1338.492054246901,
          846.7460611590129,
          947.0166977776888,
          840.027154183642,
          1124.342737244956,
          1110.007386607326,
          1159.7630661262158
         ],
         "yaxis": "y"
        },
        {
         "customdata": [
          [
           "T34_1000_bitb_em",
           "IMAGE 3.2"
          ],
          [
           "T34_1000_bitb_em",
           "IMAGE 3.2"
          ],
          [
           "T34_1000_bitb_em",
           "IMAGE 3.2"
          ],
          [
           "T34_1000_bitb_em",
           "IMAGE 3.2"
          ],
          [
           "T34_1000_bitb_em",
           "IMAGE 3.2"
          ],
          [
           "T34_1000_bitb_em",
           "IMAGE 3.2"
          ],
          [
           "T34_1000_bitb_em",
           "IMAGE 3.2"
          ],
          [
           "T34_1000_bitb_em",
           "IMAGE 3.2"
          ],
          [
           "T34_1000_bitb_em",
           "IMAGE 3.2"
          ],
          [
           "T34_1000_bitb_em",
           "IMAGE 3.2"
          ],
          [
           "T34_1000_bitb_em",
           "IMAGE 3.2"
          ],
          [
           "T34_1000_bitb_em",
           "IMAGE 3.2"
          ],
          [
           "T34_1000_bitb_em",
           "IMAGE 3.2"
          ],
          [
           "T34_1000_bitb_em",
           "IMAGE 3.2"
          ],
          [
           "T34_1000_bitb_em",
           "IMAGE 3.2"
          ],
          [
           "T34_1000_bitb_em",
           "IMAGE 3.2"
          ],
          [
           "T34_1000_bitb_em",
           "IMAGE 3.2"
          ],
          [
           "T34_1000_bitb_em",
           "IMAGE 3.2"
          ],
          [
           "T34_1000_bitb_em",
           "IMAGE 3.2"
          ],
          [
           "T34_1000_bitb_em",
           "IMAGE 3.2"
          ]
         ],
         "hovertemplate": "region=RoW<br>model=%{customdata[1]}<br>scenario_narrative=Tech+Inst<br>year=%{x}<br>Emissions|Kyoto Gases=%{y}<br>scenario=%{customdata[0]}<extra></extra>",
         "legendgroup": "RoW, IMAGE 3.2",
         "line": {
          "color": "#00cc96",
          "dash": "longdash"
         },
         "marker": {
          "symbol": "circle"
         },
         "mode": "lines",
         "name": "RoW, IMAGE 3.2",
         "showlegend": true,
         "type": "scattergl",
         "x": [
          2005,
          2010,
          2015,
          2020,
          2025,
          2030,
          2035,
          2040,
          2045,
          2050,
          2055,
          2060,
          2065,
          2070,
          2075,
          2080,
          2085,
          2090,
          2095,
          2100
         ],
         "xaxis": "x4",
         "y": [
          12317.008361816406,
          14562.927215576172,
          15006.793975830078,
          16150.40365600586,
          17553.889038085938,
          13952.332916259766,
          12594.897354125977,
          11018.009307861328,
          9475.618041992188,
          7016.450729370117,
          5973.238334655762,
          4797.852411270142,
          4711.8275644779205,
          3820.8621578216553,
          4367.947635650635,
          3616.196831703186,
          4140.893337249756,
          3102.7946977615356,
          3520.6410388946533,
          2631.172550201416
         ],
         "yaxis": "y4"
        },
        {
         "customdata": [
          [
           "T34_1000_feas_em",
           "IMAGE 3.2"
          ],
          [
           "T34_1000_feas_em",
           "IMAGE 3.2"
          ],
          [
           "T34_1000_feas_em",
           "IMAGE 3.2"
          ],
          [
           "T34_1000_feas_em",
           "IMAGE 3.2"
          ],
          [
           "T34_1000_feas_em",
           "IMAGE 3.2"
          ],
          [
           "T34_1000_feas_em",
           "IMAGE 3.2"
          ],
          [
           "T34_1000_feas_em",
           "IMAGE 3.2"
          ],
          [
           "T34_1000_feas_em",
           "IMAGE 3.2"
          ],
          [
           "T34_1000_feas_em",
           "IMAGE 3.2"
          ],
          [
           "T34_1000_feas_em",
           "IMAGE 3.2"
          ],
          [
           "T34_1000_feas_em",
           "IMAGE 3.2"
          ],
          [
           "T34_1000_feas_em",
           "IMAGE 3.2"
          ],
          [
           "T34_1000_feas_em",
           "IMAGE 3.2"
          ],
          [
           "T34_1000_feas_em",
           "IMAGE 3.2"
          ],
          [
           "T34_1000_feas_em",
           "IMAGE 3.2"
          ],
          [
           "T34_1000_feas_em",
           "IMAGE 3.2"
          ],
          [
           "T34_1000_feas_em",
           "IMAGE 3.2"
          ],
          [
           "T34_1000_feas_em",
           "IMAGE 3.2"
          ],
          [
           "T34_1000_feas_em",
           "IMAGE 3.2"
          ],
          [
           "T34_1000_feas_em",
           "IMAGE 3.2"
          ]
         ],
         "hovertemplate": "region=RoW<br>model=%{customdata[1]}<br>scenario_narrative=Tech+Inst+Enab<br>year=%{x}<br>Emissions|Kyoto Gases=%{y}<br>scenario=%{customdata[0]}<extra></extra>",
         "legendgroup": "RoW, IMAGE 3.2",
         "line": {
          "color": "#00cc96",
          "dash": "longdash"
         },
         "marker": {
          "symbol": "circle"
         },
         "mode": "lines",
         "name": "RoW, IMAGE 3.2",
         "showlegend": false,
         "type": "scattergl",
         "x": [
          2005,
          2010,
          2015,
          2020,
          2025,
          2030,
          2035,
          2040,
          2045,
          2050,
          2055,
          2060,
          2065,
          2070,
          2075,
          2080,
          2085,
          2090,
          2095,
          2100
         ],
         "xaxis": "x5",
         "y": [
          12317.008361816406,
          14562.644775390625,
          15005.565795898438,
          16150.08041381836,
          17648.31723022461,
          14844.742492675781,
          14222.69970703125,
          12334.782318115234,
          10334.422897338867,
          8881.406173706055,
          7988.575241088867,
          6730.0979347229,
          6239.982063293457,
          4973.825174331665,
          5328.019939422607,
          4038.3641233444214,
          4047.317551136017,
          3010.31444644928,
          3392.273509979248,
          2562.456760406494
         ],
         "yaxis": "y5"
        },
        {
         "customdata": [
          [
           "T34_1000_govem",
           "IMAGE 3.2"
          ],
          [
           "T34_1000_govem",
           "IMAGE 3.2"
          ],
          [
           "T34_1000_govem",
           "IMAGE 3.2"
          ],
          [
           "T34_1000_govem",
           "IMAGE 3.2"
          ],
          [
           "T34_1000_govem",
           "IMAGE 3.2"
          ],
          [
           "T34_1000_govem",
           "IMAGE 3.2"
          ],
          [
           "T34_1000_govem",
           "IMAGE 3.2"
          ],
          [
           "T34_1000_govem",
           "IMAGE 3.2"
          ],
          [
           "T34_1000_govem",
           "IMAGE 3.2"
          ],
          [
           "T34_1000_govem",
           "IMAGE 3.2"
          ],
          [
           "T34_1000_govem",
           "IMAGE 3.2"
          ],
          [
           "T34_1000_govem",
           "IMAGE 3.2"
          ],
          [
           "T34_1000_govem",
           "IMAGE 3.2"
          ],
          [
           "T34_1000_govem",
           "IMAGE 3.2"
          ],
          [
           "T34_1000_govem",
           "IMAGE 3.2"
          ],
          [
           "T34_1000_govem",
           "IMAGE 3.2"
          ],
          [
           "T34_1000_govem",
           "IMAGE 3.2"
          ],
          [
           "T34_1000_govem",
           "IMAGE 3.2"
          ],
          [
           "T34_1000_govem",
           "IMAGE 3.2"
          ],
          [
           "T34_1000_govem",
           "IMAGE 3.2"
          ]
         ],
         "hovertemplate": "region=RoW<br>model=%{customdata[1]}<br>scenario_narrative=Instit<br>year=%{x}<br>Emissions|Kyoto Gases=%{y}<br>scenario=%{customdata[0]}<extra></extra>",
         "legendgroup": "RoW, IMAGE 3.2",
         "line": {
          "color": "#00cc96",
          "dash": "longdash"
         },
         "marker": {
          "symbol": "circle"
         },
         "mode": "lines",
         "name": "RoW, IMAGE 3.2",
         "showlegend": false,
         "type": "scattergl",
         "x": [
          2005,
          2010,
          2015,
          2020,
          2025,
          2030,
          2035,
          2040,
          2045,
          2050,
          2055,
          2060,
          2065,
          2070,
          2075,
          2080,
          2085,
          2090,
          2095,
          2100
         ],
         "xaxis": "x6",
         "y": [
          12317.008361816406,
          14562.927215576172,
          15006.793975830078,
          16146.317413330078,
          18418.70199584961,
          15548.20767211914,
          14374.297241210938,
          11968.432540893555,
          9836.191101074219,
          8307.931640625,
          7494.369338989258,
          6354.28625869751,
          6545.97575378418,
          5957.769367218018,
          6873.205326080322,
          6110.244934082031,
          6696.809872627258,
          6179.8246212005615,
          6813.223808288574,
          5984.939805984497
         ],
         "yaxis": "y6"
        },
        {
         "customdata": [
          [
           "T34_1000_ref",
           "IMAGE 3.2"
          ],
          [
           "T34_1000_ref",
           "IMAGE 3.2"
          ],
          [
           "T34_1000_ref",
           "IMAGE 3.2"
          ],
          [
           "T34_1000_ref",
           "IMAGE 3.2"
          ],
          [
           "T34_1000_ref",
           "IMAGE 3.2"
          ],
          [
           "T34_1000_ref",
           "IMAGE 3.2"
          ],
          [
           "T34_1000_ref",
           "IMAGE 3.2"
          ],
          [
           "T34_1000_ref",
           "IMAGE 3.2"
          ],
          [
           "T34_1000_ref",
           "IMAGE 3.2"
          ],
          [
           "T34_1000_ref",
           "IMAGE 3.2"
          ],
          [
           "T34_1000_ref",
           "IMAGE 3.2"
          ],
          [
           "T34_1000_ref",
           "IMAGE 3.2"
          ],
          [
           "T34_1000_ref",
           "IMAGE 3.2"
          ],
          [
           "T34_1000_ref",
           "IMAGE 3.2"
          ],
          [
           "T34_1000_ref",
           "IMAGE 3.2"
          ],
          [
           "T34_1000_ref",
           "IMAGE 3.2"
          ],
          [
           "T34_1000_ref",
           "IMAGE 3.2"
          ],
          [
           "T34_1000_ref",
           "IMAGE 3.2"
          ],
          [
           "T34_1000_ref",
           "IMAGE 3.2"
          ],
          [
           "T34_1000_ref",
           "IMAGE 3.2"
          ]
         ],
         "hovertemplate": "region=RoW<br>model=%{customdata[1]}<br>scenario_narrative=Cost Effective<br>year=%{x}<br>Emissions|Kyoto Gases=%{y}<br>scenario=%{customdata[0]}<extra></extra>",
         "legendgroup": "RoW, IMAGE 3.2",
         "line": {
          "color": "#00cc96",
          "dash": "longdash"
         },
         "marker": {
          "symbol": "circle"
         },
         "mode": "lines",
         "name": "RoW, IMAGE 3.2",
         "showlegend": false,
         "type": "scattergl",
         "x": [
          2005,
          2010,
          2015,
          2020,
          2025,
          2030,
          2035,
          2040,
          2045,
          2050,
          2055,
          2060,
          2065,
          2070,
          2075,
          2080,
          2085,
          2090,
          2095,
          2100
         ],
         "xaxis": "x",
         "y": [
          12317.008361816406,
          14562.927215576172,
          15006.793975830078,
          16146.317413330078,
          17810.173370361328,
          13695.521270751953,
          11164.341812133789,
          9156.872451782227,
          7669.255599975586,
          6124.143257141113,
          5572.283313751221,
          4903.266632080078,
          4641.488830566406,
          3968.1140327453613,
          5245.038513183594,
          4229.589541256428,
          5080.639189422131,
          4699.642616271973,
          5344.770164489746,
          4582.394304275513
         ],
         "yaxis": "y"
        },
        {
         "customdata": [
          [
           "T34_1000_bitb_ref",
           "IMAGE 3.2"
          ],
          [
           "T34_1000_bitb_ref",
           "IMAGE 3.2"
          ],
          [
           "T34_1000_bitb_ref",
           "IMAGE 3.2"
          ],
          [
           "T34_1000_bitb_ref",
           "IMAGE 3.2"
          ],
          [
           "T34_1000_bitb_ref",
           "IMAGE 3.2"
          ],
          [
           "T34_1000_bitb_ref",
           "IMAGE 3.2"
          ],
          [
           "T34_1000_bitb_ref",
           "IMAGE 3.2"
          ],
          [
           "T34_1000_bitb_ref",
           "IMAGE 3.2"
          ],
          [
           "T34_1000_bitb_ref",
           "IMAGE 3.2"
          ],
          [
           "T34_1000_bitb_ref",
           "IMAGE 3.2"
          ],
          [
           "T34_1000_bitb_ref",
           "IMAGE 3.2"
          ],
          [
           "T34_1000_bitb_ref",
           "IMAGE 3.2"
          ],
          [
           "T34_1000_bitb_ref",
           "IMAGE 3.2"
          ],
          [
           "T34_1000_bitb_ref",
           "IMAGE 3.2"
          ],
          [
           "T34_1000_bitb_ref",
           "IMAGE 3.2"
          ],
          [
           "T34_1000_bitb_ref",
           "IMAGE 3.2"
          ],
          [
           "T34_1000_bitb_ref",
           "IMAGE 3.2"
          ],
          [
           "T34_1000_bitb_ref",
           "IMAGE 3.2"
          ],
          [
           "T34_1000_bitb_ref",
           "IMAGE 3.2"
          ],
          [
           "T34_1000_bitb_ref",
           "IMAGE 3.2"
          ]
         ],
         "hovertemplate": "region=RoW<br>model=%{customdata[1]}<br>scenario_narrative=Tech<br>year=%{x}<br>Emissions|Kyoto Gases=%{y}<br>scenario=%{customdata[0]}<extra></extra>",
         "legendgroup": "RoW, IMAGE 3.2",
         "line": {
          "color": "#00cc96",
          "dash": "longdash"
         },
         "marker": {
          "symbol": "circle"
         },
         "mode": "lines",
         "name": "RoW, IMAGE 3.2",
         "showlegend": false,
         "type": "scattergl",
         "x": [
          2005,
          2010,
          2015,
          2020,
          2025,
          2030,
          2035,
          2040,
          2045,
          2050,
          2055,
          2060,
          2065,
          2070,
          2075,
          2080,
          2085,
          2090,
          2095,
          2100
         ],
         "xaxis": "x2",
         "y": [
          12317.008361816406,
          14562.927215576172,
          15006.793975830078,
          16150.40365600586,
          16874.645751953125,
          12839.394775390625,
          11630.588897705078,
          10068.31770324707,
          8545.905014038086,
          6346.7537841796875,
          5488.4858322143555,
          4531.007261276245,
          4262.456432342529,
          3421.0280208587646,
          3858.341869354248,
          3036.290414571762,
          3471.48548412323,
          2660.618621826172,
          3391.1937742233276,
          2438.511308670044
         ],
         "yaxis": "y2"
        },
        {
         "customdata": [
          [
           "T34_1000_bitb_em",
           "MESSAGEix-GLOBIOM_1.1"
          ],
          [
           "T34_1000_bitb_em",
           "MESSAGEix-GLOBIOM_1.1"
          ],
          [
           "T34_1000_bitb_em",
           "MESSAGEix-GLOBIOM_1.1"
          ],
          [
           "T34_1000_bitb_em",
           "MESSAGEix-GLOBIOM_1.1"
          ],
          [
           "T34_1000_bitb_em",
           "MESSAGEix-GLOBIOM_1.1"
          ],
          [
           "T34_1000_bitb_em",
           "MESSAGEix-GLOBIOM_1.1"
          ],
          [
           "T34_1000_bitb_em",
           "MESSAGEix-GLOBIOM_1.1"
          ],
          [
           "T34_1000_bitb_em",
           "MESSAGEix-GLOBIOM_1.1"
          ],
          [
           "T34_1000_bitb_em",
           "MESSAGEix-GLOBIOM_1.1"
          ],
          [
           "T34_1000_bitb_em",
           "MESSAGEix-GLOBIOM_1.1"
          ],
          [
           "T34_1000_bitb_em",
           "MESSAGEix-GLOBIOM_1.1"
          ],
          [
           "T34_1000_bitb_em",
           "MESSAGEix-GLOBIOM_1.1"
          ],
          [
           "T34_1000_bitb_em",
           "MESSAGEix-GLOBIOM_1.1"
          ],
          [
           "T34_1000_bitb_em",
           "MESSAGEix-GLOBIOM_1.1"
          ],
          [
           "T34_1000_bitb_em",
           "MESSAGEix-GLOBIOM_1.1"
          ],
          [
           "T34_1000_bitb_em",
           "MESSAGEix-GLOBIOM_1.1"
          ],
          [
           "T34_1000_bitb_em",
           "MESSAGEix-GLOBIOM_1.1"
          ],
          [
           "T34_1000_bitb_em",
           "MESSAGEix-GLOBIOM_1.1"
          ],
          [
           "T34_1000_bitb_em",
           "MESSAGEix-GLOBIOM_1.1"
          ],
          [
           "T34_1000_bitb_em",
           "MESSAGEix-GLOBIOM_1.1"
          ]
         ],
         "hovertemplate": "region=RoW<br>model=%{customdata[1]}<br>scenario_narrative=Tech+Inst<br>year=%{x}<br>Emissions|Kyoto Gases=%{y}<br>scenario=%{customdata[0]}<extra></extra>",
         "legendgroup": "RoW, MESSAGEix-GLOBIOM_1.1",
         "line": {
          "color": "#00cc96",
          "dash": "dashdot"
         },
         "marker": {
          "symbol": "circle"
         },
         "mode": "lines",
         "name": "RoW, MESSAGEix-GLOBIOM_1.1",
         "showlegend": true,
         "type": "scattergl",
         "x": [
          1990,
          1995,
          2000,
          2005,
          2010,
          2015,
          2020,
          2025,
          2030,
          2035,
          2040,
          2045,
          2050,
          2055,
          2060,
          2070,
          2080,
          2090,
          2100,
          2110
         ],
         "xaxis": "x4",
         "y": [
          12449.196041500001,
          12874.567420399999,
          13833.145321666665,
          15319.395992333331,
          16608.757367333335,
          18216.631782666664,
          18342.15489268185,
          16939.260187906944,
          16341.47819247188,
          16006.420013181825,
          15451.598547006337,
          14841.856655120271,
          13752.637787069583,
          12598.46332540087,
          11090.456898605566,
          6793.705789758978,
          4850.5482331985295,
          3178.170682737437,
          3128.8102176592542,
          3527.975923112464
         ],
         "yaxis": "y4"
        },
        {
         "customdata": [
          [
           "T34_1000_feas_em",
           "MESSAGEix-GLOBIOM_1.1"
          ],
          [
           "T34_1000_feas_em",
           "MESSAGEix-GLOBIOM_1.1"
          ],
          [
           "T34_1000_feas_em",
           "MESSAGEix-GLOBIOM_1.1"
          ],
          [
           "T34_1000_feas_em",
           "MESSAGEix-GLOBIOM_1.1"
          ],
          [
           "T34_1000_feas_em",
           "MESSAGEix-GLOBIOM_1.1"
          ],
          [
           "T34_1000_feas_em",
           "MESSAGEix-GLOBIOM_1.1"
          ],
          [
           "T34_1000_feas_em",
           "MESSAGEix-GLOBIOM_1.1"
          ],
          [
           "T34_1000_feas_em",
           "MESSAGEix-GLOBIOM_1.1"
          ],
          [
           "T34_1000_feas_em",
           "MESSAGEix-GLOBIOM_1.1"
          ],
          [
           "T34_1000_feas_em",
           "MESSAGEix-GLOBIOM_1.1"
          ],
          [
           "T34_1000_feas_em",
           "MESSAGEix-GLOBIOM_1.1"
          ],
          [
           "T34_1000_feas_em",
           "MESSAGEix-GLOBIOM_1.1"
          ],
          [
           "T34_1000_feas_em",
           "MESSAGEix-GLOBIOM_1.1"
          ],
          [
           "T34_1000_feas_em",
           "MESSAGEix-GLOBIOM_1.1"
          ],
          [
           "T34_1000_feas_em",
           "MESSAGEix-GLOBIOM_1.1"
          ],
          [
           "T34_1000_feas_em",
           "MESSAGEix-GLOBIOM_1.1"
          ],
          [
           "T34_1000_feas_em",
           "MESSAGEix-GLOBIOM_1.1"
          ],
          [
           "T34_1000_feas_em",
           "MESSAGEix-GLOBIOM_1.1"
          ],
          [
           "T34_1000_feas_em",
           "MESSAGEix-GLOBIOM_1.1"
          ],
          [
           "T34_1000_feas_em",
           "MESSAGEix-GLOBIOM_1.1"
          ]
         ],
         "hovertemplate": "region=RoW<br>model=%{customdata[1]}<br>scenario_narrative=Tech+Inst+Enab<br>year=%{x}<br>Emissions|Kyoto Gases=%{y}<br>scenario=%{customdata[0]}<extra></extra>",
         "legendgroup": "RoW, MESSAGEix-GLOBIOM_1.1",
         "line": {
          "color": "#00cc96",
          "dash": "dashdot"
         },
         "marker": {
          "symbol": "circle"
         },
         "mode": "lines",
         "name": "RoW, MESSAGEix-GLOBIOM_1.1",
         "showlegend": false,
         "type": "scattergl",
         "x": [
          1990,
          1995,
          2000,
          2005,
          2010,
          2015,
          2020,
          2025,
          2030,
          2035,
          2040,
          2045,
          2050,
          2055,
          2060,
          2070,
          2080,
          2090,
          2100,
          2110
         ],
         "xaxis": "x5",
         "y": [
          12449.196041500001,
          12874.567420399999,
          13833.145321666665,
          15319.395992333331,
          16608.757367333335,
          18216.631782666664,
          18342.15489268185,
          16939.260187906944,
          18567.464495587174,
          18973.166859498477,
          18472.287121217996,
          16998.751803444196,
          14771.236374102375,
          12783.146172081473,
          10398.867587568631,
          6537.669238178805,
          3178.942963923627,
          1619.3449929347998,
          1040.9084864924725,
          526.014979271436
         ],
         "yaxis": "y5"
        },
        {
         "customdata": [
          [
           "T34_1000_govem",
           "MESSAGEix-GLOBIOM_1.1"
          ],
          [
           "T34_1000_govem",
           "MESSAGEix-GLOBIOM_1.1"
          ],
          [
           "T34_1000_govem",
           "MESSAGEix-GLOBIOM_1.1"
          ],
          [
           "T34_1000_govem",
           "MESSAGEix-GLOBIOM_1.1"
          ],
          [
           "T34_1000_govem",
           "MESSAGEix-GLOBIOM_1.1"
          ],
          [
           "T34_1000_govem",
           "MESSAGEix-GLOBIOM_1.1"
          ],
          [
           "T34_1000_govem",
           "MESSAGEix-GLOBIOM_1.1"
          ],
          [
           "T34_1000_govem",
           "MESSAGEix-GLOBIOM_1.1"
          ],
          [
           "T34_1000_govem",
           "MESSAGEix-GLOBIOM_1.1"
          ],
          [
           "T34_1000_govem",
           "MESSAGEix-GLOBIOM_1.1"
          ],
          [
           "T34_1000_govem",
           "MESSAGEix-GLOBIOM_1.1"
          ],
          [
           "T34_1000_govem",
           "MESSAGEix-GLOBIOM_1.1"
          ],
          [
           "T34_1000_govem",
           "MESSAGEix-GLOBIOM_1.1"
          ],
          [
           "T34_1000_govem",
           "MESSAGEix-GLOBIOM_1.1"
          ],
          [
           "T34_1000_govem",
           "MESSAGEix-GLOBIOM_1.1"
          ],
          [
           "T34_1000_govem",
           "MESSAGEix-GLOBIOM_1.1"
          ],
          [
           "T34_1000_govem",
           "MESSAGEix-GLOBIOM_1.1"
          ],
          [
           "T34_1000_govem",
           "MESSAGEix-GLOBIOM_1.1"
          ],
          [
           "T34_1000_govem",
           "MESSAGEix-GLOBIOM_1.1"
          ],
          [
           "T34_1000_govem",
           "MESSAGEix-GLOBIOM_1.1"
          ]
         ],
         "hovertemplate": "region=RoW<br>model=%{customdata[1]}<br>scenario_narrative=Instit<br>year=%{x}<br>Emissions|Kyoto Gases=%{y}<br>scenario=%{customdata[0]}<extra></extra>",
         "legendgroup": "RoW, MESSAGEix-GLOBIOM_1.1",
         "line": {
          "color": "#00cc96",
          "dash": "dashdot"
         },
         "marker": {
          "symbol": "circle"
         },
         "mode": "lines",
         "name": "RoW, MESSAGEix-GLOBIOM_1.1",
         "showlegend": false,
         "type": "scattergl",
         "x": [
          1990,
          1995,
          2000,
          2005,
          2010,
          2015,
          2020,
          2025,
          2030,
          2035,
          2040,
          2045,
          2050,
          2055,
          2060,
          2070,
          2080,
          2090,
          2100,
          2110
         ],
         "xaxis": "x6",
         "y": [
          12449.196041500001,
          12874.567420399999,
          13833.145321666665,
          15319.395992333331,
          16608.757367333335,
          18216.631782666664,
          18342.15489268185,
          16939.260187906944,
          16336.851725619528,
          15837.1397910601,
          15219.56423385287,
          14739.555474317516,
          13674.281109816777,
          12709.427015694419,
          11172.22898088182,
          7115.7310497235885,
          5152.944919654024,
          4286.073343072987,
          4227.176370812967,
          4245.835300661119
         ],
         "yaxis": "y6"
        },
        {
         "customdata": [
          [
           "T34_1000_ref",
           "MESSAGEix-GLOBIOM_1.1"
          ],
          [
           "T34_1000_ref",
           "MESSAGEix-GLOBIOM_1.1"
          ],
          [
           "T34_1000_ref",
           "MESSAGEix-GLOBIOM_1.1"
          ],
          [
           "T34_1000_ref",
           "MESSAGEix-GLOBIOM_1.1"
          ],
          [
           "T34_1000_ref",
           "MESSAGEix-GLOBIOM_1.1"
          ],
          [
           "T34_1000_ref",
           "MESSAGEix-GLOBIOM_1.1"
          ],
          [
           "T34_1000_ref",
           "MESSAGEix-GLOBIOM_1.1"
          ],
          [
           "T34_1000_ref",
           "MESSAGEix-GLOBIOM_1.1"
          ],
          [
           "T34_1000_ref",
           "MESSAGEix-GLOBIOM_1.1"
          ],
          [
           "T34_1000_ref",
           "MESSAGEix-GLOBIOM_1.1"
          ],
          [
           "T34_1000_ref",
           "MESSAGEix-GLOBIOM_1.1"
          ],
          [
           "T34_1000_ref",
           "MESSAGEix-GLOBIOM_1.1"
          ],
          [
           "T34_1000_ref",
           "MESSAGEix-GLOBIOM_1.1"
          ],
          [
           "T34_1000_ref",
           "MESSAGEix-GLOBIOM_1.1"
          ],
          [
           "T34_1000_ref",
           "MESSAGEix-GLOBIOM_1.1"
          ],
          [
           "T34_1000_ref",
           "MESSAGEix-GLOBIOM_1.1"
          ],
          [
           "T34_1000_ref",
           "MESSAGEix-GLOBIOM_1.1"
          ],
          [
           "T34_1000_ref",
           "MESSAGEix-GLOBIOM_1.1"
          ],
          [
           "T34_1000_ref",
           "MESSAGEix-GLOBIOM_1.1"
          ],
          [
           "T34_1000_ref",
           "MESSAGEix-GLOBIOM_1.1"
          ]
         ],
         "hovertemplate": "region=RoW<br>model=%{customdata[1]}<br>scenario_narrative=Cost Effective<br>year=%{x}<br>Emissions|Kyoto Gases=%{y}<br>scenario=%{customdata[0]}<extra></extra>",
         "legendgroup": "RoW, MESSAGEix-GLOBIOM_1.1",
         "line": {
          "color": "#00cc96",
          "dash": "dashdot"
         },
         "marker": {
          "symbol": "circle"
         },
         "mode": "lines",
         "name": "RoW, MESSAGEix-GLOBIOM_1.1",
         "showlegend": false,
         "type": "scattergl",
         "x": [
          1990,
          1995,
          2000,
          2005,
          2010,
          2015,
          2020,
          2025,
          2030,
          2035,
          2040,
          2045,
          2050,
          2055,
          2060,
          2070,
          2080,
          2090,
          2100,
          2110
         ],
         "xaxis": "x",
         "y": [
          12449.196041500001,
          12874.567420399999,
          13833.145321666665,
          15319.395992333331,
          16608.757367333335,
          18216.631782666664,
          18342.15489268185,
          16939.260187906944,
          13829.527174317845,
          12629.178638012349,
          10992.084425066569,
          9273.593368055399,
          7521.062180477835,
          6113.232695650373,
          5056.086065032967,
          2884.090519554808,
          2854.069972124809,
          2589.014622513862,
          2878.539554935338,
          3065.6739944137416
         ],
         "yaxis": "y"
        },
        {
         "customdata": [
          [
           "T34_1000_bitb_ref",
           "MESSAGEix-GLOBIOM_1.1"
          ],
          [
           "T34_1000_bitb_ref",
           "MESSAGEix-GLOBIOM_1.1"
          ],
          [
           "T34_1000_bitb_ref",
           "MESSAGEix-GLOBIOM_1.1"
          ],
          [
           "T34_1000_bitb_ref",
           "MESSAGEix-GLOBIOM_1.1"
          ],
          [
           "T34_1000_bitb_ref",
           "MESSAGEix-GLOBIOM_1.1"
          ],
          [
           "T34_1000_bitb_ref",
           "MESSAGEix-GLOBIOM_1.1"
          ],
          [
           "T34_1000_bitb_ref",
           "MESSAGEix-GLOBIOM_1.1"
          ],
          [
           "T34_1000_bitb_ref",
           "MESSAGEix-GLOBIOM_1.1"
          ],
          [
           "T34_1000_bitb_ref",
           "MESSAGEix-GLOBIOM_1.1"
          ],
          [
           "T34_1000_bitb_ref",
           "MESSAGEix-GLOBIOM_1.1"
          ],
          [
           "T34_1000_bitb_ref",
           "MESSAGEix-GLOBIOM_1.1"
          ],
          [
           "T34_1000_bitb_ref",
           "MESSAGEix-GLOBIOM_1.1"
          ],
          [
           "T34_1000_bitb_ref",
           "MESSAGEix-GLOBIOM_1.1"
          ],
          [
           "T34_1000_bitb_ref",
           "MESSAGEix-GLOBIOM_1.1"
          ],
          [
           "T34_1000_bitb_ref",
           "MESSAGEix-GLOBIOM_1.1"
          ],
          [
           "T34_1000_bitb_ref",
           "MESSAGEix-GLOBIOM_1.1"
          ],
          [
           "T34_1000_bitb_ref",
           "MESSAGEix-GLOBIOM_1.1"
          ],
          [
           "T34_1000_bitb_ref",
           "MESSAGEix-GLOBIOM_1.1"
          ],
          [
           "T34_1000_bitb_ref",
           "MESSAGEix-GLOBIOM_1.1"
          ],
          [
           "T34_1000_bitb_ref",
           "MESSAGEix-GLOBIOM_1.1"
          ]
         ],
         "hovertemplate": "region=RoW<br>model=%{customdata[1]}<br>scenario_narrative=Tech<br>year=%{x}<br>Emissions|Kyoto Gases=%{y}<br>scenario=%{customdata[0]}<extra></extra>",
         "legendgroup": "RoW, MESSAGEix-GLOBIOM_1.1",
         "line": {
          "color": "#00cc96",
          "dash": "dashdot"
         },
         "marker": {
          "symbol": "circle"
         },
         "mode": "lines",
         "name": "RoW, MESSAGEix-GLOBIOM_1.1",
         "showlegend": false,
         "type": "scattergl",
         "x": [
          1990,
          1995,
          2000,
          2005,
          2010,
          2015,
          2020,
          2025,
          2030,
          2035,
          2040,
          2045,
          2050,
          2055,
          2060,
          2070,
          2080,
          2090,
          2100,
          2110
         ],
         "xaxis": "x2",
         "y": [
          12449.196041500001,
          12874.567420399999,
          13833.145321666665,
          15319.395992333331,
          16608.757367333335,
          18216.631782666664,
          18342.15489268185,
          16939.260187906944,
          13804.190377651608,
          12521.986382071489,
          10952.837132127028,
          9181.486452164552,
          7304.909066611809,
          5900.890380493131,
          4860.85783141126,
          2311.1941611289353,
          2213.195084670058,
          2497.520512739057,
          2993.252444433415,
          3241.27412209521
         ],
         "yaxis": "y2"
        },
        {
         "customdata": [
          [
           "T34_1000_enab_em",
           "MESSAGEix-GLOBIOM_1.1"
          ],
          [
           "T34_1000_enab_em",
           "MESSAGEix-GLOBIOM_1.1"
          ],
          [
           "T34_1000_enab_em",
           "MESSAGEix-GLOBIOM_1.1"
          ],
          [
           "T34_1000_enab_em",
           "MESSAGEix-GLOBIOM_1.1"
          ],
          [
           "T34_1000_enab_em",
           "MESSAGEix-GLOBIOM_1.1"
          ],
          [
           "T34_1000_enab_em",
           "MESSAGEix-GLOBIOM_1.1"
          ],
          [
           "T34_1000_enab_em",
           "MESSAGEix-GLOBIOM_1.1"
          ],
          [
           "T34_1000_enab_em",
           "MESSAGEix-GLOBIOM_1.1"
          ],
          [
           "T34_1000_enab_em",
           "MESSAGEix-GLOBIOM_1.1"
          ],
          [
           "T34_1000_enab_em",
           "MESSAGEix-GLOBIOM_1.1"
          ],
          [
           "T34_1000_enab_em",
           "MESSAGEix-GLOBIOM_1.1"
          ],
          [
           "T34_1000_enab_em",
           "MESSAGEix-GLOBIOM_1.1"
          ],
          [
           "T34_1000_enab_em",
           "MESSAGEix-GLOBIOM_1.1"
          ],
          [
           "T34_1000_enab_em",
           "MESSAGEix-GLOBIOM_1.1"
          ],
          [
           "T34_1000_enab_em",
           "MESSAGEix-GLOBIOM_1.1"
          ],
          [
           "T34_1000_enab_em",
           "MESSAGEix-GLOBIOM_1.1"
          ],
          [
           "T34_1000_enab_em",
           "MESSAGEix-GLOBIOM_1.1"
          ],
          [
           "T34_1000_enab_em",
           "MESSAGEix-GLOBIOM_1.1"
          ],
          [
           "T34_1000_enab_em",
           "MESSAGEix-GLOBIOM_1.1"
          ],
          [
           "T34_1000_enab_em",
           "MESSAGEix-GLOBIOM_1.1"
          ]
         ],
         "hovertemplate": "region=RoW<br>model=%{customdata[1]}<br>scenario_narrative=Inst+Enab<br>year=%{x}<br>Emissions|Kyoto Gases=%{y}<br>scenario=%{customdata[0]}<extra></extra>",
         "legendgroup": "RoW, MESSAGEix-GLOBIOM_1.1",
         "line": {
          "color": "#00cc96",
          "dash": "dashdot"
         },
         "marker": {
          "symbol": "circle"
         },
         "mode": "lines",
         "name": "RoW, MESSAGEix-GLOBIOM_1.1",
         "showlegend": false,
         "type": "scattergl",
         "x": [
          1990,
          1995,
          2000,
          2005,
          2010,
          2015,
          2020,
          2025,
          2030,
          2035,
          2040,
          2045,
          2050,
          2055,
          2060,
          2070,
          2080,
          2090,
          2100,
          2110
         ],
         "xaxis": "x3",
         "y": [
          12449.196041500001,
          12874.567420399999,
          13833.145321666665,
          15319.395992333331,
          16608.757367333335,
          18216.631782666664,
          18342.15489268185,
          16939.260187906944,
          18472.388071830883,
          18857.9031760828,
          18319.562986650148,
          16906.993218889496,
          14703.804371636044,
          12736.06953107092,
          10421.021067811695,
          6582.3999265823495,
          3204.824680453017,
          1627.638516738129,
          998.4605668319547,
          470.2189602614604
         ],
         "yaxis": "y3"
        },
        {
         "customdata": [
          [
           "T34_1000_bitb_em",
           "POLES ENGAGE"
          ],
          [
           "T34_1000_bitb_em",
           "POLES ENGAGE"
          ],
          [
           "T34_1000_bitb_em",
           "POLES ENGAGE"
          ],
          [
           "T34_1000_bitb_em",
           "POLES ENGAGE"
          ],
          [
           "T34_1000_bitb_em",
           "POLES ENGAGE"
          ],
          [
           "T34_1000_bitb_em",
           "POLES ENGAGE"
          ],
          [
           "T34_1000_bitb_em",
           "POLES ENGAGE"
          ],
          [
           "T34_1000_bitb_em",
           "POLES ENGAGE"
          ],
          [
           "T34_1000_bitb_em",
           "POLES ENGAGE"
          ],
          [
           "T34_1000_bitb_em",
           "POLES ENGAGE"
          ],
          [
           "T34_1000_bitb_em",
           "POLES ENGAGE"
          ],
          [
           "T34_1000_bitb_em",
           "POLES ENGAGE"
          ],
          [
           "T34_1000_bitb_em",
           "POLES ENGAGE"
          ],
          [
           "T34_1000_bitb_em",
           "POLES ENGAGE"
          ],
          [
           "T34_1000_bitb_em",
           "POLES ENGAGE"
          ]
         ],
         "hovertemplate": "region=RoW<br>model=%{customdata[1]}<br>scenario_narrative=Tech+Inst<br>year=%{x}<br>Emissions|Kyoto Gases=%{y}<br>scenario=%{customdata[0]}<extra></extra>",
         "legendgroup": "RoW, POLES ENGAGE",
         "line": {
          "color": "#00cc96",
          "dash": "longdashdot"
         },
         "marker": {
          "symbol": "circle"
         },
         "mode": "lines",
         "name": "RoW, POLES ENGAGE",
         "showlegend": true,
         "type": "scattergl",
         "x": [
          2005,
          2010,
          2015,
          2020,
          2025,
          2030,
          2035,
          2040,
          2045,
          2050,
          2060,
          2070,
          2080,
          2090,
          2100
         ],
         "xaxis": "x4",
         "y": [
          11108.62451171875,
          13176.57470703125,
          14310.109130859375,
          14328.6162109375,
          14537.985595703125,
          12861.3701171875,
          12697.443115234375,
          12628.425537109375,
          11426.228515625,
          10593.005859375,
          7830.876281738281,
          6716.053146362305,
          7083.0127029418945,
          7614.78840637207,
          7466.01953125
         ],
         "yaxis": "y4"
        },
        {
         "customdata": [
          [
           "T34_1000_feas_em",
           "POLES ENGAGE"
          ],
          [
           "T34_1000_feas_em",
           "POLES ENGAGE"
          ],
          [
           "T34_1000_feas_em",
           "POLES ENGAGE"
          ],
          [
           "T34_1000_feas_em",
           "POLES ENGAGE"
          ],
          [
           "T34_1000_feas_em",
           "POLES ENGAGE"
          ],
          [
           "T34_1000_feas_em",
           "POLES ENGAGE"
          ],
          [
           "T34_1000_feas_em",
           "POLES ENGAGE"
          ],
          [
           "T34_1000_feas_em",
           "POLES ENGAGE"
          ],
          [
           "T34_1000_feas_em",
           "POLES ENGAGE"
          ],
          [
           "T34_1000_feas_em",
           "POLES ENGAGE"
          ],
          [
           "T34_1000_feas_em",
           "POLES ENGAGE"
          ],
          [
           "T34_1000_feas_em",
           "POLES ENGAGE"
          ],
          [
           "T34_1000_feas_em",
           "POLES ENGAGE"
          ],
          [
           "T34_1000_feas_em",
           "POLES ENGAGE"
          ],
          [
           "T34_1000_feas_em",
           "POLES ENGAGE"
          ]
         ],
         "hovertemplate": "region=RoW<br>model=%{customdata[1]}<br>scenario_narrative=Tech+Inst+Enab<br>year=%{x}<br>Emissions|Kyoto Gases=%{y}<br>scenario=%{customdata[0]}<extra></extra>",
         "legendgroup": "RoW, POLES ENGAGE",
         "line": {
          "color": "#00cc96",
          "dash": "longdashdot"
         },
         "marker": {
          "symbol": "circle"
         },
         "mode": "lines",
         "name": "RoW, POLES ENGAGE",
         "showlegend": false,
         "type": "scattergl",
         "x": [
          2005,
          2010,
          2015,
          2020,
          2025,
          2030,
          2035,
          2040,
          2045,
          2050,
          2060,
          2070,
          2080,
          2090,
          2100
         ],
         "xaxis": "x5",
         "y": [
          11108.62451171875,
          13176.57470703125,
          14310.109130859375,
          14328.615966796875,
          15629.489990234375,
          14280.058349609375,
          14240.142578125,
          14762.61376953125,
          13725.937255859375,
          12898.755981445312,
          8763.017211914062,
          7219.582275390625,
          7131.0137939453125,
          12680.613403320312,
          15681.204345703125
         ],
         "yaxis": "y5"
        },
        {
         "customdata": [
          [
           "T34_1000_govem",
           "POLES ENGAGE"
          ],
          [
           "T34_1000_govem",
           "POLES ENGAGE"
          ],
          [
           "T34_1000_govem",
           "POLES ENGAGE"
          ],
          [
           "T34_1000_govem",
           "POLES ENGAGE"
          ],
          [
           "T34_1000_govem",
           "POLES ENGAGE"
          ],
          [
           "T34_1000_govem",
           "POLES ENGAGE"
          ],
          [
           "T34_1000_govem",
           "POLES ENGAGE"
          ],
          [
           "T34_1000_govem",
           "POLES ENGAGE"
          ],
          [
           "T34_1000_govem",
           "POLES ENGAGE"
          ],
          [
           "T34_1000_govem",
           "POLES ENGAGE"
          ],
          [
           "T34_1000_govem",
           "POLES ENGAGE"
          ],
          [
           "T34_1000_govem",
           "POLES ENGAGE"
          ],
          [
           "T34_1000_govem",
           "POLES ENGAGE"
          ],
          [
           "T34_1000_govem",
           "POLES ENGAGE"
          ],
          [
           "T34_1000_govem",
           "POLES ENGAGE"
          ]
         ],
         "hovertemplate": "region=RoW<br>model=%{customdata[1]}<br>scenario_narrative=Instit<br>year=%{x}<br>Emissions|Kyoto Gases=%{y}<br>scenario=%{customdata[0]}<extra></extra>",
         "legendgroup": "RoW, POLES ENGAGE",
         "line": {
          "color": "#00cc96",
          "dash": "longdashdot"
         },
         "marker": {
          "symbol": "circle"
         },
         "mode": "lines",
         "name": "RoW, POLES ENGAGE",
         "showlegend": false,
         "type": "scattergl",
         "x": [
          2005,
          2010,
          2015,
          2020,
          2025,
          2030,
          2035,
          2040,
          2045,
          2050,
          2060,
          2070,
          2080,
          2090,
          2100
         ],
         "xaxis": "x6",
         "y": [
          11108.62451171875,
          13176.57470703125,
          14648.953369140625,
          15184.4892578125,
          15611.61376953125,
          14247.063720703125,
          14240.78515625,
          14651.82470703125,
          13471.9345703125,
          12673.664794921875,
          8374.490112304688,
          7458.26171875,
          5972.899108886719,
          16186.832275390625,
          20719.289306640625
         ],
         "yaxis": "y6"
        },
        {
         "customdata": [
          [
           "T34_1000_ref",
           "POLES ENGAGE"
          ],
          [
           "T34_1000_ref",
           "POLES ENGAGE"
          ],
          [
           "T34_1000_ref",
           "POLES ENGAGE"
          ],
          [
           "T34_1000_ref",
           "POLES ENGAGE"
          ],
          [
           "T34_1000_ref",
           "POLES ENGAGE"
          ],
          [
           "T34_1000_ref",
           "POLES ENGAGE"
          ],
          [
           "T34_1000_ref",
           "POLES ENGAGE"
          ],
          [
           "T34_1000_ref",
           "POLES ENGAGE"
          ],
          [
           "T34_1000_ref",
           "POLES ENGAGE"
          ],
          [
           "T34_1000_ref",
           "POLES ENGAGE"
          ],
          [
           "T34_1000_ref",
           "POLES ENGAGE"
          ],
          [
           "T34_1000_ref",
           "POLES ENGAGE"
          ],
          [
           "T34_1000_ref",
           "POLES ENGAGE"
          ],
          [
           "T34_1000_ref",
           "POLES ENGAGE"
          ],
          [
           "T34_1000_ref",
           "POLES ENGAGE"
          ]
         ],
         "hovertemplate": "region=RoW<br>model=%{customdata[1]}<br>scenario_narrative=Cost Effective<br>year=%{x}<br>Emissions|Kyoto Gases=%{y}<br>scenario=%{customdata[0]}<extra></extra>",
         "legendgroup": "RoW, POLES ENGAGE",
         "line": {
          "color": "#00cc96",
          "dash": "longdashdot"
         },
         "marker": {
          "symbol": "circle"
         },
         "mode": "lines",
         "name": "RoW, POLES ENGAGE",
         "showlegend": false,
         "type": "scattergl",
         "x": [
          2005,
          2010,
          2015,
          2020,
          2025,
          2030,
          2035,
          2040,
          2045,
          2050,
          2060,
          2070,
          2080,
          2090,
          2100
         ],
         "xaxis": "x",
         "y": [
          11108.62451171875,
          13176.57470703125,
          14310.109130859375,
          14328.6162109375,
          14433.509521484375,
          12277.01904296875,
          10714.832397460938,
          9175.249267578125,
          7099.166076660156,
          5730.774871826172,
          4304.055465698242,
          3386.3624267578125,
          2761.1377563476562,
          2737.579345703125,
          2512.0157775878906
         ],
         "yaxis": "y"
        },
        {
         "customdata": [
          [
           "T34_1000_bitb_ref",
           "POLES ENGAGE"
          ],
          [
           "T34_1000_bitb_ref",
           "POLES ENGAGE"
          ],
          [
           "T34_1000_bitb_ref",
           "POLES ENGAGE"
          ],
          [
           "T34_1000_bitb_ref",
           "POLES ENGAGE"
          ],
          [
           "T34_1000_bitb_ref",
           "POLES ENGAGE"
          ],
          [
           "T34_1000_bitb_ref",
           "POLES ENGAGE"
          ],
          [
           "T34_1000_bitb_ref",
           "POLES ENGAGE"
          ],
          [
           "T34_1000_bitb_ref",
           "POLES ENGAGE"
          ],
          [
           "T34_1000_bitb_ref",
           "POLES ENGAGE"
          ],
          [
           "T34_1000_bitb_ref",
           "POLES ENGAGE"
          ],
          [
           "T34_1000_bitb_ref",
           "POLES ENGAGE"
          ],
          [
           "T34_1000_bitb_ref",
           "POLES ENGAGE"
          ],
          [
           "T34_1000_bitb_ref",
           "POLES ENGAGE"
          ],
          [
           "T34_1000_bitb_ref",
           "POLES ENGAGE"
          ],
          [
           "T34_1000_bitb_ref",
           "POLES ENGAGE"
          ]
         ],
         "hovertemplate": "region=RoW<br>model=%{customdata[1]}<br>scenario_narrative=Tech<br>year=%{x}<br>Emissions|Kyoto Gases=%{y}<br>scenario=%{customdata[0]}<extra></extra>",
         "legendgroup": "RoW, POLES ENGAGE",
         "line": {
          "color": "#00cc96",
          "dash": "longdashdot"
         },
         "marker": {
          "symbol": "circle"
         },
         "mode": "lines",
         "name": "RoW, POLES ENGAGE",
         "showlegend": false,
         "type": "scattergl",
         "x": [
          2005,
          2010,
          2015,
          2020,
          2025,
          2030,
          2035,
          2040,
          2045,
          2050,
          2060,
          2070,
          2080,
          2090,
          2100
         ],
         "xaxis": "x2",
         "y": [
          11108.62451171875,
          13176.57470703125,
          14310.10888671875,
          14323.716064453125,
          15725.322998046875,
          13902.874755859375,
          13077.191162109375,
          11758.99365234375,
          9829.512084960938,
          7997.717041015625,
          5917.237579345703,
          3420.153106689453,
          1407.133544921875,
          244.46832275390625,
          -452.1036981344223
         ],
         "yaxis": "y2"
        },
        {
         "customdata": [
          [
           "T34_1000_bitb_em",
           "REMIND 3.0"
          ],
          [
           "T34_1000_bitb_em",
           "REMIND 3.0"
          ],
          [
           "T34_1000_bitb_em",
           "REMIND 3.0"
          ],
          [
           "T34_1000_bitb_em",
           "REMIND 3.0"
          ],
          [
           "T34_1000_bitb_em",
           "REMIND 3.0"
          ],
          [
           "T34_1000_bitb_em",
           "REMIND 3.0"
          ],
          [
           "T34_1000_bitb_em",
           "REMIND 3.0"
          ],
          [
           "T34_1000_bitb_em",
           "REMIND 3.0"
          ],
          [
           "T34_1000_bitb_em",
           "REMIND 3.0"
          ],
          [
           "T34_1000_bitb_em",
           "REMIND 3.0"
          ],
          [
           "T34_1000_bitb_em",
           "REMIND 3.0"
          ],
          [
           "T34_1000_bitb_em",
           "REMIND 3.0"
          ],
          [
           "T34_1000_bitb_em",
           "REMIND 3.0"
          ],
          [
           "T34_1000_bitb_em",
           "REMIND 3.0"
          ],
          [
           "T34_1000_bitb_em",
           "REMIND 3.0"
          ],
          [
           "T34_1000_bitb_em",
           "REMIND 3.0"
          ]
         ],
         "hovertemplate": "region=RoW<br>model=%{customdata[1]}<br>scenario_narrative=Tech+Inst<br>year=%{x}<br>Emissions|Kyoto Gases=%{y}<br>scenario=%{customdata[0]}<extra></extra>",
         "legendgroup": "RoW, REMIND 3.0",
         "line": {
          "color": "#00cc96",
          "dash": "solid"
         },
         "marker": {
          "symbol": "circle"
         },
         "mode": "lines",
         "name": "RoW, REMIND 3.0",
         "showlegend": true,
         "type": "scattergl",
         "x": [
          2005,
          2010,
          2015,
          2020,
          2025,
          2030,
          2035,
          2040,
          2045,
          2050,
          2055,
          2060,
          2070,
          2080,
          2090,
          2100
         ],
         "xaxis": "x4",
         "y": [
          12578.8877061,
          14583.379752100001,
          16096.5793273,
          16877.0604535,
          16201.3147222,
          15828.4507877,
          14484.8292678,
          12774.4991961,
          10868.4373175,
          9410.5059709,
          8364.039915,
          7510.4467421,
          5854.3571234,
          4895.8290158,
          4453.0152151,
          3543.6542702
         ],
         "yaxis": "y4"
        },
        {
         "customdata": [
          [
           "T34_1000_feas_em",
           "REMIND 3.0"
          ],
          [
           "T34_1000_feas_em",
           "REMIND 3.0"
          ],
          [
           "T34_1000_feas_em",
           "REMIND 3.0"
          ],
          [
           "T34_1000_feas_em",
           "REMIND 3.0"
          ],
          [
           "T34_1000_feas_em",
           "REMIND 3.0"
          ],
          [
           "T34_1000_feas_em",
           "REMIND 3.0"
          ],
          [
           "T34_1000_feas_em",
           "REMIND 3.0"
          ],
          [
           "T34_1000_feas_em",
           "REMIND 3.0"
          ],
          [
           "T34_1000_feas_em",
           "REMIND 3.0"
          ],
          [
           "T34_1000_feas_em",
           "REMIND 3.0"
          ],
          [
           "T34_1000_feas_em",
           "REMIND 3.0"
          ],
          [
           "T34_1000_feas_em",
           "REMIND 3.0"
          ],
          [
           "T34_1000_feas_em",
           "REMIND 3.0"
          ],
          [
           "T34_1000_feas_em",
           "REMIND 3.0"
          ],
          [
           "T34_1000_feas_em",
           "REMIND 3.0"
          ],
          [
           "T34_1000_feas_em",
           "REMIND 3.0"
          ]
         ],
         "hovertemplate": "region=RoW<br>model=%{customdata[1]}<br>scenario_narrative=Tech+Inst+Enab<br>year=%{x}<br>Emissions|Kyoto Gases=%{y}<br>scenario=%{customdata[0]}<extra></extra>",
         "legendgroup": "RoW, REMIND 3.0",
         "line": {
          "color": "#00cc96",
          "dash": "solid"
         },
         "marker": {
          "symbol": "circle"
         },
         "mode": "lines",
         "name": "RoW, REMIND 3.0",
         "showlegend": false,
         "type": "scattergl",
         "x": [
          2005,
          2010,
          2015,
          2020,
          2025,
          2030,
          2035,
          2040,
          2045,
          2050,
          2055,
          2060,
          2070,
          2080,
          2090,
          2100
         ],
         "xaxis": "x5",
         "y": [
          12578.8877061,
          14583.379752100001,
          16096.5793273,
          16877.0604535,
          16052.742383199999,
          14361.5440893,
          12989.5102038,
          11410.2534135,
          9832.5482466,
          8736.018230900001,
          7972.696949300001,
          7140.9813782,
          5698.8297264,
          5132.9049592,
          4212.4336266,
          3383.98096
         ],
         "yaxis": "y5"
        },
        {
         "customdata": [
          [
           "T34_1000_govem",
           "REMIND 3.0"
          ],
          [
           "T34_1000_govem",
           "REMIND 3.0"
          ],
          [
           "T34_1000_govem",
           "REMIND 3.0"
          ],
          [
           "T34_1000_govem",
           "REMIND 3.0"
          ],
          [
           "T34_1000_govem",
           "REMIND 3.0"
          ],
          [
           "T34_1000_govem",
           "REMIND 3.0"
          ],
          [
           "T34_1000_govem",
           "REMIND 3.0"
          ],
          [
           "T34_1000_govem",
           "REMIND 3.0"
          ],
          [
           "T34_1000_govem",
           "REMIND 3.0"
          ],
          [
           "T34_1000_govem",
           "REMIND 3.0"
          ],
          [
           "T34_1000_govem",
           "REMIND 3.0"
          ],
          [
           "T34_1000_govem",
           "REMIND 3.0"
          ],
          [
           "T34_1000_govem",
           "REMIND 3.0"
          ],
          [
           "T34_1000_govem",
           "REMIND 3.0"
          ],
          [
           "T34_1000_govem",
           "REMIND 3.0"
          ],
          [
           "T34_1000_govem",
           "REMIND 3.0"
          ]
         ],
         "hovertemplate": "region=RoW<br>model=%{customdata[1]}<br>scenario_narrative=Instit<br>year=%{x}<br>Emissions|Kyoto Gases=%{y}<br>scenario=%{customdata[0]}<extra></extra>",
         "legendgroup": "RoW, REMIND 3.0",
         "line": {
          "color": "#00cc96",
          "dash": "solid"
         },
         "marker": {
          "symbol": "circle"
         },
         "mode": "lines",
         "name": "RoW, REMIND 3.0",
         "showlegend": false,
         "type": "scattergl",
         "x": [
          2005,
          2010,
          2015,
          2020,
          2025,
          2030,
          2035,
          2040,
          2045,
          2050,
          2055,
          2060,
          2070,
          2080,
          2090,
          2100
         ],
         "xaxis": "x6",
         "y": [
          12578.8877061,
          14583.379752100001,
          16096.5793273,
          16877.0604535,
          16248.3896544,
          16024.4758022,
          14745.3072361,
          12915.8732201,
          11037.638466100001,
          9499.357100199999,
          8355.914669,
          7464.9119051,
          6177.188981,
          5391.1685894,
          4719.2205099,
          3581.5256851
         ],
         "yaxis": "y6"
        },
        {
         "customdata": [
          [
           "T34_1000_ref",
           "REMIND 3.0"
          ],
          [
           "T34_1000_ref",
           "REMIND 3.0"
          ],
          [
           "T34_1000_ref",
           "REMIND 3.0"
          ],
          [
           "T34_1000_ref",
           "REMIND 3.0"
          ],
          [
           "T34_1000_ref",
           "REMIND 3.0"
          ],
          [
           "T34_1000_ref",
           "REMIND 3.0"
          ],
          [
           "T34_1000_ref",
           "REMIND 3.0"
          ],
          [
           "T34_1000_ref",
           "REMIND 3.0"
          ],
          [
           "T34_1000_ref",
           "REMIND 3.0"
          ],
          [
           "T34_1000_ref",
           "REMIND 3.0"
          ],
          [
           "T34_1000_ref",
           "REMIND 3.0"
          ],
          [
           "T34_1000_ref",
           "REMIND 3.0"
          ],
          [
           "T34_1000_ref",
           "REMIND 3.0"
          ],
          [
           "T34_1000_ref",
           "REMIND 3.0"
          ],
          [
           "T34_1000_ref",
           "REMIND 3.0"
          ],
          [
           "T34_1000_ref",
           "REMIND 3.0"
          ]
         ],
         "hovertemplate": "region=RoW<br>model=%{customdata[1]}<br>scenario_narrative=Cost Effective<br>year=%{x}<br>Emissions|Kyoto Gases=%{y}<br>scenario=%{customdata[0]}<extra></extra>",
         "legendgroup": "RoW, REMIND 3.0",
         "line": {
          "color": "#00cc96",
          "dash": "solid"
         },
         "marker": {
          "symbol": "circle"
         },
         "mode": "lines",
         "name": "RoW, REMIND 3.0",
         "showlegend": false,
         "type": "scattergl",
         "x": [
          2005,
          2010,
          2015,
          2020,
          2025,
          2030,
          2035,
          2040,
          2045,
          2050,
          2055,
          2060,
          2070,
          2080,
          2090,
          2100
         ],
         "xaxis": "x",
         "y": [
          12578.8877061,
          14583.379752100001,
          16096.5793273,
          16877.0604535,
          16000.978340099999,
          15392.6152004,
          13929.684691,
          11423.9474968,
          9459.9044936,
          8043.3139259,
          7183.6408908,
          6645.5632764,
          5620.8047908,
          4268.3725031,
          3857.4060876000003,
          3768.5004146
         ],
         "yaxis": "y"
        },
        {
         "customdata": [
          [
           "T34_1000_bitb_ref",
           "REMIND 3.0"
          ],
          [
           "T34_1000_bitb_ref",
           "REMIND 3.0"
          ],
          [
           "T34_1000_bitb_ref",
           "REMIND 3.0"
          ],
          [
           "T34_1000_bitb_ref",
           "REMIND 3.0"
          ],
          [
           "T34_1000_bitb_ref",
           "REMIND 3.0"
          ],
          [
           "T34_1000_bitb_ref",
           "REMIND 3.0"
          ],
          [
           "T34_1000_bitb_ref",
           "REMIND 3.0"
          ],
          [
           "T34_1000_bitb_ref",
           "REMIND 3.0"
          ],
          [
           "T34_1000_bitb_ref",
           "REMIND 3.0"
          ],
          [
           "T34_1000_bitb_ref",
           "REMIND 3.0"
          ],
          [
           "T34_1000_bitb_ref",
           "REMIND 3.0"
          ],
          [
           "T34_1000_bitb_ref",
           "REMIND 3.0"
          ],
          [
           "T34_1000_bitb_ref",
           "REMIND 3.0"
          ],
          [
           "T34_1000_bitb_ref",
           "REMIND 3.0"
          ],
          [
           "T34_1000_bitb_ref",
           "REMIND 3.0"
          ],
          [
           "T34_1000_bitb_ref",
           "REMIND 3.0"
          ]
         ],
         "hovertemplate": "region=RoW<br>model=%{customdata[1]}<br>scenario_narrative=Tech<br>year=%{x}<br>Emissions|Kyoto Gases=%{y}<br>scenario=%{customdata[0]}<extra></extra>",
         "legendgroup": "RoW, REMIND 3.0",
         "line": {
          "color": "#00cc96",
          "dash": "solid"
         },
         "marker": {
          "symbol": "circle"
         },
         "mode": "lines",
         "name": "RoW, REMIND 3.0",
         "showlegend": false,
         "type": "scattergl",
         "x": [
          2005,
          2010,
          2015,
          2020,
          2025,
          2030,
          2035,
          2040,
          2045,
          2050,
          2055,
          2060,
          2070,
          2080,
          2090,
          2100
         ],
         "xaxis": "x2",
         "y": [
          12578.8877061,
          14583.379752100001,
          16096.5793273,
          16877.0604535,
          15978.119469700001,
          14877.348854500002,
          12904.2243623,
          10585.6617964,
          8610.0095993,
          7307.229058,
          6715.4018656,
          6450.9966944,
          5712.779838,
          5058.0720439,
          4382.101212199999,
          3982.6436788
         ],
         "yaxis": "y2"
        },
        {
         "customdata": [
          [
           "T34_1000_enab_em",
           "REMIND 3.0"
          ],
          [
           "T34_1000_enab_em",
           "REMIND 3.0"
          ],
          [
           "T34_1000_enab_em",
           "REMIND 3.0"
          ],
          [
           "T34_1000_enab_em",
           "REMIND 3.0"
          ],
          [
           "T34_1000_enab_em",
           "REMIND 3.0"
          ],
          [
           "T34_1000_enab_em",
           "REMIND 3.0"
          ],
          [
           "T34_1000_enab_em",
           "REMIND 3.0"
          ],
          [
           "T34_1000_enab_em",
           "REMIND 3.0"
          ],
          [
           "T34_1000_enab_em",
           "REMIND 3.0"
          ],
          [
           "T34_1000_enab_em",
           "REMIND 3.0"
          ],
          [
           "T34_1000_enab_em",
           "REMIND 3.0"
          ],
          [
           "T34_1000_enab_em",
           "REMIND 3.0"
          ],
          [
           "T34_1000_enab_em",
           "REMIND 3.0"
          ],
          [
           "T34_1000_enab_em",
           "REMIND 3.0"
          ],
          [
           "T34_1000_enab_em",
           "REMIND 3.0"
          ],
          [
           "T34_1000_enab_em",
           "REMIND 3.0"
          ]
         ],
         "hovertemplate": "region=RoW<br>model=%{customdata[1]}<br>scenario_narrative=Inst+Enab<br>year=%{x}<br>Emissions|Kyoto Gases=%{y}<br>scenario=%{customdata[0]}<extra></extra>",
         "legendgroup": "RoW, REMIND 3.0",
         "line": {
          "color": "#00cc96",
          "dash": "solid"
         },
         "marker": {
          "symbol": "circle"
         },
         "mode": "lines",
         "name": "RoW, REMIND 3.0",
         "showlegend": false,
         "type": "scattergl",
         "x": [
          2005,
          2010,
          2015,
          2020,
          2025,
          2030,
          2035,
          2040,
          2045,
          2050,
          2055,
          2060,
          2070,
          2080,
          2090,
          2100
         ],
         "xaxis": "x3",
         "y": [
          12578.8877061,
          14583.379752100001,
          16096.5793273,
          16877.0604535,
          16037.3241562,
          14392.0617569,
          13088.362691,
          11568.9740059,
          10047.7399145,
          8954.256565900001,
          8188.0939479,
          7315.5788501,
          5879.1276485,
          4957.006430699999,
          4157.760788,
          3374.1624231
         ],
         "yaxis": "y3"
        },
        {
         "customdata": [
          [
           "T34_1000_bitb_em",
           "WITCH 5.0"
          ],
          [
           "T34_1000_bitb_em",
           "WITCH 5.0"
          ],
          [
           "T34_1000_bitb_em",
           "WITCH 5.0"
          ],
          [
           "T34_1000_bitb_em",
           "WITCH 5.0"
          ],
          [
           "T34_1000_bitb_em",
           "WITCH 5.0"
          ],
          [
           "T34_1000_bitb_em",
           "WITCH 5.0"
          ],
          [
           "T34_1000_bitb_em",
           "WITCH 5.0"
          ],
          [
           "T34_1000_bitb_em",
           "WITCH 5.0"
          ],
          [
           "T34_1000_bitb_em",
           "WITCH 5.0"
          ],
          [
           "T34_1000_bitb_em",
           "WITCH 5.0"
          ],
          [
           "T34_1000_bitb_em",
           "WITCH 5.0"
          ],
          [
           "T34_1000_bitb_em",
           "WITCH 5.0"
          ],
          [
           "T34_1000_bitb_em",
           "WITCH 5.0"
          ],
          [
           "T34_1000_bitb_em",
           "WITCH 5.0"
          ],
          [
           "T34_1000_bitb_em",
           "WITCH 5.0"
          ],
          [
           "T34_1000_bitb_em",
           "WITCH 5.0"
          ],
          [
           "T34_1000_bitb_em",
           "WITCH 5.0"
          ],
          [
           "T34_1000_bitb_em",
           "WITCH 5.0"
          ],
          [
           "T34_1000_bitb_em",
           "WITCH 5.0"
          ],
          [
           "T34_1000_bitb_em",
           "WITCH 5.0"
          ]
         ],
         "hovertemplate": "region=RoW<br>model=%{customdata[1]}<br>scenario_narrative=Tech+Inst<br>year=%{x}<br>Emissions|Kyoto Gases=%{y}<br>scenario=%{customdata[0]}<extra></extra>",
         "legendgroup": "RoW, WITCH 5.0",
         "line": {
          "color": "#00cc96",
          "dash": "dot"
         },
         "marker": {
          "symbol": "circle"
         },
         "mode": "lines",
         "name": "RoW, WITCH 5.0",
         "showlegend": true,
         "type": "scattergl",
         "x": [
          2005,
          2010,
          2015,
          2020,
          2025,
          2030,
          2035,
          2040,
          2045,
          2050,
          2055,
          2060,
          2065,
          2070,
          2075,
          2080,
          2085,
          2090,
          2095,
          2100
         ],
         "xaxis": "x4",
         "y": [
          12404.4490092423,
          13950.67668083179,
          15045.575476327478,
          15678.945732389644,
          14851.867229438538,
          12559.4228963906,
          11694.721936254859,
          11095.009327607539,
          10482.84038449872,
          10065.354062037655,
          9678.838457194232,
          8757.231279535326,
          8409.249058241272,
          7610.5959614414,
          7180.783634542843,
          6574.1602166058365,
          2651.7718447690645,
          2767.3546422503678,
          2793.777682497795,
          2849.901615476044
         ],
         "yaxis": "y4"
        },
        {
         "customdata": [
          [
           "T34_1000_feas_em",
           "WITCH 5.0"
          ],
          [
           "T34_1000_feas_em",
           "WITCH 5.0"
          ],
          [
           "T34_1000_feas_em",
           "WITCH 5.0"
          ],
          [
           "T34_1000_feas_em",
           "WITCH 5.0"
          ],
          [
           "T34_1000_feas_em",
           "WITCH 5.0"
          ],
          [
           "T34_1000_feas_em",
           "WITCH 5.0"
          ],
          [
           "T34_1000_feas_em",
           "WITCH 5.0"
          ],
          [
           "T34_1000_feas_em",
           "WITCH 5.0"
          ],
          [
           "T34_1000_feas_em",
           "WITCH 5.0"
          ],
          [
           "T34_1000_feas_em",
           "WITCH 5.0"
          ],
          [
           "T34_1000_feas_em",
           "WITCH 5.0"
          ],
          [
           "T34_1000_feas_em",
           "WITCH 5.0"
          ],
          [
           "T34_1000_feas_em",
           "WITCH 5.0"
          ],
          [
           "T34_1000_feas_em",
           "WITCH 5.0"
          ],
          [
           "T34_1000_feas_em",
           "WITCH 5.0"
          ],
          [
           "T34_1000_feas_em",
           "WITCH 5.0"
          ],
          [
           "T34_1000_feas_em",
           "WITCH 5.0"
          ],
          [
           "T34_1000_feas_em",
           "WITCH 5.0"
          ],
          [
           "T34_1000_feas_em",
           "WITCH 5.0"
          ],
          [
           "T34_1000_feas_em",
           "WITCH 5.0"
          ]
         ],
         "hovertemplate": "region=RoW<br>model=%{customdata[1]}<br>scenario_narrative=Tech+Inst+Enab<br>year=%{x}<br>Emissions|Kyoto Gases=%{y}<br>scenario=%{customdata[0]}<extra></extra>",
         "legendgroup": "RoW, WITCH 5.0",
         "line": {
          "color": "#00cc96",
          "dash": "dot"
         },
         "marker": {
          "symbol": "circle"
         },
         "mode": "lines",
         "name": "RoW, WITCH 5.0",
         "showlegend": false,
         "type": "scattergl",
         "x": [
          2005,
          2010,
          2015,
          2020,
          2025,
          2030,
          2035,
          2040,
          2045,
          2050,
          2055,
          2060,
          2065,
          2070,
          2075,
          2080,
          2085,
          2090,
          2095,
          2100
         ],
         "xaxis": "x5",
         "y": [
          12404.4490092423,
          13950.67668083179,
          15045.575476327478,
          15678.945732389644,
          14506.43915283456,
          12862.188547186208,
          11553.526185572962,
          10351.88175190255,
          9304.647570745681,
          8558.146115175407,
          7639.666073613824,
          6901.063715795254,
          6237.251566315115,
          5634.094253381511,
          4914.944181386968,
          4292.822603901724,
          3536.3365656706997,
          3922.475397039412,
          3586.9591455667655,
          3538.277744597918
         ],
         "yaxis": "y5"
        },
        {
         "customdata": [
          [
           "T34_1000_govem",
           "WITCH 5.0"
          ],
          [
           "T34_1000_govem",
           "WITCH 5.0"
          ],
          [
           "T34_1000_govem",
           "WITCH 5.0"
          ],
          [
           "T34_1000_govem",
           "WITCH 5.0"
          ],
          [
           "T34_1000_govem",
           "WITCH 5.0"
          ],
          [
           "T34_1000_govem",
           "WITCH 5.0"
          ],
          [
           "T34_1000_govem",
           "WITCH 5.0"
          ],
          [
           "T34_1000_govem",
           "WITCH 5.0"
          ],
          [
           "T34_1000_govem",
           "WITCH 5.0"
          ],
          [
           "T34_1000_govem",
           "WITCH 5.0"
          ],
          [
           "T34_1000_govem",
           "WITCH 5.0"
          ],
          [
           "T34_1000_govem",
           "WITCH 5.0"
          ],
          [
           "T34_1000_govem",
           "WITCH 5.0"
          ],
          [
           "T34_1000_govem",
           "WITCH 5.0"
          ],
          [
           "T34_1000_govem",
           "WITCH 5.0"
          ],
          [
           "T34_1000_govem",
           "WITCH 5.0"
          ],
          [
           "T34_1000_govem",
           "WITCH 5.0"
          ],
          [
           "T34_1000_govem",
           "WITCH 5.0"
          ],
          [
           "T34_1000_govem",
           "WITCH 5.0"
          ],
          [
           "T34_1000_govem",
           "WITCH 5.0"
          ]
         ],
         "hovertemplate": "region=RoW<br>model=%{customdata[1]}<br>scenario_narrative=Instit<br>year=%{x}<br>Emissions|Kyoto Gases=%{y}<br>scenario=%{customdata[0]}<extra></extra>",
         "legendgroup": "RoW, WITCH 5.0",
         "line": {
          "color": "#00cc96",
          "dash": "dot"
         },
         "marker": {
          "symbol": "circle"
         },
         "mode": "lines",
         "name": "RoW, WITCH 5.0",
         "showlegend": false,
         "type": "scattergl",
         "x": [
          2005,
          2010,
          2015,
          2020,
          2025,
          2030,
          2035,
          2040,
          2045,
          2050,
          2055,
          2060,
          2065,
          2070,
          2075,
          2080,
          2085,
          2090,
          2095,
          2100
         ],
         "xaxis": "x6",
         "y": [
          12404.4490092423,
          13950.67668083179,
          15045.575476327478,
          15678.945732389644,
          14631.295943713416,
          12991.166156579971,
          12030.66917670091,
          11203.424224328486,
          10354.328521792164,
          9927.566954292575,
          9027.88564844524,
          7803.7543433013725,
          6903.490369438189,
          6115.355574569219,
          5339.0865264589875,
          4308.696569145449,
          3756.4111197814673,
          967.3069394457054,
          -442.45065011850556,
          -402.914757707686
         ],
         "yaxis": "y6"
        },
        {
         "customdata": [
          [
           "T34_1000_ref",
           "WITCH 5.0"
          ],
          [
           "T34_1000_ref",
           "WITCH 5.0"
          ],
          [
           "T34_1000_ref",
           "WITCH 5.0"
          ],
          [
           "T34_1000_ref",
           "WITCH 5.0"
          ],
          [
           "T34_1000_ref",
           "WITCH 5.0"
          ],
          [
           "T34_1000_ref",
           "WITCH 5.0"
          ],
          [
           "T34_1000_ref",
           "WITCH 5.0"
          ],
          [
           "T34_1000_ref",
           "WITCH 5.0"
          ],
          [
           "T34_1000_ref",
           "WITCH 5.0"
          ],
          [
           "T34_1000_ref",
           "WITCH 5.0"
          ],
          [
           "T34_1000_ref",
           "WITCH 5.0"
          ],
          [
           "T34_1000_ref",
           "WITCH 5.0"
          ],
          [
           "T34_1000_ref",
           "WITCH 5.0"
          ],
          [
           "T34_1000_ref",
           "WITCH 5.0"
          ],
          [
           "T34_1000_ref",
           "WITCH 5.0"
          ],
          [
           "T34_1000_ref",
           "WITCH 5.0"
          ],
          [
           "T34_1000_ref",
           "WITCH 5.0"
          ],
          [
           "T34_1000_ref",
           "WITCH 5.0"
          ],
          [
           "T34_1000_ref",
           "WITCH 5.0"
          ],
          [
           "T34_1000_ref",
           "WITCH 5.0"
          ]
         ],
         "hovertemplate": "region=RoW<br>model=%{customdata[1]}<br>scenario_narrative=Cost Effective<br>year=%{x}<br>Emissions|Kyoto Gases=%{y}<br>scenario=%{customdata[0]}<extra></extra>",
         "legendgroup": "RoW, WITCH 5.0",
         "line": {
          "color": "#00cc96",
          "dash": "dot"
         },
         "marker": {
          "symbol": "circle"
         },
         "mode": "lines",
         "name": "RoW, WITCH 5.0",
         "showlegend": false,
         "type": "scattergl",
         "x": [
          2005,
          2010,
          2015,
          2020,
          2025,
          2030,
          2035,
          2040,
          2045,
          2050,
          2055,
          2060,
          2065,
          2070,
          2075,
          2080,
          2085,
          2090,
          2095,
          2100
         ],
         "xaxis": "x",
         "y": [
          12404.4490092423,
          13950.67668083179,
          15045.575476327478,
          15678.945732389644,
          13922.59345610752,
          8426.832302858265,
          7630.733715454924,
          7307.071937849455,
          7086.420338781177,
          6937.902929617614,
          6595.146478217004,
          6262.059438499903,
          5902.25877100851,
          5419.336619045205,
          4864.737770742972,
          4236.560126266599,
          3543.667966325409,
          3064.901253353793,
          3029.2432935845404,
          2943.855023727388
         ],
         "yaxis": "y"
        },
        {
         "customdata": [
          [
           "T34_1000_bitb_ref",
           "WITCH 5.0"
          ],
          [
           "T34_1000_bitb_ref",
           "WITCH 5.0"
          ],
          [
           "T34_1000_bitb_ref",
           "WITCH 5.0"
          ],
          [
           "T34_1000_bitb_ref",
           "WITCH 5.0"
          ],
          [
           "T34_1000_bitb_ref",
           "WITCH 5.0"
          ],
          [
           "T34_1000_bitb_ref",
           "WITCH 5.0"
          ],
          [
           "T34_1000_bitb_ref",
           "WITCH 5.0"
          ],
          [
           "T34_1000_bitb_ref",
           "WITCH 5.0"
          ],
          [
           "T34_1000_bitb_ref",
           "WITCH 5.0"
          ],
          [
           "T34_1000_bitb_ref",
           "WITCH 5.0"
          ],
          [
           "T34_1000_bitb_ref",
           "WITCH 5.0"
          ],
          [
           "T34_1000_bitb_ref",
           "WITCH 5.0"
          ],
          [
           "T34_1000_bitb_ref",
           "WITCH 5.0"
          ],
          [
           "T34_1000_bitb_ref",
           "WITCH 5.0"
          ],
          [
           "T34_1000_bitb_ref",
           "WITCH 5.0"
          ],
          [
           "T34_1000_bitb_ref",
           "WITCH 5.0"
          ],
          [
           "T34_1000_bitb_ref",
           "WITCH 5.0"
          ],
          [
           "T34_1000_bitb_ref",
           "WITCH 5.0"
          ],
          [
           "T34_1000_bitb_ref",
           "WITCH 5.0"
          ],
          [
           "T34_1000_bitb_ref",
           "WITCH 5.0"
          ]
         ],
         "hovertemplate": "region=RoW<br>model=%{customdata[1]}<br>scenario_narrative=Tech<br>year=%{x}<br>Emissions|Kyoto Gases=%{y}<br>scenario=%{customdata[0]}<extra></extra>",
         "legendgroup": "RoW, WITCH 5.0",
         "line": {
          "color": "#00cc96",
          "dash": "dot"
         },
         "marker": {
          "symbol": "circle"
         },
         "mode": "lines",
         "name": "RoW, WITCH 5.0",
         "showlegend": false,
         "type": "scattergl",
         "x": [
          2005,
          2010,
          2015,
          2020,
          2025,
          2030,
          2035,
          2040,
          2045,
          2050,
          2055,
          2060,
          2065,
          2070,
          2075,
          2080,
          2085,
          2090,
          2095,
          2100
         ],
         "xaxis": "x2",
         "y": [
          12404.4490092423,
          13950.67668083179,
          15045.575476327478,
          15678.945732389644,
          13838.599583165207,
          7159.807231175425,
          6837.013664475731,
          6221.7038613363475,
          5919.592308870602,
          5684.368613176763,
          5413.251209016056,
          5201.967174900969,
          4976.74275234897,
          4731.63021725942,
          4533.382908427147,
          4403.821947437574,
          4301.8827042236335,
          4148.341148173476,
          4041.6168180050736,
          3923.298487631307
         ],
         "yaxis": "y2"
        },
        {
         "customdata": [
          [
           "T34_1000_enab_em",
           "WITCH 5.0"
          ],
          [
           "T34_1000_enab_em",
           "WITCH 5.0"
          ],
          [
           "T34_1000_enab_em",
           "WITCH 5.0"
          ],
          [
           "T34_1000_enab_em",
           "WITCH 5.0"
          ],
          [
           "T34_1000_enab_em",
           "WITCH 5.0"
          ],
          [
           "T34_1000_enab_em",
           "WITCH 5.0"
          ],
          [
           "T34_1000_enab_em",
           "WITCH 5.0"
          ],
          [
           "T34_1000_enab_em",
           "WITCH 5.0"
          ],
          [
           "T34_1000_enab_em",
           "WITCH 5.0"
          ],
          [
           "T34_1000_enab_em",
           "WITCH 5.0"
          ],
          [
           "T34_1000_enab_em",
           "WITCH 5.0"
          ],
          [
           "T34_1000_enab_em",
           "WITCH 5.0"
          ],
          [
           "T34_1000_enab_em",
           "WITCH 5.0"
          ],
          [
           "T34_1000_enab_em",
           "WITCH 5.0"
          ],
          [
           "T34_1000_enab_em",
           "WITCH 5.0"
          ],
          [
           "T34_1000_enab_em",
           "WITCH 5.0"
          ],
          [
           "T34_1000_enab_em",
           "WITCH 5.0"
          ],
          [
           "T34_1000_enab_em",
           "WITCH 5.0"
          ],
          [
           "T34_1000_enab_em",
           "WITCH 5.0"
          ],
          [
           "T34_1000_enab_em",
           "WITCH 5.0"
          ]
         ],
         "hovertemplate": "region=RoW<br>model=%{customdata[1]}<br>scenario_narrative=Inst+Enab<br>year=%{x}<br>Emissions|Kyoto Gases=%{y}<br>scenario=%{customdata[0]}<extra></extra>",
         "legendgroup": "RoW, WITCH 5.0",
         "line": {
          "color": "#00cc96",
          "dash": "dot"
         },
         "marker": {
          "symbol": "circle"
         },
         "mode": "lines",
         "name": "RoW, WITCH 5.0",
         "showlegend": false,
         "type": "scattergl",
         "x": [
          2005,
          2010,
          2015,
          2020,
          2025,
          2030,
          2035,
          2040,
          2045,
          2050,
          2055,
          2060,
          2065,
          2070,
          2075,
          2080,
          2085,
          2090,
          2095,
          2100
         ],
         "xaxis": "x3",
         "y": [
          12404.4490092423,
          13950.67668083179,
          15045.575476327478,
          15678.945732389644,
          14631.518813965022,
          13291.374986970795,
          11749.615658008594,
          10436.695553659414,
          9353.772103426085,
          8543.819995026115,
          7727.188624718665,
          6940.919209248991,
          6224.089216381279,
          5535.562971543359,
          4739.637925834757,
          4083.610892970323,
          3801.777169198035,
          3363.2489464866976,
          2556.6874050273454,
          2081.236881619217
         ],
         "yaxis": "y3"
        }
       ],
       "layout": {
        "annotations": [
         {
          "font": {},
          "showarrow": false,
          "text": "scenario_narrative=Cost Effective",
          "x": 0.15999999999999998,
          "xanchor": "center",
          "xref": "paper",
          "y": 0.46499999999999997,
          "yanchor": "bottom",
          "yref": "paper"
         },
         {
          "font": {},
          "showarrow": false,
          "text": "scenario_narrative=Tech",
          "x": 0.49999999999999994,
          "xanchor": "center",
          "xref": "paper",
          "y": 0.46499999999999997,
          "yanchor": "bottom",
          "yref": "paper"
         },
         {
          "font": {},
          "showarrow": false,
          "text": "scenario_narrative=Inst+Enab",
          "x": 0.8399999999999999,
          "xanchor": "center",
          "xref": "paper",
          "y": 0.46499999999999997,
          "yanchor": "bottom",
          "yref": "paper"
         },
         {
          "font": {},
          "showarrow": false,
          "text": "scenario_narrative=Tech+Inst",
          "x": 0.15999999999999998,
          "xanchor": "center",
          "xref": "paper",
          "y": 0.9999999999999999,
          "yanchor": "bottom",
          "yref": "paper"
         },
         {
          "font": {},
          "showarrow": false,
          "text": "scenario_narrative=Tech+Inst+Enab",
          "x": 0.49999999999999994,
          "xanchor": "center",
          "xref": "paper",
          "y": 0.9999999999999999,
          "yanchor": "bottom",
          "yref": "paper"
         },
         {
          "font": {},
          "showarrow": false,
          "text": "scenario_narrative=Instit",
          "x": 0.8399999999999999,
          "xanchor": "center",
          "xref": "paper",
          "y": 0.9999999999999999,
          "yanchor": "bottom",
          "yref": "paper"
         }
        ],
        "legend": {
         "title": {
          "text": "region, model"
         },
         "tracegroupgap": 0
        },
        "showlegend": false,
        "template": {
         "data": {
          "bar": [
           {
            "error_x": {
             "color": "#2a3f5f"
            },
            "error_y": {
             "color": "#2a3f5f"
            },
            "marker": {
             "line": {
              "color": "#E5ECF6",
              "width": 0.5
             },
             "pattern": {
              "fillmode": "overlay",
              "size": 10,
              "solidity": 0.2
             }
            },
            "type": "bar"
           }
          ],
          "barpolar": [
           {
            "marker": {
             "line": {
              "color": "#E5ECF6",
              "width": 0.5
             },
             "pattern": {
              "fillmode": "overlay",
              "size": 10,
              "solidity": 0.2
             }
            },
            "type": "barpolar"
           }
          ],
          "carpet": [
           {
            "aaxis": {
             "endlinecolor": "#2a3f5f",
             "gridcolor": "white",
             "linecolor": "white",
             "minorgridcolor": "white",
             "startlinecolor": "#2a3f5f"
            },
            "baxis": {
             "endlinecolor": "#2a3f5f",
             "gridcolor": "white",
             "linecolor": "white",
             "minorgridcolor": "white",
             "startlinecolor": "#2a3f5f"
            },
            "type": "carpet"
           }
          ],
          "choropleth": [
           {
            "colorbar": {
             "outlinewidth": 0,
             "ticks": ""
            },
            "type": "choropleth"
           }
          ],
          "contour": [
           {
            "colorbar": {
             "outlinewidth": 0,
             "ticks": ""
            },
            "colorscale": [
             [
              0,
              "#0d0887"
             ],
             [
              0.1111111111111111,
              "#46039f"
             ],
             [
              0.2222222222222222,
              "#7201a8"
             ],
             [
              0.3333333333333333,
              "#9c179e"
             ],
             [
              0.4444444444444444,
              "#bd3786"
             ],
             [
              0.5555555555555556,
              "#d8576b"
             ],
             [
              0.6666666666666666,
              "#ed7953"
             ],
             [
              0.7777777777777778,
              "#fb9f3a"
             ],
             [
              0.8888888888888888,
              "#fdca26"
             ],
             [
              1,
              "#f0f921"
             ]
            ],
            "type": "contour"
           }
          ],
          "contourcarpet": [
           {
            "colorbar": {
             "outlinewidth": 0,
             "ticks": ""
            },
            "type": "contourcarpet"
           }
          ],
          "heatmap": [
           {
            "colorbar": {
             "outlinewidth": 0,
             "ticks": ""
            },
            "colorscale": [
             [
              0,
              "#0d0887"
             ],
             [
              0.1111111111111111,
              "#46039f"
             ],
             [
              0.2222222222222222,
              "#7201a8"
             ],
             [
              0.3333333333333333,
              "#9c179e"
             ],
             [
              0.4444444444444444,
              "#bd3786"
             ],
             [
              0.5555555555555556,
              "#d8576b"
             ],
             [
              0.6666666666666666,
              "#ed7953"
             ],
             [
              0.7777777777777778,
              "#fb9f3a"
             ],
             [
              0.8888888888888888,
              "#fdca26"
             ],
             [
              1,
              "#f0f921"
             ]
            ],
            "type": "heatmap"
           }
          ],
          "heatmapgl": [
           {
            "colorbar": {
             "outlinewidth": 0,
             "ticks": ""
            },
            "colorscale": [
             [
              0,
              "#0d0887"
             ],
             [
              0.1111111111111111,
              "#46039f"
             ],
             [
              0.2222222222222222,
              "#7201a8"
             ],
             [
              0.3333333333333333,
              "#9c179e"
             ],
             [
              0.4444444444444444,
              "#bd3786"
             ],
             [
              0.5555555555555556,
              "#d8576b"
             ],
             [
              0.6666666666666666,
              "#ed7953"
             ],
             [
              0.7777777777777778,
              "#fb9f3a"
             ],
             [
              0.8888888888888888,
              "#fdca26"
             ],
             [
              1,
              "#f0f921"
             ]
            ],
            "type": "heatmapgl"
           }
          ],
          "histogram": [
           {
            "marker": {
             "pattern": {
              "fillmode": "overlay",
              "size": 10,
              "solidity": 0.2
             }
            },
            "type": "histogram"
           }
          ],
          "histogram2d": [
           {
            "colorbar": {
             "outlinewidth": 0,
             "ticks": ""
            },
            "colorscale": [
             [
              0,
              "#0d0887"
             ],
             [
              0.1111111111111111,
              "#46039f"
             ],
             [
              0.2222222222222222,
              "#7201a8"
             ],
             [
              0.3333333333333333,
              "#9c179e"
             ],
             [
              0.4444444444444444,
              "#bd3786"
             ],
             [
              0.5555555555555556,
              "#d8576b"
             ],
             [
              0.6666666666666666,
              "#ed7953"
             ],
             [
              0.7777777777777778,
              "#fb9f3a"
             ],
             [
              0.8888888888888888,
              "#fdca26"
             ],
             [
              1,
              "#f0f921"
             ]
            ],
            "type": "histogram2d"
           }
          ],
          "histogram2dcontour": [
           {
            "colorbar": {
             "outlinewidth": 0,
             "ticks": ""
            },
            "colorscale": [
             [
              0,
              "#0d0887"
             ],
             [
              0.1111111111111111,
              "#46039f"
             ],
             [
              0.2222222222222222,
              "#7201a8"
             ],
             [
              0.3333333333333333,
              "#9c179e"
             ],
             [
              0.4444444444444444,
              "#bd3786"
             ],
             [
              0.5555555555555556,
              "#d8576b"
             ],
             [
              0.6666666666666666,
              "#ed7953"
             ],
             [
              0.7777777777777778,
              "#fb9f3a"
             ],
             [
              0.8888888888888888,
              "#fdca26"
             ],
             [
              1,
              "#f0f921"
             ]
            ],
            "type": "histogram2dcontour"
           }
          ],
          "mesh3d": [
           {
            "colorbar": {
             "outlinewidth": 0,
             "ticks": ""
            },
            "type": "mesh3d"
           }
          ],
          "parcoords": [
           {
            "line": {
             "colorbar": {
              "outlinewidth": 0,
              "ticks": ""
             }
            },
            "type": "parcoords"
           }
          ],
          "pie": [
           {
            "automargin": true,
            "type": "pie"
           }
          ],
          "scatter": [
           {
            "fillpattern": {
             "fillmode": "overlay",
             "size": 10,
             "solidity": 0.2
            },
            "type": "scatter"
           }
          ],
          "scatter3d": [
           {
            "line": {
             "colorbar": {
              "outlinewidth": 0,
              "ticks": ""
             }
            },
            "marker": {
             "colorbar": {
              "outlinewidth": 0,
              "ticks": ""
             }
            },
            "type": "scatter3d"
           }
          ],
          "scattercarpet": [
           {
            "marker": {
             "colorbar": {
              "outlinewidth": 0,
              "ticks": ""
             }
            },
            "type": "scattercarpet"
           }
          ],
          "scattergeo": [
           {
            "marker": {
             "colorbar": {
              "outlinewidth": 0,
              "ticks": ""
             }
            },
            "type": "scattergeo"
           }
          ],
          "scattergl": [
           {
            "marker": {
             "colorbar": {
              "outlinewidth": 0,
              "ticks": ""
             }
            },
            "type": "scattergl"
           }
          ],
          "scattermapbox": [
           {
            "marker": {
             "colorbar": {
              "outlinewidth": 0,
              "ticks": ""
             }
            },
            "type": "scattermapbox"
           }
          ],
          "scatterpolar": [
           {
            "marker": {
             "colorbar": {
              "outlinewidth": 0,
              "ticks": ""
             }
            },
            "type": "scatterpolar"
           }
          ],
          "scatterpolargl": [
           {
            "marker": {
             "colorbar": {
              "outlinewidth": 0,
              "ticks": ""
             }
            },
            "type": "scatterpolargl"
           }
          ],
          "scatterternary": [
           {
            "marker": {
             "colorbar": {
              "outlinewidth": 0,
              "ticks": ""
             }
            },
            "type": "scatterternary"
           }
          ],
          "surface": [
           {
            "colorbar": {
             "outlinewidth": 0,
             "ticks": ""
            },
            "colorscale": [
             [
              0,
              "#0d0887"
             ],
             [
              0.1111111111111111,
              "#46039f"
             ],
             [
              0.2222222222222222,
              "#7201a8"
             ],
             [
              0.3333333333333333,
              "#9c179e"
             ],
             [
              0.4444444444444444,
              "#bd3786"
             ],
             [
              0.5555555555555556,
              "#d8576b"
             ],
             [
              0.6666666666666666,
              "#ed7953"
             ],
             [
              0.7777777777777778,
              "#fb9f3a"
             ],
             [
              0.8888888888888888,
              "#fdca26"
             ],
             [
              1,
              "#f0f921"
             ]
            ],
            "type": "surface"
           }
          ],
          "table": [
           {
            "cells": {
             "fill": {
              "color": "#EBF0F8"
             },
             "line": {
              "color": "white"
             }
            },
            "header": {
             "fill": {
              "color": "#C8D4E3"
             },
             "line": {
              "color": "white"
             }
            },
            "type": "table"
           }
          ]
         },
         "layout": {
          "annotationdefaults": {
           "arrowcolor": "#2a3f5f",
           "arrowhead": 0,
           "arrowwidth": 1
          },
          "autotypenumbers": "strict",
          "coloraxis": {
           "colorbar": {
            "outlinewidth": 0,
            "ticks": ""
           }
          },
          "colorscale": {
           "diverging": [
            [
             0,
             "#8e0152"
            ],
            [
             0.1,
             "#c51b7d"
            ],
            [
             0.2,
             "#de77ae"
            ],
            [
             0.3,
             "#f1b6da"
            ],
            [
             0.4,
             "#fde0ef"
            ],
            [
             0.5,
             "#f7f7f7"
            ],
            [
             0.6,
             "#e6f5d0"
            ],
            [
             0.7,
             "#b8e186"
            ],
            [
             0.8,
             "#7fbc41"
            ],
            [
             0.9,
             "#4d9221"
            ],
            [
             1,
             "#276419"
            ]
           ],
           "sequential": [
            [
             0,
             "#0d0887"
            ],
            [
             0.1111111111111111,
             "#46039f"
            ],
            [
             0.2222222222222222,
             "#7201a8"
            ],
            [
             0.3333333333333333,
             "#9c179e"
            ],
            [
             0.4444444444444444,
             "#bd3786"
            ],
            [
             0.5555555555555556,
             "#d8576b"
            ],
            [
             0.6666666666666666,
             "#ed7953"
            ],
            [
             0.7777777777777778,
             "#fb9f3a"
            ],
            [
             0.8888888888888888,
             "#fdca26"
            ],
            [
             1,
             "#f0f921"
            ]
           ],
           "sequentialminus": [
            [
             0,
             "#0d0887"
            ],
            [
             0.1111111111111111,
             "#46039f"
            ],
            [
             0.2222222222222222,
             "#7201a8"
            ],
            [
             0.3333333333333333,
             "#9c179e"
            ],
            [
             0.4444444444444444,
             "#bd3786"
            ],
            [
             0.5555555555555556,
             "#d8576b"
            ],
            [
             0.6666666666666666,
             "#ed7953"
            ],
            [
             0.7777777777777778,
             "#fb9f3a"
            ],
            [
             0.8888888888888888,
             "#fdca26"
            ],
            [
             1,
             "#f0f921"
            ]
           ]
          },
          "colorway": [
           "#636efa",
           "#EF553B",
           "#00cc96",
           "#ab63fa",
           "#FFA15A",
           "#19d3f3",
           "#FF6692",
           "#B6E880",
           "#FF97FF",
           "#FECB52"
          ],
          "font": {
           "color": "#2a3f5f"
          },
          "geo": {
           "bgcolor": "white",
           "lakecolor": "white",
           "landcolor": "#E5ECF6",
           "showlakes": true,
           "showland": true,
           "subunitcolor": "white"
          },
          "hoverlabel": {
           "align": "left"
          },
          "hovermode": "closest",
          "mapbox": {
           "style": "light"
          },
          "paper_bgcolor": "white",
          "plot_bgcolor": "#E5ECF6",
          "polar": {
           "angularaxis": {
            "gridcolor": "white",
            "linecolor": "white",
            "ticks": ""
           },
           "bgcolor": "#E5ECF6",
           "radialaxis": {
            "gridcolor": "white",
            "linecolor": "white",
            "ticks": ""
           }
          },
          "scene": {
           "xaxis": {
            "backgroundcolor": "#E5ECF6",
            "gridcolor": "white",
            "gridwidth": 2,
            "linecolor": "white",
            "showbackground": true,
            "ticks": "",
            "zerolinecolor": "white"
           },
           "yaxis": {
            "backgroundcolor": "#E5ECF6",
            "gridcolor": "white",
            "gridwidth": 2,
            "linecolor": "white",
            "showbackground": true,
            "ticks": "",
            "zerolinecolor": "white"
           },
           "zaxis": {
            "backgroundcolor": "#E5ECF6",
            "gridcolor": "white",
            "gridwidth": 2,
            "linecolor": "white",
            "showbackground": true,
            "ticks": "",
            "zerolinecolor": "white"
           }
          },
          "shapedefaults": {
           "line": {
            "color": "#2a3f5f"
           }
          },
          "ternary": {
           "aaxis": {
            "gridcolor": "white",
            "linecolor": "white",
            "ticks": ""
           },
           "baxis": {
            "gridcolor": "white",
            "linecolor": "white",
            "ticks": ""
           },
           "bgcolor": "#E5ECF6",
           "caxis": {
            "gridcolor": "white",
            "linecolor": "white",
            "ticks": ""
           }
          },
          "title": {
           "x": 0.05
          },
          "xaxis": {
           "automargin": true,
           "gridcolor": "white",
           "linecolor": "white",
           "ticks": "",
           "title": {
            "standoff": 15
           },
           "zerolinecolor": "white",
           "zerolinewidth": 2
          },
          "yaxis": {
           "automargin": true,
           "gridcolor": "white",
           "linecolor": "white",
           "ticks": "",
           "title": {
            "standoff": 15
           },
           "zerolinecolor": "white",
           "zerolinewidth": 2
          }
         }
        },
        "title": {
         "text": "GHG emission trajectories"
        },
        "xaxis": {
         "anchor": "y",
         "domain": [
          0,
          0.31999999999999995
         ],
         "range": [
          2005,
          2100
         ],
         "title": {
          "text": "year"
         }
        },
        "xaxis2": {
         "anchor": "y2",
         "domain": [
          0.33999999999999997,
          0.6599999999999999
         ],
         "matches": "x",
         "range": [
          2005,
          2100
         ],
         "title": {
          "text": "year"
         }
        },
        "xaxis3": {
         "anchor": "y3",
         "domain": [
          0.6799999999999999,
          0.9999999999999999
         ],
         "matches": "x",
         "range": [
          2005,
          2100
         ],
         "title": {
          "text": "year"
         }
        },
        "xaxis4": {
         "anchor": "y4",
         "domain": [
          0,
          0.31999999999999995
         ],
         "matches": "x",
         "showticklabels": false
        },
        "xaxis5": {
         "anchor": "y5",
         "domain": [
          0.33999999999999997,
          0.6599999999999999
         ],
         "matches": "x",
         "showticklabels": false
        },
        "xaxis6": {
         "anchor": "y6",
         "domain": [
          0.6799999999999999,
          0.9999999999999999
         ],
         "matches": "x",
         "showticklabels": false
        },
        "yaxis": {
         "anchor": "x",
         "domain": [
          0,
          0.46499999999999997
         ],
         "range": [
          -10000,
          20000
         ],
         "title": {
          "text": "Emissions|Kyoto Gases"
         }
        },
        "yaxis2": {
         "anchor": "x2",
         "domain": [
          0,
          0.46499999999999997
         ],
         "matches": "y",
         "showticklabels": false
        },
        "yaxis3": {
         "anchor": "x3",
         "domain": [
          0,
          0.46499999999999997
         ],
         "matches": "y",
         "showticklabels": false
        },
        "yaxis4": {
         "anchor": "x4",
         "domain": [
          0.5349999999999999,
          0.9999999999999999
         ],
         "matches": "y",
         "range": [
          -10000,
          20000
         ],
         "title": {
          "text": "Emissions|Kyoto Gases"
         }
        },
        "yaxis5": {
         "anchor": "x5",
         "domain": [
          0.5349999999999999,
          0.9999999999999999
         ],
         "matches": "y",
         "showticklabels": false
        },
        "yaxis6": {
         "anchor": "x6",
         "domain": [
          0.5349999999999999,
          0.9999999999999999
         ],
         "matches": "y",
         "showticklabels": false
        }
       }
      }
     },
     "metadata": {},
     "output_type": "display_data"
    }
   ],
   "source": [
    "#Figure 2: GHG trajectories\n",
    "fig2 = px.line(df,\n",
    "               x = \"year\",\n",
    "               y=\"Emissions|Kyoto Gases\",\n",
    "               color = \"region\",\n",
    "               line_dash=\"model\",\n",
    "               facet_col=\"scenario_narrative\",\n",
    "               facet_col_wrap= 3,\n",
    "               range_x=[2005, 2100],\n",
    "               range_y = [-10000, 20000],\n",
    "               hover_data = {'scenario':True, 'model':True}, \n",
    "               title = \"GHG emission trajectories\")\n",
    "fig2.update_layout(showlegend=False)\n",
    "fig2"
   ]
  },
  {
   "cell_type": "code",
   "execution_count": 109,
   "metadata": {},
   "outputs": [],
   "source": [
    "#calculate year that each scenario hit's net zero\n",
    "netzero_df = df[df[\"Emissions|CO2\"] <= 0].groupby([\"model\", \"scenario\"])['year'].min().reset_index()\n",
    "netzero_df.rename(columns={\"year\": \"year_netzero\"}, inplace=True)\n",
    "netzero_df.head()\n",
    "#aggregated cost until 2100\n",
    "#df[\"year\"] = pd.to_numeric(df['year'])\n",
    "#df[df[\"year\"] <= 2100].groupby([\"model\", \"scenario\"]).agg({\"AR5 climate diagnostics|Temperature|Exceedance Probability|1.5 degC|MAGICC6\": ['sum']})"
   ]
  },
  {
   "cell_type": "code",
   "execution_count": 32,
   "metadata": {},
   "outputs": [
    {
     "name": "stderr",
     "output_type": "stream",
     "text": [
      "C:\\Users\\schei\\AppData\\Local\\Temp\\ipykernel_10492\\1471908738.py:4: SettingWithCopyWarning:\n",
      "\n",
      "\n",
      "A value is trying to be set on a copy of a slice from a DataFrame.\n",
      "Try using .loc[row_indexer,col_indexer] = value instead\n",
      "\n",
      "See the caveats in the documentation: https://pandas.pydata.org/pandas-docs/stable/user_guide/indexing.html#returning-a-view-versus-a-copy\n",
      "\n"
     ]
    },
    {
     "data": {
      "text/html": [
       "<div>\n",
       "<style scoped>\n",
       "    .dataframe tbody tr th:only-of-type {\n",
       "        vertical-align: middle;\n",
       "    }\n",
       "\n",
       "    .dataframe tbody tr th {\n",
       "        vertical-align: top;\n",
       "    }\n",
       "\n",
       "    .dataframe thead th {\n",
       "        text-align: right;\n",
       "    }\n",
       "</style>\n",
       "<table border=\"1\" class=\"dataframe\">\n",
       "  <thead>\n",
       "    <tr style=\"text-align: right;\">\n",
       "      <th></th>\n",
       "      <th>model</th>\n",
       "      <th>scenario</th>\n",
       "      <th>carbon_budget</th>\n",
       "      <th>year_netcoal</th>\n",
       "    </tr>\n",
       "  </thead>\n",
       "  <tbody>\n",
       "    <tr>\n",
       "      <th>0</th>\n",
       "      <td>AIM/CGE V2.2</td>\n",
       "      <td>T34_1000_feas_em</td>\n",
       "      <td>2C</td>\n",
       "      <td>2055</td>\n",
       "    </tr>\n",
       "    <tr>\n",
       "      <th>1</th>\n",
       "      <td>AIM/CGE V2.2</td>\n",
       "      <td>T34_1000_feas_pr</td>\n",
       "      <td>2C</td>\n",
       "      <td>2055</td>\n",
       "    </tr>\n",
       "    <tr>\n",
       "      <th>2</th>\n",
       "      <td>AIM/CGE V2.2</td>\n",
       "      <td>T34_1000_feas_ref</td>\n",
       "      <td>2C</td>\n",
       "      <td>2050</td>\n",
       "    </tr>\n",
       "    <tr>\n",
       "      <th>3</th>\n",
       "      <td>GEM-E3_V2023</td>\n",
       "      <td>T34_1000_feas_em</td>\n",
       "      <td>2C</td>\n",
       "      <td>2065</td>\n",
       "    </tr>\n",
       "    <tr>\n",
       "      <th>4</th>\n",
       "      <td>GEM-E3_V2023</td>\n",
       "      <td>T34_1000_feas_ref</td>\n",
       "      <td>2C</td>\n",
       "      <td>2080</td>\n",
       "    </tr>\n",
       "    <tr>\n",
       "      <th>5</th>\n",
       "      <td>IMAGE 3.2</td>\n",
       "      <td>T34_1000_feas_em</td>\n",
       "      <td>2C</td>\n",
       "      <td>2060</td>\n",
       "    </tr>\n",
       "    <tr>\n",
       "      <th>6</th>\n",
       "      <td>IMAGE 3.2</td>\n",
       "      <td>T34_1000_feas_pr</td>\n",
       "      <td>2C</td>\n",
       "      <td>2060</td>\n",
       "    </tr>\n",
       "    <tr>\n",
       "      <th>7</th>\n",
       "      <td>IMAGE 3.2</td>\n",
       "      <td>T34_1000_feas_ref</td>\n",
       "      <td>2C</td>\n",
       "      <td>2060</td>\n",
       "    </tr>\n",
       "    <tr>\n",
       "      <th>8</th>\n",
       "      <td>MESSAGEix-GLOBIOM_1.1</td>\n",
       "      <td>T34_1000_feas_em</td>\n",
       "      <td>2C</td>\n",
       "      <td>2060</td>\n",
       "    </tr>\n",
       "    <tr>\n",
       "      <th>9</th>\n",
       "      <td>MESSAGEix-GLOBIOM_1.1</td>\n",
       "      <td>T34_1000_feas_pr</td>\n",
       "      <td>2C</td>\n",
       "      <td>2060</td>\n",
       "    </tr>\n",
       "    <tr>\n",
       "      <th>10</th>\n",
       "      <td>MESSAGEix-GLOBIOM_1.1</td>\n",
       "      <td>T34_1000_feas_ref</td>\n",
       "      <td>2C</td>\n",
       "      <td>2055</td>\n",
       "    </tr>\n",
       "    <tr>\n",
       "      <th>11</th>\n",
       "      <td>POLES ENGAGE</td>\n",
       "      <td>T34_1000_feas_pr</td>\n",
       "      <td>2C</td>\n",
       "      <td>2100</td>\n",
       "    </tr>\n",
       "    <tr>\n",
       "      <th>12</th>\n",
       "      <td>POLES ENGAGE</td>\n",
       "      <td>T34_1000_feas_ref</td>\n",
       "      <td>2C</td>\n",
       "      <td>2100</td>\n",
       "    </tr>\n",
       "    <tr>\n",
       "      <th>13</th>\n",
       "      <td>REMIND 3.0</td>\n",
       "      <td>T34_1000_feas_em</td>\n",
       "      <td>2C</td>\n",
       "      <td>2055</td>\n",
       "    </tr>\n",
       "    <tr>\n",
       "      <th>14</th>\n",
       "      <td>REMIND 3.0</td>\n",
       "      <td>T34_1000_feas_pr</td>\n",
       "      <td>2C</td>\n",
       "      <td>2050</td>\n",
       "    </tr>\n",
       "    <tr>\n",
       "      <th>15</th>\n",
       "      <td>REMIND 3.0</td>\n",
       "      <td>T34_1000_feas_ref</td>\n",
       "      <td>2C</td>\n",
       "      <td>2050</td>\n",
       "    </tr>\n",
       "    <tr>\n",
       "      <th>16</th>\n",
       "      <td>REMIND 3.0</td>\n",
       "      <td>T34_550_feas_em</td>\n",
       "      <td>1.5C</td>\n",
       "      <td>2050</td>\n",
       "    </tr>\n",
       "    <tr>\n",
       "      <th>17</th>\n",
       "      <td>REMIND 3.0</td>\n",
       "      <td>T34_550_feas_pr</td>\n",
       "      <td>1.5C</td>\n",
       "      <td>2045</td>\n",
       "    </tr>\n",
       "    <tr>\n",
       "      <th>18</th>\n",
       "      <td>REMIND 3.0</td>\n",
       "      <td>T34_550_feas_ref</td>\n",
       "      <td>1.5C</td>\n",
       "      <td>2035</td>\n",
       "    </tr>\n",
       "  </tbody>\n",
       "</table>\n",
       "</div>"
      ],
      "text/plain": [
       "                    model           scenario carbon_budget  year_netcoal\n",
       "0            AIM/CGE V2.2   T34_1000_feas_em            2C          2055\n",
       "1            AIM/CGE V2.2   T34_1000_feas_pr            2C          2055\n",
       "2            AIM/CGE V2.2  T34_1000_feas_ref            2C          2050\n",
       "3            GEM-E3_V2023   T34_1000_feas_em            2C          2065\n",
       "4            GEM-E3_V2023  T34_1000_feas_ref            2C          2080\n",
       "5               IMAGE 3.2   T34_1000_feas_em            2C          2060\n",
       "6               IMAGE 3.2   T34_1000_feas_pr            2C          2060\n",
       "7               IMAGE 3.2  T34_1000_feas_ref            2C          2060\n",
       "8   MESSAGEix-GLOBIOM_1.1   T34_1000_feas_em            2C          2060\n",
       "9   MESSAGEix-GLOBIOM_1.1   T34_1000_feas_pr            2C          2060\n",
       "10  MESSAGEix-GLOBIOM_1.1  T34_1000_feas_ref            2C          2055\n",
       "11           POLES ENGAGE   T34_1000_feas_pr            2C          2100\n",
       "12           POLES ENGAGE  T34_1000_feas_ref            2C          2100\n",
       "13             REMIND 3.0   T34_1000_feas_em            2C          2055\n",
       "14             REMIND 3.0   T34_1000_feas_pr            2C          2050\n",
       "15             REMIND 3.0  T34_1000_feas_ref            2C          2050\n",
       "16             REMIND 3.0    T34_550_feas_em          1.5C          2050\n",
       "17             REMIND 3.0    T34_550_feas_pr          1.5C          2045\n",
       "18             REMIND 3.0   T34_550_feas_ref          1.5C          2035"
      ]
     },
     "execution_count": 32,
     "metadata": {},
     "output_type": "execute_result"
    }
   ],
   "source": [
    "#get amounts of unabated coal\n",
    "#both Coal data are in EJ/yr\n",
    "unabcoal_df = df[[\"model\", \"scenario\", \"carbon_budget\", \"region\",\"year\", \"Primary Energy|Coal\", \"Primary Energy|Coal|w/ CCS\"]] \n",
    "unabcoal_df[\"Unabated Coal\"] = unabcoal_df[\"Primary Energy|Coal\"] - unabcoal_df[\"Primary Energy|Coal|w/ CCS\"]\n",
    "#pick threshold for when coal is supposed to the phased out // now it's 8EJ/y\n",
    "unabcoal_df = unabcoal_df[unabcoal_df[\"Unabated Coal\"] <= 8].groupby([\"model\", \"scenario\", \"carbon_budget\"])['year'].min().reset_index()\n",
    "unabcoal_df.rename(columns={\"year\": \"year_netcoal\"}, inplace=True)\n",
    "#combine with netzero df\n",
    "\n",
    "unabcoal_df"
   ]
  },
  {
   "cell_type": "code",
   "execution_count": 89,
   "metadata": {},
   "outputs": [
    {
     "data": {
      "text/html": [
       "<div>\n",
       "<style scoped>\n",
       "    .dataframe tbody tr th:only-of-type {\n",
       "        vertical-align: middle;\n",
       "    }\n",
       "\n",
       "    .dataframe tbody tr th {\n",
       "        vertical-align: top;\n",
       "    }\n",
       "\n",
       "    .dataframe thead th {\n",
       "        text-align: right;\n",
       "    }\n",
       "</style>\n",
       "<table border=\"1\" class=\"dataframe\">\n",
       "  <thead>\n",
       "    <tr style=\"text-align: right;\">\n",
       "      <th>year</th>\n",
       "      <th>model</th>\n",
       "      <th>scenario</th>\n",
       "      <th>carbon_budget</th>\n",
       "      <th>region</th>\n",
       "      <th>2020</th>\n",
       "      <th>2030</th>\n",
       "      <th>redu_FET</th>\n",
       "    </tr>\n",
       "  </thead>\n",
       "  <tbody>\n",
       "    <tr>\n",
       "      <th>0</th>\n",
       "      <td>AIM/CGE V2.2</td>\n",
       "      <td>T34_1000_feas_em</td>\n",
       "      <td>2C</td>\n",
       "      <td>World</td>\n",
       "      <td>123.601600</td>\n",
       "      <td>104.300200</td>\n",
       "      <td>-0.156158</td>\n",
       "    </tr>\n",
       "    <tr>\n",
       "      <th>1</th>\n",
       "      <td>AIM/CGE V2.2</td>\n",
       "      <td>T34_1000_feas_pr</td>\n",
       "      <td>2C</td>\n",
       "      <td>World</td>\n",
       "      <td>123.601600</td>\n",
       "      <td>104.296500</td>\n",
       "      <td>-0.156188</td>\n",
       "    </tr>\n",
       "    <tr>\n",
       "      <th>2</th>\n",
       "      <td>AIM/CGE V2.2</td>\n",
       "      <td>T34_1000_feas_ref</td>\n",
       "      <td>2C</td>\n",
       "      <td>World</td>\n",
       "      <td>123.601600</td>\n",
       "      <td>111.827600</td>\n",
       "      <td>-0.095258</td>\n",
       "    </tr>\n",
       "    <tr>\n",
       "      <th>3</th>\n",
       "      <td>GEM-E3_V2023</td>\n",
       "      <td>T34_1000_feas_em</td>\n",
       "      <td>2C</td>\n",
       "      <td>World</td>\n",
       "      <td>106.172003</td>\n",
       "      <td>107.829240</td>\n",
       "      <td>0.015609</td>\n",
       "    </tr>\n",
       "    <tr>\n",
       "      <th>4</th>\n",
       "      <td>GEM-E3_V2023</td>\n",
       "      <td>T34_1000_feas_ref</td>\n",
       "      <td>2C</td>\n",
       "      <td>World</td>\n",
       "      <td>106.172003</td>\n",
       "      <td>107.223507</td>\n",
       "      <td>0.009904</td>\n",
       "    </tr>\n",
       "    <tr>\n",
       "      <th>5</th>\n",
       "      <td>IMAGE 3.2</td>\n",
       "      <td>T34_1000_feas_em</td>\n",
       "      <td>2C</td>\n",
       "      <td>World</td>\n",
       "      <td>92.399406</td>\n",
       "      <td>78.249680</td>\n",
       "      <td>-0.153137</td>\n",
       "    </tr>\n",
       "    <tr>\n",
       "      <th>6</th>\n",
       "      <td>IMAGE 3.2</td>\n",
       "      <td>T34_1000_feas_pr</td>\n",
       "      <td>2C</td>\n",
       "      <td>World</td>\n",
       "      <td>92.399406</td>\n",
       "      <td>77.118727</td>\n",
       "      <td>-0.165376</td>\n",
       "    </tr>\n",
       "    <tr>\n",
       "      <th>7</th>\n",
       "      <td>IMAGE 3.2</td>\n",
       "      <td>T34_1000_feas_ref</td>\n",
       "      <td>2C</td>\n",
       "      <td>World</td>\n",
       "      <td>92.399406</td>\n",
       "      <td>85.292977</td>\n",
       "      <td>-0.076910</td>\n",
       "    </tr>\n",
       "    <tr>\n",
       "      <th>8</th>\n",
       "      <td>MESSAGEix-GLOBIOM_1.1</td>\n",
       "      <td>T34_1000_feas_em</td>\n",
       "      <td>2C</td>\n",
       "      <td>World</td>\n",
       "      <td>113.118992</td>\n",
       "      <td>140.618740</td>\n",
       "      <td>0.243105</td>\n",
       "    </tr>\n",
       "    <tr>\n",
       "      <th>9</th>\n",
       "      <td>MESSAGEix-GLOBIOM_1.1</td>\n",
       "      <td>T34_1000_feas_pr</td>\n",
       "      <td>2C</td>\n",
       "      <td>World</td>\n",
       "      <td>113.118992</td>\n",
       "      <td>141.497312</td>\n",
       "      <td>0.250871</td>\n",
       "    </tr>\n",
       "    <tr>\n",
       "      <th>10</th>\n",
       "      <td>MESSAGEix-GLOBIOM_1.1</td>\n",
       "      <td>T34_1000_feas_ref</td>\n",
       "      <td>2C</td>\n",
       "      <td>World</td>\n",
       "      <td>113.118992</td>\n",
       "      <td>138.640052</td>\n",
       "      <td>0.225613</td>\n",
       "    </tr>\n",
       "    <tr>\n",
       "      <th>11</th>\n",
       "      <td>POLES ENGAGE</td>\n",
       "      <td>T34_1000_feas_em</td>\n",
       "      <td>2C</td>\n",
       "      <td>World</td>\n",
       "      <td>107.848488</td>\n",
       "      <td>107.732933</td>\n",
       "      <td>-0.001071</td>\n",
       "    </tr>\n",
       "    <tr>\n",
       "      <th>12</th>\n",
       "      <td>POLES ENGAGE</td>\n",
       "      <td>T34_1000_feas_pr</td>\n",
       "      <td>2C</td>\n",
       "      <td>World</td>\n",
       "      <td>107.848488</td>\n",
       "      <td>118.065712</td>\n",
       "      <td>0.094737</td>\n",
       "    </tr>\n",
       "    <tr>\n",
       "      <th>13</th>\n",
       "      <td>POLES ENGAGE</td>\n",
       "      <td>T34_1000_feas_ref</td>\n",
       "      <td>2C</td>\n",
       "      <td>World</td>\n",
       "      <td>107.848488</td>\n",
       "      <td>110.032166</td>\n",
       "      <td>0.020248</td>\n",
       "    </tr>\n",
       "    <tr>\n",
       "      <th>14</th>\n",
       "      <td>REMIND 3.0</td>\n",
       "      <td>T34_1000_feas_em</td>\n",
       "      <td>2C</td>\n",
       "      <td>World</td>\n",
       "      <td>118.958792</td>\n",
       "      <td>117.555399</td>\n",
       "      <td>-0.011797</td>\n",
       "    </tr>\n",
       "    <tr>\n",
       "      <th>15</th>\n",
       "      <td>REMIND 3.0</td>\n",
       "      <td>T34_1000_feas_pr</td>\n",
       "      <td>2C</td>\n",
       "      <td>World</td>\n",
       "      <td>118.958792</td>\n",
       "      <td>117.626265</td>\n",
       "      <td>-0.011202</td>\n",
       "    </tr>\n",
       "    <tr>\n",
       "      <th>16</th>\n",
       "      <td>REMIND 3.0</td>\n",
       "      <td>T34_1000_feas_ref</td>\n",
       "      <td>2C</td>\n",
       "      <td>World</td>\n",
       "      <td>118.958792</td>\n",
       "      <td>116.925112</td>\n",
       "      <td>-0.017096</td>\n",
       "    </tr>\n",
       "    <tr>\n",
       "      <th>17</th>\n",
       "      <td>REMIND 3.0</td>\n",
       "      <td>T34_550_feas_em</td>\n",
       "      <td>1.5C</td>\n",
       "      <td>World</td>\n",
       "      <td>118.958792</td>\n",
       "      <td>115.048436</td>\n",
       "      <td>-0.032872</td>\n",
       "    </tr>\n",
       "    <tr>\n",
       "      <th>18</th>\n",
       "      <td>REMIND 3.0</td>\n",
       "      <td>T34_550_feas_pr</td>\n",
       "      <td>1.5C</td>\n",
       "      <td>World</td>\n",
       "      <td>118.958792</td>\n",
       "      <td>114.592854</td>\n",
       "      <td>-0.036701</td>\n",
       "    </tr>\n",
       "    <tr>\n",
       "      <th>19</th>\n",
       "      <td>REMIND 3.0</td>\n",
       "      <td>T34_550_feas_ref</td>\n",
       "      <td>1.5C</td>\n",
       "      <td>World</td>\n",
       "      <td>118.958792</td>\n",
       "      <td>107.573860</td>\n",
       "      <td>-0.095705</td>\n",
       "    </tr>\n",
       "    <tr>\n",
       "      <th>20</th>\n",
       "      <td>WITCH 5.0</td>\n",
       "      <td>T34_1000_feas_em</td>\n",
       "      <td>2C</td>\n",
       "      <td>World</td>\n",
       "      <td>112.512133</td>\n",
       "      <td>103.492111</td>\n",
       "      <td>-0.080169</td>\n",
       "    </tr>\n",
       "    <tr>\n",
       "      <th>21</th>\n",
       "      <td>WITCH 5.0</td>\n",
       "      <td>T34_1000_feas_pr</td>\n",
       "      <td>2C</td>\n",
       "      <td>World</td>\n",
       "      <td>112.512133</td>\n",
       "      <td>105.380779</td>\n",
       "      <td>-0.063383</td>\n",
       "    </tr>\n",
       "    <tr>\n",
       "      <th>22</th>\n",
       "      <td>WITCH 5.0</td>\n",
       "      <td>T34_1000_feas_ref</td>\n",
       "      <td>2C</td>\n",
       "      <td>World</td>\n",
       "      <td>112.512133</td>\n",
       "      <td>104.706337</td>\n",
       "      <td>-0.069377</td>\n",
       "    </tr>\n",
       "  </tbody>\n",
       "</table>\n",
       "</div>"
      ],
      "text/plain": [
       "year                  model           scenario carbon_budget region   \n",
       "0              AIM/CGE V2.2   T34_1000_feas_em            2C  World  \\\n",
       "1              AIM/CGE V2.2   T34_1000_feas_pr            2C  World   \n",
       "2              AIM/CGE V2.2  T34_1000_feas_ref            2C  World   \n",
       "3              GEM-E3_V2023   T34_1000_feas_em            2C  World   \n",
       "4              GEM-E3_V2023  T34_1000_feas_ref            2C  World   \n",
       "5                 IMAGE 3.2   T34_1000_feas_em            2C  World   \n",
       "6                 IMAGE 3.2   T34_1000_feas_pr            2C  World   \n",
       "7                 IMAGE 3.2  T34_1000_feas_ref            2C  World   \n",
       "8     MESSAGEix-GLOBIOM_1.1   T34_1000_feas_em            2C  World   \n",
       "9     MESSAGEix-GLOBIOM_1.1   T34_1000_feas_pr            2C  World   \n",
       "10    MESSAGEix-GLOBIOM_1.1  T34_1000_feas_ref            2C  World   \n",
       "11             POLES ENGAGE   T34_1000_feas_em            2C  World   \n",
       "12             POLES ENGAGE   T34_1000_feas_pr            2C  World   \n",
       "13             POLES ENGAGE  T34_1000_feas_ref            2C  World   \n",
       "14               REMIND 3.0   T34_1000_feas_em            2C  World   \n",
       "15               REMIND 3.0   T34_1000_feas_pr            2C  World   \n",
       "16               REMIND 3.0  T34_1000_feas_ref            2C  World   \n",
       "17               REMIND 3.0    T34_550_feas_em          1.5C  World   \n",
       "18               REMIND 3.0    T34_550_feas_pr          1.5C  World   \n",
       "19               REMIND 3.0   T34_550_feas_ref          1.5C  World   \n",
       "20                WITCH 5.0   T34_1000_feas_em            2C  World   \n",
       "21                WITCH 5.0   T34_1000_feas_pr            2C  World   \n",
       "22                WITCH 5.0  T34_1000_feas_ref            2C  World   \n",
       "\n",
       "year        2020        2030  redu_FET  \n",
       "0     123.601600  104.300200 -0.156158  \n",
       "1     123.601600  104.296500 -0.156188  \n",
       "2     123.601600  111.827600 -0.095258  \n",
       "3     106.172003  107.829240  0.015609  \n",
       "4     106.172003  107.223507  0.009904  \n",
       "5      92.399406   78.249680 -0.153137  \n",
       "6      92.399406   77.118727 -0.165376  \n",
       "7      92.399406   85.292977 -0.076910  \n",
       "8     113.118992  140.618740  0.243105  \n",
       "9     113.118992  141.497312  0.250871  \n",
       "10    113.118992  138.640052  0.225613  \n",
       "11    107.848488  107.732933 -0.001071  \n",
       "12    107.848488  118.065712  0.094737  \n",
       "13    107.848488  110.032166  0.020248  \n",
       "14    118.958792  117.555399 -0.011797  \n",
       "15    118.958792  117.626265 -0.011202  \n",
       "16    118.958792  116.925112 -0.017096  \n",
       "17    118.958792  115.048436 -0.032872  \n",
       "18    118.958792  114.592854 -0.036701  \n",
       "19    118.958792  107.573860 -0.095705  \n",
       "20    112.512133  103.492111 -0.080169  \n",
       "21    112.512133  105.380779 -0.063383  \n",
       "22    112.512133  104.706337 -0.069377  "
      ]
     },
     "execution_count": 89,
     "metadata": {},
     "output_type": "execute_result"
    }
   ],
   "source": [
    "#calculate change in transportation energy from 2020 to 2030\n",
    "tranred_df = df[[\"model\", \"scenario\", \"carbon_budget\", \"region\",\"year\", \"Final Energy|Transportation\"]]\n",
    "#filter for year 2020 & 2030\n",
    "tranred_df = tranred_df[(tranred_df[\"year\"] == 2020) | (tranred_df[\"year\"] == 2030) ].reset_index().drop(\"index\", axis=1)\n",
    "#from long to wide\n",
    "tranred_df = pd.pivot(data=tranred_df, index=[\"model\", \"scenario\", \"carbon_budget\", \"region\"], \n",
    "             columns=\"year\", values= \"Final Energy|Transportation\").reset_index()\n",
    "#Finale Energy Transportation = (FET)\n",
    "tranred_df[\"redu_FET\"] = (tranred_df[2030] - tranred_df[2020]) / tranred_df[2020] \n",
    "\n",
    "# #both Coal data are in EJ/yr\n",
    "# unabcoal_df = df[[\"model\", \"scenario\", \"carbon_budget\", \"region\",\"year\", \"Primary Energy|Coal\", \"Primary Energy|Coal|w/ CCS\"]] \n",
    "# unabcoal_df[\"Unabated Coal\"] = unabcoal_df[\"Primary Energy|Coal\"] - unabcoal_df[\"Primary Energy|Coal|w/ CCS\"]\n",
    "# #pick threshold for when coal is supposed to the phased out // now it's 8EJ/y\n",
    "# unabcoal_df = unabcoal_df[unabcoal_df[\"Unabated Coal\"] <= 8].groupby([\"model\", \"scenario\", \"carbon_budget\"])['year'].min().reset_index()\n",
    "# unabcoal_df.rename(columns={\"year\": \"year_netcoal\"}, inplace=True)\n",
    "\n",
    "px.line(df,\n",
    "        x = \"year\",\n",
    "        y=\"Final Energy|Transportation\",\n",
    "        color = \"carbon_budget\",\n",
    "        line_dash=\"model\",\n",
    "        facet_col=\"scenario_narrative\",\n",
    "        hover_data = {'scenario':True, 'model':True})\n",
    "\n",
    "tranred_df"
   ]
  },
  {
   "cell_type": "code",
   "execution_count": 91,
   "metadata": {},
   "outputs": [
    {
     "data": {
      "text/html": [
       "<div>\n",
       "<style scoped>\n",
       "    .dataframe tbody tr th:only-of-type {\n",
       "        vertical-align: middle;\n",
       "    }\n",
       "\n",
       "    .dataframe tbody tr th {\n",
       "        vertical-align: top;\n",
       "    }\n",
       "\n",
       "    .dataframe thead th {\n",
       "        text-align: right;\n",
       "    }\n",
       "</style>\n",
       "<table border=\"1\" class=\"dataframe\">\n",
       "  <thead>\n",
       "    <tr style=\"text-align: right;\">\n",
       "      <th></th>\n",
       "      <th>model</th>\n",
       "      <th>scenario</th>\n",
       "      <th>carbon_budget</th>\n",
       "      <th>year_netzero</th>\n",
       "      <th>year_netcoal</th>\n",
       "      <th>region</th>\n",
       "      <th>redu_FET</th>\n",
       "    </tr>\n",
       "  </thead>\n",
       "  <tbody>\n",
       "    <tr>\n",
       "      <th>0</th>\n",
       "      <td>AIM/CGE V2.2</td>\n",
       "      <td>T34_1000_feas_em</td>\n",
       "      <td>2C</td>\n",
       "      <td>2060</td>\n",
       "      <td>2055</td>\n",
       "      <td>World</td>\n",
       "      <td>-0.156158</td>\n",
       "    </tr>\n",
       "    <tr>\n",
       "      <th>1</th>\n",
       "      <td>AIM/CGE V2.2</td>\n",
       "      <td>T34_1000_feas_pr</td>\n",
       "      <td>2C</td>\n",
       "      <td>2055</td>\n",
       "      <td>2055</td>\n",
       "      <td>World</td>\n",
       "      <td>-0.156188</td>\n",
       "    </tr>\n",
       "    <tr>\n",
       "      <th>2</th>\n",
       "      <td>AIM/CGE V2.2</td>\n",
       "      <td>T34_1000_feas_ref</td>\n",
       "      <td>2C</td>\n",
       "      <td>2070</td>\n",
       "      <td>2050</td>\n",
       "      <td>World</td>\n",
       "      <td>-0.095258</td>\n",
       "    </tr>\n",
       "  </tbody>\n",
       "</table>\n",
       "</div>"
      ],
      "text/plain": [
       "          model           scenario carbon_budget  year_netzero  year_netcoal   \n",
       "0  AIM/CGE V2.2   T34_1000_feas_em            2C          2060          2055  \\\n",
       "1  AIM/CGE V2.2   T34_1000_feas_pr            2C          2055          2055   \n",
       "2  AIM/CGE V2.2  T34_1000_feas_ref            2C          2070          2050   \n",
       "\n",
       "  region  redu_FET  \n",
       "0  World -0.156158  \n",
       "1  World -0.156188  \n",
       "2  World -0.095258  "
      ]
     },
     "execution_count": 91,
     "metadata": {},
     "output_type": "execute_result"
    }
   ],
   "source": [
    "#merge reduction data to rest of df\n",
    "to_plot = pd.merge(left=netzero_df, right=unabcoal_df, on=[\"model\", \"scenario\", \"carbon_budget\"])\n",
    "to_plot = pd.merge(left=to_plot, right=tranred_df.loc[:, ~tranred_df.columns.isin([2020, 2030])],\n",
    "                   on=[\"model\", \"scenario\", \"carbon_budget\"])\n",
    "to_plot.head(3)"
   ]
  },
  {
   "cell_type": "code",
   "execution_count": 86,
   "metadata": {},
   "outputs": [
    {
     "data": {
      "application/vnd.plotly.v1+json": {
       "config": {
        "plotlyServerURL": "https://plot.ly"
       },
       "data": [
        {
         "hovertemplate": "carbon_budget=2C<br>year_netcoal=%{x}<br>redu_FET=%{y}<extra></extra>",
         "legendgroup": "2C",
         "marker": {
          "color": "#636efa",
          "symbol": "circle"
         },
         "mode": "markers",
         "name": "2C",
         "orientation": "v",
         "showlegend": true,
         "type": "scatter",
         "x": [
          2055,
          2055,
          2050,
          2065,
          2060,
          2060,
          2060,
          2060,
          2060,
          2055,
          2100
         ],
         "xaxis": "x",
         "y": [
          -0.1561581727097384,
          -0.15618810759731272,
          -0.09525766656742309,
          0.015608982565342787,
          -0.15313655289316314,
          -0.1653763839797401,
          -0.0769099064151183,
          0.24310461485681237,
          0.25087140170686023,
          0.22561251911574307,
          0.09473683242480838
         ],
         "yaxis": "y"
        },
        {
         "hovertemplate": "carbon_budget=1.5C<br>year_netcoal=%{x}<br>redu_FET=%{y}<extra></extra>",
         "legendgroup": "1.5C",
         "marker": {
          "color": "#EF553B",
          "symbol": "circle"
         },
         "mode": "markers",
         "name": "1.5C",
         "orientation": "v",
         "showlegend": true,
         "type": "scatter",
         "x": [
          2050,
          2035
         ],
         "xaxis": "x",
         "y": [
          -0.03287151164443366,
          -0.0957048315340359
         ],
         "yaxis": "y"
        }
       ],
       "layout": {
        "legend": {
         "title": {
          "text": "carbon_budget"
         },
         "tracegroupgap": 0
        },
        "margin": {
         "t": 60
        },
        "template": {
         "data": {
          "bar": [
           {
            "error_x": {
             "color": "#2a3f5f"
            },
            "error_y": {
             "color": "#2a3f5f"
            },
            "marker": {
             "line": {
              "color": "#E5ECF6",
              "width": 0.5
             },
             "pattern": {
              "fillmode": "overlay",
              "size": 10,
              "solidity": 0.2
             }
            },
            "type": "bar"
           }
          ],
          "barpolar": [
           {
            "marker": {
             "line": {
              "color": "#E5ECF6",
              "width": 0.5
             },
             "pattern": {
              "fillmode": "overlay",
              "size": 10,
              "solidity": 0.2
             }
            },
            "type": "barpolar"
           }
          ],
          "carpet": [
           {
            "aaxis": {
             "endlinecolor": "#2a3f5f",
             "gridcolor": "white",
             "linecolor": "white",
             "minorgridcolor": "white",
             "startlinecolor": "#2a3f5f"
            },
            "baxis": {
             "endlinecolor": "#2a3f5f",
             "gridcolor": "white",
             "linecolor": "white",
             "minorgridcolor": "white",
             "startlinecolor": "#2a3f5f"
            },
            "type": "carpet"
           }
          ],
          "choropleth": [
           {
            "colorbar": {
             "outlinewidth": 0,
             "ticks": ""
            },
            "type": "choropleth"
           }
          ],
          "contour": [
           {
            "colorbar": {
             "outlinewidth": 0,
             "ticks": ""
            },
            "colorscale": [
             [
              0,
              "#0d0887"
             ],
             [
              0.1111111111111111,
              "#46039f"
             ],
             [
              0.2222222222222222,
              "#7201a8"
             ],
             [
              0.3333333333333333,
              "#9c179e"
             ],
             [
              0.4444444444444444,
              "#bd3786"
             ],
             [
              0.5555555555555556,
              "#d8576b"
             ],
             [
              0.6666666666666666,
              "#ed7953"
             ],
             [
              0.7777777777777778,
              "#fb9f3a"
             ],
             [
              0.8888888888888888,
              "#fdca26"
             ],
             [
              1,
              "#f0f921"
             ]
            ],
            "type": "contour"
           }
          ],
          "contourcarpet": [
           {
            "colorbar": {
             "outlinewidth": 0,
             "ticks": ""
            },
            "type": "contourcarpet"
           }
          ],
          "heatmap": [
           {
            "colorbar": {
             "outlinewidth": 0,
             "ticks": ""
            },
            "colorscale": [
             [
              0,
              "#0d0887"
             ],
             [
              0.1111111111111111,
              "#46039f"
             ],
             [
              0.2222222222222222,
              "#7201a8"
             ],
             [
              0.3333333333333333,
              "#9c179e"
             ],
             [
              0.4444444444444444,
              "#bd3786"
             ],
             [
              0.5555555555555556,
              "#d8576b"
             ],
             [
              0.6666666666666666,
              "#ed7953"
             ],
             [
              0.7777777777777778,
              "#fb9f3a"
             ],
             [
              0.8888888888888888,
              "#fdca26"
             ],
             [
              1,
              "#f0f921"
             ]
            ],
            "type": "heatmap"
           }
          ],
          "heatmapgl": [
           {
            "colorbar": {
             "outlinewidth": 0,
             "ticks": ""
            },
            "colorscale": [
             [
              0,
              "#0d0887"
             ],
             [
              0.1111111111111111,
              "#46039f"
             ],
             [
              0.2222222222222222,
              "#7201a8"
             ],
             [
              0.3333333333333333,
              "#9c179e"
             ],
             [
              0.4444444444444444,
              "#bd3786"
             ],
             [
              0.5555555555555556,
              "#d8576b"
             ],
             [
              0.6666666666666666,
              "#ed7953"
             ],
             [
              0.7777777777777778,
              "#fb9f3a"
             ],
             [
              0.8888888888888888,
              "#fdca26"
             ],
             [
              1,
              "#f0f921"
             ]
            ],
            "type": "heatmapgl"
           }
          ],
          "histogram": [
           {
            "marker": {
             "pattern": {
              "fillmode": "overlay",
              "size": 10,
              "solidity": 0.2
             }
            },
            "type": "histogram"
           }
          ],
          "histogram2d": [
           {
            "colorbar": {
             "outlinewidth": 0,
             "ticks": ""
            },
            "colorscale": [
             [
              0,
              "#0d0887"
             ],
             [
              0.1111111111111111,
              "#46039f"
             ],
             [
              0.2222222222222222,
              "#7201a8"
             ],
             [
              0.3333333333333333,
              "#9c179e"
             ],
             [
              0.4444444444444444,
              "#bd3786"
             ],
             [
              0.5555555555555556,
              "#d8576b"
             ],
             [
              0.6666666666666666,
              "#ed7953"
             ],
             [
              0.7777777777777778,
              "#fb9f3a"
             ],
             [
              0.8888888888888888,
              "#fdca26"
             ],
             [
              1,
              "#f0f921"
             ]
            ],
            "type": "histogram2d"
           }
          ],
          "histogram2dcontour": [
           {
            "colorbar": {
             "outlinewidth": 0,
             "ticks": ""
            },
            "colorscale": [
             [
              0,
              "#0d0887"
             ],
             [
              0.1111111111111111,
              "#46039f"
             ],
             [
              0.2222222222222222,
              "#7201a8"
             ],
             [
              0.3333333333333333,
              "#9c179e"
             ],
             [
              0.4444444444444444,
              "#bd3786"
             ],
             [
              0.5555555555555556,
              "#d8576b"
             ],
             [
              0.6666666666666666,
              "#ed7953"
             ],
             [
              0.7777777777777778,
              "#fb9f3a"
             ],
             [
              0.8888888888888888,
              "#fdca26"
             ],
             [
              1,
              "#f0f921"
             ]
            ],
            "type": "histogram2dcontour"
           }
          ],
          "mesh3d": [
           {
            "colorbar": {
             "outlinewidth": 0,
             "ticks": ""
            },
            "type": "mesh3d"
           }
          ],
          "parcoords": [
           {
            "line": {
             "colorbar": {
              "outlinewidth": 0,
              "ticks": ""
             }
            },
            "type": "parcoords"
           }
          ],
          "pie": [
           {
            "automargin": true,
            "type": "pie"
           }
          ],
          "scatter": [
           {
            "fillpattern": {
             "fillmode": "overlay",
             "size": 10,
             "solidity": 0.2
            },
            "type": "scatter"
           }
          ],
          "scatter3d": [
           {
            "line": {
             "colorbar": {
              "outlinewidth": 0,
              "ticks": ""
             }
            },
            "marker": {
             "colorbar": {
              "outlinewidth": 0,
              "ticks": ""
             }
            },
            "type": "scatter3d"
           }
          ],
          "scattercarpet": [
           {
            "marker": {
             "colorbar": {
              "outlinewidth": 0,
              "ticks": ""
             }
            },
            "type": "scattercarpet"
           }
          ],
          "scattergeo": [
           {
            "marker": {
             "colorbar": {
              "outlinewidth": 0,
              "ticks": ""
             }
            },
            "type": "scattergeo"
           }
          ],
          "scattergl": [
           {
            "marker": {
             "colorbar": {
              "outlinewidth": 0,
              "ticks": ""
             }
            },
            "type": "scattergl"
           }
          ],
          "scattermapbox": [
           {
            "marker": {
             "colorbar": {
              "outlinewidth": 0,
              "ticks": ""
             }
            },
            "type": "scattermapbox"
           }
          ],
          "scatterpolar": [
           {
            "marker": {
             "colorbar": {
              "outlinewidth": 0,
              "ticks": ""
             }
            },
            "type": "scatterpolar"
           }
          ],
          "scatterpolargl": [
           {
            "marker": {
             "colorbar": {
              "outlinewidth": 0,
              "ticks": ""
             }
            },
            "type": "scatterpolargl"
           }
          ],
          "scatterternary": [
           {
            "marker": {
             "colorbar": {
              "outlinewidth": 0,
              "ticks": ""
             }
            },
            "type": "scatterternary"
           }
          ],
          "surface": [
           {
            "colorbar": {
             "outlinewidth": 0,
             "ticks": ""
            },
            "colorscale": [
             [
              0,
              "#0d0887"
             ],
             [
              0.1111111111111111,
              "#46039f"
             ],
             [
              0.2222222222222222,
              "#7201a8"
             ],
             [
              0.3333333333333333,
              "#9c179e"
             ],
             [
              0.4444444444444444,
              "#bd3786"
             ],
             [
              0.5555555555555556,
              "#d8576b"
             ],
             [
              0.6666666666666666,
              "#ed7953"
             ],
             [
              0.7777777777777778,
              "#fb9f3a"
             ],
             [
              0.8888888888888888,
              "#fdca26"
             ],
             [
              1,
              "#f0f921"
             ]
            ],
            "type": "surface"
           }
          ],
          "table": [
           {
            "cells": {
             "fill": {
              "color": "#EBF0F8"
             },
             "line": {
              "color": "white"
             }
            },
            "header": {
             "fill": {
              "color": "#C8D4E3"
             },
             "line": {
              "color": "white"
             }
            },
            "type": "table"
           }
          ]
         },
         "layout": {
          "annotationdefaults": {
           "arrowcolor": "#2a3f5f",
           "arrowhead": 0,
           "arrowwidth": 1
          },
          "autotypenumbers": "strict",
          "coloraxis": {
           "colorbar": {
            "outlinewidth": 0,
            "ticks": ""
           }
          },
          "colorscale": {
           "diverging": [
            [
             0,
             "#8e0152"
            ],
            [
             0.1,
             "#c51b7d"
            ],
            [
             0.2,
             "#de77ae"
            ],
            [
             0.3,
             "#f1b6da"
            ],
            [
             0.4,
             "#fde0ef"
            ],
            [
             0.5,
             "#f7f7f7"
            ],
            [
             0.6,
             "#e6f5d0"
            ],
            [
             0.7,
             "#b8e186"
            ],
            [
             0.8,
             "#7fbc41"
            ],
            [
             0.9,
             "#4d9221"
            ],
            [
             1,
             "#276419"
            ]
           ],
           "sequential": [
            [
             0,
             "#0d0887"
            ],
            [
             0.1111111111111111,
             "#46039f"
            ],
            [
             0.2222222222222222,
             "#7201a8"
            ],
            [
             0.3333333333333333,
             "#9c179e"
            ],
            [
             0.4444444444444444,
             "#bd3786"
            ],
            [
             0.5555555555555556,
             "#d8576b"
            ],
            [
             0.6666666666666666,
             "#ed7953"
            ],
            [
             0.7777777777777778,
             "#fb9f3a"
            ],
            [
             0.8888888888888888,
             "#fdca26"
            ],
            [
             1,
             "#f0f921"
            ]
           ],
           "sequentialminus": [
            [
             0,
             "#0d0887"
            ],
            [
             0.1111111111111111,
             "#46039f"
            ],
            [
             0.2222222222222222,
             "#7201a8"
            ],
            [
             0.3333333333333333,
             "#9c179e"
            ],
            [
             0.4444444444444444,
             "#bd3786"
            ],
            [
             0.5555555555555556,
             "#d8576b"
            ],
            [
             0.6666666666666666,
             "#ed7953"
            ],
            [
             0.7777777777777778,
             "#fb9f3a"
            ],
            [
             0.8888888888888888,
             "#fdca26"
            ],
            [
             1,
             "#f0f921"
            ]
           ]
          },
          "colorway": [
           "#636efa",
           "#EF553B",
           "#00cc96",
           "#ab63fa",
           "#FFA15A",
           "#19d3f3",
           "#FF6692",
           "#B6E880",
           "#FF97FF",
           "#FECB52"
          ],
          "font": {
           "color": "#2a3f5f"
          },
          "geo": {
           "bgcolor": "white",
           "lakecolor": "white",
           "landcolor": "#E5ECF6",
           "showlakes": true,
           "showland": true,
           "subunitcolor": "white"
          },
          "hoverlabel": {
           "align": "left"
          },
          "hovermode": "closest",
          "mapbox": {
           "style": "light"
          },
          "paper_bgcolor": "white",
          "plot_bgcolor": "#E5ECF6",
          "polar": {
           "angularaxis": {
            "gridcolor": "white",
            "linecolor": "white",
            "ticks": ""
           },
           "bgcolor": "#E5ECF6",
           "radialaxis": {
            "gridcolor": "white",
            "linecolor": "white",
            "ticks": ""
           }
          },
          "scene": {
           "xaxis": {
            "backgroundcolor": "#E5ECF6",
            "gridcolor": "white",
            "gridwidth": 2,
            "linecolor": "white",
            "showbackground": true,
            "ticks": "",
            "zerolinecolor": "white"
           },
           "yaxis": {
            "backgroundcolor": "#E5ECF6",
            "gridcolor": "white",
            "gridwidth": 2,
            "linecolor": "white",
            "showbackground": true,
            "ticks": "",
            "zerolinecolor": "white"
           },
           "zaxis": {
            "backgroundcolor": "#E5ECF6",
            "gridcolor": "white",
            "gridwidth": 2,
            "linecolor": "white",
            "showbackground": true,
            "ticks": "",
            "zerolinecolor": "white"
           }
          },
          "shapedefaults": {
           "line": {
            "color": "#2a3f5f"
           }
          },
          "ternary": {
           "aaxis": {
            "gridcolor": "white",
            "linecolor": "white",
            "ticks": ""
           },
           "baxis": {
            "gridcolor": "white",
            "linecolor": "white",
            "ticks": ""
           },
           "bgcolor": "#E5ECF6",
           "caxis": {
            "gridcolor": "white",
            "linecolor": "white",
            "ticks": ""
           }
          },
          "title": {
           "x": 0.05
          },
          "xaxis": {
           "automargin": true,
           "gridcolor": "white",
           "linecolor": "white",
           "ticks": "",
           "title": {
            "standoff": 15
           },
           "zerolinecolor": "white",
           "zerolinewidth": 2
          },
          "yaxis": {
           "automargin": true,
           "gridcolor": "white",
           "linecolor": "white",
           "ticks": "",
           "title": {
            "standoff": 15
           },
           "zerolinecolor": "white",
           "zerolinewidth": 2
          }
         }
        },
        "xaxis": {
         "anchor": "y",
         "domain": [
          0,
          1
         ],
         "title": {
          "text": "year_netcoal"
         }
        },
        "yaxis": {
         "anchor": "x",
         "domain": [
          0,
          1
         ],
         "title": {
          "text": "redu_FET"
         }
        }
       }
      }
     },
     "metadata": {},
     "output_type": "display_data"
    }
   ],
   "source": [
    "fig4 = px.scatter(\n",
    "    data_frame=to_plot,\n",
    "    y = \"redu_FET\",\n",
    "    x=\"year_netcoal\",\n",
    "    color= \"carbon_budget\"\n",
    ")\n",
    "fig4"
   ]
  },
  {
   "cell_type": "code",
   "execution_count": 102,
   "metadata": {},
   "outputs": [
    {
     "name": "stdout",
     "output_type": "stream",
     "text": [
      "OUTPUT:\n",
      "Earliest possible net-zero year: 2050\n",
      "Is PA still possible? True\n"
     ]
    }
   ],
   "source": [
    "#Statement\n",
    "#Until when is it feasible to phase out coal\n",
    "year_coal_phaseout = 2050\n",
    "#What change in energy consumption of transport sector is realistic until 2030?\n",
    "change_energy_transport = 0\n",
    "\n",
    "#filter dataframe\n",
    "filter_df = to_plot.loc[(to_plot[\"year_netcoal\"] >= year_coal_phaseout) & (to_plot[\"redu_FET\"] >= change_energy_transport)]\n",
    "earliest_net_zero_year = filter_df[\"year_netzero\"].min()\n",
    "PA_aligned = (filter_data_set[\"carbon_budget\"].str.contains(\"1.5C\").sum() > 0)\n",
    "\n",
    "print(\"OUTPUT:\")\n",
    "print(\"Earliest possible net-zero year:\", earliest_net_zero_year)\n",
    "print(\"Is PA still possible?\", PA_aligned)"
   ]
  },
  {
   "cell_type": "markdown",
   "metadata": {},
   "source": [
    "Links:\n",
    "\n",
    "Plotly Express multiple plots overlay\n",
    "https://community.plotly.com/t/plotly-express-multiple-plots-overlay/31984\n"
   ]
  },
  {
   "cell_type": "markdown",
   "metadata": {},
   "source": []
  }
 ],
 "metadata": {
  "kernelspec": {
   "display_name": "Streamlit",
   "language": "python",
   "name": "python3"
  },
  "language_info": {
   "codemirror_mode": {
    "name": "ipython",
    "version": 3
   },
   "file_extension": ".py",
   "mimetype": "text/x-python",
   "name": "python",
   "nbconvert_exporter": "python",
   "pygments_lexer": "ipython3",
   "version": "3.10.11"
  },
  "orig_nbformat": 4
 },
 "nbformat": 4,
 "nbformat_minor": 2
}
