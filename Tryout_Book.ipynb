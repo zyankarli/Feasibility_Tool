{
 "cells": [
  {
   "cell_type": "code",
   "execution_count": 2,
   "metadata": {},
   "outputs": [
    {
     "data": {
      "application/javascript": "if (typeof IPython !== 'undefined') { IPython.OutputArea.prototype._should_scroll = function(lines){ return false; }}",
      "text/plain": [
       "<IPython.core.display.Javascript object>"
      ]
     },
     "metadata": {},
     "output_type": "display_data"
    }
   ],
   "source": [
    "#Import libraries\n",
    "import pyam\n",
    "import plotly.express as px\n",
    "import plotly.graph_objects as go\n",
    "import pandas as pd\n",
    "import numpy as np"
   ]
  },
  {
   "cell_type": "code",
   "execution_count": 3,
   "metadata": {},
   "outputs": [],
   "source": [
    "def get_data():\n",
    "    #get IIASA identification\n",
    "    iiasa_creds = r\"C:\\Users\\scheifinger\\Documents\\GitHub\\Feasibility_Tool\\iiasa_credentials.yml\" \n",
    "    pyam.iiasa.Connection(creds=iiasa_creds)\n",
    "\n",
    "    connections = list(pyam.iiasa.Connection(creds=iiasa_creds).valid_connections)\n",
    "    #other variables: 'Emissions|CO2', 'Primary Energy|Coal', \n",
    "    #query for climate scenario data\n",
    "    df = pyam.read_iiasa(\n",
    "        name = 'engage_internal',\n",
    "        creds = iiasa_creds,\n",
    "        scenario =['T34_550_feas_em',\n",
    "                   'T34_550_feas_pr',\n",
    "                   'T34_550_feas_ref',\n",
    "                   'T34_1000_feas_em',\n",
    "                   'T34_1000_feas_pr',\n",
    "                   'T34_1000_feas_ref'],\n",
    "        variable=[\"Emissions|CO2\", \"Policy Cost|Consumption Loss\", \"Primary Energy|Coal\"],\n",
    "        region=['World']\n",
    "    )   \n",
    "    #return data format of df\n",
    "    return df\n"
   ]
  },
  {
   "cell_type": "code",
   "execution_count": 4,
   "metadata": {},
   "outputs": [
    {
     "name": "stderr",
     "output_type": "stream",
     "text": [
      "pyam - INFO: Running in a notebook, setting up a basic logging at level INFO\n",
      "pyam.iiasa - INFO: You are connected as user `scheifinger`\n",
      "httpx - INFO: HTTP Request: POST https://api.manager.ece.iiasa.ac.at/v1/token/obtain/ \"HTTP/1.1 200 OK\"\n",
      "pyam.iiasa - INFO: You are connected as user `scheifinger`\n",
      "httpx - INFO: HTTP Request: GET https://api.manager.ece.iiasa.ac.at/legacy/applications \"HTTP/1.1 200 OK\"\n",
      "httpx - INFO: HTTP Request: POST https://api.manager.ece.iiasa.ac.at/v1/token/obtain/ \"HTTP/1.1 200 OK\"\n",
      "httpx - INFO: HTTP Request: GET https://api.manager.ece.iiasa.ac.at/legacy/applications \"HTTP/1.1 200 OK\"\n",
      "httpx - INFO: HTTP Request: GET https://api.manager.ece.iiasa.ac.at/legacy/applications/IXSE_ENGAGE_INTERNAL/config \"HTTP/1.1 200 OK\"\n",
      "pyam.iiasa - INFO: You are connected to the IXSE_ENGAGE_INTERNAL scenario explorer hosted by IIASA. If you use this data in any published format, please cite the data as provided in the explorer guidelines: https://data.ece.iiasa.ac.at/engage-internal/#/about\n",
      "pyam.iiasa - INFO: You are connected as user `scheifinger`\n"
     ]
    }
   ],
   "source": [
    "data_set = get_data().data"
   ]
  },
  {
   "cell_type": "code",
   "execution_count": 5,
   "metadata": {},
   "outputs": [],
   "source": [
    "df = data_set\n",
    "#from long to wide\n",
    "df = pd.pivot(data=df, index=['model','scenario', 'region', 'year'], columns = 'variable', values = 'value').reset_index()"
   ]
  },
  {
   "cell_type": "code",
   "execution_count": 6,
   "metadata": {},
   "outputs": [],
   "source": [
    "#Data wrangling\n",
    "#get different carbon budgets from scenario name\n",
    "df['carbon_budget'] = np.where(df['scenario'].str.contains(\"1000\", case=False), \"2C\", \"1.5C\")\n",
    "#get diffeernt scenario narratives from scenario name\n",
    "df['scenario_narrative'] = np.where(df['scenario'].str.contains(\"_em\", case=True), \"EM\", np.nan) \n",
    "df['scenario_narrative'] = np.where(df['scenario'].str.contains(\"_ref\", case=True), \"REF\", df['scenario_narrative']) \n",
    "df['scenario_narrative'] = np.where(df['scenario'].str.contains(\"_pr\", case=True), \"PR\", df['scenario_narrative'])\n"
   ]
  },
  {
   "cell_type": "code",
   "execution_count": 7,
   "metadata": {},
   "outputs": [
    {
     "data": {
      "text/html": [
       "<div>\n",
       "<style scoped>\n",
       "    .dataframe tbody tr th:only-of-type {\n",
       "        vertical-align: middle;\n",
       "    }\n",
       "\n",
       "    .dataframe tbody tr th {\n",
       "        vertical-align: top;\n",
       "    }\n",
       "\n",
       "    .dataframe thead th {\n",
       "        text-align: right;\n",
       "    }\n",
       "</style>\n",
       "<table border=\"1\" class=\"dataframe\">\n",
       "  <thead>\n",
       "    <tr style=\"text-align: right;\">\n",
       "      <th>variable</th>\n",
       "      <th>model</th>\n",
       "      <th>scenario</th>\n",
       "      <th>region</th>\n",
       "      <th>year</th>\n",
       "      <th>Emissions|CO2</th>\n",
       "      <th>Policy Cost|Consumption Loss</th>\n",
       "      <th>Primary Energy|Coal</th>\n",
       "      <th>carbon_budget</th>\n",
       "      <th>scenario_narrative</th>\n",
       "    </tr>\n",
       "  </thead>\n",
       "  <tbody>\n",
       "    <tr>\n",
       "      <th>0</th>\n",
       "      <td>AIM/CGE V2.2</td>\n",
       "      <td>T34_1000_feas_em</td>\n",
       "      <td>World</td>\n",
       "      <td>2010</td>\n",
       "      <td>37007.3548</td>\n",
       "      <td>17.8415</td>\n",
       "      <td>155.4422</td>\n",
       "      <td>2C</td>\n",
       "      <td>EM</td>\n",
       "    </tr>\n",
       "    <tr>\n",
       "      <th>1</th>\n",
       "      <td>AIM/CGE V2.2</td>\n",
       "      <td>T34_1000_feas_em</td>\n",
       "      <td>World</td>\n",
       "      <td>2015</td>\n",
       "      <td>39100.9391</td>\n",
       "      <td>18.5841</td>\n",
       "      <td>169.8200</td>\n",
       "      <td>2C</td>\n",
       "      <td>EM</td>\n",
       "    </tr>\n",
       "    <tr>\n",
       "      <th>2</th>\n",
       "      <td>AIM/CGE V2.2</td>\n",
       "      <td>T34_1000_feas_em</td>\n",
       "      <td>World</td>\n",
       "      <td>2020</td>\n",
       "      <td>41498.0654</td>\n",
       "      <td>23.8951</td>\n",
       "      <td>172.5914</td>\n",
       "      <td>2C</td>\n",
       "      <td>EM</td>\n",
       "    </tr>\n",
       "    <tr>\n",
       "      <th>3</th>\n",
       "      <td>AIM/CGE V2.2</td>\n",
       "      <td>T34_1000_feas_em</td>\n",
       "      <td>World</td>\n",
       "      <td>2025</td>\n",
       "      <td>36040.5284</td>\n",
       "      <td>1715.2574</td>\n",
       "      <td>140.6006</td>\n",
       "      <td>2C</td>\n",
       "      <td>EM</td>\n",
       "    </tr>\n",
       "    <tr>\n",
       "      <th>4</th>\n",
       "      <td>AIM/CGE V2.2</td>\n",
       "      <td>T34_1000_feas_em</td>\n",
       "      <td>World</td>\n",
       "      <td>2030</td>\n",
       "      <td>29490.0437</td>\n",
       "      <td>3705.7282</td>\n",
       "      <td>106.2564</td>\n",
       "      <td>2C</td>\n",
       "      <td>EM</td>\n",
       "    </tr>\n",
       "  </tbody>\n",
       "</table>\n",
       "</div>"
      ],
      "text/plain": [
       "variable         model          scenario region  year  Emissions|CO2   \n",
       "0         AIM/CGE V2.2  T34_1000_feas_em  World  2010     37007.3548  \\\n",
       "1         AIM/CGE V2.2  T34_1000_feas_em  World  2015     39100.9391   \n",
       "2         AIM/CGE V2.2  T34_1000_feas_em  World  2020     41498.0654   \n",
       "3         AIM/CGE V2.2  T34_1000_feas_em  World  2025     36040.5284   \n",
       "4         AIM/CGE V2.2  T34_1000_feas_em  World  2030     29490.0437   \n",
       "\n",
       "variable  Policy Cost|Consumption Loss  Primary Energy|Coal carbon_budget   \n",
       "0                              17.8415             155.4422            2C  \\\n",
       "1                              18.5841             169.8200            2C   \n",
       "2                              23.8951             172.5914            2C   \n",
       "3                            1715.2574             140.6006            2C   \n",
       "4                            3705.7282             106.2564            2C   \n",
       "\n",
       "variable scenario_narrative  \n",
       "0                        EM  \n",
       "1                        EM  \n",
       "2                        EM  \n",
       "3                        EM  \n",
       "4                        EM  "
      ]
     },
     "execution_count": 7,
     "metadata": {},
     "output_type": "execute_result"
    }
   ],
   "source": [
    "df.head(5)"
   ]
  },
  {
   "cell_type": "code",
   "execution_count": 36,
   "metadata": {},
   "outputs": [
    {
     "data": {
      "application/vnd.plotly.v1+json": {
       "config": {
        "plotlyServerURL": "https://plot.ly"
       },
       "data": [
        {
         "customdata": [
          [
           "T34_1000_feas_em",
           "AIM/CGE V2.2"
          ],
          [
           "T34_1000_feas_em",
           "AIM/CGE V2.2"
          ],
          [
           "T34_1000_feas_em",
           "AIM/CGE V2.2"
          ],
          [
           "T34_1000_feas_em",
           "AIM/CGE V2.2"
          ],
          [
           "T34_1000_feas_em",
           "AIM/CGE V2.2"
          ],
          [
           "T34_1000_feas_em",
           "AIM/CGE V2.2"
          ],
          [
           "T34_1000_feas_em",
           "AIM/CGE V2.2"
          ],
          [
           "T34_1000_feas_em",
           "AIM/CGE V2.2"
          ],
          [
           "T34_1000_feas_em",
           "AIM/CGE V2.2"
          ],
          [
           "T34_1000_feas_em",
           "AIM/CGE V2.2"
          ],
          [
           "T34_1000_feas_em",
           "AIM/CGE V2.2"
          ],
          [
           "T34_1000_feas_em",
           "AIM/CGE V2.2"
          ],
          [
           "T34_1000_feas_em",
           "AIM/CGE V2.2"
          ],
          [
           "T34_1000_feas_em",
           "AIM/CGE V2.2"
          ],
          [
           "T34_1000_feas_em",
           "AIM/CGE V2.2"
          ],
          [
           "T34_1000_feas_em",
           "AIM/CGE V2.2"
          ],
          [
           "T34_1000_feas_em",
           "AIM/CGE V2.2"
          ],
          [
           "T34_1000_feas_em",
           "AIM/CGE V2.2"
          ],
          [
           "T34_1000_feas_em",
           "AIM/CGE V2.2"
          ]
         ],
         "hovertemplate": "carbon_budget=2C<br>model=%{customdata[1]}<br>scenario_narrative=EM<br>year=%{x}<br>Primary Energy|Coal=%{y}<br>scenario=%{customdata[0]}<extra></extra>",
         "legendgroup": "2C, AIM/CGE V2.2",
         "line": {
          "color": "#636efa",
          "dash": "solid"
         },
         "marker": {
          "symbol": "circle"
         },
         "mode": "lines",
         "name": "2C, AIM/CGE V2.2",
         "orientation": "v",
         "showlegend": true,
         "type": "scatter",
         "x": [
          2010,
          2015,
          2020,
          2025,
          2030,
          2035,
          2040,
          2045,
          2050,
          2055,
          2060,
          2065,
          2070,
          2075,
          2080,
          2085,
          2090,
          2095,
          2100
         ],
         "xaxis": "x",
         "y": [
          155.4422,
          169.82,
          172.5914,
          140.6006,
          106.2564,
          72.2774,
          47.0843,
          31.0119,
          20.7526,
          14.1056,
          9.4551,
          6.5445,
          4.5678,
          3.3446,
          2.5618,
          2.005,
          1.6793,
          1.486,
          1.3745
         ],
         "yaxis": "y"
        },
        {
         "customdata": [
          [
           "T34_1000_feas_pr",
           "AIM/CGE V2.2"
          ],
          [
           "T34_1000_feas_pr",
           "AIM/CGE V2.2"
          ],
          [
           "T34_1000_feas_pr",
           "AIM/CGE V2.2"
          ],
          [
           "T34_1000_feas_pr",
           "AIM/CGE V2.2"
          ],
          [
           "T34_1000_feas_pr",
           "AIM/CGE V2.2"
          ],
          [
           "T34_1000_feas_pr",
           "AIM/CGE V2.2"
          ],
          [
           "T34_1000_feas_pr",
           "AIM/CGE V2.2"
          ],
          [
           "T34_1000_feas_pr",
           "AIM/CGE V2.2"
          ],
          [
           "T34_1000_feas_pr",
           "AIM/CGE V2.2"
          ],
          [
           "T34_1000_feas_pr",
           "AIM/CGE V2.2"
          ],
          [
           "T34_1000_feas_pr",
           "AIM/CGE V2.2"
          ],
          [
           "T34_1000_feas_pr",
           "AIM/CGE V2.2"
          ],
          [
           "T34_1000_feas_pr",
           "AIM/CGE V2.2"
          ],
          [
           "T34_1000_feas_pr",
           "AIM/CGE V2.2"
          ],
          [
           "T34_1000_feas_pr",
           "AIM/CGE V2.2"
          ],
          [
           "T34_1000_feas_pr",
           "AIM/CGE V2.2"
          ],
          [
           "T34_1000_feas_pr",
           "AIM/CGE V2.2"
          ],
          [
           "T34_1000_feas_pr",
           "AIM/CGE V2.2"
          ],
          [
           "T34_1000_feas_pr",
           "AIM/CGE V2.2"
          ]
         ],
         "hovertemplate": "carbon_budget=2C<br>model=%{customdata[1]}<br>scenario_narrative=PR<br>year=%{x}<br>Primary Energy|Coal=%{y}<br>scenario=%{customdata[0]}<extra></extra>",
         "legendgroup": "2C, AIM/CGE V2.2",
         "line": {
          "color": "#636efa",
          "dash": "solid"
         },
         "marker": {
          "symbol": "circle"
         },
         "mode": "lines",
         "name": "2C, AIM/CGE V2.2",
         "orientation": "v",
         "showlegend": false,
         "type": "scatter",
         "x": [
          2010,
          2015,
          2020,
          2025,
          2030,
          2035,
          2040,
          2045,
          2050,
          2055,
          2060,
          2065,
          2070,
          2075,
          2080,
          2085,
          2090,
          2095,
          2100
         ],
         "xaxis": "x2",
         "y": [
          155.4422,
          169.82,
          172.5914,
          140.5965,
          106.2506,
          72.2431,
          46.6116,
          29.3886,
          18.8234,
          13.2551,
          9.2069,
          6.4186,
          4.5029,
          3.3113,
          2.5459,
          1.996,
          1.6748,
          1.4838,
          1.3735
         ],
         "yaxis": "y2"
        },
        {
         "customdata": [
          [
           "T34_1000_feas_ref",
           "AIM/CGE V2.2"
          ],
          [
           "T34_1000_feas_ref",
           "AIM/CGE V2.2"
          ],
          [
           "T34_1000_feas_ref",
           "AIM/CGE V2.2"
          ],
          [
           "T34_1000_feas_ref",
           "AIM/CGE V2.2"
          ],
          [
           "T34_1000_feas_ref",
           "AIM/CGE V2.2"
          ],
          [
           "T34_1000_feas_ref",
           "AIM/CGE V2.2"
          ],
          [
           "T34_1000_feas_ref",
           "AIM/CGE V2.2"
          ],
          [
           "T34_1000_feas_ref",
           "AIM/CGE V2.2"
          ],
          [
           "T34_1000_feas_ref",
           "AIM/CGE V2.2"
          ],
          [
           "T34_1000_feas_ref",
           "AIM/CGE V2.2"
          ],
          [
           "T34_1000_feas_ref",
           "AIM/CGE V2.2"
          ],
          [
           "T34_1000_feas_ref",
           "AIM/CGE V2.2"
          ],
          [
           "T34_1000_feas_ref",
           "AIM/CGE V2.2"
          ],
          [
           "T34_1000_feas_ref",
           "AIM/CGE V2.2"
          ],
          [
           "T34_1000_feas_ref",
           "AIM/CGE V2.2"
          ],
          [
           "T34_1000_feas_ref",
           "AIM/CGE V2.2"
          ],
          [
           "T34_1000_feas_ref",
           "AIM/CGE V2.2"
          ],
          [
           "T34_1000_feas_ref",
           "AIM/CGE V2.2"
          ],
          [
           "T34_1000_feas_ref",
           "AIM/CGE V2.2"
          ]
         ],
         "hovertemplate": "carbon_budget=2C<br>model=%{customdata[1]}<br>scenario_narrative=REF<br>year=%{x}<br>Primary Energy|Coal=%{y}<br>scenario=%{customdata[0]}<extra></extra>",
         "legendgroup": "2C, AIM/CGE V2.2",
         "line": {
          "color": "#636efa",
          "dash": "solid"
         },
         "marker": {
          "symbol": "circle"
         },
         "mode": "lines",
         "name": "2C, AIM/CGE V2.2",
         "orientation": "v",
         "showlegend": false,
         "type": "scatter",
         "x": [
          2010,
          2015,
          2020,
          2025,
          2030,
          2035,
          2040,
          2045,
          2050,
          2055,
          2060,
          2065,
          2070,
          2075,
          2080,
          2085,
          2090,
          2095,
          2100
         ],
         "xaxis": "x3",
         "y": [
          155.4422,
          169.82,
          172.5914,
          137.1349,
          105.2141,
          75.6052,
          53.8721,
          39.4157,
          25.9966,
          16.9841,
          12.718,
          10.419,
          8.8404,
          7.7143,
          6.9716000000000005,
          6.5359,
          6.1854,
          5.8772,
          5.5904
         ],
         "yaxis": "y3"
        },
        {
         "customdata": [
          [
           "T34_1000_feas_em",
           "GEM-E3_V2023"
          ],
          [
           "T34_1000_feas_em",
           "GEM-E3_V2023"
          ],
          [
           "T34_1000_feas_em",
           "GEM-E3_V2023"
          ],
          [
           "T34_1000_feas_em",
           "GEM-E3_V2023"
          ],
          [
           "T34_1000_feas_em",
           "GEM-E3_V2023"
          ],
          [
           "T34_1000_feas_em",
           "GEM-E3_V2023"
          ],
          [
           "T34_1000_feas_em",
           "GEM-E3_V2023"
          ],
          [
           "T34_1000_feas_em",
           "GEM-E3_V2023"
          ],
          [
           "T34_1000_feas_em",
           "GEM-E3_V2023"
          ],
          [
           "T34_1000_feas_em",
           "GEM-E3_V2023"
          ],
          [
           "T34_1000_feas_em",
           "GEM-E3_V2023"
          ],
          [
           "T34_1000_feas_em",
           "GEM-E3_V2023"
          ],
          [
           "T34_1000_feas_em",
           "GEM-E3_V2023"
          ],
          [
           "T34_1000_feas_em",
           "GEM-E3_V2023"
          ],
          [
           "T34_1000_feas_em",
           "GEM-E3_V2023"
          ],
          [
           "T34_1000_feas_em",
           "GEM-E3_V2023"
          ],
          [
           "T34_1000_feas_em",
           "GEM-E3_V2023"
          ],
          [
           "T34_1000_feas_em",
           "GEM-E3_V2023"
          ]
         ],
         "hovertemplate": "carbon_budget=2C<br>model=%{customdata[1]}<br>scenario_narrative=EM<br>year=%{x}<br>Primary Energy|Coal=%{y}<br>scenario=%{customdata[0]}<extra></extra>",
         "legendgroup": "2C, GEM-E3_V2023",
         "line": {
          "color": "#636efa",
          "dash": "dot"
         },
         "marker": {
          "symbol": "circle"
         },
         "mode": "lines",
         "name": "2C, GEM-E3_V2023",
         "orientation": "v",
         "showlegend": true,
         "type": "scatter",
         "x": [
          2015,
          2020,
          2025,
          2030,
          2035,
          2040,
          2045,
          2050,
          2055,
          2060,
          2065,
          2070,
          2075,
          2080,
          2085,
          2090,
          2095,
          2100
         ],
         "xaxis": "x",
         "y": [
          160.2454400010074,
          156.1813345667774,
          138.5911439497197,
          107.98842826013136,
          77.1959423920573,
          54.596525152403984,
          36.80673654384597,
          27.52995607967088,
          20.16307762901348,
          21.027609691079117,
          20.82512512817816,
          20.97126305546269,
          15.183598330515737,
          13.730617131406415,
          15.28614876481628,
          15.50900331217387,
          18.14219503171065,
          24.071463596784493
         ],
         "yaxis": "y"
        },
        {
         "customdata": [
          [
           "T34_1000_feas_ref",
           "GEM-E3_V2023"
          ],
          [
           "T34_1000_feas_ref",
           "GEM-E3_V2023"
          ],
          [
           "T34_1000_feas_ref",
           "GEM-E3_V2023"
          ],
          [
           "T34_1000_feas_ref",
           "GEM-E3_V2023"
          ],
          [
           "T34_1000_feas_ref",
           "GEM-E3_V2023"
          ],
          [
           "T34_1000_feas_ref",
           "GEM-E3_V2023"
          ],
          [
           "T34_1000_feas_ref",
           "GEM-E3_V2023"
          ],
          [
           "T34_1000_feas_ref",
           "GEM-E3_V2023"
          ],
          [
           "T34_1000_feas_ref",
           "GEM-E3_V2023"
          ],
          [
           "T34_1000_feas_ref",
           "GEM-E3_V2023"
          ],
          [
           "T34_1000_feas_ref",
           "GEM-E3_V2023"
          ],
          [
           "T34_1000_feas_ref",
           "GEM-E3_V2023"
          ],
          [
           "T34_1000_feas_ref",
           "GEM-E3_V2023"
          ],
          [
           "T34_1000_feas_ref",
           "GEM-E3_V2023"
          ],
          [
           "T34_1000_feas_ref",
           "GEM-E3_V2023"
          ],
          [
           "T34_1000_feas_ref",
           "GEM-E3_V2023"
          ],
          [
           "T34_1000_feas_ref",
           "GEM-E3_V2023"
          ],
          [
           "T34_1000_feas_ref",
           "GEM-E3_V2023"
          ]
         ],
         "hovertemplate": "carbon_budget=2C<br>model=%{customdata[1]}<br>scenario_narrative=REF<br>year=%{x}<br>Primary Energy|Coal=%{y}<br>scenario=%{customdata[0]}<extra></extra>",
         "legendgroup": "2C, GEM-E3_V2023",
         "line": {
          "color": "#636efa",
          "dash": "dot"
         },
         "marker": {
          "symbol": "circle"
         },
         "mode": "lines",
         "name": "2C, GEM-E3_V2023",
         "orientation": "v",
         "showlegend": false,
         "type": "scatter",
         "x": [
          2015,
          2020,
          2025,
          2030,
          2035,
          2040,
          2045,
          2050,
          2055,
          2060,
          2065,
          2070,
          2075,
          2080,
          2085,
          2090,
          2095,
          2100
         ],
         "xaxis": "x3",
         "y": [
          160.2454400010074,
          156.1813345667774,
          136.38875492967395,
          101.56073845612333,
          78.64875245649522,
          54.14104637333655,
          41.58241857848111,
          38.97073714492896,
          33.69349100003936,
          31.90141683435045,
          28.298026627122574,
          24.45939774860885,
          23.45768533184173,
          19.782872235296207,
          18.637228957995315,
          19.06992425040493,
          23.706867027570723,
          30.14693498907607
         ],
         "yaxis": "y3"
        },
        {
         "customdata": [
          [
           "T34_1000_feas_em",
           "IMAGE 3.2"
          ],
          [
           "T34_1000_feas_em",
           "IMAGE 3.2"
          ],
          [
           "T34_1000_feas_em",
           "IMAGE 3.2"
          ],
          [
           "T34_1000_feas_em",
           "IMAGE 3.2"
          ],
          [
           "T34_1000_feas_em",
           "IMAGE 3.2"
          ],
          [
           "T34_1000_feas_em",
           "IMAGE 3.2"
          ],
          [
           "T34_1000_feas_em",
           "IMAGE 3.2"
          ],
          [
           "T34_1000_feas_em",
           "IMAGE 3.2"
          ],
          [
           "T34_1000_feas_em",
           "IMAGE 3.2"
          ],
          [
           "T34_1000_feas_em",
           "IMAGE 3.2"
          ],
          [
           "T34_1000_feas_em",
           "IMAGE 3.2"
          ],
          [
           "T34_1000_feas_em",
           "IMAGE 3.2"
          ],
          [
           "T34_1000_feas_em",
           "IMAGE 3.2"
          ],
          [
           "T34_1000_feas_em",
           "IMAGE 3.2"
          ],
          [
           "T34_1000_feas_em",
           "IMAGE 3.2"
          ],
          [
           "T34_1000_feas_em",
           "IMAGE 3.2"
          ],
          [
           "T34_1000_feas_em",
           "IMAGE 3.2"
          ],
          [
           "T34_1000_feas_em",
           "IMAGE 3.2"
          ],
          [
           "T34_1000_feas_em",
           "IMAGE 3.2"
          ],
          [
           "T34_1000_feas_em",
           "IMAGE 3.2"
          ]
         ],
         "hovertemplate": "carbon_budget=2C<br>model=%{customdata[1]}<br>scenario_narrative=EM<br>year=%{x}<br>Primary Energy|Coal=%{y}<br>scenario=%{customdata[0]}<extra></extra>",
         "legendgroup": "2C, IMAGE 3.2",
         "line": {
          "color": "#636efa",
          "dash": "dash"
         },
         "marker": {
          "symbol": "circle"
         },
         "mode": "lines",
         "name": "2C, IMAGE 3.2",
         "orientation": "v",
         "showlegend": true,
         "type": "scatter",
         "x": [
          2005,
          2010,
          2015,
          2020,
          2025,
          2030,
          2035,
          2040,
          2045,
          2050,
          2055,
          2060,
          2065,
          2070,
          2075,
          2080,
          2085,
          2090,
          2095,
          2100
         ],
         "xaxis": "x",
         "y": [
          125.2433984375,
          149.09640625,
          164.95159375,
          185.54190625,
          159.362,
          136.222796875,
          113.528796875,
          77.743421875,
          33.186820312500004,
          21.501,
          13.2296201171875,
          8.04768505859375,
          6.09108984375,
          5.3386337890625,
          4.72856494140625,
          4.21914599609375,
          3.967259033203125,
          3.880824951171875,
          3.865803955078125,
          3.721384033203125
         ],
         "yaxis": "y"
        },
        {
         "customdata": [
          [
           "T34_1000_feas_pr",
           "IMAGE 3.2"
          ],
          [
           "T34_1000_feas_pr",
           "IMAGE 3.2"
          ],
          [
           "T34_1000_feas_pr",
           "IMAGE 3.2"
          ],
          [
           "T34_1000_feas_pr",
           "IMAGE 3.2"
          ],
          [
           "T34_1000_feas_pr",
           "IMAGE 3.2"
          ],
          [
           "T34_1000_feas_pr",
           "IMAGE 3.2"
          ],
          [
           "T34_1000_feas_pr",
           "IMAGE 3.2"
          ],
          [
           "T34_1000_feas_pr",
           "IMAGE 3.2"
          ],
          [
           "T34_1000_feas_pr",
           "IMAGE 3.2"
          ],
          [
           "T34_1000_feas_pr",
           "IMAGE 3.2"
          ],
          [
           "T34_1000_feas_pr",
           "IMAGE 3.2"
          ],
          [
           "T34_1000_feas_pr",
           "IMAGE 3.2"
          ],
          [
           "T34_1000_feas_pr",
           "IMAGE 3.2"
          ],
          [
           "T34_1000_feas_pr",
           "IMAGE 3.2"
          ],
          [
           "T34_1000_feas_pr",
           "IMAGE 3.2"
          ],
          [
           "T34_1000_feas_pr",
           "IMAGE 3.2"
          ],
          [
           "T34_1000_feas_pr",
           "IMAGE 3.2"
          ],
          [
           "T34_1000_feas_pr",
           "IMAGE 3.2"
          ],
          [
           "T34_1000_feas_pr",
           "IMAGE 3.2"
          ],
          [
           "T34_1000_feas_pr",
           "IMAGE 3.2"
          ]
         ],
         "hovertemplate": "carbon_budget=2C<br>model=%{customdata[1]}<br>scenario_narrative=PR<br>year=%{x}<br>Primary Energy|Coal=%{y}<br>scenario=%{customdata[0]}<extra></extra>",
         "legendgroup": "2C, IMAGE 3.2",
         "line": {
          "color": "#636efa",
          "dash": "dash"
         },
         "marker": {
          "symbol": "circle"
         },
         "mode": "lines",
         "name": "2C, IMAGE 3.2",
         "orientation": "v",
         "showlegend": false,
         "type": "scatter",
         "x": [
          2005,
          2010,
          2015,
          2020,
          2025,
          2030,
          2035,
          2040,
          2045,
          2050,
          2055,
          2060,
          2065,
          2070,
          2075,
          2080,
          2085,
          2090,
          2095,
          2100
         ],
         "xaxis": "x2",
         "y": [
          125.2433984375,
          149.09640625,
          164.95159375,
          185.54190625,
          156.9635,
          131.58209375,
          100.04070312500001,
          50.608859375,
          26.498039062500002,
          17.896380859375,
          10.70633984375,
          7.05118505859375,
          5.9295009765625,
          5.4030830078125,
          4.8662880859375,
          4.39628515625,
          4.165046875,
          4.093007080078125,
          4.06618994140625,
          3.9111279296875
         ],
         "yaxis": "y2"
        },
        {
         "customdata": [
          [
           "T34_1000_feas_ref",
           "IMAGE 3.2"
          ],
          [
           "T34_1000_feas_ref",
           "IMAGE 3.2"
          ],
          [
           "T34_1000_feas_ref",
           "IMAGE 3.2"
          ],
          [
           "T34_1000_feas_ref",
           "IMAGE 3.2"
          ],
          [
           "T34_1000_feas_ref",
           "IMAGE 3.2"
          ],
          [
           "T34_1000_feas_ref",
           "IMAGE 3.2"
          ],
          [
           "T34_1000_feas_ref",
           "IMAGE 3.2"
          ],
          [
           "T34_1000_feas_ref",
           "IMAGE 3.2"
          ],
          [
           "T34_1000_feas_ref",
           "IMAGE 3.2"
          ],
          [
           "T34_1000_feas_ref",
           "IMAGE 3.2"
          ],
          [
           "T34_1000_feas_ref",
           "IMAGE 3.2"
          ],
          [
           "T34_1000_feas_ref",
           "IMAGE 3.2"
          ],
          [
           "T34_1000_feas_ref",
           "IMAGE 3.2"
          ],
          [
           "T34_1000_feas_ref",
           "IMAGE 3.2"
          ],
          [
           "T34_1000_feas_ref",
           "IMAGE 3.2"
          ],
          [
           "T34_1000_feas_ref",
           "IMAGE 3.2"
          ],
          [
           "T34_1000_feas_ref",
           "IMAGE 3.2"
          ],
          [
           "T34_1000_feas_ref",
           "IMAGE 3.2"
          ],
          [
           "T34_1000_feas_ref",
           "IMAGE 3.2"
          ],
          [
           "T34_1000_feas_ref",
           "IMAGE 3.2"
          ]
         ],
         "hovertemplate": "carbon_budget=2C<br>model=%{customdata[1]}<br>scenario_narrative=REF<br>year=%{x}<br>Primary Energy|Coal=%{y}<br>scenario=%{customdata[0]}<extra></extra>",
         "legendgroup": "2C, IMAGE 3.2",
         "line": {
          "color": "#636efa",
          "dash": "dash"
         },
         "marker": {
          "symbol": "circle"
         },
         "mode": "lines",
         "name": "2C, IMAGE 3.2",
         "orientation": "v",
         "showlegend": false,
         "type": "scatter",
         "x": [
          2005,
          2010,
          2015,
          2020,
          2025,
          2030,
          2035,
          2040,
          2045,
          2050,
          2055,
          2060,
          2065,
          2070,
          2075,
          2080,
          2085,
          2090,
          2095,
          2100
         ],
         "xaxis": "x3",
         "y": [
          125.2433984375,
          149.09640625,
          164.95159375,
          185.54190625,
          176.169796875,
          152.58290625,
          94.2507578125,
          51.06926953125,
          29.706,
          19.49630078125,
          10.698089843750001,
          6.7276328125,
          5.6739990234375,
          5.3462451171875,
          5.11665478515625,
          4.69764599609375,
          4.4230341796875,
          4.52106787109375,
          4.44730810546875,
          4.23317578125
         ],
         "yaxis": "y3"
        },
        {
         "customdata": [
          [
           "T34_1000_feas_em",
           "MESSAGEix-GLOBIOM_1.1"
          ],
          [
           "T34_1000_feas_em",
           "MESSAGEix-GLOBIOM_1.1"
          ],
          [
           "T34_1000_feas_em",
           "MESSAGEix-GLOBIOM_1.1"
          ],
          [
           "T34_1000_feas_em",
           "MESSAGEix-GLOBIOM_1.1"
          ],
          [
           "T34_1000_feas_em",
           "MESSAGEix-GLOBIOM_1.1"
          ],
          [
           "T34_1000_feas_em",
           "MESSAGEix-GLOBIOM_1.1"
          ],
          [
           "T34_1000_feas_em",
           "MESSAGEix-GLOBIOM_1.1"
          ],
          [
           "T34_1000_feas_em",
           "MESSAGEix-GLOBIOM_1.1"
          ],
          [
           "T34_1000_feas_em",
           "MESSAGEix-GLOBIOM_1.1"
          ],
          [
           "T34_1000_feas_em",
           "MESSAGEix-GLOBIOM_1.1"
          ],
          [
           "T34_1000_feas_em",
           "MESSAGEix-GLOBIOM_1.1"
          ],
          [
           "T34_1000_feas_em",
           "MESSAGEix-GLOBIOM_1.1"
          ],
          [
           "T34_1000_feas_em",
           "MESSAGEix-GLOBIOM_1.1"
          ],
          [
           "T34_1000_feas_em",
           "MESSAGEix-GLOBIOM_1.1"
          ],
          [
           "T34_1000_feas_em",
           "MESSAGEix-GLOBIOM_1.1"
          ],
          [
           "T34_1000_feas_em",
           "MESSAGEix-GLOBIOM_1.1"
          ],
          [
           "T34_1000_feas_em",
           "MESSAGEix-GLOBIOM_1.1"
          ],
          [
           "T34_1000_feas_em",
           "MESSAGEix-GLOBIOM_1.1"
          ],
          [
           "T34_1000_feas_em",
           "MESSAGEix-GLOBIOM_1.1"
          ],
          [
           "T34_1000_feas_em",
           "MESSAGEix-GLOBIOM_1.1"
          ]
         ],
         "hovertemplate": "carbon_budget=2C<br>model=%{customdata[1]}<br>scenario_narrative=EM<br>year=%{x}<br>Primary Energy|Coal=%{y}<br>scenario=%{customdata[0]}<extra></extra>",
         "legendgroup": "2C, MESSAGEix-GLOBIOM_1.1",
         "line": {
          "color": "#636efa",
          "dash": "longdash"
         },
         "marker": {
          "symbol": "circle"
         },
         "mode": "lines",
         "name": "2C, MESSAGEix-GLOBIOM_1.1",
         "orientation": "v",
         "showlegend": true,
         "type": "scatter",
         "x": [
          1990,
          1995,
          2000,
          2005,
          2010,
          2015,
          2020,
          2025,
          2030,
          2035,
          2040,
          2045,
          2050,
          2055,
          2060,
          2070,
          2080,
          2090,
          2100,
          2110
         ],
         "xaxis": "x",
         "y": [
          92.929698858,
          93.19990519199999,
          95.948114706,
          125.649357938,
          154.161581018,
          153.0731452501583,
          149.3331467747404,
          125.5530226418209,
          99.50087206812931,
          69.03134777410904,
          48.44768958106161,
          21.32994180015153,
          16.24601362878298,
          12.76647043663284,
          8.0236100888672,
          7.3589528494068635,
          3.960646968818196,
          2.4094079988133332,
          1.639402952244598,
          0.8528366234589121
         ],
         "yaxis": "y"
        },
        {
         "customdata": [
          [
           "T34_1000_feas_pr",
           "MESSAGEix-GLOBIOM_1.1"
          ],
          [
           "T34_1000_feas_pr",
           "MESSAGEix-GLOBIOM_1.1"
          ],
          [
           "T34_1000_feas_pr",
           "MESSAGEix-GLOBIOM_1.1"
          ],
          [
           "T34_1000_feas_pr",
           "MESSAGEix-GLOBIOM_1.1"
          ],
          [
           "T34_1000_feas_pr",
           "MESSAGEix-GLOBIOM_1.1"
          ],
          [
           "T34_1000_feas_pr",
           "MESSAGEix-GLOBIOM_1.1"
          ],
          [
           "T34_1000_feas_pr",
           "MESSAGEix-GLOBIOM_1.1"
          ],
          [
           "T34_1000_feas_pr",
           "MESSAGEix-GLOBIOM_1.1"
          ],
          [
           "T34_1000_feas_pr",
           "MESSAGEix-GLOBIOM_1.1"
          ],
          [
           "T34_1000_feas_pr",
           "MESSAGEix-GLOBIOM_1.1"
          ],
          [
           "T34_1000_feas_pr",
           "MESSAGEix-GLOBIOM_1.1"
          ],
          [
           "T34_1000_feas_pr",
           "MESSAGEix-GLOBIOM_1.1"
          ],
          [
           "T34_1000_feas_pr",
           "MESSAGEix-GLOBIOM_1.1"
          ],
          [
           "T34_1000_feas_pr",
           "MESSAGEix-GLOBIOM_1.1"
          ],
          [
           "T34_1000_feas_pr",
           "MESSAGEix-GLOBIOM_1.1"
          ],
          [
           "T34_1000_feas_pr",
           "MESSAGEix-GLOBIOM_1.1"
          ],
          [
           "T34_1000_feas_pr",
           "MESSAGEix-GLOBIOM_1.1"
          ],
          [
           "T34_1000_feas_pr",
           "MESSAGEix-GLOBIOM_1.1"
          ],
          [
           "T34_1000_feas_pr",
           "MESSAGEix-GLOBIOM_1.1"
          ],
          [
           "T34_1000_feas_pr",
           "MESSAGEix-GLOBIOM_1.1"
          ]
         ],
         "hovertemplate": "carbon_budget=2C<br>model=%{customdata[1]}<br>scenario_narrative=PR<br>year=%{x}<br>Primary Energy|Coal=%{y}<br>scenario=%{customdata[0]}<extra></extra>",
         "legendgroup": "2C, MESSAGEix-GLOBIOM_1.1",
         "line": {
          "color": "#636efa",
          "dash": "longdash"
         },
         "marker": {
          "symbol": "circle"
         },
         "mode": "lines",
         "name": "2C, MESSAGEix-GLOBIOM_1.1",
         "orientation": "v",
         "showlegend": false,
         "type": "scatter",
         "x": [
          1990,
          1995,
          2000,
          2005,
          2010,
          2015,
          2020,
          2025,
          2030,
          2035,
          2040,
          2045,
          2050,
          2055,
          2060,
          2070,
          2080,
          2090,
          2100,
          2110
         ],
         "xaxis": "x2",
         "y": [
          92.929698858,
          93.19990519199999,
          95.948114706,
          125.649357938,
          154.161581018,
          153.0731452501583,
          149.3331467747404,
          125.5530226418209,
          96.41044526061248,
          58.16578778592402,
          35.49660529128369,
          23.7549293788667,
          15.14887456469776,
          8.722468460733634,
          6.181541491779377,
          4.389644398743767,
          3.778088962900218,
          2.96585884276711,
          2.2232781653204112,
          1.606383692416079
         ],
         "yaxis": "y2"
        },
        {
         "customdata": [
          [
           "T34_1000_feas_ref",
           "MESSAGEix-GLOBIOM_1.1"
          ],
          [
           "T34_1000_feas_ref",
           "MESSAGEix-GLOBIOM_1.1"
          ],
          [
           "T34_1000_feas_ref",
           "MESSAGEix-GLOBIOM_1.1"
          ],
          [
           "T34_1000_feas_ref",
           "MESSAGEix-GLOBIOM_1.1"
          ],
          [
           "T34_1000_feas_ref",
           "MESSAGEix-GLOBIOM_1.1"
          ],
          [
           "T34_1000_feas_ref",
           "MESSAGEix-GLOBIOM_1.1"
          ],
          [
           "T34_1000_feas_ref",
           "MESSAGEix-GLOBIOM_1.1"
          ],
          [
           "T34_1000_feas_ref",
           "MESSAGEix-GLOBIOM_1.1"
          ],
          [
           "T34_1000_feas_ref",
           "MESSAGEix-GLOBIOM_1.1"
          ],
          [
           "T34_1000_feas_ref",
           "MESSAGEix-GLOBIOM_1.1"
          ],
          [
           "T34_1000_feas_ref",
           "MESSAGEix-GLOBIOM_1.1"
          ],
          [
           "T34_1000_feas_ref",
           "MESSAGEix-GLOBIOM_1.1"
          ],
          [
           "T34_1000_feas_ref",
           "MESSAGEix-GLOBIOM_1.1"
          ],
          [
           "T34_1000_feas_ref",
           "MESSAGEix-GLOBIOM_1.1"
          ],
          [
           "T34_1000_feas_ref",
           "MESSAGEix-GLOBIOM_1.1"
          ],
          [
           "T34_1000_feas_ref",
           "MESSAGEix-GLOBIOM_1.1"
          ],
          [
           "T34_1000_feas_ref",
           "MESSAGEix-GLOBIOM_1.1"
          ],
          [
           "T34_1000_feas_ref",
           "MESSAGEix-GLOBIOM_1.1"
          ],
          [
           "T34_1000_feas_ref",
           "MESSAGEix-GLOBIOM_1.1"
          ],
          [
           "T34_1000_feas_ref",
           "MESSAGEix-GLOBIOM_1.1"
          ]
         ],
         "hovertemplate": "carbon_budget=2C<br>model=%{customdata[1]}<br>scenario_narrative=REF<br>year=%{x}<br>Primary Energy|Coal=%{y}<br>scenario=%{customdata[0]}<extra></extra>",
         "legendgroup": "2C, MESSAGEix-GLOBIOM_1.1",
         "line": {
          "color": "#636efa",
          "dash": "longdash"
         },
         "marker": {
          "symbol": "circle"
         },
         "mode": "lines",
         "name": "2C, MESSAGEix-GLOBIOM_1.1",
         "orientation": "v",
         "showlegend": false,
         "type": "scatter",
         "x": [
          1990,
          1995,
          2000,
          2005,
          2010,
          2015,
          2020,
          2025,
          2030,
          2035,
          2040,
          2045,
          2050,
          2055,
          2060,
          2070,
          2080,
          2090,
          2100,
          2110
         ],
         "xaxis": "x3",
         "y": [
          92.929698858,
          93.19990519199999,
          95.948114706,
          125.649357938,
          154.161581018,
          153.0731452501583,
          149.3331467747404,
          125.5530226418209,
          78.55260752173724,
          42.28517997153115,
          24.15944520674595,
          15.42272901538311,
          9.815182393430458,
          6.624515467757478,
          4.76712095945253,
          3.986487662347737,
          4.056706354012309,
          4.737592098695085,
          4.169802010688927,
          2.575132442164569
         ],
         "yaxis": "y3"
        },
        {
         "customdata": [
          [
           "T34_1000_feas_em",
           "POLES ENGAGE"
          ],
          [
           "T34_1000_feas_em",
           "POLES ENGAGE"
          ],
          [
           "T34_1000_feas_em",
           "POLES ENGAGE"
          ],
          [
           "T34_1000_feas_em",
           "POLES ENGAGE"
          ],
          [
           "T34_1000_feas_em",
           "POLES ENGAGE"
          ],
          [
           "T34_1000_feas_em",
           "POLES ENGAGE"
          ],
          [
           "T34_1000_feas_em",
           "POLES ENGAGE"
          ],
          [
           "T34_1000_feas_em",
           "POLES ENGAGE"
          ],
          [
           "T34_1000_feas_em",
           "POLES ENGAGE"
          ],
          [
           "T34_1000_feas_em",
           "POLES ENGAGE"
          ],
          [
           "T34_1000_feas_em",
           "POLES ENGAGE"
          ],
          [
           "T34_1000_feas_em",
           "POLES ENGAGE"
          ],
          [
           "T34_1000_feas_em",
           "POLES ENGAGE"
          ],
          [
           "T34_1000_feas_em",
           "POLES ENGAGE"
          ],
          [
           "T34_1000_feas_em",
           "POLES ENGAGE"
          ]
         ],
         "hovertemplate": "carbon_budget=2C<br>model=%{customdata[1]}<br>scenario_narrative=EM<br>year=%{x}<br>Primary Energy|Coal=%{y}<br>scenario=%{customdata[0]}<extra></extra>",
         "legendgroup": "2C, POLES ENGAGE",
         "line": {
          "color": "#636efa",
          "dash": "dashdot"
         },
         "marker": {
          "symbol": "circle"
         },
         "mode": "lines",
         "name": "2C, POLES ENGAGE",
         "orientation": "v",
         "showlegend": true,
         "type": "scatter",
         "x": [
          2005,
          2010,
          2015,
          2020,
          2025,
          2030,
          2035,
          2040,
          2045,
          2050,
          2060,
          2070,
          2080,
          2090,
          2100
         ],
         "xaxis": "x",
         "y": [
          123.75810241699219,
          150.88873291015625,
          158.91896057128906,
          159.14190673828125,
          142.77069091796875,
          104.53740692138672,
          82.02386474609375,
          61.87291717529297,
          45.049129486083984,
          45.679351806640625,
          34.95408630371094,
          34.12444305419922,
          53.83064651489258,
          67.9867172241211,
          73.85893249511719
         ],
         "yaxis": "y"
        },
        {
         "customdata": [
          [
           "T34_1000_feas_pr",
           "POLES ENGAGE"
          ],
          [
           "T34_1000_feas_pr",
           "POLES ENGAGE"
          ],
          [
           "T34_1000_feas_pr",
           "POLES ENGAGE"
          ],
          [
           "T34_1000_feas_pr",
           "POLES ENGAGE"
          ],
          [
           "T34_1000_feas_pr",
           "POLES ENGAGE"
          ],
          [
           "T34_1000_feas_pr",
           "POLES ENGAGE"
          ],
          [
           "T34_1000_feas_pr",
           "POLES ENGAGE"
          ],
          [
           "T34_1000_feas_pr",
           "POLES ENGAGE"
          ],
          [
           "T34_1000_feas_pr",
           "POLES ENGAGE"
          ],
          [
           "T34_1000_feas_pr",
           "POLES ENGAGE"
          ],
          [
           "T34_1000_feas_pr",
           "POLES ENGAGE"
          ],
          [
           "T34_1000_feas_pr",
           "POLES ENGAGE"
          ],
          [
           "T34_1000_feas_pr",
           "POLES ENGAGE"
          ],
          [
           "T34_1000_feas_pr",
           "POLES ENGAGE"
          ],
          [
           "T34_1000_feas_pr",
           "POLES ENGAGE"
          ]
         ],
         "hovertemplate": "carbon_budget=2C<br>model=%{customdata[1]}<br>scenario_narrative=PR<br>year=%{x}<br>Primary Energy|Coal=%{y}<br>scenario=%{customdata[0]}<extra></extra>",
         "legendgroup": "2C, POLES ENGAGE",
         "line": {
          "color": "#636efa",
          "dash": "dashdot"
         },
         "marker": {
          "symbol": "circle"
         },
         "mode": "lines",
         "name": "2C, POLES ENGAGE",
         "orientation": "v",
         "showlegend": false,
         "type": "scatter",
         "x": [
          2005,
          2010,
          2015,
          2020,
          2025,
          2030,
          2035,
          2040,
          2045,
          2050,
          2060,
          2070,
          2080,
          2090,
          2100
         ],
         "xaxis": "x2",
         "y": [
          123.75810241699219,
          150.88995361328125,
          158.9185333251953,
          159.05233764648438,
          155.45590209960938,
          132.2204132080078,
          142.63375854492188,
          139.53578186035156,
          116.92449951171875,
          89.60960388183594,
          69.69153594970703,
          75.8812255859375,
          77.72151947021484,
          76.81488800048828,
          56.5008430480957
         ],
         "yaxis": "y2"
        },
        {
         "customdata": [
          [
           "T34_1000_feas_ref",
           "POLES ENGAGE"
          ],
          [
           "T34_1000_feas_ref",
           "POLES ENGAGE"
          ],
          [
           "T34_1000_feas_ref",
           "POLES ENGAGE"
          ],
          [
           "T34_1000_feas_ref",
           "POLES ENGAGE"
          ],
          [
           "T34_1000_feas_ref",
           "POLES ENGAGE"
          ],
          [
           "T34_1000_feas_ref",
           "POLES ENGAGE"
          ],
          [
           "T34_1000_feas_ref",
           "POLES ENGAGE"
          ],
          [
           "T34_1000_feas_ref",
           "POLES ENGAGE"
          ],
          [
           "T34_1000_feas_ref",
           "POLES ENGAGE"
          ],
          [
           "T34_1000_feas_ref",
           "POLES ENGAGE"
          ],
          [
           "T34_1000_feas_ref",
           "POLES ENGAGE"
          ],
          [
           "T34_1000_feas_ref",
           "POLES ENGAGE"
          ],
          [
           "T34_1000_feas_ref",
           "POLES ENGAGE"
          ],
          [
           "T34_1000_feas_ref",
           "POLES ENGAGE"
          ],
          [
           "T34_1000_feas_ref",
           "POLES ENGAGE"
          ]
         ],
         "hovertemplate": "carbon_budget=2C<br>model=%{customdata[1]}<br>scenario_narrative=REF<br>year=%{x}<br>Primary Energy|Coal=%{y}<br>scenario=%{customdata[0]}<extra></extra>",
         "legendgroup": "2C, POLES ENGAGE",
         "line": {
          "color": "#636efa",
          "dash": "dashdot"
         },
         "marker": {
          "symbol": "circle"
         },
         "mode": "lines",
         "name": "2C, POLES ENGAGE",
         "orientation": "v",
         "showlegend": false,
         "type": "scatter",
         "x": [
          2005,
          2010,
          2015,
          2020,
          2025,
          2030,
          2035,
          2040,
          2045,
          2050,
          2060,
          2070,
          2080,
          2090,
          2100
         ],
         "xaxis": "x3",
         "y": [
          123.75810241699219,
          150.88873291015625,
          158.91896057128906,
          159.1392364501953,
          146.92840576171875,
          107.55519104003906,
          75.68111419677734,
          48.52406311035156,
          36.318058013916016,
          34.719932556152344,
          33.73295974731445,
          47.88530349731445,
          60.20109939575195,
          46.194602966308594,
          40.12405014038086
         ],
         "yaxis": "y3"
        },
        {
         "customdata": [
          [
           "T34_1000_feas_em",
           "REMIND 3.0"
          ],
          [
           "T34_1000_feas_em",
           "REMIND 3.0"
          ],
          [
           "T34_1000_feas_em",
           "REMIND 3.0"
          ],
          [
           "T34_1000_feas_em",
           "REMIND 3.0"
          ],
          [
           "T34_1000_feas_em",
           "REMIND 3.0"
          ],
          [
           "T34_1000_feas_em",
           "REMIND 3.0"
          ],
          [
           "T34_1000_feas_em",
           "REMIND 3.0"
          ],
          [
           "T34_1000_feas_em",
           "REMIND 3.0"
          ],
          [
           "T34_1000_feas_em",
           "REMIND 3.0"
          ],
          [
           "T34_1000_feas_em",
           "REMIND 3.0"
          ],
          [
           "T34_1000_feas_em",
           "REMIND 3.0"
          ],
          [
           "T34_1000_feas_em",
           "REMIND 3.0"
          ],
          [
           "T34_1000_feas_em",
           "REMIND 3.0"
          ],
          [
           "T34_1000_feas_em",
           "REMIND 3.0"
          ],
          [
           "T34_1000_feas_em",
           "REMIND 3.0"
          ],
          [
           "T34_1000_feas_em",
           "REMIND 3.0"
          ]
         ],
         "hovertemplate": "carbon_budget=2C<br>model=%{customdata[1]}<br>scenario_narrative=EM<br>year=%{x}<br>Primary Energy|Coal=%{y}<br>scenario=%{customdata[0]}<extra></extra>",
         "legendgroup": "2C, REMIND 3.0",
         "line": {
          "color": "#636efa",
          "dash": "longdashdot"
         },
         "marker": {
          "symbol": "circle"
         },
         "mode": "lines",
         "name": "2C, REMIND 3.0",
         "orientation": "v",
         "showlegend": true,
         "type": "scatter",
         "x": [
          2005,
          2010,
          2015,
          2020,
          2025,
          2030,
          2035,
          2040,
          2045,
          2050,
          2055,
          2060,
          2070,
          2080,
          2090,
          2100
         ],
         "xaxis": "x",
         "y": [
          141.519484,
          157.1646042,
          167.4822029,
          165.3319305,
          144.7657971,
          90.0054794,
          59.8040434,
          30.7249134,
          17.1450516,
          11.023366,
          7.1595113,
          6.1215539,
          5.6710559,
          5.552478,
          4.3669762,
          4.6211104
         ],
         "yaxis": "y"
        },
        {
         "customdata": [
          [
           "T34_1000_feas_pr",
           "REMIND 3.0"
          ],
          [
           "T34_1000_feas_pr",
           "REMIND 3.0"
          ],
          [
           "T34_1000_feas_pr",
           "REMIND 3.0"
          ],
          [
           "T34_1000_feas_pr",
           "REMIND 3.0"
          ],
          [
           "T34_1000_feas_pr",
           "REMIND 3.0"
          ],
          [
           "T34_1000_feas_pr",
           "REMIND 3.0"
          ],
          [
           "T34_1000_feas_pr",
           "REMIND 3.0"
          ],
          [
           "T34_1000_feas_pr",
           "REMIND 3.0"
          ],
          [
           "T34_1000_feas_pr",
           "REMIND 3.0"
          ],
          [
           "T34_1000_feas_pr",
           "REMIND 3.0"
          ],
          [
           "T34_1000_feas_pr",
           "REMIND 3.0"
          ],
          [
           "T34_1000_feas_pr",
           "REMIND 3.0"
          ],
          [
           "T34_1000_feas_pr",
           "REMIND 3.0"
          ],
          [
           "T34_1000_feas_pr",
           "REMIND 3.0"
          ],
          [
           "T34_1000_feas_pr",
           "REMIND 3.0"
          ],
          [
           "T34_1000_feas_pr",
           "REMIND 3.0"
          ]
         ],
         "hovertemplate": "carbon_budget=2C<br>model=%{customdata[1]}<br>scenario_narrative=PR<br>year=%{x}<br>Primary Energy|Coal=%{y}<br>scenario=%{customdata[0]}<extra></extra>",
         "legendgroup": "2C, REMIND 3.0",
         "line": {
          "color": "#636efa",
          "dash": "longdashdot"
         },
         "marker": {
          "symbol": "circle"
         },
         "mode": "lines",
         "name": "2C, REMIND 3.0",
         "orientation": "v",
         "showlegend": false,
         "type": "scatter",
         "x": [
          2005,
          2010,
          2015,
          2020,
          2025,
          2030,
          2035,
          2040,
          2045,
          2050,
          2055,
          2060,
          2070,
          2080,
          2090,
          2100
         ],
         "xaxis": "x2",
         "y": [
          141.519484,
          157.1646042,
          167.4822029,
          165.3319305,
          144.8570541,
          90.4269851,
          61.3308704,
          30.2770321,
          14.2558797,
          6.9375059,
          3.7865746,
          3.3275805,
          3.7172663999999997,
          4.0011269,
          4.1565001,
          4.3506187
         ],
         "yaxis": "y2"
        },
        {
         "customdata": [
          [
           "T34_1000_feas_ref",
           "REMIND 3.0"
          ],
          [
           "T34_1000_feas_ref",
           "REMIND 3.0"
          ],
          [
           "T34_1000_feas_ref",
           "REMIND 3.0"
          ],
          [
           "T34_1000_feas_ref",
           "REMIND 3.0"
          ],
          [
           "T34_1000_feas_ref",
           "REMIND 3.0"
          ],
          [
           "T34_1000_feas_ref",
           "REMIND 3.0"
          ],
          [
           "T34_1000_feas_ref",
           "REMIND 3.0"
          ],
          [
           "T34_1000_feas_ref",
           "REMIND 3.0"
          ],
          [
           "T34_1000_feas_ref",
           "REMIND 3.0"
          ],
          [
           "T34_1000_feas_ref",
           "REMIND 3.0"
          ],
          [
           "T34_1000_feas_ref",
           "REMIND 3.0"
          ],
          [
           "T34_1000_feas_ref",
           "REMIND 3.0"
          ],
          [
           "T34_1000_feas_ref",
           "REMIND 3.0"
          ],
          [
           "T34_1000_feas_ref",
           "REMIND 3.0"
          ],
          [
           "T34_1000_feas_ref",
           "REMIND 3.0"
          ],
          [
           "T34_1000_feas_ref",
           "REMIND 3.0"
          ]
         ],
         "hovertemplate": "carbon_budget=2C<br>model=%{customdata[1]}<br>scenario_narrative=REF<br>year=%{x}<br>Primary Energy|Coal=%{y}<br>scenario=%{customdata[0]}<extra></extra>",
         "legendgroup": "2C, REMIND 3.0",
         "line": {
          "color": "#636efa",
          "dash": "longdashdot"
         },
         "marker": {
          "symbol": "circle"
         },
         "mode": "lines",
         "name": "2C, REMIND 3.0",
         "orientation": "v",
         "showlegend": false,
         "type": "scatter",
         "x": [
          2005,
          2010,
          2015,
          2020,
          2025,
          2030,
          2035,
          2040,
          2045,
          2050,
          2055,
          2060,
          2070,
          2080,
          2090,
          2100
         ],
         "xaxis": "x3",
         "y": [
          141.519484,
          157.1646042,
          167.4822029,
          165.3319305,
          144.2408086,
          80.3627956,
          48.3227157,
          20.9544963,
          10.7856067,
          6.2318298,
          3.7030735,
          3.5543213,
          3.8675259,
          4.3408106,
          4.5728295,
          4.6904012
         ],
         "yaxis": "y3"
        },
        {
         "customdata": [
          [
           "T34_1000_feas_em",
           "WITCH 5.0"
          ],
          [
           "T34_1000_feas_em",
           "WITCH 5.0"
          ],
          [
           "T34_1000_feas_em",
           "WITCH 5.0"
          ],
          [
           "T34_1000_feas_em",
           "WITCH 5.0"
          ],
          [
           "T34_1000_feas_em",
           "WITCH 5.0"
          ],
          [
           "T34_1000_feas_em",
           "WITCH 5.0"
          ],
          [
           "T34_1000_feas_em",
           "WITCH 5.0"
          ],
          [
           "T34_1000_feas_em",
           "WITCH 5.0"
          ],
          [
           "T34_1000_feas_em",
           "WITCH 5.0"
          ],
          [
           "T34_1000_feas_em",
           "WITCH 5.0"
          ],
          [
           "T34_1000_feas_em",
           "WITCH 5.0"
          ],
          [
           "T34_1000_feas_em",
           "WITCH 5.0"
          ],
          [
           "T34_1000_feas_em",
           "WITCH 5.0"
          ],
          [
           "T34_1000_feas_em",
           "WITCH 5.0"
          ],
          [
           "T34_1000_feas_em",
           "WITCH 5.0"
          ],
          [
           "T34_1000_feas_em",
           "WITCH 5.0"
          ],
          [
           "T34_1000_feas_em",
           "WITCH 5.0"
          ],
          [
           "T34_1000_feas_em",
           "WITCH 5.0"
          ],
          [
           "T34_1000_feas_em",
           "WITCH 5.0"
          ],
          [
           "T34_1000_feas_em",
           "WITCH 5.0"
          ]
         ],
         "hovertemplate": "carbon_budget=2C<br>model=%{customdata[1]}<br>scenario_narrative=EM<br>year=%{x}<br>Primary Energy|Coal=%{y}<br>scenario=%{customdata[0]}<extra></extra>",
         "legendgroup": "2C, WITCH 5.0",
         "line": {
          "color": "#636efa",
          "dash": "solid"
         },
         "marker": {
          "symbol": "circle"
         },
         "mode": "lines",
         "name": "2C, WITCH 5.0",
         "orientation": "v",
         "showlegend": true,
         "type": "scatter",
         "x": [
          2005,
          2010,
          2015,
          2020,
          2025,
          2030,
          2035,
          2040,
          2045,
          2050,
          2055,
          2060,
          2065,
          2070,
          2075,
          2080,
          2085,
          2090,
          2095,
          2100
         ],
         "xaxis": "x",
         "y": [
          124.529847991726,
          150.72288171868,
          159.873112779134,
          168.005476217576,
          134.167558348918,
          88.1649563837748,
          70.1122858555241,
          57.4018150330486,
          49.3858192157893,
          44.0538317185943,
          40.7592501320272,
          38.4373682273505,
          36.2536212000001,
          34.0596492226916,
          31.9746890540818,
          29.7216551681683,
          27.591940788023,
          25.5757433969426,
          22.0856233897139,
          20.6468410808757
         ],
         "yaxis": "y"
        },
        {
         "customdata": [
          [
           "T34_1000_feas_pr",
           "WITCH 5.0"
          ],
          [
           "T34_1000_feas_pr",
           "WITCH 5.0"
          ],
          [
           "T34_1000_feas_pr",
           "WITCH 5.0"
          ],
          [
           "T34_1000_feas_pr",
           "WITCH 5.0"
          ],
          [
           "T34_1000_feas_pr",
           "WITCH 5.0"
          ],
          [
           "T34_1000_feas_pr",
           "WITCH 5.0"
          ],
          [
           "T34_1000_feas_pr",
           "WITCH 5.0"
          ],
          [
           "T34_1000_feas_pr",
           "WITCH 5.0"
          ],
          [
           "T34_1000_feas_pr",
           "WITCH 5.0"
          ],
          [
           "T34_1000_feas_pr",
           "WITCH 5.0"
          ],
          [
           "T34_1000_feas_pr",
           "WITCH 5.0"
          ],
          [
           "T34_1000_feas_pr",
           "WITCH 5.0"
          ],
          [
           "T34_1000_feas_pr",
           "WITCH 5.0"
          ],
          [
           "T34_1000_feas_pr",
           "WITCH 5.0"
          ],
          [
           "T34_1000_feas_pr",
           "WITCH 5.0"
          ],
          [
           "T34_1000_feas_pr",
           "WITCH 5.0"
          ],
          [
           "T34_1000_feas_pr",
           "WITCH 5.0"
          ],
          [
           "T34_1000_feas_pr",
           "WITCH 5.0"
          ],
          [
           "T34_1000_feas_pr",
           "WITCH 5.0"
          ],
          [
           "T34_1000_feas_pr",
           "WITCH 5.0"
          ]
         ],
         "hovertemplate": "carbon_budget=2C<br>model=%{customdata[1]}<br>scenario_narrative=PR<br>year=%{x}<br>Primary Energy|Coal=%{y}<br>scenario=%{customdata[0]}<extra></extra>",
         "legendgroup": "2C, WITCH 5.0",
         "line": {
          "color": "#636efa",
          "dash": "solid"
         },
         "marker": {
          "symbol": "circle"
         },
         "mode": "lines",
         "name": "2C, WITCH 5.0",
         "orientation": "v",
         "showlegend": false,
         "type": "scatter",
         "x": [
          2005,
          2010,
          2015,
          2020,
          2025,
          2030,
          2035,
          2040,
          2045,
          2050,
          2055,
          2060,
          2065,
          2070,
          2075,
          2080,
          2085,
          2090,
          2095,
          2100
         ],
         "xaxis": "x2",
         "y": [
          124.529847991726,
          150.72288171868,
          159.873112779134,
          168.005476217576,
          143.357574322931,
          79.1587517344748,
          52.1234942031763,
          46.5149254088031,
          42.5948015374797,
          39.8285621250617,
          37.4298805881682,
          35.1265319533508,
          33.0274393073986,
          31.0765165777234,
          29.2254474335435,
          27.4663031073706,
          25.7934139352885,
          24.2025129780529,
          22.6895819973455,
          21.2507996885073
         ],
         "yaxis": "y2"
        },
        {
         "customdata": [
          [
           "T34_1000_feas_ref",
           "WITCH 5.0"
          ],
          [
           "T34_1000_feas_ref",
           "WITCH 5.0"
          ],
          [
           "T34_1000_feas_ref",
           "WITCH 5.0"
          ],
          [
           "T34_1000_feas_ref",
           "WITCH 5.0"
          ],
          [
           "T34_1000_feas_ref",
           "WITCH 5.0"
          ],
          [
           "T34_1000_feas_ref",
           "WITCH 5.0"
          ],
          [
           "T34_1000_feas_ref",
           "WITCH 5.0"
          ],
          [
           "T34_1000_feas_ref",
           "WITCH 5.0"
          ],
          [
           "T34_1000_feas_ref",
           "WITCH 5.0"
          ],
          [
           "T34_1000_feas_ref",
           "WITCH 5.0"
          ],
          [
           "T34_1000_feas_ref",
           "WITCH 5.0"
          ],
          [
           "T34_1000_feas_ref",
           "WITCH 5.0"
          ],
          [
           "T34_1000_feas_ref",
           "WITCH 5.0"
          ],
          [
           "T34_1000_feas_ref",
           "WITCH 5.0"
          ],
          [
           "T34_1000_feas_ref",
           "WITCH 5.0"
          ],
          [
           "T34_1000_feas_ref",
           "WITCH 5.0"
          ],
          [
           "T34_1000_feas_ref",
           "WITCH 5.0"
          ],
          [
           "T34_1000_feas_ref",
           "WITCH 5.0"
          ],
          [
           "T34_1000_feas_ref",
           "WITCH 5.0"
          ],
          [
           "T34_1000_feas_ref",
           "WITCH 5.0"
          ]
         ],
         "hovertemplate": "carbon_budget=2C<br>model=%{customdata[1]}<br>scenario_narrative=REF<br>year=%{x}<br>Primary Energy|Coal=%{y}<br>scenario=%{customdata[0]}<extra></extra>",
         "legendgroup": "2C, WITCH 5.0",
         "line": {
          "color": "#636efa",
          "dash": "solid"
         },
         "marker": {
          "symbol": "circle"
         },
         "mode": "lines",
         "name": "2C, WITCH 5.0",
         "orientation": "v",
         "showlegend": false,
         "type": "scatter",
         "x": [
          2005,
          2010,
          2015,
          2020,
          2025,
          2030,
          2035,
          2040,
          2045,
          2050,
          2055,
          2060,
          2065,
          2070,
          2075,
          2080,
          2085,
          2090,
          2095,
          2100
         ],
         "xaxis": "x3",
         "y": [
          124.529847991726,
          150.72288171868,
          159.873112779134,
          168.005476217576,
          143.000313085415,
          75.3607011314424,
          50.9051911920983,
          45.2965384456422,
          42.5092463889889,
          40.0054738261714,
          37.6192934484587,
          35.3469193672697,
          33.1917213655174,
          31.1850501121216,
          29.3349072701268,
          27.5758045621037,
          25.9029153900215,
          24.312014432786,
          22.7990834520786,
          21.3603011432404
         ],
         "yaxis": "y3"
        },
        {
         "customdata": [
          [
           "T34_550_feas_em",
           "REMIND 3.0"
          ],
          [
           "T34_550_feas_em",
           "REMIND 3.0"
          ],
          [
           "T34_550_feas_em",
           "REMIND 3.0"
          ],
          [
           "T34_550_feas_em",
           "REMIND 3.0"
          ],
          [
           "T34_550_feas_em",
           "REMIND 3.0"
          ],
          [
           "T34_550_feas_em",
           "REMIND 3.0"
          ],
          [
           "T34_550_feas_em",
           "REMIND 3.0"
          ],
          [
           "T34_550_feas_em",
           "REMIND 3.0"
          ],
          [
           "T34_550_feas_em",
           "REMIND 3.0"
          ],
          [
           "T34_550_feas_em",
           "REMIND 3.0"
          ],
          [
           "T34_550_feas_em",
           "REMIND 3.0"
          ],
          [
           "T34_550_feas_em",
           "REMIND 3.0"
          ],
          [
           "T34_550_feas_em",
           "REMIND 3.0"
          ],
          [
           "T34_550_feas_em",
           "REMIND 3.0"
          ],
          [
           "T34_550_feas_em",
           "REMIND 3.0"
          ],
          [
           "T34_550_feas_em",
           "REMIND 3.0"
          ]
         ],
         "hovertemplate": "carbon_budget=1.5C<br>model=%{customdata[1]}<br>scenario_narrative=EM<br>year=%{x}<br>Primary Energy|Coal=%{y}<br>scenario=%{customdata[0]}<extra></extra>",
         "legendgroup": "1.5C, REMIND 3.0",
         "line": {
          "color": "#EF553B",
          "dash": "longdashdot"
         },
         "marker": {
          "symbol": "circle"
         },
         "mode": "lines",
         "name": "1.5C, REMIND 3.0",
         "orientation": "v",
         "showlegend": true,
         "type": "scatter",
         "x": [
          2005,
          2010,
          2015,
          2020,
          2025,
          2030,
          2035,
          2040,
          2045,
          2050,
          2055,
          2060,
          2070,
          2080,
          2090,
          2100
         ],
         "xaxis": "x",
         "y": [
          141.519484,
          157.1646042,
          167.4822029,
          165.3319305,
          143.8453031,
          78.1133345,
          34.394565,
          16.0381097,
          10.474749,
          7.6382283,
          5.6394635,
          4.6340542,
          4.2298604,
          4.2589953,
          3.7331769,
          4.1602141
         ],
         "yaxis": "y"
        },
        {
         "customdata": [
          [
           "T34_550_feas_pr",
           "REMIND 3.0"
          ],
          [
           "T34_550_feas_pr",
           "REMIND 3.0"
          ],
          [
           "T34_550_feas_pr",
           "REMIND 3.0"
          ],
          [
           "T34_550_feas_pr",
           "REMIND 3.0"
          ],
          [
           "T34_550_feas_pr",
           "REMIND 3.0"
          ],
          [
           "T34_550_feas_pr",
           "REMIND 3.0"
          ],
          [
           "T34_550_feas_pr",
           "REMIND 3.0"
          ],
          [
           "T34_550_feas_pr",
           "REMIND 3.0"
          ],
          [
           "T34_550_feas_pr",
           "REMIND 3.0"
          ],
          [
           "T34_550_feas_pr",
           "REMIND 3.0"
          ],
          [
           "T34_550_feas_pr",
           "REMIND 3.0"
          ],
          [
           "T34_550_feas_pr",
           "REMIND 3.0"
          ],
          [
           "T34_550_feas_pr",
           "REMIND 3.0"
          ],
          [
           "T34_550_feas_pr",
           "REMIND 3.0"
          ],
          [
           "T34_550_feas_pr",
           "REMIND 3.0"
          ],
          [
           "T34_550_feas_pr",
           "REMIND 3.0"
          ]
         ],
         "hovertemplate": "carbon_budget=1.5C<br>model=%{customdata[1]}<br>scenario_narrative=PR<br>year=%{x}<br>Primary Energy|Coal=%{y}<br>scenario=%{customdata[0]}<extra></extra>",
         "legendgroup": "1.5C, REMIND 3.0",
         "line": {
          "color": "#EF553B",
          "dash": "longdashdot"
         },
         "marker": {
          "symbol": "circle"
         },
         "mode": "lines",
         "name": "1.5C, REMIND 3.0",
         "orientation": "v",
         "showlegend": false,
         "type": "scatter",
         "x": [
          2005,
          2010,
          2015,
          2020,
          2025,
          2030,
          2035,
          2040,
          2045,
          2050,
          2055,
          2060,
          2070,
          2080,
          2090,
          2100
         ],
         "xaxis": "x2",
         "y": [
          141.519484,
          157.1646042,
          167.4822029,
          165.3319305,
          142.7673002,
          66.2373011,
          22.8485561,
          8.7021322,
          4.0777787,
          2.8943082,
          2.3085743,
          2.2113733,
          2.4027358,
          2.7163483,
          2.8157289,
          2.6717101
         ],
         "yaxis": "y2"
        },
        {
         "customdata": [
          [
           "T34_550_feas_ref",
           "REMIND 3.0"
          ],
          [
           "T34_550_feas_ref",
           "REMIND 3.0"
          ],
          [
           "T34_550_feas_ref",
           "REMIND 3.0"
          ],
          [
           "T34_550_feas_ref",
           "REMIND 3.0"
          ],
          [
           "T34_550_feas_ref",
           "REMIND 3.0"
          ],
          [
           "T34_550_feas_ref",
           "REMIND 3.0"
          ],
          [
           "T34_550_feas_ref",
           "REMIND 3.0"
          ],
          [
           "T34_550_feas_ref",
           "REMIND 3.0"
          ],
          [
           "T34_550_feas_ref",
           "REMIND 3.0"
          ],
          [
           "T34_550_feas_ref",
           "REMIND 3.0"
          ],
          [
           "T34_550_feas_ref",
           "REMIND 3.0"
          ],
          [
           "T34_550_feas_ref",
           "REMIND 3.0"
          ],
          [
           "T34_550_feas_ref",
           "REMIND 3.0"
          ],
          [
           "T34_550_feas_ref",
           "REMIND 3.0"
          ],
          [
           "T34_550_feas_ref",
           "REMIND 3.0"
          ],
          [
           "T34_550_feas_ref",
           "REMIND 3.0"
          ]
         ],
         "hovertemplate": "carbon_budget=1.5C<br>model=%{customdata[1]}<br>scenario_narrative=REF<br>year=%{x}<br>Primary Energy|Coal=%{y}<br>scenario=%{customdata[0]}<extra></extra>",
         "legendgroup": "1.5C, REMIND 3.0",
         "line": {
          "color": "#EF553B",
          "dash": "longdashdot"
         },
         "marker": {
          "symbol": "circle"
         },
         "mode": "lines",
         "name": "1.5C, REMIND 3.0",
         "orientation": "v",
         "showlegend": false,
         "type": "scatter",
         "x": [
          2005,
          2010,
          2015,
          2020,
          2025,
          2030,
          2035,
          2040,
          2045,
          2050,
          2055,
          2060,
          2070,
          2080,
          2090,
          2100
         ],
         "xaxis": "x3",
         "y": [
          141.519484,
          157.1646042,
          167.4822029,
          165.3319305,
          125.458207,
          32.5485613,
          6.4294551,
          3.4112446,
          2.2269204,
          2.115416,
          1.9453983,
          1.8007317,
          1.9638118,
          2.3127915,
          2.26106,
          1.7750777
         ],
         "yaxis": "y3"
        }
       ],
       "layout": {
        "annotations": [
         {
          "font": {},
          "showarrow": false,
          "text": "scenario_narrative=EM",
          "x": 0.15999999999999998,
          "xanchor": "center",
          "xref": "paper",
          "y": 1,
          "yanchor": "bottom",
          "yref": "paper"
         },
         {
          "font": {},
          "showarrow": false,
          "text": "scenario_narrative=PR",
          "x": 0.49999999999999994,
          "xanchor": "center",
          "xref": "paper",
          "y": 1,
          "yanchor": "bottom",
          "yref": "paper"
         },
         {
          "font": {},
          "showarrow": false,
          "text": "scenario_narrative=REF",
          "x": 0.8399999999999999,
          "xanchor": "center",
          "xref": "paper",
          "y": 1,
          "yanchor": "bottom",
          "yref": "paper"
         }
        ],
        "legend": {
         "title": {
          "text": "carbon_budget, model"
         },
         "tracegroupgap": 0
        },
        "margin": {
         "t": 60
        },
        "template": {
         "data": {
          "bar": [
           {
            "error_x": {
             "color": "#2a3f5f"
            },
            "error_y": {
             "color": "#2a3f5f"
            },
            "marker": {
             "line": {
              "color": "#E5ECF6",
              "width": 0.5
             },
             "pattern": {
              "fillmode": "overlay",
              "size": 10,
              "solidity": 0.2
             }
            },
            "type": "bar"
           }
          ],
          "barpolar": [
           {
            "marker": {
             "line": {
              "color": "#E5ECF6",
              "width": 0.5
             },
             "pattern": {
              "fillmode": "overlay",
              "size": 10,
              "solidity": 0.2
             }
            },
            "type": "barpolar"
           }
          ],
          "carpet": [
           {
            "aaxis": {
             "endlinecolor": "#2a3f5f",
             "gridcolor": "white",
             "linecolor": "white",
             "minorgridcolor": "white",
             "startlinecolor": "#2a3f5f"
            },
            "baxis": {
             "endlinecolor": "#2a3f5f",
             "gridcolor": "white",
             "linecolor": "white",
             "minorgridcolor": "white",
             "startlinecolor": "#2a3f5f"
            },
            "type": "carpet"
           }
          ],
          "choropleth": [
           {
            "colorbar": {
             "outlinewidth": 0,
             "ticks": ""
            },
            "type": "choropleth"
           }
          ],
          "contour": [
           {
            "colorbar": {
             "outlinewidth": 0,
             "ticks": ""
            },
            "colorscale": [
             [
              0,
              "#0d0887"
             ],
             [
              0.1111111111111111,
              "#46039f"
             ],
             [
              0.2222222222222222,
              "#7201a8"
             ],
             [
              0.3333333333333333,
              "#9c179e"
             ],
             [
              0.4444444444444444,
              "#bd3786"
             ],
             [
              0.5555555555555556,
              "#d8576b"
             ],
             [
              0.6666666666666666,
              "#ed7953"
             ],
             [
              0.7777777777777778,
              "#fb9f3a"
             ],
             [
              0.8888888888888888,
              "#fdca26"
             ],
             [
              1,
              "#f0f921"
             ]
            ],
            "type": "contour"
           }
          ],
          "contourcarpet": [
           {
            "colorbar": {
             "outlinewidth": 0,
             "ticks": ""
            },
            "type": "contourcarpet"
           }
          ],
          "heatmap": [
           {
            "colorbar": {
             "outlinewidth": 0,
             "ticks": ""
            },
            "colorscale": [
             [
              0,
              "#0d0887"
             ],
             [
              0.1111111111111111,
              "#46039f"
             ],
             [
              0.2222222222222222,
              "#7201a8"
             ],
             [
              0.3333333333333333,
              "#9c179e"
             ],
             [
              0.4444444444444444,
              "#bd3786"
             ],
             [
              0.5555555555555556,
              "#d8576b"
             ],
             [
              0.6666666666666666,
              "#ed7953"
             ],
             [
              0.7777777777777778,
              "#fb9f3a"
             ],
             [
              0.8888888888888888,
              "#fdca26"
             ],
             [
              1,
              "#f0f921"
             ]
            ],
            "type": "heatmap"
           }
          ],
          "heatmapgl": [
           {
            "colorbar": {
             "outlinewidth": 0,
             "ticks": ""
            },
            "colorscale": [
             [
              0,
              "#0d0887"
             ],
             [
              0.1111111111111111,
              "#46039f"
             ],
             [
              0.2222222222222222,
              "#7201a8"
             ],
             [
              0.3333333333333333,
              "#9c179e"
             ],
             [
              0.4444444444444444,
              "#bd3786"
             ],
             [
              0.5555555555555556,
              "#d8576b"
             ],
             [
              0.6666666666666666,
              "#ed7953"
             ],
             [
              0.7777777777777778,
              "#fb9f3a"
             ],
             [
              0.8888888888888888,
              "#fdca26"
             ],
             [
              1,
              "#f0f921"
             ]
            ],
            "type": "heatmapgl"
           }
          ],
          "histogram": [
           {
            "marker": {
             "pattern": {
              "fillmode": "overlay",
              "size": 10,
              "solidity": 0.2
             }
            },
            "type": "histogram"
           }
          ],
          "histogram2d": [
           {
            "colorbar": {
             "outlinewidth": 0,
             "ticks": ""
            },
            "colorscale": [
             [
              0,
              "#0d0887"
             ],
             [
              0.1111111111111111,
              "#46039f"
             ],
             [
              0.2222222222222222,
              "#7201a8"
             ],
             [
              0.3333333333333333,
              "#9c179e"
             ],
             [
              0.4444444444444444,
              "#bd3786"
             ],
             [
              0.5555555555555556,
              "#d8576b"
             ],
             [
              0.6666666666666666,
              "#ed7953"
             ],
             [
              0.7777777777777778,
              "#fb9f3a"
             ],
             [
              0.8888888888888888,
              "#fdca26"
             ],
             [
              1,
              "#f0f921"
             ]
            ],
            "type": "histogram2d"
           }
          ],
          "histogram2dcontour": [
           {
            "colorbar": {
             "outlinewidth": 0,
             "ticks": ""
            },
            "colorscale": [
             [
              0,
              "#0d0887"
             ],
             [
              0.1111111111111111,
              "#46039f"
             ],
             [
              0.2222222222222222,
              "#7201a8"
             ],
             [
              0.3333333333333333,
              "#9c179e"
             ],
             [
              0.4444444444444444,
              "#bd3786"
             ],
             [
              0.5555555555555556,
              "#d8576b"
             ],
             [
              0.6666666666666666,
              "#ed7953"
             ],
             [
              0.7777777777777778,
              "#fb9f3a"
             ],
             [
              0.8888888888888888,
              "#fdca26"
             ],
             [
              1,
              "#f0f921"
             ]
            ],
            "type": "histogram2dcontour"
           }
          ],
          "mesh3d": [
           {
            "colorbar": {
             "outlinewidth": 0,
             "ticks": ""
            },
            "type": "mesh3d"
           }
          ],
          "parcoords": [
           {
            "line": {
             "colorbar": {
              "outlinewidth": 0,
              "ticks": ""
             }
            },
            "type": "parcoords"
           }
          ],
          "pie": [
           {
            "automargin": true,
            "type": "pie"
           }
          ],
          "scatter": [
           {
            "fillpattern": {
             "fillmode": "overlay",
             "size": 10,
             "solidity": 0.2
            },
            "type": "scatter"
           }
          ],
          "scatter3d": [
           {
            "line": {
             "colorbar": {
              "outlinewidth": 0,
              "ticks": ""
             }
            },
            "marker": {
             "colorbar": {
              "outlinewidth": 0,
              "ticks": ""
             }
            },
            "type": "scatter3d"
           }
          ],
          "scattercarpet": [
           {
            "marker": {
             "colorbar": {
              "outlinewidth": 0,
              "ticks": ""
             }
            },
            "type": "scattercarpet"
           }
          ],
          "scattergeo": [
           {
            "marker": {
             "colorbar": {
              "outlinewidth": 0,
              "ticks": ""
             }
            },
            "type": "scattergeo"
           }
          ],
          "scattergl": [
           {
            "marker": {
             "colorbar": {
              "outlinewidth": 0,
              "ticks": ""
             }
            },
            "type": "scattergl"
           }
          ],
          "scattermapbox": [
           {
            "marker": {
             "colorbar": {
              "outlinewidth": 0,
              "ticks": ""
             }
            },
            "type": "scattermapbox"
           }
          ],
          "scatterpolar": [
           {
            "marker": {
             "colorbar": {
              "outlinewidth": 0,
              "ticks": ""
             }
            },
            "type": "scatterpolar"
           }
          ],
          "scatterpolargl": [
           {
            "marker": {
             "colorbar": {
              "outlinewidth": 0,
              "ticks": ""
             }
            },
            "type": "scatterpolargl"
           }
          ],
          "scatterternary": [
           {
            "marker": {
             "colorbar": {
              "outlinewidth": 0,
              "ticks": ""
             }
            },
            "type": "scatterternary"
           }
          ],
          "surface": [
           {
            "colorbar": {
             "outlinewidth": 0,
             "ticks": ""
            },
            "colorscale": [
             [
              0,
              "#0d0887"
             ],
             [
              0.1111111111111111,
              "#46039f"
             ],
             [
              0.2222222222222222,
              "#7201a8"
             ],
             [
              0.3333333333333333,
              "#9c179e"
             ],
             [
              0.4444444444444444,
              "#bd3786"
             ],
             [
              0.5555555555555556,
              "#d8576b"
             ],
             [
              0.6666666666666666,
              "#ed7953"
             ],
             [
              0.7777777777777778,
              "#fb9f3a"
             ],
             [
              0.8888888888888888,
              "#fdca26"
             ],
             [
              1,
              "#f0f921"
             ]
            ],
            "type": "surface"
           }
          ],
          "table": [
           {
            "cells": {
             "fill": {
              "color": "#EBF0F8"
             },
             "line": {
              "color": "white"
             }
            },
            "header": {
             "fill": {
              "color": "#C8D4E3"
             },
             "line": {
              "color": "white"
             }
            },
            "type": "table"
           }
          ]
         },
         "layout": {
          "annotationdefaults": {
           "arrowcolor": "#2a3f5f",
           "arrowhead": 0,
           "arrowwidth": 1
          },
          "autotypenumbers": "strict",
          "coloraxis": {
           "colorbar": {
            "outlinewidth": 0,
            "ticks": ""
           }
          },
          "colorscale": {
           "diverging": [
            [
             0,
             "#8e0152"
            ],
            [
             0.1,
             "#c51b7d"
            ],
            [
             0.2,
             "#de77ae"
            ],
            [
             0.3,
             "#f1b6da"
            ],
            [
             0.4,
             "#fde0ef"
            ],
            [
             0.5,
             "#f7f7f7"
            ],
            [
             0.6,
             "#e6f5d0"
            ],
            [
             0.7,
             "#b8e186"
            ],
            [
             0.8,
             "#7fbc41"
            ],
            [
             0.9,
             "#4d9221"
            ],
            [
             1,
             "#276419"
            ]
           ],
           "sequential": [
            [
             0,
             "#0d0887"
            ],
            [
             0.1111111111111111,
             "#46039f"
            ],
            [
             0.2222222222222222,
             "#7201a8"
            ],
            [
             0.3333333333333333,
             "#9c179e"
            ],
            [
             0.4444444444444444,
             "#bd3786"
            ],
            [
             0.5555555555555556,
             "#d8576b"
            ],
            [
             0.6666666666666666,
             "#ed7953"
            ],
            [
             0.7777777777777778,
             "#fb9f3a"
            ],
            [
             0.8888888888888888,
             "#fdca26"
            ],
            [
             1,
             "#f0f921"
            ]
           ],
           "sequentialminus": [
            [
             0,
             "#0d0887"
            ],
            [
             0.1111111111111111,
             "#46039f"
            ],
            [
             0.2222222222222222,
             "#7201a8"
            ],
            [
             0.3333333333333333,
             "#9c179e"
            ],
            [
             0.4444444444444444,
             "#bd3786"
            ],
            [
             0.5555555555555556,
             "#d8576b"
            ],
            [
             0.6666666666666666,
             "#ed7953"
            ],
            [
             0.7777777777777778,
             "#fb9f3a"
            ],
            [
             0.8888888888888888,
             "#fdca26"
            ],
            [
             1,
             "#f0f921"
            ]
           ]
          },
          "colorway": [
           "#636efa",
           "#EF553B",
           "#00cc96",
           "#ab63fa",
           "#FFA15A",
           "#19d3f3",
           "#FF6692",
           "#B6E880",
           "#FF97FF",
           "#FECB52"
          ],
          "font": {
           "color": "#2a3f5f"
          },
          "geo": {
           "bgcolor": "white",
           "lakecolor": "white",
           "landcolor": "#E5ECF6",
           "showlakes": true,
           "showland": true,
           "subunitcolor": "white"
          },
          "hoverlabel": {
           "align": "left"
          },
          "hovermode": "closest",
          "mapbox": {
           "style": "light"
          },
          "paper_bgcolor": "white",
          "plot_bgcolor": "#E5ECF6",
          "polar": {
           "angularaxis": {
            "gridcolor": "white",
            "linecolor": "white",
            "ticks": ""
           },
           "bgcolor": "#E5ECF6",
           "radialaxis": {
            "gridcolor": "white",
            "linecolor": "white",
            "ticks": ""
           }
          },
          "scene": {
           "xaxis": {
            "backgroundcolor": "#E5ECF6",
            "gridcolor": "white",
            "gridwidth": 2,
            "linecolor": "white",
            "showbackground": true,
            "ticks": "",
            "zerolinecolor": "white"
           },
           "yaxis": {
            "backgroundcolor": "#E5ECF6",
            "gridcolor": "white",
            "gridwidth": 2,
            "linecolor": "white",
            "showbackground": true,
            "ticks": "",
            "zerolinecolor": "white"
           },
           "zaxis": {
            "backgroundcolor": "#E5ECF6",
            "gridcolor": "white",
            "gridwidth": 2,
            "linecolor": "white",
            "showbackground": true,
            "ticks": "",
            "zerolinecolor": "white"
           }
          },
          "shapedefaults": {
           "line": {
            "color": "#2a3f5f"
           }
          },
          "ternary": {
           "aaxis": {
            "gridcolor": "white",
            "linecolor": "white",
            "ticks": ""
           },
           "baxis": {
            "gridcolor": "white",
            "linecolor": "white",
            "ticks": ""
           },
           "bgcolor": "#E5ECF6",
           "caxis": {
            "gridcolor": "white",
            "linecolor": "white",
            "ticks": ""
           }
          },
          "title": {
           "x": 0.05
          },
          "xaxis": {
           "automargin": true,
           "gridcolor": "white",
           "linecolor": "white",
           "ticks": "",
           "title": {
            "standoff": 15
           },
           "zerolinecolor": "white",
           "zerolinewidth": 2
          },
          "yaxis": {
           "automargin": true,
           "gridcolor": "white",
           "linecolor": "white",
           "ticks": "",
           "title": {
            "standoff": 15
           },
           "zerolinecolor": "white",
           "zerolinewidth": 2
          }
         }
        },
        "xaxis": {
         "anchor": "y",
         "domain": [
          0,
          0.31999999999999995
         ],
         "title": {
          "text": "year"
         }
        },
        "xaxis2": {
         "anchor": "y2",
         "domain": [
          0.33999999999999997,
          0.6599999999999999
         ],
         "matches": "x",
         "title": {
          "text": "year"
         }
        },
        "xaxis3": {
         "anchor": "y3",
         "domain": [
          0.6799999999999999,
          0.9999999999999999
         ],
         "matches": "x",
         "title": {
          "text": "year"
         }
        },
        "yaxis": {
         "anchor": "x",
         "domain": [
          0,
          1
         ],
         "title": {
          "text": "Primary Energy|Coal"
         }
        },
        "yaxis2": {
         "anchor": "x2",
         "domain": [
          0,
          1
         ],
         "matches": "y",
         "showticklabels": false
        },
        "yaxis3": {
         "anchor": "x3",
         "domain": [
          0,
          1
         ],
         "matches": "y",
         "showticklabels": false
        }
       }
      }
     },
     "metadata": {},
     "output_type": "display_data"
    }
   ],
   "source": [
    "#create figure\n",
    "fig1 = px.line(df,\n",
    "               x = \"year\",\n",
    "               y=\"Primary Energy|Coal\",\n",
    "               color = \"carbon_budget\",\n",
    "               line_dash=\"model\",\n",
    "               facet_col=\"scenario_narrative\",\n",
    "               hover_data = {'scenario':True, 'model':True})\n",
    "\n",
    "fig1"
   ]
  },
  {
   "cell_type": "code",
   "execution_count": 135,
   "metadata": {},
   "outputs": [
    {
     "data": {
      "text/html": [
       "<div>\n",
       "<style scoped>\n",
       "    .dataframe tbody tr th:only-of-type {\n",
       "        vertical-align: middle;\n",
       "    }\n",
       "\n",
       "    .dataframe tbody tr th {\n",
       "        vertical-align: top;\n",
       "    }\n",
       "\n",
       "    .dataframe thead th {\n",
       "        text-align: right;\n",
       "    }\n",
       "</style>\n",
       "<table border=\"1\" class=\"dataframe\">\n",
       "  <thead>\n",
       "    <tr style=\"text-align: right;\">\n",
       "      <th></th>\n",
       "      <th>model</th>\n",
       "      <th>scenario</th>\n",
       "      <th>carbon_budget</th>\n",
       "      <th>year</th>\n",
       "    </tr>\n",
       "  </thead>\n",
       "  <tbody>\n",
       "    <tr>\n",
       "      <th>0</th>\n",
       "      <td>AIM/CGE V2.2</td>\n",
       "      <td>T34_1000_feas_em</td>\n",
       "      <td>2C</td>\n",
       "      <td>2060</td>\n",
       "    </tr>\n",
       "    <tr>\n",
       "      <th>1</th>\n",
       "      <td>AIM/CGE V2.2</td>\n",
       "      <td>T34_1000_feas_pr</td>\n",
       "      <td>2C</td>\n",
       "      <td>2055</td>\n",
       "    </tr>\n",
       "    <tr>\n",
       "      <th>2</th>\n",
       "      <td>AIM/CGE V2.2</td>\n",
       "      <td>T34_1000_feas_ref</td>\n",
       "      <td>2C</td>\n",
       "      <td>2070</td>\n",
       "    </tr>\n",
       "    <tr>\n",
       "      <th>3</th>\n",
       "      <td>GEM-E3_V2023</td>\n",
       "      <td>T34_1000_feas_em</td>\n",
       "      <td>2C</td>\n",
       "      <td>2090</td>\n",
       "    </tr>\n",
       "    <tr>\n",
       "      <th>4</th>\n",
       "      <td>IMAGE 3.2</td>\n",
       "      <td>T34_1000_feas_em</td>\n",
       "      <td>2C</td>\n",
       "      <td>2070</td>\n",
       "    </tr>\n",
       "    <tr>\n",
       "      <th>5</th>\n",
       "      <td>IMAGE 3.2</td>\n",
       "      <td>T34_1000_feas_pr</td>\n",
       "      <td>2C</td>\n",
       "      <td>2070</td>\n",
       "    </tr>\n",
       "    <tr>\n",
       "      <th>6</th>\n",
       "      <td>IMAGE 3.2</td>\n",
       "      <td>T34_1000_feas_ref</td>\n",
       "      <td>2C</td>\n",
       "      <td>2070</td>\n",
       "    </tr>\n",
       "    <tr>\n",
       "      <th>7</th>\n",
       "      <td>MESSAGEix-GLOBIOM_1.1</td>\n",
       "      <td>T34_1000_feas_em</td>\n",
       "      <td>2C</td>\n",
       "      <td>2080</td>\n",
       "    </tr>\n",
       "    <tr>\n",
       "      <th>8</th>\n",
       "      <td>MESSAGEix-GLOBIOM_1.1</td>\n",
       "      <td>T34_1000_feas_pr</td>\n",
       "      <td>2C</td>\n",
       "      <td>2070</td>\n",
       "    </tr>\n",
       "    <tr>\n",
       "      <th>9</th>\n",
       "      <td>MESSAGEix-GLOBIOM_1.1</td>\n",
       "      <td>T34_1000_feas_ref</td>\n",
       "      <td>2C</td>\n",
       "      <td>2100</td>\n",
       "    </tr>\n",
       "    <tr>\n",
       "      <th>10</th>\n",
       "      <td>POLES ENGAGE</td>\n",
       "      <td>T34_1000_feas_em</td>\n",
       "      <td>2C</td>\n",
       "      <td>2080</td>\n",
       "    </tr>\n",
       "    <tr>\n",
       "      <th>11</th>\n",
       "      <td>POLES ENGAGE</td>\n",
       "      <td>T34_1000_feas_pr</td>\n",
       "      <td>2C</td>\n",
       "      <td>2080</td>\n",
       "    </tr>\n",
       "    <tr>\n",
       "      <th>12</th>\n",
       "      <td>REMIND 3.0</td>\n",
       "      <td>T34_550_feas_em</td>\n",
       "      <td>1.5C</td>\n",
       "      <td>2070</td>\n",
       "    </tr>\n",
       "    <tr>\n",
       "      <th>13</th>\n",
       "      <td>REMIND 3.0</td>\n",
       "      <td>T34_550_feas_ref</td>\n",
       "      <td>1.5C</td>\n",
       "      <td>2050</td>\n",
       "    </tr>\n",
       "    <tr>\n",
       "      <th>14</th>\n",
       "      <td>WITCH 5.0</td>\n",
       "      <td>T34_1000_feas_ref</td>\n",
       "      <td>2C</td>\n",
       "      <td>2100</td>\n",
       "    </tr>\n",
       "  </tbody>\n",
       "</table>\n",
       "</div>"
      ],
      "text/plain": [
       "                    model           scenario carbon_budget  year\n",
       "0            AIM/CGE V2.2   T34_1000_feas_em            2C  2060\n",
       "1            AIM/CGE V2.2   T34_1000_feas_pr            2C  2055\n",
       "2            AIM/CGE V2.2  T34_1000_feas_ref            2C  2070\n",
       "3            GEM-E3_V2023   T34_1000_feas_em            2C  2090\n",
       "4               IMAGE 3.2   T34_1000_feas_em            2C  2070\n",
       "5               IMAGE 3.2   T34_1000_feas_pr            2C  2070\n",
       "6               IMAGE 3.2  T34_1000_feas_ref            2C  2070\n",
       "7   MESSAGEix-GLOBIOM_1.1   T34_1000_feas_em            2C  2080\n",
       "8   MESSAGEix-GLOBIOM_1.1   T34_1000_feas_pr            2C  2070\n",
       "9   MESSAGEix-GLOBIOM_1.1  T34_1000_feas_ref            2C  2100\n",
       "10           POLES ENGAGE   T34_1000_feas_em            2C  2080\n",
       "11           POLES ENGAGE   T34_1000_feas_pr            2C  2080\n",
       "12             REMIND 3.0    T34_550_feas_em          1.5C  2070\n",
       "13             REMIND 3.0   T34_550_feas_ref          1.5C  2050\n",
       "14              WITCH 5.0  T34_1000_feas_ref            2C  2100"
      ]
     },
     "execution_count": 135,
     "metadata": {},
     "output_type": "execute_result"
    }
   ],
   "source": [
    "#calculate year that each scenario hit's net zero\n",
    "netzero_df = df[df[\"Emissions|CO2\"] <= 0].groupby([\"model\", \"scenario\", \"carbon_budget\"])['year'].min().reset_index()\n",
    "netzero_df\n",
    "#aggregated cost until 2100\n",
    "#df[\"year\"] = pd.to_numeric(df['year'])\n",
    "#df[df[\"year\"] <= 2100].groupby([\"model\", \"scenario\"]).agg({\"AR5 climate diagnostics|Temperature|Exceedance Probability|1.5 degC|MAGICC6\": ['sum']})"
   ]
  },
  {
   "cell_type": "code",
   "execution_count": 134,
   "metadata": {},
   "outputs": [],
   "source": [
    "fig2 = px.scatter(\n",
    "    data_frame=netzero_df,\n",
    "    x = \"year\",\n",
    "    y=\"carbon_budget\"\n",
    ")"
   ]
  },
  {
   "cell_type": "code",
   "execution_count": 22,
   "metadata": {},
   "outputs": [
    {
     "data": {
      "application/vnd.plotly.v1+json": {
       "config": {
        "plotlyServerURL": "https://plot.ly"
       },
       "data": [
        {
         "customdata": [
          [
           "T34_1000_feas_em"
          ],
          [
           "T34_1000_feas_em"
          ],
          [
           "T34_1000_feas_em"
          ],
          [
           "T34_1000_feas_em"
          ],
          [
           "T34_1000_feas_em"
          ],
          [
           "T34_1000_feas_em"
          ],
          [
           "T34_1000_feas_em"
          ],
          [
           "T34_1000_feas_em"
          ],
          [
           "T34_1000_feas_em"
          ],
          [
           "T34_1000_feas_em"
          ],
          [
           "T34_1000_feas_em"
          ],
          [
           "T34_1000_feas_em"
          ],
          [
           "T34_1000_feas_em"
          ],
          [
           "T34_1000_feas_em"
          ],
          [
           "T34_1000_feas_em"
          ]
         ],
         "hovertemplate": "carbon_budget=2C<br>scenario_narrative=EM<br>year=%{x}<br>Primary Energy|Coal=%{y}<br>scenario=%{customdata[0]}<extra></extra>",
         "legendgroup": "2C",
         "line": {
          "color": "#636efa",
          "dash": "solid"
         },
         "marker": {
          "symbol": "circle"
         },
         "mode": "lines",
         "name": "2C",
         "orientation": "v",
         "showlegend": true,
         "type": "scatter",
         "x": [
          2005,
          2010,
          2015,
          2020,
          2025,
          2030,
          2035,
          2040,
          2045,
          2050,
          2060,
          2070,
          2080,
          2090,
          2100
         ],
         "xaxis": "x",
         "y": [
          123.75810241699219,
          150.88873291015625,
          158.91896057128906,
          159.14190673828125,
          142.77069091796875,
          104.53740692138672,
          82.02386474609375,
          61.87291717529297,
          45.049129486083984,
          45.679351806640625,
          34.95408630371094,
          34.12444305419922,
          53.83064651489258,
          67.9867172241211,
          73.85893249511719
         ],
         "yaxis": "y"
        }
       ],
       "layout": {
        "annotations": [
         {
          "font": {},
          "showarrow": false,
          "text": "scenario_narrative=EM",
          "x": 0.5,
          "xanchor": "center",
          "xref": "paper",
          "y": 1,
          "yanchor": "bottom",
          "yref": "paper"
         }
        ],
        "legend": {
         "title": {
          "text": "carbon_budget"
         },
         "tracegroupgap": 0
        },
        "margin": {
         "t": 60
        },
        "template": {
         "data": {
          "bar": [
           {
            "error_x": {
             "color": "#2a3f5f"
            },
            "error_y": {
             "color": "#2a3f5f"
            },
            "marker": {
             "line": {
              "color": "#E5ECF6",
              "width": 0.5
             },
             "pattern": {
              "fillmode": "overlay",
              "size": 10,
              "solidity": 0.2
             }
            },
            "type": "bar"
           }
          ],
          "barpolar": [
           {
            "marker": {
             "line": {
              "color": "#E5ECF6",
              "width": 0.5
             },
             "pattern": {
              "fillmode": "overlay",
              "size": 10,
              "solidity": 0.2
             }
            },
            "type": "barpolar"
           }
          ],
          "carpet": [
           {
            "aaxis": {
             "endlinecolor": "#2a3f5f",
             "gridcolor": "white",
             "linecolor": "white",
             "minorgridcolor": "white",
             "startlinecolor": "#2a3f5f"
            },
            "baxis": {
             "endlinecolor": "#2a3f5f",
             "gridcolor": "white",
             "linecolor": "white",
             "minorgridcolor": "white",
             "startlinecolor": "#2a3f5f"
            },
            "type": "carpet"
           }
          ],
          "choropleth": [
           {
            "colorbar": {
             "outlinewidth": 0,
             "ticks": ""
            },
            "type": "choropleth"
           }
          ],
          "contour": [
           {
            "colorbar": {
             "outlinewidth": 0,
             "ticks": ""
            },
            "colorscale": [
             [
              0,
              "#0d0887"
             ],
             [
              0.1111111111111111,
              "#46039f"
             ],
             [
              0.2222222222222222,
              "#7201a8"
             ],
             [
              0.3333333333333333,
              "#9c179e"
             ],
             [
              0.4444444444444444,
              "#bd3786"
             ],
             [
              0.5555555555555556,
              "#d8576b"
             ],
             [
              0.6666666666666666,
              "#ed7953"
             ],
             [
              0.7777777777777778,
              "#fb9f3a"
             ],
             [
              0.8888888888888888,
              "#fdca26"
             ],
             [
              1,
              "#f0f921"
             ]
            ],
            "type": "contour"
           }
          ],
          "contourcarpet": [
           {
            "colorbar": {
             "outlinewidth": 0,
             "ticks": ""
            },
            "type": "contourcarpet"
           }
          ],
          "heatmap": [
           {
            "colorbar": {
             "outlinewidth": 0,
             "ticks": ""
            },
            "colorscale": [
             [
              0,
              "#0d0887"
             ],
             [
              0.1111111111111111,
              "#46039f"
             ],
             [
              0.2222222222222222,
              "#7201a8"
             ],
             [
              0.3333333333333333,
              "#9c179e"
             ],
             [
              0.4444444444444444,
              "#bd3786"
             ],
             [
              0.5555555555555556,
              "#d8576b"
             ],
             [
              0.6666666666666666,
              "#ed7953"
             ],
             [
              0.7777777777777778,
              "#fb9f3a"
             ],
             [
              0.8888888888888888,
              "#fdca26"
             ],
             [
              1,
              "#f0f921"
             ]
            ],
            "type": "heatmap"
           }
          ],
          "heatmapgl": [
           {
            "colorbar": {
             "outlinewidth": 0,
             "ticks": ""
            },
            "colorscale": [
             [
              0,
              "#0d0887"
             ],
             [
              0.1111111111111111,
              "#46039f"
             ],
             [
              0.2222222222222222,
              "#7201a8"
             ],
             [
              0.3333333333333333,
              "#9c179e"
             ],
             [
              0.4444444444444444,
              "#bd3786"
             ],
             [
              0.5555555555555556,
              "#d8576b"
             ],
             [
              0.6666666666666666,
              "#ed7953"
             ],
             [
              0.7777777777777778,
              "#fb9f3a"
             ],
             [
              0.8888888888888888,
              "#fdca26"
             ],
             [
              1,
              "#f0f921"
             ]
            ],
            "type": "heatmapgl"
           }
          ],
          "histogram": [
           {
            "marker": {
             "pattern": {
              "fillmode": "overlay",
              "size": 10,
              "solidity": 0.2
             }
            },
            "type": "histogram"
           }
          ],
          "histogram2d": [
           {
            "colorbar": {
             "outlinewidth": 0,
             "ticks": ""
            },
            "colorscale": [
             [
              0,
              "#0d0887"
             ],
             [
              0.1111111111111111,
              "#46039f"
             ],
             [
              0.2222222222222222,
              "#7201a8"
             ],
             [
              0.3333333333333333,
              "#9c179e"
             ],
             [
              0.4444444444444444,
              "#bd3786"
             ],
             [
              0.5555555555555556,
              "#d8576b"
             ],
             [
              0.6666666666666666,
              "#ed7953"
             ],
             [
              0.7777777777777778,
              "#fb9f3a"
             ],
             [
              0.8888888888888888,
              "#fdca26"
             ],
             [
              1,
              "#f0f921"
             ]
            ],
            "type": "histogram2d"
           }
          ],
          "histogram2dcontour": [
           {
            "colorbar": {
             "outlinewidth": 0,
             "ticks": ""
            },
            "colorscale": [
             [
              0,
              "#0d0887"
             ],
             [
              0.1111111111111111,
              "#46039f"
             ],
             [
              0.2222222222222222,
              "#7201a8"
             ],
             [
              0.3333333333333333,
              "#9c179e"
             ],
             [
              0.4444444444444444,
              "#bd3786"
             ],
             [
              0.5555555555555556,
              "#d8576b"
             ],
             [
              0.6666666666666666,
              "#ed7953"
             ],
             [
              0.7777777777777778,
              "#fb9f3a"
             ],
             [
              0.8888888888888888,
              "#fdca26"
             ],
             [
              1,
              "#f0f921"
             ]
            ],
            "type": "histogram2dcontour"
           }
          ],
          "mesh3d": [
           {
            "colorbar": {
             "outlinewidth": 0,
             "ticks": ""
            },
            "type": "mesh3d"
           }
          ],
          "parcoords": [
           {
            "line": {
             "colorbar": {
              "outlinewidth": 0,
              "ticks": ""
             }
            },
            "type": "parcoords"
           }
          ],
          "pie": [
           {
            "automargin": true,
            "type": "pie"
           }
          ],
          "scatter": [
           {
            "fillpattern": {
             "fillmode": "overlay",
             "size": 10,
             "solidity": 0.2
            },
            "type": "scatter"
           }
          ],
          "scatter3d": [
           {
            "line": {
             "colorbar": {
              "outlinewidth": 0,
              "ticks": ""
             }
            },
            "marker": {
             "colorbar": {
              "outlinewidth": 0,
              "ticks": ""
             }
            },
            "type": "scatter3d"
           }
          ],
          "scattercarpet": [
           {
            "marker": {
             "colorbar": {
              "outlinewidth": 0,
              "ticks": ""
             }
            },
            "type": "scattercarpet"
           }
          ],
          "scattergeo": [
           {
            "marker": {
             "colorbar": {
              "outlinewidth": 0,
              "ticks": ""
             }
            },
            "type": "scattergeo"
           }
          ],
          "scattergl": [
           {
            "marker": {
             "colorbar": {
              "outlinewidth": 0,
              "ticks": ""
             }
            },
            "type": "scattergl"
           }
          ],
          "scattermapbox": [
           {
            "marker": {
             "colorbar": {
              "outlinewidth": 0,
              "ticks": ""
             }
            },
            "type": "scattermapbox"
           }
          ],
          "scatterpolar": [
           {
            "marker": {
             "colorbar": {
              "outlinewidth": 0,
              "ticks": ""
             }
            },
            "type": "scatterpolar"
           }
          ],
          "scatterpolargl": [
           {
            "marker": {
             "colorbar": {
              "outlinewidth": 0,
              "ticks": ""
             }
            },
            "type": "scatterpolargl"
           }
          ],
          "scatterternary": [
           {
            "marker": {
             "colorbar": {
              "outlinewidth": 0,
              "ticks": ""
             }
            },
            "type": "scatterternary"
           }
          ],
          "surface": [
           {
            "colorbar": {
             "outlinewidth": 0,
             "ticks": ""
            },
            "colorscale": [
             [
              0,
              "#0d0887"
             ],
             [
              0.1111111111111111,
              "#46039f"
             ],
             [
              0.2222222222222222,
              "#7201a8"
             ],
             [
              0.3333333333333333,
              "#9c179e"
             ],
             [
              0.4444444444444444,
              "#bd3786"
             ],
             [
              0.5555555555555556,
              "#d8576b"
             ],
             [
              0.6666666666666666,
              "#ed7953"
             ],
             [
              0.7777777777777778,
              "#fb9f3a"
             ],
             [
              0.8888888888888888,
              "#fdca26"
             ],
             [
              1,
              "#f0f921"
             ]
            ],
            "type": "surface"
           }
          ],
          "table": [
           {
            "cells": {
             "fill": {
              "color": "#EBF0F8"
             },
             "line": {
              "color": "white"
             }
            },
            "header": {
             "fill": {
              "color": "#C8D4E3"
             },
             "line": {
              "color": "white"
             }
            },
            "type": "table"
           }
          ]
         },
         "layout": {
          "annotationdefaults": {
           "arrowcolor": "#2a3f5f",
           "arrowhead": 0,
           "arrowwidth": 1
          },
          "autotypenumbers": "strict",
          "coloraxis": {
           "colorbar": {
            "outlinewidth": 0,
            "ticks": ""
           }
          },
          "colorscale": {
           "diverging": [
            [
             0,
             "#8e0152"
            ],
            [
             0.1,
             "#c51b7d"
            ],
            [
             0.2,
             "#de77ae"
            ],
            [
             0.3,
             "#f1b6da"
            ],
            [
             0.4,
             "#fde0ef"
            ],
            [
             0.5,
             "#f7f7f7"
            ],
            [
             0.6,
             "#e6f5d0"
            ],
            [
             0.7,
             "#b8e186"
            ],
            [
             0.8,
             "#7fbc41"
            ],
            [
             0.9,
             "#4d9221"
            ],
            [
             1,
             "#276419"
            ]
           ],
           "sequential": [
            [
             0,
             "#0d0887"
            ],
            [
             0.1111111111111111,
             "#46039f"
            ],
            [
             0.2222222222222222,
             "#7201a8"
            ],
            [
             0.3333333333333333,
             "#9c179e"
            ],
            [
             0.4444444444444444,
             "#bd3786"
            ],
            [
             0.5555555555555556,
             "#d8576b"
            ],
            [
             0.6666666666666666,
             "#ed7953"
            ],
            [
             0.7777777777777778,
             "#fb9f3a"
            ],
            [
             0.8888888888888888,
             "#fdca26"
            ],
            [
             1,
             "#f0f921"
            ]
           ],
           "sequentialminus": [
            [
             0,
             "#0d0887"
            ],
            [
             0.1111111111111111,
             "#46039f"
            ],
            [
             0.2222222222222222,
             "#7201a8"
            ],
            [
             0.3333333333333333,
             "#9c179e"
            ],
            [
             0.4444444444444444,
             "#bd3786"
            ],
            [
             0.5555555555555556,
             "#d8576b"
            ],
            [
             0.6666666666666666,
             "#ed7953"
            ],
            [
             0.7777777777777778,
             "#fb9f3a"
            ],
            [
             0.8888888888888888,
             "#fdca26"
            ],
            [
             1,
             "#f0f921"
            ]
           ]
          },
          "colorway": [
           "#636efa",
           "#EF553B",
           "#00cc96",
           "#ab63fa",
           "#FFA15A",
           "#19d3f3",
           "#FF6692",
           "#B6E880",
           "#FF97FF",
           "#FECB52"
          ],
          "font": {
           "color": "#2a3f5f"
          },
          "geo": {
           "bgcolor": "white",
           "lakecolor": "white",
           "landcolor": "#E5ECF6",
           "showlakes": true,
           "showland": true,
           "subunitcolor": "white"
          },
          "hoverlabel": {
           "align": "left"
          },
          "hovermode": "closest",
          "mapbox": {
           "style": "light"
          },
          "paper_bgcolor": "white",
          "plot_bgcolor": "#E5ECF6",
          "polar": {
           "angularaxis": {
            "gridcolor": "white",
            "linecolor": "white",
            "ticks": ""
           },
           "bgcolor": "#E5ECF6",
           "radialaxis": {
            "gridcolor": "white",
            "linecolor": "white",
            "ticks": ""
           }
          },
          "scene": {
           "xaxis": {
            "backgroundcolor": "#E5ECF6",
            "gridcolor": "white",
            "gridwidth": 2,
            "linecolor": "white",
            "showbackground": true,
            "ticks": "",
            "zerolinecolor": "white"
           },
           "yaxis": {
            "backgroundcolor": "#E5ECF6",
            "gridcolor": "white",
            "gridwidth": 2,
            "linecolor": "white",
            "showbackground": true,
            "ticks": "",
            "zerolinecolor": "white"
           },
           "zaxis": {
            "backgroundcolor": "#E5ECF6",
            "gridcolor": "white",
            "gridwidth": 2,
            "linecolor": "white",
            "showbackground": true,
            "ticks": "",
            "zerolinecolor": "white"
           }
          },
          "shapedefaults": {
           "line": {
            "color": "#2a3f5f"
           }
          },
          "ternary": {
           "aaxis": {
            "gridcolor": "white",
            "linecolor": "white",
            "ticks": ""
           },
           "baxis": {
            "gridcolor": "white",
            "linecolor": "white",
            "ticks": ""
           },
           "bgcolor": "#E5ECF6",
           "caxis": {
            "gridcolor": "white",
            "linecolor": "white",
            "ticks": ""
           }
          },
          "title": {
           "x": 0.05
          },
          "xaxis": {
           "automargin": true,
           "gridcolor": "white",
           "linecolor": "white",
           "ticks": "",
           "title": {
            "standoff": 15
           },
           "zerolinecolor": "white",
           "zerolinewidth": 2
          },
          "yaxis": {
           "automargin": true,
           "gridcolor": "white",
           "linecolor": "white",
           "ticks": "",
           "title": {
            "standoff": 15
           },
           "zerolinecolor": "white",
           "zerolinewidth": 2
          }
         }
        },
        "xaxis": {
         "anchor": "y",
         "domain": [
          0,
          1
         ],
         "title": {
          "text": "year"
         }
        },
        "yaxis": {
         "anchor": "x",
         "domain": [
          0,
          1
         ],
         "title": {
          "text": "Primary Energy|Coal"
         }
        }
       }
      }
     },
     "metadata": {},
     "output_type": "display_data"
    }
   ],
   "source": [
    "\n",
    "px.line(df.loc[(df['scenario'] == 'T34_1000_feas_em') & (df['model'] == \"POLES ENGAGE\")],\n",
    "        x = \"year\",\n",
    "        y=\"Primary Energy|Coal\",\n",
    "        color = \"carbon_budget\",\n",
    "        facet_col=\"scenario_narrative\",\n",
    "        hover_data = {'scenario':True})"
   ]
  },
  {
   "cell_type": "code",
   "execution_count": 26,
   "metadata": {},
   "outputs": [
    {
     "data": {
      "text/html": [
       "<div>\n",
       "<style scoped>\n",
       "    .dataframe tbody tr th:only-of-type {\n",
       "        vertical-align: middle;\n",
       "    }\n",
       "\n",
       "    .dataframe tbody tr th {\n",
       "        vertical-align: top;\n",
       "    }\n",
       "\n",
       "    .dataframe thead th {\n",
       "        text-align: right;\n",
       "    }\n",
       "</style>\n",
       "<table border=\"1\" class=\"dataframe\">\n",
       "  <thead>\n",
       "    <tr style=\"text-align: right;\">\n",
       "      <th>variable</th>\n",
       "      <th>model</th>\n",
       "      <th>scenario</th>\n",
       "      <th>region</th>\n",
       "      <th>year</th>\n",
       "      <th>Emissions|CO2</th>\n",
       "      <th>Policy Cost|Consumption Loss</th>\n",
       "      <th>Primary Energy|Coal</th>\n",
       "      <th>carbon_budget</th>\n",
       "      <th>scenario_narrative</th>\n",
       "    </tr>\n",
       "  </thead>\n",
       "  <tbody>\n",
       "    <tr>\n",
       "      <th>258</th>\n",
       "      <td>REMIND 3.0</td>\n",
       "      <td>T34_1000_feas_em</td>\n",
       "      <td>World</td>\n",
       "      <td>2005</td>\n",
       "      <td>36076.658422</td>\n",
       "      <td>0.000000</td>\n",
       "      <td>141.519484</td>\n",
       "      <td>2C</td>\n",
       "      <td>EM</td>\n",
       "    </tr>\n",
       "    <tr>\n",
       "      <th>259</th>\n",
       "      <td>REMIND 3.0</td>\n",
       "      <td>T34_1000_feas_em</td>\n",
       "      <td>World</td>\n",
       "      <td>2010</td>\n",
       "      <td>39344.568089</td>\n",
       "      <td>0.000000</td>\n",
       "      <td>157.164604</td>\n",
       "      <td>2C</td>\n",
       "      <td>EM</td>\n",
       "    </tr>\n",
       "    <tr>\n",
       "      <th>260</th>\n",
       "      <td>REMIND 3.0</td>\n",
       "      <td>T34_1000_feas_em</td>\n",
       "      <td>World</td>\n",
       "      <td>2015</td>\n",
       "      <td>42044.900833</td>\n",
       "      <td>0.000000</td>\n",
       "      <td>167.482203</td>\n",
       "      <td>2C</td>\n",
       "      <td>EM</td>\n",
       "    </tr>\n",
       "    <tr>\n",
       "      <th>261</th>\n",
       "      <td>REMIND 3.0</td>\n",
       "      <td>T34_1000_feas_em</td>\n",
       "      <td>World</td>\n",
       "      <td>2020</td>\n",
       "      <td>43169.892441</td>\n",
       "      <td>0.000000</td>\n",
       "      <td>165.331930</td>\n",
       "      <td>2C</td>\n",
       "      <td>EM</td>\n",
       "    </tr>\n",
       "    <tr>\n",
       "      <th>262</th>\n",
       "      <td>REMIND 3.0</td>\n",
       "      <td>T34_1000_feas_em</td>\n",
       "      <td>World</td>\n",
       "      <td>2025</td>\n",
       "      <td>39424.985445</td>\n",
       "      <td>1290.026481</td>\n",
       "      <td>144.765797</td>\n",
       "      <td>2C</td>\n",
       "      <td>EM</td>\n",
       "    </tr>\n",
       "    <tr>\n",
       "      <th>263</th>\n",
       "      <td>REMIND 3.0</td>\n",
       "      <td>T34_1000_feas_em</td>\n",
       "      <td>World</td>\n",
       "      <td>2030</td>\n",
       "      <td>30030.384835</td>\n",
       "      <td>2805.458360</td>\n",
       "      <td>90.005479</td>\n",
       "      <td>2C</td>\n",
       "      <td>EM</td>\n",
       "    </tr>\n",
       "    <tr>\n",
       "      <th>264</th>\n",
       "      <td>REMIND 3.0</td>\n",
       "      <td>T34_1000_feas_em</td>\n",
       "      <td>World</td>\n",
       "      <td>2035</td>\n",
       "      <td>23516.017394</td>\n",
       "      <td>3469.401994</td>\n",
       "      <td>59.804043</td>\n",
       "      <td>2C</td>\n",
       "      <td>EM</td>\n",
       "    </tr>\n",
       "    <tr>\n",
       "      <th>265</th>\n",
       "      <td>REMIND 3.0</td>\n",
       "      <td>T34_1000_feas_em</td>\n",
       "      <td>World</td>\n",
       "      <td>2040</td>\n",
       "      <td>17357.489268</td>\n",
       "      <td>4201.939569</td>\n",
       "      <td>30.724913</td>\n",
       "      <td>2C</td>\n",
       "      <td>EM</td>\n",
       "    </tr>\n",
       "    <tr>\n",
       "      <th>266</th>\n",
       "      <td>REMIND 3.0</td>\n",
       "      <td>T34_1000_feas_em</td>\n",
       "      <td>World</td>\n",
       "      <td>2045</td>\n",
       "      <td>13002.879928</td>\n",
       "      <td>5316.244260</td>\n",
       "      <td>17.145052</td>\n",
       "      <td>2C</td>\n",
       "      <td>EM</td>\n",
       "    </tr>\n",
       "    <tr>\n",
       "      <th>267</th>\n",
       "      <td>REMIND 3.0</td>\n",
       "      <td>T34_1000_feas_em</td>\n",
       "      <td>World</td>\n",
       "      <td>2050</td>\n",
       "      <td>10165.260117</td>\n",
       "      <td>7195.300250</td>\n",
       "      <td>11.023366</td>\n",
       "      <td>2C</td>\n",
       "      <td>EM</td>\n",
       "    </tr>\n",
       "    <tr>\n",
       "      <th>268</th>\n",
       "      <td>REMIND 3.0</td>\n",
       "      <td>T34_1000_feas_em</td>\n",
       "      <td>World</td>\n",
       "      <td>2055</td>\n",
       "      <td>8013.405469</td>\n",
       "      <td>7313.645726</td>\n",
       "      <td>7.159511</td>\n",
       "      <td>2C</td>\n",
       "      <td>EM</td>\n",
       "    </tr>\n",
       "    <tr>\n",
       "      <th>269</th>\n",
       "      <td>REMIND 3.0</td>\n",
       "      <td>T34_1000_feas_em</td>\n",
       "      <td>World</td>\n",
       "      <td>2060</td>\n",
       "      <td>6094.384889</td>\n",
       "      <td>7987.548007</td>\n",
       "      <td>6.121554</td>\n",
       "      <td>2C</td>\n",
       "      <td>EM</td>\n",
       "    </tr>\n",
       "    <tr>\n",
       "      <th>270</th>\n",
       "      <td>REMIND 3.0</td>\n",
       "      <td>T34_1000_feas_em</td>\n",
       "      <td>World</td>\n",
       "      <td>2070</td>\n",
       "      <td>3559.443364</td>\n",
       "      <td>8443.242526</td>\n",
       "      <td>5.671056</td>\n",
       "      <td>2C</td>\n",
       "      <td>EM</td>\n",
       "    </tr>\n",
       "    <tr>\n",
       "      <th>271</th>\n",
       "      <td>REMIND 3.0</td>\n",
       "      <td>T34_1000_feas_em</td>\n",
       "      <td>World</td>\n",
       "      <td>2080</td>\n",
       "      <td>2145.989562</td>\n",
       "      <td>9000.329466</td>\n",
       "      <td>5.552478</td>\n",
       "      <td>2C</td>\n",
       "      <td>EM</td>\n",
       "    </tr>\n",
       "    <tr>\n",
       "      <th>272</th>\n",
       "      <td>REMIND 3.0</td>\n",
       "      <td>T34_1000_feas_em</td>\n",
       "      <td>World</td>\n",
       "      <td>2090</td>\n",
       "      <td>455.116569</td>\n",
       "      <td>8527.715285</td>\n",
       "      <td>4.366976</td>\n",
       "      <td>2C</td>\n",
       "      <td>EM</td>\n",
       "    </tr>\n",
       "    <tr>\n",
       "      <th>273</th>\n",
       "      <td>REMIND 3.0</td>\n",
       "      <td>T34_1000_feas_em</td>\n",
       "      <td>World</td>\n",
       "      <td>2100</td>\n",
       "      <td>333.136404</td>\n",
       "      <td>8285.519045</td>\n",
       "      <td>4.621110</td>\n",
       "      <td>2C</td>\n",
       "      <td>EM</td>\n",
       "    </tr>\n",
       "  </tbody>\n",
       "</table>\n",
       "</div>"
      ],
      "text/plain": [
       "variable       model          scenario region  year  Emissions|CO2   \n",
       "258       REMIND 3.0  T34_1000_feas_em  World  2005   36076.658422  \\\n",
       "259       REMIND 3.0  T34_1000_feas_em  World  2010   39344.568089   \n",
       "260       REMIND 3.0  T34_1000_feas_em  World  2015   42044.900833   \n",
       "261       REMIND 3.0  T34_1000_feas_em  World  2020   43169.892441   \n",
       "262       REMIND 3.0  T34_1000_feas_em  World  2025   39424.985445   \n",
       "263       REMIND 3.0  T34_1000_feas_em  World  2030   30030.384835   \n",
       "264       REMIND 3.0  T34_1000_feas_em  World  2035   23516.017394   \n",
       "265       REMIND 3.0  T34_1000_feas_em  World  2040   17357.489268   \n",
       "266       REMIND 3.0  T34_1000_feas_em  World  2045   13002.879928   \n",
       "267       REMIND 3.0  T34_1000_feas_em  World  2050   10165.260117   \n",
       "268       REMIND 3.0  T34_1000_feas_em  World  2055    8013.405469   \n",
       "269       REMIND 3.0  T34_1000_feas_em  World  2060    6094.384889   \n",
       "270       REMIND 3.0  T34_1000_feas_em  World  2070    3559.443364   \n",
       "271       REMIND 3.0  T34_1000_feas_em  World  2080    2145.989562   \n",
       "272       REMIND 3.0  T34_1000_feas_em  World  2090     455.116569   \n",
       "273       REMIND 3.0  T34_1000_feas_em  World  2100     333.136404   \n",
       "\n",
       "variable  Policy Cost|Consumption Loss  Primary Energy|Coal carbon_budget   \n",
       "258                           0.000000           141.519484            2C  \\\n",
       "259                           0.000000           157.164604            2C   \n",
       "260                           0.000000           167.482203            2C   \n",
       "261                           0.000000           165.331930            2C   \n",
       "262                        1290.026481           144.765797            2C   \n",
       "263                        2805.458360            90.005479            2C   \n",
       "264                        3469.401994            59.804043            2C   \n",
       "265                        4201.939569            30.724913            2C   \n",
       "266                        5316.244260            17.145052            2C   \n",
       "267                        7195.300250            11.023366            2C   \n",
       "268                        7313.645726             7.159511            2C   \n",
       "269                        7987.548007             6.121554            2C   \n",
       "270                        8443.242526             5.671056            2C   \n",
       "271                        9000.329466             5.552478            2C   \n",
       "272                        8527.715285             4.366976            2C   \n",
       "273                        8285.519045             4.621110            2C   \n",
       "\n",
       "variable scenario_narrative  \n",
       "258                      EM  \n",
       "259                      EM  \n",
       "260                      EM  \n",
       "261                      EM  \n",
       "262                      EM  \n",
       "263                      EM  \n",
       "264                      EM  \n",
       "265                      EM  \n",
       "266                      EM  \n",
       "267                      EM  \n",
       "268                      EM  \n",
       "269                      EM  \n",
       "270                      EM  \n",
       "271                      EM  \n",
       "272                      EM  \n",
       "273                      EM  "
      ]
     },
     "execution_count": 26,
     "metadata": {},
     "output_type": "execute_result"
    }
   ],
   "source": [
    "df.loc[(df['scenario'] == 'T34_1000_feas_em') & (df['model'] == \"REMIND 3.0\")]"
   ]
  }
 ],
 "metadata": {
  "kernelspec": {
   "display_name": "Streamlit",
   "language": "python",
   "name": "python3"
  },
  "language_info": {
   "codemirror_mode": {
    "name": "ipython",
    "version": 3
   },
   "file_extension": ".py",
   "mimetype": "text/x-python",
   "name": "python",
   "nbconvert_exporter": "python",
   "pygments_lexer": "ipython3",
   "version": "3.10.11"
  },
  "orig_nbformat": 4
 },
 "nbformat": 4,
 "nbformat_minor": 2
}
